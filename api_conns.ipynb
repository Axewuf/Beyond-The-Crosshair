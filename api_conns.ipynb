{
 "cells": [
  {
   "cell_type": "code",
   "execution_count": 16,
   "metadata": {},
   "outputs": [],
   "source": [
    "import requests\n",
    "import os\n",
    "import time\n",
    "import pandas as pd\n",
    "from datetime import datetime\n",
    "\n",
    "access_code ={\n",
    "    \"access_token\": \"kyjymututmshrl6e6yj3tcqyokuogf\",\n",
    "    \"expires_in\": 4830188,\n",
    "    \"token_type\": \"bearer\"\n",
    "}\n",
    "\n",
    "class APIinfo:\n",
    "    def __init__(self, baseURL = str, token = str):\n",
    "        self.authHeader = {\"Client-ID\": \"njp50qwu2nvpsx219fyqo3bzv63oin\",\"Authorization\": \"Bearer \"+token}\n",
    "        self.baseURL = baseURL\n",
    "\n",
    "cs_data = pd.read_csv(\"assets/SteamDB Counter-Strike.csv\")\n",
    "cs2_data = pd.read_csv(\"assets/SteamDB Counter-Strike 2.csv\")\n",
    "css_data = pd.read_csv(\"assets/SteamDB Counter-Strike Source.csv\")\n",
    "cscz_data = pd.read_csv(\"assets/SteamDB Counter-Strike Condition Zero.csv\")"
   ]
  },
  {
   "cell_type": "code",
   "execution_count": 50,
   "metadata": {},
   "outputs": [
    {
     "name": "stdout",
     "output_type": "stream",
     "text": [
      "{'id': 12, 'created_at': 1297639288, 'name': 'Role-playing (RPG)', 'slug': 'role-playing-rpg', 'updated_at': 1323289215, 'url': 'https://www.igdb.com/genres/role-playing-rpg', 'checksum': '5a7bd431-149a-3083-532d-2176f4daca24'}\n"
     ]
    }
   ],
   "source": [
    "IGDB_api = APIinfo(\"https://api.igdb.com/v4/\", \"kyjymututmshrl6e6yj3tcqyokuogf\")\n",
    "endpoint = \"genres\"\n",
    "\n",
    "# params = \"fields age_ratings,aggregated_rating,aggregated_rating_count,alternative_names,artworks,bundles,category,checksum,collection,collections,cover,created_at,dlcs,expanded_games,expansions,external_games,first_release_date,follows,forks,franchise,franchises,game_engines,game_localizations,game_modes,game_status,game_type,genres,hypes,involved_companies,keywords,language_supports,multiplayer_modes,name,parent_game,platforms,player_perspectives,ports,rating,rating_count,release_dates,remakes,remasters,screenshots,similar_games,slug,standalone_expansions,status,storyline,summary,tags,themes,total_rating,total_rating_count,updated_at,url,version_parent,version_title,videos,websites;\"\n",
    "params = \"fields checksum,created_at,name,slug,updated_at,url;\"\n",
    "\n",
    "requestURL = IGDB_api.baseURL + endpoint\n",
    "igdb_data = requests.post(requestURL, headers = IGDB_api.authHeader, data=params)\n",
    "igdb_data = igdb_data.json()\n"
   ]
  },
  {
   "cell_type": "code",
   "execution_count": null,
   "metadata": {},
   "outputs": [],
   "source": []
  }
 ],
 "metadata": {
  "kernelspec": {
   "display_name": "py3",
   "language": "python",
   "name": "python3"
  },
  "language_info": {
   "codemirror_mode": {
    "name": "ipython",
    "version": 3
   },
   "file_extension": ".py",
   "mimetype": "text/x-python",
   "name": "python",
   "nbconvert_exporter": "python",
   "pygments_lexer": "ipython3",
   "version": "3.12.3"
  }
 },
 "nbformat": 4,
 "nbformat_minor": 2
}
