{
 "cells": [
  {
   "cell_type": "code",
   "execution_count": null,
   "metadata": {},
   "outputs": [],
   "source": [
    "{\n",
    "    \"access_token\": \"kyjymututmshrl6e6yj3tcqyokuogf\",\n",
    "    \"expires_in\": 4830188,\n",
    "    \"token_type\": \"bearer\"\n",
    "}"
   ]
  }
 ],
 "metadata": {
  "language_info": {
   "name": "python"
  }
 },
 "nbformat": 4,
 "nbformat_minor": 2
}
