{
 "cells": [
  {
   "cell_type": "code",
   "execution_count": null,
   "metadata": {},
   "outputs": [],
   "source": [
    "import pandas as pd"
   ]
  },
  {
   "cell_type": "code",
   "execution_count": null,
   "metadata": {},
   "outputs": [],
   "source": [
    "cs16_data = pd.read_csv(\"../assets/clean/SteamDB_Counter-Strike_1.6_Clean.csv\", parse_dates=[\"month\"])\n",
    "css_data = pd.read_csv(\"../assets/clean/SteamDB_Counter-Strike_Source_Clean.csv\", parse_dates=[\"month\"])\n",
    "cscz_data = pd.read_csv(\"../assets/clean/SteamDB_Counter-Strike_Condition_Zero_Clean.csv\", parse_dates=[\"month\"])\n",
    "csgo_data = pd.read_csv(\"../assets/clean/SteamDB_Counter-Strike_Global_Offensive_Clean.csv\", parse_dates=[\"month\"])\n",
    "cs2_data = pd.read_csv(\"../assets/clean/SteamDB_Counter-Strike_2_Clean.csv\", parse_dates=[\"month\"])\n",
    "cs_merged_data = pd.read_csv(\"../assets/clean/SteamDB_Counter-Strike_Clean.csv\", parse_dates=[\"month\"])\n",
    "\n",
    "v_data = pd.read_csv(\"../assets/clean/GG_Valorant_Clean.csv\", parse_dates=[\"month\"])\n",
    "fn_data = pd.read_csv(\"../assets/clean/GG_Fortnite_Clean.csv\", parse_dates=[\"month\"])\n",
    "rss_data = pd.read_csv(\"../assets/clean/GG_Rainbow_Six_Siege_Clean.csv\", parse_dates=[\"month\"])\n",
    "cod_data = pd.read_csv(\"../assets/clean/SteamDB_Call_of_Duty_Clean.csv\", parse_dates=[\"month\"])\n",
    "bf_data = pd.read_csv(\"../assets/clean/SteamDB_Battlefield_Clean.csv\", parse_dates=[\"month\"])\n",
    "\n",
    "igdb_data = pd.read_csv(\"../assets/clean/IGDB_Clean.csv\")\n",
    "twitch_cs_data = pd.read_csv(\"../assets/clean/Twitch_Counter-Strike_Clean.csv\", parse_dates=[\"month\"])\n",
    "youtube_cs_data = pd.read_csv(\"../assets/clean/Youtube_Counter-Strike_Clean.csv\", parse_dates=[\"month\"])"
   ]
  },
  {
   "cell_type": "code",
   "execution_count": null,
   "metadata": {},
   "outputs": [],
   "source": [
    "merged_youtube_twitch = pd.concat([youtube_cs_data.set_index(\"month\"), twitch_cs_data.set_index(\"month\")], axis=1).reset_index()\n",
    "merged_youtube_twitch = merged_youtube_twitch[merged_youtube_twitch['month'] >= pd.to_datetime(\"2016-11-01\")]\n",
    "\n",
    "merged_cs_youtube = pd.merge(cs_merged_data[['month','peak']], youtube_cs_data[['month','viewCount']], on=\"month\", how=\"inner\")\n",
    "merged_cs_youtube = merged_cs_youtube.sort_values(by=\"viewCount\", ascending=False)\n",
    "\n",
    "merged_cs_twitch = pd.merge(cs_merged_data[['month','peak']], twitch_cs_data[['month','peak viewers']], on=\"month\", how=\"inner\")\n",
    "merged_cs_twitch = merged_cs_twitch.sort_values(by=\"peak viewers\", ascending=False)"
   ]
  }
 ],
 "metadata": {
  "kernelspec": {
   "display_name": "py3",
   "language": "python",
   "name": "python3"
  },
  "language_info": {
   "codemirror_mode": {
    "name": "ipython",
    "version": 3
   },
   "file_extension": ".py",
   "mimetype": "text/x-python",
   "name": "python",
   "nbconvert_exporter": "python",
   "pygments_lexer": "ipython3",
   "version": "3.12.3"
  }
 },
 "nbformat": 4,
 "nbformat_minor": 2
}
