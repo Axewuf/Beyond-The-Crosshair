{
 "cells": [
  {
   "cell_type": "code",
   "execution_count": 20,
   "id": "4a8c56f6",
   "metadata": {},
   "outputs": [],
   "source": [
    "import pandas as pd"
   ]
  },
  {
   "cell_type": "markdown",
   "id": "f392f6eb",
   "metadata": {},
   "source": [
    "## Datasets & Cleaning"
   ]
  },
  {
   "cell_type": "markdown",
   "id": "180cccb3",
   "metadata": {},
   "source": [
    "### Battlefield"
   ]
  },
  {
   "cell_type": "code",
   "execution_count": 21,
   "id": "a3bdbce8",
   "metadata": {},
   "outputs": [],
   "source": [
    "# Loading raw datasets\n",
    "bf4_data = pd.read_csv(\"../assets/raw/SteamDB Battlefield 4.csv\")\n",
    "bfh_data = pd.read_csv(\"../assets/raw/SteamDB Battlefield Hardline.csv\")\n",
    "bf1_data = pd.read_csv(\"../assets/raw/SteamDB Battlefield 1.csv\")\n",
    "bfv_data = pd.read_csv(\"../assets/raw/SteamDB Battlefield V.csv\")\n",
    "bf2042_data = pd.read_csv(\"../assets/raw/SteamDB Battlefield 2042.csv\")"
   ]
  },
  {
   "cell_type": "code",
   "execution_count": null,
   "id": "b84192f0",
   "metadata": {},
   "outputs": [],
   "source": [
    "fields_to_keep = ['month', 'peak', 'gain', '% gain'] # Fields we want to keep\n",
    "list_of_bf_data = [bf4_data, bfh_data, bf1_data, bfv_data, bf2042_data] w\n",
    "\n",
    "# Cleaning the datasets in list_of_bf_data\n",
    "for i in range(len(list_of_bf_data)):\n",
    "    df = list_of_bf_data[i]\n",
    "    df.columns = df.columns.str.lower()\n",
    "    df = df.replace(\"-\", \"0\")\n",
    "    df[['peak', 'gain', '% gain']] = df[['peak', 'gain', '% gain']].replace({\",\": \"\", \"%\": \"\"}, regex=True).astype(float)\n",
    "    df = df[fields_to_keep][1:] # Getting rid of first row of Last 30 days\n",
    "    df[\"month\"] = pd.to_datetime(df[\"month\"], format=\"%b-%y\")\n",
    "    df = df.sort_values(\"month\")\n",
    "    list_of_bf_data[i] = df"
   ]
  },
  {
   "cell_type": "code",
   "execution_count": 23,
   "id": "44d0720b",
   "metadata": {},
   "outputs": [],
   "source": [
    "# Merging the cleaned datasets\n",
    "bf_merged = pd.concat(list_of_bf_data, ignore_index=True)\n",
    "bf_merged = bf_merged[fields_to_keep]"
   ]
  },
  {
   "cell_type": "code",
   "execution_count": 24,
   "id": "d6482a53",
   "metadata": {},
   "outputs": [],
   "source": [
    "# Grouping by month and summing up the peak players and gain\n",
    "SteamDB_bf_merged_grouped = bf_merged.groupby(bf_merged.columns[0]).sum()\n",
    "\n",
    "SteamDB_bf_merged_grouped = SteamDB_bf_merged_grouped.reset_index()\n",
    "SteamDB_bf_merged_grouped = SteamDB_bf_merged_grouped.sort_values(\"month\")\n",
    "\n",
    "# Recalculate % gain\n",
    "SteamDB_bf_merged_grouped['% gain'] = ((SteamDB_bf_merged_grouped['peak']-SteamDB_bf_merged_grouped['peak'].shift(1))*100/SteamDB_bf_merged_grouped['peak'].shift(1)).round(1)\n",
    "SteamDB_bf_merged_grouped.iloc[0,3] = 0 # Setting the first % gain to 0"
   ]
  },
  {
   "cell_type": "code",
   "execution_count": 25,
   "id": "39b295f7",
   "metadata": {},
   "outputs": [],
   "source": [
    "# Exporting cleaned dataset\n",
    "SteamDB_bf_merged_grouped.to_csv(\"../assets/clean/SteamDB_Battlefield_Clean.csv\", encoding=\"utf-8\", index=False, header=True)"
   ]
  }
 ],
 "metadata": {
  "kernelspec": {
   "display_name": "py310 (3.10.16)",
   "language": "python",
   "name": "python3"
  },
  "language_info": {
   "codemirror_mode": {
    "name": "ipython",
    "version": 3
   },
   "file_extension": ".py",
   "mimetype": "text/x-python",
   "name": "python",
   "nbconvert_exporter": "python",
   "pygments_lexer": "ipython3",
   "version": "3.10.16"
  }
 },
 "nbformat": 4,
 "nbformat_minor": 5
}
