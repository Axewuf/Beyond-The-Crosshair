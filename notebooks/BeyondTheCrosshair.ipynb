{
 "cells": [
  {
   "cell_type": "markdown",
   "id": "aa97259c",
   "metadata": {},
   "source": [
    "# Beyond The Crosshair"
   ]
  },
  {
   "cell_type": "code",
   "execution_count": 1,
   "id": "4a8c56f6",
   "metadata": {},
   "outputs": [
    {
     "data": {
      "text/plain": [
       "ThemeRegistry.enable('fivethirtyeight')"
      ]
     },
     "execution_count": 1,
     "metadata": {},
     "output_type": "execute_result"
    }
   ],
   "source": [
    "import pandas as pd\n",
    "import numpy as np\n",
    "import altair as alt\n",
    "import matplotlib.pyplot as plt\n",
    "import json\n",
    "import ast\n",
    "\n",
    "alt.data_transformers.enable(\"default\", max_rows=None)\n",
    "alt.renderers.enable(\"mimetype\")\n",
    "alt.theme.enable(\"fivethirtyeight\")"
   ]
  },
  {
   "cell_type": "markdown",
   "id": "f392f6eb",
   "metadata": {},
   "source": [
    "## Datasets & Cleaning"
   ]
  },
  {
   "cell_type": "markdown",
   "id": "180cccb3",
   "metadata": {},
   "source": [
    "### Counter-Strike Playerbase Data from SteamDB"
   ]
  },
  {
   "cell_type": "code",
   "execution_count": 2,
   "id": "a3bdbce8",
   "metadata": {},
   "outputs": [],
   "source": [
    "cs_data = pd.read_csv(\"../assets/SteamDB Counter-Strike.csv\")\n",
    "cs2_data = pd.read_csv(\"../assets/SteamDB Counter-Strike 2.csv\")\n",
    "css_data = pd.read_csv(\"../assets/SteamDB Counter-Strike Source.csv\")\n",
    "cscz_data = pd.read_csv(\"../assets/SteamDB Counter-Strike Condition Zero.csv\")"
   ]
  },
  {
   "cell_type": "code",
   "execution_count": 3,
   "id": "1f76a48f",
   "metadata": {},
   "outputs": [
    {
     "data": {
      "text/html": [
       "<div>\n",
       "<style scoped>\n",
       "    .dataframe tbody tr th:only-of-type {\n",
       "        vertical-align: middle;\n",
       "    }\n",
       "\n",
       "    .dataframe tbody tr th {\n",
       "        vertical-align: top;\n",
       "    }\n",
       "\n",
       "    .dataframe thead th {\n",
       "        text-align: right;\n",
       "    }\n",
       "</style>\n",
       "<table border=\"1\" class=\"dataframe\">\n",
       "  <thead>\n",
       "    <tr style=\"text-align: right;\">\n",
       "      <th></th>\n",
       "      <th>month</th>\n",
       "      <th>peak</th>\n",
       "      <th>gain</th>\n",
       "      <th>%gain</th>\n",
       "      <th>average</th>\n",
       "      <th>average % gain</th>\n",
       "    </tr>\n",
       "  </thead>\n",
       "  <tbody>\n",
       "    <tr>\n",
       "      <th>241</th>\n",
       "      <td>Jan-04</td>\n",
       "      <td>23,241</td>\n",
       "      <td>-</td>\n",
       "      <td>-</td>\n",
       "      <td>-</td>\n",
       "      <td>-</td>\n",
       "    </tr>\n",
       "  </tbody>\n",
       "</table>\n",
       "</div>"
      ],
      "text/plain": [
       "      month    peak gain %gain average average % gain\n",
       "241  Jan-04  23,241    -     -       -              -"
      ]
     },
     "execution_count": 3,
     "metadata": {},
     "output_type": "execute_result"
    }
   ],
   "source": [
    "cs_data_with_dash = cs_data[cs_data[\"gain\"] == \"-\"]\n",
    "cs_data_with_dash"
   ]
  },
  {
   "cell_type": "code",
   "execution_count": 4,
   "id": "bbc1ea2b",
   "metadata": {},
   "outputs": [],
   "source": [
    "cs_data[['peak', 'gain', 'average']] = cs_data[['peak', 'gain', 'average']].replace({\",\": \"\", \"-\": \"0\"}, regex=True).astype(float)\n",
    "cs2_data[['peak', 'gain', 'average']] = cs2_data[['peak', 'gain', 'average']].replace({\",\": \"\", \"-\": \"0\"}, regex=True).astype(float)\n",
    "css_data[['peak', 'gain', 'average']] = css_data[['peak', 'gain', 'average']].replace({\",\": \"\", \"-\": \"0\"}, regex=True).astype(float)\n",
    "cscz_data[['peak', 'gain', 'average']] = cscz_data[['peak', 'gain', 'average']].replace({\",\": \"\", \"-\": \"0\"}, regex=True).astype(float)\n",
    "\n",
    "fields_to_keep = ['month', 'peak', 'gain', 'average']\n",
    "cs_data = cs_data[fields_to_keep][1:]\n",
    "cs2_data = cs2_data[fields_to_keep][1:]\n",
    "css_data = css_data[fields_to_keep][1:]\n",
    "cscz_data = cscz_data[fields_to_keep][1:]\n",
    "\n",
    "split_date = pd.Timestamp(\"2023-09-01\")\n",
    "\n",
    "\n",
    "\n",
    "cs_data[\"month\"] = pd.to_datetime(cs_data[\"month\"], format=\"%b-%y\")\n",
    "cs_data = cs_data.sort_values(\"month\")\n",
    "css_data[\"month\"] = pd.to_datetime(css_data[\"month\"], format=\"%b-%y\")\n",
    "css_data = css_data.sort_values(\"month\")\n",
    "cscz_data[\"month\"] = pd.to_datetime(cscz_data[\"month\"], format=\"%b-%y\")\n",
    "cscz_data = cscz_data.sort_values(\"month\")\n",
    "cs2_data[\"month\"] = pd.to_datetime(cs2_data[\"month\"], format=\"%b-%y\")\n",
    "cs2_data = cs2_data.sort_values(\"month\")\n",
    "\n",
    "csgo_data = cs2_data[cs2_data[\"month\"] < split_date]\n",
    "cs2_data = cs2_data[cs2_data[\"month\"] >= split_date]\n",
    "\n",
    "csgo_data[\"month\"] = pd.to_datetime(csgo_data[\"month\"], format=\"%b-%y\")\n",
    "csgo_data = csgo_data.sort_values(\"month\")"
   ]
  },
  {
   "cell_type": "code",
   "execution_count": 5,
   "id": "44d0720b",
   "metadata": {},
   "outputs": [
    {
     "data": {
      "text/html": [
       "<div>\n",
       "<style scoped>\n",
       "    .dataframe tbody tr th:only-of-type {\n",
       "        vertical-align: middle;\n",
       "    }\n",
       "\n",
       "    .dataframe tbody tr th {\n",
       "        vertical-align: top;\n",
       "    }\n",
       "\n",
       "    .dataframe thead th {\n",
       "        text-align: right;\n",
       "    }\n",
       "</style>\n",
       "<table border=\"1\" class=\"dataframe\">\n",
       "  <thead>\n",
       "    <tr style=\"text-align: right;\">\n",
       "      <th></th>\n",
       "      <th>month</th>\n",
       "      <th>peak</th>\n",
       "      <th>gain</th>\n",
       "      <th>average</th>\n",
       "    </tr>\n",
       "  </thead>\n",
       "  <tbody>\n",
       "    <tr>\n",
       "      <th>0</th>\n",
       "      <td>2004-01-01</td>\n",
       "      <td>23241.0</td>\n",
       "      <td>0.0</td>\n",
       "      <td>0.0</td>\n",
       "    </tr>\n",
       "    <tr>\n",
       "      <th>1</th>\n",
       "      <td>2004-02-01</td>\n",
       "      <td>39709.0</td>\n",
       "      <td>16468.0</td>\n",
       "      <td>0.0</td>\n",
       "    </tr>\n",
       "    <tr>\n",
       "      <th>2</th>\n",
       "      <td>2004-04-01</td>\n",
       "      <td>74926.0</td>\n",
       "      <td>35217.0</td>\n",
       "      <td>0.0</td>\n",
       "    </tr>\n",
       "    <tr>\n",
       "      <th>3</th>\n",
       "      <td>2004-06-01</td>\n",
       "      <td>66876.0</td>\n",
       "      <td>8050.0</td>\n",
       "      <td>0.0</td>\n",
       "    </tr>\n",
       "    <tr>\n",
       "      <th>4</th>\n",
       "      <td>2004-07-01</td>\n",
       "      <td>69685.0</td>\n",
       "      <td>2809.0</td>\n",
       "      <td>0.0</td>\n",
       "    </tr>\n",
       "  </tbody>\n",
       "</table>\n",
       "</div>"
      ],
      "text/plain": [
       "       month     peak     gain  average\n",
       "0 2004-01-01  23241.0      0.0      0.0\n",
       "1 2004-02-01  39709.0  16468.0      0.0\n",
       "2 2004-04-01  74926.0  35217.0      0.0\n",
       "3 2004-06-01  66876.0   8050.0      0.0\n",
       "4 2004-07-01  69685.0   2809.0      0.0"
      ]
     },
     "execution_count": 5,
     "metadata": {},
     "output_type": "execute_result"
    }
   ],
   "source": [
    "# fields_game_versions = ['Counter-Strike', 'Counter-Strike 2', 'Counter-Strike Source', 'Counter-Strike Condition Zero']\n",
    "\n",
    "cs_merged = pd.concat([cs_data, cs2_data, csgo_data, css_data, cscz_data], ignore_index=True)\n",
    "cs_merged = cs_merged[fields_to_keep]\n",
    "cs_merged.head()"
   ]
  },
  {
   "cell_type": "code",
   "execution_count": 6,
   "id": "d6482a53",
   "metadata": {},
   "outputs": [
    {
     "data": {
      "text/html": [
       "<div>\n",
       "<style scoped>\n",
       "    .dataframe tbody tr th:only-of-type {\n",
       "        vertical-align: middle;\n",
       "    }\n",
       "\n",
       "    .dataframe tbody tr th {\n",
       "        vertical-align: top;\n",
       "    }\n",
       "\n",
       "    .dataframe thead th {\n",
       "        text-align: right;\n",
       "    }\n",
       "</style>\n",
       "<table border=\"1\" class=\"dataframe\">\n",
       "  <thead>\n",
       "    <tr style=\"text-align: right;\">\n",
       "      <th></th>\n",
       "      <th>month</th>\n",
       "      <th>peak</th>\n",
       "      <th>gain</th>\n",
       "      <th>average</th>\n",
       "    </tr>\n",
       "  </thead>\n",
       "  <tbody>\n",
       "    <tr>\n",
       "      <th>0</th>\n",
       "      <td>2004-01-01</td>\n",
       "      <td>23241.0</td>\n",
       "      <td>0.0</td>\n",
       "      <td>0.0</td>\n",
       "    </tr>\n",
       "    <tr>\n",
       "      <th>1</th>\n",
       "      <td>2004-02-01</td>\n",
       "      <td>39709.0</td>\n",
       "      <td>16468.0</td>\n",
       "      <td>0.0</td>\n",
       "    </tr>\n",
       "    <tr>\n",
       "      <th>2</th>\n",
       "      <td>2004-04-01</td>\n",
       "      <td>84182.0</td>\n",
       "      <td>35217.0</td>\n",
       "      <td>0.0</td>\n",
       "    </tr>\n",
       "    <tr>\n",
       "      <th>3</th>\n",
       "      <td>2004-06-01</td>\n",
       "      <td>80908.0</td>\n",
       "      <td>12826.0</td>\n",
       "      <td>0.0</td>\n",
       "    </tr>\n",
       "    <tr>\n",
       "      <th>4</th>\n",
       "      <td>2004-07-01</td>\n",
       "      <td>84804.0</td>\n",
       "      <td>3896.0</td>\n",
       "      <td>0.0</td>\n",
       "    </tr>\n",
       "    <tr>\n",
       "      <th>...</th>\n",
       "      <td>...</td>\n",
       "      <td>...</td>\n",
       "      <td>...</td>\n",
       "      <td>...</td>\n",
       "    </tr>\n",
       "    <tr>\n",
       "      <th>236</th>\n",
       "      <td>2025-04-01</td>\n",
       "      <td>1898525.0</td>\n",
       "      <td>40987.0</td>\n",
       "      <td>1070094.0</td>\n",
       "    </tr>\n",
       "    <tr>\n",
       "      <th>237</th>\n",
       "      <td>2025-05-01</td>\n",
       "      <td>1752347.0</td>\n",
       "      <td>146178.0</td>\n",
       "      <td>1060039.0</td>\n",
       "    </tr>\n",
       "    <tr>\n",
       "      <th>238</th>\n",
       "      <td>2025-06-01</td>\n",
       "      <td>1766572.0</td>\n",
       "      <td>14429.0</td>\n",
       "      <td>1029242.0</td>\n",
       "    </tr>\n",
       "    <tr>\n",
       "      <th>239</th>\n",
       "      <td>2025-07-01</td>\n",
       "      <td>1506027.0</td>\n",
       "      <td>338169.0</td>\n",
       "      <td>954251.0</td>\n",
       "    </tr>\n",
       "    <tr>\n",
       "      <th>240</th>\n",
       "      <td>2025-08-01</td>\n",
       "      <td>1581554.0</td>\n",
       "      <td>79481.0</td>\n",
       "      <td>982824.0</td>\n",
       "    </tr>\n",
       "  </tbody>\n",
       "</table>\n",
       "<p>241 rows × 4 columns</p>\n",
       "</div>"
      ],
      "text/plain": [
       "         month       peak      gain    average\n",
       "0   2004-01-01    23241.0       0.0        0.0\n",
       "1   2004-02-01    39709.0   16468.0        0.0\n",
       "2   2004-04-01    84182.0   35217.0        0.0\n",
       "3   2004-06-01    80908.0   12826.0        0.0\n",
       "4   2004-07-01    84804.0    3896.0        0.0\n",
       "..         ...        ...       ...        ...\n",
       "236 2025-04-01  1898525.0   40987.0  1070094.0\n",
       "237 2025-05-01  1752347.0  146178.0  1060039.0\n",
       "238 2025-06-01  1766572.0   14429.0  1029242.0\n",
       "239 2025-07-01  1506027.0  338169.0   954251.0\n",
       "240 2025-08-01  1581554.0   79481.0   982824.0\n",
       "\n",
       "[241 rows x 4 columns]"
      ]
     },
     "execution_count": 6,
     "metadata": {},
     "output_type": "execute_result"
    }
   ],
   "source": [
    "SteamDB_merged_grouped = cs_merged.groupby(cs_merged.columns[0]).sum()\n",
    "\n",
    "SteamDB_merged_grouped = SteamDB_merged_grouped.reset_index()\n",
    "SteamDB_merged_grouped = SteamDB_merged_grouped.sort_values(\"month\")\n",
    "SteamDB_merged_grouped"
   ]
  },
  {
   "cell_type": "code",
   "execution_count": 7,
   "id": "39b295f7",
   "metadata": {},
   "outputs": [],
   "source": [
    "# cs_data.to_csv(\"../assets/SteamDB_cs_cleaned.csv\",encoding=\"utf-8\")\n",
    "# css_data.to_csv(\"../assets/SteamDB_css_cleaned.csv\",encoding=\"utf-8\")\n",
    "# cscz_data.to_csv(\"../assets/SteamDB_cscz_cleaned.csv\",encoding=\"utf-8\")\n",
    "# csgo_data.to_csv(\"../assets/SteamDB_csgo_cleaned.csv\",encoding=\"utf-8\")\n",
    "# cs2_data.to_csv(\"../assets/SteamDB_cs2_cleaned.csv\",encoding=\"utf-8\")\n",
    "# SteamDB_merged_grouped.to_csv(\"../assets/SteamDB_merged_cleaned.csv\",encoding=\"utf-8\")"
   ]
  },
  {
   "cell_type": "markdown",
   "id": "9119b469",
   "metadata": {},
   "source": [
    "### Rival Game Data from IGDB"
   ]
  },
  {
   "cell_type": "code",
   "execution_count": 8,
   "id": "8c8dfea3",
   "metadata": {},
   "outputs": [
    {
     "data": {
      "text/plain": [
       "'\\nUsed to split igdb data into 3 separate parts because of github upload limit, commented out after use\\n'"
      ]
     },
     "execution_count": 8,
     "metadata": {},
     "output_type": "execute_result"
    }
   ],
   "source": [
    "\"\"\"\n",
    "Used to split igdb data into 3 separate parts because of github upload limit, commented out after use\n",
    "\"\"\"\n",
    "\n",
    "# game_data = pd.read_csv(\"../assets/igdb_shooters.csv\")\n",
    "\n",
    "# splitting all genres csv into separate csv files\n",
    "\n",
    "# Replace this with the path to your big CSV\n",
    "# input_file = \"../assets/igdb_games.csv\"\n",
    "\n",
    "# # Read the CSV into a DataFrame\n",
    "# df = pd.read_csv(input_file)\n",
    "\n",
    "# # Calculate the size of each split\n",
    "# n = len(df)\n",
    "# split_size = n // 3\n",
    "\n",
    "# # Split into 3 parts\n",
    "# df1 = df.iloc[:split_size]\n",
    "# df2 = df.iloc[split_size:2*split_size]\n",
    "# df3 = df.iloc[2*split_size:]\n",
    "\n",
    "# Save to separate CSV files\n",
    "# df1.to_csv(\"../assets/igdb_part1.csv\", index=False)\n",
    "# df2.to_csv(\"../assets/igdb_part2.csv\", index=False)\n",
    "# df3.to_csv(\"../assets/igdb_part3.csv\", index=False)\n",
    "\n",
    "# print(\"Splitting complete! Files saved as part1.csv, part2.csv, part3.csv\")"
   ]
  },
  {
   "cell_type": "code",
   "execution_count": 9,
   "id": "f9067e93",
   "metadata": {},
   "outputs": [
    {
     "name": "stderr",
     "output_type": "stream",
     "text": [
      "/var/folders/lc/9_dv_jhs555875nqm1qhl9tr0000gn/T/ipykernel_33500/2886035041.py:1: DtypeWarning: Columns (53) have mixed types. Specify dtype option on import or set low_memory=False.\n",
      "  igdb_data_1 = pd.read_csv(\"../assets/igdb_part1.csv\")\n",
      "/var/folders/lc/9_dv_jhs555875nqm1qhl9tr0000gn/T/ipykernel_33500/2886035041.py:2: DtypeWarning: Columns (53) have mixed types. Specify dtype option on import or set low_memory=False.\n",
      "  igdb_data_2 = pd.read_csv(\"../assets/igdb_part2.csv\")\n",
      "/var/folders/lc/9_dv_jhs555875nqm1qhl9tr0000gn/T/ipykernel_33500/2886035041.py:3: DtypeWarning: Columns (53) have mixed types. Specify dtype option on import or set low_memory=False.\n",
      "  igdb_data_3 = pd.read_csv(\"../assets/igdb_part3.csv\")\n"
     ]
    }
   ],
   "source": [
    "igdb_data_1 = pd.read_csv(\"../assets/igdb_part1.csv\")\n",
    "igdb_data_2 = pd.read_csv(\"../assets/igdb_part2.csv\")\n",
    "igdb_data_3 = pd.read_csv(\"../assets/igdb_part3.csv\")\n",
    "igdb_data_merged = pd.concat([igdb_data_1, igdb_data_2, igdb_data_3], ignore_index=True)"
   ]
  },
  {
   "cell_type": "code",
   "execution_count": 10,
   "id": "75b1bf5b",
   "metadata": {},
   "outputs": [
    {
     "name": "stderr",
     "output_type": "stream",
     "text": [
      "/var/folders/lc/9_dv_jhs555875nqm1qhl9tr0000gn/T/ipykernel_33500/1111918781.py:5: SettingWithCopyWarning: \n",
      "A value is trying to be set on a copy of a slice from a DataFrame.\n",
      "Try using .loc[row_indexer,col_indexer] = value instead\n",
      "\n",
      "See the caveats in the documentation: https://pandas.pydata.org/pandas-docs/stable/user_guide/indexing.html#returning-a-view-versus-a-copy\n",
      "  igdb_data_merged_filtered[\"first_release_date\"] = pd.to_datetime(igdb_data_merged_filtered[\"first_release_date\"], unit=\"s\") # Formatting date\n"
     ]
    }
   ],
   "source": [
    "IGDB_fields = ['id', 'name', 'first_release_date', 'genres', 'rating', 'rating_count', 'total_rating', 'total_rating_count', 'aggregated_rating',\n",
    "       'aggregated_rating_count']\n",
    "\n",
    "igdb_data_merged_filtered = igdb_data_merged[IGDB_fields]\n",
    "igdb_data_merged_filtered[\"first_release_date\"] = pd.to_datetime(igdb_data_merged_filtered[\"first_release_date\"], unit=\"s\") # Formatting date"
   ]
  },
  {
   "cell_type": "code",
   "execution_count": 11,
   "id": "00bb4822",
   "metadata": {},
   "outputs": [
    {
     "data": {
      "text/html": [
       "<div>\n",
       "<style scoped>\n",
       "    .dataframe tbody tr th:only-of-type {\n",
       "        vertical-align: middle;\n",
       "    }\n",
       "\n",
       "    .dataframe tbody tr th {\n",
       "        vertical-align: top;\n",
       "    }\n",
       "\n",
       "    .dataframe thead th {\n",
       "        text-align: right;\n",
       "    }\n",
       "</style>\n",
       "<table border=\"1\" class=\"dataframe\">\n",
       "  <thead>\n",
       "    <tr style=\"text-align: right;\">\n",
       "      <th></th>\n",
       "      <th>id</th>\n",
       "      <th>name</th>\n",
       "      <th>first_release_date</th>\n",
       "      <th>genres</th>\n",
       "      <th>rating</th>\n",
       "      <th>rating_count</th>\n",
       "      <th>total_rating</th>\n",
       "      <th>total_rating_count</th>\n",
       "      <th>aggregated_rating</th>\n",
       "      <th>aggregated_rating_count</th>\n",
       "    </tr>\n",
       "  </thead>\n",
       "  <tbody>\n",
       "    <tr>\n",
       "      <th>327330</th>\n",
       "      <td>229</td>\n",
       "      <td>World of Warcraft: Cataclysm</td>\n",
       "      <td>2010-12-07</td>\n",
       "      <td>[12]</td>\n",
       "      <td>76.861351</td>\n",
       "      <td>198.0</td>\n",
       "      <td>83.097342</td>\n",
       "      <td>201.0</td>\n",
       "      <td>89.333333</td>\n",
       "      <td>3.0</td>\n",
       "    </tr>\n",
       "  </tbody>\n",
       "</table>\n",
       "</div>"
      ],
      "text/plain": [
       "         id                          name first_release_date genres  \\\n",
       "327330  229  World of Warcraft: Cataclysm         2010-12-07   [12]   \n",
       "\n",
       "           rating  rating_count  total_rating  total_rating_count  \\\n",
       "327330  76.861351         198.0     83.097342               201.0   \n",
       "\n",
       "        aggregated_rating  aggregated_rating_count  \n",
       "327330          89.333333                      3.0  "
      ]
     },
     "execution_count": 11,
     "metadata": {},
     "output_type": "execute_result"
    }
   ],
   "source": [
    "vanilla_wow = igdb_data_merged_filtered[igdb_data_merged_filtered['id']==123] # Vanilla WoW\n",
    "cata_wow = igdb_data_merged_filtered[igdb_data_merged_filtered['id']==229] # Cataclysm\n",
    "cata_wow"
   ]
  },
  {
   "cell_type": "code",
   "execution_count": 12,
   "id": "19f77838",
   "metadata": {},
   "outputs": [
    {
     "data": {
      "text/plain": [
       "{31: 'Adventure',\n",
       " 33: 'Arcade',\n",
       " 35: 'Card & Board Game',\n",
       " 4: 'Fighting',\n",
       " 25: \"Hack and slash/Beat 'em up\",\n",
       " 32: 'Indie',\n",
       " 36: 'MOBA',\n",
       " 7: 'Music',\n",
       " 30: 'Pinball',\n",
       " 8: 'Platform',\n",
       " 2: 'Point-and-click',\n",
       " 9: 'Puzzle',\n",
       " 26: 'Quiz/Trivia',\n",
       " 10: 'Racing',\n",
       " 11: 'Real Time Strategy (RTS)',\n",
       " 12: 'Role-playing (RPG)',\n",
       " 5: 'Shooter',\n",
       " 13: 'Simulator',\n",
       " 14: 'Sport',\n",
       " 15: 'Strategy',\n",
       " 24: 'Tactical',\n",
       " 16: 'Turn-based strategy (TBS)',\n",
       " 34: 'Visual Novel'}"
      ]
     },
     "execution_count": 12,
     "metadata": {},
     "output_type": "execute_result"
    }
   ],
   "source": [
    "with open(\"../data/genres.json\", \"r\", encoding=\"utf-8\") as f:\n",
    "    genres_list = json.load(f)\n",
    "    genres_list = {int(k): v for k, v in genres_list.items()}\n",
    "\n",
    "genres_list"
   ]
  },
  {
   "cell_type": "code",
   "execution_count": 13,
   "id": "a7c947b3",
   "metadata": {},
   "outputs": [
    {
     "name": "stderr",
     "output_type": "stream",
     "text": [
      "/var/folders/lc/9_dv_jhs555875nqm1qhl9tr0000gn/T/ipykernel_33500/129189592.py:1: SettingWithCopyWarning: \n",
      "A value is trying to be set on a copy of a slice from a DataFrame.\n",
      "Try using .loc[row_indexer,col_indexer] = value instead\n",
      "\n",
      "See the caveats in the documentation: https://pandas.pydata.org/pandas-docs/stable/user_guide/indexing.html#returning-a-view-versus-a-copy\n",
      "  igdb_data_merged_filtered['genres'] = igdb_data_merged_filtered['genres'].map(lambda x: [] if pd.isna(x) else[genres_list[g] for g in x] if isinstance(x, list) else [genres_list[g] for g in ast.literal_eval(x)])\n"
     ]
    },
    {
     "data": {
      "text/html": [
       "<div>\n",
       "<style scoped>\n",
       "    .dataframe tbody tr th:only-of-type {\n",
       "        vertical-align: middle;\n",
       "    }\n",
       "\n",
       "    .dataframe tbody tr th {\n",
       "        vertical-align: top;\n",
       "    }\n",
       "\n",
       "    .dataframe thead th {\n",
       "        text-align: right;\n",
       "    }\n",
       "</style>\n",
       "<table border=\"1\" class=\"dataframe\">\n",
       "  <thead>\n",
       "    <tr style=\"text-align: right;\">\n",
       "      <th></th>\n",
       "      <th>id</th>\n",
       "      <th>name</th>\n",
       "      <th>first_release_date</th>\n",
       "      <th>genres</th>\n",
       "      <th>rating</th>\n",
       "      <th>rating_count</th>\n",
       "      <th>total_rating</th>\n",
       "      <th>total_rating_count</th>\n",
       "      <th>aggregated_rating</th>\n",
       "      <th>aggregated_rating_count</th>\n",
       "    </tr>\n",
       "  </thead>\n",
       "  <tbody>\n",
       "    <tr>\n",
       "      <th>0</th>\n",
       "      <td>165499</td>\n",
       "      <td>^_^</td>\n",
       "      <td>2012-01-14</td>\n",
       "      <td>[Adventure]</td>\n",
       "      <td>NaN</td>\n",
       "      <td>NaN</td>\n",
       "      <td>NaN</td>\n",
       "      <td>NaN</td>\n",
       "      <td>NaN</td>\n",
       "      <td>NaN</td>\n",
       "    </tr>\n",
       "    <tr>\n",
       "      <th>1</th>\n",
       "      <td>141830</td>\n",
       "      <td>||[}}}°.•°.°•..°•°[|||{{{</td>\n",
       "      <td>2020-02-02</td>\n",
       "      <td>[Indie]</td>\n",
       "      <td>NaN</td>\n",
       "      <td>NaN</td>\n",
       "      <td>NaN</td>\n",
       "      <td>NaN</td>\n",
       "      <td>NaN</td>\n",
       "      <td>NaN</td>\n",
       "    </tr>\n",
       "    <tr>\n",
       "      <th>2</th>\n",
       "      <td>191680</td>\n",
       "      <td>_____</td>\n",
       "      <td>2014-12-11</td>\n",
       "      <td>[Shooter, Indie]</td>\n",
       "      <td>NaN</td>\n",
       "      <td>NaN</td>\n",
       "      <td>NaN</td>\n",
       "      <td>NaN</td>\n",
       "      <td>NaN</td>\n",
       "      <td>NaN</td>\n",
       "    </tr>\n",
       "    <tr>\n",
       "      <th>3</th>\n",
       "      <td>176875</td>\n",
       "      <td>__________</td>\n",
       "      <td>2018-07-05</td>\n",
       "      <td>[Adventure, Indie]</td>\n",
       "      <td>NaN</td>\n",
       "      <td>NaN</td>\n",
       "      <td>NaN</td>\n",
       "      <td>NaN</td>\n",
       "      <td>NaN</td>\n",
       "      <td>NaN</td>\n",
       "    </tr>\n",
       "    <tr>\n",
       "      <th>4</th>\n",
       "      <td>92204</td>\n",
       "      <td>_-_</td>\n",
       "      <td>2018-03-14</td>\n",
       "      <td>[Puzzle, Arcade]</td>\n",
       "      <td>90.0</td>\n",
       "      <td>0.0</td>\n",
       "      <td>90.0</td>\n",
       "      <td>0.0</td>\n",
       "      <td>NaN</td>\n",
       "      <td>NaN</td>\n",
       "    </tr>\n",
       "  </tbody>\n",
       "</table>\n",
       "</div>"
      ],
      "text/plain": [
       "       id                       name first_release_date              genres  \\\n",
       "0  165499                        ^_^         2012-01-14         [Adventure]   \n",
       "1  141830  ||[}}}°.•°.°•..°•°[|||{{{         2020-02-02             [Indie]   \n",
       "2  191680                      _____         2014-12-11    [Shooter, Indie]   \n",
       "3  176875                 __________         2018-07-05  [Adventure, Indie]   \n",
       "4   92204                        _-_         2018-03-14    [Puzzle, Arcade]   \n",
       "\n",
       "   rating  rating_count  total_rating  total_rating_count  aggregated_rating  \\\n",
       "0     NaN           NaN           NaN                 NaN                NaN   \n",
       "1     NaN           NaN           NaN                 NaN                NaN   \n",
       "2     NaN           NaN           NaN                 NaN                NaN   \n",
       "3     NaN           NaN           NaN                 NaN                NaN   \n",
       "4    90.0           0.0          90.0                 0.0                NaN   \n",
       "\n",
       "   aggregated_rating_count  \n",
       "0                      NaN  \n",
       "1                      NaN  \n",
       "2                      NaN  \n",
       "3                      NaN  \n",
       "4                      NaN  "
      ]
     },
     "execution_count": 13,
     "metadata": {},
     "output_type": "execute_result"
    }
   ],
   "source": [
    "igdb_data_merged_filtered['genres'] = igdb_data_merged_filtered['genres'].map(lambda x: [] if pd.isna(x) else[genres_list[g] for g in x] if isinstance(x, list) else [genres_list[g] for g in ast.literal_eval(x)])\n",
    "igdb_data_merged_filtered.head()"
   ]
  },
  {
   "cell_type": "code",
   "execution_count": 14,
   "id": "ef2eab83",
   "metadata": {},
   "outputs": [
    {
     "name": "stdout",
     "output_type": "stream",
     "text": [
      "With and without rating = 335086\n",
      "With rating = 32671\n",
      "With and without first_release_date = 32671\n",
      "With first_release_date = 31702\n"
     ]
    },
    {
     "data": {
      "text/html": [
       "<div>\n",
       "<style scoped>\n",
       "    .dataframe tbody tr th:only-of-type {\n",
       "        vertical-align: middle;\n",
       "    }\n",
       "\n",
       "    .dataframe tbody tr th {\n",
       "        vertical-align: top;\n",
       "    }\n",
       "\n",
       "    .dataframe thead th {\n",
       "        text-align: right;\n",
       "    }\n",
       "</style>\n",
       "<table border=\"1\" class=\"dataframe\">\n",
       "  <thead>\n",
       "    <tr style=\"text-align: right;\">\n",
       "      <th></th>\n",
       "      <th>id</th>\n",
       "      <th>name</th>\n",
       "      <th>first_release_date</th>\n",
       "      <th>genres</th>\n",
       "      <th>rating</th>\n",
       "      <th>rating_count</th>\n",
       "      <th>total_rating</th>\n",
       "      <th>total_rating_count</th>\n",
       "      <th>aggregated_rating</th>\n",
       "      <th>aggregated_rating_count</th>\n",
       "    </tr>\n",
       "  </thead>\n",
       "  <tbody>\n",
       "    <tr>\n",
       "      <th>4</th>\n",
       "      <td>92204</td>\n",
       "      <td>_-_</td>\n",
       "      <td>2018-03-14</td>\n",
       "      <td>[Puzzle, Arcade]</td>\n",
       "      <td>90.000000</td>\n",
       "      <td>0.0</td>\n",
       "      <td>90.000000</td>\n",
       "      <td>0.0</td>\n",
       "      <td>NaN</td>\n",
       "      <td>NaN</td>\n",
       "    </tr>\n",
       "    <tr>\n",
       "      <th>23</th>\n",
       "      <td>1649</td>\n",
       "      <td>007 Legends</td>\n",
       "      <td>2012-10-16</td>\n",
       "      <td>[Shooter]</td>\n",
       "      <td>54.172800</td>\n",
       "      <td>23.0</td>\n",
       "      <td>49.943543</td>\n",
       "      <td>30.0</td>\n",
       "      <td>45.714286</td>\n",
       "      <td>7.0</td>\n",
       "    </tr>\n",
       "    <tr>\n",
       "      <th>48</th>\n",
       "      <td>113188</td>\n",
       "      <td>03.04</td>\n",
       "      <td>2019-01-01</td>\n",
       "      <td>[Adventure, Indie]</td>\n",
       "      <td>60.000000</td>\n",
       "      <td>2.0</td>\n",
       "      <td>60.000000</td>\n",
       "      <td>2.0</td>\n",
       "      <td>NaN</td>\n",
       "      <td>NaN</td>\n",
       "    </tr>\n",
       "    <tr>\n",
       "      <th>69</th>\n",
       "      <td>55486</td>\n",
       "      <td>0°N 0°W</td>\n",
       "      <td>2018-03-02</td>\n",
       "      <td>[Adventure, Indie]</td>\n",
       "      <td>70.000000</td>\n",
       "      <td>4.0</td>\n",
       "      <td>60.000000</td>\n",
       "      <td>5.0</td>\n",
       "      <td>50.000000</td>\n",
       "      <td>1.0</td>\n",
       "    </tr>\n",
       "    <tr>\n",
       "      <th>72</th>\n",
       "      <td>9583</td>\n",
       "      <td>0rbitalis</td>\n",
       "      <td>2014-04-16</td>\n",
       "      <td>[Puzzle, Simulator, Indie]</td>\n",
       "      <td>79.935551</td>\n",
       "      <td>5.0</td>\n",
       "      <td>77.467775</td>\n",
       "      <td>8.0</td>\n",
       "      <td>75.000000</td>\n",
       "      <td>3.0</td>\n",
       "    </tr>\n",
       "  </tbody>\n",
       "</table>\n",
       "</div>"
      ],
      "text/plain": [
       "        id         name first_release_date                      genres  \\\n",
       "4    92204          _-_         2018-03-14            [Puzzle, Arcade]   \n",
       "23    1649  007 Legends         2012-10-16                   [Shooter]   \n",
       "48  113188        03.04         2019-01-01          [Adventure, Indie]   \n",
       "69   55486      0°N 0°W         2018-03-02          [Adventure, Indie]   \n",
       "72    9583    0rbitalis         2014-04-16  [Puzzle, Simulator, Indie]   \n",
       "\n",
       "       rating  rating_count  total_rating  total_rating_count  \\\n",
       "4   90.000000           0.0     90.000000                 0.0   \n",
       "23  54.172800          23.0     49.943543                30.0   \n",
       "48  60.000000           2.0     60.000000                 2.0   \n",
       "69  70.000000           4.0     60.000000                 5.0   \n",
       "72  79.935551           5.0     77.467775                 8.0   \n",
       "\n",
       "    aggregated_rating  aggregated_rating_count  \n",
       "4                 NaN                      NaN  \n",
       "23          45.714286                      7.0  \n",
       "48                NaN                      NaN  \n",
       "69          50.000000                      1.0  \n",
       "72          75.000000                      3.0  "
      ]
     },
     "execution_count": 14,
     "metadata": {},
     "output_type": "execute_result"
    }
   ],
   "source": [
    "# Filtering entries without rating\n",
    "print(f\"With and without rating = {len(igdb_data_merged_filtered)}\")\n",
    "igdb_data_merged_filtered_converted = igdb_data_merged_filtered.dropna(subset=['rating'])\n",
    "print(f\"With rating = {len(igdb_data_merged_filtered_converted)}\")\n",
    "\n",
    "# Filtering entries without first_release_date\n",
    "print(f\"With and without first_release_date = {len(igdb_data_merged_filtered_converted)}\")\n",
    "igdb_data_merged_filtered_converted = igdb_data_merged_filtered_converted[~igdb_data_merged_filtered_converted[\"first_release_date\"].isna()]\n",
    "print(f\"With first_release_date = {len(igdb_data_merged_filtered_converted)}\")\n",
    "\n",
    "# Filtering entries before 2004\n",
    "igdb_data_merged_filtered_converted = igdb_data_merged_filtered_converted[pd.to_datetime(igdb_data_merged_filtered_converted[\"first_release_date\"]) > pd.to_datetime(\"2004-01-01\")]\n",
    "igdb_data_merged_filtered_converted.head()"
   ]
  },
  {
   "cell_type": "code",
   "execution_count": 58,
   "id": "57312b15",
   "metadata": {},
   "outputs": [
    {
     "data": {
      "text/html": [
       "<div>\n",
       "<style scoped>\n",
       "    .dataframe tbody tr th:only-of-type {\n",
       "        vertical-align: middle;\n",
       "    }\n",
       "\n",
       "    .dataframe tbody tr th {\n",
       "        vertical-align: top;\n",
       "    }\n",
       "\n",
       "    .dataframe thead th {\n",
       "        text-align: right;\n",
       "    }\n",
       "</style>\n",
       "<table border=\"1\" class=\"dataframe\">\n",
       "  <thead>\n",
       "    <tr style=\"text-align: right;\">\n",
       "      <th></th>\n",
       "      <th>id</th>\n",
       "      <th>name</th>\n",
       "      <th>first_release_date</th>\n",
       "      <th>genres</th>\n",
       "      <th>rating</th>\n",
       "      <th>rating_count</th>\n",
       "      <th>total_rating</th>\n",
       "      <th>total_rating_count</th>\n",
       "      <th>aggregated_rating</th>\n",
       "      <th>aggregated_rating_count</th>\n",
       "    </tr>\n",
       "  </thead>\n",
       "  <tbody>\n",
       "    <tr>\n",
       "      <th>117313</th>\n",
       "      <td>1020</td>\n",
       "      <td>Grand Theft Auto V</td>\n",
       "      <td>2013-09-17</td>\n",
       "      <td>[Shooter, Racing, Adventure]</td>\n",
       "      <td>89.554068</td>\n",
       "      <td>5200.0</td>\n",
       "      <td>88.846000</td>\n",
       "      <td>5227.0</td>\n",
       "      <td>88.137931</td>\n",
       "      <td>27.0</td>\n",
       "    </tr>\n",
       "    <tr>\n",
       "      <th>295137</th>\n",
       "      <td>1942</td>\n",
       "      <td>The Witcher 3: Wild Hunt</td>\n",
       "      <td>2015-05-19</td>\n",
       "      <td>[Role-playing (RPG), Adventure]</td>\n",
       "      <td>93.969921</td>\n",
       "      <td>4754.0</td>\n",
       "      <td>92.850345</td>\n",
       "      <td>4780.0</td>\n",
       "      <td>91.730769</td>\n",
       "      <td>26.0</td>\n",
       "    </tr>\n",
       "    <tr>\n",
       "      <th>215199</th>\n",
       "      <td>72</td>\n",
       "      <td>Portal 2</td>\n",
       "      <td>2011-04-18</td>\n",
       "      <td>[Platform, Puzzle, Adventure]</td>\n",
       "      <td>91.539118</td>\n",
       "      <td>3997.0</td>\n",
       "      <td>91.991781</td>\n",
       "      <td>4006.0</td>\n",
       "      <td>92.444444</td>\n",
       "      <td>9.0</td>\n",
       "    </tr>\n",
       "    <tr>\n",
       "      <th>283973</th>\n",
       "      <td>472</td>\n",
       "      <td>The Elder Scrolls V: Skyrim</td>\n",
       "      <td>2011-11-10</td>\n",
       "      <td>[Role-playing (RPG), Adventure]</td>\n",
       "      <td>87.491280</td>\n",
       "      <td>3872.0</td>\n",
       "      <td>83.703973</td>\n",
       "      <td>3882.0</td>\n",
       "      <td>79.916667</td>\n",
       "      <td>10.0</td>\n",
       "    </tr>\n",
       "    <tr>\n",
       "      <th>215195</th>\n",
       "      <td>71</td>\n",
       "      <td>Portal</td>\n",
       "      <td>2007-10-10</td>\n",
       "      <td>[Shooter, Platform, Puzzle]</td>\n",
       "      <td>86.445621</td>\n",
       "      <td>3609.0</td>\n",
       "      <td>83.222811</td>\n",
       "      <td>3610.0</td>\n",
       "      <td>80.000000</td>\n",
       "      <td>1.0</td>\n",
       "    </tr>\n",
       "    <tr>\n",
       "      <th>117301</th>\n",
       "      <td>732</td>\n",
       "      <td>Grand Theft Auto: San Andreas</td>\n",
       "      <td>2004-10-26</td>\n",
       "      <td>[Shooter, Racing, Adventure]</td>\n",
       "      <td>90.231380</td>\n",
       "      <td>3508.0</td>\n",
       "      <td>91.687118</td>\n",
       "      <td>3514.0</td>\n",
       "      <td>93.142857</td>\n",
       "      <td>6.0</td>\n",
       "    </tr>\n",
       "    <tr>\n",
       "      <th>287598</th>\n",
       "      <td>1009</td>\n",
       "      <td>The Last of Us</td>\n",
       "      <td>2013-06-14</td>\n",
       "      <td>[Shooter, Adventure]</td>\n",
       "      <td>93.097059</td>\n",
       "      <td>3063.0</td>\n",
       "      <td>92.317760</td>\n",
       "      <td>3076.0</td>\n",
       "      <td>91.538462</td>\n",
       "      <td>13.0</td>\n",
       "    </tr>\n",
       "    <tr>\n",
       "      <th>121518</th>\n",
       "      <td>233</td>\n",
       "      <td>Half-Life 2</td>\n",
       "      <td>2004-11-16</td>\n",
       "      <td>[Shooter]</td>\n",
       "      <td>90.410008</td>\n",
       "      <td>3050.0</td>\n",
       "      <td>84.767504</td>\n",
       "      <td>3057.0</td>\n",
       "      <td>79.125000</td>\n",
       "      <td>7.0</td>\n",
       "    </tr>\n",
       "    <tr>\n",
       "      <th>226686</th>\n",
       "      <td>25076</td>\n",
       "      <td>Red Dead Redemption 2</td>\n",
       "      <td>2018-10-26</td>\n",
       "      <td>[Shooter, Role-playing (RPG), Adventure]</td>\n",
       "      <td>93.276503</td>\n",
       "      <td>3016.0</td>\n",
       "      <td>93.667663</td>\n",
       "      <td>3033.0</td>\n",
       "      <td>94.058824</td>\n",
       "      <td>17.0</td>\n",
       "    </tr>\n",
       "    <tr>\n",
       "      <th>115004</th>\n",
       "      <td>19560</td>\n",
       "      <td>God of War</td>\n",
       "      <td>2018-04-20</td>\n",
       "      <td>[Role-playing (RPG), Hack and slash/Beat 'em u...</td>\n",
       "      <td>92.362610</td>\n",
       "      <td>2996.0</td>\n",
       "      <td>94.296689</td>\n",
       "      <td>3022.0</td>\n",
       "      <td>96.230769</td>\n",
       "      <td>26.0</td>\n",
       "    </tr>\n",
       "    <tr>\n",
       "      <th>32045</th>\n",
       "      <td>20</td>\n",
       "      <td>BioShock</td>\n",
       "      <td>2007-08-21</td>\n",
       "      <td>[Shooter, Puzzle, Role-playing (RPG), Adventure]</td>\n",
       "      <td>86.707211</td>\n",
       "      <td>2892.0</td>\n",
       "      <td>89.666106</td>\n",
       "      <td>2900.0</td>\n",
       "      <td>92.625000</td>\n",
       "      <td>8.0</td>\n",
       "    </tr>\n",
       "    <tr>\n",
       "      <th>19450</th>\n",
       "      <td>127</td>\n",
       "      <td>Assassin's Creed II</td>\n",
       "      <td>2009-11-17</td>\n",
       "      <td>[Platform, Adventure]</td>\n",
       "      <td>86.618297</td>\n",
       "      <td>2878.0</td>\n",
       "      <td>88.434148</td>\n",
       "      <td>2886.0</td>\n",
       "      <td>90.250000</td>\n",
       "      <td>8.0</td>\n",
       "    </tr>\n",
       "    <tr>\n",
       "      <th>288171</th>\n",
       "      <td>7346</td>\n",
       "      <td>The Legend of Zelda: Breath of the Wild</td>\n",
       "      <td>2017-03-03</td>\n",
       "      <td>[Puzzle, Adventure]</td>\n",
       "      <td>92.650966</td>\n",
       "      <td>2609.0</td>\n",
       "      <td>95.121779</td>\n",
       "      <td>2636.0</td>\n",
       "      <td>97.592593</td>\n",
       "      <td>27.0</td>\n",
       "    </tr>\n",
       "    <tr>\n",
       "      <th>168878</th>\n",
       "      <td>74</td>\n",
       "      <td>Mass Effect 2</td>\n",
       "      <td>2010-01-26</td>\n",
       "      <td>[Shooter, Role-playing (RPG), Adventure]</td>\n",
       "      <td>91.341426</td>\n",
       "      <td>2546.0</td>\n",
       "      <td>93.470713</td>\n",
       "      <td>2555.0</td>\n",
       "      <td>95.600000</td>\n",
       "      <td>9.0</td>\n",
       "    </tr>\n",
       "    <tr>\n",
       "      <th>32059</th>\n",
       "      <td>538</td>\n",
       "      <td>BioShock Infinite</td>\n",
       "      <td>2013-03-25</td>\n",
       "      <td>[Shooter, Adventure]</td>\n",
       "      <td>85.646473</td>\n",
       "      <td>2506.0</td>\n",
       "      <td>89.430379</td>\n",
       "      <td>2520.0</td>\n",
       "      <td>93.214286</td>\n",
       "      <td>14.0</td>\n",
       "    </tr>\n",
       "    <tr>\n",
       "      <th>26594</th>\n",
       "      <td>501</td>\n",
       "      <td>Batman: Arkham City</td>\n",
       "      <td>2011-10-18</td>\n",
       "      <td>[Hack and slash/Beat 'em up, Adventure]</td>\n",
       "      <td>87.536812</td>\n",
       "      <td>2437.0</td>\n",
       "      <td>89.368406</td>\n",
       "      <td>2447.0</td>\n",
       "      <td>91.200000</td>\n",
       "      <td>10.0</td>\n",
       "    </tr>\n",
       "    <tr>\n",
       "      <th>26584</th>\n",
       "      <td>500</td>\n",
       "      <td>Batman: Arkham Asylum</td>\n",
       "      <td>2009-08-25</td>\n",
       "      <td>[Hack and slash/Beat 'em up, Adventure]</td>\n",
       "      <td>85.686995</td>\n",
       "      <td>2427.0</td>\n",
       "      <td>87.543498</td>\n",
       "      <td>2432.0</td>\n",
       "      <td>89.400000</td>\n",
       "      <td>5.0</td>\n",
       "    </tr>\n",
       "    <tr>\n",
       "      <th>311785</th>\n",
       "      <td>7331</td>\n",
       "      <td>Uncharted 4: A Thief's End</td>\n",
       "      <td>2016-05-10</td>\n",
       "      <td>[Shooter, Adventure]</td>\n",
       "      <td>90.531507</td>\n",
       "      <td>2308.0</td>\n",
       "      <td>91.885754</td>\n",
       "      <td>2333.0</td>\n",
       "      <td>93.240000</td>\n",
       "      <td>25.0</td>\n",
       "    </tr>\n",
       "    <tr>\n",
       "      <th>168875</th>\n",
       "      <td>73</td>\n",
       "      <td>Mass Effect</td>\n",
       "      <td>2007-11-20</td>\n",
       "      <td>[Shooter, Role-playing (RPG)]</td>\n",
       "      <td>86.088604</td>\n",
       "      <td>2322.0</td>\n",
       "      <td>87.294302</td>\n",
       "      <td>2326.0</td>\n",
       "      <td>88.500000</td>\n",
       "      <td>4.0</td>\n",
       "    </tr>\n",
       "    <tr>\n",
       "      <th>300840</th>\n",
       "      <td>1164</td>\n",
       "      <td>Tomb Raider</td>\n",
       "      <td>2013-03-04</td>\n",
       "      <td>[Shooter, Platform, Puzzle, Adventure]</td>\n",
       "      <td>81.752327</td>\n",
       "      <td>2195.0</td>\n",
       "      <td>83.197592</td>\n",
       "      <td>2209.0</td>\n",
       "      <td>84.642857</td>\n",
       "      <td>14.0</td>\n",
       "    </tr>\n",
       "    <tr>\n",
       "      <th>226683</th>\n",
       "      <td>434</td>\n",
       "      <td>Red Dead Redemption</td>\n",
       "      <td>2010-05-18</td>\n",
       "      <td>[Shooter, Role-playing (RPG), Adventure]</td>\n",
       "      <td>89.374164</td>\n",
       "      <td>2192.0</td>\n",
       "      <td>90.587082</td>\n",
       "      <td>2200.0</td>\n",
       "      <td>91.800000</td>\n",
       "      <td>8.0</td>\n",
       "    </tr>\n",
       "    <tr>\n",
       "      <th>131551</th>\n",
       "      <td>11156</td>\n",
       "      <td>Horizon Zero Dawn</td>\n",
       "      <td>2017-02-28</td>\n",
       "      <td>[Shooter, Role-playing (RPG), Adventure]</td>\n",
       "      <td>87.582246</td>\n",
       "      <td>2158.0</td>\n",
       "      <td>88.214200</td>\n",
       "      <td>2184.0</td>\n",
       "      <td>88.846154</td>\n",
       "      <td>26.0</td>\n",
       "    </tr>\n",
       "    <tr>\n",
       "      <th>95550</th>\n",
       "      <td>16</td>\n",
       "      <td>Fallout: New Vegas</td>\n",
       "      <td>2010-10-19</td>\n",
       "      <td>[Shooter, Role-playing (RPG)]</td>\n",
       "      <td>87.192701</td>\n",
       "      <td>2129.0</td>\n",
       "      <td>84.546350</td>\n",
       "      <td>2138.0</td>\n",
       "      <td>81.900000</td>\n",
       "      <td>9.0</td>\n",
       "    </tr>\n",
       "    <tr>\n",
       "      <th>96519</th>\n",
       "      <td>529</td>\n",
       "      <td>Far Cry 3</td>\n",
       "      <td>2012-11-28</td>\n",
       "      <td>[Shooter, Adventure]</td>\n",
       "      <td>83.610012</td>\n",
       "      <td>2029.0</td>\n",
       "      <td>86.571673</td>\n",
       "      <td>2044.0</td>\n",
       "      <td>89.533333</td>\n",
       "      <td>15.0</td>\n",
       "    </tr>\n",
       "    <tr>\n",
       "      <th>311771</th>\n",
       "      <td>565</td>\n",
       "      <td>Uncharted 2: Among Thieves</td>\n",
       "      <td>2009-10-13</td>\n",
       "      <td>[Shooter, Platform, Adventure]</td>\n",
       "      <td>88.595674</td>\n",
       "      <td>2027.0</td>\n",
       "      <td>91.985337</td>\n",
       "      <td>2035.0</td>\n",
       "      <td>95.375000</td>\n",
       "      <td>8.0</td>\n",
       "    </tr>\n",
       "    <tr>\n",
       "      <th>176863</th>\n",
       "      <td>121</td>\n",
       "      <td>Minecraft: Java Edition</td>\n",
       "      <td>2011-11-18</td>\n",
       "      <td>[Simulator, Adventure]</td>\n",
       "      <td>84.755084</td>\n",
       "      <td>1892.0</td>\n",
       "      <td>84.556114</td>\n",
       "      <td>1906.0</td>\n",
       "      <td>84.357143</td>\n",
       "      <td>14.0</td>\n",
       "    </tr>\n",
       "    <tr>\n",
       "      <th>168627</th>\n",
       "      <td>19565</td>\n",
       "      <td>Marvel's Spider-Man</td>\n",
       "      <td>2018-09-07</td>\n",
       "      <td>[Hack and slash/Beat 'em up, Adventure]</td>\n",
       "      <td>87.086603</td>\n",
       "      <td>1820.0</td>\n",
       "      <td>88.387051</td>\n",
       "      <td>1836.0</td>\n",
       "      <td>89.687500</td>\n",
       "      <td>16.0</td>\n",
       "    </tr>\n",
       "    <tr>\n",
       "      <th>130411</th>\n",
       "      <td>14593</td>\n",
       "      <td>Hollow Knight</td>\n",
       "      <td>2017-02-24</td>\n",
       "      <td>[Platform, Adventure, Indie]</td>\n",
       "      <td>92.130720</td>\n",
       "      <td>1789.0</td>\n",
       "      <td>91.690360</td>\n",
       "      <td>1797.0</td>\n",
       "      <td>91.250000</td>\n",
       "      <td>8.0</td>\n",
       "    </tr>\n",
       "    <tr>\n",
       "      <th>78488</th>\n",
       "      <td>7351</td>\n",
       "      <td>Doom</td>\n",
       "      <td>2016-05-12</td>\n",
       "      <td>[Shooter, Puzzle]</td>\n",
       "      <td>85.399068</td>\n",
       "      <td>1764.0</td>\n",
       "      <td>86.183909</td>\n",
       "      <td>1792.0</td>\n",
       "      <td>86.968750</td>\n",
       "      <td>28.0</td>\n",
       "    </tr>\n",
       "    <tr>\n",
       "      <th>168891</th>\n",
       "      <td>75</td>\n",
       "      <td>Mass Effect 3</td>\n",
       "      <td>2012-03-06</td>\n",
       "      <td>[Shooter, Role-playing (RPG), Adventure]</td>\n",
       "      <td>85.228172</td>\n",
       "      <td>1772.0</td>\n",
       "      <td>88.020336</td>\n",
       "      <td>1786.0</td>\n",
       "      <td>90.812500</td>\n",
       "      <td>14.0</td>\n",
       "    </tr>\n",
       "    <tr>\n",
       "      <th>37382</th>\n",
       "      <td>1011</td>\n",
       "      <td>Borderlands 2</td>\n",
       "      <td>2012-09-18</td>\n",
       "      <td>[Shooter, Role-playing (RPG)]</td>\n",
       "      <td>83.987150</td>\n",
       "      <td>1753.0</td>\n",
       "      <td>82.346516</td>\n",
       "      <td>1770.0</td>\n",
       "      <td>80.705882</td>\n",
       "      <td>17.0</td>\n",
       "    </tr>\n",
       "    <tr>\n",
       "      <th>75526</th>\n",
       "      <td>533</td>\n",
       "      <td>Dishonored</td>\n",
       "      <td>2012-10-09</td>\n",
       "      <td>[Puzzle, Role-playing (RPG), Adventure]</td>\n",
       "      <td>84.817759</td>\n",
       "      <td>1752.0</td>\n",
       "      <td>87.587451</td>\n",
       "      <td>1766.0</td>\n",
       "      <td>90.357143</td>\n",
       "      <td>14.0</td>\n",
       "    </tr>\n",
       "    <tr>\n",
       "      <th>157674</th>\n",
       "      <td>7599</td>\n",
       "      <td>Life is Strange</td>\n",
       "      <td>2015-01-29</td>\n",
       "      <td>[Puzzle, Adventure, Indie]</td>\n",
       "      <td>83.170978</td>\n",
       "      <td>1742.0</td>\n",
       "      <td>81.004408</td>\n",
       "      <td>1749.0</td>\n",
       "      <td>78.837838</td>\n",
       "      <td>7.0</td>\n",
       "    </tr>\n",
       "    <tr>\n",
       "      <th>66761</th>\n",
       "      <td>11133</td>\n",
       "      <td>Dark Souls III</td>\n",
       "      <td>2016-03-24</td>\n",
       "      <td>[Role-playing (RPG), Adventure]</td>\n",
       "      <td>87.288267</td>\n",
       "      <td>1688.0</td>\n",
       "      <td>86.682595</td>\n",
       "      <td>1714.0</td>\n",
       "      <td>86.076923</td>\n",
       "      <td>26.0</td>\n",
       "    </tr>\n",
       "    <tr>\n",
       "      <th>43468</th>\n",
       "      <td>623</td>\n",
       "      <td>Call of Duty 4: Modern Warfare</td>\n",
       "      <td>2007-11-05</td>\n",
       "      <td>[Shooter, Simulator]</td>\n",
       "      <td>84.372097</td>\n",
       "      <td>1696.0</td>\n",
       "      <td>86.114620</td>\n",
       "      <td>1703.0</td>\n",
       "      <td>87.857143</td>\n",
       "      <td>7.0</td>\n",
       "    </tr>\n",
       "    <tr>\n",
       "      <th>117272</th>\n",
       "      <td>731</td>\n",
       "      <td>Grand Theft Auto IV</td>\n",
       "      <td>2008-04-29</td>\n",
       "      <td>[Shooter, Racing, Adventure]</td>\n",
       "      <td>83.430792</td>\n",
       "      <td>1694.0</td>\n",
       "      <td>85.777896</td>\n",
       "      <td>1702.0</td>\n",
       "      <td>88.125000</td>\n",
       "      <td>8.0</td>\n",
       "    </tr>\n",
       "    <tr>\n",
       "      <th>87183</th>\n",
       "      <td>119133</td>\n",
       "      <td>Elden Ring</td>\n",
       "      <td>2022-02-25</td>\n",
       "      <td>[Role-playing (RPG), Adventure]</td>\n",
       "      <td>94.610312</td>\n",
       "      <td>1671.0</td>\n",
       "      <td>95.755156</td>\n",
       "      <td>1681.0</td>\n",
       "      <td>96.900000</td>\n",
       "      <td>10.0</td>\n",
       "    </tr>\n",
       "    <tr>\n",
       "      <th>270488</th>\n",
       "      <td>26758</td>\n",
       "      <td>Super Mario Odyssey</td>\n",
       "      <td>2017-10-27</td>\n",
       "      <td>[Platform, Adventure]</td>\n",
       "      <td>89.219030</td>\n",
       "      <td>1659.0</td>\n",
       "      <td>92.962456</td>\n",
       "      <td>1676.0</td>\n",
       "      <td>96.705882</td>\n",
       "      <td>17.0</td>\n",
       "    </tr>\n",
       "    <tr>\n",
       "      <th>19421</th>\n",
       "      <td>128</td>\n",
       "      <td>Assassin's Creed</td>\n",
       "      <td>2007-11-13</td>\n",
       "      <td>[Platform, Adventure]</td>\n",
       "      <td>73.210460</td>\n",
       "      <td>1671.0</td>\n",
       "      <td>76.980230</td>\n",
       "      <td>1675.0</td>\n",
       "      <td>80.750000</td>\n",
       "      <td>4.0</td>\n",
       "    </tr>\n",
       "    <tr>\n",
       "      <th>312233</th>\n",
       "      <td>12517</td>\n",
       "      <td>Undertale</td>\n",
       "      <td>2015-09-15</td>\n",
       "      <td>[Puzzle, Role-playing (RPG), Turn-based strate...</td>\n",
       "      <td>86.135409</td>\n",
       "      <td>1658.0</td>\n",
       "      <td>91.260012</td>\n",
       "      <td>1671.0</td>\n",
       "      <td>96.384615</td>\n",
       "      <td>13.0</td>\n",
       "    </tr>\n",
       "    <tr>\n",
       "      <th>34805</th>\n",
       "      <td>7334</td>\n",
       "      <td>Bloodborne</td>\n",
       "      <td>2015-03-24</td>\n",
       "      <td>[Role-playing (RPG), Adventure]</td>\n",
       "      <td>91.892536</td>\n",
       "      <td>1649.0</td>\n",
       "      <td>91.501823</td>\n",
       "      <td>1667.0</td>\n",
       "      <td>91.111111</td>\n",
       "      <td>18.0</td>\n",
       "    </tr>\n",
       "    <tr>\n",
       "      <th>19482</th>\n",
       "      <td>1970</td>\n",
       "      <td>Assassin's Creed IV Black Flag</td>\n",
       "      <td>2013-10-29</td>\n",
       "      <td>[Adventure]</td>\n",
       "      <td>83.166262</td>\n",
       "      <td>1644.0</td>\n",
       "      <td>83.868845</td>\n",
       "      <td>1665.0</td>\n",
       "      <td>84.571429</td>\n",
       "      <td>21.0</td>\n",
       "    </tr>\n",
       "    <tr>\n",
       "      <th>95457</th>\n",
       "      <td>15</td>\n",
       "      <td>Fallout 3</td>\n",
       "      <td>2008-10-28</td>\n",
       "      <td>[Shooter, Role-playing (RPG)]</td>\n",
       "      <td>83.477435</td>\n",
       "      <td>1644.0</td>\n",
       "      <td>86.288717</td>\n",
       "      <td>1654.0</td>\n",
       "      <td>89.100000</td>\n",
       "      <td>10.0</td>\n",
       "    </tr>\n",
       "    <tr>\n",
       "      <th>294712</th>\n",
       "      <td>1871</td>\n",
       "      <td>The Walking Dead</td>\n",
       "      <td>2012-04-24</td>\n",
       "      <td>[Point-and-click, Adventure]</td>\n",
       "      <td>85.718544</td>\n",
       "      <td>1626.0</td>\n",
       "      <td>85.035743</td>\n",
       "      <td>1633.0</td>\n",
       "      <td>84.352941</td>\n",
       "      <td>7.0</td>\n",
       "    </tr>\n",
       "    <tr>\n",
       "      <th>287618</th>\n",
       "      <td>6036</td>\n",
       "      <td>The Last of Us Remastered</td>\n",
       "      <td>2014-07-26</td>\n",
       "      <td>[Shooter, Adventure]</td>\n",
       "      <td>93.500213</td>\n",
       "      <td>1620.0</td>\n",
       "      <td>95.450107</td>\n",
       "      <td>1630.0</td>\n",
       "      <td>97.400000</td>\n",
       "      <td>10.0</td>\n",
       "    </tr>\n",
       "    <tr>\n",
       "      <th>19431</th>\n",
       "      <td>113</td>\n",
       "      <td>Assassin's Creed Brotherhood</td>\n",
       "      <td>2010-11-16</td>\n",
       "      <td>[Puzzle, Adventure]</td>\n",
       "      <td>82.697969</td>\n",
       "      <td>1618.0</td>\n",
       "      <td>83.015651</td>\n",
       "      <td>1627.0</td>\n",
       "      <td>83.333333</td>\n",
       "      <td>9.0</td>\n",
       "    </tr>\n",
       "    <tr>\n",
       "      <th>95470</th>\n",
       "      <td>9630</td>\n",
       "      <td>Fallout 4</td>\n",
       "      <td>2015-11-09</td>\n",
       "      <td>[Shooter, Role-playing (RPG)]</td>\n",
       "      <td>79.732538</td>\n",
       "      <td>1572.0</td>\n",
       "      <td>82.199602</td>\n",
       "      <td>1593.0</td>\n",
       "      <td>84.666667</td>\n",
       "      <td>21.0</td>\n",
       "    </tr>\n",
       "    <tr>\n",
       "      <th>138736</th>\n",
       "      <td>7342</td>\n",
       "      <td>Inside</td>\n",
       "      <td>2016-06-29</td>\n",
       "      <td>[Platform, Puzzle, Adventure, Indie]</td>\n",
       "      <td>85.945886</td>\n",
       "      <td>1514.0</td>\n",
       "      <td>89.216533</td>\n",
       "      <td>1553.0</td>\n",
       "      <td>92.487179</td>\n",
       "      <td>39.0</td>\n",
       "    </tr>\n",
       "    <tr>\n",
       "      <th>79911</th>\n",
       "      <td>76</td>\n",
       "      <td>Dragon Age: Origins</td>\n",
       "      <td>2009-11-03</td>\n",
       "      <td>[Role-playing (RPG)]</td>\n",
       "      <td>86.126837</td>\n",
       "      <td>1519.0</td>\n",
       "      <td>88.163418</td>\n",
       "      <td>1529.0</td>\n",
       "      <td>90.200000</td>\n",
       "      <td>10.0</td>\n",
       "    </tr>\n",
       "    <tr>\n",
       "      <th>261780</th>\n",
       "      <td>17000</td>\n",
       "      <td>Stardew Valley</td>\n",
       "      <td>2016-02-26</td>\n",
       "      <td>[Role-playing (RPG), Simulator, Strategy, Adve...</td>\n",
       "      <td>86.237498</td>\n",
       "      <td>1502.0</td>\n",
       "      <td>88.387980</td>\n",
       "      <td>1515.0</td>\n",
       "      <td>90.538462</td>\n",
       "      <td>13.0</td>\n",
       "    </tr>\n",
       "  </tbody>\n",
       "</table>\n",
       "</div>"
      ],
      "text/plain": [
       "            id                                     name first_release_date  \\\n",
       "117313    1020                       Grand Theft Auto V         2013-09-17   \n",
       "295137    1942                 The Witcher 3: Wild Hunt         2015-05-19   \n",
       "215199      72                                 Portal 2         2011-04-18   \n",
       "283973     472              The Elder Scrolls V: Skyrim         2011-11-10   \n",
       "215195      71                                   Portal         2007-10-10   \n",
       "117301     732            Grand Theft Auto: San Andreas         2004-10-26   \n",
       "287598    1009                           The Last of Us         2013-06-14   \n",
       "121518     233                              Half-Life 2         2004-11-16   \n",
       "226686   25076                    Red Dead Redemption 2         2018-10-26   \n",
       "115004   19560                               God of War         2018-04-20   \n",
       "32045       20                                 BioShock         2007-08-21   \n",
       "19450      127                      Assassin's Creed II         2009-11-17   \n",
       "288171    7346  The Legend of Zelda: Breath of the Wild         2017-03-03   \n",
       "168878      74                            Mass Effect 2         2010-01-26   \n",
       "32059      538                        BioShock Infinite         2013-03-25   \n",
       "26594      501                      Batman: Arkham City         2011-10-18   \n",
       "26584      500                    Batman: Arkham Asylum         2009-08-25   \n",
       "311785    7331               Uncharted 4: A Thief's End         2016-05-10   \n",
       "168875      73                              Mass Effect         2007-11-20   \n",
       "300840    1164                              Tomb Raider         2013-03-04   \n",
       "226683     434                      Red Dead Redemption         2010-05-18   \n",
       "131551   11156                        Horizon Zero Dawn         2017-02-28   \n",
       "95550       16                       Fallout: New Vegas         2010-10-19   \n",
       "96519      529                                Far Cry 3         2012-11-28   \n",
       "311771     565               Uncharted 2: Among Thieves         2009-10-13   \n",
       "176863     121                  Minecraft: Java Edition         2011-11-18   \n",
       "168627   19565                      Marvel's Spider-Man         2018-09-07   \n",
       "130411   14593                            Hollow Knight         2017-02-24   \n",
       "78488     7351                                     Doom         2016-05-12   \n",
       "168891      75                            Mass Effect 3         2012-03-06   \n",
       "37382     1011                            Borderlands 2         2012-09-18   \n",
       "75526      533                               Dishonored         2012-10-09   \n",
       "157674    7599                          Life is Strange         2015-01-29   \n",
       "66761    11133                           Dark Souls III         2016-03-24   \n",
       "43468      623           Call of Duty 4: Modern Warfare         2007-11-05   \n",
       "117272     731                      Grand Theft Auto IV         2008-04-29   \n",
       "87183   119133                               Elden Ring         2022-02-25   \n",
       "270488   26758                      Super Mario Odyssey         2017-10-27   \n",
       "19421      128                         Assassin's Creed         2007-11-13   \n",
       "312233   12517                                Undertale         2015-09-15   \n",
       "34805     7334                               Bloodborne         2015-03-24   \n",
       "19482     1970           Assassin's Creed IV Black Flag         2013-10-29   \n",
       "95457       15                                Fallout 3         2008-10-28   \n",
       "294712    1871                         The Walking Dead         2012-04-24   \n",
       "287618    6036                The Last of Us Remastered         2014-07-26   \n",
       "19431      113             Assassin's Creed Brotherhood         2010-11-16   \n",
       "95470     9630                                Fallout 4         2015-11-09   \n",
       "138736    7342                                   Inside         2016-06-29   \n",
       "79911       76                      Dragon Age: Origins         2009-11-03   \n",
       "261780   17000                           Stardew Valley         2016-02-26   \n",
       "\n",
       "                                                   genres     rating  \\\n",
       "117313                       [Shooter, Racing, Adventure]  89.554068   \n",
       "295137                    [Role-playing (RPG), Adventure]  93.969921   \n",
       "215199                      [Platform, Puzzle, Adventure]  91.539118   \n",
       "283973                    [Role-playing (RPG), Adventure]  87.491280   \n",
       "215195                        [Shooter, Platform, Puzzle]  86.445621   \n",
       "117301                       [Shooter, Racing, Adventure]  90.231380   \n",
       "287598                               [Shooter, Adventure]  93.097059   \n",
       "121518                                          [Shooter]  90.410008   \n",
       "226686           [Shooter, Role-playing (RPG), Adventure]  93.276503   \n",
       "115004  [Role-playing (RPG), Hack and slash/Beat 'em u...  92.362610   \n",
       "32045    [Shooter, Puzzle, Role-playing (RPG), Adventure]  86.707211   \n",
       "19450                               [Platform, Adventure]  86.618297   \n",
       "288171                                [Puzzle, Adventure]  92.650966   \n",
       "168878           [Shooter, Role-playing (RPG), Adventure]  91.341426   \n",
       "32059                                [Shooter, Adventure]  85.646473   \n",
       "26594             [Hack and slash/Beat 'em up, Adventure]  87.536812   \n",
       "26584             [Hack and slash/Beat 'em up, Adventure]  85.686995   \n",
       "311785                               [Shooter, Adventure]  90.531507   \n",
       "168875                      [Shooter, Role-playing (RPG)]  86.088604   \n",
       "300840             [Shooter, Platform, Puzzle, Adventure]  81.752327   \n",
       "226683           [Shooter, Role-playing (RPG), Adventure]  89.374164   \n",
       "131551           [Shooter, Role-playing (RPG), Adventure]  87.582246   \n",
       "95550                       [Shooter, Role-playing (RPG)]  87.192701   \n",
       "96519                                [Shooter, Adventure]  83.610012   \n",
       "311771                     [Shooter, Platform, Adventure]  88.595674   \n",
       "176863                             [Simulator, Adventure]  84.755084   \n",
       "168627            [Hack and slash/Beat 'em up, Adventure]  87.086603   \n",
       "130411                       [Platform, Adventure, Indie]  92.130720   \n",
       "78488                                   [Shooter, Puzzle]  85.399068   \n",
       "168891           [Shooter, Role-playing (RPG), Adventure]  85.228172   \n",
       "37382                       [Shooter, Role-playing (RPG)]  83.987150   \n",
       "75526             [Puzzle, Role-playing (RPG), Adventure]  84.817759   \n",
       "157674                         [Puzzle, Adventure, Indie]  83.170978   \n",
       "66761                     [Role-playing (RPG), Adventure]  87.288267   \n",
       "43468                                [Shooter, Simulator]  84.372097   \n",
       "117272                       [Shooter, Racing, Adventure]  83.430792   \n",
       "87183                     [Role-playing (RPG), Adventure]  94.610312   \n",
       "270488                              [Platform, Adventure]  89.219030   \n",
       "19421                               [Platform, Adventure]  73.210460   \n",
       "312233  [Puzzle, Role-playing (RPG), Turn-based strate...  86.135409   \n",
       "34805                     [Role-playing (RPG), Adventure]  91.892536   \n",
       "19482                                         [Adventure]  83.166262   \n",
       "95457                       [Shooter, Role-playing (RPG)]  83.477435   \n",
       "294712                       [Point-and-click, Adventure]  85.718544   \n",
       "287618                               [Shooter, Adventure]  93.500213   \n",
       "19431                                 [Puzzle, Adventure]  82.697969   \n",
       "95470                       [Shooter, Role-playing (RPG)]  79.732538   \n",
       "138736               [Platform, Puzzle, Adventure, Indie]  85.945886   \n",
       "79911                                [Role-playing (RPG)]  86.126837   \n",
       "261780  [Role-playing (RPG), Simulator, Strategy, Adve...  86.237498   \n",
       "\n",
       "        rating_count  total_rating  total_rating_count  aggregated_rating  \\\n",
       "117313        5200.0     88.846000              5227.0          88.137931   \n",
       "295137        4754.0     92.850345              4780.0          91.730769   \n",
       "215199        3997.0     91.991781              4006.0          92.444444   \n",
       "283973        3872.0     83.703973              3882.0          79.916667   \n",
       "215195        3609.0     83.222811              3610.0          80.000000   \n",
       "117301        3508.0     91.687118              3514.0          93.142857   \n",
       "287598        3063.0     92.317760              3076.0          91.538462   \n",
       "121518        3050.0     84.767504              3057.0          79.125000   \n",
       "226686        3016.0     93.667663              3033.0          94.058824   \n",
       "115004        2996.0     94.296689              3022.0          96.230769   \n",
       "32045         2892.0     89.666106              2900.0          92.625000   \n",
       "19450         2878.0     88.434148              2886.0          90.250000   \n",
       "288171        2609.0     95.121779              2636.0          97.592593   \n",
       "168878        2546.0     93.470713              2555.0          95.600000   \n",
       "32059         2506.0     89.430379              2520.0          93.214286   \n",
       "26594         2437.0     89.368406              2447.0          91.200000   \n",
       "26584         2427.0     87.543498              2432.0          89.400000   \n",
       "311785        2308.0     91.885754              2333.0          93.240000   \n",
       "168875        2322.0     87.294302              2326.0          88.500000   \n",
       "300840        2195.0     83.197592              2209.0          84.642857   \n",
       "226683        2192.0     90.587082              2200.0          91.800000   \n",
       "131551        2158.0     88.214200              2184.0          88.846154   \n",
       "95550         2129.0     84.546350              2138.0          81.900000   \n",
       "96519         2029.0     86.571673              2044.0          89.533333   \n",
       "311771        2027.0     91.985337              2035.0          95.375000   \n",
       "176863        1892.0     84.556114              1906.0          84.357143   \n",
       "168627        1820.0     88.387051              1836.0          89.687500   \n",
       "130411        1789.0     91.690360              1797.0          91.250000   \n",
       "78488         1764.0     86.183909              1792.0          86.968750   \n",
       "168891        1772.0     88.020336              1786.0          90.812500   \n",
       "37382         1753.0     82.346516              1770.0          80.705882   \n",
       "75526         1752.0     87.587451              1766.0          90.357143   \n",
       "157674        1742.0     81.004408              1749.0          78.837838   \n",
       "66761         1688.0     86.682595              1714.0          86.076923   \n",
       "43468         1696.0     86.114620              1703.0          87.857143   \n",
       "117272        1694.0     85.777896              1702.0          88.125000   \n",
       "87183         1671.0     95.755156              1681.0          96.900000   \n",
       "270488        1659.0     92.962456              1676.0          96.705882   \n",
       "19421         1671.0     76.980230              1675.0          80.750000   \n",
       "312233        1658.0     91.260012              1671.0          96.384615   \n",
       "34805         1649.0     91.501823              1667.0          91.111111   \n",
       "19482         1644.0     83.868845              1665.0          84.571429   \n",
       "95457         1644.0     86.288717              1654.0          89.100000   \n",
       "294712        1626.0     85.035743              1633.0          84.352941   \n",
       "287618        1620.0     95.450107              1630.0          97.400000   \n",
       "19431         1618.0     83.015651              1627.0          83.333333   \n",
       "95470         1572.0     82.199602              1593.0          84.666667   \n",
       "138736        1514.0     89.216533              1553.0          92.487179   \n",
       "79911         1519.0     88.163418              1529.0          90.200000   \n",
       "261780        1502.0     88.387980              1515.0          90.538462   \n",
       "\n",
       "        aggregated_rating_count  \n",
       "117313                     27.0  \n",
       "295137                     26.0  \n",
       "215199                      9.0  \n",
       "283973                     10.0  \n",
       "215195                      1.0  \n",
       "117301                      6.0  \n",
       "287598                     13.0  \n",
       "121518                      7.0  \n",
       "226686                     17.0  \n",
       "115004                     26.0  \n",
       "32045                       8.0  \n",
       "19450                       8.0  \n",
       "288171                     27.0  \n",
       "168878                      9.0  \n",
       "32059                      14.0  \n",
       "26594                      10.0  \n",
       "26584                       5.0  \n",
       "311785                     25.0  \n",
       "168875                      4.0  \n",
       "300840                     14.0  \n",
       "226683                      8.0  \n",
       "131551                     26.0  \n",
       "95550                       9.0  \n",
       "96519                      15.0  \n",
       "311771                      8.0  \n",
       "176863                     14.0  \n",
       "168627                     16.0  \n",
       "130411                      8.0  \n",
       "78488                      28.0  \n",
       "168891                     14.0  \n",
       "37382                      17.0  \n",
       "75526                      14.0  \n",
       "157674                      7.0  \n",
       "66761                      26.0  \n",
       "43468                       7.0  \n",
       "117272                      8.0  \n",
       "87183                      10.0  \n",
       "270488                     17.0  \n",
       "19421                       4.0  \n",
       "312233                     13.0  \n",
       "34805                      18.0  \n",
       "19482                      21.0  \n",
       "95457                      10.0  \n",
       "294712                      7.0  \n",
       "287618                     10.0  \n",
       "19431                       9.0  \n",
       "95470                      21.0  \n",
       "138736                     39.0  \n",
       "79911                      10.0  \n",
       "261780                     13.0  "
      ]
     },
     "execution_count": 58,
     "metadata": {},
     "output_type": "execute_result"
    }
   ],
   "source": [
    "igdb_data_merged_filtered_converted.sort_values(by=\"total_rating_count\", ascending=False).head(50)"
   ]
  },
  {
   "cell_type": "code",
   "execution_count": 15,
   "id": "4de8aeb0",
   "metadata": {},
   "outputs": [
    {
     "data": {
      "text/html": [
       "<div>\n",
       "<style scoped>\n",
       "    .dataframe tbody tr th:only-of-type {\n",
       "        vertical-align: middle;\n",
       "    }\n",
       "\n",
       "    .dataframe tbody tr th {\n",
       "        vertical-align: top;\n",
       "    }\n",
       "\n",
       "    .dataframe thead th {\n",
       "        text-align: right;\n",
       "    }\n",
       "</style>\n",
       "<table border=\"1\" class=\"dataframe\">\n",
       "  <thead>\n",
       "    <tr style=\"text-align: right;\">\n",
       "      <th></th>\n",
       "      <th>id</th>\n",
       "      <th>name</th>\n",
       "      <th>first_release_date</th>\n",
       "      <th>genres</th>\n",
       "      <th>rating</th>\n",
       "      <th>rating_count</th>\n",
       "      <th>total_rating</th>\n",
       "      <th>total_rating_count</th>\n",
       "      <th>aggregated_rating</th>\n",
       "      <th>aggregated_rating_count</th>\n",
       "    </tr>\n",
       "  </thead>\n",
       "  <tbody>\n",
       "    <tr>\n",
       "      <th>58976</th>\n",
       "      <td>33278</td>\n",
       "      <td>CounterAttack</td>\n",
       "      <td>2016-04-21</td>\n",
       "      <td>[Shooter, Adventure, Indie, Arcade]</td>\n",
       "      <td>80.000000</td>\n",
       "      <td>1.0</td>\n",
       "      <td>80.000000</td>\n",
       "      <td>1.0</td>\n",
       "      <td>NaN</td>\n",
       "      <td>NaN</td>\n",
       "    </tr>\n",
       "    <tr>\n",
       "      <th>58993</th>\n",
       "      <td>30643</td>\n",
       "      <td>Counter Fight</td>\n",
       "      <td>2016-11-14</td>\n",
       "      <td>[Simulator, Indie]</td>\n",
       "      <td>80.000000</td>\n",
       "      <td>0.0</td>\n",
       "      <td>80.000000</td>\n",
       "      <td>0.0</td>\n",
       "      <td>NaN</td>\n",
       "      <td>NaN</td>\n",
       "    </tr>\n",
       "    <tr>\n",
       "      <th>58997</th>\n",
       "      <td>40553</td>\n",
       "      <td>Counter Fight: Samurai Edition</td>\n",
       "      <td>2017-06-07</td>\n",
       "      <td>[Simulator, Indie]</td>\n",
       "      <td>70.000000</td>\n",
       "      <td>0.0</td>\n",
       "      <td>70.000000</td>\n",
       "      <td>0.0</td>\n",
       "      <td>NaN</td>\n",
       "      <td>NaN</td>\n",
       "    </tr>\n",
       "    <tr>\n",
       "      <th>59023</th>\n",
       "      <td>35703</td>\n",
       "      <td>Counter Spell</td>\n",
       "      <td>2015-10-05</td>\n",
       "      <td>[Role-playing (RPG), Indie]</td>\n",
       "      <td>80.000000</td>\n",
       "      <td>0.0</td>\n",
       "      <td>80.000000</td>\n",
       "      <td>0.0</td>\n",
       "      <td>NaN</td>\n",
       "      <td>NaN</td>\n",
       "    </tr>\n",
       "    <tr>\n",
       "      <th>59025</th>\n",
       "      <td>7612</td>\n",
       "      <td>CounterSpy</td>\n",
       "      <td>2014-08-19</td>\n",
       "      <td>[Shooter, Tactical, Indie]</td>\n",
       "      <td>75.046860</td>\n",
       "      <td>36.0</td>\n",
       "      <td>69.210930</td>\n",
       "      <td>44.0</td>\n",
       "      <td>63.375000</td>\n",
       "      <td>8.0</td>\n",
       "    </tr>\n",
       "    <tr>\n",
       "      <th>59028</th>\n",
       "      <td>242408</td>\n",
       "      <td>Counter-Strike 2</td>\n",
       "      <td>2023-09-27</td>\n",
       "      <td>[Shooter, Tactical]</td>\n",
       "      <td>67.185101</td>\n",
       "      <td>249.0</td>\n",
       "      <td>67.185101</td>\n",
       "      <td>249.0</td>\n",
       "      <td>NaN</td>\n",
       "      <td>NaN</td>\n",
       "    </tr>\n",
       "    <tr>\n",
       "      <th>59031</th>\n",
       "      <td>297</td>\n",
       "      <td>Counter-Strike: Condition Zero</td>\n",
       "      <td>2004-03-23</td>\n",
       "      <td>[Shooter]</td>\n",
       "      <td>74.174541</td>\n",
       "      <td>217.0</td>\n",
       "      <td>70.253937</td>\n",
       "      <td>220.0</td>\n",
       "      <td>66.333333</td>\n",
       "      <td>3.0</td>\n",
       "    </tr>\n",
       "    <tr>\n",
       "      <th>59032</th>\n",
       "      <td>93807</td>\n",
       "      <td>Counter-Strike: Condition Zero Deleted Scenes</td>\n",
       "      <td>2004-03-23</td>\n",
       "      <td>[Shooter]</td>\n",
       "      <td>64.784238</td>\n",
       "      <td>32.0</td>\n",
       "      <td>64.784238</td>\n",
       "      <td>32.0</td>\n",
       "      <td>NaN</td>\n",
       "      <td>NaN</td>\n",
       "    </tr>\n",
       "    <tr>\n",
       "      <th>59033</th>\n",
       "      <td>1372</td>\n",
       "      <td>Counter-Strike: Global Offensive</td>\n",
       "      <td>2012-08-21</td>\n",
       "      <td>[Shooter, Tactical]</td>\n",
       "      <td>81.813980</td>\n",
       "      <td>1245.0</td>\n",
       "      <td>81.406990</td>\n",
       "      <td>1250.0</td>\n",
       "      <td>81.000000</td>\n",
       "      <td>5.0</td>\n",
       "    </tr>\n",
       "    <tr>\n",
       "      <th>59037</th>\n",
       "      <td>16957</td>\n",
       "      <td>Counter-Strike Nexon</td>\n",
       "      <td>2014-10-07</td>\n",
       "      <td>[Shooter, Indie]</td>\n",
       "      <td>20.907759</td>\n",
       "      <td>22.0</td>\n",
       "      <td>20.907759</td>\n",
       "      <td>22.0</td>\n",
       "      <td>NaN</td>\n",
       "      <td>NaN</td>\n",
       "    </tr>\n",
       "    <tr>\n",
       "      <th>59044</th>\n",
       "      <td>307</td>\n",
       "      <td>Counter-Strike: Source</td>\n",
       "      <td>2004-10-07</td>\n",
       "      <td>[Shooter]</td>\n",
       "      <td>78.332530</td>\n",
       "      <td>499.0</td>\n",
       "      <td>84.166265</td>\n",
       "      <td>500.0</td>\n",
       "      <td>90.000000</td>\n",
       "      <td>1.0</td>\n",
       "    </tr>\n",
       "    <tr>\n",
       "      <th>59051</th>\n",
       "      <td>110697</td>\n",
       "      <td>Counter Terrorist Agency</td>\n",
       "      <td>2019-12-05</td>\n",
       "      <td>[Simulator, Strategy, Indie]</td>\n",
       "      <td>50.000000</td>\n",
       "      <td>3.0</td>\n",
       "      <td>50.000000</td>\n",
       "      <td>3.0</td>\n",
       "      <td>NaN</td>\n",
       "      <td>NaN</td>\n",
       "    </tr>\n",
       "    <tr>\n",
       "      <th>62610</th>\n",
       "      <td>34586</td>\n",
       "      <td>CTU: Counter Terrorism Unit</td>\n",
       "      <td>2016-04-22</td>\n",
       "      <td>[Shooter, Strategy]</td>\n",
       "      <td>40.000000</td>\n",
       "      <td>0.0</td>\n",
       "      <td>40.000000</td>\n",
       "      <td>0.0</td>\n",
       "      <td>NaN</td>\n",
       "      <td>NaN</td>\n",
       "    </tr>\n",
       "    <tr>\n",
       "      <th>112686</th>\n",
       "      <td>35691</td>\n",
       "      <td>Ghost Encounters: Deadwood - Collector's Edition</td>\n",
       "      <td>2015-03-13</td>\n",
       "      <td>[Adventure]</td>\n",
       "      <td>50.000000</td>\n",
       "      <td>1.0</td>\n",
       "      <td>50.000000</td>\n",
       "      <td>1.0</td>\n",
       "      <td>NaN</td>\n",
       "      <td>NaN</td>\n",
       "    </tr>\n",
       "    <tr>\n",
       "      <th>118002</th>\n",
       "      <td>44163</td>\n",
       "      <td>Graze Counter</td>\n",
       "      <td>2017-07-28</td>\n",
       "      <td>[Shooter, Indie, Arcade]</td>\n",
       "      <td>70.000000</td>\n",
       "      <td>1.0</td>\n",
       "      <td>70.000000</td>\n",
       "      <td>1.0</td>\n",
       "      <td>NaN</td>\n",
       "      <td>NaN</td>\n",
       "    </tr>\n",
       "    <tr>\n",
       "      <th>123488</th>\n",
       "      <td>15936</td>\n",
       "      <td>Harvest: Massive Encounter</td>\n",
       "      <td>2009-01-23</td>\n",
       "      <td>[Real Time Strategy (RTS), Strategy, Indie]</td>\n",
       "      <td>60.000000</td>\n",
       "      <td>0.0</td>\n",
       "      <td>60.000000</td>\n",
       "      <td>0.0</td>\n",
       "      <td>NaN</td>\n",
       "      <td>NaN</td>\n",
       "    </tr>\n",
       "    <tr>\n",
       "      <th>154240</th>\n",
       "      <td>80927</td>\n",
       "      <td>Last Encounter</td>\n",
       "      <td>2018-05-08</td>\n",
       "      <td>[Role-playing (RPG), Adventure, Indie]</td>\n",
       "      <td>70.000000</td>\n",
       "      <td>0.0</td>\n",
       "      <td>60.000000</td>\n",
       "      <td>1.0</td>\n",
       "      <td>50.000000</td>\n",
       "      <td>1.0</td>\n",
       "    </tr>\n",
       "    <tr>\n",
       "      <th>219502</th>\n",
       "      <td>33397</td>\n",
       "      <td>Pub Encounter</td>\n",
       "      <td>2016-04-12</td>\n",
       "      <td>[Adventure, Visual Novel]</td>\n",
       "      <td>80.000000</td>\n",
       "      <td>1.0</td>\n",
       "      <td>80.000000</td>\n",
       "      <td>1.0</td>\n",
       "      <td>NaN</td>\n",
       "      <td>NaN</td>\n",
       "    </tr>\n",
       "    <tr>\n",
       "      <th>228010</th>\n",
       "      <td>33818</td>\n",
       "      <td>Rencounter</td>\n",
       "      <td>2016-11-04</td>\n",
       "      <td>[Role-playing (RPG), Strategy, Indie]</td>\n",
       "      <td>50.000000</td>\n",
       "      <td>0.0</td>\n",
       "      <td>50.000000</td>\n",
       "      <td>0.0</td>\n",
       "      <td>NaN</td>\n",
       "      <td>NaN</td>\n",
       "    </tr>\n",
       "    <tr>\n",
       "      <th>242501</th>\n",
       "      <td>13180</td>\n",
       "      <td>Serious Sam HD: The First Encounter</td>\n",
       "      <td>2009-11-24</td>\n",
       "      <td>[Shooter, Indie]</td>\n",
       "      <td>75.381926</td>\n",
       "      <td>81.0</td>\n",
       "      <td>74.690963</td>\n",
       "      <td>83.0</td>\n",
       "      <td>74.000000</td>\n",
       "      <td>2.0</td>\n",
       "    </tr>\n",
       "    <tr>\n",
       "      <th>242502</th>\n",
       "      <td>13181</td>\n",
       "      <td>Serious Sam HD: The Second Encounter</td>\n",
       "      <td>2010-04-28</td>\n",
       "      <td>[Shooter, Indie]</td>\n",
       "      <td>73.493893</td>\n",
       "      <td>71.0</td>\n",
       "      <td>75.121947</td>\n",
       "      <td>73.0</td>\n",
       "      <td>76.750000</td>\n",
       "      <td>2.0</td>\n",
       "    </tr>\n",
       "    <tr>\n",
       "      <th>242506</th>\n",
       "      <td>4103</td>\n",
       "      <td>Serious Sam: Next Encounter</td>\n",
       "      <td>2004-04-12</td>\n",
       "      <td>[Shooter]</td>\n",
       "      <td>69.223429</td>\n",
       "      <td>7.0</td>\n",
       "      <td>64.611715</td>\n",
       "      <td>9.0</td>\n",
       "      <td>60.000000</td>\n",
       "      <td>2.0</td>\n",
       "    </tr>\n",
       "    <tr>\n",
       "      <th>242512</th>\n",
       "      <td>10819</td>\n",
       "      <td>Serious Sam: The Random Encounter</td>\n",
       "      <td>2011-10-24</td>\n",
       "      <td>[Shooter, Puzzle, Role-playing (RPG), Indie]</td>\n",
       "      <td>57.509655</td>\n",
       "      <td>8.0</td>\n",
       "      <td>64.588161</td>\n",
       "      <td>11.0</td>\n",
       "      <td>71.666667</td>\n",
       "      <td>3.0</td>\n",
       "    </tr>\n",
       "    <tr>\n",
       "      <th>242516</th>\n",
       "      <td>30620</td>\n",
       "      <td>Serious Sam VR: The First Encounter</td>\n",
       "      <td>2017-03-30</td>\n",
       "      <td>[Indie]</td>\n",
       "      <td>80.000000</td>\n",
       "      <td>1.0</td>\n",
       "      <td>80.000000</td>\n",
       "      <td>1.0</td>\n",
       "      <td>NaN</td>\n",
       "      <td>NaN</td>\n",
       "    </tr>\n",
       "    <tr>\n",
       "      <th>242518</th>\n",
       "      <td>91116</td>\n",
       "      <td>Serious Sam VR: The Second Encounter</td>\n",
       "      <td>2017-04-04</td>\n",
       "      <td>[Indie]</td>\n",
       "      <td>80.000000</td>\n",
       "      <td>0.0</td>\n",
       "      <td>80.000000</td>\n",
       "      <td>0.0</td>\n",
       "      <td>NaN</td>\n",
       "      <td>NaN</td>\n",
       "    </tr>\n",
       "  </tbody>\n",
       "</table>\n",
       "</div>"
      ],
      "text/plain": [
       "            id                                              name  \\\n",
       "58976    33278                                     CounterAttack   \n",
       "58993    30643                                     Counter Fight   \n",
       "58997    40553                    Counter Fight: Samurai Edition   \n",
       "59023    35703                                     Counter Spell   \n",
       "59025     7612                                        CounterSpy   \n",
       "59028   242408                                  Counter-Strike 2   \n",
       "59031      297                    Counter-Strike: Condition Zero   \n",
       "59032    93807     Counter-Strike: Condition Zero Deleted Scenes   \n",
       "59033     1372                  Counter-Strike: Global Offensive   \n",
       "59037    16957                              Counter-Strike Nexon   \n",
       "59044      307                            Counter-Strike: Source   \n",
       "59051   110697                          Counter Terrorist Agency   \n",
       "62610    34586                       CTU: Counter Terrorism Unit   \n",
       "112686   35691  Ghost Encounters: Deadwood - Collector's Edition   \n",
       "118002   44163                                     Graze Counter   \n",
       "123488   15936                        Harvest: Massive Encounter   \n",
       "154240   80927                                    Last Encounter   \n",
       "219502   33397                                     Pub Encounter   \n",
       "228010   33818                                        Rencounter   \n",
       "242501   13180               Serious Sam HD: The First Encounter   \n",
       "242502   13181              Serious Sam HD: The Second Encounter   \n",
       "242506    4103                       Serious Sam: Next Encounter   \n",
       "242512   10819                 Serious Sam: The Random Encounter   \n",
       "242516   30620               Serious Sam VR: The First Encounter   \n",
       "242518   91116              Serious Sam VR: The Second Encounter   \n",
       "\n",
       "       first_release_date                                        genres  \\\n",
       "58976          2016-04-21           [Shooter, Adventure, Indie, Arcade]   \n",
       "58993          2016-11-14                            [Simulator, Indie]   \n",
       "58997          2017-06-07                            [Simulator, Indie]   \n",
       "59023          2015-10-05                   [Role-playing (RPG), Indie]   \n",
       "59025          2014-08-19                    [Shooter, Tactical, Indie]   \n",
       "59028          2023-09-27                           [Shooter, Tactical]   \n",
       "59031          2004-03-23                                     [Shooter]   \n",
       "59032          2004-03-23                                     [Shooter]   \n",
       "59033          2012-08-21                           [Shooter, Tactical]   \n",
       "59037          2014-10-07                              [Shooter, Indie]   \n",
       "59044          2004-10-07                                     [Shooter]   \n",
       "59051          2019-12-05                  [Simulator, Strategy, Indie]   \n",
       "62610          2016-04-22                           [Shooter, Strategy]   \n",
       "112686         2015-03-13                                   [Adventure]   \n",
       "118002         2017-07-28                      [Shooter, Indie, Arcade]   \n",
       "123488         2009-01-23   [Real Time Strategy (RTS), Strategy, Indie]   \n",
       "154240         2018-05-08        [Role-playing (RPG), Adventure, Indie]   \n",
       "219502         2016-04-12                     [Adventure, Visual Novel]   \n",
       "228010         2016-11-04         [Role-playing (RPG), Strategy, Indie]   \n",
       "242501         2009-11-24                              [Shooter, Indie]   \n",
       "242502         2010-04-28                              [Shooter, Indie]   \n",
       "242506         2004-04-12                                     [Shooter]   \n",
       "242512         2011-10-24  [Shooter, Puzzle, Role-playing (RPG), Indie]   \n",
       "242516         2017-03-30                                       [Indie]   \n",
       "242518         2017-04-04                                       [Indie]   \n",
       "\n",
       "           rating  rating_count  total_rating  total_rating_count  \\\n",
       "58976   80.000000           1.0     80.000000                 1.0   \n",
       "58993   80.000000           0.0     80.000000                 0.0   \n",
       "58997   70.000000           0.0     70.000000                 0.0   \n",
       "59023   80.000000           0.0     80.000000                 0.0   \n",
       "59025   75.046860          36.0     69.210930                44.0   \n",
       "59028   67.185101         249.0     67.185101               249.0   \n",
       "59031   74.174541         217.0     70.253937               220.0   \n",
       "59032   64.784238          32.0     64.784238                32.0   \n",
       "59033   81.813980        1245.0     81.406990              1250.0   \n",
       "59037   20.907759          22.0     20.907759                22.0   \n",
       "59044   78.332530         499.0     84.166265               500.0   \n",
       "59051   50.000000           3.0     50.000000                 3.0   \n",
       "62610   40.000000           0.0     40.000000                 0.0   \n",
       "112686  50.000000           1.0     50.000000                 1.0   \n",
       "118002  70.000000           1.0     70.000000                 1.0   \n",
       "123488  60.000000           0.0     60.000000                 0.0   \n",
       "154240  70.000000           0.0     60.000000                 1.0   \n",
       "219502  80.000000           1.0     80.000000                 1.0   \n",
       "228010  50.000000           0.0     50.000000                 0.0   \n",
       "242501  75.381926          81.0     74.690963                83.0   \n",
       "242502  73.493893          71.0     75.121947                73.0   \n",
       "242506  69.223429           7.0     64.611715                 9.0   \n",
       "242512  57.509655           8.0     64.588161                11.0   \n",
       "242516  80.000000           1.0     80.000000                 1.0   \n",
       "242518  80.000000           0.0     80.000000                 0.0   \n",
       "\n",
       "        aggregated_rating  aggregated_rating_count  \n",
       "58976                 NaN                      NaN  \n",
       "58993                 NaN                      NaN  \n",
       "58997                 NaN                      NaN  \n",
       "59023                 NaN                      NaN  \n",
       "59025           63.375000                      8.0  \n",
       "59028                 NaN                      NaN  \n",
       "59031           66.333333                      3.0  \n",
       "59032                 NaN                      NaN  \n",
       "59033           81.000000                      5.0  \n",
       "59037                 NaN                      NaN  \n",
       "59044           90.000000                      1.0  \n",
       "59051                 NaN                      NaN  \n",
       "62610                 NaN                      NaN  \n",
       "112686                NaN                      NaN  \n",
       "118002                NaN                      NaN  \n",
       "123488                NaN                      NaN  \n",
       "154240          50.000000                      1.0  \n",
       "219502                NaN                      NaN  \n",
       "228010                NaN                      NaN  \n",
       "242501          74.000000                      2.0  \n",
       "242502          76.750000                      2.0  \n",
       "242506          60.000000                      2.0  \n",
       "242512          71.666667                      3.0  \n",
       "242516                NaN                      NaN  \n",
       "242518                NaN                      NaN  "
      ]
     },
     "execution_count": 15,
     "metadata": {},
     "output_type": "execute_result"
    }
   ],
   "source": [
    "games_with_counter = igdb_data_merged_filtered_converted[igdb_data_merged_filtered_converted[\"name\"].str.contains(\"counter\", case=False, na=False)]\n",
    "games_with_counter"
   ]
  },
  {
   "cell_type": "code",
   "execution_count": 16,
   "id": "84ca87e8",
   "metadata": {},
   "outputs": [],
   "source": [
    "# igdb_data_merged_filtered_converted.to_csv(\"../assets/IGDB_merged_cleaned.csv\", index=False)"
   ]
  },
  {
   "cell_type": "markdown",
   "id": "1a569708",
   "metadata": {},
   "source": [
    "### Twitch Viewership Data from TwitchTracker"
   ]
  },
  {
   "cell_type": "code",
   "execution_count": 17,
   "id": "f8f4d4ca",
   "metadata": {},
   "outputs": [],
   "source": [
    "cs_twitch_data = pd.read_csv(\"../assets/TwitchTracker Counter-Strike.csv\")\n",
    "cs2_twitch_data = pd.read_csv(\"../assets/TwitchTracker Counter-Strike 2.csv\")\n",
    "cscz_twitch_data = pd.read_csv(\"../assets/TwitchTracker Counter-Strike Condition Zero.csv\")\n",
    "css_twitch_data = pd.read_csv(\"../assets/TwitchTracker Counter-Strike Source.csv\")\n",
    "\n",
    "twitch_fields = ['Month', 'Avg Viewers', 'Gain', 'Peak Viewers', 'Avg Streams', 'Gain.1', 'Peak Streams', 'Hours Watched']"
   ]
  },
  {
   "cell_type": "code",
   "execution_count": 18,
   "id": "caf8b10b",
   "metadata": {},
   "outputs": [
    {
     "data": {
      "text/html": [
       "<div>\n",
       "<style scoped>\n",
       "    .dataframe tbody tr th:only-of-type {\n",
       "        vertical-align: middle;\n",
       "    }\n",
       "\n",
       "    .dataframe tbody tr th {\n",
       "        vertical-align: top;\n",
       "    }\n",
       "\n",
       "    .dataframe thead th {\n",
       "        text-align: right;\n",
       "    }\n",
       "</style>\n",
       "<table border=\"1\" class=\"dataframe\">\n",
       "  <thead>\n",
       "    <tr style=\"text-align: right;\">\n",
       "      <th></th>\n",
       "      <th>Month</th>\n",
       "      <th>Avg Viewers</th>\n",
       "      <th>Gain</th>\n",
       "      <th>Peak Viewers</th>\n",
       "      <th>Avg Streams</th>\n",
       "      <th>Gain.1</th>\n",
       "      <th>Peak Streams</th>\n",
       "      <th>Hours Watched</th>\n",
       "    </tr>\n",
       "  </thead>\n",
       "  <tbody>\n",
       "    <tr>\n",
       "      <th>0</th>\n",
       "      <td>Nov-16</td>\n",
       "      <td>18.0</td>\n",
       "      <td>-</td>\n",
       "      <td>164</td>\n",
       "      <td>2.0</td>\n",
       "      <td>-</td>\n",
       "      <td>7.0</td>\n",
       "      <td>3.2K</td>\n",
       "    </tr>\n",
       "    <tr>\n",
       "      <th>1</th>\n",
       "      <td>Dec-16</td>\n",
       "      <td>20.0</td>\n",
       "      <td>2</td>\n",
       "      <td>509</td>\n",
       "      <td>2.0</td>\n",
       "      <td>-</td>\n",
       "      <td>10.0</td>\n",
       "      <td>8.0K</td>\n",
       "    </tr>\n",
       "    <tr>\n",
       "      <th>2</th>\n",
       "      <td>Jan-17</td>\n",
       "      <td>19.0</td>\n",
       "      <td>-1</td>\n",
       "      <td>543</td>\n",
       "      <td>4.0</td>\n",
       "      <td>2</td>\n",
       "      <td>13.0</td>\n",
       "      <td>8.8K</td>\n",
       "    </tr>\n",
       "    <tr>\n",
       "      <th>3</th>\n",
       "      <td>Feb-17</td>\n",
       "      <td>30.0</td>\n",
       "      <td>11</td>\n",
       "      <td>5,782</td>\n",
       "      <td>2.0</td>\n",
       "      <td>-2</td>\n",
       "      <td>11.0</td>\n",
       "      <td>16.0K</td>\n",
       "    </tr>\n",
       "    <tr>\n",
       "      <th>4</th>\n",
       "      <td>Mar-17</td>\n",
       "      <td>18.0</td>\n",
       "      <td>-12</td>\n",
       "      <td>815</td>\n",
       "      <td>2.0</td>\n",
       "      <td>-</td>\n",
       "      <td>10.0</td>\n",
       "      <td>6.9K</td>\n",
       "    </tr>\n",
       "    <tr>\n",
       "      <th>...</th>\n",
       "      <td>...</td>\n",
       "      <td>...</td>\n",
       "      <td>...</td>\n",
       "      <td>...</td>\n",
       "      <td>...</td>\n",
       "      <td>...</td>\n",
       "      <td>...</td>\n",
       "      <td>...</td>\n",
       "    </tr>\n",
       "    <tr>\n",
       "      <th>316</th>\n",
       "      <td>Jan-17</td>\n",
       "      <td>18</td>\n",
       "      <td>-1</td>\n",
       "      <td>215</td>\n",
       "      <td>1</td>\n",
       "      <td>-</td>\n",
       "      <td>3</td>\n",
       "      <td>357</td>\n",
       "    </tr>\n",
       "    <tr>\n",
       "      <th>317</th>\n",
       "      <td>Dec-16</td>\n",
       "      <td>19</td>\n",
       "      <td>4</td>\n",
       "      <td>216</td>\n",
       "      <td>1</td>\n",
       "      <td>-</td>\n",
       "      <td>3</td>\n",
       "      <td>946</td>\n",
       "    </tr>\n",
       "    <tr>\n",
       "      <th>318</th>\n",
       "      <td>Nov-16</td>\n",
       "      <td>15</td>\n",
       "      <td>-</td>\n",
       "      <td>147</td>\n",
       "      <td>1</td>\n",
       "      <td>-</td>\n",
       "      <td>3</td>\n",
       "      <td>336</td>\n",
       "    </tr>\n",
       "    <tr>\n",
       "      <th>319</th>\n",
       "      <td>Aug-25</td>\n",
       "      <td>14</td>\n",
       "      <td>-</td>\n",
       "      <td>1,213</td>\n",
       "      <td>2</td>\n",
       "      <td>-</td>\n",
       "      <td>8</td>\n",
       "      <td>4.4K</td>\n",
       "    </tr>\n",
       "    <tr>\n",
       "      <th>320</th>\n",
       "      <td>Jul-25</td>\n",
       "      <td>14</td>\n",
       "      <td>-</td>\n",
       "      <td>139</td>\n",
       "      <td>2</td>\n",
       "      <td>-</td>\n",
       "      <td>5</td>\n",
       "      <td>661</td>\n",
       "    </tr>\n",
       "  </tbody>\n",
       "</table>\n",
       "<p>321 rows × 8 columns</p>\n",
       "</div>"
      ],
      "text/plain": [
       "      Month Avg Viewers Gain Peak Viewers Avg Streams Gain.1 Peak Streams  \\\n",
       "0    Nov-16        18.0    -          164         2.0      -          7.0   \n",
       "1    Dec-16        20.0    2          509         2.0      -         10.0   \n",
       "2    Jan-17        19.0   -1          543         4.0      2         13.0   \n",
       "3    Feb-17        30.0   11        5,782         2.0     -2         11.0   \n",
       "4    Mar-17        18.0  -12          815         2.0      -         10.0   \n",
       "..      ...         ...  ...          ...         ...    ...          ...   \n",
       "316  Jan-17          18   -1          215           1      -            3   \n",
       "317  Dec-16          19    4          216           1      -            3   \n",
       "318  Nov-16          15    -          147           1      -            3   \n",
       "319  Aug-25          14    -        1,213           2      -            8   \n",
       "320  Jul-25          14    -          139           2      -            5   \n",
       "\n",
       "    Hours Watched  \n",
       "0            3.2K  \n",
       "1            8.0K  \n",
       "2            8.8K  \n",
       "3           16.0K  \n",
       "4            6.9K  \n",
       "..            ...  \n",
       "316           357  \n",
       "317           946  \n",
       "318           336  \n",
       "319          4.4K  \n",
       "320           661  \n",
       "\n",
       "[321 rows x 8 columns]"
      ]
     },
     "execution_count": 18,
     "metadata": {},
     "output_type": "execute_result"
    }
   ],
   "source": [
    "twitch_data_merged = pd.concat([cs_twitch_data, cs2_twitch_data, cscz_twitch_data, css_twitch_data], ignore_index=True)\n",
    "twitch_data_merged = twitch_data_merged[twitch_fields]\n",
    "twitch_data_merged"
   ]
  },
  {
   "cell_type": "code",
   "execution_count": 19,
   "id": "d55ddf61",
   "metadata": {},
   "outputs": [
    {
     "data": {
      "text/html": [
       "<div>\n",
       "<style scoped>\n",
       "    .dataframe tbody tr th:only-of-type {\n",
       "        vertical-align: middle;\n",
       "    }\n",
       "\n",
       "    .dataframe tbody tr th {\n",
       "        vertical-align: top;\n",
       "    }\n",
       "\n",
       "    .dataframe thead th {\n",
       "        text-align: right;\n",
       "    }\n",
       "</style>\n",
       "<table border=\"1\" class=\"dataframe\">\n",
       "  <thead>\n",
       "    <tr style=\"text-align: right;\">\n",
       "      <th></th>\n",
       "      <th>Month</th>\n",
       "      <th>Avg Viewers</th>\n",
       "      <th>Gain</th>\n",
       "      <th>Peak Viewers</th>\n",
       "      <th>Avg Streams</th>\n",
       "      <th>Gain.1</th>\n",
       "      <th>Peak Streams</th>\n",
       "      <th>Hours Watched</th>\n",
       "    </tr>\n",
       "  </thead>\n",
       "  <tbody>\n",
       "    <tr>\n",
       "      <th>0</th>\n",
       "      <td>Nov-16</td>\n",
       "      <td>18.0</td>\n",
       "      <td>-</td>\n",
       "      <td>164</td>\n",
       "      <td>2.0</td>\n",
       "      <td>-</td>\n",
       "      <td>7.0</td>\n",
       "      <td>32000.0</td>\n",
       "    </tr>\n",
       "    <tr>\n",
       "      <th>1</th>\n",
       "      <td>Dec-16</td>\n",
       "      <td>20.0</td>\n",
       "      <td>2</td>\n",
       "      <td>509</td>\n",
       "      <td>2.0</td>\n",
       "      <td>-</td>\n",
       "      <td>10.0</td>\n",
       "      <td>80000.0</td>\n",
       "    </tr>\n",
       "    <tr>\n",
       "      <th>2</th>\n",
       "      <td>Jan-17</td>\n",
       "      <td>19.0</td>\n",
       "      <td>-1</td>\n",
       "      <td>543</td>\n",
       "      <td>4.0</td>\n",
       "      <td>2</td>\n",
       "      <td>13.0</td>\n",
       "      <td>88000.0</td>\n",
       "    </tr>\n",
       "    <tr>\n",
       "      <th>3</th>\n",
       "      <td>Feb-17</td>\n",
       "      <td>30.0</td>\n",
       "      <td>11</td>\n",
       "      <td>5,782</td>\n",
       "      <td>2.0</td>\n",
       "      <td>-2</td>\n",
       "      <td>11.0</td>\n",
       "      <td>160000.0</td>\n",
       "    </tr>\n",
       "    <tr>\n",
       "      <th>4</th>\n",
       "      <td>Mar-17</td>\n",
       "      <td>18.0</td>\n",
       "      <td>-12</td>\n",
       "      <td>815</td>\n",
       "      <td>2.0</td>\n",
       "      <td>-</td>\n",
       "      <td>10.0</td>\n",
       "      <td>69000.0</td>\n",
       "    </tr>\n",
       "    <tr>\n",
       "      <th>...</th>\n",
       "      <td>...</td>\n",
       "      <td>...</td>\n",
       "      <td>...</td>\n",
       "      <td>...</td>\n",
       "      <td>...</td>\n",
       "      <td>...</td>\n",
       "      <td>...</td>\n",
       "      <td>...</td>\n",
       "    </tr>\n",
       "    <tr>\n",
       "      <th>316</th>\n",
       "      <td>Jan-17</td>\n",
       "      <td>18</td>\n",
       "      <td>-1</td>\n",
       "      <td>215</td>\n",
       "      <td>1</td>\n",
       "      <td>-</td>\n",
       "      <td>3</td>\n",
       "      <td>357.0</td>\n",
       "    </tr>\n",
       "    <tr>\n",
       "      <th>317</th>\n",
       "      <td>Dec-16</td>\n",
       "      <td>19</td>\n",
       "      <td>4</td>\n",
       "      <td>216</td>\n",
       "      <td>1</td>\n",
       "      <td>-</td>\n",
       "      <td>3</td>\n",
       "      <td>946.0</td>\n",
       "    </tr>\n",
       "    <tr>\n",
       "      <th>318</th>\n",
       "      <td>Nov-16</td>\n",
       "      <td>15</td>\n",
       "      <td>-</td>\n",
       "      <td>147</td>\n",
       "      <td>1</td>\n",
       "      <td>-</td>\n",
       "      <td>3</td>\n",
       "      <td>336.0</td>\n",
       "    </tr>\n",
       "    <tr>\n",
       "      <th>319</th>\n",
       "      <td>Aug-25</td>\n",
       "      <td>14</td>\n",
       "      <td>-</td>\n",
       "      <td>1,213</td>\n",
       "      <td>2</td>\n",
       "      <td>-</td>\n",
       "      <td>8</td>\n",
       "      <td>44000.0</td>\n",
       "    </tr>\n",
       "    <tr>\n",
       "      <th>320</th>\n",
       "      <td>Jul-25</td>\n",
       "      <td>14</td>\n",
       "      <td>-</td>\n",
       "      <td>139</td>\n",
       "      <td>2</td>\n",
       "      <td>-</td>\n",
       "      <td>5</td>\n",
       "      <td>661.0</td>\n",
       "    </tr>\n",
       "  </tbody>\n",
       "</table>\n",
       "<p>321 rows × 8 columns</p>\n",
       "</div>"
      ],
      "text/plain": [
       "      Month Avg Viewers Gain Peak Viewers Avg Streams Gain.1 Peak Streams  \\\n",
       "0    Nov-16        18.0    -          164         2.0      -          7.0   \n",
       "1    Dec-16        20.0    2          509         2.0      -         10.0   \n",
       "2    Jan-17        19.0   -1          543         4.0      2         13.0   \n",
       "3    Feb-17        30.0   11        5,782         2.0     -2         11.0   \n",
       "4    Mar-17        18.0  -12          815         2.0      -         10.0   \n",
       "..      ...         ...  ...          ...         ...    ...          ...   \n",
       "316  Jan-17          18   -1          215           1      -            3   \n",
       "317  Dec-16          19    4          216           1      -            3   \n",
       "318  Nov-16          15    -          147           1      -            3   \n",
       "319  Aug-25          14    -        1,213           2      -            8   \n",
       "320  Jul-25          14    -          139           2      -            5   \n",
       "\n",
       "     Hours Watched  \n",
       "0          32000.0  \n",
       "1          80000.0  \n",
       "2          88000.0  \n",
       "3         160000.0  \n",
       "4          69000.0  \n",
       "..             ...  \n",
       "316          357.0  \n",
       "317          946.0  \n",
       "318          336.0  \n",
       "319        44000.0  \n",
       "320          661.0  \n",
       "\n",
       "[321 rows x 8 columns]"
      ]
     },
     "execution_count": 19,
     "metadata": {},
     "output_type": "execute_result"
    }
   ],
   "source": [
    "# Transforming Hours Watched format\n",
    "def convert_k(val):\n",
    "    if isinstance(val, str):\n",
    "        if val.endswith(\"K\"):\n",
    "            return float(val[:-1].replace(\".\", \"\"))* 1000\n",
    "        elif val.endswith(\"M\"):\n",
    "            return float(val[:-1].replace(\".\", \"\")) * 1000000\n",
    "    return float(val)\n",
    "\n",
    "twitch_data_merged[\"Hours Watched\"] = twitch_data_merged[\"Hours Watched\"].map(convert_k)\n",
    "twitch_data_merged"
   ]
  },
  {
   "cell_type": "code",
   "execution_count": 20,
   "id": "7073e3ca",
   "metadata": {},
   "outputs": [
    {
     "data": {
      "text/html": [
       "<div>\n",
       "<style scoped>\n",
       "    .dataframe tbody tr th:only-of-type {\n",
       "        vertical-align: middle;\n",
       "    }\n",
       "\n",
       "    .dataframe tbody tr th {\n",
       "        vertical-align: top;\n",
       "    }\n",
       "\n",
       "    .dataframe thead th {\n",
       "        text-align: right;\n",
       "    }\n",
       "</style>\n",
       "<table border=\"1\" class=\"dataframe\">\n",
       "  <thead>\n",
       "    <tr style=\"text-align: right;\">\n",
       "      <th></th>\n",
       "      <th>month</th>\n",
       "      <th>Avg Viewers</th>\n",
       "      <th>Gain</th>\n",
       "      <th>Peak Viewers</th>\n",
       "      <th>Avg Streams</th>\n",
       "      <th>Gain.1</th>\n",
       "      <th>Peak Streams</th>\n",
       "      <th>Hours Watched</th>\n",
       "    </tr>\n",
       "  </thead>\n",
       "  <tbody>\n",
       "    <tr>\n",
       "      <th>0</th>\n",
       "      <td>2016-11-01</td>\n",
       "      <td>18.0</td>\n",
       "      <td>0.0</td>\n",
       "      <td>164.0</td>\n",
       "      <td>2.0</td>\n",
       "      <td>0.0</td>\n",
       "      <td>7.0</td>\n",
       "      <td>32000.0</td>\n",
       "    </tr>\n",
       "    <tr>\n",
       "      <th>318</th>\n",
       "      <td>2016-11-01</td>\n",
       "      <td>15.0</td>\n",
       "      <td>0.0</td>\n",
       "      <td>147.0</td>\n",
       "      <td>1.0</td>\n",
       "      <td>0.0</td>\n",
       "      <td>3.0</td>\n",
       "      <td>336.0</td>\n",
       "    </tr>\n",
       "    <tr>\n",
       "      <th>212</th>\n",
       "      <td>2016-11-01</td>\n",
       "      <td>41089.0</td>\n",
       "      <td>0.0</td>\n",
       "      <td>236838.0</td>\n",
       "      <td>800.0</td>\n",
       "      <td>0.0</td>\n",
       "      <td>1723.0</td>\n",
       "      <td>305000000.0</td>\n",
       "    </tr>\n",
       "    <tr>\n",
       "      <th>211</th>\n",
       "      <td>2016-12-01</td>\n",
       "      <td>97356.0</td>\n",
       "      <td>56267.0</td>\n",
       "      <td>1153507.0</td>\n",
       "      <td>937.0</td>\n",
       "      <td>137.0</td>\n",
       "      <td>2172.0</td>\n",
       "      <td>721000000.0</td>\n",
       "    </tr>\n",
       "    <tr>\n",
       "      <th>1</th>\n",
       "      <td>2016-12-01</td>\n",
       "      <td>20.0</td>\n",
       "      <td>2.0</td>\n",
       "      <td>509.0</td>\n",
       "      <td>2.0</td>\n",
       "      <td>0.0</td>\n",
       "      <td>10.0</td>\n",
       "      <td>80000.0</td>\n",
       "    </tr>\n",
       "  </tbody>\n",
       "</table>\n",
       "</div>"
      ],
      "text/plain": [
       "         month  Avg Viewers     Gain  Peak Viewers  Avg Streams  Gain.1  \\\n",
       "0   2016-11-01         18.0      0.0         164.0          2.0     0.0   \n",
       "318 2016-11-01         15.0      0.0         147.0          1.0     0.0   \n",
       "212 2016-11-01      41089.0      0.0      236838.0        800.0     0.0   \n",
       "211 2016-12-01      97356.0  56267.0     1153507.0        937.0   137.0   \n",
       "1   2016-12-01         20.0      2.0         509.0          2.0     0.0   \n",
       "\n",
       "     Peak Streams  Hours Watched  \n",
       "0             7.0        32000.0  \n",
       "318           3.0          336.0  \n",
       "212        1723.0    305000000.0  \n",
       "211        2172.0    721000000.0  \n",
       "1            10.0        80000.0  "
      ]
     },
     "execution_count": 20,
     "metadata": {},
     "output_type": "execute_result"
    }
   ],
   "source": [
    "numeric_fields = [x for x in twitch_fields if x != \"Month\"]\n",
    "twitch_data_merged[numeric_fields] = twitch_data_merged[numeric_fields].replace({\",\": \"\", \"-\": \"0\"}, regex=True).astype(float)\n",
    "\n",
    "twitch_data_merged[\"Month\"] = pd.to_datetime(twitch_data_merged[\"Month\"], format=\"%b-%y\")\n",
    "twitch_data_merged = twitch_data_merged.sort_values(\"Month\")\n",
    "twitch_data_merged = twitch_data_merged.rename(columns={\"Month\": \"month\"})\n",
    "twitch_data_merged.head()"
   ]
  },
  {
   "cell_type": "code",
   "execution_count": 21,
   "metadata": {},
   "outputs": [
    {
     "data": {
      "text/html": [
       "<div>\n",
       "<style scoped>\n",
       "    .dataframe tbody tr th:only-of-type {\n",
       "        vertical-align: middle;\n",
       "    }\n",
       "\n",
       "    .dataframe tbody tr th {\n",
       "        vertical-align: top;\n",
       "    }\n",
       "\n",
       "    .dataframe thead th {\n",
       "        text-align: right;\n",
       "    }\n",
       "</style>\n",
       "<table border=\"1\" class=\"dataframe\">\n",
       "  <thead>\n",
       "    <tr style=\"text-align: right;\">\n",
       "      <th></th>\n",
       "      <th>month</th>\n",
       "      <th>Avg Viewers</th>\n",
       "      <th>Gain</th>\n",
       "      <th>Peak Viewers</th>\n",
       "      <th>Avg Streams</th>\n",
       "      <th>Gain.1</th>\n",
       "      <th>Peak Streams</th>\n",
       "      <th>Hours Watched</th>\n",
       "    </tr>\n",
       "  </thead>\n",
       "  <tbody>\n",
       "    <tr>\n",
       "      <th>244</th>\n",
       "      <td>2023-01-01</td>\n",
       "      <td>3.0</td>\n",
       "      <td>1.0</td>\n",
       "      <td>45.0</td>\n",
       "      <td>1.0</td>\n",
       "      <td>0.0</td>\n",
       "      <td>4.0</td>\n",
       "      <td>319.0</td>\n",
       "    </tr>\n",
       "    <tr>\n",
       "      <th>74</th>\n",
       "      <td>2023-01-01</td>\n",
       "      <td>131.0</td>\n",
       "      <td>15.0</td>\n",
       "      <td>2109.0</td>\n",
       "      <td>13.0</td>\n",
       "      <td>1.0</td>\n",
       "      <td>36.0</td>\n",
       "      <td>875000.0</td>\n",
       "    </tr>\n",
       "    <tr>\n",
       "      <th>138</th>\n",
       "      <td>2023-01-01</td>\n",
       "      <td>82042.0</td>\n",
       "      <td>29722.0</td>\n",
       "      <td>576269.0</td>\n",
       "      <td>1176.0</td>\n",
       "      <td>80.0</td>\n",
       "      <td>2245.0</td>\n",
       "      <td>545000000.0</td>\n",
       "    </tr>\n",
       "    <tr>\n",
       "      <th>75</th>\n",
       "      <td>2023-02-01</td>\n",
       "      <td>139.0</td>\n",
       "      <td>8.0</td>\n",
       "      <td>7415.0</td>\n",
       "      <td>13.0</td>\n",
       "      <td>0.0</td>\n",
       "      <td>38.0</td>\n",
       "      <td>103000.0</td>\n",
       "    </tr>\n",
       "    <tr>\n",
       "      <th>137</th>\n",
       "      <td>2023-02-01</td>\n",
       "      <td>88932.0</td>\n",
       "      <td>6890.0</td>\n",
       "      <td>883067.0</td>\n",
       "      <td>1340.0</td>\n",
       "      <td>164.0</td>\n",
       "      <td>2957.0</td>\n",
       "      <td>655000000.0</td>\n",
       "    </tr>\n",
       "    <tr>\n",
       "      <th>243</th>\n",
       "      <td>2023-02-01</td>\n",
       "      <td>2.0</td>\n",
       "      <td>1.0</td>\n",
       "      <td>30.0</td>\n",
       "      <td>1.0</td>\n",
       "      <td>0.0</td>\n",
       "      <td>3.0</td>\n",
       "      <td>412.0</td>\n",
       "    </tr>\n",
       "    <tr>\n",
       "      <th>136</th>\n",
       "      <td>2023-03-01</td>\n",
       "      <td>112611.0</td>\n",
       "      <td>23679.0</td>\n",
       "      <td>579500.0</td>\n",
       "      <td>1580.0</td>\n",
       "      <td>240.0</td>\n",
       "      <td>3049.0</td>\n",
       "      <td>808000000.0</td>\n",
       "    </tr>\n",
       "    <tr>\n",
       "      <th>242</th>\n",
       "      <td>2023-03-01</td>\n",
       "      <td>2.0</td>\n",
       "      <td>0.0</td>\n",
       "      <td>66.0</td>\n",
       "      <td>1.0</td>\n",
       "      <td>0.0</td>\n",
       "      <td>4.0</td>\n",
       "      <td>536.0</td>\n",
       "    </tr>\n",
       "    <tr>\n",
       "      <th>76</th>\n",
       "      <td>2023-03-01</td>\n",
       "      <td>152.0</td>\n",
       "      <td>13.0</td>\n",
       "      <td>9555.0</td>\n",
       "      <td>13.0</td>\n",
       "      <td>0.0</td>\n",
       "      <td>35.0</td>\n",
       "      <td>109000.0</td>\n",
       "    </tr>\n",
       "    <tr>\n",
       "      <th>77</th>\n",
       "      <td>2023-04-01</td>\n",
       "      <td>146.0</td>\n",
       "      <td>6.0</td>\n",
       "      <td>5348.0</td>\n",
       "      <td>13.0</td>\n",
       "      <td>0.0</td>\n",
       "      <td>33.0</td>\n",
       "      <td>109000.0</td>\n",
       "    </tr>\n",
       "    <tr>\n",
       "      <th>241</th>\n",
       "      <td>2023-04-01</td>\n",
       "      <td>2.0</td>\n",
       "      <td>0.0</td>\n",
       "      <td>80.0</td>\n",
       "      <td>1.0</td>\n",
       "      <td>0.0</td>\n",
       "      <td>3.0</td>\n",
       "      <td>530.0</td>\n",
       "    </tr>\n",
       "    <tr>\n",
       "      <th>135</th>\n",
       "      <td>2023-04-01</td>\n",
       "      <td>118590.0</td>\n",
       "      <td>5979.0</td>\n",
       "      <td>1082123.0</td>\n",
       "      <td>1444.0</td>\n",
       "      <td>136.0</td>\n",
       "      <td>2778.0</td>\n",
       "      <td>880000000.0</td>\n",
       "    </tr>\n",
       "    <tr>\n",
       "      <th>134</th>\n",
       "      <td>2023-05-01</td>\n",
       "      <td>62122.0</td>\n",
       "      <td>56468.0</td>\n",
       "      <td>451030.0</td>\n",
       "      <td>1332.0</td>\n",
       "      <td>112.0</td>\n",
       "      <td>2449.0</td>\n",
       "      <td>446000000.0</td>\n",
       "    </tr>\n",
       "    <tr>\n",
       "      <th>78</th>\n",
       "      <td>2023-05-01</td>\n",
       "      <td>735.0</td>\n",
       "      <td>589.0</td>\n",
       "      <td>38141.0</td>\n",
       "      <td>13.0</td>\n",
       "      <td>0.0</td>\n",
       "      <td>38.0</td>\n",
       "      <td>527000.0</td>\n",
       "    </tr>\n",
       "    <tr>\n",
       "      <th>240</th>\n",
       "      <td>2023-05-01</td>\n",
       "      <td>8.0</td>\n",
       "      <td>6.0</td>\n",
       "      <td>441.0</td>\n",
       "      <td>1.0</td>\n",
       "      <td>0.0</td>\n",
       "      <td>3.0</td>\n",
       "      <td>569.0</td>\n",
       "    </tr>\n",
       "    <tr>\n",
       "      <th>79</th>\n",
       "      <td>2023-06-01</td>\n",
       "      <td>143.0</td>\n",
       "      <td>592.0</td>\n",
       "      <td>4285.0</td>\n",
       "      <td>14.0</td>\n",
       "      <td>1.0</td>\n",
       "      <td>36.0</td>\n",
       "      <td>106000.0</td>\n",
       "    </tr>\n",
       "    <tr>\n",
       "      <th>239</th>\n",
       "      <td>2023-06-01</td>\n",
       "      <td>7.0</td>\n",
       "      <td>1.0</td>\n",
       "      <td>676.0</td>\n",
       "      <td>1.0</td>\n",
       "      <td>0.0</td>\n",
       "      <td>3.0</td>\n",
       "      <td>19000.0</td>\n",
       "    </tr>\n",
       "    <tr>\n",
       "      <th>133</th>\n",
       "      <td>2023-06-01</td>\n",
       "      <td>81072.0</td>\n",
       "      <td>18950.0</td>\n",
       "      <td>416721.0</td>\n",
       "      <td>1335.0</td>\n",
       "      <td>3.0</td>\n",
       "      <td>2340.0</td>\n",
       "      <td>599000000.0</td>\n",
       "    </tr>\n",
       "    <tr>\n",
       "      <th>238</th>\n",
       "      <td>2023-07-01</td>\n",
       "      <td>18.0</td>\n",
       "      <td>11.0</td>\n",
       "      <td>1390.0</td>\n",
       "      <td>1.0</td>\n",
       "      <td>0.0</td>\n",
       "      <td>3.0</td>\n",
       "      <td>29000.0</td>\n",
       "    </tr>\n",
       "    <tr>\n",
       "      <th>80</th>\n",
       "      <td>2023-07-01</td>\n",
       "      <td>116.0</td>\n",
       "      <td>27.0</td>\n",
       "      <td>1517.0</td>\n",
       "      <td>13.0</td>\n",
       "      <td>1.0</td>\n",
       "      <td>37.0</td>\n",
       "      <td>862000.0</td>\n",
       "    </tr>\n",
       "    <tr>\n",
       "      <th>132</th>\n",
       "      <td>2023-07-01</td>\n",
       "      <td>84887.0</td>\n",
       "      <td>3815.0</td>\n",
       "      <td>583641.0</td>\n",
       "      <td>1289.0</td>\n",
       "      <td>46.0</td>\n",
       "      <td>2356.0</td>\n",
       "      <td>628000000.0</td>\n",
       "    </tr>\n",
       "    <tr>\n",
       "      <th>81</th>\n",
       "      <td>2023-08-01</td>\n",
       "      <td>87.0</td>\n",
       "      <td>29.0</td>\n",
       "      <td>4205.0</td>\n",
       "      <td>13.0</td>\n",
       "      <td>0.0</td>\n",
       "      <td>605.0</td>\n",
       "      <td>625000.0</td>\n",
       "    </tr>\n",
       "    <tr>\n",
       "      <th>131</th>\n",
       "      <td>2023-08-01</td>\n",
       "      <td>62668.0</td>\n",
       "      <td>22219.0</td>\n",
       "      <td>501271.0</td>\n",
       "      <td>961.0</td>\n",
       "      <td>328.0</td>\n",
       "      <td>3947.0</td>\n",
       "      <td>449000000.0</td>\n",
       "    </tr>\n",
       "    <tr>\n",
       "      <th>237</th>\n",
       "      <td>2023-08-01</td>\n",
       "      <td>2.0</td>\n",
       "      <td>16.0</td>\n",
       "      <td>110.0</td>\n",
       "      <td>1.0</td>\n",
       "      <td>0.0</td>\n",
       "      <td>4.0</td>\n",
       "      <td>340.0</td>\n",
       "    </tr>\n",
       "    <tr>\n",
       "      <th>82</th>\n",
       "      <td>2023-09-01</td>\n",
       "      <td>89.0</td>\n",
       "      <td>2.0</td>\n",
       "      <td>2231.0</td>\n",
       "      <td>10.0</td>\n",
       "      <td>3.0</td>\n",
       "      <td>30.0</td>\n",
       "      <td>661000.0</td>\n",
       "    </tr>\n",
       "    <tr>\n",
       "      <th>236</th>\n",
       "      <td>2023-09-01</td>\n",
       "      <td>5.0</td>\n",
       "      <td>3.0</td>\n",
       "      <td>273.0</td>\n",
       "      <td>1.0</td>\n",
       "      <td>0.0</td>\n",
       "      <td>3.0</td>\n",
       "      <td>584.0</td>\n",
       "    </tr>\n",
       "    <tr>\n",
       "      <th>130</th>\n",
       "      <td>2023-09-01</td>\n",
       "      <td>86693.0</td>\n",
       "      <td>24025.0</td>\n",
       "      <td>543945.0</td>\n",
       "      <td>1762.0</td>\n",
       "      <td>801.0</td>\n",
       "      <td>3796.0</td>\n",
       "      <td>641000000.0</td>\n",
       "    </tr>\n",
       "    <tr>\n",
       "      <th>235</th>\n",
       "      <td>2023-10-01</td>\n",
       "      <td>4.0</td>\n",
       "      <td>1.0</td>\n",
       "      <td>59.0</td>\n",
       "      <td>1.0</td>\n",
       "      <td>0.0</td>\n",
       "      <td>3.0</td>\n",
       "      <td>481.0</td>\n",
       "    </tr>\n",
       "    <tr>\n",
       "      <th>129</th>\n",
       "      <td>2023-10-01</td>\n",
       "      <td>61041.0</td>\n",
       "      <td>25652.0</td>\n",
       "      <td>372214.0</td>\n",
       "      <td>1255.0</td>\n",
       "      <td>507.0</td>\n",
       "      <td>2433.0</td>\n",
       "      <td>438000000.0</td>\n",
       "    </tr>\n",
       "    <tr>\n",
       "      <th>83</th>\n",
       "      <td>2023-10-01</td>\n",
       "      <td>133.0</td>\n",
       "      <td>44.0</td>\n",
       "      <td>11690.0</td>\n",
       "      <td>11.0</td>\n",
       "      <td>1.0</td>\n",
       "      <td>26.0</td>\n",
       "      <td>961000.0</td>\n",
       "    </tr>\n",
       "    <tr>\n",
       "      <th>84</th>\n",
       "      <td>2023-11-01</td>\n",
       "      <td>107.0</td>\n",
       "      <td>26.0</td>\n",
       "      <td>6777.0</td>\n",
       "      <td>11.0</td>\n",
       "      <td>0.0</td>\n",
       "      <td>31.0</td>\n",
       "      <td>795000.0</td>\n",
       "    </tr>\n",
       "    <tr>\n",
       "      <th>234</th>\n",
       "      <td>2023-11-01</td>\n",
       "      <td>11.0</td>\n",
       "      <td>7.0</td>\n",
       "      <td>405.0</td>\n",
       "      <td>1.0</td>\n",
       "      <td>0.0</td>\n",
       "      <td>3.0</td>\n",
       "      <td>24000.0</td>\n",
       "    </tr>\n",
       "    <tr>\n",
       "      <th>128</th>\n",
       "      <td>2023-11-01</td>\n",
       "      <td>50032.0</td>\n",
       "      <td>11009.0</td>\n",
       "      <td>294928.0</td>\n",
       "      <td>1097.0</td>\n",
       "      <td>158.0</td>\n",
       "      <td>2299.0</td>\n",
       "      <td>370000000.0</td>\n",
       "    </tr>\n",
       "    <tr>\n",
       "      <th>85</th>\n",
       "      <td>2023-12-01</td>\n",
       "      <td>132.0</td>\n",
       "      <td>25.0</td>\n",
       "      <td>4468.0</td>\n",
       "      <td>13.0</td>\n",
       "      <td>2.0</td>\n",
       "      <td>32.0</td>\n",
       "      <td>967000.0</td>\n",
       "    </tr>\n",
       "    <tr>\n",
       "      <th>127</th>\n",
       "      <td>2023-12-01</td>\n",
       "      <td>70938.0</td>\n",
       "      <td>20906.0</td>\n",
       "      <td>301303.0</td>\n",
       "      <td>1247.0</td>\n",
       "      <td>150.0</td>\n",
       "      <td>2468.0</td>\n",
       "      <td>515000000.0</td>\n",
       "    </tr>\n",
       "    <tr>\n",
       "      <th>233</th>\n",
       "      <td>2023-12-01</td>\n",
       "      <td>2.0</td>\n",
       "      <td>9.0</td>\n",
       "      <td>50.0</td>\n",
       "      <td>1.0</td>\n",
       "      <td>0.0</td>\n",
       "      <td>3.0</td>\n",
       "      <td>301.0</td>\n",
       "    </tr>\n",
       "  </tbody>\n",
       "</table>\n",
       "</div>"
      ],
      "text/plain": [
       "         month  Avg Viewers     Gain  Peak Viewers  Avg Streams  Gain.1  \\\n",
       "244 2023-01-01          3.0      1.0          45.0          1.0     0.0   \n",
       "74  2023-01-01        131.0     15.0        2109.0         13.0     1.0   \n",
       "138 2023-01-01      82042.0  29722.0      576269.0       1176.0    80.0   \n",
       "75  2023-02-01        139.0      8.0        7415.0         13.0     0.0   \n",
       "137 2023-02-01      88932.0   6890.0      883067.0       1340.0   164.0   \n",
       "243 2023-02-01          2.0      1.0          30.0          1.0     0.0   \n",
       "136 2023-03-01     112611.0  23679.0      579500.0       1580.0   240.0   \n",
       "242 2023-03-01          2.0      0.0          66.0          1.0     0.0   \n",
       "76  2023-03-01        152.0     13.0        9555.0         13.0     0.0   \n",
       "77  2023-04-01        146.0      6.0        5348.0         13.0     0.0   \n",
       "241 2023-04-01          2.0      0.0          80.0          1.0     0.0   \n",
       "135 2023-04-01     118590.0   5979.0     1082123.0       1444.0   136.0   \n",
       "134 2023-05-01      62122.0  56468.0      451030.0       1332.0   112.0   \n",
       "78  2023-05-01        735.0    589.0       38141.0         13.0     0.0   \n",
       "240 2023-05-01          8.0      6.0         441.0          1.0     0.0   \n",
       "79  2023-06-01        143.0    592.0        4285.0         14.0     1.0   \n",
       "239 2023-06-01          7.0      1.0         676.0          1.0     0.0   \n",
       "133 2023-06-01      81072.0  18950.0      416721.0       1335.0     3.0   \n",
       "238 2023-07-01         18.0     11.0        1390.0          1.0     0.0   \n",
       "80  2023-07-01        116.0     27.0        1517.0         13.0     1.0   \n",
       "132 2023-07-01      84887.0   3815.0      583641.0       1289.0    46.0   \n",
       "81  2023-08-01         87.0     29.0        4205.0         13.0     0.0   \n",
       "131 2023-08-01      62668.0  22219.0      501271.0        961.0   328.0   \n",
       "237 2023-08-01          2.0     16.0         110.0          1.0     0.0   \n",
       "82  2023-09-01         89.0      2.0        2231.0         10.0     3.0   \n",
       "236 2023-09-01          5.0      3.0         273.0          1.0     0.0   \n",
       "130 2023-09-01      86693.0  24025.0      543945.0       1762.0   801.0   \n",
       "235 2023-10-01          4.0      1.0          59.0          1.0     0.0   \n",
       "129 2023-10-01      61041.0  25652.0      372214.0       1255.0   507.0   \n",
       "83  2023-10-01        133.0     44.0       11690.0         11.0     1.0   \n",
       "84  2023-11-01        107.0     26.0        6777.0         11.0     0.0   \n",
       "234 2023-11-01         11.0      7.0         405.0          1.0     0.0   \n",
       "128 2023-11-01      50032.0  11009.0      294928.0       1097.0   158.0   \n",
       "85  2023-12-01        132.0     25.0        4468.0         13.0     2.0   \n",
       "127 2023-12-01      70938.0  20906.0      301303.0       1247.0   150.0   \n",
       "233 2023-12-01          2.0      9.0          50.0          1.0     0.0   \n",
       "\n",
       "     Peak Streams  Hours Watched  \n",
       "244           4.0          319.0  \n",
       "74           36.0       875000.0  \n",
       "138        2245.0    545000000.0  \n",
       "75           38.0       103000.0  \n",
       "137        2957.0    655000000.0  \n",
       "243           3.0          412.0  \n",
       "136        3049.0    808000000.0  \n",
       "242           4.0          536.0  \n",
       "76           35.0       109000.0  \n",
       "77           33.0       109000.0  \n",
       "241           3.0          530.0  \n",
       "135        2778.0    880000000.0  \n",
       "134        2449.0    446000000.0  \n",
       "78           38.0       527000.0  \n",
       "240           3.0          569.0  \n",
       "79           36.0       106000.0  \n",
       "239           3.0        19000.0  \n",
       "133        2340.0    599000000.0  \n",
       "238           3.0        29000.0  \n",
       "80           37.0       862000.0  \n",
       "132        2356.0    628000000.0  \n",
       "81          605.0       625000.0  \n",
       "131        3947.0    449000000.0  \n",
       "237           4.0          340.0  \n",
       "82           30.0       661000.0  \n",
       "236           3.0          584.0  \n",
       "130        3796.0    641000000.0  \n",
       "235           3.0          481.0  \n",
       "129        2433.0    438000000.0  \n",
       "83           26.0       961000.0  \n",
       "84           31.0       795000.0  \n",
       "234           3.0        24000.0  \n",
       "128        2299.0    370000000.0  \n",
       "85           32.0       967000.0  \n",
       "127        2468.0    515000000.0  \n",
       "233           3.0          301.0  "
      ]
     },
     "execution_count": 21,
     "metadata": {},
     "output_type": "execute_result"
    }
   ],
   "source": [
    "twitch_data_merged[twitch_data_merged['month'].dt.year == 2023]"
   ]
  },
  {
   "cell_type": "code",
   "execution_count": 22,
   "id": "854cdf2a",
   "metadata": {},
   "outputs": [
    {
     "data": {
      "text/html": [
       "<div>\n",
       "<style scoped>\n",
       "    .dataframe tbody tr th:only-of-type {\n",
       "        vertical-align: middle;\n",
       "    }\n",
       "\n",
       "    .dataframe tbody tr th {\n",
       "        vertical-align: top;\n",
       "    }\n",
       "\n",
       "    .dataframe thead th {\n",
       "        text-align: right;\n",
       "    }\n",
       "</style>\n",
       "<table border=\"1\" class=\"dataframe\">\n",
       "  <thead>\n",
       "    <tr style=\"text-align: right;\">\n",
       "      <th></th>\n",
       "      <th>month</th>\n",
       "      <th>Avg Viewers</th>\n",
       "      <th>Gain</th>\n",
       "      <th>Peak Viewers</th>\n",
       "      <th>Avg Streams</th>\n",
       "      <th>Gain.1</th>\n",
       "      <th>Peak Streams</th>\n",
       "      <th>Hours Watched</th>\n",
       "    </tr>\n",
       "  </thead>\n",
       "  <tbody>\n",
       "    <tr>\n",
       "      <th>0</th>\n",
       "      <td>2016-11-01</td>\n",
       "      <td>41122.0</td>\n",
       "      <td>0.0</td>\n",
       "      <td>237149.0</td>\n",
       "      <td>803.0</td>\n",
       "      <td>0.0</td>\n",
       "      <td>1733.0</td>\n",
       "      <td>305032336.0</td>\n",
       "    </tr>\n",
       "    <tr>\n",
       "      <th>1</th>\n",
       "      <td>2016-12-01</td>\n",
       "      <td>97395.0</td>\n",
       "      <td>56273.0</td>\n",
       "      <td>1154232.0</td>\n",
       "      <td>940.0</td>\n",
       "      <td>137.0</td>\n",
       "      <td>2185.0</td>\n",
       "      <td>721080946.0</td>\n",
       "    </tr>\n",
       "    <tr>\n",
       "      <th>2</th>\n",
       "      <td>2017-01-01</td>\n",
       "      <td>60177.0</td>\n",
       "      <td>37218.0</td>\n",
       "      <td>461337.0</td>\n",
       "      <td>1014.0</td>\n",
       "      <td>74.0</td>\n",
       "      <td>2097.0</td>\n",
       "      <td>404088357.0</td>\n",
       "    </tr>\n",
       "    <tr>\n",
       "      <th>3</th>\n",
       "      <td>2017-02-01</td>\n",
       "      <td>49606.0</td>\n",
       "      <td>10593.0</td>\n",
       "      <td>512456.0</td>\n",
       "      <td>946.0</td>\n",
       "      <td>68.0</td>\n",
       "      <td>2100.0</td>\n",
       "      <td>368160397.0</td>\n",
       "    </tr>\n",
       "    <tr>\n",
       "      <th>4</th>\n",
       "      <td>2017-03-01</td>\n",
       "      <td>50868.0</td>\n",
       "      <td>1286.0</td>\n",
       "      <td>418276.0</td>\n",
       "      <td>879.0</td>\n",
       "      <td>69.0</td>\n",
       "      <td>1830.0</td>\n",
       "      <td>364069433.0</td>\n",
       "    </tr>\n",
       "    <tr>\n",
       "      <th>...</th>\n",
       "      <td>...</td>\n",
       "      <td>...</td>\n",
       "      <td>...</td>\n",
       "      <td>...</td>\n",
       "      <td>...</td>\n",
       "      <td>...</td>\n",
       "      <td>...</td>\n",
       "      <td>...</td>\n",
       "    </tr>\n",
       "    <tr>\n",
       "      <th>101</th>\n",
       "      <td>2025-04-01</td>\n",
       "      <td>99822.0</td>\n",
       "      <td>12660.0</td>\n",
       "      <td>722031.0</td>\n",
       "      <td>1601.0</td>\n",
       "      <td>80.0</td>\n",
       "      <td>3272.0</td>\n",
       "      <td>741902172.0</td>\n",
       "    </tr>\n",
       "    <tr>\n",
       "      <th>102</th>\n",
       "      <td>2025-05-01</td>\n",
       "      <td>117782.0</td>\n",
       "      <td>18074.0</td>\n",
       "      <td>1146827.0</td>\n",
       "      <td>1481.0</td>\n",
       "      <td>120.0</td>\n",
       "      <td>3053.0</td>\n",
       "      <td>848466647.0</td>\n",
       "    </tr>\n",
       "    <tr>\n",
       "      <th>103</th>\n",
       "      <td>2025-06-01</td>\n",
       "      <td>86343.0</td>\n",
       "      <td>31463.0</td>\n",
       "      <td>556026.0</td>\n",
       "      <td>1519.0</td>\n",
       "      <td>38.0</td>\n",
       "      <td>2998.0</td>\n",
       "      <td>642565317.0</td>\n",
       "    </tr>\n",
       "    <tr>\n",
       "      <th>104</th>\n",
       "      <td>2025-07-01</td>\n",
       "      <td>91794.0</td>\n",
       "      <td>5449.0</td>\n",
       "      <td>734295.0</td>\n",
       "      <td>1558.0</td>\n",
       "      <td>37.0</td>\n",
       "      <td>3044.0</td>\n",
       "      <td>682532909.0</td>\n",
       "    </tr>\n",
       "    <tr>\n",
       "      <th>105</th>\n",
       "      <td>2025-08-01</td>\n",
       "      <td>64286.0</td>\n",
       "      <td>27510.0</td>\n",
       "      <td>445214.0</td>\n",
       "      <td>1447.0</td>\n",
       "      <td>111.0</td>\n",
       "      <td>2952.0</td>\n",
       "      <td>154211193.0</td>\n",
       "    </tr>\n",
       "  </tbody>\n",
       "</table>\n",
       "<p>106 rows × 8 columns</p>\n",
       "</div>"
      ],
      "text/plain": [
       "         month  Avg Viewers     Gain  Peak Viewers  Avg Streams  Gain.1  \\\n",
       "0   2016-11-01      41122.0      0.0      237149.0        803.0     0.0   \n",
       "1   2016-12-01      97395.0  56273.0     1154232.0        940.0   137.0   \n",
       "2   2017-01-01      60177.0  37218.0      461337.0       1014.0    74.0   \n",
       "3   2017-02-01      49606.0  10593.0      512456.0        946.0    68.0   \n",
       "4   2017-03-01      50868.0   1286.0      418276.0        879.0    69.0   \n",
       "..         ...          ...      ...           ...          ...     ...   \n",
       "101 2025-04-01      99822.0  12660.0      722031.0       1601.0    80.0   \n",
       "102 2025-05-01     117782.0  18074.0     1146827.0       1481.0   120.0   \n",
       "103 2025-06-01      86343.0  31463.0      556026.0       1519.0    38.0   \n",
       "104 2025-07-01      91794.0   5449.0      734295.0       1558.0    37.0   \n",
       "105 2025-08-01      64286.0  27510.0      445214.0       1447.0   111.0   \n",
       "\n",
       "     Peak Streams  Hours Watched  \n",
       "0          1733.0    305032336.0  \n",
       "1          2185.0    721080946.0  \n",
       "2          2097.0    404088357.0  \n",
       "3          2100.0    368160397.0  \n",
       "4          1830.0    364069433.0  \n",
       "..            ...            ...  \n",
       "101        3272.0    741902172.0  \n",
       "102        3053.0    848466647.0  \n",
       "103        2998.0    642565317.0  \n",
       "104        3044.0    682532909.0  \n",
       "105        2952.0    154211193.0  \n",
       "\n",
       "[106 rows x 8 columns]"
      ]
     },
     "execution_count": 22,
     "metadata": {},
     "output_type": "execute_result"
    }
   ],
   "source": [
    "twitch_data_merged_grouped = twitch_data_merged.groupby(twitch_data_merged.columns[0]).sum()\n",
    "twitch_data_merged_grouped = twitch_data_merged_grouped.reset_index()\n",
    "# twitch_data_merged_grouped.to_csv(\"../assets/TwitchTracker_merged_cleaned.csv\", encoding=\"utf-8\")\n",
    "twitch_data_merged_grouped"
   ]
  },
  {
   "cell_type": "markdown",
   "id": "fa48fc74",
   "metadata": {},
   "source": [
    "### Youtube Video Data from Youtube Data API"
   ]
  },
  {
   "cell_type": "code",
   "execution_count": 23,
   "id": "92aec4c6",
   "metadata": {},
   "outputs": [],
   "source": [
    "youtube_data = pd.read_csv(\"../assets/yt_counter_strike_monthly_top50.csv\")"
   ]
  },
  {
   "cell_type": "code",
   "execution_count": 24,
   "id": "b0241367",
   "metadata": {},
   "outputs": [
    {
     "name": "stderr",
     "output_type": "stream",
     "text": [
      "/var/folders/lc/9_dv_jhs555875nqm1qhl9tr0000gn/T/ipykernel_33500/2895940128.py:6: UserWarning: Converting to PeriodArray/Index representation will drop timezone information.\n",
      "  youtube_data[\"month\"] = pd.to_datetime(youtube_data[\"month\"], utc=True).dt.to_period(\"M\").dt.to_timestamp()\n"
     ]
    },
    {
     "data": {
      "text/html": [
       "<div>\n",
       "<style scoped>\n",
       "    .dataframe tbody tr th:only-of-type {\n",
       "        vertical-align: middle;\n",
       "    }\n",
       "\n",
       "    .dataframe tbody tr th {\n",
       "        vertical-align: top;\n",
       "    }\n",
       "\n",
       "    .dataframe thead th {\n",
       "        text-align: right;\n",
       "    }\n",
       "</style>\n",
       "<table border=\"1\" class=\"dataframe\">\n",
       "  <thead>\n",
       "    <tr style=\"text-align: right;\">\n",
       "      <th></th>\n",
       "      <th>month</th>\n",
       "      <th>title</th>\n",
       "      <th>description</th>\n",
       "      <th>viewCount</th>\n",
       "      <th>likeCount</th>\n",
       "      <th>commentCount</th>\n",
       "      <th>favoriteCount</th>\n",
       "      <th>categoryId</th>\n",
       "    </tr>\n",
       "  </thead>\n",
       "  <tbody>\n",
       "    <tr>\n",
       "      <th>2363</th>\n",
       "      <td>2009-10-01</td>\n",
       "      <td>Counter-Strike - DE dust2 HD</td>\n",
       "      <td>Based on the game, Counter-Strike: Source, thi...</td>\n",
       "      <td>123912746</td>\n",
       "      <td>1514852.0</td>\n",
       "      <td>99377.0</td>\n",
       "      <td>0</td>\n",
       "      <td>1</td>\n",
       "    </tr>\n",
       "    <tr>\n",
       "      <th>8312</th>\n",
       "      <td>2019-09-01</td>\n",
       "      <td>Counter-Strike: Zombie Escape Mod - ze_THELOST...</td>\n",
       "      <td>Counter-Strike 1.6: ze thelostworld bf WIN (4K...</td>\n",
       "      <td>43609790</td>\n",
       "      <td>203296.0</td>\n",
       "      <td>1587.0</td>\n",
       "      <td>0</td>\n",
       "      <td>20</td>\n",
       "    </tr>\n",
       "    <tr>\n",
       "      <th>6462</th>\n",
       "      <td>2016-08-01</td>\n",
       "      <td>Counter-Strike: Zombie Escape Mod - ze_Jurassi...</td>\n",
       "      <td>Counter-Strike 1.6: ze_Jurassicpark_v2 WIN (10...</td>\n",
       "      <td>40556603</td>\n",
       "      <td>138034.0</td>\n",
       "      <td>1742.0</td>\n",
       "      <td>0</td>\n",
       "      <td>20</td>\n",
       "    </tr>\n",
       "    <tr>\n",
       "      <th>7562</th>\n",
       "      <td>2018-06-01</td>\n",
       "      <td>Ответный удар - Мультики про танки</td>\n",
       "      <td>Мультик про танки по мотивам игры World of Tan...</td>\n",
       "      <td>37482544</td>\n",
       "      <td>122935.0</td>\n",
       "      <td>1941.0</td>\n",
       "      <td>0</td>\n",
       "      <td>20</td>\n",
       "    </tr>\n",
       "    <tr>\n",
       "      <th>8412</th>\n",
       "      <td>2019-11-01</td>\n",
       "      <td>Counter Attack Gun Strike Special Ops Shooting...</td>\n",
       "      <td>Counter Attack Gun Strike Special Ops Shooting...</td>\n",
       "      <td>35893795</td>\n",
       "      <td>104716.0</td>\n",
       "      <td>845.0</td>\n",
       "      <td>0</td>\n",
       "      <td>20</td>\n",
       "    </tr>\n",
       "  </tbody>\n",
       "</table>\n",
       "</div>"
      ],
      "text/plain": [
       "          month                                              title  \\\n",
       "2363 2009-10-01                       Counter-Strike - DE dust2 HD   \n",
       "8312 2019-09-01  Counter-Strike: Zombie Escape Mod - ze_THELOST...   \n",
       "6462 2016-08-01  Counter-Strike: Zombie Escape Mod - ze_Jurassi...   \n",
       "7562 2018-06-01                 Ответный удар - Мультики про танки   \n",
       "8412 2019-11-01  Counter Attack Gun Strike Special Ops Shooting...   \n",
       "\n",
       "                                            description  viewCount  likeCount  \\\n",
       "2363  Based on the game, Counter-Strike: Source, thi...  123912746  1514852.0   \n",
       "8312  Counter-Strike 1.6: ze thelostworld bf WIN (4K...   43609790   203296.0   \n",
       "6462  Counter-Strike 1.6: ze_Jurassicpark_v2 WIN (10...   40556603   138034.0   \n",
       "7562  Мультик про танки по мотивам игры World of Tan...   37482544   122935.0   \n",
       "8412  Counter Attack Gun Strike Special Ops Shooting...   35893795   104716.0   \n",
       "\n",
       "      commentCount  favoriteCount  categoryId  \n",
       "2363       99377.0              0           1  \n",
       "8312        1587.0              0          20  \n",
       "6462        1742.0              0          20  \n",
       "7562        1941.0              0          20  \n",
       "8412         845.0              0          20  "
      ]
     },
     "execution_count": 24,
     "metadata": {},
     "output_type": "execute_result"
    }
   ],
   "source": [
    "youtube_data = youtube_data.drop(columns=[\"month\"], errors=\"ignore\")\n",
    "youtube_data = youtube_data.rename(columns={\"publishedAt\": \"month\"})\n",
    "\n",
    "youtube_fields = ['month', 'title', 'description', 'viewCount', 'likeCount', 'commentCount', 'favoriteCount', 'categoryId']\n",
    "youtube_data = youtube_data[youtube_fields]\n",
    "youtube_data[\"month\"] = pd.to_datetime(youtube_data[\"month\"], utc=True).dt.to_period(\"M\").dt.to_timestamp()\n",
    "\n",
    "youtube_data = youtube_data.sort_values(by=\"viewCount\", ascending=False)\n",
    "\n",
    "youtube_data['viewCount'] = youtube_data['viewCount'].astype(\"Int64\")\n",
    "youtube_data = youtube_data[1:]\n",
    "youtube_data.head()"
   ]
  },
  {
   "cell_type": "code",
   "execution_count": 25,
   "id": "d4739818",
   "metadata": {},
   "outputs": [],
   "source": [
    "# youtube_data.to_csv(\"../assets/Youtube_merged_cleaned.csv\", encoding=\"utf-8\")"
   ]
  },
  {
   "cell_type": "code",
   "execution_count": 26,
   "id": "fd7c3bc2",
   "metadata": {},
   "outputs": [
    {
     "data": {
      "text/html": [
       "<div>\n",
       "<style scoped>\n",
       "    .dataframe tbody tr th:only-of-type {\n",
       "        vertical-align: middle;\n",
       "    }\n",
       "\n",
       "    .dataframe tbody tr th {\n",
       "        vertical-align: top;\n",
       "    }\n",
       "\n",
       "    .dataframe thead th {\n",
       "        text-align: right;\n",
       "    }\n",
       "</style>\n",
       "<table border=\"1\" class=\"dataframe\">\n",
       "  <thead>\n",
       "    <tr style=\"text-align: right;\">\n",
       "      <th></th>\n",
       "      <th>month</th>\n",
       "      <th>title</th>\n",
       "      <th>description</th>\n",
       "      <th>viewCount</th>\n",
       "      <th>likeCount</th>\n",
       "      <th>commentCount</th>\n",
       "      <th>favoriteCount</th>\n",
       "      <th>categoryId</th>\n",
       "    </tr>\n",
       "  </thead>\n",
       "  <tbody>\n",
       "    <tr>\n",
       "      <th>61</th>\n",
       "      <td>2005-11-01</td>\n",
       "      <td>Nikeny64's Montage</td>\n",
       "      <td>nikeny64's montage</td>\n",
       "      <td>123</td>\n",
       "      <td>1.0</td>\n",
       "      <td>2.0</td>\n",
       "      <td>0</td>\n",
       "      <td>24</td>\n",
       "    </tr>\n",
       "    <tr>\n",
       "      <th>60</th>\n",
       "      <td>2005-11-01</td>\n",
       "      <td>Sparty16's Montage</td>\n",
       "      <td>It is a snipe fest.</td>\n",
       "      <td>327</td>\n",
       "      <td>8.0</td>\n",
       "      <td>1.0</td>\n",
       "      <td>0</td>\n",
       "      <td>24</td>\n",
       "    </tr>\n",
       "    <tr>\n",
       "      <th>13</th>\n",
       "      <td>2005-08-01</td>\n",
       "      <td>rfintro</td>\n",
       "      <td>Intro</td>\n",
       "      <td>436</td>\n",
       "      <td>4.0</td>\n",
       "      <td>5.0</td>\n",
       "      <td>0</td>\n",
       "      <td>24</td>\n",
       "    </tr>\n",
       "    <tr>\n",
       "      <th>14</th>\n",
       "      <td>2005-08-01</td>\n",
       "      <td>Dierlect</td>\n",
       "      <td>all about the map dierlect</td>\n",
       "      <td>436</td>\n",
       "      <td>2.0</td>\n",
       "      <td>1.0</td>\n",
       "      <td>0</td>\n",
       "      <td>24</td>\n",
       "    </tr>\n",
       "    <tr>\n",
       "      <th>12</th>\n",
       "      <td>2005-08-01</td>\n",
       "      <td>MULLETAGE</td>\n",
       "      <td>this is Chris Mo Fo Coles w/ his new updated m...</td>\n",
       "      <td>505</td>\n",
       "      <td>5.0</td>\n",
       "      <td>1.0</td>\n",
       "      <td>0</td>\n",
       "      <td>1</td>\n",
       "    </tr>\n",
       "    <tr>\n",
       "      <th>...</th>\n",
       "      <td>...</td>\n",
       "      <td>...</td>\n",
       "      <td>...</td>\n",
       "      <td>...</td>\n",
       "      <td>...</td>\n",
       "      <td>...</td>\n",
       "      <td>...</td>\n",
       "      <td>...</td>\n",
       "    </tr>\n",
       "    <tr>\n",
       "      <th>7562</th>\n",
       "      <td>2018-06-01</td>\n",
       "      <td>Ответный удар - Мультики про танки</td>\n",
       "      <td>Мультик про танки по мотивам игры World of Tan...</td>\n",
       "      <td>37482544</td>\n",
       "      <td>122935.0</td>\n",
       "      <td>1941.0</td>\n",
       "      <td>0</td>\n",
       "      <td>20</td>\n",
       "    </tr>\n",
       "    <tr>\n",
       "      <th>6462</th>\n",
       "      <td>2016-08-01</td>\n",
       "      <td>Counter-Strike: Zombie Escape Mod - ze_Jurassi...</td>\n",
       "      <td>Counter-Strike 1.6: ze_Jurassicpark_v2 WIN (10...</td>\n",
       "      <td>40556603</td>\n",
       "      <td>138034.0</td>\n",
       "      <td>1742.0</td>\n",
       "      <td>0</td>\n",
       "      <td>20</td>\n",
       "    </tr>\n",
       "    <tr>\n",
       "      <th>8312</th>\n",
       "      <td>2019-09-01</td>\n",
       "      <td>Counter-Strike: Zombie Escape Mod - ze_THELOST...</td>\n",
       "      <td>Counter-Strike 1.6: ze thelostworld bf WIN (4K...</td>\n",
       "      <td>43609790</td>\n",
       "      <td>203296.0</td>\n",
       "      <td>1587.0</td>\n",
       "      <td>0</td>\n",
       "      <td>20</td>\n",
       "    </tr>\n",
       "    <tr>\n",
       "      <th>2363</th>\n",
       "      <td>2009-10-01</td>\n",
       "      <td>Counter-Strike - DE dust2 HD</td>\n",
       "      <td>Based on the game, Counter-Strike: Source, thi...</td>\n",
       "      <td>123912746</td>\n",
       "      <td>1514852.0</td>\n",
       "      <td>99377.0</td>\n",
       "      <td>0</td>\n",
       "      <td>1</td>\n",
       "    </tr>\n",
       "    <tr>\n",
       "      <th>1122</th>\n",
       "      <td>2007-09-01</td>\n",
       "      <td>How to change Skins/Models COUNTER STRIKE SOUR...</td>\n",
       "      <td>How to change Skins/Models COUNTER STRIKE. Map...</td>\n",
       "      <td>&lt;NA&gt;</td>\n",
       "      <td>NaN</td>\n",
       "      <td>51.0</td>\n",
       "      <td>0</td>\n",
       "      <td>26</td>\n",
       "    </tr>\n",
       "  </tbody>\n",
       "</table>\n",
       "<p>9611 rows × 8 columns</p>\n",
       "</div>"
      ],
      "text/plain": [
       "          month                                              title  \\\n",
       "61   2005-11-01                                 Nikeny64's Montage   \n",
       "60   2005-11-01                                 Sparty16's Montage   \n",
       "13   2005-08-01                                            rfintro   \n",
       "14   2005-08-01                                           Dierlect   \n",
       "12   2005-08-01                                          MULLETAGE   \n",
       "...         ...                                                ...   \n",
       "7562 2018-06-01                 Ответный удар - Мультики про танки   \n",
       "6462 2016-08-01  Counter-Strike: Zombie Escape Mod - ze_Jurassi...   \n",
       "8312 2019-09-01  Counter-Strike: Zombie Escape Mod - ze_THELOST...   \n",
       "2363 2009-10-01                       Counter-Strike - DE dust2 HD   \n",
       "1122 2007-09-01  How to change Skins/Models COUNTER STRIKE SOUR...   \n",
       "\n",
       "                                            description  viewCount  likeCount  \\\n",
       "61                                   nikeny64's montage        123        1.0   \n",
       "60                                  It is a snipe fest.        327        8.0   \n",
       "13                                                Intro        436        4.0   \n",
       "14                           all about the map dierlect        436        2.0   \n",
       "12    this is Chris Mo Fo Coles w/ his new updated m...        505        5.0   \n",
       "...                                                 ...        ...        ...   \n",
       "7562  Мультик про танки по мотивам игры World of Tan...   37482544   122935.0   \n",
       "6462  Counter-Strike 1.6: ze_Jurassicpark_v2 WIN (10...   40556603   138034.0   \n",
       "8312  Counter-Strike 1.6: ze thelostworld bf WIN (4K...   43609790   203296.0   \n",
       "2363  Based on the game, Counter-Strike: Source, thi...  123912746  1514852.0   \n",
       "1122  How to change Skins/Models COUNTER STRIKE. Map...       <NA>        NaN   \n",
       "\n",
       "      commentCount  favoriteCount  categoryId  \n",
       "61             2.0              0          24  \n",
       "60             1.0              0          24  \n",
       "13             5.0              0          24  \n",
       "14             1.0              0          24  \n",
       "12             1.0              0           1  \n",
       "...            ...            ...         ...  \n",
       "7562        1941.0              0          20  \n",
       "6462        1742.0              0          20  \n",
       "8312        1587.0              0          20  \n",
       "2363       99377.0              0           1  \n",
       "1122          51.0              0          26  \n",
       "\n",
       "[9611 rows x 8 columns]"
      ]
     },
     "execution_count": 26,
     "metadata": {},
     "output_type": "execute_result"
    }
   ],
   "source": [
    "youtube_data_sorted_by_viewCount = youtube_data.sort_values(\"viewCount\")\n",
    "youtube_data_sorted_by_viewCount"
   ]
  },
  {
   "cell_type": "markdown",
   "id": "336eec37",
   "metadata": {},
   "source": [
    "## Visualizations"
   ]
  },
  {
   "cell_type": "code",
   "execution_count": 27,
   "id": "cc597835",
   "metadata": {},
   "outputs": [
    {
     "data": {
      "text/html": [
       "<div>\n",
       "<style scoped>\n",
       "    .dataframe tbody tr th:only-of-type {\n",
       "        vertical-align: middle;\n",
       "    }\n",
       "\n",
       "    .dataframe tbody tr th {\n",
       "        vertical-align: top;\n",
       "    }\n",
       "\n",
       "    .dataframe thead th {\n",
       "        text-align: right;\n",
       "    }\n",
       "</style>\n",
       "<table border=\"1\" class=\"dataframe\">\n",
       "  <thead>\n",
       "    <tr style=\"text-align: right;\">\n",
       "      <th></th>\n",
       "      <th>month</th>\n",
       "      <th>peak</th>\n",
       "      <th>gain</th>\n",
       "      <th>average</th>\n",
       "    </tr>\n",
       "  </thead>\n",
       "  <tbody>\n",
       "    <tr>\n",
       "      <th>0</th>\n",
       "      <td>2004-01-01</td>\n",
       "      <td>23241.0</td>\n",
       "      <td>0.0</td>\n",
       "      <td>0.0</td>\n",
       "    </tr>\n",
       "    <tr>\n",
       "      <th>1</th>\n",
       "      <td>2004-02-01</td>\n",
       "      <td>39709.0</td>\n",
       "      <td>16468.0</td>\n",
       "      <td>0.0</td>\n",
       "    </tr>\n",
       "    <tr>\n",
       "      <th>2</th>\n",
       "      <td>2004-04-01</td>\n",
       "      <td>84182.0</td>\n",
       "      <td>35217.0</td>\n",
       "      <td>0.0</td>\n",
       "    </tr>\n",
       "    <tr>\n",
       "      <th>3</th>\n",
       "      <td>2004-06-01</td>\n",
       "      <td>80908.0</td>\n",
       "      <td>12826.0</td>\n",
       "      <td>0.0</td>\n",
       "    </tr>\n",
       "    <tr>\n",
       "      <th>4</th>\n",
       "      <td>2004-07-01</td>\n",
       "      <td>84804.0</td>\n",
       "      <td>3896.0</td>\n",
       "      <td>0.0</td>\n",
       "    </tr>\n",
       "  </tbody>\n",
       "</table>\n",
       "</div>"
      ],
      "text/plain": [
       "       month     peak     gain  average\n",
       "0 2004-01-01  23241.0      0.0      0.0\n",
       "1 2004-02-01  39709.0  16468.0      0.0\n",
       "2 2004-04-01  84182.0  35217.0      0.0\n",
       "3 2004-06-01  80908.0  12826.0      0.0\n",
       "4 2004-07-01  84804.0   3896.0      0.0"
      ]
     },
     "execution_count": 27,
     "metadata": {},
     "output_type": "execute_result"
    }
   ],
   "source": [
    "SteamDB_merged_grouped.head()"
   ]
  },
  {
   "cell_type": "code",
   "execution_count": 28,
   "id": "10f038bf",
   "metadata": {},
   "outputs": [
    {
     "data": {
      "text/html": [
       "<div>\n",
       "<style scoped>\n",
       "    .dataframe tbody tr th:only-of-type {\n",
       "        vertical-align: middle;\n",
       "    }\n",
       "\n",
       "    .dataframe tbody tr th {\n",
       "        vertical-align: top;\n",
       "    }\n",
       "\n",
       "    .dataframe thead th {\n",
       "        text-align: right;\n",
       "    }\n",
       "</style>\n",
       "<table border=\"1\" class=\"dataframe\">\n",
       "  <thead>\n",
       "    <tr style=\"text-align: right;\">\n",
       "      <th></th>\n",
       "      <th>id</th>\n",
       "      <th>name</th>\n",
       "      <th>first_release_date</th>\n",
       "      <th>genres</th>\n",
       "      <th>rating</th>\n",
       "      <th>rating_count</th>\n",
       "      <th>total_rating</th>\n",
       "      <th>total_rating_count</th>\n",
       "      <th>aggregated_rating</th>\n",
       "      <th>aggregated_rating_count</th>\n",
       "    </tr>\n",
       "  </thead>\n",
       "  <tbody>\n",
       "    <tr>\n",
       "      <th>4</th>\n",
       "      <td>92204</td>\n",
       "      <td>_-_</td>\n",
       "      <td>2018-03-14</td>\n",
       "      <td>[Puzzle, Arcade]</td>\n",
       "      <td>90.000000</td>\n",
       "      <td>0.0</td>\n",
       "      <td>90.000000</td>\n",
       "      <td>0.0</td>\n",
       "      <td>NaN</td>\n",
       "      <td>NaN</td>\n",
       "    </tr>\n",
       "    <tr>\n",
       "      <th>23</th>\n",
       "      <td>1649</td>\n",
       "      <td>007 Legends</td>\n",
       "      <td>2012-10-16</td>\n",
       "      <td>[Shooter]</td>\n",
       "      <td>54.172800</td>\n",
       "      <td>23.0</td>\n",
       "      <td>49.943543</td>\n",
       "      <td>30.0</td>\n",
       "      <td>45.714286</td>\n",
       "      <td>7.0</td>\n",
       "    </tr>\n",
       "    <tr>\n",
       "      <th>48</th>\n",
       "      <td>113188</td>\n",
       "      <td>03.04</td>\n",
       "      <td>2019-01-01</td>\n",
       "      <td>[Adventure, Indie]</td>\n",
       "      <td>60.000000</td>\n",
       "      <td>2.0</td>\n",
       "      <td>60.000000</td>\n",
       "      <td>2.0</td>\n",
       "      <td>NaN</td>\n",
       "      <td>NaN</td>\n",
       "    </tr>\n",
       "    <tr>\n",
       "      <th>69</th>\n",
       "      <td>55486</td>\n",
       "      <td>0°N 0°W</td>\n",
       "      <td>2018-03-02</td>\n",
       "      <td>[Adventure, Indie]</td>\n",
       "      <td>70.000000</td>\n",
       "      <td>4.0</td>\n",
       "      <td>60.000000</td>\n",
       "      <td>5.0</td>\n",
       "      <td>50.000000</td>\n",
       "      <td>1.0</td>\n",
       "    </tr>\n",
       "    <tr>\n",
       "      <th>72</th>\n",
       "      <td>9583</td>\n",
       "      <td>0rbitalis</td>\n",
       "      <td>2014-04-16</td>\n",
       "      <td>[Puzzle, Simulator, Indie]</td>\n",
       "      <td>79.935551</td>\n",
       "      <td>5.0</td>\n",
       "      <td>77.467775</td>\n",
       "      <td>8.0</td>\n",
       "      <td>75.000000</td>\n",
       "      <td>3.0</td>\n",
       "    </tr>\n",
       "  </tbody>\n",
       "</table>\n",
       "</div>"
      ],
      "text/plain": [
       "        id         name first_release_date                      genres  \\\n",
       "4    92204          _-_         2018-03-14            [Puzzle, Arcade]   \n",
       "23    1649  007 Legends         2012-10-16                   [Shooter]   \n",
       "48  113188        03.04         2019-01-01          [Adventure, Indie]   \n",
       "69   55486      0°N 0°W         2018-03-02          [Adventure, Indie]   \n",
       "72    9583    0rbitalis         2014-04-16  [Puzzle, Simulator, Indie]   \n",
       "\n",
       "       rating  rating_count  total_rating  total_rating_count  \\\n",
       "4   90.000000           0.0     90.000000                 0.0   \n",
       "23  54.172800          23.0     49.943543                30.0   \n",
       "48  60.000000           2.0     60.000000                 2.0   \n",
       "69  70.000000           4.0     60.000000                 5.0   \n",
       "72  79.935551           5.0     77.467775                 8.0   \n",
       "\n",
       "    aggregated_rating  aggregated_rating_count  \n",
       "4                 NaN                      NaN  \n",
       "23          45.714286                      7.0  \n",
       "48                NaN                      NaN  \n",
       "69          50.000000                      1.0  \n",
       "72          75.000000                      3.0  "
      ]
     },
     "execution_count": 28,
     "metadata": {},
     "output_type": "execute_result"
    }
   ],
   "source": [
    "igdb_data_merged_filtered_converted.head()"
   ]
  },
  {
   "cell_type": "code",
   "execution_count": 29,
   "id": "23b07f3d",
   "metadata": {},
   "outputs": [
    {
     "data": {
      "text/html": [
       "<div>\n",
       "<style scoped>\n",
       "    .dataframe tbody tr th:only-of-type {\n",
       "        vertical-align: middle;\n",
       "    }\n",
       "\n",
       "    .dataframe tbody tr th {\n",
       "        vertical-align: top;\n",
       "    }\n",
       "\n",
       "    .dataframe thead th {\n",
       "        text-align: right;\n",
       "    }\n",
       "</style>\n",
       "<table border=\"1\" class=\"dataframe\">\n",
       "  <thead>\n",
       "    <tr style=\"text-align: right;\">\n",
       "      <th></th>\n",
       "      <th>month</th>\n",
       "      <th>Avg Viewers</th>\n",
       "      <th>Gain</th>\n",
       "      <th>Peak Viewers</th>\n",
       "      <th>Avg Streams</th>\n",
       "      <th>Gain.1</th>\n",
       "      <th>Peak Streams</th>\n",
       "      <th>Hours Watched</th>\n",
       "    </tr>\n",
       "  </thead>\n",
       "  <tbody>\n",
       "    <tr>\n",
       "      <th>0</th>\n",
       "      <td>2016-11-01</td>\n",
       "      <td>41122.0</td>\n",
       "      <td>0.0</td>\n",
       "      <td>237149.0</td>\n",
       "      <td>803.0</td>\n",
       "      <td>0.0</td>\n",
       "      <td>1733.0</td>\n",
       "      <td>305032336.0</td>\n",
       "    </tr>\n",
       "    <tr>\n",
       "      <th>1</th>\n",
       "      <td>2016-12-01</td>\n",
       "      <td>97395.0</td>\n",
       "      <td>56273.0</td>\n",
       "      <td>1154232.0</td>\n",
       "      <td>940.0</td>\n",
       "      <td>137.0</td>\n",
       "      <td>2185.0</td>\n",
       "      <td>721080946.0</td>\n",
       "    </tr>\n",
       "    <tr>\n",
       "      <th>2</th>\n",
       "      <td>2017-01-01</td>\n",
       "      <td>60177.0</td>\n",
       "      <td>37218.0</td>\n",
       "      <td>461337.0</td>\n",
       "      <td>1014.0</td>\n",
       "      <td>74.0</td>\n",
       "      <td>2097.0</td>\n",
       "      <td>404088357.0</td>\n",
       "    </tr>\n",
       "    <tr>\n",
       "      <th>3</th>\n",
       "      <td>2017-02-01</td>\n",
       "      <td>49606.0</td>\n",
       "      <td>10593.0</td>\n",
       "      <td>512456.0</td>\n",
       "      <td>946.0</td>\n",
       "      <td>68.0</td>\n",
       "      <td>2100.0</td>\n",
       "      <td>368160397.0</td>\n",
       "    </tr>\n",
       "    <tr>\n",
       "      <th>4</th>\n",
       "      <td>2017-03-01</td>\n",
       "      <td>50868.0</td>\n",
       "      <td>1286.0</td>\n",
       "      <td>418276.0</td>\n",
       "      <td>879.0</td>\n",
       "      <td>69.0</td>\n",
       "      <td>1830.0</td>\n",
       "      <td>364069433.0</td>\n",
       "    </tr>\n",
       "  </tbody>\n",
       "</table>\n",
       "</div>"
      ],
      "text/plain": [
       "       month  Avg Viewers     Gain  Peak Viewers  Avg Streams  Gain.1  \\\n",
       "0 2016-11-01      41122.0      0.0      237149.0        803.0     0.0   \n",
       "1 2016-12-01      97395.0  56273.0     1154232.0        940.0   137.0   \n",
       "2 2017-01-01      60177.0  37218.0      461337.0       1014.0    74.0   \n",
       "3 2017-02-01      49606.0  10593.0      512456.0        946.0    68.0   \n",
       "4 2017-03-01      50868.0   1286.0      418276.0        879.0    69.0   \n",
       "\n",
       "   Peak Streams  Hours Watched  \n",
       "0        1733.0    305032336.0  \n",
       "1        2185.0    721080946.0  \n",
       "2        2097.0    404088357.0  \n",
       "3        2100.0    368160397.0  \n",
       "4        1830.0    364069433.0  "
      ]
     },
     "execution_count": 29,
     "metadata": {},
     "output_type": "execute_result"
    }
   ],
   "source": [
    "twitch_data_merged_grouped.head()"
   ]
  },
  {
   "cell_type": "code",
   "execution_count": 30,
   "id": "98688ed8",
   "metadata": {},
   "outputs": [
    {
     "data": {
      "text/html": [
       "<div>\n",
       "<style scoped>\n",
       "    .dataframe tbody tr th:only-of-type {\n",
       "        vertical-align: middle;\n",
       "    }\n",
       "\n",
       "    .dataframe tbody tr th {\n",
       "        vertical-align: top;\n",
       "    }\n",
       "\n",
       "    .dataframe thead th {\n",
       "        text-align: right;\n",
       "    }\n",
       "</style>\n",
       "<table border=\"1\" class=\"dataframe\">\n",
       "  <thead>\n",
       "    <tr style=\"text-align: right;\">\n",
       "      <th></th>\n",
       "      <th>month</th>\n",
       "      <th>title</th>\n",
       "      <th>description</th>\n",
       "      <th>viewCount</th>\n",
       "      <th>likeCount</th>\n",
       "      <th>commentCount</th>\n",
       "      <th>favoriteCount</th>\n",
       "      <th>categoryId</th>\n",
       "    </tr>\n",
       "  </thead>\n",
       "  <tbody>\n",
       "    <tr>\n",
       "      <th>2363</th>\n",
       "      <td>2009-10-01</td>\n",
       "      <td>Counter-Strike - DE dust2 HD</td>\n",
       "      <td>Based on the game, Counter-Strike: Source, thi...</td>\n",
       "      <td>123912746</td>\n",
       "      <td>1514852.0</td>\n",
       "      <td>99377.0</td>\n",
       "      <td>0</td>\n",
       "      <td>1</td>\n",
       "    </tr>\n",
       "    <tr>\n",
       "      <th>8312</th>\n",
       "      <td>2019-09-01</td>\n",
       "      <td>Counter-Strike: Zombie Escape Mod - ze_THELOST...</td>\n",
       "      <td>Counter-Strike 1.6: ze thelostworld bf WIN (4K...</td>\n",
       "      <td>43609790</td>\n",
       "      <td>203296.0</td>\n",
       "      <td>1587.0</td>\n",
       "      <td>0</td>\n",
       "      <td>20</td>\n",
       "    </tr>\n",
       "    <tr>\n",
       "      <th>6462</th>\n",
       "      <td>2016-08-01</td>\n",
       "      <td>Counter-Strike: Zombie Escape Mod - ze_Jurassi...</td>\n",
       "      <td>Counter-Strike 1.6: ze_Jurassicpark_v2 WIN (10...</td>\n",
       "      <td>40556603</td>\n",
       "      <td>138034.0</td>\n",
       "      <td>1742.0</td>\n",
       "      <td>0</td>\n",
       "      <td>20</td>\n",
       "    </tr>\n",
       "    <tr>\n",
       "      <th>7562</th>\n",
       "      <td>2018-06-01</td>\n",
       "      <td>Ответный удар - Мультики про танки</td>\n",
       "      <td>Мультик про танки по мотивам игры World of Tan...</td>\n",
       "      <td>37482544</td>\n",
       "      <td>122935.0</td>\n",
       "      <td>1941.0</td>\n",
       "      <td>0</td>\n",
       "      <td>20</td>\n",
       "    </tr>\n",
       "    <tr>\n",
       "      <th>8412</th>\n",
       "      <td>2019-11-01</td>\n",
       "      <td>Counter Attack Gun Strike Special Ops Shooting...</td>\n",
       "      <td>Counter Attack Gun Strike Special Ops Shooting...</td>\n",
       "      <td>35893795</td>\n",
       "      <td>104716.0</td>\n",
       "      <td>845.0</td>\n",
       "      <td>0</td>\n",
       "      <td>20</td>\n",
       "    </tr>\n",
       "  </tbody>\n",
       "</table>\n",
       "</div>"
      ],
      "text/plain": [
       "          month                                              title  \\\n",
       "2363 2009-10-01                       Counter-Strike - DE dust2 HD   \n",
       "8312 2019-09-01  Counter-Strike: Zombie Escape Mod - ze_THELOST...   \n",
       "6462 2016-08-01  Counter-Strike: Zombie Escape Mod - ze_Jurassi...   \n",
       "7562 2018-06-01                 Ответный удар - Мультики про танки   \n",
       "8412 2019-11-01  Counter Attack Gun Strike Special Ops Shooting...   \n",
       "\n",
       "                                            description  viewCount  likeCount  \\\n",
       "2363  Based on the game, Counter-Strike: Source, thi...  123912746  1514852.0   \n",
       "8312  Counter-Strike 1.6: ze thelostworld bf WIN (4K...   43609790   203296.0   \n",
       "6462  Counter-Strike 1.6: ze_Jurassicpark_v2 WIN (10...   40556603   138034.0   \n",
       "7562  Мультик про танки по мотивам игры World of Tan...   37482544   122935.0   \n",
       "8412  Counter Attack Gun Strike Special Ops Shooting...   35893795   104716.0   \n",
       "\n",
       "      commentCount  favoriteCount  categoryId  \n",
       "2363       99377.0              0           1  \n",
       "8312        1587.0              0          20  \n",
       "6462        1742.0              0          20  \n",
       "7562        1941.0              0          20  \n",
       "8412         845.0              0          20  "
      ]
     },
     "execution_count": 30,
     "metadata": {},
     "output_type": "execute_result"
    }
   ],
   "source": [
    "youtube_data.head()"
   ]
  },
  {
   "cell_type": "code",
   "execution_count": 31,
   "metadata": {},
   "outputs": [
    {
     "data": {
      "text/html": [
       "<div>\n",
       "<style scoped>\n",
       "    .dataframe tbody tr th:only-of-type {\n",
       "        vertical-align: middle;\n",
       "    }\n",
       "\n",
       "    .dataframe tbody tr th {\n",
       "        vertical-align: top;\n",
       "    }\n",
       "\n",
       "    .dataframe thead th {\n",
       "        text-align: right;\n",
       "    }\n",
       "</style>\n",
       "<table border=\"1\" class=\"dataframe\">\n",
       "  <thead>\n",
       "    <tr style=\"text-align: right;\">\n",
       "      <th></th>\n",
       "      <th>month</th>\n",
       "      <th>viewCount</th>\n",
       "    </tr>\n",
       "  </thead>\n",
       "  <tbody>\n",
       "    <tr>\n",
       "      <th>0</th>\n",
       "      <td>2005-08-01</td>\n",
       "      <td>89144</td>\n",
       "    </tr>\n",
       "    <tr>\n",
       "      <th>1</th>\n",
       "      <td>2005-09-01</td>\n",
       "      <td>19415</td>\n",
       "    </tr>\n",
       "    <tr>\n",
       "      <th>2</th>\n",
       "      <td>2005-10-01</td>\n",
       "      <td>263357</td>\n",
       "    </tr>\n",
       "    <tr>\n",
       "      <th>3</th>\n",
       "      <td>2005-11-01</td>\n",
       "      <td>1810148</td>\n",
       "    </tr>\n",
       "    <tr>\n",
       "      <th>4</th>\n",
       "      <td>2005-12-01</td>\n",
       "      <td>10797827</td>\n",
       "    </tr>\n",
       "    <tr>\n",
       "      <th>...</th>\n",
       "      <td>...</td>\n",
       "      <td>...</td>\n",
       "    </tr>\n",
       "    <tr>\n",
       "      <th>190</th>\n",
       "      <td>2021-06-01</td>\n",
       "      <td>7542215</td>\n",
       "    </tr>\n",
       "    <tr>\n",
       "      <th>191</th>\n",
       "      <td>2021-07-01</td>\n",
       "      <td>3258535</td>\n",
       "    </tr>\n",
       "    <tr>\n",
       "      <th>192</th>\n",
       "      <td>2021-08-01</td>\n",
       "      <td>4094505</td>\n",
       "    </tr>\n",
       "    <tr>\n",
       "      <th>193</th>\n",
       "      <td>2021-09-01</td>\n",
       "      <td>8603503</td>\n",
       "    </tr>\n",
       "    <tr>\n",
       "      <th>194</th>\n",
       "      <td>2021-10-01</td>\n",
       "      <td>4760216</td>\n",
       "    </tr>\n",
       "  </tbody>\n",
       "</table>\n",
       "<p>195 rows × 2 columns</p>\n",
       "</div>"
      ],
      "text/plain": [
       "         month  viewCount\n",
       "0   2005-08-01      89144\n",
       "1   2005-09-01      19415\n",
       "2   2005-10-01     263357\n",
       "3   2005-11-01    1810148\n",
       "4   2005-12-01   10797827\n",
       "..         ...        ...\n",
       "190 2021-06-01    7542215\n",
       "191 2021-07-01    3258535\n",
       "192 2021-08-01    4094505\n",
       "193 2021-09-01    8603503\n",
       "194 2021-10-01    4760216\n",
       "\n",
       "[195 rows x 2 columns]"
      ]
     },
     "execution_count": 31,
     "metadata": {},
     "output_type": "execute_result"
    }
   ],
   "source": [
    "youtube_data_views_by_month = youtube_data.groupby(\"month\", as_index=False)[\"viewCount\"].sum()\n",
    "youtube_data_views_by_month"
   ]
  },
  {
   "cell_type": "code",
   "execution_count": 32,
   "metadata": {},
   "outputs": [
    {
     "data": {
      "text/html": [
       "<div>\n",
       "<style scoped>\n",
       "    .dataframe tbody tr th:only-of-type {\n",
       "        vertical-align: middle;\n",
       "    }\n",
       "\n",
       "    .dataframe tbody tr th {\n",
       "        vertical-align: top;\n",
       "    }\n",
       "\n",
       "    .dataframe thead th {\n",
       "        text-align: right;\n",
       "    }\n",
       "</style>\n",
       "<table border=\"1\" class=\"dataframe\">\n",
       "  <thead>\n",
       "    <tr style=\"text-align: right;\">\n",
       "      <th></th>\n",
       "      <th>month</th>\n",
       "      <th>peak</th>\n",
       "      <th>viewCount</th>\n",
       "    </tr>\n",
       "  </thead>\n",
       "  <tbody>\n",
       "    <tr>\n",
       "      <th>33</th>\n",
       "      <td>2009-10-01</td>\n",
       "      <td>158107.0</td>\n",
       "      <td>200082263</td>\n",
       "    </tr>\n",
       "    <tr>\n",
       "      <th>115</th>\n",
       "      <td>2016-08-01</td>\n",
       "      <td>631402.0</td>\n",
       "      <td>57190017</td>\n",
       "    </tr>\n",
       "    <tr>\n",
       "      <th>137</th>\n",
       "      <td>2018-06-01</td>\n",
       "      <td>449409.0</td>\n",
       "      <td>55513661</td>\n",
       "    </tr>\n",
       "    <tr>\n",
       "      <th>152</th>\n",
       "      <td>2019-09-01</td>\n",
       "      <td>745425.0</td>\n",
       "      <td>52619174</td>\n",
       "    </tr>\n",
       "    <tr>\n",
       "      <th>135</th>\n",
       "      <td>2018-04-01</td>\n",
       "      <td>556019.0</td>\n",
       "      <td>52530015</td>\n",
       "    </tr>\n",
       "    <tr>\n",
       "      <th>...</th>\n",
       "      <td>...</td>\n",
       "      <td>...</td>\n",
       "      <td>...</td>\n",
       "    </tr>\n",
       "    <tr>\n",
       "      <th>39</th>\n",
       "      <td>2010-04-01</td>\n",
       "      <td>167923.0</td>\n",
       "      <td>1680624</td>\n",
       "    </tr>\n",
       "    <tr>\n",
       "      <th>81</th>\n",
       "      <td>2013-10-01</td>\n",
       "      <td>166374.0</td>\n",
       "      <td>1423714</td>\n",
       "    </tr>\n",
       "    <tr>\n",
       "      <th>140</th>\n",
       "      <td>2018-09-01</td>\n",
       "      <td>612880.0</td>\n",
       "      <td>822816</td>\n",
       "    </tr>\n",
       "    <tr>\n",
       "      <th>0</th>\n",
       "      <td>2005-08-01</td>\n",
       "      <td>205663.0</td>\n",
       "      <td>89144</td>\n",
       "    </tr>\n",
       "    <tr>\n",
       "      <th>1</th>\n",
       "      <td>2005-09-01</td>\n",
       "      <td>185147.0</td>\n",
       "      <td>19415</td>\n",
       "    </tr>\n",
       "  </tbody>\n",
       "</table>\n",
       "<p>178 rows × 3 columns</p>\n",
       "</div>"
      ],
      "text/plain": [
       "         month      peak  viewCount\n",
       "33  2009-10-01  158107.0  200082263\n",
       "115 2016-08-01  631402.0   57190017\n",
       "137 2018-06-01  449409.0   55513661\n",
       "152 2019-09-01  745425.0   52619174\n",
       "135 2018-04-01  556019.0   52530015\n",
       "..         ...       ...        ...\n",
       "39  2010-04-01  167923.0    1680624\n",
       "81  2013-10-01  166374.0    1423714\n",
       "140 2018-09-01  612880.0     822816\n",
       "0   2005-08-01  205663.0      89144\n",
       "1   2005-09-01  185147.0      19415\n",
       "\n",
       "[178 rows x 3 columns]"
      ]
     },
     "execution_count": 32,
     "metadata": {},
     "output_type": "execute_result"
    }
   ],
   "source": [
    "# MERGING YOTUBE AND STEAMDB\n",
    "merged_yt_and_steamdb = pd.merge(SteamDB_merged_grouped[['month','peak']], youtube_data_views_by_month[['month','viewCount']], on=\"month\", how=\"inner\")\n",
    "merged_yt_and_steamdb = merged_yt_and_steamdb.sort_values(by=\"viewCount\", ascending=False)\n",
    "merged_yt_and_steamdb"
   ]
  },
  {
   "cell_type": "code",
   "execution_count": 33,
   "metadata": {},
   "outputs": [
    {
     "data": {
      "text/html": [
       "<div>\n",
       "<style scoped>\n",
       "    .dataframe tbody tr th:only-of-type {\n",
       "        vertical-align: middle;\n",
       "    }\n",
       "\n",
       "    .dataframe tbody tr th {\n",
       "        vertical-align: top;\n",
       "    }\n",
       "\n",
       "    .dataframe thead th {\n",
       "        text-align: right;\n",
       "    }\n",
       "</style>\n",
       "<table border=\"1\" class=\"dataframe\">\n",
       "  <thead>\n",
       "    <tr style=\"text-align: right;\">\n",
       "      <th></th>\n",
       "      <th>month</th>\n",
       "      <th>peak</th>\n",
       "      <th>Peak Viewers</th>\n",
       "    </tr>\n",
       "  </thead>\n",
       "  <tbody>\n",
       "    <tr>\n",
       "      <th>59</th>\n",
       "      <td>2021-10-01</td>\n",
       "      <td>888099.0</td>\n",
       "      <td>1950442.0</td>\n",
       "    </tr>\n",
       "    <tr>\n",
       "      <th>65</th>\n",
       "      <td>2022-04-01</td>\n",
       "      <td>1042536.0</td>\n",
       "      <td>1634605.0</td>\n",
       "    </tr>\n",
       "    <tr>\n",
       "      <th>87</th>\n",
       "      <td>2024-02-01</td>\n",
       "      <td>1431938.0</td>\n",
       "      <td>1553750.0</td>\n",
       "    </tr>\n",
       "    <tr>\n",
       "      <th>13</th>\n",
       "      <td>2017-12-01</td>\n",
       "      <td>638526.0</td>\n",
       "      <td>1320676.0</td>\n",
       "    </tr>\n",
       "    <tr>\n",
       "      <th>71</th>\n",
       "      <td>2022-10-01</td>\n",
       "      <td>1110627.0</td>\n",
       "      <td>1273072.0</td>\n",
       "    </tr>\n",
       "    <tr>\n",
       "      <th>...</th>\n",
       "      <td>...</td>\n",
       "      <td>...</td>\n",
       "      <td>...</td>\n",
       "    </tr>\n",
       "    <tr>\n",
       "      <th>43</th>\n",
       "      <td>2020-06-01</td>\n",
       "      <td>986980.0</td>\n",
       "      <td>211031.0</td>\n",
       "    </tr>\n",
       "    <tr>\n",
       "      <th>8</th>\n",
       "      <td>2017-07-01</td>\n",
       "      <td>670361.0</td>\n",
       "      <td>210176.0</td>\n",
       "    </tr>\n",
       "    <tr>\n",
       "      <th>25</th>\n",
       "      <td>2018-12-01</td>\n",
       "      <td>781335.0</td>\n",
       "      <td>201034.0</td>\n",
       "    </tr>\n",
       "    <tr>\n",
       "      <th>5</th>\n",
       "      <td>2017-04-01</td>\n",
       "      <td>728537.0</td>\n",
       "      <td>194939.0</td>\n",
       "    </tr>\n",
       "    <tr>\n",
       "      <th>20</th>\n",
       "      <td>2018-07-01</td>\n",
       "      <td>455676.0</td>\n",
       "      <td>194122.0</td>\n",
       "    </tr>\n",
       "  </tbody>\n",
       "</table>\n",
       "<p>106 rows × 3 columns</p>\n",
       "</div>"
      ],
      "text/plain": [
       "        month       peak  Peak Viewers\n",
       "59 2021-10-01   888099.0     1950442.0\n",
       "65 2022-04-01  1042536.0     1634605.0\n",
       "87 2024-02-01  1431938.0     1553750.0\n",
       "13 2017-12-01   638526.0     1320676.0\n",
       "71 2022-10-01  1110627.0     1273072.0\n",
       "..        ...        ...           ...\n",
       "43 2020-06-01   986980.0      211031.0\n",
       "8  2017-07-01   670361.0      210176.0\n",
       "25 2018-12-01   781335.0      201034.0\n",
       "5  2017-04-01   728537.0      194939.0\n",
       "20 2018-07-01   455676.0      194122.0\n",
       "\n",
       "[106 rows x 3 columns]"
      ]
     },
     "execution_count": 33,
     "metadata": {},
     "output_type": "execute_result"
    }
   ],
   "source": [
    "# MERGING TWITCH AND STEAMDB\n",
    "SteamDB_merged_grouped_cutoff = SteamDB_merged_grouped[SteamDB_merged_grouped['month'] >= pd.to_datetime(\"2016-11-01\")]\n",
    "merged_twitch_and_steamdb = pd.merge(SteamDB_merged_grouped_cutoff[['month','peak']], twitch_data_merged_grouped[['month','Peak Viewers']], on=\"month\", how=\"inner\")\n",
    "merged_twitch_and_steamdb = merged_twitch_and_steamdb.sort_values(by=\"Peak Viewers\", ascending=False)\n",
    "merged_twitch_and_steamdb"
   ]
  },
  {
   "cell_type": "code",
   "execution_count": 34,
   "id": "5b9f0775",
   "metadata": {},
   "outputs": [],
   "source": [
    "# cs_data\n",
    "# css_data\n",
    "# cscz_data\n",
    "# csgo_data\n",
    "# cs2_data\n",
    "# SteamDB_merged_grouped"
   ]
  },
  {
   "cell_type": "code",
   "execution_count": 35,
   "id": "380b1e6b",
   "metadata": {},
   "outputs": [
    {
     "data": {
      "text/html": [
       "<div>\n",
       "<style scoped>\n",
       "    .dataframe tbody tr th:only-of-type {\n",
       "        vertical-align: middle;\n",
       "    }\n",
       "\n",
       "    .dataframe tbody tr th {\n",
       "        vertical-align: top;\n",
       "    }\n",
       "\n",
       "    .dataframe thead th {\n",
       "        text-align: right;\n",
       "    }\n",
       "</style>\n",
       "<table border=\"1\" class=\"dataframe\">\n",
       "  <thead>\n",
       "    <tr style=\"text-align: right;\">\n",
       "      <th></th>\n",
       "      <th>month</th>\n",
       "      <th>peak</th>\n",
       "      <th>gain</th>\n",
       "      <th>average</th>\n",
       "    </tr>\n",
       "  </thead>\n",
       "  <tbody>\n",
       "    <tr>\n",
       "      <th>0</th>\n",
       "      <td>2004-01-01</td>\n",
       "      <td>23241.0</td>\n",
       "      <td>0.0</td>\n",
       "      <td>0.0</td>\n",
       "    </tr>\n",
       "    <tr>\n",
       "      <th>1</th>\n",
       "      <td>2004-02-01</td>\n",
       "      <td>39709.0</td>\n",
       "      <td>16468.0</td>\n",
       "      <td>0.0</td>\n",
       "    </tr>\n",
       "    <tr>\n",
       "      <th>2</th>\n",
       "      <td>2004-04-01</td>\n",
       "      <td>84182.0</td>\n",
       "      <td>35217.0</td>\n",
       "      <td>0.0</td>\n",
       "    </tr>\n",
       "    <tr>\n",
       "      <th>3</th>\n",
       "      <td>2004-06-01</td>\n",
       "      <td>80908.0</td>\n",
       "      <td>12826.0</td>\n",
       "      <td>0.0</td>\n",
       "    </tr>\n",
       "    <tr>\n",
       "      <th>4</th>\n",
       "      <td>2004-07-01</td>\n",
       "      <td>84804.0</td>\n",
       "      <td>3896.0</td>\n",
       "      <td>0.0</td>\n",
       "    </tr>\n",
       "    <tr>\n",
       "      <th>...</th>\n",
       "      <td>...</td>\n",
       "      <td>...</td>\n",
       "      <td>...</td>\n",
       "      <td>...</td>\n",
       "    </tr>\n",
       "    <tr>\n",
       "      <th>236</th>\n",
       "      <td>2025-04-01</td>\n",
       "      <td>1898525.0</td>\n",
       "      <td>40987.0</td>\n",
       "      <td>1070094.0</td>\n",
       "    </tr>\n",
       "    <tr>\n",
       "      <th>237</th>\n",
       "      <td>2025-05-01</td>\n",
       "      <td>1752347.0</td>\n",
       "      <td>146178.0</td>\n",
       "      <td>1060039.0</td>\n",
       "    </tr>\n",
       "    <tr>\n",
       "      <th>238</th>\n",
       "      <td>2025-06-01</td>\n",
       "      <td>1766572.0</td>\n",
       "      <td>14429.0</td>\n",
       "      <td>1029242.0</td>\n",
       "    </tr>\n",
       "    <tr>\n",
       "      <th>239</th>\n",
       "      <td>2025-07-01</td>\n",
       "      <td>1506027.0</td>\n",
       "      <td>338169.0</td>\n",
       "      <td>954251.0</td>\n",
       "    </tr>\n",
       "    <tr>\n",
       "      <th>240</th>\n",
       "      <td>2025-08-01</td>\n",
       "      <td>1581554.0</td>\n",
       "      <td>79481.0</td>\n",
       "      <td>982824.0</td>\n",
       "    </tr>\n",
       "  </tbody>\n",
       "</table>\n",
       "<p>241 rows × 4 columns</p>\n",
       "</div>"
      ],
      "text/plain": [
       "         month       peak      gain    average\n",
       "0   2004-01-01    23241.0       0.0        0.0\n",
       "1   2004-02-01    39709.0   16468.0        0.0\n",
       "2   2004-04-01    84182.0   35217.0        0.0\n",
       "3   2004-06-01    80908.0   12826.0        0.0\n",
       "4   2004-07-01    84804.0    3896.0        0.0\n",
       "..         ...        ...       ...        ...\n",
       "236 2025-04-01  1898525.0   40987.0  1070094.0\n",
       "237 2025-05-01  1752347.0  146178.0  1060039.0\n",
       "238 2025-06-01  1766572.0   14429.0  1029242.0\n",
       "239 2025-07-01  1506027.0  338169.0   954251.0\n",
       "240 2025-08-01  1581554.0   79481.0   982824.0\n",
       "\n",
       "[241 rows x 4 columns]"
      ]
     },
     "execution_count": 35,
     "metadata": {},
     "output_type": "execute_result"
    }
   ],
   "source": [
    "SteamDB_merged_grouped"
   ]
  },
  {
   "cell_type": "code",
   "execution_count": 36,
   "id": "d5159f09",
   "metadata": {},
   "outputs": [
    {
     "data": {
      "application/vnd.vegalite.v5+json": {
       "$schema": "https://vega.github.io/schema/vega-lite/v5.20.1.json",
       "config": {
        "view": {
         "continuousHeight": 300,
         "continuousWidth": 300
        }
       },
       "data": {
        "name": "data-176e636b130d9e8fa30d87ba2880bfbc"
       },
       "datasets": {
        "data-176e636b130d9e8fa30d87ba2880bfbc": [
         {
          "game": "Counter-Strike (1.6)",
          "month": "2004-01-01T00:00:00",
          "peak": 23241
         },
         {
          "game": "Counter-Strike (1.6)",
          "month": "2004-02-01T00:00:00",
          "peak": 39709
         },
         {
          "game": "Counter-Strike (1.6)",
          "month": "2004-04-01T00:00:00",
          "peak": 74926
         },
         {
          "game": "Counter-Strike (1.6)",
          "month": "2004-06-01T00:00:00",
          "peak": 66876
         },
         {
          "game": "Counter-Strike (1.6)",
          "month": "2004-07-01T00:00:00",
          "peak": 69685
         },
         {
          "game": "Counter-Strike (1.6)",
          "month": "2004-08-01T00:00:00",
          "peak": 92049
         },
         {
          "game": "Counter-Strike (1.6)",
          "month": "2004-09-01T00:00:00",
          "peak": 96451
         },
         {
          "game": "Counter-Strike (1.6)",
          "month": "2004-10-01T00:00:00",
          "peak": 79947
         },
         {
          "game": "Counter-Strike (1.6)",
          "month": "2004-11-01T00:00:00",
          "peak": 77819
         },
         {
          "game": "Counter-Strike (1.6)",
          "month": "2004-12-01T00:00:00",
          "peak": 117157
         },
         {
          "game": "Counter-Strike (1.6)",
          "month": "2005-01-01T00:00:00",
          "peak": 79165
         },
         {
          "game": "Counter-Strike (1.6)",
          "month": "2005-02-01T00:00:00",
          "peak": 87036
         },
         {
          "game": "Counter-Strike (1.6)",
          "month": "2005-03-01T00:00:00",
          "peak": 103492
         },
         {
          "game": "Counter-Strike (1.6)",
          "month": "2005-04-01T00:00:00",
          "peak": 87284
         },
         {
          "game": "Counter-Strike (1.6)",
          "month": "2005-05-01T00:00:00",
          "peak": 105295
         },
         {
          "game": "Counter-Strike (1.6)",
          "month": "2005-06-01T00:00:00",
          "peak": 80012
         },
         {
          "game": "Counter-Strike (1.6)",
          "month": "2005-07-01T00:00:00",
          "peak": 110858
         },
         {
          "game": "Counter-Strike (1.6)",
          "month": "2005-08-01T00:00:00",
          "peak": 132066
         },
         {
          "game": "Counter-Strike (1.6)",
          "month": "2005-09-01T00:00:00",
          "peak": 118588
         },
         {
          "game": "Counter-Strike (1.6)",
          "month": "2005-11-01T00:00:00",
          "peak": 95543
         },
         {
          "game": "Counter-Strike (1.6)",
          "month": "2005-12-01T00:00:00",
          "peak": 126053
         },
         {
          "game": "Counter-Strike (1.6)",
          "month": "2006-08-01T00:00:00",
          "peak": 132876
         },
         {
          "game": "Counter-Strike (1.6)",
          "month": "2006-11-01T00:00:00",
          "peak": 107770
         },
         {
          "game": "Counter-Strike (1.6)",
          "month": "2006-12-01T00:00:00",
          "peak": 109100
         },
         {
          "game": "Counter-Strike (1.6)",
          "month": "2007-01-01T00:00:00",
          "peak": 134820
         },
         {
          "game": "Counter-Strike (1.6)",
          "month": "2007-02-01T00:00:00",
          "peak": 188125
         },
         {
          "game": "Counter-Strike (1.6)",
          "month": "2007-03-01T00:00:00",
          "peak": 174450
         },
         {
          "game": "Counter-Strike (1.6)",
          "month": "2007-04-01T00:00:00",
          "peak": 78735
         },
         {
          "game": "Counter-Strike (1.6)",
          "month": "2007-05-01T00:00:00",
          "peak": 184843
         },
         {
          "game": "Counter-Strike (1.6)",
          "month": "2007-06-01T00:00:00",
          "peak": 232534
         },
         {
          "game": "Counter-Strike (1.6)",
          "month": "2007-07-01T00:00:00",
          "peak": 241132
         },
         {
          "game": "Counter-Strike (1.6)",
          "month": "2007-08-01T00:00:00",
          "peak": 202644
         },
         {
          "game": "Counter-Strike (1.6)",
          "month": "2007-09-01T00:00:00",
          "peak": 283680
         },
         {
          "game": "Counter-Strike (1.6)",
          "month": "2007-10-01T00:00:00",
          "peak": 223730
         },
         {
          "game": "Counter-Strike (1.6)",
          "month": "2007-11-01T00:00:00",
          "peak": 259403
         },
         {
          "game": "Counter-Strike (1.6)",
          "month": "2007-12-01T00:00:00",
          "peak": 319586
         },
         {
          "game": "Counter-Strike (1.6)",
          "month": "2008-01-01T00:00:00",
          "peak": 225274
         },
         {
          "game": "Counter-Strike (1.6)",
          "month": "2008-09-01T00:00:00",
          "peak": 73041
         },
         {
          "game": "Counter-Strike (1.6)",
          "month": "2008-10-01T00:00:00",
          "peak": 76504
         },
         {
          "game": "Counter-Strike (1.6)",
          "month": "2008-11-01T00:00:00",
          "peak": 47245
         },
         {
          "game": "Counter-Strike (1.6)",
          "month": "2008-12-01T00:00:00",
          "peak": 54865
         },
         {
          "game": "Counter-Strike (1.6)",
          "month": "2009-01-01T00:00:00",
          "peak": 48405
         },
         {
          "game": "Counter-Strike (1.6)",
          "month": "2009-02-01T00:00:00",
          "peak": 75123
         },
         {
          "game": "Counter-Strike (1.6)",
          "month": "2009-03-01T00:00:00",
          "peak": 75463
         },
         {
          "game": "Counter-Strike (1.6)",
          "month": "2009-04-01T00:00:00",
          "peak": 49447
         },
         {
          "game": "Counter-Strike (1.6)",
          "month": "2009-05-01T00:00:00",
          "peak": 60245
         },
         {
          "game": "Counter-Strike (1.6)",
          "month": "2009-06-01T00:00:00",
          "peak": 64574
         },
         {
          "game": "Counter-Strike (1.6)",
          "month": "2009-07-01T00:00:00",
          "peak": 49131
         },
         {
          "game": "Counter-Strike (1.6)",
          "month": "2009-08-01T00:00:00",
          "peak": 62056
         },
         {
          "game": "Counter-Strike (1.6)",
          "month": "2009-09-01T00:00:00",
          "peak": 58498
         },
         {
          "game": "Counter-Strike (1.6)",
          "month": "2009-10-01T00:00:00",
          "peak": 63832
         },
         {
          "game": "Counter-Strike (1.6)",
          "month": "2009-11-01T00:00:00",
          "peak": 40578
         },
         {
          "game": "Counter-Strike (1.6)",
          "month": "2009-12-01T00:00:00",
          "peak": 69325
         },
         {
          "game": "Counter-Strike (1.6)",
          "month": "2010-01-01T00:00:00",
          "peak": 73033
         },
         {
          "game": "Counter-Strike (1.6)",
          "month": "2010-02-01T00:00:00",
          "peak": 64069
         },
         {
          "game": "Counter-Strike (1.6)",
          "month": "2010-03-01T00:00:00",
          "peak": 75903
         },
         {
          "game": "Counter-Strike (1.6)",
          "month": "2010-04-01T00:00:00",
          "peak": 73232
         },
         {
          "game": "Counter-Strike (1.6)",
          "month": "2010-05-01T00:00:00",
          "peak": 192924
         },
         {
          "game": "Counter-Strike (1.6)",
          "month": "2010-06-01T00:00:00",
          "peak": 63869
         },
         {
          "game": "Counter-Strike (1.6)",
          "month": "2010-07-01T00:00:00",
          "peak": 62730
         },
         {
          "game": "Counter-Strike (1.6)",
          "month": "2010-08-01T00:00:00",
          "peak": 67121
         },
         {
          "game": "Counter-Strike (1.6)",
          "month": "2010-09-01T00:00:00",
          "peak": 70849
         },
         {
          "game": "Counter-Strike (1.6)",
          "month": "2010-10-01T00:00:00",
          "peak": 74285
         },
         {
          "game": "Counter-Strike (1.6)",
          "month": "2010-11-01T00:00:00",
          "peak": 75800
         },
         {
          "game": "Counter-Strike (1.6)",
          "month": "2010-12-01T00:00:00",
          "peak": 76667
         },
         {
          "game": "Counter-Strike (1.6)",
          "month": "2011-01-01T00:00:00",
          "peak": 83905
         },
         {
          "game": "Counter-Strike (1.6)",
          "month": "2011-02-01T00:00:00",
          "peak": 83324
         },
         {
          "game": "Counter-Strike (1.6)",
          "month": "2011-03-01T00:00:00",
          "peak": 81839
         },
         {
          "game": "Counter-Strike (1.6)",
          "month": "2011-04-01T00:00:00",
          "peak": 74934
         },
         {
          "game": "Counter-Strike (1.6)",
          "month": "2011-05-01T00:00:00",
          "peak": 67370
         },
         {
          "game": "Counter-Strike (1.6)",
          "month": "2011-06-01T00:00:00",
          "peak": 69585
         },
         {
          "game": "Counter-Strike (1.6)",
          "month": "2011-07-01T00:00:00",
          "peak": 60630
         },
         {
          "game": "Counter-Strike (1.6)",
          "month": "2011-08-01T00:00:00",
          "peak": 62959
         },
         {
          "game": "Counter-Strike (1.6)",
          "month": "2011-09-01T00:00:00",
          "peak": 63909
         },
         {
          "game": "Counter-Strike (1.6)",
          "month": "2011-10-01T00:00:00",
          "peak": 68660
         },
         {
          "game": "Counter-Strike (1.6)",
          "month": "2011-11-01T00:00:00",
          "peak": 70244
         },
         {
          "game": "Counter-Strike (1.6)",
          "month": "2011-12-01T00:00:00",
          "peak": 72794
         },
         {
          "game": "Counter-Strike (1.6)",
          "month": "2012-01-01T00:00:00",
          "peak": 80089
         },
         {
          "game": "Counter-Strike (1.6)",
          "month": "2012-02-01T00:00:00",
          "peak": 79920
         },
         {
          "game": "Counter-Strike (1.6)",
          "month": "2012-03-01T00:00:00",
          "peak": 79911
         },
         {
          "game": "Counter-Strike (1.6)",
          "month": "2012-04-01T00:00:00",
          "peak": 72325
         },
         {
          "game": "Counter-Strike (1.6)",
          "month": "2012-05-01T00:00:00",
          "peak": 62542
         },
         {
          "game": "Counter-Strike (1.6)",
          "month": "2012-06-01T00:00:00",
          "peak": 60301
         },
         {
          "game": "Counter-Strike (1.6)",
          "month": "2012-07-01T00:00:00",
          "peak": 54614
         },
         {
          "game": "Counter-Strike (1.6)",
          "month": "2012-08-01T00:00:00",
          "peak": 55321
         },
         {
          "game": "Counter-Strike (1.6)",
          "month": "2012-09-01T00:00:00",
          "peak": 56053
         },
         {
          "game": "Counter-Strike (1.6)",
          "month": "2012-10-01T00:00:00",
          "peak": 56957
         },
         {
          "game": "Counter-Strike (1.6)",
          "month": "2012-11-01T00:00:00",
          "peak": 61189
         },
         {
          "game": "Counter-Strike (1.6)",
          "month": "2012-12-01T00:00:00",
          "peak": 65188
         },
         {
          "game": "Counter-Strike (1.6)",
          "month": "2013-01-01T00:00:00",
          "peak": 65100
         },
         {
          "game": "Counter-Strike (1.6)",
          "month": "2013-02-01T00:00:00",
          "peak": 60780
         },
         {
          "game": "Counter-Strike (1.6)",
          "month": "2013-03-01T00:00:00",
          "peak": 49482
         },
         {
          "game": "Counter-Strike (1.6)",
          "month": "2013-04-01T00:00:00",
          "peak": 44392
         },
         {
          "game": "Counter-Strike (1.6)",
          "month": "2013-05-01T00:00:00",
          "peak": 36982
         },
         {
          "game": "Counter-Strike (1.6)",
          "month": "2013-06-01T00:00:00",
          "peak": 35490
         },
         {
          "game": "Counter-Strike (1.6)",
          "month": "2013-07-01T00:00:00",
          "peak": 34230
         },
         {
          "game": "Counter-Strike (1.6)",
          "month": "2013-08-01T00:00:00",
          "peak": 36983
         },
         {
          "game": "Counter-Strike (1.6)",
          "month": "2013-09-01T00:00:00",
          "peak": 37439
         },
         {
          "game": "Counter-Strike (1.6)",
          "month": "2013-10-01T00:00:00",
          "peak": 39826
         },
         {
          "game": "Counter-Strike (1.6)",
          "month": "2013-11-01T00:00:00",
          "peak": 40743
         },
         {
          "game": "Counter-Strike (1.6)",
          "month": "2013-12-01T00:00:00",
          "peak": 44491
         },
         {
          "game": "Counter-Strike (1.6)",
          "month": "2014-01-01T00:00:00",
          "peak": 44712
         },
         {
          "game": "Counter-Strike (1.6)",
          "month": "2014-02-01T00:00:00",
          "peak": 41963
         },
         {
          "game": "Counter-Strike (1.6)",
          "month": "2014-03-01T00:00:00",
          "peak": 39619
         },
         {
          "game": "Counter-Strike (1.6)",
          "month": "2014-04-01T00:00:00",
          "peak": 35926
         },
         {
          "game": "Counter-Strike (1.6)",
          "month": "2014-05-01T00:00:00",
          "peak": 33969
         },
         {
          "game": "Counter-Strike (1.6)",
          "month": "2014-06-01T00:00:00",
          "peak": 31806
         },
         {
          "game": "Counter-Strike (1.6)",
          "month": "2014-07-01T00:00:00",
          "peak": 29564
         },
         {
          "game": "Counter-Strike (1.6)",
          "month": "2014-08-01T00:00:00",
          "peak": 30379
         },
         {
          "game": "Counter-Strike (1.6)",
          "month": "2014-09-01T00:00:00",
          "peak": 31690
         },
         {
          "game": "Counter-Strike (1.6)",
          "month": "2014-10-01T00:00:00",
          "peak": 33495
         },
         {
          "game": "Counter-Strike (1.6)",
          "month": "2014-11-01T00:00:00",
          "peak": 36393
         },
         {
          "game": "Counter-Strike (1.6)",
          "month": "2014-12-01T00:00:00",
          "peak": 37018
         },
         {
          "game": "Counter-Strike (1.6)",
          "month": "2015-01-01T00:00:00",
          "peak": 37107
         },
         {
          "game": "Counter-Strike (1.6)",
          "month": "2015-02-01T00:00:00",
          "peak": 34271
         },
         {
          "game": "Counter-Strike (1.6)",
          "month": "2015-03-01T00:00:00",
          "peak": 30333
         },
         {
          "game": "Counter-Strike (1.6)",
          "month": "2015-04-01T00:00:00",
          "peak": 28286
         },
         {
          "game": "Counter-Strike (1.6)",
          "month": "2015-05-01T00:00:00",
          "peak": 26465
         },
         {
          "game": "Counter-Strike (1.6)",
          "month": "2015-06-01T00:00:00",
          "peak": 24200
         },
         {
          "game": "Counter-Strike (1.6)",
          "month": "2015-07-01T00:00:00",
          "peak": 23623
         },
         {
          "game": "Counter-Strike (1.6)",
          "month": "2015-08-01T00:00:00",
          "peak": 22650
         },
         {
          "game": "Counter-Strike (1.6)",
          "month": "2015-09-01T00:00:00",
          "peak": 23130
         },
         {
          "game": "Counter-Strike (1.6)",
          "month": "2015-10-01T00:00:00",
          "peak": 24278
         },
         {
          "game": "Counter-Strike (1.6)",
          "month": "2015-11-01T00:00:00",
          "peak": 26133
         },
         {
          "game": "Counter-Strike (1.6)",
          "month": "2015-12-01T00:00:00",
          "peak": 27821
         },
         {
          "game": "Counter-Strike (1.6)",
          "month": "2016-01-01T00:00:00",
          "peak": 29670
         },
         {
          "game": "Counter-Strike (1.6)",
          "month": "2016-02-01T00:00:00",
          "peak": 29617
         },
         {
          "game": "Counter-Strike (1.6)",
          "month": "2016-03-01T00:00:00",
          "peak": 28136
         },
         {
          "game": "Counter-Strike (1.6)",
          "month": "2016-04-01T00:00:00",
          "peak": 24994
         },
         {
          "game": "Counter-Strike (1.6)",
          "month": "2016-05-01T00:00:00",
          "peak": 22998
         },
         {
          "game": "Counter-Strike (1.6)",
          "month": "2016-06-01T00:00:00",
          "peak": 22585
         },
         {
          "game": "Counter-Strike (1.6)",
          "month": "2016-07-01T00:00:00",
          "peak": 21136
         },
         {
          "game": "Counter-Strike (1.6)",
          "month": "2016-08-01T00:00:00",
          "peak": 21491
         },
         {
          "game": "Counter-Strike (1.6)",
          "month": "2016-09-01T00:00:00",
          "peak": 21984
         },
         {
          "game": "Counter-Strike (1.6)",
          "month": "2016-10-01T00:00:00",
          "peak": 23413
         },
         {
          "game": "Counter-Strike (1.6)",
          "month": "2016-11-01T00:00:00",
          "peak": 24792
         },
         {
          "game": "Counter-Strike (1.6)",
          "month": "2016-12-01T00:00:00",
          "peak": 26909
         },
         {
          "game": "Counter-Strike (1.6)",
          "month": "2017-01-01T00:00:00",
          "peak": 29543
         },
         {
          "game": "Counter-Strike (1.6)",
          "month": "2017-02-01T00:00:00",
          "peak": 28071
         },
         {
          "game": "Counter-Strike (1.6)",
          "month": "2017-03-01T00:00:00",
          "peak": 26504
         },
         {
          "game": "Counter-Strike (1.6)",
          "month": "2017-04-01T00:00:00",
          "peak": 22731
         },
         {
          "game": "Counter-Strike (1.6)",
          "month": "2017-05-01T00:00:00",
          "peak": 22099
         },
         {
          "game": "Counter-Strike (1.6)",
          "month": "2017-06-01T00:00:00",
          "peak": 20312
         },
         {
          "game": "Counter-Strike (1.6)",
          "month": "2017-07-01T00:00:00",
          "peak": 20372
         },
         {
          "game": "Counter-Strike (1.6)",
          "month": "2017-08-01T00:00:00",
          "peak": 18465
         },
         {
          "game": "Counter-Strike (1.6)",
          "month": "2017-09-01T00:00:00",
          "peak": 18755
         },
         {
          "game": "Counter-Strike (1.6)",
          "month": "2017-10-01T00:00:00",
          "peak": 20891
         },
         {
          "game": "Counter-Strike (1.6)",
          "month": "2017-11-01T00:00:00",
          "peak": 24917
         },
         {
          "game": "Counter-Strike (1.6)",
          "month": "2017-12-01T00:00:00",
          "peak": 25817
         },
         {
          "game": "Counter-Strike (1.6)",
          "month": "2018-01-01T00:00:00",
          "peak": 27622
         },
         {
          "game": "Counter-Strike (1.6)",
          "month": "2018-02-01T00:00:00",
          "peak": 26457
         },
         {
          "game": "Counter-Strike (1.6)",
          "month": "2018-03-01T00:00:00",
          "peak": 25896
         },
         {
          "game": "Counter-Strike (1.6)",
          "month": "2018-04-01T00:00:00",
          "peak": 22707
         },
         {
          "game": "Counter-Strike (1.6)",
          "month": "2018-05-01T00:00:00",
          "peak": 18868
         },
         {
          "game": "Counter-Strike (1.6)",
          "month": "2018-06-01T00:00:00",
          "peak": 18856
         },
         {
          "game": "Counter-Strike (1.6)",
          "month": "2018-07-01T00:00:00",
          "peak": 18327
         },
         {
          "game": "Counter-Strike (1.6)",
          "month": "2018-08-01T00:00:00",
          "peak": 17136
         },
         {
          "game": "Counter-Strike (1.6)",
          "month": "2018-09-01T00:00:00",
          "peak": 17597
         },
         {
          "game": "Counter-Strike (1.6)",
          "month": "2018-10-01T00:00:00",
          "peak": 18183
         },
         {
          "game": "Counter-Strike (1.6)",
          "month": "2018-11-01T00:00:00",
          "peak": 20646
         },
         {
          "game": "Counter-Strike (1.6)",
          "month": "2018-12-01T00:00:00",
          "peak": 21865
         },
         {
          "game": "Counter-Strike (1.6)",
          "month": "2019-01-01T00:00:00",
          "peak": 23144
         },
         {
          "game": "Counter-Strike (1.6)",
          "month": "2019-02-01T00:00:00",
          "peak": 21470
         },
         {
          "game": "Counter-Strike (1.6)",
          "month": "2019-03-01T00:00:00",
          "peak": 19348
         },
         {
          "game": "Counter-Strike (1.6)",
          "month": "2019-04-01T00:00:00",
          "peak": 17386
         },
         {
          "game": "Counter-Strike (1.6)",
          "month": "2019-05-01T00:00:00",
          "peak": 16690
         },
         {
          "game": "Counter-Strike (1.6)",
          "month": "2019-06-01T00:00:00",
          "peak": 15091
         },
         {
          "game": "Counter-Strike (1.6)",
          "month": "2019-07-01T00:00:00",
          "peak": 15371
         },
         {
          "game": "Counter-Strike (1.6)",
          "month": "2019-08-01T00:00:00",
          "peak": 14971
         },
         {
          "game": "Counter-Strike (1.6)",
          "month": "2019-09-01T00:00:00",
          "peak": 14731
         },
         {
          "game": "Counter-Strike (1.6)",
          "month": "2019-10-01T00:00:00",
          "peak": 14937
         },
         {
          "game": "Counter-Strike (1.6)",
          "month": "2019-11-01T00:00:00",
          "peak": 16895
         },
         {
          "game": "Counter-Strike (1.6)",
          "month": "2019-12-01T00:00:00",
          "peak": 18365
         },
         {
          "game": "Counter-Strike (1.6)",
          "month": "2020-01-01T00:00:00",
          "peak": 19141
         },
         {
          "game": "Counter-Strike (1.6)",
          "month": "2020-02-01T00:00:00",
          "peak": 17762
         },
         {
          "game": "Counter-Strike (1.6)",
          "month": "2020-03-01T00:00:00",
          "peak": 30626
         },
         {
          "game": "Counter-Strike (1.6)",
          "month": "2020-04-01T00:00:00",
          "peak": 31930
         },
         {
          "game": "Counter-Strike (1.6)",
          "month": "2020-05-01T00:00:00",
          "peak": 29882
         },
         {
          "game": "Counter-Strike (1.6)",
          "month": "2020-06-01T00:00:00",
          "peak": 21059
         },
         {
          "game": "Counter-Strike (1.6)",
          "month": "2020-07-01T00:00:00",
          "peak": 18212
         },
         {
          "game": "Counter-Strike (1.6)",
          "month": "2020-08-01T00:00:00",
          "peak": 16560
         },
         {
          "game": "Counter-Strike (1.6)",
          "month": "2020-09-01T00:00:00",
          "peak": 16295
         },
         {
          "game": "Counter-Strike (1.6)",
          "month": "2020-10-01T00:00:00",
          "peak": 18030
         },
         {
          "game": "Counter-Strike (1.6)",
          "month": "2020-11-01T00:00:00",
          "peak": 20916
         },
         {
          "game": "Counter-Strike (1.6)",
          "month": "2020-12-01T00:00:00",
          "peak": 22833
         },
         {
          "game": "Counter-Strike (1.6)",
          "month": "2021-01-01T00:00:00",
          "peak": 23903
         },
         {
          "game": "Counter-Strike (1.6)",
          "month": "2021-02-01T00:00:00",
          "peak": 21860
         },
         {
          "game": "Counter-Strike (1.6)",
          "month": "2021-03-01T00:00:00",
          "peak": 22393
         },
         {
          "game": "Counter-Strike (1.6)",
          "month": "2021-04-01T00:00:00",
          "peak": 21698
         },
         {
          "game": "Counter-Strike (1.6)",
          "month": "2021-05-01T00:00:00",
          "peak": 18140
         },
         {
          "game": "Counter-Strike (1.6)",
          "month": "2021-06-01T00:00:00",
          "peak": 16439
         },
         {
          "game": "Counter-Strike (1.6)",
          "month": "2021-07-01T00:00:00",
          "peak": 14998
         },
         {
          "game": "Counter-Strike (1.6)",
          "month": "2021-08-01T00:00:00",
          "peak": 14127
         },
         {
          "game": "Counter-Strike (1.6)",
          "month": "2021-09-01T00:00:00",
          "peak": 14740
         },
         {
          "game": "Counter-Strike (1.6)",
          "month": "2021-10-01T00:00:00",
          "peak": 15759
         },
         {
          "game": "Counter-Strike (1.6)",
          "month": "2021-11-01T00:00:00",
          "peak": 16406
         },
         {
          "game": "Counter-Strike (1.6)",
          "month": "2021-12-01T00:00:00",
          "peak": 16648
         },
         {
          "game": "Counter-Strike (1.6)",
          "month": "2022-01-01T00:00:00",
          "peak": 18530
         },
         {
          "game": "Counter-Strike (1.6)",
          "month": "2022-02-01T00:00:00",
          "peak": 18743
         },
         {
          "game": "Counter-Strike (1.6)",
          "month": "2022-03-01T00:00:00",
          "peak": 16957
         },
         {
          "game": "Counter-Strike (1.6)",
          "month": "2022-04-01T00:00:00",
          "peak": 16696
         },
         {
          "game": "Counter-Strike (1.6)",
          "month": "2022-05-01T00:00:00",
          "peak": 14212
         },
         {
          "game": "Counter-Strike (1.6)",
          "month": "2022-06-01T00:00:00",
          "peak": 13707
         },
         {
          "game": "Counter-Strike (1.6)",
          "month": "2022-07-01T00:00:00",
          "peak": 14028
         },
         {
          "game": "Counter-Strike (1.6)",
          "month": "2022-08-01T00:00:00",
          "peak": 13358
         },
         {
          "game": "Counter-Strike (1.6)",
          "month": "2022-09-01T00:00:00",
          "peak": 13512
         },
         {
          "game": "Counter-Strike (1.6)",
          "month": "2022-10-01T00:00:00",
          "peak": 13846
         },
         {
          "game": "Counter-Strike (1.6)",
          "month": "2022-11-01T00:00:00",
          "peak": 16122
         },
         {
          "game": "Counter-Strike (1.6)",
          "month": "2022-12-01T00:00:00",
          "peak": 16250
         },
         {
          "game": "Counter-Strike (1.6)",
          "month": "2023-01-01T00:00:00",
          "peak": 17171
         },
         {
          "game": "Counter-Strike (1.6)",
          "month": "2023-02-01T00:00:00",
          "peak": 16364
         },
         {
          "game": "Counter-Strike (1.6)",
          "month": "2023-03-01T00:00:00",
          "peak": 15835
         },
         {
          "game": "Counter-Strike (1.6)",
          "month": "2023-04-01T00:00:00",
          "peak": 15526
         },
         {
          "game": "Counter-Strike (1.6)",
          "month": "2023-05-01T00:00:00",
          "peak": 13619
         },
         {
          "game": "Counter-Strike (1.6)",
          "month": "2023-06-01T00:00:00",
          "peak": 13078
         },
         {
          "game": "Counter-Strike (1.6)",
          "month": "2023-07-01T00:00:00",
          "peak": 13367
         },
         {
          "game": "Counter-Strike (1.6)",
          "month": "2023-08-01T00:00:00",
          "peak": 12519
         },
         {
          "game": "Counter-Strike (1.6)",
          "month": "2023-09-01T00:00:00",
          "peak": 13621
         },
         {
          "game": "Counter-Strike (1.6)",
          "month": "2023-10-01T00:00:00",
          "peak": 14241
         },
         {
          "game": "Counter-Strike (1.6)",
          "month": "2023-11-01T00:00:00",
          "peak": 14498
         },
         {
          "game": "Counter-Strike (1.6)",
          "month": "2023-12-01T00:00:00",
          "peak": 14646
         },
         {
          "game": "Counter-Strike (1.6)",
          "month": "2024-01-01T00:00:00",
          "peak": 15678
         },
         {
          "game": "Counter-Strike (1.6)",
          "month": "2024-02-01T00:00:00",
          "peak": 15051
         },
         {
          "game": "Counter-Strike (1.6)",
          "month": "2024-03-01T00:00:00",
          "peak": 16326
         },
         {
          "game": "Counter-Strike (1.6)",
          "month": "2024-04-01T00:00:00",
          "peak": 14510
         },
         {
          "game": "Counter-Strike (1.6)",
          "month": "2024-05-01T00:00:00",
          "peak": 15880
         },
         {
          "game": "Counter-Strike (1.6)",
          "month": "2024-06-01T00:00:00",
          "peak": 16640
         },
         {
          "game": "Counter-Strike (1.6)",
          "month": "2024-07-01T00:00:00",
          "peak": 19364
         },
         {
          "game": "Counter-Strike (1.6)",
          "month": "2024-08-01T00:00:00",
          "peak": 15133
         },
         {
          "game": "Counter-Strike (1.6)",
          "month": "2024-09-01T00:00:00",
          "peak": 16734
         },
         {
          "game": "Counter-Strike (1.6)",
          "month": "2024-10-01T00:00:00",
          "peak": 16985
         },
         {
          "game": "Counter-Strike (1.6)",
          "month": "2024-11-01T00:00:00",
          "peak": 17964
         },
         {
          "game": "Counter-Strike (1.6)",
          "month": "2024-12-01T00:00:00",
          "peak": 19647
         },
         {
          "game": "Counter-Strike (1.6)",
          "month": "2025-01-01T00:00:00",
          "peak": 20746
         },
         {
          "game": "Counter-Strike (1.6)",
          "month": "2025-02-01T00:00:00",
          "peak": 19683
         },
         {
          "game": "Counter-Strike (1.6)",
          "month": "2025-03-01T00:00:00",
          "peak": 18635
         },
         {
          "game": "Counter-Strike (1.6)",
          "month": "2025-04-01T00:00:00",
          "peak": 18205
         },
         {
          "game": "Counter-Strike (1.6)",
          "month": "2025-05-01T00:00:00",
          "peak": 15811
         },
         {
          "game": "Counter-Strike (1.6)",
          "month": "2025-06-01T00:00:00",
          "peak": 15730
         },
         {
          "game": "Counter-Strike (1.6)",
          "month": "2025-07-01T00:00:00",
          "peak": 14626
         },
         {
          "game": "Counter-Strike (1.6)",
          "month": "2025-08-01T00:00:00",
          "peak": 12680
         },
         {
          "game": "Counter-Strike: Source",
          "month": "2004-10-01T00:00:00",
          "peak": 9448
         },
         {
          "game": "Counter-Strike: Source",
          "month": "2004-11-01T00:00:00",
          "peak": 16454
         },
         {
          "game": "Counter-Strike: Source",
          "month": "2004-12-01T00:00:00",
          "peak": 49568
         },
         {
          "game": "Counter-Strike: Source",
          "month": "2005-01-01T00:00:00",
          "peak": 28230
         },
         {
          "game": "Counter-Strike: Source",
          "month": "2005-02-01T00:00:00",
          "peak": 30302
         },
         {
          "game": "Counter-Strike: Source",
          "month": "2005-03-01T00:00:00",
          "peak": 39232
         },
         {
          "game": "Counter-Strike: Source",
          "month": "2005-04-01T00:00:00",
          "peak": 43605
         },
         {
          "game": "Counter-Strike: Source",
          "month": "2005-05-01T00:00:00",
          "peak": 30737
         },
         {
          "game": "Counter-Strike: Source",
          "month": "2005-06-01T00:00:00",
          "peak": 22734
         },
         {
          "game": "Counter-Strike: Source",
          "month": "2005-07-01T00:00:00",
          "peak": 29945
         },
         {
          "game": "Counter-Strike: Source",
          "month": "2005-08-01T00:00:00",
          "peak": 51159
         },
         {
          "game": "Counter-Strike: Source",
          "month": "2005-09-01T00:00:00",
          "peak": 47518
         },
         {
          "game": "Counter-Strike: Source",
          "month": "2005-11-01T00:00:00",
          "peak": 18141
         },
         {
          "game": "Counter-Strike: Source",
          "month": "2005-12-01T00:00:00",
          "peak": 59323
         },
         {
          "game": "Counter-Strike: Source",
          "month": "2006-08-01T00:00:00",
          "peak": 51625
         },
         {
          "game": "Counter-Strike: Source",
          "month": "2006-11-01T00:00:00",
          "peak": 14825
         },
         {
          "game": "Counter-Strike: Source",
          "month": "2006-12-01T00:00:00",
          "peak": 56936
         },
         {
          "game": "Counter-Strike: Source",
          "month": "2007-01-01T00:00:00",
          "peak": 74899
         },
         {
          "game": "Counter-Strike: Source",
          "month": "2007-02-01T00:00:00",
          "peak": 71356
         },
         {
          "game": "Counter-Strike: Source",
          "month": "2007-03-01T00:00:00",
          "peak": 30139
         },
         {
          "game": "Counter-Strike: Source",
          "month": "2007-04-01T00:00:00",
          "peak": 40644
         },
         {
          "game": "Counter-Strike: Source",
          "month": "2007-05-01T00:00:00",
          "peak": 53308
         },
         {
          "game": "Counter-Strike: Source",
          "month": "2007-06-01T00:00:00",
          "peak": 85202
         },
         {
          "game": "Counter-Strike: Source",
          "month": "2007-07-01T00:00:00",
          "peak": 73676
         },
         {
          "game": "Counter-Strike: Source",
          "month": "2007-08-01T00:00:00",
          "peak": 77221
         },
         {
          "game": "Counter-Strike: Source",
          "month": "2007-09-01T00:00:00",
          "peak": 88466
         },
         {
          "game": "Counter-Strike: Source",
          "month": "2007-10-01T00:00:00",
          "peak": 83142
         },
         {
          "game": "Counter-Strike: Source",
          "month": "2007-11-01T00:00:00",
          "peak": 28693
         },
         {
          "game": "Counter-Strike: Source",
          "month": "2007-12-01T00:00:00",
          "peak": 74891
         },
         {
          "game": "Counter-Strike: Source",
          "month": "2008-01-01T00:00:00",
          "peak": 96798
         },
         {
          "game": "Counter-Strike: Source",
          "month": "2008-09-01T00:00:00",
          "peak": 82832
         },
         {
          "game": "Counter-Strike: Source",
          "month": "2008-10-01T00:00:00",
          "peak": 87900
         },
         {
          "game": "Counter-Strike: Source",
          "month": "2008-11-01T00:00:00",
          "peak": 59199
         },
         {
          "game": "Counter-Strike: Source",
          "month": "2008-12-01T00:00:00",
          "peak": 67808
         },
         {
          "game": "Counter-Strike: Source",
          "month": "2009-01-01T00:00:00",
          "peak": 59256
         },
         {
          "game": "Counter-Strike: Source",
          "month": "2009-02-01T00:00:00",
          "peak": 100056
         },
         {
          "game": "Counter-Strike: Source",
          "month": "2009-03-01T00:00:00",
          "peak": 95245
         },
         {
          "game": "Counter-Strike: Source",
          "month": "2009-04-01T00:00:00",
          "peak": 60504
         },
         {
          "game": "Counter-Strike: Source",
          "month": "2009-05-01T00:00:00",
          "peak": 78463
         },
         {
          "game": "Counter-Strike: Source",
          "month": "2009-06-01T00:00:00",
          "peak": 86374
         },
         {
          "game": "Counter-Strike: Source",
          "month": "2009-07-01T00:00:00",
          "peak": 68078
         },
         {
          "game": "Counter-Strike: Source",
          "month": "2009-08-01T00:00:00",
          "peak": 89486
         },
         {
          "game": "Counter-Strike: Source",
          "month": "2009-09-01T00:00:00",
          "peak": 80681
         },
         {
          "game": "Counter-Strike: Source",
          "month": "2009-10-01T00:00:00",
          "peak": 85147
         },
         {
          "game": "Counter-Strike: Source",
          "month": "2009-11-01T00:00:00",
          "peak": 46884
         },
         {
          "game": "Counter-Strike: Source",
          "month": "2009-12-01T00:00:00",
          "peak": 82447
         },
         {
          "game": "Counter-Strike: Source",
          "month": "2010-01-01T00:00:00",
          "peak": 89470
         },
         {
          "game": "Counter-Strike: Source",
          "month": "2010-02-01T00:00:00",
          "peak": 76744
         },
         {
          "game": "Counter-Strike: Source",
          "month": "2010-03-01T00:00:00",
          "peak": 91679
         },
         {
          "game": "Counter-Strike: Source",
          "month": "2010-04-01T00:00:00",
          "peak": 86207
         },
         {
          "game": "Counter-Strike: Source",
          "month": "2010-05-01T00:00:00",
          "peak": 84934
         },
         {
          "game": "Counter-Strike: Source",
          "month": "2010-06-01T00:00:00",
          "peak": 80638
         },
         {
          "game": "Counter-Strike: Source",
          "month": "2010-07-01T00:00:00",
          "peak": 64655
         },
         {
          "game": "Counter-Strike: Source",
          "month": "2010-08-01T00:00:00",
          "peak": 70257
         },
         {
          "game": "Counter-Strike: Source",
          "month": "2010-09-01T00:00:00",
          "peak": 74610
         },
         {
          "game": "Counter-Strike: Source",
          "month": "2010-10-01T00:00:00",
          "peak": 74782
         },
         {
          "game": "Counter-Strike: Source",
          "month": "2010-11-01T00:00:00",
          "peak": 80274
         },
         {
          "game": "Counter-Strike: Source",
          "month": "2010-12-01T00:00:00",
          "peak": 81541
         },
         {
          "game": "Counter-Strike: Source",
          "month": "2011-01-01T00:00:00",
          "peak": 87340
         },
         {
          "game": "Counter-Strike: Source",
          "month": "2011-02-01T00:00:00",
          "peak": 82999
         },
         {
          "game": "Counter-Strike: Source",
          "month": "2011-03-01T00:00:00",
          "peak": 78707
         },
         {
          "game": "Counter-Strike: Source",
          "month": "2011-04-01T00:00:00",
          "peak": 72932
         },
         {
          "game": "Counter-Strike: Source",
          "month": "2011-05-01T00:00:00",
          "peak": 68399
         },
         {
          "game": "Counter-Strike: Source",
          "month": "2011-06-01T00:00:00",
          "peak": 67319
         },
         {
          "game": "Counter-Strike: Source",
          "month": "2011-07-01T00:00:00",
          "peak": 57615
         },
         {
          "game": "Counter-Strike: Source",
          "month": "2011-08-01T00:00:00",
          "peak": 63643
         },
         {
          "game": "Counter-Strike: Source",
          "month": "2011-09-01T00:00:00",
          "peak": 62522
         },
         {
          "game": "Counter-Strike: Source",
          "month": "2011-10-01T00:00:00",
          "peak": 62201
         },
         {
          "game": "Counter-Strike: Source",
          "month": "2011-11-01T00:00:00",
          "peak": 57692
         },
         {
          "game": "Counter-Strike: Source",
          "month": "2011-12-01T00:00:00",
          "peak": 62805
         },
         {
          "game": "Counter-Strike: Source",
          "month": "2012-01-01T00:00:00",
          "peak": 67235
         },
         {
          "game": "Counter-Strike: Source",
          "month": "2012-02-01T00:00:00",
          "peak": 65028
         },
         {
          "game": "Counter-Strike: Source",
          "month": "2012-03-01T00:00:00",
          "peak": 63998
         },
         {
          "game": "Counter-Strike: Source",
          "month": "2012-04-01T00:00:00",
          "peak": 61373
         },
         {
          "game": "Counter-Strike: Source",
          "month": "2012-05-01T00:00:00",
          "peak": 56593
         },
         {
          "game": "Counter-Strike: Source",
          "month": "2012-06-01T00:00:00",
          "peak": 53484
         },
         {
          "game": "Counter-Strike: Source",
          "month": "2012-07-01T00:00:00",
          "peak": 48850
         },
         {
          "game": "Counter-Strike: Source",
          "month": "2012-08-01T00:00:00",
          "peak": 48224
         },
         {
          "game": "Counter-Strike: Source",
          "month": "2012-09-01T00:00:00",
          "peak": 43924
         },
         {
          "game": "Counter-Strike: Source",
          "month": "2012-10-01T00:00:00",
          "peak": 45145
         },
         {
          "game": "Counter-Strike: Source",
          "month": "2012-11-01T00:00:00",
          "peak": 44160
         },
         {
          "game": "Counter-Strike: Source",
          "month": "2012-12-01T00:00:00",
          "peak": 48458
         },
         {
          "game": "Counter-Strike: Source",
          "month": "2013-01-01T00:00:00",
          "peak": 48125
         },
         {
          "game": "Counter-Strike: Source",
          "month": "2013-02-01T00:00:00",
          "peak": 44608
         },
         {
          "game": "Counter-Strike: Source",
          "month": "2013-03-01T00:00:00",
          "peak": 44034
         },
         {
          "game": "Counter-Strike: Source",
          "month": "2013-04-01T00:00:00",
          "peak": 38626
         },
         {
          "game": "Counter-Strike: Source",
          "month": "2013-05-01T00:00:00",
          "peak": 32816
         },
         {
          "game": "Counter-Strike: Source",
          "month": "2013-06-01T00:00:00",
          "peak": 31622
         },
         {
          "game": "Counter-Strike: Source",
          "month": "2013-07-01T00:00:00",
          "peak": 29840
         },
         {
          "game": "Counter-Strike: Source",
          "month": "2013-08-01T00:00:00",
          "peak": 31385
         },
         {
          "game": "Counter-Strike: Source",
          "month": "2013-09-01T00:00:00",
          "peak": 31775
         },
         {
          "game": "Counter-Strike: Source",
          "month": "2013-10-01T00:00:00",
          "peak": 32227
         },
         {
          "game": "Counter-Strike: Source",
          "month": "2013-11-01T00:00:00",
          "peak": 32541
         },
         {
          "game": "Counter-Strike: Source",
          "month": "2013-12-01T00:00:00",
          "peak": 35222
         },
         {
          "game": "Counter-Strike: Source",
          "month": "2014-01-01T00:00:00",
          "peak": 35887
         },
         {
          "game": "Counter-Strike: Source",
          "month": "2014-02-01T00:00:00",
          "peak": 30851
         },
         {
          "game": "Counter-Strike: Source",
          "month": "2014-03-01T00:00:00",
          "peak": 27789
         },
         {
          "game": "Counter-Strike: Source",
          "month": "2014-04-01T00:00:00",
          "peak": 26052
         },
         {
          "game": "Counter-Strike: Source",
          "month": "2014-05-01T00:00:00",
          "peak": 24587
         },
         {
          "game": "Counter-Strike: Source",
          "month": "2014-06-01T00:00:00",
          "peak": 23895
         },
         {
          "game": "Counter-Strike: Source",
          "month": "2014-07-01T00:00:00",
          "peak": 21221
         },
         {
          "game": "Counter-Strike: Source",
          "month": "2014-08-01T00:00:00",
          "peak": 21419
         },
         {
          "game": "Counter-Strike: Source",
          "month": "2014-09-01T00:00:00",
          "peak": 21135
         },
         {
          "game": "Counter-Strike: Source",
          "month": "2014-10-01T00:00:00",
          "peak": 21678
         },
         {
          "game": "Counter-Strike: Source",
          "month": "2014-11-01T00:00:00",
          "peak": 23493
         },
         {
          "game": "Counter-Strike: Source",
          "month": "2014-12-01T00:00:00",
          "peak": 24519
         },
         {
          "game": "Counter-Strike: Source",
          "month": "2015-01-01T00:00:00",
          "peak": 24617
         },
         {
          "game": "Counter-Strike: Source",
          "month": "2015-02-01T00:00:00",
          "peak": 21737
         },
         {
          "game": "Counter-Strike: Source",
          "month": "2015-03-01T00:00:00",
          "peak": 17772
         },
         {
          "game": "Counter-Strike: Source",
          "month": "2015-04-01T00:00:00",
          "peak": 16183
         },
         {
          "game": "Counter-Strike: Source",
          "month": "2015-05-01T00:00:00",
          "peak": 16204
         },
         {
          "game": "Counter-Strike: Source",
          "month": "2015-06-01T00:00:00",
          "peak": 14896
         },
         {
          "game": "Counter-Strike: Source",
          "month": "2015-07-01T00:00:00",
          "peak": 13870
         },
         {
          "game": "Counter-Strike: Source",
          "month": "2015-08-01T00:00:00",
          "peak": 13594
         },
         {
          "game": "Counter-Strike: Source",
          "month": "2015-09-01T00:00:00",
          "peak": 13553
         },
         {
          "game": "Counter-Strike: Source",
          "month": "2015-10-01T00:00:00",
          "peak": 13960
         },
         {
          "game": "Counter-Strike: Source",
          "month": "2015-11-01T00:00:00",
          "peak": 14300
         },
         {
          "game": "Counter-Strike: Source",
          "month": "2015-12-01T00:00:00",
          "peak": 14860
         },
         {
          "game": "Counter-Strike: Source",
          "month": "2016-01-01T00:00:00",
          "peak": 16142
         },
         {
          "game": "Counter-Strike: Source",
          "month": "2016-02-01T00:00:00",
          "peak": 15627
         },
         {
          "game": "Counter-Strike: Source",
          "month": "2016-03-01T00:00:00",
          "peak": 14846
         },
         {
          "game": "Counter-Strike: Source",
          "month": "2016-04-01T00:00:00",
          "peak": 12774
         },
         {
          "game": "Counter-Strike: Source",
          "month": "2016-05-01T00:00:00",
          "peak": 11212
         },
         {
          "game": "Counter-Strike: Source",
          "month": "2016-06-01T00:00:00",
          "peak": 10865
         },
         {
          "game": "Counter-Strike: Source",
          "month": "2016-07-01T00:00:00",
          "peak": 10131
         },
         {
          "game": "Counter-Strike: Source",
          "month": "2016-08-01T00:00:00",
          "peak": 9828
         },
         {
          "game": "Counter-Strike: Source",
          "month": "2016-09-01T00:00:00",
          "peak": 10083
         },
         {
          "game": "Counter-Strike: Source",
          "month": "2016-10-01T00:00:00",
          "peak": 10503
         },
         {
          "game": "Counter-Strike: Source",
          "month": "2016-11-01T00:00:00",
          "peak": 11211
         },
         {
          "game": "Counter-Strike: Source",
          "month": "2016-12-01T00:00:00",
          "peak": 11500
         },
         {
          "game": "Counter-Strike: Source",
          "month": "2017-01-01T00:00:00",
          "peak": 12471
         },
         {
          "game": "Counter-Strike: Source",
          "month": "2017-02-01T00:00:00",
          "peak": 11557
         },
         {
          "game": "Counter-Strike: Source",
          "month": "2017-03-01T00:00:00",
          "peak": 10702
         },
         {
          "game": "Counter-Strike: Source",
          "month": "2017-04-01T00:00:00",
          "peak": 9493
         },
         {
          "game": "Counter-Strike: Source",
          "month": "2017-05-01T00:00:00",
          "peak": 8932
         },
         {
          "game": "Counter-Strike: Source",
          "month": "2017-06-01T00:00:00",
          "peak": 8598
         },
         {
          "game": "Counter-Strike: Source",
          "month": "2017-07-01T00:00:00",
          "peak": 8622
         },
         {
          "game": "Counter-Strike: Source",
          "month": "2017-08-01T00:00:00",
          "peak": 7911
         },
         {
          "game": "Counter-Strike: Source",
          "month": "2017-09-01T00:00:00",
          "peak": 8288
         },
         {
          "game": "Counter-Strike: Source",
          "month": "2017-10-01T00:00:00",
          "peak": 8818
         },
         {
          "game": "Counter-Strike: Source",
          "month": "2017-11-01T00:00:00",
          "peak": 9163
         },
         {
          "game": "Counter-Strike: Source",
          "month": "2017-12-01T00:00:00",
          "peak": 9918
         },
         {
          "game": "Counter-Strike: Source",
          "month": "2018-01-01T00:00:00",
          "peak": 10462
         },
         {
          "game": "Counter-Strike: Source",
          "month": "2018-02-01T00:00:00",
          "peak": 9825
         },
         {
          "game": "Counter-Strike: Source",
          "month": "2018-03-01T00:00:00",
          "peak": 9367
         },
         {
          "game": "Counter-Strike: Source",
          "month": "2018-04-01T00:00:00",
          "peak": 8486
         },
         {
          "game": "Counter-Strike: Source",
          "month": "2018-05-01T00:00:00",
          "peak": 7154
         },
         {
          "game": "Counter-Strike: Source",
          "month": "2018-06-01T00:00:00",
          "peak": 7181
         },
         {
          "game": "Counter-Strike: Source",
          "month": "2018-07-01T00:00:00",
          "peak": 6714
         },
         {
          "game": "Counter-Strike: Source",
          "month": "2018-08-01T00:00:00",
          "peak": 6845
         },
         {
          "game": "Counter-Strike: Source",
          "month": "2018-09-01T00:00:00",
          "peak": 6804
         },
         {
          "game": "Counter-Strike: Source",
          "month": "2018-10-01T00:00:00",
          "peak": 7154
         },
         {
          "game": "Counter-Strike: Source",
          "month": "2018-11-01T00:00:00",
          "peak": 8381
         },
         {
          "game": "Counter-Strike: Source",
          "month": "2018-12-01T00:00:00",
          "peak": 8771
         },
         {
          "game": "Counter-Strike: Source",
          "month": "2019-01-01T00:00:00",
          "peak": 8799
         },
         {
          "game": "Counter-Strike: Source",
          "month": "2019-02-01T00:00:00",
          "peak": 8167
         },
         {
          "game": "Counter-Strike: Source",
          "month": "2019-03-01T00:00:00",
          "peak": 7530
         },
         {
          "game": "Counter-Strike: Source",
          "month": "2019-04-01T00:00:00",
          "peak": 6823
         },
         {
          "game": "Counter-Strike: Source",
          "month": "2019-05-01T00:00:00",
          "peak": 6592
         },
         {
          "game": "Counter-Strike: Source",
          "month": "2019-06-01T00:00:00",
          "peak": 6790
         },
         {
          "game": "Counter-Strike: Source",
          "month": "2019-07-01T00:00:00",
          "peak": 6972
         },
         {
          "game": "Counter-Strike: Source",
          "month": "2019-08-01T00:00:00",
          "peak": 6045
         },
         {
          "game": "Counter-Strike: Source",
          "month": "2019-09-01T00:00:00",
          "peak": 6298
         },
         {
          "game": "Counter-Strike: Source",
          "month": "2019-10-01T00:00:00",
          "peak": 6196
         },
         {
          "game": "Counter-Strike: Source",
          "month": "2019-11-01T00:00:00",
          "peak": 7384
         },
         {
          "game": "Counter-Strike: Source",
          "month": "2019-12-01T00:00:00",
          "peak": 7940
         },
         {
          "game": "Counter-Strike: Source",
          "month": "2020-01-01T00:00:00",
          "peak": 7906
         },
         {
          "game": "Counter-Strike: Source",
          "month": "2020-02-01T00:00:00",
          "peak": 6996
         },
         {
          "game": "Counter-Strike: Source",
          "month": "2020-03-01T00:00:00",
          "peak": 10948
         },
         {
          "game": "Counter-Strike: Source",
          "month": "2020-04-01T00:00:00",
          "peak": 11636
         },
         {
          "game": "Counter-Strike: Source",
          "month": "2020-05-01T00:00:00",
          "peak": 9734
         },
         {
          "game": "Counter-Strike: Source",
          "month": "2020-06-01T00:00:00",
          "peak": 7356
         },
         {
          "game": "Counter-Strike: Source",
          "month": "2020-07-01T00:00:00",
          "peak": 6790
         },
         {
          "game": "Counter-Strike: Source",
          "month": "2020-08-01T00:00:00",
          "peak": 6286
         },
         {
          "game": "Counter-Strike: Source",
          "month": "2020-09-01T00:00:00",
          "peak": 5887
         },
         {
          "game": "Counter-Strike: Source",
          "month": "2020-10-01T00:00:00",
          "peak": 6616
         },
         {
          "game": "Counter-Strike: Source",
          "month": "2020-11-01T00:00:00",
          "peak": 7310
         },
         {
          "game": "Counter-Strike: Source",
          "month": "2020-12-01T00:00:00",
          "peak": 8120
         },
         {
          "game": "Counter-Strike: Source",
          "month": "2021-01-01T00:00:00",
          "peak": 8292
         },
         {
          "game": "Counter-Strike: Source",
          "month": "2021-02-01T00:00:00",
          "peak": 7610
         },
         {
          "game": "Counter-Strike: Source",
          "month": "2021-03-01T00:00:00",
          "peak": 8995
         },
         {
          "game": "Counter-Strike: Source",
          "month": "2021-04-01T00:00:00",
          "peak": 8737
         },
         {
          "game": "Counter-Strike: Source",
          "month": "2021-05-01T00:00:00",
          "peak": 7047
         },
         {
          "game": "Counter-Strike: Source",
          "month": "2021-06-01T00:00:00",
          "peak": 6023
         },
         {
          "game": "Counter-Strike: Source",
          "month": "2021-07-01T00:00:00",
          "peak": 5971
         },
         {
          "game": "Counter-Strike: Source",
          "month": "2021-08-01T00:00:00",
          "peak": 5337
         },
         {
          "game": "Counter-Strike: Source",
          "month": "2021-09-01T00:00:00",
          "peak": 5649
         },
         {
          "game": "Counter-Strike: Source",
          "month": "2021-10-01T00:00:00",
          "peak": 5723
         },
         {
          "game": "Counter-Strike: Source",
          "month": "2021-11-01T00:00:00",
          "peak": 6172
         },
         {
          "game": "Counter-Strike: Source",
          "month": "2021-12-01T00:00:00",
          "peak": 6704
         },
         {
          "game": "Counter-Strike: Source",
          "month": "2022-01-01T00:00:00",
          "peak": 8118
         },
         {
          "game": "Counter-Strike: Source",
          "month": "2022-02-01T00:00:00",
          "peak": 8907
         },
         {
          "game": "Counter-Strike: Source",
          "month": "2022-03-01T00:00:00",
          "peak": 8369
         },
         {
          "game": "Counter-Strike: Source",
          "month": "2022-04-01T00:00:00",
          "peak": 8494
         },
         {
          "game": "Counter-Strike: Source",
          "month": "2022-05-01T00:00:00",
          "peak": 7491
         },
         {
          "game": "Counter-Strike: Source",
          "month": "2022-06-01T00:00:00",
          "peak": 7349
         },
         {
          "game": "Counter-Strike: Source",
          "month": "2022-07-01T00:00:00",
          "peak": 7513
         },
         {
          "game": "Counter-Strike: Source",
          "month": "2022-08-01T00:00:00",
          "peak": 7027
         },
         {
          "game": "Counter-Strike: Source",
          "month": "2022-09-01T00:00:00",
          "peak": 6961
         },
         {
          "game": "Counter-Strike: Source",
          "month": "2022-10-01T00:00:00",
          "peak": 5396
         },
         {
          "game": "Counter-Strike: Source",
          "month": "2022-11-01T00:00:00",
          "peak": 6417
         },
         {
          "game": "Counter-Strike: Source",
          "month": "2022-12-01T00:00:00",
          "peak": 6048
         },
         {
          "game": "Counter-Strike: Source",
          "month": "2023-01-01T00:00:00",
          "peak": 6240
         },
         {
          "game": "Counter-Strike: Source",
          "month": "2023-02-01T00:00:00",
          "peak": 5531
         },
         {
          "game": "Counter-Strike: Source",
          "month": "2023-03-01T00:00:00",
          "peak": 6231
         },
         {
          "game": "Counter-Strike: Source",
          "month": "2023-04-01T00:00:00",
          "peak": 5498
         },
         {
          "game": "Counter-Strike: Source",
          "month": "2023-05-01T00:00:00",
          "peak": 4948
         },
         {
          "game": "Counter-Strike: Source",
          "month": "2023-06-01T00:00:00",
          "peak": 5039
         },
         {
          "game": "Counter-Strike: Source",
          "month": "2023-07-01T00:00:00",
          "peak": 5325
         },
         {
          "game": "Counter-Strike: Source",
          "month": "2023-08-01T00:00:00",
          "peak": 4495
         },
         {
          "game": "Counter-Strike: Source",
          "month": "2023-09-01T00:00:00",
          "peak": 5471
         },
         {
          "game": "Counter-Strike: Source",
          "month": "2023-10-01T00:00:00",
          "peak": 5495
         },
         {
          "game": "Counter-Strike: Source",
          "month": "2023-11-01T00:00:00",
          "peak": 6061
         },
         {
          "game": "Counter-Strike: Source",
          "month": "2023-12-01T00:00:00",
          "peak": 5973
         },
         {
          "game": "Counter-Strike: Source",
          "month": "2024-01-01T00:00:00",
          "peak": 6035
         },
         {
          "game": "Counter-Strike: Source",
          "month": "2024-02-01T00:00:00",
          "peak": 13071
         },
         {
          "game": "Counter-Strike: Source",
          "month": "2024-03-01T00:00:00",
          "peak": 13063
         },
         {
          "game": "Counter-Strike: Source",
          "month": "2024-04-01T00:00:00",
          "peak": 14242
         },
         {
          "game": "Counter-Strike: Source",
          "month": "2024-05-01T00:00:00",
          "peak": 13557
         },
         {
          "game": "Counter-Strike: Source",
          "month": "2024-06-01T00:00:00",
          "peak": 15078
         },
         {
          "game": "Counter-Strike: Source",
          "month": "2024-07-01T00:00:00",
          "peak": 17981
         },
         {
          "game": "Counter-Strike: Source",
          "month": "2024-08-01T00:00:00",
          "peak": 18986
         },
         {
          "game": "Counter-Strike: Source",
          "month": "2024-09-01T00:00:00",
          "peak": 15218
         },
         {
          "game": "Counter-Strike: Source",
          "month": "2024-10-01T00:00:00",
          "peak": 13115
         },
         {
          "game": "Counter-Strike: Source",
          "month": "2024-11-01T00:00:00",
          "peak": 12919
         },
         {
          "game": "Counter-Strike: Source",
          "month": "2024-12-01T00:00:00",
          "peak": 16674
         },
         {
          "game": "Counter-Strike: Source",
          "month": "2025-01-01T00:00:00",
          "peak": 17737
         },
         {
          "game": "Counter-Strike: Source",
          "month": "2025-02-01T00:00:00",
          "peak": 17926
         },
         {
          "game": "Counter-Strike: Source",
          "month": "2025-03-01T00:00:00",
          "peak": 20160
         },
         {
          "game": "Counter-Strike: Source",
          "month": "2025-04-01T00:00:00",
          "peak": 17173
         },
         {
          "game": "Counter-Strike: Source",
          "month": "2025-05-01T00:00:00",
          "peak": 13655
         },
         {
          "game": "Counter-Strike: Source",
          "month": "2025-06-01T00:00:00",
          "peak": 18204
         },
         {
          "game": "Counter-Strike: Source",
          "month": "2025-07-01T00:00:00",
          "peak": 56987
         },
         {
          "game": "Counter-Strike: Source",
          "month": "2025-08-01T00:00:00",
          "peak": 62898
         },
         {
          "game": "Counter-Strike: Condition Zero",
          "month": "2004-04-01T00:00:00",
          "peak": 9256
         },
         {
          "game": "Counter-Strike: Condition Zero",
          "month": "2004-06-01T00:00:00",
          "peak": 14032
         },
         {
          "game": "Counter-Strike: Condition Zero",
          "month": "2004-07-01T00:00:00",
          "peak": 15119
         },
         {
          "game": "Counter-Strike: Condition Zero",
          "month": "2004-08-01T00:00:00",
          "peak": 14280
         },
         {
          "game": "Counter-Strike: Condition Zero",
          "month": "2004-09-01T00:00:00",
          "peak": 15762
         },
         {
          "game": "Counter-Strike: Condition Zero",
          "month": "2004-10-01T00:00:00",
          "peak": 15076
         },
         {
          "game": "Counter-Strike: Condition Zero",
          "month": "2004-11-01T00:00:00",
          "peak": 15216
         },
         {
          "game": "Counter-Strike: Condition Zero",
          "month": "2004-12-01T00:00:00",
          "peak": 18107
         },
         {
          "game": "Counter-Strike: Condition Zero",
          "month": "2005-01-01T00:00:00",
          "peak": 15692
         },
         {
          "game": "Counter-Strike: Condition Zero",
          "month": "2005-02-01T00:00:00",
          "peak": 16502
         },
         {
          "game": "Counter-Strike: Condition Zero",
          "month": "2005-03-01T00:00:00",
          "peak": 17489
         },
         {
          "game": "Counter-Strike: Condition Zero",
          "month": "2005-04-01T00:00:00",
          "peak": 13288
         },
         {
          "game": "Counter-Strike: Condition Zero",
          "month": "2005-05-01T00:00:00",
          "peak": 19239
         },
         {
          "game": "Counter-Strike: Condition Zero",
          "month": "2005-06-01T00:00:00",
          "peak": 12053
         },
         {
          "game": "Counter-Strike: Condition Zero",
          "month": "2005-07-01T00:00:00",
          "peak": 18654
         },
         {
          "game": "Counter-Strike: Condition Zero",
          "month": "2005-08-01T00:00:00",
          "peak": 22438
         },
         {
          "game": "Counter-Strike: Condition Zero",
          "month": "2005-09-01T00:00:00",
          "peak": 19041
         },
         {
          "game": "Counter-Strike: Condition Zero",
          "month": "2005-11-01T00:00:00",
          "peak": 14824
         },
         {
          "game": "Counter-Strike: Condition Zero",
          "month": "2005-12-01T00:00:00",
          "peak": 21242
         },
         {
          "game": "Counter-Strike: Condition Zero",
          "month": "2006-08-01T00:00:00",
          "peak": 21153
         },
         {
          "game": "Counter-Strike: Condition Zero",
          "month": "2006-11-01T00:00:00",
          "peak": 15203
         },
         {
          "game": "Counter-Strike: Condition Zero",
          "month": "2006-12-01T00:00:00",
          "peak": 17896
         },
         {
          "game": "Counter-Strike: Condition Zero",
          "month": "2007-01-01T00:00:00",
          "peak": 21851
         },
         {
          "game": "Counter-Strike: Condition Zero",
          "month": "2007-02-01T00:00:00",
          "peak": 23807
         },
         {
          "game": "Counter-Strike: Condition Zero",
          "month": "2007-03-01T00:00:00",
          "peak": 19939
         },
         {
          "game": "Counter-Strike: Condition Zero",
          "month": "2007-04-01T00:00:00",
          "peak": 11923
         },
         {
          "game": "Counter-Strike: Condition Zero",
          "month": "2007-05-01T00:00:00",
          "peak": 24988
         },
         {
          "game": "Counter-Strike: Condition Zero",
          "month": "2007-06-01T00:00:00",
          "peak": 27256
         },
         {
          "game": "Counter-Strike: Condition Zero",
          "month": "2007-07-01T00:00:00",
          "peak": 28546
         },
         {
          "game": "Counter-Strike: Condition Zero",
          "month": "2007-08-01T00:00:00",
          "peak": 27545
         },
         {
          "game": "Counter-Strike: Condition Zero",
          "month": "2007-09-01T00:00:00",
          "peak": 32748
         },
         {
          "game": "Counter-Strike: Condition Zero",
          "month": "2007-10-01T00:00:00",
          "peak": 28221
         },
         {
          "game": "Counter-Strike: Condition Zero",
          "month": "2007-11-01T00:00:00",
          "peak": 21806
         },
         {
          "game": "Counter-Strike: Condition Zero",
          "month": "2007-12-01T00:00:00",
          "peak": 32279
         },
         {
          "game": "Counter-Strike: Condition Zero",
          "month": "2008-01-01T00:00:00",
          "peak": 28140
         },
         {
          "game": "Counter-Strike: Condition Zero",
          "month": "2008-09-01T00:00:00",
          "peak": 11694
         },
         {
          "game": "Counter-Strike: Condition Zero",
          "month": "2008-10-01T00:00:00",
          "peak": 12860
         },
         {
          "game": "Counter-Strike: Condition Zero",
          "month": "2008-11-01T00:00:00",
          "peak": 7328
         },
         {
          "game": "Counter-Strike: Condition Zero",
          "month": "2008-12-01T00:00:00",
          "peak": 7570
         },
         {
          "game": "Counter-Strike: Condition Zero",
          "month": "2009-01-01T00:00:00",
          "peak": 5893
         },
         {
          "game": "Counter-Strike: Condition Zero",
          "month": "2009-02-01T00:00:00",
          "peak": 9384
         },
         {
          "game": "Counter-Strike: Condition Zero",
          "month": "2009-03-01T00:00:00",
          "peak": 9018
         },
         {
          "game": "Counter-Strike: Condition Zero",
          "month": "2009-04-01T00:00:00",
          "peak": 5413
         },
         {
          "game": "Counter-Strike: Condition Zero",
          "month": "2009-05-01T00:00:00",
          "peak": 7336
         },
         {
          "game": "Counter-Strike: Condition Zero",
          "month": "2009-06-01T00:00:00",
          "peak": 7932
         },
         {
          "game": "Counter-Strike: Condition Zero",
          "month": "2009-07-01T00:00:00",
          "peak": 7964
         },
         {
          "game": "Counter-Strike: Condition Zero",
          "month": "2009-08-01T00:00:00",
          "peak": 9266
         },
         {
          "game": "Counter-Strike: Condition Zero",
          "month": "2009-09-01T00:00:00",
          "peak": 8634
         },
         {
          "game": "Counter-Strike: Condition Zero",
          "month": "2009-10-01T00:00:00",
          "peak": 9128
         },
         {
          "game": "Counter-Strike: Condition Zero",
          "month": "2009-11-01T00:00:00",
          "peak": 4990
         },
         {
          "game": "Counter-Strike: Condition Zero",
          "month": "2009-12-01T00:00:00",
          "peak": 8983
         },
         {
          "game": "Counter-Strike: Condition Zero",
          "month": "2010-01-01T00:00:00",
          "peak": 8927
         },
         {
          "game": "Counter-Strike: Condition Zero",
          "month": "2010-02-01T00:00:00",
          "peak": 8003
         },
         {
          "game": "Counter-Strike: Condition Zero",
          "month": "2010-03-01T00:00:00",
          "peak": 9060
         },
         {
          "game": "Counter-Strike: Condition Zero",
          "month": "2010-04-01T00:00:00",
          "peak": 8484
         },
         {
          "game": "Counter-Strike: Condition Zero",
          "month": "2010-05-01T00:00:00",
          "peak": 7677
         },
         {
          "game": "Counter-Strike: Condition Zero",
          "month": "2010-06-01T00:00:00",
          "peak": 7424
         },
         {
          "game": "Counter-Strike: Condition Zero",
          "month": "2010-07-01T00:00:00",
          "peak": 6910
         },
         {
          "game": "Counter-Strike: Condition Zero",
          "month": "2010-08-01T00:00:00",
          "peak": 7081
         },
         {
          "game": "Counter-Strike: Condition Zero",
          "month": "2010-09-01T00:00:00",
          "peak": 7428
         },
         {
          "game": "Counter-Strike: Condition Zero",
          "month": "2010-10-01T00:00:00",
          "peak": 7379
         },
         {
          "game": "Counter-Strike: Condition Zero",
          "month": "2010-11-01T00:00:00",
          "peak": 7539
         },
         {
          "game": "Counter-Strike: Condition Zero",
          "month": "2010-12-01T00:00:00",
          "peak": 7505
         },
         {
          "game": "Counter-Strike: Condition Zero",
          "month": "2011-01-01T00:00:00",
          "peak": 7354
         },
         {
          "game": "Counter-Strike: Condition Zero",
          "month": "2011-02-01T00:00:00",
          "peak": 7171
         },
         {
          "game": "Counter-Strike: Condition Zero",
          "month": "2011-03-01T00:00:00",
          "peak": 6715
         },
         {
          "game": "Counter-Strike: Condition Zero",
          "month": "2011-04-01T00:00:00",
          "peak": 6133
         },
         {
          "game": "Counter-Strike: Condition Zero",
          "month": "2011-05-01T00:00:00",
          "peak": 6128
         },
         {
          "game": "Counter-Strike: Condition Zero",
          "month": "2011-06-01T00:00:00",
          "peak": 5542
         },
         {
          "game": "Counter-Strike: Condition Zero",
          "month": "2011-07-01T00:00:00",
          "peak": 5180
         },
         {
          "game": "Counter-Strike: Condition Zero",
          "month": "2011-08-01T00:00:00",
          "peak": 5051
         },
         {
          "game": "Counter-Strike: Condition Zero",
          "month": "2011-09-01T00:00:00",
          "peak": 5083
         },
         {
          "game": "Counter-Strike: Condition Zero",
          "month": "2011-10-01T00:00:00",
          "peak": 4979
         },
         {
          "game": "Counter-Strike: Condition Zero",
          "month": "2011-11-01T00:00:00",
          "peak": 5031
         },
         {
          "game": "Counter-Strike: Condition Zero",
          "month": "2011-12-01T00:00:00",
          "peak": 4915
         },
         {
          "game": "Counter-Strike: Condition Zero",
          "month": "2012-01-01T00:00:00",
          "peak": 4929
         },
         {
          "game": "Counter-Strike: Condition Zero",
          "month": "2012-02-01T00:00:00",
          "peak": 4878
         },
         {
          "game": "Counter-Strike: Condition Zero",
          "month": "2012-03-01T00:00:00",
          "peak": 4530
         },
         {
          "game": "Counter-Strike: Condition Zero",
          "month": "2012-04-01T00:00:00",
          "peak": 4394
         },
         {
          "game": "Counter-Strike: Condition Zero",
          "month": "2012-05-01T00:00:00",
          "peak": 4180
         },
         {
          "game": "Counter-Strike: Condition Zero",
          "month": "2012-06-01T00:00:00",
          "peak": 3879
         },
         {
          "game": "Counter-Strike: Condition Zero",
          "month": "2012-07-01T00:00:00",
          "peak": 3530
         },
         {
          "game": "Counter-Strike: Condition Zero",
          "month": "2012-08-01T00:00:00",
          "peak": 3229
         },
         {
          "game": "Counter-Strike: Condition Zero",
          "month": "2012-09-01T00:00:00",
          "peak": 3184
         },
         {
          "game": "Counter-Strike: Condition Zero",
          "month": "2012-10-01T00:00:00",
          "peak": 3183
         },
         {
          "game": "Counter-Strike: Condition Zero",
          "month": "2012-11-01T00:00:00",
          "peak": 3356
         },
         {
          "game": "Counter-Strike: Condition Zero",
          "month": "2012-12-01T00:00:00",
          "peak": 3357
         },
         {
          "game": "Counter-Strike: Condition Zero",
          "month": "2013-01-01T00:00:00",
          "peak": 3378
         },
         {
          "game": "Counter-Strike: Condition Zero",
          "month": "2013-02-01T00:00:00",
          "peak": 3282
         },
         {
          "game": "Counter-Strike: Condition Zero",
          "month": "2013-03-01T00:00:00",
          "peak": 2888
         },
         {
          "game": "Counter-Strike: Condition Zero",
          "month": "2013-04-01T00:00:00",
          "peak": 2134
         },
         {
          "game": "Counter-Strike: Condition Zero",
          "month": "2013-05-01T00:00:00",
          "peak": 2020
         },
         {
          "game": "Counter-Strike: Condition Zero",
          "month": "2013-06-01T00:00:00",
          "peak": 1957
         },
         {
          "game": "Counter-Strike: Condition Zero",
          "month": "2013-07-01T00:00:00",
          "peak": 1857
         },
         {
          "game": "Counter-Strike: Condition Zero",
          "month": "2013-08-01T00:00:00",
          "peak": 1925
         },
         {
          "game": "Counter-Strike: Condition Zero",
          "month": "2013-09-01T00:00:00",
          "peak": 1995
         },
         {
          "game": "Counter-Strike: Condition Zero",
          "month": "2013-10-01T00:00:00",
          "peak": 2042
         },
         {
          "game": "Counter-Strike: Condition Zero",
          "month": "2013-11-01T00:00:00",
          "peak": 2090
         },
         {
          "game": "Counter-Strike: Condition Zero",
          "month": "2013-12-01T00:00:00",
          "peak": 2074
         },
         {
          "game": "Counter-Strike: Condition Zero",
          "month": "2014-01-01T00:00:00",
          "peak": 2157
         },
         {
          "game": "Counter-Strike: Condition Zero",
          "month": "2014-02-01T00:00:00",
          "peak": 1866
         },
         {
          "game": "Counter-Strike: Condition Zero",
          "month": "2014-03-01T00:00:00",
          "peak": 1764
         },
         {
          "game": "Counter-Strike: Condition Zero",
          "month": "2014-04-01T00:00:00",
          "peak": 1720
         },
         {
          "game": "Counter-Strike: Condition Zero",
          "month": "2014-05-01T00:00:00",
          "peak": 1662
         },
         {
          "game": "Counter-Strike: Condition Zero",
          "month": "2014-06-01T00:00:00",
          "peak": 1565
         },
         {
          "game": "Counter-Strike: Condition Zero",
          "month": "2014-07-01T00:00:00",
          "peak": 1489
         },
         {
          "game": "Counter-Strike: Condition Zero",
          "month": "2014-08-01T00:00:00",
          "peak": 1455
         },
         {
          "game": "Counter-Strike: Condition Zero",
          "month": "2014-09-01T00:00:00",
          "peak": 1525
         },
         {
          "game": "Counter-Strike: Condition Zero",
          "month": "2014-10-01T00:00:00",
          "peak": 1538
         },
         {
          "game": "Counter-Strike: Condition Zero",
          "month": "2014-11-01T00:00:00",
          "peak": 1711
         },
         {
          "game": "Counter-Strike: Condition Zero",
          "month": "2014-12-01T00:00:00",
          "peak": 1767
         },
         {
          "game": "Counter-Strike: Condition Zero",
          "month": "2015-01-01T00:00:00",
          "peak": 1638
         },
         {
          "game": "Counter-Strike: Condition Zero",
          "month": "2015-02-01T00:00:00",
          "peak": 1493
         },
         {
          "game": "Counter-Strike: Condition Zero",
          "month": "2015-03-01T00:00:00",
          "peak": 1448
         },
         {
          "game": "Counter-Strike: Condition Zero",
          "month": "2015-04-01T00:00:00",
          "peak": 1342
         },
         {
          "game": "Counter-Strike: Condition Zero",
          "month": "2015-05-01T00:00:00",
          "peak": 1312
         },
         {
          "game": "Counter-Strike: Condition Zero",
          "month": "2015-06-01T00:00:00",
          "peak": 1282
         },
         {
          "game": "Counter-Strike: Condition Zero",
          "month": "2015-07-01T00:00:00",
          "peak": 1204
         },
         {
          "game": "Counter-Strike: Condition Zero",
          "month": "2015-08-01T00:00:00",
          "peak": 1174
         },
         {
          "game": "Counter-Strike: Condition Zero",
          "month": "2015-09-01T00:00:00",
          "peak": 1207
         },
         {
          "game": "Counter-Strike: Condition Zero",
          "month": "2015-10-01T00:00:00",
          "peak": 1203
         },
         {
          "game": "Counter-Strike: Condition Zero",
          "month": "2015-11-01T00:00:00",
          "peak": 1316
         },
         {
          "game": "Counter-Strike: Condition Zero",
          "month": "2015-12-01T00:00:00",
          "peak": 1394
         },
         {
          "game": "Counter-Strike: Condition Zero",
          "month": "2016-01-01T00:00:00",
          "peak": 1500
         },
         {
          "game": "Counter-Strike: Condition Zero",
          "month": "2016-02-01T00:00:00",
          "peak": 1560
         },
         {
          "game": "Counter-Strike: Condition Zero",
          "month": "2016-03-01T00:00:00",
          "peak": 1383
         },
         {
          "game": "Counter-Strike: Condition Zero",
          "month": "2016-04-01T00:00:00",
          "peak": 1206
         },
         {
          "game": "Counter-Strike: Condition Zero",
          "month": "2016-05-01T00:00:00",
          "peak": 1186
         },
         {
          "game": "Counter-Strike: Condition Zero",
          "month": "2016-06-01T00:00:00",
          "peak": 1196
         },
         {
          "game": "Counter-Strike: Condition Zero",
          "month": "2016-07-01T00:00:00",
          "peak": 1070
         },
         {
          "game": "Counter-Strike: Condition Zero",
          "month": "2016-08-01T00:00:00",
          "peak": 988
         },
         {
          "game": "Counter-Strike: Condition Zero",
          "month": "2016-09-01T00:00:00",
          "peak": 1051
         },
         {
          "game": "Counter-Strike: Condition Zero",
          "month": "2016-10-01T00:00:00",
          "peak": 1124
         },
         {
          "game": "Counter-Strike: Condition Zero",
          "month": "2016-11-01T00:00:00",
          "peak": 1301
         },
         {
          "game": "Counter-Strike: Condition Zero",
          "month": "2016-12-01T00:00:00",
          "peak": 1357
         },
         {
          "game": "Counter-Strike: Condition Zero",
          "month": "2017-01-01T00:00:00",
          "peak": 1387
         },
         {
          "game": "Counter-Strike: Condition Zero",
          "month": "2017-02-01T00:00:00",
          "peak": 1247
         },
         {
          "game": "Counter-Strike: Condition Zero",
          "month": "2017-03-01T00:00:00",
          "peak": 1269
         },
         {
          "game": "Counter-Strike: Condition Zero",
          "month": "2017-04-01T00:00:00",
          "peak": 1078
         },
         {
          "game": "Counter-Strike: Condition Zero",
          "month": "2017-05-01T00:00:00",
          "peak": 1059
         },
         {
          "game": "Counter-Strike: Condition Zero",
          "month": "2017-06-01T00:00:00",
          "peak": 1065
         },
         {
          "game": "Counter-Strike: Condition Zero",
          "month": "2017-07-01T00:00:00",
          "peak": 1090
         },
         {
          "game": "Counter-Strike: Condition Zero",
          "month": "2017-08-01T00:00:00",
          "peak": 1012
         },
         {
          "game": "Counter-Strike: Condition Zero",
          "month": "2017-09-01T00:00:00",
          "peak": 1012
         },
         {
          "game": "Counter-Strike: Condition Zero",
          "month": "2017-10-01T00:00:00",
          "peak": 1044
         },
         {
          "game": "Counter-Strike: Condition Zero",
          "month": "2017-11-01T00:00:00",
          "peak": 1418
         },
         {
          "game": "Counter-Strike: Condition Zero",
          "month": "2017-12-01T00:00:00",
          "peak": 1440
         },
         {
          "game": "Counter-Strike: Condition Zero",
          "month": "2018-01-01T00:00:00",
          "peak": 1394
         },
         {
          "game": "Counter-Strike: Condition Zero",
          "month": "2018-02-01T00:00:00",
          "peak": 1370
         },
         {
          "game": "Counter-Strike: Condition Zero",
          "month": "2018-03-01T00:00:00",
          "peak": 1187
         },
         {
          "game": "Counter-Strike: Condition Zero",
          "month": "2018-04-01T00:00:00",
          "peak": 999
         },
         {
          "game": "Counter-Strike: Condition Zero",
          "month": "2018-05-01T00:00:00",
          "peak": 934
         },
         {
          "game": "Counter-Strike: Condition Zero",
          "month": "2018-06-01T00:00:00",
          "peak": 1062
         },
         {
          "game": "Counter-Strike: Condition Zero",
          "month": "2018-07-01T00:00:00",
          "peak": 985
         },
         {
          "game": "Counter-Strike: Condition Zero",
          "month": "2018-08-01T00:00:00",
          "peak": 858
         },
         {
          "game": "Counter-Strike: Condition Zero",
          "month": "2018-09-01T00:00:00",
          "peak": 840
         },
         {
          "game": "Counter-Strike: Condition Zero",
          "month": "2018-10-01T00:00:00",
          "peak": 860
         },
         {
          "game": "Counter-Strike: Condition Zero",
          "month": "2018-11-01T00:00:00",
          "peak": 1069
         },
         {
          "game": "Counter-Strike: Condition Zero",
          "month": "2018-12-01T00:00:00",
          "peak": 1061
         },
         {
          "game": "Counter-Strike: Condition Zero",
          "month": "2019-01-01T00:00:00",
          "peak": 1013
         },
         {
          "game": "Counter-Strike: Condition Zero",
          "month": "2019-02-01T00:00:00",
          "peak": 969
         },
         {
          "game": "Counter-Strike: Condition Zero",
          "month": "2019-03-01T00:00:00",
          "peak": 905
         },
         {
          "game": "Counter-Strike: Condition Zero",
          "month": "2019-04-01T00:00:00",
          "peak": 845
         },
         {
          "game": "Counter-Strike: Condition Zero",
          "month": "2019-05-01T00:00:00",
          "peak": 811
         },
         {
          "game": "Counter-Strike: Condition Zero",
          "month": "2019-06-01T00:00:00",
          "peak": 793
         },
         {
          "game": "Counter-Strike: Condition Zero",
          "month": "2019-07-01T00:00:00",
          "peak": 767
         },
         {
          "game": "Counter-Strike: Condition Zero",
          "month": "2019-08-01T00:00:00",
          "peak": 681
         },
         {
          "game": "Counter-Strike: Condition Zero",
          "month": "2019-09-01T00:00:00",
          "peak": 696
         },
         {
          "game": "Counter-Strike: Condition Zero",
          "month": "2019-10-01T00:00:00",
          "peak": 709
         },
         {
          "game": "Counter-Strike: Condition Zero",
          "month": "2019-11-01T00:00:00",
          "peak": 746
         },
         {
          "game": "Counter-Strike: Condition Zero",
          "month": "2019-12-01T00:00:00",
          "peak": 819
         },
         {
          "game": "Counter-Strike: Condition Zero",
          "month": "2020-01-01T00:00:00",
          "peak": 791
         },
         {
          "game": "Counter-Strike: Condition Zero",
          "month": "2020-02-01T00:00:00",
          "peak": 729
         },
         {
          "game": "Counter-Strike: Condition Zero",
          "month": "2020-03-01T00:00:00",
          "peak": 1576
         },
         {
          "game": "Counter-Strike: Condition Zero",
          "month": "2020-04-01T00:00:00",
          "peak": 1531
         },
         {
          "game": "Counter-Strike: Condition Zero",
          "month": "2020-05-01T00:00:00",
          "peak": 1358
         },
         {
          "game": "Counter-Strike: Condition Zero",
          "month": "2020-06-01T00:00:00",
          "peak": 929
         },
         {
          "game": "Counter-Strike: Condition Zero",
          "month": "2020-07-01T00:00:00",
          "peak": 921
         },
         {
          "game": "Counter-Strike: Condition Zero",
          "month": "2020-08-01T00:00:00",
          "peak": 740
         },
         {
          "game": "Counter-Strike: Condition Zero",
          "month": "2020-09-01T00:00:00",
          "peak": 694
         },
         {
          "game": "Counter-Strike: Condition Zero",
          "month": "2020-10-01T00:00:00",
          "peak": 726
         },
         {
          "game": "Counter-Strike: Condition Zero",
          "month": "2020-11-01T00:00:00",
          "peak": 844
         },
         {
          "game": "Counter-Strike: Condition Zero",
          "month": "2020-12-01T00:00:00",
          "peak": 908
         },
         {
          "game": "Counter-Strike: Condition Zero",
          "month": "2021-01-01T00:00:00",
          "peak": 947
         },
         {
          "game": "Counter-Strike: Condition Zero",
          "month": "2021-02-01T00:00:00",
          "peak": 852
         },
         {
          "game": "Counter-Strike: Condition Zero",
          "month": "2021-03-01T00:00:00",
          "peak": 806
         },
         {
          "game": "Counter-Strike: Condition Zero",
          "month": "2021-04-01T00:00:00",
          "peak": 776
         },
         {
          "game": "Counter-Strike: Condition Zero",
          "month": "2021-05-01T00:00:00",
          "peak": 752
         },
         {
          "game": "Counter-Strike: Condition Zero",
          "month": "2021-06-01T00:00:00",
          "peak": 683
         },
         {
          "game": "Counter-Strike: Condition Zero",
          "month": "2021-07-01T00:00:00",
          "peak": 649
         },
         {
          "game": "Counter-Strike: Condition Zero",
          "month": "2021-08-01T00:00:00",
          "peak": 583
         },
         {
          "game": "Counter-Strike: Condition Zero",
          "month": "2021-09-01T00:00:00",
          "peak": 582
         },
         {
          "game": "Counter-Strike: Condition Zero",
          "month": "2021-10-01T00:00:00",
          "peak": 587
         },
         {
          "game": "Counter-Strike: Condition Zero",
          "month": "2021-11-01T00:00:00",
          "peak": 640
         },
         {
          "game": "Counter-Strike: Condition Zero",
          "month": "2021-12-01T00:00:00",
          "peak": 686
         },
         {
          "game": "Counter-Strike: Condition Zero",
          "month": "2022-01-01T00:00:00",
          "peak": 697
         },
         {
          "game": "Counter-Strike: Condition Zero",
          "month": "2022-02-01T00:00:00",
          "peak": 677
         },
         {
          "game": "Counter-Strike: Condition Zero",
          "month": "2022-03-01T00:00:00",
          "peak": 613
         },
         {
          "game": "Counter-Strike: Condition Zero",
          "month": "2022-04-01T00:00:00",
          "peak": 584
         },
         {
          "game": "Counter-Strike: Condition Zero",
          "month": "2022-05-01T00:00:00",
          "peak": 524
         },
         {
          "game": "Counter-Strike: Condition Zero",
          "month": "2022-06-01T00:00:00",
          "peak": 542
         },
         {
          "game": "Counter-Strike: Condition Zero",
          "month": "2022-07-01T00:00:00",
          "peak": 525
         },
         {
          "game": "Counter-Strike: Condition Zero",
          "month": "2022-08-01T00:00:00",
          "peak": 491
         },
         {
          "game": "Counter-Strike: Condition Zero",
          "month": "2022-09-01T00:00:00",
          "peak": 495
         },
         {
          "game": "Counter-Strike: Condition Zero",
          "month": "2022-10-01T00:00:00",
          "peak": 527
         },
         {
          "game": "Counter-Strike: Condition Zero",
          "month": "2022-11-01T00:00:00",
          "peak": 735
         },
         {
          "game": "Counter-Strike: Condition Zero",
          "month": "2022-12-01T00:00:00",
          "peak": 718
         },
         {
          "game": "Counter-Strike: Condition Zero",
          "month": "2023-01-01T00:00:00",
          "peak": 719
         },
         {
          "game": "Counter-Strike: Condition Zero",
          "month": "2023-02-01T00:00:00",
          "peak": 635
         },
         {
          "game": "Counter-Strike: Condition Zero",
          "month": "2023-03-01T00:00:00",
          "peak": 708
         },
         {
          "game": "Counter-Strike: Condition Zero",
          "month": "2023-04-01T00:00:00",
          "peak": 668
         },
         {
          "game": "Counter-Strike: Condition Zero",
          "month": "2023-05-01T00:00:00",
          "peak": 556
         },
         {
          "game": "Counter-Strike: Condition Zero",
          "month": "2023-06-01T00:00:00",
          "peak": 648
         },
         {
          "game": "Counter-Strike: Condition Zero",
          "month": "2023-07-01T00:00:00",
          "peak": 621
         },
         {
          "game": "Counter-Strike: Condition Zero",
          "month": "2023-08-01T00:00:00",
          "peak": 521
         },
         {
          "game": "Counter-Strike: Condition Zero",
          "month": "2023-09-01T00:00:00",
          "peak": 630
         },
         {
          "game": "Counter-Strike: Condition Zero",
          "month": "2023-10-01T00:00:00",
          "peak": 601
         },
         {
          "game": "Counter-Strike: Condition Zero",
          "month": "2023-11-01T00:00:00",
          "peak": 578
         },
         {
          "game": "Counter-Strike: Condition Zero",
          "month": "2023-12-01T00:00:00",
          "peak": 638
         },
         {
          "game": "Counter-Strike: Condition Zero",
          "month": "2024-01-01T00:00:00",
          "peak": 617
         },
         {
          "game": "Counter-Strike: Condition Zero",
          "month": "2024-02-01T00:00:00",
          "peak": 566
         },
         {
          "game": "Counter-Strike: Condition Zero",
          "month": "2024-03-01T00:00:00",
          "peak": 606
         },
         {
          "game": "Counter-Strike: Condition Zero",
          "month": "2024-04-01T00:00:00",
          "peak": 540
         },
         {
          "game": "Counter-Strike: Condition Zero",
          "month": "2024-05-01T00:00:00",
          "peak": 505
         },
         {
          "game": "Counter-Strike: Condition Zero",
          "month": "2024-06-01T00:00:00",
          "peak": 584
         },
         {
          "game": "Counter-Strike: Condition Zero",
          "month": "2024-07-01T00:00:00",
          "peak": 599
         },
         {
          "game": "Counter-Strike: Condition Zero",
          "month": "2024-08-01T00:00:00",
          "peak": 535
         },
         {
          "game": "Counter-Strike: Condition Zero",
          "month": "2024-09-01T00:00:00",
          "peak": 552
         },
         {
          "game": "Counter-Strike: Condition Zero",
          "month": "2024-10-01T00:00:00",
          "peak": 591
         },
         {
          "game": "Counter-Strike: Condition Zero",
          "month": "2024-11-01T00:00:00",
          "peak": 637
         },
         {
          "game": "Counter-Strike: Condition Zero",
          "month": "2024-12-01T00:00:00",
          "peak": 747
         },
         {
          "game": "Counter-Strike: Condition Zero",
          "month": "2025-01-01T00:00:00",
          "peak": 673
         },
         {
          "game": "Counter-Strike: Condition Zero",
          "month": "2025-02-01T00:00:00",
          "peak": 642
         },
         {
          "game": "Counter-Strike: Condition Zero",
          "month": "2025-03-01T00:00:00",
          "peak": 644
         },
         {
          "game": "Counter-Strike: Condition Zero",
          "month": "2025-04-01T00:00:00",
          "peak": 616
         },
         {
          "game": "Counter-Strike: Condition Zero",
          "month": "2025-05-01T00:00:00",
          "peak": 580
         },
         {
          "game": "Counter-Strike: Condition Zero",
          "month": "2025-06-01T00:00:00",
          "peak": 559
         },
         {
          "game": "Counter-Strike: Condition Zero",
          "month": "2025-07-01T00:00:00",
          "peak": 588
         },
         {
          "game": "Counter-Strike: Condition Zero",
          "month": "2025-08-01T00:00:00",
          "peak": 557
         },
         {
          "game": "Counter-Strike: Global Offensive",
          "month": "2011-11-01T00:00:00",
          "peak": 680
         },
         {
          "game": "Counter-Strike: Global Offensive",
          "month": "2012-02-01T00:00:00",
          "peak": 204
         },
         {
          "game": "Counter-Strike: Global Offensive",
          "month": "2012-03-01T00:00:00",
          "peak": 1263
         },
         {
          "game": "Counter-Strike: Global Offensive",
          "month": "2012-04-01T00:00:00",
          "peak": 1899
         },
         {
          "game": "Counter-Strike: Global Offensive",
          "month": "2012-05-01T00:00:00",
          "peak": 2919
         },
         {
          "game": "Counter-Strike: Global Offensive",
          "month": "2012-06-01T00:00:00",
          "peak": 2732
         },
         {
          "game": "Counter-Strike: Global Offensive",
          "month": "2012-07-01T00:00:00",
          "peak": 52261
         },
         {
          "game": "Counter-Strike: Global Offensive",
          "month": "2012-08-01T00:00:00",
          "peak": 52596
         },
         {
          "game": "Counter-Strike: Global Offensive",
          "month": "2012-09-01T00:00:00",
          "peak": 36870
         },
         {
          "game": "Counter-Strike: Global Offensive",
          "month": "2012-10-01T00:00:00",
          "peak": 50533
         },
         {
          "game": "Counter-Strike: Global Offensive",
          "month": "2012-11-01T00:00:00",
          "peak": 50533
         },
         {
          "game": "Counter-Strike: Global Offensive",
          "month": "2012-12-01T00:00:00",
          "peak": 31359
         },
         {
          "game": "Counter-Strike: Global Offensive",
          "month": "2013-01-01T00:00:00",
          "peak": 35238
         },
         {
          "game": "Counter-Strike: Global Offensive",
          "month": "2013-02-01T00:00:00",
          "peak": 35597
         },
         {
          "game": "Counter-Strike: Global Offensive",
          "month": "2013-03-01T00:00:00",
          "peak": 32414
         },
         {
          "game": "Counter-Strike: Global Offensive",
          "month": "2013-04-01T00:00:00",
          "peak": 53379
         },
         {
          "game": "Counter-Strike: Global Offensive",
          "month": "2013-05-01T00:00:00",
          "peak": 53381
         },
         {
          "game": "Counter-Strike: Global Offensive",
          "month": "2013-06-01T00:00:00",
          "peak": 42149
         },
         {
          "game": "Counter-Strike: Global Offensive",
          "month": "2013-07-01T00:00:00",
          "peak": 50511
         },
         {
          "game": "Counter-Strike: Global Offensive",
          "month": "2013-08-01T00:00:00",
          "peak": 52052
         },
         {
          "game": "Counter-Strike: Global Offensive",
          "month": "2013-09-01T00:00:00",
          "peak": 53263
         },
         {
          "game": "Counter-Strike: Global Offensive",
          "month": "2013-10-01T00:00:00",
          "peak": 92279
         },
         {
          "game": "Counter-Strike: Global Offensive",
          "month": "2013-11-01T00:00:00",
          "peak": 96298
         },
         {
          "game": "Counter-Strike: Global Offensive",
          "month": "2013-12-01T00:00:00",
          "peak": 102084
         },
         {
          "game": "Counter-Strike: Global Offensive",
          "month": "2014-01-01T00:00:00",
          "peak": 119764
         },
         {
          "game": "Counter-Strike: Global Offensive",
          "month": "2014-02-01T00:00:00",
          "peak": 164495
         },
         {
          "game": "Counter-Strike: Global Offensive",
          "month": "2014-03-01T00:00:00",
          "peak": 164781
         },
         {
          "game": "Counter-Strike: Global Offensive",
          "month": "2014-04-01T00:00:00",
          "peak": 170137
         },
         {
          "game": "Counter-Strike: Global Offensive",
          "month": "2014-05-01T00:00:00",
          "peak": 173629
         },
         {
          "game": "Counter-Strike: Global Offensive",
          "month": "2014-06-01T00:00:00",
          "peak": 194016
         },
         {
          "game": "Counter-Strike: Global Offensive",
          "month": "2014-07-01T00:00:00",
          "peak": 277192
         },
         {
          "game": "Counter-Strike: Global Offensive",
          "month": "2014-08-01T00:00:00",
          "peak": 275014
         },
         {
          "game": "Counter-Strike: Global Offensive",
          "month": "2014-09-01T00:00:00",
          "peak": 260613
         },
         {
          "game": "Counter-Strike: Global Offensive",
          "month": "2014-10-01T00:00:00",
          "peak": 348018
         },
         {
          "game": "Counter-Strike: Global Offensive",
          "month": "2014-11-01T00:00:00",
          "peak": 367634
         },
         {
          "game": "Counter-Strike: Global Offensive",
          "month": "2014-12-01T00:00:00",
          "peak": 443188
         },
         {
          "game": "Counter-Strike: Global Offensive",
          "month": "2015-01-01T00:00:00",
          "peak": 455508
         },
         {
          "game": "Counter-Strike: Global Offensive",
          "month": "2015-02-01T00:00:00",
          "peak": 595439
         },
         {
          "game": "Counter-Strike: Global Offensive",
          "month": "2015-03-01T00:00:00",
          "peak": 568556
         },
         {
          "game": "Counter-Strike: Global Offensive",
          "month": "2015-04-01T00:00:00",
          "peak": 569848
         },
         {
          "game": "Counter-Strike: Global Offensive",
          "month": "2015-05-01T00:00:00",
          "peak": 681170
         },
         {
          "game": "Counter-Strike: Global Offensive",
          "month": "2015-06-01T00:00:00",
          "peak": 611284
         },
         {
          "game": "Counter-Strike: Global Offensive",
          "month": "2015-07-01T00:00:00",
          "peak": 546142
         },
         {
          "game": "Counter-Strike: Global Offensive",
          "month": "2015-08-01T00:00:00",
          "peak": 819902
         },
         {
          "game": "Counter-Strike: Global Offensive",
          "month": "2015-09-01T00:00:00",
          "peak": 725939
         },
         {
          "game": "Counter-Strike: Global Offensive",
          "month": "2015-10-01T00:00:00",
          "peak": 786707
         },
         {
          "game": "Counter-Strike: Global Offensive",
          "month": "2015-11-01T00:00:00",
          "peak": 691930
         },
         {
          "game": "Counter-Strike: Global Offensive",
          "month": "2015-12-01T00:00:00",
          "peak": 823694
         },
         {
          "game": "Counter-Strike: Global Offensive",
          "month": "2016-01-01T00:00:00",
          "peak": 667432
         },
         {
          "game": "Counter-Strike: Global Offensive",
          "month": "2016-02-01T00:00:00",
          "peak": 738969
         },
         {
          "game": "Counter-Strike: Global Offensive",
          "month": "2016-03-01T00:00:00",
          "peak": 800869
         },
         {
          "game": "Counter-Strike: Global Offensive",
          "month": "2016-04-01T00:00:00",
          "peak": 850485
         },
         {
          "game": "Counter-Strike: Global Offensive",
          "month": "2016-05-01T00:00:00",
          "peak": 638088
         },
         {
          "game": "Counter-Strike: Global Offensive",
          "month": "2016-06-01T00:00:00",
          "peak": 579110
         },
         {
          "game": "Counter-Strike: Global Offensive",
          "month": "2016-07-01T00:00:00",
          "peak": 636056
         },
         {
          "game": "Counter-Strike: Global Offensive",
          "month": "2016-08-01T00:00:00",
          "peak": 599095
         },
         {
          "game": "Counter-Strike: Global Offensive",
          "month": "2016-09-01T00:00:00",
          "peak": 638360
         },
         {
          "game": "Counter-Strike: Global Offensive",
          "month": "2016-10-01T00:00:00",
          "peak": 661985
         },
         {
          "game": "Counter-Strike: Global Offensive",
          "month": "2016-11-01T00:00:00",
          "peak": 627124
         },
         {
          "game": "Counter-Strike: Global Offensive",
          "month": "2016-12-01T00:00:00",
          "peak": 662460
         },
         {
          "game": "Counter-Strike: Global Offensive",
          "month": "2017-01-01T00:00:00",
          "peak": 814616
         },
         {
          "game": "Counter-Strike: Global Offensive",
          "month": "2017-02-01T00:00:00",
          "peak": 744468
         },
         {
          "game": "Counter-Strike: Global Offensive",
          "month": "2017-03-01T00:00:00",
          "peak": 742356
         },
         {
          "game": "Counter-Strike: Global Offensive",
          "month": "2017-04-01T00:00:00",
          "peak": 695235
         },
         {
          "game": "Counter-Strike: Global Offensive",
          "month": "2017-05-01T00:00:00",
          "peak": 697189
         },
         {
          "game": "Counter-Strike: Global Offensive",
          "month": "2017-06-01T00:00:00",
          "peak": 614621
         },
         {
          "game": "Counter-Strike: Global Offensive",
          "month": "2017-07-01T00:00:00",
          "peak": 640277
         },
         {
          "game": "Counter-Strike: Global Offensive",
          "month": "2017-08-01T00:00:00",
          "peak": 598656
         },
         {
          "game": "Counter-Strike: Global Offensive",
          "month": "2017-09-01T00:00:00",
          "peak": 681413
         },
         {
          "game": "Counter-Strike: Global Offensive",
          "month": "2017-10-01T00:00:00",
          "peak": 644082
         },
         {
          "game": "Counter-Strike: Global Offensive",
          "month": "2017-11-01T00:00:00",
          "peak": 602797
         },
         {
          "game": "Counter-Strike: Global Offensive",
          "month": "2017-12-01T00:00:00",
          "peak": 601351
         },
         {
          "game": "Counter-Strike: Global Offensive",
          "month": "2018-01-01T00:00:00",
          "peak": 719298
         },
         {
          "game": "Counter-Strike: Global Offensive",
          "month": "2018-02-01T00:00:00",
          "peak": 691196
         },
         {
          "game": "Counter-Strike: Global Offensive",
          "month": "2018-03-01T00:00:00",
          "peak": 674462
         },
         {
          "game": "Counter-Strike: Global Offensive",
          "month": "2018-04-01T00:00:00",
          "peak": 523827
         },
         {
          "game": "Counter-Strike: Global Offensive",
          "month": "2018-05-01T00:00:00",
          "peak": 454436
         },
         {
          "game": "Counter-Strike: Global Offensive",
          "month": "2018-06-01T00:00:00",
          "peak": 422310
         },
         {
          "game": "Counter-Strike: Global Offensive",
          "month": "2018-07-01T00:00:00",
          "peak": 429650
         },
         {
          "game": "Counter-Strike: Global Offensive",
          "month": "2018-08-01T00:00:00",
          "peak": 456907
         },
         {
          "game": "Counter-Strike: Global Offensive",
          "month": "2018-09-01T00:00:00",
          "peak": 587639
         },
         {
          "game": "Counter-Strike: Global Offensive",
          "month": "2018-10-01T00:00:00",
          "peak": 567916
         },
         {
          "game": "Counter-Strike: Global Offensive",
          "month": "2018-11-01T00:00:00",
          "peak": 546192
         },
         {
          "game": "Counter-Strike: Global Offensive",
          "month": "2018-12-01T00:00:00",
          "peak": 749638
         },
         {
          "game": "Counter-Strike: Global Offensive",
          "month": "2019-01-01T00:00:00",
          "peak": 687299
         },
         {
          "game": "Counter-Strike: Global Offensive",
          "month": "2019-02-01T00:00:00",
          "peak": 656097
         },
         {
          "game": "Counter-Strike: Global Offensive",
          "month": "2019-03-01T00:00:00",
          "peak": 683952
         },
         {
          "game": "Counter-Strike: Global Offensive",
          "month": "2019-04-01T00:00:00",
          "peak": 622852
         },
         {
          "game": "Counter-Strike: Global Offensive",
          "month": "2019-05-01T00:00:00",
          "peak": 592848
         },
         {
          "game": "Counter-Strike: Global Offensive",
          "month": "2019-06-01T00:00:00",
          "peak": 591839
         },
         {
          "game": "Counter-Strike: Global Offensive",
          "month": "2019-07-01T00:00:00",
          "peak": 579696
         },
         {
          "game": "Counter-Strike: Global Offensive",
          "month": "2019-08-01T00:00:00",
          "peak": 659195
         },
         {
          "game": "Counter-Strike: Global Offensive",
          "month": "2019-09-01T00:00:00",
          "peak": 723700
         },
         {
          "game": "Counter-Strike: Global Offensive",
          "month": "2019-10-01T00:00:00",
          "peak": 754909
         },
         {
          "game": "Counter-Strike: Global Offensive",
          "month": "2019-11-01T00:00:00",
          "peak": 764438
         },
         {
          "game": "Counter-Strike: Global Offensive",
          "month": "2019-12-01T00:00:00",
          "peak": 771640
         },
         {
          "game": "Counter-Strike: Global Offensive",
          "month": "2020-01-01T00:00:00",
          "peak": 822490
         },
         {
          "game": "Counter-Strike: Global Offensive",
          "month": "2020-02-01T00:00:00",
          "peak": 933748
         },
         {
          "game": "Counter-Strike: Global Offensive",
          "month": "2020-03-01T00:00:00",
          "peak": 1226724
         },
         {
          "game": "Counter-Strike: Global Offensive",
          "month": "2020-04-01T00:00:00",
          "peak": 1308963
         },
         {
          "game": "Counter-Strike: Global Offensive",
          "month": "2020-05-01T00:00:00",
          "peak": 1179111
         },
         {
          "game": "Counter-Strike: Global Offensive",
          "month": "2020-06-01T00:00:00",
          "peak": 957636
         },
         {
          "game": "Counter-Strike: Global Offensive",
          "month": "2020-07-01T00:00:00",
          "peak": 861948
         },
         {
          "game": "Counter-Strike: Global Offensive",
          "month": "2020-08-01T00:00:00",
          "peak": 932283
         },
         {
          "game": "Counter-Strike: Global Offensive",
          "month": "2020-09-01T00:00:00",
          "peak": 980879
         },
         {
          "game": "Counter-Strike: Global Offensive",
          "month": "2020-10-01T00:00:00",
          "peak": 951748
         },
         {
          "game": "Counter-Strike: Global Offensive",
          "month": "2020-11-01T00:00:00",
          "peak": 1040051
         },
         {
          "game": "Counter-Strike: Global Offensive",
          "month": "2020-12-01T00:00:00",
          "peak": 1169661
         },
         {
          "game": "Counter-Strike: Global Offensive",
          "month": "2021-01-01T00:00:00",
          "peak": 1125411
         },
         {
          "game": "Counter-Strike: Global Offensive",
          "month": "2021-02-01T00:00:00",
          "peak": 1125838
         },
         {
          "game": "Counter-Strike: Global Offensive",
          "month": "2021-03-01T00:00:00",
          "peak": 1201993
         },
         {
          "game": "Counter-Strike: Global Offensive",
          "month": "2021-04-01T00:00:00",
          "peak": 1150982
         },
         {
          "game": "Counter-Strike: Global Offensive",
          "month": "2021-05-01T00:00:00",
          "peak": 1088168
         },
         {
          "game": "Counter-Strike: Global Offensive",
          "month": "2021-06-01T00:00:00",
          "peak": 929940
         },
         {
          "game": "Counter-Strike: Global Offensive",
          "month": "2021-07-01T00:00:00",
          "peak": 766510
         },
         {
          "game": "Counter-Strike: Global Offensive",
          "month": "2021-08-01T00:00:00",
          "peak": 804133
         },
         {
          "game": "Counter-Strike: Global Offensive",
          "month": "2021-09-01T00:00:00",
          "peak": 949817
         },
         {
          "game": "Counter-Strike: Global Offensive",
          "month": "2021-10-01T00:00:00",
          "peak": 866030
         },
         {
          "game": "Counter-Strike: Global Offensive",
          "month": "2021-11-01T00:00:00",
          "peak": 944330
         },
         {
          "game": "Counter-Strike: Global Offensive",
          "month": "2021-12-01T00:00:00",
          "peak": 950586
         },
         {
          "game": "Counter-Strike: Global Offensive",
          "month": "2022-01-01T00:00:00",
          "peak": 992455
         },
         {
          "game": "Counter-Strike: Global Offensive",
          "month": "2022-02-01T00:00:00",
          "peak": 997730
         },
         {
          "game": "Counter-Strike: Global Offensive",
          "month": "2022-03-01T00:00:00",
          "peak": 993808
         },
         {
          "game": "Counter-Strike: Global Offensive",
          "month": "2022-04-01T00:00:00",
          "peak": 1016762
         },
         {
          "game": "Counter-Strike: Global Offensive",
          "month": "2022-05-01T00:00:00",
          "peak": 932681
         },
         {
          "game": "Counter-Strike: Global Offensive",
          "month": "2022-06-01T00:00:00",
          "peak": 906968
         },
         {
          "game": "Counter-Strike: Global Offensive",
          "month": "2022-07-01T00:00:00",
          "peak": 928329
         },
         {
          "game": "Counter-Strike: Global Offensive",
          "month": "2022-08-01T00:00:00",
          "peak": 1039889
         },
         {
          "game": "Counter-Strike: Global Offensive",
          "month": "2022-09-01T00:00:00",
          "peak": 1103223
         },
         {
          "game": "Counter-Strike: Global Offensive",
          "month": "2022-10-01T00:00:00",
          "peak": 1090858
         },
         {
          "game": "Counter-Strike: Global Offensive",
          "month": "2022-11-01T00:00:00",
          "peak": 1132952
         },
         {
          "game": "Counter-Strike: Global Offensive",
          "month": "2022-12-01T00:00:00",
          "peak": 1067327
         },
         {
          "game": "Counter-Strike: Global Offensive",
          "month": "2023-01-01T00:00:00",
          "peak": 1200077
         },
         {
          "game": "Counter-Strike: Global Offensive",
          "month": "2023-02-01T00:00:00",
          "peak": 1355797
         },
         {
          "game": "Counter-Strike: Global Offensive",
          "month": "2023-03-01T00:00:00",
          "peak": 1519457
         },
         {
          "game": "Counter-Strike: Global Offensive",
          "month": "2023-04-01T00:00:00",
          "peak": 1514410
         },
         {
          "game": "Counter-Strike: Global Offensive",
          "month": "2023-05-01T00:00:00",
          "peak": 1818773
         },
         {
          "game": "Counter-Strike: Global Offensive",
          "month": "2023-06-01T00:00:00",
          "peak": 1673717
         },
         {
          "game": "Counter-Strike: Global Offensive",
          "month": "2023-07-01T00:00:00",
          "peak": 1226527
         },
         {
          "game": "Counter-Strike: Global Offensive",
          "month": "2023-08-01T00:00:00",
          "peak": 1539504
         },
         {
          "game": "Counter-Strike 2",
          "month": "2023-09-01T00:00:00",
          "peak": 1560435
         },
         {
          "game": "Counter-Strike 2",
          "month": "2023-10-01T00:00:00",
          "peak": 1392488
         },
         {
          "game": "Counter-Strike 2",
          "month": "2023-11-01T00:00:00",
          "peak": 1163388
         },
         {
          "game": "Counter-Strike 2",
          "month": "2023-12-01T00:00:00",
          "peak": 1255172
         },
         {
          "game": "Counter-Strike 2",
          "month": "2024-01-01T00:00:00",
          "peak": 1312422
         },
         {
          "game": "Counter-Strike 2",
          "month": "2024-02-01T00:00:00",
          "peak": 1403250
         },
         {
          "game": "Counter-Strike 2",
          "month": "2024-03-01T00:00:00",
          "peak": 1525069
         },
         {
          "game": "Counter-Strike 2",
          "month": "2024-04-01T00:00:00",
          "peak": 1618685
         },
         {
          "game": "Counter-Strike 2",
          "month": "2024-05-01T00:00:00",
          "peak": 1631616
         },
         {
          "game": "Counter-Strike 2",
          "month": "2024-06-01T00:00:00",
          "peak": 1525896
         },
         {
          "game": "Counter-Strike 2",
          "month": "2024-07-01T00:00:00",
          "peak": 1347502
         },
         {
          "game": "Counter-Strike 2",
          "month": "2024-08-01T00:00:00",
          "peak": 1426478
         },
         {
          "game": "Counter-Strike 2",
          "month": "2024-09-01T00:00:00",
          "peak": 1482529
         },
         {
          "game": "Counter-Strike 2",
          "month": "2024-10-01T00:00:00",
          "peak": 1498661
         },
         {
          "game": "Counter-Strike 2",
          "month": "2024-11-01T00:00:00",
          "peak": 1562206
         },
         {
          "game": "Counter-Strike 2",
          "month": "2024-12-01T00:00:00",
          "peak": 1740261
         },
         {
          "game": "Counter-Strike 2",
          "month": "2025-01-01T00:00:00",
          "peak": 1604641
         },
         {
          "game": "Counter-Strike 2",
          "month": "2025-02-01T00:00:00",
          "peak": 1789374
         },
         {
          "game": "Counter-Strike 2",
          "month": "2025-03-01T00:00:00",
          "peak": 1824989
         },
         {
          "game": "Counter-Strike 2",
          "month": "2025-04-01T00:00:00",
          "peak": 1862531
         },
         {
          "game": "Counter-Strike 2",
          "month": "2025-05-01T00:00:00",
          "peak": 1722301
         },
         {
          "game": "Counter-Strike 2",
          "month": "2025-06-01T00:00:00",
          "peak": 1732079
         },
         {
          "game": "Counter-Strike 2",
          "month": "2025-07-01T00:00:00",
          "peak": 1433826
         },
         {
          "game": "Counter-Strike 2",
          "month": "2025-08-01T00:00:00",
          "peak": 1505419
         }
        ]
       },
       "encoding": {
        "color": {
         "field": "game",
         "scale": {
          "domain": [
           "Counter-Strike (1.6)",
           "Counter-Strike: Condition Zero",
           "Counter-Strike: Source",
           "Counter-Strike: Global Offensive",
           "Counter-Strike 2"
          ],
          "range": [
           "#009E73",
           "#7F7F7F",
           "#56B4E9",
           "#D55E00",
           "#CC79A7"
          ]
         },
         "title": "Game/Version",
         "type": "nominal"
        },
        "tooltip": [
         {
          "field": "game",
          "type": "nominal"
         },
         {
          "field": "month",
          "type": "temporal"
         },
         {
          "field": "peak",
          "type": "quantitative"
         }
        ],
        "x": {
         "field": "month",
         "title": "Year",
         "type": "temporal"
        },
        "y": {
         "field": "peak",
         "title": "Peak players",
         "type": "quantitative"
        }
       },
       "height": 450,
       "mark": {
        "type": "line"
       },
       "title": "Counter-Strike Playerbase Over Time",
       "usermeta": {
        "embedOptions": {
         "theme": "fivethirtyeight"
        }
       },
       "width": 950
      },
      "text/plain": [
       "<VegaLite 5 object>\n",
       "\n",
       "If you see this message, it means the renderer has not been properly enabled\n",
       "for the frontend that you are using. For more information, see\n",
       "https://altair-viz.github.io/user_guide/display_frontends.html#troubleshooting\n"
      ]
     },
     "execution_count": 36,
     "metadata": {},
     "output_type": "execute_result"
    }
   ],
   "source": [
    "series = {\n",
    "    # \"All Counter-Strike (aggregate)\": SteamDB_merged_grouped,\n",
    "    \"Counter-Strike (1.6)\": cs_data,\n",
    "    \"Counter-Strike: Source\": css_data,\n",
    "    \"Counter-Strike: Condition Zero\": cscz_data,\n",
    "    \"Counter-Strike: Global Offensive\": csgo_data,\n",
    "    \"Counter-Strike 2\": cs2_data,\n",
    "}\n",
    "\n",
    "colors = {\n",
    "    # \"All Counter-Strike (aggregate)\":  \"#0057B8\",  # deep royal blue (highlighted)\n",
    "    \"Counter-Strike (1.6)\":            \"#009E73\",  # green\n",
    "    \"Counter-Strike: Condition Zero\":  \"#7F7F7F\",  # medium gray (subtle)\n",
    "    \"Counter-Strike: Source\":          \"#56B4E9\",  # sky blue\n",
    "    \"Counter-Strike: Global Offensive\":\"#D55E00\",  # vermillion (strong contrast vs blue)\n",
    "    \"Counter-Strike 2\":                \"#CC79A7\",  # magenta\n",
    "}\n",
    "\n",
    "order = [\n",
    "#     \"All Counter-Strike (aggregate)\",\n",
    "    \"Counter-Strike (1.6)\",\n",
    "    \"Counter-Strike: Condition Zero\",\n",
    "    \"Counter-Strike: Source\",\n",
    "    \"Counter-Strike: Global Offensive\",\n",
    "    \"Counter-Strike 2\",\n",
    "]\n",
    "\n",
    "# Combine all series into one tidy DataFrame\n",
    "frames = []\n",
    "for name, df in series.items():\n",
    "    df[\"game\"] = name\n",
    "    frames.append(df[[\"month\", \"peak\", \"game\"]])\n",
    "\n",
    "combined = pd.concat(frames, ignore_index=True)\n",
    "\n",
    "# Build Altair chart\n",
    "chart = (\n",
    "    alt.Chart(combined)\n",
    "    .mark_line()\n",
    "    .encode(\n",
    "        x=alt.X(\"month:T\", title=\"Year\"),\n",
    "        y=alt.Y(\"peak:Q\", title=\"Peak players\"),\n",
    "        color=alt.Color(\"game:N\", title=\"Game/Version\", scale=alt.Scale(domain=order, range=[colors[k] for k in order])),\n",
    "        tooltip=[\"game\", \"month\", \"peak\"],\n",
    "    )\n",
    "    .properties(width=950, height=450, title=\"Counter-Strike Playerbase Over Time\")\n",
    ")\n",
    "\n",
    "chart"
   ]
  },
  {
   "cell_type": "code",
   "execution_count": 43,
   "metadata": {},
   "outputs": [
    {
     "data": {
      "text/html": [
       "<div>\n",
       "<style scoped>\n",
       "    .dataframe tbody tr th:only-of-type {\n",
       "        vertical-align: middle;\n",
       "    }\n",
       "\n",
       "    .dataframe tbody tr th {\n",
       "        vertical-align: top;\n",
       "    }\n",
       "\n",
       "    .dataframe thead th {\n",
       "        text-align: right;\n",
       "    }\n",
       "</style>\n",
       "<table border=\"1\" class=\"dataframe\">\n",
       "  <thead>\n",
       "    <tr style=\"text-align: right;\">\n",
       "      <th></th>\n",
       "      <th>month</th>\n",
       "      <th>Avg Viewers</th>\n",
       "      <th>Gain</th>\n",
       "      <th>Peak Viewers</th>\n",
       "      <th>Avg Streams</th>\n",
       "      <th>Gain.1</th>\n",
       "      <th>Peak Streams</th>\n",
       "      <th>Hours Watched</th>\n",
       "      <th>viewCount</th>\n",
       "    </tr>\n",
       "  </thead>\n",
       "  <tbody>\n",
       "    <tr>\n",
       "      <th>0</th>\n",
       "      <td>2005-08-01</td>\n",
       "      <td>NaN</td>\n",
       "      <td>NaN</td>\n",
       "      <td>NaN</td>\n",
       "      <td>NaN</td>\n",
       "      <td>NaN</td>\n",
       "      <td>NaN</td>\n",
       "      <td>NaN</td>\n",
       "      <td>89144</td>\n",
       "    </tr>\n",
       "    <tr>\n",
       "      <th>1</th>\n",
       "      <td>2005-09-01</td>\n",
       "      <td>NaN</td>\n",
       "      <td>NaN</td>\n",
       "      <td>NaN</td>\n",
       "      <td>NaN</td>\n",
       "      <td>NaN</td>\n",
       "      <td>NaN</td>\n",
       "      <td>NaN</td>\n",
       "      <td>19415</td>\n",
       "    </tr>\n",
       "    <tr>\n",
       "      <th>2</th>\n",
       "      <td>2005-10-01</td>\n",
       "      <td>NaN</td>\n",
       "      <td>NaN</td>\n",
       "      <td>NaN</td>\n",
       "      <td>NaN</td>\n",
       "      <td>NaN</td>\n",
       "      <td>NaN</td>\n",
       "      <td>NaN</td>\n",
       "      <td>263357</td>\n",
       "    </tr>\n",
       "    <tr>\n",
       "      <th>3</th>\n",
       "      <td>2005-11-01</td>\n",
       "      <td>NaN</td>\n",
       "      <td>NaN</td>\n",
       "      <td>NaN</td>\n",
       "      <td>NaN</td>\n",
       "      <td>NaN</td>\n",
       "      <td>NaN</td>\n",
       "      <td>NaN</td>\n",
       "      <td>1810148</td>\n",
       "    </tr>\n",
       "    <tr>\n",
       "      <th>4</th>\n",
       "      <td>2005-12-01</td>\n",
       "      <td>NaN</td>\n",
       "      <td>NaN</td>\n",
       "      <td>NaN</td>\n",
       "      <td>NaN</td>\n",
       "      <td>NaN</td>\n",
       "      <td>NaN</td>\n",
       "      <td>NaN</td>\n",
       "      <td>10797827</td>\n",
       "    </tr>\n",
       "  </tbody>\n",
       "</table>\n",
       "</div>"
      ],
      "text/plain": [
       "       month  Avg Viewers  Gain  Peak Viewers  Avg Streams  Gain.1  \\\n",
       "0 2005-08-01          NaN   NaN           NaN          NaN     NaN   \n",
       "1 2005-09-01          NaN   NaN           NaN          NaN     NaN   \n",
       "2 2005-10-01          NaN   NaN           NaN          NaN     NaN   \n",
       "3 2005-11-01          NaN   NaN           NaN          NaN     NaN   \n",
       "4 2005-12-01          NaN   NaN           NaN          NaN     NaN   \n",
       "\n",
       "   Peak Streams  Hours Watched  viewCount  \n",
       "0           NaN            NaN      89144  \n",
       "1           NaN            NaN      19415  \n",
       "2           NaN            NaN     263357  \n",
       "3           NaN            NaN    1810148  \n",
       "4           NaN            NaN   10797827  "
      ]
     },
     "execution_count": 43,
     "metadata": {},
     "output_type": "execute_result"
    }
   ],
   "source": [
    "merged_yt_twitch = pd.concat([twitch_data_merged_grouped.set_index(\"month\"), youtube_data_views_by_month.set_index(\"month\")], axis=1).reset_index()\n",
    "merged_yt_twitch.head()"
   ]
  },
  {
   "cell_type": "code",
   "execution_count": 51,
   "id": "e2bb7184",
   "metadata": {},
   "outputs": [
    {
     "data": {
      "application/vnd.vegalite.v5+json": {
       "$schema": "https://vega.github.io/schema/vega-lite/v5.20.1.json",
       "config": {
        "view": {
         "continuousHeight": 300,
         "continuousWidth": 300
        }
       },
       "data": {
        "name": "data-f04ff06fc729d8b71f07e2520d718a30"
       },
       "datasets": {
        "data-f04ff06fc729d8b71f07e2520d718a30": [
         {
          "Avg Streams": null,
          "Avg Viewers": null,
          "Gain": null,
          "Gain.1": null,
          "Hours Watched": null,
          "Peak Streams": null,
          "Peak Viewers": null,
          "month": "2005-08-01T00:00:00",
          "viewCount": 89144
         },
         {
          "Avg Streams": null,
          "Avg Viewers": null,
          "Gain": null,
          "Gain.1": null,
          "Hours Watched": null,
          "Peak Streams": null,
          "Peak Viewers": null,
          "month": "2005-09-01T00:00:00",
          "viewCount": 19415
         },
         {
          "Avg Streams": null,
          "Avg Viewers": null,
          "Gain": null,
          "Gain.1": null,
          "Hours Watched": null,
          "Peak Streams": null,
          "Peak Viewers": null,
          "month": "2005-10-01T00:00:00",
          "viewCount": 263357
         },
         {
          "Avg Streams": null,
          "Avg Viewers": null,
          "Gain": null,
          "Gain.1": null,
          "Hours Watched": null,
          "Peak Streams": null,
          "Peak Viewers": null,
          "month": "2005-11-01T00:00:00",
          "viewCount": 1810148
         },
         {
          "Avg Streams": null,
          "Avg Viewers": null,
          "Gain": null,
          "Gain.1": null,
          "Hours Watched": null,
          "Peak Streams": null,
          "Peak Viewers": null,
          "month": "2005-12-01T00:00:00",
          "viewCount": 10797827
         },
         {
          "Avg Streams": null,
          "Avg Viewers": null,
          "Gain": null,
          "Gain.1": null,
          "Hours Watched": null,
          "Peak Streams": null,
          "Peak Viewers": null,
          "month": "2006-01-01T00:00:00",
          "viewCount": 13758267
         },
         {
          "Avg Streams": null,
          "Avg Viewers": null,
          "Gain": null,
          "Gain.1": null,
          "Hours Watched": null,
          "Peak Streams": null,
          "Peak Viewers": null,
          "month": "2006-02-01T00:00:00",
          "viewCount": 2171890
         },
         {
          "Avg Streams": null,
          "Avg Viewers": null,
          "Gain": null,
          "Gain.1": null,
          "Hours Watched": null,
          "Peak Streams": null,
          "Peak Viewers": null,
          "month": "2006-03-01T00:00:00",
          "viewCount": 11941211
         },
         {
          "Avg Streams": null,
          "Avg Viewers": null,
          "Gain": null,
          "Gain.1": null,
          "Hours Watched": null,
          "Peak Streams": null,
          "Peak Viewers": null,
          "month": "2006-04-01T00:00:00",
          "viewCount": 20355572
         },
         {
          "Avg Streams": null,
          "Avg Viewers": null,
          "Gain": null,
          "Gain.1": null,
          "Hours Watched": null,
          "Peak Streams": null,
          "Peak Viewers": null,
          "month": "2006-05-01T00:00:00",
          "viewCount": 10881455
         },
         {
          "Avg Streams": null,
          "Avg Viewers": null,
          "Gain": null,
          "Gain.1": null,
          "Hours Watched": null,
          "Peak Streams": null,
          "Peak Viewers": null,
          "month": "2006-06-01T00:00:00",
          "viewCount": 6914843
         },
         {
          "Avg Streams": null,
          "Avg Viewers": null,
          "Gain": null,
          "Gain.1": null,
          "Hours Watched": null,
          "Peak Streams": null,
          "Peak Viewers": null,
          "month": "2006-07-01T00:00:00",
          "viewCount": 4851261
         },
         {
          "Avg Streams": null,
          "Avg Viewers": null,
          "Gain": null,
          "Gain.1": null,
          "Hours Watched": null,
          "Peak Streams": null,
          "Peak Viewers": null,
          "month": "2006-08-01T00:00:00",
          "viewCount": 5038160
         },
         {
          "Avg Streams": null,
          "Avg Viewers": null,
          "Gain": null,
          "Gain.1": null,
          "Hours Watched": null,
          "Peak Streams": null,
          "Peak Viewers": null,
          "month": "2006-09-01T00:00:00",
          "viewCount": 4314279
         },
         {
          "Avg Streams": null,
          "Avg Viewers": null,
          "Gain": null,
          "Gain.1": null,
          "Hours Watched": null,
          "Peak Streams": null,
          "Peak Viewers": null,
          "month": "2006-10-01T00:00:00",
          "viewCount": 11003199
         },
         {
          "Avg Streams": null,
          "Avg Viewers": null,
          "Gain": null,
          "Gain.1": null,
          "Hours Watched": null,
          "Peak Streams": null,
          "Peak Viewers": null,
          "month": "2006-11-01T00:00:00",
          "viewCount": 10774678
         },
         {
          "Avg Streams": null,
          "Avg Viewers": null,
          "Gain": null,
          "Gain.1": null,
          "Hours Watched": null,
          "Peak Streams": null,
          "Peak Viewers": null,
          "month": "2006-12-01T00:00:00",
          "viewCount": 5881301
         },
         {
          "Avg Streams": null,
          "Avg Viewers": null,
          "Gain": null,
          "Gain.1": null,
          "Hours Watched": null,
          "Peak Streams": null,
          "Peak Viewers": null,
          "month": "2007-01-01T00:00:00",
          "viewCount": 17532321
         },
         {
          "Avg Streams": null,
          "Avg Viewers": null,
          "Gain": null,
          "Gain.1": null,
          "Hours Watched": null,
          "Peak Streams": null,
          "Peak Viewers": null,
          "month": "2007-02-01T00:00:00",
          "viewCount": 9787421
         },
         {
          "Avg Streams": null,
          "Avg Viewers": null,
          "Gain": null,
          "Gain.1": null,
          "Hours Watched": null,
          "Peak Streams": null,
          "Peak Viewers": null,
          "month": "2007-03-01T00:00:00",
          "viewCount": 5830694
         },
         {
          "Avg Streams": null,
          "Avg Viewers": null,
          "Gain": null,
          "Gain.1": null,
          "Hours Watched": null,
          "Peak Streams": null,
          "Peak Viewers": null,
          "month": "2007-04-01T00:00:00",
          "viewCount": 3117854
         },
         {
          "Avg Streams": null,
          "Avg Viewers": null,
          "Gain": null,
          "Gain.1": null,
          "Hours Watched": null,
          "Peak Streams": null,
          "Peak Viewers": null,
          "month": "2007-05-01T00:00:00",
          "viewCount": 6965563
         },
         {
          "Avg Streams": null,
          "Avg Viewers": null,
          "Gain": null,
          "Gain.1": null,
          "Hours Watched": null,
          "Peak Streams": null,
          "Peak Viewers": null,
          "month": "2007-06-01T00:00:00",
          "viewCount": 9479922
         },
         {
          "Avg Streams": null,
          "Avg Viewers": null,
          "Gain": null,
          "Gain.1": null,
          "Hours Watched": null,
          "Peak Streams": null,
          "Peak Viewers": null,
          "month": "2007-07-01T00:00:00",
          "viewCount": 5203975
         },
         {
          "Avg Streams": null,
          "Avg Viewers": null,
          "Gain": null,
          "Gain.1": null,
          "Hours Watched": null,
          "Peak Streams": null,
          "Peak Viewers": null,
          "month": "2007-08-01T00:00:00",
          "viewCount": 4659322
         },
         {
          "Avg Streams": null,
          "Avg Viewers": null,
          "Gain": null,
          "Gain.1": null,
          "Hours Watched": null,
          "Peak Streams": null,
          "Peak Viewers": null,
          "month": "2007-09-01T00:00:00",
          "viewCount": 37144139
         },
         {
          "Avg Streams": null,
          "Avg Viewers": null,
          "Gain": null,
          "Gain.1": null,
          "Hours Watched": null,
          "Peak Streams": null,
          "Peak Viewers": null,
          "month": "2007-10-01T00:00:00",
          "viewCount": 2976534
         },
         {
          "Avg Streams": null,
          "Avg Viewers": null,
          "Gain": null,
          "Gain.1": null,
          "Hours Watched": null,
          "Peak Streams": null,
          "Peak Viewers": null,
          "month": "2007-11-01T00:00:00",
          "viewCount": 2801432
         },
         {
          "Avg Streams": null,
          "Avg Viewers": null,
          "Gain": null,
          "Gain.1": null,
          "Hours Watched": null,
          "Peak Streams": null,
          "Peak Viewers": null,
          "month": "2007-12-01T00:00:00",
          "viewCount": 1852382
         },
         {
          "Avg Streams": null,
          "Avg Viewers": null,
          "Gain": null,
          "Gain.1": null,
          "Hours Watched": null,
          "Peak Streams": null,
          "Peak Viewers": null,
          "month": "2008-01-01T00:00:00",
          "viewCount": 6548230
         },
         {
          "Avg Streams": null,
          "Avg Viewers": null,
          "Gain": null,
          "Gain.1": null,
          "Hours Watched": null,
          "Peak Streams": null,
          "Peak Viewers": null,
          "month": "2008-02-01T00:00:00",
          "viewCount": 9926804
         },
         {
          "Avg Streams": null,
          "Avg Viewers": null,
          "Gain": null,
          "Gain.1": null,
          "Hours Watched": null,
          "Peak Streams": null,
          "Peak Viewers": null,
          "month": "2008-03-01T00:00:00",
          "viewCount": 5445341
         },
         {
          "Avg Streams": null,
          "Avg Viewers": null,
          "Gain": null,
          "Gain.1": null,
          "Hours Watched": null,
          "Peak Streams": null,
          "Peak Viewers": null,
          "month": "2008-04-01T00:00:00",
          "viewCount": 5933911
         },
         {
          "Avg Streams": null,
          "Avg Viewers": null,
          "Gain": null,
          "Gain.1": null,
          "Hours Watched": null,
          "Peak Streams": null,
          "Peak Viewers": null,
          "month": "2008-05-01T00:00:00",
          "viewCount": 4171123
         },
         {
          "Avg Streams": null,
          "Avg Viewers": null,
          "Gain": null,
          "Gain.1": null,
          "Hours Watched": null,
          "Peak Streams": null,
          "Peak Viewers": null,
          "month": "2008-06-01T00:00:00",
          "viewCount": 16177584
         },
         {
          "Avg Streams": null,
          "Avg Viewers": null,
          "Gain": null,
          "Gain.1": null,
          "Hours Watched": null,
          "Peak Streams": null,
          "Peak Viewers": null,
          "month": "2008-07-01T00:00:00",
          "viewCount": 1821860
         },
         {
          "Avg Streams": null,
          "Avg Viewers": null,
          "Gain": null,
          "Gain.1": null,
          "Hours Watched": null,
          "Peak Streams": null,
          "Peak Viewers": null,
          "month": "2008-08-01T00:00:00",
          "viewCount": 6069857
         },
         {
          "Avg Streams": null,
          "Avg Viewers": null,
          "Gain": null,
          "Gain.1": null,
          "Hours Watched": null,
          "Peak Streams": null,
          "Peak Viewers": null,
          "month": "2008-09-01T00:00:00",
          "viewCount": 4932420
         },
         {
          "Avg Streams": null,
          "Avg Viewers": null,
          "Gain": null,
          "Gain.1": null,
          "Hours Watched": null,
          "Peak Streams": null,
          "Peak Viewers": null,
          "month": "2008-10-01T00:00:00",
          "viewCount": 3675927
         },
         {
          "Avg Streams": null,
          "Avg Viewers": null,
          "Gain": null,
          "Gain.1": null,
          "Hours Watched": null,
          "Peak Streams": null,
          "Peak Viewers": null,
          "month": "2008-11-01T00:00:00",
          "viewCount": 4038333
         },
         {
          "Avg Streams": null,
          "Avg Viewers": null,
          "Gain": null,
          "Gain.1": null,
          "Hours Watched": null,
          "Peak Streams": null,
          "Peak Viewers": null,
          "month": "2008-12-01T00:00:00",
          "viewCount": 6632137
         },
         {
          "Avg Streams": null,
          "Avg Viewers": null,
          "Gain": null,
          "Gain.1": null,
          "Hours Watched": null,
          "Peak Streams": null,
          "Peak Viewers": null,
          "month": "2009-01-01T00:00:00",
          "viewCount": 2048813
         },
         {
          "Avg Streams": null,
          "Avg Viewers": null,
          "Gain": null,
          "Gain.1": null,
          "Hours Watched": null,
          "Peak Streams": null,
          "Peak Viewers": null,
          "month": "2009-02-01T00:00:00",
          "viewCount": 3549599
         },
         {
          "Avg Streams": null,
          "Avg Viewers": null,
          "Gain": null,
          "Gain.1": null,
          "Hours Watched": null,
          "Peak Streams": null,
          "Peak Viewers": null,
          "month": "2009-03-01T00:00:00",
          "viewCount": 2897808
         },
         {
          "Avg Streams": null,
          "Avg Viewers": null,
          "Gain": null,
          "Gain.1": null,
          "Hours Watched": null,
          "Peak Streams": null,
          "Peak Viewers": null,
          "month": "2009-04-01T00:00:00",
          "viewCount": 11303070
         },
         {
          "Avg Streams": null,
          "Avg Viewers": null,
          "Gain": null,
          "Gain.1": null,
          "Hours Watched": null,
          "Peak Streams": null,
          "Peak Viewers": null,
          "month": "2009-05-01T00:00:00",
          "viewCount": 4752600
         },
         {
          "Avg Streams": null,
          "Avg Viewers": null,
          "Gain": null,
          "Gain.1": null,
          "Hours Watched": null,
          "Peak Streams": null,
          "Peak Viewers": null,
          "month": "2009-06-01T00:00:00",
          "viewCount": 3518959
         },
         {
          "Avg Streams": null,
          "Avg Viewers": null,
          "Gain": null,
          "Gain.1": null,
          "Hours Watched": null,
          "Peak Streams": null,
          "Peak Viewers": null,
          "month": "2009-07-01T00:00:00",
          "viewCount": 14430061
         },
         {
          "Avg Streams": null,
          "Avg Viewers": null,
          "Gain": null,
          "Gain.1": null,
          "Hours Watched": null,
          "Peak Streams": null,
          "Peak Viewers": null,
          "month": "2009-08-01T00:00:00",
          "viewCount": 28863477
         },
         {
          "Avg Streams": null,
          "Avg Viewers": null,
          "Gain": null,
          "Gain.1": null,
          "Hours Watched": null,
          "Peak Streams": null,
          "Peak Viewers": null,
          "month": "2009-09-01T00:00:00",
          "viewCount": 2970142
         },
         {
          "Avg Streams": null,
          "Avg Viewers": null,
          "Gain": null,
          "Gain.1": null,
          "Hours Watched": null,
          "Peak Streams": null,
          "Peak Viewers": null,
          "month": "2009-10-01T00:00:00",
          "viewCount": 200082263
         },
         {
          "Avg Streams": null,
          "Avg Viewers": null,
          "Gain": null,
          "Gain.1": null,
          "Hours Watched": null,
          "Peak Streams": null,
          "Peak Viewers": null,
          "month": "2009-11-01T00:00:00",
          "viewCount": 7997396
         },
         {
          "Avg Streams": null,
          "Avg Viewers": null,
          "Gain": null,
          "Gain.1": null,
          "Hours Watched": null,
          "Peak Streams": null,
          "Peak Viewers": null,
          "month": "2009-12-01T00:00:00",
          "viewCount": 3683981
         },
         {
          "Avg Streams": null,
          "Avg Viewers": null,
          "Gain": null,
          "Gain.1": null,
          "Hours Watched": null,
          "Peak Streams": null,
          "Peak Viewers": null,
          "month": "2010-01-01T00:00:00",
          "viewCount": 2765734
         },
         {
          "Avg Streams": null,
          "Avg Viewers": null,
          "Gain": null,
          "Gain.1": null,
          "Hours Watched": null,
          "Peak Streams": null,
          "Peak Viewers": null,
          "month": "2010-02-01T00:00:00",
          "viewCount": 30453118
         },
         {
          "Avg Streams": null,
          "Avg Viewers": null,
          "Gain": null,
          "Gain.1": null,
          "Hours Watched": null,
          "Peak Streams": null,
          "Peak Viewers": null,
          "month": "2010-03-01T00:00:00",
          "viewCount": 9682804
         },
         {
          "Avg Streams": null,
          "Avg Viewers": null,
          "Gain": null,
          "Gain.1": null,
          "Hours Watched": null,
          "Peak Streams": null,
          "Peak Viewers": null,
          "month": "2010-04-01T00:00:00",
          "viewCount": 1680624
         },
         {
          "Avg Streams": null,
          "Avg Viewers": null,
          "Gain": null,
          "Gain.1": null,
          "Hours Watched": null,
          "Peak Streams": null,
          "Peak Viewers": null,
          "month": "2010-05-01T00:00:00",
          "viewCount": 2107379
         },
         {
          "Avg Streams": null,
          "Avg Viewers": null,
          "Gain": null,
          "Gain.1": null,
          "Hours Watched": null,
          "Peak Streams": null,
          "Peak Viewers": null,
          "month": "2010-06-01T00:00:00",
          "viewCount": 5156762
         },
         {
          "Avg Streams": null,
          "Avg Viewers": null,
          "Gain": null,
          "Gain.1": null,
          "Hours Watched": null,
          "Peak Streams": null,
          "Peak Viewers": null,
          "month": "2010-07-01T00:00:00",
          "viewCount": 6177810
         },
         {
          "Avg Streams": null,
          "Avg Viewers": null,
          "Gain": null,
          "Gain.1": null,
          "Hours Watched": null,
          "Peak Streams": null,
          "Peak Viewers": null,
          "month": "2010-08-01T00:00:00",
          "viewCount": 2338476
         },
         {
          "Avg Streams": null,
          "Avg Viewers": null,
          "Gain": null,
          "Gain.1": null,
          "Hours Watched": null,
          "Peak Streams": null,
          "Peak Viewers": null,
          "month": "2010-09-01T00:00:00",
          "viewCount": 2120099
         },
         {
          "Avg Streams": null,
          "Avg Viewers": null,
          "Gain": null,
          "Gain.1": null,
          "Hours Watched": null,
          "Peak Streams": null,
          "Peak Viewers": null,
          "month": "2010-10-01T00:00:00",
          "viewCount": 17016580
         },
         {
          "Avg Streams": null,
          "Avg Viewers": null,
          "Gain": null,
          "Gain.1": null,
          "Hours Watched": null,
          "Peak Streams": null,
          "Peak Viewers": null,
          "month": "2010-11-01T00:00:00",
          "viewCount": 3689440
         },
         {
          "Avg Streams": null,
          "Avg Viewers": null,
          "Gain": null,
          "Gain.1": null,
          "Hours Watched": null,
          "Peak Streams": null,
          "Peak Viewers": null,
          "month": "2010-12-01T00:00:00",
          "viewCount": 3832744
         },
         {
          "Avg Streams": null,
          "Avg Viewers": null,
          "Gain": null,
          "Gain.1": null,
          "Hours Watched": null,
          "Peak Streams": null,
          "Peak Viewers": null,
          "month": "2011-01-01T00:00:00",
          "viewCount": 3063425
         },
         {
          "Avg Streams": null,
          "Avg Viewers": null,
          "Gain": null,
          "Gain.1": null,
          "Hours Watched": null,
          "Peak Streams": null,
          "Peak Viewers": null,
          "month": "2011-02-01T00:00:00",
          "viewCount": 3529684
         },
         {
          "Avg Streams": null,
          "Avg Viewers": null,
          "Gain": null,
          "Gain.1": null,
          "Hours Watched": null,
          "Peak Streams": null,
          "Peak Viewers": null,
          "month": "2011-03-01T00:00:00",
          "viewCount": 40137945
         },
         {
          "Avg Streams": null,
          "Avg Viewers": null,
          "Gain": null,
          "Gain.1": null,
          "Hours Watched": null,
          "Peak Streams": null,
          "Peak Viewers": null,
          "month": "2011-04-01T00:00:00",
          "viewCount": 3566117
         },
         {
          "Avg Streams": null,
          "Avg Viewers": null,
          "Gain": null,
          "Gain.1": null,
          "Hours Watched": null,
          "Peak Streams": null,
          "Peak Viewers": null,
          "month": "2011-05-01T00:00:00",
          "viewCount": 9306413
         },
         {
          "Avg Streams": null,
          "Avg Viewers": null,
          "Gain": null,
          "Gain.1": null,
          "Hours Watched": null,
          "Peak Streams": null,
          "Peak Viewers": null,
          "month": "2011-06-01T00:00:00",
          "viewCount": 8271601
         },
         {
          "Avg Streams": null,
          "Avg Viewers": null,
          "Gain": null,
          "Gain.1": null,
          "Hours Watched": null,
          "Peak Streams": null,
          "Peak Viewers": null,
          "month": "2011-07-01T00:00:00",
          "viewCount": 33412784
         },
         {
          "Avg Streams": null,
          "Avg Viewers": null,
          "Gain": null,
          "Gain.1": null,
          "Hours Watched": null,
          "Peak Streams": null,
          "Peak Viewers": null,
          "month": "2011-08-01T00:00:00",
          "viewCount": 12810636
         },
         {
          "Avg Streams": null,
          "Avg Viewers": null,
          "Gain": null,
          "Gain.1": null,
          "Hours Watched": null,
          "Peak Streams": null,
          "Peak Viewers": null,
          "month": "2011-09-01T00:00:00",
          "viewCount": 6923899
         },
         {
          "Avg Streams": null,
          "Avg Viewers": null,
          "Gain": null,
          "Gain.1": null,
          "Hours Watched": null,
          "Peak Streams": null,
          "Peak Viewers": null,
          "month": "2011-10-01T00:00:00",
          "viewCount": 16169495
         },
         {
          "Avg Streams": null,
          "Avg Viewers": null,
          "Gain": null,
          "Gain.1": null,
          "Hours Watched": null,
          "Peak Streams": null,
          "Peak Viewers": null,
          "month": "2011-11-01T00:00:00",
          "viewCount": 2850563
         },
         {
          "Avg Streams": null,
          "Avg Viewers": null,
          "Gain": null,
          "Gain.1": null,
          "Hours Watched": null,
          "Peak Streams": null,
          "Peak Viewers": null,
          "month": "2011-12-01T00:00:00",
          "viewCount": 13969882
         },
         {
          "Avg Streams": null,
          "Avg Viewers": null,
          "Gain": null,
          "Gain.1": null,
          "Hours Watched": null,
          "Peak Streams": null,
          "Peak Viewers": null,
          "month": "2012-01-01T00:00:00",
          "viewCount": 4707628
         },
         {
          "Avg Streams": null,
          "Avg Viewers": null,
          "Gain": null,
          "Gain.1": null,
          "Hours Watched": null,
          "Peak Streams": null,
          "Peak Viewers": null,
          "month": "2012-02-01T00:00:00",
          "viewCount": 10346674
         },
         {
          "Avg Streams": null,
          "Avg Viewers": null,
          "Gain": null,
          "Gain.1": null,
          "Hours Watched": null,
          "Peak Streams": null,
          "Peak Viewers": null,
          "month": "2012-03-01T00:00:00",
          "viewCount": 17328108
         },
         {
          "Avg Streams": null,
          "Avg Viewers": null,
          "Gain": null,
          "Gain.1": null,
          "Hours Watched": null,
          "Peak Streams": null,
          "Peak Viewers": null,
          "month": "2012-04-01T00:00:00",
          "viewCount": 19269517
         },
         {
          "Avg Streams": null,
          "Avg Viewers": null,
          "Gain": null,
          "Gain.1": null,
          "Hours Watched": null,
          "Peak Streams": null,
          "Peak Viewers": null,
          "month": "2012-05-01T00:00:00",
          "viewCount": 7933811
         },
         {
          "Avg Streams": null,
          "Avg Viewers": null,
          "Gain": null,
          "Gain.1": null,
          "Hours Watched": null,
          "Peak Streams": null,
          "Peak Viewers": null,
          "month": "2012-06-01T00:00:00",
          "viewCount": 12260898
         },
         {
          "Avg Streams": null,
          "Avg Viewers": null,
          "Gain": null,
          "Gain.1": null,
          "Hours Watched": null,
          "Peak Streams": null,
          "Peak Viewers": null,
          "month": "2012-07-01T00:00:00",
          "viewCount": 10131182
         },
         {
          "Avg Streams": null,
          "Avg Viewers": null,
          "Gain": null,
          "Gain.1": null,
          "Hours Watched": null,
          "Peak Streams": null,
          "Peak Viewers": null,
          "month": "2012-08-01T00:00:00",
          "viewCount": 35967049
         },
         {
          "Avg Streams": null,
          "Avg Viewers": null,
          "Gain": null,
          "Gain.1": null,
          "Hours Watched": null,
          "Peak Streams": null,
          "Peak Viewers": null,
          "month": "2012-09-01T00:00:00",
          "viewCount": 7531982
         },
         {
          "Avg Streams": null,
          "Avg Viewers": null,
          "Gain": null,
          "Gain.1": null,
          "Hours Watched": null,
          "Peak Streams": null,
          "Peak Viewers": null,
          "month": "2012-10-01T00:00:00",
          "viewCount": 14545546
         },
         {
          "Avg Streams": null,
          "Avg Viewers": null,
          "Gain": null,
          "Gain.1": null,
          "Hours Watched": null,
          "Peak Streams": null,
          "Peak Viewers": null,
          "month": "2012-11-01T00:00:00",
          "viewCount": 9600451
         },
         {
          "Avg Streams": null,
          "Avg Viewers": null,
          "Gain": null,
          "Gain.1": null,
          "Hours Watched": null,
          "Peak Streams": null,
          "Peak Viewers": null,
          "month": "2012-12-01T00:00:00",
          "viewCount": 18060250
         },
         {
          "Avg Streams": null,
          "Avg Viewers": null,
          "Gain": null,
          "Gain.1": null,
          "Hours Watched": null,
          "Peak Streams": null,
          "Peak Viewers": null,
          "month": "2013-01-01T00:00:00",
          "viewCount": 4095206
         },
         {
          "Avg Streams": null,
          "Avg Viewers": null,
          "Gain": null,
          "Gain.1": null,
          "Hours Watched": null,
          "Peak Streams": null,
          "Peak Viewers": null,
          "month": "2013-02-01T00:00:00",
          "viewCount": 4401759
         },
         {
          "Avg Streams": null,
          "Avg Viewers": null,
          "Gain": null,
          "Gain.1": null,
          "Hours Watched": null,
          "Peak Streams": null,
          "Peak Viewers": null,
          "month": "2013-03-01T00:00:00",
          "viewCount": 15846703
         },
         {
          "Avg Streams": null,
          "Avg Viewers": null,
          "Gain": null,
          "Gain.1": null,
          "Hours Watched": null,
          "Peak Streams": null,
          "Peak Viewers": null,
          "month": "2013-04-01T00:00:00",
          "viewCount": 7957384
         },
         {
          "Avg Streams": null,
          "Avg Viewers": null,
          "Gain": null,
          "Gain.1": null,
          "Hours Watched": null,
          "Peak Streams": null,
          "Peak Viewers": null,
          "month": "2013-05-01T00:00:00",
          "viewCount": 11987984
         },
         {
          "Avg Streams": null,
          "Avg Viewers": null,
          "Gain": null,
          "Gain.1": null,
          "Hours Watched": null,
          "Peak Streams": null,
          "Peak Viewers": null,
          "month": "2013-06-01T00:00:00",
          "viewCount": 3489519
         },
         {
          "Avg Streams": null,
          "Avg Viewers": null,
          "Gain": null,
          "Gain.1": null,
          "Hours Watched": null,
          "Peak Streams": null,
          "Peak Viewers": null,
          "month": "2013-07-01T00:00:00",
          "viewCount": 3978458
         },
         {
          "Avg Streams": null,
          "Avg Viewers": null,
          "Gain": null,
          "Gain.1": null,
          "Hours Watched": null,
          "Peak Streams": null,
          "Peak Viewers": null,
          "month": "2013-08-01T00:00:00",
          "viewCount": 5628441
         },
         {
          "Avg Streams": null,
          "Avg Viewers": null,
          "Gain": null,
          "Gain.1": null,
          "Hours Watched": null,
          "Peak Streams": null,
          "Peak Viewers": null,
          "month": "2013-09-01T00:00:00",
          "viewCount": 3243364
         },
         {
          "Avg Streams": null,
          "Avg Viewers": null,
          "Gain": null,
          "Gain.1": null,
          "Hours Watched": null,
          "Peak Streams": null,
          "Peak Viewers": null,
          "month": "2013-10-01T00:00:00",
          "viewCount": 1423714
         },
         {
          "Avg Streams": null,
          "Avg Viewers": null,
          "Gain": null,
          "Gain.1": null,
          "Hours Watched": null,
          "Peak Streams": null,
          "Peak Viewers": null,
          "month": "2013-11-01T00:00:00",
          "viewCount": 7755662
         },
         {
          "Avg Streams": null,
          "Avg Viewers": null,
          "Gain": null,
          "Gain.1": null,
          "Hours Watched": null,
          "Peak Streams": null,
          "Peak Viewers": null,
          "month": "2013-12-01T00:00:00",
          "viewCount": 8971707
         },
         {
          "Avg Streams": null,
          "Avg Viewers": null,
          "Gain": null,
          "Gain.1": null,
          "Hours Watched": null,
          "Peak Streams": null,
          "Peak Viewers": null,
          "month": "2014-01-01T00:00:00",
          "viewCount": 11969930
         },
         {
          "Avg Streams": null,
          "Avg Viewers": null,
          "Gain": null,
          "Gain.1": null,
          "Hours Watched": null,
          "Peak Streams": null,
          "Peak Viewers": null,
          "month": "2014-02-01T00:00:00",
          "viewCount": 4843915
         },
         {
          "Avg Streams": null,
          "Avg Viewers": null,
          "Gain": null,
          "Gain.1": null,
          "Hours Watched": null,
          "Peak Streams": null,
          "Peak Viewers": null,
          "month": "2014-03-01T00:00:00",
          "viewCount": 22211339
         },
         {
          "Avg Streams": null,
          "Avg Viewers": null,
          "Gain": null,
          "Gain.1": null,
          "Hours Watched": null,
          "Peak Streams": null,
          "Peak Viewers": null,
          "month": "2014-04-01T00:00:00",
          "viewCount": 31693380
         },
         {
          "Avg Streams": null,
          "Avg Viewers": null,
          "Gain": null,
          "Gain.1": null,
          "Hours Watched": null,
          "Peak Streams": null,
          "Peak Viewers": null,
          "month": "2014-05-01T00:00:00",
          "viewCount": 14239817
         },
         {
          "Avg Streams": null,
          "Avg Viewers": null,
          "Gain": null,
          "Gain.1": null,
          "Hours Watched": null,
          "Peak Streams": null,
          "Peak Viewers": null,
          "month": "2014-06-01T00:00:00",
          "viewCount": 13140354
         },
         {
          "Avg Streams": null,
          "Avg Viewers": null,
          "Gain": null,
          "Gain.1": null,
          "Hours Watched": null,
          "Peak Streams": null,
          "Peak Viewers": null,
          "month": "2014-07-01T00:00:00",
          "viewCount": 3417795
         },
         {
          "Avg Streams": null,
          "Avg Viewers": null,
          "Gain": null,
          "Gain.1": null,
          "Hours Watched": null,
          "Peak Streams": null,
          "Peak Viewers": null,
          "month": "2014-08-01T00:00:00",
          "viewCount": 16522554
         },
         {
          "Avg Streams": null,
          "Avg Viewers": null,
          "Gain": null,
          "Gain.1": null,
          "Hours Watched": null,
          "Peak Streams": null,
          "Peak Viewers": null,
          "month": "2014-09-01T00:00:00",
          "viewCount": 17189398
         },
         {
          "Avg Streams": null,
          "Avg Viewers": null,
          "Gain": null,
          "Gain.1": null,
          "Hours Watched": null,
          "Peak Streams": null,
          "Peak Viewers": null,
          "month": "2014-10-01T00:00:00",
          "viewCount": 17785102
         },
         {
          "Avg Streams": null,
          "Avg Viewers": null,
          "Gain": null,
          "Gain.1": null,
          "Hours Watched": null,
          "Peak Streams": null,
          "Peak Viewers": null,
          "month": "2014-11-01T00:00:00",
          "viewCount": 6769122
         },
         {
          "Avg Streams": null,
          "Avg Viewers": null,
          "Gain": null,
          "Gain.1": null,
          "Hours Watched": null,
          "Peak Streams": null,
          "Peak Viewers": null,
          "month": "2014-12-01T00:00:00",
          "viewCount": 5292148
         },
         {
          "Avg Streams": null,
          "Avg Viewers": null,
          "Gain": null,
          "Gain.1": null,
          "Hours Watched": null,
          "Peak Streams": null,
          "Peak Viewers": null,
          "month": "2015-01-01T00:00:00",
          "viewCount": 8205640
         },
         {
          "Avg Streams": null,
          "Avg Viewers": null,
          "Gain": null,
          "Gain.1": null,
          "Hours Watched": null,
          "Peak Streams": null,
          "Peak Viewers": null,
          "month": "2015-02-01T00:00:00",
          "viewCount": 7034858
         },
         {
          "Avg Streams": null,
          "Avg Viewers": null,
          "Gain": null,
          "Gain.1": null,
          "Hours Watched": null,
          "Peak Streams": null,
          "Peak Viewers": null,
          "month": "2015-03-01T00:00:00",
          "viewCount": 19684113
         },
         {
          "Avg Streams": null,
          "Avg Viewers": null,
          "Gain": null,
          "Gain.1": null,
          "Hours Watched": null,
          "Peak Streams": null,
          "Peak Viewers": null,
          "month": "2015-04-01T00:00:00",
          "viewCount": 52275373
         },
         {
          "Avg Streams": null,
          "Avg Viewers": null,
          "Gain": null,
          "Gain.1": null,
          "Hours Watched": null,
          "Peak Streams": null,
          "Peak Viewers": null,
          "month": "2015-05-01T00:00:00",
          "viewCount": 25535138
         },
         {
          "Avg Streams": null,
          "Avg Viewers": null,
          "Gain": null,
          "Gain.1": null,
          "Hours Watched": null,
          "Peak Streams": null,
          "Peak Viewers": null,
          "month": "2015-06-01T00:00:00",
          "viewCount": 14702715
         },
         {
          "Avg Streams": null,
          "Avg Viewers": null,
          "Gain": null,
          "Gain.1": null,
          "Hours Watched": null,
          "Peak Streams": null,
          "Peak Viewers": null,
          "month": "2015-07-01T00:00:00",
          "viewCount": 11261690
         },
         {
          "Avg Streams": null,
          "Avg Viewers": null,
          "Gain": null,
          "Gain.1": null,
          "Hours Watched": null,
          "Peak Streams": null,
          "Peak Viewers": null,
          "month": "2015-08-01T00:00:00",
          "viewCount": 33838589
         },
         {
          "Avg Streams": null,
          "Avg Viewers": null,
          "Gain": null,
          "Gain.1": null,
          "Hours Watched": null,
          "Peak Streams": null,
          "Peak Viewers": null,
          "month": "2015-09-01T00:00:00",
          "viewCount": 11818942
         },
         {
          "Avg Streams": null,
          "Avg Viewers": null,
          "Gain": null,
          "Gain.1": null,
          "Hours Watched": null,
          "Peak Streams": null,
          "Peak Viewers": null,
          "month": "2015-10-01T00:00:00",
          "viewCount": 12608204
         },
         {
          "Avg Streams": null,
          "Avg Viewers": null,
          "Gain": null,
          "Gain.1": null,
          "Hours Watched": null,
          "Peak Streams": null,
          "Peak Viewers": null,
          "month": "2015-11-01T00:00:00",
          "viewCount": 34832444
         },
         {
          "Avg Streams": null,
          "Avg Viewers": null,
          "Gain": null,
          "Gain.1": null,
          "Hours Watched": null,
          "Peak Streams": null,
          "Peak Viewers": null,
          "month": "2015-12-01T00:00:00",
          "viewCount": 8132604
         },
         {
          "Avg Streams": null,
          "Avg Viewers": null,
          "Gain": null,
          "Gain.1": null,
          "Hours Watched": null,
          "Peak Streams": null,
          "Peak Viewers": null,
          "month": "2016-01-01T00:00:00",
          "viewCount": 16947082
         },
         {
          "Avg Streams": null,
          "Avg Viewers": null,
          "Gain": null,
          "Gain.1": null,
          "Hours Watched": null,
          "Peak Streams": null,
          "Peak Viewers": null,
          "month": "2016-02-01T00:00:00",
          "viewCount": 13722689
         },
         {
          "Avg Streams": null,
          "Avg Viewers": null,
          "Gain": null,
          "Gain.1": null,
          "Hours Watched": null,
          "Peak Streams": null,
          "Peak Viewers": null,
          "month": "2016-03-01T00:00:00",
          "viewCount": 11430699
         },
         {
          "Avg Streams": null,
          "Avg Viewers": null,
          "Gain": null,
          "Gain.1": null,
          "Hours Watched": null,
          "Peak Streams": null,
          "Peak Viewers": null,
          "month": "2016-04-01T00:00:00",
          "viewCount": 5387908
         },
         {
          "Avg Streams": null,
          "Avg Viewers": null,
          "Gain": null,
          "Gain.1": null,
          "Hours Watched": null,
          "Peak Streams": null,
          "Peak Viewers": null,
          "month": "2016-05-01T00:00:00",
          "viewCount": 16737835
         },
         {
          "Avg Streams": null,
          "Avg Viewers": null,
          "Gain": null,
          "Gain.1": null,
          "Hours Watched": null,
          "Peak Streams": null,
          "Peak Viewers": null,
          "month": "2016-06-01T00:00:00",
          "viewCount": 10576614
         },
         {
          "Avg Streams": null,
          "Avg Viewers": null,
          "Gain": null,
          "Gain.1": null,
          "Hours Watched": null,
          "Peak Streams": null,
          "Peak Viewers": null,
          "month": "2016-07-01T00:00:00",
          "viewCount": 4672265
         },
         {
          "Avg Streams": null,
          "Avg Viewers": null,
          "Gain": null,
          "Gain.1": null,
          "Hours Watched": null,
          "Peak Streams": null,
          "Peak Viewers": null,
          "month": "2016-08-01T00:00:00",
          "viewCount": 57190017
         },
         {
          "Avg Streams": null,
          "Avg Viewers": null,
          "Gain": null,
          "Gain.1": null,
          "Hours Watched": null,
          "Peak Streams": null,
          "Peak Viewers": null,
          "month": "2016-09-01T00:00:00",
          "viewCount": 11861116
         },
         {
          "Avg Streams": null,
          "Avg Viewers": null,
          "Gain": null,
          "Gain.1": null,
          "Hours Watched": null,
          "Peak Streams": null,
          "Peak Viewers": null,
          "month": "2016-10-01T00:00:00",
          "viewCount": 17427196
         },
         {
          "Avg Streams": 803,
          "Avg Viewers": 41122,
          "Gain": 0,
          "Gain.1": 0,
          "Hours Watched": 305032336,
          "Peak Streams": 1733,
          "Peak Viewers": 237149,
          "month": "2016-11-01T00:00:00",
          "viewCount": 44191608
         },
         {
          "Avg Streams": 940,
          "Avg Viewers": 97395,
          "Gain": 56273,
          "Gain.1": 137,
          "Hours Watched": 721080946,
          "Peak Streams": 2185,
          "Peak Viewers": 1154232,
          "month": "2016-12-01T00:00:00",
          "viewCount": 24417765
         },
         {
          "Avg Streams": 1014,
          "Avg Viewers": 60177,
          "Gain": 37218,
          "Gain.1": 74,
          "Hours Watched": 404088357,
          "Peak Streams": 2097,
          "Peak Viewers": 461337,
          "month": "2017-01-01T00:00:00",
          "viewCount": 38548418
         },
         {
          "Avg Streams": 946,
          "Avg Viewers": 49606,
          "Gain": 10593,
          "Gain.1": 68,
          "Hours Watched": 368160397,
          "Peak Streams": 2100,
          "Peak Viewers": 512456,
          "month": "2017-02-01T00:00:00",
          "viewCount": 33774463
         },
         {
          "Avg Streams": 879,
          "Avg Viewers": 50868,
          "Gain": 1286,
          "Gain.1": 69,
          "Hours Watched": 364069433,
          "Peak Streams": 1830,
          "Peak Viewers": 418276,
          "month": "2017-03-01T00:00:00",
          "viewCount": 9465118
         },
         {
          "Avg Streams": 837,
          "Avg Viewers": 31841,
          "Gain": 19065,
          "Gain.1": 44,
          "Hours Watched": 231142383,
          "Peak Streams": 1700,
          "Peak Viewers": 194939,
          "month": "2017-04-01T00:00:00",
          "viewCount": 24126412
         },
         {
          "Avg Streams": 792,
          "Avg Viewers": 30421,
          "Gain": 1558,
          "Gain.1": 45,
          "Hours Watched": 218526181,
          "Peak Streams": 1486,
          "Peak Viewers": 296775,
          "month": "2017-05-01T00:00:00",
          "viewCount": 14520871
         },
         {
          "Avg Streams": 844,
          "Avg Viewers": 91482,
          "Gain": 61215,
          "Gain.1": 52,
          "Hours Watched": 678111000,
          "Peak Streams": 1587,
          "Peak Viewers": 949075,
          "month": "2017-06-01T00:00:00",
          "viewCount": 3797489
         },
         {
          "Avg Streams": 868,
          "Avg Viewers": 27226,
          "Gain": 64308,
          "Gain.1": 24,
          "Hours Watched": 202162451,
          "Peak Streams": 1590,
          "Peak Viewers": 210176,
          "month": "2017-07-01T00:00:00",
          "viewCount": 8991317
         },
         {
          "Avg Streams": 778,
          "Avg Viewers": 37946,
          "Gain": 10780,
          "Gain.1": 90,
          "Hours Watched": 273133134,
          "Peak Streams": 1536,
          "Peak Viewers": 288573,
          "month": "2017-08-01T00:00:00",
          "viewCount": 34827963
         },
         {
          "Avg Streams": 800,
          "Avg Viewers": 38311,
          "Gain": 375,
          "Gain.1": 24,
          "Hours Watched": 284097958,
          "Peak Streams": 1660,
          "Peak Viewers": 577878,
          "month": "2017-09-01T00:00:00",
          "viewCount": 5023939
         },
         {
          "Avg Streams": 802,
          "Avg Viewers": 35858,
          "Gain": 2453,
          "Gain.1": 2,
          "Hours Watched": 258072260,
          "Peak Streams": 1567,
          "Peak Viewers": 281142,
          "month": "2017-10-01T00:00:00",
          "viewCount": 15677146
         },
         {
          "Avg Streams": 882,
          "Avg Viewers": 25279,
          "Gain": 10729,
          "Gain.1": 80,
          "Hours Watched": 187102000,
          "Peak Streams": 1748,
          "Peak Viewers": 232638,
          "month": "2017-11-01T00:00:00",
          "viewCount": 16473084
         },
         {
          "Avg Streams": 1059,
          "Avg Viewers": 93523,
          "Gain": 68382,
          "Gain.1": 177,
          "Hours Watched": 695153473,
          "Peak Streams": 2016,
          "Peak Viewers": 1320676,
          "month": "2017-12-01T00:00:00",
          "viewCount": 7403088
         },
         {
          "Avg Streams": 1164,
          "Avg Viewers": 55574,
          "Gain": 37949,
          "Gain.1": 105,
          "Hours Watched": 372149237,
          "Peak Streams": 2343,
          "Peak Viewers": 374721,
          "month": "2018-01-01T00:00:00",
          "viewCount": 20227943
         },
         {
          "Avg Streams": 1069,
          "Avg Viewers": 37831,
          "Gain": 17787,
          "Gain.1": 97,
          "Hours Watched": 281139519,
          "Peak Streams": 2363,
          "Peak Viewers": 504991,
          "month": "2018-02-01T00:00:00",
          "viewCount": 4773316
         },
         {
          "Avg Streams": 925,
          "Avg Viewers": 31942,
          "Gain": 5889,
          "Gain.1": 144,
          "Hours Watched": 229147224,
          "Peak Streams": 1898,
          "Peak Viewers": 336839,
          "month": "2018-03-01T00:00:00",
          "viewCount": 6681056
         },
         {
          "Avg Streams": 828,
          "Avg Viewers": 35550,
          "Gain": 3608,
          "Gain.1": 97,
          "Hours Watched": 264160163,
          "Peak Streams": 1595,
          "Peak Viewers": 226561,
          "month": "2018-04-01T00:00:00",
          "viewCount": 52530015
         },
         {
          "Avg Streams": 839,
          "Avg Viewers": 30620,
          "Gain": 5226,
          "Gain.1": 11,
          "Hours Watched": 219463000,
          "Peak Streams": 1603,
          "Peak Viewers": 303388,
          "month": "2018-05-01T00:00:00",
          "viewCount": 48526304
         },
         {
          "Avg Streams": 939,
          "Avg Viewers": 36045,
          "Gain": 5725,
          "Gain.1": 102,
          "Hours Watched": 265161443,
          "Peak Streams": 1678,
          "Peak Viewers": 239670,
          "month": "2018-06-01T00:00:00",
          "viewCount": 55513661
         },
         {
          "Avg Streams": 1027,
          "Avg Viewers": 29161,
          "Gain": 6902,
          "Gain.1": 88,
          "Hours Watched": 217223155,
          "Peak Streams": 1872,
          "Peak Viewers": 194122,
          "month": "2018-07-01T00:00:00",
          "viewCount": 2964785
         },
         {
          "Avg Streams": 983,
          "Avg Viewers": 98328,
          "Gain": 69167,
          "Gain.1": 46,
          "Hours Watched": 707251000,
          "Peak Streams": 1962,
          "Peak Viewers": 870470,
          "month": "2018-08-01T00:00:00",
          "viewCount": 17108328
         },
         {
          "Avg Streams": 973,
          "Avg Viewers": 32506,
          "Gain": 65824,
          "Gain.1": 10,
          "Hours Watched": 241232303,
          "Peak Streams": 1974,
          "Peak Viewers": 223168,
          "month": "2018-09-01T00:00:00",
          "viewCount": 822816
         },
         {
          "Avg Streams": 1018,
          "Avg Viewers": 37720,
          "Gain": 5218,
          "Gain.1": 45,
          "Hours Watched": 271247239,
          "Peak Streams": 2020,
          "Peak Viewers": 300573,
          "month": "2018-10-01T00:00:00",
          "viewCount": 19632217
         },
         {
          "Avg Streams": 1182,
          "Avg Viewers": 34386,
          "Gain": 3364,
          "Gain.1": 164,
          "Hours Watched": 255358224,
          "Peak Streams": 3196,
          "Peak Viewers": 274858,
          "month": "2018-11-01T00:00:00",
          "viewCount": 43796079
         },
         {
          "Avg Streams": 1423,
          "Avg Viewers": 41428,
          "Gain": 7042,
          "Gain.1": 241,
          "Hours Watched": 307693598,
          "Peak Streams": 2950,
          "Peak Viewers": 201034,
          "month": "2018-12-01T00:00:00",
          "viewCount": 4192299
         },
         {
          "Avg Streams": 1119,
          "Avg Viewers": 70550,
          "Gain": 29182,
          "Gain.1": 304,
          "Hours Watched": 474446299,
          "Peak Streams": 2605,
          "Peak Viewers": 516787,
          "month": "2019-01-01T00:00:00",
          "viewCount": 7797941
         },
         {
          "Avg Streams": 1238,
          "Avg Viewers": 47799,
          "Gain": 22783,
          "Gain.1": 121,
          "Hours Watched": 355535000,
          "Peak Streams": 2530,
          "Peak Viewers": 836577,
          "month": "2019-02-01T00:00:00",
          "viewCount": 8897700
         },
         {
          "Avg Streams": 1182,
          "Avg Viewers": 42814,
          "Gain": 4985,
          "Gain.1": 56,
          "Hours Watched": 308423694,
          "Peak Streams": 2327,
          "Peak Viewers": 316041,
          "month": "2019-03-01T00:00:00",
          "viewCount": 15821046
         },
         {
          "Avg Streams": 1163,
          "Avg Viewers": 40003,
          "Gain": 2811,
          "Gain.1": 19,
          "Hours Watched": 297409000,
          "Peak Streams": 2309,
          "Peak Viewers": 236322,
          "month": "2019-04-01T00:00:00",
          "viewCount": 9058245
         },
         {
          "Avg Streams": 1177,
          "Avg Viewers": 42055,
          "Gain": 2052,
          "Gain.1": 14,
          "Hours Watched": 302609000,
          "Peak Streams": 2107,
          "Peak Viewers": 354909,
          "month": "2019-05-01T00:00:00",
          "viewCount": 39791010
         },
         {
          "Avg Streams": 1237,
          "Avg Viewers": 54848,
          "Gain": 12847,
          "Gain.1": 60,
          "Hours Watched": 407793888,
          "Peak Streams": 2254,
          "Peak Viewers": 439125,
          "month": "2019-06-01T00:00:00",
          "viewCount": 20781995
         },
         {
          "Avg Streams": 1321,
          "Avg Viewers": 62101,
          "Gain": 7313,
          "Gain.1": 84,
          "Hours Watched": 461604445,
          "Peak Streams": 2293,
          "Peak Viewers": 523956,
          "month": "2019-07-01T00:00:00",
          "viewCount": 21247781
         },
         {
          "Avg Streams": 1279,
          "Avg Viewers": 63866,
          "Gain": 1799,
          "Gain.1": 42,
          "Hours Watched": 459461365,
          "Peak Streams": 2457,
          "Peak Viewers": 661722,
          "month": "2019-08-01T00:00:00",
          "viewCount": 43137256
         },
         {
          "Avg Streams": 1265,
          "Avg Viewers": 60422,
          "Gain": 3452,
          "Gain.1": 14,
          "Hours Watched": 432481355,
          "Peak Streams": 2593,
          "Peak Viewers": 382770,
          "month": "2019-09-01T00:00:00",
          "viewCount": 52619174
         },
         {
          "Avg Streams": 1249,
          "Avg Viewers": 49606,
          "Gain": 10878,
          "Gain.1": 20,
          "Hours Watched": 345678558,
          "Peak Streams": 2531,
          "Peak Viewers": 302229,
          "month": "2019-10-01T00:00:00",
          "viewCount": 11704409
         },
         {
          "Avg Streams": 1326,
          "Avg Viewers": 54580,
          "Gain": 4974,
          "Gain.1": 79,
          "Hours Watched": 404149575,
          "Peak Streams": 2717,
          "Peak Viewers": 354673,
          "month": "2019-11-01T00:00:00",
          "viewCount": 48555412
         },
         {
          "Avg Streams": 1650,
          "Avg Viewers": 45680,
          "Gain": 8904,
          "Gain.1": 324,
          "Hours Watched": 339123000,
          "Peak Streams": 3423,
          "Peak Viewers": 261130,
          "month": "2019-12-01T00:00:00",
          "viewCount": 15067596
         },
         {
          "Avg Streams": 1645,
          "Avg Viewers": 71759,
          "Gain": 26131,
          "Gain.1": 5,
          "Hours Watched": 498867458,
          "Peak Streams": 3258,
          "Peak Viewers": 617143,
          "month": "2020-01-01T00:00:00",
          "viewCount": 20546454
         },
         {
          "Avg Streams": 2046,
          "Avg Viewers": 90151,
          "Gain": 18392,
          "Gain.1": 401,
          "Hours Watched": 668118474,
          "Peak Streams": 4738,
          "Peak Viewers": 843931,
          "month": "2020-02-01T00:00:00",
          "viewCount": 16531507
         },
         {
          "Avg Streams": 2772,
          "Avg Viewers": 120873,
          "Gain": 30722,
          "Gain.1": 726,
          "Hours Watched": 864159510,
          "Peak Streams": 5623,
          "Peak Viewers": 574885,
          "month": "2020-03-01T00:00:00",
          "viewCount": 52346362
         },
         {
          "Avg Streams": 2419,
          "Avg Viewers": 103850,
          "Gain": 17377,
          "Gain.1": 355,
          "Hours Watched": 767338000,
          "Peak Streams": 4898,
          "Peak Viewers": 502637,
          "month": "2020-04-01T00:00:00",
          "viewCount": 16302139
         },
         {
          "Avg Streams": 1967,
          "Avg Viewers": 105753,
          "Gain": 2297,
          "Gain.1": 452,
          "Hours Watched": 758168000,
          "Peak Streams": 4243,
          "Peak Viewers": 502764,
          "month": "2020-05-01T00:00:00",
          "viewCount": 18362604
         },
         {
          "Avg Streams": 1616,
          "Avg Viewers": 56694,
          "Gain": 49187,
          "Gain.1": 351,
          "Hours Watched": 419300000,
          "Peak Streams": 3113,
          "Peak Viewers": 211031,
          "month": "2020-06-01T00:00:00",
          "viewCount": 2274130
         },
         {
          "Avg Streams": 1456,
          "Avg Viewers": 65019,
          "Gain": 8459,
          "Gain.1": 160,
          "Hours Watched": 481209000,
          "Peak Streams": 2593,
          "Peak Viewers": 335027,
          "month": "2020-07-01T00:00:00",
          "viewCount": 9422260
         },
         {
          "Avg Streams": 1447,
          "Avg Viewers": 74610,
          "Gain": 9625,
          "Gain.1": 9,
          "Hours Watched": 535172570,
          "Peak Streams": 2685,
          "Peak Viewers": 330089,
          "month": "2020-08-01T00:00:00",
          "viewCount": 18786311
         },
         {
          "Avg Streams": 1557,
          "Avg Viewers": 78858,
          "Gain": 4374,
          "Gain.1": 110,
          "Hours Watched": 585133314,
          "Peak Streams": 3046,
          "Peak Viewers": 465673,
          "month": "2020-09-01T00:00:00",
          "viewCount": 21668669
         },
         {
          "Avg Streams": 1834,
          "Avg Viewers": 84747,
          "Gain": 5889,
          "Gain.1": 277,
          "Hours Watched": 608149698,
          "Peak Streams": 3617,
          "Peak Viewers": 556546,
          "month": "2020-10-01T00:00:00",
          "viewCount": 6752416
         },
         {
          "Avg Streams": 1948,
          "Avg Viewers": 81674,
          "Gain": 3073,
          "Gain.1": 114,
          "Hours Watched": 605147522,
          "Peak Streams": 4027,
          "Peak Viewers": 395368,
          "month": "2020-11-01T00:00:00",
          "viewCount": 3499404
         },
         {
          "Avg Streams": 2277,
          "Avg Viewers": 82147,
          "Gain": 473,
          "Gain.1": 329,
          "Hours Watched": 609175754,
          "Peak Streams": 4667,
          "Peak Viewers": 602155,
          "month": "2020-12-01T00:00:00",
          "viewCount": 23128706
         },
         {
          "Avg Streams": 2273,
          "Avg Viewers": 100807,
          "Gain": 18660,
          "Gain.1": 4,
          "Hours Watched": 675180765,
          "Peak Streams": 4550,
          "Peak Viewers": 625487,
          "month": "2021-01-01T00:00:00",
          "viewCount": 11562830
         },
         {
          "Avg Streams": 2216,
          "Avg Viewers": 97397,
          "Gain": 3410,
          "Gain.1": 57,
          "Hours Watched": 723123602,
          "Peak Streams": 4480,
          "Peak Viewers": 489826,
          "month": "2021-02-01T00:00:00",
          "viewCount": 6976256
         },
         {
          "Avg Streams": 2065,
          "Avg Viewers": 97486,
          "Gain": 89,
          "Gain.1": 151,
          "Hours Watched": 700153623,
          "Peak Streams": 4272,
          "Peak Viewers": 447255,
          "month": "2021-03-01T00:00:00",
          "viewCount": 3086472
         },
         {
          "Avg Streams": 1883,
          "Avg Viewers": 102192,
          "Gain": 4706,
          "Gain.1": 182,
          "Hours Watched": 756406604,
          "Peak Streams": 3685,
          "Peak Viewers": 611693,
          "month": "2021-04-01T00:00:00",
          "viewCount": 10430508
         },
         {
          "Avg Streams": 1643,
          "Avg Viewers": 77505,
          "Gain": 24689,
          "Gain.1": 242,
          "Hours Watched": 554393000,
          "Peak Streams": 3067,
          "Peak Viewers": 394499,
          "month": "2021-05-01T00:00:00",
          "viewCount": 7307255
         },
         {
          "Avg Streams": 1520,
          "Avg Viewers": 78911,
          "Gain": 2142,
          "Gain.1": 129,
          "Hours Watched": 586160000,
          "Peak Streams": 2576,
          "Peak Viewers": 730453,
          "month": "2021-06-01T00:00:00",
          "viewCount": 7542215
         },
         {
          "Avg Streams": 1503,
          "Avg Viewers": 67173,
          "Gain": 11768,
          "Gain.1": 17,
          "Hours Watched": 498136452,
          "Peak Streams": 2606,
          "Peak Viewers": 399637,
          "month": "2021-07-01T00:00:00",
          "viewCount": 3258535
         },
         {
          "Avg Streams": 1422,
          "Avg Viewers": 85593,
          "Gain": 18482,
          "Gain.1": 81,
          "Hours Watched": 615120000,
          "Peak Streams": 2886,
          "Peak Viewers": 736929,
          "month": "2021-08-01T00:00:00",
          "viewCount": 4094505
         },
         {
          "Avg Streams": 1307,
          "Avg Viewers": 94510,
          "Gain": 8971,
          "Gain.1": 115,
          "Hours Watched": 702959449,
          "Peak Streams": 2625,
          "Peak Viewers": 689355,
          "month": "2021-09-01T00:00:00",
          "viewCount": 8603503
         },
         {
          "Avg Streams": 1347,
          "Avg Viewers": 111172,
          "Gain": 16664,
          "Gain.1": 40,
          "Hours Watched": 799103558,
          "Peak Streams": 2665,
          "Peak Viewers": 1950442,
          "month": "2021-10-01T00:00:00",
          "viewCount": 4760216
         },
         {
          "Avg Streams": 1252,
          "Avg Viewers": 61286,
          "Gain": 49888,
          "Gain.1": 95,
          "Hours Watched": 455102784,
          "Peak Streams": 2541,
          "Peak Viewers": 530769,
          "month": "2021-11-01T00:00:00",
          "viewCount": null
         },
         {
          "Avg Streams": 1494,
          "Avg Viewers": 54040,
          "Gain": 7290,
          "Gain.1": 242,
          "Hours Watched": 400132000,
          "Peak Streams": 2949,
          "Peak Viewers": 440489,
          "month": "2021-12-01T00:00:00",
          "viewCount": null
         },
         {
          "Avg Streams": 1413,
          "Avg Viewers": 100599,
          "Gain": 46563,
          "Gain.1": 81,
          "Hours Watched": 668105588,
          "Peak Streams": 2794,
          "Peak Viewers": 988449,
          "month": "2022-01-01T00:00:00",
          "viewCount": null
         },
         {
          "Avg Streams": 1174,
          "Avg Viewers": 75433,
          "Gain": 25218,
          "Gain.1": 239,
          "Hours Watched": 549780000,
          "Peak Streams": 2344,
          "Peak Viewers": 356457,
          "month": "2022-02-01T00:00:00",
          "viewCount": null
         },
         {
          "Avg Streams": 1116,
          "Avg Viewers": 81941,
          "Gain": 6578,
          "Gain.1": 58,
          "Hours Watched": 588685868,
          "Peak Streams": 2215,
          "Peak Viewers": 433195,
          "month": "2022-03-01T00:00:00",
          "viewCount": null
         },
         {
          "Avg Streams": 1135,
          "Avg Viewers": 126020,
          "Gain": 44115,
          "Gain.1": 23,
          "Hours Watched": 932589000,
          "Peak Streams": 2192,
          "Peak Viewers": 1634605,
          "month": "2022-04-01T00:00:00",
          "viewCount": null
         },
         {
          "Avg Streams": 1165,
          "Avg Viewers": 78428,
          "Gain": 47658,
          "Gain.1": 30,
          "Hours Watched": 563791485,
          "Peak Streams": 2170,
          "Peak Viewers": 521208,
          "month": "2022-05-01T00:00:00",
          "viewCount": null
         },
         {
          "Avg Streams": 1148,
          "Avg Viewers": 68442,
          "Gain": 9986,
          "Gain.1": 17,
          "Hours Watched": 500791318,
          "Peak Streams": 2060,
          "Peak Viewers": 1157283,
          "month": "2022-06-01T00:00:00",
          "viewCount": null
         },
         {
          "Avg Streams": 1175,
          "Avg Viewers": 57186,
          "Gain": 11342,
          "Gain.1": 27,
          "Hours Watched": 424127000,
          "Peak Streams": 2193,
          "Peak Viewers": 322087,
          "month": "2022-07-01T00:00:00",
          "viewCount": null
         },
         {
          "Avg Streams": 1096,
          "Avg Viewers": 80861,
          "Gain": 23695,
          "Gain.1": 79,
          "Hours Watched": 574179228,
          "Peak Streams": 2130,
          "Peak Viewers": 456477,
          "month": "2022-08-01T00:00:00",
          "viewCount": null
         },
         {
          "Avg Streams": 994,
          "Avg Viewers": 73816,
          "Gain": 7049,
          "Gain.1": 102,
          "Hours Watched": 514899411,
          "Peak Streams": 1973,
          "Peak Viewers": 693262,
          "month": "2022-09-01T00:00:00",
          "viewCount": null
         },
         {
          "Avg Streams": 924,
          "Avg Viewers": 121325,
          "Gain": 47535,
          "Gain.1": 70,
          "Hours Watched": 872880280,
          "Peak Streams": 1984,
          "Peak Viewers": 1273072,
          "month": "2022-10-01T00:00:00",
          "viewCount": null
         },
         {
          "Avg Streams": 903,
          "Avg Viewers": 41945,
          "Gain": 79392,
          "Gain.1": 21,
          "Hours Watched": 311955329,
          "Peak Streams": 1788,
          "Peak Viewers": 284991,
          "month": "2022-11-01T00:00:00",
          "viewCount": null
         },
         {
          "Avg Streams": 1111,
          "Avg Viewers": 52468,
          "Gain": 10525,
          "Gain.1": 208,
          "Hours Watched": 386108253,
          "Peak Streams": 2243,
          "Peak Viewers": 328157,
          "month": "2022-12-01T00:00:00",
          "viewCount": null
         },
         {
          "Avg Streams": 1190,
          "Avg Viewers": 82176,
          "Gain": 29738,
          "Gain.1": 81,
          "Hours Watched": 545875319,
          "Peak Streams": 2285,
          "Peak Viewers": 578423,
          "month": "2023-01-01T00:00:00",
          "viewCount": null
         },
         {
          "Avg Streams": 1354,
          "Avg Viewers": 89073,
          "Gain": 6899,
          "Gain.1": 164,
          "Hours Watched": 655103412,
          "Peak Streams": 2998,
          "Peak Viewers": 890512,
          "month": "2023-02-01T00:00:00",
          "viewCount": null
         },
         {
          "Avg Streams": 1594,
          "Avg Viewers": 112765,
          "Gain": 23692,
          "Gain.1": 240,
          "Hours Watched": 808109536,
          "Peak Streams": 3088,
          "Peak Viewers": 589121,
          "month": "2023-03-01T00:00:00",
          "viewCount": null
         },
         {
          "Avg Streams": 1458,
          "Avg Viewers": 118738,
          "Gain": 5985,
          "Gain.1": 136,
          "Hours Watched": 880109530,
          "Peak Streams": 2814,
          "Peak Viewers": 1087551,
          "month": "2023-04-01T00:00:00",
          "viewCount": null
         },
         {
          "Avg Streams": 1346,
          "Avg Viewers": 62865,
          "Gain": 57063,
          "Gain.1": 112,
          "Hours Watched": 446527569,
          "Peak Streams": 2490,
          "Peak Viewers": 489612,
          "month": "2023-05-01T00:00:00",
          "viewCount": null
         },
         {
          "Avg Streams": 1350,
          "Avg Viewers": 81222,
          "Gain": 19543,
          "Gain.1": 4,
          "Hours Watched": 599125000,
          "Peak Streams": 2379,
          "Peak Viewers": 421682,
          "month": "2023-06-01T00:00:00",
          "viewCount": null
         },
         {
          "Avg Streams": 1303,
          "Avg Viewers": 85021,
          "Gain": 3853,
          "Gain.1": 47,
          "Hours Watched": 628891000,
          "Peak Streams": 2396,
          "Peak Viewers": 586548,
          "month": "2023-07-01T00:00:00",
          "viewCount": null
         },
         {
          "Avg Streams": 975,
          "Avg Viewers": 62757,
          "Gain": 22264,
          "Gain.1": 328,
          "Hours Watched": 449625340,
          "Peak Streams": 4556,
          "Peak Viewers": 505586,
          "month": "2023-08-01T00:00:00",
          "viewCount": null
         },
         {
          "Avg Streams": 1773,
          "Avg Viewers": 86787,
          "Gain": 24030,
          "Gain.1": 804,
          "Hours Watched": 641661584,
          "Peak Streams": 3829,
          "Peak Viewers": 546449,
          "month": "2023-09-01T00:00:00",
          "viewCount": null
         },
         {
          "Avg Streams": 1267,
          "Avg Viewers": 61178,
          "Gain": 25697,
          "Gain.1": 508,
          "Hours Watched": 438961481,
          "Peak Streams": 2462,
          "Peak Viewers": 383963,
          "month": "2023-10-01T00:00:00",
          "viewCount": null
         },
         {
          "Avg Streams": 1109,
          "Avg Viewers": 50150,
          "Gain": 11042,
          "Gain.1": 158,
          "Hours Watched": 370819000,
          "Peak Streams": 2333,
          "Peak Viewers": 302110,
          "month": "2023-11-01T00:00:00",
          "viewCount": null
         },
         {
          "Avg Streams": 1261,
          "Avg Viewers": 71072,
          "Gain": 20940,
          "Gain.1": 152,
          "Hours Watched": 515967301,
          "Peak Streams": 2503,
          "Peak Viewers": 305821,
          "month": "2023-12-01T00:00:00",
          "viewCount": null
         },
         {
          "Avg Streams": 1371,
          "Avg Viewers": 95200,
          "Gain": 24164,
          "Gain.1": 112,
          "Hours Watched": 661793416,
          "Peak Streams": 3142,
          "Peak Viewers": 698049,
          "month": "2024-01-01T00:00:00",
          "viewCount": null
         },
         {
          "Avg Streams": 1370,
          "Avg Viewers": 122486,
          "Gain": 27286,
          "Gain.1": 1,
          "Hours Watched": 908142000,
          "Peak Streams": 2800,
          "Peak Viewers": 1553750,
          "month": "2024-02-01T00:00:00",
          "viewCount": null
         },
         {
          "Avg Streams": 1291,
          "Avg Viewers": 76746,
          "Gain": 45744,
          "Gain.1": 79,
          "Hours Watched": 549666687,
          "Peak Streams": 2642,
          "Peak Viewers": 277008,
          "month": "2024-03-01T00:00:00",
          "viewCount": null
         },
         {
          "Avg Streams": 1167,
          "Avg Viewers": 75568,
          "Gain": 1220,
          "Gain.1": 124,
          "Hours Watched": 561792000,
          "Peak Streams": 2436,
          "Peak Viewers": 317538,
          "month": "2024-04-01T00:00:00",
          "viewCount": null
         },
         {
          "Avg Streams": 1072,
          "Avg Viewers": 61497,
          "Gain": 14789,
          "Gain.1": 95,
          "Hours Watched": 439333734,
          "Peak Streams": 2015,
          "Peak Viewers": 610953,
          "month": "2024-05-01T00:00:00",
          "viewCount": null
         },
         {
          "Avg Streams": 1065,
          "Avg Viewers": 55901,
          "Gain": 5638,
          "Gain.1": 7,
          "Hours Watched": 414134000,
          "Peak Streams": 2045,
          "Peak Viewers": 630445,
          "month": "2024-06-01T00:00:00",
          "viewCount": null
         },
         {
          "Avg Streams": 1166,
          "Avg Viewers": 83456,
          "Gain": 27689,
          "Gain.1": 101,
          "Hours Watched": 609697000,
          "Peak Streams": 2197,
          "Peak Viewers": 719996,
          "month": "2024-07-01T00:00:00",
          "viewCount": null
         },
         {
          "Avg Streams": 1156,
          "Avg Viewers": 78604,
          "Gain": 4888,
          "Gain.1": 10,
          "Hours Watched": 559775177,
          "Peak Streams": 2252,
          "Peak Viewers": 626902,
          "month": "2024-08-01T00:00:00",
          "viewCount": null
         },
         {
          "Avg Streams": 1230,
          "Avg Viewers": 63932,
          "Gain": 14672,
          "Gain.1": 76,
          "Hours Watched": 467633319,
          "Peak Streams": 2528,
          "Peak Viewers": 432847,
          "month": "2024-09-01T00:00:00",
          "viewCount": null
         },
         {
          "Avg Streams": 1254,
          "Avg Viewers": 67250,
          "Gain": 3318,
          "Gain.1": 24,
          "Hours Watched": 482863640,
          "Peak Streams": 2467,
          "Peak Viewers": 438615,
          "month": "2024-10-01T00:00:00",
          "viewCount": null
         },
         {
          "Avg Streams": 1296,
          "Avg Viewers": 73597,
          "Gain": 6355,
          "Gain.1": 42,
          "Hours Watched": 547003000,
          "Peak Streams": 2513,
          "Peak Viewers": 951116,
          "month": "2024-11-01T00:00:00",
          "viewCount": null
         },
         {
          "Avg Streams": 1714,
          "Avg Viewers": 80586,
          "Gain": 7009,
          "Gain.1": 418,
          "Hours Watched": 595945000,
          "Peak Streams": 3670,
          "Peak Viewers": 525938,
          "month": "2024-12-01T00:00:00",
          "viewCount": null
         },
         {
          "Avg Streams": 1877,
          "Avg Viewers": 103137,
          "Gain": 22581,
          "Gain.1": 163,
          "Hours Watched": 689849646,
          "Peak Streams": 3716,
          "Peak Viewers": 952930,
          "month": "2025-01-01T00:00:00",
          "viewCount": null
         },
         {
          "Avg Streams": 1769,
          "Avg Viewers": 107709,
          "Gain": 4614,
          "Gain.1": 108,
          "Hours Watched": 797808149,
          "Peak Streams": 3786,
          "Peak Viewers": 631990,
          "month": "2025-02-01T00:00:00",
          "viewCount": null
         },
         {
          "Avg Streams": 1681,
          "Avg Viewers": 87188,
          "Gain": 20569,
          "Gain.1": 88,
          "Hours Watched": 627951317,
          "Peak Streams": 3524,
          "Peak Viewers": 827726,
          "month": "2025-03-01T00:00:00",
          "viewCount": null
         },
         {
          "Avg Streams": 1601,
          "Avg Viewers": 99822,
          "Gain": 12660,
          "Gain.1": 80,
          "Hours Watched": 741902172,
          "Peak Streams": 3272,
          "Peak Viewers": 722031,
          "month": "2025-04-01T00:00:00",
          "viewCount": null
         },
         {
          "Avg Streams": 1481,
          "Avg Viewers": 117782,
          "Gain": 18074,
          "Gain.1": 120,
          "Hours Watched": 848466647,
          "Peak Streams": 3053,
          "Peak Viewers": 1146827,
          "month": "2025-05-01T00:00:00",
          "viewCount": null
         },
         {
          "Avg Streams": 1519,
          "Avg Viewers": 86343,
          "Gain": 31463,
          "Gain.1": 38,
          "Hours Watched": 642565317,
          "Peak Streams": 2998,
          "Peak Viewers": 556026,
          "month": "2025-06-01T00:00:00",
          "viewCount": null
         },
         {
          "Avg Streams": 1558,
          "Avg Viewers": 91794,
          "Gain": 5449,
          "Gain.1": 37,
          "Hours Watched": 682532909,
          "Peak Streams": 3044,
          "Peak Viewers": 734295,
          "month": "2025-07-01T00:00:00",
          "viewCount": null
         },
         {
          "Avg Streams": 1447,
          "Avg Viewers": 64286,
          "Gain": 27510,
          "Gain.1": 111,
          "Hours Watched": 154211193,
          "Peak Streams": 2952,
          "Peak Viewers": 445214,
          "month": "2025-08-01T00:00:00",
          "viewCount": null
         }
        ]
       },
       "height": 450,
       "layer": [
        {
         "encoding": {
          "x": {
           "field": "month",
           "type": "temporal"
          },
          "y": {
           "axis": {
            "titleColor": "red"
           },
           "field": "viewCount",
           "title": "Youtube",
           "type": "quantitative"
          }
         },
         "mark": {
          "color": "red",
          "type": "line"
         }
        },
        {
         "encoding": {
          "x": {
           "field": "month",
           "title": "Month",
           "type": "temporal"
          },
          "y": {
           "axis": {
            "titleColor": "purple"
           },
           "field": "Peak Viewers",
           "title": "Twitch",
           "type": "quantitative"
          }
         },
         "mark": {
          "color": "purple",
          "type": "line"
         }
        }
       ],
       "resolve": {
        "scale": {
         "y": "independent"
        }
       },
       "title": "Counter-Strike Viewership Over Time",
       "usermeta": {
        "embedOptions": {
         "theme": "fivethirtyeight"
        }
       },
       "width": 950
      },
      "text/plain": [
       "<VegaLite 5 object>\n",
       "\n",
       "If you see this message, it means the renderer has not been properly enabled\n",
       "for the frontend that you are using. For more information, see\n",
       "https://altair-viz.github.io/user_guide/display_frontends.html#troubleshooting\n"
      ]
     },
     "execution_count": 51,
     "metadata": {},
     "output_type": "execute_result"
    }
   ],
   "source": [
    "# First line: views (left y-axis)\n",
    "twitch_line = alt.Chart(merged_yt_twitch).mark_line(color=\"purple\").encode(\n",
    "    x=alt.X(\"month:T\", title=\"Month\"),\n",
    "    y=alt.Y(\"Peak Viewers:Q\", title=\"Twitch\", axis=alt.Axis(titleColor=\"purple\"))\n",
    ")\n",
    "\n",
    "# Second line: likes (right y-axis)\n",
    "youtube_line = alt.Chart(merged_yt_twitch).mark_line(color=\"red\").encode(\n",
    "    x=\"month:T\",\n",
    "    y=alt.Y(\"viewCount:Q\", title=\"Youtube\", axis=alt.Axis(titleColor=\"red\")),\n",
    ")\n",
    "\n",
    "# Layer the two charts\n",
    "chart = alt.layer(youtube_line, twitch_line).resolve_scale(\n",
    "    y=\"independent\"  # independent y-axes so they can differ\n",
    ").properties(width=950, height=450, title=\"Counter-Strike Viewership Over Time\")\n",
    "\n",
    "chart"
   ]
  },
  {
   "cell_type": "code",
   "execution_count": 39,
   "id": "9da2212f",
   "metadata": {},
   "outputs": [
    {
     "data": {
      "application/vnd.vegalite.v5+json": {
       "$schema": "https://vega.github.io/schema/vega-lite/v5.20.1.json",
       "config": {
        "view": {
         "continuousHeight": 300,
         "continuousWidth": 300
        }
       },
       "data": {
        "name": "data-bc244ac3d2fd3d24b773e9ff88fe79be"
       },
       "datasets": {
        "data-bc244ac3d2fd3d24b773e9ff88fe79be": [
         {
          "month": "2009-10-01T00:00:00",
          "peak": 158107,
          "viewCount": 200082263,
          "year": 2009
         },
         {
          "month": "2016-08-01T00:00:00",
          "peak": 631402,
          "viewCount": 57190017,
          "year": 2016
         },
         {
          "month": "2018-06-01T00:00:00",
          "peak": 449409,
          "viewCount": 55513661,
          "year": 2018
         },
         {
          "month": "2019-09-01T00:00:00",
          "peak": 745425,
          "viewCount": 52619174,
          "year": 2019
         },
         {
          "month": "2018-04-01T00:00:00",
          "peak": 556019,
          "viewCount": 52530015,
          "year": 2018
         },
         {
          "month": "2020-03-01T00:00:00",
          "peak": 1269874,
          "viewCount": 52346362,
          "year": 2020
         },
         {
          "month": "2015-04-01T00:00:00",
          "peak": 615659,
          "viewCount": 52275373,
          "year": 2015
         },
         {
          "month": "2019-11-01T00:00:00",
          "peak": 789463,
          "viewCount": 48555412,
          "year": 2019
         },
         {
          "month": "2018-05-01T00:00:00",
          "peak": 481392,
          "viewCount": 48526304,
          "year": 2018
         },
         {
          "month": "2016-11-01T00:00:00",
          "peak": 664428,
          "viewCount": 44191608,
          "year": 2016
         },
         {
          "month": "2018-11-01T00:00:00",
          "peak": 576288,
          "viewCount": 43796079,
          "year": 2018
         },
         {
          "month": "2019-08-01T00:00:00",
          "peak": 680892,
          "viewCount": 43137256,
          "year": 2019
         },
         {
          "month": "2011-03-01T00:00:00",
          "peak": 167261,
          "viewCount": 40137945,
          "year": 2011
         },
         {
          "month": "2019-05-01T00:00:00",
          "peak": 616941,
          "viewCount": 39791010,
          "year": 2019
         },
         {
          "month": "2017-01-01T00:00:00",
          "peak": 858017,
          "viewCount": 38548418,
          "year": 2017
         },
         {
          "month": "2007-09-01T00:00:00",
          "peak": 404894,
          "viewCount": 37144139,
          "year": 2007
         },
         {
          "month": "2012-08-01T00:00:00",
          "peak": 159370,
          "viewCount": 35967049,
          "year": 2012
         },
         {
          "month": "2015-11-01T00:00:00",
          "peak": 733679,
          "viewCount": 34832444,
          "year": 2015
         },
         {
          "month": "2017-08-01T00:00:00",
          "peak": 626044,
          "viewCount": 34827963,
          "year": 2017
         },
         {
          "month": "2015-08-01T00:00:00",
          "peak": 857320,
          "viewCount": 33838589,
          "year": 2015
         },
         {
          "month": "2017-02-01T00:00:00",
          "peak": 785343,
          "viewCount": 33774463,
          "year": 2017
         },
         {
          "month": "2011-07-01T00:00:00",
          "peak": 123425,
          "viewCount": 33412784,
          "year": 2011
         },
         {
          "month": "2014-04-01T00:00:00",
          "peak": 233835,
          "viewCount": 31693380,
          "year": 2014
         },
         {
          "month": "2010-02-01T00:00:00",
          "peak": 148816,
          "viewCount": 30453118,
          "year": 2010
         },
         {
          "month": "2009-08-01T00:00:00",
          "peak": 160808,
          "viewCount": 28863477,
          "year": 2009
         },
         {
          "month": "2015-05-01T00:00:00",
          "peak": 725151,
          "viewCount": 25535138,
          "year": 2015
         },
         {
          "month": "2016-12-01T00:00:00",
          "peak": 702226,
          "viewCount": 24417765,
          "year": 2016
         },
         {
          "month": "2017-04-01T00:00:00",
          "peak": 728537,
          "viewCount": 24126412,
          "year": 2017
         },
         {
          "month": "2020-12-01T00:00:00",
          "peak": 1201522,
          "viewCount": 23128706,
          "year": 2020
         },
         {
          "month": "2014-03-01T00:00:00",
          "peak": 233953,
          "viewCount": 22211339,
          "year": 2014
         },
         {
          "month": "2020-09-01T00:00:00",
          "peak": 1003755,
          "viewCount": 21668669,
          "year": 2020
         },
         {
          "month": "2019-07-01T00:00:00",
          "peak": 602806,
          "viewCount": 21247781,
          "year": 2019
         },
         {
          "month": "2019-06-01T00:00:00",
          "peak": 614513,
          "viewCount": 20781995,
          "year": 2019
         },
         {
          "month": "2020-01-01T00:00:00",
          "peak": 850328,
          "viewCount": 20546454,
          "year": 2020
         },
         {
          "month": "2018-01-01T00:00:00",
          "peak": 758776,
          "viewCount": 20227943,
          "year": 2018
         },
         {
          "month": "2015-03-01T00:00:00",
          "peak": 618109,
          "viewCount": 19684113,
          "year": 2015
         },
         {
          "month": "2018-10-01T00:00:00",
          "peak": 594113,
          "viewCount": 19632217,
          "year": 2018
         },
         {
          "month": "2012-04-01T00:00:00",
          "peak": 139991,
          "viewCount": 19269517,
          "year": 2012
         },
         {
          "month": "2020-08-01T00:00:00",
          "peak": 955869,
          "viewCount": 18786311,
          "year": 2020
         },
         {
          "month": "2020-05-01T00:00:00",
          "peak": 1220085,
          "viewCount": 18362604,
          "year": 2020
         },
         {
          "month": "2012-12-01T00:00:00",
          "peak": 148362,
          "viewCount": 18060250,
          "year": 2012
         },
         {
          "month": "2014-10-01T00:00:00",
          "peak": 404729,
          "viewCount": 17785102,
          "year": 2014
         },
         {
          "month": "2007-01-01T00:00:00",
          "peak": 231570,
          "viewCount": 17532321,
          "year": 2007
         },
         {
          "month": "2016-10-01T00:00:00",
          "peak": 697025,
          "viewCount": 17427196,
          "year": 2016
         },
         {
          "month": "2012-03-01T00:00:00",
          "peak": 149702,
          "viewCount": 17328108,
          "year": 2012
         },
         {
          "month": "2014-09-01T00:00:00",
          "peak": 314963,
          "viewCount": 17189398,
          "year": 2014
         },
         {
          "month": "2018-08-01T00:00:00",
          "peak": 481746,
          "viewCount": 17108328,
          "year": 2018
         },
         {
          "month": "2010-10-01T00:00:00",
          "peak": 156446,
          "viewCount": 17016580,
          "year": 2010
         },
         {
          "month": "2016-01-01T00:00:00",
          "peak": 714744,
          "viewCount": 16947082,
          "year": 2016
         },
         {
          "month": "2016-05-01T00:00:00",
          "peak": 673484,
          "viewCount": 16737835,
          "year": 2016
         },
         {
          "month": "2020-02-01T00:00:00",
          "peak": 959235,
          "viewCount": 16531507,
          "year": 2020
         },
         {
          "month": "2014-08-01T00:00:00",
          "peak": 328267,
          "viewCount": 16522554,
          "year": 2014
         },
         {
          "month": "2017-11-01T00:00:00",
          "peak": 638295,
          "viewCount": 16473084,
          "year": 2017
         },
         {
          "month": "2020-04-01T00:00:00",
          "peak": 1354060,
          "viewCount": 16302139,
          "year": 2020
         },
         {
          "month": "2011-10-01T00:00:00",
          "peak": 135840,
          "viewCount": 16169495,
          "year": 2011
         },
         {
          "month": "2013-03-01T00:00:00",
          "peak": 128818,
          "viewCount": 15846703,
          "year": 2013
         },
         {
          "month": "2019-03-01T00:00:00",
          "peak": 711735,
          "viewCount": 15821046,
          "year": 2019
         },
         {
          "month": "2017-10-01T00:00:00",
          "peak": 674835,
          "viewCount": 15677146,
          "year": 2017
         },
         {
          "month": "2019-12-01T00:00:00",
          "peak": 798764,
          "viewCount": 15067596,
          "year": 2019
         },
         {
          "month": "2015-06-01T00:00:00",
          "peak": 651662,
          "viewCount": 14702715,
          "year": 2015
         },
         {
          "month": "2012-10-01T00:00:00",
          "peak": 155818,
          "viewCount": 14545546,
          "year": 2012
         },
         {
          "month": "2017-05-01T00:00:00",
          "peak": 729279,
          "viewCount": 14520871,
          "year": 2017
         },
         {
          "month": "2009-07-01T00:00:00",
          "peak": 125173,
          "viewCount": 14430061,
          "year": 2009
         },
         {
          "month": "2014-05-01T00:00:00",
          "peak": 233847,
          "viewCount": 14239817,
          "year": 2014
         },
         {
          "month": "2011-12-01T00:00:00",
          "peak": 140514,
          "viewCount": 13969882,
          "year": 2011
         },
         {
          "month": "2016-02-01T00:00:00",
          "peak": 785773,
          "viewCount": 13722689,
          "year": 2016
         },
         {
          "month": "2014-06-01T00:00:00",
          "peak": 251282,
          "viewCount": 13140354,
          "year": 2014
         },
         {
          "month": "2011-08-01T00:00:00",
          "peak": 131653,
          "viewCount": 12810636,
          "year": 2011
         },
         {
          "month": "2015-10-01T00:00:00",
          "peak": 826148,
          "viewCount": 12608204,
          "year": 2015
         },
         {
          "month": "2012-06-01T00:00:00",
          "peak": 120396,
          "viewCount": 12260898,
          "year": 2012
         },
         {
          "month": "2013-05-01T00:00:00",
          "peak": 125199,
          "viewCount": 11987984,
          "year": 2013
         },
         {
          "month": "2014-01-01T00:00:00",
          "peak": 202520,
          "viewCount": 11969930,
          "year": 2014
         },
         {
          "month": "2016-09-01T00:00:00",
          "peak": 671478,
          "viewCount": 11861116,
          "year": 2016
         },
         {
          "month": "2015-09-01T00:00:00",
          "peak": 763829,
          "viewCount": 11818942,
          "year": 2015
         },
         {
          "month": "2019-10-01T00:00:00",
          "peak": 776751,
          "viewCount": 11704409,
          "year": 2019
         },
         {
          "month": "2021-01-01T00:00:00",
          "peak": 1158553,
          "viewCount": 11562830,
          "year": 2021
         },
         {
          "month": "2016-03-01T00:00:00",
          "peak": 845234,
          "viewCount": 11430699,
          "year": 2016
         },
         {
          "month": "2009-04-01T00:00:00",
          "peak": 115364,
          "viewCount": 11303070,
          "year": 2009
         },
         {
          "month": "2015-07-01T00:00:00",
          "peak": 584839,
          "viewCount": 11261690,
          "year": 2015
         },
         {
          "month": "2005-12-01T00:00:00",
          "peak": 206618,
          "viewCount": 10797827,
          "year": 2005
         },
         {
          "month": "2006-11-01T00:00:00",
          "peak": 137798,
          "viewCount": 10774678,
          "year": 2006
         },
         {
          "month": "2016-06-01T00:00:00",
          "peak": 613756,
          "viewCount": 10576614,
          "year": 2016
         },
         {
          "month": "2021-04-01T00:00:00",
          "peak": 1182193,
          "viewCount": 10430508,
          "year": 2021
         },
         {
          "month": "2012-02-01T00:00:00",
          "peak": 150030,
          "viewCount": 10346674,
          "year": 2012
         },
         {
          "month": "2012-07-01T00:00:00",
          "peak": 159255,
          "viewCount": 10131182,
          "year": 2012
         },
         {
          "month": "2007-02-01T00:00:00",
          "peak": 283288,
          "viewCount": 9787421,
          "year": 2007
         },
         {
          "month": "2010-03-01T00:00:00",
          "peak": 176642,
          "viewCount": 9682804,
          "year": 2010
         },
         {
          "month": "2012-11-01T00:00:00",
          "peak": 159238,
          "viewCount": 9600451,
          "year": 2012
         },
         {
          "month": "2007-06-01T00:00:00",
          "peak": 344992,
          "viewCount": 9479922,
          "year": 2007
         },
         {
          "month": "2017-03-01T00:00:00",
          "peak": 780831,
          "viewCount": 9465118,
          "year": 2017
         },
         {
          "month": "2020-07-01T00:00:00",
          "peak": 887871,
          "viewCount": 9422260,
          "year": 2020
         },
         {
          "month": "2011-05-01T00:00:00",
          "peak": 141897,
          "viewCount": 9306413,
          "year": 2011
         },
         {
          "month": "2019-04-01T00:00:00",
          "peak": 647906,
          "viewCount": 9058245,
          "year": 2019
         },
         {
          "month": "2017-07-01T00:00:00",
          "peak": 670361,
          "viewCount": 8991317,
          "year": 2017
         },
         {
          "month": "2013-12-01T00:00:00",
          "peak": 183871,
          "viewCount": 8971707,
          "year": 2013
         },
         {
          "month": "2019-02-01T00:00:00",
          "peak": 686703,
          "viewCount": 8897700,
          "year": 2019
         },
         {
          "month": "2021-09-01T00:00:00",
          "peak": 970788,
          "viewCount": 8603503,
          "year": 2021
         },
         {
          "month": "2011-06-01T00:00:00",
          "peak": 142446,
          "viewCount": 8271601,
          "year": 2011
         },
         {
          "month": "2015-01-01T00:00:00",
          "peak": 518870,
          "viewCount": 8205640,
          "year": 2015
         },
         {
          "month": "2015-12-01T00:00:00",
          "peak": 867769,
          "viewCount": 8132604,
          "year": 2015
         },
         {
          "month": "2009-11-01T00:00:00",
          "peak": 92452,
          "viewCount": 7997396,
          "year": 2009
         },
         {
          "month": "2013-04-01T00:00:00",
          "peak": 138531,
          "viewCount": 7957384,
          "year": 2013
         },
         {
          "month": "2012-05-01T00:00:00",
          "peak": 126234,
          "viewCount": 7933811,
          "year": 2012
         },
         {
          "month": "2019-01-01T00:00:00",
          "peak": 720255,
          "viewCount": 7797941,
          "year": 2019
         },
         {
          "month": "2013-11-01T00:00:00",
          "peak": 171672,
          "viewCount": 7755662,
          "year": 2013
         },
         {
          "month": "2021-06-01T00:00:00",
          "peak": 953085,
          "viewCount": 7542215,
          "year": 2021
         },
         {
          "month": "2012-09-01T00:00:00",
          "peak": 140031,
          "viewCount": 7531982,
          "year": 2012
         },
         {
          "month": "2017-12-01T00:00:00",
          "peak": 638526,
          "viewCount": 7403088,
          "year": 2017
         },
         {
          "month": "2021-05-01T00:00:00",
          "peak": 1114107,
          "viewCount": 7307255,
          "year": 2021
         },
         {
          "month": "2015-02-01T00:00:00",
          "peak": 652940,
          "viewCount": 7034858,
          "year": 2015
         },
         {
          "month": "2021-02-01T00:00:00",
          "peak": 1156160,
          "viewCount": 6976256,
          "year": 2021
         },
         {
          "month": "2007-05-01T00:00:00",
          "peak": 263139,
          "viewCount": 6965563,
          "year": 2007
         },
         {
          "month": "2011-09-01T00:00:00",
          "peak": 131514,
          "viewCount": 6923899,
          "year": 2011
         },
         {
          "month": "2014-11-01T00:00:00",
          "peak": 429231,
          "viewCount": 6769122,
          "year": 2014
         },
         {
          "month": "2020-10-01T00:00:00",
          "peak": 977120,
          "viewCount": 6752416,
          "year": 2020
         },
         {
          "month": "2018-03-01T00:00:00",
          "peak": 710912,
          "viewCount": 6681056,
          "year": 2018
         },
         {
          "month": "2008-12-01T00:00:00",
          "peak": 130243,
          "viewCount": 6632137,
          "year": 2008
         },
         {
          "month": "2008-01-01T00:00:00",
          "peak": 350212,
          "viewCount": 6548230,
          "year": 2008
         },
         {
          "month": "2010-07-01T00:00:00",
          "peak": 134295,
          "viewCount": 6177810,
          "year": 2010
         },
         {
          "month": "2006-12-01T00:00:00",
          "peak": 183932,
          "viewCount": 5881301,
          "year": 2006
         },
         {
          "month": "2007-03-01T00:00:00",
          "peak": 224528,
          "viewCount": 5830694,
          "year": 2007
         },
         {
          "month": "2013-08-01T00:00:00",
          "peak": 122345,
          "viewCount": 5628441,
          "year": 2013
         },
         {
          "month": "2016-04-01T00:00:00",
          "peak": 889459,
          "viewCount": 5387908,
          "year": 2016
         },
         {
          "month": "2014-12-01T00:00:00",
          "peak": 506492,
          "viewCount": 5292148,
          "year": 2014
         },
         {
          "month": "2007-07-01T00:00:00",
          "peak": 343354,
          "viewCount": 5203975,
          "year": 2007
         },
         {
          "month": "2010-06-01T00:00:00",
          "peak": 151931,
          "viewCount": 5156762,
          "year": 2010
         },
         {
          "month": "2006-08-01T00:00:00",
          "peak": 205654,
          "viewCount": 5038160,
          "year": 2006
         },
         {
          "month": "2017-09-01T00:00:00",
          "peak": 709468,
          "viewCount": 5023939,
          "year": 2017
         },
         {
          "month": "2008-09-01T00:00:00",
          "peak": 167567,
          "viewCount": 4932420,
          "year": 2008
         },
         {
          "month": "2014-02-01T00:00:00",
          "peak": 239175,
          "viewCount": 4843915,
          "year": 2014
         },
         {
          "month": "2018-02-01T00:00:00",
          "peak": 728848,
          "viewCount": 4773316,
          "year": 2018
         },
         {
          "month": "2021-10-01T00:00:00",
          "peak": 888099,
          "viewCount": 4760216,
          "year": 2021
         },
         {
          "month": "2009-05-01T00:00:00",
          "peak": 146044,
          "viewCount": 4752600,
          "year": 2009
         },
         {
          "month": "2012-01-01T00:00:00",
          "peak": 152253,
          "viewCount": 4707628,
          "year": 2012
         },
         {
          "month": "2016-07-01T00:00:00",
          "peak": 668393,
          "viewCount": 4672265,
          "year": 2016
         },
         {
          "month": "2007-08-01T00:00:00",
          "peak": 307410,
          "viewCount": 4659322,
          "year": 2007
         },
         {
          "month": "2013-02-01T00:00:00",
          "peak": 144267,
          "viewCount": 4401759,
          "year": 2013
         },
         {
          "month": "2018-12-01T00:00:00",
          "peak": 781335,
          "viewCount": 4192299,
          "year": 2018
         },
         {
          "month": "2013-01-01T00:00:00",
          "peak": 151841,
          "viewCount": 4095206,
          "year": 2013
         },
         {
          "month": "2021-08-01T00:00:00",
          "peak": 824180,
          "viewCount": 4094505,
          "year": 2021
         },
         {
          "month": "2008-11-01T00:00:00",
          "peak": 113772,
          "viewCount": 4038333,
          "year": 2008
         },
         {
          "month": "2013-07-01T00:00:00",
          "peak": 116438,
          "viewCount": 3978458,
          "year": 2013
         },
         {
          "month": "2010-12-01T00:00:00",
          "peak": 165713,
          "viewCount": 3832744,
          "year": 2010
         },
         {
          "month": "2017-06-01T00:00:00",
          "peak": 644596,
          "viewCount": 3797489,
          "year": 2017
         },
         {
          "month": "2010-11-01T00:00:00",
          "peak": 163613,
          "viewCount": 3689440,
          "year": 2010
         },
         {
          "month": "2009-12-01T00:00:00",
          "peak": 160755,
          "viewCount": 3683981,
          "year": 2009
         },
         {
          "month": "2008-10-01T00:00:00",
          "peak": 177264,
          "viewCount": 3675927,
          "year": 2008
         },
         {
          "month": "2011-04-01T00:00:00",
          "peak": 153999,
          "viewCount": 3566117,
          "year": 2011
         },
         {
          "month": "2009-02-01T00:00:00",
          "peak": 184563,
          "viewCount": 3549599,
          "year": 2009
         },
         {
          "month": "2011-02-01T00:00:00",
          "peak": 173494,
          "viewCount": 3529684,
          "year": 2011
         },
         {
          "month": "2009-06-01T00:00:00",
          "peak": 158880,
          "viewCount": 3518959,
          "year": 2009
         },
         {
          "month": "2020-11-01T00:00:00",
          "peak": 1069121,
          "viewCount": 3499404,
          "year": 2020
         },
         {
          "month": "2013-06-01T00:00:00",
          "peak": 111218,
          "viewCount": 3489519,
          "year": 2013
         },
         {
          "month": "2014-07-01T00:00:00",
          "peak": 329466,
          "viewCount": 3417795,
          "year": 2014
         },
         {
          "month": "2021-07-01T00:00:00",
          "peak": 788128,
          "viewCount": 3258535,
          "year": 2021
         },
         {
          "month": "2013-09-01T00:00:00",
          "peak": 124472,
          "viewCount": 3243364,
          "year": 2013
         },
         {
          "month": "2007-04-01T00:00:00",
          "peak": 131302,
          "viewCount": 3117854,
          "year": 2007
         },
         {
          "month": "2021-03-01T00:00:00",
          "peak": 1234187,
          "viewCount": 3086472,
          "year": 2021
         },
         {
          "month": "2011-01-01T00:00:00",
          "peak": 178599,
          "viewCount": 3063425,
          "year": 2011
         },
         {
          "month": "2007-10-01T00:00:00",
          "peak": 335093,
          "viewCount": 2976534,
          "year": 2007
         },
         {
          "month": "2009-09-01T00:00:00",
          "peak": 147813,
          "viewCount": 2970142,
          "year": 2009
         },
         {
          "month": "2018-07-01T00:00:00",
          "peak": 455676,
          "viewCount": 2964785,
          "year": 2018
         },
         {
          "month": "2009-03-01T00:00:00",
          "peak": 179726,
          "viewCount": 2897808,
          "year": 2009
         },
         {
          "month": "2011-11-01T00:00:00",
          "peak": 133647,
          "viewCount": 2850563,
          "year": 2011
         },
         {
          "month": "2007-11-01T00:00:00",
          "peak": 309902,
          "viewCount": 2801432,
          "year": 2007
         },
         {
          "month": "2010-01-01T00:00:00",
          "peak": 171430,
          "viewCount": 2765734,
          "year": 2010
         },
         {
          "month": "2010-08-01T00:00:00",
          "peak": 144459,
          "viewCount": 2338476,
          "year": 2010
         },
         {
          "month": "2020-06-01T00:00:00",
          "peak": 986980,
          "viewCount": 2274130,
          "year": 2020
         },
         {
          "month": "2010-09-01T00:00:00",
          "peak": 152887,
          "viewCount": 2120099,
          "year": 2010
         },
         {
          "month": "2010-05-01T00:00:00",
          "peak": 285535,
          "viewCount": 2107379,
          "year": 2010
         },
         {
          "month": "2009-01-01T00:00:00",
          "peak": 113554,
          "viewCount": 2048813,
          "year": 2009
         },
         {
          "month": "2007-12-01T00:00:00",
          "peak": 426756,
          "viewCount": 1852382,
          "year": 2007
         },
         {
          "month": "2005-11-01T00:00:00",
          "peak": 128508,
          "viewCount": 1810148,
          "year": 2005
         },
         {
          "month": "2010-04-01T00:00:00",
          "peak": 167923,
          "viewCount": 1680624,
          "year": 2010
         },
         {
          "month": "2013-10-01T00:00:00",
          "peak": 166374,
          "viewCount": 1423714,
          "year": 2013
         },
         {
          "month": "2018-09-01T00:00:00",
          "peak": 612880,
          "viewCount": 822816,
          "year": 2018
         },
         {
          "month": "2005-08-01T00:00:00",
          "peak": 205663,
          "viewCount": 89144,
          "year": 2005
         },
         {
          "month": "2005-09-01T00:00:00",
          "peak": 185147,
          "viewCount": 19415,
          "year": 2005
         }
        ]
       },
       "layer": [
        {
         "encoding": {
          "color": {
           "field": "year",
           "legend": {
            "columns": 2
           },
           "title": "Year",
           "type": "nominal"
          },
          "tooltip": [
           {
            "field": "month",
            "title": "Month",
            "type": "temporal"
           },
           {
            "field": "peak",
            "format": ",",
            "title": "Peak players",
            "type": "quantitative"
           },
           {
            "field": "viewCount",
            "format": ",",
            "title": "Views",
            "type": "quantitative"
           }
          ],
          "x": {
           "field": "peak",
           "title": "Playerbase (monthly peak, SteamDB)",
           "type": "quantitative"
          },
          "y": {
           "field": "viewCount",
           "title": "YouTube Viewership (monthly total)",
           "type": "quantitative"
          }
         },
         "mark": {
          "opacity": 0.6,
          "size": 60,
          "type": "circle"
         }
        },
        {
         "encoding": {
          "color": {
           "value": "black"
          },
          "tooltip": [
           {
            "field": "month",
            "title": "Month",
            "type": "temporal"
           },
           {
            "field": "peak",
            "format": ",",
            "title": "Peak players",
            "type": "quantitative"
           },
           {
            "field": "viewCount",
            "format": ",",
            "title": "Views",
            "type": "quantitative"
           }
          ],
          "x": {
           "field": "peak",
           "title": "Playerbase (monthly peak, SteamDB)",
           "type": "quantitative"
          },
          "y": {
           "field": "viewCount",
           "title": "YouTube Viewership (monthly total)",
           "type": "quantitative"
          }
         },
         "mark": {
          "size": 3,
          "type": "line"
         },
         "transform": [
          {
           "on": "peak",
           "regression": "viewCount"
          }
         ]
        }
       ],
       "title": "Counter-Strike: Playerbase vs. YouTube Viewership (by month)",
       "usermeta": {
        "embedOptions": {
         "theme": "fivethirtyeight"
        }
       }
      },
      "text/plain": [
       "<VegaLite 5 object>\n",
       "\n",
       "If you see this message, it means the renderer has not been properly enabled\n",
       "for the frontend that you are using. For more information, see\n",
       "https://altair-viz.github.io/user_guide/display_frontends.html#troubleshooting\n"
      ]
     },
     "execution_count": 39,
     "metadata": {},
     "output_type": "execute_result"
    }
   ],
   "source": [
    "# Ensure proper dtypes\n",
    "df1 = merged_yt_and_steamdb.copy()\n",
    "df1[\"month\"] = pd.to_datetime(df1[\"month\"])\n",
    "df1[\"year\"] = df1[\"month\"].dt.year\n",
    "\n",
    "# Base scatter\n",
    "scatter = (\n",
    "    alt.Chart(df1)\n",
    "    .mark_circle(size=60, opacity=0.6)\n",
    "    .encode(\n",
    "        x=alt.X(\"peak:Q\", title=\"Playerbase (monthly peak, SteamDB)\"),\n",
    "        y=alt.Y(\"viewCount:Q\", title=\"YouTube Viewership (monthly total)\"),\n",
    "        color=alt.Color(\"year:N\", title=\"Year\", legend=alt.Legend(columns=2)),\n",
    "        tooltip=[\n",
    "            alt.Tooltip(\"month:T\", title=\"Month\"),\n",
    "            alt.Tooltip(\"peak:Q\", title=\"Peak players\", format=\",\"),\n",
    "            alt.Tooltip(\"viewCount:Q\", title=\"Views\", format=\",\"),\n",
    "        ]\n",
    "    )\n",
    ")\n",
    "\n",
    "# Regression trendline (linear)\n",
    "trend = (\n",
    "    scatter\n",
    "    .transform_regression(\"peak\", \"viewCount\")\n",
    "    .mark_line(size=3)\n",
    "    .encode(color=alt.value(\"black\"))\n",
    ")\n",
    "\n",
    "(scatter + trend).properties(\n",
    "    title=\"Counter-Strike: Playerbase vs. YouTube Viewership (by month)\"\n",
    ")\n"
   ]
  },
  {
   "cell_type": "code",
   "execution_count": 40,
   "metadata": {},
   "outputs": [
    {
     "data": {
      "text/html": [
       "<div>\n",
       "<style scoped>\n",
       "    .dataframe tbody tr th:only-of-type {\n",
       "        vertical-align: middle;\n",
       "    }\n",
       "\n",
       "    .dataframe tbody tr th {\n",
       "        vertical-align: top;\n",
       "    }\n",
       "\n",
       "    .dataframe thead th {\n",
       "        text-align: right;\n",
       "    }\n",
       "</style>\n",
       "<table border=\"1\" class=\"dataframe\">\n",
       "  <thead>\n",
       "    <tr style=\"text-align: right;\">\n",
       "      <th></th>\n",
       "      <th>month</th>\n",
       "      <th>peak</th>\n",
       "      <th>Peak Viewers</th>\n",
       "    </tr>\n",
       "  </thead>\n",
       "  <tbody>\n",
       "    <tr>\n",
       "      <th>59</th>\n",
       "      <td>2021-10-01</td>\n",
       "      <td>888099.0</td>\n",
       "      <td>1950442.0</td>\n",
       "    </tr>\n",
       "    <tr>\n",
       "      <th>65</th>\n",
       "      <td>2022-04-01</td>\n",
       "      <td>1042536.0</td>\n",
       "      <td>1634605.0</td>\n",
       "    </tr>\n",
       "    <tr>\n",
       "      <th>87</th>\n",
       "      <td>2024-02-01</td>\n",
       "      <td>1431938.0</td>\n",
       "      <td>1553750.0</td>\n",
       "    </tr>\n",
       "    <tr>\n",
       "      <th>13</th>\n",
       "      <td>2017-12-01</td>\n",
       "      <td>638526.0</td>\n",
       "      <td>1320676.0</td>\n",
       "    </tr>\n",
       "    <tr>\n",
       "      <th>71</th>\n",
       "      <td>2022-10-01</td>\n",
       "      <td>1110627.0</td>\n",
       "      <td>1273072.0</td>\n",
       "    </tr>\n",
       "  </tbody>\n",
       "</table>\n",
       "</div>"
      ],
      "text/plain": [
       "        month       peak  Peak Viewers\n",
       "59 2021-10-01   888099.0     1950442.0\n",
       "65 2022-04-01  1042536.0     1634605.0\n",
       "87 2024-02-01  1431938.0     1553750.0\n",
       "13 2017-12-01   638526.0     1320676.0\n",
       "71 2022-10-01  1110627.0     1273072.0"
      ]
     },
     "execution_count": 40,
     "metadata": {},
     "output_type": "execute_result"
    }
   ],
   "source": [
    "merged_twitch_and_steamdb.head()"
   ]
  },
  {
   "cell_type": "code",
   "execution_count": 42,
   "id": "0d2f6622",
   "metadata": {},
   "outputs": [
    {
     "data": {
      "application/vnd.vegalite.v5+json": {
       "$schema": "https://vega.github.io/schema/vega-lite/v5.20.1.json",
       "config": {
        "view": {
         "continuousHeight": 300,
         "continuousWidth": 300
        }
       },
       "data": {
        "name": "data-69978e233de213b8a927b3e9a288d5a4"
       },
       "datasets": {
        "data-69978e233de213b8a927b3e9a288d5a4": [
         {
          "Peak Viewers": 1950442,
          "month": "2021-10-01T00:00:00",
          "peak": 888099,
          "year": 2021
         },
         {
          "Peak Viewers": 1634605,
          "month": "2022-04-01T00:00:00",
          "peak": 1042536,
          "year": 2022
         },
         {
          "Peak Viewers": 1553750,
          "month": "2024-02-01T00:00:00",
          "peak": 1431938,
          "year": 2024
         },
         {
          "Peak Viewers": 1320676,
          "month": "2017-12-01T00:00:00",
          "peak": 638526,
          "year": 2017
         },
         {
          "Peak Viewers": 1273072,
          "month": "2022-10-01T00:00:00",
          "peak": 1110627,
          "year": 2022
         },
         {
          "Peak Viewers": 1157283,
          "month": "2022-06-01T00:00:00",
          "peak": 928566,
          "year": 2022
         },
         {
          "Peak Viewers": 1154232,
          "month": "2016-12-01T00:00:00",
          "peak": 702226,
          "year": 2016
         },
         {
          "Peak Viewers": 1146827,
          "month": "2025-05-01T00:00:00",
          "peak": 1752347,
          "year": 2025
         },
         {
          "Peak Viewers": 1087551,
          "month": "2023-04-01T00:00:00",
          "peak": 1536102,
          "year": 2023
         },
         {
          "Peak Viewers": 988449,
          "month": "2022-01-01T00:00:00",
          "peak": 1019800,
          "year": 2022
         },
         {
          "Peak Viewers": 952930,
          "month": "2025-01-01T00:00:00",
          "peak": 1643797,
          "year": 2025
         },
         {
          "Peak Viewers": 951116,
          "month": "2024-11-01T00:00:00",
          "peak": 1593726,
          "year": 2024
         },
         {
          "Peak Viewers": 949075,
          "month": "2017-06-01T00:00:00",
          "peak": 644596,
          "year": 2017
         },
         {
          "Peak Viewers": 890512,
          "month": "2023-02-01T00:00:00",
          "peak": 1378327,
          "year": 2023
         },
         {
          "Peak Viewers": 870470,
          "month": "2018-08-01T00:00:00",
          "peak": 481746,
          "year": 2018
         },
         {
          "Peak Viewers": 843931,
          "month": "2020-02-01T00:00:00",
          "peak": 959235,
          "year": 2020
         },
         {
          "Peak Viewers": 836577,
          "month": "2019-02-01T00:00:00",
          "peak": 686703,
          "year": 2019
         },
         {
          "Peak Viewers": 827726,
          "month": "2025-03-01T00:00:00",
          "peak": 1864428,
          "year": 2025
         },
         {
          "Peak Viewers": 736929,
          "month": "2021-08-01T00:00:00",
          "peak": 824180,
          "year": 2021
         },
         {
          "Peak Viewers": 734295,
          "month": "2025-07-01T00:00:00",
          "peak": 1506027,
          "year": 2025
         },
         {
          "Peak Viewers": 730453,
          "month": "2021-06-01T00:00:00",
          "peak": 953085,
          "year": 2021
         },
         {
          "Peak Viewers": 722031,
          "month": "2025-04-01T00:00:00",
          "peak": 1898525,
          "year": 2025
         },
         {
          "Peak Viewers": 719996,
          "month": "2024-07-01T00:00:00",
          "peak": 1385446,
          "year": 2024
         },
         {
          "Peak Viewers": 698049,
          "month": "2024-01-01T00:00:00",
          "peak": 1334752,
          "year": 2024
         },
         {
          "Peak Viewers": 693262,
          "month": "2022-09-01T00:00:00",
          "peak": 1124191,
          "year": 2022
         },
         {
          "Peak Viewers": 689355,
          "month": "2021-09-01T00:00:00",
          "peak": 970788,
          "year": 2021
         },
         {
          "Peak Viewers": 661722,
          "month": "2019-08-01T00:00:00",
          "peak": 680892,
          "year": 2019
         },
         {
          "Peak Viewers": 631990,
          "month": "2025-02-01T00:00:00",
          "peak": 1827625,
          "year": 2025
         },
         {
          "Peak Viewers": 630445,
          "month": "2024-06-01T00:00:00",
          "peak": 1558198,
          "year": 2024
         },
         {
          "Peak Viewers": 626902,
          "month": "2024-08-01T00:00:00",
          "peak": 1461132,
          "year": 2024
         },
         {
          "Peak Viewers": 625487,
          "month": "2021-01-01T00:00:00",
          "peak": 1158553,
          "year": 2021
         },
         {
          "Peak Viewers": 617143,
          "month": "2020-01-01T00:00:00",
          "peak": 850328,
          "year": 2020
         },
         {
          "Peak Viewers": 611693,
          "month": "2021-04-01T00:00:00",
          "peak": 1182193,
          "year": 2021
         },
         {
          "Peak Viewers": 610953,
          "month": "2024-05-01T00:00:00",
          "peak": 1661558,
          "year": 2024
         },
         {
          "Peak Viewers": 602155,
          "month": "2020-12-01T00:00:00",
          "peak": 1201522,
          "year": 2020
         },
         {
          "Peak Viewers": 589121,
          "month": "2023-03-01T00:00:00",
          "peak": 1542231,
          "year": 2023
         },
         {
          "Peak Viewers": 586548,
          "month": "2023-07-01T00:00:00",
          "peak": 1245840,
          "year": 2023
         },
         {
          "Peak Viewers": 578423,
          "month": "2023-01-01T00:00:00",
          "peak": 1224207,
          "year": 2023
         },
         {
          "Peak Viewers": 577878,
          "month": "2017-09-01T00:00:00",
          "peak": 709468,
          "year": 2017
         },
         {
          "Peak Viewers": 574885,
          "month": "2020-03-01T00:00:00",
          "peak": 1269874,
          "year": 2020
         },
         {
          "Peak Viewers": 556546,
          "month": "2020-10-01T00:00:00",
          "peak": 977120,
          "year": 2020
         },
         {
          "Peak Viewers": 556026,
          "month": "2025-06-01T00:00:00",
          "peak": 1766572,
          "year": 2025
         },
         {
          "Peak Viewers": 546449,
          "month": "2023-09-01T00:00:00",
          "peak": 1580157,
          "year": 2023
         },
         {
          "Peak Viewers": 530769,
          "month": "2021-11-01T00:00:00",
          "peak": 967548,
          "year": 2021
         },
         {
          "Peak Viewers": 525938,
          "month": "2024-12-01T00:00:00",
          "peak": 1777329,
          "year": 2024
         },
         {
          "Peak Viewers": 523956,
          "month": "2019-07-01T00:00:00",
          "peak": 602806,
          "year": 2019
         },
         {
          "Peak Viewers": 521208,
          "month": "2022-05-01T00:00:00",
          "peak": 954908,
          "year": 2022
         },
         {
          "Peak Viewers": 516787,
          "month": "2019-01-01T00:00:00",
          "peak": 720255,
          "year": 2019
         },
         {
          "Peak Viewers": 512456,
          "month": "2017-02-01T00:00:00",
          "peak": 785343,
          "year": 2017
         },
         {
          "Peak Viewers": 505586,
          "month": "2023-08-01T00:00:00",
          "peak": 1557039,
          "year": 2023
         },
         {
          "Peak Viewers": 504991,
          "month": "2018-02-01T00:00:00",
          "peak": 728848,
          "year": 2018
         },
         {
          "Peak Viewers": 502764,
          "month": "2020-05-01T00:00:00",
          "peak": 1220085,
          "year": 2020
         },
         {
          "Peak Viewers": 502637,
          "month": "2020-04-01T00:00:00",
          "peak": 1354060,
          "year": 2020
         },
         {
          "Peak Viewers": 489826,
          "month": "2021-02-01T00:00:00",
          "peak": 1156160,
          "year": 2021
         },
         {
          "Peak Viewers": 489612,
          "month": "2023-05-01T00:00:00",
          "peak": 1837896,
          "year": 2023
         },
         {
          "Peak Viewers": 465673,
          "month": "2020-09-01T00:00:00",
          "peak": 1003755,
          "year": 2020
         },
         {
          "Peak Viewers": 461337,
          "month": "2017-01-01T00:00:00",
          "peak": 858017,
          "year": 2017
         },
         {
          "Peak Viewers": 456477,
          "month": "2022-08-01T00:00:00",
          "peak": 1060765,
          "year": 2022
         },
         {
          "Peak Viewers": 447255,
          "month": "2021-03-01T00:00:00",
          "peak": 1234187,
          "year": 2021
         },
         {
          "Peak Viewers": 445214,
          "month": "2025-08-01T00:00:00",
          "peak": 1581554,
          "year": 2025
         },
         {
          "Peak Viewers": 440489,
          "month": "2021-12-01T00:00:00",
          "peak": 974624,
          "year": 2021
         },
         {
          "Peak Viewers": 439125,
          "month": "2019-06-01T00:00:00",
          "peak": 614513,
          "year": 2019
         },
         {
          "Peak Viewers": 438615,
          "month": "2024-10-01T00:00:00",
          "peak": 1529352,
          "year": 2024
         },
         {
          "Peak Viewers": 433195,
          "month": "2022-03-01T00:00:00",
          "peak": 1019747,
          "year": 2022
         },
         {
          "Peak Viewers": 432847,
          "month": "2024-09-01T00:00:00",
          "peak": 1515033,
          "year": 2024
         },
         {
          "Peak Viewers": 421682,
          "month": "2023-06-01T00:00:00",
          "peak": 1692482,
          "year": 2023
         },
         {
          "Peak Viewers": 418276,
          "month": "2017-03-01T00:00:00",
          "peak": 780831,
          "year": 2017
         },
         {
          "Peak Viewers": 399637,
          "month": "2021-07-01T00:00:00",
          "peak": 788128,
          "year": 2021
         },
         {
          "Peak Viewers": 395368,
          "month": "2020-11-01T00:00:00",
          "peak": 1069121,
          "year": 2020
         },
         {
          "Peak Viewers": 394499,
          "month": "2021-05-01T00:00:00",
          "peak": 1114107,
          "year": 2021
         },
         {
          "Peak Viewers": 383963,
          "month": "2023-10-01T00:00:00",
          "peak": 1412825,
          "year": 2023
         },
         {
          "Peak Viewers": 382770,
          "month": "2019-09-01T00:00:00",
          "peak": 745425,
          "year": 2019
         },
         {
          "Peak Viewers": 374721,
          "month": "2018-01-01T00:00:00",
          "peak": 758776,
          "year": 2018
         },
         {
          "Peak Viewers": 356457,
          "month": "2022-02-01T00:00:00",
          "peak": 1026057,
          "year": 2022
         },
         {
          "Peak Viewers": 354909,
          "month": "2019-05-01T00:00:00",
          "peak": 616941,
          "year": 2019
         },
         {
          "Peak Viewers": 354673,
          "month": "2019-11-01T00:00:00",
          "peak": 789463,
          "year": 2019
         },
         {
          "Peak Viewers": 336839,
          "month": "2018-03-01T00:00:00",
          "peak": 710912,
          "year": 2018
         },
         {
          "Peak Viewers": 335027,
          "month": "2020-07-01T00:00:00",
          "peak": 887871,
          "year": 2020
         },
         {
          "Peak Viewers": 330089,
          "month": "2020-08-01T00:00:00",
          "peak": 955869,
          "year": 2020
         },
         {
          "Peak Viewers": 328157,
          "month": "2022-12-01T00:00:00",
          "peak": 1090343,
          "year": 2022
         },
         {
          "Peak Viewers": 322087,
          "month": "2022-07-01T00:00:00",
          "peak": 950395,
          "year": 2022
         },
         {
          "Peak Viewers": 317538,
          "month": "2024-04-01T00:00:00",
          "peak": 1647977,
          "year": 2024
         },
         {
          "Peak Viewers": 316041,
          "month": "2019-03-01T00:00:00",
          "peak": 711735,
          "year": 2019
         },
         {
          "Peak Viewers": 305821,
          "month": "2023-12-01T00:00:00",
          "peak": 1276429,
          "year": 2023
         },
         {
          "Peak Viewers": 303388,
          "month": "2018-05-01T00:00:00",
          "peak": 481392,
          "year": 2018
         },
         {
          "Peak Viewers": 302229,
          "month": "2019-10-01T00:00:00",
          "peak": 776751,
          "year": 2019
         },
         {
          "Peak Viewers": 302110,
          "month": "2023-11-01T00:00:00",
          "peak": 1184525,
          "year": 2023
         },
         {
          "Peak Viewers": 300573,
          "month": "2018-10-01T00:00:00",
          "peak": 594113,
          "year": 2018
         },
         {
          "Peak Viewers": 296775,
          "month": "2017-05-01T00:00:00",
          "peak": 729279,
          "year": 2017
         },
         {
          "Peak Viewers": 288573,
          "month": "2017-08-01T00:00:00",
          "peak": 626044,
          "year": 2017
         },
         {
          "Peak Viewers": 284991,
          "month": "2022-11-01T00:00:00",
          "peak": 1156226,
          "year": 2022
         },
         {
          "Peak Viewers": 281142,
          "month": "2017-10-01T00:00:00",
          "peak": 674835,
          "year": 2017
         },
         {
          "Peak Viewers": 277008,
          "month": "2024-03-01T00:00:00",
          "peak": 1555064,
          "year": 2024
         },
         {
          "Peak Viewers": 274858,
          "month": "2018-11-01T00:00:00",
          "peak": 576288,
          "year": 2018
         },
         {
          "Peak Viewers": 261130,
          "month": "2019-12-01T00:00:00",
          "peak": 798764,
          "year": 2019
         },
         {
          "Peak Viewers": 239670,
          "month": "2018-06-01T00:00:00",
          "peak": 449409,
          "year": 2018
         },
         {
          "Peak Viewers": 237149,
          "month": "2016-11-01T00:00:00",
          "peak": 664428,
          "year": 2016
         },
         {
          "Peak Viewers": 236322,
          "month": "2019-04-01T00:00:00",
          "peak": 647906,
          "year": 2019
         },
         {
          "Peak Viewers": 232638,
          "month": "2017-11-01T00:00:00",
          "peak": 638295,
          "year": 2017
         },
         {
          "Peak Viewers": 226561,
          "month": "2018-04-01T00:00:00",
          "peak": 556019,
          "year": 2018
         },
         {
          "Peak Viewers": 223168,
          "month": "2018-09-01T00:00:00",
          "peak": 612880,
          "year": 2018
         },
         {
          "Peak Viewers": 211031,
          "month": "2020-06-01T00:00:00",
          "peak": 986980,
          "year": 2020
         },
         {
          "Peak Viewers": 210176,
          "month": "2017-07-01T00:00:00",
          "peak": 670361,
          "year": 2017
         },
         {
          "Peak Viewers": 201034,
          "month": "2018-12-01T00:00:00",
          "peak": 781335,
          "year": 2018
         },
         {
          "Peak Viewers": 194939,
          "month": "2017-04-01T00:00:00",
          "peak": 728537,
          "year": 2017
         },
         {
          "Peak Viewers": 194122,
          "month": "2018-07-01T00:00:00",
          "peak": 455676,
          "year": 2018
         }
        ]
       },
       "layer": [
        {
         "encoding": {
          "color": {
           "field": "year",
           "legend": {
            "columns": 2
           },
           "title": "Year",
           "type": "nominal"
          },
          "tooltip": [
           {
            "field": "month",
            "title": "Month",
            "type": "temporal"
           },
           {
            "field": "peak",
            "format": ",",
            "title": "Peak players",
            "type": "quantitative"
           },
           {
            "field": "Peak Viewers",
            "format": ",",
            "title": "Peak Viewers",
            "type": "quantitative"
           }
          ],
          "x": {
           "field": "peak",
           "title": "Playerbase (monthly peak, SteamDB)",
           "type": "quantitative"
          },
          "y": {
           "field": "Peak Viewers",
           "title": "Twitch Peak Viewership (monthly total)",
           "type": "quantitative"
          }
         },
         "mark": {
          "opacity": 0.6,
          "size": 60,
          "type": "circle"
         }
        },
        {
         "encoding": {
          "color": {
           "value": "black"
          },
          "tooltip": [
           {
            "field": "month",
            "title": "Month",
            "type": "temporal"
           },
           {
            "field": "peak",
            "format": ",",
            "title": "Peak players",
            "type": "quantitative"
           },
           {
            "field": "Peak Viewers",
            "format": ",",
            "title": "Peak Viewers",
            "type": "quantitative"
           }
          ],
          "x": {
           "field": "peak",
           "title": "Playerbase (monthly peak, SteamDB)",
           "type": "quantitative"
          },
          "y": {
           "field": "Peak Viewers",
           "title": "Twitch Peak Viewership (monthly total)",
           "type": "quantitative"
          }
         },
         "mark": {
          "size": 3,
          "type": "line"
         },
         "transform": [
          {
           "on": "peak",
           "regression": "Peak Viewers"
          }
         ]
        }
       ],
       "title": "Counter-Strike: Playerbase vs. Twitch Peak Viewership (by month)",
       "usermeta": {
        "embedOptions": {
         "theme": "fivethirtyeight"
        }
       }
      },
      "text/plain": [
       "<VegaLite 5 object>\n",
       "\n",
       "If you see this message, it means the renderer has not been properly enabled\n",
       "for the frontend that you are using. For more information, see\n",
       "https://altair-viz.github.io/user_guide/display_frontends.html#troubleshooting\n"
      ]
     },
     "execution_count": 42,
     "metadata": {},
     "output_type": "execute_result"
    }
   ],
   "source": [
    "# Ensure proper dtypes\n",
    "df2 = merged_twitch_and_steamdb.copy()\n",
    "df2[\"month\"] = pd.to_datetime(df2[\"month\"])\n",
    "df2[\"year\"] = df2[\"month\"].dt.year\n",
    "\n",
    "# Base scatter\n",
    "scatter = (\n",
    "    alt.Chart(df2)\n",
    "    .mark_circle(size=60, opacity=0.6)\n",
    "    .encode(\n",
    "        x=alt.X(\"peak:Q\", title=\"Playerbase (monthly peak, SteamDB)\"),\n",
    "        y=alt.Y(\"Peak Viewers:Q\", title=\"Twitch Peak Viewership (monthly total)\"),\n",
    "        color=alt.Color(\"year:N\", title=\"Year\", legend=alt.Legend(columns=2)),\n",
    "        tooltip=[\n",
    "            alt.Tooltip(\"month:T\", title=\"Month\"),\n",
    "            alt.Tooltip(\"peak:Q\", title=\"Peak players\", format=\",\"),\n",
    "            alt.Tooltip(\"Peak Viewers:Q\", title=\"Peak Viewers\", format=\",\"),\n",
    "        ]\n",
    "    )\n",
    ")\n",
    "\n",
    "# Regression trendline (linear)\n",
    "trend = (\n",
    "    scatter\n",
    "    .transform_regression(\"peak\", \"Peak Viewers\")\n",
    "    .mark_line(size=3)\n",
    "    .encode(color=alt.value(\"black\"))\n",
    ")\n",
    "\n",
    "(scatter + trend).properties(\n",
    "    title=\"Counter-Strike: Playerbase vs. Twitch Peak Viewership (by month)\"\n",
    ")"
   ]
  },
  {
   "cell_type": "code",
   "execution_count": null,
   "metadata": {},
   "outputs": [],
   "source": []
  }
 ],
 "metadata": {
  "kernelspec": {
   "display_name": ".venv",
   "language": "python",
   "name": "python3"
  },
  "language_info": {
   "codemirror_mode": {
    "name": "ipython",
    "version": 3
   },
   "file_extension": ".py",
   "mimetype": "text/x-python",
   "name": "python",
   "nbconvert_exporter": "python",
   "pygments_lexer": "ipython3",
   "version": "3.12.3"
  }
 },
 "nbformat": 4,
 "nbformat_minor": 5
}
