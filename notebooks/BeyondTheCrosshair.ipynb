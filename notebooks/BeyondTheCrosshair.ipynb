{
 "cells": [
  {
   "cell_type": "markdown",
   "id": "aa97259c",
   "metadata": {},
   "source": [
    "# Beyond The Crosshair"
   ]
  },
  {
   "cell_type": "code",
   "execution_count": null,
   "metadata": {},
   "outputs": [
    {
     "data": {
      "text/plain": [
       "'\\n#342425 (Deep Charcoal Brown)\\n\\n#e38416 (Vivid Orange)\\n\\n#d4d3d3 (Light Gray)\\n\\n#050303 (Near Black)\\n\\n#e8bc84 (Warm Beige)\\n\\n#7b4f26 (Earthy Brown)\\n\\n#00000d (Black)\\n'"
      ]
     },
     "execution_count": 22,
     "metadata": {},
     "output_type": "execute_result"
    }
   ],
   "source": [
    "import pandas as pd\n",
    "import numpy as np\n",
    "import altair as alt\n",
    "import matplotlib.pyplot as plt\n",
    "import json\n",
    "from functools import reduce\n",
    "\n",
    "alt.data_transformers.enable(\"default\", max_rows=None)\n",
    "alt.renderers.enable(\"mimetype\")\n",
    "alt.theme.enable(\"fivethirtyeight\")\n",
    "\n",
    "\"\"\"\n",
    "#342425 (Deep Charcoal Brown)\n",
    "\n",
    "#e38416 (Vivid Orange)\n",
    "\n",
    "#d4d3d3 (Light Gray) \n",
    "\n",
    "#050303 (Near Black)\n",
    "\n",
    "#e8bc84 (Warm Beige)\n",
    "\n",
    "#7b4f26 (Earthy Brown)\n",
    "\n",
    "#00000d (Blue Black)\n",
    "\n",
    "#f73c07 (Bright Red)\n",
    "\"\"\""
   ]
  },
  {
   "cell_type": "markdown",
   "metadata": {},
   "source": [
    "## Clean Data Loading"
   ]
  },
  {
   "cell_type": "code",
   "execution_count": 2,
   "metadata": {},
   "outputs": [],
   "source": [
    "cs16_data = pd.read_csv(\"../assets/clean/SteamDB_Counter-Strike_1.6_Clean.csv\", parse_dates=[\"month\"])\n",
    "css_data = pd.read_csv(\"../assets/clean/SteamDB_Counter-Strike_Source_Clean.csv\", parse_dates=[\"month\"])\n",
    "cscz_data = pd.read_csv(\"../assets/clean/SteamDB_Counter-Strike_Condition_Zero_Clean.csv\", parse_dates=[\"month\"])\n",
    "csgo_data = pd.read_csv(\"../assets/clean/SteamDB_Counter-Strike_Global_Offensive_Clean.csv\", parse_dates=[\"month\"])\n",
    "cs2_data = pd.read_csv(\"../assets/clean/SteamDB_Counter-Strike_2_Clean.csv\", parse_dates=[\"month\"])\n",
    "cs_merged_data = pd.read_csv(\"../assets/clean/SteamDB_Counter-Strike_Clean.csv\", parse_dates=[\"month\"])\n",
    "\n",
    "v_data = pd.read_csv(\"../assets/clean/GG_Valorant_Clean.csv\", parse_dates=[\"month\"])\n",
    "fn_data = pd.read_csv(\"../assets/clean/GG_Fortnite_Clean.csv\", parse_dates=[\"month\"])\n",
    "rss_data = pd.read_csv(\"../assets/clean/GG_Rainbow_Six_Siege_Clean.csv\", parse_dates=[\"month\"])\n",
    "cod_data = pd.read_csv(\"../assets/clean/SteamDB_Call_of_Duty_Clean.csv\", parse_dates=[\"month\"])\n",
    "bf_data = pd.read_csv(\"../assets/clean/SteamDB_Battlefield_Clean.csv\", parse_dates=[\"month\"])\n",
    "\n",
    "igdb_data = pd.read_csv(\"../assets/clean/IGDB_Clean.csv\")\n",
    "twitch_cs_data = pd.read_csv(\"../assets/clean/Twitch_Counter-Strike_Clean.csv\", parse_dates=[\"month\"])\n",
    "youtube_cs_data = pd.read_csv(\"../assets/clean/Youtube_Counter-Strike_Clean.csv\", parse_dates=[\"month\"])"
   ]
  },
  {
   "cell_type": "code",
   "execution_count": 3,
   "metadata": {},
   "outputs": [],
   "source": [
    "merged_youtube_twitch = pd.concat([youtube_cs_data.set_index(\"month\"), twitch_cs_data.set_index(\"month\")], axis=1).reset_index()\n",
    "merged_youtube_twitch = merged_youtube_twitch[merged_youtube_twitch['month'] >= pd.to_datetime(\"2016-11-01\")]\n",
    "\n",
    "merged_cs_youtube = pd.merge(cs_merged_data[['month','peak']], youtube_cs_data[['month','viewCount']], on=\"month\", how=\"inner\")\n",
    "merged_cs_youtube = merged_cs_youtube.sort_values(by=\"viewCount\", ascending=False)\n",
    "\n",
    "merged_cs_twitch = pd.merge(cs_merged_data[['month','peak']], twitch_cs_data[['month','peak viewers']], on=\"month\", how=\"inner\")\n",
    "merged_cs_twitch = merged_cs_twitch.sort_values(by=\"peak viewers\", ascending=False)"
   ]
  },
  {
   "cell_type": "markdown",
   "metadata": {},
   "source": [
    "## Visualizations"
   ]
  },
  {
   "cell_type": "markdown",
   "id": "72e7ec23",
   "metadata": {},
   "source": [
    "### Counter-Strike Playerbase Timeseries"
   ]
  },
  {
   "cell_type": "code",
   "execution_count": 4,
   "id": "d5159f09",
   "metadata": {},
   "outputs": [
    {
     "data": {
      "application/vnd.vegalite.v5+json": {
       "$schema": "https://vega.github.io/schema/vega-lite/v5.20.1.json",
       "config": {
        "view": {
         "continuousHeight": 300,
         "continuousWidth": 300
        }
       },
       "data": {
        "name": "data-176e636b130d9e8fa30d87ba2880bfbc"
       },
       "datasets": {
        "data-176e636b130d9e8fa30d87ba2880bfbc": [
         {
          "game": "Counter-Strike (1.6)",
          "month": "2004-01-01T00:00:00",
          "peak": 23241
         },
         {
          "game": "Counter-Strike (1.6)",
          "month": "2004-02-01T00:00:00",
          "peak": 39709
         },
         {
          "game": "Counter-Strike (1.6)",
          "month": "2004-04-01T00:00:00",
          "peak": 74926
         },
         {
          "game": "Counter-Strike (1.6)",
          "month": "2004-06-01T00:00:00",
          "peak": 66876
         },
         {
          "game": "Counter-Strike (1.6)",
          "month": "2004-07-01T00:00:00",
          "peak": 69685
         },
         {
          "game": "Counter-Strike (1.6)",
          "month": "2004-08-01T00:00:00",
          "peak": 92049
         },
         {
          "game": "Counter-Strike (1.6)",
          "month": "2004-09-01T00:00:00",
          "peak": 96451
         },
         {
          "game": "Counter-Strike (1.6)",
          "month": "2004-10-01T00:00:00",
          "peak": 79947
         },
         {
          "game": "Counter-Strike (1.6)",
          "month": "2004-11-01T00:00:00",
          "peak": 77819
         },
         {
          "game": "Counter-Strike (1.6)",
          "month": "2004-12-01T00:00:00",
          "peak": 117157
         },
         {
          "game": "Counter-Strike (1.6)",
          "month": "2005-01-01T00:00:00",
          "peak": 79165
         },
         {
          "game": "Counter-Strike (1.6)",
          "month": "2005-02-01T00:00:00",
          "peak": 87036
         },
         {
          "game": "Counter-Strike (1.6)",
          "month": "2005-03-01T00:00:00",
          "peak": 103492
         },
         {
          "game": "Counter-Strike (1.6)",
          "month": "2005-04-01T00:00:00",
          "peak": 87284
         },
         {
          "game": "Counter-Strike (1.6)",
          "month": "2005-05-01T00:00:00",
          "peak": 105295
         },
         {
          "game": "Counter-Strike (1.6)",
          "month": "2005-06-01T00:00:00",
          "peak": 80012
         },
         {
          "game": "Counter-Strike (1.6)",
          "month": "2005-07-01T00:00:00",
          "peak": 110858
         },
         {
          "game": "Counter-Strike (1.6)",
          "month": "2005-08-01T00:00:00",
          "peak": 132066
         },
         {
          "game": "Counter-Strike (1.6)",
          "month": "2005-09-01T00:00:00",
          "peak": 118588
         },
         {
          "game": "Counter-Strike (1.6)",
          "month": "2005-11-01T00:00:00",
          "peak": 95543
         },
         {
          "game": "Counter-Strike (1.6)",
          "month": "2005-12-01T00:00:00",
          "peak": 126053
         },
         {
          "game": "Counter-Strike (1.6)",
          "month": "2006-08-01T00:00:00",
          "peak": 132876
         },
         {
          "game": "Counter-Strike (1.6)",
          "month": "2006-11-01T00:00:00",
          "peak": 107770
         },
         {
          "game": "Counter-Strike (1.6)",
          "month": "2006-12-01T00:00:00",
          "peak": 109100
         },
         {
          "game": "Counter-Strike (1.6)",
          "month": "2007-01-01T00:00:00",
          "peak": 134820
         },
         {
          "game": "Counter-Strike (1.6)",
          "month": "2007-02-01T00:00:00",
          "peak": 188125
         },
         {
          "game": "Counter-Strike (1.6)",
          "month": "2007-03-01T00:00:00",
          "peak": 174450
         },
         {
          "game": "Counter-Strike (1.6)",
          "month": "2007-04-01T00:00:00",
          "peak": 78735
         },
         {
          "game": "Counter-Strike (1.6)",
          "month": "2007-05-01T00:00:00",
          "peak": 184843
         },
         {
          "game": "Counter-Strike (1.6)",
          "month": "2007-06-01T00:00:00",
          "peak": 232534
         },
         {
          "game": "Counter-Strike (1.6)",
          "month": "2007-07-01T00:00:00",
          "peak": 241132
         },
         {
          "game": "Counter-Strike (1.6)",
          "month": "2007-08-01T00:00:00",
          "peak": 202644
         },
         {
          "game": "Counter-Strike (1.6)",
          "month": "2007-09-01T00:00:00",
          "peak": 283680
         },
         {
          "game": "Counter-Strike (1.6)",
          "month": "2007-10-01T00:00:00",
          "peak": 223730
         },
         {
          "game": "Counter-Strike (1.6)",
          "month": "2007-11-01T00:00:00",
          "peak": 259403
         },
         {
          "game": "Counter-Strike (1.6)",
          "month": "2007-12-01T00:00:00",
          "peak": 319586
         },
         {
          "game": "Counter-Strike (1.6)",
          "month": "2008-01-01T00:00:00",
          "peak": 225274
         },
         {
          "game": "Counter-Strike (1.6)",
          "month": "2008-09-01T00:00:00",
          "peak": 73041
         },
         {
          "game": "Counter-Strike (1.6)",
          "month": "2008-10-01T00:00:00",
          "peak": 76504
         },
         {
          "game": "Counter-Strike (1.6)",
          "month": "2008-11-01T00:00:00",
          "peak": 47245
         },
         {
          "game": "Counter-Strike (1.6)",
          "month": "2008-12-01T00:00:00",
          "peak": 54865
         },
         {
          "game": "Counter-Strike (1.6)",
          "month": "2009-01-01T00:00:00",
          "peak": 48405
         },
         {
          "game": "Counter-Strike (1.6)",
          "month": "2009-02-01T00:00:00",
          "peak": 75123
         },
         {
          "game": "Counter-Strike (1.6)",
          "month": "2009-03-01T00:00:00",
          "peak": 75463
         },
         {
          "game": "Counter-Strike (1.6)",
          "month": "2009-04-01T00:00:00",
          "peak": 49447
         },
         {
          "game": "Counter-Strike (1.6)",
          "month": "2009-05-01T00:00:00",
          "peak": 60245
         },
         {
          "game": "Counter-Strike (1.6)",
          "month": "2009-06-01T00:00:00",
          "peak": 64574
         },
         {
          "game": "Counter-Strike (1.6)",
          "month": "2009-07-01T00:00:00",
          "peak": 49131
         },
         {
          "game": "Counter-Strike (1.6)",
          "month": "2009-08-01T00:00:00",
          "peak": 62056
         },
         {
          "game": "Counter-Strike (1.6)",
          "month": "2009-09-01T00:00:00",
          "peak": 58498
         },
         {
          "game": "Counter-Strike (1.6)",
          "month": "2009-10-01T00:00:00",
          "peak": 63832
         },
         {
          "game": "Counter-Strike (1.6)",
          "month": "2009-11-01T00:00:00",
          "peak": 40578
         },
         {
          "game": "Counter-Strike (1.6)",
          "month": "2009-12-01T00:00:00",
          "peak": 69325
         },
         {
          "game": "Counter-Strike (1.6)",
          "month": "2010-01-01T00:00:00",
          "peak": 73033
         },
         {
          "game": "Counter-Strike (1.6)",
          "month": "2010-02-01T00:00:00",
          "peak": 64069
         },
         {
          "game": "Counter-Strike (1.6)",
          "month": "2010-03-01T00:00:00",
          "peak": 75903
         },
         {
          "game": "Counter-Strike (1.6)",
          "month": "2010-04-01T00:00:00",
          "peak": 73232
         },
         {
          "game": "Counter-Strike (1.6)",
          "month": "2010-05-01T00:00:00",
          "peak": 192924
         },
         {
          "game": "Counter-Strike (1.6)",
          "month": "2010-06-01T00:00:00",
          "peak": 63869
         },
         {
          "game": "Counter-Strike (1.6)",
          "month": "2010-07-01T00:00:00",
          "peak": 62730
         },
         {
          "game": "Counter-Strike (1.6)",
          "month": "2010-08-01T00:00:00",
          "peak": 67121
         },
         {
          "game": "Counter-Strike (1.6)",
          "month": "2010-09-01T00:00:00",
          "peak": 70849
         },
         {
          "game": "Counter-Strike (1.6)",
          "month": "2010-10-01T00:00:00",
          "peak": 74285
         },
         {
          "game": "Counter-Strike (1.6)",
          "month": "2010-11-01T00:00:00",
          "peak": 75800
         },
         {
          "game": "Counter-Strike (1.6)",
          "month": "2010-12-01T00:00:00",
          "peak": 76667
         },
         {
          "game": "Counter-Strike (1.6)",
          "month": "2011-01-01T00:00:00",
          "peak": 83905
         },
         {
          "game": "Counter-Strike (1.6)",
          "month": "2011-02-01T00:00:00",
          "peak": 83324
         },
         {
          "game": "Counter-Strike (1.6)",
          "month": "2011-03-01T00:00:00",
          "peak": 81839
         },
         {
          "game": "Counter-Strike (1.6)",
          "month": "2011-04-01T00:00:00",
          "peak": 74934
         },
         {
          "game": "Counter-Strike (1.6)",
          "month": "2011-05-01T00:00:00",
          "peak": 67370
         },
         {
          "game": "Counter-Strike (1.6)",
          "month": "2011-06-01T00:00:00",
          "peak": 69585
         },
         {
          "game": "Counter-Strike (1.6)",
          "month": "2011-07-01T00:00:00",
          "peak": 60630
         },
         {
          "game": "Counter-Strike (1.6)",
          "month": "2011-08-01T00:00:00",
          "peak": 62959
         },
         {
          "game": "Counter-Strike (1.6)",
          "month": "2011-09-01T00:00:00",
          "peak": 63909
         },
         {
          "game": "Counter-Strike (1.6)",
          "month": "2011-10-01T00:00:00",
          "peak": 68660
         },
         {
          "game": "Counter-Strike (1.6)",
          "month": "2011-11-01T00:00:00",
          "peak": 70244
         },
         {
          "game": "Counter-Strike (1.6)",
          "month": "2011-12-01T00:00:00",
          "peak": 72794
         },
         {
          "game": "Counter-Strike (1.6)",
          "month": "2012-01-01T00:00:00",
          "peak": 80089
         },
         {
          "game": "Counter-Strike (1.6)",
          "month": "2012-02-01T00:00:00",
          "peak": 79920
         },
         {
          "game": "Counter-Strike (1.6)",
          "month": "2012-03-01T00:00:00",
          "peak": 79911
         },
         {
          "game": "Counter-Strike (1.6)",
          "month": "2012-04-01T00:00:00",
          "peak": 72325
         },
         {
          "game": "Counter-Strike (1.6)",
          "month": "2012-05-01T00:00:00",
          "peak": 62542
         },
         {
          "game": "Counter-Strike (1.6)",
          "month": "2012-06-01T00:00:00",
          "peak": 60301
         },
         {
          "game": "Counter-Strike (1.6)",
          "month": "2012-07-01T00:00:00",
          "peak": 54614
         },
         {
          "game": "Counter-Strike (1.6)",
          "month": "2012-08-01T00:00:00",
          "peak": 55321
         },
         {
          "game": "Counter-Strike (1.6)",
          "month": "2012-09-01T00:00:00",
          "peak": 56053
         },
         {
          "game": "Counter-Strike (1.6)",
          "month": "2012-10-01T00:00:00",
          "peak": 56957
         },
         {
          "game": "Counter-Strike (1.6)",
          "month": "2012-11-01T00:00:00",
          "peak": 61189
         },
         {
          "game": "Counter-Strike (1.6)",
          "month": "2012-12-01T00:00:00",
          "peak": 65188
         },
         {
          "game": "Counter-Strike (1.6)",
          "month": "2013-01-01T00:00:00",
          "peak": 65100
         },
         {
          "game": "Counter-Strike (1.6)",
          "month": "2013-02-01T00:00:00",
          "peak": 60780
         },
         {
          "game": "Counter-Strike (1.6)",
          "month": "2013-03-01T00:00:00",
          "peak": 49482
         },
         {
          "game": "Counter-Strike (1.6)",
          "month": "2013-04-01T00:00:00",
          "peak": 44392
         },
         {
          "game": "Counter-Strike (1.6)",
          "month": "2013-05-01T00:00:00",
          "peak": 36982
         },
         {
          "game": "Counter-Strike (1.6)",
          "month": "2013-06-01T00:00:00",
          "peak": 35490
         },
         {
          "game": "Counter-Strike (1.6)",
          "month": "2013-07-01T00:00:00",
          "peak": 34230
         },
         {
          "game": "Counter-Strike (1.6)",
          "month": "2013-08-01T00:00:00",
          "peak": 36983
         },
         {
          "game": "Counter-Strike (1.6)",
          "month": "2013-09-01T00:00:00",
          "peak": 37439
         },
         {
          "game": "Counter-Strike (1.6)",
          "month": "2013-10-01T00:00:00",
          "peak": 39826
         },
         {
          "game": "Counter-Strike (1.6)",
          "month": "2013-11-01T00:00:00",
          "peak": 40743
         },
         {
          "game": "Counter-Strike (1.6)",
          "month": "2013-12-01T00:00:00",
          "peak": 44491
         },
         {
          "game": "Counter-Strike (1.6)",
          "month": "2014-01-01T00:00:00",
          "peak": 44712
         },
         {
          "game": "Counter-Strike (1.6)",
          "month": "2014-02-01T00:00:00",
          "peak": 41963
         },
         {
          "game": "Counter-Strike (1.6)",
          "month": "2014-03-01T00:00:00",
          "peak": 39619
         },
         {
          "game": "Counter-Strike (1.6)",
          "month": "2014-04-01T00:00:00",
          "peak": 35926
         },
         {
          "game": "Counter-Strike (1.6)",
          "month": "2014-05-01T00:00:00",
          "peak": 33969
         },
         {
          "game": "Counter-Strike (1.6)",
          "month": "2014-06-01T00:00:00",
          "peak": 31806
         },
         {
          "game": "Counter-Strike (1.6)",
          "month": "2014-07-01T00:00:00",
          "peak": 29564
         },
         {
          "game": "Counter-Strike (1.6)",
          "month": "2014-08-01T00:00:00",
          "peak": 30379
         },
         {
          "game": "Counter-Strike (1.6)",
          "month": "2014-09-01T00:00:00",
          "peak": 31690
         },
         {
          "game": "Counter-Strike (1.6)",
          "month": "2014-10-01T00:00:00",
          "peak": 33495
         },
         {
          "game": "Counter-Strike (1.6)",
          "month": "2014-11-01T00:00:00",
          "peak": 36393
         },
         {
          "game": "Counter-Strike (1.6)",
          "month": "2014-12-01T00:00:00",
          "peak": 37018
         },
         {
          "game": "Counter-Strike (1.6)",
          "month": "2015-01-01T00:00:00",
          "peak": 37107
         },
         {
          "game": "Counter-Strike (1.6)",
          "month": "2015-02-01T00:00:00",
          "peak": 34271
         },
         {
          "game": "Counter-Strike (1.6)",
          "month": "2015-03-01T00:00:00",
          "peak": 30333
         },
         {
          "game": "Counter-Strike (1.6)",
          "month": "2015-04-01T00:00:00",
          "peak": 28286
         },
         {
          "game": "Counter-Strike (1.6)",
          "month": "2015-05-01T00:00:00",
          "peak": 26465
         },
         {
          "game": "Counter-Strike (1.6)",
          "month": "2015-06-01T00:00:00",
          "peak": 24200
         },
         {
          "game": "Counter-Strike (1.6)",
          "month": "2015-07-01T00:00:00",
          "peak": 23623
         },
         {
          "game": "Counter-Strike (1.6)",
          "month": "2015-08-01T00:00:00",
          "peak": 22650
         },
         {
          "game": "Counter-Strike (1.6)",
          "month": "2015-09-01T00:00:00",
          "peak": 23130
         },
         {
          "game": "Counter-Strike (1.6)",
          "month": "2015-10-01T00:00:00",
          "peak": 24278
         },
         {
          "game": "Counter-Strike (1.6)",
          "month": "2015-11-01T00:00:00",
          "peak": 26133
         },
         {
          "game": "Counter-Strike (1.6)",
          "month": "2015-12-01T00:00:00",
          "peak": 27821
         },
         {
          "game": "Counter-Strike (1.6)",
          "month": "2016-01-01T00:00:00",
          "peak": 29670
         },
         {
          "game": "Counter-Strike (1.6)",
          "month": "2016-02-01T00:00:00",
          "peak": 29617
         },
         {
          "game": "Counter-Strike (1.6)",
          "month": "2016-03-01T00:00:00",
          "peak": 28136
         },
         {
          "game": "Counter-Strike (1.6)",
          "month": "2016-04-01T00:00:00",
          "peak": 24994
         },
         {
          "game": "Counter-Strike (1.6)",
          "month": "2016-05-01T00:00:00",
          "peak": 22998
         },
         {
          "game": "Counter-Strike (1.6)",
          "month": "2016-06-01T00:00:00",
          "peak": 22585
         },
         {
          "game": "Counter-Strike (1.6)",
          "month": "2016-07-01T00:00:00",
          "peak": 21136
         },
         {
          "game": "Counter-Strike (1.6)",
          "month": "2016-08-01T00:00:00",
          "peak": 21491
         },
         {
          "game": "Counter-Strike (1.6)",
          "month": "2016-09-01T00:00:00",
          "peak": 21984
         },
         {
          "game": "Counter-Strike (1.6)",
          "month": "2016-10-01T00:00:00",
          "peak": 23413
         },
         {
          "game": "Counter-Strike (1.6)",
          "month": "2016-11-01T00:00:00",
          "peak": 24792
         },
         {
          "game": "Counter-Strike (1.6)",
          "month": "2016-12-01T00:00:00",
          "peak": 26909
         },
         {
          "game": "Counter-Strike (1.6)",
          "month": "2017-01-01T00:00:00",
          "peak": 29543
         },
         {
          "game": "Counter-Strike (1.6)",
          "month": "2017-02-01T00:00:00",
          "peak": 28071
         },
         {
          "game": "Counter-Strike (1.6)",
          "month": "2017-03-01T00:00:00",
          "peak": 26504
         },
         {
          "game": "Counter-Strike (1.6)",
          "month": "2017-04-01T00:00:00",
          "peak": 22731
         },
         {
          "game": "Counter-Strike (1.6)",
          "month": "2017-05-01T00:00:00",
          "peak": 22099
         },
         {
          "game": "Counter-Strike (1.6)",
          "month": "2017-06-01T00:00:00",
          "peak": 20312
         },
         {
          "game": "Counter-Strike (1.6)",
          "month": "2017-07-01T00:00:00",
          "peak": 20372
         },
         {
          "game": "Counter-Strike (1.6)",
          "month": "2017-08-01T00:00:00",
          "peak": 18465
         },
         {
          "game": "Counter-Strike (1.6)",
          "month": "2017-09-01T00:00:00",
          "peak": 18755
         },
         {
          "game": "Counter-Strike (1.6)",
          "month": "2017-10-01T00:00:00",
          "peak": 20891
         },
         {
          "game": "Counter-Strike (1.6)",
          "month": "2017-11-01T00:00:00",
          "peak": 24917
         },
         {
          "game": "Counter-Strike (1.6)",
          "month": "2017-12-01T00:00:00",
          "peak": 25817
         },
         {
          "game": "Counter-Strike (1.6)",
          "month": "2018-01-01T00:00:00",
          "peak": 27622
         },
         {
          "game": "Counter-Strike (1.6)",
          "month": "2018-02-01T00:00:00",
          "peak": 26457
         },
         {
          "game": "Counter-Strike (1.6)",
          "month": "2018-03-01T00:00:00",
          "peak": 25896
         },
         {
          "game": "Counter-Strike (1.6)",
          "month": "2018-04-01T00:00:00",
          "peak": 22707
         },
         {
          "game": "Counter-Strike (1.6)",
          "month": "2018-05-01T00:00:00",
          "peak": 18868
         },
         {
          "game": "Counter-Strike (1.6)",
          "month": "2018-06-01T00:00:00",
          "peak": 18856
         },
         {
          "game": "Counter-Strike (1.6)",
          "month": "2018-07-01T00:00:00",
          "peak": 18327
         },
         {
          "game": "Counter-Strike (1.6)",
          "month": "2018-08-01T00:00:00",
          "peak": 17136
         },
         {
          "game": "Counter-Strike (1.6)",
          "month": "2018-09-01T00:00:00",
          "peak": 17597
         },
         {
          "game": "Counter-Strike (1.6)",
          "month": "2018-10-01T00:00:00",
          "peak": 18183
         },
         {
          "game": "Counter-Strike (1.6)",
          "month": "2018-11-01T00:00:00",
          "peak": 20646
         },
         {
          "game": "Counter-Strike (1.6)",
          "month": "2018-12-01T00:00:00",
          "peak": 21865
         },
         {
          "game": "Counter-Strike (1.6)",
          "month": "2019-01-01T00:00:00",
          "peak": 23144
         },
         {
          "game": "Counter-Strike (1.6)",
          "month": "2019-02-01T00:00:00",
          "peak": 21470
         },
         {
          "game": "Counter-Strike (1.6)",
          "month": "2019-03-01T00:00:00",
          "peak": 19348
         },
         {
          "game": "Counter-Strike (1.6)",
          "month": "2019-04-01T00:00:00",
          "peak": 17386
         },
         {
          "game": "Counter-Strike (1.6)",
          "month": "2019-05-01T00:00:00",
          "peak": 16690
         },
         {
          "game": "Counter-Strike (1.6)",
          "month": "2019-06-01T00:00:00",
          "peak": 15091
         },
         {
          "game": "Counter-Strike (1.6)",
          "month": "2019-07-01T00:00:00",
          "peak": 15371
         },
         {
          "game": "Counter-Strike (1.6)",
          "month": "2019-08-01T00:00:00",
          "peak": 14971
         },
         {
          "game": "Counter-Strike (1.6)",
          "month": "2019-09-01T00:00:00",
          "peak": 14731
         },
         {
          "game": "Counter-Strike (1.6)",
          "month": "2019-10-01T00:00:00",
          "peak": 14937
         },
         {
          "game": "Counter-Strike (1.6)",
          "month": "2019-11-01T00:00:00",
          "peak": 16895
         },
         {
          "game": "Counter-Strike (1.6)",
          "month": "2019-12-01T00:00:00",
          "peak": 18365
         },
         {
          "game": "Counter-Strike (1.6)",
          "month": "2020-01-01T00:00:00",
          "peak": 19141
         },
         {
          "game": "Counter-Strike (1.6)",
          "month": "2020-02-01T00:00:00",
          "peak": 17762
         },
         {
          "game": "Counter-Strike (1.6)",
          "month": "2020-03-01T00:00:00",
          "peak": 30626
         },
         {
          "game": "Counter-Strike (1.6)",
          "month": "2020-04-01T00:00:00",
          "peak": 31930
         },
         {
          "game": "Counter-Strike (1.6)",
          "month": "2020-05-01T00:00:00",
          "peak": 29882
         },
         {
          "game": "Counter-Strike (1.6)",
          "month": "2020-06-01T00:00:00",
          "peak": 21059
         },
         {
          "game": "Counter-Strike (1.6)",
          "month": "2020-07-01T00:00:00",
          "peak": 18212
         },
         {
          "game": "Counter-Strike (1.6)",
          "month": "2020-08-01T00:00:00",
          "peak": 16560
         },
         {
          "game": "Counter-Strike (1.6)",
          "month": "2020-09-01T00:00:00",
          "peak": 16295
         },
         {
          "game": "Counter-Strike (1.6)",
          "month": "2020-10-01T00:00:00",
          "peak": 18030
         },
         {
          "game": "Counter-Strike (1.6)",
          "month": "2020-11-01T00:00:00",
          "peak": 20916
         },
         {
          "game": "Counter-Strike (1.6)",
          "month": "2020-12-01T00:00:00",
          "peak": 22833
         },
         {
          "game": "Counter-Strike (1.6)",
          "month": "2021-01-01T00:00:00",
          "peak": 23903
         },
         {
          "game": "Counter-Strike (1.6)",
          "month": "2021-02-01T00:00:00",
          "peak": 21860
         },
         {
          "game": "Counter-Strike (1.6)",
          "month": "2021-03-01T00:00:00",
          "peak": 22393
         },
         {
          "game": "Counter-Strike (1.6)",
          "month": "2021-04-01T00:00:00",
          "peak": 21698
         },
         {
          "game": "Counter-Strike (1.6)",
          "month": "2021-05-01T00:00:00",
          "peak": 18140
         },
         {
          "game": "Counter-Strike (1.6)",
          "month": "2021-06-01T00:00:00",
          "peak": 16439
         },
         {
          "game": "Counter-Strike (1.6)",
          "month": "2021-07-01T00:00:00",
          "peak": 14998
         },
         {
          "game": "Counter-Strike (1.6)",
          "month": "2021-08-01T00:00:00",
          "peak": 14127
         },
         {
          "game": "Counter-Strike (1.6)",
          "month": "2021-09-01T00:00:00",
          "peak": 14740
         },
         {
          "game": "Counter-Strike (1.6)",
          "month": "2021-10-01T00:00:00",
          "peak": 15759
         },
         {
          "game": "Counter-Strike (1.6)",
          "month": "2021-11-01T00:00:00",
          "peak": 16406
         },
         {
          "game": "Counter-Strike (1.6)",
          "month": "2021-12-01T00:00:00",
          "peak": 16648
         },
         {
          "game": "Counter-Strike (1.6)",
          "month": "2022-01-01T00:00:00",
          "peak": 18530
         },
         {
          "game": "Counter-Strike (1.6)",
          "month": "2022-02-01T00:00:00",
          "peak": 18743
         },
         {
          "game": "Counter-Strike (1.6)",
          "month": "2022-03-01T00:00:00",
          "peak": 16957
         },
         {
          "game": "Counter-Strike (1.6)",
          "month": "2022-04-01T00:00:00",
          "peak": 16696
         },
         {
          "game": "Counter-Strike (1.6)",
          "month": "2022-05-01T00:00:00",
          "peak": 14212
         },
         {
          "game": "Counter-Strike (1.6)",
          "month": "2022-06-01T00:00:00",
          "peak": 13707
         },
         {
          "game": "Counter-Strike (1.6)",
          "month": "2022-07-01T00:00:00",
          "peak": 14028
         },
         {
          "game": "Counter-Strike (1.6)",
          "month": "2022-08-01T00:00:00",
          "peak": 13358
         },
         {
          "game": "Counter-Strike (1.6)",
          "month": "2022-09-01T00:00:00",
          "peak": 13512
         },
         {
          "game": "Counter-Strike (1.6)",
          "month": "2022-10-01T00:00:00",
          "peak": 13846
         },
         {
          "game": "Counter-Strike (1.6)",
          "month": "2022-11-01T00:00:00",
          "peak": 16122
         },
         {
          "game": "Counter-Strike (1.6)",
          "month": "2022-12-01T00:00:00",
          "peak": 16250
         },
         {
          "game": "Counter-Strike (1.6)",
          "month": "2023-01-01T00:00:00",
          "peak": 17171
         },
         {
          "game": "Counter-Strike (1.6)",
          "month": "2023-02-01T00:00:00",
          "peak": 16364
         },
         {
          "game": "Counter-Strike (1.6)",
          "month": "2023-03-01T00:00:00",
          "peak": 15835
         },
         {
          "game": "Counter-Strike (1.6)",
          "month": "2023-04-01T00:00:00",
          "peak": 15526
         },
         {
          "game": "Counter-Strike (1.6)",
          "month": "2023-05-01T00:00:00",
          "peak": 13619
         },
         {
          "game": "Counter-Strike (1.6)",
          "month": "2023-06-01T00:00:00",
          "peak": 13078
         },
         {
          "game": "Counter-Strike (1.6)",
          "month": "2023-07-01T00:00:00",
          "peak": 13367
         },
         {
          "game": "Counter-Strike (1.6)",
          "month": "2023-08-01T00:00:00",
          "peak": 12519
         },
         {
          "game": "Counter-Strike (1.6)",
          "month": "2023-09-01T00:00:00",
          "peak": 13621
         },
         {
          "game": "Counter-Strike (1.6)",
          "month": "2023-10-01T00:00:00",
          "peak": 14241
         },
         {
          "game": "Counter-Strike (1.6)",
          "month": "2023-11-01T00:00:00",
          "peak": 14498
         },
         {
          "game": "Counter-Strike (1.6)",
          "month": "2023-12-01T00:00:00",
          "peak": 14646
         },
         {
          "game": "Counter-Strike (1.6)",
          "month": "2024-01-01T00:00:00",
          "peak": 15678
         },
         {
          "game": "Counter-Strike (1.6)",
          "month": "2024-02-01T00:00:00",
          "peak": 15051
         },
         {
          "game": "Counter-Strike (1.6)",
          "month": "2024-03-01T00:00:00",
          "peak": 16326
         },
         {
          "game": "Counter-Strike (1.6)",
          "month": "2024-04-01T00:00:00",
          "peak": 14510
         },
         {
          "game": "Counter-Strike (1.6)",
          "month": "2024-05-01T00:00:00",
          "peak": 15880
         },
         {
          "game": "Counter-Strike (1.6)",
          "month": "2024-06-01T00:00:00",
          "peak": 16640
         },
         {
          "game": "Counter-Strike (1.6)",
          "month": "2024-07-01T00:00:00",
          "peak": 19364
         },
         {
          "game": "Counter-Strike (1.6)",
          "month": "2024-08-01T00:00:00",
          "peak": 15133
         },
         {
          "game": "Counter-Strike (1.6)",
          "month": "2024-09-01T00:00:00",
          "peak": 16734
         },
         {
          "game": "Counter-Strike (1.6)",
          "month": "2024-10-01T00:00:00",
          "peak": 16985
         },
         {
          "game": "Counter-Strike (1.6)",
          "month": "2024-11-01T00:00:00",
          "peak": 17964
         },
         {
          "game": "Counter-Strike (1.6)",
          "month": "2024-12-01T00:00:00",
          "peak": 19647
         },
         {
          "game": "Counter-Strike (1.6)",
          "month": "2025-01-01T00:00:00",
          "peak": 20746
         },
         {
          "game": "Counter-Strike (1.6)",
          "month": "2025-02-01T00:00:00",
          "peak": 19683
         },
         {
          "game": "Counter-Strike (1.6)",
          "month": "2025-03-01T00:00:00",
          "peak": 18635
         },
         {
          "game": "Counter-Strike (1.6)",
          "month": "2025-04-01T00:00:00",
          "peak": 18205
         },
         {
          "game": "Counter-Strike (1.6)",
          "month": "2025-05-01T00:00:00",
          "peak": 15811
         },
         {
          "game": "Counter-Strike (1.6)",
          "month": "2025-06-01T00:00:00",
          "peak": 15730
         },
         {
          "game": "Counter-Strike (1.6)",
          "month": "2025-07-01T00:00:00",
          "peak": 14626
         },
         {
          "game": "Counter-Strike (1.6)",
          "month": "2025-08-01T00:00:00",
          "peak": 12680
         },
         {
          "game": "Counter-Strike: Source",
          "month": "2004-10-01T00:00:00",
          "peak": 9448
         },
         {
          "game": "Counter-Strike: Source",
          "month": "2004-11-01T00:00:00",
          "peak": 16454
         },
         {
          "game": "Counter-Strike: Source",
          "month": "2004-12-01T00:00:00",
          "peak": 49568
         },
         {
          "game": "Counter-Strike: Source",
          "month": "2005-01-01T00:00:00",
          "peak": 28230
         },
         {
          "game": "Counter-Strike: Source",
          "month": "2005-02-01T00:00:00",
          "peak": 30302
         },
         {
          "game": "Counter-Strike: Source",
          "month": "2005-03-01T00:00:00",
          "peak": 39232
         },
         {
          "game": "Counter-Strike: Source",
          "month": "2005-04-01T00:00:00",
          "peak": 43605
         },
         {
          "game": "Counter-Strike: Source",
          "month": "2005-05-01T00:00:00",
          "peak": 30737
         },
         {
          "game": "Counter-Strike: Source",
          "month": "2005-06-01T00:00:00",
          "peak": 22734
         },
         {
          "game": "Counter-Strike: Source",
          "month": "2005-07-01T00:00:00",
          "peak": 29945
         },
         {
          "game": "Counter-Strike: Source",
          "month": "2005-08-01T00:00:00",
          "peak": 51159
         },
         {
          "game": "Counter-Strike: Source",
          "month": "2005-09-01T00:00:00",
          "peak": 47518
         },
         {
          "game": "Counter-Strike: Source",
          "month": "2005-11-01T00:00:00",
          "peak": 18141
         },
         {
          "game": "Counter-Strike: Source",
          "month": "2005-12-01T00:00:00",
          "peak": 59323
         },
         {
          "game": "Counter-Strike: Source",
          "month": "2006-08-01T00:00:00",
          "peak": 51625
         },
         {
          "game": "Counter-Strike: Source",
          "month": "2006-11-01T00:00:00",
          "peak": 14825
         },
         {
          "game": "Counter-Strike: Source",
          "month": "2006-12-01T00:00:00",
          "peak": 56936
         },
         {
          "game": "Counter-Strike: Source",
          "month": "2007-01-01T00:00:00",
          "peak": 74899
         },
         {
          "game": "Counter-Strike: Source",
          "month": "2007-02-01T00:00:00",
          "peak": 71356
         },
         {
          "game": "Counter-Strike: Source",
          "month": "2007-03-01T00:00:00",
          "peak": 30139
         },
         {
          "game": "Counter-Strike: Source",
          "month": "2007-04-01T00:00:00",
          "peak": 40644
         },
         {
          "game": "Counter-Strike: Source",
          "month": "2007-05-01T00:00:00",
          "peak": 53308
         },
         {
          "game": "Counter-Strike: Source",
          "month": "2007-06-01T00:00:00",
          "peak": 85202
         },
         {
          "game": "Counter-Strike: Source",
          "month": "2007-07-01T00:00:00",
          "peak": 73676
         },
         {
          "game": "Counter-Strike: Source",
          "month": "2007-08-01T00:00:00",
          "peak": 77221
         },
         {
          "game": "Counter-Strike: Source",
          "month": "2007-09-01T00:00:00",
          "peak": 88466
         },
         {
          "game": "Counter-Strike: Source",
          "month": "2007-10-01T00:00:00",
          "peak": 83142
         },
         {
          "game": "Counter-Strike: Source",
          "month": "2007-11-01T00:00:00",
          "peak": 28693
         },
         {
          "game": "Counter-Strike: Source",
          "month": "2007-12-01T00:00:00",
          "peak": 74891
         },
         {
          "game": "Counter-Strike: Source",
          "month": "2008-01-01T00:00:00",
          "peak": 96798
         },
         {
          "game": "Counter-Strike: Source",
          "month": "2008-09-01T00:00:00",
          "peak": 82832
         },
         {
          "game": "Counter-Strike: Source",
          "month": "2008-10-01T00:00:00",
          "peak": 87900
         },
         {
          "game": "Counter-Strike: Source",
          "month": "2008-11-01T00:00:00",
          "peak": 59199
         },
         {
          "game": "Counter-Strike: Source",
          "month": "2008-12-01T00:00:00",
          "peak": 67808
         },
         {
          "game": "Counter-Strike: Source",
          "month": "2009-01-01T00:00:00",
          "peak": 59256
         },
         {
          "game": "Counter-Strike: Source",
          "month": "2009-02-01T00:00:00",
          "peak": 100056
         },
         {
          "game": "Counter-Strike: Source",
          "month": "2009-03-01T00:00:00",
          "peak": 95245
         },
         {
          "game": "Counter-Strike: Source",
          "month": "2009-04-01T00:00:00",
          "peak": 60504
         },
         {
          "game": "Counter-Strike: Source",
          "month": "2009-05-01T00:00:00",
          "peak": 78463
         },
         {
          "game": "Counter-Strike: Source",
          "month": "2009-06-01T00:00:00",
          "peak": 86374
         },
         {
          "game": "Counter-Strike: Source",
          "month": "2009-07-01T00:00:00",
          "peak": 68078
         },
         {
          "game": "Counter-Strike: Source",
          "month": "2009-08-01T00:00:00",
          "peak": 89486
         },
         {
          "game": "Counter-Strike: Source",
          "month": "2009-09-01T00:00:00",
          "peak": 80681
         },
         {
          "game": "Counter-Strike: Source",
          "month": "2009-10-01T00:00:00",
          "peak": 85147
         },
         {
          "game": "Counter-Strike: Source",
          "month": "2009-11-01T00:00:00",
          "peak": 46884
         },
         {
          "game": "Counter-Strike: Source",
          "month": "2009-12-01T00:00:00",
          "peak": 82447
         },
         {
          "game": "Counter-Strike: Source",
          "month": "2010-01-01T00:00:00",
          "peak": 89470
         },
         {
          "game": "Counter-Strike: Source",
          "month": "2010-02-01T00:00:00",
          "peak": 76744
         },
         {
          "game": "Counter-Strike: Source",
          "month": "2010-03-01T00:00:00",
          "peak": 91679
         },
         {
          "game": "Counter-Strike: Source",
          "month": "2010-04-01T00:00:00",
          "peak": 86207
         },
         {
          "game": "Counter-Strike: Source",
          "month": "2010-05-01T00:00:00",
          "peak": 84934
         },
         {
          "game": "Counter-Strike: Source",
          "month": "2010-06-01T00:00:00",
          "peak": 80638
         },
         {
          "game": "Counter-Strike: Source",
          "month": "2010-07-01T00:00:00",
          "peak": 64655
         },
         {
          "game": "Counter-Strike: Source",
          "month": "2010-08-01T00:00:00",
          "peak": 70257
         },
         {
          "game": "Counter-Strike: Source",
          "month": "2010-09-01T00:00:00",
          "peak": 74610
         },
         {
          "game": "Counter-Strike: Source",
          "month": "2010-10-01T00:00:00",
          "peak": 74782
         },
         {
          "game": "Counter-Strike: Source",
          "month": "2010-11-01T00:00:00",
          "peak": 80274
         },
         {
          "game": "Counter-Strike: Source",
          "month": "2010-12-01T00:00:00",
          "peak": 81541
         },
         {
          "game": "Counter-Strike: Source",
          "month": "2011-01-01T00:00:00",
          "peak": 87340
         },
         {
          "game": "Counter-Strike: Source",
          "month": "2011-02-01T00:00:00",
          "peak": 82999
         },
         {
          "game": "Counter-Strike: Source",
          "month": "2011-03-01T00:00:00",
          "peak": 78707
         },
         {
          "game": "Counter-Strike: Source",
          "month": "2011-04-01T00:00:00",
          "peak": 72932
         },
         {
          "game": "Counter-Strike: Source",
          "month": "2011-05-01T00:00:00",
          "peak": 68399
         },
         {
          "game": "Counter-Strike: Source",
          "month": "2011-06-01T00:00:00",
          "peak": 67319
         },
         {
          "game": "Counter-Strike: Source",
          "month": "2011-07-01T00:00:00",
          "peak": 57615
         },
         {
          "game": "Counter-Strike: Source",
          "month": "2011-08-01T00:00:00",
          "peak": 63643
         },
         {
          "game": "Counter-Strike: Source",
          "month": "2011-09-01T00:00:00",
          "peak": 62522
         },
         {
          "game": "Counter-Strike: Source",
          "month": "2011-10-01T00:00:00",
          "peak": 62201
         },
         {
          "game": "Counter-Strike: Source",
          "month": "2011-11-01T00:00:00",
          "peak": 57692
         },
         {
          "game": "Counter-Strike: Source",
          "month": "2011-12-01T00:00:00",
          "peak": 62805
         },
         {
          "game": "Counter-Strike: Source",
          "month": "2012-01-01T00:00:00",
          "peak": 67235
         },
         {
          "game": "Counter-Strike: Source",
          "month": "2012-02-01T00:00:00",
          "peak": 65028
         },
         {
          "game": "Counter-Strike: Source",
          "month": "2012-03-01T00:00:00",
          "peak": 63998
         },
         {
          "game": "Counter-Strike: Source",
          "month": "2012-04-01T00:00:00",
          "peak": 61373
         },
         {
          "game": "Counter-Strike: Source",
          "month": "2012-05-01T00:00:00",
          "peak": 56593
         },
         {
          "game": "Counter-Strike: Source",
          "month": "2012-06-01T00:00:00",
          "peak": 53484
         },
         {
          "game": "Counter-Strike: Source",
          "month": "2012-07-01T00:00:00",
          "peak": 48850
         },
         {
          "game": "Counter-Strike: Source",
          "month": "2012-08-01T00:00:00",
          "peak": 48224
         },
         {
          "game": "Counter-Strike: Source",
          "month": "2012-09-01T00:00:00",
          "peak": 43924
         },
         {
          "game": "Counter-Strike: Source",
          "month": "2012-10-01T00:00:00",
          "peak": 45145
         },
         {
          "game": "Counter-Strike: Source",
          "month": "2012-11-01T00:00:00",
          "peak": 44160
         },
         {
          "game": "Counter-Strike: Source",
          "month": "2012-12-01T00:00:00",
          "peak": 48458
         },
         {
          "game": "Counter-Strike: Source",
          "month": "2013-01-01T00:00:00",
          "peak": 48125
         },
         {
          "game": "Counter-Strike: Source",
          "month": "2013-02-01T00:00:00",
          "peak": 44608
         },
         {
          "game": "Counter-Strike: Source",
          "month": "2013-03-01T00:00:00",
          "peak": 44034
         },
         {
          "game": "Counter-Strike: Source",
          "month": "2013-04-01T00:00:00",
          "peak": 38626
         },
         {
          "game": "Counter-Strike: Source",
          "month": "2013-05-01T00:00:00",
          "peak": 32816
         },
         {
          "game": "Counter-Strike: Source",
          "month": "2013-06-01T00:00:00",
          "peak": 31622
         },
         {
          "game": "Counter-Strike: Source",
          "month": "2013-07-01T00:00:00",
          "peak": 29840
         },
         {
          "game": "Counter-Strike: Source",
          "month": "2013-08-01T00:00:00",
          "peak": 31385
         },
         {
          "game": "Counter-Strike: Source",
          "month": "2013-09-01T00:00:00",
          "peak": 31775
         },
         {
          "game": "Counter-Strike: Source",
          "month": "2013-10-01T00:00:00",
          "peak": 32227
         },
         {
          "game": "Counter-Strike: Source",
          "month": "2013-11-01T00:00:00",
          "peak": 32541
         },
         {
          "game": "Counter-Strike: Source",
          "month": "2013-12-01T00:00:00",
          "peak": 35222
         },
         {
          "game": "Counter-Strike: Source",
          "month": "2014-01-01T00:00:00",
          "peak": 35887
         },
         {
          "game": "Counter-Strike: Source",
          "month": "2014-02-01T00:00:00",
          "peak": 30851
         },
         {
          "game": "Counter-Strike: Source",
          "month": "2014-03-01T00:00:00",
          "peak": 27789
         },
         {
          "game": "Counter-Strike: Source",
          "month": "2014-04-01T00:00:00",
          "peak": 26052
         },
         {
          "game": "Counter-Strike: Source",
          "month": "2014-05-01T00:00:00",
          "peak": 24587
         },
         {
          "game": "Counter-Strike: Source",
          "month": "2014-06-01T00:00:00",
          "peak": 23895
         },
         {
          "game": "Counter-Strike: Source",
          "month": "2014-07-01T00:00:00",
          "peak": 21221
         },
         {
          "game": "Counter-Strike: Source",
          "month": "2014-08-01T00:00:00",
          "peak": 21419
         },
         {
          "game": "Counter-Strike: Source",
          "month": "2014-09-01T00:00:00",
          "peak": 21135
         },
         {
          "game": "Counter-Strike: Source",
          "month": "2014-10-01T00:00:00",
          "peak": 21678
         },
         {
          "game": "Counter-Strike: Source",
          "month": "2014-11-01T00:00:00",
          "peak": 23493
         },
         {
          "game": "Counter-Strike: Source",
          "month": "2014-12-01T00:00:00",
          "peak": 24519
         },
         {
          "game": "Counter-Strike: Source",
          "month": "2015-01-01T00:00:00",
          "peak": 24617
         },
         {
          "game": "Counter-Strike: Source",
          "month": "2015-02-01T00:00:00",
          "peak": 21737
         },
         {
          "game": "Counter-Strike: Source",
          "month": "2015-03-01T00:00:00",
          "peak": 17772
         },
         {
          "game": "Counter-Strike: Source",
          "month": "2015-04-01T00:00:00",
          "peak": 16183
         },
         {
          "game": "Counter-Strike: Source",
          "month": "2015-05-01T00:00:00",
          "peak": 16204
         },
         {
          "game": "Counter-Strike: Source",
          "month": "2015-06-01T00:00:00",
          "peak": 14896
         },
         {
          "game": "Counter-Strike: Source",
          "month": "2015-07-01T00:00:00",
          "peak": 13870
         },
         {
          "game": "Counter-Strike: Source",
          "month": "2015-08-01T00:00:00",
          "peak": 13594
         },
         {
          "game": "Counter-Strike: Source",
          "month": "2015-09-01T00:00:00",
          "peak": 13553
         },
         {
          "game": "Counter-Strike: Source",
          "month": "2015-10-01T00:00:00",
          "peak": 13960
         },
         {
          "game": "Counter-Strike: Source",
          "month": "2015-11-01T00:00:00",
          "peak": 14300
         },
         {
          "game": "Counter-Strike: Source",
          "month": "2015-12-01T00:00:00",
          "peak": 14860
         },
         {
          "game": "Counter-Strike: Source",
          "month": "2016-01-01T00:00:00",
          "peak": 16142
         },
         {
          "game": "Counter-Strike: Source",
          "month": "2016-02-01T00:00:00",
          "peak": 15627
         },
         {
          "game": "Counter-Strike: Source",
          "month": "2016-03-01T00:00:00",
          "peak": 14846
         },
         {
          "game": "Counter-Strike: Source",
          "month": "2016-04-01T00:00:00",
          "peak": 12774
         },
         {
          "game": "Counter-Strike: Source",
          "month": "2016-05-01T00:00:00",
          "peak": 11212
         },
         {
          "game": "Counter-Strike: Source",
          "month": "2016-06-01T00:00:00",
          "peak": 10865
         },
         {
          "game": "Counter-Strike: Source",
          "month": "2016-07-01T00:00:00",
          "peak": 10131
         },
         {
          "game": "Counter-Strike: Source",
          "month": "2016-08-01T00:00:00",
          "peak": 9828
         },
         {
          "game": "Counter-Strike: Source",
          "month": "2016-09-01T00:00:00",
          "peak": 10083
         },
         {
          "game": "Counter-Strike: Source",
          "month": "2016-10-01T00:00:00",
          "peak": 10503
         },
         {
          "game": "Counter-Strike: Source",
          "month": "2016-11-01T00:00:00",
          "peak": 11211
         },
         {
          "game": "Counter-Strike: Source",
          "month": "2016-12-01T00:00:00",
          "peak": 11500
         },
         {
          "game": "Counter-Strike: Source",
          "month": "2017-01-01T00:00:00",
          "peak": 12471
         },
         {
          "game": "Counter-Strike: Source",
          "month": "2017-02-01T00:00:00",
          "peak": 11557
         },
         {
          "game": "Counter-Strike: Source",
          "month": "2017-03-01T00:00:00",
          "peak": 10702
         },
         {
          "game": "Counter-Strike: Source",
          "month": "2017-04-01T00:00:00",
          "peak": 9493
         },
         {
          "game": "Counter-Strike: Source",
          "month": "2017-05-01T00:00:00",
          "peak": 8932
         },
         {
          "game": "Counter-Strike: Source",
          "month": "2017-06-01T00:00:00",
          "peak": 8598
         },
         {
          "game": "Counter-Strike: Source",
          "month": "2017-07-01T00:00:00",
          "peak": 8622
         },
         {
          "game": "Counter-Strike: Source",
          "month": "2017-08-01T00:00:00",
          "peak": 7911
         },
         {
          "game": "Counter-Strike: Source",
          "month": "2017-09-01T00:00:00",
          "peak": 8288
         },
         {
          "game": "Counter-Strike: Source",
          "month": "2017-10-01T00:00:00",
          "peak": 8818
         },
         {
          "game": "Counter-Strike: Source",
          "month": "2017-11-01T00:00:00",
          "peak": 9163
         },
         {
          "game": "Counter-Strike: Source",
          "month": "2017-12-01T00:00:00",
          "peak": 9918
         },
         {
          "game": "Counter-Strike: Source",
          "month": "2018-01-01T00:00:00",
          "peak": 10462
         },
         {
          "game": "Counter-Strike: Source",
          "month": "2018-02-01T00:00:00",
          "peak": 9825
         },
         {
          "game": "Counter-Strike: Source",
          "month": "2018-03-01T00:00:00",
          "peak": 9367
         },
         {
          "game": "Counter-Strike: Source",
          "month": "2018-04-01T00:00:00",
          "peak": 8486
         },
         {
          "game": "Counter-Strike: Source",
          "month": "2018-05-01T00:00:00",
          "peak": 7154
         },
         {
          "game": "Counter-Strike: Source",
          "month": "2018-06-01T00:00:00",
          "peak": 7181
         },
         {
          "game": "Counter-Strike: Source",
          "month": "2018-07-01T00:00:00",
          "peak": 6714
         },
         {
          "game": "Counter-Strike: Source",
          "month": "2018-08-01T00:00:00",
          "peak": 6845
         },
         {
          "game": "Counter-Strike: Source",
          "month": "2018-09-01T00:00:00",
          "peak": 6804
         },
         {
          "game": "Counter-Strike: Source",
          "month": "2018-10-01T00:00:00",
          "peak": 7154
         },
         {
          "game": "Counter-Strike: Source",
          "month": "2018-11-01T00:00:00",
          "peak": 8381
         },
         {
          "game": "Counter-Strike: Source",
          "month": "2018-12-01T00:00:00",
          "peak": 8771
         },
         {
          "game": "Counter-Strike: Source",
          "month": "2019-01-01T00:00:00",
          "peak": 8799
         },
         {
          "game": "Counter-Strike: Source",
          "month": "2019-02-01T00:00:00",
          "peak": 8167
         },
         {
          "game": "Counter-Strike: Source",
          "month": "2019-03-01T00:00:00",
          "peak": 7530
         },
         {
          "game": "Counter-Strike: Source",
          "month": "2019-04-01T00:00:00",
          "peak": 6823
         },
         {
          "game": "Counter-Strike: Source",
          "month": "2019-05-01T00:00:00",
          "peak": 6592
         },
         {
          "game": "Counter-Strike: Source",
          "month": "2019-06-01T00:00:00",
          "peak": 6790
         },
         {
          "game": "Counter-Strike: Source",
          "month": "2019-07-01T00:00:00",
          "peak": 6972
         },
         {
          "game": "Counter-Strike: Source",
          "month": "2019-08-01T00:00:00",
          "peak": 6045
         },
         {
          "game": "Counter-Strike: Source",
          "month": "2019-09-01T00:00:00",
          "peak": 6298
         },
         {
          "game": "Counter-Strike: Source",
          "month": "2019-10-01T00:00:00",
          "peak": 6196
         },
         {
          "game": "Counter-Strike: Source",
          "month": "2019-11-01T00:00:00",
          "peak": 7384
         },
         {
          "game": "Counter-Strike: Source",
          "month": "2019-12-01T00:00:00",
          "peak": 7940
         },
         {
          "game": "Counter-Strike: Source",
          "month": "2020-01-01T00:00:00",
          "peak": 7906
         },
         {
          "game": "Counter-Strike: Source",
          "month": "2020-02-01T00:00:00",
          "peak": 6996
         },
         {
          "game": "Counter-Strike: Source",
          "month": "2020-03-01T00:00:00",
          "peak": 10948
         },
         {
          "game": "Counter-Strike: Source",
          "month": "2020-04-01T00:00:00",
          "peak": 11636
         },
         {
          "game": "Counter-Strike: Source",
          "month": "2020-05-01T00:00:00",
          "peak": 9734
         },
         {
          "game": "Counter-Strike: Source",
          "month": "2020-06-01T00:00:00",
          "peak": 7356
         },
         {
          "game": "Counter-Strike: Source",
          "month": "2020-07-01T00:00:00",
          "peak": 6790
         },
         {
          "game": "Counter-Strike: Source",
          "month": "2020-08-01T00:00:00",
          "peak": 6286
         },
         {
          "game": "Counter-Strike: Source",
          "month": "2020-09-01T00:00:00",
          "peak": 5887
         },
         {
          "game": "Counter-Strike: Source",
          "month": "2020-10-01T00:00:00",
          "peak": 6616
         },
         {
          "game": "Counter-Strike: Source",
          "month": "2020-11-01T00:00:00",
          "peak": 7310
         },
         {
          "game": "Counter-Strike: Source",
          "month": "2020-12-01T00:00:00",
          "peak": 8120
         },
         {
          "game": "Counter-Strike: Source",
          "month": "2021-01-01T00:00:00",
          "peak": 8292
         },
         {
          "game": "Counter-Strike: Source",
          "month": "2021-02-01T00:00:00",
          "peak": 7610
         },
         {
          "game": "Counter-Strike: Source",
          "month": "2021-03-01T00:00:00",
          "peak": 8995
         },
         {
          "game": "Counter-Strike: Source",
          "month": "2021-04-01T00:00:00",
          "peak": 8737
         },
         {
          "game": "Counter-Strike: Source",
          "month": "2021-05-01T00:00:00",
          "peak": 7047
         },
         {
          "game": "Counter-Strike: Source",
          "month": "2021-06-01T00:00:00",
          "peak": 6023
         },
         {
          "game": "Counter-Strike: Source",
          "month": "2021-07-01T00:00:00",
          "peak": 5971
         },
         {
          "game": "Counter-Strike: Source",
          "month": "2021-08-01T00:00:00",
          "peak": 5337
         },
         {
          "game": "Counter-Strike: Source",
          "month": "2021-09-01T00:00:00",
          "peak": 5649
         },
         {
          "game": "Counter-Strike: Source",
          "month": "2021-10-01T00:00:00",
          "peak": 5723
         },
         {
          "game": "Counter-Strike: Source",
          "month": "2021-11-01T00:00:00",
          "peak": 6172
         },
         {
          "game": "Counter-Strike: Source",
          "month": "2021-12-01T00:00:00",
          "peak": 6704
         },
         {
          "game": "Counter-Strike: Source",
          "month": "2022-01-01T00:00:00",
          "peak": 8118
         },
         {
          "game": "Counter-Strike: Source",
          "month": "2022-02-01T00:00:00",
          "peak": 8907
         },
         {
          "game": "Counter-Strike: Source",
          "month": "2022-03-01T00:00:00",
          "peak": 8369
         },
         {
          "game": "Counter-Strike: Source",
          "month": "2022-04-01T00:00:00",
          "peak": 8494
         },
         {
          "game": "Counter-Strike: Source",
          "month": "2022-05-01T00:00:00",
          "peak": 7491
         },
         {
          "game": "Counter-Strike: Source",
          "month": "2022-06-01T00:00:00",
          "peak": 7349
         },
         {
          "game": "Counter-Strike: Source",
          "month": "2022-07-01T00:00:00",
          "peak": 7513
         },
         {
          "game": "Counter-Strike: Source",
          "month": "2022-08-01T00:00:00",
          "peak": 7027
         },
         {
          "game": "Counter-Strike: Source",
          "month": "2022-09-01T00:00:00",
          "peak": 6961
         },
         {
          "game": "Counter-Strike: Source",
          "month": "2022-10-01T00:00:00",
          "peak": 5396
         },
         {
          "game": "Counter-Strike: Source",
          "month": "2022-11-01T00:00:00",
          "peak": 6417
         },
         {
          "game": "Counter-Strike: Source",
          "month": "2022-12-01T00:00:00",
          "peak": 6048
         },
         {
          "game": "Counter-Strike: Source",
          "month": "2023-01-01T00:00:00",
          "peak": 6240
         },
         {
          "game": "Counter-Strike: Source",
          "month": "2023-02-01T00:00:00",
          "peak": 5531
         },
         {
          "game": "Counter-Strike: Source",
          "month": "2023-03-01T00:00:00",
          "peak": 6231
         },
         {
          "game": "Counter-Strike: Source",
          "month": "2023-04-01T00:00:00",
          "peak": 5498
         },
         {
          "game": "Counter-Strike: Source",
          "month": "2023-05-01T00:00:00",
          "peak": 4948
         },
         {
          "game": "Counter-Strike: Source",
          "month": "2023-06-01T00:00:00",
          "peak": 5039
         },
         {
          "game": "Counter-Strike: Source",
          "month": "2023-07-01T00:00:00",
          "peak": 5325
         },
         {
          "game": "Counter-Strike: Source",
          "month": "2023-08-01T00:00:00",
          "peak": 4495
         },
         {
          "game": "Counter-Strike: Source",
          "month": "2023-09-01T00:00:00",
          "peak": 5471
         },
         {
          "game": "Counter-Strike: Source",
          "month": "2023-10-01T00:00:00",
          "peak": 5495
         },
         {
          "game": "Counter-Strike: Source",
          "month": "2023-11-01T00:00:00",
          "peak": 6061
         },
         {
          "game": "Counter-Strike: Source",
          "month": "2023-12-01T00:00:00",
          "peak": 5973
         },
         {
          "game": "Counter-Strike: Source",
          "month": "2024-01-01T00:00:00",
          "peak": 6035
         },
         {
          "game": "Counter-Strike: Source",
          "month": "2024-02-01T00:00:00",
          "peak": 13071
         },
         {
          "game": "Counter-Strike: Source",
          "month": "2024-03-01T00:00:00",
          "peak": 13063
         },
         {
          "game": "Counter-Strike: Source",
          "month": "2024-04-01T00:00:00",
          "peak": 14242
         },
         {
          "game": "Counter-Strike: Source",
          "month": "2024-05-01T00:00:00",
          "peak": 13557
         },
         {
          "game": "Counter-Strike: Source",
          "month": "2024-06-01T00:00:00",
          "peak": 15078
         },
         {
          "game": "Counter-Strike: Source",
          "month": "2024-07-01T00:00:00",
          "peak": 17981
         },
         {
          "game": "Counter-Strike: Source",
          "month": "2024-08-01T00:00:00",
          "peak": 18986
         },
         {
          "game": "Counter-Strike: Source",
          "month": "2024-09-01T00:00:00",
          "peak": 15218
         },
         {
          "game": "Counter-Strike: Source",
          "month": "2024-10-01T00:00:00",
          "peak": 13115
         },
         {
          "game": "Counter-Strike: Source",
          "month": "2024-11-01T00:00:00",
          "peak": 12919
         },
         {
          "game": "Counter-Strike: Source",
          "month": "2024-12-01T00:00:00",
          "peak": 16674
         },
         {
          "game": "Counter-Strike: Source",
          "month": "2025-01-01T00:00:00",
          "peak": 17737
         },
         {
          "game": "Counter-Strike: Source",
          "month": "2025-02-01T00:00:00",
          "peak": 17926
         },
         {
          "game": "Counter-Strike: Source",
          "month": "2025-03-01T00:00:00",
          "peak": 20160
         },
         {
          "game": "Counter-Strike: Source",
          "month": "2025-04-01T00:00:00",
          "peak": 17173
         },
         {
          "game": "Counter-Strike: Source",
          "month": "2025-05-01T00:00:00",
          "peak": 13655
         },
         {
          "game": "Counter-Strike: Source",
          "month": "2025-06-01T00:00:00",
          "peak": 18204
         },
         {
          "game": "Counter-Strike: Source",
          "month": "2025-07-01T00:00:00",
          "peak": 56987
         },
         {
          "game": "Counter-Strike: Source",
          "month": "2025-08-01T00:00:00",
          "peak": 62898
         },
         {
          "game": "Counter-Strike: Condition Zero",
          "month": "2004-04-01T00:00:00",
          "peak": 9256
         },
         {
          "game": "Counter-Strike: Condition Zero",
          "month": "2004-06-01T00:00:00",
          "peak": 14032
         },
         {
          "game": "Counter-Strike: Condition Zero",
          "month": "2004-07-01T00:00:00",
          "peak": 15119
         },
         {
          "game": "Counter-Strike: Condition Zero",
          "month": "2004-08-01T00:00:00",
          "peak": 14280
         },
         {
          "game": "Counter-Strike: Condition Zero",
          "month": "2004-09-01T00:00:00",
          "peak": 15762
         },
         {
          "game": "Counter-Strike: Condition Zero",
          "month": "2004-10-01T00:00:00",
          "peak": 15076
         },
         {
          "game": "Counter-Strike: Condition Zero",
          "month": "2004-11-01T00:00:00",
          "peak": 15216
         },
         {
          "game": "Counter-Strike: Condition Zero",
          "month": "2004-12-01T00:00:00",
          "peak": 18107
         },
         {
          "game": "Counter-Strike: Condition Zero",
          "month": "2005-01-01T00:00:00",
          "peak": 15692
         },
         {
          "game": "Counter-Strike: Condition Zero",
          "month": "2005-02-01T00:00:00",
          "peak": 16502
         },
         {
          "game": "Counter-Strike: Condition Zero",
          "month": "2005-03-01T00:00:00",
          "peak": 17489
         },
         {
          "game": "Counter-Strike: Condition Zero",
          "month": "2005-04-01T00:00:00",
          "peak": 13288
         },
         {
          "game": "Counter-Strike: Condition Zero",
          "month": "2005-05-01T00:00:00",
          "peak": 19239
         },
         {
          "game": "Counter-Strike: Condition Zero",
          "month": "2005-06-01T00:00:00",
          "peak": 12053
         },
         {
          "game": "Counter-Strike: Condition Zero",
          "month": "2005-07-01T00:00:00",
          "peak": 18654
         },
         {
          "game": "Counter-Strike: Condition Zero",
          "month": "2005-08-01T00:00:00",
          "peak": 22438
         },
         {
          "game": "Counter-Strike: Condition Zero",
          "month": "2005-09-01T00:00:00",
          "peak": 19041
         },
         {
          "game": "Counter-Strike: Condition Zero",
          "month": "2005-11-01T00:00:00",
          "peak": 14824
         },
         {
          "game": "Counter-Strike: Condition Zero",
          "month": "2005-12-01T00:00:00",
          "peak": 21242
         },
         {
          "game": "Counter-Strike: Condition Zero",
          "month": "2006-08-01T00:00:00",
          "peak": 21153
         },
         {
          "game": "Counter-Strike: Condition Zero",
          "month": "2006-11-01T00:00:00",
          "peak": 15203
         },
         {
          "game": "Counter-Strike: Condition Zero",
          "month": "2006-12-01T00:00:00",
          "peak": 17896
         },
         {
          "game": "Counter-Strike: Condition Zero",
          "month": "2007-01-01T00:00:00",
          "peak": 21851
         },
         {
          "game": "Counter-Strike: Condition Zero",
          "month": "2007-02-01T00:00:00",
          "peak": 23807
         },
         {
          "game": "Counter-Strike: Condition Zero",
          "month": "2007-03-01T00:00:00",
          "peak": 19939
         },
         {
          "game": "Counter-Strike: Condition Zero",
          "month": "2007-04-01T00:00:00",
          "peak": 11923
         },
         {
          "game": "Counter-Strike: Condition Zero",
          "month": "2007-05-01T00:00:00",
          "peak": 24988
         },
         {
          "game": "Counter-Strike: Condition Zero",
          "month": "2007-06-01T00:00:00",
          "peak": 27256
         },
         {
          "game": "Counter-Strike: Condition Zero",
          "month": "2007-07-01T00:00:00",
          "peak": 28546
         },
         {
          "game": "Counter-Strike: Condition Zero",
          "month": "2007-08-01T00:00:00",
          "peak": 27545
         },
         {
          "game": "Counter-Strike: Condition Zero",
          "month": "2007-09-01T00:00:00",
          "peak": 32748
         },
         {
          "game": "Counter-Strike: Condition Zero",
          "month": "2007-10-01T00:00:00",
          "peak": 28221
         },
         {
          "game": "Counter-Strike: Condition Zero",
          "month": "2007-11-01T00:00:00",
          "peak": 21806
         },
         {
          "game": "Counter-Strike: Condition Zero",
          "month": "2007-12-01T00:00:00",
          "peak": 32279
         },
         {
          "game": "Counter-Strike: Condition Zero",
          "month": "2008-01-01T00:00:00",
          "peak": 28140
         },
         {
          "game": "Counter-Strike: Condition Zero",
          "month": "2008-09-01T00:00:00",
          "peak": 11694
         },
         {
          "game": "Counter-Strike: Condition Zero",
          "month": "2008-10-01T00:00:00",
          "peak": 12860
         },
         {
          "game": "Counter-Strike: Condition Zero",
          "month": "2008-11-01T00:00:00",
          "peak": 7328
         },
         {
          "game": "Counter-Strike: Condition Zero",
          "month": "2008-12-01T00:00:00",
          "peak": 7570
         },
         {
          "game": "Counter-Strike: Condition Zero",
          "month": "2009-01-01T00:00:00",
          "peak": 5893
         },
         {
          "game": "Counter-Strike: Condition Zero",
          "month": "2009-02-01T00:00:00",
          "peak": 9384
         },
         {
          "game": "Counter-Strike: Condition Zero",
          "month": "2009-03-01T00:00:00",
          "peak": 9018
         },
         {
          "game": "Counter-Strike: Condition Zero",
          "month": "2009-04-01T00:00:00",
          "peak": 5413
         },
         {
          "game": "Counter-Strike: Condition Zero",
          "month": "2009-05-01T00:00:00",
          "peak": 7336
         },
         {
          "game": "Counter-Strike: Condition Zero",
          "month": "2009-06-01T00:00:00",
          "peak": 7932
         },
         {
          "game": "Counter-Strike: Condition Zero",
          "month": "2009-07-01T00:00:00",
          "peak": 7964
         },
         {
          "game": "Counter-Strike: Condition Zero",
          "month": "2009-08-01T00:00:00",
          "peak": 9266
         },
         {
          "game": "Counter-Strike: Condition Zero",
          "month": "2009-09-01T00:00:00",
          "peak": 8634
         },
         {
          "game": "Counter-Strike: Condition Zero",
          "month": "2009-10-01T00:00:00",
          "peak": 9128
         },
         {
          "game": "Counter-Strike: Condition Zero",
          "month": "2009-11-01T00:00:00",
          "peak": 4990
         },
         {
          "game": "Counter-Strike: Condition Zero",
          "month": "2009-12-01T00:00:00",
          "peak": 8983
         },
         {
          "game": "Counter-Strike: Condition Zero",
          "month": "2010-01-01T00:00:00",
          "peak": 8927
         },
         {
          "game": "Counter-Strike: Condition Zero",
          "month": "2010-02-01T00:00:00",
          "peak": 8003
         },
         {
          "game": "Counter-Strike: Condition Zero",
          "month": "2010-03-01T00:00:00",
          "peak": 9060
         },
         {
          "game": "Counter-Strike: Condition Zero",
          "month": "2010-04-01T00:00:00",
          "peak": 8484
         },
         {
          "game": "Counter-Strike: Condition Zero",
          "month": "2010-05-01T00:00:00",
          "peak": 7677
         },
         {
          "game": "Counter-Strike: Condition Zero",
          "month": "2010-06-01T00:00:00",
          "peak": 7424
         },
         {
          "game": "Counter-Strike: Condition Zero",
          "month": "2010-07-01T00:00:00",
          "peak": 6910
         },
         {
          "game": "Counter-Strike: Condition Zero",
          "month": "2010-08-01T00:00:00",
          "peak": 7081
         },
         {
          "game": "Counter-Strike: Condition Zero",
          "month": "2010-09-01T00:00:00",
          "peak": 7428
         },
         {
          "game": "Counter-Strike: Condition Zero",
          "month": "2010-10-01T00:00:00",
          "peak": 7379
         },
         {
          "game": "Counter-Strike: Condition Zero",
          "month": "2010-11-01T00:00:00",
          "peak": 7539
         },
         {
          "game": "Counter-Strike: Condition Zero",
          "month": "2010-12-01T00:00:00",
          "peak": 7505
         },
         {
          "game": "Counter-Strike: Condition Zero",
          "month": "2011-01-01T00:00:00",
          "peak": 7354
         },
         {
          "game": "Counter-Strike: Condition Zero",
          "month": "2011-02-01T00:00:00",
          "peak": 7171
         },
         {
          "game": "Counter-Strike: Condition Zero",
          "month": "2011-03-01T00:00:00",
          "peak": 6715
         },
         {
          "game": "Counter-Strike: Condition Zero",
          "month": "2011-04-01T00:00:00",
          "peak": 6133
         },
         {
          "game": "Counter-Strike: Condition Zero",
          "month": "2011-05-01T00:00:00",
          "peak": 6128
         },
         {
          "game": "Counter-Strike: Condition Zero",
          "month": "2011-06-01T00:00:00",
          "peak": 5542
         },
         {
          "game": "Counter-Strike: Condition Zero",
          "month": "2011-07-01T00:00:00",
          "peak": 5180
         },
         {
          "game": "Counter-Strike: Condition Zero",
          "month": "2011-08-01T00:00:00",
          "peak": 5051
         },
         {
          "game": "Counter-Strike: Condition Zero",
          "month": "2011-09-01T00:00:00",
          "peak": 5083
         },
         {
          "game": "Counter-Strike: Condition Zero",
          "month": "2011-10-01T00:00:00",
          "peak": 4979
         },
         {
          "game": "Counter-Strike: Condition Zero",
          "month": "2011-11-01T00:00:00",
          "peak": 5031
         },
         {
          "game": "Counter-Strike: Condition Zero",
          "month": "2011-12-01T00:00:00",
          "peak": 4915
         },
         {
          "game": "Counter-Strike: Condition Zero",
          "month": "2012-01-01T00:00:00",
          "peak": 4929
         },
         {
          "game": "Counter-Strike: Condition Zero",
          "month": "2012-02-01T00:00:00",
          "peak": 4878
         },
         {
          "game": "Counter-Strike: Condition Zero",
          "month": "2012-03-01T00:00:00",
          "peak": 4530
         },
         {
          "game": "Counter-Strike: Condition Zero",
          "month": "2012-04-01T00:00:00",
          "peak": 4394
         },
         {
          "game": "Counter-Strike: Condition Zero",
          "month": "2012-05-01T00:00:00",
          "peak": 4180
         },
         {
          "game": "Counter-Strike: Condition Zero",
          "month": "2012-06-01T00:00:00",
          "peak": 3879
         },
         {
          "game": "Counter-Strike: Condition Zero",
          "month": "2012-07-01T00:00:00",
          "peak": 3530
         },
         {
          "game": "Counter-Strike: Condition Zero",
          "month": "2012-08-01T00:00:00",
          "peak": 3229
         },
         {
          "game": "Counter-Strike: Condition Zero",
          "month": "2012-09-01T00:00:00",
          "peak": 3184
         },
         {
          "game": "Counter-Strike: Condition Zero",
          "month": "2012-10-01T00:00:00",
          "peak": 3183
         },
         {
          "game": "Counter-Strike: Condition Zero",
          "month": "2012-11-01T00:00:00",
          "peak": 3356
         },
         {
          "game": "Counter-Strike: Condition Zero",
          "month": "2012-12-01T00:00:00",
          "peak": 3357
         },
         {
          "game": "Counter-Strike: Condition Zero",
          "month": "2013-01-01T00:00:00",
          "peak": 3378
         },
         {
          "game": "Counter-Strike: Condition Zero",
          "month": "2013-02-01T00:00:00",
          "peak": 3282
         },
         {
          "game": "Counter-Strike: Condition Zero",
          "month": "2013-03-01T00:00:00",
          "peak": 2888
         },
         {
          "game": "Counter-Strike: Condition Zero",
          "month": "2013-04-01T00:00:00",
          "peak": 2134
         },
         {
          "game": "Counter-Strike: Condition Zero",
          "month": "2013-05-01T00:00:00",
          "peak": 2020
         },
         {
          "game": "Counter-Strike: Condition Zero",
          "month": "2013-06-01T00:00:00",
          "peak": 1957
         },
         {
          "game": "Counter-Strike: Condition Zero",
          "month": "2013-07-01T00:00:00",
          "peak": 1857
         },
         {
          "game": "Counter-Strike: Condition Zero",
          "month": "2013-08-01T00:00:00",
          "peak": 1925
         },
         {
          "game": "Counter-Strike: Condition Zero",
          "month": "2013-09-01T00:00:00",
          "peak": 1995
         },
         {
          "game": "Counter-Strike: Condition Zero",
          "month": "2013-10-01T00:00:00",
          "peak": 2042
         },
         {
          "game": "Counter-Strike: Condition Zero",
          "month": "2013-11-01T00:00:00",
          "peak": 2090
         },
         {
          "game": "Counter-Strike: Condition Zero",
          "month": "2013-12-01T00:00:00",
          "peak": 2074
         },
         {
          "game": "Counter-Strike: Condition Zero",
          "month": "2014-01-01T00:00:00",
          "peak": 2157
         },
         {
          "game": "Counter-Strike: Condition Zero",
          "month": "2014-02-01T00:00:00",
          "peak": 1866
         },
         {
          "game": "Counter-Strike: Condition Zero",
          "month": "2014-03-01T00:00:00",
          "peak": 1764
         },
         {
          "game": "Counter-Strike: Condition Zero",
          "month": "2014-04-01T00:00:00",
          "peak": 1720
         },
         {
          "game": "Counter-Strike: Condition Zero",
          "month": "2014-05-01T00:00:00",
          "peak": 1662
         },
         {
          "game": "Counter-Strike: Condition Zero",
          "month": "2014-06-01T00:00:00",
          "peak": 1565
         },
         {
          "game": "Counter-Strike: Condition Zero",
          "month": "2014-07-01T00:00:00",
          "peak": 1489
         },
         {
          "game": "Counter-Strike: Condition Zero",
          "month": "2014-08-01T00:00:00",
          "peak": 1455
         },
         {
          "game": "Counter-Strike: Condition Zero",
          "month": "2014-09-01T00:00:00",
          "peak": 1525
         },
         {
          "game": "Counter-Strike: Condition Zero",
          "month": "2014-10-01T00:00:00",
          "peak": 1538
         },
         {
          "game": "Counter-Strike: Condition Zero",
          "month": "2014-11-01T00:00:00",
          "peak": 1711
         },
         {
          "game": "Counter-Strike: Condition Zero",
          "month": "2014-12-01T00:00:00",
          "peak": 1767
         },
         {
          "game": "Counter-Strike: Condition Zero",
          "month": "2015-01-01T00:00:00",
          "peak": 1638
         },
         {
          "game": "Counter-Strike: Condition Zero",
          "month": "2015-02-01T00:00:00",
          "peak": 1493
         },
         {
          "game": "Counter-Strike: Condition Zero",
          "month": "2015-03-01T00:00:00",
          "peak": 1448
         },
         {
          "game": "Counter-Strike: Condition Zero",
          "month": "2015-04-01T00:00:00",
          "peak": 1342
         },
         {
          "game": "Counter-Strike: Condition Zero",
          "month": "2015-05-01T00:00:00",
          "peak": 1312
         },
         {
          "game": "Counter-Strike: Condition Zero",
          "month": "2015-06-01T00:00:00",
          "peak": 1282
         },
         {
          "game": "Counter-Strike: Condition Zero",
          "month": "2015-07-01T00:00:00",
          "peak": 1204
         },
         {
          "game": "Counter-Strike: Condition Zero",
          "month": "2015-08-01T00:00:00",
          "peak": 1174
         },
         {
          "game": "Counter-Strike: Condition Zero",
          "month": "2015-09-01T00:00:00",
          "peak": 1207
         },
         {
          "game": "Counter-Strike: Condition Zero",
          "month": "2015-10-01T00:00:00",
          "peak": 1203
         },
         {
          "game": "Counter-Strike: Condition Zero",
          "month": "2015-11-01T00:00:00",
          "peak": 1316
         },
         {
          "game": "Counter-Strike: Condition Zero",
          "month": "2015-12-01T00:00:00",
          "peak": 1394
         },
         {
          "game": "Counter-Strike: Condition Zero",
          "month": "2016-01-01T00:00:00",
          "peak": 1500
         },
         {
          "game": "Counter-Strike: Condition Zero",
          "month": "2016-02-01T00:00:00",
          "peak": 1560
         },
         {
          "game": "Counter-Strike: Condition Zero",
          "month": "2016-03-01T00:00:00",
          "peak": 1383
         },
         {
          "game": "Counter-Strike: Condition Zero",
          "month": "2016-04-01T00:00:00",
          "peak": 1206
         },
         {
          "game": "Counter-Strike: Condition Zero",
          "month": "2016-05-01T00:00:00",
          "peak": 1186
         },
         {
          "game": "Counter-Strike: Condition Zero",
          "month": "2016-06-01T00:00:00",
          "peak": 1196
         },
         {
          "game": "Counter-Strike: Condition Zero",
          "month": "2016-07-01T00:00:00",
          "peak": 1070
         },
         {
          "game": "Counter-Strike: Condition Zero",
          "month": "2016-08-01T00:00:00",
          "peak": 988
         },
         {
          "game": "Counter-Strike: Condition Zero",
          "month": "2016-09-01T00:00:00",
          "peak": 1051
         },
         {
          "game": "Counter-Strike: Condition Zero",
          "month": "2016-10-01T00:00:00",
          "peak": 1124
         },
         {
          "game": "Counter-Strike: Condition Zero",
          "month": "2016-11-01T00:00:00",
          "peak": 1301
         },
         {
          "game": "Counter-Strike: Condition Zero",
          "month": "2016-12-01T00:00:00",
          "peak": 1357
         },
         {
          "game": "Counter-Strike: Condition Zero",
          "month": "2017-01-01T00:00:00",
          "peak": 1387
         },
         {
          "game": "Counter-Strike: Condition Zero",
          "month": "2017-02-01T00:00:00",
          "peak": 1247
         },
         {
          "game": "Counter-Strike: Condition Zero",
          "month": "2017-03-01T00:00:00",
          "peak": 1269
         },
         {
          "game": "Counter-Strike: Condition Zero",
          "month": "2017-04-01T00:00:00",
          "peak": 1078
         },
         {
          "game": "Counter-Strike: Condition Zero",
          "month": "2017-05-01T00:00:00",
          "peak": 1059
         },
         {
          "game": "Counter-Strike: Condition Zero",
          "month": "2017-06-01T00:00:00",
          "peak": 1065
         },
         {
          "game": "Counter-Strike: Condition Zero",
          "month": "2017-07-01T00:00:00",
          "peak": 1090
         },
         {
          "game": "Counter-Strike: Condition Zero",
          "month": "2017-08-01T00:00:00",
          "peak": 1012
         },
         {
          "game": "Counter-Strike: Condition Zero",
          "month": "2017-09-01T00:00:00",
          "peak": 1012
         },
         {
          "game": "Counter-Strike: Condition Zero",
          "month": "2017-10-01T00:00:00",
          "peak": 1044
         },
         {
          "game": "Counter-Strike: Condition Zero",
          "month": "2017-11-01T00:00:00",
          "peak": 1418
         },
         {
          "game": "Counter-Strike: Condition Zero",
          "month": "2017-12-01T00:00:00",
          "peak": 1440
         },
         {
          "game": "Counter-Strike: Condition Zero",
          "month": "2018-01-01T00:00:00",
          "peak": 1394
         },
         {
          "game": "Counter-Strike: Condition Zero",
          "month": "2018-02-01T00:00:00",
          "peak": 1370
         },
         {
          "game": "Counter-Strike: Condition Zero",
          "month": "2018-03-01T00:00:00",
          "peak": 1187
         },
         {
          "game": "Counter-Strike: Condition Zero",
          "month": "2018-04-01T00:00:00",
          "peak": 999
         },
         {
          "game": "Counter-Strike: Condition Zero",
          "month": "2018-05-01T00:00:00",
          "peak": 934
         },
         {
          "game": "Counter-Strike: Condition Zero",
          "month": "2018-06-01T00:00:00",
          "peak": 1062
         },
         {
          "game": "Counter-Strike: Condition Zero",
          "month": "2018-07-01T00:00:00",
          "peak": 985
         },
         {
          "game": "Counter-Strike: Condition Zero",
          "month": "2018-08-01T00:00:00",
          "peak": 858
         },
         {
          "game": "Counter-Strike: Condition Zero",
          "month": "2018-09-01T00:00:00",
          "peak": 840
         },
         {
          "game": "Counter-Strike: Condition Zero",
          "month": "2018-10-01T00:00:00",
          "peak": 860
         },
         {
          "game": "Counter-Strike: Condition Zero",
          "month": "2018-11-01T00:00:00",
          "peak": 1069
         },
         {
          "game": "Counter-Strike: Condition Zero",
          "month": "2018-12-01T00:00:00",
          "peak": 1061
         },
         {
          "game": "Counter-Strike: Condition Zero",
          "month": "2019-01-01T00:00:00",
          "peak": 1013
         },
         {
          "game": "Counter-Strike: Condition Zero",
          "month": "2019-02-01T00:00:00",
          "peak": 969
         },
         {
          "game": "Counter-Strike: Condition Zero",
          "month": "2019-03-01T00:00:00",
          "peak": 905
         },
         {
          "game": "Counter-Strike: Condition Zero",
          "month": "2019-04-01T00:00:00",
          "peak": 845
         },
         {
          "game": "Counter-Strike: Condition Zero",
          "month": "2019-05-01T00:00:00",
          "peak": 811
         },
         {
          "game": "Counter-Strike: Condition Zero",
          "month": "2019-06-01T00:00:00",
          "peak": 793
         },
         {
          "game": "Counter-Strike: Condition Zero",
          "month": "2019-07-01T00:00:00",
          "peak": 767
         },
         {
          "game": "Counter-Strike: Condition Zero",
          "month": "2019-08-01T00:00:00",
          "peak": 681
         },
         {
          "game": "Counter-Strike: Condition Zero",
          "month": "2019-09-01T00:00:00",
          "peak": 696
         },
         {
          "game": "Counter-Strike: Condition Zero",
          "month": "2019-10-01T00:00:00",
          "peak": 709
         },
         {
          "game": "Counter-Strike: Condition Zero",
          "month": "2019-11-01T00:00:00",
          "peak": 746
         },
         {
          "game": "Counter-Strike: Condition Zero",
          "month": "2019-12-01T00:00:00",
          "peak": 819
         },
         {
          "game": "Counter-Strike: Condition Zero",
          "month": "2020-01-01T00:00:00",
          "peak": 791
         },
         {
          "game": "Counter-Strike: Condition Zero",
          "month": "2020-02-01T00:00:00",
          "peak": 729
         },
         {
          "game": "Counter-Strike: Condition Zero",
          "month": "2020-03-01T00:00:00",
          "peak": 1576
         },
         {
          "game": "Counter-Strike: Condition Zero",
          "month": "2020-04-01T00:00:00",
          "peak": 1531
         },
         {
          "game": "Counter-Strike: Condition Zero",
          "month": "2020-05-01T00:00:00",
          "peak": 1358
         },
         {
          "game": "Counter-Strike: Condition Zero",
          "month": "2020-06-01T00:00:00",
          "peak": 929
         },
         {
          "game": "Counter-Strike: Condition Zero",
          "month": "2020-07-01T00:00:00",
          "peak": 921
         },
         {
          "game": "Counter-Strike: Condition Zero",
          "month": "2020-08-01T00:00:00",
          "peak": 740
         },
         {
          "game": "Counter-Strike: Condition Zero",
          "month": "2020-09-01T00:00:00",
          "peak": 694
         },
         {
          "game": "Counter-Strike: Condition Zero",
          "month": "2020-10-01T00:00:00",
          "peak": 726
         },
         {
          "game": "Counter-Strike: Condition Zero",
          "month": "2020-11-01T00:00:00",
          "peak": 844
         },
         {
          "game": "Counter-Strike: Condition Zero",
          "month": "2020-12-01T00:00:00",
          "peak": 908
         },
         {
          "game": "Counter-Strike: Condition Zero",
          "month": "2021-01-01T00:00:00",
          "peak": 947
         },
         {
          "game": "Counter-Strike: Condition Zero",
          "month": "2021-02-01T00:00:00",
          "peak": 852
         },
         {
          "game": "Counter-Strike: Condition Zero",
          "month": "2021-03-01T00:00:00",
          "peak": 806
         },
         {
          "game": "Counter-Strike: Condition Zero",
          "month": "2021-04-01T00:00:00",
          "peak": 776
         },
         {
          "game": "Counter-Strike: Condition Zero",
          "month": "2021-05-01T00:00:00",
          "peak": 752
         },
         {
          "game": "Counter-Strike: Condition Zero",
          "month": "2021-06-01T00:00:00",
          "peak": 683
         },
         {
          "game": "Counter-Strike: Condition Zero",
          "month": "2021-07-01T00:00:00",
          "peak": 649
         },
         {
          "game": "Counter-Strike: Condition Zero",
          "month": "2021-08-01T00:00:00",
          "peak": 583
         },
         {
          "game": "Counter-Strike: Condition Zero",
          "month": "2021-09-01T00:00:00",
          "peak": 582
         },
         {
          "game": "Counter-Strike: Condition Zero",
          "month": "2021-10-01T00:00:00",
          "peak": 587
         },
         {
          "game": "Counter-Strike: Condition Zero",
          "month": "2021-11-01T00:00:00",
          "peak": 640
         },
         {
          "game": "Counter-Strike: Condition Zero",
          "month": "2021-12-01T00:00:00",
          "peak": 686
         },
         {
          "game": "Counter-Strike: Condition Zero",
          "month": "2022-01-01T00:00:00",
          "peak": 697
         },
         {
          "game": "Counter-Strike: Condition Zero",
          "month": "2022-02-01T00:00:00",
          "peak": 677
         },
         {
          "game": "Counter-Strike: Condition Zero",
          "month": "2022-03-01T00:00:00",
          "peak": 613
         },
         {
          "game": "Counter-Strike: Condition Zero",
          "month": "2022-04-01T00:00:00",
          "peak": 584
         },
         {
          "game": "Counter-Strike: Condition Zero",
          "month": "2022-05-01T00:00:00",
          "peak": 524
         },
         {
          "game": "Counter-Strike: Condition Zero",
          "month": "2022-06-01T00:00:00",
          "peak": 542
         },
         {
          "game": "Counter-Strike: Condition Zero",
          "month": "2022-07-01T00:00:00",
          "peak": 525
         },
         {
          "game": "Counter-Strike: Condition Zero",
          "month": "2022-08-01T00:00:00",
          "peak": 491
         },
         {
          "game": "Counter-Strike: Condition Zero",
          "month": "2022-09-01T00:00:00",
          "peak": 495
         },
         {
          "game": "Counter-Strike: Condition Zero",
          "month": "2022-10-01T00:00:00",
          "peak": 527
         },
         {
          "game": "Counter-Strike: Condition Zero",
          "month": "2022-11-01T00:00:00",
          "peak": 735
         },
         {
          "game": "Counter-Strike: Condition Zero",
          "month": "2022-12-01T00:00:00",
          "peak": 718
         },
         {
          "game": "Counter-Strike: Condition Zero",
          "month": "2023-01-01T00:00:00",
          "peak": 719
         },
         {
          "game": "Counter-Strike: Condition Zero",
          "month": "2023-02-01T00:00:00",
          "peak": 635
         },
         {
          "game": "Counter-Strike: Condition Zero",
          "month": "2023-03-01T00:00:00",
          "peak": 708
         },
         {
          "game": "Counter-Strike: Condition Zero",
          "month": "2023-04-01T00:00:00",
          "peak": 668
         },
         {
          "game": "Counter-Strike: Condition Zero",
          "month": "2023-05-01T00:00:00",
          "peak": 556
         },
         {
          "game": "Counter-Strike: Condition Zero",
          "month": "2023-06-01T00:00:00",
          "peak": 648
         },
         {
          "game": "Counter-Strike: Condition Zero",
          "month": "2023-07-01T00:00:00",
          "peak": 621
         },
         {
          "game": "Counter-Strike: Condition Zero",
          "month": "2023-08-01T00:00:00",
          "peak": 521
         },
         {
          "game": "Counter-Strike: Condition Zero",
          "month": "2023-09-01T00:00:00",
          "peak": 630
         },
         {
          "game": "Counter-Strike: Condition Zero",
          "month": "2023-10-01T00:00:00",
          "peak": 601
         },
         {
          "game": "Counter-Strike: Condition Zero",
          "month": "2023-11-01T00:00:00",
          "peak": 578
         },
         {
          "game": "Counter-Strike: Condition Zero",
          "month": "2023-12-01T00:00:00",
          "peak": 638
         },
         {
          "game": "Counter-Strike: Condition Zero",
          "month": "2024-01-01T00:00:00",
          "peak": 617
         },
         {
          "game": "Counter-Strike: Condition Zero",
          "month": "2024-02-01T00:00:00",
          "peak": 566
         },
         {
          "game": "Counter-Strike: Condition Zero",
          "month": "2024-03-01T00:00:00",
          "peak": 606
         },
         {
          "game": "Counter-Strike: Condition Zero",
          "month": "2024-04-01T00:00:00",
          "peak": 540
         },
         {
          "game": "Counter-Strike: Condition Zero",
          "month": "2024-05-01T00:00:00",
          "peak": 505
         },
         {
          "game": "Counter-Strike: Condition Zero",
          "month": "2024-06-01T00:00:00",
          "peak": 584
         },
         {
          "game": "Counter-Strike: Condition Zero",
          "month": "2024-07-01T00:00:00",
          "peak": 599
         },
         {
          "game": "Counter-Strike: Condition Zero",
          "month": "2024-08-01T00:00:00",
          "peak": 535
         },
         {
          "game": "Counter-Strike: Condition Zero",
          "month": "2024-09-01T00:00:00",
          "peak": 552
         },
         {
          "game": "Counter-Strike: Condition Zero",
          "month": "2024-10-01T00:00:00",
          "peak": 591
         },
         {
          "game": "Counter-Strike: Condition Zero",
          "month": "2024-11-01T00:00:00",
          "peak": 637
         },
         {
          "game": "Counter-Strike: Condition Zero",
          "month": "2024-12-01T00:00:00",
          "peak": 747
         },
         {
          "game": "Counter-Strike: Condition Zero",
          "month": "2025-01-01T00:00:00",
          "peak": 673
         },
         {
          "game": "Counter-Strike: Condition Zero",
          "month": "2025-02-01T00:00:00",
          "peak": 642
         },
         {
          "game": "Counter-Strike: Condition Zero",
          "month": "2025-03-01T00:00:00",
          "peak": 644
         },
         {
          "game": "Counter-Strike: Condition Zero",
          "month": "2025-04-01T00:00:00",
          "peak": 616
         },
         {
          "game": "Counter-Strike: Condition Zero",
          "month": "2025-05-01T00:00:00",
          "peak": 580
         },
         {
          "game": "Counter-Strike: Condition Zero",
          "month": "2025-06-01T00:00:00",
          "peak": 559
         },
         {
          "game": "Counter-Strike: Condition Zero",
          "month": "2025-07-01T00:00:00",
          "peak": 588
         },
         {
          "game": "Counter-Strike: Condition Zero",
          "month": "2025-08-01T00:00:00",
          "peak": 557
         },
         {
          "game": "Counter-Strike: Global Offensive",
          "month": "2011-11-01T00:00:00",
          "peak": 680
         },
         {
          "game": "Counter-Strike: Global Offensive",
          "month": "2012-02-01T00:00:00",
          "peak": 204
         },
         {
          "game": "Counter-Strike: Global Offensive",
          "month": "2012-03-01T00:00:00",
          "peak": 1263
         },
         {
          "game": "Counter-Strike: Global Offensive",
          "month": "2012-04-01T00:00:00",
          "peak": 1899
         },
         {
          "game": "Counter-Strike: Global Offensive",
          "month": "2012-05-01T00:00:00",
          "peak": 2919
         },
         {
          "game": "Counter-Strike: Global Offensive",
          "month": "2012-06-01T00:00:00",
          "peak": 2732
         },
         {
          "game": "Counter-Strike: Global Offensive",
          "month": "2012-07-01T00:00:00",
          "peak": 52261
         },
         {
          "game": "Counter-Strike: Global Offensive",
          "month": "2012-08-01T00:00:00",
          "peak": 52596
         },
         {
          "game": "Counter-Strike: Global Offensive",
          "month": "2012-09-01T00:00:00",
          "peak": 36870
         },
         {
          "game": "Counter-Strike: Global Offensive",
          "month": "2012-10-01T00:00:00",
          "peak": 50533
         },
         {
          "game": "Counter-Strike: Global Offensive",
          "month": "2012-11-01T00:00:00",
          "peak": 50533
         },
         {
          "game": "Counter-Strike: Global Offensive",
          "month": "2012-12-01T00:00:00",
          "peak": 31359
         },
         {
          "game": "Counter-Strike: Global Offensive",
          "month": "2013-01-01T00:00:00",
          "peak": 35238
         },
         {
          "game": "Counter-Strike: Global Offensive",
          "month": "2013-02-01T00:00:00",
          "peak": 35597
         },
         {
          "game": "Counter-Strike: Global Offensive",
          "month": "2013-03-01T00:00:00",
          "peak": 32414
         },
         {
          "game": "Counter-Strike: Global Offensive",
          "month": "2013-04-01T00:00:00",
          "peak": 53379
         },
         {
          "game": "Counter-Strike: Global Offensive",
          "month": "2013-05-01T00:00:00",
          "peak": 53381
         },
         {
          "game": "Counter-Strike: Global Offensive",
          "month": "2013-06-01T00:00:00",
          "peak": 42149
         },
         {
          "game": "Counter-Strike: Global Offensive",
          "month": "2013-07-01T00:00:00",
          "peak": 50511
         },
         {
          "game": "Counter-Strike: Global Offensive",
          "month": "2013-08-01T00:00:00",
          "peak": 52052
         },
         {
          "game": "Counter-Strike: Global Offensive",
          "month": "2013-09-01T00:00:00",
          "peak": 53263
         },
         {
          "game": "Counter-Strike: Global Offensive",
          "month": "2013-10-01T00:00:00",
          "peak": 92279
         },
         {
          "game": "Counter-Strike: Global Offensive",
          "month": "2013-11-01T00:00:00",
          "peak": 96298
         },
         {
          "game": "Counter-Strike: Global Offensive",
          "month": "2013-12-01T00:00:00",
          "peak": 102084
         },
         {
          "game": "Counter-Strike: Global Offensive",
          "month": "2014-01-01T00:00:00",
          "peak": 119764
         },
         {
          "game": "Counter-Strike: Global Offensive",
          "month": "2014-02-01T00:00:00",
          "peak": 164495
         },
         {
          "game": "Counter-Strike: Global Offensive",
          "month": "2014-03-01T00:00:00",
          "peak": 164781
         },
         {
          "game": "Counter-Strike: Global Offensive",
          "month": "2014-04-01T00:00:00",
          "peak": 170137
         },
         {
          "game": "Counter-Strike: Global Offensive",
          "month": "2014-05-01T00:00:00",
          "peak": 173629
         },
         {
          "game": "Counter-Strike: Global Offensive",
          "month": "2014-06-01T00:00:00",
          "peak": 194016
         },
         {
          "game": "Counter-Strike: Global Offensive",
          "month": "2014-07-01T00:00:00",
          "peak": 277192
         },
         {
          "game": "Counter-Strike: Global Offensive",
          "month": "2014-08-01T00:00:00",
          "peak": 275014
         },
         {
          "game": "Counter-Strike: Global Offensive",
          "month": "2014-09-01T00:00:00",
          "peak": 260613
         },
         {
          "game": "Counter-Strike: Global Offensive",
          "month": "2014-10-01T00:00:00",
          "peak": 348018
         },
         {
          "game": "Counter-Strike: Global Offensive",
          "month": "2014-11-01T00:00:00",
          "peak": 367634
         },
         {
          "game": "Counter-Strike: Global Offensive",
          "month": "2014-12-01T00:00:00",
          "peak": 443188
         },
         {
          "game": "Counter-Strike: Global Offensive",
          "month": "2015-01-01T00:00:00",
          "peak": 455508
         },
         {
          "game": "Counter-Strike: Global Offensive",
          "month": "2015-02-01T00:00:00",
          "peak": 595439
         },
         {
          "game": "Counter-Strike: Global Offensive",
          "month": "2015-03-01T00:00:00",
          "peak": 568556
         },
         {
          "game": "Counter-Strike: Global Offensive",
          "month": "2015-04-01T00:00:00",
          "peak": 569848
         },
         {
          "game": "Counter-Strike: Global Offensive",
          "month": "2015-05-01T00:00:00",
          "peak": 681170
         },
         {
          "game": "Counter-Strike: Global Offensive",
          "month": "2015-06-01T00:00:00",
          "peak": 611284
         },
         {
          "game": "Counter-Strike: Global Offensive",
          "month": "2015-07-01T00:00:00",
          "peak": 546142
         },
         {
          "game": "Counter-Strike: Global Offensive",
          "month": "2015-08-01T00:00:00",
          "peak": 819902
         },
         {
          "game": "Counter-Strike: Global Offensive",
          "month": "2015-09-01T00:00:00",
          "peak": 725939
         },
         {
          "game": "Counter-Strike: Global Offensive",
          "month": "2015-10-01T00:00:00",
          "peak": 786707
         },
         {
          "game": "Counter-Strike: Global Offensive",
          "month": "2015-11-01T00:00:00",
          "peak": 691930
         },
         {
          "game": "Counter-Strike: Global Offensive",
          "month": "2015-12-01T00:00:00",
          "peak": 823694
         },
         {
          "game": "Counter-Strike: Global Offensive",
          "month": "2016-01-01T00:00:00",
          "peak": 667432
         },
         {
          "game": "Counter-Strike: Global Offensive",
          "month": "2016-02-01T00:00:00",
          "peak": 738969
         },
         {
          "game": "Counter-Strike: Global Offensive",
          "month": "2016-03-01T00:00:00",
          "peak": 800869
         },
         {
          "game": "Counter-Strike: Global Offensive",
          "month": "2016-04-01T00:00:00",
          "peak": 850485
         },
         {
          "game": "Counter-Strike: Global Offensive",
          "month": "2016-05-01T00:00:00",
          "peak": 638088
         },
         {
          "game": "Counter-Strike: Global Offensive",
          "month": "2016-06-01T00:00:00",
          "peak": 579110
         },
         {
          "game": "Counter-Strike: Global Offensive",
          "month": "2016-07-01T00:00:00",
          "peak": 636056
         },
         {
          "game": "Counter-Strike: Global Offensive",
          "month": "2016-08-01T00:00:00",
          "peak": 599095
         },
         {
          "game": "Counter-Strike: Global Offensive",
          "month": "2016-09-01T00:00:00",
          "peak": 638360
         },
         {
          "game": "Counter-Strike: Global Offensive",
          "month": "2016-10-01T00:00:00",
          "peak": 661985
         },
         {
          "game": "Counter-Strike: Global Offensive",
          "month": "2016-11-01T00:00:00",
          "peak": 627124
         },
         {
          "game": "Counter-Strike: Global Offensive",
          "month": "2016-12-01T00:00:00",
          "peak": 662460
         },
         {
          "game": "Counter-Strike: Global Offensive",
          "month": "2017-01-01T00:00:00",
          "peak": 814616
         },
         {
          "game": "Counter-Strike: Global Offensive",
          "month": "2017-02-01T00:00:00",
          "peak": 744468
         },
         {
          "game": "Counter-Strike: Global Offensive",
          "month": "2017-03-01T00:00:00",
          "peak": 742356
         },
         {
          "game": "Counter-Strike: Global Offensive",
          "month": "2017-04-01T00:00:00",
          "peak": 695235
         },
         {
          "game": "Counter-Strike: Global Offensive",
          "month": "2017-05-01T00:00:00",
          "peak": 697189
         },
         {
          "game": "Counter-Strike: Global Offensive",
          "month": "2017-06-01T00:00:00",
          "peak": 614621
         },
         {
          "game": "Counter-Strike: Global Offensive",
          "month": "2017-07-01T00:00:00",
          "peak": 640277
         },
         {
          "game": "Counter-Strike: Global Offensive",
          "month": "2017-08-01T00:00:00",
          "peak": 598656
         },
         {
          "game": "Counter-Strike: Global Offensive",
          "month": "2017-09-01T00:00:00",
          "peak": 681413
         },
         {
          "game": "Counter-Strike: Global Offensive",
          "month": "2017-10-01T00:00:00",
          "peak": 644082
         },
         {
          "game": "Counter-Strike: Global Offensive",
          "month": "2017-11-01T00:00:00",
          "peak": 602797
         },
         {
          "game": "Counter-Strike: Global Offensive",
          "month": "2017-12-01T00:00:00",
          "peak": 601351
         },
         {
          "game": "Counter-Strike: Global Offensive",
          "month": "2018-01-01T00:00:00",
          "peak": 719298
         },
         {
          "game": "Counter-Strike: Global Offensive",
          "month": "2018-02-01T00:00:00",
          "peak": 691196
         },
         {
          "game": "Counter-Strike: Global Offensive",
          "month": "2018-03-01T00:00:00",
          "peak": 674462
         },
         {
          "game": "Counter-Strike: Global Offensive",
          "month": "2018-04-01T00:00:00",
          "peak": 523827
         },
         {
          "game": "Counter-Strike: Global Offensive",
          "month": "2018-05-01T00:00:00",
          "peak": 454436
         },
         {
          "game": "Counter-Strike: Global Offensive",
          "month": "2018-06-01T00:00:00",
          "peak": 422310
         },
         {
          "game": "Counter-Strike: Global Offensive",
          "month": "2018-07-01T00:00:00",
          "peak": 429650
         },
         {
          "game": "Counter-Strike: Global Offensive",
          "month": "2018-08-01T00:00:00",
          "peak": 456907
         },
         {
          "game": "Counter-Strike: Global Offensive",
          "month": "2018-09-01T00:00:00",
          "peak": 587639
         },
         {
          "game": "Counter-Strike: Global Offensive",
          "month": "2018-10-01T00:00:00",
          "peak": 567916
         },
         {
          "game": "Counter-Strike: Global Offensive",
          "month": "2018-11-01T00:00:00",
          "peak": 546192
         },
         {
          "game": "Counter-Strike: Global Offensive",
          "month": "2018-12-01T00:00:00",
          "peak": 749638
         },
         {
          "game": "Counter-Strike: Global Offensive",
          "month": "2019-01-01T00:00:00",
          "peak": 687299
         },
         {
          "game": "Counter-Strike: Global Offensive",
          "month": "2019-02-01T00:00:00",
          "peak": 656097
         },
         {
          "game": "Counter-Strike: Global Offensive",
          "month": "2019-03-01T00:00:00",
          "peak": 683952
         },
         {
          "game": "Counter-Strike: Global Offensive",
          "month": "2019-04-01T00:00:00",
          "peak": 622852
         },
         {
          "game": "Counter-Strike: Global Offensive",
          "month": "2019-05-01T00:00:00",
          "peak": 592848
         },
         {
          "game": "Counter-Strike: Global Offensive",
          "month": "2019-06-01T00:00:00",
          "peak": 591839
         },
         {
          "game": "Counter-Strike: Global Offensive",
          "month": "2019-07-01T00:00:00",
          "peak": 579696
         },
         {
          "game": "Counter-Strike: Global Offensive",
          "month": "2019-08-01T00:00:00",
          "peak": 659195
         },
         {
          "game": "Counter-Strike: Global Offensive",
          "month": "2019-09-01T00:00:00",
          "peak": 723700
         },
         {
          "game": "Counter-Strike: Global Offensive",
          "month": "2019-10-01T00:00:00",
          "peak": 754909
         },
         {
          "game": "Counter-Strike: Global Offensive",
          "month": "2019-11-01T00:00:00",
          "peak": 764438
         },
         {
          "game": "Counter-Strike: Global Offensive",
          "month": "2019-12-01T00:00:00",
          "peak": 771640
         },
         {
          "game": "Counter-Strike: Global Offensive",
          "month": "2020-01-01T00:00:00",
          "peak": 822490
         },
         {
          "game": "Counter-Strike: Global Offensive",
          "month": "2020-02-01T00:00:00",
          "peak": 933748
         },
         {
          "game": "Counter-Strike: Global Offensive",
          "month": "2020-03-01T00:00:00",
          "peak": 1226724
         },
         {
          "game": "Counter-Strike: Global Offensive",
          "month": "2020-04-01T00:00:00",
          "peak": 1308963
         },
         {
          "game": "Counter-Strike: Global Offensive",
          "month": "2020-05-01T00:00:00",
          "peak": 1179111
         },
         {
          "game": "Counter-Strike: Global Offensive",
          "month": "2020-06-01T00:00:00",
          "peak": 957636
         },
         {
          "game": "Counter-Strike: Global Offensive",
          "month": "2020-07-01T00:00:00",
          "peak": 861948
         },
         {
          "game": "Counter-Strike: Global Offensive",
          "month": "2020-08-01T00:00:00",
          "peak": 932283
         },
         {
          "game": "Counter-Strike: Global Offensive",
          "month": "2020-09-01T00:00:00",
          "peak": 980879
         },
         {
          "game": "Counter-Strike: Global Offensive",
          "month": "2020-10-01T00:00:00",
          "peak": 951748
         },
         {
          "game": "Counter-Strike: Global Offensive",
          "month": "2020-11-01T00:00:00",
          "peak": 1040051
         },
         {
          "game": "Counter-Strike: Global Offensive",
          "month": "2020-12-01T00:00:00",
          "peak": 1169661
         },
         {
          "game": "Counter-Strike: Global Offensive",
          "month": "2021-01-01T00:00:00",
          "peak": 1125411
         },
         {
          "game": "Counter-Strike: Global Offensive",
          "month": "2021-02-01T00:00:00",
          "peak": 1125838
         },
         {
          "game": "Counter-Strike: Global Offensive",
          "month": "2021-03-01T00:00:00",
          "peak": 1201993
         },
         {
          "game": "Counter-Strike: Global Offensive",
          "month": "2021-04-01T00:00:00",
          "peak": 1150982
         },
         {
          "game": "Counter-Strike: Global Offensive",
          "month": "2021-05-01T00:00:00",
          "peak": 1088168
         },
         {
          "game": "Counter-Strike: Global Offensive",
          "month": "2021-06-01T00:00:00",
          "peak": 929940
         },
         {
          "game": "Counter-Strike: Global Offensive",
          "month": "2021-07-01T00:00:00",
          "peak": 766510
         },
         {
          "game": "Counter-Strike: Global Offensive",
          "month": "2021-08-01T00:00:00",
          "peak": 804133
         },
         {
          "game": "Counter-Strike: Global Offensive",
          "month": "2021-09-01T00:00:00",
          "peak": 949817
         },
         {
          "game": "Counter-Strike: Global Offensive",
          "month": "2021-10-01T00:00:00",
          "peak": 866030
         },
         {
          "game": "Counter-Strike: Global Offensive",
          "month": "2021-11-01T00:00:00",
          "peak": 944330
         },
         {
          "game": "Counter-Strike: Global Offensive",
          "month": "2021-12-01T00:00:00",
          "peak": 950586
         },
         {
          "game": "Counter-Strike: Global Offensive",
          "month": "2022-01-01T00:00:00",
          "peak": 992455
         },
         {
          "game": "Counter-Strike: Global Offensive",
          "month": "2022-02-01T00:00:00",
          "peak": 997730
         },
         {
          "game": "Counter-Strike: Global Offensive",
          "month": "2022-03-01T00:00:00",
          "peak": 993808
         },
         {
          "game": "Counter-Strike: Global Offensive",
          "month": "2022-04-01T00:00:00",
          "peak": 1016762
         },
         {
          "game": "Counter-Strike: Global Offensive",
          "month": "2022-05-01T00:00:00",
          "peak": 932681
         },
         {
          "game": "Counter-Strike: Global Offensive",
          "month": "2022-06-01T00:00:00",
          "peak": 906968
         },
         {
          "game": "Counter-Strike: Global Offensive",
          "month": "2022-07-01T00:00:00",
          "peak": 928329
         },
         {
          "game": "Counter-Strike: Global Offensive",
          "month": "2022-08-01T00:00:00",
          "peak": 1039889
         },
         {
          "game": "Counter-Strike: Global Offensive",
          "month": "2022-09-01T00:00:00",
          "peak": 1103223
         },
         {
          "game": "Counter-Strike: Global Offensive",
          "month": "2022-10-01T00:00:00",
          "peak": 1090858
         },
         {
          "game": "Counter-Strike: Global Offensive",
          "month": "2022-11-01T00:00:00",
          "peak": 1132952
         },
         {
          "game": "Counter-Strike: Global Offensive",
          "month": "2022-12-01T00:00:00",
          "peak": 1067327
         },
         {
          "game": "Counter-Strike: Global Offensive",
          "month": "2023-01-01T00:00:00",
          "peak": 1200077
         },
         {
          "game": "Counter-Strike: Global Offensive",
          "month": "2023-02-01T00:00:00",
          "peak": 1355797
         },
         {
          "game": "Counter-Strike: Global Offensive",
          "month": "2023-03-01T00:00:00",
          "peak": 1519457
         },
         {
          "game": "Counter-Strike: Global Offensive",
          "month": "2023-04-01T00:00:00",
          "peak": 1514410
         },
         {
          "game": "Counter-Strike: Global Offensive",
          "month": "2023-05-01T00:00:00",
          "peak": 1818773
         },
         {
          "game": "Counter-Strike: Global Offensive",
          "month": "2023-06-01T00:00:00",
          "peak": 1673717
         },
         {
          "game": "Counter-Strike: Global Offensive",
          "month": "2023-07-01T00:00:00",
          "peak": 1226527
         },
         {
          "game": "Counter-Strike: Global Offensive",
          "month": "2023-08-01T00:00:00",
          "peak": 1539504
         },
         {
          "game": "Counter-Strike 2",
          "month": "2023-09-01T00:00:00",
          "peak": 1560435
         },
         {
          "game": "Counter-Strike 2",
          "month": "2023-10-01T00:00:00",
          "peak": 1392488
         },
         {
          "game": "Counter-Strike 2",
          "month": "2023-11-01T00:00:00",
          "peak": 1163388
         },
         {
          "game": "Counter-Strike 2",
          "month": "2023-12-01T00:00:00",
          "peak": 1255172
         },
         {
          "game": "Counter-Strike 2",
          "month": "2024-01-01T00:00:00",
          "peak": 1312422
         },
         {
          "game": "Counter-Strike 2",
          "month": "2024-02-01T00:00:00",
          "peak": 1403250
         },
         {
          "game": "Counter-Strike 2",
          "month": "2024-03-01T00:00:00",
          "peak": 1525069
         },
         {
          "game": "Counter-Strike 2",
          "month": "2024-04-01T00:00:00",
          "peak": 1618685
         },
         {
          "game": "Counter-Strike 2",
          "month": "2024-05-01T00:00:00",
          "peak": 1631616
         },
         {
          "game": "Counter-Strike 2",
          "month": "2024-06-01T00:00:00",
          "peak": 1525896
         },
         {
          "game": "Counter-Strike 2",
          "month": "2024-07-01T00:00:00",
          "peak": 1347502
         },
         {
          "game": "Counter-Strike 2",
          "month": "2024-08-01T00:00:00",
          "peak": 1426478
         },
         {
          "game": "Counter-Strike 2",
          "month": "2024-09-01T00:00:00",
          "peak": 1482529
         },
         {
          "game": "Counter-Strike 2",
          "month": "2024-10-01T00:00:00",
          "peak": 1498661
         },
         {
          "game": "Counter-Strike 2",
          "month": "2024-11-01T00:00:00",
          "peak": 1562206
         },
         {
          "game": "Counter-Strike 2",
          "month": "2024-12-01T00:00:00",
          "peak": 1740261
         },
         {
          "game": "Counter-Strike 2",
          "month": "2025-01-01T00:00:00",
          "peak": 1604641
         },
         {
          "game": "Counter-Strike 2",
          "month": "2025-02-01T00:00:00",
          "peak": 1789374
         },
         {
          "game": "Counter-Strike 2",
          "month": "2025-03-01T00:00:00",
          "peak": 1824989
         },
         {
          "game": "Counter-Strike 2",
          "month": "2025-04-01T00:00:00",
          "peak": 1862531
         },
         {
          "game": "Counter-Strike 2",
          "month": "2025-05-01T00:00:00",
          "peak": 1722301
         },
         {
          "game": "Counter-Strike 2",
          "month": "2025-06-01T00:00:00",
          "peak": 1732079
         },
         {
          "game": "Counter-Strike 2",
          "month": "2025-07-01T00:00:00",
          "peak": 1433826
         },
         {
          "game": "Counter-Strike 2",
          "month": "2025-08-01T00:00:00",
          "peak": 1505419
         }
        ]
       },
       "encoding": {
        "color": {
         "field": "game",
         "scale": {
          "domain": [
           "Counter-Strike (1.6)",
           "Counter-Strike: Condition Zero",
           "Counter-Strike: Source",
           "Counter-Strike: Global Offensive",
           "Counter-Strike 2"
          ],
          "range": [
           "#009E73",
           "#7F7F7F",
           "#56B4E9",
           "#D55E00",
           "#CC79A7"
          ]
         },
         "title": "Game/Version",
         "type": "nominal"
        },
        "tooltip": [
         {
          "field": "game",
          "type": "nominal"
         },
         {
          "field": "month",
          "type": "temporal"
         },
         {
          "field": "peak",
          "type": "quantitative"
         }
        ],
        "x": {
         "field": "month",
         "title": "Year",
         "type": "temporal"
        },
        "y": {
         "field": "peak",
         "title": "Peak players",
         "type": "quantitative"
        }
       },
       "height": 450,
       "mark": {
        "type": "line"
       },
       "title": "Counter-Strike Playerbase Over Time",
       "usermeta": {
        "embedOptions": {
         "theme": "fivethirtyeight"
        }
       },
       "width": 950
      },
      "text/plain": [
       "<VegaLite 5 object>\n",
       "\n",
       "If you see this message, it means the renderer has not been properly enabled\n",
       "for the frontend that you are using. For more information, see\n",
       "https://altair-viz.github.io/user_guide/display_frontends.html#troubleshooting\n"
      ]
     },
     "execution_count": 4,
     "metadata": {},
     "output_type": "execute_result"
    }
   ],
   "source": [
    "series = {\n",
    "    # \"All Counter-Strike (aggregate)\": cs_merged_grouped,\n",
    "    \"Counter-Strike (1.6)\": cs16_data,\n",
    "    \"Counter-Strike: Source\": css_data,\n",
    "    \"Counter-Strike: Condition Zero\": cscz_data,\n",
    "    \"Counter-Strike: Global Offensive\": csgo_data,\n",
    "    \"Counter-Strike 2\": cs2_data,\n",
    "}\n",
    "\n",
    "colors = {\n",
    "    # \"All Counter-Strike (aggregate)\":  \"#0057B8\",  # deep royal blue (highlighted)\n",
    "    \"Counter-Strike (1.6)\":            \"#009E73\",  # green\n",
    "    \"Counter-Strike: Condition Zero\":  \"#7F7F7F\",  # medium gray (subtle)\n",
    "    \"Counter-Strike: Source\":          \"#56B4E9\",  # sky blue\n",
    "    \"Counter-Strike: Global Offensive\":\"#D55E00\",  # vermillion (strong contrast vs blue)\n",
    "    \"Counter-Strike 2\":                \"#CC79A7\",  # magenta\n",
    "}\n",
    "\n",
    "order = [\n",
    "#     \"All Counter-Strike (aggregate)\",\n",
    "    \"Counter-Strike (1.6)\",\n",
    "    \"Counter-Strike: Condition Zero\",\n",
    "    \"Counter-Strike: Source\",\n",
    "    \"Counter-Strike: Global Offensive\",\n",
    "    \"Counter-Strike 2\",\n",
    "]\n",
    "\n",
    "# Combine all series into one tidy DataFrame\n",
    "frames = []\n",
    "for name, df in series.items():\n",
    "    df[\"game\"] = name\n",
    "    frames.append(df[[\"month\", \"peak\", \"game\"]])\n",
    "\n",
    "combined = pd.concat(frames, ignore_index=True)\n",
    "\n",
    "# Build Altair chart\n",
    "chart = (\n",
    "    alt.Chart(combined)\n",
    "    .mark_line()\n",
    "    .encode(\n",
    "        x=alt.X(\"month:T\", title=\"Year\"),\n",
    "        y=alt.Y(\"peak:Q\", title=\"Peak players\"),\n",
    "        color=alt.Color(\"game:N\", title=\"Game/Version\", scale=alt.Scale(domain=order, range=[colors[k] for k in order])),\n",
    "        tooltip=[\"game\", \"month\", \"peak\"],\n",
    "    )\n",
    "    .properties(width=950, height=450, title=\"Counter-Strike Playerbase Over Time\")\n",
    ")\n",
    "\n",
    "chart"
   ]
  },
  {
   "cell_type": "markdown",
   "id": "6b0821ba",
   "metadata": {},
   "source": [
    "### Counter-Strike Viewership on Youtube and Twitch"
   ]
  },
  {
   "cell_type": "code",
   "execution_count": 5,
   "id": "e2bb7184",
   "metadata": {},
   "outputs": [
    {
     "data": {
      "application/vnd.vegalite.v5+json": {
       "$schema": "https://vega.github.io/schema/vega-lite/v5.20.1.json",
       "config": {
        "view": {
         "continuousHeight": 300,
         "continuousWidth": 300
        }
       },
       "data": {
        "name": "data-f1a9efeb297f214e40d35adc613a7de9"
       },
       "datasets": {
        "data-f1a9efeb297f214e40d35adc613a7de9": [
         {
          "avg streams": 803,
          "avg viewers": 41122,
          "commentCount": 21510,
          "favoriteCount": 0,
          "gain streams": 0,
          "gain viewers": 0,
          "hours watched": 305032336,
          "likeCount": 738624,
          "month": "2016-11-01T00:00:00",
          "peak streams": 1733,
          "peak viewers": 237149,
          "viewCount": 44191608
         },
         {
          "avg streams": 940,
          "avg viewers": 97395,
          "commentCount": 21214,
          "favoriteCount": 0,
          "gain streams": 452,
          "gain viewers": 917083,
          "hours watched": 721080946,
          "likeCount": 296431,
          "month": "2016-12-01T00:00:00",
          "peak streams": 2185,
          "peak viewers": 1154232,
          "viewCount": 24417765
         },
         {
          "avg streams": 1014,
          "avg viewers": 60177,
          "commentCount": 23410,
          "favoriteCount": 0,
          "gain streams": -88,
          "gain viewers": -692895,
          "hours watched": 404088357,
          "likeCount": 544009,
          "month": "2017-01-01T00:00:00",
          "peak streams": 2097,
          "peak viewers": 461337,
          "viewCount": 38548418
         },
         {
          "avg streams": 946,
          "avg viewers": 49606,
          "commentCount": 13491,
          "favoriteCount": 0,
          "gain streams": 3,
          "gain viewers": 51119,
          "hours watched": 368160397,
          "likeCount": 417451,
          "month": "2017-02-01T00:00:00",
          "peak streams": 2100,
          "peak viewers": 512456,
          "viewCount": 33774463
         },
         {
          "avg streams": 879,
          "avg viewers": 50868,
          "commentCount": 10561,
          "favoriteCount": 0,
          "gain streams": -270,
          "gain viewers": -94180,
          "hours watched": 364069433,
          "likeCount": 237286,
          "month": "2017-03-01T00:00:00",
          "peak streams": 1830,
          "peak viewers": 418276,
          "viewCount": 9465118
         },
         {
          "avg streams": 837,
          "avg viewers": 31841,
          "commentCount": 9268,
          "favoriteCount": 0,
          "gain streams": -130,
          "gain viewers": -223337,
          "hours watched": 231142383,
          "likeCount": 171985,
          "month": "2017-04-01T00:00:00",
          "peak streams": 1700,
          "peak viewers": 194939,
          "viewCount": 24126412
         },
         {
          "avg streams": 792,
          "avg viewers": 30421,
          "commentCount": 17627,
          "favoriteCount": 0,
          "gain streams": -214,
          "gain viewers": 101836,
          "hours watched": 218526181,
          "likeCount": 180121,
          "month": "2017-05-01T00:00:00",
          "peak streams": 1486,
          "peak viewers": 296775,
          "viewCount": 14520871
         },
         {
          "avg streams": 844,
          "avg viewers": 91482,
          "commentCount": 8799,
          "favoriteCount": 0,
          "gain streams": 101,
          "gain viewers": 652300,
          "hours watched": 678111000,
          "likeCount": 193773,
          "month": "2017-06-01T00:00:00",
          "peak streams": 1587,
          "peak viewers": 949075,
          "viewCount": 3797489
         },
         {
          "avg streams": 868,
          "avg viewers": 27226,
          "commentCount": 14822,
          "favoriteCount": 0,
          "gain streams": 3,
          "gain viewers": -738899,
          "hours watched": 202162451,
          "likeCount": 189008,
          "month": "2017-07-01T00:00:00",
          "peak streams": 1590,
          "peak viewers": 210176,
          "viewCount": 8991317
         },
         {
          "avg streams": 778,
          "avg viewers": 37946,
          "commentCount": 27124,
          "favoriteCount": 0,
          "gain streams": -54,
          "gain viewers": 78397,
          "hours watched": 273133134,
          "likeCount": 603429,
          "month": "2017-08-01T00:00:00",
          "peak streams": 1536,
          "peak viewers": 288573,
          "viewCount": 34827963
         },
         {
          "avg streams": 800,
          "avg viewers": 38311,
          "commentCount": 9913,
          "favoriteCount": 0,
          "gain streams": 124,
          "gain viewers": 289305,
          "hours watched": 284097958,
          "likeCount": 76243,
          "month": "2017-09-01T00:00:00",
          "peak streams": 1660,
          "peak viewers": 577878,
          "viewCount": 5023939
         },
         {
          "avg streams": 802,
          "avg viewers": 35858,
          "commentCount": 15779,
          "favoriteCount": 0,
          "gain streams": -93,
          "gain viewers": -296736,
          "hours watched": 258072260,
          "likeCount": 192950,
          "month": "2017-10-01T00:00:00",
          "peak streams": 1567,
          "peak viewers": 281142,
          "viewCount": 15677146
         },
         {
          "avg streams": 882,
          "avg viewers": 25279,
          "commentCount": 18186,
          "favoriteCount": 0,
          "gain streams": 181,
          "gain viewers": -48504,
          "hours watched": 187102000,
          "likeCount": 409901,
          "month": "2017-11-01T00:00:00",
          "peak streams": 1748,
          "peak viewers": 232638,
          "viewCount": 16473084
         },
         {
          "avg streams": 1059,
          "avg viewers": 93523,
          "commentCount": 11884,
          "favoriteCount": 0,
          "gain streams": 268,
          "gain viewers": 1088038,
          "hours watched": 695153473,
          "likeCount": 115699,
          "month": "2017-12-01T00:00:00",
          "peak streams": 2016,
          "peak viewers": 1320676,
          "viewCount": 7403088
         },
         {
          "avg streams": 1164,
          "avg viewers": 55574,
          "commentCount": 20164,
          "favoriteCount": 0,
          "gain streams": 327,
          "gain viewers": -945955,
          "hours watched": 372149237,
          "likeCount": 422053,
          "month": "2018-01-01T00:00:00",
          "peak streams": 2343,
          "peak viewers": 374721,
          "viewCount": 20227943
         },
         {
          "avg streams": 1069,
          "avg viewers": 37831,
          "commentCount": 10821,
          "favoriteCount": 0,
          "gain streams": 20,
          "gain viewers": 130270,
          "hours watched": 281139519,
          "likeCount": 100671,
          "month": "2018-02-01T00:00:00",
          "peak streams": 2363,
          "peak viewers": 504991,
          "viewCount": 4773316
         },
         {
          "avg streams": 925,
          "avg viewers": 31942,
          "commentCount": 9992,
          "favoriteCount": 0,
          "gain streams": -465,
          "gain viewers": -168152,
          "hours watched": 229147224,
          "likeCount": 128121,
          "month": "2018-03-01T00:00:00",
          "peak streams": 1898,
          "peak viewers": 336839,
          "viewCount": 6681056
         },
         {
          "avg streams": 828,
          "avg viewers": 35550,
          "commentCount": 26416,
          "favoriteCount": 0,
          "gain streams": -303,
          "gain viewers": -110278,
          "hours watched": 264160163,
          "likeCount": 757331,
          "month": "2018-04-01T00:00:00",
          "peak streams": 1595,
          "peak viewers": 226561,
          "viewCount": 52530015
         },
         {
          "avg streams": 839,
          "avg viewers": 30620,
          "commentCount": 22421,
          "favoriteCount": 0,
          "gain streams": 8,
          "gain viewers": 76827,
          "hours watched": 219463000,
          "likeCount": 825840,
          "month": "2018-05-01T00:00:00",
          "peak streams": 1603,
          "peak viewers": 303388,
          "viewCount": 48526304
         },
         {
          "avg streams": 939,
          "avg viewers": 36045,
          "commentCount": 11471,
          "favoriteCount": 0,
          "gain streams": 75,
          "gain viewers": -63718,
          "hours watched": 265161443,
          "likeCount": 489806,
          "month": "2018-06-01T00:00:00",
          "peak streams": 1678,
          "peak viewers": 239670,
          "viewCount": 55513661
         },
         {
          "avg streams": 1027,
          "avg viewers": 29161,
          "commentCount": 5815,
          "favoriteCount": 0,
          "gain streams": 194,
          "gain viewers": -45548,
          "hours watched": 217223155,
          "likeCount": 67279,
          "month": "2018-07-01T00:00:00",
          "peak streams": 1872,
          "peak viewers": 194122,
          "viewCount": 2964785
         },
         {
          "avg streams": 983,
          "avg viewers": 98328,
          "commentCount": 20742,
          "favoriteCount": 0,
          "gain streams": 90,
          "gain viewers": 676348,
          "hours watched": 707251000,
          "likeCount": 281104,
          "month": "2018-08-01T00:00:00",
          "peak streams": 1962,
          "peak viewers": 870470,
          "viewCount": 17108328
         },
         {
          "avg streams": 973,
          "avg viewers": 32506,
          "commentCount": 2497,
          "favoriteCount": 0,
          "gain streams": 12,
          "gain viewers": -647302,
          "hours watched": 241232303,
          "likeCount": 17326,
          "month": "2018-09-01T00:00:00",
          "peak streams": 1974,
          "peak viewers": 223168,
          "viewCount": 822816
         },
         {
          "avg streams": 1018,
          "avg viewers": 37720,
          "commentCount": 18579,
          "favoriteCount": 0,
          "gain streams": 46,
          "gain viewers": 77405,
          "hours watched": 271247239,
          "likeCount": 257666,
          "month": "2018-10-01T00:00:00",
          "peak streams": 2020,
          "peak viewers": 300573,
          "viewCount": 19632217
         },
         {
          "avg streams": 1182,
          "avg viewers": 34386,
          "commentCount": 77683,
          "favoriteCount": 0,
          "gain streams": 1176,
          "gain viewers": -25715,
          "hours watched": 255358224,
          "likeCount": 1114273,
          "month": "2018-11-01T00:00:00",
          "peak streams": 3196,
          "peak viewers": 274858,
          "viewCount": 43796079
         },
         {
          "avg streams": 1423,
          "avg viewers": 41428,
          "commentCount": 9318,
          "favoriteCount": 0,
          "gain streams": -246,
          "gain viewers": -73824,
          "hours watched": 307693598,
          "likeCount": 128677,
          "month": "2018-12-01T00:00:00",
          "peak streams": 2950,
          "peak viewers": 201034,
          "viewCount": 4192299
         },
         {
          "avg streams": 1119,
          "avg viewers": 70550,
          "commentCount": 8340,
          "favoriteCount": 0,
          "gain streams": -345,
          "gain viewers": 315753,
          "hours watched": 474446299,
          "likeCount": 103648,
          "month": "2019-01-01T00:00:00",
          "peak streams": 2605,
          "peak viewers": 516787,
          "viewCount": 7797941
         },
         {
          "avg streams": 1238,
          "avg viewers": 47799,
          "commentCount": 11547,
          "favoriteCount": 0,
          "gain streams": -75,
          "gain viewers": 319790,
          "hours watched": 355535000,
          "likeCount": 260974,
          "month": "2019-02-01T00:00:00",
          "peak streams": 2530,
          "peak viewers": 836577,
          "viewCount": 8897700
         },
         {
          "avg streams": 1182,
          "avg viewers": 42814,
          "commentCount": 8143,
          "favoriteCount": 0,
          "gain streams": -203,
          "gain viewers": -520536,
          "hours watched": 308423694,
          "likeCount": 142354,
          "month": "2019-03-01T00:00:00",
          "peak streams": 2327,
          "peak viewers": 316041,
          "viewCount": 15821046
         },
         {
          "avg streams": 1163,
          "avg viewers": 40003,
          "commentCount": 19887,
          "favoriteCount": 0,
          "gain streams": -18,
          "gain viewers": -79719,
          "hours watched": 297409000,
          "likeCount": 314224,
          "month": "2019-04-01T00:00:00",
          "peak streams": 2309,
          "peak viewers": 236322,
          "viewCount": 9058245
         },
         {
          "avg streams": 1177,
          "avg viewers": 42055,
          "commentCount": 17851,
          "favoriteCount": 0,
          "gain streams": -202,
          "gain viewers": 118587,
          "hours watched": 302609000,
          "likeCount": 634672,
          "month": "2019-05-01T00:00:00",
          "peak streams": 2107,
          "peak viewers": 354909,
          "viewCount": 39791010
         },
         {
          "avg streams": 1237,
          "avg viewers": 54848,
          "commentCount": 23875,
          "favoriteCount": 0,
          "gain streams": 147,
          "gain viewers": 84216,
          "hours watched": 407793888,
          "likeCount": 565614,
          "month": "2019-06-01T00:00:00",
          "peak streams": 2254,
          "peak viewers": 439125,
          "viewCount": 20781995
         },
         {
          "avg streams": 1321,
          "avg viewers": 62101,
          "commentCount": 19957,
          "favoriteCount": 0,
          "gain streams": 39,
          "gain viewers": 84831,
          "hours watched": 461604445,
          "likeCount": 528929,
          "month": "2019-07-01T00:00:00",
          "peak streams": 2293,
          "peak viewers": 523956,
          "viewCount": 21247781
         },
         {
          "avg streams": 1279,
          "avg viewers": 63866,
          "commentCount": 39699,
          "favoriteCount": 0,
          "gain streams": 164,
          "gain viewers": 137766,
          "hours watched": 459461365,
          "likeCount": 1398732,
          "month": "2019-08-01T00:00:00",
          "peak streams": 2457,
          "peak viewers": 661722,
          "viewCount": 43137256
         },
         {
          "avg streams": 1265,
          "avg viewers": 60422,
          "commentCount": 10589,
          "favoriteCount": 0,
          "gain streams": 136,
          "gain viewers": -278952,
          "hours watched": 432481355,
          "likeCount": 458690,
          "month": "2019-09-01T00:00:00",
          "peak streams": 2593,
          "peak viewers": 382770,
          "viewCount": 52619174
         },
         {
          "avg streams": 1249,
          "avg viewers": 49606,
          "commentCount": 11060,
          "favoriteCount": 0,
          "gain streams": -62,
          "gain viewers": -80541,
          "hours watched": 345678558,
          "likeCount": 210622,
          "month": "2019-10-01T00:00:00",
          "peak streams": 2531,
          "peak viewers": 302229,
          "viewCount": 11704409
         },
         {
          "avg streams": 1326,
          "avg viewers": 54580,
          "commentCount": 20989,
          "favoriteCount": 0,
          "gain streams": 186,
          "gain viewers": 52444,
          "hours watched": 404149575,
          "likeCount": 480996,
          "month": "2019-11-01T00:00:00",
          "peak streams": 2717,
          "peak viewers": 354673,
          "viewCount": 48555412
         },
         {
          "avg streams": 1650,
          "avg viewers": 45680,
          "commentCount": 9909,
          "favoriteCount": 0,
          "gain streams": 706,
          "gain viewers": -93543,
          "hours watched": 339123000,
          "likeCount": 256999,
          "month": "2019-12-01T00:00:00",
          "peak streams": 3423,
          "peak viewers": 261130,
          "viewCount": 15067596
         },
         {
          "avg streams": 1645,
          "avg viewers": 71759,
          "commentCount": 25951,
          "favoriteCount": 0,
          "gain streams": -165,
          "gain viewers": 356013,
          "hours watched": 498867458,
          "likeCount": 698331,
          "month": "2020-01-01T00:00:00",
          "peak streams": 3258,
          "peak viewers": 617143,
          "viewCount": 20546454
         },
         {
          "avg streams": 2046,
          "avg viewers": 90151,
          "commentCount": 17505,
          "favoriteCount": 0,
          "gain streams": 1480,
          "gain viewers": 226788,
          "hours watched": 668118474,
          "likeCount": 382673,
          "month": "2020-02-01T00:00:00",
          "peak streams": 4738,
          "peak viewers": 843931,
          "viewCount": 16531507
         },
         {
          "avg streams": 2772,
          "avg viewers": 120873,
          "commentCount": 27474,
          "favoriteCount": 0,
          "gain streams": 885,
          "gain viewers": -269046,
          "hours watched": 864159510,
          "likeCount": 980708,
          "month": "2020-03-01T00:00:00",
          "peak streams": 5623,
          "peak viewers": 574885,
          "viewCount": 52346362
         },
         {
          "avg streams": 2419,
          "avg viewers": 103850,
          "commentCount": 22876,
          "favoriteCount": 0,
          "gain streams": -725,
          "gain viewers": -72248,
          "hours watched": 767338000,
          "likeCount": 536751,
          "month": "2020-04-01T00:00:00",
          "peak streams": 4898,
          "peak viewers": 502637,
          "viewCount": 16302139
         },
         {
          "avg streams": 1967,
          "avg viewers": 105753,
          "commentCount": 16341,
          "favoriteCount": 0,
          "gain streams": -655,
          "gain viewers": 127,
          "hours watched": 758168000,
          "likeCount": 367158,
          "month": "2020-05-01T00:00:00",
          "peak streams": 4243,
          "peak viewers": 502764,
          "viewCount": 18362604
         },
         {
          "avg streams": 1616,
          "avg viewers": 56694,
          "commentCount": 7190,
          "favoriteCount": 0,
          "gain streams": -1130,
          "gain viewers": -291733,
          "hours watched": 419300000,
          "likeCount": 51109,
          "month": "2020-06-01T00:00:00",
          "peak streams": 3113,
          "peak viewers": 211031,
          "viewCount": 2274130
         },
         {
          "avg streams": 1456,
          "avg viewers": 65019,
          "commentCount": 14047,
          "favoriteCount": 0,
          "gain streams": -520,
          "gain viewers": 123996,
          "hours watched": 481209000,
          "likeCount": 507101,
          "month": "2020-07-01T00:00:00",
          "peak streams": 2593,
          "peak viewers": 335027,
          "viewCount": 9422260
         },
         {
          "avg streams": 1447,
          "avg viewers": 74610,
          "commentCount": 35148,
          "favoriteCount": 0,
          "gain streams": 92,
          "gain viewers": -4938,
          "hours watched": 535172570,
          "likeCount": 578661,
          "month": "2020-08-01T00:00:00",
          "peak streams": 2685,
          "peak viewers": 330089,
          "viewCount": 18786311
         },
         {
          "avg streams": 1557,
          "avg viewers": 78858,
          "commentCount": 19086,
          "favoriteCount": 0,
          "gain streams": 361,
          "gain viewers": 135584,
          "hours watched": 585133314,
          "likeCount": 430653,
          "month": "2020-09-01T00:00:00",
          "peak streams": 3046,
          "peak viewers": 465673,
          "viewCount": 21668669
         },
         {
          "avg streams": 1834,
          "avg viewers": 84747,
          "commentCount": 9224,
          "favoriteCount": 0,
          "gain streams": 571,
          "gain viewers": 90873,
          "hours watched": 608149698,
          "likeCount": 181241,
          "month": "2020-10-01T00:00:00",
          "peak streams": 3617,
          "peak viewers": 556546,
          "viewCount": 6752416
         },
         {
          "avg streams": 1948,
          "avg viewers": 81674,
          "commentCount": 9102,
          "favoriteCount": 0,
          "gain streams": 410,
          "gain viewers": -161178,
          "hours watched": 605147522,
          "likeCount": 139947,
          "month": "2020-11-01T00:00:00",
          "peak streams": 4027,
          "peak viewers": 395368,
          "viewCount": 3499404
         },
         {
          "avg streams": 2277,
          "avg viewers": 82147,
          "commentCount": 55667,
          "favoriteCount": 0,
          "gain streams": 640,
          "gain viewers": 206787,
          "hours watched": 609175754,
          "likeCount": 977054,
          "month": "2020-12-01T00:00:00",
          "peak streams": 4667,
          "peak viewers": 602155,
          "viewCount": 23128706
         },
         {
          "avg streams": 2273,
          "avg viewers": 100807,
          "commentCount": 15447,
          "favoriteCount": 0,
          "gain streams": -117,
          "gain viewers": 23332,
          "hours watched": 675180765,
          "likeCount": 229408,
          "month": "2021-01-01T00:00:00",
          "peak streams": 4550,
          "peak viewers": 625487,
          "viewCount": 11562830
         },
         {
          "avg streams": 2216,
          "avg viewers": 97397,
          "commentCount": 11361,
          "favoriteCount": 0,
          "gain streams": -70,
          "gain viewers": -135661,
          "hours watched": 723123602,
          "likeCount": 179642,
          "month": "2021-02-01T00:00:00",
          "peak streams": 4480,
          "peak viewers": 489826,
          "viewCount": 6976256
         },
         {
          "avg streams": 2065,
          "avg viewers": 97486,
          "commentCount": 8784,
          "favoriteCount": 0,
          "gain streams": -208,
          "gain viewers": -42571,
          "hours watched": 700153623,
          "likeCount": 98824,
          "month": "2021-03-01T00:00:00",
          "peak streams": 4272,
          "peak viewers": 447255,
          "viewCount": 3086472
         },
         {
          "avg streams": 1883,
          "avg viewers": 102192,
          "commentCount": 30156,
          "favoriteCount": 0,
          "gain streams": -587,
          "gain viewers": 164438,
          "hours watched": 756406604,
          "likeCount": 417630,
          "month": "2021-04-01T00:00:00",
          "peak streams": 3685,
          "peak viewers": 611693,
          "viewCount": 10430508
         },
         {
          "avg streams": 1643,
          "avg viewers": 77505,
          "commentCount": 9436,
          "favoriteCount": 0,
          "gain streams": -618,
          "gain viewers": -217194,
          "hours watched": 554393000,
          "likeCount": 207008,
          "month": "2021-05-01T00:00:00",
          "peak streams": 3067,
          "peak viewers": 394499,
          "viewCount": 7307255
         },
         {
          "avg streams": 1520,
          "avg viewers": 78911,
          "commentCount": 15592,
          "favoriteCount": 0,
          "gain streams": -491,
          "gain viewers": 335954,
          "hours watched": 586160000,
          "likeCount": 255961,
          "month": "2021-06-01T00:00:00",
          "peak streams": 2576,
          "peak viewers": 730453,
          "viewCount": 7542215
         },
         {
          "avg streams": 1503,
          "avg viewers": 67173,
          "commentCount": 6431,
          "favoriteCount": 0,
          "gain streams": 30,
          "gain viewers": -330816,
          "hours watched": 498136452,
          "likeCount": 114535,
          "month": "2021-07-01T00:00:00",
          "peak streams": 2606,
          "peak viewers": 399637,
          "viewCount": 3258535
         },
         {
          "avg streams": 1422,
          "avg viewers": 85593,
          "commentCount": 7016,
          "favoriteCount": 0,
          "gain streams": 280,
          "gain viewers": 337292,
          "hours watched": 615120000,
          "likeCount": 172861,
          "month": "2021-08-01T00:00:00",
          "peak streams": 2886,
          "peak viewers": 736929,
          "viewCount": 4094505
         },
         {
          "avg streams": 1307,
          "avg viewers": 94510,
          "commentCount": 14201,
          "favoriteCount": 0,
          "gain streams": -261,
          "gain viewers": -47574,
          "hours watched": 702959449,
          "likeCount": 431622,
          "month": "2021-09-01T00:00:00",
          "peak streams": 2625,
          "peak viewers": 689355,
          "viewCount": 8603503
         },
         {
          "avg streams": 1347,
          "avg viewers": 111172,
          "commentCount": 18352,
          "favoriteCount": 0,
          "gain streams": 40,
          "gain viewers": 1261087,
          "hours watched": 799103558,
          "likeCount": 185208,
          "month": "2021-10-01T00:00:00",
          "peak streams": 2665,
          "peak viewers": 1950442,
          "viewCount": 4760216
         },
         {
          "avg streams": 1252,
          "avg viewers": 61286,
          "commentCount": 8690,
          "favoriteCount": 0,
          "gain streams": -124,
          "gain viewers": -1419673,
          "hours watched": 455102784,
          "likeCount": 134859,
          "month": "2021-11-01T00:00:00",
          "peak streams": 2541,
          "peak viewers": 530769,
          "viewCount": 3502377
         },
         {
          "avg streams": 1494,
          "avg viewers": 54040,
          "commentCount": 14240,
          "favoriteCount": 0,
          "gain streams": 408,
          "gain viewers": -90280,
          "hours watched": 400132000,
          "likeCount": 367830,
          "month": "2021-12-01T00:00:00",
          "peak streams": 2949,
          "peak viewers": 440489,
          "viewCount": 10980038
         },
         {
          "avg streams": 1413,
          "avg viewers": 100599,
          "commentCount": 4490,
          "favoriteCount": 0,
          "gain streams": -155,
          "gain viewers": 547960,
          "hours watched": 668105588,
          "likeCount": 309935,
          "month": "2022-01-01T00:00:00",
          "peak streams": 2794,
          "peak viewers": 988449,
          "viewCount": 9150017
         },
         {
          "avg streams": 1174,
          "avg viewers": 75433,
          "commentCount": 16946,
          "favoriteCount": 0,
          "gain streams": -450,
          "gain viewers": -631992,
          "hours watched": 549780000,
          "likeCount": 399641,
          "month": "2022-02-01T00:00:00",
          "peak streams": 2344,
          "peak viewers": 356457,
          "viewCount": 17895956
         },
         {
          "avg streams": 1116,
          "avg viewers": 81941,
          "commentCount": 7815,
          "favoriteCount": 0,
          "gain streams": -129,
          "gain viewers": 76738,
          "hours watched": 588685868,
          "likeCount": 176522,
          "month": "2022-03-01T00:00:00",
          "peak streams": 2215,
          "peak viewers": 433195,
          "viewCount": 8005852
         },
         {
          "avg streams": 1135,
          "avg viewers": 126020,
          "commentCount": 9828,
          "favoriteCount": 0,
          "gain streams": -23,
          "gain viewers": 1201410,
          "hours watched": 932589000,
          "likeCount": 180865,
          "month": "2022-04-01T00:00:00",
          "peak streams": 2192,
          "peak viewers": 1634605,
          "viewCount": 8500100
         },
         {
          "avg streams": 1165,
          "avg viewers": 78428,
          "commentCount": 29716,
          "favoriteCount": 0,
          "gain streams": -22,
          "gain viewers": -1113397,
          "hours watched": 563791485,
          "likeCount": 729312,
          "month": "2022-05-01T00:00:00",
          "peak streams": 2170,
          "peak viewers": 521208,
          "viewCount": 22970472
         },
         {
          "avg streams": 1148,
          "avg viewers": 68442,
          "commentCount": 14643,
          "favoriteCount": 0,
          "gain streams": -110,
          "gain viewers": 636075,
          "hours watched": 500791318,
          "likeCount": 315494,
          "month": "2022-06-01T00:00:00",
          "peak streams": 2060,
          "peak viewers": 1157283,
          "viewCount": 11775763
         },
         {
          "avg streams": 1175,
          "avg viewers": 57186,
          "commentCount": 10297,
          "favoriteCount": 0,
          "gain streams": 133,
          "gain viewers": -835196,
          "hours watched": 424127000,
          "likeCount": 314830,
          "month": "2022-07-01T00:00:00",
          "peak streams": 2193,
          "peak viewers": 322087,
          "viewCount": 10032697
         },
         {
          "avg streams": 1096,
          "avg viewers": 80861,
          "commentCount": 21070,
          "favoriteCount": 0,
          "gain streams": -63,
          "gain viewers": 134390,
          "hours watched": 574179228,
          "likeCount": 759304,
          "month": "2022-08-01T00:00:00",
          "peak streams": 2130,
          "peak viewers": 456477,
          "viewCount": 21219787
         },
         {
          "avg streams": 994,
          "avg viewers": 73816,
          "commentCount": 12660,
          "favoriteCount": 0,
          "gain streams": -157,
          "gain viewers": 236785,
          "hours watched": 514899411,
          "likeCount": 205204,
          "month": "2022-09-01T00:00:00",
          "peak streams": 1973,
          "peak viewers": 693262,
          "viewCount": 10117274
         },
         {
          "avg streams": 924,
          "avg viewers": 121325,
          "commentCount": 10948,
          "favoriteCount": 0,
          "gain streams": 11,
          "gain viewers": 579810,
          "hours watched": 872880280,
          "likeCount": 789400,
          "month": "2022-10-01T00:00:00",
          "peak streams": 1984,
          "peak viewers": 1273072,
          "viewCount": 22318119
         },
         {
          "avg streams": 903,
          "avg viewers": 41945,
          "commentCount": 19116,
          "favoriteCount": 0,
          "gain streams": -196,
          "gain viewers": -988081,
          "hours watched": 311955329,
          "likeCount": 1498931,
          "month": "2022-11-01T00:00:00",
          "peak streams": 1788,
          "peak viewers": 284991,
          "viewCount": 39049892
         },
         {
          "avg streams": 1111,
          "avg viewers": 52468,
          "commentCount": 8966,
          "favoriteCount": 0,
          "gain streams": 455,
          "gain viewers": 43166,
          "hours watched": 386108253,
          "likeCount": 200926,
          "month": "2022-12-01T00:00:00",
          "peak streams": 2243,
          "peak viewers": 328157,
          "viewCount": 5776688
         },
         {
          "avg streams": 1190,
          "avg viewers": 82176,
          "commentCount": 16344,
          "favoriteCount": 0,
          "gain streams": 42,
          "gain viewers": 250266,
          "hours watched": 545875319,
          "likeCount": 1844902,
          "month": "2023-01-01T00:00:00",
          "peak streams": 2285,
          "peak viewers": 578423,
          "viewCount": 63343813
         },
         {
          "avg streams": 1354,
          "avg viewers": 89073,
          "commentCount": 13921,
          "favoriteCount": 0,
          "gain streams": 713,
          "gain viewers": 312089,
          "hours watched": 655103412,
          "likeCount": 2420057,
          "month": "2023-02-01T00:00:00",
          "peak streams": 2998,
          "peak viewers": 890512,
          "viewCount": 63405916
         },
         {
          "avg streams": 1594,
          "avg viewers": 112765,
          "commentCount": 103116,
          "favoriteCount": 0,
          "gain streams": 90,
          "gain viewers": -301391,
          "hours watched": 808109536,
          "likeCount": 4481139,
          "month": "2023-03-01T00:00:00",
          "peak streams": 3088,
          "peak viewers": 589121,
          "viewCount": 118689665
         },
         {
          "avg streams": 1458,
          "avg viewers": 118738,
          "commentCount": 61548,
          "favoriteCount": 0,
          "gain streams": -274,
          "gain viewers": 498430,
          "hours watched": 880109530,
          "likeCount": 4546732,
          "month": "2023-04-01T00:00:00",
          "peak streams": 2814,
          "peak viewers": 1087551,
          "viewCount": 128491828
         },
         {
          "avg streams": 1346,
          "avg viewers": 62865,
          "commentCount": 62122,
          "favoriteCount": 0,
          "gain streams": -324,
          "gain viewers": -597939,
          "hours watched": 446527569,
          "likeCount": 4465075,
          "month": "2023-05-01T00:00:00",
          "peak streams": 2490,
          "peak viewers": 489612,
          "viewCount": 94564627
         },
         {
          "avg streams": 1350,
          "avg viewers": 81222,
          "commentCount": 29939,
          "favoriteCount": 0,
          "gain streams": -111,
          "gain viewers": -67930,
          "hours watched": 599125000,
          "likeCount": 1708750,
          "month": "2023-06-01T00:00:00",
          "peak streams": 2379,
          "peak viewers": 421682,
          "viewCount": 46617534
         },
         {
          "avg streams": 1303,
          "avg viewers": 85021,
          "commentCount": 34878,
          "favoriteCount": 0,
          "gain streams": 17,
          "gain viewers": 164866,
          "hours watched": 628891000,
          "likeCount": 2779357,
          "month": "2023-07-01T00:00:00",
          "peak streams": 2396,
          "peak viewers": 586548,
          "viewCount": 62585348
         },
         {
          "avg streams": 975,
          "avg viewers": 62757,
          "commentCount": 45032,
          "favoriteCount": 0,
          "gain streams": 2160,
          "gain viewers": -80962,
          "hours watched": 449625340,
          "likeCount": 1806884,
          "month": "2023-08-01T00:00:00",
          "peak streams": 4556,
          "peak viewers": 505586,
          "viewCount": 46867957
         },
         {
          "avg streams": 1773,
          "avg viewers": 86787,
          "commentCount": 67688,
          "favoriteCount": 0,
          "gain streams": -727,
          "gain viewers": 40863,
          "hours watched": 641661584,
          "likeCount": 3307421,
          "month": "2023-09-01T00:00:00",
          "peak streams": 3829,
          "peak viewers": 546449,
          "viewCount": 86273428
         },
         {
          "avg streams": 1267,
          "avg viewers": 61178,
          "commentCount": 44600,
          "favoriteCount": 0,
          "gain streams": -1367,
          "gain viewers": -162486,
          "hours watched": 438961481,
          "likeCount": 2768560,
          "month": "2023-10-01T00:00:00",
          "peak streams": 2462,
          "peak viewers": 383963,
          "viewCount": 73249793
         },
         {
          "avg streams": 1109,
          "avg viewers": 50150,
          "commentCount": 34830,
          "favoriteCount": 0,
          "gain streams": -129,
          "gain viewers": -81853,
          "hours watched": 370819000,
          "likeCount": 1759134,
          "month": "2023-11-01T00:00:00",
          "peak streams": 2333,
          "peak viewers": 302110,
          "viewCount": 50365113
         },
         {
          "avg streams": 1261,
          "avg viewers": 71072,
          "commentCount": 27880,
          "favoriteCount": 0,
          "gain streams": 170,
          "gain viewers": 3711,
          "hours watched": 515967301,
          "likeCount": 1335738,
          "month": "2023-12-01T00:00:00",
          "peak streams": 2503,
          "peak viewers": 305821,
          "viewCount": 36552514
         },
         {
          "avg streams": 1371,
          "avg viewers": 95200,
          "commentCount": 22108,
          "favoriteCount": 0,
          "gain streams": 639,
          "gain viewers": 392228,
          "hours watched": 661793416,
          "likeCount": 2461726,
          "month": "2024-01-01T00:00:00",
          "peak streams": 3142,
          "peak viewers": 698049,
          "viewCount": 58688688
         },
         {
          "avg streams": 1370,
          "avg viewers": 122486,
          "commentCount": 56010,
          "favoriteCount": 0,
          "gain streams": -342,
          "gain viewers": 855701,
          "hours watched": 908142000,
          "likeCount": 3722426,
          "month": "2024-02-01T00:00:00",
          "peak streams": 2800,
          "peak viewers": 1553750,
          "viewCount": 85435032
         },
         {
          "avg streams": 1291,
          "avg viewers": 76746,
          "commentCount": 31533,
          "favoriteCount": 0,
          "gain streams": -158,
          "gain viewers": -1276742,
          "hours watched": 549666687,
          "likeCount": 3031818,
          "month": "2024-03-01T00:00:00",
          "peak streams": 2642,
          "peak viewers": 277008,
          "viewCount": 72571954
         },
         {
          "avg streams": 1167,
          "avg viewers": 75568,
          "commentCount": 37579,
          "favoriteCount": 0,
          "gain streams": -206,
          "gain viewers": 40530,
          "hours watched": 561792000,
          "likeCount": 3022190,
          "month": "2024-04-01T00:00:00",
          "peak streams": 2436,
          "peak viewers": 317538,
          "viewCount": 81300471
         },
         {
          "avg streams": 1072,
          "avg viewers": 61497,
          "commentCount": 63958,
          "favoriteCount": 0,
          "gain streams": -421,
          "gain viewers": 293415,
          "hours watched": 439333734,
          "likeCount": 6973932,
          "month": "2024-05-01T00:00:00",
          "peak streams": 2015,
          "peak viewers": 610953,
          "viewCount": 168644932
         },
         {
          "avg streams": 1065,
          "avg viewers": 55901,
          "commentCount": 42169,
          "favoriteCount": 0,
          "gain streams": 30,
          "gain viewers": 19492,
          "hours watched": 414134000,
          "likeCount": 4113237,
          "month": "2024-06-01T00:00:00",
          "peak streams": 2045,
          "peak viewers": 630445,
          "viewCount": 99808834
         },
         {
          "avg streams": 1166,
          "avg viewers": 83456,
          "commentCount": 36570,
          "favoriteCount": 0,
          "gain streams": 152,
          "gain viewers": 89551,
          "hours watched": 609697000,
          "likeCount": 3032979,
          "month": "2024-07-01T00:00:00",
          "peak streams": 2197,
          "peak viewers": 719996,
          "viewCount": 68499861
         },
         {
          "avg streams": 1156,
          "avg viewers": 78604,
          "commentCount": 31342,
          "favoriteCount": 0,
          "gain streams": 55,
          "gain viewers": -93094,
          "hours watched": 559775177,
          "likeCount": 2757785,
          "month": "2024-08-01T00:00:00",
          "peak streams": 2252,
          "peak viewers": 626902,
          "viewCount": 82760390
         },
         {
          "avg streams": 1230,
          "avg viewers": 63932,
          "commentCount": 32882,
          "favoriteCount": 0,
          "gain streams": 276,
          "gain viewers": -194055,
          "hours watched": 467633319,
          "likeCount": 3963476,
          "month": "2024-09-01T00:00:00",
          "peak streams": 2528,
          "peak viewers": 432847,
          "viewCount": 116934221
         },
         {
          "avg streams": 1254,
          "avg viewers": 67250,
          "commentCount": 23158,
          "favoriteCount": 0,
          "gain streams": -61,
          "gain viewers": 5768,
          "hours watched": 482863640,
          "likeCount": 3488309,
          "month": "2024-10-01T00:00:00",
          "peak streams": 2467,
          "peak viewers": 438615,
          "viewCount": 108948505
         },
         {
          "avg streams": 1296,
          "avg viewers": 73597,
          "commentCount": 78044,
          "favoriteCount": 0,
          "gain streams": 46,
          "gain viewers": 512501,
          "hours watched": 547003000,
          "likeCount": 4772002,
          "month": "2024-11-01T00:00:00",
          "peak streams": 2513,
          "peak viewers": 951116,
          "viewCount": 135479873
         },
         {
          "avg streams": 1714,
          "avg viewers": 80586,
          "commentCount": 48156,
          "favoriteCount": 0,
          "gain streams": 1157,
          "gain viewers": -425178,
          "hours watched": 595945000,
          "likeCount": 4936534,
          "month": "2024-12-01T00:00:00",
          "peak streams": 3670,
          "peak viewers": 525938,
          "viewCount": 111823144
         },
         {
          "avg streams": 1877,
          "avg viewers": 103137,
          "commentCount": 35213,
          "favoriteCount": 0,
          "gain streams": 46,
          "gain viewers": 426992,
          "hours watched": 689849646,
          "likeCount": 4309761,
          "month": "2025-01-01T00:00:00",
          "peak streams": 3716,
          "peak viewers": 952930,
          "viewCount": 107546194
         },
         {
          "avg streams": 1769,
          "avg viewers": 107709,
          "commentCount": 30939,
          "favoriteCount": 0,
          "gain streams": 70,
          "gain viewers": -320940,
          "hours watched": 797808149,
          "likeCount": 3172351,
          "month": "2025-02-01T00:00:00",
          "peak streams": 3786,
          "peak viewers": 631990,
          "viewCount": 98131565
         },
         {
          "avg streams": 1681,
          "avg viewers": 87188,
          "commentCount": 50417,
          "favoriteCount": 0,
          "gain streams": -262,
          "gain viewers": 195736,
          "hours watched": 627951317,
          "likeCount": 1699037,
          "month": "2025-03-01T00:00:00",
          "peak streams": 3524,
          "peak viewers": 827726,
          "viewCount": 119838350
         },
         {
          "avg streams": 1601,
          "avg viewers": 99822,
          "commentCount": 29593,
          "favoriteCount": 0,
          "gain streams": -252,
          "gain viewers": -105695,
          "hours watched": 741902172,
          "likeCount": 4107190,
          "month": "2025-04-01T00:00:00",
          "peak streams": 3272,
          "peak viewers": 722031,
          "viewCount": 182055498
         },
         {
          "avg streams": 1481,
          "avg viewers": 117782,
          "commentCount": 46085,
          "favoriteCount": 0,
          "gain streams": -219,
          "gain viewers": 424796,
          "hours watched": 848466647,
          "likeCount": 3927790,
          "month": "2025-05-01T00:00:00",
          "peak streams": 3053,
          "peak viewers": 1146827,
          "viewCount": 171480378
         },
         {
          "avg streams": 1519,
          "avg viewers": 86343,
          "commentCount": 45564,
          "favoriteCount": 0,
          "gain streams": -55,
          "gain viewers": -590801,
          "hours watched": 642565317,
          "likeCount": 2346074,
          "month": "2025-06-01T00:00:00",
          "peak streams": 2998,
          "peak viewers": 556026,
          "viewCount": 107472429
         },
         {
          "avg streams": 1558,
          "avg viewers": 91794,
          "commentCount": 26922,
          "favoriteCount": 0,
          "gain streams": 46,
          "gain viewers": 178269,
          "hours watched": 682532909,
          "likeCount": 3285774,
          "month": "2025-07-01T00:00:00",
          "peak streams": 3044,
          "peak viewers": 734295,
          "viewCount": 159199830
         },
         {
          "avg streams": 1447,
          "avg viewers": 64286,
          "commentCount": 18508,
          "favoriteCount": 0,
          "gain streams": -92,
          "gain viewers": -289081,
          "hours watched": 154211193,
          "likeCount": 2352643,
          "month": "2025-08-01T00:00:00",
          "peak streams": 2952,
          "peak viewers": 445214,
          "viewCount": 108662434
         },
         {
          "avg streams": null,
          "avg viewers": null,
          "commentCount": 10305,
          "favoriteCount": 0,
          "gain streams": null,
          "gain viewers": null,
          "hours watched": null,
          "likeCount": 865947,
          "month": "2025-09-01T00:00:00",
          "peak streams": null,
          "peak viewers": null,
          "viewCount": 32657495
         }
        ]
       },
       "height": 450,
       "layer": [
        {
         "encoding": {
          "tooltip": [
           {
            "field": "month",
            "type": "temporal"
           },
           {
            "field": "viewCount",
            "type": "quantitative"
           }
          ],
          "x": {
           "field": "month",
           "type": "temporal"
          },
          "y": {
           "axis": {
            "titleColor": "red"
           },
           "field": "viewCount",
           "title": "Youtube",
           "type": "quantitative"
          }
         },
         "mark": {
          "color": "red",
          "type": "line"
         }
        },
        {
         "encoding": {
          "tooltip": [
           {
            "field": "month",
            "type": "temporal"
           },
           {
            "field": "peak viewers",
            "type": "quantitative"
           }
          ],
          "x": {
           "field": "month",
           "title": "Month",
           "type": "temporal"
          },
          "y": {
           "axis": {
            "titleColor": "purple"
           },
           "field": "peak viewers",
           "title": "Twitch",
           "type": "quantitative"
          }
         },
         "mark": {
          "color": "purple",
          "type": "line"
         }
        }
       ],
       "resolve": {
        "scale": {
         "y": "independent"
        }
       },
       "title": "Counter-Strike Viewership Over Time",
       "usermeta": {
        "embedOptions": {
         "theme": "fivethirtyeight"
        }
       },
       "width": 950
      },
      "text/plain": [
       "<VegaLite 5 object>\n",
       "\n",
       "If you see this message, it means the renderer has not been properly enabled\n",
       "for the frontend that you are using. For more information, see\n",
       "https://altair-viz.github.io/user_guide/display_frontends.html#troubleshooting\n"
      ]
     },
     "execution_count": 5,
     "metadata": {},
     "output_type": "execute_result"
    }
   ],
   "source": [
    "# First line: views (left y-axis)\n",
    "twitch_line = alt.Chart(merged_youtube_twitch).mark_line(color=\"purple\").encode(\n",
    "    x=alt.X(\"month:T\", title=\"Month\"),\n",
    "    y=alt.Y(\"peak viewers:Q\", title=\"Twitch\", axis=alt.Axis(titleColor=\"purple\")),\n",
    "    tooltip=[\"month\", \"peak viewers\"]\n",
    ")\n",
    "\n",
    "# Second line: likes (right y-axis)\n",
    "youtube_line = alt.Chart(merged_youtube_twitch).mark_line(color=\"red\").encode(\n",
    "    x=\"month:T\",\n",
    "    y=alt.Y(\"viewCount:Q\", title=\"Youtube\", axis=alt.Axis(titleColor=\"red\")),\n",
    "    tooltip=[\"month\", \"viewCount\"],\n",
    ")\n",
    "\n",
    "# Layer the two charts\n",
    "chart = alt.layer(youtube_line, twitch_line).resolve_scale(\n",
    "    y=\"independent\"  # independent y-axes so they can differ\n",
    ").properties(width=950, height=450, title=\"Counter-Strike Viewership Over Time\")\n",
    "\n",
    "chart"
   ]
  },
  {
   "cell_type": "code",
   "execution_count": 20,
   "id": "e31086b7",
   "metadata": {},
   "outputs": [
    {
     "data": {
      "application/vnd.vegalite.v5+json": {
       "$schema": "https://vega.github.io/schema/vega-lite/v5.20.1.json",
       "config": {
        "title": {
         "anchor": "middle"
        },
        "view": {
         "continuousHeight": 300,
         "continuousWidth": 300
        }
       },
       "datasets": {
        "data-53ca6988f35aa42ae41f624065fdb9f0": [
         {
          "x": 194122,
          "y": 958776.1429305014
         },
         {
          "x": 1950442,
          "y": 1457426.4408714587
         }
        ],
        "data-5ae5b227b58466ff801b606f8ab4a40e": [
         {
          "cs": 158107,
          "month": "2009-10-01T00:00:00",
          "pred_cs": 2200575.088053524,
          "resid_cs": -2042468.088053524,
          "youtube": 200082263
         },
         {
          "cs": 1898525,
          "month": "2025-04-01T00:00:00",
          "pred_cs": 2039958.016913051,
          "resid_cs": -141433.01691305102,
          "youtube": 182055498
         },
         {
          "cs": 1752347,
          "month": "2025-05-01T00:00:00",
          "pred_cs": 1945734.521939935,
          "resid_cs": -193387.52193993493,
          "youtube": 171480378
         },
         {
          "cs": 1661558,
          "month": "2024-05-01T00:00:00",
          "pred_cs": 1920470.9190751407,
          "resid_cs": -258912.91907514073,
          "youtube": 168644932
         },
         {
          "cs": 1506027,
          "month": "2025-07-01T00:00:00",
          "pred_cs": 1836315.7964082048,
          "resid_cs": -330288.7964082048,
          "youtube": 159199830
         },
         {
          "cs": 1593726,
          "month": "2024-11-01T00:00:00",
          "pred_cs": 1624972.8282762095,
          "resid_cs": -31246.828276209533,
          "youtube": 135479873
         },
         {
          "cs": 1536102,
          "month": "2023-04-01T00:00:00",
          "pred_cs": 1562709.891975779,
          "resid_cs": -26607.891975779086,
          "youtube": 128491828
         },
         {
          "cs": 1864428,
          "month": "2025-03-01T00:00:00",
          "pred_cs": 1485608.0774495164,
          "resid_cs": 378819.9225504836,
          "youtube": 119838350
         },
         {
          "cs": 1542231,
          "month": "2023-03-01T00:00:00",
          "pred_cs": 1475373.383628246,
          "resid_cs": 66857.61637175409,
          "youtube": 118689665
         },
         {
          "cs": 1515033,
          "month": "2024-09-01T00:00:00",
          "pred_cs": 1459732.5144078885,
          "resid_cs": 55300.48559211148,
          "youtube": 116934221
         },
         {
          "cs": 1777329,
          "month": "2024-12-01T00:00:00",
          "pred_cs": 1414193.2166962116,
          "resid_cs": 363135.7833037884,
          "youtube": 111823144
         },
         {
          "cs": 1529352,
          "month": "2024-10-01T00:00:00",
          "pred_cs": 1388580.4072561273,
          "resid_cs": 140771.59274387266,
          "youtube": 108948505
         },
         {
          "cs": 1581554,
          "month": "2025-08-01T00:00:00",
          "pred_cs": 1386031.536942556,
          "resid_cs": 195522.46305744397,
          "youtube": 108662434
         },
         {
          "cs": 1643797,
          "month": "2025-01-01T00:00:00",
          "pred_cs": 1376085.925542516,
          "resid_cs": 267711.07445748406,
          "youtube": 107546194
         },
         {
          "cs": 1766572,
          "month": "2025-06-01T00:00:00",
          "pred_cs": 1375428.6851417744,
          "resid_cs": 391143.31485822564,
          "youtube": 107472429
         },
         {
          "cs": 1558198,
          "month": "2024-06-01T00:00:00",
          "pred_cs": 1307146.6509938405,
          "resid_cs": 251051.34900615946,
          "youtube": 99808834
         },
         {
          "cs": 1827625,
          "month": "2025-02-01T00:00:00",
          "pred_cs": 1292202.3149305086,
          "resid_cs": 535422.6850694914,
          "youtube": 98131565
         },
         {
          "cs": 1837896,
          "month": "2023-05-01T00:00:00",
          "pred_cs": 1260421.1753583415,
          "resid_cs": 577474.8246416585,
          "youtube": 94564627
         },
         {
          "cs": 1580157,
          "month": "2023-09-01T00:00:00",
          "pred_cs": 1186547.238485984,
          "resid_cs": 393609.76151401596,
          "youtube": 86273428
         },
         {
          "cs": 1431938,
          "month": "2024-02-01T00:00:00",
          "pred_cs": 1179077.1954707294,
          "resid_cs": 252860.80452927062,
          "youtube": 85435032
         },
         {
          "cs": 1461132,
          "month": "2024-08-01T00:00:00",
          "pred_cs": 1155246.3437128405,
          "resid_cs": 305885.65628715954,
          "youtube": 82760390
         },
         {
          "cs": 1647977,
          "month": "2024-04-01T00:00:00",
          "pred_cs": 1142238.5792092078,
          "resid_cs": 505738.4207907922,
          "youtube": 81300471
         },
         {
          "cs": 1412825,
          "month": "2023-10-01T00:00:00",
          "pred_cs": 1070507.6657005975,
          "resid_cs": 342317.33429940254,
          "youtube": 73249793
         },
         {
          "cs": 1555064,
          "month": "2024-03-01T00:00:00",
          "pred_cs": 1064468.1730414992,
          "resid_cs": 490595.8269585008,
          "youtube": 72571954
         },
         {
          "cs": 1385446,
          "month": "2024-07-01T00:00:00",
          "pred_cs": 1028186.1417912098,
          "resid_cs": 357259.8582087902,
          "youtube": 68499861
         },
         {
          "cs": 1378327,
          "month": "2023-02-01T00:00:00",
          "pred_cs": 982799.4888642617,
          "resid_cs": 395527.51113573834,
          "youtube": 63405916
         },
         {
          "cs": 1224207,
          "month": "2023-01-01T00:00:00",
          "pred_cs": 982246.1559745814,
          "resid_cs": 241960.84402541863,
          "youtube": 63343813
         },
         {
          "cs": 1245840,
          "month": "2023-07-01T00:00:00",
          "pred_cs": 975488.2919394891,
          "resid_cs": 270351.7080605109,
          "youtube": 62585348
         },
         {
          "cs": 1334752,
          "month": "2024-01-01T00:00:00",
          "pred_cs": 940769.3550459179,
          "resid_cs": 393982.6449540821,
          "youtube": 58688688
         },
         {
          "cs": 631402,
          "month": "2016-08-01T00:00:00",
          "pred_cs": 927416.3132426236,
          "resid_cs": -296014.3132426236,
          "youtube": 57190017
         },
         {
          "cs": 449409,
          "month": "2018-06-01T00:00:00",
          "pred_cs": 912480.1119381322,
          "resid_cs": -463071.1119381322,
          "youtube": 55513661
         },
         {
          "cs": 745425,
          "month": "2019-09-01T00:00:00",
          "pred_cs": 886690.458365005,
          "resid_cs": -141265.45836500498,
          "youtube": 52619174
         },
         {
          "cs": 556019,
          "month": "2018-04-01T00:00:00",
          "pred_cs": 885896.0586240746,
          "resid_cs": -329877.05862407456,
          "youtube": 52530015
         },
         {
          "cs": 1269874,
          "month": "2020-03-01T00:00:00",
          "pred_cs": 884259.7247080246,
          "resid_cs": 385614.27529197535,
          "youtube": 52346362
         },
         {
          "cs": 615659,
          "month": "2015-04-01T00:00:00",
          "pred_cs": 883627.2182509209,
          "resid_cs": -267968.2182509209,
          "youtube": 52275373
         },
         {
          "cs": 1184525,
          "month": "2023-11-01T00:00:00",
          "pred_cs": 866606.9505369522,
          "resid_cs": 317918.04946304776,
          "youtube": 50365113
         },
         {
          "cs": 789463,
          "month": "2019-11-01T00:00:00",
          "pred_cs": 850482.6556753957,
          "resid_cs": -61019.65567539574,
          "youtube": 48555412
         },
         {
          "cs": 481392,
          "month": "2018-05-01T00:00:00",
          "pred_cs": 850223.3056640788,
          "resid_cs": -368831.3056640788,
          "youtube": 48526304
         },
         {
          "cs": 1557039,
          "month": "2023-08-01T00:00:00",
          "pred_cs": 835447.5631459625,
          "resid_cs": 721591.4368540375,
          "youtube": 46867957
         },
         {
          "cs": 1692482,
          "month": "2023-06-01T00:00:00",
          "pred_cs": 833216.3137339794,
          "resid_cs": 859265.6862660206,
          "youtube": 46617534
         },
         {
          "cs": 664428,
          "month": "2016-11-01T00:00:00",
          "pred_cs": 811601.5021511177,
          "resid_cs": -147173.50215111766,
          "youtube": 44191608
         },
         {
          "cs": 576288,
          "month": "2018-11-01T00:00:00",
          "pred_cs": 808077.3695887239,
          "resid_cs": -231789.36958872387,
          "youtube": 43796079
         },
         {
          "cs": 680892,
          "month": "2019-08-01T00:00:00",
          "pred_cs": 802207.308007515,
          "resid_cs": -121315.30800751504,
          "youtube": 43137256
         },
         {
          "cs": 167261,
          "month": "2011-03-01T00:00:00",
          "pred_cs": 775483.6807643905,
          "resid_cs": -608222.6807643905,
          "youtube": 40137945
         },
         {
          "cs": 616941,
          "month": "2019-05-01T00:00:00",
          "pred_cs": 772392.516954571,
          "resid_cs": -155451.516954571,
          "youtube": 39791010
         },
         {
          "cs": 1156226,
          "month": "2022-11-01T00:00:00",
          "pred_cs": 765789.2133374503,
          "resid_cs": 390436.7866625497,
          "youtube": 39049892
         },
         {
          "cs": 858017,
          "month": "2017-01-01T00:00:00",
          "pred_cs": 761321.1190824301,
          "resid_cs": 96695.88091756986,
          "youtube": 38548418
         },
         {
          "cs": 404894,
          "month": "2007-09-01T00:00:00",
          "pred_cs": 748809.1026422052,
          "resid_cs": -343915.1026422052,
          "youtube": 37144139
         },
         {
          "cs": 1276429,
          "month": "2023-12-01T00:00:00",
          "pred_cs": 743537.7700035714,
          "resid_cs": 532891.2299964286,
          "youtube": 36552514
         },
         {
          "cs": 159370,
          "month": "2012-08-01T00:00:00",
          "pred_cs": 738321.322484826,
          "resid_cs": -578951.322484826,
          "youtube": 35967049
         },
         {
          "cs": 733679,
          "month": "2015-11-01T00:00:00",
          "pred_cs": 728212.0803661575,
          "resid_cs": 5466.919633842539,
          "youtube": 34832444
         },
         {
          "cs": 626044,
          "month": "2017-08-01T00:00:00",
          "pred_cs": 728172.1550054075,
          "resid_cs": -102128.15500540752,
          "youtube": 34827963
         },
         {
          "cs": 857320,
          "month": "2015-08-01T00:00:00",
          "pred_cs": 719356.9097774071,
          "resid_cs": 137963.09022259293,
          "youtube": 33838589
         },
         {
          "cs": 785343,
          "month": "2017-02-01T00:00:00",
          "pred_cs": 718785.5521153999,
          "resid_cs": 66557.44788460014,
          "youtube": 33774463
         },
         {
          "cs": 123425,
          "month": "2011-07-01T00:00:00",
          "pred_cs": 715563.0204147305,
          "resid_cs": -592138.0204147305,
          "youtube": 33412784
         },
         {
          "cs": 233835,
          "month": "2014-04-01T00:00:00",
          "pred_cs": 700243.2647854086,
          "resid_cs": -466408.2647854086,
          "youtube": 31693380
         },
         {
          "cs": 148816,
          "month": "2010-02-01T00:00:00",
          "pred_cs": 689192.6270316672,
          "resid_cs": -540376.6270316672,
          "youtube": 30453118
         },
         {
          "cs": 160808,
          "month": "2009-08-01T00:00:00",
          "pred_cs": 675029.049618592,
          "resid_cs": -514221.049618592,
          "youtube": 28863477
         },
         {
          "cs": 725151,
          "month": "2015-05-01T00:00:00",
          "pred_cs": 645373.8085399729,
          "resid_cs": 79777.19146002713,
          "youtube": 25535138
         },
         {
          "cs": 702226,
          "month": "2016-12-01T00:00:00",
          "pred_cs": 635418.1021982392,
          "resid_cs": 66807.89780176082,
          "youtube": 24417765
         },
         {
          "cs": 728537,
          "month": "2017-04-01T00:00:00",
          "pred_cs": 632822.169676348,
          "resid_cs": 95714.83032365202,
          "youtube": 24126412
         },
         {
          "cs": 1201522,
          "month": "2020-12-01T00:00:00",
          "pred_cs": 623932.6869777453,
          "resid_cs": 577589.3130222547,
          "youtube": 23128706
         },
         {
          "cs": 954908,
          "month": "2022-05-01T00:00:00",
          "pred_cs": 622522.8343705336,
          "resid_cs": 332385.1656294664,
          "youtube": 22970472
         },
         {
          "cs": 1110627,
          "month": "2022-10-01T00:00:00",
          "pred_cs": 616710.4199850517,
          "resid_cs": 493916.58001494827,
          "youtube": 22318119
         },
         {
          "cs": 233953,
          "month": "2014-03-01T00:00:00",
          "pred_cs": 615759.0185075054,
          "resid_cs": -381806.0185075054,
          "youtube": 22211339
         },
         {
          "cs": 1003755,
          "month": "2020-09-01T00:00:00",
          "pred_cs": 610923.8711033094,
          "resid_cs": 392831.12889669056,
          "youtube": 21668669
         },
         {
          "cs": 602806,
          "month": "2019-07-01T00:00:00",
          "pred_cs": 607173.791827401,
          "resid_cs": -4367.79182740103,
          "youtube": 21247781
         },
         {
          "cs": 1060765,
          "month": "2022-08-01T00:00:00",
          "pred_cs": 606924.3674692587,
          "resid_cs": 453840.6325307413,
          "youtube": 21219787
         },
         {
          "cs": 614513,
          "month": "2019-06-01T00:00:00",
          "pred_cs": 603023.6748708513,
          "resid_cs": 11489.325129148667,
          "youtube": 20781995
         },
         {
          "cs": 850328,
          "month": "2020-01-01T00:00:00",
          "pred_cs": 600925.0229189621,
          "resid_cs": 249402.97708103794,
          "youtube": 20546454
         },
         {
          "cs": 758776,
          "month": "2018-01-01T00:00:00",
          "pred_cs": 598087.1147337706,
          "resid_cs": 160688.8852662294,
          "youtube": 20227943
         },
         {
          "cs": 618109,
          "month": "2015-03-01T00:00:00",
          "pred_cs": 593241.6318199853,
          "resid_cs": 24867.36818001466,
          "youtube": 19684113
         },
         {
          "cs": 594113,
          "month": "2018-10-01T00:00:00",
          "pred_cs": 592779.2425047695,
          "resid_cs": 1333.7574952305295,
          "youtube": 19632217
         },
         {
          "cs": 139991,
          "month": "2012-04-01T00:00:00",
          "pred_cs": 589547.6137736771,
          "resid_cs": -449556.61377367715,
          "youtube": 19269517
         },
         {
          "cs": 955869,
          "month": "2020-08-01T00:00:00",
          "pred_cs": 585242.2859748456,
          "resid_cs": 370626.71402515436,
          "youtube": 18786311
         },
         {
          "cs": 1220085,
          "month": "2020-05-01T00:00:00",
          "pred_cs": 581467.0896286506,
          "resid_cs": 638617.9103713494,
          "youtube": 18362604
         },
         {
          "cs": 148362,
          "month": "2012-12-01T00:00:00",
          "pred_cs": 578773.1390541794,
          "resid_cs": -430411.1390541794,
          "youtube": 18060250
         },
         {
          "cs": 1026057,
          "month": "2022-02-01T00:00:00",
          "pred_cs": 577309.2923192853,
          "resid_cs": 448747.70768071467,
          "youtube": 17895956
         },
         {
          "cs": 404729,
          "month": "2014-10-01T00:00:00",
          "pred_cs": 576321.5918192674,
          "resid_cs": -171592.59181926737,
          "youtube": 17785102
         },
         {
          "cs": 231570,
          "month": "2007-01-01T00:00:00",
          "pred_cs": 574069.3328110671,
          "resid_cs": -342499.3328110671,
          "youtube": 17532321
         },
         {
          "cs": 697025,
          "month": "2016-10-01T00:00:00",
          "pred_cs": 573132.6772545298,
          "resid_cs": 123892.32274547021,
          "youtube": 17427196
         },
         {
          "cs": 149702,
          "month": "2012-03-01T00:00:00",
          "pred_cs": 572249.8108974675,
          "resid_cs": -422547.81089746754,
          "youtube": 17328108
         },
         {
          "cs": 314963,
          "month": "2014-09-01T00:00:00",
          "pred_cs": 571013.9156085516,
          "resid_cs": -256050.9156085516,
          "youtube": 17189398
         },
         {
          "cs": 481746,
          "month": "2018-08-01T00:00:00",
          "pred_cs": 570291.588227163,
          "resid_cs": -88545.58822716295,
          "youtube": 17108328
         },
         {
          "cs": 156446,
          "month": "2010-10-01T00:00:00",
          "pred_cs": 569474.1206980196,
          "resid_cs": -413028.12069801963,
          "youtube": 17016580
         },
         {
          "cs": 714744,
          "month": "2016-01-01T00:00:00",
          "pred_cs": 568854.8989347072,
          "resid_cs": 145889.10106529284,
          "youtube": 16947082
         },
         {
          "cs": 673484,
          "month": "2016-05-01T00:00:00",
          "pred_cs": 566990.5244734585,
          "resid_cs": 106493.47552654147,
          "youtube": 16737835
         },
         {
          "cs": 959235,
          "month": "2020-02-01T00:00:00",
          "pred_cs": 565152.1580747025,
          "resid_cs": 394082.8419252975,
          "youtube": 16531507
         },
         {
          "cs": 328267,
          "month": "2014-08-01T00:00:00",
          "pred_cs": 565072.387542501,
          "resid_cs": -236805.38754250098,
          "youtube": 16522554
         },
         {
          "cs": 638295,
          "month": "2017-11-01T00:00:00",
          "pred_cs": 564631.6136982023,
          "resid_cs": 73663.3863017977,
          "youtube": 16473084
         },
         {
          "cs": 1354060,
          "month": "2020-04-01T00:00:00",
          "pred_cs": 563108.5070716884,
          "resid_cs": 790951.4929283116,
          "youtube": 16302139
         },
         {
          "cs": 135840,
          "month": "2011-10-01T00:00:00",
          "pred_cs": 561926.6593699872,
          "resid_cs": -426086.6593699872,
          "youtube": 16169495
         },
         {
          "cs": 128818,
          "month": "2013-03-01T00:00:00",
          "pred_cs": 559050.6078084577,
          "resid_cs": -430232.6078084577,
          "youtube": 15846703
         },
         {
          "cs": 711735,
          "month": "2019-03-01T00:00:00",
          "pred_cs": 558822.0059381693,
          "resid_cs": 152912.9940618307,
          "youtube": 15821046
         },
         {
          "cs": 674835,
          "month": "2017-10-01T00:00:00",
          "pred_cs": 557539.8681537629,
          "resid_cs": 117295.13184623711,
          "youtube": 15677146
         },
         {
          "cs": 798764,
          "month": "2019-12-01T00:00:00",
          "pred_cs": 552108.825162207,
          "resid_cs": 246655.174837793,
          "youtube": 15067596
         },
         {
          "cs": 651662,
          "month": "2015-06-01T00:00:00",
          "pred_cs": 548857.7638911022,
          "resid_cs": 102804.23610889784,
          "youtube": 14702715
         },
         {
          "cs": 155818,
          "month": "2012-10-01T00:00:00",
          "pred_cs": 547457.4003508843,
          "resid_cs": -391639.4003508843,
          "youtube": 14545546
         },
         {
          "cs": 729279,
          "month": "2017-05-01T00:00:00",
          "pred_cs": 547237.5480240585,
          "resid_cs": 182041.45197594154,
          "youtube": 14520871
         },
         {
          "cs": 125173,
          "month": "2009-07-01T00:00:00",
          "pred_cs": 546428.4380018073,
          "resid_cs": -421255.4380018073,
          "youtube": 14430061
         },
         {
          "cs": 233847,
          "month": "2014-05-01T00:00:00",
          "pred_cs": 544733.3787894612,
          "resid_cs": -310886.3787894612,
          "youtube": 14239817
         },
         {
          "cs": 140514,
          "month": "2011-12-01T00:00:00",
          "pred_cs": 542328.278978247,
          "resid_cs": -401814.27897824696,
          "youtube": 13969882
         },
         {
          "cs": 785773,
          "month": "2016-02-01T00:00:00",
          "pred_cs": 540125.8086145169,
          "resid_cs": 245647.19138548314,
          "youtube": 13722689
         },
         {
          "cs": 251282,
          "month": "2014-06-01T00:00:00",
          "pred_cs": 534937.2491518187,
          "resid_cs": -283655.2491518187,
          "youtube": 13140354
         },
         {
          "cs": 131653,
          "month": "2011-08-01T00:00:00",
          "pred_cs": 531999.4874701028,
          "resid_cs": -400346.48747010285,
          "youtube": 12810636
         },
         {
          "cs": 826148,
          "month": "2015-10-01T00:00:00",
          "pred_cs": 530195.8341276918,
          "resid_cs": 295952.1658723082,
          "youtube": 12608204
         },
         {
          "cs": 120396,
          "month": "2012-06-01T00:00:00",
          "pred_cs": 527101.3647367882,
          "resid_cs": -406705.3647367882,
          "youtube": 12260898
         },
         {
          "cs": 125199,
          "month": "2013-05-01T00:00:00",
          "pred_cs": 524669.7222677578,
          "resid_cs": -399470.72226775775,
          "youtube": 11987984
         },
         {
          "cs": 202520,
          "month": "2014-01-01T00:00:00",
          "pred_cs": 524508.86253489,
          "resid_cs": -321988.86253488995,
          "youtube": 11969930
         },
         {
          "cs": 671478,
          "month": "2016-09-01T00:00:00",
          "pred_cs": 523539.33827587403,
          "resid_cs": 147938.66172412597,
          "youtube": 11861116
         },
         {
          "cs": 763829,
          "month": "2015-09-01T00:00:00",
          "pred_cs": 523163.5712229237,
          "resid_cs": 240665.4287770763,
          "youtube": 11818942
         },
         {
          "cs": 928566,
          "month": "2022-06-01T00:00:00",
          "pred_cs": 522778.84969830327,
          "resid_cs": 405787.15030169673,
          "youtube": 11775763
         },
         {
          "cs": 776751,
          "month": "2019-10-01T00:00:00",
          "pred_cs": 522143.0911196477,
          "resid_cs": 254607.90888035228,
          "youtube": 11704409
         },
         {
          "cs": 1158553,
          "month": "2021-01-01T00:00:00",
          "pred_cs": 520881.6332643422,
          "resid_cs": 637671.3667356578,
          "youtube": 11562830
         },
         {
          "cs": 845234,
          "month": "2016-03-01T00:00:00",
          "pred_cs": 519704.3563526577,
          "resid_cs": 325529.6436473423,
          "youtube": 11430699
         },
         {
          "cs": 115364,
          "month": "2009-04-01T00:00:00",
          "pred_cs": 518567.1919100865,
          "resid_cs": -403203.1919100865,
          "youtube": 11303070
         },
         {
          "cs": 584839,
          "month": "2015-07-01T00:00:00",
          "pred_cs": 518198.49933525163,
          "resid_cs": 66640.50066474837,
          "youtube": 11261690
         },
         {
          "cs": 974624,
          "month": "2021-12-01T00:00:00",
          "pred_cs": 515689.0019672626,
          "resid_cs": 458934.9980327374,
          "youtube": 10980038
         },
         {
          "cs": 206618,
          "month": "2005-12-01T00:00:00",
          "pred_cs": 514065.5161588229,
          "resid_cs": -307447.5161588229,
          "youtube": 10797827
         },
         {
          "cs": 137798,
          "month": "2006-11-01T00:00:00",
          "pred_cs": 513859.2603730605,
          "resid_cs": -376061.2603730605,
          "youtube": 10774678
         },
         {
          "cs": 613756,
          "month": "2016-06-01T00:00:00",
          "pred_cs": 512094.52557020664,
          "resid_cs": 101661.47442979336,
          "youtube": 10576614
         },
         {
          "cs": 1182193,
          "month": "2021-04-01T00:00:00",
          "pred_cs": 510792.73249773635,
          "resid_cs": 671400.2675022637,
          "youtube": 10430508
         },
         {
          "cs": 150030,
          "month": "2012-02-01T00:00:00",
          "pred_cs": 510045.77809177444,
          "resid_cs": -360015.77809177444,
          "youtube": 10346674
         },
         {
          "cs": 159255,
          "month": "2012-07-01T00:00:00",
          "pred_cs": 508125.7611672623,
          "resid_cs": -348870.7611672623,
          "youtube": 10131182
         },
         {
          "cs": 1124191,
          "month": "2022-09-01T00:00:00",
          "pred_cs": 508001.8419712545,
          "resid_cs": 616189.1580287456,
          "youtube": 10117274
         },
         {
          "cs": 950395,
          "month": "2022-07-01T00:00:00",
          "pred_cs": 507248.2674932021,
          "resid_cs": 443146.7325067979,
          "youtube": 10032697
         },
         {
          "cs": 283288,
          "month": "2007-02-01T00:00:00",
          "pred_cs": 505062.8774500607,
          "resid_cs": -221774.87745006068,
          "youtube": 9787421
         },
         {
          "cs": 176642,
          "month": "2010-03-01T00:00:00",
          "pred_cs": 504130.74813392974,
          "resid_cs": -327488.74813392974,
          "youtube": 9682804
         },
         {
          "cs": 159238,
          "month": "2012-11-01T00:00:00",
          "pred_cs": 503396.9893225384,
          "resid_cs": -344158.9893225384,
          "youtube": 9600451
         },
         {
          "cs": 344992,
          "month": "2007-06-01T00:00:00",
          "pred_cs": 502323.0853265918,
          "resid_cs": -157331.0853265918,
          "youtube": 9479922
         },
         {
          "cs": 780831,
          "month": "2017-03-01T00:00:00",
          "pred_cs": 502191.1828404184,
          "resid_cs": 278639.8171595816,
          "youtube": 9465118
         },
         {
          "cs": 887871,
          "month": "2020-07-01T00:00:00",
          "pred_cs": 501809.3214007791,
          "resid_cs": 386061.6785992209,
          "youtube": 9422260
         },
         {
          "cs": 141897,
          "month": "2011-05-01T00:00:00",
          "pred_cs": 500777.1336599166,
          "resid_cs": -358880.1336599166,
          "youtube": 9306413
         },
         {
          "cs": 1019800,
          "month": "2022-01-01T00:00:00",
          "pred_cs": 499383.6574894509,
          "resid_cs": 520416.3425105491,
          "youtube": 9150017
         },
         {
          "cs": 647906,
          "month": "2019-04-01T00:00:00",
          "pred_cs": 498565.97612217814,
          "resid_cs": 149340.02387782186,
          "youtube": 9058245
         },
         {
          "cs": 670361,
          "month": "2017-07-01T00:00:00",
          "pred_cs": 497969.65285855933,
          "resid_cs": 172391.34714144067,
          "youtube": 8991317
         },
         {
          "cs": 183871,
          "month": "2013-12-01T00:00:00",
          "pred_cs": 497794.9292869665,
          "resid_cs": -313923.9292869665,
          "youtube": 8971707
         },
         {
          "cs": 686703,
          "month": "2019-02-01T00:00:00",
          "pred_cs": 497135.5326850863,
          "resid_cs": 189567.4673149137,
          "youtube": 8897700
         },
         {
          "cs": 970788,
          "month": "2021-09-01T00:00:00",
          "pred_cs": 494514.260344857,
          "resid_cs": 476273.739655143,
          "youtube": 8603503
         },
         {
          "cs": 1042536,
          "month": "2022-04-01T00:00:00",
          "pred_cs": 493592.9476741067,
          "resid_cs": 548943.0523258933,
          "youtube": 8500100
         },
         {
          "cs": 142446,
          "month": "2011-06-01T00:00:00",
          "pred_cs": 491557.0393933626,
          "resid_cs": -349111.0393933626,
          "youtube": 8271601
         },
         {
          "cs": 518870,
          "month": "2015-01-01T00:00:00",
          "pred_cs": 490969.3320243756,
          "resid_cs": 27900.667975624383,
          "youtube": 8205640
         },
         {
          "cs": 867769,
          "month": "2015-12-01T00:00:00",
          "pred_cs": 490318.5869568155,
          "resid_cs": 377450.4130431845,
          "youtube": 8132604
         },
         {
          "cs": 1019747,
          "month": "2022-03-01T00:00:00",
          "pred_cs": 489189.2365158907,
          "resid_cs": 530557.7634841093,
          "youtube": 8005852
         },
         {
          "cs": 92452,
          "month": "2009-11-01T00:00:00",
          "pred_cs": 489113.89421495295,
          "resid_cs": -396661.89421495295,
          "youtube": 7997396
         },
         {
          "cs": 138531,
          "month": "2013-04-01T00:00:00",
          "pred_cs": 488757.39041349594,
          "resid_cs": -350226.39041349594,
          "youtube": 7957384
         },
         {
          "cs": 126234,
          "month": "2012-05-01T00:00:00",
          "pred_cs": 488547.3568207801,
          "resid_cs": -362313.3568207801,
          "youtube": 7933811
         },
         {
          "cs": 720255,
          "month": "2019-01-01T00:00:00",
          "pred_cs": 487336.765710514,
          "resid_cs": 232918.23428948602,
          "youtube": 7797941
         },
         {
          "cs": 171672,
          "month": "2013-11-01T00:00:00",
          "pred_cs": 486960.06311574735,
          "resid_cs": -315288.06311574735,
          "youtube": 7755662
         },
         {
          "cs": 953085,
          "month": "2021-06-01T00:00:00",
          "pred_cs": 485058.2669818475,
          "resid_cs": 468026.7330181525,
          "youtube": 7542215
         },
         {
          "cs": 140031,
          "month": "2012-09-01T00:00:00",
          "pred_cs": 484967.09174940956,
          "resid_cs": -344936.09174940956,
          "youtube": 7531982
         },
         {
          "cs": 638526,
          "month": "2017-12-01T00:00:00",
          "pred_cs": 483818.65625543264,
          "resid_cs": 154707.34374456736,
          "youtube": 7403088
         },
         {
          "cs": 1114107,
          "month": "2021-05-01T00:00:00",
          "pred_cs": 482964.7916946751,
          "resid_cs": 631142.2083053249,
          "youtube": 7307255
         },
         {
          "cs": 652940,
          "month": "2015-02-01T00:00:00",
          "pred_cs": 480537.7556553496,
          "resid_cs": 172402.24434465042,
          "youtube": 7034858
         },
         {
          "cs": 1156160,
          "month": "2021-02-01T00:00:00",
          "pred_cs": 480015.6164028007,
          "resid_cs": 676144.3835971993,
          "youtube": 6976256
         },
         {
          "cs": 263139,
          "month": "2007-05-01T00:00:00",
          "pred_cs": 479920.34260621516,
          "resid_cs": -216781.34260621516,
          "youtube": 6965563
         },
         {
          "cs": 131514,
          "month": "2011-09-01T00:00:00",
          "pred_cs": 479549.11961351533,
          "resid_cs": -348035.11961351533,
          "youtube": 6923899
         },
         {
          "cs": 429231,
          "month": "2014-11-01T00:00:00",
          "pred_cs": 478170.0686068644,
          "resid_cs": -48939.06860686443,
          "youtube": 6769122
         },
         {
          "cs": 977120,
          "month": "2020-10-01T00:00:00",
          "pred_cs": 478021.2194489333,
          "resid_cs": 499098.7805510667,
          "youtube": 6752416
         },
         {
          "cs": 710912,
          "month": "2018-03-01T00:00:00",
          "pred_cs": 477385.4074107454,
          "resid_cs": 233526.5925892546,
          "youtube": 6681056
         },
         {
          "cs": 130243,
          "month": "2008-12-01T00:00:00",
          "pred_cs": 476949.54293350165,
          "resid_cs": -346706.54293350165,
          "youtube": 6632137
         },
         {
          "cs": 350212,
          "month": "2008-01-01T00:00:00",
          "pred_cs": 476201.9381032294,
          "resid_cs": -125989.93810322939,
          "youtube": 6548230
         },
         {
          "cs": 134295,
          "month": "2010-07-01T00:00:00",
          "pred_cs": 472901.5247738353,
          "resid_cs": -338606.5247738353,
          "youtube": 6177810
         },
         {
          "cs": 183932,
          "month": "2006-12-01T00:00:00",
          "pred_cs": 470259.6526938037,
          "resid_cs": -286327.6526938037,
          "youtube": 5881301
         },
         {
          "cs": 224528,
          "month": "2007-03-01T00:00:00",
          "pred_cs": 469808.748268123,
          "resid_cs": -245280.74826812302,
          "youtube": 5830694
         },
         {
          "cs": 1090343,
          "month": "2022-12-01T00:00:00",
          "pred_cs": 469327.559017361,
          "resid_cs": 621015.440982639,
          "youtube": 5776688
         },
         {
          "cs": 122345,
          "month": "2013-08-01T00:00:00",
          "pred_cs": 468006.6898017607,
          "resid_cs": -345661.6898017607,
          "youtube": 5628441
         },
         {
          "cs": 889459,
          "month": "2016-04-01T00:00:00",
          "pred_cs": 465863.5595189489,
          "resid_cs": 423595.4404810511,
          "youtube": 5387908
         },
         {
          "cs": 506492,
          "month": "2014-12-01T00:00:00",
          "pred_cs": 465010.3453825017,
          "resid_cs": 41481.65461749828,
          "youtube": 5292148
         },
         {
          "cs": 343354,
          "month": "2007-07-01T00:00:00",
          "pred_cs": 464224.73082472227,
          "resid_cs": -120870.73082472227,
          "youtube": 5203975
         },
         {
          "cs": 151931,
          "month": "2010-06-01T00:00:00",
          "pred_cs": 463804.0666745126,
          "resid_cs": -311873.0666745126,
          "youtube": 5156762
         },
         {
          "cs": 205654,
          "month": "2006-08-01T00:00:00",
          "pred_cs": 462747.3320983752,
          "resid_cs": -257093.3320983752,
          "youtube": 5038160
         },
         {
          "cs": 709468,
          "month": "2017-09-01T00:00:00",
          "pred_cs": 462620.6240967627,
          "resid_cs": 246847.37590323732,
          "youtube": 5023939
         },
         {
          "cs": 167567,
          "month": "2008-09-01T00:00:00",
          "pred_cs": 461805.1969397711,
          "resid_cs": -294238.1969397711,
          "youtube": 4932420
         },
         {
          "cs": 239175,
          "month": "2014-02-01T00:00:00",
          "pred_cs": 461016.6242878678,
          "resid_cs": -221841.6242878678,
          "youtube": 4843915
         },
         {
          "cs": 728848,
          "month": "2018-02-01T00:00:00",
          "pred_cs": 460387.59270036744,
          "resid_cs": 268460.40729963256,
          "youtube": 4773316
         },
         {
          "cs": 888099,
          "month": "2021-10-01T00:00:00",
          "pred_cs": 460270.87272138393,
          "resid_cs": 427828.12727861607,
          "youtube": 4760216
         },
         {
          "cs": 146044,
          "month": "2009-05-01T00:00:00",
          "pred_cs": 460203.01475497644,
          "resid_cs": -314159.01475497644,
          "youtube": 4752600
         },
         {
          "cs": 152253,
          "month": "2012-01-01T00:00:00",
          "pred_cs": 459802.31774010276,
          "resid_cs": -307549.31774010276,
          "youtube": 4707628
         },
         {
          "cs": 668393,
          "month": "2016-07-01T00:00:00",
          "pred_cs": 459487.23616630177,
          "resid_cs": 208905.76383369823,
          "youtube": 4672265
         },
         {
          "cs": 307410,
          "month": "2007-08-01T00:00:00",
          "pred_cs": 459371.9150450817,
          "resid_cs": -151961.9150450817,
          "youtube": 4659322
         },
         {
          "cs": 144267,
          "month": "2013-02-01T00:00:00",
          "pred_cs": 457077.0487895914,
          "resid_cs": -312810.0487895914,
          "youtube": 4401759
         },
         {
          "cs": 781335,
          "month": "2018-12-01T00:00:00",
          "pred_cs": 455210.77651494404,
          "resid_cs": 326124.22348505596,
          "youtube": 4192299
         },
         {
          "cs": 151841,
          "month": "2013-01-01T00:00:00",
          "pred_cs": 454345.6854523911,
          "resid_cs": -302504.6854523911,
          "youtube": 4095206
         },
         {
          "cs": 824180,
          "month": "2021-08-01T00:00:00",
          "pred_cs": 454339.43959702714,
          "resid_cs": 369840.56040297286,
          "youtube": 4094505
         },
         {
          "cs": 113772,
          "month": "2008-11-01T00:00:00",
          "pred_cs": 453838.9514550836,
          "resid_cs": -340066.9514550836,
          "youtube": 4038333
         },
         {
          "cs": 116438,
          "month": "2013-07-01T00:00:00",
          "pred_cs": 453305.46987175266,
          "resid_cs": -336867.46987175266,
          "youtube": 3978458
         },
         {
          "cs": 165713,
          "month": "2010-12-01T00:00:00",
          "pred_cs": 452007.1694887298,
          "resid_cs": -286294.1694887298,
          "youtube": 3832744
         },
         {
          "cs": 644596,
          "month": "2017-06-01T00:00:00",
          "pred_cs": 451693.05018651125,
          "resid_cs": 192902.94981348875,
          "youtube": 3797489
         },
         {
          "cs": 163613,
          "month": "2010-11-01T00:00:00",
          "pred_cs": 450730.3420178711,
          "resid_cs": -287117.3420178711,
          "youtube": 3689440
         },
         {
          "cs": 160755,
          "month": "2009-12-01T00:00:00",
          "pred_cs": 450681.7027533466,
          "resid_cs": -289926.7027533466,
          "youtube": 3683981
         },
         {
          "cs": 177264,
          "month": "2008-10-01T00:00:00",
          "pred_cs": 450609.9422410769,
          "resid_cs": -273345.9422410769,
          "youtube": 3675927
         },
         {
          "cs": 153999,
          "month": "2011-04-01T00:00:00",
          "pred_cs": 449631.5436996894,
          "resid_cs": -295632.5436996894,
          "youtube": 3566117
         },
         {
          "cs": 184563,
          "month": "2009-02-01T00:00:00",
          "pred_cs": 449484.36960710544,
          "resid_cs": -264921.36960710544,
          "youtube": 3549599
         },
         {
          "cs": 173494,
          "month": "2011-02-01T00:00:00",
          "pred_cs": 449306.9285092844,
          "resid_cs": -275812.9285092844,
          "youtube": 3529684
         },
         {
          "cs": 158880,
          "month": "2009-06-01T00:00:00",
          "pred_cs": 449211.36959519295,
          "resid_cs": -290331.36959519295,
          "youtube": 3518959
         },
         {
          "cs": 967548,
          "month": "2021-11-01T00:00:00",
          "pred_cs": 449063.6252675972,
          "resid_cs": 518484.3747324028,
          "youtube": 3502377
         },
         {
          "cs": 1069121,
          "month": "2020-11-01T00:00:00",
          "pred_cs": 449037.1360693134,
          "resid_cs": 620083.8639306866,
          "youtube": 3499404
         },
         {
          "cs": 111218,
          "month": "2013-06-01T00:00:00",
          "pred_cs": 448949.0614897522,
          "resid_cs": -337731.0614897522,
          "youtube": 3489519
         },
         {
          "cs": 329466,
          "month": "2014-07-01T00:00:00",
          "pred_cs": 448310.00623993453,
          "resid_cs": -118844.00623993453,
          "youtube": 3417795
         },
         {
          "cs": 788128,
          "month": "2021-07-01T00:00:00",
          "pred_cs": 446891.01205268956,
          "resid_cs": 341236.98794731044,
          "youtube": 3258535
         },
         {
          "cs": 124472,
          "month": "2013-09-01T00:00:00",
          "pred_cs": 446755.83962512016,
          "resid_cs": -322283.83962512016,
          "youtube": 3243364
         },
         {
          "cs": 131302,
          "month": "2007-04-01T00:00:00",
          "pred_cs": 445637.5553073937,
          "resid_cs": -314335.5553073937,
          "youtube": 3117854
         },
         {
          "cs": 1234187,
          "month": "2021-03-01T00:00:00",
          "pred_cs": 445357.9441333128,
          "resid_cs": 788829.0558666872,
          "youtube": 3086472
         },
         {
          "cs": 178599,
          "month": "2011-01-01T00:00:00",
          "pred_cs": 445152.5971596004,
          "resid_cs": -266553.5971596004,
          "youtube": 3063425
         },
         {
          "cs": 335093,
          "month": "2007-10-01T00:00:00",
          "pred_cs": 444378.40512190165,
          "resid_cs": -109285.40512190165,
          "youtube": 2976534
         },
         {
          "cs": 147813,
          "month": "2009-09-01T00:00:00",
          "pred_cs": 444321.4529000954,
          "resid_cs": -296508.4529000954,
          "youtube": 2970142
         },
         {
          "cs": 455676,
          "month": "2018-07-01T00:00:00",
          "pred_cs": 444273.72244762094,
          "resid_cs": 11402.277552379062,
          "youtube": 2964785
         },
         {
          "cs": 179726,
          "month": "2009-03-01T00:00:00",
          "pred_cs": 443676.9625978212,
          "resid_cs": -263950.9625978212,
          "youtube": 2897808
         },
         {
          "cs": 133647,
          "month": "2011-11-01T00:00:00",
          "pred_cs": 443256.0133301056,
          "resid_cs": -309609.0133301056,
          "youtube": 2850563
         },
         {
          "cs": 309902,
          "month": "2007-11-01T00:00:00",
          "pred_cs": 442818.25994938513,
          "resid_cs": -132916.25994938513,
          "youtube": 2801432
         },
         {
          "cs": 171430,
          "month": "2010-01-01T00:00:00",
          "pred_cs": 442500.19355169416,
          "resid_cs": -271070.19355169416,
          "youtube": 2765734
         },
         {
          "cs": 144459,
          "month": "2010-08-01T00:00:00",
          "pred_cs": 438693.3580722647,
          "resid_cs": -294234.3580722647,
          "youtube": 2338476
         },
         {
          "cs": 986980,
          "month": "2020-06-01T00:00:00",
          "pred_cs": 438120.04022740433,
          "resid_cs": 548859.9597725957,
          "youtube": 2274130
         },
         {
          "cs": 152887,
          "month": "2010-09-01T00:00:00",
          "pred_cs": 436747.63602261007,
          "resid_cs": -283860.63602261007,
          "youtube": 2120099
         },
         {
          "cs": 285535,
          "month": "2010-05-01T00:00:00",
          "pred_cs": 436634.30181400926,
          "resid_cs": -151099.30181400926,
          "youtube": 2107379
         },
         {
          "cs": 113554,
          "month": "2009-01-01T00:00:00",
          "pred_cs": 436112.4833186546,
          "resid_cs": -322558.4833186546,
          "youtube": 2048813
         },
         {
          "cs": 426756,
          "month": "2007-12-01T00:00:00",
          "pred_cs": 434362.29841852444,
          "resid_cs": -7606.298418524442,
          "youtube": 1852382
         },
         {
          "cs": 128508,
          "month": "2005-11-01T00:00:00",
          "pred_cs": 433985.9967702505,
          "resid_cs": -305477.9967702505,
          "youtube": 1810148
         },
         {
          "cs": 167923,
          "month": "2010-04-01T00:00:00",
          "pred_cs": 432831.94802537595,
          "resid_cs": -264908.94802537595,
          "youtube": 1680624
         },
         {
          "cs": 166374,
          "month": "2013-10-01T00:00:00",
          "pred_cs": 430542.8999489907,
          "resid_cs": -264168.8999489907,
          "youtube": 1423714
         },
         {
          "cs": 612880,
          "month": "2018-09-01T00:00:00",
          "pred_cs": 425188.9456030962,
          "resid_cs": 187691.05439690378,
          "youtube": 822816
         },
         {
          "cs": 205663,
          "month": "2005-08-01T00:00:00",
          "pred_cs": 418651.98526563286,
          "resid_cs": -212988.98526563286,
          "youtube": 89144
         },
         {
          "cs": 185147,
          "month": "2005-09-01T00:00:00",
          "pred_cs": 418030.7053103245,
          "resid_cs": -232883.7053103245,
          "youtube": 19415
         }
        ],
        "data-7f92a3d540f44d42fef6ceb1dcb17c5c": [
         {
          "cs": 888099,
          "month": "2021-10-01T00:00:00",
          "pred_cs": 1457426.4408714587,
          "resid_cs": -569327.4408714587,
          "twitch": 1950442
         },
         {
          "cs": 1042536,
          "month": "2022-04-01T00:00:00",
          "pred_cs": 1367754.7328963869,
          "resid_cs": -325218.7328963869,
          "twitch": 1634605
         },
         {
          "cs": 1431938,
          "month": "2024-02-01T00:00:00",
          "pred_cs": 1344798.5689626983,
          "resid_cs": 87139.43103730166,
          "twitch": 1553750
         },
         {
          "cs": 638526,
          "month": "2017-12-01T00:00:00",
          "pred_cs": 1278624.7398528033,
          "resid_cs": -640098.7398528033,
          "twitch": 1320676
         },
         {
          "cs": 1110627,
          "month": "2022-10-01T00:00:00",
          "pred_cs": 1265109.1226627803,
          "resid_cs": -154482.12266278034,
          "twitch": 1273072
         },
         {
          "cs": 928566,
          "month": "2022-06-01T00:00:00",
          "pred_cs": 1232234.5785317076,
          "resid_cs": -303668.57853170764,
          "twitch": 1157283
         },
         {
          "cs": 702226,
          "month": "2016-12-01T00:00:00",
          "pred_cs": 1231368.3456931487,
          "resid_cs": -529142.3456931487,
          "twitch": 1154232
         },
         {
          "cs": 1752347,
          "month": "2025-05-01T00:00:00",
          "pred_cs": 1229265.9352803235,
          "resid_cs": 523081.0647196765,
          "twitch": 1146827
         },
         {
          "cs": 1536102,
          "month": "2023-04-01T00:00:00",
          "pred_cs": 1212436.4309412804,
          "resid_cs": 323665.56905871956,
          "twitch": 1087551
         },
         {
          "cs": 1019800,
          "month": "2022-01-01T00:00:00",
          "pred_cs": 1184299.6211192978,
          "resid_cs": -164499.6211192978,
          "twitch": 988449
         },
         {
          "cs": 1643797,
          "month": "2025-01-01T00:00:00",
          "pred_cs": 1174215.149079712,
          "resid_cs": 469581.8509202879,
          "twitch": 952930
         },
         {
          "cs": 1593726,
          "month": "2024-11-01T00:00:00",
          "pred_cs": 1173700.1224100478,
          "resid_cs": 420025.8775899522,
          "twitch": 951116
         },
         {
          "cs": 644596,
          "month": "2017-06-01T00:00:00",
          "pred_cs": 1173120.6464272558,
          "resid_cs": -528524.6464272558,
          "twitch": 949075
         },
         {
          "cs": 1378327,
          "month": "2023-02-01T00:00:00",
          "pred_cs": 1156493.5753933233,
          "resid_cs": 221833.42460667668,
          "twitch": 890512
         },
         {
          "cs": 481746,
          "month": "2018-08-01T00:00:00",
          "pred_cs": 1150803.2972712654,
          "resid_cs": -669057.2972712654,
          "twitch": 870470
         },
         {
          "cs": 959235,
          "month": "2020-02-01T00:00:00",
          "pred_cs": 1143268.4059888937,
          "resid_cs": -184033.4059888937,
          "twitch": 843931
         },
         {
          "cs": 686703,
          "month": "2019-02-01T00:00:00",
          "pred_cs": 1141180.4753776966,
          "resid_cs": -454477.47537769657,
          "twitch": 836577
         },
         {
          "cs": 1864428,
          "month": "2025-03-01T00:00:00",
          "pred_cs": 1138667.5200010708,
          "resid_cs": 725760.4799989292,
          "twitch": 827726
         },
         {
          "cs": 824180,
          "month": "2021-08-01T00:00:00",
          "pred_cs": 1112888.6465029924,
          "resid_cs": -288708.6465029924,
          "twitch": 736929
         },
         {
          "cs": 1506027,
          "month": "2025-07-01T00:00:00",
          "pred_cs": 1112140.8073365667,
          "resid_cs": 393886.19266343326,
          "twitch": 734295
         },
         {
          "cs": 953085,
          "month": "2021-06-01T00:00:00",
          "pred_cs": 1111049.995613937,
          "resid_cs": -157964.99561393703,
          "twitch": 730453
         },
         {
          "cs": 1898525,
          "month": "2025-04-01T00:00:00",
          "pred_cs": 1108658.8409215924,
          "resid_cs": 789866.1590784076,
          "twitch": 722031
         },
         {
          "cs": 1385446,
          "month": "2024-07-01T00:00:00",
          "pred_cs": 1108081.0684448741,
          "resid_cs": 277364.93155512586,
          "twitch": 719996
         },
         {
          "cs": 1334752,
          "month": "2024-01-01T00:00:00",
          "pred_cs": 1101849.927144365,
          "resid_cs": 232902.07285563508,
          "twitch": 698049
         },
         {
          "cs": 1124191,
          "month": "2022-09-01T00:00:00",
          "pred_cs": 1100490.8132151018,
          "resid_cs": 23700.186784898164,
          "twitch": 693262
         },
         {
          "cs": 970788,
          "month": "2021-09-01T00:00:00",
          "pred_cs": 1099381.5468433385,
          "resid_cs": -128593.54684333852,
          "twitch": 689355
         },
         {
          "cs": 680892,
          "month": "2019-08-01T00:00:00",
          "pred_cs": 1091536.049620166,
          "resid_cs": -410644.04962016596,
          "twitch": 661722
         },
         {
          "cs": 1827625,
          "month": "2025-02-01T00:00:00",
          "pred_cs": 1083094.6091888205,
          "resid_cs": 744530.3908111795,
          "twitch": 631990
         },
         {
          "cs": 1558198,
          "month": "2024-06-01T00:00:00",
          "pred_cs": 1082655.956374801,
          "resid_cs": 475542.043625199,
          "twitch": 630445
         },
         {
          "cs": 1461132,
          "month": "2024-08-01T00:00:00",
          "pred_cs": 1081650.0360381855,
          "resid_cs": 379481.96396181453,
          "twitch": 626902
         },
         {
          "cs": 1158553,
          "month": "2021-01-01T00:00:00",
          "pred_cs": 1081248.2925224327,
          "resid_cs": 77304.70747756725,
          "twitch": 625487
         },
         {
          "cs": 850328,
          "month": "2020-01-01T00:00:00",
          "pred_cs": 1078879.2834090483,
          "resid_cs": -228551.28340904834,
          "twitch": 617143
         },
         {
          "cs": 1182193,
          "month": "2021-04-01T00:00:00",
          "pred_cs": 1077331.9320586235,
          "resid_cs": 104861.06794137647,
          "twitch": 611693
         },
         {
          "cs": 1661558,
          "month": "2024-05-01T00:00:00",
          "pred_cs": 1077121.8329761806,
          "resid_cs": 584436.1670238194,
          "twitch": 610953
         },
         {
          "cs": 1201522,
          "month": "2020-12-01T00:00:00",
          "pred_cs": 1074623.9252365406,
          "resid_cs": 126898.07476345939,
          "twitch": 602155
         },
         {
          "cs": 1542231,
          "month": "2023-03-01T00:00:00",
          "pred_cs": 1070923.3422087538,
          "resid_cs": 471307.6577912462,
          "twitch": 589121
         },
         {
          "cs": 1245840,
          "month": "2023-07-01T00:00:00",
          "pred_cs": 1070192.8220207458,
          "resid_cs": 175647.17797925416,
          "twitch": 586548
         },
         {
          "cs": 1224207,
          "month": "2023-01-01T00:00:00",
          "pred_cs": 1067885.9908790574,
          "resid_cs": 156321.00912094256,
          "twitch": 578423
         },
         {
          "cs": 709468,
          "month": "2017-09-01T00:00:00",
          "pred_cs": 1067731.2557440149,
          "resid_cs": -358263.25574401487,
          "twitch": 577878
         },
         {
          "cs": 1269874,
          "month": "2020-03-01T00:00:00",
          "pred_cs": 1066881.4901308366,
          "resid_cs": 202992.5098691634,
          "twitch": 574885
         },
         {
          "cs": 977120,
          "month": "2020-10-01T00:00:00",
          "pred_cs": 1061674.7238160768,
          "resid_cs": -84554.72381607676,
          "twitch": 556546
         },
         {
          "cs": 1766572,
          "month": "2025-06-01T00:00:00",
          "pred_cs": 1061527.0866230086,
          "resid_cs": 705044.9133769914,
          "twitch": 556026
         },
         {
          "cs": 1580157,
          "month": "2023-09-01T00:00:00",
          "pred_cs": 1058808.0070114455,
          "resid_cs": 521348.9929885545,
          "twitch": 546449
         },
         {
          "cs": 967548,
          "month": "2021-11-01T00:00:00",
          "pred_cs": 1054356.1778050854,
          "resid_cs": -86808.17780508543,
          "twitch": 530769
         },
         {
          "cs": 1777329,
          "month": "2024-12-01T00:00:00",
          "pred_cs": 1052984.5714979474,
          "resid_cs": 724344.4285020526,
          "twitch": 525938
         },
         {
          "cs": 602806,
          "month": "2019-07-01T00:00:00",
          "pred_cs": 1052421.846658215,
          "resid_cs": -449615.8466582149,
          "twitch": 523956
         },
         {
          "cs": 954908,
          "month": "2022-05-01T00:00:00",
          "pred_cs": 1051641.6408763858,
          "resid_cs": -96733.64087638585,
          "twitch": 521208
         },
         {
          "cs": 720255,
          "month": "2019-01-01T00:00:00",
          "pred_cs": 1050386.4408176285,
          "resid_cs": -330131.4408176285,
          "twitch": 516787
         },
         {
          "cs": 785343,
          "month": "2017-02-01T00:00:00",
          "pred_cs": 1049156.793349979,
          "resid_cs": -263813.793349979,
          "twitch": 512456
         },
         {
          "cs": 1557039,
          "month": "2023-08-01T00:00:00",
          "pred_cs": 1047206.2788954066,
          "resid_cs": 509832.72110459337,
          "twitch": 505586
         },
         {
          "cs": 728848,
          "month": "2018-02-01T00:00:00",
          "pred_cs": 1047037.3478764154,
          "resid_cs": -318189.34787641536,
          "twitch": 504991
         },
         {
          "cs": 1220085,
          "month": "2020-05-01T00:00:00",
          "pred_cs": 1046405.0632053334,
          "resid_cs": 173679.93679466657,
          "twitch": 502764
         },
         {
          "cs": 1354060,
          "month": "2020-04-01T00:00:00",
          "pred_cs": 1046369.0056601034,
          "resid_cs": 307690.9943398966,
          "twitch": 502637
         },
         {
          "cs": 1156160,
          "month": "2021-02-01T00:00:00",
          "pred_cs": 1042731.7362747284,
          "resid_cs": 113428.26372527156,
          "twitch": 489826
         },
         {
          "cs": 1837896,
          "month": "2023-05-01T00:00:00",
          "pred_cs": 1042670.9778914273,
          "resid_cs": 795225.0221085727,
          "twitch": 489612
         },
         {
          "cs": 1003755,
          "month": "2020-09-01T00:00:00",
          "pred_cs": 1035874.272574396,
          "resid_cs": -32119.27257439599,
          "twitch": 465673
         },
         {
          "cs": 858017,
          "month": "2017-01-01T00:00:00",
          "pred_cs": 1034643.2055183515,
          "resid_cs": -176626.20551835152,
          "twitch": 461337
         },
         {
          "cs": 1060765,
          "month": "2022-08-01T00:00:00",
          "pred_cs": 1033263.365598523,
          "resid_cs": 27501.634401476942,
          "twitch": 456477
         },
         {
          "cs": 1234187,
          "month": "2021-03-01T00:00:00",
          "pred_cs": 1030645.0767629968,
          "resid_cs": 203541.92323700315,
          "twitch": 447255
         },
         {
          "cs": 1581554,
          "month": "2025-08-01T00:00:00",
          "pred_cs": 1030065.6007802046,
          "resid_cs": 551488.3992197954,
          "twitch": 445214
         },
         {
          "cs": 974624,
          "month": "2021-12-01T00:00:00",
          "pred_cs": 1028724.0897470382,
          "resid_cs": -54100.089747038204,
          "twitch": 440489
         },
         {
          "cs": 614513,
          "month": "2019-06-01T00:00:00",
          "pred_cs": 1028336.8260329135,
          "resid_cs": -413823.8260329135,
          "twitch": 439125
         },
         {
          "cs": 1529352,
          "month": "2024-10-01T00:00:00",
          "pred_cs": 1028192.0280166352,
          "resid_cs": 501159.9719833648,
          "twitch": 438615
         },
         {
          "cs": 1019747,
          "month": "2022-03-01T00:00:00",
          "pred_cs": 1026653.1941965796,
          "resid_cs": -6906.194196579629,
          "twitch": 433195
         },
         {
          "cs": 1515033,
          "month": "2024-09-01T00:00:00",
          "pred_cs": 1026554.3908442956,
          "resid_cs": 488478.6091557044,
          "twitch": 432847
         },
         {
          "cs": 1692482,
          "month": "2023-06-01T00:00:00",
          "pred_cs": 1023384.449958517,
          "resid_cs": 669097.550041483,
          "twitch": 421682
         },
         {
          "cs": 780831,
          "month": "2017-03-01T00:00:00",
          "pred_cs": 1022417.4263439211,
          "resid_cs": -241586.4263439211,
          "twitch": 418276
         },
         {
          "cs": 788128,
          "month": "2021-07-01T00:00:00",
          "pred_cs": 1017125.4847254681,
          "resid_cs": -228997.4847254681,
          "twitch": 399637
         },
         {
          "cs": 1069121,
          "month": "2020-11-01T00:00:00",
          "pred_cs": 1015913.4401539151,
          "resid_cs": 53207.559846084914,
          "twitch": 395368
         },
         {
          "cs": 1114107,
          "month": "2021-05-01T00:00:00",
          "pred_cs": 1015666.715690884,
          "resid_cs": 98440.28430911596,
          "twitch": 394499
         },
         {
          "cs": 1412825,
          "month": "2023-10-01T00:00:00",
          "pred_cs": 1012675.359025182,
          "resid_cs": 400149.64097481803,
          "twitch": 383963
         },
         {
          "cs": 745425,
          "month": "2019-09-01T00:00:00",
          "pred_cs": 1012336.6452341623,
          "resid_cs": -266911.64523416234,
          "twitch": 382770
         },
         {
          "cs": 758776,
          "month": "2018-01-01T00:00:00",
          "pred_cs": 1010051.391836076,
          "resid_cs": -251275.39183607604,
          "twitch": 374721
         },
         {
          "cs": 1026057,
          "month": "2022-02-01T00:00:00",
          "pred_cs": 1004865.9193472394,
          "resid_cs": 21191.080652760575,
          "twitch": 356457
         },
         {
          "cs": 616941,
          "month": "2019-05-01T00:00:00",
          "pred_cs": 1004426.414780183,
          "resid_cs": -387485.414780183,
          "twitch": 354909
         },
         {
          "cs": 789463,
          "month": "2019-11-01T00:00:00",
          "pred_cs": 1004359.4102079443,
          "resid_cs": -214896.41020794434,
          "twitch": 354673
         },
         {
          "cs": 710912,
          "month": "2018-03-01T00:00:00",
          "pred_cs": 999296.0223210679,
          "resid_cs": -288384.02232106787,
          "twitch": 336839
         },
         {
          "cs": 887871,
          "month": "2020-07-01T00:00:00",
          "pred_cs": 998781.5634867614,
          "resid_cs": -110910.56348676141,
          "twitch": 335027
         },
         {
          "cs": 955869,
          "month": "2020-08-01T00:00:00",
          "pred_cs": 997379.5779879728,
          "resid_cs": -41510.57798797276,
          "twitch": 330089
         },
         {
          "cs": 1090343,
          "month": "2022-12-01T00:00:00",
          "pred_cs": 996831.0490321892,
          "resid_cs": 93511.95096781082,
          "twitch": 328157
         },
         {
          "cs": 950395,
          "month": "2022-07-01T00:00:00",
          "pred_cs": 995107.6687207986,
          "resid_cs": -44712.66872079857,
          "twitch": 322087
         },
         {
          "cs": 1647977,
          "month": "2024-04-01T00:00:00",
          "pred_cs": 993816.127199132,
          "resid_cs": 654160.872800868,
          "twitch": 317538
         },
         {
          "cs": 711735,
          "month": "2019-03-01T00:00:00",
          "pred_cs": 993391.1024337034,
          "resid_cs": -281656.1024337034,
          "twitch": 316041
         },
         {
          "cs": 1276429,
          "month": "2023-12-01T00:00:00",
          "pred_cs": 990489.463754558,
          "resid_cs": 285939.536245442,
          "twitch": 305821
         },
         {
          "cs": 481392,
          "month": "2018-05-01T00:00:00",
          "pred_cs": 989798.6920416068,
          "resid_cs": -508406.69204160676,
          "twitch": 303388
         },
         {
          "cs": 776751,
          "month": "2019-10-01T00:00:00",
          "pred_cs": 989469.6314516724,
          "resid_cs": -212718.6314516724,
          "twitch": 302229
         },
         {
          "cs": 1184525,
          "month": "2023-11-01T00:00:00",
          "pred_cs": 989435.8452478742,
          "resid_cs": 195089.15475212585,
          "twitch": 302110
         },
         {
          "cs": 594113,
          "month": "2018-10-01T00:00:00",
          "pred_cs": 988999.4637752865,
          "resid_cs": -394886.46377528645,
          "twitch": 300573
         },
         {
          "cs": 729279,
          "month": "2017-05-01T00:00:00",
          "pred_cs": 987921.1444305317,
          "resid_cs": -258642.14443053165,
          "twitch": 296775
         },
         {
          "cs": 626044,
          "month": "2017-08-01T00:00:00",
          "pred_cs": 985592.4516275619,
          "resid_cs": -359548.45162756194,
          "twitch": 288573
         },
         {
          "cs": 1156226,
          "month": "2022-11-01T00:00:00",
          "pred_cs": 984575.4585014662,
          "resid_cs": 171650.5414985338,
          "twitch": 284991
         },
         {
          "cs": 674835,
          "month": "2017-10-01T00:00:00",
          "pred_cs": 983482.6593550836,
          "resid_cs": -308647.6593550836,
          "twitch": 281142
         },
         {
          "cs": 1555064,
          "month": "2024-03-01T00:00:00",
          "pred_cs": 982308.9436701925,
          "resid_cs": 572755.0563298075,
          "twitch": 277008
         },
         {
          "cs": 576288,
          "month": "2018-11-01T00:00:00",
          "pred_cs": 981698.5206603918,
          "resid_cs": -405410.5206603918,
          "twitch": 274858
         },
         {
          "cs": 798764,
          "month": "2019-12-01T00:00:00",
          "pred_cs": 977800.898763395,
          "resid_cs": -179036.89876339503,
          "twitch": 261130
         },
         {
          "cs": 449409,
          "month": "2018-06-01T00:00:00",
          "pred_cs": 971708.0253725477,
          "resid_cs": -522299.0253725477,
          "twitch": 239670
         },
         {
          "cs": 664428,
          "month": "2016-11-01T00:00:00",
          "pred_cs": 970992.2689038466,
          "resid_cs": -306564.2689038466,
          "twitch": 237149
         },
         {
          "cs": 647906,
          "month": "2019-04-01T00:00:00",
          "pred_cs": 970757.4689833325,
          "resid_cs": -322851.4689833325,
          "twitch": 236322
         },
         {
          "cs": 638295,
          "month": "2017-11-01T00:00:00",
          "pred_cs": 969711.5162539812,
          "resid_cs": -331416.51625398116,
          "twitch": 232638
         },
         {
          "cs": 556019,
          "month": "2018-04-01T00:00:00",
          "pred_cs": 967986.1485188376,
          "resid_cs": -411967.14851883764,
          "twitch": 226561
         },
         {
          "cs": 612880,
          "month": "2018-09-01T00:00:00",
          "pred_cs": 967022.8158340686,
          "resid_cs": -354142.8158340686,
          "twitch": 223168
         },
         {
          "cs": 986980,
          "month": "2020-06-01T00:00:00",
          "pred_cs": 963576.9069643242,
          "resid_cs": 23403.093035675818,
          "twitch": 211031
         },
         {
          "cs": 670361,
          "month": "2017-07-01T00:00:00",
          "pred_cs": 963334.1573487988,
          "resid_cs": -292973.1573487988,
          "twitch": 210176
         },
         {
          "cs": 781335,
          "month": "2018-12-01T00:00:00",
          "pred_cs": 960738.5819275908,
          "resid_cs": -179403.58192759077,
          "twitch": 201034
         },
         {
          "cs": 728537,
          "month": "2017-04-01T00:00:00",
          "pred_cs": 959008.1036742256,
          "resid_cs": -230471.10367422563,
          "twitch": 194939
         },
         {
          "cs": 455676,
          "month": "2018-07-01T00:00:00",
          "pred_cs": 958776.1429305014,
          "resid_cs": -503100.1429305014,
          "twitch": 194122
         }
        ],
        "data-ea7653e0ca7f2916ec400082c7631589": [
         {
          "x": 19415,
          "y": 418030.7053103245
         },
         {
          "x": 200082263,
          "y": 2200575.088053524
         }
        ]
       },
       "hconcat": [
        {
         "height": 360,
         "layer": [
          {
           "data": {
            "name": "data-5ae5b227b58466ff801b606f8ab4a40e"
           },
           "encoding": {
            "color": {
             "field": "resid_cs",
             "legend": {
              "format": ",d"
             },
             "scale": {
              "domain": [
               -2042468.088053524,
               -1361645.3920356827,
               -680822.6960178413,
               0,
               680822.6960178413,
               1361645.3920356827,
               2042468.088053524
              ],
              "range": [
               "#D93D3D",
               "#F88383",
               "#FCC2C2",
               "#B4B4B4",
               "#8B96F8",
               "#5F4EFA",
               "#0011FC"
              ]
             },
             "title": "Players vs expected (players)",
             "type": "quantitative"
            },
            "tooltip": [
             {
              "field": "month",
              "format": "%Y %b",
              "title": "Month",
              "type": "temporal"
             },
             {
              "field": "youtube",
              "format": ",",
              "title": "YouTube view count",
              "type": "quantitative"
             },
             {
              "field": "cs",
              "format": ",",
              "title": "CS players",
              "type": "quantitative"
             },
             {
              "field": "pred_cs",
              "format": ",.0f",
              "title": "Predicted players",
              "type": "quantitative"
             },
             {
              "field": "resid_cs",
              "format": ",.0f",
              "title": "Residual (players)",
              "type": "quantitative"
             }
            ],
            "x": {
             "field": "youtube",
             "title": "YouTube view count",
             "type": "quantitative"
            },
            "y": {
             "field": "cs",
             "title": "CS peak players",
             "type": "quantitative"
            }
           },
           "mark": {
            "opacity": 0.85,
            "size": 60,
            "type": "circle"
           }
          },
          {
           "data": {
            "name": "data-ea7653e0ca7f2916ec400082c7631589"
           },
           "encoding": {
            "x": {
             "field": "x",
             "type": "quantitative"
            },
            "y": {
             "field": "y",
             "type": "quantitative"
            }
           },
           "mark": {
            "color": "#000000",
            "type": "line"
           }
          }
         ],
         "width": 420
        },
        {
         "height": 360,
         "layer": [
          {
           "data": {
            "name": "data-7f92a3d540f44d42fef6ceb1dcb17c5c"
           },
           "encoding": {
            "color": {
             "field": "resid_cs",
             "legend": {
              "format": ",d"
             },
             "scale": {
              "domain": [
               -795225.0221085727,
               -530150.0147390484,
               -265075.0073695242,
               0,
               265075.0073695242,
               530150.0147390484,
               795225.0221085727
              ],
              "range": [
               "#D93D3D",
               "#F88383",
               "#FCC2C2",
               "#B4B4B4",
               "#8B96F8",
               "#5F4EFA",
               "#0011FC"
              ]
             },
             "title": "Players vs expected (players)",
             "type": "quantitative"
            },
            "tooltip": [
             {
              "field": "month",
              "format": "%Y %b",
              "title": "Month",
              "type": "temporal"
             },
             {
              "field": "twitch",
              "format": ",",
              "title": "Twitch peak viewers",
              "type": "quantitative"
             },
             {
              "field": "cs",
              "format": ",",
              "title": "CS players",
              "type": "quantitative"
             },
             {
              "field": "pred_cs",
              "format": ",.0f",
              "title": "Predicted players",
              "type": "quantitative"
             },
             {
              "field": "resid_cs",
              "format": ",.0f",
              "title": "Residual (players)",
              "type": "quantitative"
             }
            ],
            "x": {
             "field": "twitch",
             "title": "Twitch peak viewers",
             "type": "quantitative"
            },
            "y": {
             "field": "cs",
             "title": "CS peak players",
             "type": "quantitative"
            }
           },
           "mark": {
            "opacity": 0.85,
            "size": 60,
            "type": "circle"
           }
          },
          {
           "data": {
            "name": "data-53ca6988f35aa42ae41f624065fdb9f0"
           },
           "encoding": {
            "x": {
             "field": "x",
             "type": "quantitative"
            },
            "y": {
             "field": "y",
             "type": "quantitative"
            }
           },
           "mark": {
            "color": "#000000",
            "type": "line"
           }
          }
         ],
         "width": 420
        }
       ],
       "title": {
        "anchor": "middle",
        "fontSize": 16,
        "offset": 12,
        "text": "CS playerbase vs platform viewership (color = players vs expected)"
       },
       "usermeta": {
        "embedOptions": {
         "theme": "fivethirtyeight"
        }
       }
      },
      "text/plain": [
       "<VegaLite 5 object>\n",
       "\n",
       "If you see this message, it means the renderer has not been properly enabled\n",
       "for the frontend that you are using. For more information, see\n",
       "https://altair-viz.github.io/user_guide/display_frontends.html#troubleshooting\n"
      ]
     },
     "execution_count": 20,
     "metadata": {},
     "output_type": "execute_result"
    }
   ],
   "source": [
    "# --- rename only (assumes your inputs are already cleaned)\n",
    "yt = merged_cs_youtube[['month','peak','viewCount']].rename(columns={'peak':'cs','viewCount':'youtube'}).copy()\n",
    "tw = merged_cs_twitch[['month','peak','peak viewers']].rename(columns={'peak':'cs','peak viewers':'twitch'}).copy()\n",
    "\n",
    "# ensure datetime (for tooltip only)\n",
    "yt['month'] = pd.to_datetime(yt['month'], errors='coerce')\n",
    "tw['month'] = pd.to_datetime(tw['month'], errors='coerce')\n",
    "\n",
    "def make_scatter_players_legend(df, xcol, xtitle):\n",
    "    df = df.copy()\n",
    "    df[xcol] = pd.to_numeric(df[xcol], errors='coerce')\n",
    "    df['cs']  = pd.to_numeric(df['cs'],  errors='coerce')\n",
    "    df = df.dropna(subset=[xcol, 'cs'])\n",
    "\n",
    "    x = df[xcol].to_numpy(float); y = df['cs'].to_numpy(float)\n",
    "    m, b = np.polyfit(x, y, 1)\n",
    "    df['pred_cs']  = m*df[xcol] + b\n",
    "    df['resid_cs'] = df['cs'] - df['pred_cs']\n",
    "\n",
    "    # symmetric color domain around 0\n",
    "    M = float(max(abs(df['resid_cs'].min()), abs(df['resid_cs'].max())))\n",
    "\n",
    "    pts = alt.Chart(df).mark_circle(size=60, opacity=0.85).encode(\n",
    "        x=alt.X(f'{xcol}:Q', title=xtitle),\n",
    "        y=alt.Y('cs:Q', title='CS peak players'),\n",
    "        color=alt.Color('resid_cs:Q',\n",
    "                        title='Players vs expected (players)',\n",
    "                        scale=alt.Scale(domain=[-M, -2*M/3, -M/3, 0, M/3, 2*M/3, M],\n",
    "                                        range=[\"#D93D3D\", \"#F88383\", \"#FCC2C2\", \"#B4B4B4\", \"#8B96F8\", \"#5F4EFA\", \"#0011FC\"]),\n",
    "                        legend=alt.Legend(format=',d')),\n",
    "        tooltip=[\n",
    "            alt.Tooltip('month:T', title='Month', format='%Y %b'),\n",
    "            alt.Tooltip(f'{xcol}:Q', title=xtitle, format=','),\n",
    "            alt.Tooltip('cs:Q',      title='CS players', format=','),\n",
    "            alt.Tooltip('pred_cs:Q', title='Predicted players', format=',.0f'),\n",
    "            alt.Tooltip('resid_cs:Q',title='Residual (players)', format=',.0f'),\n",
    "        ]\n",
    "    ).properties(width=420, height=360)\n",
    "\n",
    "    line = alt.Chart(pd.DataFrame({\n",
    "        'x':[df[xcol].min(), df[xcol].max()],\n",
    "        'y':[m*df[xcol].min()+b, m*df[xcol].max()+b]\n",
    "    })).mark_line(color=\"#000000\").encode(x='x:Q', y='y:Q')\n",
    "\n",
    "    return pts + line\n",
    "\n",
    "\n",
    "left  = make_scatter_players_legend(yt, 'youtube', 'YouTube view count')\n",
    "right = make_scatter_players_legend(tw, 'twitch',  'Twitch peak viewers')\n",
    "\n",
    "\n",
    "combo = (left | right).configure_title(anchor='middle').properties(\n",
    "    title=alt.TitleParams(\n",
    "        text='CS playerbase vs platform viewership (color = players vs expected)',\n",
    "        anchor='middle',   # center it\n",
    "        offset=12,         # spacing from the plots\n",
    "        fontSize=16\n",
    "    )\n",
    ")\n",
    "\n",
    "combo"
   ]
  },
  {
   "cell_type": "markdown",
   "id": "91cb4fe3",
   "metadata": {},
   "source": [
    "### FPS Competitors"
   ]
  },
  {
   "cell_type": "code",
   "execution_count": 9,
   "id": "da6cb82f",
   "metadata": {},
   "outputs": [],
   "source": [
    "# load the heatmap matrix from assets\n",
    "pair_heat = pd.read_csv(\"../assets/raw/trends_heatmap_pairwise.csv\", index_col=0)"
   ]
  },
  {
   "cell_type": "code",
   "execution_count": 10,
   "id": "1a43af88",
   "metadata": {},
   "outputs": [],
   "source": [
    "# --- tidy + DATE CLEANING ---\n",
    "long = (\n",
    "    pair_heat.reset_index()\n",
    "             .rename(columns={\"index\": \"peak_row\"})\n",
    "             .melt(id_vars=\"peak_row\", var_name=\"game\", value_name=\"interest\")\n",
    ")\n",
    "\n",
    "# Extract \"peak game\" and \"(YYYY-MM)\" then parse to datetime\n",
    "long[\"peak_game\"] = long[\"peak_row\"].str.extract(r\"peak@(.+?) \\(\")\n",
    "long[\"peak_month_str\"] = long[\"peak_row\"].str.extract(r\"\\((\\d{4}-\\d{2})\\)\")\n",
    "long[\"peak_month\"] = pd.to_datetime(long[\"peak_month_str\"], format=\"%Y-%m\", errors=\"coerce\")\n",
    "\n",
    "# Nicer y labels: \"Game (Mon YYYY)\"\n",
    "long[\"peak_label\"] = np.where(\n",
    "    long[\"peak_month\"].notna(),\n",
    "    long[\"peak_game\"] + \" (\" + long[\"peak_month\"].dt.strftime(\"%b %Y\") + \")\",\n",
    "    long[\"peak_row\"],\n",
    ")\n",
    "\n",
    "# --- ordering ---\n",
    "# Rows: chronological by peak month (change to .sort_values(\"interest\", ascending=False) for strongest-first)\n",
    "row_order = (\n",
    "    long.loc[long[\"game\"] == long[\"peak_game\"], [\"peak_label\", \"peak_month\"]]\n",
    "        .drop_duplicates(subset=[\"peak_label\"])  # guard against dup joins\n",
    "        .sort_values(\"peak_month\")[\"peak_label\"]\n",
    "        .tolist()\n",
    ")\n",
    "\n",
    "# Columns: by max interest across rows (helps readability)\n",
    "col_order = (\n",
    "    long.groupby(\"game\")[\"interest\"]\n",
    "        .max()\n",
    "        .sort_values(ascending=False)\n",
    "        .index\n",
    "        .tolist()\n",
    ")\n"
   ]
  },
  {
   "cell_type": "code",
   "execution_count": 11,
   "id": "29dfecda",
   "metadata": {},
   "outputs": [
    {
     "data": {
      "application/vnd.vegalite.v5+json": {
       "$schema": "https://vega.github.io/schema/vega-lite/v5.20.1.json",
       "config": {
        "axis": {
         "labelLimit": 280
        },
        "view": {
         "continuousHeight": 300,
         "continuousWidth": 300,
         "stroke": null
        }
       },
       "data": {
        "name": "data-0568d492192b38f83a7cc1d2f0742f91"
       },
       "datasets": {
        "data-0568d492192b38f83a7cc1d2f0742f91": [
         {
          "game": "Counter-Strike",
          "interest": 100,
          "peak_game": "Counter-Strike",
          "peak_label": "Counter-Strike (Jan 2004)",
          "peak_month": "2004-01-01T00:00:00",
          "peak_month_str": "2004-01",
          "peak_row": "peak@Counter-Strike (2004-01)"
         },
         {
          "game": "Counter-Strike",
          "interest": 0,
          "peak_game": "Valorant",
          "peak_label": "Valorant (Aug 2022)",
          "peak_month": "2022-08-01T00:00:00",
          "peak_month_str": "2022-08",
          "peak_row": "peak@Valorant (2022-08)"
         },
         {
          "game": "Counter-Strike",
          "interest": 1,
          "peak_game": "Call of Duty",
          "peak_label": "Call of Duty (Nov 2010)",
          "peak_month": "2010-11-01T00:00:00",
          "peak_month_str": "2010-11",
          "peak_row": "peak@Call of Duty (2010-11)"
         },
         {
          "game": "Counter-Strike",
          "interest": 0,
          "peak_game": "Overwatch",
          "peak_label": "Overwatch (May 2016)",
          "peak_month": "2016-05-01T00:00:00",
          "peak_month_str": "2016-05",
          "peak_row": "peak@Overwatch (2016-05)"
         },
         {
          "game": "Counter-Strike",
          "interest": 1,
          "peak_game": "Battlefield",
          "peak_label": "Battlefield (Oct 2011)",
          "peak_month": "2011-10-01T00:00:00",
          "peak_month_str": "2011-10",
          "peak_row": "peak@Battlefield (2011-10)"
         },
         {
          "game": "Counter-Strike",
          "interest": 0,
          "peak_game": "PUBG",
          "peak_label": "PUBG (Sep 2020)",
          "peak_month": "2020-09-01T00:00:00",
          "peak_month_str": "2020-09",
          "peak_row": "peak@PUBG (2020-09)"
         },
         {
          "game": "Counter-Strike",
          "interest": 0,
          "peak_game": "Fortnite",
          "peak_label": "Fortnite (Jul 2018)",
          "peak_month": "2018-07-01T00:00:00",
          "peak_month_str": "2018-07",
          "peak_row": "peak@Fortnite (2018-07)"
         },
         {
          "game": "Counter-Strike",
          "interest": 0,
          "peak_game": "Apex Legends",
          "peak_label": "Apex Legends (Feb 2019)",
          "peak_month": "2019-02-01T00:00:00",
          "peak_month_str": "2019-02",
          "peak_row": "peak@Apex Legends (2019-02)"
         },
         {
          "game": "Counter-Strike",
          "interest": 2.86,
          "peak_game": "Rainbow Six Siege",
          "peak_label": "Rainbow Six Siege (Dec 2015)",
          "peak_month": "2015-12-01T00:00:00",
          "peak_month_str": "2015-12",
          "peak_row": "peak@Rainbow Six Siege (2015-12)"
         },
         {
          "game": "Valorant",
          "interest": 0,
          "peak_game": "Counter-Strike",
          "peak_label": "Counter-Strike (Jan 2004)",
          "peak_month": "2004-01-01T00:00:00",
          "peak_month_str": "2004-01",
          "peak_row": "peak@Counter-Strike (2004-01)"
         },
         {
          "game": "Valorant",
          "interest": 100,
          "peak_game": "Valorant",
          "peak_label": "Valorant (Aug 2022)",
          "peak_month": "2022-08-01T00:00:00",
          "peak_month_str": "2022-08",
          "peak_row": "peak@Valorant (2022-08)"
         },
         {
          "game": "Valorant",
          "interest": 0,
          "peak_game": "Call of Duty",
          "peak_label": "Call of Duty (Nov 2010)",
          "peak_month": "2010-11-01T00:00:00",
          "peak_month_str": "2010-11",
          "peak_row": "peak@Call of Duty (2010-11)"
         },
         {
          "game": "Valorant",
          "interest": 0,
          "peak_game": "Overwatch",
          "peak_label": "Overwatch (May 2016)",
          "peak_month": "2016-05-01T00:00:00",
          "peak_month_str": "2016-05",
          "peak_row": "peak@Overwatch (2016-05)"
         },
         {
          "game": "Valorant",
          "interest": 0,
          "peak_game": "Battlefield",
          "peak_label": "Battlefield (Oct 2011)",
          "peak_month": "2011-10-01T00:00:00",
          "peak_month_str": "2011-10",
          "peak_row": "peak@Battlefield (2011-10)"
         },
         {
          "game": "Valorant",
          "interest": 16,
          "peak_game": "PUBG",
          "peak_label": "PUBG (Sep 2020)",
          "peak_month": "2020-09-01T00:00:00",
          "peak_month_str": "2020-09",
          "peak_row": "peak@PUBG (2020-09)"
         },
         {
          "game": "Valorant",
          "interest": 0,
          "peak_game": "Fortnite",
          "peak_label": "Fortnite (Jul 2018)",
          "peak_month": "2018-07-01T00:00:00",
          "peak_month_str": "2018-07",
          "peak_row": "peak@Fortnite (2018-07)"
         },
         {
          "game": "Valorant",
          "interest": 0,
          "peak_game": "Apex Legends",
          "peak_label": "Apex Legends (Feb 2019)",
          "peak_month": "2019-02-01T00:00:00",
          "peak_month_str": "2019-02",
          "peak_row": "peak@Apex Legends (2019-02)"
         },
         {
          "game": "Valorant",
          "interest": 0,
          "peak_game": "Rainbow Six Siege",
          "peak_label": "Rainbow Six Siege (Dec 2015)",
          "peak_month": "2015-12-01T00:00:00",
          "peak_month_str": "2015-12",
          "peak_row": "peak@Rainbow Six Siege (2015-12)"
         },
         {
          "game": "Call of Duty",
          "interest": 170.83,
          "peak_game": "Counter-Strike",
          "peak_label": "Counter-Strike (Jan 2004)",
          "peak_month": "2004-01-01T00:00:00",
          "peak_month_str": "2004-01",
          "peak_row": "peak@Counter-Strike (2004-01)"
         },
         {
          "game": "Call of Duty",
          "interest": 34.29,
          "peak_game": "Valorant",
          "peak_label": "Valorant (Aug 2022)",
          "peak_month": "2022-08-01T00:00:00",
          "peak_month_str": "2022-08",
          "peak_row": "peak@Valorant (2022-08)"
         },
         {
          "game": "Call of Duty",
          "interest": 100,
          "peak_game": "Call of Duty",
          "peak_label": "Call of Duty (Nov 2010)",
          "peak_month": "2010-11-01T00:00:00",
          "peak_month_str": "2010-11",
          "peak_row": "peak@Call of Duty (2010-11)"
         },
         {
          "game": "Call of Duty",
          "interest": 34.55,
          "peak_game": "Overwatch",
          "peak_label": "Overwatch (May 2016)",
          "peak_month": "2016-05-01T00:00:00",
          "peak_month_str": "2016-05",
          "peak_row": "peak@Overwatch (2016-05)"
         },
         {
          "game": "Call of Duty",
          "interest": 41.25,
          "peak_game": "Battlefield",
          "peak_label": "Battlefield (Oct 2011)",
          "peak_month": "2011-10-01T00:00:00",
          "peak_month_str": "2011-10",
          "peak_row": "peak@Battlefield (2011-10)"
         },
         {
          "game": "Call of Duty",
          "interest": 25.97,
          "peak_game": "PUBG",
          "peak_label": "PUBG (Sep 2020)",
          "peak_month": "2020-09-01T00:00:00",
          "peak_month_str": "2020-09",
          "peak_row": "peak@PUBG (2020-09)"
         },
         {
          "game": "Call of Duty",
          "interest": 4,
          "peak_game": "Fortnite",
          "peak_label": "Fortnite (Jul 2018)",
          "peak_month": "2018-07-01T00:00:00",
          "peak_month_str": "2018-07",
          "peak_row": "peak@Fortnite (2018-07)"
         },
         {
          "game": "Call of Duty",
          "interest": 16,
          "peak_game": "Apex Legends",
          "peak_label": "Apex Legends (Feb 2019)",
          "peak_month": "2019-02-01T00:00:00",
          "peak_month_str": "2019-02",
          "peak_row": "peak@Apex Legends (2019-02)"
         },
         {
          "game": "Call of Duty",
          "interest": 277.78,
          "peak_game": "Rainbow Six Siege",
          "peak_label": "Rainbow Six Siege (Dec 2015)",
          "peak_month": "2015-12-01T00:00:00",
          "peak_month_str": "2015-12",
          "peak_row": "peak@Rainbow Six Siege (2015-12)"
         },
         {
          "game": "Overwatch",
          "interest": 0,
          "peak_game": "Counter-Strike",
          "peak_label": "Counter-Strike (Jan 2004)",
          "peak_month": "2004-01-01T00:00:00",
          "peak_month_str": "2004-01",
          "peak_row": "peak@Counter-Strike (2004-01)"
         },
         {
          "game": "Overwatch",
          "interest": 12.5,
          "peak_game": "Valorant",
          "peak_label": "Valorant (Aug 2022)",
          "peak_month": "2022-08-01T00:00:00",
          "peak_month_str": "2022-08",
          "peak_row": "peak@Valorant (2022-08)"
         },
         {
          "game": "Overwatch",
          "interest": 0,
          "peak_game": "Call of Duty",
          "peak_label": "Call of Duty (Nov 2010)",
          "peak_month": "2010-11-01T00:00:00",
          "peak_month_str": "2010-11",
          "peak_row": "peak@Call of Duty (2010-11)"
         },
         {
          "game": "Overwatch",
          "interest": 100,
          "peak_game": "Overwatch",
          "peak_label": "Overwatch (May 2016)",
          "peak_month": "2016-05-01T00:00:00",
          "peak_month_str": "2016-05",
          "peak_row": "peak@Overwatch (2016-05)"
         },
         {
          "game": "Overwatch",
          "interest": 0,
          "peak_game": "Battlefield",
          "peak_label": "Battlefield (Oct 2011)",
          "peak_month": "2011-10-01T00:00:00",
          "peak_month_str": "2011-10",
          "peak_row": "peak@Battlefield (2011-10)"
         },
         {
          "game": "Overwatch",
          "interest": 8,
          "peak_game": "PUBG",
          "peak_label": "PUBG (Sep 2020)",
          "peak_month": "2020-09-01T00:00:00",
          "peak_month_str": "2020-09",
          "peak_row": "peak@PUBG (2020-09)"
         },
         {
          "game": "Overwatch",
          "interest": 7,
          "peak_game": "Fortnite",
          "peak_label": "Fortnite (Jul 2018)",
          "peak_month": "2018-07-01T00:00:00",
          "peak_month_str": "2018-07",
          "peak_row": "peak@Fortnite (2018-07)"
         },
         {
          "game": "Overwatch",
          "interest": 19.78,
          "peak_game": "Apex Legends",
          "peak_label": "Apex Legends (Feb 2019)",
          "peak_month": "2019-02-01T00:00:00",
          "peak_month_str": "2019-02",
          "peak_row": "peak@Apex Legends (2019-02)"
         },
         {
          "game": "Overwatch",
          "interest": 33.33,
          "peak_game": "Rainbow Six Siege",
          "peak_label": "Rainbow Six Siege (Dec 2015)",
          "peak_month": "2015-12-01T00:00:00",
          "peak_month_str": "2015-12",
          "peak_row": "peak@Rainbow Six Siege (2015-12)"
         },
         {
          "game": "Battlefield",
          "interest": 106.67,
          "peak_game": "Counter-Strike",
          "peak_label": "Counter-Strike (Jan 2004)",
          "peak_month": "2004-01-01T00:00:00",
          "peak_month_str": "2004-01",
          "peak_row": "peak@Counter-Strike (2004-01)"
         },
         {
          "game": "Battlefield",
          "interest": 11.36,
          "peak_game": "Valorant",
          "peak_label": "Valorant (Aug 2022)",
          "peak_month": "2022-08-01T00:00:00",
          "peak_month_str": "2022-08",
          "peak_row": "peak@Valorant (2022-08)"
         },
         {
          "game": "Battlefield",
          "interest": 15,
          "peak_game": "Call of Duty",
          "peak_label": "Call of Duty (Nov 2010)",
          "peak_month": "2010-11-01T00:00:00",
          "peak_month_str": "2010-11",
          "peak_row": "peak@Call of Duty (2010-11)"
         },
         {
          "game": "Battlefield",
          "interest": 37.68,
          "peak_game": "Overwatch",
          "peak_label": "Overwatch (May 2016)",
          "peak_month": "2016-05-01T00:00:00",
          "peak_month_str": "2016-05",
          "peak_row": "peak@Overwatch (2016-05)"
         },
         {
          "game": "Battlefield",
          "interest": 100,
          "peak_game": "Battlefield",
          "peak_label": "Battlefield (Oct 2011)",
          "peak_month": "2011-10-01T00:00:00",
          "peak_month_str": "2011-10",
          "peak_row": "peak@Battlefield (2011-10)"
         },
         {
          "game": "Battlefield",
          "interest": 5.21,
          "peak_game": "PUBG",
          "peak_label": "PUBG (Sep 2020)",
          "peak_month": "2020-09-01T00:00:00",
          "peak_month_str": "2020-09",
          "peak_row": "peak@PUBG (2020-09)"
         },
         {
          "game": "Battlefield",
          "interest": 3,
          "peak_game": "Fortnite",
          "peak_label": "Fortnite (Jul 2018)",
          "peak_month": "2018-07-01T00:00:00",
          "peak_month_str": "2018-07",
          "peak_row": "peak@Fortnite (2018-07)"
         },
         {
          "game": "Battlefield",
          "interest": 12.9,
          "peak_game": "Apex Legends",
          "peak_label": "Apex Legends (Feb 2019)",
          "peak_month": "2019-02-01T00:00:00",
          "peak_month_str": "2019-02",
          "peak_row": "peak@Apex Legends (2019-02)"
         },
         {
          "game": "Battlefield",
          "interest": 118.18,
          "peak_game": "Rainbow Six Siege",
          "peak_label": "Rainbow Six Siege (Dec 2015)",
          "peak_month": "2015-12-01T00:00:00",
          "peak_month_str": "2015-12",
          "peak_row": "peak@Rainbow Six Siege (2015-12)"
         },
         {
          "game": "PUBG",
          "interest": 0,
          "peak_game": "Counter-Strike",
          "peak_label": "Counter-Strike (Jan 2004)",
          "peak_month": "2004-01-01T00:00:00",
          "peak_month_str": "2004-01",
          "peak_row": "peak@Counter-Strike (2004-01)"
         },
         {
          "game": "PUBG",
          "interest": 56.52,
          "peak_game": "Valorant",
          "peak_label": "Valorant (Aug 2022)",
          "peak_month": "2022-08-01T00:00:00",
          "peak_month_str": "2022-08",
          "peak_row": "peak@Valorant (2022-08)"
         },
         {
          "game": "PUBG",
          "interest": 0,
          "peak_game": "Call of Duty",
          "peak_label": "Call of Duty (Nov 2010)",
          "peak_month": "2010-11-01T00:00:00",
          "peak_month_str": "2010-11",
          "peak_row": "peak@Call of Duty (2010-11)"
         },
         {
          "game": "PUBG",
          "interest": 0,
          "peak_game": "Overwatch",
          "peak_label": "Overwatch (May 2016)",
          "peak_month": "2016-05-01T00:00:00",
          "peak_month_str": "2016-05",
          "peak_row": "peak@Overwatch (2016-05)"
         },
         {
          "game": "PUBG",
          "interest": 0,
          "peak_game": "Battlefield",
          "peak_label": "Battlefield (Oct 2011)",
          "peak_month": "2011-10-01T00:00:00",
          "peak_month_str": "2011-10",
          "peak_row": "peak@Battlefield (2011-10)"
         },
         {
          "game": "PUBG",
          "interest": 100,
          "peak_game": "PUBG",
          "peak_label": "PUBG (Sep 2020)",
          "peak_month": "2020-09-01T00:00:00",
          "peak_month_str": "2020-09",
          "peak_row": "peak@PUBG (2020-09)"
         },
         {
          "game": "PUBG",
          "interest": 17,
          "peak_game": "Fortnite",
          "peak_label": "Fortnite (Jul 2018)",
          "peak_month": "2018-07-01T00:00:00",
          "peak_month_str": "2018-07",
          "peak_row": "peak@Fortnite (2018-07)"
         },
         {
          "game": "PUBG",
          "interest": 109.23,
          "peak_game": "Apex Legends",
          "peak_label": "Apex Legends (Feb 2019)",
          "peak_month": "2019-02-01T00:00:00",
          "peak_month_str": "2019-02",
          "peak_row": "peak@Apex Legends (2019-02)"
         },
         {
          "game": "PUBG",
          "interest": 0,
          "peak_game": "Rainbow Six Siege",
          "peak_label": "Rainbow Six Siege (Dec 2015)",
          "peak_month": "2015-12-01T00:00:00",
          "peak_month_str": "2015-12",
          "peak_row": "peak@Rainbow Six Siege (2015-12)"
         },
         {
          "game": "Fortnite",
          "interest": 0,
          "peak_game": "Counter-Strike",
          "peak_label": "Counter-Strike (Jan 2004)",
          "peak_month": "2004-01-01T00:00:00",
          "peak_month_str": "2004-01",
          "peak_row": "peak@Counter-Strike (2004-01)"
         },
         {
          "game": "Fortnite",
          "interest": 133.33,
          "peak_game": "Valorant",
          "peak_label": "Valorant (Aug 2022)",
          "peak_month": "2022-08-01T00:00:00",
          "peak_month_str": "2022-08",
          "peak_row": "peak@Valorant (2022-08)"
         },
         {
          "game": "Fortnite",
          "interest": 0,
          "peak_game": "Call of Duty",
          "peak_label": "Call of Duty (Nov 2010)",
          "peak_month": "2010-11-01T00:00:00",
          "peak_month_str": "2010-11",
          "peak_row": "peak@Call of Duty (2010-11)"
         },
         {
          "game": "Fortnite",
          "interest": 0,
          "peak_game": "Overwatch",
          "peak_label": "Overwatch (May 2016)",
          "peak_month": "2016-05-01T00:00:00",
          "peak_month_str": "2016-05",
          "peak_row": "peak@Overwatch (2016-05)"
         },
         {
          "game": "Fortnite",
          "interest": 0,
          "peak_game": "Battlefield",
          "peak_label": "Battlefield (Oct 2011)",
          "peak_month": "2011-10-01T00:00:00",
          "peak_month_str": "2011-10",
          "peak_row": "peak@Battlefield (2011-10)"
         },
         {
          "game": "Fortnite",
          "interest": 117.5,
          "peak_game": "PUBG",
          "peak_label": "PUBG (Sep 2020)",
          "peak_month": "2020-09-01T00:00:00",
          "peak_month_str": "2020-09",
          "peak_row": "peak@PUBG (2020-09)"
         },
         {
          "game": "Fortnite",
          "interest": 100,
          "peak_game": "Fortnite",
          "peak_label": "Fortnite (Jul 2018)",
          "peak_month": "2018-07-01T00:00:00",
          "peak_month_str": "2018-07",
          "peak_row": "peak@Fortnite (2018-07)"
         },
         {
          "game": "Fortnite",
          "interest": 311.54,
          "peak_game": "Apex Legends",
          "peak_label": "Apex Legends (Feb 2019)",
          "peak_month": "2019-02-01T00:00:00",
          "peak_month_str": "2019-02",
          "peak_row": "peak@Apex Legends (2019-02)"
         },
         {
          "game": "Fortnite",
          "interest": 0,
          "peak_game": "Rainbow Six Siege",
          "peak_label": "Rainbow Six Siege (Dec 2015)",
          "peak_month": "2015-12-01T00:00:00",
          "peak_month_str": "2015-12",
          "peak_row": "peak@Rainbow Six Siege (2015-12)"
         },
         {
          "game": "Apex Legends",
          "interest": 0,
          "peak_game": "Counter-Strike",
          "peak_label": "Counter-Strike (Jan 2004)",
          "peak_month": "2004-01-01T00:00:00",
          "peak_month_str": "2004-01",
          "peak_row": "peak@Counter-Strike (2004-01)"
         },
         {
          "game": "Apex Legends",
          "interest": 14.29,
          "peak_game": "Valorant",
          "peak_label": "Valorant (Aug 2022)",
          "peak_month": "2022-08-01T00:00:00",
          "peak_month_str": "2022-08",
          "peak_row": "peak@Valorant (2022-08)"
         },
         {
          "game": "Apex Legends",
          "interest": 0,
          "peak_game": "Call of Duty",
          "peak_label": "Call of Duty (Nov 2010)",
          "peak_month": "2010-11-01T00:00:00",
          "peak_month_str": "2010-11",
          "peak_row": "peak@Call of Duty (2010-11)"
         },
         {
          "game": "Apex Legends",
          "interest": 0,
          "peak_game": "Overwatch",
          "peak_label": "Overwatch (May 2016)",
          "peak_month": "2016-05-01T00:00:00",
          "peak_month_str": "2016-05",
          "peak_row": "peak@Overwatch (2016-05)"
         },
         {
          "game": "Apex Legends",
          "interest": 0,
          "peak_game": "Battlefield",
          "peak_label": "Battlefield (Oct 2011)",
          "peak_month": "2011-10-01T00:00:00",
          "peak_month_str": "2011-10",
          "peak_row": "peak@Battlefield (2011-10)"
         },
         {
          "game": "Apex Legends",
          "interest": 5,
          "peak_game": "PUBG",
          "peak_label": "PUBG (Sep 2020)",
          "peak_month": "2020-09-01T00:00:00",
          "peak_month_str": "2020-09",
          "peak_row": "peak@PUBG (2020-09)"
         },
         {
          "game": "Apex Legends",
          "interest": 0,
          "peak_game": "Fortnite",
          "peak_label": "Fortnite (Jul 2018)",
          "peak_month": "2018-07-01T00:00:00",
          "peak_month_str": "2018-07",
          "peak_row": "peak@Fortnite (2018-07)"
         },
         {
          "game": "Apex Legends",
          "interest": 100,
          "peak_game": "Apex Legends",
          "peak_label": "Apex Legends (Feb 2019)",
          "peak_month": "2019-02-01T00:00:00",
          "peak_month_str": "2019-02",
          "peak_row": "peak@Apex Legends (2019-02)"
         },
         {
          "game": "Apex Legends",
          "interest": 0,
          "peak_game": "Rainbow Six Siege",
          "peak_label": "Rainbow Six Siege (Dec 2015)",
          "peak_month": "2015-12-01T00:00:00",
          "peak_month_str": "2015-12",
          "peak_row": "peak@Rainbow Six Siege (2015-12)"
         },
         {
          "game": "Rainbow Six Siege",
          "interest": 0,
          "peak_game": "Counter-Strike",
          "peak_label": "Counter-Strike (Jan 2004)",
          "peak_month": "2004-01-01T00:00:00",
          "peak_month_str": "2004-01",
          "peak_row": "peak@Counter-Strike (2004-01)"
         },
         {
          "game": "Rainbow Six Siege",
          "interest": 4,
          "peak_game": "Valorant",
          "peak_label": "Valorant (Aug 2022)",
          "peak_month": "2022-08-01T00:00:00",
          "peak_month_str": "2022-08",
          "peak_row": "peak@Valorant (2022-08)"
         },
         {
          "game": "Rainbow Six Siege",
          "interest": 0,
          "peak_game": "Call of Duty",
          "peak_label": "Call of Duty (Nov 2010)",
          "peak_month": "2010-11-01T00:00:00",
          "peak_month_str": "2010-11",
          "peak_row": "peak@Call of Duty (2010-11)"
         },
         {
          "game": "Rainbow Six Siege",
          "interest": 5,
          "peak_game": "Overwatch",
          "peak_label": "Overwatch (May 2016)",
          "peak_month": "2016-05-01T00:00:00",
          "peak_month_str": "2016-05",
          "peak_row": "peak@Overwatch (2016-05)"
         },
         {
          "game": "Rainbow Six Siege",
          "interest": 0,
          "peak_game": "Battlefield",
          "peak_label": "Battlefield (Oct 2011)",
          "peak_month": "2011-10-01T00:00:00",
          "peak_month_str": "2011-10",
          "peak_row": "peak@Battlefield (2011-10)"
         },
         {
          "game": "Rainbow Six Siege",
          "interest": 4,
          "peak_game": "PUBG",
          "peak_label": "PUBG (Sep 2020)",
          "peak_month": "2020-09-01T00:00:00",
          "peak_month_str": "2020-09",
          "peak_row": "peak@PUBG (2020-09)"
         },
         {
          "game": "Rainbow Six Siege",
          "interest": 2,
          "peak_game": "Fortnite",
          "peak_label": "Fortnite (Jul 2018)",
          "peak_month": "2018-07-01T00:00:00",
          "peak_month_str": "2018-07",
          "peak_row": "peak@Fortnite (2018-07)"
         },
         {
          "game": "Rainbow Six Siege",
          "interest": 7,
          "peak_game": "Apex Legends",
          "peak_label": "Apex Legends (Feb 2019)",
          "peak_month": "2019-02-01T00:00:00",
          "peak_month_str": "2019-02",
          "peak_row": "peak@Apex Legends (2019-02)"
         },
         {
          "game": "Rainbow Six Siege",
          "interest": 100,
          "peak_game": "Rainbow Six Siege",
          "peak_label": "Rainbow Six Siege (Dec 2015)",
          "peak_month": "2015-12-01T00:00:00",
          "peak_month_str": "2015-12",
          "peak_row": "peak@Rainbow Six Siege (2015-12)"
         }
        ]
       },
       "height": {
        "step": 30
       },
       "layer": [
        {
         "encoding": {
          "color": {
           "field": "interest",
           "scale": {
            "domain": [
             0,
             311.54
            ],
            "scheme": "blues"
           },
           "title": "Pairwise-scaled interest",
           "type": "quantitative"
          },
          "tooltip": [
           {
            "field": "peak_game",
            "title": "Row peak of",
            "type": "nominal"
           },
           {
            "field": "peak_month",
            "title": "Peak month",
            "type": "temporal"
           },
           {
            "field": "game",
            "title": "Column game",
            "type": "nominal"
           },
           {
            "field": "interest",
            "format": ".0f",
            "title": "Interest",
            "type": "quantitative"
           }
          ],
          "x": {
           "field": "game",
           "sort": [
            "Fortnite",
            "Call of Duty",
            "Battlefield",
            "PUBG",
            "Apex Legends",
            "Counter-Strike",
            "Overwatch",
            "Rainbow Six Siege",
            "Valorant"
           ],
           "title": "Game",
           "type": "nominal"
          },
          "y": {
           "field": "peak_label",
           "sort": [
            "Counter-Strike (Jan 2004)",
            "Call of Duty (Nov 2010)",
            "Battlefield (Oct 2011)",
            "Rainbow Six Siege (Dec 2015)",
            "Overwatch (May 2016)",
            "Fortnite (Jul 2018)",
            "Apex Legends (Feb 2019)",
            "PUBG (Sep 2020)",
            "Valorant (Aug 2022)"
           ],
           "title": "Peak month per game",
           "type": "nominal"
          }
         },
         "mark": {
          "type": "rect"
         },
         "title": "Google Trends — Pairwise-at-peak Heatmap (2-term requests; row-diagonal = 100)"
        },
        {
         "encoding": {
          "color": {
           "condition": {
            "test": "(datum.interest >= 186.924)",
            "value": "white"
           },
           "value": "black"
          },
          "text": {
           "field": "interest",
           "format": ".0f",
           "type": "quantitative"
          },
          "x": {
           "field": "game",
           "sort": [
            "Fortnite",
            "Call of Duty",
            "Battlefield",
            "PUBG",
            "Apex Legends",
            "Counter-Strike",
            "Overwatch",
            "Rainbow Six Siege",
            "Valorant"
           ],
           "type": "nominal"
          },
          "y": {
           "field": "peak_label",
           "sort": [
            "Counter-Strike (Jan 2004)",
            "Call of Duty (Nov 2010)",
            "Battlefield (Oct 2011)",
            "Rainbow Six Siege (Dec 2015)",
            "Overwatch (May 2016)",
            "Fortnite (Jul 2018)",
            "Apex Legends (Feb 2019)",
            "PUBG (Sep 2020)",
            "Valorant (Aug 2022)"
           ],
           "type": "nominal"
          }
         },
         "mark": {
          "size": 9,
          "type": "text"
         }
        }
       ],
       "usermeta": {
        "embedOptions": {
         "theme": "fivethirtyeight"
        }
       },
       "width": {
        "step": 30
       }
      },
      "text/plain": [
       "<VegaLite 5 object>\n",
       "\n",
       "If you see this message, it means the renderer has not been properly enabled\n",
       "for the frontend that you are using. For more information, see\n",
       "https://altair-viz.github.io/user_guide/display_frontends.html#troubleshooting\n"
      ]
     },
     "execution_count": 11,
     "metadata": {},
     "output_type": "execute_result"
    }
   ],
   "source": [
    "# --- color scaling ---\n",
    "vmin = float(np.nanmin(long[\"interest\"].values)) if not long[\"interest\"].dropna().empty else 0.0\n",
    "vmax = float(np.nanmax(long[\"interest\"].values)) if not long[\"interest\"].dropna().empty else 100.0\n",
    "# In pairwise scaling, diagonal is 100 by construction; off-diagonals can exceed 100 if j > i in i's peak month.\n",
    "# Use a dynamic upper bound so we don't clip >100 values.\n",
    "color_scale = alt.Scale(domain=[max(0, vmin), vmax], scheme=\"blues\")\n",
    "\n",
    "# --- heatmap ---\n",
    "heatmap = (\n",
    "    alt.Chart(long)\n",
    "    .mark_rect()\n",
    "    .encode(\n",
    "        y=alt.Y(\"peak_label:N\", title=\"Peak month per game\", sort=row_order),\n",
    "        x=alt.X(\"game:N\", title=\"Game\", sort=col_order),\n",
    "        color=alt.Color(\"interest:Q\", title=\"Pairwise-scaled interest\", scale=color_scale),\n",
    "        tooltip=[\n",
    "            alt.Tooltip(\"peak_game:N\", title=\"Row peak of\"),\n",
    "            alt.Tooltip(\"peak_month:T\", title=\"Peak month\"),\n",
    "            alt.Tooltip(\"game:N\", title=\"Column game\"),\n",
    "            alt.Tooltip(\"interest:Q\", title=\"Interest\", format=\".0f\"),\n",
    "        ],\n",
    "    )\n",
    "    .properties(\n",
    "        title=\"Google Trends — Pairwise-at-peak Heatmap (2-term requests; row-diagonal = 100)\",\n",
    "        width={\"step\": 30},\n",
    "        height={\"step\": 30},\n",
    "    )\n",
    ")\n",
    "\n",
    "# Optional numeric labels (auto-contrasting color)\n",
    "labels = (\n",
    "    alt.Chart(long)\n",
    "    .mark_text(size=9)\n",
    "    .encode(\n",
    "        y=alt.Y(\"peak_label:N\", sort=row_order),\n",
    "        x=alt.X(\"game:N\", sort=col_order),\n",
    "        text=alt.Text(\"interest:Q\", format=\".0f\"),\n",
    "        color=alt.condition(\n",
    "            alt.datum.interest >= (0.6 * vmax), alt.value(\"white\"), alt.value(\"black\")\n",
    "        ),\n",
    "    )\n",
    ")\n",
    "\n",
    "(heatmap + labels).configure_axis(labelLimit=280).configure_view(stroke=None)"
   ]
  },
  {
   "cell_type": "markdown",
   "id": "49864d51",
   "metadata": {},
   "source": [
    "### Heatmap Visualizations"
   ]
  },
  {
   "cell_type": "code",
   "execution_count": 12,
   "id": "432f8258",
   "metadata": {},
   "outputs": [
    {
     "data": {
      "text/html": [
       "<div>\n",
       "<style scoped>\n",
       "    .dataframe tbody tr th:only-of-type {\n",
       "        vertical-align: middle;\n",
       "    }\n",
       "\n",
       "    .dataframe tbody tr th {\n",
       "        vertical-align: top;\n",
       "    }\n",
       "\n",
       "    .dataframe thead th {\n",
       "        text-align: right;\n",
       "    }\n",
       "</style>\n",
       "<table border=\"1\" class=\"dataframe\">\n",
       "  <thead>\n",
       "    <tr style=\"text-align: right;\">\n",
       "      <th></th>\n",
       "      <th>month</th>\n",
       "      <th>peak</th>\n",
       "      <th>gain</th>\n",
       "      <th>% gain</th>\n",
       "    </tr>\n",
       "  </thead>\n",
       "  <tbody>\n",
       "    <tr>\n",
       "      <th>178</th>\n",
       "      <td>2020-06-01</td>\n",
       "      <td>986980.0</td>\n",
       "      <td>-233105.0</td>\n",
       "      <td>-104.3</td>\n",
       "    </tr>\n",
       "    <tr>\n",
       "      <th>179</th>\n",
       "      <td>2020-07-01</td>\n",
       "      <td>887871.0</td>\n",
       "      <td>-99109.0</td>\n",
       "      <td>-32.1</td>\n",
       "    </tr>\n",
       "    <tr>\n",
       "      <th>180</th>\n",
       "      <td>2020-08-01</td>\n",
       "      <td>955869.0</td>\n",
       "      <td>67998.0</td>\n",
       "      <td>-28.0</td>\n",
       "    </tr>\n",
       "    <tr>\n",
       "      <th>181</th>\n",
       "      <td>2020-09-01</td>\n",
       "      <td>1003755.0</td>\n",
       "      <td>47886.0</td>\n",
       "      <td>-8.9</td>\n",
       "    </tr>\n",
       "    <tr>\n",
       "      <th>182</th>\n",
       "      <td>2020-10-01</td>\n",
       "      <td>977120.0</td>\n",
       "      <td>-26635.0</td>\n",
       "      <td>24.6</td>\n",
       "    </tr>\n",
       "    <tr>\n",
       "      <th>...</th>\n",
       "      <td>...</td>\n",
       "      <td>...</td>\n",
       "      <td>...</td>\n",
       "      <td>...</td>\n",
       "    </tr>\n",
       "    <tr>\n",
       "      <th>236</th>\n",
       "      <td>2025-04-01</td>\n",
       "      <td>1898525.0</td>\n",
       "      <td>34097.0</td>\n",
       "      <td>-19.3</td>\n",
       "    </tr>\n",
       "    <tr>\n",
       "      <th>237</th>\n",
       "      <td>2025-05-01</td>\n",
       "      <td>1752347.0</td>\n",
       "      <td>-146178.0</td>\n",
       "      <td>-47.0</td>\n",
       "    </tr>\n",
       "    <tr>\n",
       "      <th>238</th>\n",
       "      <td>2025-06-01</td>\n",
       "      <td>1766572.0</td>\n",
       "      <td>14225.0</td>\n",
       "      <td>29.8</td>\n",
       "    </tr>\n",
       "    <tr>\n",
       "      <th>239</th>\n",
       "      <td>2025-07-01</td>\n",
       "      <td>1506027.0</td>\n",
       "      <td>-260545.0</td>\n",
       "      <td>194.0</td>\n",
       "    </tr>\n",
       "    <tr>\n",
       "      <th>240</th>\n",
       "      <td>2025-08-01</td>\n",
       "      <td>1581554.0</td>\n",
       "      <td>75527.0</td>\n",
       "      <td>-3.2</td>\n",
       "    </tr>\n",
       "  </tbody>\n",
       "</table>\n",
       "<p>63 rows × 4 columns</p>\n",
       "</div>"
      ],
      "text/plain": [
       "         month       peak      gain  % gain\n",
       "178 2020-06-01   986980.0 -233105.0  -104.3\n",
       "179 2020-07-01   887871.0  -99109.0   -32.1\n",
       "180 2020-08-01   955869.0   67998.0   -28.0\n",
       "181 2020-09-01  1003755.0   47886.0    -8.9\n",
       "182 2020-10-01   977120.0  -26635.0    24.6\n",
       "..         ...        ...       ...     ...\n",
       "236 2025-04-01  1898525.0   34097.0   -19.3\n",
       "237 2025-05-01  1752347.0 -146178.0   -47.0\n",
       "238 2025-06-01  1766572.0   14225.0    29.8\n",
       "239 2025-07-01  1506027.0 -260545.0   194.0\n",
       "240 2025-08-01  1581554.0   75527.0    -3.2\n",
       "\n",
       "[63 rows x 4 columns]"
      ]
     },
     "execution_count": 12,
     "metadata": {},
     "output_type": "execute_result"
    }
   ],
   "source": [
    "cs_merged_data_post2020 = cs_merged_data[cs_merged_data['month'] >= '2020-06-01']\n",
    "cs_merged_data_post2020"
   ]
  },
  {
   "cell_type": "code",
   "execution_count": 13,
   "id": "3680db99",
   "metadata": {},
   "outputs": [],
   "source": [
    "def prep(df, name):\n",
    "    out = df[['month','peak', 'gain', '% gain']].copy()\n",
    "    return out.rename(columns={'peak': name, 'gain': name+' gain', '% gain': name+' % gain'})"
   ]
  },
  {
   "cell_type": "code",
   "execution_count": 14,
   "id": "3b059905",
   "metadata": {},
   "outputs": [
    {
     "data": {
      "text/html": [
       "<div>\n",
       "<style scoped>\n",
       "    .dataframe tbody tr th:only-of-type {\n",
       "        vertical-align: middle;\n",
       "    }\n",
       "\n",
       "    .dataframe tbody tr th {\n",
       "        vertical-align: top;\n",
       "    }\n",
       "\n",
       "    .dataframe thead th {\n",
       "        text-align: right;\n",
       "    }\n",
       "</style>\n",
       "<table border=\"1\" class=\"dataframe\">\n",
       "  <thead>\n",
       "    <tr style=\"text-align: right;\">\n",
       "      <th></th>\n",
       "      <th>month</th>\n",
       "      <th>cs</th>\n",
       "      <th>cs gain</th>\n",
       "      <th>cs % gain</th>\n",
       "      <th>cod</th>\n",
       "      <th>cod gain</th>\n",
       "      <th>cod % gain</th>\n",
       "      <th>valorant</th>\n",
       "      <th>valorant gain</th>\n",
       "      <th>valorant % gain</th>\n",
       "      <th>siege</th>\n",
       "      <th>siege gain</th>\n",
       "      <th>siege % gain</th>\n",
       "      <th>fortnite</th>\n",
       "      <th>fortnite gain</th>\n",
       "      <th>fortnite % gain</th>\n",
       "      <th>battlefield</th>\n",
       "      <th>battlefield gain</th>\n",
       "      <th>battlefield % gain</th>\n",
       "    </tr>\n",
       "  </thead>\n",
       "  <tbody>\n",
       "    <tr>\n",
       "      <th>0</th>\n",
       "      <td>2020-06-01</td>\n",
       "      <td>986980.0</td>\n",
       "      <td>-233105.0</td>\n",
       "      <td>-104.3</td>\n",
       "      <td>8382.0</td>\n",
       "      <td>-3681.0</td>\n",
       "      <td>-22.7</td>\n",
       "      <td>183072.0</td>\n",
       "      <td>0.0</td>\n",
       "      <td>0.0</td>\n",
       "      <td>126511.0</td>\n",
       "      <td>-20062.0</td>\n",
       "      <td>-13.7</td>\n",
       "      <td>NaN</td>\n",
       "      <td>NaN</td>\n",
       "      <td>NaN</td>\n",
       "      <td>5172.0</td>\n",
       "      <td>0.0</td>\n",
       "      <td>0.0</td>\n",
       "    </tr>\n",
       "    <tr>\n",
       "      <th>1</th>\n",
       "      <td>2020-07-01</td>\n",
       "      <td>887871.0</td>\n",
       "      <td>-99109.0</td>\n",
       "      <td>-32.1</td>\n",
       "      <td>7746.0</td>\n",
       "      <td>-636.0</td>\n",
       "      <td>-7.6</td>\n",
       "      <td>964278.0</td>\n",
       "      <td>781206.0</td>\n",
       "      <td>426.7</td>\n",
       "      <td>122461.0</td>\n",
       "      <td>-4050.0</td>\n",
       "      <td>-3.2</td>\n",
       "      <td>NaN</td>\n",
       "      <td>NaN</td>\n",
       "      <td>NaN</td>\n",
       "      <td>4696.0</td>\n",
       "      <td>-476.0</td>\n",
       "      <td>-9.2</td>\n",
       "    </tr>\n",
       "    <tr>\n",
       "      <th>2</th>\n",
       "      <td>2020-08-01</td>\n",
       "      <td>955869.0</td>\n",
       "      <td>67998.0</td>\n",
       "      <td>-28.0</td>\n",
       "      <td>8607.0</td>\n",
       "      <td>861.0</td>\n",
       "      <td>11.1</td>\n",
       "      <td>2022100.0</td>\n",
       "      <td>1057822.0</td>\n",
       "      <td>109.7</td>\n",
       "      <td>131847.0</td>\n",
       "      <td>9386.0</td>\n",
       "      <td>7.7</td>\n",
       "      <td>NaN</td>\n",
       "      <td>NaN</td>\n",
       "      <td>NaN</td>\n",
       "      <td>16020.0</td>\n",
       "      <td>11324.0</td>\n",
       "      <td>241.1</td>\n",
       "    </tr>\n",
       "    <tr>\n",
       "      <th>3</th>\n",
       "      <td>2020-09-01</td>\n",
       "      <td>1003755.0</td>\n",
       "      <td>47886.0</td>\n",
       "      <td>-8.9</td>\n",
       "      <td>8060.0</td>\n",
       "      <td>-547.0</td>\n",
       "      <td>-6.4</td>\n",
       "      <td>2076758.0</td>\n",
       "      <td>54658.0</td>\n",
       "      <td>2.7</td>\n",
       "      <td>94285.0</td>\n",
       "      <td>-37562.0</td>\n",
       "      <td>-28.5</td>\n",
       "      <td>NaN</td>\n",
       "      <td>NaN</td>\n",
       "      <td>NaN</td>\n",
       "      <td>7273.0</td>\n",
       "      <td>-8747.0</td>\n",
       "      <td>-54.6</td>\n",
       "    </tr>\n",
       "    <tr>\n",
       "      <th>4</th>\n",
       "      <td>2020-10-01</td>\n",
       "      <td>977120.0</td>\n",
       "      <td>-26635.0</td>\n",
       "      <td>24.6</td>\n",
       "      <td>13277.0</td>\n",
       "      <td>5217.0</td>\n",
       "      <td>64.7</td>\n",
       "      <td>2056779.0</td>\n",
       "      <td>-19979.0</td>\n",
       "      <td>-1.0</td>\n",
       "      <td>115584.0</td>\n",
       "      <td>21299.0</td>\n",
       "      <td>22.6</td>\n",
       "      <td>NaN</td>\n",
       "      <td>NaN</td>\n",
       "      <td>NaN</td>\n",
       "      <td>15854.0</td>\n",
       "      <td>8581.0</td>\n",
       "      <td>118.0</td>\n",
       "    </tr>\n",
       "    <tr>\n",
       "      <th>...</th>\n",
       "      <td>...</td>\n",
       "      <td>...</td>\n",
       "      <td>...</td>\n",
       "      <td>...</td>\n",
       "      <td>...</td>\n",
       "      <td>...</td>\n",
       "      <td>...</td>\n",
       "      <td>...</td>\n",
       "      <td>...</td>\n",
       "      <td>...</td>\n",
       "      <td>...</td>\n",
       "      <td>...</td>\n",
       "      <td>...</td>\n",
       "      <td>...</td>\n",
       "      <td>...</td>\n",
       "      <td>...</td>\n",
       "      <td>...</td>\n",
       "      <td>...</td>\n",
       "      <td>...</td>\n",
       "    </tr>\n",
       "    <tr>\n",
       "      <th>58</th>\n",
       "      <td>2025-04-01</td>\n",
       "      <td>1898525.0</td>\n",
       "      <td>34097.0</td>\n",
       "      <td>-19.3</td>\n",
       "      <td>152660.0</td>\n",
       "      <td>61207.0</td>\n",
       "      <td>66.9</td>\n",
       "      <td>5391338.0</td>\n",
       "      <td>-572938.0</td>\n",
       "      <td>-9.6</td>\n",
       "      <td>107312.0</td>\n",
       "      <td>-38178.0</td>\n",
       "      <td>-26.2</td>\n",
       "      <td>2132493.0</td>\n",
       "      <td>-624636.0</td>\n",
       "      <td>-22.7</td>\n",
       "      <td>52747.0</td>\n",
       "      <td>-28341.0</td>\n",
       "      <td>-35.0</td>\n",
       "    </tr>\n",
       "    <tr>\n",
       "      <th>59</th>\n",
       "      <td>2025-05-01</td>\n",
       "      <td>1752347.0</td>\n",
       "      <td>-146178.0</td>\n",
       "      <td>-47.0</td>\n",
       "      <td>128330.0</td>\n",
       "      <td>-24330.0</td>\n",
       "      <td>-15.9</td>\n",
       "      <td>5207109.0</td>\n",
       "      <td>-184229.0</td>\n",
       "      <td>-3.4</td>\n",
       "      <td>89179.0</td>\n",
       "      <td>-18133.0</td>\n",
       "      <td>-16.9</td>\n",
       "      <td>2356174.0</td>\n",
       "      <td>223681.0</td>\n",
       "      <td>10.5</td>\n",
       "      <td>59146.0</td>\n",
       "      <td>6399.0</td>\n",
       "      <td>12.1</td>\n",
       "    </tr>\n",
       "    <tr>\n",
       "      <th>60</th>\n",
       "      <td>2025-06-01</td>\n",
       "      <td>1766572.0</td>\n",
       "      <td>14225.0</td>\n",
       "      <td>29.8</td>\n",
       "      <td>106348.0</td>\n",
       "      <td>-21982.0</td>\n",
       "      <td>-17.1</td>\n",
       "      <td>5290508.0</td>\n",
       "      <td>83399.0</td>\n",
       "      <td>1.6</td>\n",
       "      <td>141870.0</td>\n",
       "      <td>52691.0</td>\n",
       "      <td>59.1</td>\n",
       "      <td>5948454.0</td>\n",
       "      <td>3592280.0</td>\n",
       "      <td>152.5</td>\n",
       "      <td>45532.0</td>\n",
       "      <td>-13614.0</td>\n",
       "      <td>-23.0</td>\n",
       "    </tr>\n",
       "    <tr>\n",
       "      <th>61</th>\n",
       "      <td>2025-07-01</td>\n",
       "      <td>1506027.0</td>\n",
       "      <td>-260545.0</td>\n",
       "      <td>194.0</td>\n",
       "      <td>105203.0</td>\n",
       "      <td>-1145.0</td>\n",
       "      <td>-1.1</td>\n",
       "      <td>5202237.0</td>\n",
       "      <td>-88271.0</td>\n",
       "      <td>-1.7</td>\n",
       "      <td>111052.0</td>\n",
       "      <td>-30818.0</td>\n",
       "      <td>-21.7</td>\n",
       "      <td>2396423.0</td>\n",
       "      <td>-3552031.0</td>\n",
       "      <td>-59.7</td>\n",
       "      <td>44634.0</td>\n",
       "      <td>-898.0</td>\n",
       "      <td>-2.0</td>\n",
       "    </tr>\n",
       "    <tr>\n",
       "      <th>62</th>\n",
       "      <td>2025-08-01</td>\n",
       "      <td>1581554.0</td>\n",
       "      <td>75527.0</td>\n",
       "      <td>-3.2</td>\n",
       "      <td>88789.0</td>\n",
       "      <td>-16414.0</td>\n",
       "      <td>-15.6</td>\n",
       "      <td>5204025.0</td>\n",
       "      <td>1788.0</td>\n",
       "      <td>0.0</td>\n",
       "      <td>100219.0</td>\n",
       "      <td>-10833.0</td>\n",
       "      <td>-9.8</td>\n",
       "      <td>3984350.0</td>\n",
       "      <td>1587927.0</td>\n",
       "      <td>66.3</td>\n",
       "      <td>121175.0</td>\n",
       "      <td>76541.0</td>\n",
       "      <td>171.5</td>\n",
       "    </tr>\n",
       "  </tbody>\n",
       "</table>\n",
       "<p>63 rows × 19 columns</p>\n",
       "</div>"
      ],
      "text/plain": [
       "        month         cs   cs gain  cs % gain       cod  cod gain  cod % gain  \\\n",
       "0  2020-06-01   986980.0 -233105.0     -104.3    8382.0   -3681.0       -22.7   \n",
       "1  2020-07-01   887871.0  -99109.0      -32.1    7746.0    -636.0        -7.6   \n",
       "2  2020-08-01   955869.0   67998.0      -28.0    8607.0     861.0        11.1   \n",
       "3  2020-09-01  1003755.0   47886.0       -8.9    8060.0    -547.0        -6.4   \n",
       "4  2020-10-01   977120.0  -26635.0       24.6   13277.0    5217.0        64.7   \n",
       "..        ...        ...       ...        ...       ...       ...         ...   \n",
       "58 2025-04-01  1898525.0   34097.0      -19.3  152660.0   61207.0        66.9   \n",
       "59 2025-05-01  1752347.0 -146178.0      -47.0  128330.0  -24330.0       -15.9   \n",
       "60 2025-06-01  1766572.0   14225.0       29.8  106348.0  -21982.0       -17.1   \n",
       "61 2025-07-01  1506027.0 -260545.0      194.0  105203.0   -1145.0        -1.1   \n",
       "62 2025-08-01  1581554.0   75527.0       -3.2   88789.0  -16414.0       -15.6   \n",
       "\n",
       "     valorant  valorant gain  valorant % gain     siege  siege gain  \\\n",
       "0    183072.0            0.0              0.0  126511.0    -20062.0   \n",
       "1    964278.0       781206.0            426.7  122461.0     -4050.0   \n",
       "2   2022100.0      1057822.0            109.7  131847.0      9386.0   \n",
       "3   2076758.0        54658.0              2.7   94285.0    -37562.0   \n",
       "4   2056779.0       -19979.0             -1.0  115584.0     21299.0   \n",
       "..        ...            ...              ...       ...         ...   \n",
       "58  5391338.0      -572938.0             -9.6  107312.0    -38178.0   \n",
       "59  5207109.0      -184229.0             -3.4   89179.0    -18133.0   \n",
       "60  5290508.0        83399.0              1.6  141870.0     52691.0   \n",
       "61  5202237.0       -88271.0             -1.7  111052.0    -30818.0   \n",
       "62  5204025.0         1788.0              0.0  100219.0    -10833.0   \n",
       "\n",
       "    siege % gain   fortnite  fortnite gain  fortnite % gain  battlefield  \\\n",
       "0          -13.7        NaN            NaN              NaN       5172.0   \n",
       "1           -3.2        NaN            NaN              NaN       4696.0   \n",
       "2            7.7        NaN            NaN              NaN      16020.0   \n",
       "3          -28.5        NaN            NaN              NaN       7273.0   \n",
       "4           22.6        NaN            NaN              NaN      15854.0   \n",
       "..           ...        ...            ...              ...          ...   \n",
       "58         -26.2  2132493.0      -624636.0            -22.7      52747.0   \n",
       "59         -16.9  2356174.0       223681.0             10.5      59146.0   \n",
       "60          59.1  5948454.0      3592280.0            152.5      45532.0   \n",
       "61         -21.7  2396423.0     -3552031.0            -59.7      44634.0   \n",
       "62          -9.8  3984350.0      1587927.0             66.3     121175.0   \n",
       "\n",
       "    battlefield gain  battlefield % gain  \n",
       "0                0.0                 0.0  \n",
       "1             -476.0                -9.2  \n",
       "2            11324.0               241.1  \n",
       "3            -8747.0               -54.6  \n",
       "4             8581.0               118.0  \n",
       "..               ...                 ...  \n",
       "58          -28341.0               -35.0  \n",
       "59            6399.0                12.1  \n",
       "60          -13614.0               -23.0  \n",
       "61            -898.0                -2.0  \n",
       "62           76541.0               171.5  \n",
       "\n",
       "[63 rows x 19 columns]"
      ]
     },
     "execution_count": 14,
     "metadata": {},
     "output_type": "execute_result"
    }
   ],
   "source": [
    "cs   = prep(cs_merged_data_post2020, 'cs')\n",
    "cod  = prep(cod_data, 'cod')\n",
    "val  = prep(v_data, 'valorant')\n",
    "sie  = prep(rss_data, 'siege')\n",
    "fn   = prep(fn_data, 'fortnite')\n",
    "bf   = prep(bf_data, 'battlefield')\n",
    "\n",
    "dfs = [cs, cod, val, sie, fn, bf]\n",
    "merged = reduce(lambda l, r: pd.merge(l, r, on='month', how='outer', suffixes=(\"\", \"_dup\")), dfs).sort_values('month')\n",
    "\n",
    "# (optional) limit to 2020+ across all games to match CS slice\n",
    "merged = merged[merged['month'] >= pd.Timestamp('2020-06-01')]\n",
    "merged"
   ]
  },
  {
   "cell_type": "code",
   "execution_count": 15,
   "id": "d138d088",
   "metadata": {},
   "outputs": [
    {
     "data": {
      "application/vnd.vegalite.v5+json": {
       "$schema": "https://vega.github.io/schema/vega-lite/v5.20.1.json",
       "config": {
        "view": {
         "continuousHeight": 300,
         "continuousWidth": 300
        }
       },
       "data": {
        "name": "data-0ed16a61b6a238b8b7e68b2c1f226b2e"
       },
       "datasets": {
        "data-0ed16a61b6a238b8b7e68b2c1f226b2e": [
         {
          "game": "cs",
          "month": "2020-06-01T00:00:00",
          "players": 986980
         },
         {
          "game": "cs",
          "month": "2020-07-01T00:00:00",
          "players": 887871
         },
         {
          "game": "cs",
          "month": "2020-08-01T00:00:00",
          "players": 955869
         },
         {
          "game": "cs",
          "month": "2020-09-01T00:00:00",
          "players": 1003755
         },
         {
          "game": "cs",
          "month": "2020-10-01T00:00:00",
          "players": 977120
         },
         {
          "game": "cs",
          "month": "2020-11-01T00:00:00",
          "players": 1069121
         },
         {
          "game": "cs",
          "month": "2020-12-01T00:00:00",
          "players": 1201522
         },
         {
          "game": "cs",
          "month": "2021-01-01T00:00:00",
          "players": 1158553
         },
         {
          "game": "cs",
          "month": "2021-02-01T00:00:00",
          "players": 1156160
         },
         {
          "game": "cs",
          "month": "2021-03-01T00:00:00",
          "players": 1234187
         },
         {
          "game": "cs",
          "month": "2021-04-01T00:00:00",
          "players": 1182193
         },
         {
          "game": "cs",
          "month": "2021-05-01T00:00:00",
          "players": 1114107
         },
         {
          "game": "cs",
          "month": "2021-06-01T00:00:00",
          "players": 953085
         },
         {
          "game": "cs",
          "month": "2021-07-01T00:00:00",
          "players": 788128
         },
         {
          "game": "cs",
          "month": "2021-08-01T00:00:00",
          "players": 824180
         },
         {
          "game": "cs",
          "month": "2021-09-01T00:00:00",
          "players": 970788
         },
         {
          "game": "cs",
          "month": "2021-10-01T00:00:00",
          "players": 888099
         },
         {
          "game": "cs",
          "month": "2021-11-01T00:00:00",
          "players": 967548
         },
         {
          "game": "cs",
          "month": "2021-12-01T00:00:00",
          "players": 974624
         },
         {
          "game": "cs",
          "month": "2022-01-01T00:00:00",
          "players": 1019800
         },
         {
          "game": "cs",
          "month": "2022-02-01T00:00:00",
          "players": 1026057
         },
         {
          "game": "cs",
          "month": "2022-03-01T00:00:00",
          "players": 1019747
         },
         {
          "game": "cs",
          "month": "2022-04-01T00:00:00",
          "players": 1042536
         },
         {
          "game": "cs",
          "month": "2022-05-01T00:00:00",
          "players": 954908
         },
         {
          "game": "cs",
          "month": "2022-06-01T00:00:00",
          "players": 928566
         },
         {
          "game": "cs",
          "month": "2022-07-01T00:00:00",
          "players": 950395
         },
         {
          "game": "cs",
          "month": "2022-08-01T00:00:00",
          "players": 1060765
         },
         {
          "game": "cs",
          "month": "2022-09-01T00:00:00",
          "players": 1124191
         },
         {
          "game": "cs",
          "month": "2022-10-01T00:00:00",
          "players": 1110627
         },
         {
          "game": "cs",
          "month": "2022-11-01T00:00:00",
          "players": 1156226
         },
         {
          "game": "cs",
          "month": "2022-12-01T00:00:00",
          "players": 1090343
         },
         {
          "game": "cs",
          "month": "2023-01-01T00:00:00",
          "players": 1224207
         },
         {
          "game": "cs",
          "month": "2023-02-01T00:00:00",
          "players": 1378327
         },
         {
          "game": "cs",
          "month": "2023-03-01T00:00:00",
          "players": 1542231
         },
         {
          "game": "cs",
          "month": "2023-04-01T00:00:00",
          "players": 1536102
         },
         {
          "game": "cs",
          "month": "2023-05-01T00:00:00",
          "players": 1837896
         },
         {
          "game": "cs",
          "month": "2023-06-01T00:00:00",
          "players": 1692482
         },
         {
          "game": "cs",
          "month": "2023-07-01T00:00:00",
          "players": 1245840
         },
         {
          "game": "cs",
          "month": "2023-08-01T00:00:00",
          "players": 1557039
         },
         {
          "game": "cs",
          "month": "2023-09-01T00:00:00",
          "players": 1580157
         },
         {
          "game": "cs",
          "month": "2023-10-01T00:00:00",
          "players": 1412825
         },
         {
          "game": "cs",
          "month": "2023-11-01T00:00:00",
          "players": 1184525
         },
         {
          "game": "cs",
          "month": "2023-12-01T00:00:00",
          "players": 1276429
         },
         {
          "game": "cs",
          "month": "2024-01-01T00:00:00",
          "players": 1334752
         },
         {
          "game": "cs",
          "month": "2024-02-01T00:00:00",
          "players": 1431938
         },
         {
          "game": "cs",
          "month": "2024-03-01T00:00:00",
          "players": 1555064
         },
         {
          "game": "cs",
          "month": "2024-04-01T00:00:00",
          "players": 1647977
         },
         {
          "game": "cs",
          "month": "2024-05-01T00:00:00",
          "players": 1661558
         },
         {
          "game": "cs",
          "month": "2024-06-01T00:00:00",
          "players": 1558198
         },
         {
          "game": "cs",
          "month": "2024-07-01T00:00:00",
          "players": 1385446
         },
         {
          "game": "cs",
          "month": "2024-08-01T00:00:00",
          "players": 1461132
         },
         {
          "game": "cs",
          "month": "2024-09-01T00:00:00",
          "players": 1515033
         },
         {
          "game": "cs",
          "month": "2024-10-01T00:00:00",
          "players": 1529352
         },
         {
          "game": "cs",
          "month": "2024-11-01T00:00:00",
          "players": 1593726
         },
         {
          "game": "cs",
          "month": "2024-12-01T00:00:00",
          "players": 1777329
         },
         {
          "game": "cs",
          "month": "2025-01-01T00:00:00",
          "players": 1643797
         },
         {
          "game": "cs",
          "month": "2025-02-01T00:00:00",
          "players": 1827625
         },
         {
          "game": "cs",
          "month": "2025-03-01T00:00:00",
          "players": 1864428
         },
         {
          "game": "cs",
          "month": "2025-04-01T00:00:00",
          "players": 1898525
         },
         {
          "game": "cs",
          "month": "2025-05-01T00:00:00",
          "players": 1752347
         },
         {
          "game": "cs",
          "month": "2025-06-01T00:00:00",
          "players": 1766572
         },
         {
          "game": "cs",
          "month": "2025-07-01T00:00:00",
          "players": 1506027
         },
         {
          "game": "cs",
          "month": "2025-08-01T00:00:00",
          "players": 1581554
         },
         {
          "game": "cs gain",
          "month": "2020-06-01T00:00:00",
          "players": -233105
         },
         {
          "game": "cs gain",
          "month": "2020-07-01T00:00:00",
          "players": -99109
         },
         {
          "game": "cs gain",
          "month": "2020-08-01T00:00:00",
          "players": 67998
         },
         {
          "game": "cs gain",
          "month": "2020-09-01T00:00:00",
          "players": 47886
         },
         {
          "game": "cs gain",
          "month": "2020-10-01T00:00:00",
          "players": -26635
         },
         {
          "game": "cs gain",
          "month": "2020-11-01T00:00:00",
          "players": 92001
         },
         {
          "game": "cs gain",
          "month": "2020-12-01T00:00:00",
          "players": 132401
         },
         {
          "game": "cs gain",
          "month": "2021-01-01T00:00:00",
          "players": -42969
         },
         {
          "game": "cs gain",
          "month": "2021-02-01T00:00:00",
          "players": -2393
         },
         {
          "game": "cs gain",
          "month": "2021-03-01T00:00:00",
          "players": 78027
         },
         {
          "game": "cs gain",
          "month": "2021-04-01T00:00:00",
          "players": -51994
         },
         {
          "game": "cs gain",
          "month": "2021-05-01T00:00:00",
          "players": -68086
         },
         {
          "game": "cs gain",
          "month": "2021-06-01T00:00:00",
          "players": -161022
         },
         {
          "game": "cs gain",
          "month": "2021-07-01T00:00:00",
          "players": -164957
         },
         {
          "game": "cs gain",
          "month": "2021-08-01T00:00:00",
          "players": 36052
         },
         {
          "game": "cs gain",
          "month": "2021-09-01T00:00:00",
          "players": 146608
         },
         {
          "game": "cs gain",
          "month": "2021-10-01T00:00:00",
          "players": -82689
         },
         {
          "game": "cs gain",
          "month": "2021-11-01T00:00:00",
          "players": 79449
         },
         {
          "game": "cs gain",
          "month": "2021-12-01T00:00:00",
          "players": 7076
         },
         {
          "game": "cs gain",
          "month": "2022-01-01T00:00:00",
          "players": 45176
         },
         {
          "game": "cs gain",
          "month": "2022-02-01T00:00:00",
          "players": 6257
         },
         {
          "game": "cs gain",
          "month": "2022-03-01T00:00:00",
          "players": -6310
         },
         {
          "game": "cs gain",
          "month": "2022-04-01T00:00:00",
          "players": 22789
         },
         {
          "game": "cs gain",
          "month": "2022-05-01T00:00:00",
          "players": -87628
         },
         {
          "game": "cs gain",
          "month": "2022-06-01T00:00:00",
          "players": -26342
         },
         {
          "game": "cs gain",
          "month": "2022-07-01T00:00:00",
          "players": 21829
         },
         {
          "game": "cs gain",
          "month": "2022-08-01T00:00:00",
          "players": 110370
         },
         {
          "game": "cs gain",
          "month": "2022-09-01T00:00:00",
          "players": 63426
         },
         {
          "game": "cs gain",
          "month": "2022-10-01T00:00:00",
          "players": -13564
         },
         {
          "game": "cs gain",
          "month": "2022-11-01T00:00:00",
          "players": 45599
         },
         {
          "game": "cs gain",
          "month": "2022-12-01T00:00:00",
          "players": -65883
         },
         {
          "game": "cs gain",
          "month": "2023-01-01T00:00:00",
          "players": 133864
         },
         {
          "game": "cs gain",
          "month": "2023-02-01T00:00:00",
          "players": 154120
         },
         {
          "game": "cs gain",
          "month": "2023-03-01T00:00:00",
          "players": 163904
         },
         {
          "game": "cs gain",
          "month": "2023-04-01T00:00:00",
          "players": -6129
         },
         {
          "game": "cs gain",
          "month": "2023-05-01T00:00:00",
          "players": 301794
         },
         {
          "game": "cs gain",
          "month": "2023-06-01T00:00:00",
          "players": -145414
         },
         {
          "game": "cs gain",
          "month": "2023-07-01T00:00:00",
          "players": -446642
         },
         {
          "game": "cs gain",
          "month": "2023-08-01T00:00:00",
          "players": 311199
         },
         {
          "game": "cs gain",
          "month": "2023-09-01T00:00:00",
          "players": 23118
         },
         {
          "game": "cs gain",
          "month": "2023-10-01T00:00:00",
          "players": -167332
         },
         {
          "game": "cs gain",
          "month": "2023-11-01T00:00:00",
          "players": -228300
         },
         {
          "game": "cs gain",
          "month": "2023-12-01T00:00:00",
          "players": 91904
         },
         {
          "game": "cs gain",
          "month": "2024-01-01T00:00:00",
          "players": 58323
         },
         {
          "game": "cs gain",
          "month": "2024-02-01T00:00:00",
          "players": 97186
         },
         {
          "game": "cs gain",
          "month": "2024-03-01T00:00:00",
          "players": 123126
         },
         {
          "game": "cs gain",
          "month": "2024-04-01T00:00:00",
          "players": 92913
         },
         {
          "game": "cs gain",
          "month": "2024-05-01T00:00:00",
          "players": 13581
         },
         {
          "game": "cs gain",
          "month": "2024-06-01T00:00:00",
          "players": -103360
         },
         {
          "game": "cs gain",
          "month": "2024-07-01T00:00:00",
          "players": -172752
         },
         {
          "game": "cs gain",
          "month": "2024-08-01T00:00:00",
          "players": 75686
         },
         {
          "game": "cs gain",
          "month": "2024-09-01T00:00:00",
          "players": 53901
         },
         {
          "game": "cs gain",
          "month": "2024-10-01T00:00:00",
          "players": 14319
         },
         {
          "game": "cs gain",
          "month": "2024-11-01T00:00:00",
          "players": 64374
         },
         {
          "game": "cs gain",
          "month": "2024-12-01T00:00:00",
          "players": 183603
         },
         {
          "game": "cs gain",
          "month": "2025-01-01T00:00:00",
          "players": -133532
         },
         {
          "game": "cs gain",
          "month": "2025-02-01T00:00:00",
          "players": 183828
         },
         {
          "game": "cs gain",
          "month": "2025-03-01T00:00:00",
          "players": 36803
         },
         {
          "game": "cs gain",
          "month": "2025-04-01T00:00:00",
          "players": 34097
         },
         {
          "game": "cs gain",
          "month": "2025-05-01T00:00:00",
          "players": -146178
         },
         {
          "game": "cs gain",
          "month": "2025-06-01T00:00:00",
          "players": 14225
         },
         {
          "game": "cs gain",
          "month": "2025-07-01T00:00:00",
          "players": -260545
         },
         {
          "game": "cs gain",
          "month": "2025-08-01T00:00:00",
          "players": 75527
         },
         {
          "game": "cs % gain",
          "month": "2020-06-01T00:00:00",
          "players": -104.3
         },
         {
          "game": "cs % gain",
          "month": "2020-07-01T00:00:00",
          "players": -32.1
         },
         {
          "game": "cs % gain",
          "month": "2020-08-01T00:00:00",
          "players": -28
         },
         {
          "game": "cs % gain",
          "month": "2020-09-01T00:00:00",
          "players": -8.899999999999999
         },
         {
          "game": "cs % gain",
          "month": "2020-10-01T00:00:00",
          "players": 24.6
         },
         {
          "game": "cs % gain",
          "month": "2020-11-01T00:00:00",
          "players": 52.1
         },
         {
          "game": "cs % gain",
          "month": "2020-12-01T00:00:00",
          "players": 40.4
         },
         {
          "game": "cs % gain",
          "month": "2021-01-01T00:00:00",
          "players": 7.3
         },
         {
          "game": "cs % gain",
          "month": "2021-02-01T00:00:00",
          "players": -26.7
         },
         {
          "game": "cs % gain",
          "month": "2021-03-01T00:00:00",
          "players": 22
         },
         {
          "game": "cs % gain",
          "month": "2021-04-01T00:00:00",
          "players": -13.9
         },
         {
          "game": "cs % gain",
          "month": "2021-05-01T00:00:00",
          "players": -44.3
         },
         {
          "game": "cs % gain",
          "month": "2021-06-01T00:00:00",
          "players": -47.6
         },
         {
          "game": "cs % gain",
          "month": "2021-07-01T00:00:00",
          "players": -32.300000000000004
         },
         {
          "game": "cs % gain",
          "month": "2021-08-01T00:00:00",
          "players": -21.7
         },
         {
          "game": "cs % gain",
          "month": "2021-09-01T00:00:00",
          "players": 28
         },
         {
          "game": "cs % gain",
          "month": "2021-10-01T00:00:00",
          "players": 0.2999999999999989
         },
         {
          "game": "cs % gain",
          "month": "2021-11-01T00:00:00",
          "players": 29.9
         },
         {
          "game": "cs % gain",
          "month": "2021-12-01T00:00:00",
          "players": 18
         },
         {
          "game": "cs % gain",
          "month": "2022-01-01T00:00:00",
          "players": 38.400000000000006
         },
         {
          "game": "cs % gain",
          "month": "2022-02-01T00:00:00",
          "players": 8.399999999999999
         },
         {
          "game": "cs % gain",
          "month": "2022-03-01T00:00:00",
          "players": -25.4
         },
         {
          "game": "cs % gain",
          "month": "2022-04-01T00:00:00",
          "players": -2.4000000000000004
         },
         {
          "game": "cs % gain",
          "month": "2022-05-01T00:00:00",
          "players": -45.3
         },
         {
          "game": "cs % gain",
          "month": "2022-06-01T00:00:00",
          "players": -4.9
         },
         {
          "game": "cs % gain",
          "month": "2022-07-01T00:00:00",
          "players": 3.8
         },
         {
          "game": "cs % gain",
          "month": "2022-08-01T00:00:00",
          "players": -5.800000000000001
         },
         {
          "game": "cs % gain",
          "month": "2022-09-01T00:00:00",
          "players": 7.199999999999999
         },
         {
          "game": "cs % gain",
          "month": "2022-10-01T00:00:00",
          "players": -14.6
         },
         {
          "game": "cs % gain",
          "month": "2022-11-01T00:00:00",
          "players": 78.7
         },
         {
          "game": "cs % gain",
          "month": "2022-12-01T00:00:00",
          "players": -13.1
         },
         {
          "game": "cs % gain",
          "month": "2023-01-01T00:00:00",
          "players": 21.4
         },
         {
          "game": "cs % gain",
          "month": "2023-02-01T00:00:00",
          "players": -14.8
         },
         {
          "game": "cs % gain",
          "month": "2023-03-01T00:00:00",
          "players": 33.1
         },
         {
          "game": "cs % gain",
          "month": "2023-04-01T00:00:00",
          "players": -19.7
         },
         {
          "game": "cs % gain",
          "month": "2023-05-01T00:00:00",
          "players": -19
         },
         {
          "game": "cs % gain",
          "month": "2023-06-01T00:00:00",
          "players": 6.300000000000001
         },
         {
          "game": "cs % gain",
          "month": "2023-07-01T00:00:00",
          "players": -23
         },
         {
          "game": "cs % gain",
          "month": "2023-08-01T00:00:00",
          "players": -12.5
         },
         {
          "game": "cs % gain",
          "month": "2023-09-01T00:00:00",
          "players": 52.8
         },
         {
          "game": "cs % gain",
          "month": "2023-10-01T00:00:00",
          "players": -10.4
         },
         {
          "game": "cs % gain",
          "month": "2023-11-01T00:00:00",
          "players": -8.2
         },
         {
          "game": "cs % gain",
          "month": "2023-12-01T00:00:00",
          "players": 17.8
         },
         {
          "game": "cs % gain",
          "month": "2024-01-01T00:00:00",
          "players": 9.3
         },
         {
          "game": "cs % gain",
          "month": "2024-02-01T00:00:00",
          "players": 111.2
         },
         {
          "game": "cs % gain",
          "month": "2024-03-01T00:00:00",
          "players": 24.2
         },
         {
          "game": "cs % gain",
          "month": "2024-04-01T00:00:00",
          "players": -6.9
         },
         {
          "game": "cs % gain",
          "month": "2024-05-01T00:00:00",
          "players": -1.0999999999999994
         },
         {
          "game": "cs % gain",
          "month": "2024-06-01T00:00:00",
          "players": 25.1
         },
         {
          "game": "cs % gain",
          "month": "2024-07-01T00:00:00",
          "players": 26.6
         },
         {
          "game": "cs % gain",
          "month": "2024-08-01T00:00:00",
          "players": -21
         },
         {
          "game": "cs % gain",
          "month": "2024-09-01T00:00:00",
          "players": -2.100000000000001
         },
         {
          "game": "cs % gain",
          "month": "2024-10-01T00:00:00",
          "players": -4.100000000000001
         },
         {
          "game": "cs % gain",
          "month": "2024-11-01T00:00:00",
          "players": 16.3
         },
         {
          "game": "cs % gain",
          "month": "2024-12-01T00:00:00",
          "players": 67.2
         },
         {
          "game": "cs % gain",
          "month": "2025-01-01T00:00:00",
          "players": -5.7
         },
         {
          "game": "cs % gain",
          "month": "2025-02-01T00:00:00",
          "players": 2.9000000000000004
         },
         {
          "game": "cs % gain",
          "month": "2025-03-01T00:00:00",
          "players": 9.5
         },
         {
          "game": "cs % gain",
          "month": "2025-04-01T00:00:00",
          "players": -19.3
         },
         {
          "game": "cs % gain",
          "month": "2025-05-01T00:00:00",
          "players": -47
         },
         {
          "game": "cs % gain",
          "month": "2025-06-01T00:00:00",
          "players": 29.8
         },
         {
          "game": "cs % gain",
          "month": "2025-07-01T00:00:00",
          "players": 194
         },
         {
          "game": "cs % gain",
          "month": "2025-08-01T00:00:00",
          "players": -3.2
         },
         {
          "game": "cod",
          "month": "2020-06-01T00:00:00",
          "players": 8382
         },
         {
          "game": "cod",
          "month": "2020-07-01T00:00:00",
          "players": 7746
         },
         {
          "game": "cod",
          "month": "2020-08-01T00:00:00",
          "players": 8607
         },
         {
          "game": "cod",
          "month": "2020-09-01T00:00:00",
          "players": 8060
         },
         {
          "game": "cod",
          "month": "2020-10-01T00:00:00",
          "players": 13277
         },
         {
          "game": "cod",
          "month": "2020-11-01T00:00:00",
          "players": 9731
         },
         {
          "game": "cod",
          "month": "2020-12-01T00:00:00",
          "players": 7714
         },
         {
          "game": "cod",
          "month": "2021-01-01T00:00:00",
          "players": 7771
         },
         {
          "game": "cod",
          "month": "2021-02-01T00:00:00",
          "players": 10669
         },
         {
          "game": "cod",
          "month": "2021-03-01T00:00:00",
          "players": 6652
         },
         {
          "game": "cod",
          "month": "2021-04-01T00:00:00",
          "players": 9568
         },
         {
          "game": "cod",
          "month": "2021-05-01T00:00:00",
          "players": 10912
         },
         {
          "game": "cod",
          "month": "2021-06-01T00:00:00",
          "players": 15911
         },
         {
          "game": "cod",
          "month": "2021-07-01T00:00:00",
          "players": 14972
         },
         {
          "game": "cod",
          "month": "2021-08-01T00:00:00",
          "players": 20939
         },
         {
          "game": "cod",
          "month": "2021-09-01T00:00:00",
          "players": 12435
         },
         {
          "game": "cod",
          "month": "2021-10-01T00:00:00",
          "players": 18049
         },
         {
          "game": "cod",
          "month": "2021-11-01T00:00:00",
          "players": 11001
         },
         {
          "game": "cod",
          "month": "2021-12-01T00:00:00",
          "players": 16244
         },
         {
          "game": "cod",
          "month": "2022-01-01T00:00:00",
          "players": 16343
         },
         {
          "game": "cod",
          "month": "2022-02-01T00:00:00",
          "players": 12244
         },
         {
          "game": "cod",
          "month": "2022-03-01T00:00:00",
          "players": 9137
         },
         {
          "game": "cod",
          "month": "2022-04-01T00:00:00",
          "players": 20039
         },
         {
          "game": "cod",
          "month": "2022-05-01T00:00:00",
          "players": 12484
         },
         {
          "game": "cod",
          "month": "2022-06-01T00:00:00",
          "players": 15295
         },
         {
          "game": "cod",
          "month": "2022-07-01T00:00:00",
          "players": 17125
         },
         {
          "game": "cod",
          "month": "2022-08-01T00:00:00",
          "players": 15407
         },
         {
          "game": "cod",
          "month": "2022-09-01T00:00:00",
          "players": 16865
         },
         {
          "game": "cod",
          "month": "2022-10-01T00:00:00",
          "players": 272848
         },
         {
          "game": "cod",
          "month": "2022-11-01T00:00:00",
          "players": 505463
         },
         {
          "game": "cod",
          "month": "2022-12-01T00:00:00",
          "players": 325849
         },
         {
          "game": "cod",
          "month": "2023-01-01T00:00:00",
          "players": 183390
         },
         {
          "game": "cod",
          "month": "2023-02-01T00:00:00",
          "players": 186641
         },
         {
          "game": "cod",
          "month": "2023-03-01T00:00:00",
          "players": 182393
         },
         {
          "game": "cod",
          "month": "2023-04-01T00:00:00",
          "players": 166313
         },
         {
          "game": "cod",
          "month": "2023-05-01T00:00:00",
          "players": 127198
         },
         {
          "game": "cod",
          "month": "2023-06-01T00:00:00",
          "players": 134146
         },
         {
          "game": "cod",
          "month": "2023-07-01T00:00:00",
          "players": 107917
         },
         {
          "game": "cod",
          "month": "2023-08-01T00:00:00",
          "players": 133255
         },
         {
          "game": "cod",
          "month": "2023-09-01T00:00:00",
          "players": 110585
         },
         {
          "game": "cod",
          "month": "2023-10-01T00:00:00",
          "players": 205563
         },
         {
          "game": "cod",
          "month": "2023-11-01T00:00:00",
          "players": 210666
         },
         {
          "game": "cod",
          "month": "2023-12-01T00:00:00",
          "players": 179080
         },
         {
          "game": "cod",
          "month": "2024-01-01T00:00:00",
          "players": 160542
         },
         {
          "game": "cod",
          "month": "2024-02-01T00:00:00",
          "players": 172798
         },
         {
          "game": "cod",
          "month": "2024-03-01T00:00:00",
          "players": 137004
         },
         {
          "game": "cod",
          "month": "2024-04-01T00:00:00",
          "players": 188017
         },
         {
          "game": "cod",
          "month": "2024-05-01T00:00:00",
          "players": 149306
         },
         {
          "game": "cod",
          "month": "2024-06-01T00:00:00",
          "players": 156375
         },
         {
          "game": "cod",
          "month": "2024-07-01T00:00:00",
          "players": 125764
         },
         {
          "game": "cod",
          "month": "2024-08-01T00:00:00",
          "players": 176603
         },
         {
          "game": "cod",
          "month": "2024-09-01T00:00:00",
          "players": 176811
         },
         {
          "game": "cod",
          "month": "2024-10-01T00:00:00",
          "players": 320283
         },
         {
          "game": "cod",
          "month": "2024-11-01T00:00:00",
          "players": 327159
         },
         {
          "game": "cod",
          "month": "2024-12-01T00:00:00",
          "players": 184103
         },
         {
          "game": "cod",
          "month": "2025-01-01T00:00:00",
          "players": 126148
         },
         {
          "game": "cod",
          "month": "2025-02-01T00:00:00",
          "players": 119583
         },
         {
          "game": "cod",
          "month": "2025-03-01T00:00:00",
          "players": 91453
         },
         {
          "game": "cod",
          "month": "2025-04-01T00:00:00",
          "players": 152660
         },
         {
          "game": "cod",
          "month": "2025-05-01T00:00:00",
          "players": 128330
         },
         {
          "game": "cod",
          "month": "2025-06-01T00:00:00",
          "players": 106348
         },
         {
          "game": "cod",
          "month": "2025-07-01T00:00:00",
          "players": 105203
         },
         {
          "game": "cod",
          "month": "2025-08-01T00:00:00",
          "players": 88789
         },
         {
          "game": "cod gain",
          "month": "2020-06-01T00:00:00",
          "players": -3681
         },
         {
          "game": "cod gain",
          "month": "2020-07-01T00:00:00",
          "players": -636
         },
         {
          "game": "cod gain",
          "month": "2020-08-01T00:00:00",
          "players": 861
         },
         {
          "game": "cod gain",
          "month": "2020-09-01T00:00:00",
          "players": -547
         },
         {
          "game": "cod gain",
          "month": "2020-10-01T00:00:00",
          "players": 5217
         },
         {
          "game": "cod gain",
          "month": "2020-11-01T00:00:00",
          "players": -3546
         },
         {
          "game": "cod gain",
          "month": "2020-12-01T00:00:00",
          "players": -2017
         },
         {
          "game": "cod gain",
          "month": "2021-01-01T00:00:00",
          "players": 57
         },
         {
          "game": "cod gain",
          "month": "2021-02-01T00:00:00",
          "players": 2898
         },
         {
          "game": "cod gain",
          "month": "2021-03-01T00:00:00",
          "players": -4017
         },
         {
          "game": "cod gain",
          "month": "2021-04-01T00:00:00",
          "players": 2916
         },
         {
          "game": "cod gain",
          "month": "2021-05-01T00:00:00",
          "players": 1344
         },
         {
          "game": "cod gain",
          "month": "2021-06-01T00:00:00",
          "players": 4999
         },
         {
          "game": "cod gain",
          "month": "2021-07-01T00:00:00",
          "players": -939
         },
         {
          "game": "cod gain",
          "month": "2021-08-01T00:00:00",
          "players": 5967
         },
         {
          "game": "cod gain",
          "month": "2021-09-01T00:00:00",
          "players": -8504
         },
         {
          "game": "cod gain",
          "month": "2021-10-01T00:00:00",
          "players": 5614
         },
         {
          "game": "cod gain",
          "month": "2021-11-01T00:00:00",
          "players": -7048
         },
         {
          "game": "cod gain",
          "month": "2021-12-01T00:00:00",
          "players": 5243
         },
         {
          "game": "cod gain",
          "month": "2022-01-01T00:00:00",
          "players": 99
         },
         {
          "game": "cod gain",
          "month": "2022-02-01T00:00:00",
          "players": -4099
         },
         {
          "game": "cod gain",
          "month": "2022-03-01T00:00:00",
          "players": -3107
         },
         {
          "game": "cod gain",
          "month": "2022-04-01T00:00:00",
          "players": 10902
         },
         {
          "game": "cod gain",
          "month": "2022-05-01T00:00:00",
          "players": -7555
         },
         {
          "game": "cod gain",
          "month": "2022-06-01T00:00:00",
          "players": 2811
         },
         {
          "game": "cod gain",
          "month": "2022-07-01T00:00:00",
          "players": 1830
         },
         {
          "game": "cod gain",
          "month": "2022-08-01T00:00:00",
          "players": -1718
         },
         {
          "game": "cod gain",
          "month": "2022-09-01T00:00:00",
          "players": 1458
         },
         {
          "game": "cod gain",
          "month": "2022-10-01T00:00:00",
          "players": -7191
         },
         {
          "game": "cod gain",
          "month": "2022-11-01T00:00:00",
          "players": 232615
         },
         {
          "game": "cod gain",
          "month": "2022-12-01T00:00:00",
          "players": -179614
         },
         {
          "game": "cod gain",
          "month": "2023-01-01T00:00:00",
          "players": -142459
         },
         {
          "game": "cod gain",
          "month": "2023-02-01T00:00:00",
          "players": 3251
         },
         {
          "game": "cod gain",
          "month": "2023-03-01T00:00:00",
          "players": -8776
         },
         {
          "game": "cod gain",
          "month": "2023-04-01T00:00:00",
          "players": -16080
         },
         {
          "game": "cod gain",
          "month": "2023-05-01T00:00:00",
          "players": -39115
         },
         {
          "game": "cod gain",
          "month": "2023-06-01T00:00:00",
          "players": 6948
         },
         {
          "game": "cod gain",
          "month": "2023-07-01T00:00:00",
          "players": -26229
         },
         {
          "game": "cod gain",
          "month": "2023-08-01T00:00:00",
          "players": 25338
         },
         {
          "game": "cod gain",
          "month": "2023-09-01T00:00:00",
          "players": -22670
         },
         {
          "game": "cod gain",
          "month": "2023-10-01T00:00:00",
          "players": 94978
         },
         {
          "game": "cod gain",
          "month": "2023-11-01T00:00:00",
          "players": 5103
         },
         {
          "game": "cod gain",
          "month": "2023-12-01T00:00:00",
          "players": -31586
         },
         {
          "game": "cod gain",
          "month": "2024-01-01T00:00:00",
          "players": -18538
         },
         {
          "game": "cod gain",
          "month": "2024-02-01T00:00:00",
          "players": 12256
         },
         {
          "game": "cod gain",
          "month": "2024-03-01T00:00:00",
          "players": -35794
         },
         {
          "game": "cod gain",
          "month": "2024-04-01T00:00:00",
          "players": 51013
         },
         {
          "game": "cod gain",
          "month": "2024-05-01T00:00:00",
          "players": -38711
         },
         {
          "game": "cod gain",
          "month": "2024-06-01T00:00:00",
          "players": 7069
         },
         {
          "game": "cod gain",
          "month": "2024-07-01T00:00:00",
          "players": -30611
         },
         {
          "game": "cod gain",
          "month": "2024-08-01T00:00:00",
          "players": 50839
         },
         {
          "game": "cod gain",
          "month": "2024-09-01T00:00:00",
          "players": 208
         },
         {
          "game": "cod gain",
          "month": "2024-10-01T00:00:00",
          "players": 143472
         },
         {
          "game": "cod gain",
          "month": "2024-11-01T00:00:00",
          "players": 6876
         },
         {
          "game": "cod gain",
          "month": "2024-12-01T00:00:00",
          "players": -143056
         },
         {
          "game": "cod gain",
          "month": "2025-01-01T00:00:00",
          "players": -57955
         },
         {
          "game": "cod gain",
          "month": "2025-02-01T00:00:00",
          "players": -6565
         },
         {
          "game": "cod gain",
          "month": "2025-03-01T00:00:00",
          "players": -28130
         },
         {
          "game": "cod gain",
          "month": "2025-04-01T00:00:00",
          "players": 61207
         },
         {
          "game": "cod gain",
          "month": "2025-05-01T00:00:00",
          "players": -24330
         },
         {
          "game": "cod gain",
          "month": "2025-06-01T00:00:00",
          "players": -21982
         },
         {
          "game": "cod gain",
          "month": "2025-07-01T00:00:00",
          "players": -1145
         },
         {
          "game": "cod gain",
          "month": "2025-08-01T00:00:00",
          "players": -16414
         },
         {
          "game": "cod % gain",
          "month": "2020-06-01T00:00:00",
          "players": -22.7
         },
         {
          "game": "cod % gain",
          "month": "2020-07-01T00:00:00",
          "players": -7.6
         },
         {
          "game": "cod % gain",
          "month": "2020-08-01T00:00:00",
          "players": 11.1
         },
         {
          "game": "cod % gain",
          "month": "2020-09-01T00:00:00",
          "players": -6.4
         },
         {
          "game": "cod % gain",
          "month": "2020-10-01T00:00:00",
          "players": 64.7
         },
         {
          "game": "cod % gain",
          "month": "2020-11-01T00:00:00",
          "players": -26.7
         },
         {
          "game": "cod % gain",
          "month": "2020-12-01T00:00:00",
          "players": -20.7
         },
         {
          "game": "cod % gain",
          "month": "2021-01-01T00:00:00",
          "players": 0.7
         },
         {
          "game": "cod % gain",
          "month": "2021-02-01T00:00:00",
          "players": 37.3
         },
         {
          "game": "cod % gain",
          "month": "2021-03-01T00:00:00",
          "players": -37.7
         },
         {
          "game": "cod % gain",
          "month": "2021-04-01T00:00:00",
          "players": 43.8
         },
         {
          "game": "cod % gain",
          "month": "2021-05-01T00:00:00",
          "players": 14
         },
         {
          "game": "cod % gain",
          "month": "2021-06-01T00:00:00",
          "players": 45.8
         },
         {
          "game": "cod % gain",
          "month": "2021-07-01T00:00:00",
          "players": -5.9
         },
         {
          "game": "cod % gain",
          "month": "2021-08-01T00:00:00",
          "players": 39.9
         },
         {
          "game": "cod % gain",
          "month": "2021-09-01T00:00:00",
          "players": -40.6
         },
         {
          "game": "cod % gain",
          "month": "2021-10-01T00:00:00",
          "players": 45.1
         },
         {
          "game": "cod % gain",
          "month": "2021-11-01T00:00:00",
          "players": -39
         },
         {
          "game": "cod % gain",
          "month": "2021-12-01T00:00:00",
          "players": 47.7
         },
         {
          "game": "cod % gain",
          "month": "2022-01-01T00:00:00",
          "players": 0.6
         },
         {
          "game": "cod % gain",
          "month": "2022-02-01T00:00:00",
          "players": -25.1
         },
         {
          "game": "cod % gain",
          "month": "2022-03-01T00:00:00",
          "players": -25.4
         },
         {
          "game": "cod % gain",
          "month": "2022-04-01T00:00:00",
          "players": 119.3
         },
         {
          "game": "cod % gain",
          "month": "2022-05-01T00:00:00",
          "players": -37.7
         },
         {
          "game": "cod % gain",
          "month": "2022-06-01T00:00:00",
          "players": 22.5
         },
         {
          "game": "cod % gain",
          "month": "2022-07-01T00:00:00",
          "players": 12
         },
         {
          "game": "cod % gain",
          "month": "2022-08-01T00:00:00",
          "players": -10
         },
         {
          "game": "cod % gain",
          "month": "2022-09-01T00:00:00",
          "players": 9.5
         },
         {
          "game": "cod % gain",
          "month": "2022-10-01T00:00:00",
          "players": 1517.8
         },
         {
          "game": "cod % gain",
          "month": "2022-11-01T00:00:00",
          "players": 85.3
         },
         {
          "game": "cod % gain",
          "month": "2022-12-01T00:00:00",
          "players": -35.5
         },
         {
          "game": "cod % gain",
          "month": "2023-01-01T00:00:00",
          "players": -43.7
         },
         {
          "game": "cod % gain",
          "month": "2023-02-01T00:00:00",
          "players": 1.8
         },
         {
          "game": "cod % gain",
          "month": "2023-03-01T00:00:00",
          "players": -2.3
         },
         {
          "game": "cod % gain",
          "month": "2023-04-01T00:00:00",
          "players": -8.8
         },
         {
          "game": "cod % gain",
          "month": "2023-05-01T00:00:00",
          "players": -23.5
         },
         {
          "game": "cod % gain",
          "month": "2023-06-01T00:00:00",
          "players": 5.5
         },
         {
          "game": "cod % gain",
          "month": "2023-07-01T00:00:00",
          "players": -19.6
         },
         {
          "game": "cod % gain",
          "month": "2023-08-01T00:00:00",
          "players": 23.5
         },
         {
          "game": "cod % gain",
          "month": "2023-09-01T00:00:00",
          "players": -17
         },
         {
          "game": "cod % gain",
          "month": "2023-10-01T00:00:00",
          "players": 85.9
         },
         {
          "game": "cod % gain",
          "month": "2023-11-01T00:00:00",
          "players": 2.5
         },
         {
          "game": "cod % gain",
          "month": "2023-12-01T00:00:00",
          "players": -15
         },
         {
          "game": "cod % gain",
          "month": "2024-01-01T00:00:00",
          "players": -10.4
         },
         {
          "game": "cod % gain",
          "month": "2024-02-01T00:00:00",
          "players": 7.6
         },
         {
          "game": "cod % gain",
          "month": "2024-03-01T00:00:00",
          "players": -20.7
         },
         {
          "game": "cod % gain",
          "month": "2024-04-01T00:00:00",
          "players": 37.2
         },
         {
          "game": "cod % gain",
          "month": "2024-05-01T00:00:00",
          "players": -20.6
         },
         {
          "game": "cod % gain",
          "month": "2024-06-01T00:00:00",
          "players": 4.7
         },
         {
          "game": "cod % gain",
          "month": "2024-07-01T00:00:00",
          "players": -19.6
         },
         {
          "game": "cod % gain",
          "month": "2024-08-01T00:00:00",
          "players": 40.4
         },
         {
          "game": "cod % gain",
          "month": "2024-09-01T00:00:00",
          "players": 0.1
         },
         {
          "game": "cod % gain",
          "month": "2024-10-01T00:00:00",
          "players": 81.1
         },
         {
          "game": "cod % gain",
          "month": "2024-11-01T00:00:00",
          "players": 2.1
         },
         {
          "game": "cod % gain",
          "month": "2024-12-01T00:00:00",
          "players": -43.7
         },
         {
          "game": "cod % gain",
          "month": "2025-01-01T00:00:00",
          "players": -31.5
         },
         {
          "game": "cod % gain",
          "month": "2025-02-01T00:00:00",
          "players": -5.2
         },
         {
          "game": "cod % gain",
          "month": "2025-03-01T00:00:00",
          "players": -23.5
         },
         {
          "game": "cod % gain",
          "month": "2025-04-01T00:00:00",
          "players": 66.9
         },
         {
          "game": "cod % gain",
          "month": "2025-05-01T00:00:00",
          "players": -15.9
         },
         {
          "game": "cod % gain",
          "month": "2025-06-01T00:00:00",
          "players": -17.1
         },
         {
          "game": "cod % gain",
          "month": "2025-07-01T00:00:00",
          "players": -1.1
         },
         {
          "game": "cod % gain",
          "month": "2025-08-01T00:00:00",
          "players": -15.6
         },
         {
          "game": "valorant",
          "month": "2020-06-01T00:00:00",
          "players": 183072
         },
         {
          "game": "valorant",
          "month": "2020-07-01T00:00:00",
          "players": 964278
         },
         {
          "game": "valorant",
          "month": "2020-08-01T00:00:00",
          "players": 2022100
         },
         {
          "game": "valorant",
          "month": "2020-09-01T00:00:00",
          "players": 2076758
         },
         {
          "game": "valorant",
          "month": "2020-10-01T00:00:00",
          "players": 2056779
         },
         {
          "game": "valorant",
          "month": "2020-11-01T00:00:00",
          "players": 2150306
         },
         {
          "game": "valorant",
          "month": "2020-12-01T00:00:00",
          "players": 2229905
         },
         {
          "game": "valorant",
          "month": "2021-01-01T00:00:00",
          "players": 2749127
         },
         {
          "game": "valorant",
          "month": "2021-02-01T00:00:00",
          "players": 3044640
         },
         {
          "game": "valorant",
          "month": "2021-03-01T00:00:00",
          "players": 3305692
         },
         {
          "game": "valorant",
          "month": "2021-04-01T00:00:00",
          "players": 3550749
         },
         {
          "game": "valorant",
          "month": "2021-05-01T00:00:00",
          "players": 3555755
         },
         {
          "game": "valorant",
          "month": "2021-06-01T00:00:00",
          "players": 3972836
         },
         {
          "game": "valorant",
          "month": "2021-07-01T00:00:00",
          "players": 3742866
         },
         {
          "game": "valorant",
          "month": "2021-08-01T00:00:00",
          "players": 3854490
         },
         {
          "game": "valorant",
          "month": "2021-09-01T00:00:00",
          "players": 4152405
         },
         {
          "game": "valorant",
          "month": "2021-10-01T00:00:00",
          "players": 3987776
         },
         {
          "game": "valorant",
          "month": "2021-11-01T00:00:00",
          "players": 3993767
         },
         {
          "game": "valorant",
          "month": "2021-12-01T00:00:00",
          "players": 4139985
         },
         {
          "game": "valorant",
          "month": "2022-01-01T00:00:00",
          "players": 5127895
         },
         {
          "game": "valorant",
          "month": "2022-02-01T00:00:00",
          "players": 5155296
         },
         {
          "game": "valorant",
          "month": "2022-03-01T00:00:00",
          "players": 5392919
         },
         {
          "game": "valorant",
          "month": "2022-04-01T00:00:00",
          "players": 5892279
         },
         {
          "game": "valorant",
          "month": "2022-05-01T00:00:00",
          "players": 5834837
         },
         {
          "game": "valorant",
          "month": "2022-06-01T00:00:00",
          "players": 5507442
         },
         {
          "game": "valorant",
          "month": "2022-07-01T00:00:00",
          "players": 5459822
         },
         {
          "game": "valorant",
          "month": "2022-08-01T00:00:00",
          "players": 5950383
         },
         {
          "game": "valorant",
          "month": "2022-09-01T00:00:00",
          "players": 6027617
         },
         {
          "game": "valorant",
          "month": "2022-10-01T00:00:00",
          "players": 5778574
         },
         {
          "game": "valorant",
          "month": "2022-11-01T00:00:00",
          "players": 5300426
         },
         {
          "game": "valorant",
          "month": "2022-12-01T00:00:00",
          "players": 4970024
         },
         {
          "game": "valorant",
          "month": "2023-01-01T00:00:00",
          "players": 5649117
         },
         {
          "game": "valorant",
          "month": "2023-02-01T00:00:00",
          "players": 5788621
         },
         {
          "game": "valorant",
          "month": "2023-03-01T00:00:00",
          "players": 6627830
         },
         {
          "game": "valorant",
          "month": "2023-04-01T00:00:00",
          "players": 6222487
         },
         {
          "game": "valorant",
          "month": "2023-05-01T00:00:00",
          "players": 6115812
         },
         {
          "game": "valorant",
          "month": "2023-06-01T00:00:00",
          "players": 6001284
         },
         {
          "game": "valorant",
          "month": "2023-07-01T00:00:00",
          "players": 5999688
         },
         {
          "game": "valorant",
          "month": "2023-08-01T00:00:00",
          "players": 5858274
         },
         {
          "game": "valorant",
          "month": "2023-09-01T00:00:00",
          "players": 5890744
         },
         {
          "game": "valorant",
          "month": "2023-10-01T00:00:00",
          "players": 4859996
         },
         {
          "game": "valorant",
          "month": "2023-11-01T00:00:00",
          "players": 4719275
         },
         {
          "game": "valorant",
          "month": "2023-12-01T00:00:00",
          "players": 4535871
         },
         {
          "game": "valorant",
          "month": "2024-01-01T00:00:00",
          "players": 5390459
         },
         {
          "game": "valorant",
          "month": "2024-02-01T00:00:00",
          "players": 5513107
         },
         {
          "game": "valorant",
          "month": "2024-03-01T00:00:00",
          "players": 6140540
         },
         {
          "game": "valorant",
          "month": "2024-04-01T00:00:00",
          "players": 6018194
         },
         {
          "game": "valorant",
          "month": "2024-05-01T00:00:00",
          "players": 5747277
         },
         {
          "game": "valorant",
          "month": "2024-06-01T00:00:00",
          "players": 6032889
         },
         {
          "game": "valorant",
          "month": "2024-07-01T00:00:00",
          "players": 6353450
         },
         {
          "game": "valorant",
          "month": "2024-08-01T00:00:00",
          "players": 6861264
         },
         {
          "game": "valorant",
          "month": "2024-09-01T00:00:00",
          "players": 6825095
         },
         {
          "game": "valorant",
          "month": "2024-10-01T00:00:00",
          "players": 5916528
         },
         {
          "game": "valorant",
          "month": "2024-11-01T00:00:00",
          "players": 5348060
         },
         {
          "game": "valorant",
          "month": "2024-12-01T00:00:00",
          "players": 4976097
         },
         {
          "game": "valorant",
          "month": "2025-01-01T00:00:00",
          "players": 5782056
         },
         {
          "game": "valorant",
          "month": "2025-02-01T00:00:00",
          "players": 5649614
         },
         {
          "game": "valorant",
          "month": "2025-03-01T00:00:00",
          "players": 5964276
         },
         {
          "game": "valorant",
          "month": "2025-04-01T00:00:00",
          "players": 5391338
         },
         {
          "game": "valorant",
          "month": "2025-05-01T00:00:00",
          "players": 5207109
         },
         {
          "game": "valorant",
          "month": "2025-06-01T00:00:00",
          "players": 5290508
         },
         {
          "game": "valorant",
          "month": "2025-07-01T00:00:00",
          "players": 5202237
         },
         {
          "game": "valorant",
          "month": "2025-08-01T00:00:00",
          "players": 5204025
         },
         {
          "game": "valorant gain",
          "month": "2020-06-01T00:00:00",
          "players": 0
         },
         {
          "game": "valorant gain",
          "month": "2020-07-01T00:00:00",
          "players": 781206
         },
         {
          "game": "valorant gain",
          "month": "2020-08-01T00:00:00",
          "players": 1057822
         },
         {
          "game": "valorant gain",
          "month": "2020-09-01T00:00:00",
          "players": 54658
         },
         {
          "game": "valorant gain",
          "month": "2020-10-01T00:00:00",
          "players": -19979
         },
         {
          "game": "valorant gain",
          "month": "2020-11-01T00:00:00",
          "players": 93527
         },
         {
          "game": "valorant gain",
          "month": "2020-12-01T00:00:00",
          "players": 79599
         },
         {
          "game": "valorant gain",
          "month": "2021-01-01T00:00:00",
          "players": 519222
         },
         {
          "game": "valorant gain",
          "month": "2021-02-01T00:00:00",
          "players": 295513
         },
         {
          "game": "valorant gain",
          "month": "2021-03-01T00:00:00",
          "players": 261052
         },
         {
          "game": "valorant gain",
          "month": "2021-04-01T00:00:00",
          "players": 245057
         },
         {
          "game": "valorant gain",
          "month": "2021-05-01T00:00:00",
          "players": 5006
         },
         {
          "game": "valorant gain",
          "month": "2021-06-01T00:00:00",
          "players": 417081
         },
         {
          "game": "valorant gain",
          "month": "2021-07-01T00:00:00",
          "players": -229970
         },
         {
          "game": "valorant gain",
          "month": "2021-08-01T00:00:00",
          "players": 111624
         },
         {
          "game": "valorant gain",
          "month": "2021-09-01T00:00:00",
          "players": 297915
         },
         {
          "game": "valorant gain",
          "month": "2021-10-01T00:00:00",
          "players": -164629
         },
         {
          "game": "valorant gain",
          "month": "2021-11-01T00:00:00",
          "players": 5991
         },
         {
          "game": "valorant gain",
          "month": "2021-12-01T00:00:00",
          "players": 146218
         },
         {
          "game": "valorant gain",
          "month": "2022-01-01T00:00:00",
          "players": 987910
         },
         {
          "game": "valorant gain",
          "month": "2022-02-01T00:00:00",
          "players": 27401
         },
         {
          "game": "valorant gain",
          "month": "2022-03-01T00:00:00",
          "players": 237623
         },
         {
          "game": "valorant gain",
          "month": "2022-04-01T00:00:00",
          "players": 499360
         },
         {
          "game": "valorant gain",
          "month": "2022-05-01T00:00:00",
          "players": -57442
         },
         {
          "game": "valorant gain",
          "month": "2022-06-01T00:00:00",
          "players": -327395
         },
         {
          "game": "valorant gain",
          "month": "2022-07-01T00:00:00",
          "players": -47620
         },
         {
          "game": "valorant gain",
          "month": "2022-08-01T00:00:00",
          "players": 490561
         },
         {
          "game": "valorant gain",
          "month": "2022-09-01T00:00:00",
          "players": 77234
         },
         {
          "game": "valorant gain",
          "month": "2022-10-01T00:00:00",
          "players": -249043
         },
         {
          "game": "valorant gain",
          "month": "2022-11-01T00:00:00",
          "players": -478148
         },
         {
          "game": "valorant gain",
          "month": "2022-12-01T00:00:00",
          "players": -330402
         },
         {
          "game": "valorant gain",
          "month": "2023-01-01T00:00:00",
          "players": 679093
         },
         {
          "game": "valorant gain",
          "month": "2023-02-01T00:00:00",
          "players": 139504
         },
         {
          "game": "valorant gain",
          "month": "2023-03-01T00:00:00",
          "players": 839209
         },
         {
          "game": "valorant gain",
          "month": "2023-04-01T00:00:00",
          "players": -405343
         },
         {
          "game": "valorant gain",
          "month": "2023-05-01T00:00:00",
          "players": -106675
         },
         {
          "game": "valorant gain",
          "month": "2023-06-01T00:00:00",
          "players": -114528
         },
         {
          "game": "valorant gain",
          "month": "2023-07-01T00:00:00",
          "players": -1596
         },
         {
          "game": "valorant gain",
          "month": "2023-08-01T00:00:00",
          "players": -141414
         },
         {
          "game": "valorant gain",
          "month": "2023-09-01T00:00:00",
          "players": 32470
         },
         {
          "game": "valorant gain",
          "month": "2023-10-01T00:00:00",
          "players": -1030748
         },
         {
          "game": "valorant gain",
          "month": "2023-11-01T00:00:00",
          "players": -140721
         },
         {
          "game": "valorant gain",
          "month": "2023-12-01T00:00:00",
          "players": -183404
         },
         {
          "game": "valorant gain",
          "month": "2024-01-01T00:00:00",
          "players": 854588
         },
         {
          "game": "valorant gain",
          "month": "2024-02-01T00:00:00",
          "players": 122648
         },
         {
          "game": "valorant gain",
          "month": "2024-03-01T00:00:00",
          "players": 627433
         },
         {
          "game": "valorant gain",
          "month": "2024-04-01T00:00:00",
          "players": -122346
         },
         {
          "game": "valorant gain",
          "month": "2024-05-01T00:00:00",
          "players": -270917
         },
         {
          "game": "valorant gain",
          "month": "2024-06-01T00:00:00",
          "players": 285612
         },
         {
          "game": "valorant gain",
          "month": "2024-07-01T00:00:00",
          "players": 320561
         },
         {
          "game": "valorant gain",
          "month": "2024-08-01T00:00:00",
          "players": 507814
         },
         {
          "game": "valorant gain",
          "month": "2024-09-01T00:00:00",
          "players": -36169
         },
         {
          "game": "valorant gain",
          "month": "2024-10-01T00:00:00",
          "players": -908567
         },
         {
          "game": "valorant gain",
          "month": "2024-11-01T00:00:00",
          "players": -568468
         },
         {
          "game": "valorant gain",
          "month": "2024-12-01T00:00:00",
          "players": -371963
         },
         {
          "game": "valorant gain",
          "month": "2025-01-01T00:00:00",
          "players": 805959
         },
         {
          "game": "valorant gain",
          "month": "2025-02-01T00:00:00",
          "players": -132442
         },
         {
          "game": "valorant gain",
          "month": "2025-03-01T00:00:00",
          "players": 314662
         },
         {
          "game": "valorant gain",
          "month": "2025-04-01T00:00:00",
          "players": -572938
         },
         {
          "game": "valorant gain",
          "month": "2025-05-01T00:00:00",
          "players": -184229
         },
         {
          "game": "valorant gain",
          "month": "2025-06-01T00:00:00",
          "players": 83399
         },
         {
          "game": "valorant gain",
          "month": "2025-07-01T00:00:00",
          "players": -88271
         },
         {
          "game": "valorant gain",
          "month": "2025-08-01T00:00:00",
          "players": 1788
         },
         {
          "game": "valorant % gain",
          "month": "2020-06-01T00:00:00",
          "players": 0
         },
         {
          "game": "valorant % gain",
          "month": "2020-07-01T00:00:00",
          "players": 426.7
         },
         {
          "game": "valorant % gain",
          "month": "2020-08-01T00:00:00",
          "players": 109.7
         },
         {
          "game": "valorant % gain",
          "month": "2020-09-01T00:00:00",
          "players": 2.7
         },
         {
          "game": "valorant % gain",
          "month": "2020-10-01T00:00:00",
          "players": -1
         },
         {
          "game": "valorant % gain",
          "month": "2020-11-01T00:00:00",
          "players": 4.5
         },
         {
          "game": "valorant % gain",
          "month": "2020-12-01T00:00:00",
          "players": 3.7
         },
         {
          "game": "valorant % gain",
          "month": "2021-01-01T00:00:00",
          "players": 23.3
         },
         {
          "game": "valorant % gain",
          "month": "2021-02-01T00:00:00",
          "players": 10.7
         },
         {
          "game": "valorant % gain",
          "month": "2021-03-01T00:00:00",
          "players": 8.6
         },
         {
          "game": "valorant % gain",
          "month": "2021-04-01T00:00:00",
          "players": 7.4
         },
         {
          "game": "valorant % gain",
          "month": "2021-05-01T00:00:00",
          "players": 0.1
         },
         {
          "game": "valorant % gain",
          "month": "2021-06-01T00:00:00",
          "players": 11.7
         },
         {
          "game": "valorant % gain",
          "month": "2021-07-01T00:00:00",
          "players": -5.8
         },
         {
          "game": "valorant % gain",
          "month": "2021-08-01T00:00:00",
          "players": 3
         },
         {
          "game": "valorant % gain",
          "month": "2021-09-01T00:00:00",
          "players": 7.7
         },
         {
          "game": "valorant % gain",
          "month": "2021-10-01T00:00:00",
          "players": -4
         },
         {
          "game": "valorant % gain",
          "month": "2021-11-01T00:00:00",
          "players": 0.2
         },
         {
          "game": "valorant % gain",
          "month": "2021-12-01T00:00:00",
          "players": 3.7
         },
         {
          "game": "valorant % gain",
          "month": "2022-01-01T00:00:00",
          "players": 23.9
         },
         {
          "game": "valorant % gain",
          "month": "2022-02-01T00:00:00",
          "players": 0.5
         },
         {
          "game": "valorant % gain",
          "month": "2022-03-01T00:00:00",
          "players": 4.6
         },
         {
          "game": "valorant % gain",
          "month": "2022-04-01T00:00:00",
          "players": 9.3
         },
         {
          "game": "valorant % gain",
          "month": "2022-05-01T00:00:00",
          "players": -1
         },
         {
          "game": "valorant % gain",
          "month": "2022-06-01T00:00:00",
          "players": -5.6
         },
         {
          "game": "valorant % gain",
          "month": "2022-07-01T00:00:00",
          "players": -0.9
         },
         {
          "game": "valorant % gain",
          "month": "2022-08-01T00:00:00",
          "players": 9
         },
         {
          "game": "valorant % gain",
          "month": "2022-09-01T00:00:00",
          "players": 1.3
         },
         {
          "game": "valorant % gain",
          "month": "2022-10-01T00:00:00",
          "players": -4.1
         },
         {
          "game": "valorant % gain",
          "month": "2022-11-01T00:00:00",
          "players": -8.3
         },
         {
          "game": "valorant % gain",
          "month": "2022-12-01T00:00:00",
          "players": -6.2
         },
         {
          "game": "valorant % gain",
          "month": "2023-01-01T00:00:00",
          "players": 13.7
         },
         {
          "game": "valorant % gain",
          "month": "2023-02-01T00:00:00",
          "players": 2.5
         },
         {
          "game": "valorant % gain",
          "month": "2023-03-01T00:00:00",
          "players": 14.5
         },
         {
          "game": "valorant % gain",
          "month": "2023-04-01T00:00:00",
          "players": -6.1
         },
         {
          "game": "valorant % gain",
          "month": "2023-05-01T00:00:00",
          "players": -1.7
         },
         {
          "game": "valorant % gain",
          "month": "2023-06-01T00:00:00",
          "players": -1.9
         },
         {
          "game": "valorant % gain",
          "month": "2023-07-01T00:00:00",
          "players": 0
         },
         {
          "game": "valorant % gain",
          "month": "2023-08-01T00:00:00",
          "players": -2.4
         },
         {
          "game": "valorant % gain",
          "month": "2023-09-01T00:00:00",
          "players": 0.6
         },
         {
          "game": "valorant % gain",
          "month": "2023-10-01T00:00:00",
          "players": -17.5
         },
         {
          "game": "valorant % gain",
          "month": "2023-11-01T00:00:00",
          "players": -2.9
         },
         {
          "game": "valorant % gain",
          "month": "2023-12-01T00:00:00",
          "players": -3.9
         },
         {
          "game": "valorant % gain",
          "month": "2024-01-01T00:00:00",
          "players": 18.8
         },
         {
          "game": "valorant % gain",
          "month": "2024-02-01T00:00:00",
          "players": 2.3
         },
         {
          "game": "valorant % gain",
          "month": "2024-03-01T00:00:00",
          "players": 11.4
         },
         {
          "game": "valorant % gain",
          "month": "2024-04-01T00:00:00",
          "players": -2
         },
         {
          "game": "valorant % gain",
          "month": "2024-05-01T00:00:00",
          "players": -4.5
         },
         {
          "game": "valorant % gain",
          "month": "2024-06-01T00:00:00",
          "players": 5
         },
         {
          "game": "valorant % gain",
          "month": "2024-07-01T00:00:00",
          "players": 5.3
         },
         {
          "game": "valorant % gain",
          "month": "2024-08-01T00:00:00",
          "players": 8
         },
         {
          "game": "valorant % gain",
          "month": "2024-09-01T00:00:00",
          "players": -0.5
         },
         {
          "game": "valorant % gain",
          "month": "2024-10-01T00:00:00",
          "players": -13.3
         },
         {
          "game": "valorant % gain",
          "month": "2024-11-01T00:00:00",
          "players": -9.6
         },
         {
          "game": "valorant % gain",
          "month": "2024-12-01T00:00:00",
          "players": -7
         },
         {
          "game": "valorant % gain",
          "month": "2025-01-01T00:00:00",
          "players": 16.2
         },
         {
          "game": "valorant % gain",
          "month": "2025-02-01T00:00:00",
          "players": -2.3
         },
         {
          "game": "valorant % gain",
          "month": "2025-03-01T00:00:00",
          "players": 5.6
         },
         {
          "game": "valorant % gain",
          "month": "2025-04-01T00:00:00",
          "players": -9.6
         },
         {
          "game": "valorant % gain",
          "month": "2025-05-01T00:00:00",
          "players": -3.4
         },
         {
          "game": "valorant % gain",
          "month": "2025-06-01T00:00:00",
          "players": 1.6
         },
         {
          "game": "valorant % gain",
          "month": "2025-07-01T00:00:00",
          "players": -1.7
         },
         {
          "game": "valorant % gain",
          "month": "2025-08-01T00:00:00",
          "players": 0
         },
         {
          "game": "siege",
          "month": "2020-06-01T00:00:00",
          "players": 126511
         },
         {
          "game": "siege",
          "month": "2020-07-01T00:00:00",
          "players": 122461
         },
         {
          "game": "siege",
          "month": "2020-08-01T00:00:00",
          "players": 131847
         },
         {
          "game": "siege",
          "month": "2020-09-01T00:00:00",
          "players": 94285
         },
         {
          "game": "siege",
          "month": "2020-10-01T00:00:00",
          "players": 115584
         },
         {
          "game": "siege",
          "month": "2020-11-01T00:00:00",
          "players": 95594
         },
         {
          "game": "siege",
          "month": "2020-12-01T00:00:00",
          "players": 124103
         },
         {
          "game": "siege",
          "month": "2021-01-01T00:00:00",
          "players": 123948
         },
         {
          "game": "siege",
          "month": "2021-02-01T00:00:00",
          "players": 113520
         },
         {
          "game": "siege",
          "month": "2021-03-01T00:00:00",
          "players": 200879
         },
         {
          "game": "siege",
          "month": "2021-04-01T00:00:00",
          "players": 142333
         },
         {
          "game": "siege",
          "month": "2021-05-01T00:00:00",
          "players": 109202
         },
         {
          "game": "siege",
          "month": "2021-06-01T00:00:00",
          "players": 100628
         },
         {
          "game": "siege",
          "month": "2021-07-01T00:00:00",
          "players": 90531
         },
         {
          "game": "siege",
          "month": "2021-08-01T00:00:00",
          "players": 93607
         },
         {
          "game": "siege",
          "month": "2021-09-01T00:00:00",
          "players": 111591
         },
         {
          "game": "siege",
          "month": "2021-10-01T00:00:00",
          "players": 80597
         },
         {
          "game": "siege",
          "month": "2021-11-01T00:00:00",
          "players": 71383
         },
         {
          "game": "siege",
          "month": "2021-12-01T00:00:00",
          "players": 84176
         },
         {
          "game": "siege",
          "month": "2022-01-01T00:00:00",
          "players": 75125
         },
         {
          "game": "siege",
          "month": "2022-02-01T00:00:00",
          "players": 78156
         },
         {
          "game": "siege",
          "month": "2022-03-01T00:00:00",
          "players": 109445
         },
         {
          "game": "siege",
          "month": "2022-04-01T00:00:00",
          "players": 93577
         },
         {
          "game": "siege",
          "month": "2022-05-01T00:00:00",
          "players": 94285
         },
         {
          "game": "siege",
          "month": "2022-06-01T00:00:00",
          "players": 70958
         },
         {
          "game": "siege",
          "month": "2022-07-01T00:00:00",
          "players": 64816
         },
         {
          "game": "siege",
          "month": "2022-08-01T00:00:00",
          "players": 62393
         },
         {
          "game": "siege",
          "month": "2022-09-01T00:00:00",
          "players": 66588
         },
         {
          "game": "siege",
          "month": "2022-10-01T00:00:00",
          "players": 54972
         },
         {
          "game": "siege",
          "month": "2022-11-01T00:00:00",
          "players": 46245
         },
         {
          "game": "siege",
          "month": "2022-12-01T00:00:00",
          "players": 64310
         },
         {
          "game": "siege",
          "month": "2023-01-01T00:00:00",
          "players": 67039
         },
         {
          "game": "siege",
          "month": "2023-02-01T00:00:00",
          "players": 65006
         },
         {
          "game": "siege",
          "month": "2023-03-01T00:00:00",
          "players": 88246
         },
         {
          "game": "siege",
          "month": "2023-04-01T00:00:00",
          "players": 79348
         },
         {
          "game": "siege",
          "month": "2023-05-01T00:00:00",
          "players": 66908
         },
         {
          "game": "siege",
          "month": "2023-06-01T00:00:00",
          "players": 68586
         },
         {
          "game": "siege",
          "month": "2023-07-01T00:00:00",
          "players": 71039
         },
         {
          "game": "siege",
          "month": "2023-08-01T00:00:00",
          "players": 84758
         },
         {
          "game": "siege",
          "month": "2023-09-01T00:00:00",
          "players": 95002
         },
         {
          "game": "siege",
          "month": "2023-10-01T00:00:00",
          "players": 94965
         },
         {
          "game": "siege",
          "month": "2023-11-01T00:00:00",
          "players": 59892
         },
         {
          "game": "siege",
          "month": "2023-12-01T00:00:00",
          "players": 62212
         },
         {
          "game": "siege",
          "month": "2024-01-01T00:00:00",
          "players": 94285
         },
         {
          "game": "siege",
          "month": "2024-02-01T00:00:00",
          "players": 102219
         },
         {
          "game": "siege",
          "month": "2024-03-01T00:00:00",
          "players": 201933
         },
         {
          "game": "siege",
          "month": "2024-04-01T00:00:00",
          "players": 156000
         },
         {
          "game": "siege",
          "month": "2024-05-01T00:00:00",
          "players": 101431
         },
         {
          "game": "siege",
          "month": "2024-06-01T00:00:00",
          "players": 88733
         },
         {
          "game": "siege",
          "month": "2024-07-01T00:00:00",
          "players": 73646
         },
         {
          "game": "siege",
          "month": "2024-08-01T00:00:00",
          "players": 75693
         },
         {
          "game": "siege",
          "month": "2024-09-01T00:00:00",
          "players": 90980
         },
         {
          "game": "siege",
          "month": "2024-10-01T00:00:00",
          "players": 76268
         },
         {
          "game": "siege",
          "month": "2024-11-01T00:00:00",
          "players": 59030
         },
         {
          "game": "siege",
          "month": "2024-12-01T00:00:00",
          "players": 76942
         },
         {
          "game": "siege",
          "month": "2025-01-01T00:00:00",
          "players": 95755
         },
         {
          "game": "siege",
          "month": "2025-02-01T00:00:00",
          "players": 101606
         },
         {
          "game": "siege",
          "month": "2025-03-01T00:00:00",
          "players": 145490
         },
         {
          "game": "siege",
          "month": "2025-04-01T00:00:00",
          "players": 107312
         },
         {
          "game": "siege",
          "month": "2025-05-01T00:00:00",
          "players": 89179
         },
         {
          "game": "siege",
          "month": "2025-06-01T00:00:00",
          "players": 141870
         },
         {
          "game": "siege",
          "month": "2025-07-01T00:00:00",
          "players": 111052
         },
         {
          "game": "siege",
          "month": "2025-08-01T00:00:00",
          "players": 100219
         },
         {
          "game": "siege gain",
          "month": "2020-06-01T00:00:00",
          "players": -20062
         },
         {
          "game": "siege gain",
          "month": "2020-07-01T00:00:00",
          "players": -4050
         },
         {
          "game": "siege gain",
          "month": "2020-08-01T00:00:00",
          "players": 9386
         },
         {
          "game": "siege gain",
          "month": "2020-09-01T00:00:00",
          "players": -37562
         },
         {
          "game": "siege gain",
          "month": "2020-10-01T00:00:00",
          "players": 21299
         },
         {
          "game": "siege gain",
          "month": "2020-11-01T00:00:00",
          "players": -19990
         },
         {
          "game": "siege gain",
          "month": "2020-12-01T00:00:00",
          "players": 28509
         },
         {
          "game": "siege gain",
          "month": "2021-01-01T00:00:00",
          "players": -155
         },
         {
          "game": "siege gain",
          "month": "2021-02-01T00:00:00",
          "players": -10428
         },
         {
          "game": "siege gain",
          "month": "2021-03-01T00:00:00",
          "players": 87359
         },
         {
          "game": "siege gain",
          "month": "2021-04-01T00:00:00",
          "players": -58546
         },
         {
          "game": "siege gain",
          "month": "2021-05-01T00:00:00",
          "players": -33131
         },
         {
          "game": "siege gain",
          "month": "2021-06-01T00:00:00",
          "players": -8574
         },
         {
          "game": "siege gain",
          "month": "2021-07-01T00:00:00",
          "players": -10097
         },
         {
          "game": "siege gain",
          "month": "2021-08-01T00:00:00",
          "players": 3076
         },
         {
          "game": "siege gain",
          "month": "2021-09-01T00:00:00",
          "players": 17984
         },
         {
          "game": "siege gain",
          "month": "2021-10-01T00:00:00",
          "players": -30994
         },
         {
          "game": "siege gain",
          "month": "2021-11-01T00:00:00",
          "players": -9214
         },
         {
          "game": "siege gain",
          "month": "2021-12-01T00:00:00",
          "players": 12793
         },
         {
          "game": "siege gain",
          "month": "2022-01-01T00:00:00",
          "players": -9051
         },
         {
          "game": "siege gain",
          "month": "2022-02-01T00:00:00",
          "players": 3031
         },
         {
          "game": "siege gain",
          "month": "2022-03-01T00:00:00",
          "players": 31289
         },
         {
          "game": "siege gain",
          "month": "2022-04-01T00:00:00",
          "players": -15868
         },
         {
          "game": "siege gain",
          "month": "2022-05-01T00:00:00",
          "players": 708
         },
         {
          "game": "siege gain",
          "month": "2022-06-01T00:00:00",
          "players": -23327
         },
         {
          "game": "siege gain",
          "month": "2022-07-01T00:00:00",
          "players": -6142
         },
         {
          "game": "siege gain",
          "month": "2022-08-01T00:00:00",
          "players": -2423
         },
         {
          "game": "siege gain",
          "month": "2022-09-01T00:00:00",
          "players": 4195
         },
         {
          "game": "siege gain",
          "month": "2022-10-01T00:00:00",
          "players": -11616
         },
         {
          "game": "siege gain",
          "month": "2022-11-01T00:00:00",
          "players": -8727
         },
         {
          "game": "siege gain",
          "month": "2022-12-01T00:00:00",
          "players": 18065
         },
         {
          "game": "siege gain",
          "month": "2023-01-01T00:00:00",
          "players": 2729
         },
         {
          "game": "siege gain",
          "month": "2023-02-01T00:00:00",
          "players": -2033
         },
         {
          "game": "siege gain",
          "month": "2023-03-01T00:00:00",
          "players": 23240
         },
         {
          "game": "siege gain",
          "month": "2023-04-01T00:00:00",
          "players": -8898
         },
         {
          "game": "siege gain",
          "month": "2023-05-01T00:00:00",
          "players": -12440
         },
         {
          "game": "siege gain",
          "month": "2023-06-01T00:00:00",
          "players": 1678
         },
         {
          "game": "siege gain",
          "month": "2023-07-01T00:00:00",
          "players": 2453
         },
         {
          "game": "siege gain",
          "month": "2023-08-01T00:00:00",
          "players": 13719
         },
         {
          "game": "siege gain",
          "month": "2023-09-01T00:00:00",
          "players": 10244
         },
         {
          "game": "siege gain",
          "month": "2023-10-01T00:00:00",
          "players": -37
         },
         {
          "game": "siege gain",
          "month": "2023-11-01T00:00:00",
          "players": -35073
         },
         {
          "game": "siege gain",
          "month": "2023-12-01T00:00:00",
          "players": 2320
         },
         {
          "game": "siege gain",
          "month": "2024-01-01T00:00:00",
          "players": 32073
         },
         {
          "game": "siege gain",
          "month": "2024-02-01T00:00:00",
          "players": 7934
         },
         {
          "game": "siege gain",
          "month": "2024-03-01T00:00:00",
          "players": 99714
         },
         {
          "game": "siege gain",
          "month": "2024-04-01T00:00:00",
          "players": -45933
         },
         {
          "game": "siege gain",
          "month": "2024-05-01T00:00:00",
          "players": -54569
         },
         {
          "game": "siege gain",
          "month": "2024-06-01T00:00:00",
          "players": -12698
         },
         {
          "game": "siege gain",
          "month": "2024-07-01T00:00:00",
          "players": -15087
         },
         {
          "game": "siege gain",
          "month": "2024-08-01T00:00:00",
          "players": 2047
         },
         {
          "game": "siege gain",
          "month": "2024-09-01T00:00:00",
          "players": 15287
         },
         {
          "game": "siege gain",
          "month": "2024-10-01T00:00:00",
          "players": -14712
         },
         {
          "game": "siege gain",
          "month": "2024-11-01T00:00:00",
          "players": -17238
         },
         {
          "game": "siege gain",
          "month": "2024-12-01T00:00:00",
          "players": 17912
         },
         {
          "game": "siege gain",
          "month": "2025-01-01T00:00:00",
          "players": 18813
         },
         {
          "game": "siege gain",
          "month": "2025-02-01T00:00:00",
          "players": 5851
         },
         {
          "game": "siege gain",
          "month": "2025-03-01T00:00:00",
          "players": 43884
         },
         {
          "game": "siege gain",
          "month": "2025-04-01T00:00:00",
          "players": -38178
         },
         {
          "game": "siege gain",
          "month": "2025-05-01T00:00:00",
          "players": -18133
         },
         {
          "game": "siege gain",
          "month": "2025-06-01T00:00:00",
          "players": 52691
         },
         {
          "game": "siege gain",
          "month": "2025-07-01T00:00:00",
          "players": -30818
         },
         {
          "game": "siege gain",
          "month": "2025-08-01T00:00:00",
          "players": -10833
         },
         {
          "game": "siege % gain",
          "month": "2020-06-01T00:00:00",
          "players": -13.7
         },
         {
          "game": "siege % gain",
          "month": "2020-07-01T00:00:00",
          "players": -3.2
         },
         {
          "game": "siege % gain",
          "month": "2020-08-01T00:00:00",
          "players": 7.7
         },
         {
          "game": "siege % gain",
          "month": "2020-09-01T00:00:00",
          "players": -28.5
         },
         {
          "game": "siege % gain",
          "month": "2020-10-01T00:00:00",
          "players": 22.6
         },
         {
          "game": "siege % gain",
          "month": "2020-11-01T00:00:00",
          "players": -17.3
         },
         {
          "game": "siege % gain",
          "month": "2020-12-01T00:00:00",
          "players": 29.8
         },
         {
          "game": "siege % gain",
          "month": "2021-01-01T00:00:00",
          "players": -0.1
         },
         {
          "game": "siege % gain",
          "month": "2021-02-01T00:00:00",
          "players": -8.4
         },
         {
          "game": "siege % gain",
          "month": "2021-03-01T00:00:00",
          "players": 77
         },
         {
          "game": "siege % gain",
          "month": "2021-04-01T00:00:00",
          "players": -29.1
         },
         {
          "game": "siege % gain",
          "month": "2021-05-01T00:00:00",
          "players": -23.3
         },
         {
          "game": "siege % gain",
          "month": "2021-06-01T00:00:00",
          "players": -7.9
         },
         {
          "game": "siege % gain",
          "month": "2021-07-01T00:00:00",
          "players": -10
         },
         {
          "game": "siege % gain",
          "month": "2021-08-01T00:00:00",
          "players": 3.4
         },
         {
          "game": "siege % gain",
          "month": "2021-09-01T00:00:00",
          "players": 19.2
         },
         {
          "game": "siege % gain",
          "month": "2021-10-01T00:00:00",
          "players": -27.8
         },
         {
          "game": "siege % gain",
          "month": "2021-11-01T00:00:00",
          "players": -11.4
         },
         {
          "game": "siege % gain",
          "month": "2021-12-01T00:00:00",
          "players": 17.9
         },
         {
          "game": "siege % gain",
          "month": "2022-01-01T00:00:00",
          "players": -10.8
         },
         {
          "game": "siege % gain",
          "month": "2022-02-01T00:00:00",
          "players": 4
         },
         {
          "game": "siege % gain",
          "month": "2022-03-01T00:00:00",
          "players": 40
         },
         {
          "game": "siege % gain",
          "month": "2022-04-01T00:00:00",
          "players": -14.5
         },
         {
          "game": "siege % gain",
          "month": "2022-05-01T00:00:00",
          "players": 0.8
         },
         {
          "game": "siege % gain",
          "month": "2022-06-01T00:00:00",
          "players": -24.7
         },
         {
          "game": "siege % gain",
          "month": "2022-07-01T00:00:00",
          "players": -8.7
         },
         {
          "game": "siege % gain",
          "month": "2022-08-01T00:00:00",
          "players": -3.7
         },
         {
          "game": "siege % gain",
          "month": "2022-09-01T00:00:00",
          "players": 6.7
         },
         {
          "game": "siege % gain",
          "month": "2022-10-01T00:00:00",
          "players": -17.4
         },
         {
          "game": "siege % gain",
          "month": "2022-11-01T00:00:00",
          "players": -15.9
         },
         {
          "game": "siege % gain",
          "month": "2022-12-01T00:00:00",
          "players": 39.1
         },
         {
          "game": "siege % gain",
          "month": "2023-01-01T00:00:00",
          "players": 4.2
         },
         {
          "game": "siege % gain",
          "month": "2023-02-01T00:00:00",
          "players": -3
         },
         {
          "game": "siege % gain",
          "month": "2023-03-01T00:00:00",
          "players": 35.8
         },
         {
          "game": "siege % gain",
          "month": "2023-04-01T00:00:00",
          "players": -10.1
         },
         {
          "game": "siege % gain",
          "month": "2023-05-01T00:00:00",
          "players": -15.7
         },
         {
          "game": "siege % gain",
          "month": "2023-06-01T00:00:00",
          "players": 2.5
         },
         {
          "game": "siege % gain",
          "month": "2023-07-01T00:00:00",
          "players": 3.6
         },
         {
          "game": "siege % gain",
          "month": "2023-08-01T00:00:00",
          "players": 19.3
         },
         {
          "game": "siege % gain",
          "month": "2023-09-01T00:00:00",
          "players": 12.1
         },
         {
          "game": "siege % gain",
          "month": "2023-10-01T00:00:00",
          "players": 0
         },
         {
          "game": "siege % gain",
          "month": "2023-11-01T00:00:00",
          "players": -36.9
         },
         {
          "game": "siege % gain",
          "month": "2023-12-01T00:00:00",
          "players": 3.9
         },
         {
          "game": "siege % gain",
          "month": "2024-01-01T00:00:00",
          "players": 51.6
         },
         {
          "game": "siege % gain",
          "month": "2024-02-01T00:00:00",
          "players": 8.4
         },
         {
          "game": "siege % gain",
          "month": "2024-03-01T00:00:00",
          "players": 97.5
         },
         {
          "game": "siege % gain",
          "month": "2024-04-01T00:00:00",
          "players": -22.7
         },
         {
          "game": "siege % gain",
          "month": "2024-05-01T00:00:00",
          "players": -35
         },
         {
          "game": "siege % gain",
          "month": "2024-06-01T00:00:00",
          "players": -12.5
         },
         {
          "game": "siege % gain",
          "month": "2024-07-01T00:00:00",
          "players": -17
         },
         {
          "game": "siege % gain",
          "month": "2024-08-01T00:00:00",
          "players": 2.8
         },
         {
          "game": "siege % gain",
          "month": "2024-09-01T00:00:00",
          "players": 20.2
         },
         {
          "game": "siege % gain",
          "month": "2024-10-01T00:00:00",
          "players": -16.2
         },
         {
          "game": "siege % gain",
          "month": "2024-11-01T00:00:00",
          "players": -22.6
         },
         {
          "game": "siege % gain",
          "month": "2024-12-01T00:00:00",
          "players": 30.3
         },
         {
          "game": "siege % gain",
          "month": "2025-01-01T00:00:00",
          "players": 24.5
         },
         {
          "game": "siege % gain",
          "month": "2025-02-01T00:00:00",
          "players": 6.1
         },
         {
          "game": "siege % gain",
          "month": "2025-03-01T00:00:00",
          "players": 43.2
         },
         {
          "game": "siege % gain",
          "month": "2025-04-01T00:00:00",
          "players": -26.2
         },
         {
          "game": "siege % gain",
          "month": "2025-05-01T00:00:00",
          "players": -16.9
         },
         {
          "game": "siege % gain",
          "month": "2025-06-01T00:00:00",
          "players": 59.1
         },
         {
          "game": "siege % gain",
          "month": "2025-07-01T00:00:00",
          "players": -21.7
         },
         {
          "game": "siege % gain",
          "month": "2025-08-01T00:00:00",
          "players": -9.8
         },
         {
          "game": "fortnite",
          "month": "2020-06-01T00:00:00",
          "players": null
         },
         {
          "game": "fortnite",
          "month": "2020-07-01T00:00:00",
          "players": null
         },
         {
          "game": "fortnite",
          "month": "2020-08-01T00:00:00",
          "players": null
         },
         {
          "game": "fortnite",
          "month": "2020-09-01T00:00:00",
          "players": null
         },
         {
          "game": "fortnite",
          "month": "2020-10-01T00:00:00",
          "players": null
         },
         {
          "game": "fortnite",
          "month": "2020-11-01T00:00:00",
          "players": null
         },
         {
          "game": "fortnite",
          "month": "2020-12-01T00:00:00",
          "players": null
         },
         {
          "game": "fortnite",
          "month": "2021-01-01T00:00:00",
          "players": null
         },
         {
          "game": "fortnite",
          "month": "2021-02-01T00:00:00",
          "players": null
         },
         {
          "game": "fortnite",
          "month": "2021-03-01T00:00:00",
          "players": null
         },
         {
          "game": "fortnite",
          "month": "2021-04-01T00:00:00",
          "players": null
         },
         {
          "game": "fortnite",
          "month": "2021-05-01T00:00:00",
          "players": null
         },
         {
          "game": "fortnite",
          "month": "2021-06-01T00:00:00",
          "players": null
         },
         {
          "game": "fortnite",
          "month": "2021-07-01T00:00:00",
          "players": null
         },
         {
          "game": "fortnite",
          "month": "2021-08-01T00:00:00",
          "players": null
         },
         {
          "game": "fortnite",
          "month": "2021-09-01T00:00:00",
          "players": null
         },
         {
          "game": "fortnite",
          "month": "2021-10-01T00:00:00",
          "players": null
         },
         {
          "game": "fortnite",
          "month": "2021-11-01T00:00:00",
          "players": null
         },
         {
          "game": "fortnite",
          "month": "2021-12-01T00:00:00",
          "players": null
         },
         {
          "game": "fortnite",
          "month": "2022-01-01T00:00:00",
          "players": null
         },
         {
          "game": "fortnite",
          "month": "2022-02-01T00:00:00",
          "players": null
         },
         {
          "game": "fortnite",
          "month": "2022-03-01T00:00:00",
          "players": null
         },
         {
          "game": "fortnite",
          "month": "2022-04-01T00:00:00",
          "players": null
         },
         {
          "game": "fortnite",
          "month": "2022-05-01T00:00:00",
          "players": null
         },
         {
          "game": "fortnite",
          "month": "2022-06-01T00:00:00",
          "players": null
         },
         {
          "game": "fortnite",
          "month": "2022-07-01T00:00:00",
          "players": null
         },
         {
          "game": "fortnite",
          "month": "2022-08-01T00:00:00",
          "players": null
         },
         {
          "game": "fortnite",
          "month": "2022-09-01T00:00:00",
          "players": null
         },
         {
          "game": "fortnite",
          "month": "2022-10-01T00:00:00",
          "players": null
         },
         {
          "game": "fortnite",
          "month": "2022-11-01T00:00:00",
          "players": null
         },
         {
          "game": "fortnite",
          "month": "2022-12-01T00:00:00",
          "players": null
         },
         {
          "game": "fortnite",
          "month": "2023-01-01T00:00:00",
          "players": null
         },
         {
          "game": "fortnite",
          "month": "2023-02-01T00:00:00",
          "players": null
         },
         {
          "game": "fortnite",
          "month": "2023-03-01T00:00:00",
          "players": null
         },
         {
          "game": "fortnite",
          "month": "2023-04-01T00:00:00",
          "players": 1834545
         },
         {
          "game": "fortnite",
          "month": "2023-05-01T00:00:00",
          "players": 1813911
         },
         {
          "game": "fortnite",
          "month": "2023-06-01T00:00:00",
          "players": 2126246
         },
         {
          "game": "fortnite",
          "month": "2023-07-01T00:00:00",
          "players": 1811203
         },
         {
          "game": "fortnite",
          "month": "2023-08-01T00:00:00",
          "players": 2817867
         },
         {
          "game": "fortnite",
          "month": "2023-09-01T00:00:00",
          "players": 2336901
         },
         {
          "game": "fortnite",
          "month": "2023-10-01T00:00:00",
          "players": 2342751
         },
         {
          "game": "fortnite",
          "month": "2023-11-01T00:00:00",
          "players": 6172463
         },
         {
          "game": "fortnite",
          "month": "2023-12-01T00:00:00",
          "players": 11616374
         },
         {
          "game": "fortnite",
          "month": "2024-01-01T00:00:00",
          "players": 4873898
         },
         {
          "game": "fortnite",
          "month": "2024-02-01T00:00:00",
          "players": 4469098
         },
         {
          "game": "fortnite",
          "month": "2024-03-01T00:00:00",
          "players": 5152863
         },
         {
          "game": "fortnite",
          "month": "2024-04-01T00:00:00",
          "players": 2861907
         },
         {
          "game": "fortnite",
          "month": "2024-05-01T00:00:00",
          "players": 2475044
         },
         {
          "game": "fortnite",
          "month": "2024-06-01T00:00:00",
          "players": 2128213
         },
         {
          "game": "fortnite",
          "month": "2024-07-01T00:00:00",
          "players": 2882945
         },
         {
          "game": "fortnite",
          "month": "2024-08-01T00:00:00",
          "players": 3235781
         },
         {
          "game": "fortnite",
          "month": "2024-09-01T00:00:00",
          "players": 2671278
         },
         {
          "game": "fortnite",
          "month": "2024-10-01T00:00:00",
          "players": 9846962
         },
         {
          "game": "fortnite",
          "month": "2024-11-01T00:00:00",
          "players": 14343880
         },
         {
          "game": "fortnite",
          "month": "2024-12-01T00:00:00",
          "players": 4152336
         },
         {
          "game": "fortnite",
          "month": "2025-01-01T00:00:00",
          "players": 3652571
         },
         {
          "game": "fortnite",
          "month": "2025-02-01T00:00:00",
          "players": 4109301
         },
         {
          "game": "fortnite",
          "month": "2025-03-01T00:00:00",
          "players": 2757129
         },
         {
          "game": "fortnite",
          "month": "2025-04-01T00:00:00",
          "players": 2132493
         },
         {
          "game": "fortnite",
          "month": "2025-05-01T00:00:00",
          "players": 2356174
         },
         {
          "game": "fortnite",
          "month": "2025-06-01T00:00:00",
          "players": 5948454
         },
         {
          "game": "fortnite",
          "month": "2025-07-01T00:00:00",
          "players": 2396423
         },
         {
          "game": "fortnite",
          "month": "2025-08-01T00:00:00",
          "players": 3984350
         },
         {
          "game": "fortnite gain",
          "month": "2020-06-01T00:00:00",
          "players": null
         },
         {
          "game": "fortnite gain",
          "month": "2020-07-01T00:00:00",
          "players": null
         },
         {
          "game": "fortnite gain",
          "month": "2020-08-01T00:00:00",
          "players": null
         },
         {
          "game": "fortnite gain",
          "month": "2020-09-01T00:00:00",
          "players": null
         },
         {
          "game": "fortnite gain",
          "month": "2020-10-01T00:00:00",
          "players": null
         },
         {
          "game": "fortnite gain",
          "month": "2020-11-01T00:00:00",
          "players": null
         },
         {
          "game": "fortnite gain",
          "month": "2020-12-01T00:00:00",
          "players": null
         },
         {
          "game": "fortnite gain",
          "month": "2021-01-01T00:00:00",
          "players": null
         },
         {
          "game": "fortnite gain",
          "month": "2021-02-01T00:00:00",
          "players": null
         },
         {
          "game": "fortnite gain",
          "month": "2021-03-01T00:00:00",
          "players": null
         },
         {
          "game": "fortnite gain",
          "month": "2021-04-01T00:00:00",
          "players": null
         },
         {
          "game": "fortnite gain",
          "month": "2021-05-01T00:00:00",
          "players": null
         },
         {
          "game": "fortnite gain",
          "month": "2021-06-01T00:00:00",
          "players": null
         },
         {
          "game": "fortnite gain",
          "month": "2021-07-01T00:00:00",
          "players": null
         },
         {
          "game": "fortnite gain",
          "month": "2021-08-01T00:00:00",
          "players": null
         },
         {
          "game": "fortnite gain",
          "month": "2021-09-01T00:00:00",
          "players": null
         },
         {
          "game": "fortnite gain",
          "month": "2021-10-01T00:00:00",
          "players": null
         },
         {
          "game": "fortnite gain",
          "month": "2021-11-01T00:00:00",
          "players": null
         },
         {
          "game": "fortnite gain",
          "month": "2021-12-01T00:00:00",
          "players": null
         },
         {
          "game": "fortnite gain",
          "month": "2022-01-01T00:00:00",
          "players": null
         },
         {
          "game": "fortnite gain",
          "month": "2022-02-01T00:00:00",
          "players": null
         },
         {
          "game": "fortnite gain",
          "month": "2022-03-01T00:00:00",
          "players": null
         },
         {
          "game": "fortnite gain",
          "month": "2022-04-01T00:00:00",
          "players": null
         },
         {
          "game": "fortnite gain",
          "month": "2022-05-01T00:00:00",
          "players": null
         },
         {
          "game": "fortnite gain",
          "month": "2022-06-01T00:00:00",
          "players": null
         },
         {
          "game": "fortnite gain",
          "month": "2022-07-01T00:00:00",
          "players": null
         },
         {
          "game": "fortnite gain",
          "month": "2022-08-01T00:00:00",
          "players": null
         },
         {
          "game": "fortnite gain",
          "month": "2022-09-01T00:00:00",
          "players": null
         },
         {
          "game": "fortnite gain",
          "month": "2022-10-01T00:00:00",
          "players": null
         },
         {
          "game": "fortnite gain",
          "month": "2022-11-01T00:00:00",
          "players": null
         },
         {
          "game": "fortnite gain",
          "month": "2022-12-01T00:00:00",
          "players": null
         },
         {
          "game": "fortnite gain",
          "month": "2023-01-01T00:00:00",
          "players": null
         },
         {
          "game": "fortnite gain",
          "month": "2023-02-01T00:00:00",
          "players": null
         },
         {
          "game": "fortnite gain",
          "month": "2023-03-01T00:00:00",
          "players": null
         },
         {
          "game": "fortnite gain",
          "month": "2023-04-01T00:00:00",
          "players": 0
         },
         {
          "game": "fortnite gain",
          "month": "2023-05-01T00:00:00",
          "players": -20634
         },
         {
          "game": "fortnite gain",
          "month": "2023-06-01T00:00:00",
          "players": 312335
         },
         {
          "game": "fortnite gain",
          "month": "2023-07-01T00:00:00",
          "players": -315043
         },
         {
          "game": "fortnite gain",
          "month": "2023-08-01T00:00:00",
          "players": 1006664
         },
         {
          "game": "fortnite gain",
          "month": "2023-09-01T00:00:00",
          "players": -480966
         },
         {
          "game": "fortnite gain",
          "month": "2023-10-01T00:00:00",
          "players": 5850
         },
         {
          "game": "fortnite gain",
          "month": "2023-11-01T00:00:00",
          "players": 3829712
         },
         {
          "game": "fortnite gain",
          "month": "2023-12-01T00:00:00",
          "players": 5443911
         },
         {
          "game": "fortnite gain",
          "month": "2024-01-01T00:00:00",
          "players": -6742476
         },
         {
          "game": "fortnite gain",
          "month": "2024-02-01T00:00:00",
          "players": -404800
         },
         {
          "game": "fortnite gain",
          "month": "2024-03-01T00:00:00",
          "players": 683765
         },
         {
          "game": "fortnite gain",
          "month": "2024-04-01T00:00:00",
          "players": -2290956
         },
         {
          "game": "fortnite gain",
          "month": "2024-05-01T00:00:00",
          "players": -386863
         },
         {
          "game": "fortnite gain",
          "month": "2024-06-01T00:00:00",
          "players": -346831
         },
         {
          "game": "fortnite gain",
          "month": "2024-07-01T00:00:00",
          "players": 754732
         },
         {
          "game": "fortnite gain",
          "month": "2024-08-01T00:00:00",
          "players": 352836
         },
         {
          "game": "fortnite gain",
          "month": "2024-09-01T00:00:00",
          "players": -564503
         },
         {
          "game": "fortnite gain",
          "month": "2024-10-01T00:00:00",
          "players": 7175684
         },
         {
          "game": "fortnite gain",
          "month": "2024-11-01T00:00:00",
          "players": 4496918
         },
         {
          "game": "fortnite gain",
          "month": "2024-12-01T00:00:00",
          "players": -10191544
         },
         {
          "game": "fortnite gain",
          "month": "2025-01-01T00:00:00",
          "players": -499765
         },
         {
          "game": "fortnite gain",
          "month": "2025-02-01T00:00:00",
          "players": 456730
         },
         {
          "game": "fortnite gain",
          "month": "2025-03-01T00:00:00",
          "players": -1352172
         },
         {
          "game": "fortnite gain",
          "month": "2025-04-01T00:00:00",
          "players": -624636
         },
         {
          "game": "fortnite gain",
          "month": "2025-05-01T00:00:00",
          "players": 223681
         },
         {
          "game": "fortnite gain",
          "month": "2025-06-01T00:00:00",
          "players": 3592280
         },
         {
          "game": "fortnite gain",
          "month": "2025-07-01T00:00:00",
          "players": -3552031
         },
         {
          "game": "fortnite gain",
          "month": "2025-08-01T00:00:00",
          "players": 1587927
         },
         {
          "game": "fortnite % gain",
          "month": "2020-06-01T00:00:00",
          "players": null
         },
         {
          "game": "fortnite % gain",
          "month": "2020-07-01T00:00:00",
          "players": null
         },
         {
          "game": "fortnite % gain",
          "month": "2020-08-01T00:00:00",
          "players": null
         },
         {
          "game": "fortnite % gain",
          "month": "2020-09-01T00:00:00",
          "players": null
         },
         {
          "game": "fortnite % gain",
          "month": "2020-10-01T00:00:00",
          "players": null
         },
         {
          "game": "fortnite % gain",
          "month": "2020-11-01T00:00:00",
          "players": null
         },
         {
          "game": "fortnite % gain",
          "month": "2020-12-01T00:00:00",
          "players": null
         },
         {
          "game": "fortnite % gain",
          "month": "2021-01-01T00:00:00",
          "players": null
         },
         {
          "game": "fortnite % gain",
          "month": "2021-02-01T00:00:00",
          "players": null
         },
         {
          "game": "fortnite % gain",
          "month": "2021-03-01T00:00:00",
          "players": null
         },
         {
          "game": "fortnite % gain",
          "month": "2021-04-01T00:00:00",
          "players": null
         },
         {
          "game": "fortnite % gain",
          "month": "2021-05-01T00:00:00",
          "players": null
         },
         {
          "game": "fortnite % gain",
          "month": "2021-06-01T00:00:00",
          "players": null
         },
         {
          "game": "fortnite % gain",
          "month": "2021-07-01T00:00:00",
          "players": null
         },
         {
          "game": "fortnite % gain",
          "month": "2021-08-01T00:00:00",
          "players": null
         },
         {
          "game": "fortnite % gain",
          "month": "2021-09-01T00:00:00",
          "players": null
         },
         {
          "game": "fortnite % gain",
          "month": "2021-10-01T00:00:00",
          "players": null
         },
         {
          "game": "fortnite % gain",
          "month": "2021-11-01T00:00:00",
          "players": null
         },
         {
          "game": "fortnite % gain",
          "month": "2021-12-01T00:00:00",
          "players": null
         },
         {
          "game": "fortnite % gain",
          "month": "2022-01-01T00:00:00",
          "players": null
         },
         {
          "game": "fortnite % gain",
          "month": "2022-02-01T00:00:00",
          "players": null
         },
         {
          "game": "fortnite % gain",
          "month": "2022-03-01T00:00:00",
          "players": null
         },
         {
          "game": "fortnite % gain",
          "month": "2022-04-01T00:00:00",
          "players": null
         },
         {
          "game": "fortnite % gain",
          "month": "2022-05-01T00:00:00",
          "players": null
         },
         {
          "game": "fortnite % gain",
          "month": "2022-06-01T00:00:00",
          "players": null
         },
         {
          "game": "fortnite % gain",
          "month": "2022-07-01T00:00:00",
          "players": null
         },
         {
          "game": "fortnite % gain",
          "month": "2022-08-01T00:00:00",
          "players": null
         },
         {
          "game": "fortnite % gain",
          "month": "2022-09-01T00:00:00",
          "players": null
         },
         {
          "game": "fortnite % gain",
          "month": "2022-10-01T00:00:00",
          "players": null
         },
         {
          "game": "fortnite % gain",
          "month": "2022-11-01T00:00:00",
          "players": null
         },
         {
          "game": "fortnite % gain",
          "month": "2022-12-01T00:00:00",
          "players": null
         },
         {
          "game": "fortnite % gain",
          "month": "2023-01-01T00:00:00",
          "players": null
         },
         {
          "game": "fortnite % gain",
          "month": "2023-02-01T00:00:00",
          "players": null
         },
         {
          "game": "fortnite % gain",
          "month": "2023-03-01T00:00:00",
          "players": null
         },
         {
          "game": "fortnite % gain",
          "month": "2023-04-01T00:00:00",
          "players": 0
         },
         {
          "game": "fortnite % gain",
          "month": "2023-05-01T00:00:00",
          "players": -1.1
         },
         {
          "game": "fortnite % gain",
          "month": "2023-06-01T00:00:00",
          "players": 17.2
         },
         {
          "game": "fortnite % gain",
          "month": "2023-07-01T00:00:00",
          "players": -14.8
         },
         {
          "game": "fortnite % gain",
          "month": "2023-08-01T00:00:00",
          "players": 55.6
         },
         {
          "game": "fortnite % gain",
          "month": "2023-09-01T00:00:00",
          "players": -17.1
         },
         {
          "game": "fortnite % gain",
          "month": "2023-10-01T00:00:00",
          "players": 0.3
         },
         {
          "game": "fortnite % gain",
          "month": "2023-11-01T00:00:00",
          "players": 163.5
         },
         {
          "game": "fortnite % gain",
          "month": "2023-12-01T00:00:00",
          "players": 88.2
         },
         {
          "game": "fortnite % gain",
          "month": "2024-01-01T00:00:00",
          "players": -58
         },
         {
          "game": "fortnite % gain",
          "month": "2024-02-01T00:00:00",
          "players": -8.3
         },
         {
          "game": "fortnite % gain",
          "month": "2024-03-01T00:00:00",
          "players": 15.3
         },
         {
          "game": "fortnite % gain",
          "month": "2024-04-01T00:00:00",
          "players": -44.5
         },
         {
          "game": "fortnite % gain",
          "month": "2024-05-01T00:00:00",
          "players": -13.5
         },
         {
          "game": "fortnite % gain",
          "month": "2024-06-01T00:00:00",
          "players": -14
         },
         {
          "game": "fortnite % gain",
          "month": "2024-07-01T00:00:00",
          "players": 35.5
         },
         {
          "game": "fortnite % gain",
          "month": "2024-08-01T00:00:00",
          "players": 12.2
         },
         {
          "game": "fortnite % gain",
          "month": "2024-09-01T00:00:00",
          "players": -17.4
         },
         {
          "game": "fortnite % gain",
          "month": "2024-10-01T00:00:00",
          "players": 268.6
         },
         {
          "game": "fortnite % gain",
          "month": "2024-11-01T00:00:00",
          "players": 45.7
         },
         {
          "game": "fortnite % gain",
          "month": "2024-12-01T00:00:00",
          "players": -71.1
         },
         {
          "game": "fortnite % gain",
          "month": "2025-01-01T00:00:00",
          "players": -12
         },
         {
          "game": "fortnite % gain",
          "month": "2025-02-01T00:00:00",
          "players": 12.5
         },
         {
          "game": "fortnite % gain",
          "month": "2025-03-01T00:00:00",
          "players": -32.9
         },
         {
          "game": "fortnite % gain",
          "month": "2025-04-01T00:00:00",
          "players": -22.7
         },
         {
          "game": "fortnite % gain",
          "month": "2025-05-01T00:00:00",
          "players": 10.5
         },
         {
          "game": "fortnite % gain",
          "month": "2025-06-01T00:00:00",
          "players": 152.5
         },
         {
          "game": "fortnite % gain",
          "month": "2025-07-01T00:00:00",
          "players": -59.7
         },
         {
          "game": "fortnite % gain",
          "month": "2025-08-01T00:00:00",
          "players": 66.3
         },
         {
          "game": "battlefield",
          "month": "2020-06-01T00:00:00",
          "players": 5172
         },
         {
          "game": "battlefield",
          "month": "2020-07-01T00:00:00",
          "players": 4696
         },
         {
          "game": "battlefield",
          "month": "2020-08-01T00:00:00",
          "players": 16020
         },
         {
          "game": "battlefield",
          "month": "2020-09-01T00:00:00",
          "players": 7273
         },
         {
          "game": "battlefield",
          "month": "2020-10-01T00:00:00",
          "players": 15854
         },
         {
          "game": "battlefield",
          "month": "2020-11-01T00:00:00",
          "players": 16753
         },
         {
          "game": "battlefield",
          "month": "2020-12-01T00:00:00",
          "players": 17240
         },
         {
          "game": "battlefield",
          "month": "2021-01-01T00:00:00",
          "players": 17685
         },
         {
          "game": "battlefield",
          "month": "2021-02-01T00:00:00",
          "players": 37799
         },
         {
          "game": "battlefield",
          "month": "2021-03-01T00:00:00",
          "players": 24348
         },
         {
          "game": "battlefield",
          "month": "2021-04-01T00:00:00",
          "players": 39782
         },
         {
          "game": "battlefield",
          "month": "2021-05-01T00:00:00",
          "players": 24379
         },
         {
          "game": "battlefield",
          "month": "2021-06-01T00:00:00",
          "players": 55194
         },
         {
          "game": "battlefield",
          "month": "2021-07-01T00:00:00",
          "players": 84445
         },
         {
          "game": "battlefield",
          "month": "2021-08-01T00:00:00",
          "players": 129643
         },
         {
          "game": "battlefield",
          "month": "2021-09-01T00:00:00",
          "players": 110502
         },
         {
          "game": "battlefield",
          "month": "2021-10-01T00:00:00",
          "players": 125347
         },
         {
          "game": "battlefield",
          "month": "2021-11-01T00:00:00",
          "players": 166754
         },
         {
          "game": "battlefield",
          "month": "2021-12-01T00:00:00",
          "players": 89603
         },
         {
          "game": "battlefield",
          "month": "2022-01-01T00:00:00",
          "players": 58521
         },
         {
          "game": "battlefield",
          "month": "2022-02-01T00:00:00",
          "players": 54568
         },
         {
          "game": "battlefield",
          "month": "2022-03-01T00:00:00",
          "players": 49881
         },
         {
          "game": "battlefield",
          "month": "2022-04-01T00:00:00",
          "players": 45760
         },
         {
          "game": "battlefield",
          "month": "2022-05-01T00:00:00",
          "players": 36054
         },
         {
          "game": "battlefield",
          "month": "2022-06-01T00:00:00",
          "players": 45918
         },
         {
          "game": "battlefield",
          "month": "2022-07-01T00:00:00",
          "players": 42827
         },
         {
          "game": "battlefield",
          "month": "2022-08-01T00:00:00",
          "players": 50501
         },
         {
          "game": "battlefield",
          "month": "2022-09-01T00:00:00",
          "players": 56221
         },
         {
          "game": "battlefield",
          "month": "2022-10-01T00:00:00",
          "players": 48122
         },
         {
          "game": "battlefield",
          "month": "2022-11-01T00:00:00",
          "players": 135995
         },
         {
          "game": "battlefield",
          "month": "2022-12-01T00:00:00",
          "players": 129950
         },
         {
          "game": "battlefield",
          "month": "2023-01-01T00:00:00",
          "players": 85377
         },
         {
          "game": "battlefield",
          "month": "2023-02-01T00:00:00",
          "players": 76714
         },
         {
          "game": "battlefield",
          "month": "2023-03-01T00:00:00",
          "players": 68891
         },
         {
          "game": "battlefield",
          "month": "2023-04-01T00:00:00",
          "players": 61209
         },
         {
          "game": "battlefield",
          "month": "2023-05-01T00:00:00",
          "players": 57394
         },
         {
          "game": "battlefield",
          "month": "2023-06-01T00:00:00",
          "players": 56705
         },
         {
          "game": "battlefield",
          "month": "2023-07-01T00:00:00",
          "players": 49899
         },
         {
          "game": "battlefield",
          "month": "2023-08-01T00:00:00",
          "players": 47983
         },
         {
          "game": "battlefield",
          "month": "2023-09-01T00:00:00",
          "players": 44710
         },
         {
          "game": "battlefield",
          "month": "2023-10-01T00:00:00",
          "players": 165411
         },
         {
          "game": "battlefield",
          "month": "2023-11-01T00:00:00",
          "players": 212581
         },
         {
          "game": "battlefield",
          "month": "2023-12-01T00:00:00",
          "players": 184128
         },
         {
          "game": "battlefield",
          "month": "2024-01-01T00:00:00",
          "players": 120407
         },
         {
          "game": "battlefield",
          "month": "2024-02-01T00:00:00",
          "players": 110298
         },
         {
          "game": "battlefield",
          "month": "2024-03-01T00:00:00",
          "players": 119930
         },
         {
          "game": "battlefield",
          "month": "2024-04-01T00:00:00",
          "players": 82059
         },
         {
          "game": "battlefield",
          "month": "2024-05-01T00:00:00",
          "players": 73884
         },
         {
          "game": "battlefield",
          "month": "2024-06-01T00:00:00",
          "players": 94969
         },
         {
          "game": "battlefield",
          "month": "2024-07-01T00:00:00",
          "players": 100692
         },
         {
          "game": "battlefield",
          "month": "2024-08-01T00:00:00",
          "players": 83865
         },
         {
          "game": "battlefield",
          "month": "2024-09-01T00:00:00",
          "players": 76216
         },
         {
          "game": "battlefield",
          "month": "2024-10-01T00:00:00",
          "players": 76675
         },
         {
          "game": "battlefield",
          "month": "2024-11-01T00:00:00",
          "players": 93875
         },
         {
          "game": "battlefield",
          "month": "2024-12-01T00:00:00",
          "players": 74582
         },
         {
          "game": "battlefield",
          "month": "2025-01-01T00:00:00",
          "players": 76175
         },
         {
          "game": "battlefield",
          "month": "2025-02-01T00:00:00",
          "players": 89933
         },
         {
          "game": "battlefield",
          "month": "2025-03-01T00:00:00",
          "players": 81088
         },
         {
          "game": "battlefield",
          "month": "2025-04-01T00:00:00",
          "players": 52747
         },
         {
          "game": "battlefield",
          "month": "2025-05-01T00:00:00",
          "players": 59146
         },
         {
          "game": "battlefield",
          "month": "2025-06-01T00:00:00",
          "players": 45532
         },
         {
          "game": "battlefield",
          "month": "2025-07-01T00:00:00",
          "players": 44634
         },
         {
          "game": "battlefield",
          "month": "2025-08-01T00:00:00",
          "players": 121175
         },
         {
          "game": "battlefield gain",
          "month": "2020-06-01T00:00:00",
          "players": 0
         },
         {
          "game": "battlefield gain",
          "month": "2020-07-01T00:00:00",
          "players": -476
         },
         {
          "game": "battlefield gain",
          "month": "2020-08-01T00:00:00",
          "players": 11324
         },
         {
          "game": "battlefield gain",
          "month": "2020-09-01T00:00:00",
          "players": -8747
         },
         {
          "game": "battlefield gain",
          "month": "2020-10-01T00:00:00",
          "players": 8581
         },
         {
          "game": "battlefield gain",
          "month": "2020-11-01T00:00:00",
          "players": 899
         },
         {
          "game": "battlefield gain",
          "month": "2020-12-01T00:00:00",
          "players": 487
         },
         {
          "game": "battlefield gain",
          "month": "2021-01-01T00:00:00",
          "players": 445
         },
         {
          "game": "battlefield gain",
          "month": "2021-02-01T00:00:00",
          "players": 20114
         },
         {
          "game": "battlefield gain",
          "month": "2021-03-01T00:00:00",
          "players": -13451
         },
         {
          "game": "battlefield gain",
          "month": "2021-04-01T00:00:00",
          "players": 15434
         },
         {
          "game": "battlefield gain",
          "month": "2021-05-01T00:00:00",
          "players": -15403
         },
         {
          "game": "battlefield gain",
          "month": "2021-06-01T00:00:00",
          "players": 30815
         },
         {
          "game": "battlefield gain",
          "month": "2021-07-01T00:00:00",
          "players": 29251
         },
         {
          "game": "battlefield gain",
          "month": "2021-08-01T00:00:00",
          "players": 45198
         },
         {
          "game": "battlefield gain",
          "month": "2021-09-01T00:00:00",
          "players": -19141
         },
         {
          "game": "battlefield gain",
          "month": "2021-10-01T00:00:00",
          "players": 14845
         },
         {
          "game": "battlefield gain",
          "month": "2021-11-01T00:00:00",
          "players": -63990
         },
         {
          "game": "battlefield gain",
          "month": "2021-12-01T00:00:00",
          "players": -77151
         },
         {
          "game": "battlefield gain",
          "month": "2022-01-01T00:00:00",
          "players": -31082
         },
         {
          "game": "battlefield gain",
          "month": "2022-02-01T00:00:00",
          "players": -3953
         },
         {
          "game": "battlefield gain",
          "month": "2022-03-01T00:00:00",
          "players": -4687
         },
         {
          "game": "battlefield gain",
          "month": "2022-04-01T00:00:00",
          "players": -4121
         },
         {
          "game": "battlefield gain",
          "month": "2022-05-01T00:00:00",
          "players": -9706
         },
         {
          "game": "battlefield gain",
          "month": "2022-06-01T00:00:00",
          "players": 9864
         },
         {
          "game": "battlefield gain",
          "month": "2022-07-01T00:00:00",
          "players": -3091
         },
         {
          "game": "battlefield gain",
          "month": "2022-08-01T00:00:00",
          "players": 7674
         },
         {
          "game": "battlefield gain",
          "month": "2022-09-01T00:00:00",
          "players": 5720
         },
         {
          "game": "battlefield gain",
          "month": "2022-10-01T00:00:00",
          "players": -8099
         },
         {
          "game": "battlefield gain",
          "month": "2022-11-01T00:00:00",
          "players": 87873
         },
         {
          "game": "battlefield gain",
          "month": "2022-12-01T00:00:00",
          "players": -6045
         },
         {
          "game": "battlefield gain",
          "month": "2023-01-01T00:00:00",
          "players": -44573
         },
         {
          "game": "battlefield gain",
          "month": "2023-02-01T00:00:00",
          "players": -8663
         },
         {
          "game": "battlefield gain",
          "month": "2023-03-01T00:00:00",
          "players": -7823
         },
         {
          "game": "battlefield gain",
          "month": "2023-04-01T00:00:00",
          "players": -7682
         },
         {
          "game": "battlefield gain",
          "month": "2023-05-01T00:00:00",
          "players": -3815
         },
         {
          "game": "battlefield gain",
          "month": "2023-06-01T00:00:00",
          "players": -689
         },
         {
          "game": "battlefield gain",
          "month": "2023-07-01T00:00:00",
          "players": -6806
         },
         {
          "game": "battlefield gain",
          "month": "2023-08-01T00:00:00",
          "players": -1916
         },
         {
          "game": "battlefield gain",
          "month": "2023-09-01T00:00:00",
          "players": -3273
         },
         {
          "game": "battlefield gain",
          "month": "2023-10-01T00:00:00",
          "players": 120701
         },
         {
          "game": "battlefield gain",
          "month": "2023-11-01T00:00:00",
          "players": 47170
         },
         {
          "game": "battlefield gain",
          "month": "2023-12-01T00:00:00",
          "players": -28453
         },
         {
          "game": "battlefield gain",
          "month": "2024-01-01T00:00:00",
          "players": -63721
         },
         {
          "game": "battlefield gain",
          "month": "2024-02-01T00:00:00",
          "players": -10109
         },
         {
          "game": "battlefield gain",
          "month": "2024-03-01T00:00:00",
          "players": 9632
         },
         {
          "game": "battlefield gain",
          "month": "2024-04-01T00:00:00",
          "players": -37871
         },
         {
          "game": "battlefield gain",
          "month": "2024-05-01T00:00:00",
          "players": -8175
         },
         {
          "game": "battlefield gain",
          "month": "2024-06-01T00:00:00",
          "players": 21085
         },
         {
          "game": "battlefield gain",
          "month": "2024-07-01T00:00:00",
          "players": 5723
         },
         {
          "game": "battlefield gain",
          "month": "2024-08-01T00:00:00",
          "players": -16827
         },
         {
          "game": "battlefield gain",
          "month": "2024-09-01T00:00:00",
          "players": -7649
         },
         {
          "game": "battlefield gain",
          "month": "2024-10-01T00:00:00",
          "players": 459
         },
         {
          "game": "battlefield gain",
          "month": "2024-11-01T00:00:00",
          "players": 17200
         },
         {
          "game": "battlefield gain",
          "month": "2024-12-01T00:00:00",
          "players": -19293
         },
         {
          "game": "battlefield gain",
          "month": "2025-01-01T00:00:00",
          "players": 1593
         },
         {
          "game": "battlefield gain",
          "month": "2025-02-01T00:00:00",
          "players": 13758
         },
         {
          "game": "battlefield gain",
          "month": "2025-03-01T00:00:00",
          "players": -8845
         },
         {
          "game": "battlefield gain",
          "month": "2025-04-01T00:00:00",
          "players": -28341
         },
         {
          "game": "battlefield gain",
          "month": "2025-05-01T00:00:00",
          "players": 6399
         },
         {
          "game": "battlefield gain",
          "month": "2025-06-01T00:00:00",
          "players": -13614
         },
         {
          "game": "battlefield gain",
          "month": "2025-07-01T00:00:00",
          "players": -898
         },
         {
          "game": "battlefield gain",
          "month": "2025-08-01T00:00:00",
          "players": 76541
         },
         {
          "game": "battlefield % gain",
          "month": "2020-06-01T00:00:00",
          "players": 0
         },
         {
          "game": "battlefield % gain",
          "month": "2020-07-01T00:00:00",
          "players": -9.2
         },
         {
          "game": "battlefield % gain",
          "month": "2020-08-01T00:00:00",
          "players": 241.1
         },
         {
          "game": "battlefield % gain",
          "month": "2020-09-01T00:00:00",
          "players": -54.6
         },
         {
          "game": "battlefield % gain",
          "month": "2020-10-01T00:00:00",
          "players": 118
         },
         {
          "game": "battlefield % gain",
          "month": "2020-11-01T00:00:00",
          "players": 5.7
         },
         {
          "game": "battlefield % gain",
          "month": "2020-12-01T00:00:00",
          "players": 2.9
         },
         {
          "game": "battlefield % gain",
          "month": "2021-01-01T00:00:00",
          "players": 2.6
         },
         {
          "game": "battlefield % gain",
          "month": "2021-02-01T00:00:00",
          "players": 113.7
         },
         {
          "game": "battlefield % gain",
          "month": "2021-03-01T00:00:00",
          "players": -35.6
         },
         {
          "game": "battlefield % gain",
          "month": "2021-04-01T00:00:00",
          "players": 63.4
         },
         {
          "game": "battlefield % gain",
          "month": "2021-05-01T00:00:00",
          "players": -38.7
         },
         {
          "game": "battlefield % gain",
          "month": "2021-06-01T00:00:00",
          "players": 126.4
         },
         {
          "game": "battlefield % gain",
          "month": "2021-07-01T00:00:00",
          "players": 53
         },
         {
          "game": "battlefield % gain",
          "month": "2021-08-01T00:00:00",
          "players": 53.5
         },
         {
          "game": "battlefield % gain",
          "month": "2021-09-01T00:00:00",
          "players": -14.8
         },
         {
          "game": "battlefield % gain",
          "month": "2021-10-01T00:00:00",
          "players": 13.4
         },
         {
          "game": "battlefield % gain",
          "month": "2021-11-01T00:00:00",
          "players": 33
         },
         {
          "game": "battlefield % gain",
          "month": "2021-12-01T00:00:00",
          "players": -46.3
         },
         {
          "game": "battlefield % gain",
          "month": "2022-01-01T00:00:00",
          "players": -34.7
         },
         {
          "game": "battlefield % gain",
          "month": "2022-02-01T00:00:00",
          "players": -6.8
         },
         {
          "game": "battlefield % gain",
          "month": "2022-03-01T00:00:00",
          "players": -8.6
         },
         {
          "game": "battlefield % gain",
          "month": "2022-04-01T00:00:00",
          "players": -8.3
         },
         {
          "game": "battlefield % gain",
          "month": "2022-05-01T00:00:00",
          "players": -21.2
         },
         {
          "game": "battlefield % gain",
          "month": "2022-06-01T00:00:00",
          "players": 27.4
         },
         {
          "game": "battlefield % gain",
          "month": "2022-07-01T00:00:00",
          "players": -6.7
         },
         {
          "game": "battlefield % gain",
          "month": "2022-08-01T00:00:00",
          "players": 17.9
         },
         {
          "game": "battlefield % gain",
          "month": "2022-09-01T00:00:00",
          "players": 11.3
         },
         {
          "game": "battlefield % gain",
          "month": "2022-10-01T00:00:00",
          "players": -14.4
         },
         {
          "game": "battlefield % gain",
          "month": "2022-11-01T00:00:00",
          "players": 182.6
         },
         {
          "game": "battlefield % gain",
          "month": "2022-12-01T00:00:00",
          "players": -4.4
         },
         {
          "game": "battlefield % gain",
          "month": "2023-01-01T00:00:00",
          "players": -34.3
         },
         {
          "game": "battlefield % gain",
          "month": "2023-02-01T00:00:00",
          "players": -10.1
         },
         {
          "game": "battlefield % gain",
          "month": "2023-03-01T00:00:00",
          "players": -10.2
         },
         {
          "game": "battlefield % gain",
          "month": "2023-04-01T00:00:00",
          "players": -11.2
         },
         {
          "game": "battlefield % gain",
          "month": "2023-05-01T00:00:00",
          "players": -6.2
         },
         {
          "game": "battlefield % gain",
          "month": "2023-06-01T00:00:00",
          "players": -1.2
         },
         {
          "game": "battlefield % gain",
          "month": "2023-07-01T00:00:00",
          "players": -12
         },
         {
          "game": "battlefield % gain",
          "month": "2023-08-01T00:00:00",
          "players": -3.8
         },
         {
          "game": "battlefield % gain",
          "month": "2023-09-01T00:00:00",
          "players": -6.8
         },
         {
          "game": "battlefield % gain",
          "month": "2023-10-01T00:00:00",
          "players": 270
         },
         {
          "game": "battlefield % gain",
          "month": "2023-11-01T00:00:00",
          "players": 28.5
         },
         {
          "game": "battlefield % gain",
          "month": "2023-12-01T00:00:00",
          "players": -13.4
         },
         {
          "game": "battlefield % gain",
          "month": "2024-01-01T00:00:00",
          "players": -34.6
         },
         {
          "game": "battlefield % gain",
          "month": "2024-02-01T00:00:00",
          "players": -8.4
         },
         {
          "game": "battlefield % gain",
          "month": "2024-03-01T00:00:00",
          "players": 8.7
         },
         {
          "game": "battlefield % gain",
          "month": "2024-04-01T00:00:00",
          "players": -31.6
         },
         {
          "game": "battlefield % gain",
          "month": "2024-05-01T00:00:00",
          "players": -10
         },
         {
          "game": "battlefield % gain",
          "month": "2024-06-01T00:00:00",
          "players": 28.5
         },
         {
          "game": "battlefield % gain",
          "month": "2024-07-01T00:00:00",
          "players": 6
         },
         {
          "game": "battlefield % gain",
          "month": "2024-08-01T00:00:00",
          "players": -16.7
         },
         {
          "game": "battlefield % gain",
          "month": "2024-09-01T00:00:00",
          "players": -9.1
         },
         {
          "game": "battlefield % gain",
          "month": "2024-10-01T00:00:00",
          "players": 0.6
         },
         {
          "game": "battlefield % gain",
          "month": "2024-11-01T00:00:00",
          "players": 22.4
         },
         {
          "game": "battlefield % gain",
          "month": "2024-12-01T00:00:00",
          "players": -20.6
         },
         {
          "game": "battlefield % gain",
          "month": "2025-01-01T00:00:00",
          "players": 2.1
         },
         {
          "game": "battlefield % gain",
          "month": "2025-02-01T00:00:00",
          "players": 18.1
         },
         {
          "game": "battlefield % gain",
          "month": "2025-03-01T00:00:00",
          "players": -9.8
         },
         {
          "game": "battlefield % gain",
          "month": "2025-04-01T00:00:00",
          "players": -35
         },
         {
          "game": "battlefield % gain",
          "month": "2025-05-01T00:00:00",
          "players": 12.1
         },
         {
          "game": "battlefield % gain",
          "month": "2025-06-01T00:00:00",
          "players": -23
         },
         {
          "game": "battlefield % gain",
          "month": "2025-07-01T00:00:00",
          "players": -2
         },
         {
          "game": "battlefield % gain",
          "month": "2025-08-01T00:00:00",
          "players": 171.5
         }
        ]
       },
       "encoding": {
        "color": {
         "field": "game",
         "title": "Game",
         "type": "nominal"
        },
        "tooltip": [
         {
          "field": "month",
          "type": "temporal"
         },
         {
          "field": "game",
          "type": "nominal"
         },
         {
          "field": "players",
          "type": "quantitative"
         }
        ],
        "x": {
         "field": "month",
         "title": "Month",
         "type": "temporal"
        },
        "y": {
         "field": "players",
         "title": "Peak players",
         "type": "quantitative"
        }
       },
       "height": 350,
       "mark": {
        "type": "line"
       },
       "title": "Playerbase trends since 2020",
       "usermeta": {
        "embedOptions": {
         "theme": "fivethirtyeight"
        }
       },
       "width": 900
      },
      "text/plain": [
       "<VegaLite 5 object>\n",
       "\n",
       "If you see this message, it means the renderer has not been properly enabled\n",
       "for the frontend that you are using. For more information, see\n",
       "https://altair-viz.github.io/user_guide/display_frontends.html#troubleshooting\n"
      ]
     },
     "execution_count": 15,
     "metadata": {},
     "output_type": "execute_result"
    }
   ],
   "source": [
    "long = merged.melt(id_vars='month', var_name='game', value_name='players')\n",
    "\n",
    "line = alt.Chart(long).mark_line().encode(\n",
    "    x=alt.X('month:T', title='Month'),\n",
    "    y=alt.Y('players:Q', title='Peak players'),\n",
    "    color=alt.Color('game:N', title='Game'),\n",
    "    tooltip=['month:T','game:N','players:Q']\n",
    ").properties(width=900, height=350, title='Playerbase trends since 2020')\n",
    "\n",
    "line\n"
   ]
  },
  {
   "cell_type": "code",
   "execution_count": 16,
   "id": "75f72760",
   "metadata": {},
   "outputs": [
    {
     "name": "stderr",
     "output_type": "stream",
     "text": [
      "C:\\Users\\ticho\\AppData\\Local\\Temp\\ipykernel_19720\\2812539738.py:1: FutureWarning: DataFrameGroupBy.apply operated on the grouping columns. This behavior is deprecated, and in a future version of pandas the grouping columns will be excluded from the operation. Either pass `include_groups=False` to exclude the groupings or explicitly select the grouping columns after groupby to silence this warning.\n",
      "  norm = long.groupby('game', group_keys=False).apply(\n"
     ]
    },
    {
     "data": {
      "application/vnd.vegalite.v5+json": {
       "$schema": "https://vega.github.io/schema/vega-lite/v5.20.1.json",
       "config": {
        "view": {
         "continuousHeight": 300,
         "continuousWidth": 300
        }
       },
       "data": {
        "name": "data-a2eb142baddaf2e8fd8ea16a25edf0f0"
       },
       "datasets": {
        "data-a2eb142baddaf2e8fd8ea16a25edf0f0": [
         {
          "game": "cs",
          "month": "2020-06-01T00:00:00",
          "players": 986980,
          "players_z": -0.9951187366389368
         },
         {
          "game": "cs",
          "month": "2020-07-01T00:00:00",
          "players": 887871,
          "players_z": -1.3160789597846112
         },
         {
          "game": "cs",
          "month": "2020-08-01T00:00:00",
          "players": 955869,
          "players_z": -1.0958703687034828
         },
         {
          "game": "cs",
          "month": "2020-09-01T00:00:00",
          "players": 1003755,
          "players_z": -0.940793622438726
         },
         {
          "game": "cs",
          "month": "2020-10-01T00:00:00",
          "players": 977120,
          "players_z": -1.0270499214981963
         },
         {
          "game": "cs",
          "month": "2020-11-01T00:00:00",
          "players": 1069121,
          "players_z": -0.7291086498717527
         },
         {
          "game": "cs",
          "month": "2020-12-01T00:00:00",
          "players": 1201522,
          "players_z": -0.3003337202012844
         },
         {
          "game": "cs",
          "month": "2021-01-01T00:00:00",
          "players": 1158553,
          "players_z": -0.43948697397588093
         },
         {
          "game": "cs",
          "month": "2021-02-01T00:00:00",
          "players": 1156160,
          "players_z": -0.4472366012951718
         },
         {
          "game": "cs",
          "month": "2021-03-01T00:00:00",
          "players": 1234187,
          "players_z": -0.19454952614167878
         },
         {
          "game": "cs",
          "month": "2021-04-01T00:00:00",
          "players": 1182193,
          "players_z": -0.3629298532788328
         },
         {
          "game": "cs",
          "month": "2021-05-01T00:00:00",
          "players": 1114107,
          "players_z": -0.5834234285656018
         },
         {
          "game": "cs",
          "month": "2021-06-01T00:00:00",
          "players": 953085,
          "players_z": -1.1048862326637443
         },
         {
          "game": "cs",
          "month": "2021-07-01T00:00:00",
          "players": 788128,
          "players_z": -1.63909236459365
         },
         {
          "game": "cs",
          "month": "2021-08-01T00:00:00",
          "players": 824180,
          "players_z": -1.5223395170737692
         },
         {
          "game": "cs",
          "month": "2021-09-01T00:00:00",
          "players": 970788,
          "players_z": -1.0475558304767796
         },
         {
          "game": "cs",
          "month": "2021-10-01T00:00:00",
          "players": 888099,
          "players_z": -1.315340591615452
         },
         {
          "game": "cs",
          "month": "2021-11-01T00:00:00",
          "players": 967548,
          "players_z": -1.0580484307753597
         },
         {
          "game": "cs",
          "month": "2021-12-01T00:00:00",
          "players": 974624,
          "players_z": -1.0351331098763619
         },
         {
          "game": "cs",
          "month": "2022-01-01T00:00:00",
          "players": 1019800,
          "players_z": -0.8888325817625781
         },
         {
          "game": "cs",
          "month": "2022-02-01T00:00:00",
          "players": 1026057,
          "players_z": -0.8685695570501657
         },
         {
          "game": "cs",
          "month": "2022-03-01T00:00:00",
          "players": 1019747,
          "players_z": -0.8890042199773388
         },
         {
          "game": "cs",
          "month": "2022-04-01T00:00:00",
          "players": 1042536,
          "players_z": -0.8152030260871092
         },
         {
          "game": "cs",
          "month": "2022-05-01T00:00:00",
          "players": 954908,
          "players_z": -1.0989825257673518
         },
         {
          "game": "cs",
          "month": "2022-06-01T00:00:00",
          "players": 928566,
          "players_z": -1.1842899569603145
         },
         {
          "game": "cs",
          "month": "2022-07-01T00:00:00",
          "players": 950395,
          "players_z": -1.1135976816770716
         },
         {
          "game": "cs",
          "month": "2022-08-01T00:00:00",
          "players": 1060765,
          "players_z": -0.7561691955800663
         },
         {
          "game": "cs",
          "month": "2022-09-01T00:00:00",
          "players": 1124191,
          "players_z": -0.5507668293647121
         },
         {
          "game": "cs",
          "month": "2022-10-01T00:00:00",
          "players": 1110627,
          "players_z": -0.5946932585159287
         },
         {
          "game": "cs",
          "month": "2022-11-01T00:00:00",
          "players": 1156226,
          "players_z": -0.4470228631409415
         },
         {
          "game": "cs",
          "month": "2022-12-01T00:00:00",
          "players": 1090343,
          "players_z": -0.6603821179160524
         },
         {
          "game": "cs",
          "month": "2023-01-01T00:00:00",
          "players": 1224207,
          "players_z": -0.2268693258268116
         },
         {
          "game": "cs",
          "month": "2023-02-01T00:00:00",
          "players": 1378327,
          "players_z": 0.27224164886984914
         },
         {
          "game": "cs",
          "month": "2023-03-01T00:00:00",
          "players": 1542231,
          "players_z": 0.8030376857027163
         },
         {
          "game": "cs",
          "month": "2023-04-01T00:00:00",
          "players": 1536102,
          "players_z": 0.7831891834712353
         },
         {
          "game": "cs",
          "month": "2023-05-01T00:00:00",
          "players": 1837896,
          "players_z": 1.7605360398013938
         },
         {
          "game": "cs",
          "month": "2023-06-01T00:00:00",
          "players": 1692482,
          "players_z": 1.289619070721844
         },
         {
          "game": "cs",
          "month": "2023-07-01T00:00:00",
          "players": 1245840,
          "players_z": -0.1568117880924951
         },
         {
          "game": "cs",
          "month": "2023-08-01T00:00:00",
          "players": 1557039,
          "players_z": 0.8509927552154865
         },
         {
          "game": "cs",
          "month": "2023-09-01T00:00:00",
          "players": 1580157,
          "players_z": 0.9258594014199856
         },
         {
          "game": "cs",
          "month": "2023-10-01T00:00:00",
          "players": 1412825,
          "players_z": 0.3839619343946701
         },
         {
          "game": "cs",
          "month": "2023-11-01T00:00:00",
          "players": 1184525,
          "players_z": -0.35537777182936087
         },
         {
          "game": "cs",
          "month": "2023-12-01T00:00:00",
          "players": 1276429,
          "players_z": -0.05775063052049824
         },
         {
          "game": "cs",
          "month": "2024-01-01T00:00:00",
          "players": 1334752,
          "players_z": 0.13112589022459223
         },
         {
          "game": "cs",
          "month": "2024-02-01T00:00:00",
          "players": 1431938,
          "players_z": 0.4458585607856464
         },
         {
          "game": "cs",
          "month": "2024-03-01T00:00:00",
          "players": 1555064,
          "players_z": 0.8445968028729878
         },
         {
          "game": "cs",
          "month": "2024-04-01T00:00:00",
          "players": 1647977,
          "players_z": 1.1454915471760687
         },
         {
          "game": "cs",
          "month": "2024-05-01T00:00:00",
          "players": 1661558,
          "players_z": 1.1894730300942842
         },
         {
          "game": "cs",
          "month": "2024-06-01T00:00:00",
          "players": 1558198,
          "players_z": 0.8547461267420465
         },
         {
          "game": "cs",
          "month": "2024-07-01T00:00:00",
          "players": 1385446,
          "players_z": 0.29529622341478506
         },
         {
          "game": "cs",
          "month": "2024-08-01T00:00:00",
          "players": 1461132,
          "players_z": 0.5404020710068657
         },
         {
          "game": "cs",
          "month": "2024-09-01T00:00:00",
          "players": 1515033,
          "players_z": 0.7149581354185236
         },
         {
          "game": "cs",
          "month": "2024-10-01T00:00:00",
          "players": 1529352,
          "players_z": 0.76132959951586
         },
         {
          "game": "cs",
          "month": "2024-11-01T00:00:00",
          "players": 1593726,
          "players_z": 0.9698020228556137
         },
         {
          "game": "cs",
          "month": "2024-12-01T00:00:00",
          "players": 1777329,
          "players_z": 1.5643924218124718
         },
         {
          "game": "cs",
          "month": "2025-01-01T00:00:00",
          "players": 1643797,
          "players_z": 1.1319547974081474
         },
         {
          "game": "cs",
          "month": "2025-02-01T00:00:00",
          "players": 1827625,
          "players_z": 1.7272738491635182
         },
         {
          "game": "cs",
          "month": "2025-03-01T00:00:00",
          "players": 1864428,
          "players_z": 1.8464587778019896
         },
         {
          "game": "cs",
          "month": "2025-04-01T00:00:00",
          "players": 1898525,
          "players_z": 1.956880442117017
         },
         {
          "game": "cs",
          "month": "2025-05-01T00:00:00",
          "players": 1752347,
          "players_z": 1.483489291979407
         },
         {
          "game": "cs",
          "month": "2025-06-01T00:00:00",
          "players": 1766572,
          "players_z": 1.5295563411298092
         },
         {
          "game": "cs",
          "month": "2025-07-01T00:00:00",
          "players": 1506027,
          "players_z": 0.6857925927367293
         },
         {
          "game": "cs",
          "month": "2025-08-01T00:00:00",
          "players": 1581554,
          "players_z": 0.9303835256845278
         },
         {
          "game": "cs gain",
          "month": "2020-06-01T00:00:00",
          "players": -233105,
          "players_z": -1.814709193687843
         },
         {
          "game": "cs gain",
          "month": "2020-07-01T00:00:00",
          "players": -99109,
          "players_z": -0.7966170698985453
         },
         {
          "game": "cs gain",
          "month": "2020-08-01T00:00:00",
          "players": 67998,
          "players_z": 0.4730500883006411
         },
         {
          "game": "cs gain",
          "month": "2020-09-01T00:00:00",
          "players": 47886,
          "players_z": 0.32024053582407197
         },
         {
          "game": "cs gain",
          "month": "2020-10-01T00:00:00",
          "players": -26635,
          "players_z": -0.24596474759410658
         },
         {
          "game": "cs gain",
          "month": "2020-11-01T00:00:00",
          "players": 92001,
          "players_z": 0.6554231833729903
         },
         {
          "game": "cs gain",
          "month": "2020-12-01T00:00:00",
          "players": 132401,
          "players_z": 0.9623795238688829
         },
         {
          "game": "cs gain",
          "month": "2021-01-01T00:00:00",
          "players": -42969,
          "players_z": -0.3700693234767776
         },
         {
          "game": "cs gain",
          "month": "2021-02-01T00:00:00",
          "players": -2393,
          "players_z": -0.061775747438130635
         },
         {
          "game": "cs gain",
          "month": "2021-03-01T00:00:00",
          "players": 78027,
          "players_z": 0.5492497204499803
         },
         {
          "game": "cs gain",
          "month": "2021-04-01T00:00:00",
          "players": -51994,
          "players_z": -0.4386406346890408
         },
         {
          "game": "cs gain",
          "month": "2021-05-01T00:00:00",
          "players": -68086,
          "players_z": -0.5609065117004246
         },
         {
          "game": "cs gain",
          "month": "2021-06-01T00:00:00",
          "players": -161022,
          "players_z": -1.2670276617085008
         },
         {
          "game": "cs gain",
          "month": "2021-07-01T00:00:00",
          "players": -164957,
          "players_z": -1.2969255131899695
         },
         {
          "game": "cs gain",
          "month": "2021-08-01T00:00:00",
          "players": 36052,
          "players_z": 0.23032664143228007
         },
         {
          "game": "cs gain",
          "month": "2021-09-01T00:00:00",
          "players": 146608,
          "players_z": 1.0703233043001985
         },
         {
          "game": "cs gain",
          "month": "2021-10-01T00:00:00",
          "players": -82689,
          "players_z": -0.6718590721029375
         },
         {
          "game": "cs gain",
          "month": "2021-11-01T00:00:00",
          "players": 79449,
          "players_z": 0.5600539758010982
         },
         {
          "game": "cs gain",
          "month": "2021-12-01T00:00:00",
          "players": 7076,
          "players_z": 0.010169044347899248
         },
         {
          "game": "cs gain",
          "month": "2022-01-01T00:00:00",
          "players": 45176,
          "players_z": 0.29965014763734255
         },
         {
          "game": "cs gain",
          "month": "2022-02-01T00:00:00",
          "players": 6257,
          "players_z": 0.003946340316559246
         },
         {
          "game": "cs gain",
          "month": "2022-03-01T00:00:00",
          "players": -6310,
          "players_z": -0.09153683619363587
         },
         {
          "game": "cs gain",
          "month": "2022-04-01T00:00:00",
          "players": 22789,
          "players_z": 0.129555306184829
         },
         {
          "game": "cs gain",
          "month": "2022-05-01T00:00:00",
          "players": -87628,
          "players_z": -0.7093852445214823
         },
         {
          "game": "cs gain",
          "month": "2022-06-01T00:00:00",
          "players": -26342,
          "players_z": -0.24373855433258934
         },
         {
          "game": "cs gain",
          "month": "2022-07-01T00:00:00",
          "players": 21829,
          "players_z": 0.12226129413344143
         },
         {
          "game": "cs gain",
          "month": "2022-08-01T00:00:00",
          "players": 110370,
          "players_z": 0.794989545218759
         },
         {
          "game": "cs gain",
          "month": "2022-09-01T00:00:00",
          "players": 63426,
          "players_z": 0.43831235590590795
         },
         {
          "game": "cs gain",
          "month": "2022-10-01T00:00:00",
          "players": -13564,
          "players_z": -0.14665221475693302
         },
         {
          "game": "cs gain",
          "month": "2022-11-01T00:00:00",
          "players": 45599,
          "players_z": 0.3028640716974852
         },
         {
          "game": "cs gain",
          "month": "2022-12-01T00:00:00",
          "players": -65883,
          "players_z": -0.5441682736283342
         },
         {
          "game": "cs gain",
          "month": "2023-01-01T00:00:00",
          "players": 133864,
          "players_z": 0.9734952943180288
         },
         {
          "game": "cs gain",
          "month": "2023-02-01T00:00:00",
          "players": 154120,
          "players_z": 1.1273989486023062
         },
         {
          "game": "cs gain",
          "month": "2023-03-01T00:00:00",
          "players": 163904,
          "players_z": 1.2017370880926976
         },
         {
          "game": "cs gain",
          "month": "2023-04-01T00:00:00",
          "players": -6129,
          "players_z": -0.09016161100478051
         },
         {
          "game": "cs gain",
          "month": "2023-05-01T00:00:00",
          "players": 301794,
          "players_z": 2.2494155482654357
         },
         {
          "game": "cs gain",
          "month": "2023-06-01T00:00:00",
          "players": -145414,
          "players_z": -1.1484391824396916
         },
         {
          "game": "cs gain",
          "month": "2023-07-01T00:00:00",
          "players": -446642,
          "players_z": -3.4371482055807
         },
         {
          "game": "cs gain",
          "month": "2023-08-01T00:00:00",
          "players": 311199,
          "players_z": 2.3208740725813732
         },
         {
          "game": "cs gain",
          "month": "2023-09-01T00:00:00",
          "players": 23118,
          "players_z": 0.13205502489827325
         },
         {
          "game": "cs gain",
          "month": "2023-10-01T00:00:00",
          "players": -167332,
          "players_z": -1.3149705950879333
         },
         {
          "game": "cs gain",
          "month": "2023-11-01T00:00:00",
          "players": -228300,
          "players_z": -1.7782011437848042
         },
         {
          "game": "cs gain",
          "month": "2023-12-01T00:00:00",
          "players": 91904,
          "players_z": 0.6546861842386313
         },
         {
          "game": "cs gain",
          "month": "2024-01-01T00:00:00",
          "players": 58323,
          "players_z": 0.399540123095251
         },
         {
          "game": "cs gain",
          "month": "2024-02-01T00:00:00",
          "players": 97186,
          "players_z": 0.6948184463797032
         },
         {
          "game": "cs gain",
          "month": "2024-03-01T00:00:00",
          "players": 123126,
          "players_z": 0.891908730351571
         },
         {
          "game": "cs gain",
          "month": "2024-04-01T00:00:00",
          "players": 92913,
          "players_z": 0.6623524948218085
         },
         {
          "game": "cs gain",
          "month": "2024-05-01T00:00:00",
          "players": 13581,
          "players_z": 0.05959357392527008
         },
         {
          "game": "cs gain",
          "month": "2024-06-01T00:00:00",
          "players": -103360,
          "players_z": -0.8289158670135958
         },
         {
          "game": "cs gain",
          "month": "2024-07-01T00:00:00",
          "players": -172752,
          "players_z": -1.3561513714613922
         },
         {
          "game": "cs gain",
          "month": "2024-08-01T00:00:00",
          "players": 75686,
          "players_z": 0.531462968145503
         },
         {
          "game": "cs gain",
          "month": "2024-09-01T00:00:00",
          "players": 53901,
          "players_z": 0.3659420800835471
         },
         {
          "game": "cs gain",
          "month": "2024-10-01T00:00:00",
          "players": 14319,
          "players_z": 0.06520084568977426
         },
         {
          "game": "cs gain",
          "month": "2024-11-01T00:00:00",
          "players": 64374,
          "players_z": 0.44551519280665314
         },
         {
          "game": "cs gain",
          "month": "2024-12-01T00:00:00",
          "players": 183603,
          "players_z": 1.351408695801326
         },
         {
          "game": "cs gain",
          "month": "2025-01-01T00:00:00",
          "players": -133532,
          "players_z": -1.0581605874453301
         },
         {
          "game": "cs gain",
          "month": "2025-02-01T00:00:00",
          "players": 183828,
          "players_z": 1.35311822987587
         },
         {
          "game": "cs gain",
          "month": "2025-03-01T00:00:00",
          "players": 36803,
          "players_z": 0.23603268627664678
         },
         {
          "game": "cs gain",
          "month": "2025-04-01T00:00:00",
          "players": 34097,
          "players_z": 0.21547268980679815
         },
         {
          "game": "cs gain",
          "month": "2025-05-01T00:00:00",
          "players": -146178,
          "players_z": -1.1542440003639207
         },
         {
          "game": "cs gain",
          "month": "2025-06-01T00:00:00",
          "players": 14225,
          "players_z": 0.06448664034307588
         },
         {
          "game": "cs gain",
          "month": "2025-07-01T00:00:00",
          "players": -260545,
          "players_z": -2.023196371490004
         },
         {
          "game": "cs gain",
          "month": "2025-08-01T00:00:00",
          "players": 75527,
          "players_z": 0.5302548973994919
         },
         {
          "game": "cs % gain",
          "month": "2020-06-01T00:00:00",
          "players": -104.3,
          "players_z": -2.6733760467687713
         },
         {
          "game": "cs % gain",
          "month": "2020-07-01T00:00:00",
          "players": -32.1,
          "players_z": -0.9080210503499054
         },
         {
          "game": "cs % gain",
          "month": "2020-08-01T00:00:00",
          "players": -28,
          "players_z": -0.8077723594175319
         },
         {
          "game": "cs % gain",
          "month": "2020-09-01T00:00:00",
          "players": -8.899999999999999,
          "players_z": -0.3407601650740369
         },
         {
          "game": "cs % gain",
          "month": "2020-10-01T00:00:00",
          "players": 24.6,
          "players_z": 0.47834499254413515
         },
         {
          "game": "cs % gain",
          "month": "2020-11-01T00:00:00",
          "players": 52.1,
          "players_z": 1.1507447487978584
         },
         {
          "game": "cs % gain",
          "month": "2020-12-01T00:00:00",
          "players": 40.4,
          "players_z": 0.8646692161371833
         },
         {
          "game": "cs % gain",
          "month": "2021-01-01T00:00:00",
          "players": 7.3,
          "players_z": 0.05534441860997461
         },
         {
          "game": "cs % gain",
          "month": "2021-02-01T00:00:00",
          "players": -26.7,
          "players_z": -0.7759861891219014
         },
         {
          "game": "cs % gain",
          "month": "2021-03-01T00:00:00",
          "players": 22,
          "players_z": 0.414772651952874
         },
         {
          "game": "cs % gain",
          "month": "2021-04-01T00:00:00",
          "players": -13.9,
          "players_z": -0.46301466621107756
         },
         {
          "game": "cs % gain",
          "month": "2021-05-01T00:00:00",
          "players": -44.3,
          "players_z": -1.2063220331242843
         },
         {
          "game": "cs % gain",
          "month": "2021-06-01T00:00:00",
          "players": -47.6,
          "players_z": -1.2870100038747314
         },
         {
          "game": "cs % gain",
          "month": "2021-07-01T00:00:00",
          "players": -32.300000000000004,
          "players_z": -0.9129112303953871
         },
         {
          "game": "cs % gain",
          "month": "2021-08-01T00:00:00",
          "players": -21.7,
          "players_z": -0.6537316879848608
         },
         {
          "game": "cs % gain",
          "month": "2021-09-01T00:00:00",
          "players": 28,
          "players_z": 0.5614780533173227
         },
         {
          "game": "cs % gain",
          "month": "2021-10-01T00:00:00",
          "players": 0.2999999999999989,
          "players_z": -0.11581188298188225
         },
         {
          "game": "cs % gain",
          "month": "2021-11-01T00:00:00",
          "players": 29.9,
          "players_z": 0.6079347637493981
         },
         {
          "game": "cs % gain",
          "month": "2021-12-01T00:00:00",
          "players": 18,
          "players_z": 0.3169690510432415
         },
         {
          "game": "cs % gain",
          "month": "2022-01-01T00:00:00",
          "players": 38.400000000000006,
          "players_z": 0.8157674156823674
         },
         {
          "game": "cs % gain",
          "month": "2022-02-01T00:00:00",
          "players": 8.399999999999999,
          "players_z": 0.08224040886012352
         },
         {
          "game": "cs % gain",
          "month": "2022-03-01T00:00:00",
          "players": -25.4,
          "players_z": -0.7442000188262708
         },
         {
          "game": "cs % gain",
          "month": "2022-04-01T00:00:00",
          "players": -2.4000000000000004,
          "players_z": -0.18182931359588417
         },
         {
          "game": "cs % gain",
          "month": "2022-05-01T00:00:00",
          "players": -45.3,
          "players_z": -1.2307729333516924
         },
         {
          "game": "cs % gain",
          "month": "2022-06-01T00:00:00",
          "players": -4.9,
          "players_z": -0.24295656416440445
         },
         {
          "game": "cs % gain",
          "month": "2022-07-01T00:00:00",
          "players": 3.8,
          "players_z": -0.030233732185953807
         },
         {
          "game": "cs % gain",
          "month": "2022-08-01T00:00:00",
          "players": -5.800000000000001,
          "players_z": -0.2649623743690718
         },
         {
          "game": "cs % gain",
          "month": "2022-09-01T00:00:00",
          "players": 7.199999999999999,
          "players_z": 0.052899328587233785
         },
         {
          "game": "cs % gain",
          "month": "2022-10-01T00:00:00",
          "players": -14.6,
          "players_z": -0.48013029637026317
         },
         {
          "game": "cs % gain",
          "month": "2022-11-01T00:00:00",
          "players": 78.7,
          "players_z": 1.8011386948469146
         },
         {
          "game": "cs % gain",
          "month": "2022-12-01T00:00:00",
          "players": -13.1,
          "players_z": -0.443453946029151
         },
         {
          "game": "cs % gain",
          "month": "2023-01-01T00:00:00",
          "players": 21.4,
          "players_z": 0.4001021118164291
         },
         {
          "game": "cs % gain",
          "month": "2023-02-01T00:00:00",
          "players": -14.8,
          "players_z": -0.48502047641574486
         },
         {
          "game": "cs % gain",
          "month": "2023-03-01T00:00:00",
          "players": 33.1,
          "players_z": 0.6861776444771042
         },
         {
          "game": "cs % gain",
          "month": "2023-04-01T00:00:00",
          "players": -19.7,
          "players_z": -0.6048298875300446
         },
         {
          "game": "cs % gain",
          "month": "2023-05-01T00:00:00",
          "players": -19,
          "players_z": -0.5877142573708589
         },
         {
          "game": "cs % gain",
          "month": "2023-06-01T00:00:00",
          "players": 6.300000000000001,
          "players_z": 0.030893518382566515
         },
         {
          "game": "cs % gain",
          "month": "2023-07-01T00:00:00",
          "players": -23,
          "players_z": -0.6855178582804914
         },
         {
          "game": "cs % gain",
          "month": "2023-08-01T00:00:00",
          "players": -12.5,
          "players_z": -0.42878340589270614
         },
         {
          "game": "cs % gain",
          "month": "2023-09-01T00:00:00",
          "players": 52.8,
          "players_z": 1.167860378957044
         },
         {
          "game": "cs % gain",
          "month": "2023-10-01T00:00:00",
          "players": -10.4,
          "players_z": -0.3774365154151491
         },
         {
          "game": "cs % gain",
          "month": "2023-11-01T00:00:00",
          "players": -8.2,
          "players_z": -0.32364453491485123
         },
         {
          "game": "cs % gain",
          "month": "2023-12-01T00:00:00",
          "players": 17.8,
          "players_z": 0.3120788709977599
         },
         {
          "game": "cs % gain",
          "month": "2024-01-01T00:00:00",
          "players": 9.3,
          "players_z": 0.10424621906479088
         },
         {
          "game": "cs % gain",
          "month": "2024-02-01T00:00:00",
          "players": 111.2,
          "players_z": 2.5957929522376784
         },
         {
          "game": "cs % gain",
          "month": "2024-03-01T00:00:00",
          "players": 24.2,
          "players_z": 0.4685646324531718
         },
         {
          "game": "cs % gain",
          "month": "2024-04-01T00:00:00",
          "players": -6.9,
          "players_z": -0.2918583646192207
         },
         {
          "game": "cs % gain",
          "month": "2024-05-01T00:00:00",
          "players": -1.0999999999999994,
          "players_z": -0.1500431433002536
         },
         {
          "game": "cs % gain",
          "month": "2024-06-01T00:00:00",
          "players": 25.1,
          "players_z": 0.49057044265783917
         },
         {
          "game": "cs % gain",
          "month": "2024-07-01T00:00:00",
          "players": 26.6,
          "players_z": 0.5272467929989514
         },
         {
          "game": "cs % gain",
          "month": "2024-08-01T00:00:00",
          "players": -21,
          "players_z": -0.6366160578256752
         },
         {
          "game": "cs % gain",
          "month": "2024-09-01T00:00:00",
          "players": -2.100000000000001,
          "players_z": -0.17449404352766174
         },
         {
          "game": "cs % gain",
          "month": "2024-10-01T00:00:00",
          "players": -4.100000000000001,
          "players_z": -0.223395843982478
         },
         {
          "game": "cs % gain",
          "month": "2024-11-01T00:00:00",
          "players": 16.3,
          "players_z": 0.2754025206566477
         },
         {
          "game": "cs % gain",
          "month": "2024-12-01T00:00:00",
          "players": 67.2,
          "players_z": 1.519953342231721
         },
         {
          "game": "cs % gain",
          "month": "2025-01-01T00:00:00",
          "players": -5.7,
          "players_z": -0.2625172843463309
         },
         {
          "game": "cs % gain",
          "month": "2025-02-01T00:00:00",
          "players": 2.9000000000000004,
          "players_z": -0.052239542390621105
         },
         {
          "game": "cs % gain",
          "month": "2025-03-01T00:00:00",
          "players": 9.5,
          "players_z": 0.10913639911027248
         },
         {
          "game": "cs % gain",
          "month": "2025-04-01T00:00:00",
          "players": -19.3,
          "players_z": -0.5950495274390813
         },
         {
          "game": "cs % gain",
          "month": "2025-05-01T00:00:00",
          "players": -47,
          "players_z": -1.2723394637382863
         },
         {
          "game": "cs % gain",
          "month": "2025-06-01T00:00:00",
          "players": 29.8,
          "players_z": 0.6054896737266573
         },
         {
          "game": "cs % gain",
          "month": "2025-07-01T00:00:00",
          "players": 194,
          "players_z": 4.62032749106707
         },
         {
          "game": "cs % gain",
          "month": "2025-08-01T00:00:00",
          "players": -3.2,
          "players_z": -0.20139003377781062
         },
         {
          "game": "cod",
          "month": "2020-06-01T00:00:00",
          "players": 8382,
          "players_z": -0.9272963094801744
         },
         {
          "game": "cod",
          "month": "2020-07-01T00:00:00",
          "players": 7746,
          "players_z": -0.9334375161824534
         },
         {
          "game": "cod",
          "month": "2020-08-01T00:00:00",
          "players": 8607,
          "players_z": -0.9251237127694625
         },
         {
          "game": "cod",
          "month": "2020-09-01T00:00:00",
          "players": 8060,
          "players_z": -0.9304055367728377
         },
         {
          "game": "cod",
          "month": "2020-10-01T00:00:00",
          "players": 13277,
          "players_z": -0.880030261040464
         },
         {
          "game": "cod",
          "month": "2020-11-01T00:00:00",
          "players": 9731,
          "players_z": -0.9142703852012838
         },
         {
          "game": "cod",
          "month": "2020-12-01T00:00:00",
          "players": 7714,
          "players_z": -0.9337465077146436
         },
         {
          "game": "cod",
          "month": "2021-01-01T00:00:00",
          "players": 7771,
          "players_z": -0.9331961165479299
         },
         {
          "game": "cod",
          "month": "2021-02-01T00:00:00",
          "players": 10669,
          "players_z": -0.9052130709139604
         },
         {
          "game": "cod",
          "month": "2021-03-01T00:00:00",
          "players": 6652,
          "players_z": -0.9440011641892039
         },
         {
          "game": "cod",
          "month": "2021-04-01T00:00:00",
          "players": 9568,
          "players_z": -0.9158443108183774
         },
         {
          "game": "cod",
          "month": "2021-05-01T00:00:00",
          "players": 10912,
          "players_z": -0.9028666664663915
         },
         {
          "game": "cod",
          "month": "2021-06-01T00:00:00",
          "players": 15911,
          "players_z": -0.8545963955470631
         },
         {
          "game": "cod",
          "month": "2021-07-01T00:00:00",
          "players": 14972,
          "players_z": -0.8636633658197675
         },
         {
          "game": "cod",
          "month": "2021-08-01T00:00:00",
          "players": 20939,
          "players_z": -0.8060461010516874
         },
         {
          "game": "cod",
          "month": "2021-09-01T00:00:00",
          "players": 12435,
          "players_z": -0.888160600731217
         },
         {
          "game": "cod",
          "month": "2021-10-01T00:00:00",
          "players": 18049,
          "players_z": -0.8339518988026094
         },
         {
          "game": "cod",
          "month": "2021-11-01T00:00:00",
          "players": 11001,
          "players_z": -0.9020072837674876
         },
         {
          "game": "cod",
          "month": "2021-12-01T00:00:00",
          "players": 16244,
          "players_z": -0.8513809524152095
         },
         {
          "game": "cod",
          "month": "2022-01-01T00:00:00",
          "players": 16343,
          "players_z": -0.8504250098624963
         },
         {
          "game": "cod",
          "month": "2022-02-01T00:00:00",
          "players": 12244,
          "players_z": -0.890004893938977
         },
         {
          "game": "cod",
          "month": "2022-03-01T00:00:00",
          "players": 9137,
          "players_z": -0.9200060405175633
         },
         {
          "game": "cod",
          "month": "2022-04-01T00:00:00",
          "players": 20039,
          "players_z": -0.8147364878945351
         },
         {
          "game": "cod",
          "month": "2022-05-01T00:00:00",
          "players": 12484,
          "players_z": -0.8876874574475508
         },
         {
          "game": "cod",
          "month": "2022-06-01T00:00:00",
          "players": 15295,
          "players_z": -0.8605444825417233
         },
         {
          "game": "cod",
          "month": "2022-07-01T00:00:00",
          "players": 17125,
          "players_z": -0.8428740292945996
         },
         {
          "game": "cod",
          "month": "2022-08-01T00:00:00",
          "players": 15407,
          "players_z": -0.8594630121790579
         },
         {
          "game": "cod",
          "month": "2022-09-01T00:00:00",
          "players": 16865,
          "players_z": -0.8453845854936446
         },
         {
          "game": "cod",
          "month": "2022-10-01T00:00:00",
          "players": 272848,
          "players_z": 1.6263835202759966
         },
         {
          "game": "cod",
          "month": "2022-11-01T00:00:00",
          "players": 505463,
          "players_z": 3.8725105596637883
         },
         {
          "game": "cod",
          "month": "2022-12-01T00:00:00",
          "players": 325849,
          "players_z": 2.1381604014512963
         },
         {
          "game": "cod",
          "month": "2023-01-01T00:00:00",
          "players": 183390,
          "players_z": 0.7625783800676993
         },
         {
          "game": "cod",
          "month": "2023-02-01T00:00:00",
          "players": 186641,
          "players_z": 0.7939699885411413
         },
         {
          "game": "cod",
          "month": "2023-03-01T00:00:00",
          "players": 182393,
          "players_z": 0.7529513626429003
         },
         {
          "game": "cod",
          "month": "2023-04-01T00:00:00",
          "players": 166313,
          "players_z": 0.5976831177173552
         },
         {
          "game": "cod",
          "month": "2023-05-01T00:00:00",
          "players": 127198,
          "players_z": 0.21998924954181412
         },
         {
          "game": "cod",
          "month": "2023-06-01T00:00:00",
          "players": 134146,
          "players_z": 0.2870790359685982
         },
         {
          "game": "cod",
          "month": "2023-07-01T00:00:00",
          "players": 107917,
          "players_z": 0.033812195411874024
         },
         {
          "game": "cod",
          "month": "2023-08-01T00:00:00",
          "players": 133255,
          "players_z": 0.278475552994179
         },
         {
          "game": "cod",
          "month": "2023-09-01T00:00:00",
          "players": 110585,
          "players_z": 0.05957436440822692
         },
         {
          "game": "cod",
          "month": "2023-10-01T00:00:00",
          "players": 205563,
          "players_z": 0.9766805439193232
         },
         {
          "game": "cod",
          "month": "2023-11-01T00:00:00",
          "players": 210666,
          "players_z": 1.0259550373182695
         },
         {
          "game": "cod",
          "month": "2023-12-01T00:00:00",
          "players": 179080,
          "players_z": 0.72096108307584
         },
         {
          "game": "cod",
          "month": "2024-01-01T00:00:00",
          "players": 160542,
          "players_z": 0.5419584260839396
         },
         {
          "game": "cod",
          "month": "2024-02-01T00:00:00",
          "players": 172798,
          "players_z": 0.6603021829127631
         },
         {
          "game": "cod",
          "month": "2024-03-01T00:00:00",
          "players": 137004,
          "players_z": 0.31467584218733
         },
         {
          "game": "cod",
          "month": "2024-04-01T00:00:00",
          "players": 188017,
          "players_z": 0.8072566244253173
         },
         {
          "game": "cod",
          "month": "2024-05-01T00:00:00",
          "players": 149306,
          "players_z": 0.43346377434367683
         },
         {
          "game": "cod",
          "month": "2024-06-01T00:00:00",
          "players": 156375,
          "players_z": 0.5017219350015548
         },
         {
          "game": "cod",
          "month": "2024-07-01T00:00:00",
          "players": 125764,
          "players_z": 0.20614256650554347
         },
         {
          "game": "cod",
          "month": "2024-08-01T00:00:00",
          "players": 176603,
          "players_z": 0.6970432072872469
         },
         {
          "game": "cod",
          "month": "2024-09-01T00:00:00",
          "players": 176811,
          "players_z": 0.6990516522464828
         },
         {
          "game": "cod",
          "month": "2024-10-01T00:00:00",
          "players": 320283,
          "players_z": 2.0844151868209737
         },
         {
          "game": "cod",
          "month": "2024-11-01T00:00:00",
          "players": 327159,
          "players_z": 2.1508097423003303
         },
         {
          "game": "cod",
          "month": "2024-12-01T00:00:00",
          "players": 184103,
          "players_z": 0.7694630976443109
         },
         {
          "game": "cod",
          "month": "2025-01-01T00:00:00",
          "players": 126148,
          "players_z": 0.20985046489182516
         },
         {
          "game": "cod",
          "month": "2025-02-01T00:00:00",
          "players": 119583,
          "players_z": 0.1464589208659418
         },
         {
          "game": "cod",
          "month": "2025-03-01T00:00:00",
          "players": 91453,
          "players_z": -0.12516394789995283
         },
         {
          "game": "cod",
          "month": "2025-04-01T00:00:00",
          "players": 152660,
          "players_z": 0.46584994931135587
         },
         {
          "game": "cod",
          "month": "2025-05-01T00:00:00",
          "players": 128330,
          "players_z": 0.23091982499304028
         },
         {
          "game": "cod",
          "month": "2025-06-01T00:00:00",
          "players": 106348,
          "players_z": 0.01866195434917624
         },
         {
          "game": "cod",
          "month": "2025-07-01T00:00:00",
          "players": 105203,
          "players_z": 0.007605851087997807
         },
         {
          "game": "cod",
          "month": "2025-08-01T00:00:00",
          "players": 88789,
          "players_z": -0.15088749295478196
         },
         {
          "game": "cod gain",
          "month": "2020-06-01T00:00:00",
          "players": -3681,
          "players_z": -0.012045492971891319
         },
         {
          "game": "cod gain",
          "month": "2020-07-01T00:00:00",
          "players": -636,
          "players_z": 0.044414720194545794
         },
         {
          "game": "cod gain",
          "month": "2020-08-01T00:00:00",
          "players": 861,
          "players_z": 0.07217200725863655
         },
         {
          "game": "cod gain",
          "month": "2020-09-01T00:00:00",
          "players": -547,
          "players_z": 0.04606495302601144
         },
         {
          "game": "cod gain",
          "month": "2020-10-01T00:00:00",
          "players": 5217,
          "players_z": 0.15294070629082046
         },
         {
          "game": "cod gain",
          "month": "2020-11-01T00:00:00",
          "players": -3546,
          "players_z": -0.009542330811802974
         },
         {
          "game": "cod gain",
          "month": "2020-12-01T00:00:00",
          "players": -2017,
          "players_z": 0.018808298393938352
         },
         {
          "game": "cod gain",
          "month": "2021-01-01T00:00:00",
          "players": 57,
          "players_z": 0.05726428594966596
         },
         {
          "game": "cod gain",
          "month": "2021-02-01T00:00:00",
          "players": 2898,
          "players_z": 0.10994194296308069
         },
         {
          "game": "cod gain",
          "month": "2021-03-01T00:00:00",
          "players": -4017,
          "players_z": -0.01827558545922231
         },
         {
          "game": "cod gain",
          "month": "2021-04-01T00:00:00",
          "players": 2916,
          "players_z": 0.11027569791775912
         },
         {
          "game": "cod gain",
          "month": "2021-05-01T00:00:00",
          "players": 1344,
          "players_z": 0.08112776520917485
         },
         {
          "game": "cod gain",
          "month": "2021-06-01T00:00:00",
          "players": 4999,
          "players_z": 0.14889856295082596
         },
         {
          "game": "cod gain",
          "month": "2021-07-01T00:00:00",
          "players": -939,
          "players_z": 0.03879651179079195
         },
         {
          "game": "cod gain",
          "month": "2021-08-01T00:00:00",
          "players": 5967,
          "players_z": 0.16684716273575573
         },
         {
          "game": "cod gain",
          "month": "2021-09-01T00:00:00",
          "players": -8504,
          "players_z": -0.10147327888378826
         },
         {
          "game": "cod gain",
          "month": "2021-10-01T00:00:00",
          "players": 5614,
          "players_z": 0.16030185723567286
         },
         {
          "game": "cod gain",
          "month": "2021-11-01T00:00:00",
          "players": -7048,
          "players_z": -0.0744762114386873
         },
         {
          "game": "cod gain",
          "month": "2021-12-01T00:00:00",
          "players": 5243,
          "players_z": 0.15342279678091156
         },
         {
          "game": "cod gain",
          "month": "2022-01-01T00:00:00",
          "players": 99,
          "players_z": 0.058043047510582334
         },
         {
          "game": "cod gain",
          "month": "2022-02-01T00:00:00",
          "players": -4099,
          "players_z": -0.019796024697201896
         },
         {
          "game": "cod gain",
          "month": "2022-03-01T00:00:00",
          "players": -3107,
          "players_z": -0.001402418306034208
         },
         {
          "game": "cod gain",
          "month": "2022-04-01T00:00:00",
          "players": 10902,
          "players_z": 0.25835164614342965
         },
         {
          "game": "cod gain",
          "month": "2022-05-01T00:00:00",
          "players": -7555,
          "players_z": -0.08387697599546352
         },
         {
          "game": "cod gain",
          "month": "2022-06-01T00:00:00",
          "players": 2811,
          "players_z": 0.10832879401546819
         },
         {
          "game": "cod gain",
          "month": "2022-07-01T00:00:00",
          "players": 1830,
          "players_z": 0.09013914898549288
         },
         {
          "game": "cod gain",
          "month": "2022-08-01T00:00:00",
          "players": -1718,
          "players_z": 0.024352339029985872
         },
         {
          "game": "cod gain",
          "month": "2022-09-01T00:00:00",
          "players": 1458,
          "players_z": 0.083241546588805
         },
         {
          "game": "cod gain",
          "month": "2022-10-01T00:00:00",
          "players": -7191,
          "players_z": -0.07712770913418829
         },
         {
          "game": "cod gain",
          "month": "2022-11-01T00:00:00",
          "players": 232615,
          "players_z": 4.369341216511335
         },
         {
          "game": "cod gain",
          "month": "2022-12-01T00:00:00",
          "players": -179614,
          "players_z": -3.2741849619409487
         },
         {
          "game": "cod gain",
          "month": "2023-01-01T00:00:00",
          "players": -142459,
          "players_z": -2.5852591096588564
         },
         {
          "game": "cod gain",
          "month": "2023-02-01T00:00:00",
          "players": 3251,
          "players_z": 0.11648724846316354
         },
         {
          "game": "cod gain",
          "month": "2023-03-01T00:00:00",
          "players": -8776,
          "players_z": -0.10651668708781811
         },
         {
          "game": "cod gain",
          "month": "2023-04-01T00:00:00",
          "players": -16080,
          "players_z": -0.24194703091956085
         },
         {
          "game": "cod gain",
          "month": "2023-05-01T00:00:00",
          "players": -39115,
          "players_z": -0.6690606631983388
         },
         {
          "game": "cod gain",
          "month": "2023-06-01T00:00:00",
          "players": 6948,
          "players_z": 0.18503680776573103
         },
         {
          "game": "cod gain",
          "month": "2023-07-01T00:00:00",
          "players": -26229,
          "players_z": -0.4301291995324246
         },
         {
          "game": "cod gain",
          "month": "2023-08-01T00:00:00",
          "players": 25338,
          "players_z": 0.5260231197955434
         },
         {
          "game": "cod gain",
          "month": "2023-09-01T00:00:00",
          "players": -22670,
          "players_z": -0.36413842821572523
         },
         {
          "game": "cod gain",
          "month": "2023-10-01T00:00:00",
          "players": 94978,
          "players_z": 1.8172839555625975
         },
         {
          "game": "cod gain",
          "month": "2023-11-01T00:00:00",
          "players": 5103,
          "players_z": 0.15082692491119032
         },
         {
          "game": "cod gain",
          "month": "2023-12-01T00:00:00",
          "players": -31586,
          "players_z": -0.5294583824331155
         },
         {
          "game": "cod gain",
          "month": "2024-01-01T00:00:00",
          "players": -18538,
          "players_z": -0.2875231241750953
         },
         {
          "game": "cod gain",
          "month": "2024-02-01T00:00:00",
          "players": 12256,
          "players_z": 0.2834574355120194
         },
         {
          "game": "cod gain",
          "month": "2024-03-01T00:00:00",
          "players": -35794,
          "players_z": -0.6074828740601654
         },
         {
          "game": "cod gain",
          "month": "2024-04-01T00:00:00",
          "players": 51013,
          "players_z": 1.0020874787604934
         },
         {
          "game": "cod gain",
          "month": "2024-05-01T00:00:00",
          "players": -38711,
          "players_z": -0.6615697186600002
         },
         {
          "game": "cod gain",
          "month": "2024-06-01T00:00:00",
          "players": 7069,
          "players_z": 0.18728038273884726
         },
         {
          "game": "cod gain",
          "month": "2024-07-01T00:00:00",
          "players": -30611,
          "players_z": -0.5113799890546996
         },
         {
          "game": "cod gain",
          "month": "2024-08-01T00:00:00",
          "players": 50839,
          "players_z": 0.9988611808652684
         },
         {
          "game": "cod gain",
          "month": "2024-09-01T00:00:00",
          "players": 208,
          "players_z": 0.06006411918057959
         },
         {
          "game": "cod gain",
          "month": "2024-10-01T00:00:00",
          "players": 143472,
          "players_z": 2.7164568873501844
         },
         {
          "game": "cod gain",
          "month": "2024-11-01T00:00:00",
          "players": 6876,
          "players_z": 0.18370178794701725
         },
         {
          "game": "cod gain",
          "month": "2024-12-01T00:00:00",
          "players": -143056,
          "players_z": -2.596328648989025
         },
         {
          "game": "cod gain",
          "month": "2025-01-01T00:00:00",
          "players": -57955,
          "players_z": -1.0183908490951121
         },
         {
          "game": "cod gain",
          "month": "2025-02-01T00:00:00",
          "players": -6565,
          "players_z": -0.065520453488149
         },
         {
          "game": "cod gain",
          "month": "2025-03-01T00:00:00",
          "players": -28130,
          "players_z": -0.4653774311348538
         },
         {
          "game": "cod gain",
          "month": "2025-04-01T00:00:00",
          "players": 61207,
          "players_z": 1.1911040347600532
         },
         {
          "game": "cod gain",
          "month": "2025-05-01T00:00:00",
          "players": -24330,
          "players_z": -0.39491805181384854
         },
         {
          "game": "cod gain",
          "month": "2025-06-01T00:00:00",
          "players": -21982,
          "players_z": -0.3513815721702379
         },
         {
          "game": "cod gain",
          "month": "2025-07-01T00:00:00",
          "players": -1145,
          "players_z": 0.0349768717539164
         },
         {
          "game": "cod gain",
          "month": "2025-08-01T00:00:00",
          "players": -16414,
          "players_z": -0.24814003952303867
         },
         {
          "game": "cod % gain",
          "month": "2020-06-01T00:00:00",
          "players": -22.7,
          "players_z": -0.262718496731054
         },
         {
          "game": "cod % gain",
          "month": "2020-07-01T00:00:00",
          "players": -7.6,
          "players_z": -0.18487749447601565
         },
         {
          "game": "cod % gain",
          "month": "2020-08-01T00:00:00",
          "players": 11.1,
          "players_z": -0.08847837247805425
         },
         {
          "game": "cod % gain",
          "month": "2020-09-01T00:00:00",
          "players": -6.4,
          "players_z": -0.17869145456170799
         },
         {
          "game": "cod % gain",
          "month": "2020-10-01T00:00:00",
          "players": 64.7,
          "players_z": 0.18783141036102238
         },
         {
          "game": "cod % gain",
          "month": "2020-11-01T00:00:00",
          "players": -26.7,
          "players_z": -0.28333862977874635
         },
         {
          "game": "cod % gain",
          "month": "2020-12-01T00:00:00",
          "players": -20.7,
          "players_z": -0.2524084302072079
         },
         {
          "game": "cod % gain",
          "month": "2021-01-01T00:00:00",
          "players": 0.7,
          "players_z": -0.14209071840205417
         },
         {
          "game": "cod % gain",
          "month": "2021-02-01T00:00:00",
          "players": 37.3,
          "players_z": 0.04658349898433022
         },
         {
          "game": "cod % gain",
          "month": "2021-03-01T00:00:00",
          "players": -37.7,
          "players_z": -0.3400439956599002
         },
         {
          "game": "cod % gain",
          "month": "2021-04-01T00:00:00",
          "players": 43.8,
          "players_z": 0.08009121518683018
         },
         {
          "game": "cod % gain",
          "month": "2021-05-01T00:00:00",
          "players": 14,
          "players_z": -0.07352877601847733
         },
         {
          "game": "cod % gain",
          "month": "2021-06-01T00:00:00",
          "players": 45.8,
          "players_z": 0.09040128171067632
         },
         {
          "game": "cod % gain",
          "month": "2021-07-01T00:00:00",
          "players": -5.9,
          "players_z": -0.17611393793074645
         },
         {
          "game": "cod % gain",
          "month": "2021-08-01T00:00:00",
          "players": 39.9,
          "players_z": 0.059986585465330214
         },
         {
          "game": "cod % gain",
          "month": "2021-09-01T00:00:00",
          "players": -40.6,
          "players_z": -0.354993592119477
         },
         {
          "game": "cod % gain",
          "month": "2021-10-01T00:00:00",
          "players": 45.1,
          "players_z": 0.0867927584273302
         },
         {
          "game": "cod % gain",
          "month": "2021-11-01T00:00:00",
          "players": -39,
          "players_z": -0.3467455389004001
         },
         {
          "game": "cod % gain",
          "month": "2021-12-01T00:00:00",
          "players": 47.7,
          "players_z": 0.1001958449083302
         },
         {
          "game": "cod % gain",
          "month": "2022-01-01T00:00:00",
          "players": 0.6,
          "players_z": -0.14260622172824647
         },
         {
          "game": "cod % gain",
          "month": "2022-02-01T00:00:00",
          "players": -25.1,
          "players_z": -0.2750905765596694
         },
         {
          "game": "cod % gain",
          "month": "2022-03-01T00:00:00",
          "players": -25.4,
          "players_z": -0.2766370865382463
         },
         {
          "game": "cod % gain",
          "month": "2022-04-01T00:00:00",
          "players": 119.3,
          "players_z": 0.46929622646202207
         },
         {
          "game": "cod % gain",
          "month": "2022-05-01T00:00:00",
          "players": -37.7,
          "players_z": -0.3400439956599002
         },
         {
          "game": "cod % gain",
          "month": "2022-06-01T00:00:00",
          "players": 22.5,
          "players_z": -0.02971099329213122
         },
         {
          "game": "cod % gain",
          "month": "2022-07-01T00:00:00",
          "players": 12,
          "players_z": -0.08383884254232347
         },
         {
          "game": "cod % gain",
          "month": "2022-08-01T00:00:00",
          "players": -10,
          "players_z": -0.19724957430463105
         },
         {
          "game": "cod % gain",
          "month": "2022-09-01T00:00:00",
          "players": 9.5,
          "players_z": -0.09672642569713115
         },
         {
          "game": "cod % gain",
          "month": "2022-10-01T00:00:00",
          "players": 1517.8,
          "players_z": 7.678610243261437
         },
         {
          "game": "cod % gain",
          "month": "2022-11-01T00:00:00",
          "players": 85.3,
          "players_z": 0.29402509555663764
         },
         {
          "game": "cod % gain",
          "month": "2022-12-01T00:00:00",
          "players": -35.5,
          "players_z": -0.3287029224836694
         },
         {
          "game": "cod % gain",
          "month": "2023-01-01T00:00:00",
          "players": -43.7,
          "players_z": -0.3709741952314386
         },
         {
          "game": "cod % gain",
          "month": "2023-02-01T00:00:00",
          "players": 1.8,
          "players_z": -0.1364201818139388
         },
         {
          "game": "cod % gain",
          "month": "2023-03-01T00:00:00",
          "players": -2.3,
          "players_z": -0.15755581818782338
         },
         {
          "game": "cod % gain",
          "month": "2023-04-01T00:00:00",
          "players": -8.8,
          "players_z": -0.19106353439032336
         },
         {
          "game": "cod % gain",
          "month": "2023-05-01T00:00:00",
          "players": -23.5,
          "players_z": -0.2668425233405925
         },
         {
          "game": "cod % gain",
          "month": "2023-06-01T00:00:00",
          "players": 5.5,
          "players_z": -0.11734655874482343
         },
         {
          "game": "cod % gain",
          "month": "2023-07-01T00:00:00",
          "players": -19.6,
          "players_z": -0.2467378936190925
         },
         {
          "game": "cod % gain",
          "month": "2023-08-01T00:00:00",
          "players": 23.5,
          "players_z": -0.02455596003020815
         },
         {
          "game": "cod % gain",
          "month": "2023-09-01T00:00:00",
          "players": -17,
          "players_z": -0.23333480713809257
         },
         {
          "game": "cod % gain",
          "month": "2023-10-01T00:00:00",
          "players": 85.9,
          "players_z": 0.2971181155137915
         },
         {
          "game": "cod % gain",
          "month": "2023-11-01T00:00:00",
          "players": 2.5,
          "players_z": -0.13281165853059265
         },
         {
          "game": "cod % gain",
          "month": "2023-12-01T00:00:00",
          "players": -15,
          "players_z": -0.22302474061424643
         },
         {
          "game": "cod % gain",
          "month": "2024-01-01T00:00:00",
          "players": -10.4,
          "players_z": -0.1993115876094003
         },
         {
          "game": "cod % gain",
          "month": "2024-02-01T00:00:00",
          "players": 7.6,
          "players_z": -0.106520988894785
         },
         {
          "game": "cod % gain",
          "month": "2024-03-01T00:00:00",
          "players": -20.7,
          "players_z": -0.2524084302072079
         },
         {
          "game": "cod % gain",
          "month": "2024-04-01T00:00:00",
          "players": 37.2,
          "players_z": 0.04606799565813794
         },
         {
          "game": "cod % gain",
          "month": "2024-05-01T00:00:00",
          "players": -20.6,
          "players_z": -0.2518929268810156
         },
         {
          "game": "cod % gain",
          "month": "2024-06-01T00:00:00",
          "players": 4.7,
          "players_z": -0.12147058535436189
         },
         {
          "game": "cod % gain",
          "month": "2024-07-01T00:00:00",
          "players": -19.6,
          "players_z": -0.2467378936190925
         },
         {
          "game": "cod % gain",
          "month": "2024-08-01T00:00:00",
          "players": 40.4,
          "players_z": 0.06256410209629175
         },
         {
          "game": "cod % gain",
          "month": "2024-09-01T00:00:00",
          "players": 0.1,
          "players_z": -0.145183738359208
         },
         {
          "game": "cod % gain",
          "month": "2024-10-01T00:00:00",
          "players": 81.1,
          "players_z": 0.2723739558565607
         },
         {
          "game": "cod % gain",
          "month": "2024-11-01T00:00:00",
          "players": 2.1,
          "players_z": -0.13487367183536186
         },
         {
          "game": "cod % gain",
          "month": "2024-12-01T00:00:00",
          "players": -43.7,
          "players_z": -0.3709741952314386
         },
         {
          "game": "cod % gain",
          "month": "2025-01-01T00:00:00",
          "players": -31.5,
          "players_z": -0.3080827894359771
         },
         {
          "game": "cod % gain",
          "month": "2025-02-01T00:00:00",
          "players": -5.2,
          "players_z": -0.1725054146474003
         },
         {
          "game": "cod % gain",
          "month": "2025-03-01T00:00:00",
          "players": -23.5,
          "players_z": -0.2668425233405925
         },
         {
          "game": "cod % gain",
          "month": "2025-04-01T00:00:00",
          "players": 66.9,
          "players_z": 0.19917248353725317
         },
         {
          "game": "cod % gain",
          "month": "2025-05-01T00:00:00",
          "players": -15.9,
          "players_z": -0.22766427054997718
         },
         {
          "game": "cod % gain",
          "month": "2025-06-01T00:00:00",
          "players": -17.1,
          "players_z": -0.23385031046428484
         },
         {
          "game": "cod % gain",
          "month": "2025-07-01T00:00:00",
          "players": -1.1,
          "players_z": -0.15136977827351572
         },
         {
          "game": "cod % gain",
          "month": "2025-08-01T00:00:00",
          "players": -15.6,
          "players_z": -0.22611776057140023
         },
         {
          "game": "valorant",
          "month": "2020-06-01T00:00:00",
          "players": 183072,
          "players_z": -3.1636150845532303
         },
         {
          "game": "valorant",
          "month": "2020-07-01T00:00:00",
          "players": 964278,
          "players_z": -2.6334454926287636
         },
         {
          "game": "valorant",
          "month": "2020-08-01T00:00:00",
          "players": 2022100,
          "players_z": -1.915548986369565
         },
         {
          "game": "valorant",
          "month": "2020-09-01T00:00:00",
          "players": 2076758,
          "players_z": -1.8784550450078656
         },
         {
          "game": "valorant",
          "month": "2020-10-01T00:00:00",
          "players": 2056779,
          "players_z": -1.8920138992371713
         },
         {
          "game": "valorant",
          "month": "2020-11-01T00:00:00",
          "players": 2150306,
          "players_z": -1.828541305038049
         },
         {
          "game": "valorant",
          "month": "2020-12-01T00:00:00",
          "players": 2229905,
          "players_z": -1.7745210218507774
         },
         {
          "game": "valorant",
          "month": "2021-01-01T00:00:00",
          "players": 2749127,
          "players_z": -1.4221482599183222
         },
         {
          "game": "valorant",
          "month": "2021-02-01T00:00:00",
          "players": 3044640,
          "players_z": -1.2215967963883763
         },
         {
          "game": "valorant",
          "month": "2021-03-01T00:00:00",
          "players": 3305692,
          "players_z": -1.0444324731355261
         },
         {
          "game": "valorant",
          "month": "2021-04-01T00:00:00",
          "players": 3550749,
          "players_z": -0.8781232413986552
         },
         {
          "game": "valorant",
          "month": "2021-05-01T00:00:00",
          "players": 3555755,
          "players_z": -0.874725892969209
         },
         {
          "game": "valorant",
          "month": "2021-06-01T00:00:00",
          "players": 3972836,
          "players_z": -0.5916716619860258
         },
         {
          "game": "valorant",
          "month": "2021-07-01T00:00:00",
          "players": 3742866,
          "players_z": -0.747742021218891
         },
         {
          "game": "valorant",
          "month": "2021-08-01T00:00:00",
          "players": 3854490,
          "players_z": -0.6719878020641781
         },
         {
          "game": "valorant",
          "month": "2021-09-01T00:00:00",
          "players": 4152405,
          "players_z": -0.46980620850476146
         },
         {
          "game": "valorant",
          "month": "2021-10-01T00:00:00",
          "players": 3987776,
          "players_z": -0.5815325518110508
         },
         {
          "game": "valorant",
          "month": "2021-11-01T00:00:00",
          "players": 3993767,
          "players_z": -0.5774667279115678
         },
         {
          "game": "valorant",
          "month": "2021-12-01T00:00:00",
          "players": 4139985,
          "players_z": -0.4782351073249214
         },
         {
          "game": "valorant",
          "month": "2022-01-01T00:00:00",
          "players": 5127895,
          "players_z": 0.1922152496335507
         },
         {
          "game": "valorant",
          "month": "2022-02-01T00:00:00",
          "players": 5155296,
          "players_z": 0.2108110834959664
         },
         {
          "game": "valorant",
          "month": "2022-03-01T00:00:00",
          "players": 5392919,
          "players_z": 0.372075191736133
         },
         {
          "game": "valorant",
          "month": "2022-04-01T00:00:00",
          "players": 5892279,
          "players_z": 0.7109685021093276
         },
         {
          "game": "valorant",
          "month": "2022-05-01T00:00:00",
          "players": 5834837,
          "players_z": 0.6719851843937376
         },
         {
          "game": "valorant",
          "month": "2022-06-01T00:00:00",
          "players": 5507442,
          "players_z": 0.44979683260418285
         },
         {
          "game": "valorant",
          "month": "2022-07-01T00:00:00",
          "players": 5459822,
          "players_z": 0.4174792672405744
         },
         {
          "game": "valorant",
          "month": "2022-08-01T00:00:00",
          "players": 5950383,
          "players_z": 0.7504010896332063
         },
         {
          "game": "valorant",
          "month": "2022-09-01T00:00:00",
          "players": 6027617,
          "players_z": 0.8028163530370899
         },
         {
          "game": "valorant",
          "month": "2022-10-01T00:00:00",
          "players": 5778574,
          "players_z": 0.6338020012762932
         },
         {
          "game": "valorant",
          "month": "2022-11-01T00:00:00",
          "players": 5300426,
          "players_z": 0.3093043271167244
         },
         {
          "game": "valorant",
          "month": "2022-12-01T00:00:00",
          "players": 4970024,
          "players_z": 0.08507525884148365
         },
         {
          "game": "valorant",
          "month": "2023-01-01T00:00:00",
          "players": 5649117,
          "players_z": 0.5459453221650654
         },
         {
          "game": "valorant",
          "month": "2023-02-01T00:00:00",
          "players": 5788621,
          "players_z": 0.6406204510706689
         },
         {
          "game": "valorant",
          "month": "2023-03-01T00:00:00",
          "players": 6627830,
          "players_z": 1.210154086333762
         },
         {
          "game": "valorant",
          "month": "2023-04-01T00:00:00",
          "players": 6222487,
          "players_z": 0.9350659112564595
         },
         {
          "game": "valorant",
          "month": "2023-05-01T00:00:00",
          "players": 6115812,
          "players_z": 0.8626703571791196
         },
         {
          "game": "valorant",
          "month": "2023-06-01T00:00:00",
          "players": 6001284,
          "players_z": 0.784945323034572
         },
         {
          "game": "valorant",
          "month": "2023-07-01T00:00:00",
          "players": 5999688,
          "players_z": 0.7838621891765225
         },
         {
          "game": "valorant",
          "month": "2023-08-01T00:00:00",
          "players": 5858274,
          "players_z": 0.6878908286488171
         },
         {
          "game": "valorant",
          "month": "2023-09-01T00:00:00",
          "players": 5890744,
          "players_z": 0.7099267662245493
         },
         {
          "game": "valorant",
          "month": "2023-10-01T00:00:00",
          "players": 4859996,
          "players_z": 0.010404173544820212
         },
         {
          "game": "valorant",
          "month": "2023-11-01T00:00:00",
          "players": 4719275,
          "players_z": -0.08509687886031098
         },
         {
          "game": "valorant",
          "month": "2023-12-01T00:00:00",
          "players": 4535871,
          "players_z": -0.20956497541527208
         },
         {
          "game": "valorant",
          "month": "2024-01-01T00:00:00",
          "players": 5390459,
          "players_z": 0.3704056996992897
         },
         {
          "game": "valorant",
          "month": "2024-02-01T00:00:00",
          "players": 5513107,
          "players_z": 0.45364141487601906
         },
         {
          "game": "valorant",
          "month": "2024-03-01T00:00:00",
          "players": 6140540,
          "players_z": 0.8794521454258921
         },
         {
          "game": "valorant",
          "month": "2024-04-01T00:00:00",
          "players": 6018194,
          "players_z": 0.7964213841496207
         },
         {
          "game": "valorant",
          "month": "2024-05-01T00:00:00",
          "players": 5747277,
          "players_z": 0.6125621263669093
         },
         {
          "game": "valorant",
          "month": "2024-06-01T00:00:00",
          "players": 6032889,
          "players_z": 0.806394223776211
         },
         {
          "game": "valorant",
          "month": "2024-07-01T00:00:00",
          "players": 6353450,
          "players_z": 1.023944645248779
         },
         {
          "game": "valorant",
          "month": "2024-08-01T00:00:00",
          "players": 6861264,
          "players_z": 1.3685753075241984
         },
         {
          "game": "valorant",
          "month": "2024-09-01T00:00:00",
          "players": 6825095,
          "players_z": 1.3440290239955055
         },
         {
          "game": "valorant",
          "month": "2024-10-01T00:00:00",
          "players": 5916528,
          "players_z": 0.7274252144676254
         },
         {
          "game": "valorant",
          "month": "2024-11-01T00:00:00",
          "players": 5348060,
          "players_z": 0.34163139365452627
         },
         {
          "game": "valorant",
          "month": "2024-12-01T00:00:00",
          "players": 4976097,
          "players_z": 0.08919673247552803
         },
         {
          "game": "valorant",
          "month": "2025-01-01T00:00:00",
          "players": 5782056,
          "players_z": 0.6361650790292558
         },
         {
          "game": "valorant",
          "month": "2025-02-01T00:00:00",
          "players": 5649614,
          "players_z": 0.5462826138489317
         },
         {
          "game": "valorant",
          "month": "2025-03-01T00:00:00",
          "players": 5964276,
          "players_z": 0.7598296477095736
         },
         {
          "game": "valorant",
          "month": "2025-04-01T00:00:00",
          "players": 5391338,
          "players_z": 0.3710022377075764
         },
         {
          "game": "valorant",
          "month": "2025-05-01T00:00:00",
          "players": 5207109,
          "players_z": 0.24597425053050326
         },
         {
          "game": "valorant",
          "month": "2025-06-01T00:00:00",
          "players": 5290508,
          "players_z": 0.30257342385598796
         },
         {
          "game": "valorant",
          "month": "2025-07-01T00:00:00",
          "players": 5202237,
          "players_z": 0.24266784191119412
         },
         {
          "game": "valorant",
          "month": "2025-08-01T00:00:00",
          "players": 5204025,
          "players_z": 0.24388127758675338
         },
         {
          "game": "valorant gain",
          "month": "2020-06-01T00:00:00",
          "players": 0,
          "players_z": -0.19040283740962202
         },
         {
          "game": "valorant gain",
          "month": "2020-07-01T00:00:00",
          "players": 781206,
          "players_z": 1.67594840250231
         },
         {
          "game": "valorant gain",
          "month": "2020-08-01T00:00:00",
          "players": 1057822,
          "players_z": 2.3368017684256115
         },
         {
          "game": "valorant gain",
          "month": "2020-09-01T00:00:00",
          "players": 54658,
          "players_z": -0.05982136969034391
         },
         {
          "game": "valorant gain",
          "month": "2020-10-01T00:00:00",
          "players": -19979,
          "players_z": -0.23813394984629108
         },
         {
          "game": "valorant gain",
          "month": "2020-11-01T00:00:00",
          "players": 93527,
          "players_z": 0.03303916433542761
         },
         {
          "game": "valorant gain",
          "month": "2020-12-01T00:00:00",
          "players": 79599,
          "players_z": -0.00023572099506573126
         },
         {
          "game": "valorant gain",
          "month": "2021-01-01T00:00:00",
          "players": 519222,
          "players_z": 1.0500518230634837
         },
         {
          "game": "valorant gain",
          "month": "2021-02-01T00:00:00",
          "players": 295513,
          "players_z": 0.5155966735517565
         },
         {
          "game": "valorant gain",
          "month": "2021-03-01T00:00:00",
          "players": 261052,
          "players_z": 0.4332671342514886
         },
         {
          "game": "valorant gain",
          "month": "2021-04-01T00:00:00",
          "players": 245057,
          "players_z": 0.395054053345311
         },
         {
          "game": "valorant gain",
          "month": "2021-05-01T00:00:00",
          "players": 5006,
          "players_z": -0.17844318232888898
         },
         {
          "game": "valorant gain",
          "month": "2021-06-01T00:00:00",
          "players": 417081,
          "players_z": 0.8060304228235411
         },
         {
          "game": "valorant gain",
          "month": "2021-07-01T00:00:00",
          "players": -229970,
          "players_z": -0.7398159174967527
         },
         {
          "game": "valorant gain",
          "month": "2021-08-01T00:00:00",
          "players": 111624,
          "players_z": 0.07627405806216067
         },
         {
          "game": "valorant gain",
          "month": "2021-09-01T00:00:00",
          "players": 297915,
          "players_z": 0.5213352056140659
         },
         {
          "game": "valorant gain",
          "month": "2021-10-01T00:00:00",
          "players": -164629,
          "players_z": -0.583712077578619
         },
         {
          "game": "valorant gain",
          "month": "2021-11-01T00:00:00",
          "players": 5991,
          "players_z": -0.1760899541517971
         },
         {
          "game": "valorant gain",
          "month": "2021-12-01T00:00:00",
          "players": 146218,
          "players_z": 0.15892134289293947
         },
         {
          "game": "valorant gain",
          "month": "2022-01-01T00:00:00",
          "players": 987910,
          "players_z": 2.169777516327288
         },
         {
          "game": "valorant gain",
          "month": "2022-02-01T00:00:00",
          "players": 27401,
          "players_z": -0.12494009093196204
         },
         {
          "game": "valorant gain",
          "month": "2022-03-01T00:00:00",
          "players": 237623,
          "players_z": 0.37729375053465
         },
         {
          "game": "valorant gain",
          "month": "2022-04-01T00:00:00",
          "players": 499360,
          "players_z": 1.0026002311310986
         },
         {
          "game": "valorant gain",
          "month": "2022-05-01T00:00:00",
          "players": -57442,
          "players_z": -0.3276354596923761
         },
         {
          "game": "valorant gain",
          "month": "2022-06-01T00:00:00",
          "players": -327395,
          "players_z": -0.9725704912563243
         },
         {
          "game": "valorant gain",
          "month": "2022-07-01T00:00:00",
          "players": -47620,
          "players_z": -0.30417007171735416
         },
         {
          "game": "valorant gain",
          "month": "2022-08-01T00:00:00",
          "players": 490561,
          "players_z": 0.9815788557704574
         },
         {
          "game": "valorant gain",
          "month": "2022-09-01T00:00:00",
          "players": 77234,
          "players_z": -0.005885857684225465
         },
         {
          "game": "valorant gain",
          "month": "2022-10-01T00:00:00",
          "players": -249043,
          "players_z": -0.785382537823325
         },
         {
          "game": "valorant gain",
          "month": "2022-11-01T00:00:00",
          "players": -478148,
          "players_z": -1.332729077430065
         },
         {
          "game": "valorant gain",
          "month": "2022-12-01T00:00:00",
          "players": -330402,
          "players_z": -0.9797544071228373
         },
         {
          "game": "valorant gain",
          "month": "2023-01-01T00:00:00",
          "players": 679093,
          "players_z": 1.4319938960582643
         },
         {
          "game": "valorant gain",
          "month": "2023-02-01T00:00:00",
          "players": 139504,
          "players_z": 0.14288116626248767
         },
         {
          "game": "valorant gain",
          "month": "2023-03-01T00:00:00",
          "players": 839209,
          "players_z": 1.8145212897671437
         },
         {
          "game": "valorant gain",
          "month": "2023-04-01T00:00:00",
          "players": -405343,
          "players_z": -1.1587932627770952
         },
         {
          "game": "valorant gain",
          "month": "2023-05-01T00:00:00",
          "players": -106675,
          "players_z": -0.44525625445660494
         },
         {
          "game": "valorant gain",
          "month": "2023-06-01T00:00:00",
          "players": -114528,
          "players_z": -0.46401757514158226
         },
         {
          "game": "valorant gain",
          "month": "2023-07-01T00:00:00",
          "players": -1596,
          "players_z": -0.19421578377575263
         },
         {
          "game": "valorant gain",
          "month": "2023-08-01T00:00:00",
          "players": -141414,
          "players_z": -0.5282499535875648
         },
         {
          "game": "valorant gain",
          "month": "2023-09-01T00:00:00",
          "players": 32470,
          "players_z": -0.11282992481046068
         },
         {
          "game": "valorant gain",
          "month": "2023-10-01T00:00:00",
          "players": -1030748,
          "players_z": -2.6529259207407074
         },
         {
          "game": "valorant gain",
          "month": "2023-11-01T00:00:00",
          "players": -140721,
          "players_z": -0.5265943321391133
         },
         {
          "game": "valorant gain",
          "month": "2023-12-01T00:00:00",
          "players": -183404,
          "players_z": -0.6285667567917158
         },
         {
          "game": "valorant gain",
          "month": "2024-01-01T00:00:00",
          "players": 854588,
          "players_z": 1.8512627071635865
         },
         {
          "game": "valorant gain",
          "month": "2024-02-01T00:00:00",
          "players": 122648,
          "players_z": 0.10261110113247648
         },
         {
          "game": "valorant gain",
          "month": "2024-03-01T00:00:00",
          "players": 627433,
          "players_z": 1.3085748426282466
         },
         {
          "game": "valorant gain",
          "month": "2024-04-01T00:00:00",
          "players": -122346,
          "players_z": -0.4826952785816883
         },
         {
          "game": "valorant gain",
          "month": "2024-05-01T00:00:00",
          "players": -270917,
          "players_z": -0.8376409268037394
         },
         {
          "game": "valorant gain",
          "month": "2024-06-01T00:00:00",
          "players": 285612,
          "players_z": 0.49194254950973937
         },
         {
          "game": "valorant gain",
          "month": "2024-07-01T00:00:00",
          "players": 320561,
          "players_z": 0.5754379521099269
         },
         {
          "game": "valorant gain",
          "month": "2024-08-01T00:00:00",
          "players": 507814,
          "players_z": 1.0227973793637228
         },
         {
          "game": "valorant gain",
          "month": "2024-09-01T00:00:00",
          "players": -36169,
          "players_z": -0.27681289825960864
         },
         {
          "game": "valorant gain",
          "month": "2024-10-01T00:00:00",
          "players": -908567,
          "players_z": -2.3610276751516057
         },
         {
          "game": "valorant gain",
          "month": "2024-11-01T00:00:00",
          "players": -568468,
          "players_z": -1.5485093504807659
         },
         {
          "game": "valorant gain",
          "month": "2024-12-01T00:00:00",
          "players": -371963,
          "players_z": -1.0790463018112804
         },
         {
          "game": "valorant gain",
          "month": "2025-01-01T00:00:00",
          "players": 805959,
          "players_z": 1.7350849071394223
         },
         {
          "game": "valorant gain",
          "month": "2025-02-01T00:00:00",
          "players": -132442,
          "players_z": -0.5068152701308455
         },
         {
          "game": "valorant gain",
          "month": "2025-03-01T00:00:00",
          "players": 314662,
          "players_z": 0.5613448627529065
         },
         {
          "game": "valorant gain",
          "month": "2025-04-01T00:00:00",
          "players": -572938,
          "players_z": -1.5591884671828986
         },
         {
          "game": "valorant gain",
          "month": "2025-05-01T00:00:00",
          "players": -184229,
          "players_z": -0.630537734706539
         },
         {
          "game": "valorant gain",
          "month": "2025-06-01T00:00:00",
          "players": 83399,
          "players_z": 0.008842722733816715
         },
         {
          "game": "valorant gain",
          "month": "2025-07-01T00:00:00",
          "players": -88271,
          "players_z": -0.40128791803914377
         },
         {
          "game": "valorant gain",
          "month": "2025-08-01T00:00:00",
          "players": 1788,
          "players_z": -0.1861311907287689
         },
         {
          "game": "valorant % gain",
          "month": "2020-06-01T00:00:00",
          "players": 0,
          "players_z": -0.18579510041224945
         },
         {
          "game": "valorant % gain",
          "month": "2020-07-01T00:00:00",
          "players": 426.7,
          "players_z": 7.491060830716139
         },
         {
          "game": "valorant % gain",
          "month": "2020-08-01T00:00:00",
          "players": 109.7,
          "players_z": 1.7878423395802143
         },
         {
          "game": "valorant % gain",
          "month": "2020-09-01T00:00:00",
          "players": 2.7,
          "players_z": -0.13721879149721158
         },
         {
          "game": "valorant % gain",
          "month": "2020-10-01T00:00:00",
          "players": -1,
          "players_z": -0.20378632593633753
         },
         {
          "game": "valorant % gain",
          "month": "2020-11-01T00:00:00",
          "players": 4.5,
          "players_z": -0.10483458555385303
         },
         {
          "game": "valorant % gain",
          "month": "2020-12-01T00:00:00",
          "players": 3.7,
          "players_z": -0.1192275659731235
         },
         {
          "game": "valorant % gain",
          "month": "2021-01-01T00:00:00",
          "players": 23.3,
          "players_z": 0.2334004542990031
         },
         {
          "game": "valorant % gain",
          "month": "2021-02-01T00:00:00",
          "players": 10.7,
          "players_z": 0.006711012695493121
         },
         {
          "game": "valorant % gain",
          "month": "2021-03-01T00:00:00",
          "players": 8.6,
          "players_z": -0.031070560905091863
         },
         {
          "game": "valorant % gain",
          "month": "2021-04-01T00:00:00",
          "players": 7.4,
          "players_z": -0.052660031533997564
         },
         {
          "game": "valorant % gain",
          "month": "2021-05-01T00:00:00",
          "players": 0.1,
          "players_z": -0.18399597785984065
         },
         {
          "game": "valorant % gain",
          "month": "2021-06-01T00:00:00",
          "players": 11.7,
          "players_z": 0.024702238219581212
         },
         {
          "game": "valorant % gain",
          "month": "2021-07-01T00:00:00",
          "players": -5.8,
          "players_z": -0.2901442084519604
         },
         {
          "game": "valorant % gain",
          "month": "2021-08-01T00:00:00",
          "players": 3,
          "players_z": -0.13182142383998516
         },
         {
          "game": "valorant % gain",
          "month": "2021-09-01T00:00:00",
          "players": 7.7,
          "players_z": -0.04726266387677114
         },
         {
          "game": "valorant % gain",
          "month": "2021-10-01T00:00:00",
          "players": -4,
          "players_z": -0.2577600025086018
         },
         {
          "game": "valorant % gain",
          "month": "2021-11-01T00:00:00",
          "players": 0.2,
          "players_z": -0.18219685530743185
         },
         {
          "game": "valorant % gain",
          "month": "2021-12-01T00:00:00",
          "players": 3.7,
          "players_z": -0.1192275659731235
         },
         {
          "game": "valorant % gain",
          "month": "2022-01-01T00:00:00",
          "players": 23.9,
          "players_z": 0.2441951896134559
         },
         {
          "game": "valorant % gain",
          "month": "2022-02-01T00:00:00",
          "players": 0.5,
          "players_z": -0.1767994876502054
         },
         {
          "game": "valorant % gain",
          "month": "2022-03-01T00:00:00",
          "players": 4.6,
          "players_z": -0.10303546300144423
         },
         {
          "game": "valorant % gain",
          "month": "2022-04-01T00:00:00",
          "players": 9.3,
          "players_z": -0.01847670303823018
         },
         {
          "game": "valorant % gain",
          "month": "2022-05-01T00:00:00",
          "players": -1,
          "players_z": -0.20378632593633753
         },
         {
          "game": "valorant % gain",
          "month": "2022-06-01T00:00:00",
          "players": -5.6,
          "players_z": -0.2865459633471428
         },
         {
          "game": "valorant % gain",
          "month": "2022-07-01T00:00:00",
          "players": -0.9,
          "players_z": -0.20198720338392873
         },
         {
          "game": "valorant % gain",
          "month": "2022-08-01T00:00:00",
          "players": 9,
          "players_z": -0.02387407069545662
         },
         {
          "game": "valorant % gain",
          "month": "2022-09-01T00:00:00",
          "players": 1.3,
          "players_z": -0.16240650723093492
         },
         {
          "game": "valorant % gain",
          "month": "2022-10-01T00:00:00",
          "players": -4.1,
          "players_z": -0.2595591250610106
         },
         {
          "game": "valorant % gain",
          "month": "2022-11-01T00:00:00",
          "players": -8.3,
          "players_z": -0.3351222722621806
         },
         {
          "game": "valorant % gain",
          "month": "2022-12-01T00:00:00",
          "players": -6.2,
          "players_z": -0.2973406986615956
         },
         {
          "game": "valorant % gain",
          "month": "2023-01-01T00:00:00",
          "players": 13.7,
          "players_z": 0.06068468926775739
         },
         {
          "game": "valorant % gain",
          "month": "2023-02-01T00:00:00",
          "players": 2.5,
          "players_z": -0.1408170366020292
         },
         {
          "game": "valorant % gain",
          "month": "2023-03-01T00:00:00",
          "players": 14.5,
          "players_z": 0.07507766968702788
         },
         {
          "game": "valorant % gain",
          "month": "2023-04-01T00:00:00",
          "players": -6.1,
          "players_z": -0.29554157610918685
         },
         {
          "game": "valorant % gain",
          "month": "2023-05-01T00:00:00",
          "players": -1.7,
          "players_z": -0.21638018380319918
         },
         {
          "game": "valorant % gain",
          "month": "2023-06-01T00:00:00",
          "players": -1.9,
          "players_z": -0.21997842890801683
         },
         {
          "game": "valorant % gain",
          "month": "2023-07-01T00:00:00",
          "players": 0,
          "players_z": -0.18579510041224945
         },
         {
          "game": "valorant % gain",
          "month": "2023-08-01T00:00:00",
          "players": -2.4,
          "players_z": -0.22897404167006086
         },
         {
          "game": "valorant % gain",
          "month": "2023-09-01T00:00:00",
          "players": 0.6,
          "players_z": -0.1750003650977966
         },
         {
          "game": "valorant % gain",
          "month": "2023-10-01T00:00:00",
          "players": -17.5,
          "players_z": -0.500641547083791
         },
         {
          "game": "valorant % gain",
          "month": "2023-11-01T00:00:00",
          "players": -2.9,
          "players_z": -0.2379696544321049
         },
         {
          "game": "valorant % gain",
          "month": "2023-12-01T00:00:00",
          "players": -3.9,
          "players_z": -0.255960879956193
         },
         {
          "game": "valorant % gain",
          "month": "2024-01-01T00:00:00",
          "players": 18.8,
          "players_z": 0.1524399394406067
         },
         {
          "game": "valorant % gain",
          "month": "2024-02-01T00:00:00",
          "players": 2.3,
          "players_z": -0.1444152817068468
         },
         {
          "game": "valorant % gain",
          "month": "2024-03-01T00:00:00",
          "players": 11.4,
          "players_z": 0.019304870562354803
         },
         {
          "game": "valorant % gain",
          "month": "2024-04-01T00:00:00",
          "players": -2,
          "players_z": -0.22177755146042563
         },
         {
          "game": "valorant % gain",
          "month": "2024-05-01T00:00:00",
          "players": -4.5,
          "players_z": -0.26675561527064584
         },
         {
          "game": "valorant % gain",
          "month": "2024-06-01T00:00:00",
          "players": 5,
          "players_z": -0.09583897279180899
         },
         {
          "game": "valorant % gain",
          "month": "2024-07-01T00:00:00",
          "players": 5.3,
          "players_z": -0.09044160513458256
         },
         {
          "game": "valorant % gain",
          "month": "2024-08-01T00:00:00",
          "players": 8,
          "players_z": -0.04186529621954471
         },
         {
          "game": "valorant % gain",
          "month": "2024-09-01T00:00:00",
          "players": -0.5,
          "players_z": -0.1947907131742935
         },
         {
          "game": "valorant % gain",
          "month": "2024-10-01T00:00:00",
          "players": -13.3,
          "players_z": -0.4250783998826211
         },
         {
          "game": "valorant % gain",
          "month": "2024-11-01T00:00:00",
          "players": -9.6,
          "players_z": -0.35851086544349514
         },
         {
          "game": "valorant % gain",
          "month": "2024-12-01T00:00:00",
          "players": -7,
          "players_z": -0.3117336790808661
         },
         {
          "game": "valorant % gain",
          "month": "2025-01-01T00:00:00",
          "players": 16.2,
          "players_z": 0.10566275307797762
         },
         {
          "game": "valorant % gain",
          "month": "2025-02-01T00:00:00",
          "players": -2.3,
          "players_z": -0.22717491911765206
         },
         {
          "game": "valorant % gain",
          "month": "2025-03-01T00:00:00",
          "players": 5.6,
          "players_z": -0.08504423747735614
         },
         {
          "game": "valorant % gain",
          "month": "2025-04-01T00:00:00",
          "players": -9.6,
          "players_z": -0.35851086544349514
         },
         {
          "game": "valorant % gain",
          "month": "2025-05-01T00:00:00",
          "players": -3.4,
          "players_z": -0.24696526719414896
         },
         {
          "game": "valorant % gain",
          "month": "2025-06-01T00:00:00",
          "players": 1.6,
          "players_z": -0.15700913957370852
         },
         {
          "game": "valorant % gain",
          "month": "2025-07-01T00:00:00",
          "players": -1.7,
          "players_z": -0.21638018380319918
         },
         {
          "game": "valorant % gain",
          "month": "2025-08-01T00:00:00",
          "players": 0,
          "players_z": -0.18579510041224945
         },
         {
          "game": "siege",
          "month": "2020-06-01T00:00:00",
          "players": 126511,
          "players_z": 1.0071601214097767
         },
         {
          "game": "siege",
          "month": "2020-07-01T00:00:00",
          "players": 122461,
          "players_z": 0.8763097543706854
         },
         {
          "game": "siege",
          "month": "2020-08-01T00:00:00",
          "players": 131847,
          "players_z": 1.179559518575355
         },
         {
          "game": "siege",
          "month": "2020-09-01T00:00:00",
          "players": 94285,
          "players_z": -0.03402109543016376
         },
         {
          "game": "siege",
          "month": "2020-10-01T00:00:00",
          "players": 115584,
          "players_z": 0.6541226002650479
         },
         {
          "game": "siege",
          "month": "2020-11-01T00:00:00",
          "players": 95594,
          "players_z": 0.008271035546174666
         },
         {
          "game": "siege",
          "month": "2020-12-01T00:00:00",
          "players": 124103,
          "players_z": 0.9293606933035713
         },
         {
          "game": "siege",
          "month": "2021-01-01T00:00:00",
          "players": 123948,
          "players_z": 0.9243528397502233
         },
         {
          "game": "siege",
          "month": "2021-02-01T00:00:00",
          "players": 113520,
          "players_z": 0.5874373761740147
         },
         {
          "game": "siege",
          "month": "2021-03-01T00:00:00",
          "players": 200879,
          "players_z": 3.409895947573517
         },
         {
          "game": "siege",
          "month": "2021-04-01T00:00:00",
          "players": 142333,
          "players_z": 1.5183488886424936
         },
         {
          "game": "siege",
          "month": "2021-05-01T00:00:00",
          "players": 109202,
          "players_z": 0.4479282687975217
         },
         {
          "game": "siege",
          "month": "2021-06-01T00:00:00",
          "players": 100628,
          "players_z": 0.1709131954658749
         },
         {
          "game": "siege",
          "month": "2021-07-01T00:00:00",
          "players": 90531,
          "players_z": -0.15530807761899068
         },
         {
          "game": "siege",
          "month": "2021-08-01T00:00:00",
          "players": 93607,
          "players_z": -0.05592641613448572
         },
         {
          "game": "siege",
          "month": "2021-09-01T00:00:00",
          "players": 111591,
          "players_z": 0.5251138309842845
         },
         {
          "game": "siege",
          "month": "2021-10-01T00:00:00",
          "players": 80597,
          "players_z": -0.4762630272896904
         },
         {
          "game": "siege",
          "month": "2021-11-01T00:00:00",
          "players": 71383,
          "players_z": -0.7739556894867738
         },
         {
          "game": "siege",
          "month": "2021-12-01T00:00:00",
          "players": 84176,
          "players_z": -0.3606300733062563
         },
         {
          "game": "siege",
          "month": "2022-01-01T00:00:00",
          "players": 75125,
          "players_z": -0.6530564120891739
         },
         {
          "game": "siege",
          "month": "2022-02-01T00:00:00",
          "players": 78156,
          "players_z": -0.5551286435717699
         },
         {
          "game": "siege",
          "month": "2022-03-01T00:00:00",
          "players": 109445,
          "players_z": 0.4557792908198672
         },
         {
          "game": "siege",
          "month": "2022-04-01T00:00:00",
          "players": 93577,
          "players_z": -0.05689567811255307
         },
         {
          "game": "siege",
          "month": "2022-05-01T00:00:00",
          "players": 94285,
          "players_z": -0.03402109543016376
         },
         {
          "game": "siege",
          "month": "2022-06-01T00:00:00",
          "players": 70958,
          "players_z": -0.7876869008427279
         },
         {
          "game": "siege",
          "month": "2022-07-01T00:00:00",
          "players": 64816,
          "players_z": -0.9861271364857154
         },
         {
          "game": "siege",
          "month": "2022-08-01T00:00:00",
          "players": 62393,
          "players_z": -1.0644111955809545
         },
         {
          "game": "siege",
          "month": "2022-09-01T00:00:00",
          "players": 66588,
          "players_z": -0.9288760623145376
         },
         {
          "game": "siege",
          "month": "2022-10-01T00:00:00",
          "players": 54972,
          "players_z": -1.304174300222213
         },
         {
          "game": "siege",
          "month": "2022-11-01T00:00:00",
          "players": 46245,
          "players_z": -1.5861326096420032
         },
         {
          "game": "siege",
          "month": "2022-12-01T00:00:00",
          "players": 64310,
          "players_z": -1.0024753551824512
         },
         {
          "game": "siege",
          "month": "2023-01-01T00:00:00",
          "players": 67039,
          "players_z": -0.9143048239109252
         },
         {
          "game": "siege",
          "month": "2023-02-01T00:00:00",
          "players": 65006,
          "players_z": -0.9799884772912888
         },
         {
          "game": "siege",
          "month": "2023-03-01T00:00:00",
          "players": 88246,
          "players_z": -0.22913353161512
         },
         {
          "game": "siege",
          "month": "2023-04-01T00:00:00",
          "players": 79348,
          "players_z": -0.5166166343098941
         },
         {
          "game": "siege",
          "month": "2023-05-01T00:00:00",
          "players": 66908,
          "players_z": -0.9185372678818192
         },
         {
          "game": "siege",
          "month": "2023-06-01T00:00:00",
          "players": 68586,
          "players_z": -0.8643232145752525
         },
         {
          "game": "siege",
          "month": "2023-07-01T00:00:00",
          "players": 71039,
          "players_z": -0.785069893501946
         },
         {
          "game": "siege",
          "month": "2023-08-01T00:00:00",
          "players": 84758,
          "players_z": -0.3418263909317498
         },
         {
          "game": "siege",
          "month": "2023-09-01T00:00:00",
          "players": 95002,
          "players_z": -0.010855734154354249
         },
         {
          "game": "siege",
          "month": "2023-10-01T00:00:00",
          "players": 94965,
          "players_z": -0.012051157260637305
         },
         {
          "game": "siege",
          "month": "2023-11-01T00:00:00",
          "players": 59892,
          "players_z": -1.1452153358191686
         },
         {
          "game": "siege",
          "month": "2023-12-01T00:00:00",
          "players": 62212,
          "players_z": -1.0702590761819608
         },
         {
          "game": "siege",
          "month": "2024-01-01T00:00:00",
          "players": 94285,
          "players_z": -0.03402109543016376
         },
         {
          "game": "siege",
          "month": "2024-02-01T00:00:00",
          "players": 102219,
          "players_z": 0.22231638903604636
         },
         {
          "game": "siege",
          "month": "2024-03-01T00:00:00",
          "players": 201933,
          "players_z": 3.4439493517362827
         },
         {
          "game": "siege",
          "month": "2024-04-01T00:00:00",
          "players": 156000,
          "players_z": 1.9599123371173732
         },
         {
          "game": "siege",
          "month": "2024-05-01T00:00:00",
          "players": 101431,
          "players_z": 0.1968571077454775
         },
         {
          "game": "siege",
          "month": "2024-06-01T00:00:00",
          "players": 88733,
          "players_z": -0.2133991788378268
         },
         {
          "game": "siege",
          "month": "2024-07-01T00:00:00",
          "players": 73646,
          "players_z": -0.7008410276078939
         },
         {
          "game": "siege",
          "month": "2024-08-01T00:00:00",
          "players": 75693,
          "players_z": -0.6347050519710988
         },
         {
          "game": "siege",
          "month": "2024-09-01T00:00:00",
          "players": 90980,
          "players_z": -0.14080145668058278
         },
         {
          "game": "siege",
          "month": "2024-10-01T00:00:00",
          "players": 76268,
          "players_z": -0.6161275307248081
         },
         {
          "game": "siege",
          "month": "2024-11-01T00:00:00",
          "players": 59030,
          "players_z": -1.1730654633223037
         },
         {
          "game": "siege",
          "month": "2024-12-01T00:00:00",
          "players": 76942,
          "players_z": -0.5943514449508951
         },
         {
          "game": "siege",
          "month": "2025-01-01T00:00:00",
          "players": 95755,
          "players_z": 0.013472741495136076
         },
         {
          "game": "siege",
          "month": "2025-02-01T00:00:00",
          "players": 101606,
          "players_z": 0.2025111359508703
         },
         {
          "game": "siege",
          "month": "2025-03-01T00:00:00",
          "players": 145490,
          "players_z": 1.6203475574677806
         },
         {
          "game": "siege",
          "month": "2025-04-01T00:00:00",
          "players": 107312,
          "players_z": 0.38686476417927906
         },
         {
          "game": "siege",
          "month": "2025-05-01T00:00:00",
          "players": 89179,
          "players_z": -0.19898948409722564
         },
         {
          "game": "siege",
          "month": "2025-06-01T00:00:00",
          "players": 141870,
          "players_z": 1.5033899454476543
         },
         {
          "game": "siege",
          "month": "2025-07-01T00:00:00",
          "players": 111052,
          "players_z": 0.5076994241116746
         },
         {
          "game": "siege",
          "month": "2025-08-01T00:00:00",
          "players": 100219,
          "players_z": 0.1576989238315568
         },
         {
          "game": "siege gain",
          "month": "2020-06-01T00:00:00",
          "players": -20062,
          "players_z": -0.6956798447923774
         },
         {
          "game": "siege gain",
          "month": "2020-07-01T00:00:00",
          "players": -4050,
          "players_z": -0.11930099812843249
         },
         {
          "game": "siege gain",
          "month": "2020-08-01T00:00:00",
          "players": 9386,
          "players_z": 0.36435039980916206
         },
         {
          "game": "siege gain",
          "month": "2020-09-01T00:00:00",
          "players": -37562,
          "players_z": -1.3256217519007358
         },
         {
          "game": "siege gain",
          "month": "2020-10-01T00:00:00",
          "players": 21299,
          "players_z": 0.7931788534881263
         },
         {
          "game": "siege gain",
          "month": "2020-11-01T00:00:00",
          "players": -19990,
          "players_z": -0.6930880838031317
         },
         {
          "game": "siege gain",
          "month": "2020-12-01T00:00:00",
          "players": 28509,
          "players_z": 1.05271491921677
         },
         {
          "game": "siege gain",
          "month": "2021-01-01T00:00:00",
          "players": -155,
          "players_z": 0.020906072053685016
         },
         {
          "game": "siege gain",
          "month": "2021-02-01T00:00:00",
          "players": -10428,
          "players_z": -0.3488878257591245
         },
         {
          "game": "siege gain",
          "month": "2021-03-01T00:00:00",
          "players": 87359,
          "players_z": 3.171119561121164
         },
         {
          "game": "siege gain",
          "month": "2021-04-01T00:00:00",
          "players": -58546,
          "players_z": -2.080976093544267
         },
         {
          "game": "siege gain",
          "month": "2021-05-01T00:00:00",
          "players": -33131,
          "players_z": -1.1661204610208995
         },
         {
          "game": "siege gain",
          "month": "2021-06-01T00:00:00",
          "players": -8574,
          "players_z": -0.2821499802860447
         },
         {
          "game": "siege gain",
          "month": "2021-07-01T00:00:00",
          "players": -10097,
          "players_z": -0.33697292454467503
         },
         {
          "game": "siege gain",
          "month": "2021-08-01T00:00:00",
          "players": 3076,
          "players_z": 0.1372113464460911
         },
         {
          "game": "siege gain",
          "month": "2021-09-01T00:00:00",
          "players": 17984,
          "players_z": 0.6738498579416001
         },
         {
          "game": "siege gain",
          "month": "2021-10-01T00:00:00",
          "players": -30994,
          "players_z": -1.0891955549928676
         },
         {
          "game": "siege gain",
          "month": "2021-11-01T00:00:00",
          "players": -9214,
          "players_z": -0.30518785574600754
         },
         {
          "game": "siege gain",
          "month": "2021-12-01T00:00:00",
          "players": 12793,
          "players_z": 0.4869910899530579
         },
         {
          "game": "siege gain",
          "month": "2022-01-01T00:00:00",
          "players": -9051,
          "players_z": -0.2993203968397983
         },
         {
          "game": "siege gain",
          "month": "2022-02-01T00:00:00",
          "players": 3031,
          "players_z": 0.13559149582781246
         },
         {
          "game": "siege gain",
          "month": "2022-03-01T00:00:00",
          "players": 31289,
          "players_z": 1.1527856907459837
         },
         {
          "game": "siege gain",
          "month": "2022-04-01T00:00:00",
          "players": -15868,
          "players_z": -0.5447097671688086
         },
         {
          "game": "siege gain",
          "month": "2022-05-01T00:00:00",
          "players": 708,
          "players_z": 0.05197120724422864
         },
         {
          "game": "siege gain",
          "month": "2022-06-01T00:00:00",
          "players": -23327,
          "players_z": -0.813209006318594
         },
         {
          "game": "siege gain",
          "month": "2022-07-01T00:00:00",
          "players": -6142,
          "players_z": -0.194606053538186
         },
         {
          "game": "siege gain",
          "month": "2022-08-01T00:00:00",
          "players": -2423,
          "players_z": -0.06073439910755825
         },
         {
          "game": "siege gain",
          "month": "2022-09-01T00:00:00",
          "players": 4195,
          "players_z": 0.17749163182061983
         },
         {
          "game": "siege gain",
          "month": "2022-10-01T00:00:00",
          "players": -11616,
          "players_z": -0.39165188208168056
         },
         {
          "game": "siege gain",
          "month": "2022-11-01T00:00:00",
          "players": -8727,
          "players_z": -0.2876574723881921
         },
         {
          "game": "siege gain",
          "month": "2022-12-01T00:00:00",
          "players": 18065,
          "players_z": 0.6767655890545017
         },
         {
          "game": "siege gain",
          "month": "2023-01-01T00:00:00",
          "players": 2729,
          "players_z": 0.1247204983451425
         },
         {
          "game": "siege gain",
          "month": "2023-02-01T00:00:00",
          "players": -2033,
          "players_z": -0.0466956937491434
         },
         {
          "game": "siege gain",
          "month": "2023-03-01T00:00:00",
          "players": 23240,
          "players_z": 0.8630484101565449
         },
         {
          "game": "siege gain",
          "month": "2023-04-01T00:00:00",
          "players": -8898,
          "players_z": -0.2938129047376509
         },
         {
          "game": "siege gain",
          "month": "2023-05-01T00:00:00",
          "players": -12440,
          "players_z": -0.4213131467363827
         },
         {
          "game": "siege gain",
          "month": "2023-06-01T00:00:00",
          "players": 1678,
          "players_z": 0.08688798723823479
         },
         {
          "game": "siege gain",
          "month": "2023-07-01T00:00:00",
          "players": 2453,
          "players_z": 0.11478541455303354
         },
         {
          "game": "siege gain",
          "month": "2023-08-01T00:00:00",
          "players": 13719,
          "players_z": 0.5203240160091916
         },
         {
          "game": "siege gain",
          "month": "2023-09-01T00:00:00",
          "players": 10244,
          "players_z": 0.3952355515976747
         },
         {
          "game": "siege gain",
          "month": "2023-10-01T00:00:00",
          "players": -37,
          "players_z": 0.025153680341615664
         },
         {
          "game": "siege gain",
          "month": "2023-11-01T00:00:00",
          "players": -35073,
          "players_z": -1.2360260143697241
         },
         {
          "game": "siege gain",
          "month": "2023-12-01T00:00:00",
          "players": 2320,
          "players_z": 0.10999785605901001
         },
         {
          "game": "siege gain",
          "month": "2024-01-01T00:00:00",
          "players": 32073,
          "players_z": 1.1810070881844381
         },
         {
          "game": "siege gain",
          "month": "2024-02-01T00:00:00",
          "players": 7934,
          "players_z": 0.31208321985937143
         },
         {
          "game": "siege gain",
          "month": "2024-03-01T00:00:00",
          "players": 99714,
          "players_z": 3.6158585475396654
         },
         {
          "game": "siege gain",
          "month": "2024-04-01T00:00:00",
          "players": -45933,
          "players_z": -1.6269499635809683
         },
         {
          "game": "siege gain",
          "month": "2024-05-01T00:00:00",
          "players": -54569,
          "players_z": -1.9378172955688417
         },
         {
          "game": "siege gain",
          "month": "2024-06-01T00:00:00",
          "players": -12698,
          "players_z": -0.4306002902811802
         },
         {
          "game": "siege gain",
          "month": "2024-07-01T00:00:00",
          "players": -15087,
          "players_z": -0.5165963597715727
         },
         {
          "game": "siege gain",
          "month": "2024-08-01T00:00:00",
          "players": 2047,
          "players_z": 0.10017076230811961
         },
         {
          "game": "siege gain",
          "month": "2024-09-01T00:00:00",
          "players": 15287,
          "players_z": 0.5767668108861006
         },
         {
          "game": "siege gain",
          "month": "2024-10-01T00:00:00",
          "players": -14712,
          "players_z": -0.5030976046192507
         },
         {
          "game": "siege gain",
          "month": "2024-11-01T00:00:00",
          "players": -17238,
          "players_z": -0.5940252193252915
         },
         {
          "game": "siege gain",
          "month": "2024-12-01T00:00:00",
          "players": 17912,
          "players_z": 0.6712580969523544
         },
         {
          "game": "siege gain",
          "month": "2025-01-01T00:00:00",
          "players": 18813,
          "players_z": 0.7036911059983333
         },
         {
          "game": "siege gain",
          "month": "2025-02-01T00:00:00",
          "players": 5851,
          "players_z": 0.23710213457327364
         },
         {
          "game": "siege gain",
          "month": "2025-03-01T00:00:00",
          "players": 43884,
          "players_z": 1.606163880461971
         },
         {
          "game": "siege gain",
          "month": "2025-04-01T00:00:00",
          "players": -38178,
          "players_z": -1.34779570703095
         },
         {
          "game": "siege gain",
          "month": "2025-05-01T00:00:00",
          "players": -18133,
          "players_z": -0.6262422482888332
         },
         {
          "game": "siege gain",
          "month": "2025-06-01T00:00:00",
          "players": 52691,
          "players_z": 1.9231866447993031
         },
         {
          "game": "siege gain",
          "month": "2025-07-01T00:00:00",
          "players": -30818,
          "players_z": -1.0828601392413777
         },
         {
          "game": "siege gain",
          "month": "2025-08-01T00:00:00",
          "players": -10833,
          "players_z": -0.3634664813236323
         },
         {
          "game": "siege % gain",
          "month": "2020-06-01T00:00:00",
          "players": -13.7,
          "players_z": -0.6041792369508231
         },
         {
          "game": "siege % gain",
          "month": "2020-07-01T00:00:00",
          "players": -3.2,
          "players_z": -0.20991607699919104
         },
         {
          "game": "siege % gain",
          "month": "2020-08-01T00:00:00",
          "players": 7.7,
          "players_z": 0.19936663190297954
         },
         {
          "game": "siege % gain",
          "month": "2020-09-01T00:00:00",
          "players": -28.5,
          "players_z": -1.159902548120743
         },
         {
          "game": "siege % gain",
          "month": "2020-10-01T00:00:00",
          "players": 22.6,
          "players_z": 0.7588448303105337
         },
         {
          "game": "siege % gain",
          "month": "2020-11-01T00:00:00",
          "players": -17.3,
          "players_z": -0.7393551775056685
         },
         {
          "game": "siege % gain",
          "month": "2020-12-01T00:00:00",
          "players": 29.8,
          "players_z": 1.0291967114202245
         },
         {
          "game": "siege % gain",
          "month": "2021-01-01T00:00:00",
          "players": -0.1,
          "players_z": -0.09351457263251867
         },
         {
          "game": "siege % gain",
          "month": "2021-02-01T00:00:00",
          "players": -8.4,
          "players_z": -0.40517021335618986
         },
         {
          "game": "siege % gain",
          "month": "2021-03-01T00:00:00",
          "players": 77,
          "players_z": 2.801503487583752
         },
         {
          "game": "siege % gain",
          "month": "2021-04-01T00:00:00",
          "players": -29.1,
          "players_z": -1.1824318715465505
         },
         {
          "game": "siege % gain",
          "month": "2021-05-01T00:00:00",
          "players": -23.3,
          "players_z": -0.964648411763744
         },
         {
          "game": "siege % gain",
          "month": "2021-06-01T00:00:00",
          "players": -7.9,
          "players_z": -0.3863957771680169
         },
         {
          "game": "siege % gain",
          "month": "2021-07-01T00:00:00",
          "players": -10,
          "players_z": -0.4652484091583433
         },
         {
          "game": "siege % gain",
          "month": "2021-08-01T00:00:00",
          "players": 3.4,
          "players_z": 0.03790648068469206
         },
         {
          "game": "siege % gain",
          "month": "2021-09-01T00:00:00",
          "players": 19.2,
          "players_z": 0.6311786642309577
         },
         {
          "game": "siege % gain",
          "month": "2021-10-01T00:00:00",
          "players": -27.8,
          "players_z": -1.1336183374573008
         },
         {
          "game": "siege % gain",
          "month": "2021-11-01T00:00:00",
          "players": -11.4,
          "players_z": -0.5178168304852276
         },
         {
          "game": "siege % gain",
          "month": "2021-12-01T00:00:00",
          "players": 17.9,
          "players_z": 0.5823651301417079
         },
         {
          "game": "siege % gain",
          "month": "2022-01-01T00:00:00",
          "players": -10.8,
          "players_z": -0.4952875070594201
         },
         {
          "game": "siege % gain",
          "month": "2022-02-01T00:00:00",
          "players": 4,
          "players_z": 0.06043580411049961
         },
         {
          "game": "siege % gain",
          "month": "2022-03-01T00:00:00",
          "players": 40,
          "players_z": 1.4121952096589527
         },
         {
          "game": "siege % gain",
          "month": "2022-04-01T00:00:00",
          "players": -14.5,
          "players_z": -0.6342183348519
         },
         {
          "game": "siege % gain",
          "month": "2022-05-01T00:00:00",
          "players": 0.8,
          "players_z": -0.05972058749380734
         },
         {
          "game": "siege % gain",
          "month": "2022-06-01T00:00:00",
          "players": -24.7,
          "players_z": -1.0172168330906284
         },
         {
          "game": "siege % gain",
          "month": "2022-07-01T00:00:00",
          "players": -8.7,
          "players_z": -0.4164348750690936
         },
         {
          "game": "siege % gain",
          "month": "2022-08-01T00:00:00",
          "players": -3.7,
          "players_z": -0.228690513187364
         },
         {
          "game": "siege % gain",
          "month": "2022-09-01T00:00:00",
          "players": 6.7,
          "players_z": 0.1618177595266336
         },
         {
          "game": "siege % gain",
          "month": "2022-10-01T00:00:00",
          "players": -17.4,
          "players_z": -0.7431100647433031
         },
         {
          "game": "siege % gain",
          "month": "2022-11-01T00:00:00",
          "players": -15.9,
          "players_z": -0.6867867561787843
         },
         {
          "game": "siege % gain",
          "month": "2022-12-01T00:00:00",
          "players": 39.1,
          "players_z": 1.3784012245202415
         },
         {
          "game": "siege % gain",
          "month": "2023-01-01T00:00:00",
          "players": 4.2,
          "players_z": 0.0679455785857688
         },
         {
          "game": "siege % gain",
          "month": "2023-02-01T00:00:00",
          "players": -3,
          "players_z": -0.20240630252392183
         },
         {
          "game": "siege % gain",
          "month": "2023-03-01T00:00:00",
          "players": 35.8,
          "players_z": 1.2544899456782999
         },
         {
          "game": "siege % gain",
          "month": "2023-04-01T00:00:00",
          "players": -10.1,
          "players_z": -0.4690032963959779
         },
         {
          "game": "siege % gain",
          "month": "2023-05-01T00:00:00",
          "players": -15.7,
          "players_z": -0.6792769817035149
         },
         {
          "game": "siege % gain",
          "month": "2023-06-01T00:00:00",
          "players": 2.5,
          "players_z": 0.004112495545980729
         },
         {
          "game": "siege % gain",
          "month": "2023-07-01T00:00:00",
          "players": 3.6,
          "players_z": 0.04541625515996125
         },
         {
          "game": "siege % gain",
          "month": "2023-08-01T00:00:00",
          "players": 19.3,
          "players_z": 0.6349335514685923
         },
         {
          "game": "siege % gain",
          "month": "2023-09-01T00:00:00",
          "players": 12.1,
          "players_z": 0.3645816703589016
         },
         {
          "game": "siege % gain",
          "month": "2023-10-01T00:00:00",
          "players": 0,
          "players_z": -0.08975968539488408
         },
         {
          "game": "siege % gain",
          "month": "2023-11-01T00:00:00",
          "players": -36.9,
          "players_z": -1.4753130760820485
         },
         {
          "game": "siege % gain",
          "month": "2023-12-01T00:00:00",
          "players": 3.9,
          "players_z": 0.05668091687286502
         },
         {
          "game": "siege % gain",
          "month": "2024-01-01T00:00:00",
          "players": 51.6,
          "players_z": 1.8477621292245656
         },
         {
          "game": "siege % gain",
          "month": "2024-02-01T00:00:00",
          "players": 8.4,
          "players_z": 0.22565084256642168
         },
         {
          "game": "siege % gain",
          "month": "2024-03-01T00:00:00",
          "players": 97.5,
          "players_z": 3.5712553712988435
         },
         {
          "game": "siege % gain",
          "month": "2024-04-01T00:00:00",
          "players": -22.7,
          "players_z": -0.9421190883379365
         },
         {
          "game": "siege % gain",
          "month": "2024-05-01T00:00:00",
          "players": -35,
          "players_z": -1.4039702185669913
         },
         {
          "game": "siege % gain",
          "month": "2024-06-01T00:00:00",
          "players": -12.5,
          "players_z": -0.5591205900992081
         },
         {
          "game": "siege % gain",
          "month": "2024-07-01T00:00:00",
          "players": -17,
          "players_z": -0.7280905157927648
         },
         {
          "game": "siege % gain",
          "month": "2024-08-01T00:00:00",
          "players": 2.8,
          "players_z": 0.0153771572588845
         },
         {
          "game": "siege % gain",
          "month": "2024-09-01T00:00:00",
          "players": 20.2,
          "players_z": 0.6687275366073036
         },
         {
          "game": "siege % gain",
          "month": "2024-10-01T00:00:00",
          "players": -16.2,
          "players_z": -0.6980514178916879
         },
         {
          "game": "siege % gain",
          "month": "2024-11-01T00:00:00",
          "players": -22.6,
          "players_z": -0.938364201100302
         },
         {
          "game": "siege % gain",
          "month": "2024-12-01T00:00:00",
          "players": 30.3,
          "players_z": 1.0479711476083975
         },
         {
          "game": "siege % gain",
          "month": "2025-01-01T00:00:00",
          "players": 24.5,
          "players_z": 0.8301876878255909
         },
         {
          "game": "siege % gain",
          "month": "2025-02-01T00:00:00",
          "players": 6.1,
          "players_z": 0.13928843610082603
         },
         {
          "game": "siege % gain",
          "month": "2025-03-01T00:00:00",
          "players": 43.2,
          "players_z": 1.5323516012632599
         },
         {
          "game": "siege % gain",
          "month": "2025-04-01T00:00:00",
          "players": -26.2,
          "players_z": -1.073540141655147
         },
         {
          "game": "siege % gain",
          "month": "2025-05-01T00:00:00",
          "players": -16.9,
          "players_z": -0.7243356285551302
         },
         {
          "game": "siege % gain",
          "month": "2025-06-01T00:00:00",
          "players": 59.1,
          "players_z": 2.12937867204716
         },
         {
          "game": "siege % gain",
          "month": "2025-07-01T00:00:00",
          "players": -21.7,
          "players_z": -0.9045702159615905
         },
         {
          "game": "siege % gain",
          "month": "2025-08-01T00:00:00",
          "players": -9.8,
          "players_z": -0.45773863468307413
         },
         {
          "game": "fortnite",
          "month": "2020-06-01T00:00:00",
          "players": null,
          "players_z": null
         },
         {
          "game": "fortnite",
          "month": "2020-07-01T00:00:00",
          "players": null,
          "players_z": null
         },
         {
          "game": "fortnite",
          "month": "2020-08-01T00:00:00",
          "players": null,
          "players_z": null
         },
         {
          "game": "fortnite",
          "month": "2020-09-01T00:00:00",
          "players": null,
          "players_z": null
         },
         {
          "game": "fortnite",
          "month": "2020-10-01T00:00:00",
          "players": null,
          "players_z": null
         },
         {
          "game": "fortnite",
          "month": "2020-11-01T00:00:00",
          "players": null,
          "players_z": null
         },
         {
          "game": "fortnite",
          "month": "2020-12-01T00:00:00",
          "players": null,
          "players_z": null
         },
         {
          "game": "fortnite",
          "month": "2021-01-01T00:00:00",
          "players": null,
          "players_z": null
         },
         {
          "game": "fortnite",
          "month": "2021-02-01T00:00:00",
          "players": null,
          "players_z": null
         },
         {
          "game": "fortnite",
          "month": "2021-03-01T00:00:00",
          "players": null,
          "players_z": null
         },
         {
          "game": "fortnite",
          "month": "2021-04-01T00:00:00",
          "players": null,
          "players_z": null
         },
         {
          "game": "fortnite",
          "month": "2021-05-01T00:00:00",
          "players": null,
          "players_z": null
         },
         {
          "game": "fortnite",
          "month": "2021-06-01T00:00:00",
          "players": null,
          "players_z": null
         },
         {
          "game": "fortnite",
          "month": "2021-07-01T00:00:00",
          "players": null,
          "players_z": null
         },
         {
          "game": "fortnite",
          "month": "2021-08-01T00:00:00",
          "players": null,
          "players_z": null
         },
         {
          "game": "fortnite",
          "month": "2021-09-01T00:00:00",
          "players": null,
          "players_z": null
         },
         {
          "game": "fortnite",
          "month": "2021-10-01T00:00:00",
          "players": null,
          "players_z": null
         },
         {
          "game": "fortnite",
          "month": "2021-11-01T00:00:00",
          "players": null,
          "players_z": null
         },
         {
          "game": "fortnite",
          "month": "2021-12-01T00:00:00",
          "players": null,
          "players_z": null
         },
         {
          "game": "fortnite",
          "month": "2022-01-01T00:00:00",
          "players": null,
          "players_z": null
         },
         {
          "game": "fortnite",
          "month": "2022-02-01T00:00:00",
          "players": null,
          "players_z": null
         },
         {
          "game": "fortnite",
          "month": "2022-03-01T00:00:00",
          "players": null,
          "players_z": null
         },
         {
          "game": "fortnite",
          "month": "2022-04-01T00:00:00",
          "players": null,
          "players_z": null
         },
         {
          "game": "fortnite",
          "month": "2022-05-01T00:00:00",
          "players": null,
          "players_z": null
         },
         {
          "game": "fortnite",
          "month": "2022-06-01T00:00:00",
          "players": null,
          "players_z": null
         },
         {
          "game": "fortnite",
          "month": "2022-07-01T00:00:00",
          "players": null,
          "players_z": null
         },
         {
          "game": "fortnite",
          "month": "2022-08-01T00:00:00",
          "players": null,
          "players_z": null
         },
         {
          "game": "fortnite",
          "month": "2022-09-01T00:00:00",
          "players": null,
          "players_z": null
         },
         {
          "game": "fortnite",
          "month": "2022-10-01T00:00:00",
          "players": null,
          "players_z": null
         },
         {
          "game": "fortnite",
          "month": "2022-11-01T00:00:00",
          "players": null,
          "players_z": null
         },
         {
          "game": "fortnite",
          "month": "2022-12-01T00:00:00",
          "players": null,
          "players_z": null
         },
         {
          "game": "fortnite",
          "month": "2023-01-01T00:00:00",
          "players": null,
          "players_z": null
         },
         {
          "game": "fortnite",
          "month": "2023-02-01T00:00:00",
          "players": null,
          "players_z": null
         },
         {
          "game": "fortnite",
          "month": "2023-03-01T00:00:00",
          "players": null,
          "players_z": null
         },
         {
          "game": "fortnite",
          "month": "2023-04-01T00:00:00",
          "players": 1834545,
          "players_z": -0.7545540745303746
         },
         {
          "game": "fortnite",
          "month": "2023-05-01T00:00:00",
          "players": 1813911,
          "players_z": -0.7613846942882806
         },
         {
          "game": "fortnite",
          "month": "2023-06-01T00:00:00",
          "players": 2126246,
          "players_z": -0.65799021807981
         },
         {
          "game": "fortnite",
          "month": "2023-07-01T00:00:00",
          "players": 1811203,
          "players_z": -0.7622811427861196
         },
         {
          "game": "fortnite",
          "month": "2023-08-01T00:00:00",
          "players": 2817867,
          "players_z": -0.42903800001337905
         },
         {
          "game": "fortnite",
          "month": "2023-09-01T00:00:00",
          "players": 2336901,
          "players_z": -0.5882555953647912
         },
         {
          "game": "fortnite",
          "month": "2023-10-01T00:00:00",
          "players": 2342751,
          "players_z": -0.5863190282627387
         },
         {
          "game": "fortnite",
          "month": "2023-11-01T00:00:00",
          "players": 6172463,
          "players_z": 0.6814577699484596
         },
         {
          "game": "fortnite",
          "month": "2023-12-01T00:00:00",
          "players": 11616374,
          "players_z": 2.483594342444439
         },
         {
          "game": "fortnite",
          "month": "2024-01-01T00:00:00",
          "players": 4873898,
          "players_z": 0.25158456330286205
         },
         {
          "game": "fortnite",
          "month": "2024-02-01T00:00:00",
          "players": 4469098,
          "players_z": 0.11758074058306142
         },
         {
          "game": "fortnite",
          "month": "2024-03-01T00:00:00",
          "players": 5152863,
          "players_z": 0.3439323311018472
         },
         {
          "game": "fortnite",
          "month": "2024-04-01T00:00:00",
          "players": 2861907,
          "players_z": -0.4144591256245944
         },
         {
          "game": "fortnite",
          "month": "2024-05-01T00:00:00",
          "players": 2475044,
          "players_z": -0.5425251356761019
         },
         {
          "game": "fortnite",
          "month": "2024-06-01T00:00:00",
          "players": 2128213,
          "players_z": -0.6573390680815643
         },
         {
          "game": "fortnite",
          "month": "2024-07-01T00:00:00",
          "players": 2882945,
          "players_z": -0.40749476687365777
         },
         {
          "game": "fortnite",
          "month": "2024-08-01T00:00:00",
          "players": 3235781,
          "players_z": -0.2906929566138663
         },
         {
          "game": "fortnite",
          "month": "2024-09-01T00:00:00",
          "players": 2671278,
          "players_z": -0.47756439914547605
         },
         {
          "game": "fortnite",
          "month": "2024-10-01T00:00:00",
          "players": 9846962,
          "players_z": 1.897853304978313
         },
         {
          "game": "fortnite",
          "month": "2024-11-01T00:00:00",
          "players": 14343880,
          "players_z": 3.3865000501795985
         },
         {
          "game": "fortnite",
          "month": "2024-12-01T00:00:00",
          "players": 4152336,
          "players_z": 0.012720763082148662
         },
         {
          "game": "fortnite",
          "month": "2025-01-01T00:00:00",
          "players": 3652571,
          "players_z": -0.15271999892763682
         },
         {
          "game": "fortnite",
          "month": "2025-02-01T00:00:00",
          "players": 4109301,
          "players_z": -0.0015254190096167027
         },
         {
          "game": "fortnite",
          "month": "2025-03-01T00:00:00",
          "players": 2757129,
          "players_z": -0.44914453208935545
         },
         {
          "game": "fortnite",
          "month": "2025-04-01T00:00:00",
          "players": 2132493,
          "players_z": -0.6559222292445072
         },
         {
          "game": "fortnite",
          "month": "2025-05-01T00:00:00",
          "players": 2356174,
          "players_z": -0.5818755171155848
         },
         {
          "game": "fortnite",
          "month": "2025-06-01T00:00:00",
          "players": 5948454,
          "players_z": 0.6073024776469779
         },
         {
          "game": "fortnite",
          "month": "2025-07-01T00:00:00",
          "players": 2396423,
          "players_z": -0.5685516044163526
         },
         {
          "game": "fortnite",
          "month": "2025-08-01T00:00:00",
          "players": 3984350,
          "players_z": -0.04288883712389983
         },
         {
          "game": "fortnite gain",
          "month": "2020-06-01T00:00:00",
          "players": null,
          "players_z": null
         },
         {
          "game": "fortnite gain",
          "month": "2020-07-01T00:00:00",
          "players": null,
          "players_z": null
         },
         {
          "game": "fortnite gain",
          "month": "2020-08-01T00:00:00",
          "players": null,
          "players_z": null
         },
         {
          "game": "fortnite gain",
          "month": "2020-09-01T00:00:00",
          "players": null,
          "players_z": null
         },
         {
          "game": "fortnite gain",
          "month": "2020-10-01T00:00:00",
          "players": null,
          "players_z": null
         },
         {
          "game": "fortnite gain",
          "month": "2020-11-01T00:00:00",
          "players": null,
          "players_z": null
         },
         {
          "game": "fortnite gain",
          "month": "2020-12-01T00:00:00",
          "players": null,
          "players_z": null
         },
         {
          "game": "fortnite gain",
          "month": "2021-01-01T00:00:00",
          "players": null,
          "players_z": null
         },
         {
          "game": "fortnite gain",
          "month": "2021-02-01T00:00:00",
          "players": null,
          "players_z": null
         },
         {
          "game": "fortnite gain",
          "month": "2021-03-01T00:00:00",
          "players": null,
          "players_z": null
         },
         {
          "game": "fortnite gain",
          "month": "2021-04-01T00:00:00",
          "players": null,
          "players_z": null
         },
         {
          "game": "fortnite gain",
          "month": "2021-05-01T00:00:00",
          "players": null,
          "players_z": null
         },
         {
          "game": "fortnite gain",
          "month": "2021-06-01T00:00:00",
          "players": null,
          "players_z": null
         },
         {
          "game": "fortnite gain",
          "month": "2021-07-01T00:00:00",
          "players": null,
          "players_z": null
         },
         {
          "game": "fortnite gain",
          "month": "2021-08-01T00:00:00",
          "players": null,
          "players_z": null
         },
         {
          "game": "fortnite gain",
          "month": "2021-09-01T00:00:00",
          "players": null,
          "players_z": null
         },
         {
          "game": "fortnite gain",
          "month": "2021-10-01T00:00:00",
          "players": null,
          "players_z": null
         },
         {
          "game": "fortnite gain",
          "month": "2021-11-01T00:00:00",
          "players": null,
          "players_z": null
         },
         {
          "game": "fortnite gain",
          "month": "2021-12-01T00:00:00",
          "players": null,
          "players_z": null
         },
         {
          "game": "fortnite gain",
          "month": "2022-01-01T00:00:00",
          "players": null,
          "players_z": null
         },
         {
          "game": "fortnite gain",
          "month": "2022-02-01T00:00:00",
          "players": null,
          "players_z": null
         },
         {
          "game": "fortnite gain",
          "month": "2022-03-01T00:00:00",
          "players": null,
          "players_z": null
         },
         {
          "game": "fortnite gain",
          "month": "2022-04-01T00:00:00",
          "players": null,
          "players_z": null
         },
         {
          "game": "fortnite gain",
          "month": "2022-05-01T00:00:00",
          "players": null,
          "players_z": null
         },
         {
          "game": "fortnite gain",
          "month": "2022-06-01T00:00:00",
          "players": null,
          "players_z": null
         },
         {
          "game": "fortnite gain",
          "month": "2022-07-01T00:00:00",
          "players": null,
          "players_z": null
         },
         {
          "game": "fortnite gain",
          "month": "2022-08-01T00:00:00",
          "players": null,
          "players_z": null
         },
         {
          "game": "fortnite gain",
          "month": "2022-09-01T00:00:00",
          "players": null,
          "players_z": null
         },
         {
          "game": "fortnite gain",
          "month": "2022-10-01T00:00:00",
          "players": null,
          "players_z": null
         },
         {
          "game": "fortnite gain",
          "month": "2022-11-01T00:00:00",
          "players": null,
          "players_z": null
         },
         {
          "game": "fortnite gain",
          "month": "2022-12-01T00:00:00",
          "players": null,
          "players_z": null
         },
         {
          "game": "fortnite gain",
          "month": "2023-01-01T00:00:00",
          "players": null,
          "players_z": null
         },
         {
          "game": "fortnite gain",
          "month": "2023-02-01T00:00:00",
          "players": null,
          "players_z": null
         },
         {
          "game": "fortnite gain",
          "month": "2023-03-01T00:00:00",
          "players": null,
          "players_z": null
         },
         {
          "game": "fortnite gain",
          "month": "2023-04-01T00:00:00",
          "players": 0,
          "players_z": -0.022477304872695534
         },
         {
          "game": "fortnite gain",
          "month": "2023-05-01T00:00:00",
          "players": -20634,
          "players_z": -0.02873373489939693
         },
         {
          "game": "fortnite gain",
          "month": "2023-06-01T00:00:00",
          "players": 312335,
          "players_z": 0.07222571307776389
         },
         {
          "game": "fortnite gain",
          "month": "2023-07-01T00:00:00",
          "players": -315043,
          "players_z": -0.11800141483208718
         },
         {
          "game": "fortnite gain",
          "month": "2023-08-01T00:00:00",
          "players": 1006664,
          "players_z": 0.2827530371065296
         },
         {
          "game": "fortnite gain",
          "month": "2023-09-01T00:00:00",
          "players": -480966,
          "players_z": -0.16831088654481255
         },
         {
          "game": "fortnite gain",
          "month": "2023-10-01T00:00:00",
          "players": 5850,
          "players_z": -0.020703527822380368
         },
         {
          "game": "fortnite gain",
          "month": "2023-11-01T00:00:00",
          "players": 3829712,
          "players_z": 1.1387287216087743
         },
         {
          "game": "fortnite gain",
          "month": "2023-12-01T00:00:00",
          "players": 5443911,
          "players_z": 1.6281696003851318
         },
         {
          "game": "fortnite gain",
          "month": "2024-01-01T00:00:00",
          "players": -6742476,
          "players_z": -2.066861781983944
         },
         {
          "game": "fortnite gain",
          "month": "2024-02-01T00:00:00",
          "players": -404800,
          "players_z": -0.14521661255946125
         },
         {
          "game": "fortnite gain",
          "month": "2024-03-01T00:00:00",
          "players": 683765,
          "players_z": 0.1848469113339284
         },
         {
          "game": "fortnite gain",
          "month": "2024-04-01T00:00:00",
          "players": -2290956,
          "players_z": -0.7171175059123253
         },
         {
          "game": "fortnite gain",
          "month": "2024-05-01T00:00:00",
          "players": -386863,
          "players_z": -0.139777939234418
         },
         {
          "game": "fortnite gain",
          "month": "2024-06-01T00:00:00",
          "players": -346831,
          "players_z": -0.12763984643472281
         },
         {
          "game": "fortnite gain",
          "month": "2024-07-01T00:00:00",
          "players": 754732,
          "players_z": 0.2063647978176406
         },
         {
          "game": "fortnite gain",
          "month": "2024-08-01T00:00:00",
          "players": 352836,
          "players_z": 0.08450601125123647
         },
         {
          "game": "fortnite gain",
          "month": "2024-09-01T00:00:00",
          "players": -564503,
          "players_z": -0.19364011961356095
         },
         {
          "game": "fortnite gain",
          "month": "2024-10-01T00:00:00",
          "players": 7175684,
          "players_z": 2.15326006256555
         },
         {
          "game": "fortnite gain",
          "month": "2024-11-01T00:00:00",
          "players": 4496918,
          "players_z": 1.3410320875288735
         },
         {
          "game": "fortnite gain",
          "month": "2024-12-01T00:00:00",
          "players": -10191544,
          "players_z": -3.1126528355525647
         },
         {
          "game": "fortnite gain",
          "month": "2025-01-01T00:00:00",
          "players": -499765,
          "players_z": -0.17401092667624415
         },
         {
          "game": "fortnite gain",
          "month": "2025-02-01T00:00:00",
          "players": 456730,
          "players_z": 0.11600768524532945
         },
         {
          "game": "fortnite gain",
          "month": "2025-03-01T00:00:00",
          "players": -1352172,
          "players_z": -0.43246904191179975
         },
         {
          "game": "fortnite gain",
          "month": "2025-04-01T00:00:00",
          "players": -624636,
          "players_z": -0.2118730316420399
         },
         {
          "game": "fortnite gain",
          "month": "2025-05-01T00:00:00",
          "players": 223681,
          "players_z": 0.045344955707056066
         },
         {
          "game": "fortnite gain",
          "month": "2025-06-01T00:00:00",
          "players": 3592280,
          "players_z": 1.0667370237266494
         },
         {
          "game": "fortnite gain",
          "month": "2025-07-01T00:00:00",
          "players": -3552031,
          "players_z": -1.09948774415612
         },
         {
          "game": "fortnite gain",
          "month": "2025-08-01T00:00:00",
          "players": 1587927,
          "players_z": 0.45899764729410997
         },
         {
          "game": "fortnite % gain",
          "month": "2020-06-01T00:00:00",
          "players": null,
          "players_z": null
         },
         {
          "game": "fortnite % gain",
          "month": "2020-07-01T00:00:00",
          "players": null,
          "players_z": null
         },
         {
          "game": "fortnite % gain",
          "month": "2020-08-01T00:00:00",
          "players": null,
          "players_z": null
         },
         {
          "game": "fortnite % gain",
          "month": "2020-09-01T00:00:00",
          "players": null,
          "players_z": null
         },
         {
          "game": "fortnite % gain",
          "month": "2020-10-01T00:00:00",
          "players": null,
          "players_z": null
         },
         {
          "game": "fortnite % gain",
          "month": "2020-11-01T00:00:00",
          "players": null,
          "players_z": null
         },
         {
          "game": "fortnite % gain",
          "month": "2020-12-01T00:00:00",
          "players": null,
          "players_z": null
         },
         {
          "game": "fortnite % gain",
          "month": "2021-01-01T00:00:00",
          "players": null,
          "players_z": null
         },
         {
          "game": "fortnite % gain",
          "month": "2021-02-01T00:00:00",
          "players": null,
          "players_z": null
         },
         {
          "game": "fortnite % gain",
          "month": "2021-03-01T00:00:00",
          "players": null,
          "players_z": null
         },
         {
          "game": "fortnite % gain",
          "month": "2021-04-01T00:00:00",
          "players": null,
          "players_z": null
         },
         {
          "game": "fortnite % gain",
          "month": "2021-05-01T00:00:00",
          "players": null,
          "players_z": null
         },
         {
          "game": "fortnite % gain",
          "month": "2021-06-01T00:00:00",
          "players": null,
          "players_z": null
         },
         {
          "game": "fortnite % gain",
          "month": "2021-07-01T00:00:00",
          "players": null,
          "players_z": null
         },
         {
          "game": "fortnite % gain",
          "month": "2021-08-01T00:00:00",
          "players": null,
          "players_z": null
         },
         {
          "game": "fortnite % gain",
          "month": "2021-09-01T00:00:00",
          "players": null,
          "players_z": null
         },
         {
          "game": "fortnite % gain",
          "month": "2021-10-01T00:00:00",
          "players": null,
          "players_z": null
         },
         {
          "game": "fortnite % gain",
          "month": "2021-11-01T00:00:00",
          "players": null,
          "players_z": null
         },
         {
          "game": "fortnite % gain",
          "month": "2021-12-01T00:00:00",
          "players": null,
          "players_z": null
         },
         {
          "game": "fortnite % gain",
          "month": "2022-01-01T00:00:00",
          "players": null,
          "players_z": null
         },
         {
          "game": "fortnite % gain",
          "month": "2022-02-01T00:00:00",
          "players": null,
          "players_z": null
         },
         {
          "game": "fortnite % gain",
          "month": "2022-03-01T00:00:00",
          "players": null,
          "players_z": null
         },
         {
          "game": "fortnite % gain",
          "month": "2022-04-01T00:00:00",
          "players": null,
          "players_z": null
         },
         {
          "game": "fortnite % gain",
          "month": "2022-05-01T00:00:00",
          "players": null,
          "players_z": null
         },
         {
          "game": "fortnite % gain",
          "month": "2022-06-01T00:00:00",
          "players": null,
          "players_z": null
         },
         {
          "game": "fortnite % gain",
          "month": "2022-07-01T00:00:00",
          "players": null,
          "players_z": null
         },
         {
          "game": "fortnite % gain",
          "month": "2022-08-01T00:00:00",
          "players": null,
          "players_z": null
         },
         {
          "game": "fortnite % gain",
          "month": "2022-09-01T00:00:00",
          "players": null,
          "players_z": null
         },
         {
          "game": "fortnite % gain",
          "month": "2022-10-01T00:00:00",
          "players": null,
          "players_z": null
         },
         {
          "game": "fortnite % gain",
          "month": "2022-11-01T00:00:00",
          "players": null,
          "players_z": null
         },
         {
          "game": "fortnite % gain",
          "month": "2022-12-01T00:00:00",
          "players": null,
          "players_z": null
         },
         {
          "game": "fortnite % gain",
          "month": "2023-01-01T00:00:00",
          "players": null,
          "players_z": null
         },
         {
          "game": "fortnite % gain",
          "month": "2023-02-01T00:00:00",
          "players": null,
          "players_z": null
         },
         {
          "game": "fortnite % gain",
          "month": "2023-03-01T00:00:00",
          "players": null,
          "players_z": null
         },
         {
          "game": "fortnite % gain",
          "month": "2023-04-01T00:00:00",
          "players": 0,
          "players_z": -0.26411333291518796
         },
         {
          "game": "fortnite % gain",
          "month": "2023-05-01T00:00:00",
          "players": -1.1,
          "players_z": -0.27924482594678723
         },
         {
          "game": "fortnite % gain",
          "month": "2023-06-01T00:00:00",
          "players": 17.2,
          "players_z": -0.027511805511998787
         },
         {
          "game": "fortnite % gain",
          "month": "2023-07-01T00:00:00",
          "players": -14.8,
          "players_z": -0.46770069370397854
         },
         {
          "game": "fortnite % gain",
          "month": "2023-08-01T00:00:00",
          "players": 55.6,
          "players_z": 0.500714860318377
         },
         {
          "game": "fortnite % gain",
          "month": "2023-09-01T00:00:00",
          "players": -17.1,
          "players_z": -0.4993392700427772
         },
         {
          "game": "fortnite % gain",
          "month": "2023-10-01T00:00:00",
          "players": 0.3,
          "players_z": -0.2599865620883881
         },
         {
          "game": "fortnite % gain",
          "month": "2023-11-01T00:00:00",
          "players": 163.5,
          "players_z": 1.984976767690709
         },
         {
          "game": "fortnite % gain",
          "month": "2023-12-01T00:00:00",
          "players": 88.2,
          "players_z": 0.9491572901639564
         },
         {
          "game": "fortnite % gain",
          "month": "2024-01-01T00:00:00",
          "players": -58,
          "players_z": -1.0619556927631513
         },
         {
          "game": "fortnite % gain",
          "month": "2024-02-01T00:00:00",
          "players": -8.3,
          "players_z": -0.3782873257899827
         },
         {
          "game": "fortnite % gain",
          "month": "2024-03-01T00:00:00",
          "players": 15.3,
          "players_z": -0.05364802074839757
         },
         {
          "game": "fortnite % gain",
          "month": "2024-04-01T00:00:00",
          "players": -44.5,
          "players_z": -0.8762510055571598
         },
         {
          "game": "fortnite % gain",
          "month": "2024-05-01T00:00:00",
          "players": -13.5,
          "players_z": -0.44981802012117944
         },
         {
          "game": "fortnite % gain",
          "month": "2024-06-01T00:00:00",
          "players": -14,
          "players_z": -0.4566959714991791
         },
         {
          "game": "fortnite % gain",
          "month": "2024-07-01T00:00:00",
          "players": 35.5,
          "players_z": 0.22422121492278968
         },
         {
          "game": "fortnite % gain",
          "month": "2024-08-01T00:00:00",
          "players": 12.2,
          "players_z": -0.09629131929199564
         },
         {
          "game": "fortnite % gain",
          "month": "2024-09-01T00:00:00",
          "players": -17.4,
          "players_z": -0.5034660408695769
         },
         {
          "game": "fortnite % gain",
          "month": "2024-10-01T00:00:00",
          "players": 268.6,
          "players_z": 3.430722147346243
         },
         {
          "game": "fortnite % gain",
          "month": "2024-11-01T00:00:00",
          "players": 45.7,
          "players_z": 0.3645314230339833
         },
         {
          "game": "fortnite % gain",
          "month": "2024-12-01T00:00:00",
          "players": -71.1,
          "players_z": -1.242158018866743
         },
         {
          "game": "fortnite % gain",
          "month": "2025-01-01T00:00:00",
          "players": -12,
          "players_z": -0.42918416598718034
         },
         {
          "game": "fortnite % gain",
          "month": "2025-02-01T00:00:00",
          "players": 12.5,
          "players_z": -0.09216454846519581
         },
         {
          "game": "fortnite % gain",
          "month": "2025-03-01T00:00:00",
          "players": -32.9,
          "players_z": -0.7166825335875672
         },
         {
          "game": "fortnite % gain",
          "month": "2025-04-01T00:00:00",
          "players": -22.7,
          "players_z": -0.5763723254763736
         },
         {
          "game": "fortnite % gain",
          "month": "2025-05-01T00:00:00",
          "players": 10.5,
          "players_z": -0.11967635397719455
         },
         {
          "game": "fortnite % gain",
          "month": "2025-06-01T00:00:00",
          "players": 152.5,
          "players_z": 1.833661837374716
         },
         {
          "game": "fortnite % gain",
          "month": "2025-07-01T00:00:00",
          "players": -59.7,
          "players_z": -1.0853407274483504
         },
         {
          "game": "fortnite % gain",
          "month": "2025-08-01T00:00:00",
          "players": 66.3,
          "players_z": 0.6479030198075703
         },
         {
          "game": "battlefield",
          "month": "2020-06-01T00:00:00",
          "players": 5172,
          "players_z": -1.5018032902904057
         },
         {
          "game": "battlefield",
          "month": "2020-07-01T00:00:00",
          "players": 4696,
          "players_z": -1.512511238393521
         },
         {
          "game": "battlefield",
          "month": "2020-08-01T00:00:00",
          "players": 16020,
          "players_z": -1.257770052847976
         },
         {
          "game": "battlefield",
          "month": "2020-09-01T00:00:00",
          "players": 7273,
          "players_z": -1.4545398470873687
         },
         {
          "game": "battlefield",
          "month": "2020-10-01T00:00:00",
          "players": 15854,
          "players_z": -1.261504337270491
         },
         {
          "game": "battlefield",
          "month": "2020-11-01T00:00:00",
          "players": 16753,
          "players_z": -1.2412807125967498
         },
         {
          "game": "battlefield",
          "month": "2020-12-01T00:00:00",
          "players": 17240,
          "players_z": -1.2303253119114195
         },
         {
          "game": "battlefield",
          "month": "2021-01-01T00:00:00",
          "players": 17685,
          "players_z": -1.2203147301763642
         },
         {
          "game": "battlefield",
          "month": "2021-02-01T00:00:00",
          "players": 37799,
          "players_z": -0.7678364357518591
         },
         {
          "game": "battlefield",
          "month": "2021-03-01T00:00:00",
          "players": 24348,
          "players_z": -1.0704259524220399
         },
         {
          "game": "battlefield",
          "month": "2021-04-01T00:00:00",
          "players": 39782,
          "players_z": -0.7232274838853088
         },
         {
          "game": "battlefield",
          "month": "2021-05-01T00:00:00",
          "players": 24379,
          "players_z": -1.0697285860539798
         },
         {
          "game": "battlefield",
          "month": "2021-06-01T00:00:00",
          "players": 55194,
          "players_z": -0.37652392051300726
         },
         {
          "game": "battlefield",
          "month": "2021-07-01T00:00:00",
          "players": 84445,
          "players_z": 0.28149748697487165
         },
         {
          "game": "battlefield",
          "month": "2021-08-01T00:00:00",
          "players": 129643,
          "players_z": 1.2982576516064108
         },
         {
          "game": "battlefield",
          "month": "2021-09-01T00:00:00",
          "players": 110502,
          "players_z": 0.8676676628632741
         },
         {
          "game": "battlefield",
          "month": "2021-10-01T00:00:00",
          "players": 125347,
          "players_z": 1.2016161704068646
         },
         {
          "game": "battlefield",
          "month": "2021-11-01T00:00:00",
          "players": 166754,
          "players_z": 2.1330951769314486
         },
         {
          "game": "battlefield",
          "month": "2021-12-01T00:00:00",
          "players": 89603,
          "players_z": 0.3975302523443455
         },
         {
          "game": "battlefield",
          "month": "2022-01-01T00:00:00",
          "players": 58521,
          "players_z": -0.3016807622376603
         },
         {
          "game": "battlefield",
          "month": "2022-02-01T00:00:00",
          "players": 54568,
          "players_z": -0.39060622200996165
         },
         {
          "game": "battlefield",
          "month": "2022-03-01T00:00:00",
          "players": 49881,
          "players_z": -0.4960435177227813
         },
         {
          "game": "battlefield",
          "month": "2022-04-01T00:00:00",
          "players": 45760,
          "players_z": -0.5887482532961822
         },
         {
          "game": "battlefield",
          "month": "2022-05-01T00:00:00",
          "players": 36054,
          "players_z": -0.8070914135668517
         },
         {
          "game": "battlefield",
          "month": "2022-06-01T00:00:00",
          "players": 45918,
          "players_z": -0.5851939343880052
         },
         {
          "game": "battlefield",
          "month": "2022-07-01T00:00:00",
          "players": 42827,
          "players_z": -0.6547281099903789
         },
         {
          "game": "battlefield",
          "month": "2022-08-01T00:00:00",
          "players": 50501,
          "players_z": -0.4820961903615805
         },
         {
          "game": "battlefield",
          "month": "2022-09-01T00:00:00",
          "players": 56221,
          "players_z": -0.35342084760985687
         },
         {
          "game": "battlefield",
          "month": "2022-10-01T00:00:00",
          "players": 48122,
          "players_z": -0.5356134351878655
         },
         {
          "game": "battlefield",
          "month": "2022-11-01T00:00:00",
          "players": 135995,
          "players_z": 1.4411502699908423
         },
         {
          "game": "battlefield",
          "month": "2022-12-01T00:00:00",
          "players": 129950,
          "players_z": 1.3051638282191345
         },
         {
          "game": "battlefield",
          "month": "2023-01-01T00:00:00",
          "players": 85377,
          "players_z": 0.3024634693952574
         },
         {
          "game": "battlefield",
          "month": "2023-02-01T00:00:00",
          "players": 76714,
          "players_z": 0.10758331305641446
         },
         {
          "game": "battlefield",
          "month": "2023-03-01T00:00:00",
          "players": 68891,
          "players_z": -0.06840046427693063
         },
         {
          "game": "battlefield",
          "month": "2023-04-01T00:00:00",
          "players": 61209,
          "players_z": -0.24121234942006714
         },
         {
          "game": "battlefield",
          "month": "2023-05-01T00:00:00",
          "players": 57394,
          "players_z": -0.3270334040700366
         },
         {
          "game": "battlefield",
          "month": "2023-06-01T00:00:00",
          "players": 56705,
          "players_z": -0.34253293399240337
         },
         {
          "game": "battlefield",
          "month": "2023-07-01T00:00:00",
          "players": 49899,
          "players_z": -0.4956385953155206
         },
         {
          "game": "battlefield",
          "month": "2023-08-01T00:00:00",
          "players": 47983,
          "players_z": -0.5387403359994896
         },
         {
          "game": "battlefield",
          "month": "2023-09-01T00:00:00",
          "players": 44710,
          "players_z": -0.6123687270530546
         },
         {
          "game": "battlefield",
          "month": "2023-10-01T00:00:00",
          "players": 165411,
          "players_z": 2.102883466211944
         },
         {
          "game": "battlefield",
          "month": "2023-11-01T00:00:00",
          "players": 212581,
          "players_z": 3.1640051301278183
         },
         {
          "game": "battlefield",
          "month": "2023-12-01T00:00:00",
          "players": 184128,
          "players_z": 2.5239352826951627
         },
         {
          "game": "battlefield",
          "month": "2024-01-01T00:00:00",
          "players": 120407,
          "players_z": 1.0904874653031034
         },
         {
          "game": "battlefield",
          "month": "2024-02-01T00:00:00",
          "players": 110298,
          "players_z": 0.8630785422476532
         },
         {
          "game": "battlefield",
          "month": "2024-03-01T00:00:00",
          "players": 119930,
          "players_z": 1.0797570215106955
         },
         {
          "game": "battlefield",
          "month": "2024-04-01T00:00:00",
          "players": 82059,
          "players_z": 0.2278227723235408
         },
         {
          "game": "battlefield",
          "month": "2024-05-01T00:00:00",
          "players": 73884,
          "players_z": 0.04392051235932043
         },
         {
          "game": "battlefield",
          "month": "2024-06-01T00:00:00",
          "players": 94969,
          "players_z": 0.5182421210866093
         },
         {
          "game": "battlefield",
          "month": "2024-07-01T00:00:00",
          "players": 100692,
          "players_z": 0.6469849509062097
         },
         {
          "game": "battlefield",
          "month": "2024-08-01T00:00:00",
          "players": 83865,
          "players_z": 0.2684499871853612
         },
         {
          "game": "battlefield",
          "month": "2024-09-01T00:00:00",
          "players": 76216,
          "players_z": 0.09638045978886929
         },
         {
          "game": "battlefield",
          "month": "2024-10-01T00:00:00",
          "players": 76675,
          "players_z": 0.10670598117401633
         },
         {
          "game": "battlefield",
          "month": "2024-11-01T00:00:00",
          "players": 93875,
          "players_z": 0.49363183700087754
         },
         {
          "game": "battlefield",
          "month": "2024-12-01T00:00:00",
          "players": 74582,
          "players_z": 0.059622503485317474
         },
         {
          "game": "battlefield",
          "month": "2025-01-01T00:00:00",
          "players": 76175,
          "players_z": 0.09545813652788665
         },
         {
          "game": "battlefield",
          "month": "2025-02-01T00:00:00",
          "players": 89933,
          "players_z": 0.4049538298107911
         },
         {
          "game": "battlefield",
          "month": "2025-03-01T00:00:00",
          "players": 81088,
          "players_z": 0.20597945802075696
         },
         {
          "game": "battlefield",
          "month": "2025-04-01T00:00:00",
          "players": 52747,
          "players_z": -0.43157087221116597
         },
         {
          "game": "battlefield",
          "month": "2025-05-01T00:00:00",
          "players": 59146,
          "players_z": -0.28762095642999824
         },
         {
          "game": "battlefield",
          "month": "2025-06-01T00:00:00",
          "players": 45532,
          "players_z": -0.5938772704548173
         },
         {
          "game": "battlefield",
          "month": "2025-07-01T00:00:00",
          "players": 44634,
          "players_z": -0.6140783994392662
         },
         {
          "game": "battlefield",
          "month": "2025-08-01T00:00:00",
          "players": 121175,
          "players_z": 1.1077641546795585
         },
         {
          "game": "battlefield gain",
          "month": "2020-06-01T00:00:00",
          "players": 0,
          "players_z": -0.005447122021660276
         },
         {
          "game": "battlefield gain",
          "month": "2020-07-01T00:00:00",
          "players": -476,
          "players_z": -0.020848620719147393
         },
         {
          "game": "battlefield gain",
          "month": "2020-08-01T00:00:00",
          "players": 11324,
          "players_z": 0.3609532377479702
         },
         {
          "game": "battlefield gain",
          "month": "2020-09-01T00:00:00",
          "players": -8747,
          "players_z": -0.28846583863283637
         },
         {
          "game": "battlefield gain",
          "month": "2020-10-01T00:00:00",
          "players": 8581,
          "players_z": 0.2722004836992157
         },
         {
          "game": "battlefield gain",
          "month": "2020-11-01T00:00:00",
          "players": 899,
          "players_z": 0.023641002619181988
         },
         {
          "game": "battlefield gain",
          "month": "2020-12-01T00:00:00",
          "players": 487,
          "players_z": 0.010310293662533474
         },
         {
          "game": "battlefield gain",
          "month": "2021-01-01T00:00:00",
          "players": 445,
          "players_z": 0.00895133789510814
         },
         {
          "game": "battlefield gain",
          "month": "2021-02-01T00:00:00",
          "players": 20114,
          "players_z": 0.6453632662162723
         },
         {
          "game": "battlefield gain",
          "month": "2021-03-01T00:00:00",
          "players": -13451,
          "players_z": -0.44066888458447373
         },
         {
          "game": "battlefield gain",
          "month": "2021-04-01T00:00:00",
          "players": 15434,
          "players_z": 0.49393676641744927
         },
         {
          "game": "battlefield gain",
          "month": "2021-05-01T00:00:00",
          "players": -15403,
          "players_z": -0.5038279716800512
         },
         {
          "game": "battlefield gain",
          "month": "2021-06-01T00:00:00",
          "players": 30815,
          "players_z": 0.991605782102427
         },
         {
          "game": "battlefield gain",
          "month": "2021-07-01T00:00:00",
          "players": 29251,
          "players_z": 0.9410008578106835
         },
         {
          "game": "battlefield gain",
          "month": "2021-08-01T00:00:00",
          "players": 45198,
          "players_z": 1.4569834202662024
         },
         {
          "game": "battlefield gain",
          "month": "2021-09-01T00:00:00",
          "players": -19141,
          "players_z": -0.6247750349809058
         },
         {
          "game": "battlefield gain",
          "month": "2021-10-01T00:00:00",
          "players": 14845,
          "players_z": 0.474879029583794
         },
         {
          "game": "battlefield gain",
          "month": "2021-11-01T00:00:00",
          "players": -63990,
          "players_z": -2.0759133019632583
         },
         {
          "game": "battlefield gain",
          "month": "2021-12-01T00:00:00",
          "players": -77151,
          "players_z": -2.5017517985128968
         },
         {
          "game": "battlefield gain",
          "month": "2022-01-01T00:00:00",
          "players": -31082,
          "players_z": -1.0111391020958085
         },
         {
          "game": "battlefield gain",
          "month": "2022-02-01T00:00:00",
          "players": -3953,
          "players_z": -0.1333507446081447
         },
         {
          "game": "battlefield gain",
          "month": "2022-03-01T00:00:00",
          "players": -4687,
          "players_z": -0.15710011444838742
         },
         {
          "game": "battlefield gain",
          "month": "2022-04-01T00:00:00",
          "players": -4121,
          "players_z": -0.13878656767784603
         },
         {
          "game": "battlefield gain",
          "month": "2022-05-01T00:00:00",
          "players": -9706,
          "players_z": -0.31949532865571484
         },
         {
          "game": "battlefield gain",
          "month": "2022-06-01T00:00:00",
          "players": 9864,
          "players_z": 0.31371334678508955
         },
         {
          "game": "battlefield gain",
          "month": "2022-07-01T00:00:00",
          "players": -3091,
          "players_z": -0.10545979528622472
         },
         {
          "game": "battlefield gain",
          "month": "2022-08-01T00:00:00",
          "players": 7674,
          "players_z": 0.24285351034076857
         },
         {
          "game": "battlefield gain",
          "month": "2022-09-01T00:00:00",
          "players": 5720,
          "players_z": 0.17962971106578993
         },
         {
          "game": "battlefield gain",
          "month": "2022-10-01T00:00:00",
          "players": -8099,
          "players_z": -0.2674990925068455
         },
         {
          "game": "battlefield gain",
          "month": "2022-11-01T00:00:00",
          "players": 87873,
          "players_z": 2.837779548239444
         },
         {
          "game": "battlefield gain",
          "month": "2022-12-01T00:00:00",
          "players": -6045,
          "players_z": -0.20103968426180654
         },
         {
          "game": "battlefield gain",
          "month": "2023-01-01T00:00:00",
          "players": -44573,
          "players_z": -1.4476551082466462
         },
         {
          "game": "battlefield gain",
          "month": "2023-02-01T00:00:00",
          "players": -8663,
          "players_z": -0.2857479270979857
         },
         {
          "game": "battlefield gain",
          "month": "2023-03-01T00:00:00",
          "players": -7823,
          "players_z": -0.25856881174947904
         },
         {
          "game": "battlefield gain",
          "month": "2023-04-01T00:00:00",
          "players": -7682,
          "players_z": -0.254006603101694
         },
         {
          "game": "battlefield gain",
          "month": "2023-05-01T00:00:00",
          "players": -3815,
          "players_z": -0.12888560422946144
         },
         {
          "game": "battlefield gain",
          "month": "2023-06-01T00:00:00",
          "players": -689,
          "players_z": -0.027740467825375873
         },
         {
          "game": "battlefield gain",
          "month": "2023-07-01T00:00:00",
          "players": -6806,
          "players_z": -0.22566266852396558
         },
         {
          "game": "battlefield gain",
          "month": "2023-08-01T00:00:00",
          "players": -1916,
          "players_z": -0.06744138988801598
         },
         {
          "game": "battlefield gain",
          "month": "2023-09-01T00:00:00",
          "players": -3273,
          "players_z": -0.1113486036117345
         },
         {
          "game": "battlefield gain",
          "month": "2023-10-01T00:00:00",
          "players": 120701,
          "players_z": 3.8999652609308453
         },
         {
          "game": "battlefield gain",
          "month": "2023-11-01T00:00:00",
          "players": 47170,
          "players_z": 1.520789629155792
         },
         {
          "game": "battlefield gain",
          "month": "2023-12-01T00:00:00",
          "players": -28453,
          "players_z": -0.9260749422729228
         },
         {
          "game": "battlefield gain",
          "month": "2024-01-01T00:00:00",
          "players": -63721,
          "players_z": -2.067209513833796
         },
         {
          "game": "battlefield gain",
          "month": "2024-02-01T00:00:00",
          "players": -10109,
          "players_z": -0.3325348328050579
         },
         {
          "game": "battlefield gain",
          "month": "2024-03-01T00:00:00",
          "players": 9632,
          "players_z": 0.3062067339745496
         },
         {
          "game": "battlefield gain",
          "month": "2024-04-01T00:00:00",
          "players": -37871,
          "players_z": -1.2308045950732036
         },
         {
          "game": "battlefield gain",
          "month": "2024-05-01T00:00:00",
          "players": -8175,
          "players_z": -0.26995815532409134
         },
         {
          "game": "battlefield gain",
          "month": "2024-06-01T00:00:00",
          "players": 21085,
          "players_z": 0.676781029315558
         },
         {
          "game": "battlefield gain",
          "month": "2024-07-01T00:00:00",
          "players": 5723,
          "players_z": 0.17972677933489176
         },
         {
          "game": "battlefield gain",
          "month": "2024-08-01T00:00:00",
          "players": -16827,
          "players_z": -0.5499030434137101
         },
         {
          "game": "battlefield gain",
          "month": "2024-09-01T00:00:00",
          "players": -7649,
          "players_z": -0.2529388521415741
         },
         {
          "game": "battlefield gain",
          "month": "2024-10-01T00:00:00",
          "players": 459,
          "players_z": 0.009404323150916586
         },
         {
          "game": "battlefield gain",
          "month": "2024-11-01T00:00:00",
          "players": 17200,
          "players_z": 0.5510776208287146
         },
         {
          "game": "battlefield gain",
          "month": "2024-12-01T00:00:00",
          "players": -19293,
          "players_z": -0.6296931606153975
         },
         {
          "game": "battlefield gain",
          "month": "2025-01-01T00:00:00",
          "players": 1593,
          "players_z": 0.046096128871400605
         },
         {
          "game": "battlefield gain",
          "month": "2025-02-01T00:00:00",
          "players": 13758,
          "players_z": 0.43970796007923835
         },
         {
          "game": "battlefield gain",
          "month": "2025-03-01T00:00:00",
          "players": -8845,
          "players_z": -0.2916367354234955
         },
         {
          "game": "battlefield gain",
          "month": "2025-04-01T00:00:00",
          "players": -28341,
          "players_z": -0.9224510602264552
         },
         {
          "game": "battlefield gain",
          "month": "2025-05-01T00:00:00",
          "players": 6399,
          "players_z": 0.20159949597249952
         },
         {
          "game": "battlefield gain",
          "month": "2025-06-01T00:00:00",
          "players": -13614,
          "players_z": -0.4459429272056721
         },
         {
          "game": "battlefield gain",
          "month": "2025-07-01T00:00:00",
          "players": -898,
          "players_z": -0.03450289057280193
         },
         {
          "game": "battlefield gain",
          "month": "2025-08-01T00:00:00",
          "players": 76541,
          "players_z": 2.4711203397522086
         },
         {
          "game": "battlefield % gain",
          "month": "2020-06-01T00:00:00",
          "players": 0,
          "players_z": -0.2538459126758837
         },
         {
          "game": "battlefield % gain",
          "month": "2020-07-01T00:00:00",
          "players": -9.2,
          "players_z": -0.3980759793232145
         },
         {
          "game": "battlefield % gain",
          "month": "2020-08-01T00:00:00",
          "players": 241.1,
          "players_z": 3.525922464353623
         },
         {
          "game": "battlefield % gain",
          "month": "2020-09-01T00:00:00",
          "players": -54.6,
          "players_z": -1.1098200038654775
         },
         {
          "game": "battlefield % gain",
          "month": "2020-10-01T00:00:00",
          "players": 118,
          "players_z": 1.5960614638877073
         },
         {
          "game": "battlefield % gain",
          "month": "2020-11-01T00:00:00",
          "players": 5.7,
          "players_z": -0.16448598007916787
         },
         {
          "game": "battlefield % gain",
          "month": "2020-12-01T00:00:00",
          "players": 2.9,
          "players_z": -0.20838208731965982
         },
         {
          "game": "battlefield % gain",
          "month": "2021-01-01T00:00:00",
          "players": 2.6,
          "players_z": -0.2130852416668554
         },
         {
          "game": "battlefield % gain",
          "month": "2021-02-01T00:00:00",
          "players": 113.7,
          "players_z": 1.5286495849112374
         },
         {
          "game": "battlefield % gain",
          "month": "2021-03-01T00:00:00",
          "players": -35.6,
          "players_z": -0.8119535618764246
         },
         {
          "game": "battlefield % gain",
          "month": "2021-04-01T00:00:00",
          "players": 63.4,
          "players_z": 0.7400873726981135
         },
         {
          "game": "battlefield % gain",
          "month": "2021-05-01T00:00:00",
          "players": -38.7,
          "players_z": -0.8605528234641123
         },
         {
          "game": "battlefield % gain",
          "month": "2021-06-01T00:00:00",
          "players": 126.4,
          "players_z": 1.7277497856091832
         },
         {
          "game": "battlefield % gain",
          "month": "2021-07-01T00:00:00",
          "players": 53,
          "players_z": 0.5770446886620003
         },
         {
          "game": "battlefield % gain",
          "month": "2021-08-01T00:00:00",
          "players": 53.5,
          "players_z": 0.5848832792406596
         },
         {
          "game": "battlefield % gain",
          "month": "2021-09-01T00:00:00",
          "players": -14.8,
          "players_z": -0.4858681938041985
         },
         {
          "game": "battlefield % gain",
          "month": "2021-10-01T00:00:00",
          "players": 13.4,
          "players_z": -0.04377168516781487
         },
         {
          "game": "battlefield % gain",
          "month": "2021-11-01T00:00:00",
          "players": 33,
          "players_z": 0.2635010655156291
         },
         {
          "game": "battlefield % gain",
          "month": "2021-12-01T00:00:00",
          "players": -46.3,
          "players_z": -0.9796994002597333
         },
         {
          "game": "battlefield % gain",
          "month": "2022-01-01T00:00:00",
          "players": -34.7,
          "players_z": -0.7978440988348381
         },
         {
          "game": "battlefield % gain",
          "month": "2022-02-01T00:00:00",
          "players": -6.8,
          "players_z": -0.36045074454564996
         },
         {
          "game": "battlefield % gain",
          "month": "2022-03-01T00:00:00",
          "players": -8.6,
          "players_z": -0.38866967062882335
         },
         {
          "game": "battlefield % gain",
          "month": "2022-04-01T00:00:00",
          "players": -8.3,
          "players_z": -0.3839665162816278
         },
         {
          "game": "battlefield % gain",
          "month": "2022-05-01T00:00:00",
          "players": -21.2,
          "players_z": -0.5862021532110373
         },
         {
          "game": "battlefield % gain",
          "month": "2022-06-01T00:00:00",
          "players": 27.4,
          "players_z": 0.17570885103464504
         },
         {
          "game": "battlefield % gain",
          "month": "2022-07-01T00:00:00",
          "players": -6.7,
          "players_z": -0.3588830264299181
         },
         {
          "game": "battlefield % gain",
          "month": "2022-08-01T00:00:00",
          "players": 17.9,
          "players_z": 0.026775630040118657
         },
         {
          "game": "battlefield % gain",
          "month": "2022-09-01T00:00:00",
          "players": 11.3,
          "players_z": -0.07669376559818386
         },
         {
          "game": "battlefield % gain",
          "month": "2022-10-01T00:00:00",
          "players": -14.4,
          "players_z": -0.4795973213412711
         },
         {
          "game": "battlefield % gain",
          "month": "2022-11-01T00:00:00",
          "players": 182.6,
          "players_z": 2.608807366650487
         },
         {
          "game": "battlefield % gain",
          "month": "2022-12-01T00:00:00",
          "players": -4.4,
          "players_z": -0.32282550976808544
         },
         {
          "game": "battlefield % gain",
          "month": "2023-01-01T00:00:00",
          "players": -34.3,
          "players_z": -0.7915732263719105
         },
         {
          "game": "battlefield % gain",
          "month": "2023-02-01T00:00:00",
          "players": -10.1,
          "players_z": -0.4121854423648012
         },
         {
          "game": "battlefield % gain",
          "month": "2023-03-01T00:00:00",
          "players": -10.2,
          "players_z": -0.41375316048053307
         },
         {
          "game": "battlefield % gain",
          "month": "2023-04-01T00:00:00",
          "players": -11.2,
          "players_z": -0.42943034163785165
         },
         {
          "game": "battlefield % gain",
          "month": "2023-05-01T00:00:00",
          "players": -6.2,
          "players_z": -0.3510444358512588
         },
         {
          "game": "battlefield % gain",
          "month": "2023-06-01T00:00:00",
          "players": -1.2,
          "players_z": -0.27265853006466595
         },
         {
          "game": "battlefield % gain",
          "month": "2023-07-01T00:00:00",
          "players": -12,
          "players_z": -0.4419720865637065
         },
         {
          "game": "battlefield % gain",
          "month": "2023-08-01T00:00:00",
          "players": -3.8,
          "players_z": -0.31341920107369425
         },
         {
          "game": "battlefield % gain",
          "month": "2023-09-01T00:00:00",
          "players": -6.8,
          "players_z": -0.36045074454564996
         },
         {
          "game": "battlefield % gain",
          "month": "2023-10-01T00:00:00",
          "players": 270,
          "players_z": 3.9789929998001297
         },
         {
          "game": "battlefield % gain",
          "month": "2023-11-01T00:00:00",
          "players": 28.5,
          "players_z": 0.1929537503076955
         },
         {
          "game": "battlefield % gain",
          "month": "2023-12-01T00:00:00",
          "players": -13.4,
          "players_z": -0.4639201401839525
         },
         {
          "game": "battlefield % gain",
          "month": "2024-01-01T00:00:00",
          "players": -34.6,
          "players_z": -0.7962763807191061
         },
         {
          "game": "battlefield % gain",
          "month": "2024-02-01T00:00:00",
          "players": -8.4,
          "players_z": -0.3855342343973597
         },
         {
          "game": "battlefield % gain",
          "month": "2024-03-01T00:00:00",
          "players": 8.7,
          "players_z": -0.11745443660721215
         },
         {
          "game": "battlefield % gain",
          "month": "2024-04-01T00:00:00",
          "players": -31.6,
          "players_z": -0.7492448372471504
         },
         {
          "game": "battlefield % gain",
          "month": "2024-05-01T00:00:00",
          "players": -10,
          "players_z": -0.41061772424906934
         },
         {
          "game": "battlefield % gain",
          "month": "2024-06-01T00:00:00",
          "players": 28.5,
          "players_z": 0.1929537503076955
         },
         {
          "game": "battlefield % gain",
          "month": "2024-07-01T00:00:00",
          "players": 6,
          "players_z": -0.15978282573197228
         },
         {
          "game": "battlefield % gain",
          "month": "2024-08-01T00:00:00",
          "players": -16.7,
          "players_z": -0.5156548380031037
         },
         {
          "game": "battlefield % gain",
          "month": "2024-09-01T00:00:00",
          "players": -9.1,
          "players_z": -0.3965082612074826
         },
         {
          "game": "battlefield % gain",
          "month": "2024-10-01T00:00:00",
          "players": 0.6,
          "players_z": -0.24443960398149256
         },
         {
          "game": "battlefield % gain",
          "month": "2024-11-01T00:00:00",
          "players": 22.4,
          "players_z": 0.09732294524805221
         },
         {
          "game": "battlefield % gain",
          "month": "2024-12-01T00:00:00",
          "players": -20.6,
          "players_z": -0.5767958445166461
         },
         {
          "game": "battlefield % gain",
          "month": "2025-01-01T00:00:00",
          "players": 2.1,
          "players_z": -0.2209238322455147
         },
         {
          "game": "battlefield % gain",
          "month": "2025-02-01T00:00:00",
          "players": 18.1,
          "players_z": 0.029911066271582416
         },
         {
          "game": "battlefield % gain",
          "month": "2025-03-01T00:00:00",
          "players": -9.8,
          "players_z": -0.40748228801760566
         },
         {
          "game": "battlefield % gain",
          "month": "2025-04-01T00:00:00",
          "players": -35,
          "players_z": -0.8025472531820336
         },
         {
          "game": "battlefield % gain",
          "month": "2025-05-01T00:00:00",
          "players": 12.1,
          "players_z": -0.06415202067232902
         },
         {
          "game": "battlefield % gain",
          "month": "2025-06-01T00:00:00",
          "players": -23,
          "players_z": -0.6144210792942107
         },
         {
          "game": "battlefield % gain",
          "month": "2025-07-01T00:00:00",
          "players": -2,
          "players_z": -0.2852002749905208
         },
         {
          "game": "battlefield % gain",
          "month": "2025-08-01T00:00:00",
          "players": 171.5,
          "players_z": 2.434790655804251
         }
        ]
       },
       "encoding": {
        "color": {
         "field": "game",
         "type": "nominal"
        },
        "tooltip": [
         {
          "field": "month",
          "type": "temporal"
         },
         {
          "field": "game",
          "type": "nominal"
         },
         {
          "field": "players_z",
          "type": "quantitative"
         }
        ],
        "x": {
         "field": "month",
         "type": "temporal"
        },
        "y": {
         "field": "players_z",
         "title": "Z-score",
         "type": "quantitative"
        }
       },
       "height": 350,
       "mark": {
        "type": "line"
       },
       "title": "Normalized (z-score) playerbase trends",
       "usermeta": {
        "embedOptions": {
         "theme": "fivethirtyeight"
        }
       },
       "width": 900
      },
      "text/plain": [
       "<VegaLite 5 object>\n",
       "\n",
       "If you see this message, it means the renderer has not been properly enabled\n",
       "for the frontend that you are using. For more information, see\n",
       "https://altair-viz.github.io/user_guide/display_frontends.html#troubleshooting\n"
      ]
     },
     "execution_count": 16,
     "metadata": {},
     "output_type": "execute_result"
    }
   ],
   "source": [
    "norm = long.groupby('game', group_keys=False).apply(\n",
    "    lambda d: d.assign(players_z=(d['players']-d['players'].mean())/d['players'].std())\n",
    ")\n",
    "\n",
    "line_norm = alt.Chart(norm).mark_line().encode(\n",
    "    x='month:T', y=alt.Y('players_z:Q', title='Z-score'),\n",
    "    color='game:N', tooltip=['month:T','game:N','players_z:Q']\n",
    ").properties(width=900, height=350, title='Normalized (z-score) playerbase trends')\n",
    "\n",
    "line_norm\n"
   ]
  },
  {
   "cell_type": "code",
   "execution_count": 17,
   "id": "a2cb8188",
   "metadata": {},
   "outputs": [
    {
     "data": {
      "application/vnd.vegalite.v5+json": {
       "$schema": "https://vega.github.io/schema/vega-lite/v5.20.1.json",
       "config": {
        "view": {
         "continuousHeight": 300,
         "continuousWidth": 300
        }
       },
       "data": {
        "name": "data-75c0a9742871e617dee96b2f3fb71cbc"
       },
       "datasets": {
        "data-75c0a9742871e617dee96b2f3fb71cbc": [
         {
          "corr": 1,
          "game_x": "cs",
          "game_y": "cs"
         },
         {
          "corr": 0.22881211863827608,
          "game_x": "cs",
          "game_y": "cs gain"
         },
         {
          "corr": 0.20424717497475925,
          "game_x": "cs",
          "game_y": "cs % gain"
         },
         {
          "corr": 0.4838498102946849,
          "game_x": "cs",
          "game_y": "cod"
         },
         {
          "corr": -0.056356609363346306,
          "game_x": "cs",
          "game_y": "cod gain"
         },
         {
          "corr": -0.09460559424492015,
          "game_x": "cs",
          "game_y": "cod % gain"
         },
         {
          "corr": 0.5482950267616408,
          "game_x": "cs",
          "game_y": "valorant"
         },
         {
          "corr": -0.221760350687585,
          "game_x": "cs",
          "game_y": "valorant gain"
         },
         {
          "corr": -0.2219210864955195,
          "game_x": "cs",
          "game_y": "valorant % gain"
         },
         {
          "corr": 0.1091891738811493,
          "game_x": "cs",
          "game_y": "siege"
         },
         {
          "corr": 0.10481856671917275,
          "game_x": "cs",
          "game_y": "siege gain"
         },
         {
          "corr": 0.15267072301412096,
          "game_x": "cs",
          "game_y": "siege % gain"
         },
         {
          "corr": -0.2365319799620054,
          "game_x": "cs",
          "game_y": "fortnite"
         },
         {
          "corr": -0.2037756041946214,
          "game_x": "cs",
          "game_y": "fortnite gain"
         },
         {
          "corr": -0.22261638993710506,
          "game_x": "cs",
          "game_y": "fortnite % gain"
         },
         {
          "corr": 0.11236811006273535,
          "game_x": "cs",
          "game_y": "battlefield"
         },
         {
          "corr": -0.028593442655998526,
          "game_x": "cs",
          "game_y": "battlefield gain"
         },
         {
          "corr": -0.15378077188375933,
          "game_x": "cs",
          "game_y": "battlefield % gain"
         },
         {
          "corr": 0.22881211863827608,
          "game_x": "cs gain",
          "game_y": "cs"
         },
         {
          "corr": 1,
          "game_x": "cs gain",
          "game_y": "cs gain"
         },
         {
          "corr": 0.16571249259461923,
          "game_x": "cs gain",
          "game_y": "cs % gain"
         },
         {
          "corr": 0.08563838973947216,
          "game_x": "cs gain",
          "game_y": "cod"
         },
         {
          "corr": -0.04035490281478121,
          "game_x": "cs gain",
          "game_y": "cod gain"
         },
         {
          "corr": -0.032890169626159656,
          "game_x": "cs gain",
          "game_y": "cod % gain"
         },
         {
          "corr": 0.16217561254778592,
          "game_x": "cs gain",
          "game_y": "valorant"
         },
         {
          "corr": 0.11319582606252629,
          "game_x": "cs gain",
          "game_y": "valorant gain"
         },
         {
          "corr": -0.06668445704807827,
          "game_x": "cs gain",
          "game_y": "valorant % gain"
         },
         {
          "corr": 0.0414130573153355,
          "game_x": "cs gain",
          "game_y": "siege"
         },
         {
          "corr": 0.2702835863465813,
          "game_x": "cs gain",
          "game_y": "siege gain"
         },
         {
          "corr": 0.2769015037751115,
          "game_x": "cs gain",
          "game_y": "siege % gain"
         },
         {
          "corr": 0.17544230551159926,
          "game_x": "cs gain",
          "game_y": "fortnite"
         },
         {
          "corr": -0.06440912805971052,
          "game_x": "cs gain",
          "game_y": "fortnite gain"
         },
         {
          "corr": -0.011309122801323413,
          "game_x": "cs gain",
          "game_y": "fortnite % gain"
         },
         {
          "corr": 0.01650312015804093,
          "game_x": "cs gain",
          "game_y": "battlefield"
         },
         {
          "corr": -0.2497911142262468,
          "game_x": "cs gain",
          "game_y": "battlefield gain"
         },
         {
          "corr": -0.14024615812183328,
          "game_x": "cs gain",
          "game_y": "battlefield % gain"
         },
         {
          "corr": 0.20424717497475925,
          "game_x": "cs % gain",
          "game_y": "cs"
         },
         {
          "corr": 0.16571249259461923,
          "game_x": "cs % gain",
          "game_y": "cs gain"
         },
         {
          "corr": 1,
          "game_x": "cs % gain",
          "game_y": "cs % gain"
         },
         {
          "corr": 0.21673922677043073,
          "game_x": "cs % gain",
          "game_y": "cod"
         },
         {
          "corr": 0.029343018328842237,
          "game_x": "cs % gain",
          "game_y": "cod gain"
         },
         {
          "corr": -0.07252985836719057,
          "game_x": "cs % gain",
          "game_y": "cod % gain"
         },
         {
          "corr": 0.19204717899652407,
          "game_x": "cs % gain",
          "game_y": "valorant"
         },
         {
          "corr": 0.0015358243019253908,
          "game_x": "cs % gain",
          "game_y": "valorant gain"
         },
         {
          "corr": -0.1294881192687575,
          "game_x": "cs % gain",
          "game_y": "valorant % gain"
         },
         {
          "corr": -0.010622675852426912,
          "game_x": "cs % gain",
          "game_y": "siege"
         },
         {
          "corr": 0.1512155024683896,
          "game_x": "cs % gain",
          "game_y": "siege gain"
         },
         {
          "corr": 0.14712318965415522,
          "game_x": "cs % gain",
          "game_y": "siege % gain"
         },
         {
          "corr": 0.04729355328363324,
          "game_x": "cs % gain",
          "game_y": "fortnite"
         },
         {
          "corr": -0.3022994919992425,
          "game_x": "cs % gain",
          "game_y": "fortnite gain"
         },
         {
          "corr": -0.22662768566778665,
          "game_x": "cs % gain",
          "game_y": "fortnite % gain"
         },
         {
          "corr": 0.1637316286730366,
          "game_x": "cs % gain",
          "game_y": "battlefield"
         },
         {
          "corr": -0.07674414846983611,
          "game_x": "cs % gain",
          "game_y": "battlefield gain"
         },
         {
          "corr": -0.07237686354978357,
          "game_x": "cs % gain",
          "game_y": "battlefield % gain"
         },
         {
          "corr": 0.4838498102946849,
          "game_x": "cod",
          "game_y": "cs"
         },
         {
          "corr": 0.08563838973947216,
          "game_x": "cod",
          "game_y": "cs gain"
         },
         {
          "corr": 0.21673922677043073,
          "game_x": "cod",
          "game_y": "cs % gain"
         },
         {
          "corr": 1,
          "game_x": "cod",
          "game_y": "cod"
         },
         {
          "corr": 0.21468412157855926,
          "game_x": "cod",
          "game_y": "cod gain"
         },
         {
          "corr": 0.23321838918395454,
          "game_x": "cod",
          "game_y": "cod % gain"
         },
         {
          "corr": 0.4934784832077945,
          "game_x": "cod",
          "game_y": "valorant"
         },
         {
          "corr": -0.4276106006489714,
          "game_x": "cod",
          "game_y": "valorant gain"
         },
         {
          "corr": -0.2023898130477043,
          "game_x": "cod",
          "game_y": "valorant % gain"
         },
         {
          "corr": -0.36912378050970807,
          "game_x": "cod",
          "game_y": "siege"
         },
         {
          "corr": -0.026978903265846958,
          "game_x": "cod",
          "game_y": "siege gain"
         },
         {
          "corr": -0.02754935172295418,
          "game_x": "cod",
          "game_y": "siege % gain"
         },
         {
          "corr": 0.6919767505978409,
          "game_x": "cod",
          "game_y": "fortnite"
         },
         {
          "corr": 0.3505159888706672,
          "game_x": "cod",
          "game_y": "fortnite gain"
         },
         {
          "corr": 0.4307172523608604,
          "game_x": "cod",
          "game_y": "fortnite % gain"
         },
         {
          "corr": 0.4816372194880806,
          "game_x": "cod",
          "game_y": "battlefield"
         },
         {
          "corr": 0.2004364153387975,
          "game_x": "cod",
          "game_y": "battlefield gain"
         },
         {
          "corr": 0.08097587234794813,
          "game_x": "cod",
          "game_y": "battlefield % gain"
         },
         {
          "corr": -0.056356609363346306,
          "game_x": "cod gain",
          "game_y": "cs"
         },
         {
          "corr": -0.04035490281478121,
          "game_x": "cod gain",
          "game_y": "cs gain"
         },
         {
          "corr": 0.029343018328842237,
          "game_x": "cod gain",
          "game_y": "cs % gain"
         },
         {
          "corr": 0.21468412157855926,
          "game_x": "cod gain",
          "game_y": "cod"
         },
         {
          "corr": 1,
          "game_x": "cod gain",
          "game_y": "cod gain"
         },
         {
          "corr": 0.11500849686042952,
          "game_x": "cod gain",
          "game_y": "cod % gain"
         },
         {
          "corr": -0.004480238082893301,
          "game_x": "cod gain",
          "game_y": "valorant"
         },
         {
          "corr": -0.2889269304136487,
          "game_x": "cod gain",
          "game_y": "valorant gain"
         },
         {
          "corr": -0.02928774893481823,
          "game_x": "cod gain",
          "game_y": "valorant % gain"
         },
         {
          "corr": -0.028295168265642184,
          "game_x": "cod gain",
          "game_y": "siege"
         },
         {
          "corr": -0.2178922518008911,
          "game_x": "cod gain",
          "game_y": "siege gain"
         },
         {
          "corr": -0.29880365143279103,
          "game_x": "cod gain",
          "game_y": "siege % gain"
         },
         {
          "corr": 0.128257445273936,
          "game_x": "cod gain",
          "game_y": "fortnite"
         },
         {
          "corr": 0.49253980054057356,
          "game_x": "cod gain",
          "game_y": "fortnite gain"
         },
         {
          "corr": 0.4310215499128636,
          "game_x": "cod gain",
          "game_y": "fortnite % gain"
         },
         {
          "corr": 0.046338726813003266,
          "game_x": "cod gain",
          "game_y": "battlefield"
         },
         {
          "corr": 0.3910734397480274,
          "game_x": "cod gain",
          "game_y": "battlefield gain"
         },
         {
          "corr": 0.36236549257311795,
          "game_x": "cod gain",
          "game_y": "battlefield % gain"
         },
         {
          "corr": -0.09460559424492015,
          "game_x": "cod % gain",
          "game_y": "cs"
         },
         {
          "corr": -0.032890169626159656,
          "game_x": "cod % gain",
          "game_y": "cs gain"
         },
         {
          "corr": -0.07252985836719057,
          "game_x": "cod % gain",
          "game_y": "cs % gain"
         },
         {
          "corr": 0.23321838918395454,
          "game_x": "cod % gain",
          "game_y": "cod"
         },
         {
          "corr": 0.11500849686042952,
          "game_x": "cod % gain",
          "game_y": "cod gain"
         },
         {
          "corr": 1,
          "game_x": "cod % gain",
          "game_y": "cod % gain"
         },
         {
          "corr": 0.08177567142370055,
          "game_x": "cod % gain",
          "game_y": "valorant"
         },
         {
          "corr": -0.1447453456394055,
          "game_x": "cod % gain",
          "game_y": "valorant gain"
         },
         {
          "corr": -0.04495998848162199,
          "game_x": "cod % gain",
          "game_y": "valorant % gain"
         },
         {
          "corr": -0.1795576327072837,
          "game_x": "cod % gain",
          "game_y": "siege"
         },
         {
          "corr": -0.10780032259723203,
          "game_x": "cod % gain",
          "game_y": "siege gain"
         },
         {
          "corr": -0.1544829379853971,
          "game_x": "cod % gain",
          "game_y": "siege % gain"
         },
         {
          "corr": 0.06859265409752423,
          "game_x": "cod % gain",
          "game_y": "fortnite"
         },
         {
          "corr": 0.2994367908101429,
          "game_x": "cod % gain",
          "game_y": "fortnite gain"
         },
         {
          "corr": 0.2978183789264014,
          "game_x": "cod % gain",
          "game_y": "fortnite % gain"
         },
         {
          "corr": -0.05845985063731465,
          "game_x": "cod % gain",
          "game_y": "battlefield"
         },
         {
          "corr": 0.028894801156926442,
          "game_x": "cod % gain",
          "game_y": "battlefield gain"
         },
         {
          "corr": 0.012451696370049812,
          "game_x": "cod % gain",
          "game_y": "battlefield % gain"
         },
         {
          "corr": 0.5482950267616408,
          "game_x": "valorant",
          "game_y": "cs"
         },
         {
          "corr": 0.16217561254778592,
          "game_x": "valorant",
          "game_y": "cs gain"
         },
         {
          "corr": 0.19204717899652407,
          "game_x": "valorant",
          "game_y": "cs % gain"
         },
         {
          "corr": 0.4934784832077945,
          "game_x": "valorant",
          "game_y": "cod"
         },
         {
          "corr": -0.004480238082893301,
          "game_x": "valorant",
          "game_y": "cod gain"
         },
         {
          "corr": 0.08177567142370055,
          "game_x": "valorant",
          "game_y": "cod % gain"
         },
         {
          "corr": 1,
          "game_x": "valorant",
          "game_y": "valorant"
         },
         {
          "corr": -0.13518012518292302,
          "game_x": "valorant",
          "game_y": "valorant gain"
         },
         {
          "corr": -0.3956188602484498,
          "game_x": "valorant",
          "game_y": "valorant % gain"
         },
         {
          "corr": -0.33776427633547623,
          "game_x": "valorant",
          "game_y": "siege"
         },
         {
          "corr": 0.09101907853194402,
          "game_x": "valorant",
          "game_y": "siege gain"
         },
         {
          "corr": 0.09098704224968857,
          "game_x": "valorant",
          "game_y": "siege % gain"
         },
         {
          "corr": -0.3909193112372523,
          "game_x": "valorant",
          "game_y": "fortnite"
         },
         {
          "corr": -0.031029298359694042,
          "game_x": "valorant",
          "game_y": "fortnite gain"
         },
         {
          "corr": -0.17962296918220177,
          "game_x": "valorant",
          "game_y": "fortnite % gain"
         },
         {
          "corr": 0.35120601948074726,
          "game_x": "valorant",
          "game_y": "battlefield"
         },
         {
          "corr": -0.06419768273653291,
          "game_x": "valorant",
          "game_y": "battlefield gain"
         },
         {
          "corr": -0.222882872880079,
          "game_x": "valorant",
          "game_y": "battlefield % gain"
         },
         {
          "corr": -0.221760350687585,
          "game_x": "valorant gain",
          "game_y": "cs"
         },
         {
          "corr": 0.11319582606252629,
          "game_x": "valorant gain",
          "game_y": "cs gain"
         },
         {
          "corr": 0.0015358243019253908,
          "game_x": "valorant gain",
          "game_y": "cs % gain"
         },
         {
          "corr": -0.4276106006489714,
          "game_x": "valorant gain",
          "game_y": "cod"
         },
         {
          "corr": -0.2889269304136487,
          "game_x": "valorant gain",
          "game_y": "cod gain"
         },
         {
          "corr": -0.1447453456394055,
          "game_x": "valorant gain",
          "game_y": "cod % gain"
         },
         {
          "corr": -0.13518012518292302,
          "game_x": "valorant gain",
          "game_y": "valorant"
         },
         {
          "corr": 1,
          "game_x": "valorant gain",
          "game_y": "valorant gain"
         },
         {
          "corr": 0.4081160282078587,
          "game_x": "valorant gain",
          "game_y": "valorant % gain"
         },
         {
          "corr": 0.2971463786647024,
          "game_x": "valorant gain",
          "game_y": "siege"
         },
         {
          "corr": 0.3228862857183633,
          "game_x": "valorant gain",
          "game_y": "siege gain"
         },
         {
          "corr": 0.34279752002445574,
          "game_x": "valorant gain",
          "game_y": "siege % gain"
         },
         {
          "corr": -0.2108477412828363,
          "game_x": "valorant gain",
          "game_y": "fortnite"
         },
         {
          "corr": -0.2853365673461802,
          "game_x": "valorant gain",
          "game_y": "fortnite gain"
         },
         {
          "corr": -0.31017629478559483,
          "game_x": "valorant gain",
          "game_y": "fortnite % gain"
         },
         {
          "corr": -0.24180058417168215,
          "game_x": "valorant gain",
          "game_y": "battlefield"
         },
         {
          "corr": -0.3214933365480969,
          "game_x": "valorant gain",
          "game_y": "battlefield gain"
         },
         {
          "corr": -0.12174034487224418,
          "game_x": "valorant gain",
          "game_y": "battlefield % gain"
         },
         {
          "corr": -0.2219210864955195,
          "game_x": "valorant % gain",
          "game_y": "cs"
         },
         {
          "corr": -0.06668445704807827,
          "game_x": "valorant % gain",
          "game_y": "cs gain"
         },
         {
          "corr": -0.1294881192687575,
          "game_x": "valorant % gain",
          "game_y": "cs % gain"
         },
         {
          "corr": -0.2023898130477043,
          "game_x": "valorant % gain",
          "game_y": "cod"
         },
         {
          "corr": -0.02928774893481823,
          "game_x": "valorant % gain",
          "game_y": "cod gain"
         },
         {
          "corr": -0.04495998848162199,
          "game_x": "valorant % gain",
          "game_y": "cod % gain"
         },
         {
          "corr": -0.3956188602484498,
          "game_x": "valorant % gain",
          "game_y": "valorant"
         },
         {
          "corr": 0.4081160282078587,
          "game_x": "valorant % gain",
          "game_y": "valorant gain"
         },
         {
          "corr": 1,
          "game_x": "valorant % gain",
          "game_y": "valorant % gain"
         },
         {
          "corr": 0.1853348536135693,
          "game_x": "valorant % gain",
          "game_y": "siege"
         },
         {
          "corr": 0.04035223746086546,
          "game_x": "valorant % gain",
          "game_y": "siege gain"
         },
         {
          "corr": 0.027644127706357262,
          "game_x": "valorant % gain",
          "game_y": "siege % gain"
         },
         {
          "corr": -0.18881573240048466,
          "game_x": "valorant % gain",
          "game_y": "fortnite"
         },
         {
          "corr": -0.28908566750361303,
          "game_x": "valorant % gain",
          "game_y": "fortnite gain"
         },
         {
          "corr": -0.29106252546243305,
          "game_x": "valorant % gain",
          "game_y": "fortnite % gain"
         },
         {
          "corr": -0.2568464326838453,
          "game_x": "valorant % gain",
          "game_y": "battlefield"
         },
         {
          "corr": -0.03909890963734086,
          "game_x": "valorant % gain",
          "game_y": "battlefield gain"
         },
         {
          "corr": 0.02846444616908968,
          "game_x": "valorant % gain",
          "game_y": "battlefield % gain"
         },
         {
          "corr": 0.1091891738811493,
          "game_x": "siege",
          "game_y": "cs"
         },
         {
          "corr": 0.0414130573153355,
          "game_x": "siege",
          "game_y": "cs gain"
         },
         {
          "corr": -0.010622675852426912,
          "game_x": "siege",
          "game_y": "cs % gain"
         },
         {
          "corr": -0.36912378050970807,
          "game_x": "siege",
          "game_y": "cod"
         },
         {
          "corr": -0.028295168265642184,
          "game_x": "siege",
          "game_y": "cod gain"
         },
         {
          "corr": -0.1795576327072837,
          "game_x": "siege",
          "game_y": "cod % gain"
         },
         {
          "corr": -0.33776427633547623,
          "game_x": "siege",
          "game_y": "valorant"
         },
         {
          "corr": 0.2971463786647024,
          "game_x": "siege",
          "game_y": "valorant gain"
         },
         {
          "corr": 0.1853348536135693,
          "game_x": "siege",
          "game_y": "valorant % gain"
         },
         {
          "corr": 1,
          "game_x": "siege",
          "game_y": "siege"
         },
         {
          "corr": 0.42469676653194977,
          "game_x": "siege",
          "game_y": "siege gain"
         },
         {
          "corr": 0.4927829106735812,
          "game_x": "siege",
          "game_y": "siege % gain"
         },
         {
          "corr": -0.19066126498676572,
          "game_x": "siege",
          "game_y": "fortnite"
         },
         {
          "corr": -0.16329736958626712,
          "game_x": "siege",
          "game_y": "fortnite gain"
         },
         {
          "corr": -0.19250391791636057,
          "game_x": "siege",
          "game_y": "fortnite % gain"
         },
         {
          "corr": -0.30783182762424405,
          "game_x": "siege",
          "game_y": "battlefield"
         },
         {
          "corr": -0.052392995902202665,
          "game_x": "siege",
          "game_y": "battlefield gain"
         },
         {
          "corr": 0.011685733773238978,
          "game_x": "siege",
          "game_y": "battlefield % gain"
         },
         {
          "corr": 0.10481856671917275,
          "game_x": "siege gain",
          "game_y": "cs"
         },
         {
          "corr": 0.2702835863465813,
          "game_x": "siege gain",
          "game_y": "cs gain"
         },
         {
          "corr": 0.1512155024683896,
          "game_x": "siege gain",
          "game_y": "cs % gain"
         },
         {
          "corr": -0.026978903265846958,
          "game_x": "siege gain",
          "game_y": "cod"
         },
         {
          "corr": -0.2178922518008911,
          "game_x": "siege gain",
          "game_y": "cod gain"
         },
         {
          "corr": -0.10780032259723203,
          "game_x": "siege gain",
          "game_y": "cod % gain"
         },
         {
          "corr": 0.09101907853194402,
          "game_x": "siege gain",
          "game_y": "valorant"
         },
         {
          "corr": 0.3228862857183633,
          "game_x": "siege gain",
          "game_y": "valorant gain"
         },
         {
          "corr": 0.04035223746086546,
          "game_x": "siege gain",
          "game_y": "valorant % gain"
         },
         {
          "corr": 0.42469676653194977,
          "game_x": "siege gain",
          "game_y": "siege"
         },
         {
          "corr": 1,
          "game_x": "siege gain",
          "game_y": "siege gain"
         },
         {
          "corr": 0.9648635531298123,
          "game_x": "siege gain",
          "game_y": "siege % gain"
         },
         {
          "corr": 0.06707565842366309,
          "game_x": "siege gain",
          "game_y": "fortnite"
         },
         {
          "corr": -0.09846421423602453,
          "game_x": "siege gain",
          "game_y": "fortnite gain"
         },
         {
          "corr": -0.018262521021227874,
          "game_x": "siege gain",
          "game_y": "fortnite % gain"
         },
         {
          "corr": 0.023445279448501655,
          "game_x": "siege gain",
          "game_y": "battlefield"
         },
         {
          "corr": -0.12246181785920343,
          "game_x": "siege gain",
          "game_y": "battlefield gain"
         },
         {
          "corr": -0.06678522807205825,
          "game_x": "siege gain",
          "game_y": "battlefield % gain"
         },
         {
          "corr": 0.15267072301412096,
          "game_x": "siege % gain",
          "game_y": "cs"
         },
         {
          "corr": 0.2769015037751115,
          "game_x": "siege % gain",
          "game_y": "cs gain"
         },
         {
          "corr": 0.14712318965415522,
          "game_x": "siege % gain",
          "game_y": "cs % gain"
         },
         {
          "corr": -0.02754935172295418,
          "game_x": "siege % gain",
          "game_y": "cod"
         },
         {
          "corr": -0.29880365143279103,
          "game_x": "siege % gain",
          "game_y": "cod gain"
         },
         {
          "corr": -0.1544829379853971,
          "game_x": "siege % gain",
          "game_y": "cod % gain"
         },
         {
          "corr": 0.09098704224968857,
          "game_x": "siege % gain",
          "game_y": "valorant"
         },
         {
          "corr": 0.34279752002445574,
          "game_x": "siege % gain",
          "game_y": "valorant gain"
         },
         {
          "corr": 0.027644127706357262,
          "game_x": "siege % gain",
          "game_y": "valorant % gain"
         },
         {
          "corr": 0.4927829106735812,
          "game_x": "siege % gain",
          "game_y": "siege"
         },
         {
          "corr": 0.9648635531298123,
          "game_x": "siege % gain",
          "game_y": "siege gain"
         },
         {
          "corr": 1,
          "game_x": "siege % gain",
          "game_y": "siege % gain"
         },
         {
          "corr": 0.012384361433077277,
          "game_x": "siege % gain",
          "game_y": "fortnite"
         },
         {
          "corr": -0.23596402683532605,
          "game_x": "siege % gain",
          "game_y": "fortnite gain"
         },
         {
          "corr": -0.11470870663437771,
          "game_x": "siege % gain",
          "game_y": "fortnite % gain"
         },
         {
          "corr": 0.007975678972313174,
          "game_x": "siege % gain",
          "game_y": "battlefield"
         },
         {
          "corr": -0.2031642991873841,
          "game_x": "siege % gain",
          "game_y": "battlefield gain"
         },
         {
          "corr": -0.1272832512553718,
          "game_x": "siege % gain",
          "game_y": "battlefield % gain"
         },
         {
          "corr": -0.2365319799620054,
          "game_x": "fortnite",
          "game_y": "cs"
         },
         {
          "corr": 0.17544230551159926,
          "game_x": "fortnite",
          "game_y": "cs gain"
         },
         {
          "corr": 0.04729355328363324,
          "game_x": "fortnite",
          "game_y": "cs % gain"
         },
         {
          "corr": 0.6919767505978409,
          "game_x": "fortnite",
          "game_y": "cod"
         },
         {
          "corr": 0.128257445273936,
          "game_x": "fortnite",
          "game_y": "cod gain"
         },
         {
          "corr": 0.06859265409752423,
          "game_x": "fortnite",
          "game_y": "cod % gain"
         },
         {
          "corr": -0.3909193112372523,
          "game_x": "fortnite",
          "game_y": "valorant"
         },
         {
          "corr": -0.2108477412828363,
          "game_x": "fortnite",
          "game_y": "valorant gain"
         },
         {
          "corr": -0.18881573240048466,
          "game_x": "fortnite",
          "game_y": "valorant % gain"
         },
         {
          "corr": -0.19066126498676572,
          "game_x": "fortnite",
          "game_y": "siege"
         },
         {
          "corr": 0.06707565842366309,
          "game_x": "fortnite",
          "game_y": "siege gain"
         },
         {
          "corr": 0.012384361433077277,
          "game_x": "fortnite",
          "game_y": "siege % gain"
         },
         {
          "corr": 1,
          "game_x": "fortnite",
          "game_y": "fortnite"
         },
         {
          "corr": 0.5368913555551703,
          "game_x": "fortnite",
          "game_y": "fortnite gain"
         },
         {
          "corr": 0.5625026868867762,
          "game_x": "fortnite",
          "game_y": "fortnite % gain"
         },
         {
          "corr": 0.4133001003810703,
          "game_x": "fortnite",
          "game_y": "battlefield"
         },
         {
          "corr": -0.028731718556027026,
          "game_x": "fortnite",
          "game_y": "battlefield gain"
         },
         {
          "corr": -0.03870869652190537,
          "game_x": "fortnite",
          "game_y": "battlefield % gain"
         },
         {
          "corr": -0.2037756041946214,
          "game_x": "fortnite gain",
          "game_y": "cs"
         },
         {
          "corr": -0.06440912805971052,
          "game_x": "fortnite gain",
          "game_y": "cs gain"
         },
         {
          "corr": -0.3022994919992425,
          "game_x": "fortnite gain",
          "game_y": "cs % gain"
         },
         {
          "corr": 0.3505159888706672,
          "game_x": "fortnite gain",
          "game_y": "cod"
         },
         {
          "corr": 0.49253980054057356,
          "game_x": "fortnite gain",
          "game_y": "cod gain"
         },
         {
          "corr": 0.2994367908101429,
          "game_x": "fortnite gain",
          "game_y": "cod % gain"
         },
         {
          "corr": -0.031029298359694042,
          "game_x": "fortnite gain",
          "game_y": "valorant"
         },
         {
          "corr": -0.2853365673461802,
          "game_x": "fortnite gain",
          "game_y": "valorant gain"
         },
         {
          "corr": -0.28908566750361303,
          "game_x": "fortnite gain",
          "game_y": "valorant % gain"
         },
         {
          "corr": -0.16329736958626712,
          "game_x": "fortnite gain",
          "game_y": "siege"
         },
         {
          "corr": -0.09846421423602453,
          "game_x": "fortnite gain",
          "game_y": "siege gain"
         },
         {
          "corr": -0.23596402683532605,
          "game_x": "fortnite gain",
          "game_y": "siege % gain"
         },
         {
          "corr": 0.5368913555551703,
          "game_x": "fortnite gain",
          "game_y": "fortnite"
         },
         {
          "corr": 1,
          "game_x": "fortnite gain",
          "game_y": "fortnite gain"
         },
         {
          "corr": 0.8181737175398076,
          "game_x": "fortnite gain",
          "game_y": "fortnite % gain"
         },
         {
          "corr": 0.25331793904469985,
          "game_x": "fortnite gain",
          "game_y": "battlefield"
         },
         {
          "corr": 0.3007378114247408,
          "game_x": "fortnite gain",
          "game_y": "battlefield gain"
         },
         {
          "corr": 0.1552611866891793,
          "game_x": "fortnite gain",
          "game_y": "battlefield % gain"
         },
         {
          "corr": -0.22261638993710506,
          "game_x": "fortnite % gain",
          "game_y": "cs"
         },
         {
          "corr": -0.011309122801323413,
          "game_x": "fortnite % gain",
          "game_y": "cs gain"
         },
         {
          "corr": -0.22662768566778665,
          "game_x": "fortnite % gain",
          "game_y": "cs % gain"
         },
         {
          "corr": 0.4307172523608604,
          "game_x": "fortnite % gain",
          "game_y": "cod"
         },
         {
          "corr": 0.4310215499128636,
          "game_x": "fortnite % gain",
          "game_y": "cod gain"
         },
         {
          "corr": 0.2978183789264014,
          "game_x": "fortnite % gain",
          "game_y": "cod % gain"
         },
         {
          "corr": -0.17962296918220177,
          "game_x": "fortnite % gain",
          "game_y": "valorant"
         },
         {
          "corr": -0.31017629478559483,
          "game_x": "fortnite % gain",
          "game_y": "valorant gain"
         },
         {
          "corr": -0.29106252546243305,
          "game_x": "fortnite % gain",
          "game_y": "valorant % gain"
         },
         {
          "corr": -0.19250391791636057,
          "game_x": "fortnite % gain",
          "game_y": "siege"
         },
         {
          "corr": -0.018262521021227874,
          "game_x": "fortnite % gain",
          "game_y": "siege gain"
         },
         {
          "corr": -0.11470870663437771,
          "game_x": "fortnite % gain",
          "game_y": "siege % gain"
         },
         {
          "corr": 0.5625026868867762,
          "game_x": "fortnite % gain",
          "game_y": "fortnite"
         },
         {
          "corr": 0.8181737175398076,
          "game_x": "fortnite % gain",
          "game_y": "fortnite gain"
         },
         {
          "corr": 1,
          "game_x": "fortnite % gain",
          "game_y": "fortnite % gain"
         },
         {
          "corr": 0.2834121656703578,
          "game_x": "fortnite % gain",
          "game_y": "battlefield"
         },
         {
          "corr": 0.23704979719458877,
          "game_x": "fortnite % gain",
          "game_y": "battlefield gain"
         },
         {
          "corr": 0.10490259048651442,
          "game_x": "fortnite % gain",
          "game_y": "battlefield % gain"
         },
         {
          "corr": 0.11236811006273535,
          "game_x": "battlefield",
          "game_y": "cs"
         },
         {
          "corr": 0.01650312015804093,
          "game_x": "battlefield",
          "game_y": "cs gain"
         },
         {
          "corr": 0.1637316286730366,
          "game_x": "battlefield",
          "game_y": "cs % gain"
         },
         {
          "corr": 0.4816372194880806,
          "game_x": "battlefield",
          "game_y": "cod"
         },
         {
          "corr": 0.046338726813003266,
          "game_x": "battlefield",
          "game_y": "cod gain"
         },
         {
          "corr": -0.05845985063731465,
          "game_x": "battlefield",
          "game_y": "cod % gain"
         },
         {
          "corr": 0.35120601948074726,
          "game_x": "battlefield",
          "game_y": "valorant"
         },
         {
          "corr": -0.24180058417168215,
          "game_x": "battlefield",
          "game_y": "valorant gain"
         },
         {
          "corr": -0.2568464326838453,
          "game_x": "battlefield",
          "game_y": "valorant % gain"
         },
         {
          "corr": -0.30783182762424405,
          "game_x": "battlefield",
          "game_y": "siege"
         },
         {
          "corr": 0.023445279448501655,
          "game_x": "battlefield",
          "game_y": "siege gain"
         },
         {
          "corr": 0.007975678972313174,
          "game_x": "battlefield",
          "game_y": "siege % gain"
         },
         {
          "corr": 0.4133001003810703,
          "game_x": "battlefield",
          "game_y": "fortnite"
         },
         {
          "corr": 0.25331793904469985,
          "game_x": "battlefield",
          "game_y": "fortnite gain"
         },
         {
          "corr": 0.2834121656703578,
          "game_x": "battlefield",
          "game_y": "fortnite % gain"
         },
         {
          "corr": 1,
          "game_x": "battlefield",
          "game_y": "battlefield"
         },
         {
          "corr": 0.20441015317909259,
          "game_x": "battlefield",
          "game_y": "battlefield gain"
         },
         {
          "corr": 0.19689135097191085,
          "game_x": "battlefield",
          "game_y": "battlefield % gain"
         },
         {
          "corr": -0.028593442655998526,
          "game_x": "battlefield gain",
          "game_y": "cs"
         },
         {
          "corr": -0.2497911142262468,
          "game_x": "battlefield gain",
          "game_y": "cs gain"
         },
         {
          "corr": -0.07674414846983611,
          "game_x": "battlefield gain",
          "game_y": "cs % gain"
         },
         {
          "corr": 0.2004364153387975,
          "game_x": "battlefield gain",
          "game_y": "cod"
         },
         {
          "corr": 0.3910734397480274,
          "game_x": "battlefield gain",
          "game_y": "cod gain"
         },
         {
          "corr": 0.028894801156926442,
          "game_x": "battlefield gain",
          "game_y": "cod % gain"
         },
         {
          "corr": -0.06419768273653291,
          "game_x": "battlefield gain",
          "game_y": "valorant"
         },
         {
          "corr": -0.3214933365480969,
          "game_x": "battlefield gain",
          "game_y": "valorant gain"
         },
         {
          "corr": -0.03909890963734086,
          "game_x": "battlefield gain",
          "game_y": "valorant % gain"
         },
         {
          "corr": -0.052392995902202665,
          "game_x": "battlefield gain",
          "game_y": "siege"
         },
         {
          "corr": -0.12246181785920343,
          "game_x": "battlefield gain",
          "game_y": "siege gain"
         },
         {
          "corr": -0.2031642991873841,
          "game_x": "battlefield gain",
          "game_y": "siege % gain"
         },
         {
          "corr": -0.028731718556027026,
          "game_x": "battlefield gain",
          "game_y": "fortnite"
         },
         {
          "corr": 0.3007378114247408,
          "game_x": "battlefield gain",
          "game_y": "fortnite gain"
         },
         {
          "corr": 0.23704979719458877,
          "game_x": "battlefield gain",
          "game_y": "fortnite % gain"
         },
         {
          "corr": 0.20441015317909259,
          "game_x": "battlefield gain",
          "game_y": "battlefield"
         },
         {
          "corr": 1,
          "game_x": "battlefield gain",
          "game_y": "battlefield gain"
         },
         {
          "corr": 0.7590651071010529,
          "game_x": "battlefield gain",
          "game_y": "battlefield % gain"
         },
         {
          "corr": -0.15378077188375933,
          "game_x": "battlefield % gain",
          "game_y": "cs"
         },
         {
          "corr": -0.14024615812183328,
          "game_x": "battlefield % gain",
          "game_y": "cs gain"
         },
         {
          "corr": -0.07237686354978357,
          "game_x": "battlefield % gain",
          "game_y": "cs % gain"
         },
         {
          "corr": 0.08097587234794813,
          "game_x": "battlefield % gain",
          "game_y": "cod"
         },
         {
          "corr": 0.36236549257311795,
          "game_x": "battlefield % gain",
          "game_y": "cod gain"
         },
         {
          "corr": 0.012451696370049812,
          "game_x": "battlefield % gain",
          "game_y": "cod % gain"
         },
         {
          "corr": -0.222882872880079,
          "game_x": "battlefield % gain",
          "game_y": "valorant"
         },
         {
          "corr": -0.12174034487224418,
          "game_x": "battlefield % gain",
          "game_y": "valorant gain"
         },
         {
          "corr": 0.02846444616908968,
          "game_x": "battlefield % gain",
          "game_y": "valorant % gain"
         },
         {
          "corr": 0.011685733773238978,
          "game_x": "battlefield % gain",
          "game_y": "siege"
         },
         {
          "corr": -0.06678522807205825,
          "game_x": "battlefield % gain",
          "game_y": "siege gain"
         },
         {
          "corr": -0.1272832512553718,
          "game_x": "battlefield % gain",
          "game_y": "siege % gain"
         },
         {
          "corr": -0.03870869652190537,
          "game_x": "battlefield % gain",
          "game_y": "fortnite"
         },
         {
          "corr": 0.1552611866891793,
          "game_x": "battlefield % gain",
          "game_y": "fortnite gain"
         },
         {
          "corr": 0.10490259048651442,
          "game_x": "battlefield % gain",
          "game_y": "fortnite % gain"
         },
         {
          "corr": 0.19689135097191085,
          "game_x": "battlefield % gain",
          "game_y": "battlefield"
         },
         {
          "corr": 0.7590651071010529,
          "game_x": "battlefield % gain",
          "game_y": "battlefield gain"
         },
         {
          "corr": 1,
          "game_x": "battlefield % gain",
          "game_y": "battlefield % gain"
         }
        ]
       },
       "height": 400,
       "layer": [
        {
         "encoding": {
          "color": {
           "field": "corr",
           "scale": {
            "domain": [
             -1,
             1
            ],
            "scheme": "redblue"
           },
           "title": "Pearson r",
           "type": "quantitative"
          },
          "tooltip": [
           {
            "field": "game_x",
            "type": "nominal"
           },
           {
            "field": "game_y",
            "type": "nominal"
           },
           {
            "field": "corr",
            "format": ".2f",
            "type": "quantitative"
           }
          ],
          "x": {
           "field": "game_x",
           "sort": [
            "cs",
            "cs gain",
            "cs % gain",
            "cod",
            "cod gain",
            "cod % gain",
            "valorant",
            "valorant gain",
            "valorant % gain",
            "siege",
            "siege gain",
            "siege % gain",
            "fortnite",
            "fortnite gain",
            "fortnite % gain",
            "battlefield",
            "battlefield gain",
            "battlefield % gain"
           ],
           "title": "",
           "type": "nominal"
          },
          "y": {
           "field": "game_y",
           "sort": [
            "cs",
            "cs gain",
            "cs % gain",
            "cod",
            "cod gain",
            "cod % gain",
            "valorant",
            "valorant gain",
            "valorant % gain",
            "siege",
            "siege gain",
            "siege % gain",
            "fortnite",
            "fortnite gain",
            "fortnite % gain",
            "battlefield",
            "battlefield gain",
            "battlefield % gain"
           ],
           "title": "",
           "type": "nominal"
          }
         },
         "mark": {
          "type": "rect"
         },
         "title": "Correlation of monthly peak players"
        },
        {
         "encoding": {
          "color": {
           "condition": {
            "test": "datum.corr > 0.5 || datum.corr < -0.5",
            "value": "black"
           },
           "value": "gray"
          },
          "text": {
           "field": "corr",
           "format": ".2f",
           "type": "quantitative"
          },
          "x": {
           "field": "game_x",
           "type": "nominal"
          },
          "y": {
           "field": "game_y",
           "type": "nominal"
          }
         },
         "mark": {
          "baseline": "middle",
          "type": "text"
         }
        }
       ],
       "usermeta": {
        "embedOptions": {
         "theme": "fivethirtyeight"
        }
       },
       "width": 400
      },
      "text/plain": [
       "<VegaLite 5 object>\n",
       "\n",
       "If you see this message, it means the renderer has not been properly enabled\n",
       "for the frontend that you are using. For more information, see\n",
       "https://altair-viz.github.io/user_guide/display_frontends.html#troubleshooting\n"
      ]
     },
     "execution_count": 17,
     "metadata": {},
     "output_type": "execute_result"
    }
   ],
   "source": [
    "# compute Pearson correlations on the wide numeric block\n",
    "corr = merged.drop(columns=['month']).corr()\n",
    "\n",
    "# tidy for Altair\n",
    "corr_tidy = corr.stack().rename('corr').reset_index().rename(\n",
    "    columns={'level_0':'game_x','level_1':'game_y'}\n",
    ")\n",
    "\n",
    "heat = alt.Chart(corr_tidy).mark_rect().encode(\n",
    "    x=alt.X('game_x:N', sort=corr.columns.tolist(), title=''),\n",
    "    y=alt.Y('game_y:N', sort=corr.columns.tolist(), title=''),\n",
    "    color=alt.Color('corr:Q', scale=alt.Scale(scheme='redblue', domain=[-1,1]), title='Pearson r'),\n",
    "    tooltip=['game_x:N','game_y:N', alt.Tooltip('corr:Q', format='.2f')]\n",
    ").properties(width=400, height=400, title='Correlation of monthly peak players')\n",
    "\n",
    "text = alt.Chart(corr_tidy).mark_text(baseline='middle').encode(\n",
    "    x='game_x:N', y='game_y:N',\n",
    "    text=alt.Text('corr:Q', format='.2f'),\n",
    "    color=alt.condition('datum.corr > 0.5 || datum.corr < -0.5',\n",
    "                        alt.value('black'),\n",
    "                        alt.value('gray'))\n",
    ")\n",
    "\n",
    "heat + text\n"
   ]
  },
  {
   "cell_type": "code",
   "execution_count": 18,
   "id": "e937f7d5",
   "metadata": {},
   "outputs": [
    {
     "data": {
      "application/vnd.vegalite.v5+json": {
       "$schema": "https://vega.github.io/schema/vega-lite/v5.20.1.json",
       "config": {
        "view": {
         "continuousHeight": 300,
         "continuousWidth": 300
        }
       },
       "data": {
        "name": "data-e0b168ee7273cf3506bb59a7d308b446"
       },
       "datasets": {
        "data-e0b168ee7273cf3506bb59a7d308b446": [
         {
          "corr": 0.22881211863827608,
          "game_x": "cs",
          "game_y": "Cs Gain"
         },
         {
          "corr": 0.20424717497475925,
          "game_x": "cs",
          "game_y": "Cs % Gain"
         },
         {
          "corr": 0.4838498102946849,
          "game_x": "cs",
          "game_y": "Cod"
         },
         {
          "corr": -0.056356609363346306,
          "game_x": "cs",
          "game_y": "Cod Gain"
         },
         {
          "corr": -0.09460559424492015,
          "game_x": "cs",
          "game_y": "Cod % Gain"
         },
         {
          "corr": 0.5482950267616408,
          "game_x": "cs",
          "game_y": "Valorant"
         },
         {
          "corr": -0.221760350687585,
          "game_x": "cs",
          "game_y": "Valorant Gain"
         },
         {
          "corr": -0.2219210864955195,
          "game_x": "cs",
          "game_y": "Valorant % Gain"
         },
         {
          "corr": 0.1091891738811493,
          "game_x": "cs",
          "game_y": "Siege"
         },
         {
          "corr": 0.10481856671917275,
          "game_x": "cs",
          "game_y": "Siege Gain"
         },
         {
          "corr": 0.15267072301412096,
          "game_x": "cs",
          "game_y": "Siege % Gain"
         },
         {
          "corr": -0.2365319799620054,
          "game_x": "cs",
          "game_y": "Fortnite"
         },
         {
          "corr": -0.2037756041946214,
          "game_x": "cs",
          "game_y": "Fortnite Gain"
         },
         {
          "corr": -0.22261638993710506,
          "game_x": "cs",
          "game_y": "Fortnite % Gain"
         },
         {
          "corr": 0.11236811006273535,
          "game_x": "cs",
          "game_y": "Battlefield"
         },
         {
          "corr": -0.028593442655998526,
          "game_x": "cs",
          "game_y": "Battlefield Gain"
         },
         {
          "corr": -0.15378077188375933,
          "game_x": "cs",
          "game_y": "Battlefield % Gain"
         }
        ]
       },
       "height": 60,
       "layer": [
        {
         "encoding": {
          "color": {
           "field": "corr",
           "scale": {
            "domain": [
             -1,
             1
            ],
            "scheme": "redblue"
           },
           "type": "quantitative"
          },
          "tooltip": [
           {
            "field": "game_y",
            "type": "nominal"
           },
           {
            "field": "corr",
            "format": ".2f",
            "type": "quantitative"
           }
          ],
          "x": {
           "field": "game_y",
           "title": "Game",
           "type": "nominal"
          },
          "y": {
           "axis": {
            "labels": false,
            "ticks": false
           },
           "field": "game_x",
           "title": "",
           "type": "nominal"
          }
         },
         "mark": {
          "type": "rect"
         },
         "title": "Correlation with CS"
        },
        {
         "encoding": {
          "text": {
           "field": "corr",
           "format": ".2f",
           "type": "quantitative"
          },
          "x": {
           "field": "game_y",
           "type": "nominal"
          },
          "y": {
           "field": "game_x",
           "type": "nominal"
          }
         },
         "mark": {
          "baseline": "middle",
          "type": "text"
         }
        }
       ],
       "usermeta": {
        "embedOptions": {
         "theme": "fivethirtyeight"
        }
       },
       "width": 400
      },
      "text/plain": [
       "<VegaLite 5 object>\n",
       "\n",
       "If you see this message, it means the renderer has not been properly enabled\n",
       "for the frontend that you are using. For more information, see\n",
       "https://altair-viz.github.io/user_guide/display_frontends.html#troubleshooting\n"
      ]
     },
     "execution_count": 18,
     "metadata": {},
     "output_type": "execute_result"
    }
   ],
   "source": [
    "cs_only = corr_tidy.query(\"game_x == 'cs' & game_y != 'cs'\").copy()\n",
    "cs_only['game_y'] = cs_only['game_y'].str.title()  # cosmetic\n",
    "\n",
    "cs_heat = alt.Chart(cs_only).mark_rect().encode(\n",
    "    x=alt.X('game_y:N', title='Game'),\n",
    "    y=alt.Y('game_x:N', title='', axis=alt.Axis(labels=False, ticks=False)),\n",
    "    color=alt.Color('corr:Q', scale=alt.Scale(scheme='redblue', domain=[-1,1])),\n",
    "    tooltip=['game_y:N', alt.Tooltip('corr:Q', format='.2f')]\n",
    ").properties(width=400, height=60, title='Correlation with CS')\n",
    "\n",
    "cs_text = alt.Chart(cs_only).mark_text(baseline='middle').encode(\n",
    "    x='game_y:N', y='game_x:N', text=alt.Text('corr:Q', format='.2f')\n",
    ")\n",
    "\n",
    "cs_heat + cs_text"
   ]
  },
  {
   "cell_type": "code",
   "execution_count": null,
   "id": "ed70deb2",
   "metadata": {},
   "outputs": [],
   "source": []
  },
  {
   "cell_type": "code",
   "execution_count": null,
   "id": "bcbcc18e",
   "metadata": {},
   "outputs": [],
   "source": []
  },
  {
   "cell_type": "code",
   "execution_count": 19,
   "id": "716c4e52",
   "metadata": {},
   "outputs": [
    {
     "ename": "NameError",
     "evalue": "name 'pb_cs_data' is not defined",
     "output_type": "error",
     "traceback": [
      "\u001b[1;31m---------------------------------------------------------------------------\u001b[0m",
      "\u001b[1;31mNameError\u001b[0m                                 Traceback (most recent call last)",
      "Cell \u001b[1;32mIn[19], line 19\u001b[0m\n\u001b[0;32m     16\u001b[0m     \u001b[38;5;28;01mreturn\u001b[39;00m out\u001b[38;5;241m.\u001b[39mrename(columns\u001b[38;5;241m=\u001b[39m{\u001b[38;5;124m'\u001b[39m\u001b[38;5;124mpeak\u001b[39m\u001b[38;5;124m'\u001b[39m: name})\n\u001b[0;32m     18\u001b[0m \u001b[38;5;66;03m# Fix all six\u001b[39;00m\n\u001b[1;32m---> 19\u001b[0m cs  \u001b[38;5;241m=\u001b[39m sel_and_fix(\u001b[43mpb_cs_data\u001b[49m,  \u001b[38;5;124m'\u001b[39m\u001b[38;5;124mcs\u001b[39m\u001b[38;5;124m'\u001b[39m)\n\u001b[0;32m     20\u001b[0m cod \u001b[38;5;241m=\u001b[39m sel_and_fix(pb_cod_data, \u001b[38;5;124m'\u001b[39m\u001b[38;5;124mcod\u001b[39m\u001b[38;5;124m'\u001b[39m)\n\u001b[0;32m     21\u001b[0m val \u001b[38;5;241m=\u001b[39m sel_and_fix(pb_val_data, \u001b[38;5;124m'\u001b[39m\u001b[38;5;124mvalorant\u001b[39m\u001b[38;5;124m'\u001b[39m)\n",
      "\u001b[1;31mNameError\u001b[0m: name 'pb_cs_data' is not defined"
     ]
    }
   ],
   "source": [
    "def sel_and_fix(df, name):\n",
    "    out = df[['month', 'peak']].copy()\n",
    "\n",
    "    # robust datetime coercion (handles 'YYYY-MM', 'YYYY/MM/DD', ints, etc.)\n",
    "    out['month'] = pd.to_datetime(out['month'], errors='coerce', infer_datetime_format=True)\n",
    "\n",
    "    # drop any bad rows that couldn't be parsed\n",
    "    out = out.dropna(subset=['month']).sort_values('month')\n",
    "\n",
    "    # remove timezone if present\n",
    "    try:\n",
    "        out['month'] = out['month'].dt.tz_localize(None)\n",
    "    except (TypeError, AttributeError):\n",
    "        pass\n",
    "\n",
    "    return out.rename(columns={'peak': name})\n",
    "\n",
    "# Fix all six\n",
    "cs  = sel_and_fix(pb_cs_data,  'cs')\n",
    "cod = sel_and_fix(pb_cod_data, 'cod')\n",
    "val = sel_and_fix(pb_val_data, 'valorant')\n",
    "sie = sel_and_fix(pb_siege_data,'siege')\n",
    "fn  = sel_and_fix(pb_fn_data,  'fortnite')\n",
    "bf  = sel_and_fix(pb_bf_data,  'battlefield')\n",
    "\n",
    "# quick sanity check (all should show datetime64[ns])\n",
    "print(cs.dtypes, cod.dtypes, val.dtypes, sie.dtypes, fn.dtypes, bf.dtypes)\n",
    "\n",
    "# now this merge will succeed\n",
    "merged = reduce(lambda l, r: pd.merge(l, r, on='month', how='outer'),\n",
    "                [cs, cod, val, sie, fn, bf]).sort_values('month')"
   ]
  },
  {
   "cell_type": "code",
   "execution_count": null,
   "id": "62837999",
   "metadata": {},
   "outputs": [
    {
     "ename": "NameError",
     "evalue": "name 'long_z' is not defined",
     "output_type": "error",
     "traceback": [
      "\u001b[0;31m---------------------------------------------------------------------------\u001b[0m",
      "\u001b[0;31mNameError\u001b[0m                                 Traceback (most recent call last)",
      "Cell \u001b[0;32mIn[284], line 1\u001b[0m\n\u001b[0;32m----> 1\u001b[0m heat \u001b[38;5;241m=\u001b[39m alt\u001b[38;5;241m.\u001b[39mChart(\u001b[43mlong_z\u001b[49m)\u001b[38;5;241m.\u001b[39mmark_rect()\u001b[38;5;241m.\u001b[39mencode(\n\u001b[1;32m      2\u001b[0m     \u001b[38;5;66;03m# yearmonth() makes x discrete → one tile per month\u001b[39;00m\n\u001b[1;32m      3\u001b[0m     x\u001b[38;5;241m=\u001b[39malt\u001b[38;5;241m.\u001b[39mX(\u001b[38;5;124m'\u001b[39m\u001b[38;5;124myearmonth(month):T\u001b[39m\u001b[38;5;124m'\u001b[39m, title\u001b[38;5;241m=\u001b[39m\u001b[38;5;124m'\u001b[39m\u001b[38;5;124mMonth\u001b[39m\u001b[38;5;124m'\u001b[39m,\n\u001b[1;32m      4\u001b[0m             axis\u001b[38;5;241m=\u001b[39malt\u001b[38;5;241m.\u001b[39mAxis(\u001b[38;5;28mformat\u001b[39m\u001b[38;5;241m=\u001b[39m\u001b[38;5;124m'\u001b[39m\u001b[38;5;124m%\u001b[39m\u001b[38;5;124mY \u001b[39m\u001b[38;5;124m%\u001b[39m\u001b[38;5;124mb\u001b[39m\u001b[38;5;124m'\u001b[39m)),\n\u001b[1;32m      5\u001b[0m     y\u001b[38;5;241m=\u001b[39malt\u001b[38;5;241m.\u001b[39mY(\u001b[38;5;124m'\u001b[39m\u001b[38;5;124mgame:N\u001b[39m\u001b[38;5;124m'\u001b[39m, title\u001b[38;5;241m=\u001b[39m\u001b[38;5;124m'\u001b[39m\u001b[38;5;124mGame\u001b[39m\u001b[38;5;124m'\u001b[39m, sort\u001b[38;5;241m=\u001b[39m[\u001b[38;5;124m'\u001b[39m\u001b[38;5;124mbattlefield\u001b[39m\u001b[38;5;124m'\u001b[39m,\u001b[38;5;124m'\u001b[39m\u001b[38;5;124mcod\u001b[39m\u001b[38;5;124m'\u001b[39m,\u001b[38;5;124m'\u001b[39m\u001b[38;5;124mfortnite\u001b[39m\u001b[38;5;124m'\u001b[39m,\u001b[38;5;124m'\u001b[39m\u001b[38;5;124msiege\u001b[39m\u001b[38;5;124m'\u001b[39m,\u001b[38;5;124m'\u001b[39m\u001b[38;5;124mvalorant\u001b[39m\u001b[38;5;124m'\u001b[39m,\u001b[38;5;124m'\u001b[39m\u001b[38;5;124mcs\u001b[39m\u001b[38;5;124m'\u001b[39m]),\n\u001b[1;32m      6\u001b[0m     color\u001b[38;5;241m=\u001b[39malt\u001b[38;5;241m.\u001b[39mColor(\u001b[38;5;124m'\u001b[39m\u001b[38;5;124mz_score:Q\u001b[39m\u001b[38;5;124m'\u001b[39m,\n\u001b[1;32m      7\u001b[0m                     scale\u001b[38;5;241m=\u001b[39malt\u001b[38;5;241m.\u001b[39mScale(scheme\u001b[38;5;241m=\u001b[39m\u001b[38;5;124m'\u001b[39m\u001b[38;5;124mredblue\u001b[39m\u001b[38;5;124m'\u001b[39m, domain\u001b[38;5;241m=\u001b[39m[\u001b[38;5;241m-\u001b[39m\u001b[38;5;241m2\u001b[39m, \u001b[38;5;241m2\u001b[39m]),\n\u001b[1;32m      8\u001b[0m                     title\u001b[38;5;241m=\u001b[39m\u001b[38;5;124m'\u001b[39m\u001b[38;5;124mZ-score\u001b[39m\u001b[38;5;124m'\u001b[39m),\n\u001b[1;32m      9\u001b[0m     tooltip\u001b[38;5;241m=\u001b[39m[\n\u001b[1;32m     10\u001b[0m         alt\u001b[38;5;241m.\u001b[39mTooltip(\u001b[38;5;124m'\u001b[39m\u001b[38;5;124myearmonth(month):T\u001b[39m\u001b[38;5;124m'\u001b[39m, title\u001b[38;5;241m=\u001b[39m\u001b[38;5;124m'\u001b[39m\u001b[38;5;124mMonth\u001b[39m\u001b[38;5;124m'\u001b[39m, \u001b[38;5;28mformat\u001b[39m\u001b[38;5;241m=\u001b[39m\u001b[38;5;124m'\u001b[39m\u001b[38;5;124m%\u001b[39m\u001b[38;5;124mY \u001b[39m\u001b[38;5;124m%\u001b[39m\u001b[38;5;124mb\u001b[39m\u001b[38;5;124m'\u001b[39m),\n\u001b[1;32m     11\u001b[0m         alt\u001b[38;5;241m.\u001b[39mTooltip(\u001b[38;5;124m'\u001b[39m\u001b[38;5;124mgame:N\u001b[39m\u001b[38;5;124m'\u001b[39m, title\u001b[38;5;241m=\u001b[39m\u001b[38;5;124m'\u001b[39m\u001b[38;5;124mGame\u001b[39m\u001b[38;5;124m'\u001b[39m),\n\u001b[1;32m     12\u001b[0m         alt\u001b[38;5;241m.\u001b[39mTooltip(\u001b[38;5;124m'\u001b[39m\u001b[38;5;124mz_score:Q\u001b[39m\u001b[38;5;124m'\u001b[39m, title\u001b[38;5;241m=\u001b[39m\u001b[38;5;124m'\u001b[39m\u001b[38;5;124mZ\u001b[39m\u001b[38;5;124m'\u001b[39m, \u001b[38;5;28mformat\u001b[39m\u001b[38;5;241m=\u001b[39m\u001b[38;5;124m'\u001b[39m\u001b[38;5;124m.2f\u001b[39m\u001b[38;5;124m'\u001b[39m)\n\u001b[1;32m     13\u001b[0m     ]\n\u001b[1;32m     14\u001b[0m )\u001b[38;5;241m.\u001b[39mproperties(width\u001b[38;5;241m=\u001b[39m\u001b[38;5;241m900\u001b[39m, height\u001b[38;5;241m=\u001b[39m\u001b[38;5;241m240\u001b[39m, title\u001b[38;5;241m=\u001b[39m\u001b[38;5;124m'\u001b[39m\u001b[38;5;124mZ-scored Playerbases Over Time\u001b[39m\u001b[38;5;124m'\u001b[39m)\n",
      "\u001b[0;31mNameError\u001b[0m: name 'long_z' is not defined"
     ]
    }
   ],
   "source": [
    "heat = alt.Chart(long_z).mark_rect().encode(\n",
    "    # yearmonth() makes x discrete → one tile per month\n",
    "    x=alt.X('yearmonth(month):T', title='Month',\n",
    "            axis=alt.Axis(format='%Y %b')),\n",
    "    y=alt.Y('game:N', title='Game', sort=['battlefield','cod','fortnite','siege','valorant','cs']),\n",
    "    color=alt.Color('z_score:Q',\n",
    "                    scale=alt.Scale(scheme='redblue', domain=[-2, 2]),\n",
    "                    title='Z-score'),\n",
    "    tooltip=[\n",
    "        alt.Tooltip('yearmonth(month):T', title='Month', format='%Y %b'),\n",
    "        alt.Tooltip('game:N', title='Game'),\n",
    "        alt.Tooltip('z_score:Q', title='Z', format='.2f')\n",
    "    ]\n",
    ").properties(width=900, height=240, title='Z-scored Playerbases Over Time')\n"
   ]
  },
  {
   "cell_type": "code",
   "execution_count": null,
   "id": "acbe3f82",
   "metadata": {},
   "outputs": [
    {
     "data": {
      "application/vnd.vegalite.v5+json": {
       "$schema": "https://vega.github.io/schema/vega-lite/v5.20.1.json",
       "config": {
        "view": {
         "continuousHeight": 300,
         "continuousWidth": 300
        }
       },
       "data": {
        "name": "data-d31c41af6f3dc75ee26abdb4615cf737"
       },
       "datasets": {
        "data-d31c41af6f3dc75ee26abdb4615cf737": [
         {
          "game": "cs",
          "month": "2020-01-01T00:00:00",
          "z_score": -1.417432446348763
         },
         {
          "game": "cs",
          "month": "2020-02-01T00:00:00",
          "z_score": -1.0600225719453817
         },
         {
          "game": "cs",
          "month": "2020-03-01T00:00:00",
          "z_score": -0.040570691214189256
         },
         {
          "game": "cs",
          "month": "2020-04-01T00:00:00",
          "z_score": 0.2357100592106968
         },
         {
          "game": "cs",
          "month": "2020-05-01T00:00:00",
          "z_score": -0.20396772020837656
         },
         {
          "game": "cs",
          "month": "2020-06-01T00:00:00",
          "z_score": -0.9689693158156397
         },
         {
          "game": "cs",
          "month": "2020-07-01T00:00:00",
          "z_score": -1.294224214419446
         },
         {
          "game": "cs",
          "month": "2020-08-01T00:00:00",
          "z_score": -1.0710690761851624
         },
         {
          "game": "cs",
          "month": "2020-09-01T00:00:00",
          "z_score": -0.9139172930520275
         },
         {
          "game": "cs",
          "month": "2020-10-01T00:00:00",
          "z_score": -1.0013277625786334
         },
         {
          "game": "cs",
          "month": "2020-11-01T00:00:00",
          "z_score": -0.6993998253938289
         },
         {
          "game": "cs",
          "month": "2020-12-01T00:00:00",
          "z_score": -0.2648875830137974
         },
         {
          "game": "cs",
          "month": "2021-01-01T00:00:00",
          "z_score": -0.4059028060319587
         },
         {
          "game": "cs",
          "month": "2021-02-01T00:00:00",
          "z_score": -0.4137561288619631
         },
         {
          "game": "cs",
          "month": "2021-03-01T00:00:00",
          "z_score": -0.15768792139988413
         },
         {
          "game": "cs",
          "month": "2021-04-01T00:00:00",
          "z_score": -0.32832129675435545
         },
         {
          "game": "cs",
          "month": "2021-05-01T00:00:00",
          "z_score": -0.5517652324851039
         },
         {
          "game": "cs",
          "month": "2021-06-01T00:00:00",
          "z_score": -1.0802055788005958
         },
         {
          "game": "cs",
          "month": "2021-07-01T00:00:00",
          "z_score": -1.6215597677136921
         },
         {
          "game": "cs",
          "month": "2021-08-01T00:00:00",
          "z_score": -1.5032446842756146
         },
         {
          "game": "cs",
          "month": "2021-09-01T00:00:00",
          "z_score": -1.0221080551651724
         },
         {
          "game": "cs",
          "month": "2021-10-01T00:00:00",
          "z_score": -1.2934759663604234
         },
         {
          "game": "cs",
          "month": "2021-11-01T00:00:00",
          "z_score": -1.032741053898651
         },
         {
          "game": "cs",
          "month": "2021-12-01T00:00:00",
          "z_score": -1.009519109751091
         },
         {
          "game": "cs",
          "month": "2022-01-01T00:00:00",
          "z_score": -0.8612609767931805
         },
         {
          "game": "cs",
          "month": "2022-02-01T00:00:00",
          "z_score": -0.840726818436583
         },
         {
          "game": "cs",
          "month": "2022-03-01T00:00:00",
          "z_score": -0.8614349116490059
         },
         {
          "game": "cs",
          "month": "2022-04-01T00:00:00",
          "z_score": -0.786646205433807
         },
         {
          "game": "cs",
          "month": "2022-05-01T00:00:00",
          "z_score": -1.0742228761181478
         },
         {
          "game": "cs",
          "month": "2022-06-01T00:00:00",
          "z_score": -1.160671781253115
         },
         {
          "game": "cs",
          "month": "2022-07-01T00:00:00",
          "z_score": -1.0890335931811692
         },
         {
          "game": "cs",
          "month": "2022-08-01T00:00:00",
          "z_score": -0.7268224603990596
         },
         {
          "game": "cs",
          "month": "2022-09-01T00:00:00",
          "z_score": -0.518671664822018
         },
         {
          "game": "cs",
          "month": "2022-10-01T00:00:00",
          "z_score": -0.5631858607543958
         },
         {
          "game": "cs",
          "month": "2022-11-01T00:00:00",
          "z_score": -0.41353953073961447
         },
         {
          "game": "cs",
          "month": "2022-12-01T00:00:00",
          "z_score": -0.629753683689544
         },
         {
          "game": "cs",
          "month": "2023-01-01T00:00:00",
          "z_score": -0.1904401829307843
         },
         {
          "game": "cs",
          "month": "2023-02-01T00:00:00",
          "z_score": 0.3153492506506121
         },
         {
          "game": "cs",
          "month": "2023-03-01T00:00:00",
          "z_score": 0.8532477149753278
         },
         {
          "game": "cs",
          "month": "2023-04-01T00:00:00",
          "z_score": 0.8331336257044974
         },
         {
          "game": "cs",
          "month": "2023-05-01T00:00:00",
          "z_score": 1.8235580762512398
         },
         {
          "game": "cs",
          "month": "2023-06-01T00:00:00",
          "z_score": 1.3463399040814685
         },
         {
          "game": "cs",
          "month": "2023-07-01T00:00:00",
          "z_score": -0.11944522564641921
         },
         {
          "game": "cs",
          "month": "2023-08-01T00:00:00",
          "z_score": 0.9018444573350042
         },
         {
          "game": "cs",
          "month": "2023-09-01T00:00:00",
          "z_score": 0.9777128723722136
         },
         {
          "game": "cs",
          "month": "2023-10-01T00:00:00",
          "z_score": 0.4285644328442989
         },
         {
          "game": "cs",
          "month": "2023-11-01T00:00:00",
          "z_score": -0.3206681630980369
         },
         {
          "game": "cs",
          "month": "2023-12-01T00:00:00",
          "z_score": -0.01905855951729039
         },
         {
          "game": "cs",
          "month": "2024-01-01T00:00:00",
          "z_score": 0.17234526305452236
         },
         {
          "game": "cs",
          "month": "2024-02-01T00:00:00",
          "z_score": 0.49128928000262506
         },
         {
          "game": "cs",
          "month": "2024-03-01T00:00:00",
          "z_score": 0.8953629226132078
         },
         {
          "game": "cs",
          "month": "2024-04-01T00:00:00",
          "z_score": 1.2002838520341024
         },
         {
          "game": "cs",
          "month": "2024-05-01T00:00:00",
          "z_score": 1.2448538383919336
         },
         {
          "game": "cs",
          "month": "2024-06-01T00:00:00",
          "z_score": 0.9056480516350356
         },
         {
          "game": "cs",
          "month": "2024-07-01T00:00:00",
          "z_score": 0.33871231175667205
         },
         {
          "game": "cs",
          "month": "2024-08-01T00:00:00",
          "z_score": 0.5870978494548394
         },
         {
          "game": "cs",
          "month": "2024-09-01T00:00:00",
          "z_score": 0.7639895978292934
         },
         {
          "game": "cs",
          "month": "2024-10-01T00:00:00",
          "z_score": 0.8109815450097504
         },
         {
          "game": "cs",
          "month": "2024-11-01T00:00:00",
          "z_score": 1.0222434772532543
         },
         {
          "game": "cs",
          "month": "2024-12-01T00:00:00",
          "z_score": 1.6247899175195735
         },
         {
          "game": "cs",
          "month": "2025-01-01T00:00:00",
          "z_score": 1.186565970952022
         },
         {
          "game": "cs",
          "month": "2025-02-01T00:00:00",
          "z_score": 1.7898508139081661
         },
         {
          "game": "cs",
          "month": "2025-03-01T00:00:00",
          "z_score": 1.9106305214353925
         },
         {
          "game": "cs",
          "month": "2025-04-01T00:00:00",
          "z_score": 2.022529705946325
         },
         {
          "game": "cs",
          "month": "2025-05-01T00:00:00",
          "z_score": 1.542804246420881
         },
         {
          "game": "cs",
          "month": "2025-06-01T00:00:00",
          "z_score": 1.589487705366478
         },
         {
          "game": "cs",
          "month": "2025-07-01T00:00:00",
          "z_score": 0.734433799497902
         },
         {
          "game": "cs",
          "month": "2025-08-01T00:00:00",
          "z_score": 0.9822975326285932
         },
         {
          "game": "cod",
          "month": "2020-01-01T00:00:00",
          "z_score": null
         },
         {
          "game": "cod",
          "month": "2020-02-01T00:00:00",
          "z_score": null
         },
         {
          "game": "cod",
          "month": "2020-03-01T00:00:00",
          "z_score": null
         },
         {
          "game": "cod",
          "month": "2020-04-01T00:00:00",
          "z_score": null
         },
         {
          "game": "cod",
          "month": "2020-05-01T00:00:00",
          "z_score": null
         },
         {
          "game": "cod",
          "month": "2020-06-01T00:00:00",
          "z_score": -0.9272963094801744
         },
         {
          "game": "cod",
          "month": "2020-07-01T00:00:00",
          "z_score": -0.9334375161824534
         },
         {
          "game": "cod",
          "month": "2020-08-01T00:00:00",
          "z_score": -0.9251237127694625
         },
         {
          "game": "cod",
          "month": "2020-09-01T00:00:00",
          "z_score": -0.9304055367728377
         },
         {
          "game": "cod",
          "month": "2020-10-01T00:00:00",
          "z_score": -0.880030261040464
         },
         {
          "game": "cod",
          "month": "2020-11-01T00:00:00",
          "z_score": -0.9142703852012838
         },
         {
          "game": "cod",
          "month": "2020-12-01T00:00:00",
          "z_score": -0.9337465077146436
         },
         {
          "game": "cod",
          "month": "2021-01-01T00:00:00",
          "z_score": -0.9331961165479299
         },
         {
          "game": "cod",
          "month": "2021-02-01T00:00:00",
          "z_score": -0.9052130709139604
         },
         {
          "game": "cod",
          "month": "2021-03-01T00:00:00",
          "z_score": -0.9440011641892039
         },
         {
          "game": "cod",
          "month": "2021-04-01T00:00:00",
          "z_score": -0.9158443108183774
         },
         {
          "game": "cod",
          "month": "2021-05-01T00:00:00",
          "z_score": -0.9028666664663915
         },
         {
          "game": "cod",
          "month": "2021-06-01T00:00:00",
          "z_score": -0.8545963955470631
         },
         {
          "game": "cod",
          "month": "2021-07-01T00:00:00",
          "z_score": -0.8636633658197675
         },
         {
          "game": "cod",
          "month": "2021-08-01T00:00:00",
          "z_score": -0.8060461010516874
         },
         {
          "game": "cod",
          "month": "2021-09-01T00:00:00",
          "z_score": -0.888160600731217
         },
         {
          "game": "cod",
          "month": "2021-10-01T00:00:00",
          "z_score": -0.8339518988026094
         },
         {
          "game": "cod",
          "month": "2021-11-01T00:00:00",
          "z_score": -0.9020072837674876
         },
         {
          "game": "cod",
          "month": "2021-12-01T00:00:00",
          "z_score": -0.8513809524152095
         },
         {
          "game": "cod",
          "month": "2022-01-01T00:00:00",
          "z_score": -0.8504250098624963
         },
         {
          "game": "cod",
          "month": "2022-02-01T00:00:00",
          "z_score": -0.890004893938977
         },
         {
          "game": "cod",
          "month": "2022-03-01T00:00:00",
          "z_score": -0.9200060405175633
         },
         {
          "game": "cod",
          "month": "2022-04-01T00:00:00",
          "z_score": -0.8147364878945351
         },
         {
          "game": "cod",
          "month": "2022-05-01T00:00:00",
          "z_score": -0.8876874574475508
         },
         {
          "game": "cod",
          "month": "2022-06-01T00:00:00",
          "z_score": -0.8605444825417233
         },
         {
          "game": "cod",
          "month": "2022-07-01T00:00:00",
          "z_score": -0.8428740292945996
         },
         {
          "game": "cod",
          "month": "2022-08-01T00:00:00",
          "z_score": -0.8594630121790579
         },
         {
          "game": "cod",
          "month": "2022-09-01T00:00:00",
          "z_score": -0.8453845854936446
         },
         {
          "game": "cod",
          "month": "2022-10-01T00:00:00",
          "z_score": 1.6263835202759966
         },
         {
          "game": "cod",
          "month": "2022-11-01T00:00:00",
          "z_score": 3.8725105596637883
         },
         {
          "game": "cod",
          "month": "2022-12-01T00:00:00",
          "z_score": 2.1381604014512963
         },
         {
          "game": "cod",
          "month": "2023-01-01T00:00:00",
          "z_score": 0.7625783800676993
         },
         {
          "game": "cod",
          "month": "2023-02-01T00:00:00",
          "z_score": 0.7939699885411413
         },
         {
          "game": "cod",
          "month": "2023-03-01T00:00:00",
          "z_score": 0.7529513626429003
         },
         {
          "game": "cod",
          "month": "2023-04-01T00:00:00",
          "z_score": 0.5976831177173552
         },
         {
          "game": "cod",
          "month": "2023-05-01T00:00:00",
          "z_score": 0.21998924954181412
         },
         {
          "game": "cod",
          "month": "2023-06-01T00:00:00",
          "z_score": 0.2870790359685982
         },
         {
          "game": "cod",
          "month": "2023-07-01T00:00:00",
          "z_score": 0.033812195411874024
         },
         {
          "game": "cod",
          "month": "2023-08-01T00:00:00",
          "z_score": 0.278475552994179
         },
         {
          "game": "cod",
          "month": "2023-09-01T00:00:00",
          "z_score": 0.05957436440822692
         },
         {
          "game": "cod",
          "month": "2023-10-01T00:00:00",
          "z_score": 0.9766805439193232
         },
         {
          "game": "cod",
          "month": "2023-11-01T00:00:00",
          "z_score": 1.0259550373182695
         },
         {
          "game": "cod",
          "month": "2023-12-01T00:00:00",
          "z_score": 0.72096108307584
         },
         {
          "game": "cod",
          "month": "2024-01-01T00:00:00",
          "z_score": 0.5419584260839396
         },
         {
          "game": "cod",
          "month": "2024-02-01T00:00:00",
          "z_score": 0.6603021829127631
         },
         {
          "game": "cod",
          "month": "2024-03-01T00:00:00",
          "z_score": 0.31467584218733
         },
         {
          "game": "cod",
          "month": "2024-04-01T00:00:00",
          "z_score": 0.8072566244253173
         },
         {
          "game": "cod",
          "month": "2024-05-01T00:00:00",
          "z_score": 0.43346377434367683
         },
         {
          "game": "cod",
          "month": "2024-06-01T00:00:00",
          "z_score": 0.5017219350015548
         },
         {
          "game": "cod",
          "month": "2024-07-01T00:00:00",
          "z_score": 0.20614256650554347
         },
         {
          "game": "cod",
          "month": "2024-08-01T00:00:00",
          "z_score": 0.6970432072872469
         },
         {
          "game": "cod",
          "month": "2024-09-01T00:00:00",
          "z_score": 0.6990516522464828
         },
         {
          "game": "cod",
          "month": "2024-10-01T00:00:00",
          "z_score": 2.0844151868209737
         },
         {
          "game": "cod",
          "month": "2024-11-01T00:00:00",
          "z_score": 2.1508097423003303
         },
         {
          "game": "cod",
          "month": "2024-12-01T00:00:00",
          "z_score": 0.7694630976443109
         },
         {
          "game": "cod",
          "month": "2025-01-01T00:00:00",
          "z_score": 0.20985046489182516
         },
         {
          "game": "cod",
          "month": "2025-02-01T00:00:00",
          "z_score": 0.1464589208659418
         },
         {
          "game": "cod",
          "month": "2025-03-01T00:00:00",
          "z_score": -0.12516394789995283
         },
         {
          "game": "cod",
          "month": "2025-04-01T00:00:00",
          "z_score": 0.46584994931135587
         },
         {
          "game": "cod",
          "month": "2025-05-01T00:00:00",
          "z_score": 0.23091982499304028
         },
         {
          "game": "cod",
          "month": "2025-06-01T00:00:00",
          "z_score": 0.01866195434917624
         },
         {
          "game": "cod",
          "month": "2025-07-01T00:00:00",
          "z_score": 0.007605851087997807
         },
         {
          "game": "cod",
          "month": "2025-08-01T00:00:00",
          "z_score": -0.15088749295478196
         },
         {
          "game": "valorant",
          "month": "2020-01-01T00:00:00",
          "z_score": null
         },
         {
          "game": "valorant",
          "month": "2020-02-01T00:00:00",
          "z_score": null
         },
         {
          "game": "valorant",
          "month": "2020-03-01T00:00:00",
          "z_score": null
         },
         {
          "game": "valorant",
          "month": "2020-04-01T00:00:00",
          "z_score": null
         },
         {
          "game": "valorant",
          "month": "2020-05-01T00:00:00",
          "z_score": null
         },
         {
          "game": "valorant",
          "month": "2020-06-01T00:00:00",
          "z_score": -3.1636150845532303
         },
         {
          "game": "valorant",
          "month": "2020-07-01T00:00:00",
          "z_score": -2.6334454926287636
         },
         {
          "game": "valorant",
          "month": "2020-08-01T00:00:00",
          "z_score": -1.915548986369565
         },
         {
          "game": "valorant",
          "month": "2020-09-01T00:00:00",
          "z_score": -1.8784550450078656
         },
         {
          "game": "valorant",
          "month": "2020-10-01T00:00:00",
          "z_score": -1.8920138992371713
         },
         {
          "game": "valorant",
          "month": "2020-11-01T00:00:00",
          "z_score": -1.828541305038049
         },
         {
          "game": "valorant",
          "month": "2020-12-01T00:00:00",
          "z_score": -1.7745210218507774
         },
         {
          "game": "valorant",
          "month": "2021-01-01T00:00:00",
          "z_score": -1.4221482599183222
         },
         {
          "game": "valorant",
          "month": "2021-02-01T00:00:00",
          "z_score": -1.2215967963883763
         },
         {
          "game": "valorant",
          "month": "2021-03-01T00:00:00",
          "z_score": -1.0444324731355261
         },
         {
          "game": "valorant",
          "month": "2021-04-01T00:00:00",
          "z_score": -0.8781232413986552
         },
         {
          "game": "valorant",
          "month": "2021-05-01T00:00:00",
          "z_score": -0.874725892969209
         },
         {
          "game": "valorant",
          "month": "2021-06-01T00:00:00",
          "z_score": -0.5916716619860258
         },
         {
          "game": "valorant",
          "month": "2021-07-01T00:00:00",
          "z_score": -0.747742021218891
         },
         {
          "game": "valorant",
          "month": "2021-08-01T00:00:00",
          "z_score": -0.6719878020641781
         },
         {
          "game": "valorant",
          "month": "2021-09-01T00:00:00",
          "z_score": -0.46980620850476146
         },
         {
          "game": "valorant",
          "month": "2021-10-01T00:00:00",
          "z_score": -0.5815325518110508
         },
         {
          "game": "valorant",
          "month": "2021-11-01T00:00:00",
          "z_score": -0.5774667279115678
         },
         {
          "game": "valorant",
          "month": "2021-12-01T00:00:00",
          "z_score": -0.4782351073249214
         },
         {
          "game": "valorant",
          "month": "2022-01-01T00:00:00",
          "z_score": 0.1922152496335507
         },
         {
          "game": "valorant",
          "month": "2022-02-01T00:00:00",
          "z_score": 0.2108110834959664
         },
         {
          "game": "valorant",
          "month": "2022-03-01T00:00:00",
          "z_score": 0.372075191736133
         },
         {
          "game": "valorant",
          "month": "2022-04-01T00:00:00",
          "z_score": 0.7109685021093276
         },
         {
          "game": "valorant",
          "month": "2022-05-01T00:00:00",
          "z_score": 0.6719851843937376
         },
         {
          "game": "valorant",
          "month": "2022-06-01T00:00:00",
          "z_score": 0.44979683260418285
         },
         {
          "game": "valorant",
          "month": "2022-07-01T00:00:00",
          "z_score": 0.4174792672405744
         },
         {
          "game": "valorant",
          "month": "2022-08-01T00:00:00",
          "z_score": 0.7504010896332063
         },
         {
          "game": "valorant",
          "month": "2022-09-01T00:00:00",
          "z_score": 0.8028163530370899
         },
         {
          "game": "valorant",
          "month": "2022-10-01T00:00:00",
          "z_score": 0.6338020012762932
         },
         {
          "game": "valorant",
          "month": "2022-11-01T00:00:00",
          "z_score": 0.3093043271167244
         },
         {
          "game": "valorant",
          "month": "2022-12-01T00:00:00",
          "z_score": 0.08507525884148365
         },
         {
          "game": "valorant",
          "month": "2023-01-01T00:00:00",
          "z_score": 0.5459453221650654
         },
         {
          "game": "valorant",
          "month": "2023-02-01T00:00:00",
          "z_score": 0.6406204510706689
         },
         {
          "game": "valorant",
          "month": "2023-03-01T00:00:00",
          "z_score": 1.210154086333762
         },
         {
          "game": "valorant",
          "month": "2023-04-01T00:00:00",
          "z_score": 0.9350659112564595
         },
         {
          "game": "valorant",
          "month": "2023-05-01T00:00:00",
          "z_score": 0.8626703571791196
         },
         {
          "game": "valorant",
          "month": "2023-06-01T00:00:00",
          "z_score": 0.784945323034572
         },
         {
          "game": "valorant",
          "month": "2023-07-01T00:00:00",
          "z_score": 0.7838621891765225
         },
         {
          "game": "valorant",
          "month": "2023-08-01T00:00:00",
          "z_score": 0.6878908286488171
         },
         {
          "game": "valorant",
          "month": "2023-09-01T00:00:00",
          "z_score": 0.7099267662245493
         },
         {
          "game": "valorant",
          "month": "2023-10-01T00:00:00",
          "z_score": 0.010404173544820212
         },
         {
          "game": "valorant",
          "month": "2023-11-01T00:00:00",
          "z_score": -0.08509687886031098
         },
         {
          "game": "valorant",
          "month": "2023-12-01T00:00:00",
          "z_score": -0.20956497541527208
         },
         {
          "game": "valorant",
          "month": "2024-01-01T00:00:00",
          "z_score": 0.3704056996992897
         },
         {
          "game": "valorant",
          "month": "2024-02-01T00:00:00",
          "z_score": 0.45364141487601906
         },
         {
          "game": "valorant",
          "month": "2024-03-01T00:00:00",
          "z_score": 0.8794521454258921
         },
         {
          "game": "valorant",
          "month": "2024-04-01T00:00:00",
          "z_score": 0.7964213841496207
         },
         {
          "game": "valorant",
          "month": "2024-05-01T00:00:00",
          "z_score": 0.6125621263669093
         },
         {
          "game": "valorant",
          "month": "2024-06-01T00:00:00",
          "z_score": 0.806394223776211
         },
         {
          "game": "valorant",
          "month": "2024-07-01T00:00:00",
          "z_score": 1.023944645248779
         },
         {
          "game": "valorant",
          "month": "2024-08-01T00:00:00",
          "z_score": 1.3685753075241984
         },
         {
          "game": "valorant",
          "month": "2024-09-01T00:00:00",
          "z_score": 1.3440290239955055
         },
         {
          "game": "valorant",
          "month": "2024-10-01T00:00:00",
          "z_score": 0.7274252144676254
         },
         {
          "game": "valorant",
          "month": "2024-11-01T00:00:00",
          "z_score": 0.34163139365452627
         },
         {
          "game": "valorant",
          "month": "2024-12-01T00:00:00",
          "z_score": 0.08919673247552803
         },
         {
          "game": "valorant",
          "month": "2025-01-01T00:00:00",
          "z_score": 0.6361650790292558
         },
         {
          "game": "valorant",
          "month": "2025-02-01T00:00:00",
          "z_score": 0.5462826138489317
         },
         {
          "game": "valorant",
          "month": "2025-03-01T00:00:00",
          "z_score": 0.7598296477095736
         },
         {
          "game": "valorant",
          "month": "2025-04-01T00:00:00",
          "z_score": 0.3710022377075764
         },
         {
          "game": "valorant",
          "month": "2025-05-01T00:00:00",
          "z_score": 0.24597425053050326
         },
         {
          "game": "valorant",
          "month": "2025-06-01T00:00:00",
          "z_score": 0.30257342385598796
         },
         {
          "game": "valorant",
          "month": "2025-07-01T00:00:00",
          "z_score": 0.24266784191119412
         },
         {
          "game": "valorant",
          "month": "2025-08-01T00:00:00",
          "z_score": 0.24388127758675338
         },
         {
          "game": "siege",
          "month": "2020-01-01T00:00:00",
          "z_score": null
         },
         {
          "game": "siege",
          "month": "2020-02-01T00:00:00",
          "z_score": null
         },
         {
          "game": "siege",
          "month": "2020-03-01T00:00:00",
          "z_score": null
         },
         {
          "game": "siege",
          "month": "2020-04-01T00:00:00",
          "z_score": null
         },
         {
          "game": "siege",
          "month": "2020-05-01T00:00:00",
          "z_score": null
         },
         {
          "game": "siege",
          "month": "2020-06-01T00:00:00",
          "z_score": 1.0071601214097767
         },
         {
          "game": "siege",
          "month": "2020-07-01T00:00:00",
          "z_score": 0.8763097543706854
         },
         {
          "game": "siege",
          "month": "2020-08-01T00:00:00",
          "z_score": 1.179559518575355
         },
         {
          "game": "siege",
          "month": "2020-09-01T00:00:00",
          "z_score": -0.03402109543016376
         },
         {
          "game": "siege",
          "month": "2020-10-01T00:00:00",
          "z_score": 0.6541226002650479
         },
         {
          "game": "siege",
          "month": "2020-11-01T00:00:00",
          "z_score": 0.008271035546174666
         },
         {
          "game": "siege",
          "month": "2020-12-01T00:00:00",
          "z_score": 0.9293606933035713
         },
         {
          "game": "siege",
          "month": "2021-01-01T00:00:00",
          "z_score": 0.9243528397502233
         },
         {
          "game": "siege",
          "month": "2021-02-01T00:00:00",
          "z_score": 0.5874373761740147
         },
         {
          "game": "siege",
          "month": "2021-03-01T00:00:00",
          "z_score": 3.409895947573517
         },
         {
          "game": "siege",
          "month": "2021-04-01T00:00:00",
          "z_score": 1.5183488886424936
         },
         {
          "game": "siege",
          "month": "2021-05-01T00:00:00",
          "z_score": 0.4479282687975217
         },
         {
          "game": "siege",
          "month": "2021-06-01T00:00:00",
          "z_score": 0.1709131954658749
         },
         {
          "game": "siege",
          "month": "2021-07-01T00:00:00",
          "z_score": -0.15530807761899068
         },
         {
          "game": "siege",
          "month": "2021-08-01T00:00:00",
          "z_score": -0.05592641613448572
         },
         {
          "game": "siege",
          "month": "2021-09-01T00:00:00",
          "z_score": 0.5251138309842845
         },
         {
          "game": "siege",
          "month": "2021-10-01T00:00:00",
          "z_score": -0.4762630272896904
         },
         {
          "game": "siege",
          "month": "2021-11-01T00:00:00",
          "z_score": -0.7739556894867738
         },
         {
          "game": "siege",
          "month": "2021-12-01T00:00:00",
          "z_score": -0.3606300733062563
         },
         {
          "game": "siege",
          "month": "2022-01-01T00:00:00",
          "z_score": -0.6530564120891739
         },
         {
          "game": "siege",
          "month": "2022-02-01T00:00:00",
          "z_score": -0.5551286435717699
         },
         {
          "game": "siege",
          "month": "2022-03-01T00:00:00",
          "z_score": 0.4557792908198672
         },
         {
          "game": "siege",
          "month": "2022-04-01T00:00:00",
          "z_score": -0.05689567811255307
         },
         {
          "game": "siege",
          "month": "2022-05-01T00:00:00",
          "z_score": -0.03402109543016376
         },
         {
          "game": "siege",
          "month": "2022-06-01T00:00:00",
          "z_score": -0.7876869008427279
         },
         {
          "game": "siege",
          "month": "2022-07-01T00:00:00",
          "z_score": -0.9861271364857154
         },
         {
          "game": "siege",
          "month": "2022-08-01T00:00:00",
          "z_score": -1.0644111955809545
         },
         {
          "game": "siege",
          "month": "2022-09-01T00:00:00",
          "z_score": -0.9288760623145376
         },
         {
          "game": "siege",
          "month": "2022-10-01T00:00:00",
          "z_score": -1.304174300222213
         },
         {
          "game": "siege",
          "month": "2022-11-01T00:00:00",
          "z_score": -1.5861326096420032
         },
         {
          "game": "siege",
          "month": "2022-12-01T00:00:00",
          "z_score": -1.0024753551824512
         },
         {
          "game": "siege",
          "month": "2023-01-01T00:00:00",
          "z_score": -0.9143048239109252
         },
         {
          "game": "siege",
          "month": "2023-02-01T00:00:00",
          "z_score": -0.9799884772912888
         },
         {
          "game": "siege",
          "month": "2023-03-01T00:00:00",
          "z_score": -0.22913353161512
         },
         {
          "game": "siege",
          "month": "2023-04-01T00:00:00",
          "z_score": -0.5166166343098941
         },
         {
          "game": "siege",
          "month": "2023-05-01T00:00:00",
          "z_score": -0.9185372678818192
         },
         {
          "game": "siege",
          "month": "2023-06-01T00:00:00",
          "z_score": -0.8643232145752525
         },
         {
          "game": "siege",
          "month": "2023-07-01T00:00:00",
          "z_score": -0.785069893501946
         },
         {
          "game": "siege",
          "month": "2023-08-01T00:00:00",
          "z_score": -0.3418263909317498
         },
         {
          "game": "siege",
          "month": "2023-09-01T00:00:00",
          "z_score": -0.010855734154354249
         },
         {
          "game": "siege",
          "month": "2023-10-01T00:00:00",
          "z_score": -0.012051157260637305
         },
         {
          "game": "siege",
          "month": "2023-11-01T00:00:00",
          "z_score": -1.1452153358191686
         },
         {
          "game": "siege",
          "month": "2023-12-01T00:00:00",
          "z_score": -1.0702590761819608
         },
         {
          "game": "siege",
          "month": "2024-01-01T00:00:00",
          "z_score": -0.03402109543016376
         },
         {
          "game": "siege",
          "month": "2024-02-01T00:00:00",
          "z_score": 0.22231638903604636
         },
         {
          "game": "siege",
          "month": "2024-03-01T00:00:00",
          "z_score": 3.4439493517362827
         },
         {
          "game": "siege",
          "month": "2024-04-01T00:00:00",
          "z_score": 1.9599123371173732
         },
         {
          "game": "siege",
          "month": "2024-05-01T00:00:00",
          "z_score": 0.1968571077454775
         },
         {
          "game": "siege",
          "month": "2024-06-01T00:00:00",
          "z_score": -0.2133991788378268
         },
         {
          "game": "siege",
          "month": "2024-07-01T00:00:00",
          "z_score": -0.7008410276078939
         },
         {
          "game": "siege",
          "month": "2024-08-01T00:00:00",
          "z_score": -0.6347050519710988
         },
         {
          "game": "siege",
          "month": "2024-09-01T00:00:00",
          "z_score": -0.14080145668058278
         },
         {
          "game": "siege",
          "month": "2024-10-01T00:00:00",
          "z_score": -0.6161275307248081
         },
         {
          "game": "siege",
          "month": "2024-11-01T00:00:00",
          "z_score": -1.1730654633223037
         },
         {
          "game": "siege",
          "month": "2024-12-01T00:00:00",
          "z_score": -0.5943514449508951
         },
         {
          "game": "siege",
          "month": "2025-01-01T00:00:00",
          "z_score": 0.013472741495136076
         },
         {
          "game": "siege",
          "month": "2025-02-01T00:00:00",
          "z_score": 0.2025111359508703
         },
         {
          "game": "siege",
          "month": "2025-03-01T00:00:00",
          "z_score": 1.6203475574677806
         },
         {
          "game": "siege",
          "month": "2025-04-01T00:00:00",
          "z_score": 0.38686476417927906
         },
         {
          "game": "siege",
          "month": "2025-05-01T00:00:00",
          "z_score": -0.19898948409722564
         },
         {
          "game": "siege",
          "month": "2025-06-01T00:00:00",
          "z_score": 1.5033899454476543
         },
         {
          "game": "siege",
          "month": "2025-07-01T00:00:00",
          "z_score": 0.5076994241116746
         },
         {
          "game": "siege",
          "month": "2025-08-01T00:00:00",
          "z_score": 0.1576989238315568
         },
         {
          "game": "fortnite",
          "month": "2020-01-01T00:00:00",
          "z_score": null
         },
         {
          "game": "fortnite",
          "month": "2020-02-01T00:00:00",
          "z_score": null
         },
         {
          "game": "fortnite",
          "month": "2020-03-01T00:00:00",
          "z_score": null
         },
         {
          "game": "fortnite",
          "month": "2020-04-01T00:00:00",
          "z_score": null
         },
         {
          "game": "fortnite",
          "month": "2020-05-01T00:00:00",
          "z_score": null
         },
         {
          "game": "fortnite",
          "month": "2020-06-01T00:00:00",
          "z_score": null
         },
         {
          "game": "fortnite",
          "month": "2020-07-01T00:00:00",
          "z_score": null
         },
         {
          "game": "fortnite",
          "month": "2020-08-01T00:00:00",
          "z_score": null
         },
         {
          "game": "fortnite",
          "month": "2020-09-01T00:00:00",
          "z_score": null
         },
         {
          "game": "fortnite",
          "month": "2020-10-01T00:00:00",
          "z_score": null
         },
         {
          "game": "fortnite",
          "month": "2020-11-01T00:00:00",
          "z_score": null
         },
         {
          "game": "fortnite",
          "month": "2020-12-01T00:00:00",
          "z_score": null
         },
         {
          "game": "fortnite",
          "month": "2021-01-01T00:00:00",
          "z_score": null
         },
         {
          "game": "fortnite",
          "month": "2021-02-01T00:00:00",
          "z_score": null
         },
         {
          "game": "fortnite",
          "month": "2021-03-01T00:00:00",
          "z_score": null
         },
         {
          "game": "fortnite",
          "month": "2021-04-01T00:00:00",
          "z_score": null
         },
         {
          "game": "fortnite",
          "month": "2021-05-01T00:00:00",
          "z_score": null
         },
         {
          "game": "fortnite",
          "month": "2021-06-01T00:00:00",
          "z_score": null
         },
         {
          "game": "fortnite",
          "month": "2021-07-01T00:00:00",
          "z_score": null
         },
         {
          "game": "fortnite",
          "month": "2021-08-01T00:00:00",
          "z_score": null
         },
         {
          "game": "fortnite",
          "month": "2021-09-01T00:00:00",
          "z_score": null
         },
         {
          "game": "fortnite",
          "month": "2021-10-01T00:00:00",
          "z_score": null
         },
         {
          "game": "fortnite",
          "month": "2021-11-01T00:00:00",
          "z_score": null
         },
         {
          "game": "fortnite",
          "month": "2021-12-01T00:00:00",
          "z_score": null
         },
         {
          "game": "fortnite",
          "month": "2022-01-01T00:00:00",
          "z_score": null
         },
         {
          "game": "fortnite",
          "month": "2022-02-01T00:00:00",
          "z_score": null
         },
         {
          "game": "fortnite",
          "month": "2022-03-01T00:00:00",
          "z_score": null
         },
         {
          "game": "fortnite",
          "month": "2022-04-01T00:00:00",
          "z_score": null
         },
         {
          "game": "fortnite",
          "month": "2022-05-01T00:00:00",
          "z_score": null
         },
         {
          "game": "fortnite",
          "month": "2022-06-01T00:00:00",
          "z_score": null
         },
         {
          "game": "fortnite",
          "month": "2022-07-01T00:00:00",
          "z_score": null
         },
         {
          "game": "fortnite",
          "month": "2022-08-01T00:00:00",
          "z_score": null
         },
         {
          "game": "fortnite",
          "month": "2022-09-01T00:00:00",
          "z_score": null
         },
         {
          "game": "fortnite",
          "month": "2022-10-01T00:00:00",
          "z_score": null
         },
         {
          "game": "fortnite",
          "month": "2022-11-01T00:00:00",
          "z_score": null
         },
         {
          "game": "fortnite",
          "month": "2022-12-01T00:00:00",
          "z_score": null
         },
         {
          "game": "fortnite",
          "month": "2023-01-01T00:00:00",
          "z_score": null
         },
         {
          "game": "fortnite",
          "month": "2023-02-01T00:00:00",
          "z_score": null
         },
         {
          "game": "fortnite",
          "month": "2023-03-01T00:00:00",
          "z_score": null
         },
         {
          "game": "fortnite",
          "month": "2023-04-01T00:00:00",
          "z_score": -0.7545540745303746
         },
         {
          "game": "fortnite",
          "month": "2023-05-01T00:00:00",
          "z_score": -0.7613846942882806
         },
         {
          "game": "fortnite",
          "month": "2023-06-01T00:00:00",
          "z_score": -0.65799021807981
         },
         {
          "game": "fortnite",
          "month": "2023-07-01T00:00:00",
          "z_score": -0.7622811427861196
         },
         {
          "game": "fortnite",
          "month": "2023-08-01T00:00:00",
          "z_score": -0.42903800001337905
         },
         {
          "game": "fortnite",
          "month": "2023-09-01T00:00:00",
          "z_score": -0.5882555953647912
         },
         {
          "game": "fortnite",
          "month": "2023-10-01T00:00:00",
          "z_score": -0.5863190282627387
         },
         {
          "game": "fortnite",
          "month": "2023-11-01T00:00:00",
          "z_score": 0.6814577699484596
         },
         {
          "game": "fortnite",
          "month": "2023-12-01T00:00:00",
          "z_score": 2.483594342444439
         },
         {
          "game": "fortnite",
          "month": "2024-01-01T00:00:00",
          "z_score": 0.25158456330286205
         },
         {
          "game": "fortnite",
          "month": "2024-02-01T00:00:00",
          "z_score": 0.11758074058306142
         },
         {
          "game": "fortnite",
          "month": "2024-03-01T00:00:00",
          "z_score": 0.3439323311018472
         },
         {
          "game": "fortnite",
          "month": "2024-04-01T00:00:00",
          "z_score": -0.4144591256245944
         },
         {
          "game": "fortnite",
          "month": "2024-05-01T00:00:00",
          "z_score": -0.5425251356761019
         },
         {
          "game": "fortnite",
          "month": "2024-06-01T00:00:00",
          "z_score": -0.6573390680815643
         },
         {
          "game": "fortnite",
          "month": "2024-07-01T00:00:00",
          "z_score": -0.40749476687365777
         },
         {
          "game": "fortnite",
          "month": "2024-08-01T00:00:00",
          "z_score": -0.2906929566138663
         },
         {
          "game": "fortnite",
          "month": "2024-09-01T00:00:00",
          "z_score": -0.47756439914547605
         },
         {
          "game": "fortnite",
          "month": "2024-10-01T00:00:00",
          "z_score": 1.897853304978313
         },
         {
          "game": "fortnite",
          "month": "2024-11-01T00:00:00",
          "z_score": 3.3865000501795985
         },
         {
          "game": "fortnite",
          "month": "2024-12-01T00:00:00",
          "z_score": 0.012720763082148662
         },
         {
          "game": "fortnite",
          "month": "2025-01-01T00:00:00",
          "z_score": -0.15271999892763682
         },
         {
          "game": "fortnite",
          "month": "2025-02-01T00:00:00",
          "z_score": -0.0015254190096167027
         },
         {
          "game": "fortnite",
          "month": "2025-03-01T00:00:00",
          "z_score": -0.44914453208935545
         },
         {
          "game": "fortnite",
          "month": "2025-04-01T00:00:00",
          "z_score": -0.6559222292445072
         },
         {
          "game": "fortnite",
          "month": "2025-05-01T00:00:00",
          "z_score": -0.5818755171155848
         },
         {
          "game": "fortnite",
          "month": "2025-06-01T00:00:00",
          "z_score": 0.6073024776469779
         },
         {
          "game": "fortnite",
          "month": "2025-07-01T00:00:00",
          "z_score": -0.5685516044163526
         },
         {
          "game": "fortnite",
          "month": "2025-08-01T00:00:00",
          "z_score": -0.04288883712389983
         },
         {
          "game": "battlefield",
          "month": "2020-01-01T00:00:00",
          "z_score": null
         },
         {
          "game": "battlefield",
          "month": "2020-02-01T00:00:00",
          "z_score": null
         },
         {
          "game": "battlefield",
          "month": "2020-03-01T00:00:00",
          "z_score": null
         },
         {
          "game": "battlefield",
          "month": "2020-04-01T00:00:00",
          "z_score": null
         },
         {
          "game": "battlefield",
          "month": "2020-05-01T00:00:00",
          "z_score": null
         },
         {
          "game": "battlefield",
          "month": "2020-06-01T00:00:00",
          "z_score": -1.5018032902904057
         },
         {
          "game": "battlefield",
          "month": "2020-07-01T00:00:00",
          "z_score": -1.512511238393521
         },
         {
          "game": "battlefield",
          "month": "2020-08-01T00:00:00",
          "z_score": -1.257770052847976
         },
         {
          "game": "battlefield",
          "month": "2020-09-01T00:00:00",
          "z_score": -1.4545398470873687
         },
         {
          "game": "battlefield",
          "month": "2020-10-01T00:00:00",
          "z_score": -1.261504337270491
         },
         {
          "game": "battlefield",
          "month": "2020-11-01T00:00:00",
          "z_score": -1.2412807125967498
         },
         {
          "game": "battlefield",
          "month": "2020-12-01T00:00:00",
          "z_score": -1.2303253119114195
         },
         {
          "game": "battlefield",
          "month": "2021-01-01T00:00:00",
          "z_score": -1.2203147301763642
         },
         {
          "game": "battlefield",
          "month": "2021-02-01T00:00:00",
          "z_score": -0.7678364357518591
         },
         {
          "game": "battlefield",
          "month": "2021-03-01T00:00:00",
          "z_score": -1.0704259524220399
         },
         {
          "game": "battlefield",
          "month": "2021-04-01T00:00:00",
          "z_score": -0.7232274838853088
         },
         {
          "game": "battlefield",
          "month": "2021-05-01T00:00:00",
          "z_score": -1.0697285860539798
         },
         {
          "game": "battlefield",
          "month": "2021-06-01T00:00:00",
          "z_score": -0.37652392051300726
         },
         {
          "game": "battlefield",
          "month": "2021-07-01T00:00:00",
          "z_score": 0.28149748697487165
         },
         {
          "game": "battlefield",
          "month": "2021-08-01T00:00:00",
          "z_score": 1.2982576516064108
         },
         {
          "game": "battlefield",
          "month": "2021-09-01T00:00:00",
          "z_score": 0.8676676628632741
         },
         {
          "game": "battlefield",
          "month": "2021-10-01T00:00:00",
          "z_score": 1.2016161704068646
         },
         {
          "game": "battlefield",
          "month": "2021-11-01T00:00:00",
          "z_score": 2.1330951769314486
         },
         {
          "game": "battlefield",
          "month": "2021-12-01T00:00:00",
          "z_score": 0.3975302523443455
         },
         {
          "game": "battlefield",
          "month": "2022-01-01T00:00:00",
          "z_score": -0.3016807622376603
         },
         {
          "game": "battlefield",
          "month": "2022-02-01T00:00:00",
          "z_score": -0.39060622200996165
         },
         {
          "game": "battlefield",
          "month": "2022-03-01T00:00:00",
          "z_score": -0.4960435177227813
         },
         {
          "game": "battlefield",
          "month": "2022-04-01T00:00:00",
          "z_score": -0.5887482532961822
         },
         {
          "game": "battlefield",
          "month": "2022-05-01T00:00:00",
          "z_score": -0.8070914135668517
         },
         {
          "game": "battlefield",
          "month": "2022-06-01T00:00:00",
          "z_score": -0.5851939343880052
         },
         {
          "game": "battlefield",
          "month": "2022-07-01T00:00:00",
          "z_score": -0.6547281099903789
         },
         {
          "game": "battlefield",
          "month": "2022-08-01T00:00:00",
          "z_score": -0.4820961903615805
         },
         {
          "game": "battlefield",
          "month": "2022-09-01T00:00:00",
          "z_score": -0.35342084760985687
         },
         {
          "game": "battlefield",
          "month": "2022-10-01T00:00:00",
          "z_score": -0.5356134351878655
         },
         {
          "game": "battlefield",
          "month": "2022-11-01T00:00:00",
          "z_score": 1.4411502699908423
         },
         {
          "game": "battlefield",
          "month": "2022-12-01T00:00:00",
          "z_score": 1.3051638282191345
         },
         {
          "game": "battlefield",
          "month": "2023-01-01T00:00:00",
          "z_score": 0.3024634693952574
         },
         {
          "game": "battlefield",
          "month": "2023-02-01T00:00:00",
          "z_score": 0.10758331305641446
         },
         {
          "game": "battlefield",
          "month": "2023-03-01T00:00:00",
          "z_score": -0.06840046427693063
         },
         {
          "game": "battlefield",
          "month": "2023-04-01T00:00:00",
          "z_score": -0.24121234942006714
         },
         {
          "game": "battlefield",
          "month": "2023-05-01T00:00:00",
          "z_score": -0.3270334040700366
         },
         {
          "game": "battlefield",
          "month": "2023-06-01T00:00:00",
          "z_score": -0.34253293399240337
         },
         {
          "game": "battlefield",
          "month": "2023-07-01T00:00:00",
          "z_score": -0.4956385953155206
         },
         {
          "game": "battlefield",
          "month": "2023-08-01T00:00:00",
          "z_score": -0.5387403359994896
         },
         {
          "game": "battlefield",
          "month": "2023-09-01T00:00:00",
          "z_score": -0.6123687270530546
         },
         {
          "game": "battlefield",
          "month": "2023-10-01T00:00:00",
          "z_score": 2.102883466211944
         },
         {
          "game": "battlefield",
          "month": "2023-11-01T00:00:00",
          "z_score": 3.1640051301278183
         },
         {
          "game": "battlefield",
          "month": "2023-12-01T00:00:00",
          "z_score": 2.5239352826951627
         },
         {
          "game": "battlefield",
          "month": "2024-01-01T00:00:00",
          "z_score": 1.0904874653031034
         },
         {
          "game": "battlefield",
          "month": "2024-02-01T00:00:00",
          "z_score": 0.8630785422476532
         },
         {
          "game": "battlefield",
          "month": "2024-03-01T00:00:00",
          "z_score": 1.0797570215106955
         },
         {
          "game": "battlefield",
          "month": "2024-04-01T00:00:00",
          "z_score": 0.2278227723235408
         },
         {
          "game": "battlefield",
          "month": "2024-05-01T00:00:00",
          "z_score": 0.04392051235932043
         },
         {
          "game": "battlefield",
          "month": "2024-06-01T00:00:00",
          "z_score": 0.5182421210866093
         },
         {
          "game": "battlefield",
          "month": "2024-07-01T00:00:00",
          "z_score": 0.6469849509062097
         },
         {
          "game": "battlefield",
          "month": "2024-08-01T00:00:00",
          "z_score": 0.2684499871853612
         },
         {
          "game": "battlefield",
          "month": "2024-09-01T00:00:00",
          "z_score": 0.09638045978886929
         },
         {
          "game": "battlefield",
          "month": "2024-10-01T00:00:00",
          "z_score": 0.10670598117401633
         },
         {
          "game": "battlefield",
          "month": "2024-11-01T00:00:00",
          "z_score": 0.49363183700087754
         },
         {
          "game": "battlefield",
          "month": "2024-12-01T00:00:00",
          "z_score": 0.059622503485317474
         },
         {
          "game": "battlefield",
          "month": "2025-01-01T00:00:00",
          "z_score": 0.09545813652788665
         },
         {
          "game": "battlefield",
          "month": "2025-02-01T00:00:00",
          "z_score": 0.4049538298107911
         },
         {
          "game": "battlefield",
          "month": "2025-03-01T00:00:00",
          "z_score": 0.20597945802075696
         },
         {
          "game": "battlefield",
          "month": "2025-04-01T00:00:00",
          "z_score": -0.43157087221116597
         },
         {
          "game": "battlefield",
          "month": "2025-05-01T00:00:00",
          "z_score": -0.28762095642999824
         },
         {
          "game": "battlefield",
          "month": "2025-06-01T00:00:00",
          "z_score": -0.5938772704548173
         },
         {
          "game": "battlefield",
          "month": "2025-07-01T00:00:00",
          "z_score": -0.6140783994392662
         },
         {
          "game": "battlefield",
          "month": "2025-08-01T00:00:00",
          "z_score": 1.1077641546795585
         }
        ]
       },
       "encoding": {
        "color": {
         "field": "z_score",
         "scale": {
          "domain": [
           -2,
           2
          ],
          "scheme": "redblue"
         },
         "title": "Z-score",
         "type": "quantitative"
        },
        "tooltip": [
         {
          "field": "month",
          "format": "%Y %b",
          "timeUnit": "yearmonth",
          "title": "Month",
          "type": "temporal"
         },
         {
          "field": "game",
          "title": "Game",
          "type": "nominal"
         },
         {
          "field": "z_score",
          "format": ".2f",
          "title": "Z",
          "type": "quantitative"
         }
        ],
        "x": {
         "field": "ym",
         "type": "temporal"
        },
        "y": {
         "field": "game",
         "sort": [
          "battlefield",
          "cod",
          "fortnite",
          "siege",
          "valorant",
          "cs"
         ],
         "title": "Game",
         "type": "nominal"
        }
       },
       "height": 240,
       "mark": {
        "type": "rect"
       },
       "title": "Z-scored Playerbases Over Time",
       "transform": [
        {
         "as": "ym",
         "field": "month",
         "timeUnit": "yearmonth"
        },
        {
         "groupby": [
          "game"
         ],
         "impute": "z_score",
         "key": "ym",
         "value": null
        },
        {
         "as": "ym",
         "field": "month",
         "timeUnit": "yearmonth"
        },
        {
         "groupby": [
          "game"
         ],
         "impute": "z_score",
         "key": "ym",
         "value": null
        }
       ],
       "usermeta": {
        "embedOptions": {
         "theme": "fivethirtyeight"
        }
       },
       "width": 900
      },
      "text/plain": [
       "<VegaLite 5 object>\n",
       "\n",
       "If you see this message, it means the renderer has not been properly enabled\n",
       "for the frontend that you are using. For more information, see\n",
       "https://altair-viz.github.io/user_guide/display_frontends.html#troubleshooting\n"
      ]
     },
     "execution_count": 99,
     "metadata": {},
     "output_type": "execute_result"
    }
   ],
   "source": [
    "heat = heat.transform_timeunit(ym='yearmonth(month)').transform_impute(\n",
    "    impute='z_score', key='ym', groupby=['game'], value=None\n",
    ").encode(x='ym:T')\n",
    "\n",
    "heat"
   ]
  },
  {
   "cell_type": "code",
   "execution_count": null,
   "id": "39c5338f",
   "metadata": {},
   "outputs": [],
   "source": []
  }
 ],
 "metadata": {
  "kernelspec": {
   "display_name": ".venv",
   "language": "python",
   "name": "python3"
  },
  "language_info": {
   "codemirror_mode": {
    "name": "ipython",
    "version": 3
   },
   "file_extension": ".py",
   "mimetype": "text/x-python",
   "name": "python",
   "nbconvert_exporter": "python",
   "pygments_lexer": "ipython3",
   "version": "3.12.3"
  }
 },
 "nbformat": 4,
 "nbformat_minor": 5
}
