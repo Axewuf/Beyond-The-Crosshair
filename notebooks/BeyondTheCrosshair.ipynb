{
 "cells": [
  {
   "cell_type": "markdown",
   "id": "aa97259c",
   "metadata": {},
   "source": [
    "# Beyond The Crosshair"
   ]
  },
  {
   "cell_type": "code",
   "execution_count": 2,
   "id": "4a8c56f6",
   "metadata": {},
   "outputs": [
    {
     "data": {
      "text/plain": [
       "ThemeRegistry.enable('fivethirtyeight')"
      ]
     },
     "execution_count": 2,
     "metadata": {},
     "output_type": "execute_result"
    }
   ],
   "source": [
    "import pandas as pd\n",
    "import numpy as np\n",
    "import altair as alt\n",
    "import matplotlib.pyplot as plt\n",
    "import json\n",
    "import ast\n",
    "\n",
    "alt.data_transformers.enable(\"default\", max_rows=None)\n",
    "alt.renderers.enable(\"mimetype\")\n",
    "alt.theme.enable(\"fivethirtyeight\")"
   ]
  },
  {
   "cell_type": "markdown",
   "id": "f392f6eb",
   "metadata": {},
   "source": [
    "## Datasets & Cleaning"
   ]
  },
  {
   "cell_type": "markdown",
   "id": "180cccb3",
   "metadata": {},
   "source": [
    "### Counter-Strike Playerbase Data from SteamDB"
   ]
  },
  {
   "cell_type": "code",
   "execution_count": 3,
   "id": "a3bdbce8",
   "metadata": {},
   "outputs": [],
   "source": [
    "cs_data = pd.read_csv(\"../assets/SteamDB Counter-Strike.csv\")\n",
    "cs2_data = pd.read_csv(\"../assets/SteamDB Counter-Strike 2.csv\")\n",
    "css_data = pd.read_csv(\"../assets/SteamDB Counter-Strike Source.csv\")\n",
    "cscz_data = pd.read_csv(\"../assets/SteamDB Counter-Strike Condition Zero.csv\")"
   ]
  },
  {
   "cell_type": "code",
   "execution_count": 4,
   "id": "1f76a48f",
   "metadata": {},
   "outputs": [
    {
     "data": {
      "text/html": [
       "<div>\n",
       "<style scoped>\n",
       "    .dataframe tbody tr th:only-of-type {\n",
       "        vertical-align: middle;\n",
       "    }\n",
       "\n",
       "    .dataframe tbody tr th {\n",
       "        vertical-align: top;\n",
       "    }\n",
       "\n",
       "    .dataframe thead th {\n",
       "        text-align: right;\n",
       "    }\n",
       "</style>\n",
       "<table border=\"1\" class=\"dataframe\">\n",
       "  <thead>\n",
       "    <tr style=\"text-align: right;\">\n",
       "      <th></th>\n",
       "      <th>month</th>\n",
       "      <th>peak</th>\n",
       "      <th>gain</th>\n",
       "      <th>%gain</th>\n",
       "      <th>average</th>\n",
       "      <th>average % gain</th>\n",
       "    </tr>\n",
       "  </thead>\n",
       "  <tbody>\n",
       "    <tr>\n",
       "      <th>241</th>\n",
       "      <td>Jan-04</td>\n",
       "      <td>23,241</td>\n",
       "      <td>-</td>\n",
       "      <td>-</td>\n",
       "      <td>-</td>\n",
       "      <td>-</td>\n",
       "    </tr>\n",
       "  </tbody>\n",
       "</table>\n",
       "</div>"
      ],
      "text/plain": [
       "      month    peak gain %gain average average % gain\n",
       "241  Jan-04  23,241    -     -       -              -"
      ]
     },
     "execution_count": 4,
     "metadata": {},
     "output_type": "execute_result"
    }
   ],
   "source": [
    "cs_data_with_dash = cs_data[cs_data[\"gain\"] == \"-\"]\n",
    "cs_data_with_dash"
   ]
  },
  {
   "cell_type": "code",
   "execution_count": 5,
   "id": "bbc1ea2b",
   "metadata": {},
   "outputs": [],
   "source": [
    "cs_data[['peak', 'gain', 'average']] = cs_data[['peak', 'gain', 'average']].replace({\",\": \"\", \"-\": \"0\"}, regex=True).astype(float)\n",
    "cs2_data[['peak', 'gain', 'average']] = cs2_data[['peak', 'gain', 'average']].replace({\",\": \"\", \"-\": \"0\"}, regex=True).astype(float)\n",
    "css_data[['peak', 'gain', 'average']] = css_data[['peak', 'gain', 'average']].replace({\",\": \"\", \"-\": \"0\"}, regex=True).astype(float)\n",
    "cscz_data[['peak', 'gain', 'average']] = cscz_data[['peak', 'gain', 'average']].replace({\",\": \"\", \"-\": \"0\"}, regex=True).astype(float)\n",
    "\n",
    "fields_to_keep = ['month', 'peak', 'gain', 'average']\n",
    "cs_data = cs_data[fields_to_keep][1:]\n",
    "cs2_data = cs2_data[fields_to_keep][1:]\n",
    "css_data = css_data[fields_to_keep][1:]\n",
    "cscz_data = cscz_data[fields_to_keep][1:]\n",
    "\n",
    "split_date = pd.Timestamp(\"2023-09-01\")\n",
    "\n",
    "\n",
    "\n",
    "cs_data[\"month\"] = pd.to_datetime(cs_data[\"month\"], format=\"%b-%y\")\n",
    "cs_data = cs_data.sort_values(\"month\")\n",
    "css_data[\"month\"] = pd.to_datetime(css_data[\"month\"], format=\"%b-%y\")\n",
    "css_data = css_data.sort_values(\"month\")\n",
    "cscz_data[\"month\"] = pd.to_datetime(cscz_data[\"month\"], format=\"%b-%y\")\n",
    "cscz_data = cscz_data.sort_values(\"month\")\n",
    "cs2_data[\"month\"] = pd.to_datetime(cs2_data[\"month\"], format=\"%b-%y\")\n",
    "cs2_data = cs2_data.sort_values(\"month\")\n",
    "\n",
    "csgo_data = cs2_data[cs2_data[\"month\"] < split_date]\n",
    "cs2_data = cs2_data[cs2_data[\"month\"] >= split_date]\n",
    "\n",
    "csgo_data[\"month\"] = pd.to_datetime(csgo_data[\"month\"], format=\"%b-%y\")\n",
    "csgo_data = csgo_data.sort_values(\"month\")"
   ]
  },
  {
   "cell_type": "code",
   "execution_count": 6,
   "id": "44d0720b",
   "metadata": {},
   "outputs": [
    {
     "data": {
      "text/html": [
       "<div>\n",
       "<style scoped>\n",
       "    .dataframe tbody tr th:only-of-type {\n",
       "        vertical-align: middle;\n",
       "    }\n",
       "\n",
       "    .dataframe tbody tr th {\n",
       "        vertical-align: top;\n",
       "    }\n",
       "\n",
       "    .dataframe thead th {\n",
       "        text-align: right;\n",
       "    }\n",
       "</style>\n",
       "<table border=\"1\" class=\"dataframe\">\n",
       "  <thead>\n",
       "    <tr style=\"text-align: right;\">\n",
       "      <th></th>\n",
       "      <th>month</th>\n",
       "      <th>peak</th>\n",
       "      <th>gain</th>\n",
       "      <th>average</th>\n",
       "    </tr>\n",
       "  </thead>\n",
       "  <tbody>\n",
       "    <tr>\n",
       "      <th>0</th>\n",
       "      <td>2004-01-01</td>\n",
       "      <td>23241.0</td>\n",
       "      <td>0.0</td>\n",
       "      <td>0.0</td>\n",
       "    </tr>\n",
       "    <tr>\n",
       "      <th>1</th>\n",
       "      <td>2004-02-01</td>\n",
       "      <td>39709.0</td>\n",
       "      <td>16468.0</td>\n",
       "      <td>0.0</td>\n",
       "    </tr>\n",
       "    <tr>\n",
       "      <th>2</th>\n",
       "      <td>2004-04-01</td>\n",
       "      <td>74926.0</td>\n",
       "      <td>35217.0</td>\n",
       "      <td>0.0</td>\n",
       "    </tr>\n",
       "    <tr>\n",
       "      <th>3</th>\n",
       "      <td>2004-06-01</td>\n",
       "      <td>66876.0</td>\n",
       "      <td>8050.0</td>\n",
       "      <td>0.0</td>\n",
       "    </tr>\n",
       "    <tr>\n",
       "      <th>4</th>\n",
       "      <td>2004-07-01</td>\n",
       "      <td>69685.0</td>\n",
       "      <td>2809.0</td>\n",
       "      <td>0.0</td>\n",
       "    </tr>\n",
       "  </tbody>\n",
       "</table>\n",
       "</div>"
      ],
      "text/plain": [
       "       month     peak     gain  average\n",
       "0 2004-01-01  23241.0      0.0      0.0\n",
       "1 2004-02-01  39709.0  16468.0      0.0\n",
       "2 2004-04-01  74926.0  35217.0      0.0\n",
       "3 2004-06-01  66876.0   8050.0      0.0\n",
       "4 2004-07-01  69685.0   2809.0      0.0"
      ]
     },
     "execution_count": 6,
     "metadata": {},
     "output_type": "execute_result"
    }
   ],
   "source": [
    "# fields_game_versions = ['Counter-Strike', 'Counter-Strike 2', 'Counter-Strike Source', 'Counter-Strike Condition Zero']\n",
    "\n",
    "cs_merged = pd.concat([cs_data, cs2_data, csgo_data, css_data, cscz_data], ignore_index=True)\n",
    "cs_merged = cs_merged[fields_to_keep]\n",
    "cs_merged.head()"
   ]
  },
  {
   "cell_type": "code",
   "execution_count": 7,
   "id": "d6482a53",
   "metadata": {},
   "outputs": [
    {
     "data": {
      "text/html": [
       "<div>\n",
       "<style scoped>\n",
       "    .dataframe tbody tr th:only-of-type {\n",
       "        vertical-align: middle;\n",
       "    }\n",
       "\n",
       "    .dataframe tbody tr th {\n",
       "        vertical-align: top;\n",
       "    }\n",
       "\n",
       "    .dataframe thead th {\n",
       "        text-align: right;\n",
       "    }\n",
       "</style>\n",
       "<table border=\"1\" class=\"dataframe\">\n",
       "  <thead>\n",
       "    <tr style=\"text-align: right;\">\n",
       "      <th></th>\n",
       "      <th>month</th>\n",
       "      <th>peak</th>\n",
       "      <th>gain</th>\n",
       "      <th>average</th>\n",
       "    </tr>\n",
       "  </thead>\n",
       "  <tbody>\n",
       "    <tr>\n",
       "      <th>0</th>\n",
       "      <td>2004-01-01</td>\n",
       "      <td>23241.0</td>\n",
       "      <td>0.0</td>\n",
       "      <td>0.0</td>\n",
       "    </tr>\n",
       "    <tr>\n",
       "      <th>1</th>\n",
       "      <td>2004-02-01</td>\n",
       "      <td>39709.0</td>\n",
       "      <td>16468.0</td>\n",
       "      <td>0.0</td>\n",
       "    </tr>\n",
       "    <tr>\n",
       "      <th>2</th>\n",
       "      <td>2004-04-01</td>\n",
       "      <td>84182.0</td>\n",
       "      <td>35217.0</td>\n",
       "      <td>0.0</td>\n",
       "    </tr>\n",
       "    <tr>\n",
       "      <th>3</th>\n",
       "      <td>2004-06-01</td>\n",
       "      <td>80908.0</td>\n",
       "      <td>12826.0</td>\n",
       "      <td>0.0</td>\n",
       "    </tr>\n",
       "    <tr>\n",
       "      <th>4</th>\n",
       "      <td>2004-07-01</td>\n",
       "      <td>84804.0</td>\n",
       "      <td>3896.0</td>\n",
       "      <td>0.0</td>\n",
       "    </tr>\n",
       "    <tr>\n",
       "      <th>...</th>\n",
       "      <td>...</td>\n",
       "      <td>...</td>\n",
       "      <td>...</td>\n",
       "      <td>...</td>\n",
       "    </tr>\n",
       "    <tr>\n",
       "      <th>236</th>\n",
       "      <td>2025-04-01</td>\n",
       "      <td>1898525.0</td>\n",
       "      <td>40987.0</td>\n",
       "      <td>1070094.0</td>\n",
       "    </tr>\n",
       "    <tr>\n",
       "      <th>237</th>\n",
       "      <td>2025-05-01</td>\n",
       "      <td>1752347.0</td>\n",
       "      <td>146178.0</td>\n",
       "      <td>1060039.0</td>\n",
       "    </tr>\n",
       "    <tr>\n",
       "      <th>238</th>\n",
       "      <td>2025-06-01</td>\n",
       "      <td>1766572.0</td>\n",
       "      <td>14429.0</td>\n",
       "      <td>1029242.0</td>\n",
       "    </tr>\n",
       "    <tr>\n",
       "      <th>239</th>\n",
       "      <td>2025-07-01</td>\n",
       "      <td>1506027.0</td>\n",
       "      <td>338169.0</td>\n",
       "      <td>954251.0</td>\n",
       "    </tr>\n",
       "    <tr>\n",
       "      <th>240</th>\n",
       "      <td>2025-08-01</td>\n",
       "      <td>1581554.0</td>\n",
       "      <td>79481.0</td>\n",
       "      <td>982824.0</td>\n",
       "    </tr>\n",
       "  </tbody>\n",
       "</table>\n",
       "<p>241 rows × 4 columns</p>\n",
       "</div>"
      ],
      "text/plain": [
       "         month       peak      gain    average\n",
       "0   2004-01-01    23241.0       0.0        0.0\n",
       "1   2004-02-01    39709.0   16468.0        0.0\n",
       "2   2004-04-01    84182.0   35217.0        0.0\n",
       "3   2004-06-01    80908.0   12826.0        0.0\n",
       "4   2004-07-01    84804.0    3896.0        0.0\n",
       "..         ...        ...       ...        ...\n",
       "236 2025-04-01  1898525.0   40987.0  1070094.0\n",
       "237 2025-05-01  1752347.0  146178.0  1060039.0\n",
       "238 2025-06-01  1766572.0   14429.0  1029242.0\n",
       "239 2025-07-01  1506027.0  338169.0   954251.0\n",
       "240 2025-08-01  1581554.0   79481.0   982824.0\n",
       "\n",
       "[241 rows x 4 columns]"
      ]
     },
     "execution_count": 7,
     "metadata": {},
     "output_type": "execute_result"
    }
   ],
   "source": [
    "SteamDB_merged_grouped = cs_merged.groupby(cs_merged.columns[0]).sum()\n",
    "\n",
    "SteamDB_merged_grouped = SteamDB_merged_grouped.reset_index()\n",
    "SteamDB_merged_grouped = SteamDB_merged_grouped.sort_values(\"month\")\n",
    "SteamDB_merged_grouped"
   ]
  },
  {
   "cell_type": "code",
   "execution_count": 8,
   "id": "39b295f7",
   "metadata": {},
   "outputs": [],
   "source": [
    "# cs_data.to_csv(\"../assets/SteamDB_cs_cleaned.csv\",encoding=\"utf-8\")\n",
    "# css_data.to_csv(\"../assets/SteamDB_css_cleaned.csv\",encoding=\"utf-8\")\n",
    "# cscz_data.to_csv(\"../assets/SteamDB_cscz_cleaned.csv\",encoding=\"utf-8\")\n",
    "# csgo_data.to_csv(\"../assets/SteamDB_csgo_cleaned.csv\",encoding=\"utf-8\")\n",
    "# cs2_data.to_csv(\"../assets/SteamDB_cs2_cleaned.csv\",encoding=\"utf-8\")\n",
    "# SteamDB_merged_grouped.to_csv(\"../assets/SteamDB_merged_cleaned.csv\",encoding=\"utf-8\")"
   ]
  },
  {
   "cell_type": "markdown",
   "id": "9119b469",
   "metadata": {},
   "source": [
    "### Rival Game Data from IGDB"
   ]
  },
  {
   "cell_type": "code",
   "execution_count": 9,
   "id": "8c8dfea3",
   "metadata": {},
   "outputs": [
    {
     "data": {
      "text/plain": [
       "'\\nUsed to split igdb data into 3 separate parts because of github upload limit, commented out after use\\n'"
      ]
     },
     "execution_count": 9,
     "metadata": {},
     "output_type": "execute_result"
    }
   ],
   "source": [
    "\"\"\"\n",
    "Used to split igdb data into 3 separate parts because of github upload limit, commented out after use\n",
    "\"\"\"\n",
    "\n",
    "# game_data = pd.read_csv(\"../assets/igdb_shooters.csv\")\n",
    "\n",
    "# splitting all genres csv into separate csv files\n",
    "\n",
    "# Replace this with the path to your big CSV\n",
    "# input_file = \"../assets/igdb_games.csv\"\n",
    "\n",
    "# # Read the CSV into a DataFrame\n",
    "# df = pd.read_csv(input_file)\n",
    "\n",
    "# # Calculate the size of each split\n",
    "# n = len(df)\n",
    "# split_size = n // 3\n",
    "\n",
    "# # Split into 3 parts\n",
    "# df1 = df.iloc[:split_size]\n",
    "# df2 = df.iloc[split_size:2*split_size]\n",
    "# df3 = df.iloc[2*split_size:]\n",
    "\n",
    "# Save to separate CSV files\n",
    "# df1.to_csv(\"../assets/igdb_part1.csv\", index=False)\n",
    "# df2.to_csv(\"../assets/igdb_part2.csv\", index=False)\n",
    "# df3.to_csv(\"../assets/igdb_part3.csv\", index=False)\n",
    "\n",
    "# print(\"Splitting complete! Files saved as part1.csv, part2.csv, part3.csv\")"
   ]
  },
  {
   "cell_type": "code",
   "execution_count": 10,
   "id": "f9067e93",
   "metadata": {},
   "outputs": [
    {
     "name": "stderr",
     "output_type": "stream",
     "text": [
      "/var/folders/lc/9_dv_jhs555875nqm1qhl9tr0000gn/T/ipykernel_21281/2886035041.py:1: DtypeWarning: Columns (53) have mixed types. Specify dtype option on import or set low_memory=False.\n",
      "  igdb_data_1 = pd.read_csv(\"../assets/igdb_part1.csv\")\n",
      "/var/folders/lc/9_dv_jhs555875nqm1qhl9tr0000gn/T/ipykernel_21281/2886035041.py:2: DtypeWarning: Columns (53) have mixed types. Specify dtype option on import or set low_memory=False.\n",
      "  igdb_data_2 = pd.read_csv(\"../assets/igdb_part2.csv\")\n",
      "/var/folders/lc/9_dv_jhs555875nqm1qhl9tr0000gn/T/ipykernel_21281/2886035041.py:3: DtypeWarning: Columns (53) have mixed types. Specify dtype option on import or set low_memory=False.\n",
      "  igdb_data_3 = pd.read_csv(\"../assets/igdb_part3.csv\")\n"
     ]
    }
   ],
   "source": [
    "igdb_data_1 = pd.read_csv(\"../assets/igdb_part1.csv\")\n",
    "igdb_data_2 = pd.read_csv(\"../assets/igdb_part2.csv\")\n",
    "igdb_data_3 = pd.read_csv(\"../assets/igdb_part3.csv\")\n",
    "igdb_data_merged = pd.concat([igdb_data_1, igdb_data_2, igdb_data_3], ignore_index=True)"
   ]
  },
  {
   "cell_type": "code",
   "execution_count": 11,
   "id": "75b1bf5b",
   "metadata": {},
   "outputs": [
    {
     "name": "stderr",
     "output_type": "stream",
     "text": [
      "/var/folders/lc/9_dv_jhs555875nqm1qhl9tr0000gn/T/ipykernel_21281/1111918781.py:5: SettingWithCopyWarning: \n",
      "A value is trying to be set on a copy of a slice from a DataFrame.\n",
      "Try using .loc[row_indexer,col_indexer] = value instead\n",
      "\n",
      "See the caveats in the documentation: https://pandas.pydata.org/pandas-docs/stable/user_guide/indexing.html#returning-a-view-versus-a-copy\n",
      "  igdb_data_merged_filtered[\"first_release_date\"] = pd.to_datetime(igdb_data_merged_filtered[\"first_release_date\"], unit=\"s\") # Formatting date\n"
     ]
    }
   ],
   "source": [
    "IGDB_fields = ['id', 'name', 'first_release_date', 'genres', 'rating', 'rating_count', 'total_rating', 'total_rating_count', 'aggregated_rating',\n",
    "       'aggregated_rating_count']\n",
    "\n",
    "igdb_data_merged_filtered = igdb_data_merged[IGDB_fields]\n",
    "igdb_data_merged_filtered[\"first_release_date\"] = pd.to_datetime(igdb_data_merged_filtered[\"first_release_date\"], unit=\"s\") # Formatting date"
   ]
  },
  {
   "cell_type": "code",
   "execution_count": 12,
   "id": "00bb4822",
   "metadata": {},
   "outputs": [
    {
     "data": {
      "text/html": [
       "<div>\n",
       "<style scoped>\n",
       "    .dataframe tbody tr th:only-of-type {\n",
       "        vertical-align: middle;\n",
       "    }\n",
       "\n",
       "    .dataframe tbody tr th {\n",
       "        vertical-align: top;\n",
       "    }\n",
       "\n",
       "    .dataframe thead th {\n",
       "        text-align: right;\n",
       "    }\n",
       "</style>\n",
       "<table border=\"1\" class=\"dataframe\">\n",
       "  <thead>\n",
       "    <tr style=\"text-align: right;\">\n",
       "      <th></th>\n",
       "      <th>id</th>\n",
       "      <th>name</th>\n",
       "      <th>first_release_date</th>\n",
       "      <th>genres</th>\n",
       "      <th>rating</th>\n",
       "      <th>rating_count</th>\n",
       "      <th>total_rating</th>\n",
       "      <th>total_rating_count</th>\n",
       "      <th>aggregated_rating</th>\n",
       "      <th>aggregated_rating_count</th>\n",
       "    </tr>\n",
       "  </thead>\n",
       "  <tbody>\n",
       "    <tr>\n",
       "      <th>327330</th>\n",
       "      <td>229</td>\n",
       "      <td>World of Warcraft: Cataclysm</td>\n",
       "      <td>2010-12-07</td>\n",
       "      <td>[12]</td>\n",
       "      <td>76.861351</td>\n",
       "      <td>198.0</td>\n",
       "      <td>83.097342</td>\n",
       "      <td>201.0</td>\n",
       "      <td>89.333333</td>\n",
       "      <td>3.0</td>\n",
       "    </tr>\n",
       "  </tbody>\n",
       "</table>\n",
       "</div>"
      ],
      "text/plain": [
       "         id                          name first_release_date genres  \\\n",
       "327330  229  World of Warcraft: Cataclysm         2010-12-07   [12]   \n",
       "\n",
       "           rating  rating_count  total_rating  total_rating_count  \\\n",
       "327330  76.861351         198.0     83.097342               201.0   \n",
       "\n",
       "        aggregated_rating  aggregated_rating_count  \n",
       "327330          89.333333                      3.0  "
      ]
     },
     "execution_count": 12,
     "metadata": {},
     "output_type": "execute_result"
    }
   ],
   "source": [
    "vanilla_wow = igdb_data_merged_filtered[igdb_data_merged_filtered['id']==123] # Vanilla WoW\n",
    "cata_wow = igdb_data_merged_filtered[igdb_data_merged_filtered['id']==229] # Cataclysm\n",
    "cata_wow"
   ]
  },
  {
   "cell_type": "code",
   "execution_count": 13,
   "id": "19f77838",
   "metadata": {},
   "outputs": [
    {
     "data": {
      "text/plain": [
       "{31: 'Adventure',\n",
       " 33: 'Arcade',\n",
       " 35: 'Card & Board Game',\n",
       " 4: 'Fighting',\n",
       " 25: \"Hack and slash/Beat 'em up\",\n",
       " 32: 'Indie',\n",
       " 36: 'MOBA',\n",
       " 7: 'Music',\n",
       " 30: 'Pinball',\n",
       " 8: 'Platform',\n",
       " 2: 'Point-and-click',\n",
       " 9: 'Puzzle',\n",
       " 26: 'Quiz/Trivia',\n",
       " 10: 'Racing',\n",
       " 11: 'Real Time Strategy (RTS)',\n",
       " 12: 'Role-playing (RPG)',\n",
       " 5: 'Shooter',\n",
       " 13: 'Simulator',\n",
       " 14: 'Sport',\n",
       " 15: 'Strategy',\n",
       " 24: 'Tactical',\n",
       " 16: 'Turn-based strategy (TBS)',\n",
       " 34: 'Visual Novel'}"
      ]
     },
     "execution_count": 13,
     "metadata": {},
     "output_type": "execute_result"
    }
   ],
   "source": [
    "with open(\"../data/genres.json\", \"r\", encoding=\"utf-8\") as f:\n",
    "    genres_list = json.load(f)\n",
    "    genres_list = {int(k): v for k, v in genres_list.items()}\n",
    "\n",
    "genres_list"
   ]
  },
  {
   "cell_type": "code",
   "execution_count": 14,
   "id": "a7c947b3",
   "metadata": {},
   "outputs": [
    {
     "name": "stderr",
     "output_type": "stream",
     "text": [
      "/var/folders/lc/9_dv_jhs555875nqm1qhl9tr0000gn/T/ipykernel_21281/129189592.py:1: SettingWithCopyWarning: \n",
      "A value is trying to be set on a copy of a slice from a DataFrame.\n",
      "Try using .loc[row_indexer,col_indexer] = value instead\n",
      "\n",
      "See the caveats in the documentation: https://pandas.pydata.org/pandas-docs/stable/user_guide/indexing.html#returning-a-view-versus-a-copy\n",
      "  igdb_data_merged_filtered['genres'] = igdb_data_merged_filtered['genres'].map(lambda x: [] if pd.isna(x) else[genres_list[g] for g in x] if isinstance(x, list) else [genres_list[g] for g in ast.literal_eval(x)])\n"
     ]
    },
    {
     "data": {
      "text/html": [
       "<div>\n",
       "<style scoped>\n",
       "    .dataframe tbody tr th:only-of-type {\n",
       "        vertical-align: middle;\n",
       "    }\n",
       "\n",
       "    .dataframe tbody tr th {\n",
       "        vertical-align: top;\n",
       "    }\n",
       "\n",
       "    .dataframe thead th {\n",
       "        text-align: right;\n",
       "    }\n",
       "</style>\n",
       "<table border=\"1\" class=\"dataframe\">\n",
       "  <thead>\n",
       "    <tr style=\"text-align: right;\">\n",
       "      <th></th>\n",
       "      <th>id</th>\n",
       "      <th>name</th>\n",
       "      <th>first_release_date</th>\n",
       "      <th>genres</th>\n",
       "      <th>rating</th>\n",
       "      <th>rating_count</th>\n",
       "      <th>total_rating</th>\n",
       "      <th>total_rating_count</th>\n",
       "      <th>aggregated_rating</th>\n",
       "      <th>aggregated_rating_count</th>\n",
       "    </tr>\n",
       "  </thead>\n",
       "  <tbody>\n",
       "    <tr>\n",
       "      <th>0</th>\n",
       "      <td>165499</td>\n",
       "      <td>^_^</td>\n",
       "      <td>2012-01-14</td>\n",
       "      <td>[Adventure]</td>\n",
       "      <td>NaN</td>\n",
       "      <td>NaN</td>\n",
       "      <td>NaN</td>\n",
       "      <td>NaN</td>\n",
       "      <td>NaN</td>\n",
       "      <td>NaN</td>\n",
       "    </tr>\n",
       "    <tr>\n",
       "      <th>1</th>\n",
       "      <td>141830</td>\n",
       "      <td>||[}}}°.•°.°•..°•°[|||{{{</td>\n",
       "      <td>2020-02-02</td>\n",
       "      <td>[Indie]</td>\n",
       "      <td>NaN</td>\n",
       "      <td>NaN</td>\n",
       "      <td>NaN</td>\n",
       "      <td>NaN</td>\n",
       "      <td>NaN</td>\n",
       "      <td>NaN</td>\n",
       "    </tr>\n",
       "    <tr>\n",
       "      <th>2</th>\n",
       "      <td>191680</td>\n",
       "      <td>_____</td>\n",
       "      <td>2014-12-11</td>\n",
       "      <td>[Shooter, Indie]</td>\n",
       "      <td>NaN</td>\n",
       "      <td>NaN</td>\n",
       "      <td>NaN</td>\n",
       "      <td>NaN</td>\n",
       "      <td>NaN</td>\n",
       "      <td>NaN</td>\n",
       "    </tr>\n",
       "    <tr>\n",
       "      <th>3</th>\n",
       "      <td>176875</td>\n",
       "      <td>__________</td>\n",
       "      <td>2018-07-05</td>\n",
       "      <td>[Adventure, Indie]</td>\n",
       "      <td>NaN</td>\n",
       "      <td>NaN</td>\n",
       "      <td>NaN</td>\n",
       "      <td>NaN</td>\n",
       "      <td>NaN</td>\n",
       "      <td>NaN</td>\n",
       "    </tr>\n",
       "    <tr>\n",
       "      <th>4</th>\n",
       "      <td>92204</td>\n",
       "      <td>_-_</td>\n",
       "      <td>2018-03-14</td>\n",
       "      <td>[Puzzle, Arcade]</td>\n",
       "      <td>90.0</td>\n",
       "      <td>0.0</td>\n",
       "      <td>90.0</td>\n",
       "      <td>0.0</td>\n",
       "      <td>NaN</td>\n",
       "      <td>NaN</td>\n",
       "    </tr>\n",
       "  </tbody>\n",
       "</table>\n",
       "</div>"
      ],
      "text/plain": [
       "       id                       name first_release_date              genres  \\\n",
       "0  165499                        ^_^         2012-01-14         [Adventure]   \n",
       "1  141830  ||[}}}°.•°.°•..°•°[|||{{{         2020-02-02             [Indie]   \n",
       "2  191680                      _____         2014-12-11    [Shooter, Indie]   \n",
       "3  176875                 __________         2018-07-05  [Adventure, Indie]   \n",
       "4   92204                        _-_         2018-03-14    [Puzzle, Arcade]   \n",
       "\n",
       "   rating  rating_count  total_rating  total_rating_count  aggregated_rating  \\\n",
       "0     NaN           NaN           NaN                 NaN                NaN   \n",
       "1     NaN           NaN           NaN                 NaN                NaN   \n",
       "2     NaN           NaN           NaN                 NaN                NaN   \n",
       "3     NaN           NaN           NaN                 NaN                NaN   \n",
       "4    90.0           0.0          90.0                 0.0                NaN   \n",
       "\n",
       "   aggregated_rating_count  \n",
       "0                      NaN  \n",
       "1                      NaN  \n",
       "2                      NaN  \n",
       "3                      NaN  \n",
       "4                      NaN  "
      ]
     },
     "execution_count": 14,
     "metadata": {},
     "output_type": "execute_result"
    }
   ],
   "source": [
    "igdb_data_merged_filtered['genres'] = igdb_data_merged_filtered['genres'].map(lambda x: [] if pd.isna(x) else[genres_list[g] for g in x] if isinstance(x, list) else [genres_list[g] for g in ast.literal_eval(x)])\n",
    "igdb_data_merged_filtered.head()"
   ]
  },
  {
   "cell_type": "code",
   "execution_count": 15,
   "id": "ef2eab83",
   "metadata": {},
   "outputs": [
    {
     "name": "stdout",
     "output_type": "stream",
     "text": [
      "With and without rating = 335086\n",
      "With rating = 32671\n",
      "With and without first_release_date = 32671\n",
      "With first_release_date = 31702\n"
     ]
    },
    {
     "data": {
      "text/html": [
       "<div>\n",
       "<style scoped>\n",
       "    .dataframe tbody tr th:only-of-type {\n",
       "        vertical-align: middle;\n",
       "    }\n",
       "\n",
       "    .dataframe tbody tr th {\n",
       "        vertical-align: top;\n",
       "    }\n",
       "\n",
       "    .dataframe thead th {\n",
       "        text-align: right;\n",
       "    }\n",
       "</style>\n",
       "<table border=\"1\" class=\"dataframe\">\n",
       "  <thead>\n",
       "    <tr style=\"text-align: right;\">\n",
       "      <th></th>\n",
       "      <th>id</th>\n",
       "      <th>name</th>\n",
       "      <th>first_release_date</th>\n",
       "      <th>genres</th>\n",
       "      <th>rating</th>\n",
       "      <th>rating_count</th>\n",
       "      <th>total_rating</th>\n",
       "      <th>total_rating_count</th>\n",
       "      <th>aggregated_rating</th>\n",
       "      <th>aggregated_rating_count</th>\n",
       "    </tr>\n",
       "  </thead>\n",
       "  <tbody>\n",
       "    <tr>\n",
       "      <th>4</th>\n",
       "      <td>92204</td>\n",
       "      <td>_-_</td>\n",
       "      <td>2018-03-14</td>\n",
       "      <td>[Puzzle, Arcade]</td>\n",
       "      <td>90.000000</td>\n",
       "      <td>0.0</td>\n",
       "      <td>90.000000</td>\n",
       "      <td>0.0</td>\n",
       "      <td>NaN</td>\n",
       "      <td>NaN</td>\n",
       "    </tr>\n",
       "    <tr>\n",
       "      <th>23</th>\n",
       "      <td>1649</td>\n",
       "      <td>007 Legends</td>\n",
       "      <td>2012-10-16</td>\n",
       "      <td>[Shooter]</td>\n",
       "      <td>54.172800</td>\n",
       "      <td>23.0</td>\n",
       "      <td>49.943543</td>\n",
       "      <td>30.0</td>\n",
       "      <td>45.714286</td>\n",
       "      <td>7.0</td>\n",
       "    </tr>\n",
       "    <tr>\n",
       "      <th>48</th>\n",
       "      <td>113188</td>\n",
       "      <td>03.04</td>\n",
       "      <td>2019-01-01</td>\n",
       "      <td>[Adventure, Indie]</td>\n",
       "      <td>60.000000</td>\n",
       "      <td>2.0</td>\n",
       "      <td>60.000000</td>\n",
       "      <td>2.0</td>\n",
       "      <td>NaN</td>\n",
       "      <td>NaN</td>\n",
       "    </tr>\n",
       "    <tr>\n",
       "      <th>69</th>\n",
       "      <td>55486</td>\n",
       "      <td>0°N 0°W</td>\n",
       "      <td>2018-03-02</td>\n",
       "      <td>[Adventure, Indie]</td>\n",
       "      <td>70.000000</td>\n",
       "      <td>4.0</td>\n",
       "      <td>60.000000</td>\n",
       "      <td>5.0</td>\n",
       "      <td>50.000000</td>\n",
       "      <td>1.0</td>\n",
       "    </tr>\n",
       "    <tr>\n",
       "      <th>72</th>\n",
       "      <td>9583</td>\n",
       "      <td>0rbitalis</td>\n",
       "      <td>2014-04-16</td>\n",
       "      <td>[Puzzle, Simulator, Indie]</td>\n",
       "      <td>79.935551</td>\n",
       "      <td>5.0</td>\n",
       "      <td>77.467775</td>\n",
       "      <td>8.0</td>\n",
       "      <td>75.000000</td>\n",
       "      <td>3.0</td>\n",
       "    </tr>\n",
       "  </tbody>\n",
       "</table>\n",
       "</div>"
      ],
      "text/plain": [
       "        id         name first_release_date                      genres  \\\n",
       "4    92204          _-_         2018-03-14            [Puzzle, Arcade]   \n",
       "23    1649  007 Legends         2012-10-16                   [Shooter]   \n",
       "48  113188        03.04         2019-01-01          [Adventure, Indie]   \n",
       "69   55486      0°N 0°W         2018-03-02          [Adventure, Indie]   \n",
       "72    9583    0rbitalis         2014-04-16  [Puzzle, Simulator, Indie]   \n",
       "\n",
       "       rating  rating_count  total_rating  total_rating_count  \\\n",
       "4   90.000000           0.0     90.000000                 0.0   \n",
       "23  54.172800          23.0     49.943543                30.0   \n",
       "48  60.000000           2.0     60.000000                 2.0   \n",
       "69  70.000000           4.0     60.000000                 5.0   \n",
       "72  79.935551           5.0     77.467775                 8.0   \n",
       "\n",
       "    aggregated_rating  aggregated_rating_count  \n",
       "4                 NaN                      NaN  \n",
       "23          45.714286                      7.0  \n",
       "48                NaN                      NaN  \n",
       "69          50.000000                      1.0  \n",
       "72          75.000000                      3.0  "
      ]
     },
     "execution_count": 15,
     "metadata": {},
     "output_type": "execute_result"
    }
   ],
   "source": [
    "# Filtering entries without rating\n",
    "print(f\"With and without rating = {len(igdb_data_merged_filtered)}\")\n",
    "igdb_data_merged_filtered_converted = igdb_data_merged_filtered.dropna(subset=['rating'])\n",
    "print(f\"With rating = {len(igdb_data_merged_filtered_converted)}\")\n",
    "\n",
    "# Filtering entries without first_release_date\n",
    "print(f\"With and without first_release_date = {len(igdb_data_merged_filtered_converted)}\")\n",
    "igdb_data_merged_filtered_converted = igdb_data_merged_filtered_converted[~igdb_data_merged_filtered_converted[\"first_release_date\"].isna()]\n",
    "print(f\"With first_release_date = {len(igdb_data_merged_filtered_converted)}\")\n",
    "\n",
    "# Filtering entries before 2004\n",
    "igdb_data_merged_filtered_converted = igdb_data_merged_filtered_converted[pd.to_datetime(igdb_data_merged_filtered_converted[\"first_release_date\"]) > pd.to_datetime(\"2004-01-01\")]\n",
    "igdb_data_merged_filtered_converted.head()"
   ]
  },
  {
   "cell_type": "code",
   "execution_count": 16,
   "id": "4de8aeb0",
   "metadata": {},
   "outputs": [
    {
     "data": {
      "text/html": [
       "<div>\n",
       "<style scoped>\n",
       "    .dataframe tbody tr th:only-of-type {\n",
       "        vertical-align: middle;\n",
       "    }\n",
       "\n",
       "    .dataframe tbody tr th {\n",
       "        vertical-align: top;\n",
       "    }\n",
       "\n",
       "    .dataframe thead th {\n",
       "        text-align: right;\n",
       "    }\n",
       "</style>\n",
       "<table border=\"1\" class=\"dataframe\">\n",
       "  <thead>\n",
       "    <tr style=\"text-align: right;\">\n",
       "      <th></th>\n",
       "      <th>id</th>\n",
       "      <th>name</th>\n",
       "      <th>first_release_date</th>\n",
       "      <th>genres</th>\n",
       "      <th>rating</th>\n",
       "      <th>rating_count</th>\n",
       "      <th>total_rating</th>\n",
       "      <th>total_rating_count</th>\n",
       "      <th>aggregated_rating</th>\n",
       "      <th>aggregated_rating_count</th>\n",
       "    </tr>\n",
       "  </thead>\n",
       "  <tbody>\n",
       "    <tr>\n",
       "      <th>58976</th>\n",
       "      <td>33278</td>\n",
       "      <td>CounterAttack</td>\n",
       "      <td>2016-04-21</td>\n",
       "      <td>[Shooter, Adventure, Indie, Arcade]</td>\n",
       "      <td>80.000000</td>\n",
       "      <td>1.0</td>\n",
       "      <td>80.000000</td>\n",
       "      <td>1.0</td>\n",
       "      <td>NaN</td>\n",
       "      <td>NaN</td>\n",
       "    </tr>\n",
       "    <tr>\n",
       "      <th>58993</th>\n",
       "      <td>30643</td>\n",
       "      <td>Counter Fight</td>\n",
       "      <td>2016-11-14</td>\n",
       "      <td>[Simulator, Indie]</td>\n",
       "      <td>80.000000</td>\n",
       "      <td>0.0</td>\n",
       "      <td>80.000000</td>\n",
       "      <td>0.0</td>\n",
       "      <td>NaN</td>\n",
       "      <td>NaN</td>\n",
       "    </tr>\n",
       "    <tr>\n",
       "      <th>58997</th>\n",
       "      <td>40553</td>\n",
       "      <td>Counter Fight: Samurai Edition</td>\n",
       "      <td>2017-06-07</td>\n",
       "      <td>[Simulator, Indie]</td>\n",
       "      <td>70.000000</td>\n",
       "      <td>0.0</td>\n",
       "      <td>70.000000</td>\n",
       "      <td>0.0</td>\n",
       "      <td>NaN</td>\n",
       "      <td>NaN</td>\n",
       "    </tr>\n",
       "    <tr>\n",
       "      <th>59023</th>\n",
       "      <td>35703</td>\n",
       "      <td>Counter Spell</td>\n",
       "      <td>2015-10-05</td>\n",
       "      <td>[Role-playing (RPG), Indie]</td>\n",
       "      <td>80.000000</td>\n",
       "      <td>0.0</td>\n",
       "      <td>80.000000</td>\n",
       "      <td>0.0</td>\n",
       "      <td>NaN</td>\n",
       "      <td>NaN</td>\n",
       "    </tr>\n",
       "    <tr>\n",
       "      <th>59025</th>\n",
       "      <td>7612</td>\n",
       "      <td>CounterSpy</td>\n",
       "      <td>2014-08-19</td>\n",
       "      <td>[Shooter, Tactical, Indie]</td>\n",
       "      <td>75.046860</td>\n",
       "      <td>36.0</td>\n",
       "      <td>69.210930</td>\n",
       "      <td>44.0</td>\n",
       "      <td>63.375000</td>\n",
       "      <td>8.0</td>\n",
       "    </tr>\n",
       "    <tr>\n",
       "      <th>59028</th>\n",
       "      <td>242408</td>\n",
       "      <td>Counter-Strike 2</td>\n",
       "      <td>2023-09-27</td>\n",
       "      <td>[Shooter, Tactical]</td>\n",
       "      <td>67.185101</td>\n",
       "      <td>249.0</td>\n",
       "      <td>67.185101</td>\n",
       "      <td>249.0</td>\n",
       "      <td>NaN</td>\n",
       "      <td>NaN</td>\n",
       "    </tr>\n",
       "    <tr>\n",
       "      <th>59031</th>\n",
       "      <td>297</td>\n",
       "      <td>Counter-Strike: Condition Zero</td>\n",
       "      <td>2004-03-23</td>\n",
       "      <td>[Shooter]</td>\n",
       "      <td>74.174541</td>\n",
       "      <td>217.0</td>\n",
       "      <td>70.253937</td>\n",
       "      <td>220.0</td>\n",
       "      <td>66.333333</td>\n",
       "      <td>3.0</td>\n",
       "    </tr>\n",
       "    <tr>\n",
       "      <th>59032</th>\n",
       "      <td>93807</td>\n",
       "      <td>Counter-Strike: Condition Zero Deleted Scenes</td>\n",
       "      <td>2004-03-23</td>\n",
       "      <td>[Shooter]</td>\n",
       "      <td>64.784238</td>\n",
       "      <td>32.0</td>\n",
       "      <td>64.784238</td>\n",
       "      <td>32.0</td>\n",
       "      <td>NaN</td>\n",
       "      <td>NaN</td>\n",
       "    </tr>\n",
       "    <tr>\n",
       "      <th>59033</th>\n",
       "      <td>1372</td>\n",
       "      <td>Counter-Strike: Global Offensive</td>\n",
       "      <td>2012-08-21</td>\n",
       "      <td>[Shooter, Tactical]</td>\n",
       "      <td>81.813980</td>\n",
       "      <td>1245.0</td>\n",
       "      <td>81.406990</td>\n",
       "      <td>1250.0</td>\n",
       "      <td>81.000000</td>\n",
       "      <td>5.0</td>\n",
       "    </tr>\n",
       "    <tr>\n",
       "      <th>59037</th>\n",
       "      <td>16957</td>\n",
       "      <td>Counter-Strike Nexon</td>\n",
       "      <td>2014-10-07</td>\n",
       "      <td>[Shooter, Indie]</td>\n",
       "      <td>20.907759</td>\n",
       "      <td>22.0</td>\n",
       "      <td>20.907759</td>\n",
       "      <td>22.0</td>\n",
       "      <td>NaN</td>\n",
       "      <td>NaN</td>\n",
       "    </tr>\n",
       "    <tr>\n",
       "      <th>59044</th>\n",
       "      <td>307</td>\n",
       "      <td>Counter-Strike: Source</td>\n",
       "      <td>2004-10-07</td>\n",
       "      <td>[Shooter]</td>\n",
       "      <td>78.332530</td>\n",
       "      <td>499.0</td>\n",
       "      <td>84.166265</td>\n",
       "      <td>500.0</td>\n",
       "      <td>90.000000</td>\n",
       "      <td>1.0</td>\n",
       "    </tr>\n",
       "    <tr>\n",
       "      <th>59051</th>\n",
       "      <td>110697</td>\n",
       "      <td>Counter Terrorist Agency</td>\n",
       "      <td>2019-12-05</td>\n",
       "      <td>[Simulator, Strategy, Indie]</td>\n",
       "      <td>50.000000</td>\n",
       "      <td>3.0</td>\n",
       "      <td>50.000000</td>\n",
       "      <td>3.0</td>\n",
       "      <td>NaN</td>\n",
       "      <td>NaN</td>\n",
       "    </tr>\n",
       "    <tr>\n",
       "      <th>62610</th>\n",
       "      <td>34586</td>\n",
       "      <td>CTU: Counter Terrorism Unit</td>\n",
       "      <td>2016-04-22</td>\n",
       "      <td>[Shooter, Strategy]</td>\n",
       "      <td>40.000000</td>\n",
       "      <td>0.0</td>\n",
       "      <td>40.000000</td>\n",
       "      <td>0.0</td>\n",
       "      <td>NaN</td>\n",
       "      <td>NaN</td>\n",
       "    </tr>\n",
       "    <tr>\n",
       "      <th>112686</th>\n",
       "      <td>35691</td>\n",
       "      <td>Ghost Encounters: Deadwood - Collector's Edition</td>\n",
       "      <td>2015-03-13</td>\n",
       "      <td>[Adventure]</td>\n",
       "      <td>50.000000</td>\n",
       "      <td>1.0</td>\n",
       "      <td>50.000000</td>\n",
       "      <td>1.0</td>\n",
       "      <td>NaN</td>\n",
       "      <td>NaN</td>\n",
       "    </tr>\n",
       "    <tr>\n",
       "      <th>118002</th>\n",
       "      <td>44163</td>\n",
       "      <td>Graze Counter</td>\n",
       "      <td>2017-07-28</td>\n",
       "      <td>[Shooter, Indie, Arcade]</td>\n",
       "      <td>70.000000</td>\n",
       "      <td>1.0</td>\n",
       "      <td>70.000000</td>\n",
       "      <td>1.0</td>\n",
       "      <td>NaN</td>\n",
       "      <td>NaN</td>\n",
       "    </tr>\n",
       "    <tr>\n",
       "      <th>123488</th>\n",
       "      <td>15936</td>\n",
       "      <td>Harvest: Massive Encounter</td>\n",
       "      <td>2009-01-23</td>\n",
       "      <td>[Real Time Strategy (RTS), Strategy, Indie]</td>\n",
       "      <td>60.000000</td>\n",
       "      <td>0.0</td>\n",
       "      <td>60.000000</td>\n",
       "      <td>0.0</td>\n",
       "      <td>NaN</td>\n",
       "      <td>NaN</td>\n",
       "    </tr>\n",
       "    <tr>\n",
       "      <th>154240</th>\n",
       "      <td>80927</td>\n",
       "      <td>Last Encounter</td>\n",
       "      <td>2018-05-08</td>\n",
       "      <td>[Role-playing (RPG), Adventure, Indie]</td>\n",
       "      <td>70.000000</td>\n",
       "      <td>0.0</td>\n",
       "      <td>60.000000</td>\n",
       "      <td>1.0</td>\n",
       "      <td>50.000000</td>\n",
       "      <td>1.0</td>\n",
       "    </tr>\n",
       "    <tr>\n",
       "      <th>219502</th>\n",
       "      <td>33397</td>\n",
       "      <td>Pub Encounter</td>\n",
       "      <td>2016-04-12</td>\n",
       "      <td>[Adventure, Visual Novel]</td>\n",
       "      <td>80.000000</td>\n",
       "      <td>1.0</td>\n",
       "      <td>80.000000</td>\n",
       "      <td>1.0</td>\n",
       "      <td>NaN</td>\n",
       "      <td>NaN</td>\n",
       "    </tr>\n",
       "    <tr>\n",
       "      <th>228010</th>\n",
       "      <td>33818</td>\n",
       "      <td>Rencounter</td>\n",
       "      <td>2016-11-04</td>\n",
       "      <td>[Role-playing (RPG), Strategy, Indie]</td>\n",
       "      <td>50.000000</td>\n",
       "      <td>0.0</td>\n",
       "      <td>50.000000</td>\n",
       "      <td>0.0</td>\n",
       "      <td>NaN</td>\n",
       "      <td>NaN</td>\n",
       "    </tr>\n",
       "    <tr>\n",
       "      <th>242501</th>\n",
       "      <td>13180</td>\n",
       "      <td>Serious Sam HD: The First Encounter</td>\n",
       "      <td>2009-11-24</td>\n",
       "      <td>[Shooter, Indie]</td>\n",
       "      <td>75.381926</td>\n",
       "      <td>81.0</td>\n",
       "      <td>74.690963</td>\n",
       "      <td>83.0</td>\n",
       "      <td>74.000000</td>\n",
       "      <td>2.0</td>\n",
       "    </tr>\n",
       "    <tr>\n",
       "      <th>242502</th>\n",
       "      <td>13181</td>\n",
       "      <td>Serious Sam HD: The Second Encounter</td>\n",
       "      <td>2010-04-28</td>\n",
       "      <td>[Shooter, Indie]</td>\n",
       "      <td>73.493893</td>\n",
       "      <td>71.0</td>\n",
       "      <td>75.121947</td>\n",
       "      <td>73.0</td>\n",
       "      <td>76.750000</td>\n",
       "      <td>2.0</td>\n",
       "    </tr>\n",
       "    <tr>\n",
       "      <th>242506</th>\n",
       "      <td>4103</td>\n",
       "      <td>Serious Sam: Next Encounter</td>\n",
       "      <td>2004-04-12</td>\n",
       "      <td>[Shooter]</td>\n",
       "      <td>69.223429</td>\n",
       "      <td>7.0</td>\n",
       "      <td>64.611715</td>\n",
       "      <td>9.0</td>\n",
       "      <td>60.000000</td>\n",
       "      <td>2.0</td>\n",
       "    </tr>\n",
       "    <tr>\n",
       "      <th>242512</th>\n",
       "      <td>10819</td>\n",
       "      <td>Serious Sam: The Random Encounter</td>\n",
       "      <td>2011-10-24</td>\n",
       "      <td>[Shooter, Puzzle, Role-playing (RPG), Indie]</td>\n",
       "      <td>57.509655</td>\n",
       "      <td>8.0</td>\n",
       "      <td>64.588161</td>\n",
       "      <td>11.0</td>\n",
       "      <td>71.666667</td>\n",
       "      <td>3.0</td>\n",
       "    </tr>\n",
       "    <tr>\n",
       "      <th>242516</th>\n",
       "      <td>30620</td>\n",
       "      <td>Serious Sam VR: The First Encounter</td>\n",
       "      <td>2017-03-30</td>\n",
       "      <td>[Indie]</td>\n",
       "      <td>80.000000</td>\n",
       "      <td>1.0</td>\n",
       "      <td>80.000000</td>\n",
       "      <td>1.0</td>\n",
       "      <td>NaN</td>\n",
       "      <td>NaN</td>\n",
       "    </tr>\n",
       "    <tr>\n",
       "      <th>242518</th>\n",
       "      <td>91116</td>\n",
       "      <td>Serious Sam VR: The Second Encounter</td>\n",
       "      <td>2017-04-04</td>\n",
       "      <td>[Indie]</td>\n",
       "      <td>80.000000</td>\n",
       "      <td>0.0</td>\n",
       "      <td>80.000000</td>\n",
       "      <td>0.0</td>\n",
       "      <td>NaN</td>\n",
       "      <td>NaN</td>\n",
       "    </tr>\n",
       "  </tbody>\n",
       "</table>\n",
       "</div>"
      ],
      "text/plain": [
       "            id                                              name  \\\n",
       "58976    33278                                     CounterAttack   \n",
       "58993    30643                                     Counter Fight   \n",
       "58997    40553                    Counter Fight: Samurai Edition   \n",
       "59023    35703                                     Counter Spell   \n",
       "59025     7612                                        CounterSpy   \n",
       "59028   242408                                  Counter-Strike 2   \n",
       "59031      297                    Counter-Strike: Condition Zero   \n",
       "59032    93807     Counter-Strike: Condition Zero Deleted Scenes   \n",
       "59033     1372                  Counter-Strike: Global Offensive   \n",
       "59037    16957                              Counter-Strike Nexon   \n",
       "59044      307                            Counter-Strike: Source   \n",
       "59051   110697                          Counter Terrorist Agency   \n",
       "62610    34586                       CTU: Counter Terrorism Unit   \n",
       "112686   35691  Ghost Encounters: Deadwood - Collector's Edition   \n",
       "118002   44163                                     Graze Counter   \n",
       "123488   15936                        Harvest: Massive Encounter   \n",
       "154240   80927                                    Last Encounter   \n",
       "219502   33397                                     Pub Encounter   \n",
       "228010   33818                                        Rencounter   \n",
       "242501   13180               Serious Sam HD: The First Encounter   \n",
       "242502   13181              Serious Sam HD: The Second Encounter   \n",
       "242506    4103                       Serious Sam: Next Encounter   \n",
       "242512   10819                 Serious Sam: The Random Encounter   \n",
       "242516   30620               Serious Sam VR: The First Encounter   \n",
       "242518   91116              Serious Sam VR: The Second Encounter   \n",
       "\n",
       "       first_release_date                                        genres  \\\n",
       "58976          2016-04-21           [Shooter, Adventure, Indie, Arcade]   \n",
       "58993          2016-11-14                            [Simulator, Indie]   \n",
       "58997          2017-06-07                            [Simulator, Indie]   \n",
       "59023          2015-10-05                   [Role-playing (RPG), Indie]   \n",
       "59025          2014-08-19                    [Shooter, Tactical, Indie]   \n",
       "59028          2023-09-27                           [Shooter, Tactical]   \n",
       "59031          2004-03-23                                     [Shooter]   \n",
       "59032          2004-03-23                                     [Shooter]   \n",
       "59033          2012-08-21                           [Shooter, Tactical]   \n",
       "59037          2014-10-07                              [Shooter, Indie]   \n",
       "59044          2004-10-07                                     [Shooter]   \n",
       "59051          2019-12-05                  [Simulator, Strategy, Indie]   \n",
       "62610          2016-04-22                           [Shooter, Strategy]   \n",
       "112686         2015-03-13                                   [Adventure]   \n",
       "118002         2017-07-28                      [Shooter, Indie, Arcade]   \n",
       "123488         2009-01-23   [Real Time Strategy (RTS), Strategy, Indie]   \n",
       "154240         2018-05-08        [Role-playing (RPG), Adventure, Indie]   \n",
       "219502         2016-04-12                     [Adventure, Visual Novel]   \n",
       "228010         2016-11-04         [Role-playing (RPG), Strategy, Indie]   \n",
       "242501         2009-11-24                              [Shooter, Indie]   \n",
       "242502         2010-04-28                              [Shooter, Indie]   \n",
       "242506         2004-04-12                                     [Shooter]   \n",
       "242512         2011-10-24  [Shooter, Puzzle, Role-playing (RPG), Indie]   \n",
       "242516         2017-03-30                                       [Indie]   \n",
       "242518         2017-04-04                                       [Indie]   \n",
       "\n",
       "           rating  rating_count  total_rating  total_rating_count  \\\n",
       "58976   80.000000           1.0     80.000000                 1.0   \n",
       "58993   80.000000           0.0     80.000000                 0.0   \n",
       "58997   70.000000           0.0     70.000000                 0.0   \n",
       "59023   80.000000           0.0     80.000000                 0.0   \n",
       "59025   75.046860          36.0     69.210930                44.0   \n",
       "59028   67.185101         249.0     67.185101               249.0   \n",
       "59031   74.174541         217.0     70.253937               220.0   \n",
       "59032   64.784238          32.0     64.784238                32.0   \n",
       "59033   81.813980        1245.0     81.406990              1250.0   \n",
       "59037   20.907759          22.0     20.907759                22.0   \n",
       "59044   78.332530         499.0     84.166265               500.0   \n",
       "59051   50.000000           3.0     50.000000                 3.0   \n",
       "62610   40.000000           0.0     40.000000                 0.0   \n",
       "112686  50.000000           1.0     50.000000                 1.0   \n",
       "118002  70.000000           1.0     70.000000                 1.0   \n",
       "123488  60.000000           0.0     60.000000                 0.0   \n",
       "154240  70.000000           0.0     60.000000                 1.0   \n",
       "219502  80.000000           1.0     80.000000                 1.0   \n",
       "228010  50.000000           0.0     50.000000                 0.0   \n",
       "242501  75.381926          81.0     74.690963                83.0   \n",
       "242502  73.493893          71.0     75.121947                73.0   \n",
       "242506  69.223429           7.0     64.611715                 9.0   \n",
       "242512  57.509655           8.0     64.588161                11.0   \n",
       "242516  80.000000           1.0     80.000000                 1.0   \n",
       "242518  80.000000           0.0     80.000000                 0.0   \n",
       "\n",
       "        aggregated_rating  aggregated_rating_count  \n",
       "58976                 NaN                      NaN  \n",
       "58993                 NaN                      NaN  \n",
       "58997                 NaN                      NaN  \n",
       "59023                 NaN                      NaN  \n",
       "59025           63.375000                      8.0  \n",
       "59028                 NaN                      NaN  \n",
       "59031           66.333333                      3.0  \n",
       "59032                 NaN                      NaN  \n",
       "59033           81.000000                      5.0  \n",
       "59037                 NaN                      NaN  \n",
       "59044           90.000000                      1.0  \n",
       "59051                 NaN                      NaN  \n",
       "62610                 NaN                      NaN  \n",
       "112686                NaN                      NaN  \n",
       "118002                NaN                      NaN  \n",
       "123488                NaN                      NaN  \n",
       "154240          50.000000                      1.0  \n",
       "219502                NaN                      NaN  \n",
       "228010                NaN                      NaN  \n",
       "242501          74.000000                      2.0  \n",
       "242502          76.750000                      2.0  \n",
       "242506          60.000000                      2.0  \n",
       "242512          71.666667                      3.0  \n",
       "242516                NaN                      NaN  \n",
       "242518                NaN                      NaN  "
      ]
     },
     "execution_count": 16,
     "metadata": {},
     "output_type": "execute_result"
    }
   ],
   "source": [
    "games_with_counter = igdb_data_merged_filtered_converted[igdb_data_merged_filtered_converted[\"name\"].str.contains(\"counter\", case=False, na=False)]\n",
    "games_with_counter"
   ]
  },
  {
   "cell_type": "code",
   "execution_count": 17,
   "id": "84ca87e8",
   "metadata": {},
   "outputs": [],
   "source": [
    "# igdb_data_merged_filtered_converted.to_csv(\"../assets/IGDB_merged_cleaned.csv\", index=False)"
   ]
  },
  {
   "cell_type": "markdown",
   "id": "1a569708",
   "metadata": {},
   "source": [
    "### Twitch Viewership Data from TwitchTracker"
   ]
  },
  {
   "cell_type": "code",
   "execution_count": 18,
   "id": "f8f4d4ca",
   "metadata": {},
   "outputs": [],
   "source": [
    "cs_twitch_data = pd.read_csv(\"../assets/TwitchTracker Counter-Strike.csv\")\n",
    "cs2_twitch_data = pd.read_csv(\"../assets/TwitchTracker Counter-Strike 2.csv\")\n",
    "cscz_twitch_data = pd.read_csv(\"../assets/TwitchTracker Counter-Strike Condition Zero.csv\")\n",
    "css_twitch_data = pd.read_csv(\"../assets/TwitchTracker Counter-Strike Source.csv\")\n",
    "\n",
    "twitch_fields = ['Month', 'Avg Viewers', 'Gain', 'Peak Viewers', 'Avg Streams', 'Gain.1', 'Peak Streams', 'Hours Watched']"
   ]
  },
  {
   "cell_type": "code",
   "execution_count": 19,
   "id": "caf8b10b",
   "metadata": {},
   "outputs": [
    {
     "data": {
      "text/html": [
       "<div>\n",
       "<style scoped>\n",
       "    .dataframe tbody tr th:only-of-type {\n",
       "        vertical-align: middle;\n",
       "    }\n",
       "\n",
       "    .dataframe tbody tr th {\n",
       "        vertical-align: top;\n",
       "    }\n",
       "\n",
       "    .dataframe thead th {\n",
       "        text-align: right;\n",
       "    }\n",
       "</style>\n",
       "<table border=\"1\" class=\"dataframe\">\n",
       "  <thead>\n",
       "    <tr style=\"text-align: right;\">\n",
       "      <th></th>\n",
       "      <th>Month</th>\n",
       "      <th>Avg Viewers</th>\n",
       "      <th>Gain</th>\n",
       "      <th>Peak Viewers</th>\n",
       "      <th>Avg Streams</th>\n",
       "      <th>Gain.1</th>\n",
       "      <th>Peak Streams</th>\n",
       "      <th>Hours Watched</th>\n",
       "    </tr>\n",
       "  </thead>\n",
       "  <tbody>\n",
       "    <tr>\n",
       "      <th>0</th>\n",
       "      <td>Nov-16</td>\n",
       "      <td>18.0</td>\n",
       "      <td>-</td>\n",
       "      <td>164</td>\n",
       "      <td>2.0</td>\n",
       "      <td>-</td>\n",
       "      <td>7.0</td>\n",
       "      <td>3.2K</td>\n",
       "    </tr>\n",
       "    <tr>\n",
       "      <th>1</th>\n",
       "      <td>Dec-16</td>\n",
       "      <td>20.0</td>\n",
       "      <td>2</td>\n",
       "      <td>509</td>\n",
       "      <td>2.0</td>\n",
       "      <td>-</td>\n",
       "      <td>10.0</td>\n",
       "      <td>8.0K</td>\n",
       "    </tr>\n",
       "    <tr>\n",
       "      <th>2</th>\n",
       "      <td>Jan-17</td>\n",
       "      <td>19.0</td>\n",
       "      <td>-1</td>\n",
       "      <td>543</td>\n",
       "      <td>4.0</td>\n",
       "      <td>2</td>\n",
       "      <td>13.0</td>\n",
       "      <td>8.8K</td>\n",
       "    </tr>\n",
       "    <tr>\n",
       "      <th>3</th>\n",
       "      <td>Feb-17</td>\n",
       "      <td>30.0</td>\n",
       "      <td>11</td>\n",
       "      <td>5,782</td>\n",
       "      <td>2.0</td>\n",
       "      <td>-2</td>\n",
       "      <td>11.0</td>\n",
       "      <td>16.0K</td>\n",
       "    </tr>\n",
       "    <tr>\n",
       "      <th>4</th>\n",
       "      <td>Mar-17</td>\n",
       "      <td>18.0</td>\n",
       "      <td>-12</td>\n",
       "      <td>815</td>\n",
       "      <td>2.0</td>\n",
       "      <td>-</td>\n",
       "      <td>10.0</td>\n",
       "      <td>6.9K</td>\n",
       "    </tr>\n",
       "    <tr>\n",
       "      <th>...</th>\n",
       "      <td>...</td>\n",
       "      <td>...</td>\n",
       "      <td>...</td>\n",
       "      <td>...</td>\n",
       "      <td>...</td>\n",
       "      <td>...</td>\n",
       "      <td>...</td>\n",
       "      <td>...</td>\n",
       "    </tr>\n",
       "    <tr>\n",
       "      <th>316</th>\n",
       "      <td>Jan-17</td>\n",
       "      <td>18</td>\n",
       "      <td>-1</td>\n",
       "      <td>215</td>\n",
       "      <td>1</td>\n",
       "      <td>-</td>\n",
       "      <td>3</td>\n",
       "      <td>357</td>\n",
       "    </tr>\n",
       "    <tr>\n",
       "      <th>317</th>\n",
       "      <td>Dec-16</td>\n",
       "      <td>19</td>\n",
       "      <td>4</td>\n",
       "      <td>216</td>\n",
       "      <td>1</td>\n",
       "      <td>-</td>\n",
       "      <td>3</td>\n",
       "      <td>946</td>\n",
       "    </tr>\n",
       "    <tr>\n",
       "      <th>318</th>\n",
       "      <td>Nov-16</td>\n",
       "      <td>15</td>\n",
       "      <td>-</td>\n",
       "      <td>147</td>\n",
       "      <td>1</td>\n",
       "      <td>-</td>\n",
       "      <td>3</td>\n",
       "      <td>336</td>\n",
       "    </tr>\n",
       "    <tr>\n",
       "      <th>319</th>\n",
       "      <td>Aug-25</td>\n",
       "      <td>14</td>\n",
       "      <td>-</td>\n",
       "      <td>1,213</td>\n",
       "      <td>2</td>\n",
       "      <td>-</td>\n",
       "      <td>8</td>\n",
       "      <td>4.4K</td>\n",
       "    </tr>\n",
       "    <tr>\n",
       "      <th>320</th>\n",
       "      <td>Jul-25</td>\n",
       "      <td>14</td>\n",
       "      <td>-</td>\n",
       "      <td>139</td>\n",
       "      <td>2</td>\n",
       "      <td>-</td>\n",
       "      <td>5</td>\n",
       "      <td>661</td>\n",
       "    </tr>\n",
       "  </tbody>\n",
       "</table>\n",
       "<p>321 rows × 8 columns</p>\n",
       "</div>"
      ],
      "text/plain": [
       "      Month Avg Viewers Gain Peak Viewers Avg Streams Gain.1 Peak Streams  \\\n",
       "0    Nov-16        18.0    -          164         2.0      -          7.0   \n",
       "1    Dec-16        20.0    2          509         2.0      -         10.0   \n",
       "2    Jan-17        19.0   -1          543         4.0      2         13.0   \n",
       "3    Feb-17        30.0   11        5,782         2.0     -2         11.0   \n",
       "4    Mar-17        18.0  -12          815         2.0      -         10.0   \n",
       "..      ...         ...  ...          ...         ...    ...          ...   \n",
       "316  Jan-17          18   -1          215           1      -            3   \n",
       "317  Dec-16          19    4          216           1      -            3   \n",
       "318  Nov-16          15    -          147           1      -            3   \n",
       "319  Aug-25          14    -        1,213           2      -            8   \n",
       "320  Jul-25          14    -          139           2      -            5   \n",
       "\n",
       "    Hours Watched  \n",
       "0            3.2K  \n",
       "1            8.0K  \n",
       "2            8.8K  \n",
       "3           16.0K  \n",
       "4            6.9K  \n",
       "..            ...  \n",
       "316           357  \n",
       "317           946  \n",
       "318           336  \n",
       "319          4.4K  \n",
       "320           661  \n",
       "\n",
       "[321 rows x 8 columns]"
      ]
     },
     "execution_count": 19,
     "metadata": {},
     "output_type": "execute_result"
    }
   ],
   "source": [
    "twitch_data_merged = pd.concat([cs_twitch_data, cs2_twitch_data, cscz_twitch_data, css_twitch_data], ignore_index=True)\n",
    "twitch_data_merged = twitch_data_merged[twitch_fields]\n",
    "twitch_data_merged"
   ]
  },
  {
   "cell_type": "code",
   "execution_count": 20,
   "id": "d55ddf61",
   "metadata": {},
   "outputs": [
    {
     "data": {
      "text/html": [
       "<div>\n",
       "<style scoped>\n",
       "    .dataframe tbody tr th:only-of-type {\n",
       "        vertical-align: middle;\n",
       "    }\n",
       "\n",
       "    .dataframe tbody tr th {\n",
       "        vertical-align: top;\n",
       "    }\n",
       "\n",
       "    .dataframe thead th {\n",
       "        text-align: right;\n",
       "    }\n",
       "</style>\n",
       "<table border=\"1\" class=\"dataframe\">\n",
       "  <thead>\n",
       "    <tr style=\"text-align: right;\">\n",
       "      <th></th>\n",
       "      <th>Month</th>\n",
       "      <th>Avg Viewers</th>\n",
       "      <th>Gain</th>\n",
       "      <th>Peak Viewers</th>\n",
       "      <th>Avg Streams</th>\n",
       "      <th>Gain.1</th>\n",
       "      <th>Peak Streams</th>\n",
       "      <th>Hours Watched</th>\n",
       "    </tr>\n",
       "  </thead>\n",
       "  <tbody>\n",
       "    <tr>\n",
       "      <th>0</th>\n",
       "      <td>Nov-16</td>\n",
       "      <td>18.0</td>\n",
       "      <td>-</td>\n",
       "      <td>164</td>\n",
       "      <td>2.0</td>\n",
       "      <td>-</td>\n",
       "      <td>7.0</td>\n",
       "      <td>32000.0</td>\n",
       "    </tr>\n",
       "    <tr>\n",
       "      <th>1</th>\n",
       "      <td>Dec-16</td>\n",
       "      <td>20.0</td>\n",
       "      <td>2</td>\n",
       "      <td>509</td>\n",
       "      <td>2.0</td>\n",
       "      <td>-</td>\n",
       "      <td>10.0</td>\n",
       "      <td>80000.0</td>\n",
       "    </tr>\n",
       "    <tr>\n",
       "      <th>2</th>\n",
       "      <td>Jan-17</td>\n",
       "      <td>19.0</td>\n",
       "      <td>-1</td>\n",
       "      <td>543</td>\n",
       "      <td>4.0</td>\n",
       "      <td>2</td>\n",
       "      <td>13.0</td>\n",
       "      <td>88000.0</td>\n",
       "    </tr>\n",
       "    <tr>\n",
       "      <th>3</th>\n",
       "      <td>Feb-17</td>\n",
       "      <td>30.0</td>\n",
       "      <td>11</td>\n",
       "      <td>5,782</td>\n",
       "      <td>2.0</td>\n",
       "      <td>-2</td>\n",
       "      <td>11.0</td>\n",
       "      <td>160000.0</td>\n",
       "    </tr>\n",
       "    <tr>\n",
       "      <th>4</th>\n",
       "      <td>Mar-17</td>\n",
       "      <td>18.0</td>\n",
       "      <td>-12</td>\n",
       "      <td>815</td>\n",
       "      <td>2.0</td>\n",
       "      <td>-</td>\n",
       "      <td>10.0</td>\n",
       "      <td>69000.0</td>\n",
       "    </tr>\n",
       "    <tr>\n",
       "      <th>...</th>\n",
       "      <td>...</td>\n",
       "      <td>...</td>\n",
       "      <td>...</td>\n",
       "      <td>...</td>\n",
       "      <td>...</td>\n",
       "      <td>...</td>\n",
       "      <td>...</td>\n",
       "      <td>...</td>\n",
       "    </tr>\n",
       "    <tr>\n",
       "      <th>316</th>\n",
       "      <td>Jan-17</td>\n",
       "      <td>18</td>\n",
       "      <td>-1</td>\n",
       "      <td>215</td>\n",
       "      <td>1</td>\n",
       "      <td>-</td>\n",
       "      <td>3</td>\n",
       "      <td>357.0</td>\n",
       "    </tr>\n",
       "    <tr>\n",
       "      <th>317</th>\n",
       "      <td>Dec-16</td>\n",
       "      <td>19</td>\n",
       "      <td>4</td>\n",
       "      <td>216</td>\n",
       "      <td>1</td>\n",
       "      <td>-</td>\n",
       "      <td>3</td>\n",
       "      <td>946.0</td>\n",
       "    </tr>\n",
       "    <tr>\n",
       "      <th>318</th>\n",
       "      <td>Nov-16</td>\n",
       "      <td>15</td>\n",
       "      <td>-</td>\n",
       "      <td>147</td>\n",
       "      <td>1</td>\n",
       "      <td>-</td>\n",
       "      <td>3</td>\n",
       "      <td>336.0</td>\n",
       "    </tr>\n",
       "    <tr>\n",
       "      <th>319</th>\n",
       "      <td>Aug-25</td>\n",
       "      <td>14</td>\n",
       "      <td>-</td>\n",
       "      <td>1,213</td>\n",
       "      <td>2</td>\n",
       "      <td>-</td>\n",
       "      <td>8</td>\n",
       "      <td>44000.0</td>\n",
       "    </tr>\n",
       "    <tr>\n",
       "      <th>320</th>\n",
       "      <td>Jul-25</td>\n",
       "      <td>14</td>\n",
       "      <td>-</td>\n",
       "      <td>139</td>\n",
       "      <td>2</td>\n",
       "      <td>-</td>\n",
       "      <td>5</td>\n",
       "      <td>661.0</td>\n",
       "    </tr>\n",
       "  </tbody>\n",
       "</table>\n",
       "<p>321 rows × 8 columns</p>\n",
       "</div>"
      ],
      "text/plain": [
       "      Month Avg Viewers Gain Peak Viewers Avg Streams Gain.1 Peak Streams  \\\n",
       "0    Nov-16        18.0    -          164         2.0      -          7.0   \n",
       "1    Dec-16        20.0    2          509         2.0      -         10.0   \n",
       "2    Jan-17        19.0   -1          543         4.0      2         13.0   \n",
       "3    Feb-17        30.0   11        5,782         2.0     -2         11.0   \n",
       "4    Mar-17        18.0  -12          815         2.0      -         10.0   \n",
       "..      ...         ...  ...          ...         ...    ...          ...   \n",
       "316  Jan-17          18   -1          215           1      -            3   \n",
       "317  Dec-16          19    4          216           1      -            3   \n",
       "318  Nov-16          15    -          147           1      -            3   \n",
       "319  Aug-25          14    -        1,213           2      -            8   \n",
       "320  Jul-25          14    -          139           2      -            5   \n",
       "\n",
       "     Hours Watched  \n",
       "0          32000.0  \n",
       "1          80000.0  \n",
       "2          88000.0  \n",
       "3         160000.0  \n",
       "4          69000.0  \n",
       "..             ...  \n",
       "316          357.0  \n",
       "317          946.0  \n",
       "318          336.0  \n",
       "319        44000.0  \n",
       "320          661.0  \n",
       "\n",
       "[321 rows x 8 columns]"
      ]
     },
     "execution_count": 20,
     "metadata": {},
     "output_type": "execute_result"
    }
   ],
   "source": [
    "# Transforming Hours Watched format\n",
    "def convert_k(val):\n",
    "    if isinstance(val, str):\n",
    "        if val.endswith(\"K\"):\n",
    "            return float(val[:-1].replace(\".\", \"\"))* 1000\n",
    "        elif val.endswith(\"M\"):\n",
    "            return float(val[:-1].replace(\".\", \"\")) * 1000000\n",
    "    return float(val)\n",
    "\n",
    "twitch_data_merged[\"Hours Watched\"] = twitch_data_merged[\"Hours Watched\"].map(convert_k)\n",
    "twitch_data_merged"
   ]
  },
  {
   "cell_type": "code",
   "execution_count": 21,
   "id": "7073e3ca",
   "metadata": {},
   "outputs": [
    {
     "data": {
      "text/html": [
       "<div>\n",
       "<style scoped>\n",
       "    .dataframe tbody tr th:only-of-type {\n",
       "        vertical-align: middle;\n",
       "    }\n",
       "\n",
       "    .dataframe tbody tr th {\n",
       "        vertical-align: top;\n",
       "    }\n",
       "\n",
       "    .dataframe thead th {\n",
       "        text-align: right;\n",
       "    }\n",
       "</style>\n",
       "<table border=\"1\" class=\"dataframe\">\n",
       "  <thead>\n",
       "    <tr style=\"text-align: right;\">\n",
       "      <th></th>\n",
       "      <th>Month</th>\n",
       "      <th>Avg Viewers</th>\n",
       "      <th>Gain</th>\n",
       "      <th>Peak Viewers</th>\n",
       "      <th>Avg Streams</th>\n",
       "      <th>Gain.1</th>\n",
       "      <th>Peak Streams</th>\n",
       "      <th>Hours Watched</th>\n",
       "    </tr>\n",
       "  </thead>\n",
       "  <tbody>\n",
       "    <tr>\n",
       "      <th>0</th>\n",
       "      <td>2016-11-01</td>\n",
       "      <td>18.0</td>\n",
       "      <td>0.0</td>\n",
       "      <td>164.0</td>\n",
       "      <td>2.0</td>\n",
       "      <td>0.0</td>\n",
       "      <td>7.0</td>\n",
       "      <td>32000.0</td>\n",
       "    </tr>\n",
       "    <tr>\n",
       "      <th>318</th>\n",
       "      <td>2016-11-01</td>\n",
       "      <td>15.0</td>\n",
       "      <td>0.0</td>\n",
       "      <td>147.0</td>\n",
       "      <td>1.0</td>\n",
       "      <td>0.0</td>\n",
       "      <td>3.0</td>\n",
       "      <td>336.0</td>\n",
       "    </tr>\n",
       "    <tr>\n",
       "      <th>212</th>\n",
       "      <td>2016-11-01</td>\n",
       "      <td>41089.0</td>\n",
       "      <td>0.0</td>\n",
       "      <td>236838.0</td>\n",
       "      <td>800.0</td>\n",
       "      <td>0.0</td>\n",
       "      <td>1723.0</td>\n",
       "      <td>305000000.0</td>\n",
       "    </tr>\n",
       "    <tr>\n",
       "      <th>211</th>\n",
       "      <td>2016-12-01</td>\n",
       "      <td>97356.0</td>\n",
       "      <td>56267.0</td>\n",
       "      <td>1153507.0</td>\n",
       "      <td>937.0</td>\n",
       "      <td>137.0</td>\n",
       "      <td>2172.0</td>\n",
       "      <td>721000000.0</td>\n",
       "    </tr>\n",
       "    <tr>\n",
       "      <th>1</th>\n",
       "      <td>2016-12-01</td>\n",
       "      <td>20.0</td>\n",
       "      <td>2.0</td>\n",
       "      <td>509.0</td>\n",
       "      <td>2.0</td>\n",
       "      <td>0.0</td>\n",
       "      <td>10.0</td>\n",
       "      <td>80000.0</td>\n",
       "    </tr>\n",
       "  </tbody>\n",
       "</table>\n",
       "</div>"
      ],
      "text/plain": [
       "         Month  Avg Viewers     Gain  Peak Viewers  Avg Streams  Gain.1  \\\n",
       "0   2016-11-01         18.0      0.0         164.0          2.0     0.0   \n",
       "318 2016-11-01         15.0      0.0         147.0          1.0     0.0   \n",
       "212 2016-11-01      41089.0      0.0      236838.0        800.0     0.0   \n",
       "211 2016-12-01      97356.0  56267.0     1153507.0        937.0   137.0   \n",
       "1   2016-12-01         20.0      2.0         509.0          2.0     0.0   \n",
       "\n",
       "     Peak Streams  Hours Watched  \n",
       "0             7.0        32000.0  \n",
       "318           3.0          336.0  \n",
       "212        1723.0    305000000.0  \n",
       "211        2172.0    721000000.0  \n",
       "1            10.0        80000.0  "
      ]
     },
     "execution_count": 21,
     "metadata": {},
     "output_type": "execute_result"
    }
   ],
   "source": [
    "numeric_fields = [x for x in twitch_fields if x != \"Month\"]\n",
    "twitch_data_merged[numeric_fields] = twitch_data_merged[numeric_fields].replace({\",\": \"\", \"-\": \"0\"}, regex=True).astype(float)\n",
    "\n",
    "twitch_data_merged[\"Month\"] = pd.to_datetime(twitch_data_merged[\"Month\"], format=\"%b-%y\")\n",
    "twitch_data_merged = twitch_data_merged.sort_values(\"Month\")\n",
    "twitch_data_merged.head()"
   ]
  },
  {
   "cell_type": "code",
   "execution_count": 22,
   "id": "854cdf2a",
   "metadata": {},
   "outputs": [
    {
     "data": {
      "text/html": [
       "<div>\n",
       "<style scoped>\n",
       "    .dataframe tbody tr th:only-of-type {\n",
       "        vertical-align: middle;\n",
       "    }\n",
       "\n",
       "    .dataframe tbody tr th {\n",
       "        vertical-align: top;\n",
       "    }\n",
       "\n",
       "    .dataframe thead th {\n",
       "        text-align: right;\n",
       "    }\n",
       "</style>\n",
       "<table border=\"1\" class=\"dataframe\">\n",
       "  <thead>\n",
       "    <tr style=\"text-align: right;\">\n",
       "      <th></th>\n",
       "      <th>Avg Viewers</th>\n",
       "      <th>Gain</th>\n",
       "      <th>Peak Viewers</th>\n",
       "      <th>Avg Streams</th>\n",
       "      <th>Gain.1</th>\n",
       "      <th>Peak Streams</th>\n",
       "      <th>Hours Watched</th>\n",
       "    </tr>\n",
       "    <tr>\n",
       "      <th>Month</th>\n",
       "      <th></th>\n",
       "      <th></th>\n",
       "      <th></th>\n",
       "      <th></th>\n",
       "      <th></th>\n",
       "      <th></th>\n",
       "      <th></th>\n",
       "    </tr>\n",
       "  </thead>\n",
       "  <tbody>\n",
       "    <tr>\n",
       "      <th>2016-11-01</th>\n",
       "      <td>41122.0</td>\n",
       "      <td>0.0</td>\n",
       "      <td>237149.0</td>\n",
       "      <td>803.0</td>\n",
       "      <td>0.0</td>\n",
       "      <td>1733.0</td>\n",
       "      <td>305032336.0</td>\n",
       "    </tr>\n",
       "    <tr>\n",
       "      <th>2016-12-01</th>\n",
       "      <td>97395.0</td>\n",
       "      <td>56273.0</td>\n",
       "      <td>1154232.0</td>\n",
       "      <td>940.0</td>\n",
       "      <td>137.0</td>\n",
       "      <td>2185.0</td>\n",
       "      <td>721080946.0</td>\n",
       "    </tr>\n",
       "    <tr>\n",
       "      <th>2017-01-01</th>\n",
       "      <td>60177.0</td>\n",
       "      <td>37218.0</td>\n",
       "      <td>461337.0</td>\n",
       "      <td>1014.0</td>\n",
       "      <td>74.0</td>\n",
       "      <td>2097.0</td>\n",
       "      <td>404088357.0</td>\n",
       "    </tr>\n",
       "    <tr>\n",
       "      <th>2017-02-01</th>\n",
       "      <td>49606.0</td>\n",
       "      <td>10593.0</td>\n",
       "      <td>512456.0</td>\n",
       "      <td>946.0</td>\n",
       "      <td>68.0</td>\n",
       "      <td>2100.0</td>\n",
       "      <td>368160397.0</td>\n",
       "    </tr>\n",
       "    <tr>\n",
       "      <th>2017-03-01</th>\n",
       "      <td>50868.0</td>\n",
       "      <td>1286.0</td>\n",
       "      <td>418276.0</td>\n",
       "      <td>879.0</td>\n",
       "      <td>69.0</td>\n",
       "      <td>1830.0</td>\n",
       "      <td>364069433.0</td>\n",
       "    </tr>\n",
       "    <tr>\n",
       "      <th>...</th>\n",
       "      <td>...</td>\n",
       "      <td>...</td>\n",
       "      <td>...</td>\n",
       "      <td>...</td>\n",
       "      <td>...</td>\n",
       "      <td>...</td>\n",
       "      <td>...</td>\n",
       "    </tr>\n",
       "    <tr>\n",
       "      <th>2025-04-01</th>\n",
       "      <td>99822.0</td>\n",
       "      <td>12660.0</td>\n",
       "      <td>722031.0</td>\n",
       "      <td>1601.0</td>\n",
       "      <td>80.0</td>\n",
       "      <td>3272.0</td>\n",
       "      <td>741902172.0</td>\n",
       "    </tr>\n",
       "    <tr>\n",
       "      <th>2025-05-01</th>\n",
       "      <td>117782.0</td>\n",
       "      <td>18074.0</td>\n",
       "      <td>1146827.0</td>\n",
       "      <td>1481.0</td>\n",
       "      <td>120.0</td>\n",
       "      <td>3053.0</td>\n",
       "      <td>848466647.0</td>\n",
       "    </tr>\n",
       "    <tr>\n",
       "      <th>2025-06-01</th>\n",
       "      <td>86343.0</td>\n",
       "      <td>31463.0</td>\n",
       "      <td>556026.0</td>\n",
       "      <td>1519.0</td>\n",
       "      <td>38.0</td>\n",
       "      <td>2998.0</td>\n",
       "      <td>642565317.0</td>\n",
       "    </tr>\n",
       "    <tr>\n",
       "      <th>2025-07-01</th>\n",
       "      <td>91794.0</td>\n",
       "      <td>5449.0</td>\n",
       "      <td>734295.0</td>\n",
       "      <td>1558.0</td>\n",
       "      <td>37.0</td>\n",
       "      <td>3044.0</td>\n",
       "      <td>682532909.0</td>\n",
       "    </tr>\n",
       "    <tr>\n",
       "      <th>2025-08-01</th>\n",
       "      <td>64286.0</td>\n",
       "      <td>27510.0</td>\n",
       "      <td>445214.0</td>\n",
       "      <td>1447.0</td>\n",
       "      <td>111.0</td>\n",
       "      <td>2952.0</td>\n",
       "      <td>154211193.0</td>\n",
       "    </tr>\n",
       "  </tbody>\n",
       "</table>\n",
       "<p>106 rows × 7 columns</p>\n",
       "</div>"
      ],
      "text/plain": [
       "            Avg Viewers     Gain  Peak Viewers  Avg Streams  Gain.1  \\\n",
       "Month                                                                 \n",
       "2016-11-01      41122.0      0.0      237149.0        803.0     0.0   \n",
       "2016-12-01      97395.0  56273.0     1154232.0        940.0   137.0   \n",
       "2017-01-01      60177.0  37218.0      461337.0       1014.0    74.0   \n",
       "2017-02-01      49606.0  10593.0      512456.0        946.0    68.0   \n",
       "2017-03-01      50868.0   1286.0      418276.0        879.0    69.0   \n",
       "...                 ...      ...           ...          ...     ...   \n",
       "2025-04-01      99822.0  12660.0      722031.0       1601.0    80.0   \n",
       "2025-05-01     117782.0  18074.0     1146827.0       1481.0   120.0   \n",
       "2025-06-01      86343.0  31463.0      556026.0       1519.0    38.0   \n",
       "2025-07-01      91794.0   5449.0      734295.0       1558.0    37.0   \n",
       "2025-08-01      64286.0  27510.0      445214.0       1447.0   111.0   \n",
       "\n",
       "            Peak Streams  Hours Watched  \n",
       "Month                                    \n",
       "2016-11-01        1733.0    305032336.0  \n",
       "2016-12-01        2185.0    721080946.0  \n",
       "2017-01-01        2097.0    404088357.0  \n",
       "2017-02-01        2100.0    368160397.0  \n",
       "2017-03-01        1830.0    364069433.0  \n",
       "...                  ...            ...  \n",
       "2025-04-01        3272.0    741902172.0  \n",
       "2025-05-01        3053.0    848466647.0  \n",
       "2025-06-01        2998.0    642565317.0  \n",
       "2025-07-01        3044.0    682532909.0  \n",
       "2025-08-01        2952.0    154211193.0  \n",
       "\n",
       "[106 rows x 7 columns]"
      ]
     },
     "execution_count": 22,
     "metadata": {},
     "output_type": "execute_result"
    }
   ],
   "source": [
    "twitch_data_merged_grouped = twitch_data_merged.groupby(twitch_data_merged.columns[0]).sum()\n",
    "# twitch_data_merged_grouped.to_csv(\"../assets/TwitchTracker_merged_cleaned.csv\", encoding=\"utf-8\")\n",
    "twitch_data_merged_grouped"
   ]
  },
  {
   "cell_type": "markdown",
   "id": "fa48fc74",
   "metadata": {},
   "source": [
    "### Youtube Video Data from Youtube Data API"
   ]
  },
  {
   "cell_type": "code",
   "execution_count": 23,
   "id": "92aec4c6",
   "metadata": {},
   "outputs": [],
   "source": [
    "youtube_data = pd.read_csv(\"../assets/yt_counter_strike.csv\")"
   ]
  },
  {
   "cell_type": "code",
   "execution_count": 24,
   "id": "b0241367",
   "metadata": {},
   "outputs": [
    {
     "name": "stderr",
     "output_type": "stream",
     "text": [
      "/var/folders/lc/9_dv_jhs555875nqm1qhl9tr0000gn/T/ipykernel_21281/2866478919.py:3: UserWarning: Converting to PeriodArray/Index representation will drop timezone information.\n",
      "  youtube_data[\"publishedAt\"] = pd.to_datetime(youtube_data[\"publishedAt\"], utc=True).dt.to_period(\"M\").dt.to_timestamp()\n"
     ]
    },
    {
     "data": {
      "text/html": [
       "<div>\n",
       "<style scoped>\n",
       "    .dataframe tbody tr th:only-of-type {\n",
       "        vertical-align: middle;\n",
       "    }\n",
       "\n",
       "    .dataframe tbody tr th {\n",
       "        vertical-align: top;\n",
       "    }\n",
       "\n",
       "    .dataframe thead th {\n",
       "        text-align: right;\n",
       "    }\n",
       "</style>\n",
       "<table border=\"1\" class=\"dataframe\">\n",
       "  <thead>\n",
       "    <tr style=\"text-align: right;\">\n",
       "      <th></th>\n",
       "      <th>publishedAt</th>\n",
       "      <th>title</th>\n",
       "      <th>description</th>\n",
       "      <th>viewCount</th>\n",
       "      <th>likeCount</th>\n",
       "      <th>commentCount</th>\n",
       "      <th>favoriteCount</th>\n",
       "    </tr>\n",
       "  </thead>\n",
       "  <tbody>\n",
       "    <tr>\n",
       "      <th>46</th>\n",
       "      <td>2005-08-01</td>\n",
       "      <td>Offline Quicky</td>\n",
       "      <td>my 1st video ofline park DM me against the rest</td>\n",
       "      <td>1064</td>\n",
       "      <td>9.0</td>\n",
       "      <td>6.0</td>\n",
       "      <td>0</td>\n",
       "    </tr>\n",
       "    <tr>\n",
       "      <th>11</th>\n",
       "      <td>2005-08-01</td>\n",
       "      <td>Damnation</td>\n",
       "      <td>all about the map damnation</td>\n",
       "      <td>19378</td>\n",
       "      <td>19.0</td>\n",
       "      <td>4.0</td>\n",
       "      <td>0</td>\n",
       "    </tr>\n",
       "    <tr>\n",
       "      <th>25</th>\n",
       "      <td>2005-08-01</td>\n",
       "      <td>A tribute to the A.I.s</td>\n",
       "      <td>Just see it.\\r\\n\\r\\nP.S.it gets better as it gos.</td>\n",
       "      <td>5109</td>\n",
       "      <td>59.0</td>\n",
       "      <td>17.0</td>\n",
       "      <td>0</td>\n",
       "    </tr>\n",
       "    <tr>\n",
       "      <th>38</th>\n",
       "      <td>2005-08-01</td>\n",
       "      <td>Welcome To Our Arena -Trailor</td>\n",
       "      <td>Preview of upcoming TeaM f@taL Movie \"Welcome ...</td>\n",
       "      <td>2259</td>\n",
       "      <td>28.0</td>\n",
       "      <td>12.0</td>\n",
       "      <td>0</td>\n",
       "    </tr>\n",
       "    <tr>\n",
       "      <th>6</th>\n",
       "      <td>2005-08-01</td>\n",
       "      <td>Black Hawk Down CTF Video 32 player online PS2</td>\n",
       "      <td>This is a video i made of Black Hawk down duri...</td>\n",
       "      <td>50844</td>\n",
       "      <td>90.0</td>\n",
       "      <td>65.0</td>\n",
       "      <td>0</td>\n",
       "    </tr>\n",
       "  </tbody>\n",
       "</table>\n",
       "</div>"
      ],
      "text/plain": [
       "   publishedAt                                           title  \\\n",
       "46  2005-08-01                                  Offline Quicky   \n",
       "11  2005-08-01                                       Damnation   \n",
       "25  2005-08-01                          A tribute to the A.I.s   \n",
       "38  2005-08-01                   Welcome To Our Arena -Trailor   \n",
       "6   2005-08-01  Black Hawk Down CTF Video 32 player online PS2   \n",
       "\n",
       "                                          description  viewCount  likeCount  \\\n",
       "46    my 1st video ofline park DM me against the rest       1064        9.0   \n",
       "11                        all about the map damnation      19378       19.0   \n",
       "25  Just see it.\\r\\n\\r\\nP.S.it gets better as it gos.       5109       59.0   \n",
       "38  Preview of upcoming TeaM f@taL Movie \"Welcome ...       2259       28.0   \n",
       "6   This is a video i made of Black Hawk down duri...      50844       90.0   \n",
       "\n",
       "    commentCount  favoriteCount  \n",
       "46           6.0              0  \n",
       "11           4.0              0  \n",
       "25          17.0              0  \n",
       "38          12.0              0  \n",
       "6           65.0              0  "
      ]
     },
     "execution_count": 24,
     "metadata": {},
     "output_type": "execute_result"
    }
   ],
   "source": [
    "youtube_fields = ['publishedAt', 'title', 'description', 'viewCount', 'likeCount', 'commentCount', 'favoriteCount']\n",
    "youtube_data = youtube_data[youtube_fields]\n",
    "youtube_data[\"publishedAt\"] = pd.to_datetime(youtube_data[\"publishedAt\"], utc=True).dt.to_period(\"M\").dt.to_timestamp()\n",
    "\n",
    "youtube_data = youtube_data.sort_values(\"publishedAt\")\n",
    "youtube_data.head()"
   ]
  },
  {
   "cell_type": "code",
   "execution_count": 25,
   "id": "d4739818",
   "metadata": {},
   "outputs": [],
   "source": [
    "# youtube_data.to_csv(\"../assets/Youtube_merged_cleaned.csv\", encoding=\"utf-8\")"
   ]
  },
  {
   "cell_type": "code",
   "execution_count": 26,
   "id": "fd7c3bc2",
   "metadata": {},
   "outputs": [
    {
     "data": {
      "text/html": [
       "<div>\n",
       "<style scoped>\n",
       "    .dataframe tbody tr th:only-of-type {\n",
       "        vertical-align: middle;\n",
       "    }\n",
       "\n",
       "    .dataframe tbody tr th {\n",
       "        vertical-align: top;\n",
       "    }\n",
       "\n",
       "    .dataframe thead th {\n",
       "        text-align: right;\n",
       "    }\n",
       "</style>\n",
       "<table border=\"1\" class=\"dataframe\">\n",
       "  <thead>\n",
       "    <tr style=\"text-align: right;\">\n",
       "      <th></th>\n",
       "      <th>publishedAt</th>\n",
       "      <th>video_count</th>\n",
       "    </tr>\n",
       "  </thead>\n",
       "  <tbody>\n",
       "    <tr>\n",
       "      <th>239</th>\n",
       "      <td>2025-08-01</td>\n",
       "      <td>50</td>\n",
       "    </tr>\n",
       "    <tr>\n",
       "      <th>210</th>\n",
       "      <td>2023-03-01</td>\n",
       "      <td>40</td>\n",
       "    </tr>\n",
       "    <tr>\n",
       "      <th>149</th>\n",
       "      <td>2018-01-01</td>\n",
       "      <td>23</td>\n",
       "    </tr>\n",
       "    <tr>\n",
       "      <th>3</th>\n",
       "      <td>2005-11-01</td>\n",
       "      <td>21</td>\n",
       "    </tr>\n",
       "    <tr>\n",
       "      <th>115</th>\n",
       "      <td>2015-03-01</td>\n",
       "      <td>21</td>\n",
       "    </tr>\n",
       "    <tr>\n",
       "      <th>...</th>\n",
       "      <td>...</td>\n",
       "      <td>...</td>\n",
       "    </tr>\n",
       "    <tr>\n",
       "      <th>209</th>\n",
       "      <td>2023-02-01</td>\n",
       "      <td>6</td>\n",
       "    </tr>\n",
       "    <tr>\n",
       "      <th>98</th>\n",
       "      <td>2013-10-01</td>\n",
       "      <td>5</td>\n",
       "    </tr>\n",
       "    <tr>\n",
       "      <th>162</th>\n",
       "      <td>2019-02-01</td>\n",
       "      <td>5</td>\n",
       "    </tr>\n",
       "    <tr>\n",
       "      <th>208</th>\n",
       "      <td>2023-01-01</td>\n",
       "      <td>4</td>\n",
       "    </tr>\n",
       "    <tr>\n",
       "      <th>1</th>\n",
       "      <td>2005-09-01</td>\n",
       "      <td>3</td>\n",
       "    </tr>\n",
       "  </tbody>\n",
       "</table>\n",
       "<p>240 rows × 2 columns</p>\n",
       "</div>"
      ],
      "text/plain": [
       "    publishedAt  video_count\n",
       "239  2025-08-01           50\n",
       "210  2023-03-01           40\n",
       "149  2018-01-01           23\n",
       "3    2005-11-01           21\n",
       "115  2015-03-01           21\n",
       "..          ...          ...\n",
       "209  2023-02-01            6\n",
       "98   2013-10-01            5\n",
       "162  2019-02-01            5\n",
       "208  2023-01-01            4\n",
       "1    2005-09-01            3\n",
       "\n",
       "[240 rows x 2 columns]"
      ]
     },
     "execution_count": 26,
     "metadata": {},
     "output_type": "execute_result"
    }
   ],
   "source": [
    "counts = youtube_data.groupby(\"publishedAt\").size().reset_index(name=\"video_count\")\n",
    "counts_sorted = counts.sort_values(by=\"video_count\", ascending=False)\n",
    "counts_sorted"
   ]
  },
  {
   "cell_type": "markdown",
   "id": "336eec37",
   "metadata": {},
   "source": [
    "## Visualizations"
   ]
  },
  {
   "cell_type": "code",
   "execution_count": 27,
   "id": "cc597835",
   "metadata": {},
   "outputs": [
    {
     "data": {
      "text/html": [
       "<div>\n",
       "<style scoped>\n",
       "    .dataframe tbody tr th:only-of-type {\n",
       "        vertical-align: middle;\n",
       "    }\n",
       "\n",
       "    .dataframe tbody tr th {\n",
       "        vertical-align: top;\n",
       "    }\n",
       "\n",
       "    .dataframe thead th {\n",
       "        text-align: right;\n",
       "    }\n",
       "</style>\n",
       "<table border=\"1\" class=\"dataframe\">\n",
       "  <thead>\n",
       "    <tr style=\"text-align: right;\">\n",
       "      <th></th>\n",
       "      <th>month</th>\n",
       "      <th>peak</th>\n",
       "      <th>gain</th>\n",
       "      <th>average</th>\n",
       "    </tr>\n",
       "  </thead>\n",
       "  <tbody>\n",
       "    <tr>\n",
       "      <th>0</th>\n",
       "      <td>2004-01-01</td>\n",
       "      <td>23241.0</td>\n",
       "      <td>0.0</td>\n",
       "      <td>0.0</td>\n",
       "    </tr>\n",
       "    <tr>\n",
       "      <th>1</th>\n",
       "      <td>2004-02-01</td>\n",
       "      <td>39709.0</td>\n",
       "      <td>16468.0</td>\n",
       "      <td>0.0</td>\n",
       "    </tr>\n",
       "    <tr>\n",
       "      <th>2</th>\n",
       "      <td>2004-04-01</td>\n",
       "      <td>84182.0</td>\n",
       "      <td>35217.0</td>\n",
       "      <td>0.0</td>\n",
       "    </tr>\n",
       "    <tr>\n",
       "      <th>3</th>\n",
       "      <td>2004-06-01</td>\n",
       "      <td>80908.0</td>\n",
       "      <td>12826.0</td>\n",
       "      <td>0.0</td>\n",
       "    </tr>\n",
       "    <tr>\n",
       "      <th>4</th>\n",
       "      <td>2004-07-01</td>\n",
       "      <td>84804.0</td>\n",
       "      <td>3896.0</td>\n",
       "      <td>0.0</td>\n",
       "    </tr>\n",
       "  </tbody>\n",
       "</table>\n",
       "</div>"
      ],
      "text/plain": [
       "       month     peak     gain  average\n",
       "0 2004-01-01  23241.0      0.0      0.0\n",
       "1 2004-02-01  39709.0  16468.0      0.0\n",
       "2 2004-04-01  84182.0  35217.0      0.0\n",
       "3 2004-06-01  80908.0  12826.0      0.0\n",
       "4 2004-07-01  84804.0   3896.0      0.0"
      ]
     },
     "execution_count": 27,
     "metadata": {},
     "output_type": "execute_result"
    }
   ],
   "source": [
    "SteamDB_merged_grouped.head()"
   ]
  },
  {
   "cell_type": "code",
   "execution_count": 28,
   "id": "10f038bf",
   "metadata": {},
   "outputs": [
    {
     "data": {
      "text/html": [
       "<div>\n",
       "<style scoped>\n",
       "    .dataframe tbody tr th:only-of-type {\n",
       "        vertical-align: middle;\n",
       "    }\n",
       "\n",
       "    .dataframe tbody tr th {\n",
       "        vertical-align: top;\n",
       "    }\n",
       "\n",
       "    .dataframe thead th {\n",
       "        text-align: right;\n",
       "    }\n",
       "</style>\n",
       "<table border=\"1\" class=\"dataframe\">\n",
       "  <thead>\n",
       "    <tr style=\"text-align: right;\">\n",
       "      <th></th>\n",
       "      <th>id</th>\n",
       "      <th>name</th>\n",
       "      <th>first_release_date</th>\n",
       "      <th>genres</th>\n",
       "      <th>rating</th>\n",
       "      <th>rating_count</th>\n",
       "      <th>total_rating</th>\n",
       "      <th>total_rating_count</th>\n",
       "      <th>aggregated_rating</th>\n",
       "      <th>aggregated_rating_count</th>\n",
       "    </tr>\n",
       "  </thead>\n",
       "  <tbody>\n",
       "    <tr>\n",
       "      <th>4</th>\n",
       "      <td>92204</td>\n",
       "      <td>_-_</td>\n",
       "      <td>2018-03-14</td>\n",
       "      <td>[Puzzle, Arcade]</td>\n",
       "      <td>90.000000</td>\n",
       "      <td>0.0</td>\n",
       "      <td>90.000000</td>\n",
       "      <td>0.0</td>\n",
       "      <td>NaN</td>\n",
       "      <td>NaN</td>\n",
       "    </tr>\n",
       "    <tr>\n",
       "      <th>23</th>\n",
       "      <td>1649</td>\n",
       "      <td>007 Legends</td>\n",
       "      <td>2012-10-16</td>\n",
       "      <td>[Shooter]</td>\n",
       "      <td>54.172800</td>\n",
       "      <td>23.0</td>\n",
       "      <td>49.943543</td>\n",
       "      <td>30.0</td>\n",
       "      <td>45.714286</td>\n",
       "      <td>7.0</td>\n",
       "    </tr>\n",
       "    <tr>\n",
       "      <th>48</th>\n",
       "      <td>113188</td>\n",
       "      <td>03.04</td>\n",
       "      <td>2019-01-01</td>\n",
       "      <td>[Adventure, Indie]</td>\n",
       "      <td>60.000000</td>\n",
       "      <td>2.0</td>\n",
       "      <td>60.000000</td>\n",
       "      <td>2.0</td>\n",
       "      <td>NaN</td>\n",
       "      <td>NaN</td>\n",
       "    </tr>\n",
       "    <tr>\n",
       "      <th>69</th>\n",
       "      <td>55486</td>\n",
       "      <td>0°N 0°W</td>\n",
       "      <td>2018-03-02</td>\n",
       "      <td>[Adventure, Indie]</td>\n",
       "      <td>70.000000</td>\n",
       "      <td>4.0</td>\n",
       "      <td>60.000000</td>\n",
       "      <td>5.0</td>\n",
       "      <td>50.000000</td>\n",
       "      <td>1.0</td>\n",
       "    </tr>\n",
       "    <tr>\n",
       "      <th>72</th>\n",
       "      <td>9583</td>\n",
       "      <td>0rbitalis</td>\n",
       "      <td>2014-04-16</td>\n",
       "      <td>[Puzzle, Simulator, Indie]</td>\n",
       "      <td>79.935551</td>\n",
       "      <td>5.0</td>\n",
       "      <td>77.467775</td>\n",
       "      <td>8.0</td>\n",
       "      <td>75.000000</td>\n",
       "      <td>3.0</td>\n",
       "    </tr>\n",
       "  </tbody>\n",
       "</table>\n",
       "</div>"
      ],
      "text/plain": [
       "        id         name first_release_date                      genres  \\\n",
       "4    92204          _-_         2018-03-14            [Puzzle, Arcade]   \n",
       "23    1649  007 Legends         2012-10-16                   [Shooter]   \n",
       "48  113188        03.04         2019-01-01          [Adventure, Indie]   \n",
       "69   55486      0°N 0°W         2018-03-02          [Adventure, Indie]   \n",
       "72    9583    0rbitalis         2014-04-16  [Puzzle, Simulator, Indie]   \n",
       "\n",
       "       rating  rating_count  total_rating  total_rating_count  \\\n",
       "4   90.000000           0.0     90.000000                 0.0   \n",
       "23  54.172800          23.0     49.943543                30.0   \n",
       "48  60.000000           2.0     60.000000                 2.0   \n",
       "69  70.000000           4.0     60.000000                 5.0   \n",
       "72  79.935551           5.0     77.467775                 8.0   \n",
       "\n",
       "    aggregated_rating  aggregated_rating_count  \n",
       "4                 NaN                      NaN  \n",
       "23          45.714286                      7.0  \n",
       "48                NaN                      NaN  \n",
       "69          50.000000                      1.0  \n",
       "72          75.000000                      3.0  "
      ]
     },
     "execution_count": 28,
     "metadata": {},
     "output_type": "execute_result"
    }
   ],
   "source": [
    "igdb_data_merged_filtered_converted.head()"
   ]
  },
  {
   "cell_type": "code",
   "execution_count": 29,
   "id": "23b07f3d",
   "metadata": {},
   "outputs": [
    {
     "data": {
      "text/html": [
       "<div>\n",
       "<style scoped>\n",
       "    .dataframe tbody tr th:only-of-type {\n",
       "        vertical-align: middle;\n",
       "    }\n",
       "\n",
       "    .dataframe tbody tr th {\n",
       "        vertical-align: top;\n",
       "    }\n",
       "\n",
       "    .dataframe thead th {\n",
       "        text-align: right;\n",
       "    }\n",
       "</style>\n",
       "<table border=\"1\" class=\"dataframe\">\n",
       "  <thead>\n",
       "    <tr style=\"text-align: right;\">\n",
       "      <th></th>\n",
       "      <th>Avg Viewers</th>\n",
       "      <th>Gain</th>\n",
       "      <th>Peak Viewers</th>\n",
       "      <th>Avg Streams</th>\n",
       "      <th>Gain.1</th>\n",
       "      <th>Peak Streams</th>\n",
       "      <th>Hours Watched</th>\n",
       "    </tr>\n",
       "    <tr>\n",
       "      <th>Month</th>\n",
       "      <th></th>\n",
       "      <th></th>\n",
       "      <th></th>\n",
       "      <th></th>\n",
       "      <th></th>\n",
       "      <th></th>\n",
       "      <th></th>\n",
       "    </tr>\n",
       "  </thead>\n",
       "  <tbody>\n",
       "    <tr>\n",
       "      <th>2016-11-01</th>\n",
       "      <td>41122.0</td>\n",
       "      <td>0.0</td>\n",
       "      <td>237149.0</td>\n",
       "      <td>803.0</td>\n",
       "      <td>0.0</td>\n",
       "      <td>1733.0</td>\n",
       "      <td>305032336.0</td>\n",
       "    </tr>\n",
       "    <tr>\n",
       "      <th>2016-12-01</th>\n",
       "      <td>97395.0</td>\n",
       "      <td>56273.0</td>\n",
       "      <td>1154232.0</td>\n",
       "      <td>940.0</td>\n",
       "      <td>137.0</td>\n",
       "      <td>2185.0</td>\n",
       "      <td>721080946.0</td>\n",
       "    </tr>\n",
       "    <tr>\n",
       "      <th>2017-01-01</th>\n",
       "      <td>60177.0</td>\n",
       "      <td>37218.0</td>\n",
       "      <td>461337.0</td>\n",
       "      <td>1014.0</td>\n",
       "      <td>74.0</td>\n",
       "      <td>2097.0</td>\n",
       "      <td>404088357.0</td>\n",
       "    </tr>\n",
       "    <tr>\n",
       "      <th>2017-02-01</th>\n",
       "      <td>49606.0</td>\n",
       "      <td>10593.0</td>\n",
       "      <td>512456.0</td>\n",
       "      <td>946.0</td>\n",
       "      <td>68.0</td>\n",
       "      <td>2100.0</td>\n",
       "      <td>368160397.0</td>\n",
       "    </tr>\n",
       "    <tr>\n",
       "      <th>2017-03-01</th>\n",
       "      <td>50868.0</td>\n",
       "      <td>1286.0</td>\n",
       "      <td>418276.0</td>\n",
       "      <td>879.0</td>\n",
       "      <td>69.0</td>\n",
       "      <td>1830.0</td>\n",
       "      <td>364069433.0</td>\n",
       "    </tr>\n",
       "  </tbody>\n",
       "</table>\n",
       "</div>"
      ],
      "text/plain": [
       "            Avg Viewers     Gain  Peak Viewers  Avg Streams  Gain.1  \\\n",
       "Month                                                                 \n",
       "2016-11-01      41122.0      0.0      237149.0        803.0     0.0   \n",
       "2016-12-01      97395.0  56273.0     1154232.0        940.0   137.0   \n",
       "2017-01-01      60177.0  37218.0      461337.0       1014.0    74.0   \n",
       "2017-02-01      49606.0  10593.0      512456.0        946.0    68.0   \n",
       "2017-03-01      50868.0   1286.0      418276.0        879.0    69.0   \n",
       "\n",
       "            Peak Streams  Hours Watched  \n",
       "Month                                    \n",
       "2016-11-01        1733.0    305032336.0  \n",
       "2016-12-01        2185.0    721080946.0  \n",
       "2017-01-01        2097.0    404088357.0  \n",
       "2017-02-01        2100.0    368160397.0  \n",
       "2017-03-01        1830.0    364069433.0  "
      ]
     },
     "execution_count": 29,
     "metadata": {},
     "output_type": "execute_result"
    }
   ],
   "source": [
    "twitch_data_merged_grouped.head()"
   ]
  },
  {
   "cell_type": "code",
   "execution_count": 30,
   "id": "98688ed8",
   "metadata": {},
   "outputs": [
    {
     "data": {
      "text/html": [
       "<div>\n",
       "<style scoped>\n",
       "    .dataframe tbody tr th:only-of-type {\n",
       "        vertical-align: middle;\n",
       "    }\n",
       "\n",
       "    .dataframe tbody tr th {\n",
       "        vertical-align: top;\n",
       "    }\n",
       "\n",
       "    .dataframe thead th {\n",
       "        text-align: right;\n",
       "    }\n",
       "</style>\n",
       "<table border=\"1\" class=\"dataframe\">\n",
       "  <thead>\n",
       "    <tr style=\"text-align: right;\">\n",
       "      <th></th>\n",
       "      <th>publishedAt</th>\n",
       "      <th>title</th>\n",
       "      <th>description</th>\n",
       "      <th>viewCount</th>\n",
       "      <th>likeCount</th>\n",
       "      <th>commentCount</th>\n",
       "      <th>favoriteCount</th>\n",
       "    </tr>\n",
       "  </thead>\n",
       "  <tbody>\n",
       "    <tr>\n",
       "      <th>46</th>\n",
       "      <td>2005-08-01</td>\n",
       "      <td>Offline Quicky</td>\n",
       "      <td>my 1st video ofline park DM me against the rest</td>\n",
       "      <td>1064</td>\n",
       "      <td>9.0</td>\n",
       "      <td>6.0</td>\n",
       "      <td>0</td>\n",
       "    </tr>\n",
       "    <tr>\n",
       "      <th>11</th>\n",
       "      <td>2005-08-01</td>\n",
       "      <td>Damnation</td>\n",
       "      <td>all about the map damnation</td>\n",
       "      <td>19378</td>\n",
       "      <td>19.0</td>\n",
       "      <td>4.0</td>\n",
       "      <td>0</td>\n",
       "    </tr>\n",
       "    <tr>\n",
       "      <th>25</th>\n",
       "      <td>2005-08-01</td>\n",
       "      <td>A tribute to the A.I.s</td>\n",
       "      <td>Just see it.\\r\\n\\r\\nP.S.it gets better as it gos.</td>\n",
       "      <td>5109</td>\n",
       "      <td>59.0</td>\n",
       "      <td>17.0</td>\n",
       "      <td>0</td>\n",
       "    </tr>\n",
       "    <tr>\n",
       "      <th>38</th>\n",
       "      <td>2005-08-01</td>\n",
       "      <td>Welcome To Our Arena -Trailor</td>\n",
       "      <td>Preview of upcoming TeaM f@taL Movie \"Welcome ...</td>\n",
       "      <td>2259</td>\n",
       "      <td>28.0</td>\n",
       "      <td>12.0</td>\n",
       "      <td>0</td>\n",
       "    </tr>\n",
       "    <tr>\n",
       "      <th>6</th>\n",
       "      <td>2005-08-01</td>\n",
       "      <td>Black Hawk Down CTF Video 32 player online PS2</td>\n",
       "      <td>This is a video i made of Black Hawk down duri...</td>\n",
       "      <td>50844</td>\n",
       "      <td>90.0</td>\n",
       "      <td>65.0</td>\n",
       "      <td>0</td>\n",
       "    </tr>\n",
       "  </tbody>\n",
       "</table>\n",
       "</div>"
      ],
      "text/plain": [
       "   publishedAt                                           title  \\\n",
       "46  2005-08-01                                  Offline Quicky   \n",
       "11  2005-08-01                                       Damnation   \n",
       "25  2005-08-01                          A tribute to the A.I.s   \n",
       "38  2005-08-01                   Welcome To Our Arena -Trailor   \n",
       "6   2005-08-01  Black Hawk Down CTF Video 32 player online PS2   \n",
       "\n",
       "                                          description  viewCount  likeCount  \\\n",
       "46    my 1st video ofline park DM me against the rest       1064        9.0   \n",
       "11                        all about the map damnation      19378       19.0   \n",
       "25  Just see it.\\r\\n\\r\\nP.S.it gets better as it gos.       5109       59.0   \n",
       "38  Preview of upcoming TeaM f@taL Movie \"Welcome ...       2259       28.0   \n",
       "6   This is a video i made of Black Hawk down duri...      50844       90.0   \n",
       "\n",
       "    commentCount  favoriteCount  \n",
       "46           6.0              0  \n",
       "11           4.0              0  \n",
       "25          17.0              0  \n",
       "38          12.0              0  \n",
       "6           65.0              0  "
      ]
     },
     "execution_count": 30,
     "metadata": {},
     "output_type": "execute_result"
    }
   ],
   "source": [
    "youtube_data.head()"
   ]
  },
  {
   "cell_type": "code",
   "execution_count": 31,
   "metadata": {},
   "outputs": [
    {
     "data": {
      "text/html": [
       "<div>\n",
       "<style scoped>\n",
       "    .dataframe tbody tr th:only-of-type {\n",
       "        vertical-align: middle;\n",
       "    }\n",
       "\n",
       "    .dataframe tbody tr th {\n",
       "        vertical-align: top;\n",
       "    }\n",
       "\n",
       "    .dataframe thead th {\n",
       "        text-align: right;\n",
       "    }\n",
       "</style>\n",
       "<table border=\"1\" class=\"dataframe\">\n",
       "  <thead>\n",
       "    <tr style=\"text-align: right;\">\n",
       "      <th></th>\n",
       "      <th>month</th>\n",
       "      <th>peak</th>\n",
       "      <th>gain</th>\n",
       "      <th>average</th>\n",
       "    </tr>\n",
       "  </thead>\n",
       "  <tbody>\n",
       "    <tr>\n",
       "      <th>0</th>\n",
       "      <td>2004-01-01</td>\n",
       "      <td>23241.0</td>\n",
       "      <td>0.0</td>\n",
       "      <td>0.0</td>\n",
       "    </tr>\n",
       "    <tr>\n",
       "      <th>1</th>\n",
       "      <td>2004-02-01</td>\n",
       "      <td>39709.0</td>\n",
       "      <td>16468.0</td>\n",
       "      <td>0.0</td>\n",
       "    </tr>\n",
       "    <tr>\n",
       "      <th>2</th>\n",
       "      <td>2004-04-01</td>\n",
       "      <td>84182.0</td>\n",
       "      <td>35217.0</td>\n",
       "      <td>0.0</td>\n",
       "    </tr>\n",
       "    <tr>\n",
       "      <th>3</th>\n",
       "      <td>2004-06-01</td>\n",
       "      <td>80908.0</td>\n",
       "      <td>12826.0</td>\n",
       "      <td>0.0</td>\n",
       "    </tr>\n",
       "    <tr>\n",
       "      <th>4</th>\n",
       "      <td>2004-07-01</td>\n",
       "      <td>84804.0</td>\n",
       "      <td>3896.0</td>\n",
       "      <td>0.0</td>\n",
       "    </tr>\n",
       "    <tr>\n",
       "      <th>...</th>\n",
       "      <td>...</td>\n",
       "      <td>...</td>\n",
       "      <td>...</td>\n",
       "      <td>...</td>\n",
       "    </tr>\n",
       "    <tr>\n",
       "      <th>236</th>\n",
       "      <td>2025-04-01</td>\n",
       "      <td>1898525.0</td>\n",
       "      <td>40987.0</td>\n",
       "      <td>1070094.0</td>\n",
       "    </tr>\n",
       "    <tr>\n",
       "      <th>237</th>\n",
       "      <td>2025-05-01</td>\n",
       "      <td>1752347.0</td>\n",
       "      <td>146178.0</td>\n",
       "      <td>1060039.0</td>\n",
       "    </tr>\n",
       "    <tr>\n",
       "      <th>238</th>\n",
       "      <td>2025-06-01</td>\n",
       "      <td>1766572.0</td>\n",
       "      <td>14429.0</td>\n",
       "      <td>1029242.0</td>\n",
       "    </tr>\n",
       "    <tr>\n",
       "      <th>239</th>\n",
       "      <td>2025-07-01</td>\n",
       "      <td>1506027.0</td>\n",
       "      <td>338169.0</td>\n",
       "      <td>954251.0</td>\n",
       "    </tr>\n",
       "    <tr>\n",
       "      <th>240</th>\n",
       "      <td>2025-08-01</td>\n",
       "      <td>1581554.0</td>\n",
       "      <td>79481.0</td>\n",
       "      <td>982824.0</td>\n",
       "    </tr>\n",
       "  </tbody>\n",
       "</table>\n",
       "<p>241 rows × 4 columns</p>\n",
       "</div>"
      ],
      "text/plain": [
       "         month       peak      gain    average\n",
       "0   2004-01-01    23241.0       0.0        0.0\n",
       "1   2004-02-01    39709.0   16468.0        0.0\n",
       "2   2004-04-01    84182.0   35217.0        0.0\n",
       "3   2004-06-01    80908.0   12826.0        0.0\n",
       "4   2004-07-01    84804.0    3896.0        0.0\n",
       "..         ...        ...       ...        ...\n",
       "236 2025-04-01  1898525.0   40987.0  1070094.0\n",
       "237 2025-05-01  1752347.0  146178.0  1060039.0\n",
       "238 2025-06-01  1766572.0   14429.0  1029242.0\n",
       "239 2025-07-01  1506027.0  338169.0   954251.0\n",
       "240 2025-08-01  1581554.0   79481.0   982824.0\n",
       "\n",
       "[241 rows x 4 columns]"
      ]
     },
     "execution_count": 31,
     "metadata": {},
     "output_type": "execute_result"
    }
   ],
   "source": [
    "cs_data\n",
    "css_data\n",
    "cscz_data\n",
    "csgo_data\n",
    "cs2_data\n",
    "SteamDB_merged_grouped"
   ]
  },
  {
   "cell_type": "code",
   "execution_count": 32,
   "metadata": {},
   "outputs": [
    {
     "data": {
      "text/html": [
       "<div>\n",
       "<style scoped>\n",
       "    .dataframe tbody tr th:only-of-type {\n",
       "        vertical-align: middle;\n",
       "    }\n",
       "\n",
       "    .dataframe tbody tr th {\n",
       "        vertical-align: top;\n",
       "    }\n",
       "\n",
       "    .dataframe thead th {\n",
       "        text-align: right;\n",
       "    }\n",
       "</style>\n",
       "<table border=\"1\" class=\"dataframe\">\n",
       "  <thead>\n",
       "    <tr style=\"text-align: right;\">\n",
       "      <th></th>\n",
       "      <th>month</th>\n",
       "      <th>peak</th>\n",
       "      <th>gain</th>\n",
       "      <th>average</th>\n",
       "    </tr>\n",
       "  </thead>\n",
       "  <tbody>\n",
       "    <tr>\n",
       "      <th>0</th>\n",
       "      <td>2004-01-01</td>\n",
       "      <td>23241.0</td>\n",
       "      <td>0.0</td>\n",
       "      <td>0.0</td>\n",
       "    </tr>\n",
       "    <tr>\n",
       "      <th>1</th>\n",
       "      <td>2004-02-01</td>\n",
       "      <td>39709.0</td>\n",
       "      <td>16468.0</td>\n",
       "      <td>0.0</td>\n",
       "    </tr>\n",
       "    <tr>\n",
       "      <th>2</th>\n",
       "      <td>2004-04-01</td>\n",
       "      <td>84182.0</td>\n",
       "      <td>35217.0</td>\n",
       "      <td>0.0</td>\n",
       "    </tr>\n",
       "    <tr>\n",
       "      <th>3</th>\n",
       "      <td>2004-06-01</td>\n",
       "      <td>80908.0</td>\n",
       "      <td>12826.0</td>\n",
       "      <td>0.0</td>\n",
       "    </tr>\n",
       "    <tr>\n",
       "      <th>4</th>\n",
       "      <td>2004-07-01</td>\n",
       "      <td>84804.0</td>\n",
       "      <td>3896.0</td>\n",
       "      <td>0.0</td>\n",
       "    </tr>\n",
       "    <tr>\n",
       "      <th>...</th>\n",
       "      <td>...</td>\n",
       "      <td>...</td>\n",
       "      <td>...</td>\n",
       "      <td>...</td>\n",
       "    </tr>\n",
       "    <tr>\n",
       "      <th>236</th>\n",
       "      <td>2025-04-01</td>\n",
       "      <td>1898525.0</td>\n",
       "      <td>40987.0</td>\n",
       "      <td>1070094.0</td>\n",
       "    </tr>\n",
       "    <tr>\n",
       "      <th>237</th>\n",
       "      <td>2025-05-01</td>\n",
       "      <td>1752347.0</td>\n",
       "      <td>146178.0</td>\n",
       "      <td>1060039.0</td>\n",
       "    </tr>\n",
       "    <tr>\n",
       "      <th>238</th>\n",
       "      <td>2025-06-01</td>\n",
       "      <td>1766572.0</td>\n",
       "      <td>14429.0</td>\n",
       "      <td>1029242.0</td>\n",
       "    </tr>\n",
       "    <tr>\n",
       "      <th>239</th>\n",
       "      <td>2025-07-01</td>\n",
       "      <td>1506027.0</td>\n",
       "      <td>338169.0</td>\n",
       "      <td>954251.0</td>\n",
       "    </tr>\n",
       "    <tr>\n",
       "      <th>240</th>\n",
       "      <td>2025-08-01</td>\n",
       "      <td>1581554.0</td>\n",
       "      <td>79481.0</td>\n",
       "      <td>982824.0</td>\n",
       "    </tr>\n",
       "  </tbody>\n",
       "</table>\n",
       "<p>241 rows × 4 columns</p>\n",
       "</div>"
      ],
      "text/plain": [
       "         month       peak      gain    average\n",
       "0   2004-01-01    23241.0       0.0        0.0\n",
       "1   2004-02-01    39709.0   16468.0        0.0\n",
       "2   2004-04-01    84182.0   35217.0        0.0\n",
       "3   2004-06-01    80908.0   12826.0        0.0\n",
       "4   2004-07-01    84804.0    3896.0        0.0\n",
       "..         ...        ...       ...        ...\n",
       "236 2025-04-01  1898525.0   40987.0  1070094.0\n",
       "237 2025-05-01  1752347.0  146178.0  1060039.0\n",
       "238 2025-06-01  1766572.0   14429.0  1029242.0\n",
       "239 2025-07-01  1506027.0  338169.0   954251.0\n",
       "240 2025-08-01  1581554.0   79481.0   982824.0\n",
       "\n",
       "[241 rows x 4 columns]"
      ]
     },
     "execution_count": 32,
     "metadata": {},
     "output_type": "execute_result"
    }
   ],
   "source": [
    "SteamDB_merged_grouped"
   ]
  },
  {
   "cell_type": "code",
   "execution_count": 33,
   "id": "d5159f09",
   "metadata": {},
   "outputs": [
    {
     "data": {
      "application/vnd.vegalite.v5+json": {
       "$schema": "https://vega.github.io/schema/vega-lite/v5.20.1.json",
       "config": {
        "view": {
         "continuousHeight": 300,
         "continuousWidth": 300
        }
       },
       "data": {
        "name": "data-5f12d368f8fbe9380ea9e21adecb1823"
       },
       "datasets": {
        "data-5f12d368f8fbe9380ea9e21adecb1823": [
         {
          "game": "All Counter-Strike (aggregate)",
          "month": "2004-01-01T00:00:00",
          "peak": 23241
         },
         {
          "game": "All Counter-Strike (aggregate)",
          "month": "2004-02-01T00:00:00",
          "peak": 39709
         },
         {
          "game": "All Counter-Strike (aggregate)",
          "month": "2004-04-01T00:00:00",
          "peak": 84182
         },
         {
          "game": "All Counter-Strike (aggregate)",
          "month": "2004-06-01T00:00:00",
          "peak": 80908
         },
         {
          "game": "All Counter-Strike (aggregate)",
          "month": "2004-07-01T00:00:00",
          "peak": 84804
         },
         {
          "game": "All Counter-Strike (aggregate)",
          "month": "2004-08-01T00:00:00",
          "peak": 106329
         },
         {
          "game": "All Counter-Strike (aggregate)",
          "month": "2004-09-01T00:00:00",
          "peak": 112213
         },
         {
          "game": "All Counter-Strike (aggregate)",
          "month": "2004-10-01T00:00:00",
          "peak": 104471
         },
         {
          "game": "All Counter-Strike (aggregate)",
          "month": "2004-11-01T00:00:00",
          "peak": 109489
         },
         {
          "game": "All Counter-Strike (aggregate)",
          "month": "2004-12-01T00:00:00",
          "peak": 184832
         },
         {
          "game": "All Counter-Strike (aggregate)",
          "month": "2005-01-01T00:00:00",
          "peak": 123087
         },
         {
          "game": "All Counter-Strike (aggregate)",
          "month": "2005-02-01T00:00:00",
          "peak": 133840
         },
         {
          "game": "All Counter-Strike (aggregate)",
          "month": "2005-03-01T00:00:00",
          "peak": 160213
         },
         {
          "game": "All Counter-Strike (aggregate)",
          "month": "2005-04-01T00:00:00",
          "peak": 144177
         },
         {
          "game": "All Counter-Strike (aggregate)",
          "month": "2005-05-01T00:00:00",
          "peak": 155271
         },
         {
          "game": "All Counter-Strike (aggregate)",
          "month": "2005-06-01T00:00:00",
          "peak": 114799
         },
         {
          "game": "All Counter-Strike (aggregate)",
          "month": "2005-07-01T00:00:00",
          "peak": 159457
         },
         {
          "game": "All Counter-Strike (aggregate)",
          "month": "2005-08-01T00:00:00",
          "peak": 205663
         },
         {
          "game": "All Counter-Strike (aggregate)",
          "month": "2005-09-01T00:00:00",
          "peak": 185147
         },
         {
          "game": "All Counter-Strike (aggregate)",
          "month": "2005-11-01T00:00:00",
          "peak": 128508
         },
         {
          "game": "All Counter-Strike (aggregate)",
          "month": "2005-12-01T00:00:00",
          "peak": 206618
         },
         {
          "game": "All Counter-Strike (aggregate)",
          "month": "2006-08-01T00:00:00",
          "peak": 205654
         },
         {
          "game": "All Counter-Strike (aggregate)",
          "month": "2006-11-01T00:00:00",
          "peak": 137798
         },
         {
          "game": "All Counter-Strike (aggregate)",
          "month": "2006-12-01T00:00:00",
          "peak": 183932
         },
         {
          "game": "All Counter-Strike (aggregate)",
          "month": "2007-01-01T00:00:00",
          "peak": 231570
         },
         {
          "game": "All Counter-Strike (aggregate)",
          "month": "2007-02-01T00:00:00",
          "peak": 283288
         },
         {
          "game": "All Counter-Strike (aggregate)",
          "month": "2007-03-01T00:00:00",
          "peak": 224528
         },
         {
          "game": "All Counter-Strike (aggregate)",
          "month": "2007-04-01T00:00:00",
          "peak": 131302
         },
         {
          "game": "All Counter-Strike (aggregate)",
          "month": "2007-05-01T00:00:00",
          "peak": 263139
         },
         {
          "game": "All Counter-Strike (aggregate)",
          "month": "2007-06-01T00:00:00",
          "peak": 344992
         },
         {
          "game": "All Counter-Strike (aggregate)",
          "month": "2007-07-01T00:00:00",
          "peak": 343354
         },
         {
          "game": "All Counter-Strike (aggregate)",
          "month": "2007-08-01T00:00:00",
          "peak": 307410
         },
         {
          "game": "All Counter-Strike (aggregate)",
          "month": "2007-09-01T00:00:00",
          "peak": 404894
         },
         {
          "game": "All Counter-Strike (aggregate)",
          "month": "2007-10-01T00:00:00",
          "peak": 335093
         },
         {
          "game": "All Counter-Strike (aggregate)",
          "month": "2007-11-01T00:00:00",
          "peak": 309902
         },
         {
          "game": "All Counter-Strike (aggregate)",
          "month": "2007-12-01T00:00:00",
          "peak": 426756
         },
         {
          "game": "All Counter-Strike (aggregate)",
          "month": "2008-01-01T00:00:00",
          "peak": 350212
         },
         {
          "game": "All Counter-Strike (aggregate)",
          "month": "2008-09-01T00:00:00",
          "peak": 167567
         },
         {
          "game": "All Counter-Strike (aggregate)",
          "month": "2008-10-01T00:00:00",
          "peak": 177264
         },
         {
          "game": "All Counter-Strike (aggregate)",
          "month": "2008-11-01T00:00:00",
          "peak": 113772
         },
         {
          "game": "All Counter-Strike (aggregate)",
          "month": "2008-12-01T00:00:00",
          "peak": 130243
         },
         {
          "game": "All Counter-Strike (aggregate)",
          "month": "2009-01-01T00:00:00",
          "peak": 113554
         },
         {
          "game": "All Counter-Strike (aggregate)",
          "month": "2009-02-01T00:00:00",
          "peak": 184563
         },
         {
          "game": "All Counter-Strike (aggregate)",
          "month": "2009-03-01T00:00:00",
          "peak": 179726
         },
         {
          "game": "All Counter-Strike (aggregate)",
          "month": "2009-04-01T00:00:00",
          "peak": 115364
         },
         {
          "game": "All Counter-Strike (aggregate)",
          "month": "2009-05-01T00:00:00",
          "peak": 146044
         },
         {
          "game": "All Counter-Strike (aggregate)",
          "month": "2009-06-01T00:00:00",
          "peak": 158880
         },
         {
          "game": "All Counter-Strike (aggregate)",
          "month": "2009-07-01T00:00:00",
          "peak": 125173
         },
         {
          "game": "All Counter-Strike (aggregate)",
          "month": "2009-08-01T00:00:00",
          "peak": 160808
         },
         {
          "game": "All Counter-Strike (aggregate)",
          "month": "2009-09-01T00:00:00",
          "peak": 147813
         },
         {
          "game": "All Counter-Strike (aggregate)",
          "month": "2009-10-01T00:00:00",
          "peak": 158107
         },
         {
          "game": "All Counter-Strike (aggregate)",
          "month": "2009-11-01T00:00:00",
          "peak": 92452
         },
         {
          "game": "All Counter-Strike (aggregate)",
          "month": "2009-12-01T00:00:00",
          "peak": 160755
         },
         {
          "game": "All Counter-Strike (aggregate)",
          "month": "2010-01-01T00:00:00",
          "peak": 171430
         },
         {
          "game": "All Counter-Strike (aggregate)",
          "month": "2010-02-01T00:00:00",
          "peak": 148816
         },
         {
          "game": "All Counter-Strike (aggregate)",
          "month": "2010-03-01T00:00:00",
          "peak": 176642
         },
         {
          "game": "All Counter-Strike (aggregate)",
          "month": "2010-04-01T00:00:00",
          "peak": 167923
         },
         {
          "game": "All Counter-Strike (aggregate)",
          "month": "2010-05-01T00:00:00",
          "peak": 285535
         },
         {
          "game": "All Counter-Strike (aggregate)",
          "month": "2010-06-01T00:00:00",
          "peak": 151931
         },
         {
          "game": "All Counter-Strike (aggregate)",
          "month": "2010-07-01T00:00:00",
          "peak": 134295
         },
         {
          "game": "All Counter-Strike (aggregate)",
          "month": "2010-08-01T00:00:00",
          "peak": 144459
         },
         {
          "game": "All Counter-Strike (aggregate)",
          "month": "2010-09-01T00:00:00",
          "peak": 152887
         },
         {
          "game": "All Counter-Strike (aggregate)",
          "month": "2010-10-01T00:00:00",
          "peak": 156446
         },
         {
          "game": "All Counter-Strike (aggregate)",
          "month": "2010-11-01T00:00:00",
          "peak": 163613
         },
         {
          "game": "All Counter-Strike (aggregate)",
          "month": "2010-12-01T00:00:00",
          "peak": 165713
         },
         {
          "game": "All Counter-Strike (aggregate)",
          "month": "2011-01-01T00:00:00",
          "peak": 178599
         },
         {
          "game": "All Counter-Strike (aggregate)",
          "month": "2011-02-01T00:00:00",
          "peak": 173494
         },
         {
          "game": "All Counter-Strike (aggregate)",
          "month": "2011-03-01T00:00:00",
          "peak": 167261
         },
         {
          "game": "All Counter-Strike (aggregate)",
          "month": "2011-04-01T00:00:00",
          "peak": 153999
         },
         {
          "game": "All Counter-Strike (aggregate)",
          "month": "2011-05-01T00:00:00",
          "peak": 141897
         },
         {
          "game": "All Counter-Strike (aggregate)",
          "month": "2011-06-01T00:00:00",
          "peak": 142446
         },
         {
          "game": "All Counter-Strike (aggregate)",
          "month": "2011-07-01T00:00:00",
          "peak": 123425
         },
         {
          "game": "All Counter-Strike (aggregate)",
          "month": "2011-08-01T00:00:00",
          "peak": 131653
         },
         {
          "game": "All Counter-Strike (aggregate)",
          "month": "2011-09-01T00:00:00",
          "peak": 131514
         },
         {
          "game": "All Counter-Strike (aggregate)",
          "month": "2011-10-01T00:00:00",
          "peak": 135840
         },
         {
          "game": "All Counter-Strike (aggregate)",
          "month": "2011-11-01T00:00:00",
          "peak": 133647
         },
         {
          "game": "All Counter-Strike (aggregate)",
          "month": "2011-12-01T00:00:00",
          "peak": 140514
         },
         {
          "game": "All Counter-Strike (aggregate)",
          "month": "2012-01-01T00:00:00",
          "peak": 152253
         },
         {
          "game": "All Counter-Strike (aggregate)",
          "month": "2012-02-01T00:00:00",
          "peak": 150030
         },
         {
          "game": "All Counter-Strike (aggregate)",
          "month": "2012-03-01T00:00:00",
          "peak": 149702
         },
         {
          "game": "All Counter-Strike (aggregate)",
          "month": "2012-04-01T00:00:00",
          "peak": 139991
         },
         {
          "game": "All Counter-Strike (aggregate)",
          "month": "2012-05-01T00:00:00",
          "peak": 126234
         },
         {
          "game": "All Counter-Strike (aggregate)",
          "month": "2012-06-01T00:00:00",
          "peak": 120396
         },
         {
          "game": "All Counter-Strike (aggregate)",
          "month": "2012-07-01T00:00:00",
          "peak": 159255
         },
         {
          "game": "All Counter-Strike (aggregate)",
          "month": "2012-08-01T00:00:00",
          "peak": 159370
         },
         {
          "game": "All Counter-Strike (aggregate)",
          "month": "2012-09-01T00:00:00",
          "peak": 140031
         },
         {
          "game": "All Counter-Strike (aggregate)",
          "month": "2012-10-01T00:00:00",
          "peak": 155818
         },
         {
          "game": "All Counter-Strike (aggregate)",
          "month": "2012-11-01T00:00:00",
          "peak": 159238
         },
         {
          "game": "All Counter-Strike (aggregate)",
          "month": "2012-12-01T00:00:00",
          "peak": 148362
         },
         {
          "game": "All Counter-Strike (aggregate)",
          "month": "2013-01-01T00:00:00",
          "peak": 151841
         },
         {
          "game": "All Counter-Strike (aggregate)",
          "month": "2013-02-01T00:00:00",
          "peak": 144267
         },
         {
          "game": "All Counter-Strike (aggregate)",
          "month": "2013-03-01T00:00:00",
          "peak": 128818
         },
         {
          "game": "All Counter-Strike (aggregate)",
          "month": "2013-04-01T00:00:00",
          "peak": 138531
         },
         {
          "game": "All Counter-Strike (aggregate)",
          "month": "2013-05-01T00:00:00",
          "peak": 125199
         },
         {
          "game": "All Counter-Strike (aggregate)",
          "month": "2013-06-01T00:00:00",
          "peak": 111218
         },
         {
          "game": "All Counter-Strike (aggregate)",
          "month": "2013-07-01T00:00:00",
          "peak": 116438
         },
         {
          "game": "All Counter-Strike (aggregate)",
          "month": "2013-08-01T00:00:00",
          "peak": 122345
         },
         {
          "game": "All Counter-Strike (aggregate)",
          "month": "2013-09-01T00:00:00",
          "peak": 124472
         },
         {
          "game": "All Counter-Strike (aggregate)",
          "month": "2013-10-01T00:00:00",
          "peak": 166374
         },
         {
          "game": "All Counter-Strike (aggregate)",
          "month": "2013-11-01T00:00:00",
          "peak": 171672
         },
         {
          "game": "All Counter-Strike (aggregate)",
          "month": "2013-12-01T00:00:00",
          "peak": 183871
         },
         {
          "game": "All Counter-Strike (aggregate)",
          "month": "2014-01-01T00:00:00",
          "peak": 202520
         },
         {
          "game": "All Counter-Strike (aggregate)",
          "month": "2014-02-01T00:00:00",
          "peak": 239175
         },
         {
          "game": "All Counter-Strike (aggregate)",
          "month": "2014-03-01T00:00:00",
          "peak": 233953
         },
         {
          "game": "All Counter-Strike (aggregate)",
          "month": "2014-04-01T00:00:00",
          "peak": 233835
         },
         {
          "game": "All Counter-Strike (aggregate)",
          "month": "2014-05-01T00:00:00",
          "peak": 233847
         },
         {
          "game": "All Counter-Strike (aggregate)",
          "month": "2014-06-01T00:00:00",
          "peak": 251282
         },
         {
          "game": "All Counter-Strike (aggregate)",
          "month": "2014-07-01T00:00:00",
          "peak": 329466
         },
         {
          "game": "All Counter-Strike (aggregate)",
          "month": "2014-08-01T00:00:00",
          "peak": 328267
         },
         {
          "game": "All Counter-Strike (aggregate)",
          "month": "2014-09-01T00:00:00",
          "peak": 314963
         },
         {
          "game": "All Counter-Strike (aggregate)",
          "month": "2014-10-01T00:00:00",
          "peak": 404729
         },
         {
          "game": "All Counter-Strike (aggregate)",
          "month": "2014-11-01T00:00:00",
          "peak": 429231
         },
         {
          "game": "All Counter-Strike (aggregate)",
          "month": "2014-12-01T00:00:00",
          "peak": 506492
         },
         {
          "game": "All Counter-Strike (aggregate)",
          "month": "2015-01-01T00:00:00",
          "peak": 518870
         },
         {
          "game": "All Counter-Strike (aggregate)",
          "month": "2015-02-01T00:00:00",
          "peak": 652940
         },
         {
          "game": "All Counter-Strike (aggregate)",
          "month": "2015-03-01T00:00:00",
          "peak": 618109
         },
         {
          "game": "All Counter-Strike (aggregate)",
          "month": "2015-04-01T00:00:00",
          "peak": 615659
         },
         {
          "game": "All Counter-Strike (aggregate)",
          "month": "2015-05-01T00:00:00",
          "peak": 725151
         },
         {
          "game": "All Counter-Strike (aggregate)",
          "month": "2015-06-01T00:00:00",
          "peak": 651662
         },
         {
          "game": "All Counter-Strike (aggregate)",
          "month": "2015-07-01T00:00:00",
          "peak": 584839
         },
         {
          "game": "All Counter-Strike (aggregate)",
          "month": "2015-08-01T00:00:00",
          "peak": 857320
         },
         {
          "game": "All Counter-Strike (aggregate)",
          "month": "2015-09-01T00:00:00",
          "peak": 763829
         },
         {
          "game": "All Counter-Strike (aggregate)",
          "month": "2015-10-01T00:00:00",
          "peak": 826148
         },
         {
          "game": "All Counter-Strike (aggregate)",
          "month": "2015-11-01T00:00:00",
          "peak": 733679
         },
         {
          "game": "All Counter-Strike (aggregate)",
          "month": "2015-12-01T00:00:00",
          "peak": 867769
         },
         {
          "game": "All Counter-Strike (aggregate)",
          "month": "2016-01-01T00:00:00",
          "peak": 714744
         },
         {
          "game": "All Counter-Strike (aggregate)",
          "month": "2016-02-01T00:00:00",
          "peak": 785773
         },
         {
          "game": "All Counter-Strike (aggregate)",
          "month": "2016-03-01T00:00:00",
          "peak": 845234
         },
         {
          "game": "All Counter-Strike (aggregate)",
          "month": "2016-04-01T00:00:00",
          "peak": 889459
         },
         {
          "game": "All Counter-Strike (aggregate)",
          "month": "2016-05-01T00:00:00",
          "peak": 673484
         },
         {
          "game": "All Counter-Strike (aggregate)",
          "month": "2016-06-01T00:00:00",
          "peak": 613756
         },
         {
          "game": "All Counter-Strike (aggregate)",
          "month": "2016-07-01T00:00:00",
          "peak": 668393
         },
         {
          "game": "All Counter-Strike (aggregate)",
          "month": "2016-08-01T00:00:00",
          "peak": 631402
         },
         {
          "game": "All Counter-Strike (aggregate)",
          "month": "2016-09-01T00:00:00",
          "peak": 671478
         },
         {
          "game": "All Counter-Strike (aggregate)",
          "month": "2016-10-01T00:00:00",
          "peak": 697025
         },
         {
          "game": "All Counter-Strike (aggregate)",
          "month": "2016-11-01T00:00:00",
          "peak": 664428
         },
         {
          "game": "All Counter-Strike (aggregate)",
          "month": "2016-12-01T00:00:00",
          "peak": 702226
         },
         {
          "game": "All Counter-Strike (aggregate)",
          "month": "2017-01-01T00:00:00",
          "peak": 858017
         },
         {
          "game": "All Counter-Strike (aggregate)",
          "month": "2017-02-01T00:00:00",
          "peak": 785343
         },
         {
          "game": "All Counter-Strike (aggregate)",
          "month": "2017-03-01T00:00:00",
          "peak": 780831
         },
         {
          "game": "All Counter-Strike (aggregate)",
          "month": "2017-04-01T00:00:00",
          "peak": 728537
         },
         {
          "game": "All Counter-Strike (aggregate)",
          "month": "2017-05-01T00:00:00",
          "peak": 729279
         },
         {
          "game": "All Counter-Strike (aggregate)",
          "month": "2017-06-01T00:00:00",
          "peak": 644596
         },
         {
          "game": "All Counter-Strike (aggregate)",
          "month": "2017-07-01T00:00:00",
          "peak": 670361
         },
         {
          "game": "All Counter-Strike (aggregate)",
          "month": "2017-08-01T00:00:00",
          "peak": 626044
         },
         {
          "game": "All Counter-Strike (aggregate)",
          "month": "2017-09-01T00:00:00",
          "peak": 709468
         },
         {
          "game": "All Counter-Strike (aggregate)",
          "month": "2017-10-01T00:00:00",
          "peak": 674835
         },
         {
          "game": "All Counter-Strike (aggregate)",
          "month": "2017-11-01T00:00:00",
          "peak": 638295
         },
         {
          "game": "All Counter-Strike (aggregate)",
          "month": "2017-12-01T00:00:00",
          "peak": 638526
         },
         {
          "game": "All Counter-Strike (aggregate)",
          "month": "2018-01-01T00:00:00",
          "peak": 758776
         },
         {
          "game": "All Counter-Strike (aggregate)",
          "month": "2018-02-01T00:00:00",
          "peak": 728848
         },
         {
          "game": "All Counter-Strike (aggregate)",
          "month": "2018-03-01T00:00:00",
          "peak": 710912
         },
         {
          "game": "All Counter-Strike (aggregate)",
          "month": "2018-04-01T00:00:00",
          "peak": 556019
         },
         {
          "game": "All Counter-Strike (aggregate)",
          "month": "2018-05-01T00:00:00",
          "peak": 481392
         },
         {
          "game": "All Counter-Strike (aggregate)",
          "month": "2018-06-01T00:00:00",
          "peak": 449409
         },
         {
          "game": "All Counter-Strike (aggregate)",
          "month": "2018-07-01T00:00:00",
          "peak": 455676
         },
         {
          "game": "All Counter-Strike (aggregate)",
          "month": "2018-08-01T00:00:00",
          "peak": 481746
         },
         {
          "game": "All Counter-Strike (aggregate)",
          "month": "2018-09-01T00:00:00",
          "peak": 612880
         },
         {
          "game": "All Counter-Strike (aggregate)",
          "month": "2018-10-01T00:00:00",
          "peak": 594113
         },
         {
          "game": "All Counter-Strike (aggregate)",
          "month": "2018-11-01T00:00:00",
          "peak": 576288
         },
         {
          "game": "All Counter-Strike (aggregate)",
          "month": "2018-12-01T00:00:00",
          "peak": 781335
         },
         {
          "game": "All Counter-Strike (aggregate)",
          "month": "2019-01-01T00:00:00",
          "peak": 720255
         },
         {
          "game": "All Counter-Strike (aggregate)",
          "month": "2019-02-01T00:00:00",
          "peak": 686703
         },
         {
          "game": "All Counter-Strike (aggregate)",
          "month": "2019-03-01T00:00:00",
          "peak": 711735
         },
         {
          "game": "All Counter-Strike (aggregate)",
          "month": "2019-04-01T00:00:00",
          "peak": 647906
         },
         {
          "game": "All Counter-Strike (aggregate)",
          "month": "2019-05-01T00:00:00",
          "peak": 616941
         },
         {
          "game": "All Counter-Strike (aggregate)",
          "month": "2019-06-01T00:00:00",
          "peak": 614513
         },
         {
          "game": "All Counter-Strike (aggregate)",
          "month": "2019-07-01T00:00:00",
          "peak": 602806
         },
         {
          "game": "All Counter-Strike (aggregate)",
          "month": "2019-08-01T00:00:00",
          "peak": 680892
         },
         {
          "game": "All Counter-Strike (aggregate)",
          "month": "2019-09-01T00:00:00",
          "peak": 745425
         },
         {
          "game": "All Counter-Strike (aggregate)",
          "month": "2019-10-01T00:00:00",
          "peak": 776751
         },
         {
          "game": "All Counter-Strike (aggregate)",
          "month": "2019-11-01T00:00:00",
          "peak": 789463
         },
         {
          "game": "All Counter-Strike (aggregate)",
          "month": "2019-12-01T00:00:00",
          "peak": 798764
         },
         {
          "game": "All Counter-Strike (aggregate)",
          "month": "2020-01-01T00:00:00",
          "peak": 850328
         },
         {
          "game": "All Counter-Strike (aggregate)",
          "month": "2020-02-01T00:00:00",
          "peak": 959235
         },
         {
          "game": "All Counter-Strike (aggregate)",
          "month": "2020-03-01T00:00:00",
          "peak": 1269874
         },
         {
          "game": "All Counter-Strike (aggregate)",
          "month": "2020-04-01T00:00:00",
          "peak": 1354060
         },
         {
          "game": "All Counter-Strike (aggregate)",
          "month": "2020-05-01T00:00:00",
          "peak": 1220085
         },
         {
          "game": "All Counter-Strike (aggregate)",
          "month": "2020-06-01T00:00:00",
          "peak": 986980
         },
         {
          "game": "All Counter-Strike (aggregate)",
          "month": "2020-07-01T00:00:00",
          "peak": 887871
         },
         {
          "game": "All Counter-Strike (aggregate)",
          "month": "2020-08-01T00:00:00",
          "peak": 955869
         },
         {
          "game": "All Counter-Strike (aggregate)",
          "month": "2020-09-01T00:00:00",
          "peak": 1003755
         },
         {
          "game": "All Counter-Strike (aggregate)",
          "month": "2020-10-01T00:00:00",
          "peak": 977120
         },
         {
          "game": "All Counter-Strike (aggregate)",
          "month": "2020-11-01T00:00:00",
          "peak": 1069121
         },
         {
          "game": "All Counter-Strike (aggregate)",
          "month": "2020-12-01T00:00:00",
          "peak": 1201522
         },
         {
          "game": "All Counter-Strike (aggregate)",
          "month": "2021-01-01T00:00:00",
          "peak": 1158553
         },
         {
          "game": "All Counter-Strike (aggregate)",
          "month": "2021-02-01T00:00:00",
          "peak": 1156160
         },
         {
          "game": "All Counter-Strike (aggregate)",
          "month": "2021-03-01T00:00:00",
          "peak": 1234187
         },
         {
          "game": "All Counter-Strike (aggregate)",
          "month": "2021-04-01T00:00:00",
          "peak": 1182193
         },
         {
          "game": "All Counter-Strike (aggregate)",
          "month": "2021-05-01T00:00:00",
          "peak": 1114107
         },
         {
          "game": "All Counter-Strike (aggregate)",
          "month": "2021-06-01T00:00:00",
          "peak": 953085
         },
         {
          "game": "All Counter-Strike (aggregate)",
          "month": "2021-07-01T00:00:00",
          "peak": 788128
         },
         {
          "game": "All Counter-Strike (aggregate)",
          "month": "2021-08-01T00:00:00",
          "peak": 824180
         },
         {
          "game": "All Counter-Strike (aggregate)",
          "month": "2021-09-01T00:00:00",
          "peak": 970788
         },
         {
          "game": "All Counter-Strike (aggregate)",
          "month": "2021-10-01T00:00:00",
          "peak": 888099
         },
         {
          "game": "All Counter-Strike (aggregate)",
          "month": "2021-11-01T00:00:00",
          "peak": 967548
         },
         {
          "game": "All Counter-Strike (aggregate)",
          "month": "2021-12-01T00:00:00",
          "peak": 974624
         },
         {
          "game": "All Counter-Strike (aggregate)",
          "month": "2022-01-01T00:00:00",
          "peak": 1019800
         },
         {
          "game": "All Counter-Strike (aggregate)",
          "month": "2022-02-01T00:00:00",
          "peak": 1026057
         },
         {
          "game": "All Counter-Strike (aggregate)",
          "month": "2022-03-01T00:00:00",
          "peak": 1019747
         },
         {
          "game": "All Counter-Strike (aggregate)",
          "month": "2022-04-01T00:00:00",
          "peak": 1042536
         },
         {
          "game": "All Counter-Strike (aggregate)",
          "month": "2022-05-01T00:00:00",
          "peak": 954908
         },
         {
          "game": "All Counter-Strike (aggregate)",
          "month": "2022-06-01T00:00:00",
          "peak": 928566
         },
         {
          "game": "All Counter-Strike (aggregate)",
          "month": "2022-07-01T00:00:00",
          "peak": 950395
         },
         {
          "game": "All Counter-Strike (aggregate)",
          "month": "2022-08-01T00:00:00",
          "peak": 1060765
         },
         {
          "game": "All Counter-Strike (aggregate)",
          "month": "2022-09-01T00:00:00",
          "peak": 1124191
         },
         {
          "game": "All Counter-Strike (aggregate)",
          "month": "2022-10-01T00:00:00",
          "peak": 1110627
         },
         {
          "game": "All Counter-Strike (aggregate)",
          "month": "2022-11-01T00:00:00",
          "peak": 1156226
         },
         {
          "game": "All Counter-Strike (aggregate)",
          "month": "2022-12-01T00:00:00",
          "peak": 1090343
         },
         {
          "game": "All Counter-Strike (aggregate)",
          "month": "2023-01-01T00:00:00",
          "peak": 1224207
         },
         {
          "game": "All Counter-Strike (aggregate)",
          "month": "2023-02-01T00:00:00",
          "peak": 1378327
         },
         {
          "game": "All Counter-Strike (aggregate)",
          "month": "2023-03-01T00:00:00",
          "peak": 1542231
         },
         {
          "game": "All Counter-Strike (aggregate)",
          "month": "2023-04-01T00:00:00",
          "peak": 1536102
         },
         {
          "game": "All Counter-Strike (aggregate)",
          "month": "2023-05-01T00:00:00",
          "peak": 1837896
         },
         {
          "game": "All Counter-Strike (aggregate)",
          "month": "2023-06-01T00:00:00",
          "peak": 1692482
         },
         {
          "game": "All Counter-Strike (aggregate)",
          "month": "2023-07-01T00:00:00",
          "peak": 1245840
         },
         {
          "game": "All Counter-Strike (aggregate)",
          "month": "2023-08-01T00:00:00",
          "peak": 1557039
         },
         {
          "game": "All Counter-Strike (aggregate)",
          "month": "2023-09-01T00:00:00",
          "peak": 1580157
         },
         {
          "game": "All Counter-Strike (aggregate)",
          "month": "2023-10-01T00:00:00",
          "peak": 1412825
         },
         {
          "game": "All Counter-Strike (aggregate)",
          "month": "2023-11-01T00:00:00",
          "peak": 1184525
         },
         {
          "game": "All Counter-Strike (aggregate)",
          "month": "2023-12-01T00:00:00",
          "peak": 1276429
         },
         {
          "game": "All Counter-Strike (aggregate)",
          "month": "2024-01-01T00:00:00",
          "peak": 1334752
         },
         {
          "game": "All Counter-Strike (aggregate)",
          "month": "2024-02-01T00:00:00",
          "peak": 1431938
         },
         {
          "game": "All Counter-Strike (aggregate)",
          "month": "2024-03-01T00:00:00",
          "peak": 1555064
         },
         {
          "game": "All Counter-Strike (aggregate)",
          "month": "2024-04-01T00:00:00",
          "peak": 1647977
         },
         {
          "game": "All Counter-Strike (aggregate)",
          "month": "2024-05-01T00:00:00",
          "peak": 1661558
         },
         {
          "game": "All Counter-Strike (aggregate)",
          "month": "2024-06-01T00:00:00",
          "peak": 1558198
         },
         {
          "game": "All Counter-Strike (aggregate)",
          "month": "2024-07-01T00:00:00",
          "peak": 1385446
         },
         {
          "game": "All Counter-Strike (aggregate)",
          "month": "2024-08-01T00:00:00",
          "peak": 1461132
         },
         {
          "game": "All Counter-Strike (aggregate)",
          "month": "2024-09-01T00:00:00",
          "peak": 1515033
         },
         {
          "game": "All Counter-Strike (aggregate)",
          "month": "2024-10-01T00:00:00",
          "peak": 1529352
         },
         {
          "game": "All Counter-Strike (aggregate)",
          "month": "2024-11-01T00:00:00",
          "peak": 1593726
         },
         {
          "game": "All Counter-Strike (aggregate)",
          "month": "2024-12-01T00:00:00",
          "peak": 1777329
         },
         {
          "game": "All Counter-Strike (aggregate)",
          "month": "2025-01-01T00:00:00",
          "peak": 1643797
         },
         {
          "game": "All Counter-Strike (aggregate)",
          "month": "2025-02-01T00:00:00",
          "peak": 1827625
         },
         {
          "game": "All Counter-Strike (aggregate)",
          "month": "2025-03-01T00:00:00",
          "peak": 1864428
         },
         {
          "game": "All Counter-Strike (aggregate)",
          "month": "2025-04-01T00:00:00",
          "peak": 1898525
         },
         {
          "game": "All Counter-Strike (aggregate)",
          "month": "2025-05-01T00:00:00",
          "peak": 1752347
         },
         {
          "game": "All Counter-Strike (aggregate)",
          "month": "2025-06-01T00:00:00",
          "peak": 1766572
         },
         {
          "game": "All Counter-Strike (aggregate)",
          "month": "2025-07-01T00:00:00",
          "peak": 1506027
         },
         {
          "game": "All Counter-Strike (aggregate)",
          "month": "2025-08-01T00:00:00",
          "peak": 1581554
         },
         {
          "game": "Counter-Strike (1.6)",
          "month": "2004-01-01T00:00:00",
          "peak": 23241
         },
         {
          "game": "Counter-Strike (1.6)",
          "month": "2004-02-01T00:00:00",
          "peak": 39709
         },
         {
          "game": "Counter-Strike (1.6)",
          "month": "2004-04-01T00:00:00",
          "peak": 74926
         },
         {
          "game": "Counter-Strike (1.6)",
          "month": "2004-06-01T00:00:00",
          "peak": 66876
         },
         {
          "game": "Counter-Strike (1.6)",
          "month": "2004-07-01T00:00:00",
          "peak": 69685
         },
         {
          "game": "Counter-Strike (1.6)",
          "month": "2004-08-01T00:00:00",
          "peak": 92049
         },
         {
          "game": "Counter-Strike (1.6)",
          "month": "2004-09-01T00:00:00",
          "peak": 96451
         },
         {
          "game": "Counter-Strike (1.6)",
          "month": "2004-10-01T00:00:00",
          "peak": 79947
         },
         {
          "game": "Counter-Strike (1.6)",
          "month": "2004-11-01T00:00:00",
          "peak": 77819
         },
         {
          "game": "Counter-Strike (1.6)",
          "month": "2004-12-01T00:00:00",
          "peak": 117157
         },
         {
          "game": "Counter-Strike (1.6)",
          "month": "2005-01-01T00:00:00",
          "peak": 79165
         },
         {
          "game": "Counter-Strike (1.6)",
          "month": "2005-02-01T00:00:00",
          "peak": 87036
         },
         {
          "game": "Counter-Strike (1.6)",
          "month": "2005-03-01T00:00:00",
          "peak": 103492
         },
         {
          "game": "Counter-Strike (1.6)",
          "month": "2005-04-01T00:00:00",
          "peak": 87284
         },
         {
          "game": "Counter-Strike (1.6)",
          "month": "2005-05-01T00:00:00",
          "peak": 105295
         },
         {
          "game": "Counter-Strike (1.6)",
          "month": "2005-06-01T00:00:00",
          "peak": 80012
         },
         {
          "game": "Counter-Strike (1.6)",
          "month": "2005-07-01T00:00:00",
          "peak": 110858
         },
         {
          "game": "Counter-Strike (1.6)",
          "month": "2005-08-01T00:00:00",
          "peak": 132066
         },
         {
          "game": "Counter-Strike (1.6)",
          "month": "2005-09-01T00:00:00",
          "peak": 118588
         },
         {
          "game": "Counter-Strike (1.6)",
          "month": "2005-11-01T00:00:00",
          "peak": 95543
         },
         {
          "game": "Counter-Strike (1.6)",
          "month": "2005-12-01T00:00:00",
          "peak": 126053
         },
         {
          "game": "Counter-Strike (1.6)",
          "month": "2006-08-01T00:00:00",
          "peak": 132876
         },
         {
          "game": "Counter-Strike (1.6)",
          "month": "2006-11-01T00:00:00",
          "peak": 107770
         },
         {
          "game": "Counter-Strike (1.6)",
          "month": "2006-12-01T00:00:00",
          "peak": 109100
         },
         {
          "game": "Counter-Strike (1.6)",
          "month": "2007-01-01T00:00:00",
          "peak": 134820
         },
         {
          "game": "Counter-Strike (1.6)",
          "month": "2007-02-01T00:00:00",
          "peak": 188125
         },
         {
          "game": "Counter-Strike (1.6)",
          "month": "2007-03-01T00:00:00",
          "peak": 174450
         },
         {
          "game": "Counter-Strike (1.6)",
          "month": "2007-04-01T00:00:00",
          "peak": 78735
         },
         {
          "game": "Counter-Strike (1.6)",
          "month": "2007-05-01T00:00:00",
          "peak": 184843
         },
         {
          "game": "Counter-Strike (1.6)",
          "month": "2007-06-01T00:00:00",
          "peak": 232534
         },
         {
          "game": "Counter-Strike (1.6)",
          "month": "2007-07-01T00:00:00",
          "peak": 241132
         },
         {
          "game": "Counter-Strike (1.6)",
          "month": "2007-08-01T00:00:00",
          "peak": 202644
         },
         {
          "game": "Counter-Strike (1.6)",
          "month": "2007-09-01T00:00:00",
          "peak": 283680
         },
         {
          "game": "Counter-Strike (1.6)",
          "month": "2007-10-01T00:00:00",
          "peak": 223730
         },
         {
          "game": "Counter-Strike (1.6)",
          "month": "2007-11-01T00:00:00",
          "peak": 259403
         },
         {
          "game": "Counter-Strike (1.6)",
          "month": "2007-12-01T00:00:00",
          "peak": 319586
         },
         {
          "game": "Counter-Strike (1.6)",
          "month": "2008-01-01T00:00:00",
          "peak": 225274
         },
         {
          "game": "Counter-Strike (1.6)",
          "month": "2008-09-01T00:00:00",
          "peak": 73041
         },
         {
          "game": "Counter-Strike (1.6)",
          "month": "2008-10-01T00:00:00",
          "peak": 76504
         },
         {
          "game": "Counter-Strike (1.6)",
          "month": "2008-11-01T00:00:00",
          "peak": 47245
         },
         {
          "game": "Counter-Strike (1.6)",
          "month": "2008-12-01T00:00:00",
          "peak": 54865
         },
         {
          "game": "Counter-Strike (1.6)",
          "month": "2009-01-01T00:00:00",
          "peak": 48405
         },
         {
          "game": "Counter-Strike (1.6)",
          "month": "2009-02-01T00:00:00",
          "peak": 75123
         },
         {
          "game": "Counter-Strike (1.6)",
          "month": "2009-03-01T00:00:00",
          "peak": 75463
         },
         {
          "game": "Counter-Strike (1.6)",
          "month": "2009-04-01T00:00:00",
          "peak": 49447
         },
         {
          "game": "Counter-Strike (1.6)",
          "month": "2009-05-01T00:00:00",
          "peak": 60245
         },
         {
          "game": "Counter-Strike (1.6)",
          "month": "2009-06-01T00:00:00",
          "peak": 64574
         },
         {
          "game": "Counter-Strike (1.6)",
          "month": "2009-07-01T00:00:00",
          "peak": 49131
         },
         {
          "game": "Counter-Strike (1.6)",
          "month": "2009-08-01T00:00:00",
          "peak": 62056
         },
         {
          "game": "Counter-Strike (1.6)",
          "month": "2009-09-01T00:00:00",
          "peak": 58498
         },
         {
          "game": "Counter-Strike (1.6)",
          "month": "2009-10-01T00:00:00",
          "peak": 63832
         },
         {
          "game": "Counter-Strike (1.6)",
          "month": "2009-11-01T00:00:00",
          "peak": 40578
         },
         {
          "game": "Counter-Strike (1.6)",
          "month": "2009-12-01T00:00:00",
          "peak": 69325
         },
         {
          "game": "Counter-Strike (1.6)",
          "month": "2010-01-01T00:00:00",
          "peak": 73033
         },
         {
          "game": "Counter-Strike (1.6)",
          "month": "2010-02-01T00:00:00",
          "peak": 64069
         },
         {
          "game": "Counter-Strike (1.6)",
          "month": "2010-03-01T00:00:00",
          "peak": 75903
         },
         {
          "game": "Counter-Strike (1.6)",
          "month": "2010-04-01T00:00:00",
          "peak": 73232
         },
         {
          "game": "Counter-Strike (1.6)",
          "month": "2010-05-01T00:00:00",
          "peak": 192924
         },
         {
          "game": "Counter-Strike (1.6)",
          "month": "2010-06-01T00:00:00",
          "peak": 63869
         },
         {
          "game": "Counter-Strike (1.6)",
          "month": "2010-07-01T00:00:00",
          "peak": 62730
         },
         {
          "game": "Counter-Strike (1.6)",
          "month": "2010-08-01T00:00:00",
          "peak": 67121
         },
         {
          "game": "Counter-Strike (1.6)",
          "month": "2010-09-01T00:00:00",
          "peak": 70849
         },
         {
          "game": "Counter-Strike (1.6)",
          "month": "2010-10-01T00:00:00",
          "peak": 74285
         },
         {
          "game": "Counter-Strike (1.6)",
          "month": "2010-11-01T00:00:00",
          "peak": 75800
         },
         {
          "game": "Counter-Strike (1.6)",
          "month": "2010-12-01T00:00:00",
          "peak": 76667
         },
         {
          "game": "Counter-Strike (1.6)",
          "month": "2011-01-01T00:00:00",
          "peak": 83905
         },
         {
          "game": "Counter-Strike (1.6)",
          "month": "2011-02-01T00:00:00",
          "peak": 83324
         },
         {
          "game": "Counter-Strike (1.6)",
          "month": "2011-03-01T00:00:00",
          "peak": 81839
         },
         {
          "game": "Counter-Strike (1.6)",
          "month": "2011-04-01T00:00:00",
          "peak": 74934
         },
         {
          "game": "Counter-Strike (1.6)",
          "month": "2011-05-01T00:00:00",
          "peak": 67370
         },
         {
          "game": "Counter-Strike (1.6)",
          "month": "2011-06-01T00:00:00",
          "peak": 69585
         },
         {
          "game": "Counter-Strike (1.6)",
          "month": "2011-07-01T00:00:00",
          "peak": 60630
         },
         {
          "game": "Counter-Strike (1.6)",
          "month": "2011-08-01T00:00:00",
          "peak": 62959
         },
         {
          "game": "Counter-Strike (1.6)",
          "month": "2011-09-01T00:00:00",
          "peak": 63909
         },
         {
          "game": "Counter-Strike (1.6)",
          "month": "2011-10-01T00:00:00",
          "peak": 68660
         },
         {
          "game": "Counter-Strike (1.6)",
          "month": "2011-11-01T00:00:00",
          "peak": 70244
         },
         {
          "game": "Counter-Strike (1.6)",
          "month": "2011-12-01T00:00:00",
          "peak": 72794
         },
         {
          "game": "Counter-Strike (1.6)",
          "month": "2012-01-01T00:00:00",
          "peak": 80089
         },
         {
          "game": "Counter-Strike (1.6)",
          "month": "2012-02-01T00:00:00",
          "peak": 79920
         },
         {
          "game": "Counter-Strike (1.6)",
          "month": "2012-03-01T00:00:00",
          "peak": 79911
         },
         {
          "game": "Counter-Strike (1.6)",
          "month": "2012-04-01T00:00:00",
          "peak": 72325
         },
         {
          "game": "Counter-Strike (1.6)",
          "month": "2012-05-01T00:00:00",
          "peak": 62542
         },
         {
          "game": "Counter-Strike (1.6)",
          "month": "2012-06-01T00:00:00",
          "peak": 60301
         },
         {
          "game": "Counter-Strike (1.6)",
          "month": "2012-07-01T00:00:00",
          "peak": 54614
         },
         {
          "game": "Counter-Strike (1.6)",
          "month": "2012-08-01T00:00:00",
          "peak": 55321
         },
         {
          "game": "Counter-Strike (1.6)",
          "month": "2012-09-01T00:00:00",
          "peak": 56053
         },
         {
          "game": "Counter-Strike (1.6)",
          "month": "2012-10-01T00:00:00",
          "peak": 56957
         },
         {
          "game": "Counter-Strike (1.6)",
          "month": "2012-11-01T00:00:00",
          "peak": 61189
         },
         {
          "game": "Counter-Strike (1.6)",
          "month": "2012-12-01T00:00:00",
          "peak": 65188
         },
         {
          "game": "Counter-Strike (1.6)",
          "month": "2013-01-01T00:00:00",
          "peak": 65100
         },
         {
          "game": "Counter-Strike (1.6)",
          "month": "2013-02-01T00:00:00",
          "peak": 60780
         },
         {
          "game": "Counter-Strike (1.6)",
          "month": "2013-03-01T00:00:00",
          "peak": 49482
         },
         {
          "game": "Counter-Strike (1.6)",
          "month": "2013-04-01T00:00:00",
          "peak": 44392
         },
         {
          "game": "Counter-Strike (1.6)",
          "month": "2013-05-01T00:00:00",
          "peak": 36982
         },
         {
          "game": "Counter-Strike (1.6)",
          "month": "2013-06-01T00:00:00",
          "peak": 35490
         },
         {
          "game": "Counter-Strike (1.6)",
          "month": "2013-07-01T00:00:00",
          "peak": 34230
         },
         {
          "game": "Counter-Strike (1.6)",
          "month": "2013-08-01T00:00:00",
          "peak": 36983
         },
         {
          "game": "Counter-Strike (1.6)",
          "month": "2013-09-01T00:00:00",
          "peak": 37439
         },
         {
          "game": "Counter-Strike (1.6)",
          "month": "2013-10-01T00:00:00",
          "peak": 39826
         },
         {
          "game": "Counter-Strike (1.6)",
          "month": "2013-11-01T00:00:00",
          "peak": 40743
         },
         {
          "game": "Counter-Strike (1.6)",
          "month": "2013-12-01T00:00:00",
          "peak": 44491
         },
         {
          "game": "Counter-Strike (1.6)",
          "month": "2014-01-01T00:00:00",
          "peak": 44712
         },
         {
          "game": "Counter-Strike (1.6)",
          "month": "2014-02-01T00:00:00",
          "peak": 41963
         },
         {
          "game": "Counter-Strike (1.6)",
          "month": "2014-03-01T00:00:00",
          "peak": 39619
         },
         {
          "game": "Counter-Strike (1.6)",
          "month": "2014-04-01T00:00:00",
          "peak": 35926
         },
         {
          "game": "Counter-Strike (1.6)",
          "month": "2014-05-01T00:00:00",
          "peak": 33969
         },
         {
          "game": "Counter-Strike (1.6)",
          "month": "2014-06-01T00:00:00",
          "peak": 31806
         },
         {
          "game": "Counter-Strike (1.6)",
          "month": "2014-07-01T00:00:00",
          "peak": 29564
         },
         {
          "game": "Counter-Strike (1.6)",
          "month": "2014-08-01T00:00:00",
          "peak": 30379
         },
         {
          "game": "Counter-Strike (1.6)",
          "month": "2014-09-01T00:00:00",
          "peak": 31690
         },
         {
          "game": "Counter-Strike (1.6)",
          "month": "2014-10-01T00:00:00",
          "peak": 33495
         },
         {
          "game": "Counter-Strike (1.6)",
          "month": "2014-11-01T00:00:00",
          "peak": 36393
         },
         {
          "game": "Counter-Strike (1.6)",
          "month": "2014-12-01T00:00:00",
          "peak": 37018
         },
         {
          "game": "Counter-Strike (1.6)",
          "month": "2015-01-01T00:00:00",
          "peak": 37107
         },
         {
          "game": "Counter-Strike (1.6)",
          "month": "2015-02-01T00:00:00",
          "peak": 34271
         },
         {
          "game": "Counter-Strike (1.6)",
          "month": "2015-03-01T00:00:00",
          "peak": 30333
         },
         {
          "game": "Counter-Strike (1.6)",
          "month": "2015-04-01T00:00:00",
          "peak": 28286
         },
         {
          "game": "Counter-Strike (1.6)",
          "month": "2015-05-01T00:00:00",
          "peak": 26465
         },
         {
          "game": "Counter-Strike (1.6)",
          "month": "2015-06-01T00:00:00",
          "peak": 24200
         },
         {
          "game": "Counter-Strike (1.6)",
          "month": "2015-07-01T00:00:00",
          "peak": 23623
         },
         {
          "game": "Counter-Strike (1.6)",
          "month": "2015-08-01T00:00:00",
          "peak": 22650
         },
         {
          "game": "Counter-Strike (1.6)",
          "month": "2015-09-01T00:00:00",
          "peak": 23130
         },
         {
          "game": "Counter-Strike (1.6)",
          "month": "2015-10-01T00:00:00",
          "peak": 24278
         },
         {
          "game": "Counter-Strike (1.6)",
          "month": "2015-11-01T00:00:00",
          "peak": 26133
         },
         {
          "game": "Counter-Strike (1.6)",
          "month": "2015-12-01T00:00:00",
          "peak": 27821
         },
         {
          "game": "Counter-Strike (1.6)",
          "month": "2016-01-01T00:00:00",
          "peak": 29670
         },
         {
          "game": "Counter-Strike (1.6)",
          "month": "2016-02-01T00:00:00",
          "peak": 29617
         },
         {
          "game": "Counter-Strike (1.6)",
          "month": "2016-03-01T00:00:00",
          "peak": 28136
         },
         {
          "game": "Counter-Strike (1.6)",
          "month": "2016-04-01T00:00:00",
          "peak": 24994
         },
         {
          "game": "Counter-Strike (1.6)",
          "month": "2016-05-01T00:00:00",
          "peak": 22998
         },
         {
          "game": "Counter-Strike (1.6)",
          "month": "2016-06-01T00:00:00",
          "peak": 22585
         },
         {
          "game": "Counter-Strike (1.6)",
          "month": "2016-07-01T00:00:00",
          "peak": 21136
         },
         {
          "game": "Counter-Strike (1.6)",
          "month": "2016-08-01T00:00:00",
          "peak": 21491
         },
         {
          "game": "Counter-Strike (1.6)",
          "month": "2016-09-01T00:00:00",
          "peak": 21984
         },
         {
          "game": "Counter-Strike (1.6)",
          "month": "2016-10-01T00:00:00",
          "peak": 23413
         },
         {
          "game": "Counter-Strike (1.6)",
          "month": "2016-11-01T00:00:00",
          "peak": 24792
         },
         {
          "game": "Counter-Strike (1.6)",
          "month": "2016-12-01T00:00:00",
          "peak": 26909
         },
         {
          "game": "Counter-Strike (1.6)",
          "month": "2017-01-01T00:00:00",
          "peak": 29543
         },
         {
          "game": "Counter-Strike (1.6)",
          "month": "2017-02-01T00:00:00",
          "peak": 28071
         },
         {
          "game": "Counter-Strike (1.6)",
          "month": "2017-03-01T00:00:00",
          "peak": 26504
         },
         {
          "game": "Counter-Strike (1.6)",
          "month": "2017-04-01T00:00:00",
          "peak": 22731
         },
         {
          "game": "Counter-Strike (1.6)",
          "month": "2017-05-01T00:00:00",
          "peak": 22099
         },
         {
          "game": "Counter-Strike (1.6)",
          "month": "2017-06-01T00:00:00",
          "peak": 20312
         },
         {
          "game": "Counter-Strike (1.6)",
          "month": "2017-07-01T00:00:00",
          "peak": 20372
         },
         {
          "game": "Counter-Strike (1.6)",
          "month": "2017-08-01T00:00:00",
          "peak": 18465
         },
         {
          "game": "Counter-Strike (1.6)",
          "month": "2017-09-01T00:00:00",
          "peak": 18755
         },
         {
          "game": "Counter-Strike (1.6)",
          "month": "2017-10-01T00:00:00",
          "peak": 20891
         },
         {
          "game": "Counter-Strike (1.6)",
          "month": "2017-11-01T00:00:00",
          "peak": 24917
         },
         {
          "game": "Counter-Strike (1.6)",
          "month": "2017-12-01T00:00:00",
          "peak": 25817
         },
         {
          "game": "Counter-Strike (1.6)",
          "month": "2018-01-01T00:00:00",
          "peak": 27622
         },
         {
          "game": "Counter-Strike (1.6)",
          "month": "2018-02-01T00:00:00",
          "peak": 26457
         },
         {
          "game": "Counter-Strike (1.6)",
          "month": "2018-03-01T00:00:00",
          "peak": 25896
         },
         {
          "game": "Counter-Strike (1.6)",
          "month": "2018-04-01T00:00:00",
          "peak": 22707
         },
         {
          "game": "Counter-Strike (1.6)",
          "month": "2018-05-01T00:00:00",
          "peak": 18868
         },
         {
          "game": "Counter-Strike (1.6)",
          "month": "2018-06-01T00:00:00",
          "peak": 18856
         },
         {
          "game": "Counter-Strike (1.6)",
          "month": "2018-07-01T00:00:00",
          "peak": 18327
         },
         {
          "game": "Counter-Strike (1.6)",
          "month": "2018-08-01T00:00:00",
          "peak": 17136
         },
         {
          "game": "Counter-Strike (1.6)",
          "month": "2018-09-01T00:00:00",
          "peak": 17597
         },
         {
          "game": "Counter-Strike (1.6)",
          "month": "2018-10-01T00:00:00",
          "peak": 18183
         },
         {
          "game": "Counter-Strike (1.6)",
          "month": "2018-11-01T00:00:00",
          "peak": 20646
         },
         {
          "game": "Counter-Strike (1.6)",
          "month": "2018-12-01T00:00:00",
          "peak": 21865
         },
         {
          "game": "Counter-Strike (1.6)",
          "month": "2019-01-01T00:00:00",
          "peak": 23144
         },
         {
          "game": "Counter-Strike (1.6)",
          "month": "2019-02-01T00:00:00",
          "peak": 21470
         },
         {
          "game": "Counter-Strike (1.6)",
          "month": "2019-03-01T00:00:00",
          "peak": 19348
         },
         {
          "game": "Counter-Strike (1.6)",
          "month": "2019-04-01T00:00:00",
          "peak": 17386
         },
         {
          "game": "Counter-Strike (1.6)",
          "month": "2019-05-01T00:00:00",
          "peak": 16690
         },
         {
          "game": "Counter-Strike (1.6)",
          "month": "2019-06-01T00:00:00",
          "peak": 15091
         },
         {
          "game": "Counter-Strike (1.6)",
          "month": "2019-07-01T00:00:00",
          "peak": 15371
         },
         {
          "game": "Counter-Strike (1.6)",
          "month": "2019-08-01T00:00:00",
          "peak": 14971
         },
         {
          "game": "Counter-Strike (1.6)",
          "month": "2019-09-01T00:00:00",
          "peak": 14731
         },
         {
          "game": "Counter-Strike (1.6)",
          "month": "2019-10-01T00:00:00",
          "peak": 14937
         },
         {
          "game": "Counter-Strike (1.6)",
          "month": "2019-11-01T00:00:00",
          "peak": 16895
         },
         {
          "game": "Counter-Strike (1.6)",
          "month": "2019-12-01T00:00:00",
          "peak": 18365
         },
         {
          "game": "Counter-Strike (1.6)",
          "month": "2020-01-01T00:00:00",
          "peak": 19141
         },
         {
          "game": "Counter-Strike (1.6)",
          "month": "2020-02-01T00:00:00",
          "peak": 17762
         },
         {
          "game": "Counter-Strike (1.6)",
          "month": "2020-03-01T00:00:00",
          "peak": 30626
         },
         {
          "game": "Counter-Strike (1.6)",
          "month": "2020-04-01T00:00:00",
          "peak": 31930
         },
         {
          "game": "Counter-Strike (1.6)",
          "month": "2020-05-01T00:00:00",
          "peak": 29882
         },
         {
          "game": "Counter-Strike (1.6)",
          "month": "2020-06-01T00:00:00",
          "peak": 21059
         },
         {
          "game": "Counter-Strike (1.6)",
          "month": "2020-07-01T00:00:00",
          "peak": 18212
         },
         {
          "game": "Counter-Strike (1.6)",
          "month": "2020-08-01T00:00:00",
          "peak": 16560
         },
         {
          "game": "Counter-Strike (1.6)",
          "month": "2020-09-01T00:00:00",
          "peak": 16295
         },
         {
          "game": "Counter-Strike (1.6)",
          "month": "2020-10-01T00:00:00",
          "peak": 18030
         },
         {
          "game": "Counter-Strike (1.6)",
          "month": "2020-11-01T00:00:00",
          "peak": 20916
         },
         {
          "game": "Counter-Strike (1.6)",
          "month": "2020-12-01T00:00:00",
          "peak": 22833
         },
         {
          "game": "Counter-Strike (1.6)",
          "month": "2021-01-01T00:00:00",
          "peak": 23903
         },
         {
          "game": "Counter-Strike (1.6)",
          "month": "2021-02-01T00:00:00",
          "peak": 21860
         },
         {
          "game": "Counter-Strike (1.6)",
          "month": "2021-03-01T00:00:00",
          "peak": 22393
         },
         {
          "game": "Counter-Strike (1.6)",
          "month": "2021-04-01T00:00:00",
          "peak": 21698
         },
         {
          "game": "Counter-Strike (1.6)",
          "month": "2021-05-01T00:00:00",
          "peak": 18140
         },
         {
          "game": "Counter-Strike (1.6)",
          "month": "2021-06-01T00:00:00",
          "peak": 16439
         },
         {
          "game": "Counter-Strike (1.6)",
          "month": "2021-07-01T00:00:00",
          "peak": 14998
         },
         {
          "game": "Counter-Strike (1.6)",
          "month": "2021-08-01T00:00:00",
          "peak": 14127
         },
         {
          "game": "Counter-Strike (1.6)",
          "month": "2021-09-01T00:00:00",
          "peak": 14740
         },
         {
          "game": "Counter-Strike (1.6)",
          "month": "2021-10-01T00:00:00",
          "peak": 15759
         },
         {
          "game": "Counter-Strike (1.6)",
          "month": "2021-11-01T00:00:00",
          "peak": 16406
         },
         {
          "game": "Counter-Strike (1.6)",
          "month": "2021-12-01T00:00:00",
          "peak": 16648
         },
         {
          "game": "Counter-Strike (1.6)",
          "month": "2022-01-01T00:00:00",
          "peak": 18530
         },
         {
          "game": "Counter-Strike (1.6)",
          "month": "2022-02-01T00:00:00",
          "peak": 18743
         },
         {
          "game": "Counter-Strike (1.6)",
          "month": "2022-03-01T00:00:00",
          "peak": 16957
         },
         {
          "game": "Counter-Strike (1.6)",
          "month": "2022-04-01T00:00:00",
          "peak": 16696
         },
         {
          "game": "Counter-Strike (1.6)",
          "month": "2022-05-01T00:00:00",
          "peak": 14212
         },
         {
          "game": "Counter-Strike (1.6)",
          "month": "2022-06-01T00:00:00",
          "peak": 13707
         },
         {
          "game": "Counter-Strike (1.6)",
          "month": "2022-07-01T00:00:00",
          "peak": 14028
         },
         {
          "game": "Counter-Strike (1.6)",
          "month": "2022-08-01T00:00:00",
          "peak": 13358
         },
         {
          "game": "Counter-Strike (1.6)",
          "month": "2022-09-01T00:00:00",
          "peak": 13512
         },
         {
          "game": "Counter-Strike (1.6)",
          "month": "2022-10-01T00:00:00",
          "peak": 13846
         },
         {
          "game": "Counter-Strike (1.6)",
          "month": "2022-11-01T00:00:00",
          "peak": 16122
         },
         {
          "game": "Counter-Strike (1.6)",
          "month": "2022-12-01T00:00:00",
          "peak": 16250
         },
         {
          "game": "Counter-Strike (1.6)",
          "month": "2023-01-01T00:00:00",
          "peak": 17171
         },
         {
          "game": "Counter-Strike (1.6)",
          "month": "2023-02-01T00:00:00",
          "peak": 16364
         },
         {
          "game": "Counter-Strike (1.6)",
          "month": "2023-03-01T00:00:00",
          "peak": 15835
         },
         {
          "game": "Counter-Strike (1.6)",
          "month": "2023-04-01T00:00:00",
          "peak": 15526
         },
         {
          "game": "Counter-Strike (1.6)",
          "month": "2023-05-01T00:00:00",
          "peak": 13619
         },
         {
          "game": "Counter-Strike (1.6)",
          "month": "2023-06-01T00:00:00",
          "peak": 13078
         },
         {
          "game": "Counter-Strike (1.6)",
          "month": "2023-07-01T00:00:00",
          "peak": 13367
         },
         {
          "game": "Counter-Strike (1.6)",
          "month": "2023-08-01T00:00:00",
          "peak": 12519
         },
         {
          "game": "Counter-Strike (1.6)",
          "month": "2023-09-01T00:00:00",
          "peak": 13621
         },
         {
          "game": "Counter-Strike (1.6)",
          "month": "2023-10-01T00:00:00",
          "peak": 14241
         },
         {
          "game": "Counter-Strike (1.6)",
          "month": "2023-11-01T00:00:00",
          "peak": 14498
         },
         {
          "game": "Counter-Strike (1.6)",
          "month": "2023-12-01T00:00:00",
          "peak": 14646
         },
         {
          "game": "Counter-Strike (1.6)",
          "month": "2024-01-01T00:00:00",
          "peak": 15678
         },
         {
          "game": "Counter-Strike (1.6)",
          "month": "2024-02-01T00:00:00",
          "peak": 15051
         },
         {
          "game": "Counter-Strike (1.6)",
          "month": "2024-03-01T00:00:00",
          "peak": 16326
         },
         {
          "game": "Counter-Strike (1.6)",
          "month": "2024-04-01T00:00:00",
          "peak": 14510
         },
         {
          "game": "Counter-Strike (1.6)",
          "month": "2024-05-01T00:00:00",
          "peak": 15880
         },
         {
          "game": "Counter-Strike (1.6)",
          "month": "2024-06-01T00:00:00",
          "peak": 16640
         },
         {
          "game": "Counter-Strike (1.6)",
          "month": "2024-07-01T00:00:00",
          "peak": 19364
         },
         {
          "game": "Counter-Strike (1.6)",
          "month": "2024-08-01T00:00:00",
          "peak": 15133
         },
         {
          "game": "Counter-Strike (1.6)",
          "month": "2024-09-01T00:00:00",
          "peak": 16734
         },
         {
          "game": "Counter-Strike (1.6)",
          "month": "2024-10-01T00:00:00",
          "peak": 16985
         },
         {
          "game": "Counter-Strike (1.6)",
          "month": "2024-11-01T00:00:00",
          "peak": 17964
         },
         {
          "game": "Counter-Strike (1.6)",
          "month": "2024-12-01T00:00:00",
          "peak": 19647
         },
         {
          "game": "Counter-Strike (1.6)",
          "month": "2025-01-01T00:00:00",
          "peak": 20746
         },
         {
          "game": "Counter-Strike (1.6)",
          "month": "2025-02-01T00:00:00",
          "peak": 19683
         },
         {
          "game": "Counter-Strike (1.6)",
          "month": "2025-03-01T00:00:00",
          "peak": 18635
         },
         {
          "game": "Counter-Strike (1.6)",
          "month": "2025-04-01T00:00:00",
          "peak": 18205
         },
         {
          "game": "Counter-Strike (1.6)",
          "month": "2025-05-01T00:00:00",
          "peak": 15811
         },
         {
          "game": "Counter-Strike (1.6)",
          "month": "2025-06-01T00:00:00",
          "peak": 15730
         },
         {
          "game": "Counter-Strike (1.6)",
          "month": "2025-07-01T00:00:00",
          "peak": 14626
         },
         {
          "game": "Counter-Strike (1.6)",
          "month": "2025-08-01T00:00:00",
          "peak": 12680
         },
         {
          "game": "Counter-Strike: Source",
          "month": "2004-10-01T00:00:00",
          "peak": 9448
         },
         {
          "game": "Counter-Strike: Source",
          "month": "2004-11-01T00:00:00",
          "peak": 16454
         },
         {
          "game": "Counter-Strike: Source",
          "month": "2004-12-01T00:00:00",
          "peak": 49568
         },
         {
          "game": "Counter-Strike: Source",
          "month": "2005-01-01T00:00:00",
          "peak": 28230
         },
         {
          "game": "Counter-Strike: Source",
          "month": "2005-02-01T00:00:00",
          "peak": 30302
         },
         {
          "game": "Counter-Strike: Source",
          "month": "2005-03-01T00:00:00",
          "peak": 39232
         },
         {
          "game": "Counter-Strike: Source",
          "month": "2005-04-01T00:00:00",
          "peak": 43605
         },
         {
          "game": "Counter-Strike: Source",
          "month": "2005-05-01T00:00:00",
          "peak": 30737
         },
         {
          "game": "Counter-Strike: Source",
          "month": "2005-06-01T00:00:00",
          "peak": 22734
         },
         {
          "game": "Counter-Strike: Source",
          "month": "2005-07-01T00:00:00",
          "peak": 29945
         },
         {
          "game": "Counter-Strike: Source",
          "month": "2005-08-01T00:00:00",
          "peak": 51159
         },
         {
          "game": "Counter-Strike: Source",
          "month": "2005-09-01T00:00:00",
          "peak": 47518
         },
         {
          "game": "Counter-Strike: Source",
          "month": "2005-11-01T00:00:00",
          "peak": 18141
         },
         {
          "game": "Counter-Strike: Source",
          "month": "2005-12-01T00:00:00",
          "peak": 59323
         },
         {
          "game": "Counter-Strike: Source",
          "month": "2006-08-01T00:00:00",
          "peak": 51625
         },
         {
          "game": "Counter-Strike: Source",
          "month": "2006-11-01T00:00:00",
          "peak": 14825
         },
         {
          "game": "Counter-Strike: Source",
          "month": "2006-12-01T00:00:00",
          "peak": 56936
         },
         {
          "game": "Counter-Strike: Source",
          "month": "2007-01-01T00:00:00",
          "peak": 74899
         },
         {
          "game": "Counter-Strike: Source",
          "month": "2007-02-01T00:00:00",
          "peak": 71356
         },
         {
          "game": "Counter-Strike: Source",
          "month": "2007-03-01T00:00:00",
          "peak": 30139
         },
         {
          "game": "Counter-Strike: Source",
          "month": "2007-04-01T00:00:00",
          "peak": 40644
         },
         {
          "game": "Counter-Strike: Source",
          "month": "2007-05-01T00:00:00",
          "peak": 53308
         },
         {
          "game": "Counter-Strike: Source",
          "month": "2007-06-01T00:00:00",
          "peak": 85202
         },
         {
          "game": "Counter-Strike: Source",
          "month": "2007-07-01T00:00:00",
          "peak": 73676
         },
         {
          "game": "Counter-Strike: Source",
          "month": "2007-08-01T00:00:00",
          "peak": 77221
         },
         {
          "game": "Counter-Strike: Source",
          "month": "2007-09-01T00:00:00",
          "peak": 88466
         },
         {
          "game": "Counter-Strike: Source",
          "month": "2007-10-01T00:00:00",
          "peak": 83142
         },
         {
          "game": "Counter-Strike: Source",
          "month": "2007-11-01T00:00:00",
          "peak": 28693
         },
         {
          "game": "Counter-Strike: Source",
          "month": "2007-12-01T00:00:00",
          "peak": 74891
         },
         {
          "game": "Counter-Strike: Source",
          "month": "2008-01-01T00:00:00",
          "peak": 96798
         },
         {
          "game": "Counter-Strike: Source",
          "month": "2008-09-01T00:00:00",
          "peak": 82832
         },
         {
          "game": "Counter-Strike: Source",
          "month": "2008-10-01T00:00:00",
          "peak": 87900
         },
         {
          "game": "Counter-Strike: Source",
          "month": "2008-11-01T00:00:00",
          "peak": 59199
         },
         {
          "game": "Counter-Strike: Source",
          "month": "2008-12-01T00:00:00",
          "peak": 67808
         },
         {
          "game": "Counter-Strike: Source",
          "month": "2009-01-01T00:00:00",
          "peak": 59256
         },
         {
          "game": "Counter-Strike: Source",
          "month": "2009-02-01T00:00:00",
          "peak": 100056
         },
         {
          "game": "Counter-Strike: Source",
          "month": "2009-03-01T00:00:00",
          "peak": 95245
         },
         {
          "game": "Counter-Strike: Source",
          "month": "2009-04-01T00:00:00",
          "peak": 60504
         },
         {
          "game": "Counter-Strike: Source",
          "month": "2009-05-01T00:00:00",
          "peak": 78463
         },
         {
          "game": "Counter-Strike: Source",
          "month": "2009-06-01T00:00:00",
          "peak": 86374
         },
         {
          "game": "Counter-Strike: Source",
          "month": "2009-07-01T00:00:00",
          "peak": 68078
         },
         {
          "game": "Counter-Strike: Source",
          "month": "2009-08-01T00:00:00",
          "peak": 89486
         },
         {
          "game": "Counter-Strike: Source",
          "month": "2009-09-01T00:00:00",
          "peak": 80681
         },
         {
          "game": "Counter-Strike: Source",
          "month": "2009-10-01T00:00:00",
          "peak": 85147
         },
         {
          "game": "Counter-Strike: Source",
          "month": "2009-11-01T00:00:00",
          "peak": 46884
         },
         {
          "game": "Counter-Strike: Source",
          "month": "2009-12-01T00:00:00",
          "peak": 82447
         },
         {
          "game": "Counter-Strike: Source",
          "month": "2010-01-01T00:00:00",
          "peak": 89470
         },
         {
          "game": "Counter-Strike: Source",
          "month": "2010-02-01T00:00:00",
          "peak": 76744
         },
         {
          "game": "Counter-Strike: Source",
          "month": "2010-03-01T00:00:00",
          "peak": 91679
         },
         {
          "game": "Counter-Strike: Source",
          "month": "2010-04-01T00:00:00",
          "peak": 86207
         },
         {
          "game": "Counter-Strike: Source",
          "month": "2010-05-01T00:00:00",
          "peak": 84934
         },
         {
          "game": "Counter-Strike: Source",
          "month": "2010-06-01T00:00:00",
          "peak": 80638
         },
         {
          "game": "Counter-Strike: Source",
          "month": "2010-07-01T00:00:00",
          "peak": 64655
         },
         {
          "game": "Counter-Strike: Source",
          "month": "2010-08-01T00:00:00",
          "peak": 70257
         },
         {
          "game": "Counter-Strike: Source",
          "month": "2010-09-01T00:00:00",
          "peak": 74610
         },
         {
          "game": "Counter-Strike: Source",
          "month": "2010-10-01T00:00:00",
          "peak": 74782
         },
         {
          "game": "Counter-Strike: Source",
          "month": "2010-11-01T00:00:00",
          "peak": 80274
         },
         {
          "game": "Counter-Strike: Source",
          "month": "2010-12-01T00:00:00",
          "peak": 81541
         },
         {
          "game": "Counter-Strike: Source",
          "month": "2011-01-01T00:00:00",
          "peak": 87340
         },
         {
          "game": "Counter-Strike: Source",
          "month": "2011-02-01T00:00:00",
          "peak": 82999
         },
         {
          "game": "Counter-Strike: Source",
          "month": "2011-03-01T00:00:00",
          "peak": 78707
         },
         {
          "game": "Counter-Strike: Source",
          "month": "2011-04-01T00:00:00",
          "peak": 72932
         },
         {
          "game": "Counter-Strike: Source",
          "month": "2011-05-01T00:00:00",
          "peak": 68399
         },
         {
          "game": "Counter-Strike: Source",
          "month": "2011-06-01T00:00:00",
          "peak": 67319
         },
         {
          "game": "Counter-Strike: Source",
          "month": "2011-07-01T00:00:00",
          "peak": 57615
         },
         {
          "game": "Counter-Strike: Source",
          "month": "2011-08-01T00:00:00",
          "peak": 63643
         },
         {
          "game": "Counter-Strike: Source",
          "month": "2011-09-01T00:00:00",
          "peak": 62522
         },
         {
          "game": "Counter-Strike: Source",
          "month": "2011-10-01T00:00:00",
          "peak": 62201
         },
         {
          "game": "Counter-Strike: Source",
          "month": "2011-11-01T00:00:00",
          "peak": 57692
         },
         {
          "game": "Counter-Strike: Source",
          "month": "2011-12-01T00:00:00",
          "peak": 62805
         },
         {
          "game": "Counter-Strike: Source",
          "month": "2012-01-01T00:00:00",
          "peak": 67235
         },
         {
          "game": "Counter-Strike: Source",
          "month": "2012-02-01T00:00:00",
          "peak": 65028
         },
         {
          "game": "Counter-Strike: Source",
          "month": "2012-03-01T00:00:00",
          "peak": 63998
         },
         {
          "game": "Counter-Strike: Source",
          "month": "2012-04-01T00:00:00",
          "peak": 61373
         },
         {
          "game": "Counter-Strike: Source",
          "month": "2012-05-01T00:00:00",
          "peak": 56593
         },
         {
          "game": "Counter-Strike: Source",
          "month": "2012-06-01T00:00:00",
          "peak": 53484
         },
         {
          "game": "Counter-Strike: Source",
          "month": "2012-07-01T00:00:00",
          "peak": 48850
         },
         {
          "game": "Counter-Strike: Source",
          "month": "2012-08-01T00:00:00",
          "peak": 48224
         },
         {
          "game": "Counter-Strike: Source",
          "month": "2012-09-01T00:00:00",
          "peak": 43924
         },
         {
          "game": "Counter-Strike: Source",
          "month": "2012-10-01T00:00:00",
          "peak": 45145
         },
         {
          "game": "Counter-Strike: Source",
          "month": "2012-11-01T00:00:00",
          "peak": 44160
         },
         {
          "game": "Counter-Strike: Source",
          "month": "2012-12-01T00:00:00",
          "peak": 48458
         },
         {
          "game": "Counter-Strike: Source",
          "month": "2013-01-01T00:00:00",
          "peak": 48125
         },
         {
          "game": "Counter-Strike: Source",
          "month": "2013-02-01T00:00:00",
          "peak": 44608
         },
         {
          "game": "Counter-Strike: Source",
          "month": "2013-03-01T00:00:00",
          "peak": 44034
         },
         {
          "game": "Counter-Strike: Source",
          "month": "2013-04-01T00:00:00",
          "peak": 38626
         },
         {
          "game": "Counter-Strike: Source",
          "month": "2013-05-01T00:00:00",
          "peak": 32816
         },
         {
          "game": "Counter-Strike: Source",
          "month": "2013-06-01T00:00:00",
          "peak": 31622
         },
         {
          "game": "Counter-Strike: Source",
          "month": "2013-07-01T00:00:00",
          "peak": 29840
         },
         {
          "game": "Counter-Strike: Source",
          "month": "2013-08-01T00:00:00",
          "peak": 31385
         },
         {
          "game": "Counter-Strike: Source",
          "month": "2013-09-01T00:00:00",
          "peak": 31775
         },
         {
          "game": "Counter-Strike: Source",
          "month": "2013-10-01T00:00:00",
          "peak": 32227
         },
         {
          "game": "Counter-Strike: Source",
          "month": "2013-11-01T00:00:00",
          "peak": 32541
         },
         {
          "game": "Counter-Strike: Source",
          "month": "2013-12-01T00:00:00",
          "peak": 35222
         },
         {
          "game": "Counter-Strike: Source",
          "month": "2014-01-01T00:00:00",
          "peak": 35887
         },
         {
          "game": "Counter-Strike: Source",
          "month": "2014-02-01T00:00:00",
          "peak": 30851
         },
         {
          "game": "Counter-Strike: Source",
          "month": "2014-03-01T00:00:00",
          "peak": 27789
         },
         {
          "game": "Counter-Strike: Source",
          "month": "2014-04-01T00:00:00",
          "peak": 26052
         },
         {
          "game": "Counter-Strike: Source",
          "month": "2014-05-01T00:00:00",
          "peak": 24587
         },
         {
          "game": "Counter-Strike: Source",
          "month": "2014-06-01T00:00:00",
          "peak": 23895
         },
         {
          "game": "Counter-Strike: Source",
          "month": "2014-07-01T00:00:00",
          "peak": 21221
         },
         {
          "game": "Counter-Strike: Source",
          "month": "2014-08-01T00:00:00",
          "peak": 21419
         },
         {
          "game": "Counter-Strike: Source",
          "month": "2014-09-01T00:00:00",
          "peak": 21135
         },
         {
          "game": "Counter-Strike: Source",
          "month": "2014-10-01T00:00:00",
          "peak": 21678
         },
         {
          "game": "Counter-Strike: Source",
          "month": "2014-11-01T00:00:00",
          "peak": 23493
         },
         {
          "game": "Counter-Strike: Source",
          "month": "2014-12-01T00:00:00",
          "peak": 24519
         },
         {
          "game": "Counter-Strike: Source",
          "month": "2015-01-01T00:00:00",
          "peak": 24617
         },
         {
          "game": "Counter-Strike: Source",
          "month": "2015-02-01T00:00:00",
          "peak": 21737
         },
         {
          "game": "Counter-Strike: Source",
          "month": "2015-03-01T00:00:00",
          "peak": 17772
         },
         {
          "game": "Counter-Strike: Source",
          "month": "2015-04-01T00:00:00",
          "peak": 16183
         },
         {
          "game": "Counter-Strike: Source",
          "month": "2015-05-01T00:00:00",
          "peak": 16204
         },
         {
          "game": "Counter-Strike: Source",
          "month": "2015-06-01T00:00:00",
          "peak": 14896
         },
         {
          "game": "Counter-Strike: Source",
          "month": "2015-07-01T00:00:00",
          "peak": 13870
         },
         {
          "game": "Counter-Strike: Source",
          "month": "2015-08-01T00:00:00",
          "peak": 13594
         },
         {
          "game": "Counter-Strike: Source",
          "month": "2015-09-01T00:00:00",
          "peak": 13553
         },
         {
          "game": "Counter-Strike: Source",
          "month": "2015-10-01T00:00:00",
          "peak": 13960
         },
         {
          "game": "Counter-Strike: Source",
          "month": "2015-11-01T00:00:00",
          "peak": 14300
         },
         {
          "game": "Counter-Strike: Source",
          "month": "2015-12-01T00:00:00",
          "peak": 14860
         },
         {
          "game": "Counter-Strike: Source",
          "month": "2016-01-01T00:00:00",
          "peak": 16142
         },
         {
          "game": "Counter-Strike: Source",
          "month": "2016-02-01T00:00:00",
          "peak": 15627
         },
         {
          "game": "Counter-Strike: Source",
          "month": "2016-03-01T00:00:00",
          "peak": 14846
         },
         {
          "game": "Counter-Strike: Source",
          "month": "2016-04-01T00:00:00",
          "peak": 12774
         },
         {
          "game": "Counter-Strike: Source",
          "month": "2016-05-01T00:00:00",
          "peak": 11212
         },
         {
          "game": "Counter-Strike: Source",
          "month": "2016-06-01T00:00:00",
          "peak": 10865
         },
         {
          "game": "Counter-Strike: Source",
          "month": "2016-07-01T00:00:00",
          "peak": 10131
         },
         {
          "game": "Counter-Strike: Source",
          "month": "2016-08-01T00:00:00",
          "peak": 9828
         },
         {
          "game": "Counter-Strike: Source",
          "month": "2016-09-01T00:00:00",
          "peak": 10083
         },
         {
          "game": "Counter-Strike: Source",
          "month": "2016-10-01T00:00:00",
          "peak": 10503
         },
         {
          "game": "Counter-Strike: Source",
          "month": "2016-11-01T00:00:00",
          "peak": 11211
         },
         {
          "game": "Counter-Strike: Source",
          "month": "2016-12-01T00:00:00",
          "peak": 11500
         },
         {
          "game": "Counter-Strike: Source",
          "month": "2017-01-01T00:00:00",
          "peak": 12471
         },
         {
          "game": "Counter-Strike: Source",
          "month": "2017-02-01T00:00:00",
          "peak": 11557
         },
         {
          "game": "Counter-Strike: Source",
          "month": "2017-03-01T00:00:00",
          "peak": 10702
         },
         {
          "game": "Counter-Strike: Source",
          "month": "2017-04-01T00:00:00",
          "peak": 9493
         },
         {
          "game": "Counter-Strike: Source",
          "month": "2017-05-01T00:00:00",
          "peak": 8932
         },
         {
          "game": "Counter-Strike: Source",
          "month": "2017-06-01T00:00:00",
          "peak": 8598
         },
         {
          "game": "Counter-Strike: Source",
          "month": "2017-07-01T00:00:00",
          "peak": 8622
         },
         {
          "game": "Counter-Strike: Source",
          "month": "2017-08-01T00:00:00",
          "peak": 7911
         },
         {
          "game": "Counter-Strike: Source",
          "month": "2017-09-01T00:00:00",
          "peak": 8288
         },
         {
          "game": "Counter-Strike: Source",
          "month": "2017-10-01T00:00:00",
          "peak": 8818
         },
         {
          "game": "Counter-Strike: Source",
          "month": "2017-11-01T00:00:00",
          "peak": 9163
         },
         {
          "game": "Counter-Strike: Source",
          "month": "2017-12-01T00:00:00",
          "peak": 9918
         },
         {
          "game": "Counter-Strike: Source",
          "month": "2018-01-01T00:00:00",
          "peak": 10462
         },
         {
          "game": "Counter-Strike: Source",
          "month": "2018-02-01T00:00:00",
          "peak": 9825
         },
         {
          "game": "Counter-Strike: Source",
          "month": "2018-03-01T00:00:00",
          "peak": 9367
         },
         {
          "game": "Counter-Strike: Source",
          "month": "2018-04-01T00:00:00",
          "peak": 8486
         },
         {
          "game": "Counter-Strike: Source",
          "month": "2018-05-01T00:00:00",
          "peak": 7154
         },
         {
          "game": "Counter-Strike: Source",
          "month": "2018-06-01T00:00:00",
          "peak": 7181
         },
         {
          "game": "Counter-Strike: Source",
          "month": "2018-07-01T00:00:00",
          "peak": 6714
         },
         {
          "game": "Counter-Strike: Source",
          "month": "2018-08-01T00:00:00",
          "peak": 6845
         },
         {
          "game": "Counter-Strike: Source",
          "month": "2018-09-01T00:00:00",
          "peak": 6804
         },
         {
          "game": "Counter-Strike: Source",
          "month": "2018-10-01T00:00:00",
          "peak": 7154
         },
         {
          "game": "Counter-Strike: Source",
          "month": "2018-11-01T00:00:00",
          "peak": 8381
         },
         {
          "game": "Counter-Strike: Source",
          "month": "2018-12-01T00:00:00",
          "peak": 8771
         },
         {
          "game": "Counter-Strike: Source",
          "month": "2019-01-01T00:00:00",
          "peak": 8799
         },
         {
          "game": "Counter-Strike: Source",
          "month": "2019-02-01T00:00:00",
          "peak": 8167
         },
         {
          "game": "Counter-Strike: Source",
          "month": "2019-03-01T00:00:00",
          "peak": 7530
         },
         {
          "game": "Counter-Strike: Source",
          "month": "2019-04-01T00:00:00",
          "peak": 6823
         },
         {
          "game": "Counter-Strike: Source",
          "month": "2019-05-01T00:00:00",
          "peak": 6592
         },
         {
          "game": "Counter-Strike: Source",
          "month": "2019-06-01T00:00:00",
          "peak": 6790
         },
         {
          "game": "Counter-Strike: Source",
          "month": "2019-07-01T00:00:00",
          "peak": 6972
         },
         {
          "game": "Counter-Strike: Source",
          "month": "2019-08-01T00:00:00",
          "peak": 6045
         },
         {
          "game": "Counter-Strike: Source",
          "month": "2019-09-01T00:00:00",
          "peak": 6298
         },
         {
          "game": "Counter-Strike: Source",
          "month": "2019-10-01T00:00:00",
          "peak": 6196
         },
         {
          "game": "Counter-Strike: Source",
          "month": "2019-11-01T00:00:00",
          "peak": 7384
         },
         {
          "game": "Counter-Strike: Source",
          "month": "2019-12-01T00:00:00",
          "peak": 7940
         },
         {
          "game": "Counter-Strike: Source",
          "month": "2020-01-01T00:00:00",
          "peak": 7906
         },
         {
          "game": "Counter-Strike: Source",
          "month": "2020-02-01T00:00:00",
          "peak": 6996
         },
         {
          "game": "Counter-Strike: Source",
          "month": "2020-03-01T00:00:00",
          "peak": 10948
         },
         {
          "game": "Counter-Strike: Source",
          "month": "2020-04-01T00:00:00",
          "peak": 11636
         },
         {
          "game": "Counter-Strike: Source",
          "month": "2020-05-01T00:00:00",
          "peak": 9734
         },
         {
          "game": "Counter-Strike: Source",
          "month": "2020-06-01T00:00:00",
          "peak": 7356
         },
         {
          "game": "Counter-Strike: Source",
          "month": "2020-07-01T00:00:00",
          "peak": 6790
         },
         {
          "game": "Counter-Strike: Source",
          "month": "2020-08-01T00:00:00",
          "peak": 6286
         },
         {
          "game": "Counter-Strike: Source",
          "month": "2020-09-01T00:00:00",
          "peak": 5887
         },
         {
          "game": "Counter-Strike: Source",
          "month": "2020-10-01T00:00:00",
          "peak": 6616
         },
         {
          "game": "Counter-Strike: Source",
          "month": "2020-11-01T00:00:00",
          "peak": 7310
         },
         {
          "game": "Counter-Strike: Source",
          "month": "2020-12-01T00:00:00",
          "peak": 8120
         },
         {
          "game": "Counter-Strike: Source",
          "month": "2021-01-01T00:00:00",
          "peak": 8292
         },
         {
          "game": "Counter-Strike: Source",
          "month": "2021-02-01T00:00:00",
          "peak": 7610
         },
         {
          "game": "Counter-Strike: Source",
          "month": "2021-03-01T00:00:00",
          "peak": 8995
         },
         {
          "game": "Counter-Strike: Source",
          "month": "2021-04-01T00:00:00",
          "peak": 8737
         },
         {
          "game": "Counter-Strike: Source",
          "month": "2021-05-01T00:00:00",
          "peak": 7047
         },
         {
          "game": "Counter-Strike: Source",
          "month": "2021-06-01T00:00:00",
          "peak": 6023
         },
         {
          "game": "Counter-Strike: Source",
          "month": "2021-07-01T00:00:00",
          "peak": 5971
         },
         {
          "game": "Counter-Strike: Source",
          "month": "2021-08-01T00:00:00",
          "peak": 5337
         },
         {
          "game": "Counter-Strike: Source",
          "month": "2021-09-01T00:00:00",
          "peak": 5649
         },
         {
          "game": "Counter-Strike: Source",
          "month": "2021-10-01T00:00:00",
          "peak": 5723
         },
         {
          "game": "Counter-Strike: Source",
          "month": "2021-11-01T00:00:00",
          "peak": 6172
         },
         {
          "game": "Counter-Strike: Source",
          "month": "2021-12-01T00:00:00",
          "peak": 6704
         },
         {
          "game": "Counter-Strike: Source",
          "month": "2022-01-01T00:00:00",
          "peak": 8118
         },
         {
          "game": "Counter-Strike: Source",
          "month": "2022-02-01T00:00:00",
          "peak": 8907
         },
         {
          "game": "Counter-Strike: Source",
          "month": "2022-03-01T00:00:00",
          "peak": 8369
         },
         {
          "game": "Counter-Strike: Source",
          "month": "2022-04-01T00:00:00",
          "peak": 8494
         },
         {
          "game": "Counter-Strike: Source",
          "month": "2022-05-01T00:00:00",
          "peak": 7491
         },
         {
          "game": "Counter-Strike: Source",
          "month": "2022-06-01T00:00:00",
          "peak": 7349
         },
         {
          "game": "Counter-Strike: Source",
          "month": "2022-07-01T00:00:00",
          "peak": 7513
         },
         {
          "game": "Counter-Strike: Source",
          "month": "2022-08-01T00:00:00",
          "peak": 7027
         },
         {
          "game": "Counter-Strike: Source",
          "month": "2022-09-01T00:00:00",
          "peak": 6961
         },
         {
          "game": "Counter-Strike: Source",
          "month": "2022-10-01T00:00:00",
          "peak": 5396
         },
         {
          "game": "Counter-Strike: Source",
          "month": "2022-11-01T00:00:00",
          "peak": 6417
         },
         {
          "game": "Counter-Strike: Source",
          "month": "2022-12-01T00:00:00",
          "peak": 6048
         },
         {
          "game": "Counter-Strike: Source",
          "month": "2023-01-01T00:00:00",
          "peak": 6240
         },
         {
          "game": "Counter-Strike: Source",
          "month": "2023-02-01T00:00:00",
          "peak": 5531
         },
         {
          "game": "Counter-Strike: Source",
          "month": "2023-03-01T00:00:00",
          "peak": 6231
         },
         {
          "game": "Counter-Strike: Source",
          "month": "2023-04-01T00:00:00",
          "peak": 5498
         },
         {
          "game": "Counter-Strike: Source",
          "month": "2023-05-01T00:00:00",
          "peak": 4948
         },
         {
          "game": "Counter-Strike: Source",
          "month": "2023-06-01T00:00:00",
          "peak": 5039
         },
         {
          "game": "Counter-Strike: Source",
          "month": "2023-07-01T00:00:00",
          "peak": 5325
         },
         {
          "game": "Counter-Strike: Source",
          "month": "2023-08-01T00:00:00",
          "peak": 4495
         },
         {
          "game": "Counter-Strike: Source",
          "month": "2023-09-01T00:00:00",
          "peak": 5471
         },
         {
          "game": "Counter-Strike: Source",
          "month": "2023-10-01T00:00:00",
          "peak": 5495
         },
         {
          "game": "Counter-Strike: Source",
          "month": "2023-11-01T00:00:00",
          "peak": 6061
         },
         {
          "game": "Counter-Strike: Source",
          "month": "2023-12-01T00:00:00",
          "peak": 5973
         },
         {
          "game": "Counter-Strike: Source",
          "month": "2024-01-01T00:00:00",
          "peak": 6035
         },
         {
          "game": "Counter-Strike: Source",
          "month": "2024-02-01T00:00:00",
          "peak": 13071
         },
         {
          "game": "Counter-Strike: Source",
          "month": "2024-03-01T00:00:00",
          "peak": 13063
         },
         {
          "game": "Counter-Strike: Source",
          "month": "2024-04-01T00:00:00",
          "peak": 14242
         },
         {
          "game": "Counter-Strike: Source",
          "month": "2024-05-01T00:00:00",
          "peak": 13557
         },
         {
          "game": "Counter-Strike: Source",
          "month": "2024-06-01T00:00:00",
          "peak": 15078
         },
         {
          "game": "Counter-Strike: Source",
          "month": "2024-07-01T00:00:00",
          "peak": 17981
         },
         {
          "game": "Counter-Strike: Source",
          "month": "2024-08-01T00:00:00",
          "peak": 18986
         },
         {
          "game": "Counter-Strike: Source",
          "month": "2024-09-01T00:00:00",
          "peak": 15218
         },
         {
          "game": "Counter-Strike: Source",
          "month": "2024-10-01T00:00:00",
          "peak": 13115
         },
         {
          "game": "Counter-Strike: Source",
          "month": "2024-11-01T00:00:00",
          "peak": 12919
         },
         {
          "game": "Counter-Strike: Source",
          "month": "2024-12-01T00:00:00",
          "peak": 16674
         },
         {
          "game": "Counter-Strike: Source",
          "month": "2025-01-01T00:00:00",
          "peak": 17737
         },
         {
          "game": "Counter-Strike: Source",
          "month": "2025-02-01T00:00:00",
          "peak": 17926
         },
         {
          "game": "Counter-Strike: Source",
          "month": "2025-03-01T00:00:00",
          "peak": 20160
         },
         {
          "game": "Counter-Strike: Source",
          "month": "2025-04-01T00:00:00",
          "peak": 17173
         },
         {
          "game": "Counter-Strike: Source",
          "month": "2025-05-01T00:00:00",
          "peak": 13655
         },
         {
          "game": "Counter-Strike: Source",
          "month": "2025-06-01T00:00:00",
          "peak": 18204
         },
         {
          "game": "Counter-Strike: Source",
          "month": "2025-07-01T00:00:00",
          "peak": 56987
         },
         {
          "game": "Counter-Strike: Source",
          "month": "2025-08-01T00:00:00",
          "peak": 62898
         },
         {
          "game": "Counter-Strike: Condition Zero",
          "month": "2004-04-01T00:00:00",
          "peak": 9256
         },
         {
          "game": "Counter-Strike: Condition Zero",
          "month": "2004-06-01T00:00:00",
          "peak": 14032
         },
         {
          "game": "Counter-Strike: Condition Zero",
          "month": "2004-07-01T00:00:00",
          "peak": 15119
         },
         {
          "game": "Counter-Strike: Condition Zero",
          "month": "2004-08-01T00:00:00",
          "peak": 14280
         },
         {
          "game": "Counter-Strike: Condition Zero",
          "month": "2004-09-01T00:00:00",
          "peak": 15762
         },
         {
          "game": "Counter-Strike: Condition Zero",
          "month": "2004-10-01T00:00:00",
          "peak": 15076
         },
         {
          "game": "Counter-Strike: Condition Zero",
          "month": "2004-11-01T00:00:00",
          "peak": 15216
         },
         {
          "game": "Counter-Strike: Condition Zero",
          "month": "2004-12-01T00:00:00",
          "peak": 18107
         },
         {
          "game": "Counter-Strike: Condition Zero",
          "month": "2005-01-01T00:00:00",
          "peak": 15692
         },
         {
          "game": "Counter-Strike: Condition Zero",
          "month": "2005-02-01T00:00:00",
          "peak": 16502
         },
         {
          "game": "Counter-Strike: Condition Zero",
          "month": "2005-03-01T00:00:00",
          "peak": 17489
         },
         {
          "game": "Counter-Strike: Condition Zero",
          "month": "2005-04-01T00:00:00",
          "peak": 13288
         },
         {
          "game": "Counter-Strike: Condition Zero",
          "month": "2005-05-01T00:00:00",
          "peak": 19239
         },
         {
          "game": "Counter-Strike: Condition Zero",
          "month": "2005-06-01T00:00:00",
          "peak": 12053
         },
         {
          "game": "Counter-Strike: Condition Zero",
          "month": "2005-07-01T00:00:00",
          "peak": 18654
         },
         {
          "game": "Counter-Strike: Condition Zero",
          "month": "2005-08-01T00:00:00",
          "peak": 22438
         },
         {
          "game": "Counter-Strike: Condition Zero",
          "month": "2005-09-01T00:00:00",
          "peak": 19041
         },
         {
          "game": "Counter-Strike: Condition Zero",
          "month": "2005-11-01T00:00:00",
          "peak": 14824
         },
         {
          "game": "Counter-Strike: Condition Zero",
          "month": "2005-12-01T00:00:00",
          "peak": 21242
         },
         {
          "game": "Counter-Strike: Condition Zero",
          "month": "2006-08-01T00:00:00",
          "peak": 21153
         },
         {
          "game": "Counter-Strike: Condition Zero",
          "month": "2006-11-01T00:00:00",
          "peak": 15203
         },
         {
          "game": "Counter-Strike: Condition Zero",
          "month": "2006-12-01T00:00:00",
          "peak": 17896
         },
         {
          "game": "Counter-Strike: Condition Zero",
          "month": "2007-01-01T00:00:00",
          "peak": 21851
         },
         {
          "game": "Counter-Strike: Condition Zero",
          "month": "2007-02-01T00:00:00",
          "peak": 23807
         },
         {
          "game": "Counter-Strike: Condition Zero",
          "month": "2007-03-01T00:00:00",
          "peak": 19939
         },
         {
          "game": "Counter-Strike: Condition Zero",
          "month": "2007-04-01T00:00:00",
          "peak": 11923
         },
         {
          "game": "Counter-Strike: Condition Zero",
          "month": "2007-05-01T00:00:00",
          "peak": 24988
         },
         {
          "game": "Counter-Strike: Condition Zero",
          "month": "2007-06-01T00:00:00",
          "peak": 27256
         },
         {
          "game": "Counter-Strike: Condition Zero",
          "month": "2007-07-01T00:00:00",
          "peak": 28546
         },
         {
          "game": "Counter-Strike: Condition Zero",
          "month": "2007-08-01T00:00:00",
          "peak": 27545
         },
         {
          "game": "Counter-Strike: Condition Zero",
          "month": "2007-09-01T00:00:00",
          "peak": 32748
         },
         {
          "game": "Counter-Strike: Condition Zero",
          "month": "2007-10-01T00:00:00",
          "peak": 28221
         },
         {
          "game": "Counter-Strike: Condition Zero",
          "month": "2007-11-01T00:00:00",
          "peak": 21806
         },
         {
          "game": "Counter-Strike: Condition Zero",
          "month": "2007-12-01T00:00:00",
          "peak": 32279
         },
         {
          "game": "Counter-Strike: Condition Zero",
          "month": "2008-01-01T00:00:00",
          "peak": 28140
         },
         {
          "game": "Counter-Strike: Condition Zero",
          "month": "2008-09-01T00:00:00",
          "peak": 11694
         },
         {
          "game": "Counter-Strike: Condition Zero",
          "month": "2008-10-01T00:00:00",
          "peak": 12860
         },
         {
          "game": "Counter-Strike: Condition Zero",
          "month": "2008-11-01T00:00:00",
          "peak": 7328
         },
         {
          "game": "Counter-Strike: Condition Zero",
          "month": "2008-12-01T00:00:00",
          "peak": 7570
         },
         {
          "game": "Counter-Strike: Condition Zero",
          "month": "2009-01-01T00:00:00",
          "peak": 5893
         },
         {
          "game": "Counter-Strike: Condition Zero",
          "month": "2009-02-01T00:00:00",
          "peak": 9384
         },
         {
          "game": "Counter-Strike: Condition Zero",
          "month": "2009-03-01T00:00:00",
          "peak": 9018
         },
         {
          "game": "Counter-Strike: Condition Zero",
          "month": "2009-04-01T00:00:00",
          "peak": 5413
         },
         {
          "game": "Counter-Strike: Condition Zero",
          "month": "2009-05-01T00:00:00",
          "peak": 7336
         },
         {
          "game": "Counter-Strike: Condition Zero",
          "month": "2009-06-01T00:00:00",
          "peak": 7932
         },
         {
          "game": "Counter-Strike: Condition Zero",
          "month": "2009-07-01T00:00:00",
          "peak": 7964
         },
         {
          "game": "Counter-Strike: Condition Zero",
          "month": "2009-08-01T00:00:00",
          "peak": 9266
         },
         {
          "game": "Counter-Strike: Condition Zero",
          "month": "2009-09-01T00:00:00",
          "peak": 8634
         },
         {
          "game": "Counter-Strike: Condition Zero",
          "month": "2009-10-01T00:00:00",
          "peak": 9128
         },
         {
          "game": "Counter-Strike: Condition Zero",
          "month": "2009-11-01T00:00:00",
          "peak": 4990
         },
         {
          "game": "Counter-Strike: Condition Zero",
          "month": "2009-12-01T00:00:00",
          "peak": 8983
         },
         {
          "game": "Counter-Strike: Condition Zero",
          "month": "2010-01-01T00:00:00",
          "peak": 8927
         },
         {
          "game": "Counter-Strike: Condition Zero",
          "month": "2010-02-01T00:00:00",
          "peak": 8003
         },
         {
          "game": "Counter-Strike: Condition Zero",
          "month": "2010-03-01T00:00:00",
          "peak": 9060
         },
         {
          "game": "Counter-Strike: Condition Zero",
          "month": "2010-04-01T00:00:00",
          "peak": 8484
         },
         {
          "game": "Counter-Strike: Condition Zero",
          "month": "2010-05-01T00:00:00",
          "peak": 7677
         },
         {
          "game": "Counter-Strike: Condition Zero",
          "month": "2010-06-01T00:00:00",
          "peak": 7424
         },
         {
          "game": "Counter-Strike: Condition Zero",
          "month": "2010-07-01T00:00:00",
          "peak": 6910
         },
         {
          "game": "Counter-Strike: Condition Zero",
          "month": "2010-08-01T00:00:00",
          "peak": 7081
         },
         {
          "game": "Counter-Strike: Condition Zero",
          "month": "2010-09-01T00:00:00",
          "peak": 7428
         },
         {
          "game": "Counter-Strike: Condition Zero",
          "month": "2010-10-01T00:00:00",
          "peak": 7379
         },
         {
          "game": "Counter-Strike: Condition Zero",
          "month": "2010-11-01T00:00:00",
          "peak": 7539
         },
         {
          "game": "Counter-Strike: Condition Zero",
          "month": "2010-12-01T00:00:00",
          "peak": 7505
         },
         {
          "game": "Counter-Strike: Condition Zero",
          "month": "2011-01-01T00:00:00",
          "peak": 7354
         },
         {
          "game": "Counter-Strike: Condition Zero",
          "month": "2011-02-01T00:00:00",
          "peak": 7171
         },
         {
          "game": "Counter-Strike: Condition Zero",
          "month": "2011-03-01T00:00:00",
          "peak": 6715
         },
         {
          "game": "Counter-Strike: Condition Zero",
          "month": "2011-04-01T00:00:00",
          "peak": 6133
         },
         {
          "game": "Counter-Strike: Condition Zero",
          "month": "2011-05-01T00:00:00",
          "peak": 6128
         },
         {
          "game": "Counter-Strike: Condition Zero",
          "month": "2011-06-01T00:00:00",
          "peak": 5542
         },
         {
          "game": "Counter-Strike: Condition Zero",
          "month": "2011-07-01T00:00:00",
          "peak": 5180
         },
         {
          "game": "Counter-Strike: Condition Zero",
          "month": "2011-08-01T00:00:00",
          "peak": 5051
         },
         {
          "game": "Counter-Strike: Condition Zero",
          "month": "2011-09-01T00:00:00",
          "peak": 5083
         },
         {
          "game": "Counter-Strike: Condition Zero",
          "month": "2011-10-01T00:00:00",
          "peak": 4979
         },
         {
          "game": "Counter-Strike: Condition Zero",
          "month": "2011-11-01T00:00:00",
          "peak": 5031
         },
         {
          "game": "Counter-Strike: Condition Zero",
          "month": "2011-12-01T00:00:00",
          "peak": 4915
         },
         {
          "game": "Counter-Strike: Condition Zero",
          "month": "2012-01-01T00:00:00",
          "peak": 4929
         },
         {
          "game": "Counter-Strike: Condition Zero",
          "month": "2012-02-01T00:00:00",
          "peak": 4878
         },
         {
          "game": "Counter-Strike: Condition Zero",
          "month": "2012-03-01T00:00:00",
          "peak": 4530
         },
         {
          "game": "Counter-Strike: Condition Zero",
          "month": "2012-04-01T00:00:00",
          "peak": 4394
         },
         {
          "game": "Counter-Strike: Condition Zero",
          "month": "2012-05-01T00:00:00",
          "peak": 4180
         },
         {
          "game": "Counter-Strike: Condition Zero",
          "month": "2012-06-01T00:00:00",
          "peak": 3879
         },
         {
          "game": "Counter-Strike: Condition Zero",
          "month": "2012-07-01T00:00:00",
          "peak": 3530
         },
         {
          "game": "Counter-Strike: Condition Zero",
          "month": "2012-08-01T00:00:00",
          "peak": 3229
         },
         {
          "game": "Counter-Strike: Condition Zero",
          "month": "2012-09-01T00:00:00",
          "peak": 3184
         },
         {
          "game": "Counter-Strike: Condition Zero",
          "month": "2012-10-01T00:00:00",
          "peak": 3183
         },
         {
          "game": "Counter-Strike: Condition Zero",
          "month": "2012-11-01T00:00:00",
          "peak": 3356
         },
         {
          "game": "Counter-Strike: Condition Zero",
          "month": "2012-12-01T00:00:00",
          "peak": 3357
         },
         {
          "game": "Counter-Strike: Condition Zero",
          "month": "2013-01-01T00:00:00",
          "peak": 3378
         },
         {
          "game": "Counter-Strike: Condition Zero",
          "month": "2013-02-01T00:00:00",
          "peak": 3282
         },
         {
          "game": "Counter-Strike: Condition Zero",
          "month": "2013-03-01T00:00:00",
          "peak": 2888
         },
         {
          "game": "Counter-Strike: Condition Zero",
          "month": "2013-04-01T00:00:00",
          "peak": 2134
         },
         {
          "game": "Counter-Strike: Condition Zero",
          "month": "2013-05-01T00:00:00",
          "peak": 2020
         },
         {
          "game": "Counter-Strike: Condition Zero",
          "month": "2013-06-01T00:00:00",
          "peak": 1957
         },
         {
          "game": "Counter-Strike: Condition Zero",
          "month": "2013-07-01T00:00:00",
          "peak": 1857
         },
         {
          "game": "Counter-Strike: Condition Zero",
          "month": "2013-08-01T00:00:00",
          "peak": 1925
         },
         {
          "game": "Counter-Strike: Condition Zero",
          "month": "2013-09-01T00:00:00",
          "peak": 1995
         },
         {
          "game": "Counter-Strike: Condition Zero",
          "month": "2013-10-01T00:00:00",
          "peak": 2042
         },
         {
          "game": "Counter-Strike: Condition Zero",
          "month": "2013-11-01T00:00:00",
          "peak": 2090
         },
         {
          "game": "Counter-Strike: Condition Zero",
          "month": "2013-12-01T00:00:00",
          "peak": 2074
         },
         {
          "game": "Counter-Strike: Condition Zero",
          "month": "2014-01-01T00:00:00",
          "peak": 2157
         },
         {
          "game": "Counter-Strike: Condition Zero",
          "month": "2014-02-01T00:00:00",
          "peak": 1866
         },
         {
          "game": "Counter-Strike: Condition Zero",
          "month": "2014-03-01T00:00:00",
          "peak": 1764
         },
         {
          "game": "Counter-Strike: Condition Zero",
          "month": "2014-04-01T00:00:00",
          "peak": 1720
         },
         {
          "game": "Counter-Strike: Condition Zero",
          "month": "2014-05-01T00:00:00",
          "peak": 1662
         },
         {
          "game": "Counter-Strike: Condition Zero",
          "month": "2014-06-01T00:00:00",
          "peak": 1565
         },
         {
          "game": "Counter-Strike: Condition Zero",
          "month": "2014-07-01T00:00:00",
          "peak": 1489
         },
         {
          "game": "Counter-Strike: Condition Zero",
          "month": "2014-08-01T00:00:00",
          "peak": 1455
         },
         {
          "game": "Counter-Strike: Condition Zero",
          "month": "2014-09-01T00:00:00",
          "peak": 1525
         },
         {
          "game": "Counter-Strike: Condition Zero",
          "month": "2014-10-01T00:00:00",
          "peak": 1538
         },
         {
          "game": "Counter-Strike: Condition Zero",
          "month": "2014-11-01T00:00:00",
          "peak": 1711
         },
         {
          "game": "Counter-Strike: Condition Zero",
          "month": "2014-12-01T00:00:00",
          "peak": 1767
         },
         {
          "game": "Counter-Strike: Condition Zero",
          "month": "2015-01-01T00:00:00",
          "peak": 1638
         },
         {
          "game": "Counter-Strike: Condition Zero",
          "month": "2015-02-01T00:00:00",
          "peak": 1493
         },
         {
          "game": "Counter-Strike: Condition Zero",
          "month": "2015-03-01T00:00:00",
          "peak": 1448
         },
         {
          "game": "Counter-Strike: Condition Zero",
          "month": "2015-04-01T00:00:00",
          "peak": 1342
         },
         {
          "game": "Counter-Strike: Condition Zero",
          "month": "2015-05-01T00:00:00",
          "peak": 1312
         },
         {
          "game": "Counter-Strike: Condition Zero",
          "month": "2015-06-01T00:00:00",
          "peak": 1282
         },
         {
          "game": "Counter-Strike: Condition Zero",
          "month": "2015-07-01T00:00:00",
          "peak": 1204
         },
         {
          "game": "Counter-Strike: Condition Zero",
          "month": "2015-08-01T00:00:00",
          "peak": 1174
         },
         {
          "game": "Counter-Strike: Condition Zero",
          "month": "2015-09-01T00:00:00",
          "peak": 1207
         },
         {
          "game": "Counter-Strike: Condition Zero",
          "month": "2015-10-01T00:00:00",
          "peak": 1203
         },
         {
          "game": "Counter-Strike: Condition Zero",
          "month": "2015-11-01T00:00:00",
          "peak": 1316
         },
         {
          "game": "Counter-Strike: Condition Zero",
          "month": "2015-12-01T00:00:00",
          "peak": 1394
         },
         {
          "game": "Counter-Strike: Condition Zero",
          "month": "2016-01-01T00:00:00",
          "peak": 1500
         },
         {
          "game": "Counter-Strike: Condition Zero",
          "month": "2016-02-01T00:00:00",
          "peak": 1560
         },
         {
          "game": "Counter-Strike: Condition Zero",
          "month": "2016-03-01T00:00:00",
          "peak": 1383
         },
         {
          "game": "Counter-Strike: Condition Zero",
          "month": "2016-04-01T00:00:00",
          "peak": 1206
         },
         {
          "game": "Counter-Strike: Condition Zero",
          "month": "2016-05-01T00:00:00",
          "peak": 1186
         },
         {
          "game": "Counter-Strike: Condition Zero",
          "month": "2016-06-01T00:00:00",
          "peak": 1196
         },
         {
          "game": "Counter-Strike: Condition Zero",
          "month": "2016-07-01T00:00:00",
          "peak": 1070
         },
         {
          "game": "Counter-Strike: Condition Zero",
          "month": "2016-08-01T00:00:00",
          "peak": 988
         },
         {
          "game": "Counter-Strike: Condition Zero",
          "month": "2016-09-01T00:00:00",
          "peak": 1051
         },
         {
          "game": "Counter-Strike: Condition Zero",
          "month": "2016-10-01T00:00:00",
          "peak": 1124
         },
         {
          "game": "Counter-Strike: Condition Zero",
          "month": "2016-11-01T00:00:00",
          "peak": 1301
         },
         {
          "game": "Counter-Strike: Condition Zero",
          "month": "2016-12-01T00:00:00",
          "peak": 1357
         },
         {
          "game": "Counter-Strike: Condition Zero",
          "month": "2017-01-01T00:00:00",
          "peak": 1387
         },
         {
          "game": "Counter-Strike: Condition Zero",
          "month": "2017-02-01T00:00:00",
          "peak": 1247
         },
         {
          "game": "Counter-Strike: Condition Zero",
          "month": "2017-03-01T00:00:00",
          "peak": 1269
         },
         {
          "game": "Counter-Strike: Condition Zero",
          "month": "2017-04-01T00:00:00",
          "peak": 1078
         },
         {
          "game": "Counter-Strike: Condition Zero",
          "month": "2017-05-01T00:00:00",
          "peak": 1059
         },
         {
          "game": "Counter-Strike: Condition Zero",
          "month": "2017-06-01T00:00:00",
          "peak": 1065
         },
         {
          "game": "Counter-Strike: Condition Zero",
          "month": "2017-07-01T00:00:00",
          "peak": 1090
         },
         {
          "game": "Counter-Strike: Condition Zero",
          "month": "2017-08-01T00:00:00",
          "peak": 1012
         },
         {
          "game": "Counter-Strike: Condition Zero",
          "month": "2017-09-01T00:00:00",
          "peak": 1012
         },
         {
          "game": "Counter-Strike: Condition Zero",
          "month": "2017-10-01T00:00:00",
          "peak": 1044
         },
         {
          "game": "Counter-Strike: Condition Zero",
          "month": "2017-11-01T00:00:00",
          "peak": 1418
         },
         {
          "game": "Counter-Strike: Condition Zero",
          "month": "2017-12-01T00:00:00",
          "peak": 1440
         },
         {
          "game": "Counter-Strike: Condition Zero",
          "month": "2018-01-01T00:00:00",
          "peak": 1394
         },
         {
          "game": "Counter-Strike: Condition Zero",
          "month": "2018-02-01T00:00:00",
          "peak": 1370
         },
         {
          "game": "Counter-Strike: Condition Zero",
          "month": "2018-03-01T00:00:00",
          "peak": 1187
         },
         {
          "game": "Counter-Strike: Condition Zero",
          "month": "2018-04-01T00:00:00",
          "peak": 999
         },
         {
          "game": "Counter-Strike: Condition Zero",
          "month": "2018-05-01T00:00:00",
          "peak": 934
         },
         {
          "game": "Counter-Strike: Condition Zero",
          "month": "2018-06-01T00:00:00",
          "peak": 1062
         },
         {
          "game": "Counter-Strike: Condition Zero",
          "month": "2018-07-01T00:00:00",
          "peak": 985
         },
         {
          "game": "Counter-Strike: Condition Zero",
          "month": "2018-08-01T00:00:00",
          "peak": 858
         },
         {
          "game": "Counter-Strike: Condition Zero",
          "month": "2018-09-01T00:00:00",
          "peak": 840
         },
         {
          "game": "Counter-Strike: Condition Zero",
          "month": "2018-10-01T00:00:00",
          "peak": 860
         },
         {
          "game": "Counter-Strike: Condition Zero",
          "month": "2018-11-01T00:00:00",
          "peak": 1069
         },
         {
          "game": "Counter-Strike: Condition Zero",
          "month": "2018-12-01T00:00:00",
          "peak": 1061
         },
         {
          "game": "Counter-Strike: Condition Zero",
          "month": "2019-01-01T00:00:00",
          "peak": 1013
         },
         {
          "game": "Counter-Strike: Condition Zero",
          "month": "2019-02-01T00:00:00",
          "peak": 969
         },
         {
          "game": "Counter-Strike: Condition Zero",
          "month": "2019-03-01T00:00:00",
          "peak": 905
         },
         {
          "game": "Counter-Strike: Condition Zero",
          "month": "2019-04-01T00:00:00",
          "peak": 845
         },
         {
          "game": "Counter-Strike: Condition Zero",
          "month": "2019-05-01T00:00:00",
          "peak": 811
         },
         {
          "game": "Counter-Strike: Condition Zero",
          "month": "2019-06-01T00:00:00",
          "peak": 793
         },
         {
          "game": "Counter-Strike: Condition Zero",
          "month": "2019-07-01T00:00:00",
          "peak": 767
         },
         {
          "game": "Counter-Strike: Condition Zero",
          "month": "2019-08-01T00:00:00",
          "peak": 681
         },
         {
          "game": "Counter-Strike: Condition Zero",
          "month": "2019-09-01T00:00:00",
          "peak": 696
         },
         {
          "game": "Counter-Strike: Condition Zero",
          "month": "2019-10-01T00:00:00",
          "peak": 709
         },
         {
          "game": "Counter-Strike: Condition Zero",
          "month": "2019-11-01T00:00:00",
          "peak": 746
         },
         {
          "game": "Counter-Strike: Condition Zero",
          "month": "2019-12-01T00:00:00",
          "peak": 819
         },
         {
          "game": "Counter-Strike: Condition Zero",
          "month": "2020-01-01T00:00:00",
          "peak": 791
         },
         {
          "game": "Counter-Strike: Condition Zero",
          "month": "2020-02-01T00:00:00",
          "peak": 729
         },
         {
          "game": "Counter-Strike: Condition Zero",
          "month": "2020-03-01T00:00:00",
          "peak": 1576
         },
         {
          "game": "Counter-Strike: Condition Zero",
          "month": "2020-04-01T00:00:00",
          "peak": 1531
         },
         {
          "game": "Counter-Strike: Condition Zero",
          "month": "2020-05-01T00:00:00",
          "peak": 1358
         },
         {
          "game": "Counter-Strike: Condition Zero",
          "month": "2020-06-01T00:00:00",
          "peak": 929
         },
         {
          "game": "Counter-Strike: Condition Zero",
          "month": "2020-07-01T00:00:00",
          "peak": 921
         },
         {
          "game": "Counter-Strike: Condition Zero",
          "month": "2020-08-01T00:00:00",
          "peak": 740
         },
         {
          "game": "Counter-Strike: Condition Zero",
          "month": "2020-09-01T00:00:00",
          "peak": 694
         },
         {
          "game": "Counter-Strike: Condition Zero",
          "month": "2020-10-01T00:00:00",
          "peak": 726
         },
         {
          "game": "Counter-Strike: Condition Zero",
          "month": "2020-11-01T00:00:00",
          "peak": 844
         },
         {
          "game": "Counter-Strike: Condition Zero",
          "month": "2020-12-01T00:00:00",
          "peak": 908
         },
         {
          "game": "Counter-Strike: Condition Zero",
          "month": "2021-01-01T00:00:00",
          "peak": 947
         },
         {
          "game": "Counter-Strike: Condition Zero",
          "month": "2021-02-01T00:00:00",
          "peak": 852
         },
         {
          "game": "Counter-Strike: Condition Zero",
          "month": "2021-03-01T00:00:00",
          "peak": 806
         },
         {
          "game": "Counter-Strike: Condition Zero",
          "month": "2021-04-01T00:00:00",
          "peak": 776
         },
         {
          "game": "Counter-Strike: Condition Zero",
          "month": "2021-05-01T00:00:00",
          "peak": 752
         },
         {
          "game": "Counter-Strike: Condition Zero",
          "month": "2021-06-01T00:00:00",
          "peak": 683
         },
         {
          "game": "Counter-Strike: Condition Zero",
          "month": "2021-07-01T00:00:00",
          "peak": 649
         },
         {
          "game": "Counter-Strike: Condition Zero",
          "month": "2021-08-01T00:00:00",
          "peak": 583
         },
         {
          "game": "Counter-Strike: Condition Zero",
          "month": "2021-09-01T00:00:00",
          "peak": 582
         },
         {
          "game": "Counter-Strike: Condition Zero",
          "month": "2021-10-01T00:00:00",
          "peak": 587
         },
         {
          "game": "Counter-Strike: Condition Zero",
          "month": "2021-11-01T00:00:00",
          "peak": 640
         },
         {
          "game": "Counter-Strike: Condition Zero",
          "month": "2021-12-01T00:00:00",
          "peak": 686
         },
         {
          "game": "Counter-Strike: Condition Zero",
          "month": "2022-01-01T00:00:00",
          "peak": 697
         },
         {
          "game": "Counter-Strike: Condition Zero",
          "month": "2022-02-01T00:00:00",
          "peak": 677
         },
         {
          "game": "Counter-Strike: Condition Zero",
          "month": "2022-03-01T00:00:00",
          "peak": 613
         },
         {
          "game": "Counter-Strike: Condition Zero",
          "month": "2022-04-01T00:00:00",
          "peak": 584
         },
         {
          "game": "Counter-Strike: Condition Zero",
          "month": "2022-05-01T00:00:00",
          "peak": 524
         },
         {
          "game": "Counter-Strike: Condition Zero",
          "month": "2022-06-01T00:00:00",
          "peak": 542
         },
         {
          "game": "Counter-Strike: Condition Zero",
          "month": "2022-07-01T00:00:00",
          "peak": 525
         },
         {
          "game": "Counter-Strike: Condition Zero",
          "month": "2022-08-01T00:00:00",
          "peak": 491
         },
         {
          "game": "Counter-Strike: Condition Zero",
          "month": "2022-09-01T00:00:00",
          "peak": 495
         },
         {
          "game": "Counter-Strike: Condition Zero",
          "month": "2022-10-01T00:00:00",
          "peak": 527
         },
         {
          "game": "Counter-Strike: Condition Zero",
          "month": "2022-11-01T00:00:00",
          "peak": 735
         },
         {
          "game": "Counter-Strike: Condition Zero",
          "month": "2022-12-01T00:00:00",
          "peak": 718
         },
         {
          "game": "Counter-Strike: Condition Zero",
          "month": "2023-01-01T00:00:00",
          "peak": 719
         },
         {
          "game": "Counter-Strike: Condition Zero",
          "month": "2023-02-01T00:00:00",
          "peak": 635
         },
         {
          "game": "Counter-Strike: Condition Zero",
          "month": "2023-03-01T00:00:00",
          "peak": 708
         },
         {
          "game": "Counter-Strike: Condition Zero",
          "month": "2023-04-01T00:00:00",
          "peak": 668
         },
         {
          "game": "Counter-Strike: Condition Zero",
          "month": "2023-05-01T00:00:00",
          "peak": 556
         },
         {
          "game": "Counter-Strike: Condition Zero",
          "month": "2023-06-01T00:00:00",
          "peak": 648
         },
         {
          "game": "Counter-Strike: Condition Zero",
          "month": "2023-07-01T00:00:00",
          "peak": 621
         },
         {
          "game": "Counter-Strike: Condition Zero",
          "month": "2023-08-01T00:00:00",
          "peak": 521
         },
         {
          "game": "Counter-Strike: Condition Zero",
          "month": "2023-09-01T00:00:00",
          "peak": 630
         },
         {
          "game": "Counter-Strike: Condition Zero",
          "month": "2023-10-01T00:00:00",
          "peak": 601
         },
         {
          "game": "Counter-Strike: Condition Zero",
          "month": "2023-11-01T00:00:00",
          "peak": 578
         },
         {
          "game": "Counter-Strike: Condition Zero",
          "month": "2023-12-01T00:00:00",
          "peak": 638
         },
         {
          "game": "Counter-Strike: Condition Zero",
          "month": "2024-01-01T00:00:00",
          "peak": 617
         },
         {
          "game": "Counter-Strike: Condition Zero",
          "month": "2024-02-01T00:00:00",
          "peak": 566
         },
         {
          "game": "Counter-Strike: Condition Zero",
          "month": "2024-03-01T00:00:00",
          "peak": 606
         },
         {
          "game": "Counter-Strike: Condition Zero",
          "month": "2024-04-01T00:00:00",
          "peak": 540
         },
         {
          "game": "Counter-Strike: Condition Zero",
          "month": "2024-05-01T00:00:00",
          "peak": 505
         },
         {
          "game": "Counter-Strike: Condition Zero",
          "month": "2024-06-01T00:00:00",
          "peak": 584
         },
         {
          "game": "Counter-Strike: Condition Zero",
          "month": "2024-07-01T00:00:00",
          "peak": 599
         },
         {
          "game": "Counter-Strike: Condition Zero",
          "month": "2024-08-01T00:00:00",
          "peak": 535
         },
         {
          "game": "Counter-Strike: Condition Zero",
          "month": "2024-09-01T00:00:00",
          "peak": 552
         },
         {
          "game": "Counter-Strike: Condition Zero",
          "month": "2024-10-01T00:00:00",
          "peak": 591
         },
         {
          "game": "Counter-Strike: Condition Zero",
          "month": "2024-11-01T00:00:00",
          "peak": 637
         },
         {
          "game": "Counter-Strike: Condition Zero",
          "month": "2024-12-01T00:00:00",
          "peak": 747
         },
         {
          "game": "Counter-Strike: Condition Zero",
          "month": "2025-01-01T00:00:00",
          "peak": 673
         },
         {
          "game": "Counter-Strike: Condition Zero",
          "month": "2025-02-01T00:00:00",
          "peak": 642
         },
         {
          "game": "Counter-Strike: Condition Zero",
          "month": "2025-03-01T00:00:00",
          "peak": 644
         },
         {
          "game": "Counter-Strike: Condition Zero",
          "month": "2025-04-01T00:00:00",
          "peak": 616
         },
         {
          "game": "Counter-Strike: Condition Zero",
          "month": "2025-05-01T00:00:00",
          "peak": 580
         },
         {
          "game": "Counter-Strike: Condition Zero",
          "month": "2025-06-01T00:00:00",
          "peak": 559
         },
         {
          "game": "Counter-Strike: Condition Zero",
          "month": "2025-07-01T00:00:00",
          "peak": 588
         },
         {
          "game": "Counter-Strike: Condition Zero",
          "month": "2025-08-01T00:00:00",
          "peak": 557
         },
         {
          "game": "Counter-Strike: Global Offensive",
          "month": "2011-11-01T00:00:00",
          "peak": 680
         },
         {
          "game": "Counter-Strike: Global Offensive",
          "month": "2012-02-01T00:00:00",
          "peak": 204
         },
         {
          "game": "Counter-Strike: Global Offensive",
          "month": "2012-03-01T00:00:00",
          "peak": 1263
         },
         {
          "game": "Counter-Strike: Global Offensive",
          "month": "2012-04-01T00:00:00",
          "peak": 1899
         },
         {
          "game": "Counter-Strike: Global Offensive",
          "month": "2012-05-01T00:00:00",
          "peak": 2919
         },
         {
          "game": "Counter-Strike: Global Offensive",
          "month": "2012-06-01T00:00:00",
          "peak": 2732
         },
         {
          "game": "Counter-Strike: Global Offensive",
          "month": "2012-07-01T00:00:00",
          "peak": 52261
         },
         {
          "game": "Counter-Strike: Global Offensive",
          "month": "2012-08-01T00:00:00",
          "peak": 52596
         },
         {
          "game": "Counter-Strike: Global Offensive",
          "month": "2012-09-01T00:00:00",
          "peak": 36870
         },
         {
          "game": "Counter-Strike: Global Offensive",
          "month": "2012-10-01T00:00:00",
          "peak": 50533
         },
         {
          "game": "Counter-Strike: Global Offensive",
          "month": "2012-11-01T00:00:00",
          "peak": 50533
         },
         {
          "game": "Counter-Strike: Global Offensive",
          "month": "2012-12-01T00:00:00",
          "peak": 31359
         },
         {
          "game": "Counter-Strike: Global Offensive",
          "month": "2013-01-01T00:00:00",
          "peak": 35238
         },
         {
          "game": "Counter-Strike: Global Offensive",
          "month": "2013-02-01T00:00:00",
          "peak": 35597
         },
         {
          "game": "Counter-Strike: Global Offensive",
          "month": "2013-03-01T00:00:00",
          "peak": 32414
         },
         {
          "game": "Counter-Strike: Global Offensive",
          "month": "2013-04-01T00:00:00",
          "peak": 53379
         },
         {
          "game": "Counter-Strike: Global Offensive",
          "month": "2013-05-01T00:00:00",
          "peak": 53381
         },
         {
          "game": "Counter-Strike: Global Offensive",
          "month": "2013-06-01T00:00:00",
          "peak": 42149
         },
         {
          "game": "Counter-Strike: Global Offensive",
          "month": "2013-07-01T00:00:00",
          "peak": 50511
         },
         {
          "game": "Counter-Strike: Global Offensive",
          "month": "2013-08-01T00:00:00",
          "peak": 52052
         },
         {
          "game": "Counter-Strike: Global Offensive",
          "month": "2013-09-01T00:00:00",
          "peak": 53263
         },
         {
          "game": "Counter-Strike: Global Offensive",
          "month": "2013-10-01T00:00:00",
          "peak": 92279
         },
         {
          "game": "Counter-Strike: Global Offensive",
          "month": "2013-11-01T00:00:00",
          "peak": 96298
         },
         {
          "game": "Counter-Strike: Global Offensive",
          "month": "2013-12-01T00:00:00",
          "peak": 102084
         },
         {
          "game": "Counter-Strike: Global Offensive",
          "month": "2014-01-01T00:00:00",
          "peak": 119764
         },
         {
          "game": "Counter-Strike: Global Offensive",
          "month": "2014-02-01T00:00:00",
          "peak": 164495
         },
         {
          "game": "Counter-Strike: Global Offensive",
          "month": "2014-03-01T00:00:00",
          "peak": 164781
         },
         {
          "game": "Counter-Strike: Global Offensive",
          "month": "2014-04-01T00:00:00",
          "peak": 170137
         },
         {
          "game": "Counter-Strike: Global Offensive",
          "month": "2014-05-01T00:00:00",
          "peak": 173629
         },
         {
          "game": "Counter-Strike: Global Offensive",
          "month": "2014-06-01T00:00:00",
          "peak": 194016
         },
         {
          "game": "Counter-Strike: Global Offensive",
          "month": "2014-07-01T00:00:00",
          "peak": 277192
         },
         {
          "game": "Counter-Strike: Global Offensive",
          "month": "2014-08-01T00:00:00",
          "peak": 275014
         },
         {
          "game": "Counter-Strike: Global Offensive",
          "month": "2014-09-01T00:00:00",
          "peak": 260613
         },
         {
          "game": "Counter-Strike: Global Offensive",
          "month": "2014-10-01T00:00:00",
          "peak": 348018
         },
         {
          "game": "Counter-Strike: Global Offensive",
          "month": "2014-11-01T00:00:00",
          "peak": 367634
         },
         {
          "game": "Counter-Strike: Global Offensive",
          "month": "2014-12-01T00:00:00",
          "peak": 443188
         },
         {
          "game": "Counter-Strike: Global Offensive",
          "month": "2015-01-01T00:00:00",
          "peak": 455508
         },
         {
          "game": "Counter-Strike: Global Offensive",
          "month": "2015-02-01T00:00:00",
          "peak": 595439
         },
         {
          "game": "Counter-Strike: Global Offensive",
          "month": "2015-03-01T00:00:00",
          "peak": 568556
         },
         {
          "game": "Counter-Strike: Global Offensive",
          "month": "2015-04-01T00:00:00",
          "peak": 569848
         },
         {
          "game": "Counter-Strike: Global Offensive",
          "month": "2015-05-01T00:00:00",
          "peak": 681170
         },
         {
          "game": "Counter-Strike: Global Offensive",
          "month": "2015-06-01T00:00:00",
          "peak": 611284
         },
         {
          "game": "Counter-Strike: Global Offensive",
          "month": "2015-07-01T00:00:00",
          "peak": 546142
         },
         {
          "game": "Counter-Strike: Global Offensive",
          "month": "2015-08-01T00:00:00",
          "peak": 819902
         },
         {
          "game": "Counter-Strike: Global Offensive",
          "month": "2015-09-01T00:00:00",
          "peak": 725939
         },
         {
          "game": "Counter-Strike: Global Offensive",
          "month": "2015-10-01T00:00:00",
          "peak": 786707
         },
         {
          "game": "Counter-Strike: Global Offensive",
          "month": "2015-11-01T00:00:00",
          "peak": 691930
         },
         {
          "game": "Counter-Strike: Global Offensive",
          "month": "2015-12-01T00:00:00",
          "peak": 823694
         },
         {
          "game": "Counter-Strike: Global Offensive",
          "month": "2016-01-01T00:00:00",
          "peak": 667432
         },
         {
          "game": "Counter-Strike: Global Offensive",
          "month": "2016-02-01T00:00:00",
          "peak": 738969
         },
         {
          "game": "Counter-Strike: Global Offensive",
          "month": "2016-03-01T00:00:00",
          "peak": 800869
         },
         {
          "game": "Counter-Strike: Global Offensive",
          "month": "2016-04-01T00:00:00",
          "peak": 850485
         },
         {
          "game": "Counter-Strike: Global Offensive",
          "month": "2016-05-01T00:00:00",
          "peak": 638088
         },
         {
          "game": "Counter-Strike: Global Offensive",
          "month": "2016-06-01T00:00:00",
          "peak": 579110
         },
         {
          "game": "Counter-Strike: Global Offensive",
          "month": "2016-07-01T00:00:00",
          "peak": 636056
         },
         {
          "game": "Counter-Strike: Global Offensive",
          "month": "2016-08-01T00:00:00",
          "peak": 599095
         },
         {
          "game": "Counter-Strike: Global Offensive",
          "month": "2016-09-01T00:00:00",
          "peak": 638360
         },
         {
          "game": "Counter-Strike: Global Offensive",
          "month": "2016-10-01T00:00:00",
          "peak": 661985
         },
         {
          "game": "Counter-Strike: Global Offensive",
          "month": "2016-11-01T00:00:00",
          "peak": 627124
         },
         {
          "game": "Counter-Strike: Global Offensive",
          "month": "2016-12-01T00:00:00",
          "peak": 662460
         },
         {
          "game": "Counter-Strike: Global Offensive",
          "month": "2017-01-01T00:00:00",
          "peak": 814616
         },
         {
          "game": "Counter-Strike: Global Offensive",
          "month": "2017-02-01T00:00:00",
          "peak": 744468
         },
         {
          "game": "Counter-Strike: Global Offensive",
          "month": "2017-03-01T00:00:00",
          "peak": 742356
         },
         {
          "game": "Counter-Strike: Global Offensive",
          "month": "2017-04-01T00:00:00",
          "peak": 695235
         },
         {
          "game": "Counter-Strike: Global Offensive",
          "month": "2017-05-01T00:00:00",
          "peak": 697189
         },
         {
          "game": "Counter-Strike: Global Offensive",
          "month": "2017-06-01T00:00:00",
          "peak": 614621
         },
         {
          "game": "Counter-Strike: Global Offensive",
          "month": "2017-07-01T00:00:00",
          "peak": 640277
         },
         {
          "game": "Counter-Strike: Global Offensive",
          "month": "2017-08-01T00:00:00",
          "peak": 598656
         },
         {
          "game": "Counter-Strike: Global Offensive",
          "month": "2017-09-01T00:00:00",
          "peak": 681413
         },
         {
          "game": "Counter-Strike: Global Offensive",
          "month": "2017-10-01T00:00:00",
          "peak": 644082
         },
         {
          "game": "Counter-Strike: Global Offensive",
          "month": "2017-11-01T00:00:00",
          "peak": 602797
         },
         {
          "game": "Counter-Strike: Global Offensive",
          "month": "2017-12-01T00:00:00",
          "peak": 601351
         },
         {
          "game": "Counter-Strike: Global Offensive",
          "month": "2018-01-01T00:00:00",
          "peak": 719298
         },
         {
          "game": "Counter-Strike: Global Offensive",
          "month": "2018-02-01T00:00:00",
          "peak": 691196
         },
         {
          "game": "Counter-Strike: Global Offensive",
          "month": "2018-03-01T00:00:00",
          "peak": 674462
         },
         {
          "game": "Counter-Strike: Global Offensive",
          "month": "2018-04-01T00:00:00",
          "peak": 523827
         },
         {
          "game": "Counter-Strike: Global Offensive",
          "month": "2018-05-01T00:00:00",
          "peak": 454436
         },
         {
          "game": "Counter-Strike: Global Offensive",
          "month": "2018-06-01T00:00:00",
          "peak": 422310
         },
         {
          "game": "Counter-Strike: Global Offensive",
          "month": "2018-07-01T00:00:00",
          "peak": 429650
         },
         {
          "game": "Counter-Strike: Global Offensive",
          "month": "2018-08-01T00:00:00",
          "peak": 456907
         },
         {
          "game": "Counter-Strike: Global Offensive",
          "month": "2018-09-01T00:00:00",
          "peak": 587639
         },
         {
          "game": "Counter-Strike: Global Offensive",
          "month": "2018-10-01T00:00:00",
          "peak": 567916
         },
         {
          "game": "Counter-Strike: Global Offensive",
          "month": "2018-11-01T00:00:00",
          "peak": 546192
         },
         {
          "game": "Counter-Strike: Global Offensive",
          "month": "2018-12-01T00:00:00",
          "peak": 749638
         },
         {
          "game": "Counter-Strike: Global Offensive",
          "month": "2019-01-01T00:00:00",
          "peak": 687299
         },
         {
          "game": "Counter-Strike: Global Offensive",
          "month": "2019-02-01T00:00:00",
          "peak": 656097
         },
         {
          "game": "Counter-Strike: Global Offensive",
          "month": "2019-03-01T00:00:00",
          "peak": 683952
         },
         {
          "game": "Counter-Strike: Global Offensive",
          "month": "2019-04-01T00:00:00",
          "peak": 622852
         },
         {
          "game": "Counter-Strike: Global Offensive",
          "month": "2019-05-01T00:00:00",
          "peak": 592848
         },
         {
          "game": "Counter-Strike: Global Offensive",
          "month": "2019-06-01T00:00:00",
          "peak": 591839
         },
         {
          "game": "Counter-Strike: Global Offensive",
          "month": "2019-07-01T00:00:00",
          "peak": 579696
         },
         {
          "game": "Counter-Strike: Global Offensive",
          "month": "2019-08-01T00:00:00",
          "peak": 659195
         },
         {
          "game": "Counter-Strike: Global Offensive",
          "month": "2019-09-01T00:00:00",
          "peak": 723700
         },
         {
          "game": "Counter-Strike: Global Offensive",
          "month": "2019-10-01T00:00:00",
          "peak": 754909
         },
         {
          "game": "Counter-Strike: Global Offensive",
          "month": "2019-11-01T00:00:00",
          "peak": 764438
         },
         {
          "game": "Counter-Strike: Global Offensive",
          "month": "2019-12-01T00:00:00",
          "peak": 771640
         },
         {
          "game": "Counter-Strike: Global Offensive",
          "month": "2020-01-01T00:00:00",
          "peak": 822490
         },
         {
          "game": "Counter-Strike: Global Offensive",
          "month": "2020-02-01T00:00:00",
          "peak": 933748
         },
         {
          "game": "Counter-Strike: Global Offensive",
          "month": "2020-03-01T00:00:00",
          "peak": 1226724
         },
         {
          "game": "Counter-Strike: Global Offensive",
          "month": "2020-04-01T00:00:00",
          "peak": 1308963
         },
         {
          "game": "Counter-Strike: Global Offensive",
          "month": "2020-05-01T00:00:00",
          "peak": 1179111
         },
         {
          "game": "Counter-Strike: Global Offensive",
          "month": "2020-06-01T00:00:00",
          "peak": 957636
         },
         {
          "game": "Counter-Strike: Global Offensive",
          "month": "2020-07-01T00:00:00",
          "peak": 861948
         },
         {
          "game": "Counter-Strike: Global Offensive",
          "month": "2020-08-01T00:00:00",
          "peak": 932283
         },
         {
          "game": "Counter-Strike: Global Offensive",
          "month": "2020-09-01T00:00:00",
          "peak": 980879
         },
         {
          "game": "Counter-Strike: Global Offensive",
          "month": "2020-10-01T00:00:00",
          "peak": 951748
         },
         {
          "game": "Counter-Strike: Global Offensive",
          "month": "2020-11-01T00:00:00",
          "peak": 1040051
         },
         {
          "game": "Counter-Strike: Global Offensive",
          "month": "2020-12-01T00:00:00",
          "peak": 1169661
         },
         {
          "game": "Counter-Strike: Global Offensive",
          "month": "2021-01-01T00:00:00",
          "peak": 1125411
         },
         {
          "game": "Counter-Strike: Global Offensive",
          "month": "2021-02-01T00:00:00",
          "peak": 1125838
         },
         {
          "game": "Counter-Strike: Global Offensive",
          "month": "2021-03-01T00:00:00",
          "peak": 1201993
         },
         {
          "game": "Counter-Strike: Global Offensive",
          "month": "2021-04-01T00:00:00",
          "peak": 1150982
         },
         {
          "game": "Counter-Strike: Global Offensive",
          "month": "2021-05-01T00:00:00",
          "peak": 1088168
         },
         {
          "game": "Counter-Strike: Global Offensive",
          "month": "2021-06-01T00:00:00",
          "peak": 929940
         },
         {
          "game": "Counter-Strike: Global Offensive",
          "month": "2021-07-01T00:00:00",
          "peak": 766510
         },
         {
          "game": "Counter-Strike: Global Offensive",
          "month": "2021-08-01T00:00:00",
          "peak": 804133
         },
         {
          "game": "Counter-Strike: Global Offensive",
          "month": "2021-09-01T00:00:00",
          "peak": 949817
         },
         {
          "game": "Counter-Strike: Global Offensive",
          "month": "2021-10-01T00:00:00",
          "peak": 866030
         },
         {
          "game": "Counter-Strike: Global Offensive",
          "month": "2021-11-01T00:00:00",
          "peak": 944330
         },
         {
          "game": "Counter-Strike: Global Offensive",
          "month": "2021-12-01T00:00:00",
          "peak": 950586
         },
         {
          "game": "Counter-Strike: Global Offensive",
          "month": "2022-01-01T00:00:00",
          "peak": 992455
         },
         {
          "game": "Counter-Strike: Global Offensive",
          "month": "2022-02-01T00:00:00",
          "peak": 997730
         },
         {
          "game": "Counter-Strike: Global Offensive",
          "month": "2022-03-01T00:00:00",
          "peak": 993808
         },
         {
          "game": "Counter-Strike: Global Offensive",
          "month": "2022-04-01T00:00:00",
          "peak": 1016762
         },
         {
          "game": "Counter-Strike: Global Offensive",
          "month": "2022-05-01T00:00:00",
          "peak": 932681
         },
         {
          "game": "Counter-Strike: Global Offensive",
          "month": "2022-06-01T00:00:00",
          "peak": 906968
         },
         {
          "game": "Counter-Strike: Global Offensive",
          "month": "2022-07-01T00:00:00",
          "peak": 928329
         },
         {
          "game": "Counter-Strike: Global Offensive",
          "month": "2022-08-01T00:00:00",
          "peak": 1039889
         },
         {
          "game": "Counter-Strike: Global Offensive",
          "month": "2022-09-01T00:00:00",
          "peak": 1103223
         },
         {
          "game": "Counter-Strike: Global Offensive",
          "month": "2022-10-01T00:00:00",
          "peak": 1090858
         },
         {
          "game": "Counter-Strike: Global Offensive",
          "month": "2022-11-01T00:00:00",
          "peak": 1132952
         },
         {
          "game": "Counter-Strike: Global Offensive",
          "month": "2022-12-01T00:00:00",
          "peak": 1067327
         },
         {
          "game": "Counter-Strike: Global Offensive",
          "month": "2023-01-01T00:00:00",
          "peak": 1200077
         },
         {
          "game": "Counter-Strike: Global Offensive",
          "month": "2023-02-01T00:00:00",
          "peak": 1355797
         },
         {
          "game": "Counter-Strike: Global Offensive",
          "month": "2023-03-01T00:00:00",
          "peak": 1519457
         },
         {
          "game": "Counter-Strike: Global Offensive",
          "month": "2023-04-01T00:00:00",
          "peak": 1514410
         },
         {
          "game": "Counter-Strike: Global Offensive",
          "month": "2023-05-01T00:00:00",
          "peak": 1818773
         },
         {
          "game": "Counter-Strike: Global Offensive",
          "month": "2023-06-01T00:00:00",
          "peak": 1673717
         },
         {
          "game": "Counter-Strike: Global Offensive",
          "month": "2023-07-01T00:00:00",
          "peak": 1226527
         },
         {
          "game": "Counter-Strike: Global Offensive",
          "month": "2023-08-01T00:00:00",
          "peak": 1539504
         },
         {
          "game": "Counter-Strike 2",
          "month": "2023-09-01T00:00:00",
          "peak": 1560435
         },
         {
          "game": "Counter-Strike 2",
          "month": "2023-10-01T00:00:00",
          "peak": 1392488
         },
         {
          "game": "Counter-Strike 2",
          "month": "2023-11-01T00:00:00",
          "peak": 1163388
         },
         {
          "game": "Counter-Strike 2",
          "month": "2023-12-01T00:00:00",
          "peak": 1255172
         },
         {
          "game": "Counter-Strike 2",
          "month": "2024-01-01T00:00:00",
          "peak": 1312422
         },
         {
          "game": "Counter-Strike 2",
          "month": "2024-02-01T00:00:00",
          "peak": 1403250
         },
         {
          "game": "Counter-Strike 2",
          "month": "2024-03-01T00:00:00",
          "peak": 1525069
         },
         {
          "game": "Counter-Strike 2",
          "month": "2024-04-01T00:00:00",
          "peak": 1618685
         },
         {
          "game": "Counter-Strike 2",
          "month": "2024-05-01T00:00:00",
          "peak": 1631616
         },
         {
          "game": "Counter-Strike 2",
          "month": "2024-06-01T00:00:00",
          "peak": 1525896
         },
         {
          "game": "Counter-Strike 2",
          "month": "2024-07-01T00:00:00",
          "peak": 1347502
         },
         {
          "game": "Counter-Strike 2",
          "month": "2024-08-01T00:00:00",
          "peak": 1426478
         },
         {
          "game": "Counter-Strike 2",
          "month": "2024-09-01T00:00:00",
          "peak": 1482529
         },
         {
          "game": "Counter-Strike 2",
          "month": "2024-10-01T00:00:00",
          "peak": 1498661
         },
         {
          "game": "Counter-Strike 2",
          "month": "2024-11-01T00:00:00",
          "peak": 1562206
         },
         {
          "game": "Counter-Strike 2",
          "month": "2024-12-01T00:00:00",
          "peak": 1740261
         },
         {
          "game": "Counter-Strike 2",
          "month": "2025-01-01T00:00:00",
          "peak": 1604641
         },
         {
          "game": "Counter-Strike 2",
          "month": "2025-02-01T00:00:00",
          "peak": 1789374
         },
         {
          "game": "Counter-Strike 2",
          "month": "2025-03-01T00:00:00",
          "peak": 1824989
         },
         {
          "game": "Counter-Strike 2",
          "month": "2025-04-01T00:00:00",
          "peak": 1862531
         },
         {
          "game": "Counter-Strike 2",
          "month": "2025-05-01T00:00:00",
          "peak": 1722301
         },
         {
          "game": "Counter-Strike 2",
          "month": "2025-06-01T00:00:00",
          "peak": 1732079
         },
         {
          "game": "Counter-Strike 2",
          "month": "2025-07-01T00:00:00",
          "peak": 1433826
         },
         {
          "game": "Counter-Strike 2",
          "month": "2025-08-01T00:00:00",
          "peak": 1505419
         }
        ]
       },
       "encoding": {
        "color": {
         "field": "game",
         "scale": {
          "domain": [
           "All Counter-Strike (aggregate)",
           "Counter-Strike (1.6)",
           "Counter-Strike: Condition Zero",
           "Counter-Strike: Source",
           "Counter-Strike: Global Offensive",
           "Counter-Strike 2"
          ],
          "range": [
           "#0057B8",
           "#009E73",
           "#7F7F7F",
           "#56B4E9",
           "#D55E00",
           "#CC79A7"
          ]
         },
         "title": "Game/Version",
         "type": "nominal"
        },
        "tooltip": [
         {
          "field": "game",
          "type": "nominal"
         },
         {
          "field": "month",
          "type": "temporal"
         },
         {
          "field": "peak",
          "type": "quantitative"
         }
        ],
        "x": {
         "field": "month",
         "title": "Month",
         "type": "temporal"
        },
        "y": {
         "field": "peak",
         "title": "Peak players",
         "type": "quantitative"
        }
       },
       "height": 450,
       "mark": {
        "type": "line"
       },
       "params": [
        {
         "bind": "scales",
         "name": "param_1",
         "select": {
          "encodings": [
           "x",
           "y"
          ],
          "type": "interval"
         }
        }
       ],
       "title": "Counter-Strike Playerbase Over Time",
       "usermeta": {
        "embedOptions": {
         "theme": "fivethirtyeight"
        }
       },
       "width": 950
      },
      "text/plain": [
       "<VegaLite 5 object>\n",
       "\n",
       "If you see this message, it means the renderer has not been properly enabled\n",
       "for the frontend that you are using. For more information, see\n",
       "https://altair-viz.github.io/user_guide/display_frontends.html#troubleshooting\n"
      ]
     },
     "execution_count": 33,
     "metadata": {},
     "output_type": "execute_result"
    }
   ],
   "source": [
    "series = {\n",
    "    \"All Counter-Strike (aggregate)\": SteamDB_merged_grouped,\n",
    "    \"Counter-Strike (1.6)\": cs_data,\n",
    "    \"Counter-Strike: Source\": css_data,\n",
    "    \"Counter-Strike: Condition Zero\": cscz_data,\n",
    "    \"Counter-Strike: Global Offensive\": csgo_data,\n",
    "    \"Counter-Strike 2\": cs2_data,\n",
    "}\n",
    "\n",
    "colors = {\n",
    "    \"All Counter-Strike (aggregate)\":  \"#0057B8\",  # deep royal blue (highlighted)\n",
    "    \"Counter-Strike (1.6)\":            \"#009E73\",  # green\n",
    "    \"Counter-Strike: Condition Zero\":  \"#7F7F7F\",  # medium gray (subtle)\n",
    "    \"Counter-Strike: Source\":          \"#56B4E9\",  # sky blue\n",
    "    \"Counter-Strike: Global Offensive\":\"#D55E00\",  # vermillion (strong contrast vs blue)\n",
    "    \"Counter-Strike 2\":                \"#CC79A7\",  # magenta\n",
    "}\n",
    "\n",
    "order = [\n",
    "    \"All Counter-Strike (aggregate)\",\n",
    "    \"Counter-Strike (1.6)\",\n",
    "    \"Counter-Strike: Condition Zero\",\n",
    "    \"Counter-Strike: Source\",\n",
    "    \"Counter-Strike: Global Offensive\",\n",
    "    \"Counter-Strike 2\",\n",
    "]\n",
    "\n",
    "def parse_month_col(df):\n",
    "    df = df.copy()\n",
    "    # Handles 'Jan 2025' or 'Jan-25'\n",
    "    df[\"month\"] = pd.to_datetime(df[\"month\"], errors=\"coerce\", format=\"%b %Y\")\n",
    "    mask = df[\"month\"].isna()\n",
    "    if mask.any():\n",
    "        df.loc[mask, \"month\"] = pd.to_datetime(df.loc[mask, \"month\"], errors=\"coerce\", format=\"%b-%y\")\n",
    "    return df.dropna(subset=[\"month\", \"peak\"])\n",
    "\n",
    "# Combine all series into one tidy DataFrame\n",
    "frames = []\n",
    "for name, df in series.items():\n",
    "    clean = parse_month_col(df)\n",
    "    clean = clean.sort_values(\"month\")\n",
    "    clean[\"game\"] = name\n",
    "    frames.append(clean[[\"month\", \"peak\", \"game\"]])\n",
    "\n",
    "combined = pd.concat(frames, ignore_index=True)\n",
    "\n",
    "# Build Altair chart\n",
    "chart = (\n",
    "    alt.Chart(combined)\n",
    "    .mark_line()\n",
    "    .encode(\n",
    "        x=alt.X(\"month:T\", title=\"Month\"),\n",
    "        y=alt.Y(\"peak:Q\", title=\"Peak players\"),\n",
    "        color=alt.Color(\"game:N\", title=\"Game/Version\", scale=alt.Scale(domain=order, range=[colors[k] for k in order])),\n",
    "        tooltip=[\"game\", \"month\", \"peak\"],\n",
    "    )\n",
    "    .properties(width=950, height=450, title=\"Counter-Strike Playerbase Over Time\")\n",
    "    .interactive()\n",
    ")\n",
    "\n",
    "chart"
   ]
  },
  {
   "cell_type": "code",
   "execution_count": null,
   "id": "9da2212f",
   "metadata": {},
   "outputs": [],
   "source": []
  }
 ],
 "metadata": {
  "kernelspec": {
   "display_name": ".venv",
   "language": "python",
   "name": "python3"
  },
  "language_info": {
   "codemirror_mode": {
    "name": "ipython",
    "version": 3
   },
   "file_extension": ".py",
   "mimetype": "text/x-python",
   "name": "python",
   "nbconvert_exporter": "python",
   "pygments_lexer": "ipython3",
   "version": "3.12.3"
  }
 },
 "nbformat": 4,
 "nbformat_minor": 5
}
