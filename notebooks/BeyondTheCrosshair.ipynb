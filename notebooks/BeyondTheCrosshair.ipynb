{
 "cells": [
  {
   "cell_type": "markdown",
   "id": "aa97259c",
   "metadata": {},
   "source": [
    "# Beyond The Crosshair"
   ]
  },
  {
   "cell_type": "code",
   "execution_count": null,
   "metadata": {},
   "outputs": [
    {
     "data": {
      "text/plain": [
       "RendererRegistry.enable('mimetype')"
      ]
     },
     "execution_count": 2,
     "metadata": {},
     "output_type": "execute_result"
    }
   ],
   "source": [
    "import pandas as pd\n",
    "import numpy as np\n",
    "import altair as alt\n",
    "\n",
    "alt.data_transformers.enable(\"default\", max_rows=None)\n",
    "alt.renderers.enable(\"mimetype\")"
   ]
  },
  {
   "cell_type": "markdown",
   "metadata": {},
   "source": [
    "## Clean Data Loading"
   ]
  },
  {
   "cell_type": "code",
   "execution_count": 3,
   "metadata": {},
   "outputs": [],
   "source": [
    "cs16_data = pd.read_csv(\"../assets/clean/SteamDB_Counter-Strike_1.6_Clean.csv\", parse_dates=[\"month\"])\n",
    "css_data = pd.read_csv(\"../assets/clean/SteamDB_Counter-Strike_Source_Clean.csv\", parse_dates=[\"month\"])\n",
    "cscz_data = pd.read_csv(\"../assets/clean/SteamDB_Counter-Strike_Condition_Zero_Clean.csv\", parse_dates=[\"month\"])\n",
    "csgo_data = pd.read_csv(\"../assets/clean/SteamDB_Counter-Strike_Global_Offensive_Clean.csv\", parse_dates=[\"month\"])\n",
    "cs2_data = pd.read_csv(\"../assets/clean/SteamDB_Counter-Strike_2_Clean.csv\", parse_dates=[\"month\"])\n",
    "cs_merged_data = pd.read_csv(\"../assets/clean/SteamDB_Counter-Strike_Clean.csv\", parse_dates=[\"month\"])\n",
    "\n",
    "v_data = pd.read_csv(\"../assets/clean/GG_Valorant_Clean.csv\", parse_dates=[\"month\"])\n",
    "rss_data = pd.read_csv(\"../assets/clean/GG_Rainbow_Six_Siege_Clean.csv\", parse_dates=[\"month\"])\n",
    "cod_data = pd.read_csv(\"../assets/clean/SteamDB_Call_of_Duty_Clean.csv\", parse_dates=[\"month\"])\n",
    "bf_data = pd.read_csv(\"../assets/clean/SteamDB_Battlefield_Clean.csv\", parse_dates=[\"month\"])\n",
    "\n",
    "igdb_data = pd.read_csv(\"../assets/clean/IGDB_Clean.csv\")\n",
    "twitch_cs_data = pd.read_csv(\"../assets/clean/Twitch_Counter-Strike_Clean.csv\", parse_dates=[\"month\"])\n",
    "youtube_cs_data = pd.read_csv(\"../assets/clean/Youtube_Counter-Strike_Clean.csv\", parse_dates=[\"month\"])"
   ]
  },
  {
   "cell_type": "code",
   "execution_count": null,
   "metadata": {},
   "outputs": [],
   "source": [
    "merged_cs_youtube = pd.merge(cs_merged_data[['month','peak']], youtube_cs_data[['month','viewCount']], on=\"month\", how=\"inner\")\n",
    "merged_cs_youtube = merged_cs_youtube.sort_values(by=\"viewCount\", ascending=False)\n",
    "\n",
    "merged_cs_twitch = pd.merge(cs_merged_data[['month','peak']], twitch_cs_data[['month','peak viewers']], on=\"month\", how=\"inner\")\n",
    "merged_cs_twitch = merged_cs_twitch.sort_values(by=\"peak viewers\", ascending=False)"
   ]
  },
  {
   "cell_type": "markdown",
   "metadata": {},
   "source": [
    "## Visualizations"
   ]
  },
  {
   "cell_type": "markdown",
   "id": "72e7ec23",
   "metadata": {},
   "source": [
    "### Counter-Strike Playerbase by Version Timeseries"
   ]
  },
  {
   "cell_type": "code",
   "execution_count": 5,
   "id": "d5159f09",
   "metadata": {},
   "outputs": [
    {
     "data": {
      "application/vnd.vegalite.v5+json": {
       "$schema": "https://vega.github.io/schema/vega-lite/v5.20.1.json",
       "config": {
        "axis": {
         "labelColor": "#3b415c"
        },
        "background": "white",
        "legend": {
         "labelColor": "#3b415c",
         "titleColor": "#3b415c"
        },
        "view": {
         "continuousHeight": 300,
         "continuousWidth": 300
        }
       },
       "data": {
        "name": "data-176e636b130d9e8fa30d87ba2880bfbc"
       },
       "datasets": {
        "data-176e636b130d9e8fa30d87ba2880bfbc": [
         {
          "game": "Counter-Strike (1.6)",
          "month": "2004-01-01T00:00:00",
          "peak": 23241
         },
         {
          "game": "Counter-Strike (1.6)",
          "month": "2004-02-01T00:00:00",
          "peak": 39709
         },
         {
          "game": "Counter-Strike (1.6)",
          "month": "2004-04-01T00:00:00",
          "peak": 74926
         },
         {
          "game": "Counter-Strike (1.6)",
          "month": "2004-06-01T00:00:00",
          "peak": 66876
         },
         {
          "game": "Counter-Strike (1.6)",
          "month": "2004-07-01T00:00:00",
          "peak": 69685
         },
         {
          "game": "Counter-Strike (1.6)",
          "month": "2004-08-01T00:00:00",
          "peak": 92049
         },
         {
          "game": "Counter-Strike (1.6)",
          "month": "2004-09-01T00:00:00",
          "peak": 96451
         },
         {
          "game": "Counter-Strike (1.6)",
          "month": "2004-10-01T00:00:00",
          "peak": 79947
         },
         {
          "game": "Counter-Strike (1.6)",
          "month": "2004-11-01T00:00:00",
          "peak": 77819
         },
         {
          "game": "Counter-Strike (1.6)",
          "month": "2004-12-01T00:00:00",
          "peak": 117157
         },
         {
          "game": "Counter-Strike (1.6)",
          "month": "2005-01-01T00:00:00",
          "peak": 79165
         },
         {
          "game": "Counter-Strike (1.6)",
          "month": "2005-02-01T00:00:00",
          "peak": 87036
         },
         {
          "game": "Counter-Strike (1.6)",
          "month": "2005-03-01T00:00:00",
          "peak": 103492
         },
         {
          "game": "Counter-Strike (1.6)",
          "month": "2005-04-01T00:00:00",
          "peak": 87284
         },
         {
          "game": "Counter-Strike (1.6)",
          "month": "2005-05-01T00:00:00",
          "peak": 105295
         },
         {
          "game": "Counter-Strike (1.6)",
          "month": "2005-06-01T00:00:00",
          "peak": 80012
         },
         {
          "game": "Counter-Strike (1.6)",
          "month": "2005-07-01T00:00:00",
          "peak": 110858
         },
         {
          "game": "Counter-Strike (1.6)",
          "month": "2005-08-01T00:00:00",
          "peak": 132066
         },
         {
          "game": "Counter-Strike (1.6)",
          "month": "2005-09-01T00:00:00",
          "peak": 118588
         },
         {
          "game": "Counter-Strike (1.6)",
          "month": "2005-11-01T00:00:00",
          "peak": 95543
         },
         {
          "game": "Counter-Strike (1.6)",
          "month": "2005-12-01T00:00:00",
          "peak": 126053
         },
         {
          "game": "Counter-Strike (1.6)",
          "month": "2006-08-01T00:00:00",
          "peak": 132876
         },
         {
          "game": "Counter-Strike (1.6)",
          "month": "2006-11-01T00:00:00",
          "peak": 107770
         },
         {
          "game": "Counter-Strike (1.6)",
          "month": "2006-12-01T00:00:00",
          "peak": 109100
         },
         {
          "game": "Counter-Strike (1.6)",
          "month": "2007-01-01T00:00:00",
          "peak": 134820
         },
         {
          "game": "Counter-Strike (1.6)",
          "month": "2007-02-01T00:00:00",
          "peak": 188125
         },
         {
          "game": "Counter-Strike (1.6)",
          "month": "2007-03-01T00:00:00",
          "peak": 174450
         },
         {
          "game": "Counter-Strike (1.6)",
          "month": "2007-04-01T00:00:00",
          "peak": 78735
         },
         {
          "game": "Counter-Strike (1.6)",
          "month": "2007-05-01T00:00:00",
          "peak": 184843
         },
         {
          "game": "Counter-Strike (1.6)",
          "month": "2007-06-01T00:00:00",
          "peak": 232534
         },
         {
          "game": "Counter-Strike (1.6)",
          "month": "2007-07-01T00:00:00",
          "peak": 241132
         },
         {
          "game": "Counter-Strike (1.6)",
          "month": "2007-08-01T00:00:00",
          "peak": 202644
         },
         {
          "game": "Counter-Strike (1.6)",
          "month": "2007-09-01T00:00:00",
          "peak": 283680
         },
         {
          "game": "Counter-Strike (1.6)",
          "month": "2007-10-01T00:00:00",
          "peak": 223730
         },
         {
          "game": "Counter-Strike (1.6)",
          "month": "2007-11-01T00:00:00",
          "peak": 259403
         },
         {
          "game": "Counter-Strike (1.6)",
          "month": "2007-12-01T00:00:00",
          "peak": 319586
         },
         {
          "game": "Counter-Strike (1.6)",
          "month": "2008-01-01T00:00:00",
          "peak": 225274
         },
         {
          "game": "Counter-Strike (1.6)",
          "month": "2008-09-01T00:00:00",
          "peak": 73041
         },
         {
          "game": "Counter-Strike (1.6)",
          "month": "2008-10-01T00:00:00",
          "peak": 76504
         },
         {
          "game": "Counter-Strike (1.6)",
          "month": "2008-11-01T00:00:00",
          "peak": 47245
         },
         {
          "game": "Counter-Strike (1.6)",
          "month": "2008-12-01T00:00:00",
          "peak": 54865
         },
         {
          "game": "Counter-Strike (1.6)",
          "month": "2009-01-01T00:00:00",
          "peak": 48405
         },
         {
          "game": "Counter-Strike (1.6)",
          "month": "2009-02-01T00:00:00",
          "peak": 75123
         },
         {
          "game": "Counter-Strike (1.6)",
          "month": "2009-03-01T00:00:00",
          "peak": 75463
         },
         {
          "game": "Counter-Strike (1.6)",
          "month": "2009-04-01T00:00:00",
          "peak": 49447
         },
         {
          "game": "Counter-Strike (1.6)",
          "month": "2009-05-01T00:00:00",
          "peak": 60245
         },
         {
          "game": "Counter-Strike (1.6)",
          "month": "2009-06-01T00:00:00",
          "peak": 64574
         },
         {
          "game": "Counter-Strike (1.6)",
          "month": "2009-07-01T00:00:00",
          "peak": 49131
         },
         {
          "game": "Counter-Strike (1.6)",
          "month": "2009-08-01T00:00:00",
          "peak": 62056
         },
         {
          "game": "Counter-Strike (1.6)",
          "month": "2009-09-01T00:00:00",
          "peak": 58498
         },
         {
          "game": "Counter-Strike (1.6)",
          "month": "2009-10-01T00:00:00",
          "peak": 63832
         },
         {
          "game": "Counter-Strike (1.6)",
          "month": "2009-11-01T00:00:00",
          "peak": 40578
         },
         {
          "game": "Counter-Strike (1.6)",
          "month": "2009-12-01T00:00:00",
          "peak": 69325
         },
         {
          "game": "Counter-Strike (1.6)",
          "month": "2010-01-01T00:00:00",
          "peak": 73033
         },
         {
          "game": "Counter-Strike (1.6)",
          "month": "2010-02-01T00:00:00",
          "peak": 64069
         },
         {
          "game": "Counter-Strike (1.6)",
          "month": "2010-03-01T00:00:00",
          "peak": 75903
         },
         {
          "game": "Counter-Strike (1.6)",
          "month": "2010-04-01T00:00:00",
          "peak": 73232
         },
         {
          "game": "Counter-Strike (1.6)",
          "month": "2010-05-01T00:00:00",
          "peak": 192924
         },
         {
          "game": "Counter-Strike (1.6)",
          "month": "2010-06-01T00:00:00",
          "peak": 63869
         },
         {
          "game": "Counter-Strike (1.6)",
          "month": "2010-07-01T00:00:00",
          "peak": 62730
         },
         {
          "game": "Counter-Strike (1.6)",
          "month": "2010-08-01T00:00:00",
          "peak": 67121
         },
         {
          "game": "Counter-Strike (1.6)",
          "month": "2010-09-01T00:00:00",
          "peak": 70849
         },
         {
          "game": "Counter-Strike (1.6)",
          "month": "2010-10-01T00:00:00",
          "peak": 74285
         },
         {
          "game": "Counter-Strike (1.6)",
          "month": "2010-11-01T00:00:00",
          "peak": 75800
         },
         {
          "game": "Counter-Strike (1.6)",
          "month": "2010-12-01T00:00:00",
          "peak": 76667
         },
         {
          "game": "Counter-Strike (1.6)",
          "month": "2011-01-01T00:00:00",
          "peak": 83905
         },
         {
          "game": "Counter-Strike (1.6)",
          "month": "2011-02-01T00:00:00",
          "peak": 83324
         },
         {
          "game": "Counter-Strike (1.6)",
          "month": "2011-03-01T00:00:00",
          "peak": 81839
         },
         {
          "game": "Counter-Strike (1.6)",
          "month": "2011-04-01T00:00:00",
          "peak": 74934
         },
         {
          "game": "Counter-Strike (1.6)",
          "month": "2011-05-01T00:00:00",
          "peak": 67370
         },
         {
          "game": "Counter-Strike (1.6)",
          "month": "2011-06-01T00:00:00",
          "peak": 69585
         },
         {
          "game": "Counter-Strike (1.6)",
          "month": "2011-07-01T00:00:00",
          "peak": 60630
         },
         {
          "game": "Counter-Strike (1.6)",
          "month": "2011-08-01T00:00:00",
          "peak": 62959
         },
         {
          "game": "Counter-Strike (1.6)",
          "month": "2011-09-01T00:00:00",
          "peak": 63909
         },
         {
          "game": "Counter-Strike (1.6)",
          "month": "2011-10-01T00:00:00",
          "peak": 68660
         },
         {
          "game": "Counter-Strike (1.6)",
          "month": "2011-11-01T00:00:00",
          "peak": 70244
         },
         {
          "game": "Counter-Strike (1.6)",
          "month": "2011-12-01T00:00:00",
          "peak": 72794
         },
         {
          "game": "Counter-Strike (1.6)",
          "month": "2012-01-01T00:00:00",
          "peak": 80089
         },
         {
          "game": "Counter-Strike (1.6)",
          "month": "2012-02-01T00:00:00",
          "peak": 79920
         },
         {
          "game": "Counter-Strike (1.6)",
          "month": "2012-03-01T00:00:00",
          "peak": 79911
         },
         {
          "game": "Counter-Strike (1.6)",
          "month": "2012-04-01T00:00:00",
          "peak": 72325
         },
         {
          "game": "Counter-Strike (1.6)",
          "month": "2012-05-01T00:00:00",
          "peak": 62542
         },
         {
          "game": "Counter-Strike (1.6)",
          "month": "2012-06-01T00:00:00",
          "peak": 60301
         },
         {
          "game": "Counter-Strike (1.6)",
          "month": "2012-07-01T00:00:00",
          "peak": 54614
         },
         {
          "game": "Counter-Strike (1.6)",
          "month": "2012-08-01T00:00:00",
          "peak": 55321
         },
         {
          "game": "Counter-Strike (1.6)",
          "month": "2012-09-01T00:00:00",
          "peak": 56053
         },
         {
          "game": "Counter-Strike (1.6)",
          "month": "2012-10-01T00:00:00",
          "peak": 56957
         },
         {
          "game": "Counter-Strike (1.6)",
          "month": "2012-11-01T00:00:00",
          "peak": 61189
         },
         {
          "game": "Counter-Strike (1.6)",
          "month": "2012-12-01T00:00:00",
          "peak": 65188
         },
         {
          "game": "Counter-Strike (1.6)",
          "month": "2013-01-01T00:00:00",
          "peak": 65100
         },
         {
          "game": "Counter-Strike (1.6)",
          "month": "2013-02-01T00:00:00",
          "peak": 60780
         },
         {
          "game": "Counter-Strike (1.6)",
          "month": "2013-03-01T00:00:00",
          "peak": 49482
         },
         {
          "game": "Counter-Strike (1.6)",
          "month": "2013-04-01T00:00:00",
          "peak": 44392
         },
         {
          "game": "Counter-Strike (1.6)",
          "month": "2013-05-01T00:00:00",
          "peak": 36982
         },
         {
          "game": "Counter-Strike (1.6)",
          "month": "2013-06-01T00:00:00",
          "peak": 35490
         },
         {
          "game": "Counter-Strike (1.6)",
          "month": "2013-07-01T00:00:00",
          "peak": 34230
         },
         {
          "game": "Counter-Strike (1.6)",
          "month": "2013-08-01T00:00:00",
          "peak": 36983
         },
         {
          "game": "Counter-Strike (1.6)",
          "month": "2013-09-01T00:00:00",
          "peak": 37439
         },
         {
          "game": "Counter-Strike (1.6)",
          "month": "2013-10-01T00:00:00",
          "peak": 39826
         },
         {
          "game": "Counter-Strike (1.6)",
          "month": "2013-11-01T00:00:00",
          "peak": 40743
         },
         {
          "game": "Counter-Strike (1.6)",
          "month": "2013-12-01T00:00:00",
          "peak": 44491
         },
         {
          "game": "Counter-Strike (1.6)",
          "month": "2014-01-01T00:00:00",
          "peak": 44712
         },
         {
          "game": "Counter-Strike (1.6)",
          "month": "2014-02-01T00:00:00",
          "peak": 41963
         },
         {
          "game": "Counter-Strike (1.6)",
          "month": "2014-03-01T00:00:00",
          "peak": 39619
         },
         {
          "game": "Counter-Strike (1.6)",
          "month": "2014-04-01T00:00:00",
          "peak": 35926
         },
         {
          "game": "Counter-Strike (1.6)",
          "month": "2014-05-01T00:00:00",
          "peak": 33969
         },
         {
          "game": "Counter-Strike (1.6)",
          "month": "2014-06-01T00:00:00",
          "peak": 31806
         },
         {
          "game": "Counter-Strike (1.6)",
          "month": "2014-07-01T00:00:00",
          "peak": 29564
         },
         {
          "game": "Counter-Strike (1.6)",
          "month": "2014-08-01T00:00:00",
          "peak": 30379
         },
         {
          "game": "Counter-Strike (1.6)",
          "month": "2014-09-01T00:00:00",
          "peak": 31690
         },
         {
          "game": "Counter-Strike (1.6)",
          "month": "2014-10-01T00:00:00",
          "peak": 33495
         },
         {
          "game": "Counter-Strike (1.6)",
          "month": "2014-11-01T00:00:00",
          "peak": 36393
         },
         {
          "game": "Counter-Strike (1.6)",
          "month": "2014-12-01T00:00:00",
          "peak": 37018
         },
         {
          "game": "Counter-Strike (1.6)",
          "month": "2015-01-01T00:00:00",
          "peak": 37107
         },
         {
          "game": "Counter-Strike (1.6)",
          "month": "2015-02-01T00:00:00",
          "peak": 34271
         },
         {
          "game": "Counter-Strike (1.6)",
          "month": "2015-03-01T00:00:00",
          "peak": 30333
         },
         {
          "game": "Counter-Strike (1.6)",
          "month": "2015-04-01T00:00:00",
          "peak": 28286
         },
         {
          "game": "Counter-Strike (1.6)",
          "month": "2015-05-01T00:00:00",
          "peak": 26465
         },
         {
          "game": "Counter-Strike (1.6)",
          "month": "2015-06-01T00:00:00",
          "peak": 24200
         },
         {
          "game": "Counter-Strike (1.6)",
          "month": "2015-07-01T00:00:00",
          "peak": 23623
         },
         {
          "game": "Counter-Strike (1.6)",
          "month": "2015-08-01T00:00:00",
          "peak": 22650
         },
         {
          "game": "Counter-Strike (1.6)",
          "month": "2015-09-01T00:00:00",
          "peak": 23130
         },
         {
          "game": "Counter-Strike (1.6)",
          "month": "2015-10-01T00:00:00",
          "peak": 24278
         },
         {
          "game": "Counter-Strike (1.6)",
          "month": "2015-11-01T00:00:00",
          "peak": 26133
         },
         {
          "game": "Counter-Strike (1.6)",
          "month": "2015-12-01T00:00:00",
          "peak": 27821
         },
         {
          "game": "Counter-Strike (1.6)",
          "month": "2016-01-01T00:00:00",
          "peak": 29670
         },
         {
          "game": "Counter-Strike (1.6)",
          "month": "2016-02-01T00:00:00",
          "peak": 29617
         },
         {
          "game": "Counter-Strike (1.6)",
          "month": "2016-03-01T00:00:00",
          "peak": 28136
         },
         {
          "game": "Counter-Strike (1.6)",
          "month": "2016-04-01T00:00:00",
          "peak": 24994
         },
         {
          "game": "Counter-Strike (1.6)",
          "month": "2016-05-01T00:00:00",
          "peak": 22998
         },
         {
          "game": "Counter-Strike (1.6)",
          "month": "2016-06-01T00:00:00",
          "peak": 22585
         },
         {
          "game": "Counter-Strike (1.6)",
          "month": "2016-07-01T00:00:00",
          "peak": 21136
         },
         {
          "game": "Counter-Strike (1.6)",
          "month": "2016-08-01T00:00:00",
          "peak": 21491
         },
         {
          "game": "Counter-Strike (1.6)",
          "month": "2016-09-01T00:00:00",
          "peak": 21984
         },
         {
          "game": "Counter-Strike (1.6)",
          "month": "2016-10-01T00:00:00",
          "peak": 23413
         },
         {
          "game": "Counter-Strike (1.6)",
          "month": "2016-11-01T00:00:00",
          "peak": 24792
         },
         {
          "game": "Counter-Strike (1.6)",
          "month": "2016-12-01T00:00:00",
          "peak": 26909
         },
         {
          "game": "Counter-Strike (1.6)",
          "month": "2017-01-01T00:00:00",
          "peak": 29543
         },
         {
          "game": "Counter-Strike (1.6)",
          "month": "2017-02-01T00:00:00",
          "peak": 28071
         },
         {
          "game": "Counter-Strike (1.6)",
          "month": "2017-03-01T00:00:00",
          "peak": 26504
         },
         {
          "game": "Counter-Strike (1.6)",
          "month": "2017-04-01T00:00:00",
          "peak": 22731
         },
         {
          "game": "Counter-Strike (1.6)",
          "month": "2017-05-01T00:00:00",
          "peak": 22099
         },
         {
          "game": "Counter-Strike (1.6)",
          "month": "2017-06-01T00:00:00",
          "peak": 20312
         },
         {
          "game": "Counter-Strike (1.6)",
          "month": "2017-07-01T00:00:00",
          "peak": 20372
         },
         {
          "game": "Counter-Strike (1.6)",
          "month": "2017-08-01T00:00:00",
          "peak": 18465
         },
         {
          "game": "Counter-Strike (1.6)",
          "month": "2017-09-01T00:00:00",
          "peak": 18755
         },
         {
          "game": "Counter-Strike (1.6)",
          "month": "2017-10-01T00:00:00",
          "peak": 20891
         },
         {
          "game": "Counter-Strike (1.6)",
          "month": "2017-11-01T00:00:00",
          "peak": 24917
         },
         {
          "game": "Counter-Strike (1.6)",
          "month": "2017-12-01T00:00:00",
          "peak": 25817
         },
         {
          "game": "Counter-Strike (1.6)",
          "month": "2018-01-01T00:00:00",
          "peak": 27622
         },
         {
          "game": "Counter-Strike (1.6)",
          "month": "2018-02-01T00:00:00",
          "peak": 26457
         },
         {
          "game": "Counter-Strike (1.6)",
          "month": "2018-03-01T00:00:00",
          "peak": 25896
         },
         {
          "game": "Counter-Strike (1.6)",
          "month": "2018-04-01T00:00:00",
          "peak": 22707
         },
         {
          "game": "Counter-Strike (1.6)",
          "month": "2018-05-01T00:00:00",
          "peak": 18868
         },
         {
          "game": "Counter-Strike (1.6)",
          "month": "2018-06-01T00:00:00",
          "peak": 18856
         },
         {
          "game": "Counter-Strike (1.6)",
          "month": "2018-07-01T00:00:00",
          "peak": 18327
         },
         {
          "game": "Counter-Strike (1.6)",
          "month": "2018-08-01T00:00:00",
          "peak": 17136
         },
         {
          "game": "Counter-Strike (1.6)",
          "month": "2018-09-01T00:00:00",
          "peak": 17597
         },
         {
          "game": "Counter-Strike (1.6)",
          "month": "2018-10-01T00:00:00",
          "peak": 18183
         },
         {
          "game": "Counter-Strike (1.6)",
          "month": "2018-11-01T00:00:00",
          "peak": 20646
         },
         {
          "game": "Counter-Strike (1.6)",
          "month": "2018-12-01T00:00:00",
          "peak": 21865
         },
         {
          "game": "Counter-Strike (1.6)",
          "month": "2019-01-01T00:00:00",
          "peak": 23144
         },
         {
          "game": "Counter-Strike (1.6)",
          "month": "2019-02-01T00:00:00",
          "peak": 21470
         },
         {
          "game": "Counter-Strike (1.6)",
          "month": "2019-03-01T00:00:00",
          "peak": 19348
         },
         {
          "game": "Counter-Strike (1.6)",
          "month": "2019-04-01T00:00:00",
          "peak": 17386
         },
         {
          "game": "Counter-Strike (1.6)",
          "month": "2019-05-01T00:00:00",
          "peak": 16690
         },
         {
          "game": "Counter-Strike (1.6)",
          "month": "2019-06-01T00:00:00",
          "peak": 15091
         },
         {
          "game": "Counter-Strike (1.6)",
          "month": "2019-07-01T00:00:00",
          "peak": 15371
         },
         {
          "game": "Counter-Strike (1.6)",
          "month": "2019-08-01T00:00:00",
          "peak": 14971
         },
         {
          "game": "Counter-Strike (1.6)",
          "month": "2019-09-01T00:00:00",
          "peak": 14731
         },
         {
          "game": "Counter-Strike (1.6)",
          "month": "2019-10-01T00:00:00",
          "peak": 14937
         },
         {
          "game": "Counter-Strike (1.6)",
          "month": "2019-11-01T00:00:00",
          "peak": 16895
         },
         {
          "game": "Counter-Strike (1.6)",
          "month": "2019-12-01T00:00:00",
          "peak": 18365
         },
         {
          "game": "Counter-Strike (1.6)",
          "month": "2020-01-01T00:00:00",
          "peak": 19141
         },
         {
          "game": "Counter-Strike (1.6)",
          "month": "2020-02-01T00:00:00",
          "peak": 17762
         },
         {
          "game": "Counter-Strike (1.6)",
          "month": "2020-03-01T00:00:00",
          "peak": 30626
         },
         {
          "game": "Counter-Strike (1.6)",
          "month": "2020-04-01T00:00:00",
          "peak": 31930
         },
         {
          "game": "Counter-Strike (1.6)",
          "month": "2020-05-01T00:00:00",
          "peak": 29882
         },
         {
          "game": "Counter-Strike (1.6)",
          "month": "2020-06-01T00:00:00",
          "peak": 21059
         },
         {
          "game": "Counter-Strike (1.6)",
          "month": "2020-07-01T00:00:00",
          "peak": 18212
         },
         {
          "game": "Counter-Strike (1.6)",
          "month": "2020-08-01T00:00:00",
          "peak": 16560
         },
         {
          "game": "Counter-Strike (1.6)",
          "month": "2020-09-01T00:00:00",
          "peak": 16295
         },
         {
          "game": "Counter-Strike (1.6)",
          "month": "2020-10-01T00:00:00",
          "peak": 18030
         },
         {
          "game": "Counter-Strike (1.6)",
          "month": "2020-11-01T00:00:00",
          "peak": 20916
         },
         {
          "game": "Counter-Strike (1.6)",
          "month": "2020-12-01T00:00:00",
          "peak": 22833
         },
         {
          "game": "Counter-Strike (1.6)",
          "month": "2021-01-01T00:00:00",
          "peak": 23903
         },
         {
          "game": "Counter-Strike (1.6)",
          "month": "2021-02-01T00:00:00",
          "peak": 21860
         },
         {
          "game": "Counter-Strike (1.6)",
          "month": "2021-03-01T00:00:00",
          "peak": 22393
         },
         {
          "game": "Counter-Strike (1.6)",
          "month": "2021-04-01T00:00:00",
          "peak": 21698
         },
         {
          "game": "Counter-Strike (1.6)",
          "month": "2021-05-01T00:00:00",
          "peak": 18140
         },
         {
          "game": "Counter-Strike (1.6)",
          "month": "2021-06-01T00:00:00",
          "peak": 16439
         },
         {
          "game": "Counter-Strike (1.6)",
          "month": "2021-07-01T00:00:00",
          "peak": 14998
         },
         {
          "game": "Counter-Strike (1.6)",
          "month": "2021-08-01T00:00:00",
          "peak": 14127
         },
         {
          "game": "Counter-Strike (1.6)",
          "month": "2021-09-01T00:00:00",
          "peak": 14740
         },
         {
          "game": "Counter-Strike (1.6)",
          "month": "2021-10-01T00:00:00",
          "peak": 15759
         },
         {
          "game": "Counter-Strike (1.6)",
          "month": "2021-11-01T00:00:00",
          "peak": 16406
         },
         {
          "game": "Counter-Strike (1.6)",
          "month": "2021-12-01T00:00:00",
          "peak": 16648
         },
         {
          "game": "Counter-Strike (1.6)",
          "month": "2022-01-01T00:00:00",
          "peak": 18530
         },
         {
          "game": "Counter-Strike (1.6)",
          "month": "2022-02-01T00:00:00",
          "peak": 18743
         },
         {
          "game": "Counter-Strike (1.6)",
          "month": "2022-03-01T00:00:00",
          "peak": 16957
         },
         {
          "game": "Counter-Strike (1.6)",
          "month": "2022-04-01T00:00:00",
          "peak": 16696
         },
         {
          "game": "Counter-Strike (1.6)",
          "month": "2022-05-01T00:00:00",
          "peak": 14212
         },
         {
          "game": "Counter-Strike (1.6)",
          "month": "2022-06-01T00:00:00",
          "peak": 13707
         },
         {
          "game": "Counter-Strike (1.6)",
          "month": "2022-07-01T00:00:00",
          "peak": 14028
         },
         {
          "game": "Counter-Strike (1.6)",
          "month": "2022-08-01T00:00:00",
          "peak": 13358
         },
         {
          "game": "Counter-Strike (1.6)",
          "month": "2022-09-01T00:00:00",
          "peak": 13512
         },
         {
          "game": "Counter-Strike (1.6)",
          "month": "2022-10-01T00:00:00",
          "peak": 13846
         },
         {
          "game": "Counter-Strike (1.6)",
          "month": "2022-11-01T00:00:00",
          "peak": 16122
         },
         {
          "game": "Counter-Strike (1.6)",
          "month": "2022-12-01T00:00:00",
          "peak": 16250
         },
         {
          "game": "Counter-Strike (1.6)",
          "month": "2023-01-01T00:00:00",
          "peak": 17171
         },
         {
          "game": "Counter-Strike (1.6)",
          "month": "2023-02-01T00:00:00",
          "peak": 16364
         },
         {
          "game": "Counter-Strike (1.6)",
          "month": "2023-03-01T00:00:00",
          "peak": 15835
         },
         {
          "game": "Counter-Strike (1.6)",
          "month": "2023-04-01T00:00:00",
          "peak": 15526
         },
         {
          "game": "Counter-Strike (1.6)",
          "month": "2023-05-01T00:00:00",
          "peak": 13619
         },
         {
          "game": "Counter-Strike (1.6)",
          "month": "2023-06-01T00:00:00",
          "peak": 13078
         },
         {
          "game": "Counter-Strike (1.6)",
          "month": "2023-07-01T00:00:00",
          "peak": 13367
         },
         {
          "game": "Counter-Strike (1.6)",
          "month": "2023-08-01T00:00:00",
          "peak": 12519
         },
         {
          "game": "Counter-Strike (1.6)",
          "month": "2023-09-01T00:00:00",
          "peak": 13621
         },
         {
          "game": "Counter-Strike (1.6)",
          "month": "2023-10-01T00:00:00",
          "peak": 14241
         },
         {
          "game": "Counter-Strike (1.6)",
          "month": "2023-11-01T00:00:00",
          "peak": 14498
         },
         {
          "game": "Counter-Strike (1.6)",
          "month": "2023-12-01T00:00:00",
          "peak": 14646
         },
         {
          "game": "Counter-Strike (1.6)",
          "month": "2024-01-01T00:00:00",
          "peak": 15678
         },
         {
          "game": "Counter-Strike (1.6)",
          "month": "2024-02-01T00:00:00",
          "peak": 15051
         },
         {
          "game": "Counter-Strike (1.6)",
          "month": "2024-03-01T00:00:00",
          "peak": 16326
         },
         {
          "game": "Counter-Strike (1.6)",
          "month": "2024-04-01T00:00:00",
          "peak": 14510
         },
         {
          "game": "Counter-Strike (1.6)",
          "month": "2024-05-01T00:00:00",
          "peak": 15880
         },
         {
          "game": "Counter-Strike (1.6)",
          "month": "2024-06-01T00:00:00",
          "peak": 16640
         },
         {
          "game": "Counter-Strike (1.6)",
          "month": "2024-07-01T00:00:00",
          "peak": 19364
         },
         {
          "game": "Counter-Strike (1.6)",
          "month": "2024-08-01T00:00:00",
          "peak": 15133
         },
         {
          "game": "Counter-Strike (1.6)",
          "month": "2024-09-01T00:00:00",
          "peak": 16734
         },
         {
          "game": "Counter-Strike (1.6)",
          "month": "2024-10-01T00:00:00",
          "peak": 16985
         },
         {
          "game": "Counter-Strike (1.6)",
          "month": "2024-11-01T00:00:00",
          "peak": 17964
         },
         {
          "game": "Counter-Strike (1.6)",
          "month": "2024-12-01T00:00:00",
          "peak": 19647
         },
         {
          "game": "Counter-Strike (1.6)",
          "month": "2025-01-01T00:00:00",
          "peak": 20746
         },
         {
          "game": "Counter-Strike (1.6)",
          "month": "2025-02-01T00:00:00",
          "peak": 19683
         },
         {
          "game": "Counter-Strike (1.6)",
          "month": "2025-03-01T00:00:00",
          "peak": 18635
         },
         {
          "game": "Counter-Strike (1.6)",
          "month": "2025-04-01T00:00:00",
          "peak": 18205
         },
         {
          "game": "Counter-Strike (1.6)",
          "month": "2025-05-01T00:00:00",
          "peak": 15811
         },
         {
          "game": "Counter-Strike (1.6)",
          "month": "2025-06-01T00:00:00",
          "peak": 15730
         },
         {
          "game": "Counter-Strike (1.6)",
          "month": "2025-07-01T00:00:00",
          "peak": 14626
         },
         {
          "game": "Counter-Strike (1.6)",
          "month": "2025-08-01T00:00:00",
          "peak": 12680
         },
         {
          "game": "Counter-Strike: Source",
          "month": "2004-10-01T00:00:00",
          "peak": 9448
         },
         {
          "game": "Counter-Strike: Source",
          "month": "2004-11-01T00:00:00",
          "peak": 16454
         },
         {
          "game": "Counter-Strike: Source",
          "month": "2004-12-01T00:00:00",
          "peak": 49568
         },
         {
          "game": "Counter-Strike: Source",
          "month": "2005-01-01T00:00:00",
          "peak": 28230
         },
         {
          "game": "Counter-Strike: Source",
          "month": "2005-02-01T00:00:00",
          "peak": 30302
         },
         {
          "game": "Counter-Strike: Source",
          "month": "2005-03-01T00:00:00",
          "peak": 39232
         },
         {
          "game": "Counter-Strike: Source",
          "month": "2005-04-01T00:00:00",
          "peak": 43605
         },
         {
          "game": "Counter-Strike: Source",
          "month": "2005-05-01T00:00:00",
          "peak": 30737
         },
         {
          "game": "Counter-Strike: Source",
          "month": "2005-06-01T00:00:00",
          "peak": 22734
         },
         {
          "game": "Counter-Strike: Source",
          "month": "2005-07-01T00:00:00",
          "peak": 29945
         },
         {
          "game": "Counter-Strike: Source",
          "month": "2005-08-01T00:00:00",
          "peak": 51159
         },
         {
          "game": "Counter-Strike: Source",
          "month": "2005-09-01T00:00:00",
          "peak": 47518
         },
         {
          "game": "Counter-Strike: Source",
          "month": "2005-11-01T00:00:00",
          "peak": 18141
         },
         {
          "game": "Counter-Strike: Source",
          "month": "2005-12-01T00:00:00",
          "peak": 59323
         },
         {
          "game": "Counter-Strike: Source",
          "month": "2006-08-01T00:00:00",
          "peak": 51625
         },
         {
          "game": "Counter-Strike: Source",
          "month": "2006-11-01T00:00:00",
          "peak": 14825
         },
         {
          "game": "Counter-Strike: Source",
          "month": "2006-12-01T00:00:00",
          "peak": 56936
         },
         {
          "game": "Counter-Strike: Source",
          "month": "2007-01-01T00:00:00",
          "peak": 74899
         },
         {
          "game": "Counter-Strike: Source",
          "month": "2007-02-01T00:00:00",
          "peak": 71356
         },
         {
          "game": "Counter-Strike: Source",
          "month": "2007-03-01T00:00:00",
          "peak": 30139
         },
         {
          "game": "Counter-Strike: Source",
          "month": "2007-04-01T00:00:00",
          "peak": 40644
         },
         {
          "game": "Counter-Strike: Source",
          "month": "2007-05-01T00:00:00",
          "peak": 53308
         },
         {
          "game": "Counter-Strike: Source",
          "month": "2007-06-01T00:00:00",
          "peak": 85202
         },
         {
          "game": "Counter-Strike: Source",
          "month": "2007-07-01T00:00:00",
          "peak": 73676
         },
         {
          "game": "Counter-Strike: Source",
          "month": "2007-08-01T00:00:00",
          "peak": 77221
         },
         {
          "game": "Counter-Strike: Source",
          "month": "2007-09-01T00:00:00",
          "peak": 88466
         },
         {
          "game": "Counter-Strike: Source",
          "month": "2007-10-01T00:00:00",
          "peak": 83142
         },
         {
          "game": "Counter-Strike: Source",
          "month": "2007-11-01T00:00:00",
          "peak": 28693
         },
         {
          "game": "Counter-Strike: Source",
          "month": "2007-12-01T00:00:00",
          "peak": 74891
         },
         {
          "game": "Counter-Strike: Source",
          "month": "2008-01-01T00:00:00",
          "peak": 96798
         },
         {
          "game": "Counter-Strike: Source",
          "month": "2008-09-01T00:00:00",
          "peak": 82832
         },
         {
          "game": "Counter-Strike: Source",
          "month": "2008-10-01T00:00:00",
          "peak": 87900
         },
         {
          "game": "Counter-Strike: Source",
          "month": "2008-11-01T00:00:00",
          "peak": 59199
         },
         {
          "game": "Counter-Strike: Source",
          "month": "2008-12-01T00:00:00",
          "peak": 67808
         },
         {
          "game": "Counter-Strike: Source",
          "month": "2009-01-01T00:00:00",
          "peak": 59256
         },
         {
          "game": "Counter-Strike: Source",
          "month": "2009-02-01T00:00:00",
          "peak": 100056
         },
         {
          "game": "Counter-Strike: Source",
          "month": "2009-03-01T00:00:00",
          "peak": 95245
         },
         {
          "game": "Counter-Strike: Source",
          "month": "2009-04-01T00:00:00",
          "peak": 60504
         },
         {
          "game": "Counter-Strike: Source",
          "month": "2009-05-01T00:00:00",
          "peak": 78463
         },
         {
          "game": "Counter-Strike: Source",
          "month": "2009-06-01T00:00:00",
          "peak": 86374
         },
         {
          "game": "Counter-Strike: Source",
          "month": "2009-07-01T00:00:00",
          "peak": 68078
         },
         {
          "game": "Counter-Strike: Source",
          "month": "2009-08-01T00:00:00",
          "peak": 89486
         },
         {
          "game": "Counter-Strike: Source",
          "month": "2009-09-01T00:00:00",
          "peak": 80681
         },
         {
          "game": "Counter-Strike: Source",
          "month": "2009-10-01T00:00:00",
          "peak": 85147
         },
         {
          "game": "Counter-Strike: Source",
          "month": "2009-11-01T00:00:00",
          "peak": 46884
         },
         {
          "game": "Counter-Strike: Source",
          "month": "2009-12-01T00:00:00",
          "peak": 82447
         },
         {
          "game": "Counter-Strike: Source",
          "month": "2010-01-01T00:00:00",
          "peak": 89470
         },
         {
          "game": "Counter-Strike: Source",
          "month": "2010-02-01T00:00:00",
          "peak": 76744
         },
         {
          "game": "Counter-Strike: Source",
          "month": "2010-03-01T00:00:00",
          "peak": 91679
         },
         {
          "game": "Counter-Strike: Source",
          "month": "2010-04-01T00:00:00",
          "peak": 86207
         },
         {
          "game": "Counter-Strike: Source",
          "month": "2010-05-01T00:00:00",
          "peak": 84934
         },
         {
          "game": "Counter-Strike: Source",
          "month": "2010-06-01T00:00:00",
          "peak": 80638
         },
         {
          "game": "Counter-Strike: Source",
          "month": "2010-07-01T00:00:00",
          "peak": 64655
         },
         {
          "game": "Counter-Strike: Source",
          "month": "2010-08-01T00:00:00",
          "peak": 70257
         },
         {
          "game": "Counter-Strike: Source",
          "month": "2010-09-01T00:00:00",
          "peak": 74610
         },
         {
          "game": "Counter-Strike: Source",
          "month": "2010-10-01T00:00:00",
          "peak": 74782
         },
         {
          "game": "Counter-Strike: Source",
          "month": "2010-11-01T00:00:00",
          "peak": 80274
         },
         {
          "game": "Counter-Strike: Source",
          "month": "2010-12-01T00:00:00",
          "peak": 81541
         },
         {
          "game": "Counter-Strike: Source",
          "month": "2011-01-01T00:00:00",
          "peak": 87340
         },
         {
          "game": "Counter-Strike: Source",
          "month": "2011-02-01T00:00:00",
          "peak": 82999
         },
         {
          "game": "Counter-Strike: Source",
          "month": "2011-03-01T00:00:00",
          "peak": 78707
         },
         {
          "game": "Counter-Strike: Source",
          "month": "2011-04-01T00:00:00",
          "peak": 72932
         },
         {
          "game": "Counter-Strike: Source",
          "month": "2011-05-01T00:00:00",
          "peak": 68399
         },
         {
          "game": "Counter-Strike: Source",
          "month": "2011-06-01T00:00:00",
          "peak": 67319
         },
         {
          "game": "Counter-Strike: Source",
          "month": "2011-07-01T00:00:00",
          "peak": 57615
         },
         {
          "game": "Counter-Strike: Source",
          "month": "2011-08-01T00:00:00",
          "peak": 63643
         },
         {
          "game": "Counter-Strike: Source",
          "month": "2011-09-01T00:00:00",
          "peak": 62522
         },
         {
          "game": "Counter-Strike: Source",
          "month": "2011-10-01T00:00:00",
          "peak": 62201
         },
         {
          "game": "Counter-Strike: Source",
          "month": "2011-11-01T00:00:00",
          "peak": 57692
         },
         {
          "game": "Counter-Strike: Source",
          "month": "2011-12-01T00:00:00",
          "peak": 62805
         },
         {
          "game": "Counter-Strike: Source",
          "month": "2012-01-01T00:00:00",
          "peak": 67235
         },
         {
          "game": "Counter-Strike: Source",
          "month": "2012-02-01T00:00:00",
          "peak": 65028
         },
         {
          "game": "Counter-Strike: Source",
          "month": "2012-03-01T00:00:00",
          "peak": 63998
         },
         {
          "game": "Counter-Strike: Source",
          "month": "2012-04-01T00:00:00",
          "peak": 61373
         },
         {
          "game": "Counter-Strike: Source",
          "month": "2012-05-01T00:00:00",
          "peak": 56593
         },
         {
          "game": "Counter-Strike: Source",
          "month": "2012-06-01T00:00:00",
          "peak": 53484
         },
         {
          "game": "Counter-Strike: Source",
          "month": "2012-07-01T00:00:00",
          "peak": 48850
         },
         {
          "game": "Counter-Strike: Source",
          "month": "2012-08-01T00:00:00",
          "peak": 48224
         },
         {
          "game": "Counter-Strike: Source",
          "month": "2012-09-01T00:00:00",
          "peak": 43924
         },
         {
          "game": "Counter-Strike: Source",
          "month": "2012-10-01T00:00:00",
          "peak": 45145
         },
         {
          "game": "Counter-Strike: Source",
          "month": "2012-11-01T00:00:00",
          "peak": 44160
         },
         {
          "game": "Counter-Strike: Source",
          "month": "2012-12-01T00:00:00",
          "peak": 48458
         },
         {
          "game": "Counter-Strike: Source",
          "month": "2013-01-01T00:00:00",
          "peak": 48125
         },
         {
          "game": "Counter-Strike: Source",
          "month": "2013-02-01T00:00:00",
          "peak": 44608
         },
         {
          "game": "Counter-Strike: Source",
          "month": "2013-03-01T00:00:00",
          "peak": 44034
         },
         {
          "game": "Counter-Strike: Source",
          "month": "2013-04-01T00:00:00",
          "peak": 38626
         },
         {
          "game": "Counter-Strike: Source",
          "month": "2013-05-01T00:00:00",
          "peak": 32816
         },
         {
          "game": "Counter-Strike: Source",
          "month": "2013-06-01T00:00:00",
          "peak": 31622
         },
         {
          "game": "Counter-Strike: Source",
          "month": "2013-07-01T00:00:00",
          "peak": 29840
         },
         {
          "game": "Counter-Strike: Source",
          "month": "2013-08-01T00:00:00",
          "peak": 31385
         },
         {
          "game": "Counter-Strike: Source",
          "month": "2013-09-01T00:00:00",
          "peak": 31775
         },
         {
          "game": "Counter-Strike: Source",
          "month": "2013-10-01T00:00:00",
          "peak": 32227
         },
         {
          "game": "Counter-Strike: Source",
          "month": "2013-11-01T00:00:00",
          "peak": 32541
         },
         {
          "game": "Counter-Strike: Source",
          "month": "2013-12-01T00:00:00",
          "peak": 35222
         },
         {
          "game": "Counter-Strike: Source",
          "month": "2014-01-01T00:00:00",
          "peak": 35887
         },
         {
          "game": "Counter-Strike: Source",
          "month": "2014-02-01T00:00:00",
          "peak": 30851
         },
         {
          "game": "Counter-Strike: Source",
          "month": "2014-03-01T00:00:00",
          "peak": 27789
         },
         {
          "game": "Counter-Strike: Source",
          "month": "2014-04-01T00:00:00",
          "peak": 26052
         },
         {
          "game": "Counter-Strike: Source",
          "month": "2014-05-01T00:00:00",
          "peak": 24587
         },
         {
          "game": "Counter-Strike: Source",
          "month": "2014-06-01T00:00:00",
          "peak": 23895
         },
         {
          "game": "Counter-Strike: Source",
          "month": "2014-07-01T00:00:00",
          "peak": 21221
         },
         {
          "game": "Counter-Strike: Source",
          "month": "2014-08-01T00:00:00",
          "peak": 21419
         },
         {
          "game": "Counter-Strike: Source",
          "month": "2014-09-01T00:00:00",
          "peak": 21135
         },
         {
          "game": "Counter-Strike: Source",
          "month": "2014-10-01T00:00:00",
          "peak": 21678
         },
         {
          "game": "Counter-Strike: Source",
          "month": "2014-11-01T00:00:00",
          "peak": 23493
         },
         {
          "game": "Counter-Strike: Source",
          "month": "2014-12-01T00:00:00",
          "peak": 24519
         },
         {
          "game": "Counter-Strike: Source",
          "month": "2015-01-01T00:00:00",
          "peak": 24617
         },
         {
          "game": "Counter-Strike: Source",
          "month": "2015-02-01T00:00:00",
          "peak": 21737
         },
         {
          "game": "Counter-Strike: Source",
          "month": "2015-03-01T00:00:00",
          "peak": 17772
         },
         {
          "game": "Counter-Strike: Source",
          "month": "2015-04-01T00:00:00",
          "peak": 16183
         },
         {
          "game": "Counter-Strike: Source",
          "month": "2015-05-01T00:00:00",
          "peak": 16204
         },
         {
          "game": "Counter-Strike: Source",
          "month": "2015-06-01T00:00:00",
          "peak": 14896
         },
         {
          "game": "Counter-Strike: Source",
          "month": "2015-07-01T00:00:00",
          "peak": 13870
         },
         {
          "game": "Counter-Strike: Source",
          "month": "2015-08-01T00:00:00",
          "peak": 13594
         },
         {
          "game": "Counter-Strike: Source",
          "month": "2015-09-01T00:00:00",
          "peak": 13553
         },
         {
          "game": "Counter-Strike: Source",
          "month": "2015-10-01T00:00:00",
          "peak": 13960
         },
         {
          "game": "Counter-Strike: Source",
          "month": "2015-11-01T00:00:00",
          "peak": 14300
         },
         {
          "game": "Counter-Strike: Source",
          "month": "2015-12-01T00:00:00",
          "peak": 14860
         },
         {
          "game": "Counter-Strike: Source",
          "month": "2016-01-01T00:00:00",
          "peak": 16142
         },
         {
          "game": "Counter-Strike: Source",
          "month": "2016-02-01T00:00:00",
          "peak": 15627
         },
         {
          "game": "Counter-Strike: Source",
          "month": "2016-03-01T00:00:00",
          "peak": 14846
         },
         {
          "game": "Counter-Strike: Source",
          "month": "2016-04-01T00:00:00",
          "peak": 12774
         },
         {
          "game": "Counter-Strike: Source",
          "month": "2016-05-01T00:00:00",
          "peak": 11212
         },
         {
          "game": "Counter-Strike: Source",
          "month": "2016-06-01T00:00:00",
          "peak": 10865
         },
         {
          "game": "Counter-Strike: Source",
          "month": "2016-07-01T00:00:00",
          "peak": 10131
         },
         {
          "game": "Counter-Strike: Source",
          "month": "2016-08-01T00:00:00",
          "peak": 9828
         },
         {
          "game": "Counter-Strike: Source",
          "month": "2016-09-01T00:00:00",
          "peak": 10083
         },
         {
          "game": "Counter-Strike: Source",
          "month": "2016-10-01T00:00:00",
          "peak": 10503
         },
         {
          "game": "Counter-Strike: Source",
          "month": "2016-11-01T00:00:00",
          "peak": 11211
         },
         {
          "game": "Counter-Strike: Source",
          "month": "2016-12-01T00:00:00",
          "peak": 11500
         },
         {
          "game": "Counter-Strike: Source",
          "month": "2017-01-01T00:00:00",
          "peak": 12471
         },
         {
          "game": "Counter-Strike: Source",
          "month": "2017-02-01T00:00:00",
          "peak": 11557
         },
         {
          "game": "Counter-Strike: Source",
          "month": "2017-03-01T00:00:00",
          "peak": 10702
         },
         {
          "game": "Counter-Strike: Source",
          "month": "2017-04-01T00:00:00",
          "peak": 9493
         },
         {
          "game": "Counter-Strike: Source",
          "month": "2017-05-01T00:00:00",
          "peak": 8932
         },
         {
          "game": "Counter-Strike: Source",
          "month": "2017-06-01T00:00:00",
          "peak": 8598
         },
         {
          "game": "Counter-Strike: Source",
          "month": "2017-07-01T00:00:00",
          "peak": 8622
         },
         {
          "game": "Counter-Strike: Source",
          "month": "2017-08-01T00:00:00",
          "peak": 7911
         },
         {
          "game": "Counter-Strike: Source",
          "month": "2017-09-01T00:00:00",
          "peak": 8288
         },
         {
          "game": "Counter-Strike: Source",
          "month": "2017-10-01T00:00:00",
          "peak": 8818
         },
         {
          "game": "Counter-Strike: Source",
          "month": "2017-11-01T00:00:00",
          "peak": 9163
         },
         {
          "game": "Counter-Strike: Source",
          "month": "2017-12-01T00:00:00",
          "peak": 9918
         },
         {
          "game": "Counter-Strike: Source",
          "month": "2018-01-01T00:00:00",
          "peak": 10462
         },
         {
          "game": "Counter-Strike: Source",
          "month": "2018-02-01T00:00:00",
          "peak": 9825
         },
         {
          "game": "Counter-Strike: Source",
          "month": "2018-03-01T00:00:00",
          "peak": 9367
         },
         {
          "game": "Counter-Strike: Source",
          "month": "2018-04-01T00:00:00",
          "peak": 8486
         },
         {
          "game": "Counter-Strike: Source",
          "month": "2018-05-01T00:00:00",
          "peak": 7154
         },
         {
          "game": "Counter-Strike: Source",
          "month": "2018-06-01T00:00:00",
          "peak": 7181
         },
         {
          "game": "Counter-Strike: Source",
          "month": "2018-07-01T00:00:00",
          "peak": 6714
         },
         {
          "game": "Counter-Strike: Source",
          "month": "2018-08-01T00:00:00",
          "peak": 6845
         },
         {
          "game": "Counter-Strike: Source",
          "month": "2018-09-01T00:00:00",
          "peak": 6804
         },
         {
          "game": "Counter-Strike: Source",
          "month": "2018-10-01T00:00:00",
          "peak": 7154
         },
         {
          "game": "Counter-Strike: Source",
          "month": "2018-11-01T00:00:00",
          "peak": 8381
         },
         {
          "game": "Counter-Strike: Source",
          "month": "2018-12-01T00:00:00",
          "peak": 8771
         },
         {
          "game": "Counter-Strike: Source",
          "month": "2019-01-01T00:00:00",
          "peak": 8799
         },
         {
          "game": "Counter-Strike: Source",
          "month": "2019-02-01T00:00:00",
          "peak": 8167
         },
         {
          "game": "Counter-Strike: Source",
          "month": "2019-03-01T00:00:00",
          "peak": 7530
         },
         {
          "game": "Counter-Strike: Source",
          "month": "2019-04-01T00:00:00",
          "peak": 6823
         },
         {
          "game": "Counter-Strike: Source",
          "month": "2019-05-01T00:00:00",
          "peak": 6592
         },
         {
          "game": "Counter-Strike: Source",
          "month": "2019-06-01T00:00:00",
          "peak": 6790
         },
         {
          "game": "Counter-Strike: Source",
          "month": "2019-07-01T00:00:00",
          "peak": 6972
         },
         {
          "game": "Counter-Strike: Source",
          "month": "2019-08-01T00:00:00",
          "peak": 6045
         },
         {
          "game": "Counter-Strike: Source",
          "month": "2019-09-01T00:00:00",
          "peak": 6298
         },
         {
          "game": "Counter-Strike: Source",
          "month": "2019-10-01T00:00:00",
          "peak": 6196
         },
         {
          "game": "Counter-Strike: Source",
          "month": "2019-11-01T00:00:00",
          "peak": 7384
         },
         {
          "game": "Counter-Strike: Source",
          "month": "2019-12-01T00:00:00",
          "peak": 7940
         },
         {
          "game": "Counter-Strike: Source",
          "month": "2020-01-01T00:00:00",
          "peak": 7906
         },
         {
          "game": "Counter-Strike: Source",
          "month": "2020-02-01T00:00:00",
          "peak": 6996
         },
         {
          "game": "Counter-Strike: Source",
          "month": "2020-03-01T00:00:00",
          "peak": 10948
         },
         {
          "game": "Counter-Strike: Source",
          "month": "2020-04-01T00:00:00",
          "peak": 11636
         },
         {
          "game": "Counter-Strike: Source",
          "month": "2020-05-01T00:00:00",
          "peak": 9734
         },
         {
          "game": "Counter-Strike: Source",
          "month": "2020-06-01T00:00:00",
          "peak": 7356
         },
         {
          "game": "Counter-Strike: Source",
          "month": "2020-07-01T00:00:00",
          "peak": 6790
         },
         {
          "game": "Counter-Strike: Source",
          "month": "2020-08-01T00:00:00",
          "peak": 6286
         },
         {
          "game": "Counter-Strike: Source",
          "month": "2020-09-01T00:00:00",
          "peak": 5887
         },
         {
          "game": "Counter-Strike: Source",
          "month": "2020-10-01T00:00:00",
          "peak": 6616
         },
         {
          "game": "Counter-Strike: Source",
          "month": "2020-11-01T00:00:00",
          "peak": 7310
         },
         {
          "game": "Counter-Strike: Source",
          "month": "2020-12-01T00:00:00",
          "peak": 8120
         },
         {
          "game": "Counter-Strike: Source",
          "month": "2021-01-01T00:00:00",
          "peak": 8292
         },
         {
          "game": "Counter-Strike: Source",
          "month": "2021-02-01T00:00:00",
          "peak": 7610
         },
         {
          "game": "Counter-Strike: Source",
          "month": "2021-03-01T00:00:00",
          "peak": 8995
         },
         {
          "game": "Counter-Strike: Source",
          "month": "2021-04-01T00:00:00",
          "peak": 8737
         },
         {
          "game": "Counter-Strike: Source",
          "month": "2021-05-01T00:00:00",
          "peak": 7047
         },
         {
          "game": "Counter-Strike: Source",
          "month": "2021-06-01T00:00:00",
          "peak": 6023
         },
         {
          "game": "Counter-Strike: Source",
          "month": "2021-07-01T00:00:00",
          "peak": 5971
         },
         {
          "game": "Counter-Strike: Source",
          "month": "2021-08-01T00:00:00",
          "peak": 5337
         },
         {
          "game": "Counter-Strike: Source",
          "month": "2021-09-01T00:00:00",
          "peak": 5649
         },
         {
          "game": "Counter-Strike: Source",
          "month": "2021-10-01T00:00:00",
          "peak": 5723
         },
         {
          "game": "Counter-Strike: Source",
          "month": "2021-11-01T00:00:00",
          "peak": 6172
         },
         {
          "game": "Counter-Strike: Source",
          "month": "2021-12-01T00:00:00",
          "peak": 6704
         },
         {
          "game": "Counter-Strike: Source",
          "month": "2022-01-01T00:00:00",
          "peak": 8118
         },
         {
          "game": "Counter-Strike: Source",
          "month": "2022-02-01T00:00:00",
          "peak": 8907
         },
         {
          "game": "Counter-Strike: Source",
          "month": "2022-03-01T00:00:00",
          "peak": 8369
         },
         {
          "game": "Counter-Strike: Source",
          "month": "2022-04-01T00:00:00",
          "peak": 8494
         },
         {
          "game": "Counter-Strike: Source",
          "month": "2022-05-01T00:00:00",
          "peak": 7491
         },
         {
          "game": "Counter-Strike: Source",
          "month": "2022-06-01T00:00:00",
          "peak": 7349
         },
         {
          "game": "Counter-Strike: Source",
          "month": "2022-07-01T00:00:00",
          "peak": 7513
         },
         {
          "game": "Counter-Strike: Source",
          "month": "2022-08-01T00:00:00",
          "peak": 7027
         },
         {
          "game": "Counter-Strike: Source",
          "month": "2022-09-01T00:00:00",
          "peak": 6961
         },
         {
          "game": "Counter-Strike: Source",
          "month": "2022-10-01T00:00:00",
          "peak": 5396
         },
         {
          "game": "Counter-Strike: Source",
          "month": "2022-11-01T00:00:00",
          "peak": 6417
         },
         {
          "game": "Counter-Strike: Source",
          "month": "2022-12-01T00:00:00",
          "peak": 6048
         },
         {
          "game": "Counter-Strike: Source",
          "month": "2023-01-01T00:00:00",
          "peak": 6240
         },
         {
          "game": "Counter-Strike: Source",
          "month": "2023-02-01T00:00:00",
          "peak": 5531
         },
         {
          "game": "Counter-Strike: Source",
          "month": "2023-03-01T00:00:00",
          "peak": 6231
         },
         {
          "game": "Counter-Strike: Source",
          "month": "2023-04-01T00:00:00",
          "peak": 5498
         },
         {
          "game": "Counter-Strike: Source",
          "month": "2023-05-01T00:00:00",
          "peak": 4948
         },
         {
          "game": "Counter-Strike: Source",
          "month": "2023-06-01T00:00:00",
          "peak": 5039
         },
         {
          "game": "Counter-Strike: Source",
          "month": "2023-07-01T00:00:00",
          "peak": 5325
         },
         {
          "game": "Counter-Strike: Source",
          "month": "2023-08-01T00:00:00",
          "peak": 4495
         },
         {
          "game": "Counter-Strike: Source",
          "month": "2023-09-01T00:00:00",
          "peak": 5471
         },
         {
          "game": "Counter-Strike: Source",
          "month": "2023-10-01T00:00:00",
          "peak": 5495
         },
         {
          "game": "Counter-Strike: Source",
          "month": "2023-11-01T00:00:00",
          "peak": 6061
         },
         {
          "game": "Counter-Strike: Source",
          "month": "2023-12-01T00:00:00",
          "peak": 5973
         },
         {
          "game": "Counter-Strike: Source",
          "month": "2024-01-01T00:00:00",
          "peak": 6035
         },
         {
          "game": "Counter-Strike: Source",
          "month": "2024-02-01T00:00:00",
          "peak": 13071
         },
         {
          "game": "Counter-Strike: Source",
          "month": "2024-03-01T00:00:00",
          "peak": 13063
         },
         {
          "game": "Counter-Strike: Source",
          "month": "2024-04-01T00:00:00",
          "peak": 14242
         },
         {
          "game": "Counter-Strike: Source",
          "month": "2024-05-01T00:00:00",
          "peak": 13557
         },
         {
          "game": "Counter-Strike: Source",
          "month": "2024-06-01T00:00:00",
          "peak": 15078
         },
         {
          "game": "Counter-Strike: Source",
          "month": "2024-07-01T00:00:00",
          "peak": 17981
         },
         {
          "game": "Counter-Strike: Source",
          "month": "2024-08-01T00:00:00",
          "peak": 18986
         },
         {
          "game": "Counter-Strike: Source",
          "month": "2024-09-01T00:00:00",
          "peak": 15218
         },
         {
          "game": "Counter-Strike: Source",
          "month": "2024-10-01T00:00:00",
          "peak": 13115
         },
         {
          "game": "Counter-Strike: Source",
          "month": "2024-11-01T00:00:00",
          "peak": 12919
         },
         {
          "game": "Counter-Strike: Source",
          "month": "2024-12-01T00:00:00",
          "peak": 16674
         },
         {
          "game": "Counter-Strike: Source",
          "month": "2025-01-01T00:00:00",
          "peak": 17737
         },
         {
          "game": "Counter-Strike: Source",
          "month": "2025-02-01T00:00:00",
          "peak": 17926
         },
         {
          "game": "Counter-Strike: Source",
          "month": "2025-03-01T00:00:00",
          "peak": 20160
         },
         {
          "game": "Counter-Strike: Source",
          "month": "2025-04-01T00:00:00",
          "peak": 17173
         },
         {
          "game": "Counter-Strike: Source",
          "month": "2025-05-01T00:00:00",
          "peak": 13655
         },
         {
          "game": "Counter-Strike: Source",
          "month": "2025-06-01T00:00:00",
          "peak": 18204
         },
         {
          "game": "Counter-Strike: Source",
          "month": "2025-07-01T00:00:00",
          "peak": 56987
         },
         {
          "game": "Counter-Strike: Source",
          "month": "2025-08-01T00:00:00",
          "peak": 62898
         },
         {
          "game": "Counter-Strike: Condition Zero",
          "month": "2004-04-01T00:00:00",
          "peak": 9256
         },
         {
          "game": "Counter-Strike: Condition Zero",
          "month": "2004-06-01T00:00:00",
          "peak": 14032
         },
         {
          "game": "Counter-Strike: Condition Zero",
          "month": "2004-07-01T00:00:00",
          "peak": 15119
         },
         {
          "game": "Counter-Strike: Condition Zero",
          "month": "2004-08-01T00:00:00",
          "peak": 14280
         },
         {
          "game": "Counter-Strike: Condition Zero",
          "month": "2004-09-01T00:00:00",
          "peak": 15762
         },
         {
          "game": "Counter-Strike: Condition Zero",
          "month": "2004-10-01T00:00:00",
          "peak": 15076
         },
         {
          "game": "Counter-Strike: Condition Zero",
          "month": "2004-11-01T00:00:00",
          "peak": 15216
         },
         {
          "game": "Counter-Strike: Condition Zero",
          "month": "2004-12-01T00:00:00",
          "peak": 18107
         },
         {
          "game": "Counter-Strike: Condition Zero",
          "month": "2005-01-01T00:00:00",
          "peak": 15692
         },
         {
          "game": "Counter-Strike: Condition Zero",
          "month": "2005-02-01T00:00:00",
          "peak": 16502
         },
         {
          "game": "Counter-Strike: Condition Zero",
          "month": "2005-03-01T00:00:00",
          "peak": 17489
         },
         {
          "game": "Counter-Strike: Condition Zero",
          "month": "2005-04-01T00:00:00",
          "peak": 13288
         },
         {
          "game": "Counter-Strike: Condition Zero",
          "month": "2005-05-01T00:00:00",
          "peak": 19239
         },
         {
          "game": "Counter-Strike: Condition Zero",
          "month": "2005-06-01T00:00:00",
          "peak": 12053
         },
         {
          "game": "Counter-Strike: Condition Zero",
          "month": "2005-07-01T00:00:00",
          "peak": 18654
         },
         {
          "game": "Counter-Strike: Condition Zero",
          "month": "2005-08-01T00:00:00",
          "peak": 22438
         },
         {
          "game": "Counter-Strike: Condition Zero",
          "month": "2005-09-01T00:00:00",
          "peak": 19041
         },
         {
          "game": "Counter-Strike: Condition Zero",
          "month": "2005-11-01T00:00:00",
          "peak": 14824
         },
         {
          "game": "Counter-Strike: Condition Zero",
          "month": "2005-12-01T00:00:00",
          "peak": 21242
         },
         {
          "game": "Counter-Strike: Condition Zero",
          "month": "2006-08-01T00:00:00",
          "peak": 21153
         },
         {
          "game": "Counter-Strike: Condition Zero",
          "month": "2006-11-01T00:00:00",
          "peak": 15203
         },
         {
          "game": "Counter-Strike: Condition Zero",
          "month": "2006-12-01T00:00:00",
          "peak": 17896
         },
         {
          "game": "Counter-Strike: Condition Zero",
          "month": "2007-01-01T00:00:00",
          "peak": 21851
         },
         {
          "game": "Counter-Strike: Condition Zero",
          "month": "2007-02-01T00:00:00",
          "peak": 23807
         },
         {
          "game": "Counter-Strike: Condition Zero",
          "month": "2007-03-01T00:00:00",
          "peak": 19939
         },
         {
          "game": "Counter-Strike: Condition Zero",
          "month": "2007-04-01T00:00:00",
          "peak": 11923
         },
         {
          "game": "Counter-Strike: Condition Zero",
          "month": "2007-05-01T00:00:00",
          "peak": 24988
         },
         {
          "game": "Counter-Strike: Condition Zero",
          "month": "2007-06-01T00:00:00",
          "peak": 27256
         },
         {
          "game": "Counter-Strike: Condition Zero",
          "month": "2007-07-01T00:00:00",
          "peak": 28546
         },
         {
          "game": "Counter-Strike: Condition Zero",
          "month": "2007-08-01T00:00:00",
          "peak": 27545
         },
         {
          "game": "Counter-Strike: Condition Zero",
          "month": "2007-09-01T00:00:00",
          "peak": 32748
         },
         {
          "game": "Counter-Strike: Condition Zero",
          "month": "2007-10-01T00:00:00",
          "peak": 28221
         },
         {
          "game": "Counter-Strike: Condition Zero",
          "month": "2007-11-01T00:00:00",
          "peak": 21806
         },
         {
          "game": "Counter-Strike: Condition Zero",
          "month": "2007-12-01T00:00:00",
          "peak": 32279
         },
         {
          "game": "Counter-Strike: Condition Zero",
          "month": "2008-01-01T00:00:00",
          "peak": 28140
         },
         {
          "game": "Counter-Strike: Condition Zero",
          "month": "2008-09-01T00:00:00",
          "peak": 11694
         },
         {
          "game": "Counter-Strike: Condition Zero",
          "month": "2008-10-01T00:00:00",
          "peak": 12860
         },
         {
          "game": "Counter-Strike: Condition Zero",
          "month": "2008-11-01T00:00:00",
          "peak": 7328
         },
         {
          "game": "Counter-Strike: Condition Zero",
          "month": "2008-12-01T00:00:00",
          "peak": 7570
         },
         {
          "game": "Counter-Strike: Condition Zero",
          "month": "2009-01-01T00:00:00",
          "peak": 5893
         },
         {
          "game": "Counter-Strike: Condition Zero",
          "month": "2009-02-01T00:00:00",
          "peak": 9384
         },
         {
          "game": "Counter-Strike: Condition Zero",
          "month": "2009-03-01T00:00:00",
          "peak": 9018
         },
         {
          "game": "Counter-Strike: Condition Zero",
          "month": "2009-04-01T00:00:00",
          "peak": 5413
         },
         {
          "game": "Counter-Strike: Condition Zero",
          "month": "2009-05-01T00:00:00",
          "peak": 7336
         },
         {
          "game": "Counter-Strike: Condition Zero",
          "month": "2009-06-01T00:00:00",
          "peak": 7932
         },
         {
          "game": "Counter-Strike: Condition Zero",
          "month": "2009-07-01T00:00:00",
          "peak": 7964
         },
         {
          "game": "Counter-Strike: Condition Zero",
          "month": "2009-08-01T00:00:00",
          "peak": 9266
         },
         {
          "game": "Counter-Strike: Condition Zero",
          "month": "2009-09-01T00:00:00",
          "peak": 8634
         },
         {
          "game": "Counter-Strike: Condition Zero",
          "month": "2009-10-01T00:00:00",
          "peak": 9128
         },
         {
          "game": "Counter-Strike: Condition Zero",
          "month": "2009-11-01T00:00:00",
          "peak": 4990
         },
         {
          "game": "Counter-Strike: Condition Zero",
          "month": "2009-12-01T00:00:00",
          "peak": 8983
         },
         {
          "game": "Counter-Strike: Condition Zero",
          "month": "2010-01-01T00:00:00",
          "peak": 8927
         },
         {
          "game": "Counter-Strike: Condition Zero",
          "month": "2010-02-01T00:00:00",
          "peak": 8003
         },
         {
          "game": "Counter-Strike: Condition Zero",
          "month": "2010-03-01T00:00:00",
          "peak": 9060
         },
         {
          "game": "Counter-Strike: Condition Zero",
          "month": "2010-04-01T00:00:00",
          "peak": 8484
         },
         {
          "game": "Counter-Strike: Condition Zero",
          "month": "2010-05-01T00:00:00",
          "peak": 7677
         },
         {
          "game": "Counter-Strike: Condition Zero",
          "month": "2010-06-01T00:00:00",
          "peak": 7424
         },
         {
          "game": "Counter-Strike: Condition Zero",
          "month": "2010-07-01T00:00:00",
          "peak": 6910
         },
         {
          "game": "Counter-Strike: Condition Zero",
          "month": "2010-08-01T00:00:00",
          "peak": 7081
         },
         {
          "game": "Counter-Strike: Condition Zero",
          "month": "2010-09-01T00:00:00",
          "peak": 7428
         },
         {
          "game": "Counter-Strike: Condition Zero",
          "month": "2010-10-01T00:00:00",
          "peak": 7379
         },
         {
          "game": "Counter-Strike: Condition Zero",
          "month": "2010-11-01T00:00:00",
          "peak": 7539
         },
         {
          "game": "Counter-Strike: Condition Zero",
          "month": "2010-12-01T00:00:00",
          "peak": 7505
         },
         {
          "game": "Counter-Strike: Condition Zero",
          "month": "2011-01-01T00:00:00",
          "peak": 7354
         },
         {
          "game": "Counter-Strike: Condition Zero",
          "month": "2011-02-01T00:00:00",
          "peak": 7171
         },
         {
          "game": "Counter-Strike: Condition Zero",
          "month": "2011-03-01T00:00:00",
          "peak": 6715
         },
         {
          "game": "Counter-Strike: Condition Zero",
          "month": "2011-04-01T00:00:00",
          "peak": 6133
         },
         {
          "game": "Counter-Strike: Condition Zero",
          "month": "2011-05-01T00:00:00",
          "peak": 6128
         },
         {
          "game": "Counter-Strike: Condition Zero",
          "month": "2011-06-01T00:00:00",
          "peak": 5542
         },
         {
          "game": "Counter-Strike: Condition Zero",
          "month": "2011-07-01T00:00:00",
          "peak": 5180
         },
         {
          "game": "Counter-Strike: Condition Zero",
          "month": "2011-08-01T00:00:00",
          "peak": 5051
         },
         {
          "game": "Counter-Strike: Condition Zero",
          "month": "2011-09-01T00:00:00",
          "peak": 5083
         },
         {
          "game": "Counter-Strike: Condition Zero",
          "month": "2011-10-01T00:00:00",
          "peak": 4979
         },
         {
          "game": "Counter-Strike: Condition Zero",
          "month": "2011-11-01T00:00:00",
          "peak": 5031
         },
         {
          "game": "Counter-Strike: Condition Zero",
          "month": "2011-12-01T00:00:00",
          "peak": 4915
         },
         {
          "game": "Counter-Strike: Condition Zero",
          "month": "2012-01-01T00:00:00",
          "peak": 4929
         },
         {
          "game": "Counter-Strike: Condition Zero",
          "month": "2012-02-01T00:00:00",
          "peak": 4878
         },
         {
          "game": "Counter-Strike: Condition Zero",
          "month": "2012-03-01T00:00:00",
          "peak": 4530
         },
         {
          "game": "Counter-Strike: Condition Zero",
          "month": "2012-04-01T00:00:00",
          "peak": 4394
         },
         {
          "game": "Counter-Strike: Condition Zero",
          "month": "2012-05-01T00:00:00",
          "peak": 4180
         },
         {
          "game": "Counter-Strike: Condition Zero",
          "month": "2012-06-01T00:00:00",
          "peak": 3879
         },
         {
          "game": "Counter-Strike: Condition Zero",
          "month": "2012-07-01T00:00:00",
          "peak": 3530
         },
         {
          "game": "Counter-Strike: Condition Zero",
          "month": "2012-08-01T00:00:00",
          "peak": 3229
         },
         {
          "game": "Counter-Strike: Condition Zero",
          "month": "2012-09-01T00:00:00",
          "peak": 3184
         },
         {
          "game": "Counter-Strike: Condition Zero",
          "month": "2012-10-01T00:00:00",
          "peak": 3183
         },
         {
          "game": "Counter-Strike: Condition Zero",
          "month": "2012-11-01T00:00:00",
          "peak": 3356
         },
         {
          "game": "Counter-Strike: Condition Zero",
          "month": "2012-12-01T00:00:00",
          "peak": 3357
         },
         {
          "game": "Counter-Strike: Condition Zero",
          "month": "2013-01-01T00:00:00",
          "peak": 3378
         },
         {
          "game": "Counter-Strike: Condition Zero",
          "month": "2013-02-01T00:00:00",
          "peak": 3282
         },
         {
          "game": "Counter-Strike: Condition Zero",
          "month": "2013-03-01T00:00:00",
          "peak": 2888
         },
         {
          "game": "Counter-Strike: Condition Zero",
          "month": "2013-04-01T00:00:00",
          "peak": 2134
         },
         {
          "game": "Counter-Strike: Condition Zero",
          "month": "2013-05-01T00:00:00",
          "peak": 2020
         },
         {
          "game": "Counter-Strike: Condition Zero",
          "month": "2013-06-01T00:00:00",
          "peak": 1957
         },
         {
          "game": "Counter-Strike: Condition Zero",
          "month": "2013-07-01T00:00:00",
          "peak": 1857
         },
         {
          "game": "Counter-Strike: Condition Zero",
          "month": "2013-08-01T00:00:00",
          "peak": 1925
         },
         {
          "game": "Counter-Strike: Condition Zero",
          "month": "2013-09-01T00:00:00",
          "peak": 1995
         },
         {
          "game": "Counter-Strike: Condition Zero",
          "month": "2013-10-01T00:00:00",
          "peak": 2042
         },
         {
          "game": "Counter-Strike: Condition Zero",
          "month": "2013-11-01T00:00:00",
          "peak": 2090
         },
         {
          "game": "Counter-Strike: Condition Zero",
          "month": "2013-12-01T00:00:00",
          "peak": 2074
         },
         {
          "game": "Counter-Strike: Condition Zero",
          "month": "2014-01-01T00:00:00",
          "peak": 2157
         },
         {
          "game": "Counter-Strike: Condition Zero",
          "month": "2014-02-01T00:00:00",
          "peak": 1866
         },
         {
          "game": "Counter-Strike: Condition Zero",
          "month": "2014-03-01T00:00:00",
          "peak": 1764
         },
         {
          "game": "Counter-Strike: Condition Zero",
          "month": "2014-04-01T00:00:00",
          "peak": 1720
         },
         {
          "game": "Counter-Strike: Condition Zero",
          "month": "2014-05-01T00:00:00",
          "peak": 1662
         },
         {
          "game": "Counter-Strike: Condition Zero",
          "month": "2014-06-01T00:00:00",
          "peak": 1565
         },
         {
          "game": "Counter-Strike: Condition Zero",
          "month": "2014-07-01T00:00:00",
          "peak": 1489
         },
         {
          "game": "Counter-Strike: Condition Zero",
          "month": "2014-08-01T00:00:00",
          "peak": 1455
         },
         {
          "game": "Counter-Strike: Condition Zero",
          "month": "2014-09-01T00:00:00",
          "peak": 1525
         },
         {
          "game": "Counter-Strike: Condition Zero",
          "month": "2014-10-01T00:00:00",
          "peak": 1538
         },
         {
          "game": "Counter-Strike: Condition Zero",
          "month": "2014-11-01T00:00:00",
          "peak": 1711
         },
         {
          "game": "Counter-Strike: Condition Zero",
          "month": "2014-12-01T00:00:00",
          "peak": 1767
         },
         {
          "game": "Counter-Strike: Condition Zero",
          "month": "2015-01-01T00:00:00",
          "peak": 1638
         },
         {
          "game": "Counter-Strike: Condition Zero",
          "month": "2015-02-01T00:00:00",
          "peak": 1493
         },
         {
          "game": "Counter-Strike: Condition Zero",
          "month": "2015-03-01T00:00:00",
          "peak": 1448
         },
         {
          "game": "Counter-Strike: Condition Zero",
          "month": "2015-04-01T00:00:00",
          "peak": 1342
         },
         {
          "game": "Counter-Strike: Condition Zero",
          "month": "2015-05-01T00:00:00",
          "peak": 1312
         },
         {
          "game": "Counter-Strike: Condition Zero",
          "month": "2015-06-01T00:00:00",
          "peak": 1282
         },
         {
          "game": "Counter-Strike: Condition Zero",
          "month": "2015-07-01T00:00:00",
          "peak": 1204
         },
         {
          "game": "Counter-Strike: Condition Zero",
          "month": "2015-08-01T00:00:00",
          "peak": 1174
         },
         {
          "game": "Counter-Strike: Condition Zero",
          "month": "2015-09-01T00:00:00",
          "peak": 1207
         },
         {
          "game": "Counter-Strike: Condition Zero",
          "month": "2015-10-01T00:00:00",
          "peak": 1203
         },
         {
          "game": "Counter-Strike: Condition Zero",
          "month": "2015-11-01T00:00:00",
          "peak": 1316
         },
         {
          "game": "Counter-Strike: Condition Zero",
          "month": "2015-12-01T00:00:00",
          "peak": 1394
         },
         {
          "game": "Counter-Strike: Condition Zero",
          "month": "2016-01-01T00:00:00",
          "peak": 1500
         },
         {
          "game": "Counter-Strike: Condition Zero",
          "month": "2016-02-01T00:00:00",
          "peak": 1560
         },
         {
          "game": "Counter-Strike: Condition Zero",
          "month": "2016-03-01T00:00:00",
          "peak": 1383
         },
         {
          "game": "Counter-Strike: Condition Zero",
          "month": "2016-04-01T00:00:00",
          "peak": 1206
         },
         {
          "game": "Counter-Strike: Condition Zero",
          "month": "2016-05-01T00:00:00",
          "peak": 1186
         },
         {
          "game": "Counter-Strike: Condition Zero",
          "month": "2016-06-01T00:00:00",
          "peak": 1196
         },
         {
          "game": "Counter-Strike: Condition Zero",
          "month": "2016-07-01T00:00:00",
          "peak": 1070
         },
         {
          "game": "Counter-Strike: Condition Zero",
          "month": "2016-08-01T00:00:00",
          "peak": 988
         },
         {
          "game": "Counter-Strike: Condition Zero",
          "month": "2016-09-01T00:00:00",
          "peak": 1051
         },
         {
          "game": "Counter-Strike: Condition Zero",
          "month": "2016-10-01T00:00:00",
          "peak": 1124
         },
         {
          "game": "Counter-Strike: Condition Zero",
          "month": "2016-11-01T00:00:00",
          "peak": 1301
         },
         {
          "game": "Counter-Strike: Condition Zero",
          "month": "2016-12-01T00:00:00",
          "peak": 1357
         },
         {
          "game": "Counter-Strike: Condition Zero",
          "month": "2017-01-01T00:00:00",
          "peak": 1387
         },
         {
          "game": "Counter-Strike: Condition Zero",
          "month": "2017-02-01T00:00:00",
          "peak": 1247
         },
         {
          "game": "Counter-Strike: Condition Zero",
          "month": "2017-03-01T00:00:00",
          "peak": 1269
         },
         {
          "game": "Counter-Strike: Condition Zero",
          "month": "2017-04-01T00:00:00",
          "peak": 1078
         },
         {
          "game": "Counter-Strike: Condition Zero",
          "month": "2017-05-01T00:00:00",
          "peak": 1059
         },
         {
          "game": "Counter-Strike: Condition Zero",
          "month": "2017-06-01T00:00:00",
          "peak": 1065
         },
         {
          "game": "Counter-Strike: Condition Zero",
          "month": "2017-07-01T00:00:00",
          "peak": 1090
         },
         {
          "game": "Counter-Strike: Condition Zero",
          "month": "2017-08-01T00:00:00",
          "peak": 1012
         },
         {
          "game": "Counter-Strike: Condition Zero",
          "month": "2017-09-01T00:00:00",
          "peak": 1012
         },
         {
          "game": "Counter-Strike: Condition Zero",
          "month": "2017-10-01T00:00:00",
          "peak": 1044
         },
         {
          "game": "Counter-Strike: Condition Zero",
          "month": "2017-11-01T00:00:00",
          "peak": 1418
         },
         {
          "game": "Counter-Strike: Condition Zero",
          "month": "2017-12-01T00:00:00",
          "peak": 1440
         },
         {
          "game": "Counter-Strike: Condition Zero",
          "month": "2018-01-01T00:00:00",
          "peak": 1394
         },
         {
          "game": "Counter-Strike: Condition Zero",
          "month": "2018-02-01T00:00:00",
          "peak": 1370
         },
         {
          "game": "Counter-Strike: Condition Zero",
          "month": "2018-03-01T00:00:00",
          "peak": 1187
         },
         {
          "game": "Counter-Strike: Condition Zero",
          "month": "2018-04-01T00:00:00",
          "peak": 999
         },
         {
          "game": "Counter-Strike: Condition Zero",
          "month": "2018-05-01T00:00:00",
          "peak": 934
         },
         {
          "game": "Counter-Strike: Condition Zero",
          "month": "2018-06-01T00:00:00",
          "peak": 1062
         },
         {
          "game": "Counter-Strike: Condition Zero",
          "month": "2018-07-01T00:00:00",
          "peak": 985
         },
         {
          "game": "Counter-Strike: Condition Zero",
          "month": "2018-08-01T00:00:00",
          "peak": 858
         },
         {
          "game": "Counter-Strike: Condition Zero",
          "month": "2018-09-01T00:00:00",
          "peak": 840
         },
         {
          "game": "Counter-Strike: Condition Zero",
          "month": "2018-10-01T00:00:00",
          "peak": 860
         },
         {
          "game": "Counter-Strike: Condition Zero",
          "month": "2018-11-01T00:00:00",
          "peak": 1069
         },
         {
          "game": "Counter-Strike: Condition Zero",
          "month": "2018-12-01T00:00:00",
          "peak": 1061
         },
         {
          "game": "Counter-Strike: Condition Zero",
          "month": "2019-01-01T00:00:00",
          "peak": 1013
         },
         {
          "game": "Counter-Strike: Condition Zero",
          "month": "2019-02-01T00:00:00",
          "peak": 969
         },
         {
          "game": "Counter-Strike: Condition Zero",
          "month": "2019-03-01T00:00:00",
          "peak": 905
         },
         {
          "game": "Counter-Strike: Condition Zero",
          "month": "2019-04-01T00:00:00",
          "peak": 845
         },
         {
          "game": "Counter-Strike: Condition Zero",
          "month": "2019-05-01T00:00:00",
          "peak": 811
         },
         {
          "game": "Counter-Strike: Condition Zero",
          "month": "2019-06-01T00:00:00",
          "peak": 793
         },
         {
          "game": "Counter-Strike: Condition Zero",
          "month": "2019-07-01T00:00:00",
          "peak": 767
         },
         {
          "game": "Counter-Strike: Condition Zero",
          "month": "2019-08-01T00:00:00",
          "peak": 681
         },
         {
          "game": "Counter-Strike: Condition Zero",
          "month": "2019-09-01T00:00:00",
          "peak": 696
         },
         {
          "game": "Counter-Strike: Condition Zero",
          "month": "2019-10-01T00:00:00",
          "peak": 709
         },
         {
          "game": "Counter-Strike: Condition Zero",
          "month": "2019-11-01T00:00:00",
          "peak": 746
         },
         {
          "game": "Counter-Strike: Condition Zero",
          "month": "2019-12-01T00:00:00",
          "peak": 819
         },
         {
          "game": "Counter-Strike: Condition Zero",
          "month": "2020-01-01T00:00:00",
          "peak": 791
         },
         {
          "game": "Counter-Strike: Condition Zero",
          "month": "2020-02-01T00:00:00",
          "peak": 729
         },
         {
          "game": "Counter-Strike: Condition Zero",
          "month": "2020-03-01T00:00:00",
          "peak": 1576
         },
         {
          "game": "Counter-Strike: Condition Zero",
          "month": "2020-04-01T00:00:00",
          "peak": 1531
         },
         {
          "game": "Counter-Strike: Condition Zero",
          "month": "2020-05-01T00:00:00",
          "peak": 1358
         },
         {
          "game": "Counter-Strike: Condition Zero",
          "month": "2020-06-01T00:00:00",
          "peak": 929
         },
         {
          "game": "Counter-Strike: Condition Zero",
          "month": "2020-07-01T00:00:00",
          "peak": 921
         },
         {
          "game": "Counter-Strike: Condition Zero",
          "month": "2020-08-01T00:00:00",
          "peak": 740
         },
         {
          "game": "Counter-Strike: Condition Zero",
          "month": "2020-09-01T00:00:00",
          "peak": 694
         },
         {
          "game": "Counter-Strike: Condition Zero",
          "month": "2020-10-01T00:00:00",
          "peak": 726
         },
         {
          "game": "Counter-Strike: Condition Zero",
          "month": "2020-11-01T00:00:00",
          "peak": 844
         },
         {
          "game": "Counter-Strike: Condition Zero",
          "month": "2020-12-01T00:00:00",
          "peak": 908
         },
         {
          "game": "Counter-Strike: Condition Zero",
          "month": "2021-01-01T00:00:00",
          "peak": 947
         },
         {
          "game": "Counter-Strike: Condition Zero",
          "month": "2021-02-01T00:00:00",
          "peak": 852
         },
         {
          "game": "Counter-Strike: Condition Zero",
          "month": "2021-03-01T00:00:00",
          "peak": 806
         },
         {
          "game": "Counter-Strike: Condition Zero",
          "month": "2021-04-01T00:00:00",
          "peak": 776
         },
         {
          "game": "Counter-Strike: Condition Zero",
          "month": "2021-05-01T00:00:00",
          "peak": 752
         },
         {
          "game": "Counter-Strike: Condition Zero",
          "month": "2021-06-01T00:00:00",
          "peak": 683
         },
         {
          "game": "Counter-Strike: Condition Zero",
          "month": "2021-07-01T00:00:00",
          "peak": 649
         },
         {
          "game": "Counter-Strike: Condition Zero",
          "month": "2021-08-01T00:00:00",
          "peak": 583
         },
         {
          "game": "Counter-Strike: Condition Zero",
          "month": "2021-09-01T00:00:00",
          "peak": 582
         },
         {
          "game": "Counter-Strike: Condition Zero",
          "month": "2021-10-01T00:00:00",
          "peak": 587
         },
         {
          "game": "Counter-Strike: Condition Zero",
          "month": "2021-11-01T00:00:00",
          "peak": 640
         },
         {
          "game": "Counter-Strike: Condition Zero",
          "month": "2021-12-01T00:00:00",
          "peak": 686
         },
         {
          "game": "Counter-Strike: Condition Zero",
          "month": "2022-01-01T00:00:00",
          "peak": 697
         },
         {
          "game": "Counter-Strike: Condition Zero",
          "month": "2022-02-01T00:00:00",
          "peak": 677
         },
         {
          "game": "Counter-Strike: Condition Zero",
          "month": "2022-03-01T00:00:00",
          "peak": 613
         },
         {
          "game": "Counter-Strike: Condition Zero",
          "month": "2022-04-01T00:00:00",
          "peak": 584
         },
         {
          "game": "Counter-Strike: Condition Zero",
          "month": "2022-05-01T00:00:00",
          "peak": 524
         },
         {
          "game": "Counter-Strike: Condition Zero",
          "month": "2022-06-01T00:00:00",
          "peak": 542
         },
         {
          "game": "Counter-Strike: Condition Zero",
          "month": "2022-07-01T00:00:00",
          "peak": 525
         },
         {
          "game": "Counter-Strike: Condition Zero",
          "month": "2022-08-01T00:00:00",
          "peak": 491
         },
         {
          "game": "Counter-Strike: Condition Zero",
          "month": "2022-09-01T00:00:00",
          "peak": 495
         },
         {
          "game": "Counter-Strike: Condition Zero",
          "month": "2022-10-01T00:00:00",
          "peak": 527
         },
         {
          "game": "Counter-Strike: Condition Zero",
          "month": "2022-11-01T00:00:00",
          "peak": 735
         },
         {
          "game": "Counter-Strike: Condition Zero",
          "month": "2022-12-01T00:00:00",
          "peak": 718
         },
         {
          "game": "Counter-Strike: Condition Zero",
          "month": "2023-01-01T00:00:00",
          "peak": 719
         },
         {
          "game": "Counter-Strike: Condition Zero",
          "month": "2023-02-01T00:00:00",
          "peak": 635
         },
         {
          "game": "Counter-Strike: Condition Zero",
          "month": "2023-03-01T00:00:00",
          "peak": 708
         },
         {
          "game": "Counter-Strike: Condition Zero",
          "month": "2023-04-01T00:00:00",
          "peak": 668
         },
         {
          "game": "Counter-Strike: Condition Zero",
          "month": "2023-05-01T00:00:00",
          "peak": 556
         },
         {
          "game": "Counter-Strike: Condition Zero",
          "month": "2023-06-01T00:00:00",
          "peak": 648
         },
         {
          "game": "Counter-Strike: Condition Zero",
          "month": "2023-07-01T00:00:00",
          "peak": 621
         },
         {
          "game": "Counter-Strike: Condition Zero",
          "month": "2023-08-01T00:00:00",
          "peak": 521
         },
         {
          "game": "Counter-Strike: Condition Zero",
          "month": "2023-09-01T00:00:00",
          "peak": 630
         },
         {
          "game": "Counter-Strike: Condition Zero",
          "month": "2023-10-01T00:00:00",
          "peak": 601
         },
         {
          "game": "Counter-Strike: Condition Zero",
          "month": "2023-11-01T00:00:00",
          "peak": 578
         },
         {
          "game": "Counter-Strike: Condition Zero",
          "month": "2023-12-01T00:00:00",
          "peak": 638
         },
         {
          "game": "Counter-Strike: Condition Zero",
          "month": "2024-01-01T00:00:00",
          "peak": 617
         },
         {
          "game": "Counter-Strike: Condition Zero",
          "month": "2024-02-01T00:00:00",
          "peak": 566
         },
         {
          "game": "Counter-Strike: Condition Zero",
          "month": "2024-03-01T00:00:00",
          "peak": 606
         },
         {
          "game": "Counter-Strike: Condition Zero",
          "month": "2024-04-01T00:00:00",
          "peak": 540
         },
         {
          "game": "Counter-Strike: Condition Zero",
          "month": "2024-05-01T00:00:00",
          "peak": 505
         },
         {
          "game": "Counter-Strike: Condition Zero",
          "month": "2024-06-01T00:00:00",
          "peak": 584
         },
         {
          "game": "Counter-Strike: Condition Zero",
          "month": "2024-07-01T00:00:00",
          "peak": 599
         },
         {
          "game": "Counter-Strike: Condition Zero",
          "month": "2024-08-01T00:00:00",
          "peak": 535
         },
         {
          "game": "Counter-Strike: Condition Zero",
          "month": "2024-09-01T00:00:00",
          "peak": 552
         },
         {
          "game": "Counter-Strike: Condition Zero",
          "month": "2024-10-01T00:00:00",
          "peak": 591
         },
         {
          "game": "Counter-Strike: Condition Zero",
          "month": "2024-11-01T00:00:00",
          "peak": 637
         },
         {
          "game": "Counter-Strike: Condition Zero",
          "month": "2024-12-01T00:00:00",
          "peak": 747
         },
         {
          "game": "Counter-Strike: Condition Zero",
          "month": "2025-01-01T00:00:00",
          "peak": 673
         },
         {
          "game": "Counter-Strike: Condition Zero",
          "month": "2025-02-01T00:00:00",
          "peak": 642
         },
         {
          "game": "Counter-Strike: Condition Zero",
          "month": "2025-03-01T00:00:00",
          "peak": 644
         },
         {
          "game": "Counter-Strike: Condition Zero",
          "month": "2025-04-01T00:00:00",
          "peak": 616
         },
         {
          "game": "Counter-Strike: Condition Zero",
          "month": "2025-05-01T00:00:00",
          "peak": 580
         },
         {
          "game": "Counter-Strike: Condition Zero",
          "month": "2025-06-01T00:00:00",
          "peak": 559
         },
         {
          "game": "Counter-Strike: Condition Zero",
          "month": "2025-07-01T00:00:00",
          "peak": 588
         },
         {
          "game": "Counter-Strike: Condition Zero",
          "month": "2025-08-01T00:00:00",
          "peak": 557
         },
         {
          "game": "Counter-Strike: Global Offensive",
          "month": "2011-11-01T00:00:00",
          "peak": 680
         },
         {
          "game": "Counter-Strike: Global Offensive",
          "month": "2012-02-01T00:00:00",
          "peak": 204
         },
         {
          "game": "Counter-Strike: Global Offensive",
          "month": "2012-03-01T00:00:00",
          "peak": 1263
         },
         {
          "game": "Counter-Strike: Global Offensive",
          "month": "2012-04-01T00:00:00",
          "peak": 1899
         },
         {
          "game": "Counter-Strike: Global Offensive",
          "month": "2012-05-01T00:00:00",
          "peak": 2919
         },
         {
          "game": "Counter-Strike: Global Offensive",
          "month": "2012-06-01T00:00:00",
          "peak": 2732
         },
         {
          "game": "Counter-Strike: Global Offensive",
          "month": "2012-07-01T00:00:00",
          "peak": 52261
         },
         {
          "game": "Counter-Strike: Global Offensive",
          "month": "2012-08-01T00:00:00",
          "peak": 52596
         },
         {
          "game": "Counter-Strike: Global Offensive",
          "month": "2012-09-01T00:00:00",
          "peak": 36870
         },
         {
          "game": "Counter-Strike: Global Offensive",
          "month": "2012-10-01T00:00:00",
          "peak": 50533
         },
         {
          "game": "Counter-Strike: Global Offensive",
          "month": "2012-11-01T00:00:00",
          "peak": 50533
         },
         {
          "game": "Counter-Strike: Global Offensive",
          "month": "2012-12-01T00:00:00",
          "peak": 31359
         },
         {
          "game": "Counter-Strike: Global Offensive",
          "month": "2013-01-01T00:00:00",
          "peak": 35238
         },
         {
          "game": "Counter-Strike: Global Offensive",
          "month": "2013-02-01T00:00:00",
          "peak": 35597
         },
         {
          "game": "Counter-Strike: Global Offensive",
          "month": "2013-03-01T00:00:00",
          "peak": 32414
         },
         {
          "game": "Counter-Strike: Global Offensive",
          "month": "2013-04-01T00:00:00",
          "peak": 53379
         },
         {
          "game": "Counter-Strike: Global Offensive",
          "month": "2013-05-01T00:00:00",
          "peak": 53381
         },
         {
          "game": "Counter-Strike: Global Offensive",
          "month": "2013-06-01T00:00:00",
          "peak": 42149
         },
         {
          "game": "Counter-Strike: Global Offensive",
          "month": "2013-07-01T00:00:00",
          "peak": 50511
         },
         {
          "game": "Counter-Strike: Global Offensive",
          "month": "2013-08-01T00:00:00",
          "peak": 52052
         },
         {
          "game": "Counter-Strike: Global Offensive",
          "month": "2013-09-01T00:00:00",
          "peak": 53263
         },
         {
          "game": "Counter-Strike: Global Offensive",
          "month": "2013-10-01T00:00:00",
          "peak": 92279
         },
         {
          "game": "Counter-Strike: Global Offensive",
          "month": "2013-11-01T00:00:00",
          "peak": 96298
         },
         {
          "game": "Counter-Strike: Global Offensive",
          "month": "2013-12-01T00:00:00",
          "peak": 102084
         },
         {
          "game": "Counter-Strike: Global Offensive",
          "month": "2014-01-01T00:00:00",
          "peak": 119764
         },
         {
          "game": "Counter-Strike: Global Offensive",
          "month": "2014-02-01T00:00:00",
          "peak": 164495
         },
         {
          "game": "Counter-Strike: Global Offensive",
          "month": "2014-03-01T00:00:00",
          "peak": 164781
         },
         {
          "game": "Counter-Strike: Global Offensive",
          "month": "2014-04-01T00:00:00",
          "peak": 170137
         },
         {
          "game": "Counter-Strike: Global Offensive",
          "month": "2014-05-01T00:00:00",
          "peak": 173629
         },
         {
          "game": "Counter-Strike: Global Offensive",
          "month": "2014-06-01T00:00:00",
          "peak": 194016
         },
         {
          "game": "Counter-Strike: Global Offensive",
          "month": "2014-07-01T00:00:00",
          "peak": 277192
         },
         {
          "game": "Counter-Strike: Global Offensive",
          "month": "2014-08-01T00:00:00",
          "peak": 275014
         },
         {
          "game": "Counter-Strike: Global Offensive",
          "month": "2014-09-01T00:00:00",
          "peak": 260613
         },
         {
          "game": "Counter-Strike: Global Offensive",
          "month": "2014-10-01T00:00:00",
          "peak": 348018
         },
         {
          "game": "Counter-Strike: Global Offensive",
          "month": "2014-11-01T00:00:00",
          "peak": 367634
         },
         {
          "game": "Counter-Strike: Global Offensive",
          "month": "2014-12-01T00:00:00",
          "peak": 443188
         },
         {
          "game": "Counter-Strike: Global Offensive",
          "month": "2015-01-01T00:00:00",
          "peak": 455508
         },
         {
          "game": "Counter-Strike: Global Offensive",
          "month": "2015-02-01T00:00:00",
          "peak": 595439
         },
         {
          "game": "Counter-Strike: Global Offensive",
          "month": "2015-03-01T00:00:00",
          "peak": 568556
         },
         {
          "game": "Counter-Strike: Global Offensive",
          "month": "2015-04-01T00:00:00",
          "peak": 569848
         },
         {
          "game": "Counter-Strike: Global Offensive",
          "month": "2015-05-01T00:00:00",
          "peak": 681170
         },
         {
          "game": "Counter-Strike: Global Offensive",
          "month": "2015-06-01T00:00:00",
          "peak": 611284
         },
         {
          "game": "Counter-Strike: Global Offensive",
          "month": "2015-07-01T00:00:00",
          "peak": 546142
         },
         {
          "game": "Counter-Strike: Global Offensive",
          "month": "2015-08-01T00:00:00",
          "peak": 819902
         },
         {
          "game": "Counter-Strike: Global Offensive",
          "month": "2015-09-01T00:00:00",
          "peak": 725939
         },
         {
          "game": "Counter-Strike: Global Offensive",
          "month": "2015-10-01T00:00:00",
          "peak": 786707
         },
         {
          "game": "Counter-Strike: Global Offensive",
          "month": "2015-11-01T00:00:00",
          "peak": 691930
         },
         {
          "game": "Counter-Strike: Global Offensive",
          "month": "2015-12-01T00:00:00",
          "peak": 823694
         },
         {
          "game": "Counter-Strike: Global Offensive",
          "month": "2016-01-01T00:00:00",
          "peak": 667432
         },
         {
          "game": "Counter-Strike: Global Offensive",
          "month": "2016-02-01T00:00:00",
          "peak": 738969
         },
         {
          "game": "Counter-Strike: Global Offensive",
          "month": "2016-03-01T00:00:00",
          "peak": 800869
         },
         {
          "game": "Counter-Strike: Global Offensive",
          "month": "2016-04-01T00:00:00",
          "peak": 850485
         },
         {
          "game": "Counter-Strike: Global Offensive",
          "month": "2016-05-01T00:00:00",
          "peak": 638088
         },
         {
          "game": "Counter-Strike: Global Offensive",
          "month": "2016-06-01T00:00:00",
          "peak": 579110
         },
         {
          "game": "Counter-Strike: Global Offensive",
          "month": "2016-07-01T00:00:00",
          "peak": 636056
         },
         {
          "game": "Counter-Strike: Global Offensive",
          "month": "2016-08-01T00:00:00",
          "peak": 599095
         },
         {
          "game": "Counter-Strike: Global Offensive",
          "month": "2016-09-01T00:00:00",
          "peak": 638360
         },
         {
          "game": "Counter-Strike: Global Offensive",
          "month": "2016-10-01T00:00:00",
          "peak": 661985
         },
         {
          "game": "Counter-Strike: Global Offensive",
          "month": "2016-11-01T00:00:00",
          "peak": 627124
         },
         {
          "game": "Counter-Strike: Global Offensive",
          "month": "2016-12-01T00:00:00",
          "peak": 662460
         },
         {
          "game": "Counter-Strike: Global Offensive",
          "month": "2017-01-01T00:00:00",
          "peak": 814616
         },
         {
          "game": "Counter-Strike: Global Offensive",
          "month": "2017-02-01T00:00:00",
          "peak": 744468
         },
         {
          "game": "Counter-Strike: Global Offensive",
          "month": "2017-03-01T00:00:00",
          "peak": 742356
         },
         {
          "game": "Counter-Strike: Global Offensive",
          "month": "2017-04-01T00:00:00",
          "peak": 695235
         },
         {
          "game": "Counter-Strike: Global Offensive",
          "month": "2017-05-01T00:00:00",
          "peak": 697189
         },
         {
          "game": "Counter-Strike: Global Offensive",
          "month": "2017-06-01T00:00:00",
          "peak": 614621
         },
         {
          "game": "Counter-Strike: Global Offensive",
          "month": "2017-07-01T00:00:00",
          "peak": 640277
         },
         {
          "game": "Counter-Strike: Global Offensive",
          "month": "2017-08-01T00:00:00",
          "peak": 598656
         },
         {
          "game": "Counter-Strike: Global Offensive",
          "month": "2017-09-01T00:00:00",
          "peak": 681413
         },
         {
          "game": "Counter-Strike: Global Offensive",
          "month": "2017-10-01T00:00:00",
          "peak": 644082
         },
         {
          "game": "Counter-Strike: Global Offensive",
          "month": "2017-11-01T00:00:00",
          "peak": 602797
         },
         {
          "game": "Counter-Strike: Global Offensive",
          "month": "2017-12-01T00:00:00",
          "peak": 601351
         },
         {
          "game": "Counter-Strike: Global Offensive",
          "month": "2018-01-01T00:00:00",
          "peak": 719298
         },
         {
          "game": "Counter-Strike: Global Offensive",
          "month": "2018-02-01T00:00:00",
          "peak": 691196
         },
         {
          "game": "Counter-Strike: Global Offensive",
          "month": "2018-03-01T00:00:00",
          "peak": 674462
         },
         {
          "game": "Counter-Strike: Global Offensive",
          "month": "2018-04-01T00:00:00",
          "peak": 523827
         },
         {
          "game": "Counter-Strike: Global Offensive",
          "month": "2018-05-01T00:00:00",
          "peak": 454436
         },
         {
          "game": "Counter-Strike: Global Offensive",
          "month": "2018-06-01T00:00:00",
          "peak": 422310
         },
         {
          "game": "Counter-Strike: Global Offensive",
          "month": "2018-07-01T00:00:00",
          "peak": 429650
         },
         {
          "game": "Counter-Strike: Global Offensive",
          "month": "2018-08-01T00:00:00",
          "peak": 456907
         },
         {
          "game": "Counter-Strike: Global Offensive",
          "month": "2018-09-01T00:00:00",
          "peak": 587639
         },
         {
          "game": "Counter-Strike: Global Offensive",
          "month": "2018-10-01T00:00:00",
          "peak": 567916
         },
         {
          "game": "Counter-Strike: Global Offensive",
          "month": "2018-11-01T00:00:00",
          "peak": 546192
         },
         {
          "game": "Counter-Strike: Global Offensive",
          "month": "2018-12-01T00:00:00",
          "peak": 749638
         },
         {
          "game": "Counter-Strike: Global Offensive",
          "month": "2019-01-01T00:00:00",
          "peak": 687299
         },
         {
          "game": "Counter-Strike: Global Offensive",
          "month": "2019-02-01T00:00:00",
          "peak": 656097
         },
         {
          "game": "Counter-Strike: Global Offensive",
          "month": "2019-03-01T00:00:00",
          "peak": 683952
         },
         {
          "game": "Counter-Strike: Global Offensive",
          "month": "2019-04-01T00:00:00",
          "peak": 622852
         },
         {
          "game": "Counter-Strike: Global Offensive",
          "month": "2019-05-01T00:00:00",
          "peak": 592848
         },
         {
          "game": "Counter-Strike: Global Offensive",
          "month": "2019-06-01T00:00:00",
          "peak": 591839
         },
         {
          "game": "Counter-Strike: Global Offensive",
          "month": "2019-07-01T00:00:00",
          "peak": 579696
         },
         {
          "game": "Counter-Strike: Global Offensive",
          "month": "2019-08-01T00:00:00",
          "peak": 659195
         },
         {
          "game": "Counter-Strike: Global Offensive",
          "month": "2019-09-01T00:00:00",
          "peak": 723700
         },
         {
          "game": "Counter-Strike: Global Offensive",
          "month": "2019-10-01T00:00:00",
          "peak": 754909
         },
         {
          "game": "Counter-Strike: Global Offensive",
          "month": "2019-11-01T00:00:00",
          "peak": 764438
         },
         {
          "game": "Counter-Strike: Global Offensive",
          "month": "2019-12-01T00:00:00",
          "peak": 771640
         },
         {
          "game": "Counter-Strike: Global Offensive",
          "month": "2020-01-01T00:00:00",
          "peak": 822490
         },
         {
          "game": "Counter-Strike: Global Offensive",
          "month": "2020-02-01T00:00:00",
          "peak": 933748
         },
         {
          "game": "Counter-Strike: Global Offensive",
          "month": "2020-03-01T00:00:00",
          "peak": 1226724
         },
         {
          "game": "Counter-Strike: Global Offensive",
          "month": "2020-04-01T00:00:00",
          "peak": 1308963
         },
         {
          "game": "Counter-Strike: Global Offensive",
          "month": "2020-05-01T00:00:00",
          "peak": 1179111
         },
         {
          "game": "Counter-Strike: Global Offensive",
          "month": "2020-06-01T00:00:00",
          "peak": 957636
         },
         {
          "game": "Counter-Strike: Global Offensive",
          "month": "2020-07-01T00:00:00",
          "peak": 861948
         },
         {
          "game": "Counter-Strike: Global Offensive",
          "month": "2020-08-01T00:00:00",
          "peak": 932283
         },
         {
          "game": "Counter-Strike: Global Offensive",
          "month": "2020-09-01T00:00:00",
          "peak": 980879
         },
         {
          "game": "Counter-Strike: Global Offensive",
          "month": "2020-10-01T00:00:00",
          "peak": 951748
         },
         {
          "game": "Counter-Strike: Global Offensive",
          "month": "2020-11-01T00:00:00",
          "peak": 1040051
         },
         {
          "game": "Counter-Strike: Global Offensive",
          "month": "2020-12-01T00:00:00",
          "peak": 1169661
         },
         {
          "game": "Counter-Strike: Global Offensive",
          "month": "2021-01-01T00:00:00",
          "peak": 1125411
         },
         {
          "game": "Counter-Strike: Global Offensive",
          "month": "2021-02-01T00:00:00",
          "peak": 1125838
         },
         {
          "game": "Counter-Strike: Global Offensive",
          "month": "2021-03-01T00:00:00",
          "peak": 1201993
         },
         {
          "game": "Counter-Strike: Global Offensive",
          "month": "2021-04-01T00:00:00",
          "peak": 1150982
         },
         {
          "game": "Counter-Strike: Global Offensive",
          "month": "2021-05-01T00:00:00",
          "peak": 1088168
         },
         {
          "game": "Counter-Strike: Global Offensive",
          "month": "2021-06-01T00:00:00",
          "peak": 929940
         },
         {
          "game": "Counter-Strike: Global Offensive",
          "month": "2021-07-01T00:00:00",
          "peak": 766510
         },
         {
          "game": "Counter-Strike: Global Offensive",
          "month": "2021-08-01T00:00:00",
          "peak": 804133
         },
         {
          "game": "Counter-Strike: Global Offensive",
          "month": "2021-09-01T00:00:00",
          "peak": 949817
         },
         {
          "game": "Counter-Strike: Global Offensive",
          "month": "2021-10-01T00:00:00",
          "peak": 866030
         },
         {
          "game": "Counter-Strike: Global Offensive",
          "month": "2021-11-01T00:00:00",
          "peak": 944330
         },
         {
          "game": "Counter-Strike: Global Offensive",
          "month": "2021-12-01T00:00:00",
          "peak": 950586
         },
         {
          "game": "Counter-Strike: Global Offensive",
          "month": "2022-01-01T00:00:00",
          "peak": 992455
         },
         {
          "game": "Counter-Strike: Global Offensive",
          "month": "2022-02-01T00:00:00",
          "peak": 997730
         },
         {
          "game": "Counter-Strike: Global Offensive",
          "month": "2022-03-01T00:00:00",
          "peak": 993808
         },
         {
          "game": "Counter-Strike: Global Offensive",
          "month": "2022-04-01T00:00:00",
          "peak": 1016762
         },
         {
          "game": "Counter-Strike: Global Offensive",
          "month": "2022-05-01T00:00:00",
          "peak": 932681
         },
         {
          "game": "Counter-Strike: Global Offensive",
          "month": "2022-06-01T00:00:00",
          "peak": 906968
         },
         {
          "game": "Counter-Strike: Global Offensive",
          "month": "2022-07-01T00:00:00",
          "peak": 928329
         },
         {
          "game": "Counter-Strike: Global Offensive",
          "month": "2022-08-01T00:00:00",
          "peak": 1039889
         },
         {
          "game": "Counter-Strike: Global Offensive",
          "month": "2022-09-01T00:00:00",
          "peak": 1103223
         },
         {
          "game": "Counter-Strike: Global Offensive",
          "month": "2022-10-01T00:00:00",
          "peak": 1090858
         },
         {
          "game": "Counter-Strike: Global Offensive",
          "month": "2022-11-01T00:00:00",
          "peak": 1132952
         },
         {
          "game": "Counter-Strike: Global Offensive",
          "month": "2022-12-01T00:00:00",
          "peak": 1067327
         },
         {
          "game": "Counter-Strike: Global Offensive",
          "month": "2023-01-01T00:00:00",
          "peak": 1200077
         },
         {
          "game": "Counter-Strike: Global Offensive",
          "month": "2023-02-01T00:00:00",
          "peak": 1355797
         },
         {
          "game": "Counter-Strike: Global Offensive",
          "month": "2023-03-01T00:00:00",
          "peak": 1519457
         },
         {
          "game": "Counter-Strike: Global Offensive",
          "month": "2023-04-01T00:00:00",
          "peak": 1514410
         },
         {
          "game": "Counter-Strike: Global Offensive",
          "month": "2023-05-01T00:00:00",
          "peak": 1818773
         },
         {
          "game": "Counter-Strike: Global Offensive",
          "month": "2023-06-01T00:00:00",
          "peak": 1673717
         },
         {
          "game": "Counter-Strike: Global Offensive",
          "month": "2023-07-01T00:00:00",
          "peak": 1226527
         },
         {
          "game": "Counter-Strike: Global Offensive",
          "month": "2023-08-01T00:00:00",
          "peak": 1539504
         },
         {
          "game": "Counter-Strike 2",
          "month": "2023-09-01T00:00:00",
          "peak": 1560435
         },
         {
          "game": "Counter-Strike 2",
          "month": "2023-10-01T00:00:00",
          "peak": 1392488
         },
         {
          "game": "Counter-Strike 2",
          "month": "2023-11-01T00:00:00",
          "peak": 1163388
         },
         {
          "game": "Counter-Strike 2",
          "month": "2023-12-01T00:00:00",
          "peak": 1255172
         },
         {
          "game": "Counter-Strike 2",
          "month": "2024-01-01T00:00:00",
          "peak": 1312422
         },
         {
          "game": "Counter-Strike 2",
          "month": "2024-02-01T00:00:00",
          "peak": 1403250
         },
         {
          "game": "Counter-Strike 2",
          "month": "2024-03-01T00:00:00",
          "peak": 1525069
         },
         {
          "game": "Counter-Strike 2",
          "month": "2024-04-01T00:00:00",
          "peak": 1618685
         },
         {
          "game": "Counter-Strike 2",
          "month": "2024-05-01T00:00:00",
          "peak": 1631616
         },
         {
          "game": "Counter-Strike 2",
          "month": "2024-06-01T00:00:00",
          "peak": 1525896
         },
         {
          "game": "Counter-Strike 2",
          "month": "2024-07-01T00:00:00",
          "peak": 1347502
         },
         {
          "game": "Counter-Strike 2",
          "month": "2024-08-01T00:00:00",
          "peak": 1426478
         },
         {
          "game": "Counter-Strike 2",
          "month": "2024-09-01T00:00:00",
          "peak": 1482529
         },
         {
          "game": "Counter-Strike 2",
          "month": "2024-10-01T00:00:00",
          "peak": 1498661
         },
         {
          "game": "Counter-Strike 2",
          "month": "2024-11-01T00:00:00",
          "peak": 1562206
         },
         {
          "game": "Counter-Strike 2",
          "month": "2024-12-01T00:00:00",
          "peak": 1740261
         },
         {
          "game": "Counter-Strike 2",
          "month": "2025-01-01T00:00:00",
          "peak": 1604641
         },
         {
          "game": "Counter-Strike 2",
          "month": "2025-02-01T00:00:00",
          "peak": 1789374
         },
         {
          "game": "Counter-Strike 2",
          "month": "2025-03-01T00:00:00",
          "peak": 1824989
         },
         {
          "game": "Counter-Strike 2",
          "month": "2025-04-01T00:00:00",
          "peak": 1862531
         },
         {
          "game": "Counter-Strike 2",
          "month": "2025-05-01T00:00:00",
          "peak": 1722301
         },
         {
          "game": "Counter-Strike 2",
          "month": "2025-06-01T00:00:00",
          "peak": 1732079
         },
         {
          "game": "Counter-Strike 2",
          "month": "2025-07-01T00:00:00",
          "peak": 1433826
         },
         {
          "game": "Counter-Strike 2",
          "month": "2025-08-01T00:00:00",
          "peak": 1505419
         }
        ]
       },
       "encoding": {
        "color": {
         "field": "game",
         "scale": {
          "domain": [
           "Counter-Strike (1.6)",
           "Counter-Strike: Condition Zero",
           "Counter-Strike: Source",
           "Counter-Strike: Global Offensive",
           "Counter-Strike 2"
          ],
          "range": [
           "#FDD397",
           "#21283B",
           "#5952C6",
           "#EF3800",
           "#E58716"
          ]
         },
         "title": "Game/Version",
         "type": "nominal"
        },
        "tooltip": [
         {
          "field": "game",
          "type": "nominal"
         },
         {
          "field": "month",
          "type": "temporal"
         },
         {
          "field": "peak",
          "type": "quantitative"
         }
        ],
        "x": {
         "field": "month",
         "title": null,
         "type": "temporal"
        },
        "y": {
         "field": "peak",
         "title": null,
         "type": "quantitative"
        }
       },
       "height": 300,
       "mark": {
        "type": "line"
       },
       "width": 600
      },
      "text/plain": [
       "<VegaLite 5 object>\n",
       "\n",
       "If you see this message, it means the renderer has not been properly enabled\n",
       "for the frontend that you are using. For more information, see\n",
       "https://altair-viz.github.io/user_guide/display_frontends.html#troubleshooting\n"
      ]
     },
     "execution_count": 5,
     "metadata": {},
     "output_type": "execute_result"
    }
   ],
   "source": [
    "series = {\n",
    "    # \"All Counter-Strike (aggregate)\": cs_merged_grouped,\n",
    "    \"Counter-Strike (1.6)\": cs16_data,\n",
    "    \"Counter-Strike: Source\": css_data,\n",
    "    \"Counter-Strike: Condition Zero\": cscz_data,\n",
    "    \"Counter-Strike: Global Offensive\": csgo_data,\n",
    "    \"Counter-Strike 2\": cs2_data,\n",
    "}\n",
    "\n",
    "colors = {\n",
    "    # \"All Counter-Strike (aggregate)\":  \"#0057B8\",  # deep royal blue (highlighted)\n",
    "    \"Counter-Strike (1.6)\":            \"#FDD397\",  # green\n",
    "    \"Counter-Strike: Condition Zero\":  \"#21283B\",  # medium gray (subtle)\n",
    "    \"Counter-Strike: Source\":          \"#5952C6\",  # sky blue\n",
    "    \"Counter-Strike: Global Offensive\":\"#EF3800\",  # vermillion (strong contrast vs blue)\n",
    "    \"Counter-Strike 2\":                \"#E58716\",  # magenta\n",
    "}\n",
    "\n",
    "order = [\n",
    "#     \"All Counter-Strike (aggregate)\",\n",
    "    \"Counter-Strike (1.6)\",\n",
    "    \"Counter-Strike: Condition Zero\",\n",
    "    \"Counter-Strike: Source\",\n",
    "    \"Counter-Strike: Global Offensive\",\n",
    "    \"Counter-Strike 2\",\n",
    "]\n",
    "\n",
    "# Combine all series into one tidy DataFrame\n",
    "frames = []\n",
    "for name, df in series.items():\n",
    "    df[\"game\"] = name\n",
    "    frames.append(df[[\"month\", \"peak\", \"game\"]])\n",
    "\n",
    "combined = pd.concat(frames, ignore_index=True)\n",
    "\n",
    "# Build Altair chart\n",
    "chart = (\n",
    "    alt.Chart(combined)\n",
    "    .mark_line()\n",
    "    .encode(\n",
    "        x=alt.X(\"month:T\", title=None),\n",
    "        y=alt.Y(\"peak:Q\", title=None),\n",
    "        color=alt.Color(\"game:N\", title=\"Game/Version\", scale=alt.Scale(domain=order, range=[colors[k] for k in order])),\n",
    "        tooltip=[\"game\", \"month\", \"peak\"],\n",
    "    )\n",
    "    .properties(width=600, height=300)\n",
    "    .configure(background=\"white\")\n",
    "    .configure_axis(\n",
    "        labelColor=\"#3b415c\"  # change tick label color\n",
    "    )\n",
    "    .configure_legend(\n",
    "        labelColor=\"#3b415c\",  # legend text color\n",
    "        titleColor=\"#3b415c\"   # legend title color\n",
    "    )\n",
    ")\n",
    "\n",
    "chart"
   ]
  },
  {
   "cell_type": "markdown",
   "id": "5e3b4ac7",
   "metadata": {},
   "source": [
    "### Event Annotated Time Series"
   ]
  },
  {
   "cell_type": "code",
   "execution_count": null,
   "id": "c86a1386",
   "metadata": {},
   "outputs": [
    {
     "data": {
      "application/vnd.vegalite.v5+json": {
       "$schema": "https://vega.github.io/schema/vega-lite/v5.20.1.json",
       "background": "white",
       "config": {
        "axis": {
         "domainColor": "#3b415c",
         "labelColor": "#3b415c",
         "labelFontSize": 18,
         "tickColor": "#3b415c"
        },
        "view": {
         "continuousHeight": 300,
         "continuousWidth": 300,
         "strokeWidth": 0
        }
       },
       "data": {
        "name": "data-c9765203c17d6061dca7c5f6bf3a74ab"
       },
       "datasets": {
        "data-c9765203c17d6061dca7c5f6bf3a74ab": [
         {
          "% gain": 0,
          "gain": 0,
          "month": "2004-01-01T00:00:00",
          "peak": 23241,
          "period": "Pre-CS:GO (≤ Oct 2011)"
         },
         {
          "% gain": 70.9,
          "gain": 16468,
          "month": "2004-02-01T00:00:00",
          "peak": 39709,
          "period": "Pre-CS:GO (≤ Oct 2011)"
         },
         {
          "% gain": 88.7,
          "gain": 35217,
          "month": "2004-04-01T00:00:00",
          "peak": 84182,
          "period": "Pre-CS:GO (≤ Oct 2011)"
         },
         {
          "% gain": 40.900000000000006,
          "gain": -3274,
          "month": "2004-06-01T00:00:00",
          "peak": 80908,
          "period": "Pre-CS:GO (≤ Oct 2011)"
         },
         {
          "% gain": 11.9,
          "gain": 3896,
          "month": "2004-07-01T00:00:00",
          "peak": 84804,
          "period": "Pre-CS:GO (≤ Oct 2011)"
         },
         {
          "% gain": 26.6,
          "gain": 21525,
          "month": "2004-08-01T00:00:00",
          "peak": 106329,
          "period": "Pre-CS:GO (≤ Oct 2011)"
         },
         {
          "% gain": 15.2,
          "gain": 5884,
          "month": "2004-09-01T00:00:00",
          "peak": 112213,
          "period": "Pre-CS:GO (≤ Oct 2011)"
         },
         {
          "% gain": -21.5,
          "gain": -17190,
          "month": "2004-10-01T00:00:00",
          "peak": 104471,
          "period": "Pre-CS:GO (≤ Oct 2011)"
         },
         {
          "% gain": 72.4,
          "gain": 5018,
          "month": "2004-11-01T00:00:00",
          "peak": 109489,
          "period": "Pre-CS:GO (≤ Oct 2011)"
         },
         {
          "% gain": 270.9,
          "gain": 75343,
          "month": "2004-12-01T00:00:00",
          "peak": 184832,
          "period": "Pre-CS:GO (≤ Oct 2011)"
         },
         {
          "% gain": -88.7,
          "gain": -61745,
          "month": "2005-01-01T00:00:00",
          "peak": 123087,
          "period": "Pre-CS:GO (≤ Oct 2011)"
         },
         {
          "% gain": 22.4,
          "gain": 10753,
          "month": "2005-02-01T00:00:00",
          "peak": 133840,
          "period": "Pre-CS:GO (≤ Oct 2011)"
         },
         {
          "% gain": 54.4,
          "gain": 26373,
          "month": "2005-03-01T00:00:00",
          "peak": 160213,
          "period": "Pre-CS:GO (≤ Oct 2011)"
         },
         {
          "% gain": -28.6,
          "gain": -16036,
          "month": "2005-04-01T00:00:00",
          "peak": 144177,
          "period": "Pre-CS:GO (≤ Oct 2011)"
         },
         {
          "% gain": 35.9,
          "gain": 11094,
          "month": "2005-05-01T00:00:00",
          "peak": 155271,
          "period": "Pre-CS:GO (≤ Oct 2011)"
         },
         {
          "% gain": -87.4,
          "gain": -40472,
          "month": "2005-06-01T00:00:00",
          "peak": 114799,
          "period": "Pre-CS:GO (≤ Oct 2011)"
         },
         {
          "% gain": 125.1,
          "gain": 44658,
          "month": "2005-07-01T00:00:00",
          "peak": 159457,
          "period": "Pre-CS:GO (≤ Oct 2011)"
         },
         {
          "% gain": 110.2,
          "gain": 46206,
          "month": "2005-08-01T00:00:00",
          "peak": 205663,
          "period": "Pre-CS:GO (≤ Oct 2011)"
         },
         {
          "% gain": -32.4,
          "gain": -20516,
          "month": "2005-09-01T00:00:00",
          "peak": 185147,
          "period": "Pre-CS:GO (≤ Oct 2011)"
         },
         {
          "% gain": -103.3,
          "gain": -56639,
          "month": "2005-11-01T00:00:00",
          "peak": 128508,
          "period": "Pre-CS:GO (≤ Oct 2011)"
         },
         {
          "% gain": 302.2,
          "gain": 78110,
          "month": "2005-12-01T00:00:00",
          "peak": 206618,
          "period": "Pre-CS:GO (≤ Oct 2011)"
         },
         {
          "% gain": -8,
          "gain": -964,
          "month": "2006-08-01T00:00:00",
          "peak": 205654,
          "period": "Pre-CS:GO (≤ Oct 2011)"
         },
         {
          "% gain": -118.3,
          "gain": -67856,
          "month": "2006-11-01T00:00:00",
          "peak": 137798,
          "period": "Pre-CS:GO (≤ Oct 2011)"
         },
         {
          "% gain": 303,
          "gain": 46134,
          "month": "2006-12-01T00:00:00",
          "peak": 183932,
          "period": "Pre-CS:GO (≤ Oct 2011)"
         },
         {
          "% gain": 77.2,
          "gain": 47638,
          "month": "2007-01-01T00:00:00",
          "peak": 231570,
          "period": "Pre-CS:GO (≤ Oct 2011)"
         },
         {
          "% gain": 43.8,
          "gain": 51718,
          "month": "2007-02-01T00:00:00",
          "peak": 283288,
          "period": "Pre-CS:GO (≤ Oct 2011)"
         },
         {
          "% gain": -81.3,
          "gain": -58760,
          "month": "2007-03-01T00:00:00",
          "peak": 224528,
          "period": "Pre-CS:GO (≤ Oct 2011)"
         },
         {
          "% gain": -60.2,
          "gain": -93226,
          "month": "2007-04-01T00:00:00",
          "peak": 131302,
          "period": "Pre-CS:GO (≤ Oct 2011)"
         },
         {
          "% gain": 275.6,
          "gain": 131837,
          "month": "2007-05-01T00:00:00",
          "peak": 263139,
          "period": "Pre-CS:GO (≤ Oct 2011)"
         },
         {
          "% gain": 94.7,
          "gain": 81853,
          "month": "2007-06-01T00:00:00",
          "peak": 344992,
          "period": "Pre-CS:GO (≤ Oct 2011)"
         },
         {
          "% gain": -5.1000000000000005,
          "gain": -1638,
          "month": "2007-07-01T00:00:00",
          "peak": 343354,
          "period": "Pre-CS:GO (≤ Oct 2011)"
         },
         {
          "% gain": -14.7,
          "gain": -35944,
          "month": "2007-08-01T00:00:00",
          "peak": 307410,
          "period": "Pre-CS:GO (≤ Oct 2011)"
         },
         {
          "% gain": 73.5,
          "gain": 97484,
          "month": "2007-09-01T00:00:00",
          "peak": 404894,
          "period": "Pre-CS:GO (≤ Oct 2011)"
         },
         {
          "% gain": -40.900000000000006,
          "gain": -69801,
          "month": "2007-10-01T00:00:00",
          "peak": 335093,
          "period": "Pre-CS:GO (≤ Oct 2011)"
         },
         {
          "% gain": -72.3,
          "gain": -25191,
          "month": "2007-11-01T00:00:00",
          "peak": 309902,
          "period": "Pre-CS:GO (≤ Oct 2011)"
         },
         {
          "% gain": 232.2,
          "gain": 116854,
          "month": "2007-12-01T00:00:00",
          "peak": 426756,
          "period": "Pre-CS:GO (≤ Oct 2011)"
         },
         {
          "% gain": -13,
          "gain": -76544,
          "month": "2008-01-01T00:00:00",
          "peak": 350212,
          "period": "Pre-CS:GO (≤ Oct 2011)"
         },
         {
          "% gain": -140.39999999999998,
          "gain": -182645,
          "month": "2008-09-01T00:00:00",
          "peak": 167567,
          "period": "Pre-CS:GO (≤ Oct 2011)"
         },
         {
          "% gain": 20.8,
          "gain": 9697,
          "month": "2008-10-01T00:00:00",
          "peak": 177264,
          "period": "Pre-CS:GO (≤ Oct 2011)"
         },
         {
          "% gain": -113.9,
          "gain": -63492,
          "month": "2008-11-01T00:00:00",
          "peak": 113772,
          "period": "Pre-CS:GO (≤ Oct 2011)"
         },
         {
          "% gain": 33.9,
          "gain": 16471,
          "month": "2008-12-01T00:00:00",
          "peak": 130243,
          "period": "Pre-CS:GO (≤ Oct 2011)"
         },
         {
          "% gain": -46.6,
          "gain": -16689,
          "month": "2009-01-01T00:00:00",
          "peak": 113554,
          "period": "Pre-CS:GO (≤ Oct 2011)"
         },
         {
          "% gain": 183.3,
          "gain": 71009,
          "month": "2009-02-01T00:00:00",
          "peak": 184563,
          "period": "Pre-CS:GO (≤ Oct 2011)"
         },
         {
          "% gain": -8.2,
          "gain": -4837,
          "month": "2009-03-01T00:00:00",
          "peak": 179726,
          "period": "Pre-CS:GO (≤ Oct 2011)"
         },
         {
          "% gain": -111,
          "gain": -64362,
          "month": "2009-04-01T00:00:00",
          "peak": 115364,
          "period": "Pre-CS:GO (≤ Oct 2011)"
         },
         {
          "% gain": 87,
          "gain": 30680,
          "month": "2009-05-01T00:00:00",
          "peak": 146044,
          "period": "Pre-CS:GO (≤ Oct 2011)"
         },
         {
          "% gain": 25.4,
          "gain": 12836,
          "month": "2009-06-01T00:00:00",
          "peak": 158880,
          "period": "Pre-CS:GO (≤ Oct 2011)"
         },
         {
          "% gain": -44.7,
          "gain": -33707,
          "month": "2009-07-01T00:00:00",
          "peak": 125173,
          "period": "Pre-CS:GO (≤ Oct 2011)"
         },
         {
          "% gain": 74,
          "gain": 35635,
          "month": "2009-08-01T00:00:00",
          "peak": 160808,
          "period": "Pre-CS:GO (≤ Oct 2011)"
         },
         {
          "% gain": -22.3,
          "gain": -12995,
          "month": "2009-09-01T00:00:00",
          "peak": 147813,
          "period": "Pre-CS:GO (≤ Oct 2011)"
         },
         {
          "% gain": 20.3,
          "gain": 10294,
          "month": "2009-10-01T00:00:00",
          "peak": 158107,
          "period": "Pre-CS:GO (≤ Oct 2011)"
         },
         {
          "% gain": -126.6,
          "gain": -65655,
          "month": "2009-11-01T00:00:00",
          "peak": 92452,
          "period": "Pre-CS:GO (≤ Oct 2011)"
         },
         {
          "% gain": 226.7,
          "gain": 68303,
          "month": "2009-12-01T00:00:00",
          "peak": 160755,
          "period": "Pre-CS:GO (≤ Oct 2011)"
         },
         {
          "% gain": 13.2,
          "gain": 10675,
          "month": "2010-01-01T00:00:00",
          "peak": 171430,
          "period": "Pre-CS:GO (≤ Oct 2011)"
         },
         {
          "% gain": -36.9,
          "gain": -22614,
          "month": "2010-02-01T00:00:00",
          "peak": 148816,
          "period": "Pre-CS:GO (≤ Oct 2011)"
         },
         {
          "% gain": 51.2,
          "gain": 27826,
          "month": "2010-03-01T00:00:00",
          "peak": 176642,
          "period": "Pre-CS:GO (≤ Oct 2011)"
         },
         {
          "% gain": -15.9,
          "gain": -8719,
          "month": "2010-04-01T00:00:00",
          "peak": 167923,
          "period": "Pre-CS:GO (≤ Oct 2011)"
         },
         {
          "% gain": 152.4,
          "gain": 117612,
          "month": "2010-05-01T00:00:00",
          "peak": 285535,
          "period": "Pre-CS:GO (≤ Oct 2011)"
         },
         {
          "% gain": -75.30000000000001,
          "gain": -133604,
          "month": "2010-06-01T00:00:00",
          "peak": 151931,
          "period": "Pre-CS:GO (≤ Oct 2011)"
         },
         {
          "% gain": -28.5,
          "gain": -17636,
          "month": "2010-07-01T00:00:00",
          "peak": 134295,
          "period": "Pre-CS:GO (≤ Oct 2011)"
         },
         {
          "% gain": 18.2,
          "gain": 10164,
          "month": "2010-08-01T00:00:00",
          "peak": 144459,
          "period": "Pre-CS:GO (≤ Oct 2011)"
         },
         {
          "% gain": 16.7,
          "gain": 8428,
          "month": "2010-09-01T00:00:00",
          "peak": 152887,
          "period": "Pre-CS:GO (≤ Oct 2011)"
         },
         {
          "% gain": 4.3,
          "gain": 3559,
          "month": "2010-10-01T00:00:00",
          "peak": 156446,
          "period": "Pre-CS:GO (≤ Oct 2011)"
         },
         {
          "% gain": 11.5,
          "gain": 7167,
          "month": "2010-11-01T00:00:00",
          "peak": 163613,
          "period": "Pre-CS:GO (≤ Oct 2011)"
         },
         {
          "% gain": 2.2,
          "gain": 2100,
          "month": "2010-12-01T00:00:00",
          "peak": 165713,
          "period": "Pre-CS:GO (≤ Oct 2011)"
         },
         {
          "% gain": 14.5,
          "gain": 12886,
          "month": "2011-01-01T00:00:00",
          "peak": 178599,
          "period": "Pre-CS:GO (≤ Oct 2011)"
         },
         {
          "% gain": -8.2,
          "gain": -5105,
          "month": "2011-02-01T00:00:00",
          "peak": 173494,
          "period": "Pre-CS:GO (≤ Oct 2011)"
         },
         {
          "% gain": -13.4,
          "gain": -6233,
          "month": "2011-03-01T00:00:00",
          "peak": 167261,
          "period": "Pre-CS:GO (≤ Oct 2011)"
         },
         {
          "% gain": -24.4,
          "gain": -13262,
          "month": "2011-04-01T00:00:00",
          "peak": 153999,
          "period": "Pre-CS:GO (≤ Oct 2011)"
         },
         {
          "% gain": -16.4,
          "gain": -12102,
          "month": "2011-05-01T00:00:00",
          "peak": 141897,
          "period": "Pre-CS:GO (≤ Oct 2011)"
         },
         {
          "% gain": -7.9,
          "gain": 549,
          "month": "2011-06-01T00:00:00",
          "peak": 142446,
          "period": "Pre-CS:GO (≤ Oct 2011)"
         },
         {
          "% gain": -33.8,
          "gain": -19021,
          "month": "2011-07-01T00:00:00",
          "peak": 123425,
          "period": "Pre-CS:GO (≤ Oct 2011)"
         },
         {
          "% gain": 11.8,
          "gain": 8228,
          "month": "2011-08-01T00:00:00",
          "peak": 131653,
          "period": "Pre-CS:GO (≤ Oct 2011)"
         },
         {
          "% gain": 0.2999999999999999,
          "gain": -139,
          "month": "2011-09-01T00:00:00",
          "peak": 131514,
          "period": "Pre-CS:GO (≤ Oct 2011)"
         },
         {
          "% gain": 4.9,
          "gain": 4326,
          "month": "2011-10-01T00:00:00",
          "peak": 135840,
          "period": "Pre-CS:GO (≤ Oct 2011)"
         },
         {
          "% gain": -3.9,
          "gain": -2873,
          "month": "2011-11-01T00:00:00",
          "peak": 133647,
          "period": "Pre-CS:GO (≤ Oct 2011)"
         },
         {
          "% gain": -3.9,
          "gain": -2873,
          "month": "2011-11-01T00:00:00",
          "peak": 133647,
          "period": "CS:GO Era (Nov 2011–Sep 26, 2023)"
         },
         {
          "% gain": 10.2,
          "gain": 7547,
          "month": "2011-12-01T00:00:00",
          "peak": 140514,
          "period": "CS:GO Era (Nov 2011–Sep 26, 2023)"
         },
         {
          "% gain": 17.4,
          "gain": 11739,
          "month": "2012-01-01T00:00:00",
          "peak": 152253,
          "period": "CS:GO Era (Nov 2011–Sep 26, 2023)"
         },
         {
          "% gain": -74.5,
          "gain": -2903,
          "month": "2012-02-01T00:00:00",
          "peak": 150030,
          "period": "CS:GO Era (Nov 2011–Sep 26, 2023)"
         },
         {
          "% gain": 510.4,
          "gain": -328,
          "month": "2012-03-01T00:00:00",
          "peak": 149702,
          "period": "CS:GO Era (Nov 2011–Sep 26, 2023)"
         },
         {
          "% gain": 33.8,
          "gain": -9711,
          "month": "2012-04-01T00:00:00",
          "peak": 139991,
          "period": "CS:GO Era (Nov 2011–Sep 26, 2023)"
         },
         {
          "% gain": 27.500000000000004,
          "gain": -13757,
          "month": "2012-05-01T00:00:00",
          "peak": 126234,
          "period": "CS:GO Era (Nov 2011–Sep 26, 2023)"
         },
         {
          "% gain": -22.7,
          "gain": -5838,
          "month": "2012-06-01T00:00:00",
          "peak": 120396,
          "period": "CS:GO Era (Nov 2011–Sep 26, 2023)"
         },
         {
          "% gain": 1785.8000000000002,
          "gain": 38859,
          "month": "2012-07-01T00:00:00",
          "peak": 159255,
          "period": "CS:GO Era (Nov 2011–Sep 26, 2023)"
         },
         {
          "% gain": -7.9,
          "gain": 115,
          "month": "2012-08-01T00:00:00",
          "peak": 159370,
          "period": "CS:GO Era (Nov 2011–Sep 26, 2023)"
         },
         {
          "% gain": -38.9,
          "gain": -19339,
          "month": "2012-09-01T00:00:00",
          "peak": 140031,
          "period": "CS:GO Era (Nov 2011–Sep 26, 2023)"
         },
         {
          "% gain": 41.5,
          "gain": 15787,
          "month": "2012-10-01T00:00:00",
          "peak": 155818,
          "period": "CS:GO Era (Nov 2011–Sep 26, 2023)"
         },
         {
          "% gain": 10.6,
          "gain": 3420,
          "month": "2012-11-01T00:00:00",
          "peak": 159238,
          "period": "CS:GO Era (Nov 2011–Sep 26, 2023)"
         },
         {
          "% gain": -21.7,
          "gain": -10876,
          "month": "2012-12-01T00:00:00",
          "peak": 148362,
          "period": "CS:GO Era (Nov 2011–Sep 26, 2023)"
         },
         {
          "% gain": 12.2,
          "gain": 3479,
          "month": "2013-01-01T00:00:00",
          "peak": 151841,
          "period": "CS:GO Era (Nov 2011–Sep 26, 2023)"
         },
         {
          "% gain": -15.7,
          "gain": -7574,
          "month": "2013-02-01T00:00:00",
          "peak": 144267,
          "period": "CS:GO Era (Nov 2011–Sep 26, 2023)"
         },
         {
          "% gain": -40.8,
          "gain": -15449,
          "month": "2013-03-01T00:00:00",
          "peak": 128818,
          "period": "CS:GO Era (Nov 2011–Sep 26, 2023)"
         },
         {
          "% gain": 16,
          "gain": 9713,
          "month": "2013-04-01T00:00:00",
          "peak": 138531,
          "period": "CS:GO Era (Nov 2011–Sep 26, 2023)"
         },
         {
          "% gain": -37,
          "gain": -13332,
          "month": "2013-05-01T00:00:00",
          "peak": 125199,
          "period": "CS:GO Era (Nov 2011–Sep 26, 2023)"
         },
         {
          "% gain": -31.7,
          "gain": -13981,
          "month": "2013-06-01T00:00:00",
          "peak": 111218,
          "period": "CS:GO Era (Nov 2011–Sep 26, 2023)"
         },
         {
          "% gain": 5.500000000000002,
          "gain": 5220,
          "month": "2013-07-01T00:00:00",
          "peak": 116438,
          "period": "CS:GO Era (Nov 2011–Sep 26, 2023)"
         },
         {
          "% gain": 20,
          "gain": 5907,
          "month": "2013-08-01T00:00:00",
          "peak": 122345,
          "period": "CS:GO Era (Nov 2011–Sep 26, 2023)"
         },
         {
          "% gain": 8.3,
          "gain": 2127,
          "month": "2013-09-01T00:00:00",
          "peak": 124472,
          "period": "CS:GO Era (Nov 2011–Sep 26, 2023)"
         },
         {
          "% gain": 83.5,
          "gain": 41902,
          "month": "2013-10-01T00:00:00",
          "peak": 166374,
          "period": "CS:GO Era (Nov 2011–Sep 26, 2023)"
         },
         {
          "% gain": 10.1,
          "gain": 5298,
          "month": "2013-11-01T00:00:00",
          "peak": 171672,
          "period": "CS:GO Era (Nov 2011–Sep 26, 2023)"
         },
         {
          "% gain": 22.6,
          "gain": 12199,
          "month": "2013-12-01T00:00:00",
          "peak": 183871,
          "period": "CS:GO Era (Nov 2011–Sep 26, 2023)"
         },
         {
          "% gain": 23.700000000000003,
          "gain": 18649,
          "month": "2014-01-01T00:00:00",
          "peak": 202520,
          "period": "CS:GO Era (Nov 2011–Sep 26, 2023)"
         },
         {
          "% gain": 3.699999999999996,
          "gain": 36655,
          "month": "2014-02-01T00:00:00",
          "peak": 239175,
          "period": "CS:GO Era (Nov 2011–Sep 26, 2023)"
         },
         {
          "% gain": -20.8,
          "gain": -5222,
          "month": "2014-03-01T00:00:00",
          "peak": 233953,
          "period": "CS:GO Era (Nov 2011–Sep 26, 2023)"
         },
         {
          "% gain": -14.8,
          "gain": -118,
          "month": "2014-04-01T00:00:00",
          "peak": 233835,
          "period": "CS:GO Era (Nov 2011–Sep 26, 2023)"
         },
         {
          "% gain": -12.3,
          "gain": 12,
          "month": "2014-05-01T00:00:00",
          "peak": 233847,
          "period": "CS:GO Era (Nov 2011–Sep 26, 2023)"
         },
         {
          "% gain": -3.3000000000000007,
          "gain": 17435,
          "month": "2014-06-01T00:00:00",
          "peak": 251282,
          "period": "CS:GO Era (Nov 2011–Sep 26, 2023)"
         },
         {
          "% gain": 19.8,
          "gain": 78184,
          "month": "2014-07-01T00:00:00",
          "peak": 329466,
          "period": "CS:GO Era (Nov 2011–Sep 26, 2023)"
         },
         {
          "% gain": 0.5999999999999999,
          "gain": -1199,
          "month": "2014-08-01T00:00:00",
          "peak": 328267,
          "period": "CS:GO Era (Nov 2011–Sep 26, 2023)"
         },
         {
          "% gain": 2.6,
          "gain": -13304,
          "month": "2014-09-01T00:00:00",
          "peak": 314963,
          "period": "CS:GO Era (Nov 2011–Sep 26, 2023)"
         },
         {
          "% gain": 42.7,
          "gain": 89766,
          "month": "2014-10-01T00:00:00",
          "peak": 404729,
          "period": "CS:GO Era (Nov 2011–Sep 26, 2023)"
         },
         {
          "% gain": 33.9,
          "gain": 24502,
          "month": "2014-11-01T00:00:00",
          "peak": 429231,
          "period": "CS:GO Era (Nov 2011–Sep 26, 2023)"
         },
         {
          "% gain": 30,
          "gain": 77261,
          "month": "2014-12-01T00:00:00",
          "peak": 506492,
          "period": "CS:GO Era (Nov 2011–Sep 26, 2023)"
         },
         {
          "% gain": -3.9,
          "gain": 12378,
          "month": "2015-01-01T00:00:00",
          "peak": 518870,
          "period": "CS:GO Era (Nov 2011–Sep 26, 2023)"
         },
         {
          "% gain": 2.5,
          "gain": 134070,
          "month": "2015-02-01T00:00:00",
          "peak": 652940,
          "period": "CS:GO Era (Nov 2011–Sep 26, 2023)"
         },
         {
          "% gain": -37.2,
          "gain": -34831,
          "month": "2015-03-01T00:00:00",
          "peak": 618109,
          "period": "CS:GO Era (Nov 2011–Sep 26, 2023)"
         },
         {
          "% gain": -22.7,
          "gain": -2450,
          "month": "2015-04-01T00:00:00",
          "peak": 615659,
          "period": "CS:GO Era (Nov 2011–Sep 26, 2023)"
         },
         {
          "% gain": 11,
          "gain": 109492,
          "month": "2015-05-01T00:00:00",
          "peak": 725151,
          "period": "CS:GO Era (Nov 2011–Sep 26, 2023)"
         },
         {
          "% gain": -29.3,
          "gain": -73489,
          "month": "2015-06-01T00:00:00",
          "peak": 651662,
          "period": "CS:GO Era (Nov 2011–Sep 26, 2023)"
         },
         {
          "% gain": -26.1,
          "gain": -66823,
          "month": "2015-07-01T00:00:00",
          "peak": 584839,
          "period": "CS:GO Era (Nov 2011–Sep 26, 2023)"
         },
         {
          "% gain": 41.5,
          "gain": 272481,
          "month": "2015-08-01T00:00:00",
          "peak": 857320,
          "period": "CS:GO Era (Nov 2011–Sep 26, 2023)"
         },
         {
          "% gain": -6.9,
          "gain": -93491,
          "month": "2015-09-01T00:00:00",
          "peak": 763829,
          "period": "CS:GO Era (Nov 2011–Sep 26, 2023)"
         },
         {
          "% gain": 16.1,
          "gain": 62319,
          "month": "2015-10-01T00:00:00",
          "peak": 826148,
          "period": "CS:GO Era (Nov 2011–Sep 26, 2023)"
         },
         {
          "% gain": 7.4,
          "gain": -92469,
          "month": "2015-11-01T00:00:00",
          "peak": 733679,
          "period": "CS:GO Era (Nov 2011–Sep 26, 2023)"
         },
         {
          "% gain": 35.3,
          "gain": 134090,
          "month": "2015-12-01T00:00:00",
          "peak": 867769,
          "period": "CS:GO Era (Nov 2011–Sep 26, 2023)"
         },
         {
          "% gain": 3.799999999999997,
          "gain": -153025,
          "month": "2016-01-01T00:00:00",
          "peak": 714744,
          "period": "CS:GO Era (Nov 2011–Sep 26, 2023)"
         },
         {
          "% gain": 11.3,
          "gain": 71029,
          "month": "2016-02-01T00:00:00",
          "peak": 785773,
          "period": "CS:GO Era (Nov 2011–Sep 26, 2023)"
         },
         {
          "% gain": -12.9,
          "gain": 59461,
          "month": "2016-03-01T00:00:00",
          "peak": 845234,
          "period": "CS:GO Era (Nov 2011–Sep 26, 2023)"
         },
         {
          "% gain": -31.8,
          "gain": 44225,
          "month": "2016-04-01T00:00:00",
          "peak": 889459,
          "period": "CS:GO Era (Nov 2011–Sep 26, 2023)"
         },
         {
          "% gain": -46.9,
          "gain": -215975,
          "month": "2016-05-01T00:00:00",
          "peak": 673484,
          "period": "CS:GO Era (Nov 2011–Sep 26, 2023)"
         },
         {
          "% gain": -13.3,
          "gain": -59728,
          "month": "2016-06-01T00:00:00",
          "peak": 613756,
          "period": "CS:GO Era (Nov 2011–Sep 26, 2023)"
         },
         {
          "% gain": -13.9,
          "gain": 54637,
          "month": "2016-07-01T00:00:00",
          "peak": 668393,
          "period": "CS:GO Era (Nov 2011–Sep 26, 2023)"
         },
         {
          "% gain": -14.8,
          "gain": -36991,
          "month": "2016-08-01T00:00:00",
          "peak": 631402,
          "period": "CS:GO Era (Nov 2011–Sep 26, 2023)"
         },
         {
          "% gain": 17.9,
          "gain": 40076,
          "month": "2016-09-01T00:00:00",
          "peak": 671478,
          "period": "CS:GO Era (Nov 2011–Sep 26, 2023)"
         },
         {
          "% gain": 21.3,
          "gain": 25547,
          "month": "2016-10-01T00:00:00",
          "peak": 697025,
          "period": "CS:GO Era (Nov 2011–Sep 26, 2023)"
         },
         {
          "% gain": 23,
          "gain": -32597,
          "month": "2016-11-01T00:00:00",
          "peak": 664428,
          "period": "CS:GO Era (Nov 2011–Sep 26, 2023)"
         },
         {
          "% gain": 21,
          "gain": 37798,
          "month": "2016-12-01T00:00:00",
          "peak": 702226,
          "period": "CS:GO Era (Nov 2011–Sep 26, 2023)"
         },
         {
          "% gain": 43.400000000000006,
          "gain": 155791,
          "month": "2017-01-01T00:00:00",
          "peak": 858017,
          "period": "CS:GO Era (Nov 2011–Sep 26, 2023)"
         },
         {
          "% gain": -31,
          "gain": -72674,
          "month": "2017-02-01T00:00:00",
          "peak": 785343,
          "period": "CS:GO Era (Nov 2011–Sep 26, 2023)"
         },
         {
          "% gain": -11.5,
          "gain": -4512,
          "month": "2017-03-01T00:00:00",
          "peak": 780831,
          "period": "CS:GO Era (Nov 2011–Sep 26, 2023)"
         },
         {
          "% gain": -46.9,
          "gain": -52294,
          "month": "2017-04-01T00:00:00",
          "peak": 728537,
          "period": "CS:GO Era (Nov 2011–Sep 26, 2023)"
         },
         {
          "% gain": -10.2,
          "gain": 742,
          "month": "2017-05-01T00:00:00",
          "peak": 729279,
          "period": "CS:GO Era (Nov 2011–Sep 26, 2023)"
         },
         {
          "% gain": -23,
          "gain": -84683,
          "month": "2017-06-01T00:00:00",
          "peak": 644596,
          "period": "CS:GO Era (Nov 2011–Sep 26, 2023)"
         },
         {
          "% gain": 7.1,
          "gain": 25765,
          "month": "2017-07-01T00:00:00",
          "peak": 670361,
          "period": "CS:GO Era (Nov 2011–Sep 26, 2023)"
         },
         {
          "% gain": -31.3,
          "gain": -44317,
          "month": "2017-08-01T00:00:00",
          "peak": 626044,
          "period": "CS:GO Era (Nov 2011–Sep 26, 2023)"
         },
         {
          "% gain": 20.2,
          "gain": 83424,
          "month": "2017-09-01T00:00:00",
          "peak": 709468,
          "period": "CS:GO Era (Nov 2011–Sep 26, 2023)"
         },
         {
          "% gain": 15.5,
          "gain": -34633,
          "month": "2017-10-01T00:00:00",
          "peak": 674835,
          "period": "CS:GO Era (Nov 2011–Sep 26, 2023)"
         },
         {
          "% gain": 52.6,
          "gain": -36540,
          "month": "2017-11-01T00:00:00",
          "peak": 638295,
          "period": "CS:GO Era (Nov 2011–Sep 26, 2023)"
         },
         {
          "% gain": 13.2,
          "gain": 231,
          "month": "2017-12-01T00:00:00",
          "peak": 638526,
          "period": "CS:GO Era (Nov 2011–Sep 26, 2023)"
         },
         {
          "% gain": 28.9,
          "gain": 120250,
          "month": "2018-01-01T00:00:00",
          "peak": 758776,
          "period": "CS:GO Era (Nov 2011–Sep 26, 2023)"
         },
         {
          "% gain": -15.9,
          "gain": -29928,
          "month": "2018-02-01T00:00:00",
          "peak": 728848,
          "period": "CS:GO Era (Nov 2011–Sep 26, 2023)"
         },
         {
          "% gain": -22.6,
          "gain": -17936,
          "month": "2018-03-01T00:00:00",
          "peak": 710912,
          "period": "CS:GO Era (Nov 2011–Sep 26, 2023)"
         },
         {
          "% gain": -59.8,
          "gain": -154893,
          "month": "2018-04-01T00:00:00",
          "peak": 556019,
          "period": "CS:GO Era (Nov 2011–Sep 26, 2023)"
         },
         {
          "% gain": -52.3,
          "gain": -74627,
          "month": "2018-05-01T00:00:00",
          "peak": 481392,
          "period": "CS:GO Era (Nov 2011–Sep 26, 2023)"
         },
         {
          "% gain": 6.9,
          "gain": -31983,
          "month": "2018-06-01T00:00:00",
          "peak": 449409,
          "period": "CS:GO Era (Nov 2011–Sep 26, 2023)"
         },
         {
          "% gain": -14.9,
          "gain": 6267,
          "month": "2018-07-01T00:00:00",
          "peak": 455676,
          "period": "CS:GO Era (Nov 2011–Sep 26, 2023)"
         },
         {
          "% gain": -11.1,
          "gain": 26070,
          "month": "2018-08-01T00:00:00",
          "peak": 481746,
          "period": "CS:GO Era (Nov 2011–Sep 26, 2023)"
         },
         {
          "% gain": 28.6,
          "gain": 131134,
          "month": "2018-09-01T00:00:00",
          "peak": 612880,
          "period": "CS:GO Era (Nov 2011–Sep 26, 2023)"
         },
         {
          "% gain": 7.399999999999999,
          "gain": -18767,
          "month": "2018-10-01T00:00:00",
          "peak": 594113,
          "period": "CS:GO Era (Nov 2011–Sep 26, 2023)"
         },
         {
          "% gain": 51.2,
          "gain": -17825,
          "month": "2018-11-01T00:00:00",
          "peak": 576288,
          "period": "CS:GO Era (Nov 2011–Sep 26, 2023)"
         },
         {
          "% gain": 47.1,
          "gain": 205047,
          "month": "2018-12-01T00:00:00",
          "peak": 781335,
          "period": "CS:GO Era (Nov 2011–Sep 26, 2023)"
         },
         {
          "% gain": -6.700000000000001,
          "gain": -61080,
          "month": "2019-01-01T00:00:00",
          "peak": 720255,
          "period": "CS:GO Era (Nov 2011–Sep 26, 2023)"
         },
         {
          "% gain": -23.2,
          "gain": -33552,
          "month": "2019-02-01T00:00:00",
          "peak": 686703,
          "period": "CS:GO Era (Nov 2011–Sep 26, 2023)"
         },
         {
          "% gain": -20.1,
          "gain": 25032,
          "month": "2019-03-01T00:00:00",
          "peak": 711735,
          "period": "CS:GO Era (Nov 2011–Sep 26, 2023)"
         },
         {
          "% gain": -35,
          "gain": -63829,
          "month": "2019-04-01T00:00:00",
          "peak": 647906,
          "period": "CS:GO Era (Nov 2011–Sep 26, 2023)"
         },
         {
          "% gain": -16.2,
          "gain": -30965,
          "month": "2019-05-01T00:00:00",
          "peak": 616941,
          "period": "CS:GO Era (Nov 2011–Sep 26, 2023)"
         },
         {
          "% gain": -9,
          "gain": -2428,
          "month": "2019-06-01T00:00:00",
          "peak": 614513,
          "period": "CS:GO Era (Nov 2011–Sep 26, 2023)"
         },
         {
          "% gain": -0.7999999999999998,
          "gain": -11707,
          "month": "2019-07-01T00:00:00",
          "peak": 602806,
          "period": "CS:GO Era (Nov 2011–Sep 26, 2023)"
         },
         {
          "% gain": -13.4,
          "gain": 78086,
          "month": "2019-08-01T00:00:00",
          "peak": 680892,
          "period": "CS:GO Era (Nov 2011–Sep 26, 2023)"
         },
         {
          "% gain": 14.6,
          "gain": 64533,
          "month": "2019-09-01T00:00:00",
          "peak": 745425,
          "period": "CS:GO Era (Nov 2011–Sep 26, 2023)"
         },
         {
          "% gain": 6,
          "gain": 31326,
          "month": "2019-10-01T00:00:00",
          "peak": 776751,
          "period": "CS:GO Era (Nov 2011–Sep 26, 2023)"
         },
         {
          "% gain": 38.8,
          "gain": 12712,
          "month": "2019-11-01T00:00:00",
          "peak": 789463,
          "period": "CS:GO Era (Nov 2011–Sep 26, 2023)"
         },
         {
          "% gain": 26.9,
          "gain": 9301,
          "month": "2019-12-01T00:00:00",
          "peak": 798764,
          "period": "CS:GO Era (Nov 2011–Sep 26, 2023)"
         },
         {
          "% gain": 7,
          "gain": 51564,
          "month": "2020-01-01T00:00:00",
          "peak": 850328,
          "period": "CS:GO Era (Nov 2011–Sep 26, 2023)"
         },
         {
          "% gain": -13,
          "gain": 108907,
          "month": "2020-02-01T00:00:00",
          "peak": 959235,
          "period": "CS:GO Era (Nov 2011–Sep 26, 2023)"
         },
         {
          "% gain": 276.5,
          "gain": 310639,
          "month": "2020-03-01T00:00:00",
          "peak": 1269874,
          "period": "CS:GO Era (Nov 2011–Sep 26, 2023)"
         },
         {
          "% gain": 14.4,
          "gain": 84186,
          "month": "2020-04-01T00:00:00",
          "peak": 1354060,
          "period": "CS:GO Era (Nov 2011–Sep 26, 2023)"
         },
         {
          "% gain": -43.9,
          "gain": -133975,
          "month": "2020-05-01T00:00:00",
          "peak": 1220085,
          "period": "CS:GO Era (Nov 2011–Sep 26, 2023)"
         },
         {
          "% gain": -104.3,
          "gain": -233105,
          "month": "2020-06-01T00:00:00",
          "peak": 986980,
          "period": "CS:GO Era (Nov 2011–Sep 26, 2023)"
         },
         {
          "% gain": -32.1,
          "gain": -99109,
          "month": "2020-07-01T00:00:00",
          "peak": 887871,
          "period": "CS:GO Era (Nov 2011–Sep 26, 2023)"
         },
         {
          "% gain": -28,
          "gain": 67998,
          "month": "2020-08-01T00:00:00",
          "peak": 955869,
          "period": "CS:GO Era (Nov 2011–Sep 26, 2023)"
         },
         {
          "% gain": -8.899999999999999,
          "gain": 47886,
          "month": "2020-09-01T00:00:00",
          "peak": 1003755,
          "period": "CS:GO Era (Nov 2011–Sep 26, 2023)"
         },
         {
          "% gain": 24.6,
          "gain": -26635,
          "month": "2020-10-01T00:00:00",
          "peak": 977120,
          "period": "CS:GO Era (Nov 2011–Sep 26, 2023)"
         },
         {
          "% gain": 52.1,
          "gain": 92001,
          "month": "2020-11-01T00:00:00",
          "peak": 1069121,
          "period": "CS:GO Era (Nov 2011–Sep 26, 2023)"
         },
         {
          "% gain": 40.4,
          "gain": 132401,
          "month": "2020-12-01T00:00:00",
          "peak": 1201522,
          "period": "CS:GO Era (Nov 2011–Sep 26, 2023)"
         },
         {
          "% gain": 7.3,
          "gain": -42969,
          "month": "2021-01-01T00:00:00",
          "peak": 1158553,
          "period": "CS:GO Era (Nov 2011–Sep 26, 2023)"
         },
         {
          "% gain": -26.7,
          "gain": -2393,
          "month": "2021-02-01T00:00:00",
          "peak": 1156160,
          "period": "CS:GO Era (Nov 2011–Sep 26, 2023)"
         },
         {
          "% gain": 22,
          "gain": 78027,
          "month": "2021-03-01T00:00:00",
          "peak": 1234187,
          "period": "CS:GO Era (Nov 2011–Sep 26, 2023)"
         },
         {
          "% gain": -13.9,
          "gain": -51994,
          "month": "2021-04-01T00:00:00",
          "peak": 1182193,
          "period": "CS:GO Era (Nov 2011–Sep 26, 2023)"
         },
         {
          "% gain": -44.3,
          "gain": -68086,
          "month": "2021-05-01T00:00:00",
          "peak": 1114107,
          "period": "CS:GO Era (Nov 2011–Sep 26, 2023)"
         },
         {
          "% gain": -47.6,
          "gain": -161022,
          "month": "2021-06-01T00:00:00",
          "peak": 953085,
          "period": "CS:GO Era (Nov 2011–Sep 26, 2023)"
         },
         {
          "% gain": -32.300000000000004,
          "gain": -164957,
          "month": "2021-07-01T00:00:00",
          "peak": 788128,
          "period": "CS:GO Era (Nov 2011–Sep 26, 2023)"
         },
         {
          "% gain": -21.7,
          "gain": 36052,
          "month": "2021-08-01T00:00:00",
          "peak": 824180,
          "period": "CS:GO Era (Nov 2011–Sep 26, 2023)"
         },
         {
          "% gain": 28,
          "gain": 146608,
          "month": "2021-09-01T00:00:00",
          "peak": 970788,
          "period": "CS:GO Era (Nov 2011–Sep 26, 2023)"
         },
         {
          "% gain": 0.2999999999999989,
          "gain": -82689,
          "month": "2021-10-01T00:00:00",
          "peak": 888099,
          "period": "CS:GO Era (Nov 2011–Sep 26, 2023)"
         },
         {
          "% gain": 29.9,
          "gain": 79449,
          "month": "2021-11-01T00:00:00",
          "peak": 967548,
          "period": "CS:GO Era (Nov 2011–Sep 26, 2023)"
         },
         {
          "% gain": 18,
          "gain": 7076,
          "month": "2021-12-01T00:00:00",
          "peak": 974624,
          "period": "CS:GO Era (Nov 2011–Sep 26, 2023)"
         },
         {
          "% gain": 38.400000000000006,
          "gain": 45176,
          "month": "2022-01-01T00:00:00",
          "peak": 1019800,
          "period": "CS:GO Era (Nov 2011–Sep 26, 2023)"
         },
         {
          "% gain": 8.399999999999999,
          "gain": 6257,
          "month": "2022-02-01T00:00:00",
          "peak": 1026057,
          "period": "CS:GO Era (Nov 2011–Sep 26, 2023)"
         },
         {
          "% gain": -25.4,
          "gain": -6310,
          "month": "2022-03-01T00:00:00",
          "peak": 1019747,
          "period": "CS:GO Era (Nov 2011–Sep 26, 2023)"
         },
         {
          "% gain": -2.4000000000000004,
          "gain": 22789,
          "month": "2022-04-01T00:00:00",
          "peak": 1042536,
          "period": "CS:GO Era (Nov 2011–Sep 26, 2023)"
         },
         {
          "% gain": -45.3,
          "gain": -87628,
          "month": "2022-05-01T00:00:00",
          "peak": 954908,
          "period": "CS:GO Era (Nov 2011–Sep 26, 2023)"
         },
         {
          "% gain": -4.9,
          "gain": -26342,
          "month": "2022-06-01T00:00:00",
          "peak": 928566,
          "period": "CS:GO Era (Nov 2011–Sep 26, 2023)"
         },
         {
          "% gain": 3.8,
          "gain": 21829,
          "month": "2022-07-01T00:00:00",
          "peak": 950395,
          "period": "CS:GO Era (Nov 2011–Sep 26, 2023)"
         },
         {
          "% gain": -5.800000000000001,
          "gain": 110370,
          "month": "2022-08-01T00:00:00",
          "peak": 1060765,
          "period": "CS:GO Era (Nov 2011–Sep 26, 2023)"
         },
         {
          "% gain": 7.199999999999999,
          "gain": 63426,
          "month": "2022-09-01T00:00:00",
          "peak": 1124191,
          "period": "CS:GO Era (Nov 2011–Sep 26, 2023)"
         },
         {
          "% gain": -14.6,
          "gain": -13564,
          "month": "2022-10-01T00:00:00",
          "peak": 1110627,
          "period": "CS:GO Era (Nov 2011–Sep 26, 2023)"
         },
         {
          "% gain": 78.7,
          "gain": 45599,
          "month": "2022-11-01T00:00:00",
          "peak": 1156226,
          "period": "CS:GO Era (Nov 2011–Sep 26, 2023)"
         },
         {
          "% gain": -13.1,
          "gain": -65883,
          "month": "2022-12-01T00:00:00",
          "peak": 1090343,
          "period": "CS:GO Era (Nov 2011–Sep 26, 2023)"
         },
         {
          "% gain": 21.4,
          "gain": 133864,
          "month": "2023-01-01T00:00:00",
          "peak": 1224207,
          "period": "CS:GO Era (Nov 2011–Sep 26, 2023)"
         },
         {
          "% gain": -14.8,
          "gain": 154120,
          "month": "2023-02-01T00:00:00",
          "peak": 1378327,
          "period": "CS:GO Era (Nov 2011–Sep 26, 2023)"
         },
         {
          "% gain": 33.1,
          "gain": 163904,
          "month": "2023-03-01T00:00:00",
          "peak": 1542231,
          "period": "CS:GO Era (Nov 2011–Sep 26, 2023)"
         },
         {
          "% gain": -19.7,
          "gain": -6129,
          "month": "2023-04-01T00:00:00",
          "peak": 1536102,
          "period": "CS:GO Era (Nov 2011–Sep 26, 2023)"
         },
         {
          "% gain": -19,
          "gain": 301794,
          "month": "2023-05-01T00:00:00",
          "peak": 1837896,
          "period": "CS:GO Era (Nov 2011–Sep 26, 2023)"
         },
         {
          "% gain": 6.300000000000001,
          "gain": -145414,
          "month": "2023-06-01T00:00:00",
          "peak": 1692482,
          "period": "CS:GO Era (Nov 2011–Sep 26, 2023)"
         },
         {
          "% gain": -23,
          "gain": -446642,
          "month": "2023-07-01T00:00:00",
          "peak": 1245840,
          "period": "CS:GO Era (Nov 2011–Sep 26, 2023)"
         },
         {
          "% gain": -12.5,
          "gain": 311199,
          "month": "2023-08-01T00:00:00",
          "peak": 1557039,
          "period": "CS:GO Era (Nov 2011–Sep 26, 2023)"
         },
         {
          "% gain": 52.8,
          "gain": 23118,
          "month": "2023-09-01T00:00:00",
          "peak": 1580157,
          "period": "CS:GO Era (Nov 2011–Sep 26, 2023)"
         },
         {
          "% gain": -10.4,
          "gain": -167332,
          "month": "2023-10-01T00:00:00",
          "peak": 1412825,
          "period": "CS:GO Era (Nov 2011–Sep 26, 2023)"
         },
         {
          "% gain": -10.4,
          "gain": -167332,
          "month": "2023-10-01T00:00:00",
          "peak": 1412825,
          "period": "CS2 Era (≥ Sep 27, 2023)"
         },
         {
          "% gain": -8.2,
          "gain": -228300,
          "month": "2023-11-01T00:00:00",
          "peak": 1184525,
          "period": "CS2 Era (≥ Sep 27, 2023)"
         },
         {
          "% gain": 17.8,
          "gain": 91904,
          "month": "2023-12-01T00:00:00",
          "peak": 1276429,
          "period": "CS2 Era (≥ Sep 27, 2023)"
         },
         {
          "% gain": 9.3,
          "gain": 58323,
          "month": "2024-01-01T00:00:00",
          "peak": 1334752,
          "period": "CS2 Era (≥ Sep 27, 2023)"
         },
         {
          "% gain": 111.2,
          "gain": 97186,
          "month": "2024-02-01T00:00:00",
          "peak": 1431938,
          "period": "CS2 Era (≥ Sep 27, 2023)"
         },
         {
          "% gain": 24.2,
          "gain": 123126,
          "month": "2024-03-01T00:00:00",
          "peak": 1555064,
          "period": "CS2 Era (≥ Sep 27, 2023)"
         },
         {
          "% gain": -6.9,
          "gain": 92913,
          "month": "2024-04-01T00:00:00",
          "peak": 1647977,
          "period": "CS2 Era (≥ Sep 27, 2023)"
         },
         {
          "% gain": -1.0999999999999994,
          "gain": 13581,
          "month": "2024-05-01T00:00:00",
          "peak": 1661558,
          "period": "CS2 Era (≥ Sep 27, 2023)"
         },
         {
          "% gain": 25.1,
          "gain": -103360,
          "month": "2024-06-01T00:00:00",
          "peak": 1558198,
          "period": "CS2 Era (≥ Sep 27, 2023)"
         },
         {
          "% gain": 26.6,
          "gain": -172752,
          "month": "2024-07-01T00:00:00",
          "peak": 1385446,
          "period": "CS2 Era (≥ Sep 27, 2023)"
         },
         {
          "% gain": -21,
          "gain": 75686,
          "month": "2024-08-01T00:00:00",
          "peak": 1461132,
          "period": "CS2 Era (≥ Sep 27, 2023)"
         },
         {
          "% gain": -2.100000000000001,
          "gain": 53901,
          "month": "2024-09-01T00:00:00",
          "peak": 1515033,
          "period": "CS2 Era (≥ Sep 27, 2023)"
         },
         {
          "% gain": -4.100000000000001,
          "gain": 14319,
          "month": "2024-10-01T00:00:00",
          "peak": 1529352,
          "period": "CS2 Era (≥ Sep 27, 2023)"
         },
         {
          "% gain": 16.3,
          "gain": 64374,
          "month": "2024-11-01T00:00:00",
          "peak": 1593726,
          "period": "CS2 Era (≥ Sep 27, 2023)"
         },
         {
          "% gain": 67.2,
          "gain": 183603,
          "month": "2024-12-01T00:00:00",
          "peak": 1777329,
          "period": "CS2 Era (≥ Sep 27, 2023)"
         },
         {
          "% gain": -5.7,
          "gain": -133532,
          "month": "2025-01-01T00:00:00",
          "peak": 1643797,
          "period": "CS2 Era (≥ Sep 27, 2023)"
         },
         {
          "% gain": 2.9000000000000004,
          "gain": 183828,
          "month": "2025-02-01T00:00:00",
          "peak": 1827625,
          "period": "CS2 Era (≥ Sep 27, 2023)"
         },
         {
          "% gain": 9.5,
          "gain": 36803,
          "month": "2025-03-01T00:00:00",
          "peak": 1864428,
          "period": "CS2 Era (≥ Sep 27, 2023)"
         },
         {
          "% gain": -19.3,
          "gain": 34097,
          "month": "2025-04-01T00:00:00",
          "peak": 1898525,
          "period": "CS2 Era (≥ Sep 27, 2023)"
         },
         {
          "% gain": -47,
          "gain": -146178,
          "month": "2025-05-01T00:00:00",
          "peak": 1752347,
          "period": "CS2 Era (≥ Sep 27, 2023)"
         },
         {
          "% gain": 29.8,
          "gain": 14225,
          "month": "2025-06-01T00:00:00",
          "peak": 1766572,
          "period": "CS2 Era (≥ Sep 27, 2023)"
         },
         {
          "% gain": 194,
          "gain": -260545,
          "month": "2025-07-01T00:00:00",
          "peak": 1506027,
          "period": "CS2 Era (≥ Sep 27, 2023)"
         },
         {
          "% gain": -3.2,
          "gain": 75527,
          "month": "2025-08-01T00:00:00",
          "peak": 1581554,
          "period": "CS2 Era (≥ Sep 27, 2023)"
         }
        ]
       },
       "encoding": {
        "color": {
         "field": "period",
         "legend": null,
         "scale": {
          "domain": [
           "Pre-CS:GO (≤ Oct 2011)",
           "CS:GO Era (Nov 2011–Sep 26, 2023)",
           "CS2 Era (≥ Sep 27, 2023)"
          ],
          "range": [
           "#6A7FDB",
           "#EF3800",
           "#E58716"
          ]
         },
         "title": null,
         "type": "nominal"
        },
        "tooltip": [
         {
          "field": "period",
          "type": "nominal"
         },
         {
          "field": "month",
          "type": "temporal"
         },
         {
          "field": "peak",
          "type": "quantitative"
         }
        ],
        "x": {
         "axis": {
          "domain": true,
          "grid": false
         },
         "field": "month",
         "title": null,
         "type": "temporal"
        },
        "y": {
         "axis": {
          "domain": true,
          "grid": false,
          "title": "Peak CCU",
          "titleColor": "#3b415c",
          "titleFontSize": 22
         },
         "field": "peak",
         "type": "quantitative"
        }
       },
       "height": 400,
       "mark": {
        "strokeWidth": 5,
        "type": "line"
       },
       "width": 1920
      },
      "text/plain": [
       "<VegaLite 5 object>\n",
       "\n",
       "If you see this message, it means the renderer has not been properly enabled\n",
       "for the frontend that you are using. For more information, see\n",
       "https://altair-viz.github.io/user_guide/display_frontends.html#troubleshooting\n"
      ]
     },
     "execution_count": 6,
     "metadata": {},
     "output_type": "execute_result"
    }
   ],
   "source": [
    "cs_early_period = cs_merged_data[cs_merged_data['month'] <= pd.to_datetime(\"2011-11-01\")].copy()\n",
    "cs_go_period = cs_merged_data[cs_merged_data['month'] >= pd.to_datetime(\"2011-11-01\")].copy()\n",
    "cs_go_period = cs_go_period[cs_go_period['month'] <= pd.to_datetime(\"2023-10-01\")].copy()\n",
    "cs_2_period = cs_merged_data[cs_merged_data['month'] >= pd.to_datetime(\"2023-10-01\")].copy()    \n",
    "\n",
    "# Label periods\n",
    "early = cs_early_period.assign(period=\"Pre-CS:GO (≤ Oct 2011)\")\n",
    "go    = cs_go_period.assign(period=\"CS:GO Era (Nov 2011–Sep 26, 2023)\")\n",
    "cs2   = cs_2_period.assign(period=\"CS2 Era (≥ Sep 27, 2023)\")\n",
    "\n",
    "combined_periods = pd.concat([early, go, cs2], ignore_index=True)\n",
    "\n",
    "# Plot three connected lines (one per period)\n",
    "chart = (\n",
    "    alt.Chart(combined_periods, background=\"white\")\n",
    "    .mark_line(strokeWidth=5)\n",
    "    .encode(\n",
    "        x=alt.X('month:T', title=None, axis=alt.Axis(grid=False, domain=True)),\n",
    "        y=alt.Y('peak:Q', axis=alt.Axis(title=\"Peak CCU\", titleColor=\"#3b415c\", grid=False, domain=True,\n",
    "          titleFontSize=22)),\n",
    "        color=alt.Color(\n",
    "            'period:N',\n",
    "            title=None,\n",
    "            legend=None,\n",
    "            scale=alt.Scale(\n",
    "                domain=[\"Pre-CS:GO (≤ Oct 2011)\", \"CS:GO Era (Nov 2011–Sep 26, 2023)\", \"CS2 Era (≥ Sep 27, 2023)\"],\n",
    "                range=[\"#6A7FDB\", \"#EF3800\", \"#E58716\"]\n",
    "            ),\n",
    "        ),\n",
    "        tooltip=[\"period:N\", \"month:T\", \"peak:Q\"]\n",
    "    )\n",
    "    .properties(width=1920, height=400)\n",
    "    .configure_view(strokeWidth=0)\n",
    "    .configure_axis(\n",
    "        labelColor=\"#3b415c\",\n",
    "        labelFontSize=18,\n",
    "        domainColor=\"#3b415c\",\n",
    "        tickColor=\"#3b415c\"\n",
    "    )\n",
    ")\n",
    "\n",
    "chart\n",
    "\n",
    "\n"
   ]
  },
  {
   "cell_type": "markdown",
   "id": "9d20530a",
   "metadata": {},
   "source": [
    "### Rival Title Player Trends Heatmap"
   ]
  },
  {
   "cell_type": "code",
   "execution_count": null,
   "id": "0eacfbe9",
   "metadata": {},
   "outputs": [
    {
     "data": {
      "application/vnd.vegalite.v5+json": {
       "$schema": "https://vega.github.io/schema/vega-lite/v5.20.1.json",
       "background": "white",
       "config": {
        "view": {
         "continuousHeight": 300,
         "continuousWidth": 300
        }
       },
       "data": {
        "name": "data-06976725d1dbff514ac1136d7a83ac76"
       },
       "datasets": {
        "data-06976725d1dbff514ac1136d7a83ac76": [
         {
          "game": "Counter-Strike",
          "norm_peak": 0.5034798066920373,
          "peak": 955869,
          "ym": "2020-08-01T00:00:00"
         },
         {
          "game": "Counter-Strike",
          "norm_peak": 0.5287025453970846,
          "peak": 1003755,
          "ym": "2020-09-01T00:00:00"
         },
         {
          "game": "Counter-Strike",
          "norm_peak": 0.514673233167854,
          "peak": 977120,
          "ym": "2020-10-01T00:00:00"
         },
         {
          "game": "Counter-Strike",
          "norm_peak": 0.5631324317562318,
          "peak": 1069121,
          "ym": "2020-11-01T00:00:00"
         },
         {
          "game": "Counter-Strike",
          "norm_peak": 0.6328713079890969,
          "peak": 1201522,
          "ym": "2020-12-01T00:00:00"
         },
         {
          "game": "Counter-Strike",
          "norm_peak": 0.6102384746052857,
          "peak": 1158553,
          "ym": "2021-01-01T00:00:00"
         },
         {
          "game": "Counter-Strike",
          "norm_peak": 0.6089780224121357,
          "peak": 1156160,
          "ym": "2021-02-01T00:00:00"
         },
         {
          "game": "Counter-Strike",
          "norm_peak": 0.6500767701241753,
          "peak": 1234187,
          "ym": "2021-03-01T00:00:00"
         },
         {
          "game": "Counter-Strike",
          "norm_peak": 0.6226902463754757,
          "peak": 1182193,
          "ym": "2021-04-01T00:00:00"
         },
         {
          "game": "Counter-Strike",
          "norm_peak": 0.5868276688481848,
          "peak": 1114107,
          "ym": "2021-05-01T00:00:00"
         },
         {
          "game": "Counter-Strike",
          "norm_peak": 0.5020134051434666,
          "peak": 953085,
          "ym": "2021-06-01T00:00:00"
         },
         {
          "game": "Counter-Strike",
          "norm_peak": 0.4151264797671877,
          "peak": 788128,
          "ym": "2021-07-01T00:00:00"
         },
         {
          "game": "Counter-Strike",
          "norm_peak": 0.43411595844142165,
          "peak": 824180,
          "ym": "2021-08-01T00:00:00"
         },
         {
          "game": "Counter-Strike",
          "norm_peak": 0.5113380124043665,
          "peak": 970788,
          "ym": "2021-09-01T00:00:00"
         },
         {
          "game": "Counter-Strike",
          "norm_peak": 0.4677836741681042,
          "peak": 888099,
          "ym": "2021-10-01T00:00:00"
         },
         {
          "game": "Counter-Strike",
          "norm_peak": 0.5096314243952542,
          "peak": 967548,
          "ym": "2021-11-01T00:00:00"
         },
         {
          "game": "Counter-Strike",
          "norm_peak": 0.5133585283312044,
          "peak": 974624,
          "ym": "2021-12-01T00:00:00"
         },
         {
          "game": "Counter-Strike",
          "norm_peak": 0.5371538431150499,
          "peak": 1019800,
          "ym": "2022-01-01T00:00:00"
         },
         {
          "game": "Counter-Strike",
          "norm_peak": 0.5404495595264746,
          "peak": 1026057,
          "ym": "2022-02-01T00:00:00"
         },
         {
          "game": "Counter-Strike",
          "norm_peak": 0.5371259267062588,
          "peak": 1019747,
          "ym": "2022-03-01T00:00:00"
         },
         {
          "game": "Counter-Strike",
          "norm_peak": 0.5491294557617098,
          "peak": 1042536,
          "ym": "2022-04-01T00:00:00"
         },
         {
          "game": "Counter-Strike",
          "norm_peak": 0.5029736242609394,
          "peak": 954908,
          "ym": "2022-05-01T00:00:00"
         },
         {
          "game": "Counter-Strike",
          "norm_peak": 0.48909864236710077,
          "peak": 928566,
          "ym": "2022-06-01T00:00:00"
         },
         {
          "game": "Counter-Strike",
          "norm_peak": 0.500596515716148,
          "peak": 950395,
          "ym": "2022-07-01T00:00:00"
         },
         {
          "game": "Counter-Strike",
          "norm_peak": 0.5587311202117433,
          "peak": 1060765,
          "ym": "2022-08-01T00:00:00"
         },
         {
          "game": "Counter-Strike",
          "norm_peak": 0.5921391606641998,
          "peak": 1124191,
          "ym": "2022-09-01T00:00:00"
         },
         {
          "game": "Counter-Strike",
          "norm_peak": 0.5849946669124715,
          "peak": 1110627,
          "ym": "2022-10-01T00:00:00"
         },
         {
          "game": "Counter-Strike",
          "norm_peak": 0.609012786241951,
          "peak": 1156226,
          "ym": "2022-11-01T00:00:00"
         },
         {
          "game": "Counter-Strike",
          "norm_peak": 0.5743105832159177,
          "peak": 1090343,
          "ym": "2022-12-01T00:00:00"
         },
         {
          "game": "Counter-Strike",
          "norm_peak": 0.644820057676354,
          "peak": 1224207,
          "ym": "2023-01-01T00:00:00"
         },
         {
          "game": "Counter-Strike",
          "norm_peak": 0.7259988675419076,
          "peak": 1378327,
          "ym": "2023-02-01T00:00:00"
         },
         {
          "game": "Counter-Strike",
          "norm_peak": 0.812331151815225,
          "peak": 1542231,
          "ym": "2023-03-01T00:00:00"
         },
         {
          "game": "Counter-Strike",
          "norm_peak": 0.8091028561646542,
          "peak": 1536102,
          "ym": "2023-04-01T00:00:00"
         },
         {
          "game": "Counter-Strike",
          "norm_peak": 0.9680652085171383,
          "peak": 1837896,
          "ym": "2023-05-01T00:00:00"
         },
         {
          "game": "Counter-Strike",
          "norm_peak": 0.8914720638390329,
          "peak": 1692482,
          "ym": "2023-06-01T00:00:00"
         },
         {
          "game": "Counter-Strike",
          "norm_peak": 0.6562146929853439,
          "peak": 1245840,
          "ym": "2023-07-01T00:00:00"
         },
         {
          "game": "Counter-Strike",
          "norm_peak": 0.8201308910865014,
          "peak": 1557039,
          "ym": "2023-08-01T00:00:00"
         },
         {
          "game": "Counter-Strike",
          "norm_peak": 0.8323077125663344,
          "peak": 1580157,
          "ym": "2023-09-01T00:00:00"
         },
         {
          "game": "Counter-Strike",
          "norm_peak": 0.7441698160414005,
          "peak": 1412825,
          "ym": "2023-10-01T00:00:00"
         },
         {
          "game": "Counter-Strike",
          "norm_peak": 0.6239185683622812,
          "peak": 1184525,
          "ym": "2023-11-01T00:00:00"
         },
         {
          "game": "Counter-Strike",
          "norm_peak": 0.6723266746553245,
          "peak": 1276429,
          "ym": "2023-12-01T00:00:00"
         },
         {
          "game": "Counter-Strike",
          "norm_peak": 0.7030468389934291,
          "peak": 1334752,
          "ym": "2024-01-01T00:00:00"
         },
         {
          "game": "Counter-Strike",
          "norm_peak": 0.7542371051210809,
          "peak": 1431938,
          "ym": "2024-02-01T00:00:00"
         },
         {
          "game": "Counter-Strike",
          "norm_peak": 0.8190906098155146,
          "peak": 1555064,
          "ym": "2024-03-01T00:00:00"
         },
         {
          "game": "Counter-Strike",
          "norm_peak": 0.868030181324976,
          "peak": 1647977,
          "ym": "2024-04-01T00:00:00"
         },
         {
          "game": "Counter-Strike",
          "norm_peak": 0.8751836293965052,
          "peak": 1661558,
          "ym": "2024-05-01T00:00:00"
         },
         {
          "game": "Counter-Strike",
          "norm_peak": 0.820741365007045,
          "peak": 1558198,
          "ym": "2024-06-01T00:00:00"
         },
         {
          "game": "Counter-Strike",
          "norm_peak": 0.7297486206397071,
          "peak": 1385446,
          "ym": "2024-07-01T00:00:00"
         },
         {
          "game": "Counter-Strike",
          "norm_peak": 0.7696143058426936,
          "peak": 1461132,
          "ym": "2024-08-01T00:00:00"
         },
         {
          "game": "Counter-Strike",
          "norm_peak": 0.7980052935831764,
          "peak": 1515033,
          "ym": "2024-09-01T00:00:00"
         },
         {
          "game": "Counter-Strike",
          "norm_peak": 0.8055474644790034,
          "peak": 1529352,
          "ym": "2024-10-01T00:00:00"
         },
         {
          "game": "Counter-Strike",
          "norm_peak": 0.8394548399415336,
          "peak": 1593726,
          "ym": "2024-11-01T00:00:00"
         },
         {
          "game": "Counter-Strike",
          "norm_peak": 0.9361630739653152,
          "peak": 1777329,
          "ym": "2024-12-01T00:00:00"
         },
         {
          "game": "Counter-Strike",
          "norm_peak": 0.8658284721033433,
          "peak": 1643797,
          "ym": "2025-01-01T00:00:00"
         },
         {
          "game": "Counter-Strike",
          "norm_peak": 0.9626552191833133,
          "peak": 1827625,
          "ym": "2025-02-01T00:00:00"
         },
         {
          "game": "Counter-Strike",
          "norm_peak": 0.9820402681028694,
          "peak": 1864428,
          "ym": "2025-03-01T00:00:00"
         },
         {
          "game": "Counter-Strike",
          "norm_peak": 1,
          "peak": 1898525,
          "ym": "2025-04-01T00:00:00"
         },
         {
          "game": "Counter-Strike",
          "norm_peak": 0.9230044376555484,
          "peak": 1752347,
          "ym": "2025-05-01T00:00:00"
         },
         {
          "game": "Counter-Strike",
          "norm_peak": 0.9304970964301233,
          "peak": 1766572,
          "ym": "2025-06-01T00:00:00"
         },
         {
          "game": "Counter-Strike",
          "norm_peak": 0.7932616109874772,
          "peak": 1506027,
          "ym": "2025-07-01T00:00:00"
         },
         {
          "game": "Counter-Strike",
          "norm_peak": 0.8330435469640906,
          "peak": 1581554,
          "ym": "2025-08-01T00:00:00"
         },
         {
          "game": "Valorant",
          "norm_peak": 0.2947124611441857,
          "peak": 2022100,
          "ym": "2020-08-01T00:00:00"
         },
         {
          "game": "Valorant",
          "norm_peak": 0.3026786318089495,
          "peak": 2076758,
          "ym": "2020-09-01T00:00:00"
         },
         {
          "game": "Valorant",
          "norm_peak": 0.29976677766662235,
          "peak": 2056779,
          "ym": "2020-10-01T00:00:00"
         },
         {
          "game": "Valorant",
          "norm_peak": 0.31339793950502415,
          "peak": 2150306,
          "ym": "2020-11-01T00:00:00"
         },
         {
          "game": "Valorant",
          "norm_peak": 0.3249991546747072,
          "peak": 2229905,
          "ym": "2020-12-01T00:00:00"
         },
         {
          "game": "Valorant",
          "norm_peak": 0.4006735493634992,
          "peak": 2749127,
          "ym": "2021-01-01T00:00:00"
         },
         {
          "game": "Valorant",
          "norm_peak": 0.44374331027052744,
          "peak": 3044640,
          "ym": "2021-02-01T00:00:00"
         },
         {
          "game": "Valorant",
          "norm_peak": 0.4817905272264702,
          "peak": 3305692,
          "ym": "2021-03-01T00:00:00"
         },
         {
          "game": "Valorant",
          "norm_peak": 0.5175065410688177,
          "peak": 3550749,
          "ym": "2021-04-01T00:00:00"
         },
         {
          "game": "Valorant",
          "norm_peak": 0.518236144243976,
          "peak": 3555755,
          "ym": "2021-05-01T00:00:00"
         },
         {
          "game": "Valorant",
          "norm_peak": 0.5790239232887702,
          "peak": 3972836,
          "ym": "2021-06-01T00:00:00"
         },
         {
          "game": "Valorant",
          "norm_peak": 0.5455067754279678,
          "peak": 3742866,
          "ym": "2021-07-01T00:00:00"
         },
         {
          "game": "Valorant",
          "norm_peak": 0.5617754979257467,
          "peak": 3854490,
          "ym": "2021-08-01T00:00:00"
         },
         {
          "game": "Valorant",
          "norm_peak": 0.6051953401005995,
          "peak": 4152405,
          "ym": "2021-09-01T00:00:00"
         },
         {
          "game": "Valorant",
          "norm_peak": 0.5812013646465141,
          "peak": 3987776,
          "ym": "2021-10-01T00:00:00"
         },
         {
          "game": "Valorant",
          "norm_peak": 0.5820745273757139,
          "peak": 3993767,
          "ym": "2021-11-01T00:00:00"
         },
         {
          "game": "Valorant",
          "norm_peak": 0.6033851780080172,
          "peak": 4139985,
          "ym": "2021-12-01T00:00:00"
         },
         {
          "game": "Valorant",
          "norm_peak": 0.7473688521531893,
          "peak": 5127895,
          "ym": "2022-01-01T00:00:00"
         },
         {
          "game": "Valorant",
          "norm_peak": 0.7513624311788615,
          "peak": 5155296,
          "ym": "2022-02-01T00:00:00"
         },
         {
          "game": "Valorant",
          "norm_peak": 0.7859949711889821,
          "peak": 5392919,
          "ym": "2022-03-01T00:00:00"
         },
         {
          "game": "Valorant",
          "norm_peak": 0.8587745639870438,
          "peak": 5892279,
          "ym": "2022-04-01T00:00:00"
         },
         {
          "game": "Valorant",
          "norm_peak": 0.8504026371817205,
          "peak": 5834837,
          "ym": "2022-05-01T00:00:00"
         },
         {
          "game": "Valorant",
          "norm_peak": 0.8026862105874369,
          "peak": 5507442,
          "ym": "2022-06-01T00:00:00"
         },
         {
          "game": "Valorant",
          "norm_peak": 0.7957457984418032,
          "peak": 5459822,
          "ym": "2022-07-01T00:00:00"
         },
         {
          "game": "Valorant",
          "norm_peak": 0.8672429744723421,
          "peak": 5950383,
          "ym": "2022-08-01T00:00:00"
         },
         {
          "game": "Valorant",
          "norm_peak": 0.8784995009665858,
          "peak": 6027617,
          "ym": "2022-09-01T00:00:00"
         },
         {
          "game": "Valorant",
          "norm_peak": 0.8422025446040263,
          "peak": 5778574,
          "ym": "2022-10-01T00:00:00"
         },
         {
          "game": "Valorant",
          "norm_peak": 0.7725145104458887,
          "peak": 5300426,
          "ym": "2022-11-01T00:00:00"
         },
         {
          "game": "Valorant",
          "norm_peak": 0.7243598264109936,
          "peak": 4970024,
          "ym": "2022-12-01T00:00:00"
         },
         {
          "game": "Valorant",
          "norm_peak": 0.8233347383222683,
          "peak": 5649117,
          "ym": "2023-01-01T00:00:00"
         },
         {
          "game": "Valorant",
          "norm_peak": 0.8436668520552482,
          "peak": 5788621,
          "ym": "2023-02-01T00:00:00"
         },
         {
          "game": "Valorant",
          "norm_peak": 0.9659779888953406,
          "peak": 6627830,
          "ym": "2023-03-01T00:00:00"
         },
         {
          "game": "Valorant",
          "norm_peak": 0.906900973348351,
          "peak": 6222487,
          "ym": "2023-04-01T00:00:00"
         },
         {
          "game": "Valorant",
          "norm_peak": 0.8913535465185424,
          "peak": 6115812,
          "ym": "2023-05-01T00:00:00"
         },
         {
          "game": "Valorant",
          "norm_peak": 0.8746615783913868,
          "peak": 6001284,
          "ym": "2023-06-01T00:00:00"
         },
         {
          "game": "Valorant",
          "norm_peak": 0.8744289681901177,
          "peak": 5999688,
          "ym": "2023-07-01T00:00:00"
         },
         {
          "game": "Valorant",
          "norm_peak": 0.8538184800934638,
          "peak": 5858274,
          "ym": "2023-08-01T00:00:00"
         },
         {
          "game": "Valorant",
          "norm_peak": 0.8585508442759235,
          "peak": 5890744,
          "ym": "2023-09-01T00:00:00"
         },
         {
          "game": "Valorant",
          "norm_peak": 0.7083237141144839,
          "peak": 4859996,
          "ym": "2023-10-01T00:00:00"
         },
         {
          "game": "Valorant",
          "norm_peak": 0.6878142278157494,
          "peak": 4719275,
          "ym": "2023-11-01T00:00:00"
         },
         {
          "game": "Valorant",
          "norm_peak": 0.6610838760904696,
          "peak": 4535871,
          "ym": "2023-12-01T00:00:00"
         },
         {
          "game": "Valorant",
          "norm_peak": 0.785636436668229,
          "peak": 5390459,
          "ym": "2024-01-01T00:00:00"
         },
         {
          "game": "Valorant",
          "norm_peak": 0.8035118602053499,
          "peak": 5513107,
          "ym": "2024-02-01T00:00:00"
         },
         {
          "game": "Valorant",
          "norm_peak": 0.894957547180811,
          "peak": 6140540,
          "ym": "2024-03-01T00:00:00"
         },
         {
          "game": "Valorant",
          "norm_peak": 0.8771261388572135,
          "peak": 6018194,
          "ym": "2024-04-01T00:00:00"
         },
         {
          "game": "Valorant",
          "norm_peak": 0.837641140174755,
          "peak": 5747277,
          "ym": "2024-05-01T00:00:00"
         },
         {
          "game": "Valorant",
          "norm_peak": 0.8792678725086224,
          "peak": 6032889,
          "ym": "2024-06-01T00:00:00"
         },
         {
          "game": "Valorant",
          "norm_peak": 0.9259882727147651,
          "peak": 6353450,
          "ym": "2024-07-01T00:00:00"
         },
         {
          "game": "Valorant",
          "norm_peak": 1,
          "peak": 6861264,
          "ym": "2024-08-01T00:00:00"
         },
         {
          "game": "Valorant",
          "norm_peak": 0.9947285223247495,
          "peak": 6825095,
          "ym": "2024-09-01T00:00:00"
         },
         {
          "game": "Valorant",
          "norm_peak": 0.8623087524397837,
          "peak": 5916528,
          "ym": "2024-10-01T00:00:00"
         },
         {
          "game": "Valorant",
          "norm_peak": 0.7794569630318845,
          "peak": 5348060,
          "ym": "2024-11-01T00:00:00"
         },
         {
          "game": "Valorant",
          "norm_peak": 0.7252449402908852,
          "peak": 4976097,
          "ym": "2024-12-01T00:00:00"
         },
         {
          "game": "Valorant",
          "norm_peak": 0.842710031271206,
          "peak": 5782056,
          "ym": "2025-01-01T00:00:00"
         },
         {
          "game": "Valorant",
          "norm_peak": 0.8234071739551196,
          "peak": 5649614,
          "ym": "2025-02-01T00:00:00"
         },
         {
          "game": "Valorant",
          "norm_peak": 0.8692678200401559,
          "peak": 5964276,
          "ym": "2025-03-01T00:00:00"
         },
         {
          "game": "Valorant",
          "norm_peak": 0.7857645471738152,
          "peak": 5391338,
          "ym": "2025-04-01T00:00:00"
         },
         {
          "game": "Valorant",
          "norm_peak": 0.758913955212917,
          "peak": 5207109,
          "ym": "2025-05-01T00:00:00"
         },
         {
          "game": "Valorant",
          "norm_peak": 0.7710690041951453,
          "peak": 5290508,
          "ym": "2025-06-01T00:00:00"
         },
         {
          "game": "Valorant",
          "norm_peak": 0.7582038819669379,
          "peak": 5202237,
          "ym": "2025-07-01T00:00:00"
         },
         {
          "game": "Valorant",
          "norm_peak": 0.7584644753503145,
          "peak": 5204025,
          "ym": "2025-08-01T00:00:00"
         },
         {
          "game": "Rainbow Six Siege",
          "norm_peak": 0.6529244848538872,
          "peak": 131847,
          "ym": "2020-08-01T00:00:00"
         },
         {
          "game": "Rainbow Six Siege",
          "norm_peak": 0.46691229269114015,
          "peak": 94285,
          "ym": "2020-09-01T00:00:00"
         },
         {
          "game": "Rainbow Six Siege",
          "norm_peak": 0.5723878712246141,
          "peak": 115584,
          "ym": "2020-10-01T00:00:00"
         },
         {
          "game": "Rainbow Six Siege",
          "norm_peak": 0.4733946407966999,
          "peak": 95594,
          "ym": "2020-11-01T00:00:00"
         },
         {
          "game": "Rainbow Six Siege",
          "norm_peak": 0.6145751313554496,
          "peak": 124103,
          "ym": "2020-12-01T00:00:00"
         },
         {
          "game": "Rainbow Six Siege",
          "norm_peak": 0.61380755002897,
          "peak": 123948,
          "ym": "2021-01-01T00:00:00"
         },
         {
          "game": "Rainbow Six Siege",
          "norm_peak": 0.5621666592384603,
          "peak": 113520,
          "ym": "2021-02-01T00:00:00"
         },
         {
          "game": "Rainbow Six Siege",
          "norm_peak": 0.9947804469799388,
          "peak": 200879,
          "ym": "2021-03-01T00:00:00"
         },
         {
          "game": "Rainbow Six Siege",
          "norm_peak": 0.704852599624628,
          "peak": 142333,
          "ym": "2021-04-01T00:00:00"
         },
         {
          "game": "Rainbow Six Siege",
          "norm_peak": 0.5407833291240164,
          "peak": 109202,
          "ym": "2021-05-01T00:00:00"
         },
         {
          "game": "Rainbow Six Siege",
          "norm_peak": 0.4983237014257204,
          "peak": 100628,
          "ym": "2021-06-01T00:00:00"
         },
         {
          "game": "Rainbow Six Siege",
          "norm_peak": 0.44832196817756387,
          "peak": 90531,
          "ym": "2021-07-01T00:00:00"
         },
         {
          "game": "Rainbow Six Siege",
          "norm_peak": 0.46355474340499075,
          "peak": 93607,
          "ym": "2021-08-01T00:00:00"
         },
         {
          "game": "Rainbow Six Siege",
          "norm_peak": 0.5526139858269822,
          "peak": 111591,
          "ym": "2021-09-01T00:00:00"
         },
         {
          "game": "Rainbow Six Siege",
          "norm_peak": 0.3991274333566084,
          "peak": 80597,
          "ym": "2021-10-01T00:00:00"
         },
         {
          "game": "Rainbow Six Siege",
          "norm_peak": 0.3534984376005903,
          "peak": 71383,
          "ym": "2021-11-01T00:00:00"
         },
         {
          "game": "Rainbow Six Siege",
          "norm_peak": 0.41685113379190125,
          "peak": 84176,
          "ym": "2021-12-01T00:00:00"
         },
         {
          "game": "Rainbow Six Siege",
          "norm_peak": 0.3720293364630843,
          "peak": 75125,
          "ym": "2022-01-01T00:00:00"
         },
         {
          "game": "Rainbow Six Siege",
          "norm_peak": 0.3870392654989526,
          "peak": 78156,
          "ym": "2022-02-01T00:00:00"
         },
         {
          "game": "Rainbow Six Siege",
          "norm_peak": 0.5419866985584327,
          "peak": 109445,
          "ym": "2022-03-01T00:00:00"
         },
         {
          "game": "Rainbow Six Siege",
          "norm_peak": 0.46340617927728506,
          "peak": 93577,
          "ym": "2022-04-01T00:00:00"
         },
         {
          "game": "Rainbow Six Siege",
          "norm_peak": 0.46691229269114015,
          "peak": 94285,
          "ym": "2022-05-01T00:00:00"
         },
         {
          "game": "Rainbow Six Siege",
          "norm_peak": 0.3513937791247592,
          "peak": 70958,
          "ym": "2022-06-01T00:00:00"
         },
         {
          "game": "Rainbow Six Siege",
          "norm_peak": 0.32097775004580725,
          "peak": 64816,
          "ym": "2022-07-01T00:00:00"
         },
         {
          "game": "Rainbow Six Siege",
          "norm_peak": 0.30897872066477494,
          "peak": 62393,
          "ym": "2022-08-01T00:00:00"
         },
         {
          "game": "Rainbow Six Siege",
          "norm_peak": 0.32975293785562537,
          "peak": 66588,
          "ym": "2022-09-01T00:00:00"
         },
         {
          "game": "Rainbow Six Siege",
          "norm_peak": 0.272228907607969,
          "peak": 54972,
          "ym": "2022-10-01T00:00:00"
         },
         {
          "game": "Rainbow Six Siege",
          "norm_peak": 0.22901160285837383,
          "peak": 46245,
          "ym": "2022-11-01T00:00:00"
         },
         {
          "game": "Rainbow Six Siege",
          "norm_peak": 0.3184719684251707,
          "peak": 64310,
          "ym": "2022-12-01T00:00:00"
         },
         {
          "game": "Rainbow Six Siege",
          "norm_peak": 0.33198635190880144,
          "peak": 67039,
          "ym": "2023-01-01T00:00:00"
         },
         {
          "game": "Rainbow Six Siege",
          "norm_peak": 0.3219186561879435,
          "peak": 65006,
          "ym": "2023-02-01T00:00:00"
         },
         {
          "game": "Rainbow Six Siege",
          "norm_peak": 0.43700633378397785,
          "peak": 88246,
          "ym": "2023-03-01T00:00:00"
         },
         {
          "game": "Rainbow Six Siege",
          "norm_peak": 0.3929422135064601,
          "peak": 79348,
          "ym": "2023-04-01T00:00:00"
         },
         {
          "game": "Rainbow Six Siege",
          "norm_peak": 0.33133762188448646,
          "peak": 66908,
          "ym": "2023-05-01T00:00:00"
         },
         {
          "game": "Rainbow Six Siege",
          "norm_peak": 0.3396473087608266,
          "peak": 68586,
          "ym": "2023-06-01T00:00:00"
         },
         {
          "game": "Rainbow Six Siege",
          "norm_peak": 0.35179490226956467,
          "peak": 71039,
          "ym": "2023-07-01T00:00:00"
         },
         {
          "game": "Rainbow Six Siege",
          "norm_peak": 0.4197332778693923,
          "peak": 84758,
          "ym": "2023-08-01T00:00:00"
         },
         {
          "game": "Rainbow Six Siege",
          "norm_peak": 0.47046297534330694,
          "peak": 95002,
          "ym": "2023-09-01T00:00:00"
         },
         {
          "game": "Rainbow Six Siege",
          "norm_peak": 0.4702797462524699,
          "peak": 94965,
          "ym": "2023-10-01T00:00:00"
         },
         {
          "game": "Rainbow Six Siege",
          "norm_peak": 0.29659342455170773,
          "peak": 59892,
          "ym": "2023-11-01T00:00:00"
         },
         {
          "game": "Rainbow Six Siege",
          "norm_peak": 0.30808238376095043,
          "peak": 62212,
          "ym": "2023-12-01T00:00:00"
         },
         {
          "game": "Rainbow Six Siege",
          "norm_peak": 0.46691229269114015,
          "peak": 94285,
          "ym": "2024-01-01T00:00:00"
         },
         {
          "game": "Rainbow Six Siege",
          "norm_peak": 0.506202552331714,
          "peak": 102219,
          "ym": "2024-02-01T00:00:00"
         },
         {
          "game": "Rainbow Six Siege",
          "norm_peak": 1,
          "peak": 201933,
          "ym": "2024-03-01T00:00:00"
         },
         {
          "game": "Rainbow Six Siege",
          "norm_peak": 0.7725334640697658,
          "peak": 156000,
          "ym": "2024-04-01T00:00:00"
         },
         {
          "game": "Rainbow Six Siege",
          "norm_peak": 0.5023002679106436,
          "peak": 101431,
          "ym": "2024-05-01T00:00:00"
         },
         {
          "game": "Rainbow Six Siege",
          "norm_peak": 0.43941802479040076,
          "peak": 88733,
          "ym": "2024-06-01T00:00:00"
         },
         {
          "game": "Rainbow Six Siege",
          "norm_peak": 0.3647051249671921,
          "peak": 73646,
          "ym": "2024-07-01T00:00:00"
         },
         {
          "game": "Rainbow Six Siege",
          "norm_peak": 0.37484215061431264,
          "peak": 75693,
          "ym": "2024-08-01T00:00:00"
         },
         {
          "game": "Rainbow Six Siege",
          "norm_peak": 0.4505454779555595,
          "peak": 90980,
          "ym": "2024-09-01T00:00:00"
         },
         {
          "game": "Rainbow Six Siege",
          "norm_peak": 0.37768962972867237,
          "peak": 76268,
          "ym": "2024-10-01T00:00:00"
         },
         {
          "game": "Rainbow Six Siege",
          "norm_peak": 0.29232468194896327,
          "peak": 59030,
          "ym": "2024-11-01T00:00:00"
         },
         {
          "game": "Rainbow Six Siege",
          "norm_peak": 0.381027370464461,
          "peak": 76942,
          "ym": "2024-12-01T00:00:00"
         },
         {
          "game": "Rainbow Six Siege",
          "norm_peak": 0.47419193494872064,
          "peak": 95755,
          "ym": "2025-01-01T00:00:00"
         },
         {
          "game": "Rainbow Six Siege",
          "norm_peak": 0.5031668919889271,
          "peak": 101606,
          "ym": "2025-02-01T00:00:00"
         },
         {
          "game": "Rainbow Six Siege",
          "norm_peak": 0.7204864979968604,
          "peak": 145490,
          "ym": "2025-03-01T00:00:00"
         },
         {
          "game": "Rainbow Six Siege",
          "norm_peak": 0.5314237890785558,
          "peak": 107312,
          "ym": "2025-04-01T00:00:00"
         },
         {
          "game": "Rainbow Six Siege",
          "norm_peak": 0.4416266781556259,
          "peak": 89179,
          "ym": "2025-05-01T00:00:00"
         },
         {
          "game": "Rainbow Six Siege",
          "norm_peak": 0.7025597599203697,
          "peak": 141870,
          "ym": "2025-06-01T00:00:00"
         },
         {
          "game": "Rainbow Six Siege",
          "norm_peak": 0.5499447836658694,
          "peak": 111052,
          "ym": "2025-07-01T00:00:00"
         },
         {
          "game": "Rainbow Six Siege",
          "norm_peak": 0.49629827715133235,
          "peak": 100219,
          "ym": "2025-08-01T00:00:00"
         },
         {
          "game": "Call of Duty",
          "norm_peak": 0.017027952590001644,
          "peak": 8607,
          "ym": "2020-08-01T00:00:00"
         },
         {
          "game": "Call of Duty",
          "norm_peak": 0.01594577644654505,
          "peak": 8060,
          "ym": "2020-09-01T00:00:00"
         },
         {
          "game": "Call of Duty",
          "norm_peak": 0.026267006684960126,
          "peak": 13277,
          "ym": "2020-10-01T00:00:00"
         },
         {
          "game": "Call of Duty",
          "norm_peak": 0.019251656402150107,
          "peak": 9731,
          "ym": "2020-11-01T00:00:00"
         },
         {
          "game": "Call of Duty",
          "norm_peak": 0.015261255522164827,
          "peak": 7714,
          "ym": "2020-12-01T00:00:00"
         },
         {
          "game": "Call of Duty",
          "norm_peak": 0.015374023420111857,
          "peak": 7771,
          "ym": "2021-01-01T00:00:00"
         },
         {
          "game": "Call of Duty",
          "norm_peak": 0.02110738075783984,
          "peak": 10669,
          "ym": "2021-02-01T00:00:00"
         },
         {
          "game": "Call of Duty",
          "norm_peak": 0.013160211528835938,
          "peak": 6652,
          "ym": "2021-03-01T00:00:00"
         },
         {
          "game": "Call of Duty",
          "norm_peak": 0.01892917978170509,
          "peak": 9568,
          "ym": "2021-04-01T00:00:00"
         },
         {
          "game": "Call of Duty",
          "norm_peak": 0.021588128112245603,
          "peak": 10912,
          "ym": "2021-05-01T00:00:00"
         },
         {
          "game": "Call of Duty",
          "norm_peak": 0.03147807060061765,
          "peak": 15911,
          "ym": "2021-06-01T00:00:00"
         },
         {
          "game": "Call of Duty",
          "norm_peak": 0.029620367860753408,
          "peak": 14972,
          "ym": "2021-07-01T00:00:00"
         },
         {
          "game": "Call of Duty",
          "norm_peak": 0.041425386230050466,
          "peak": 20939,
          "ym": "2021-08-01T00:00:00"
         },
         {
          "game": "Call of Duty",
          "norm_peak": 0.024601207210023287,
          "peak": 12435,
          "ym": "2021-09-01T00:00:00"
         },
         {
          "game": "Call of Duty",
          "norm_peak": 0.03570785596571856,
          "peak": 18049,
          "ym": "2021-10-01T00:00:00"
         },
         {
          "game": "Call of Duty",
          "norm_peak": 0.021764204303776933,
          "peak": 11001,
          "ym": "2021-11-01T00:00:00"
         },
         {
          "game": "Call of Duty",
          "norm_peak": 0.03213687253072925,
          "peak": 16244,
          "ym": "2021-12-01T00:00:00"
         },
         {
          "game": "Call of Duty",
          "norm_peak": 0.03233273256400567,
          "peak": 16343,
          "ym": "2022-01-01T00:00:00"
         },
         {
          "game": "Call of Duty",
          "norm_peak": 0.024223335832692008,
          "peak": 12244,
          "ym": "2022-02-01T00:00:00"
         },
         {
          "game": "Call of Duty",
          "norm_peak": 0.018076496202491577,
          "peak": 9137,
          "ym": "2022-03-01T00:00:00"
         },
         {
          "game": "Call of Duty",
          "norm_peak": 0.03964484047299209,
          "peak": 20039,
          "ym": "2022-04-01T00:00:00"
         },
         {
          "game": "Call of Duty",
          "norm_peak": 0.024698148034574242,
          "peak": 12484,
          "ym": "2022-05-01T00:00:00"
         },
         {
          "game": "Call of Duty",
          "norm_peak": 0.030259385949119914,
          "peak": 15295,
          "ym": "2022-06-01T00:00:00"
         },
         {
          "game": "Call of Duty",
          "norm_peak": 0.03387982898847196,
          "peak": 17125,
          "ym": "2022-07-01T00:00:00"
         },
         {
          "game": "Call of Duty",
          "norm_peak": 0.03048096497666496,
          "peak": 15407,
          "ym": "2022-08-01T00:00:00"
         },
         {
          "game": "Call of Duty",
          "norm_peak": 0.033365449103099534,
          "peak": 16865,
          "ym": "2022-09-01T00:00:00"
         },
         {
          "game": "Call of Duty",
          "norm_peak": 0.5397981652465166,
          "peak": 272848,
          "ym": "2022-10-01T00:00:00"
         },
         {
          "game": "Call of Duty",
          "norm_peak": 1,
          "peak": 505463,
          "ym": "2022-11-01T00:00:00"
         },
         {
          "game": "Call of Duty",
          "norm_peak": 0.6446545048796846,
          "peak": 325849,
          "ym": "2022-12-01T00:00:00"
         },
         {
          "game": "Call of Duty",
          "norm_peak": 0.3628158737632626,
          "peak": 183390,
          "ym": "2023-01-01T00:00:00"
         },
         {
          "game": "Call of Duty",
          "norm_peak": 0.36924760071459234,
          "peak": 186641,
          "ym": "2023-02-01T00:00:00"
         },
         {
          "game": "Call of Duty",
          "norm_peak": 0.3608434247412768,
          "peak": 182393,
          "ym": "2023-03-01T00:00:00"
         },
         {
          "game": "Call of Duty",
          "norm_peak": 0.3290310072151671,
          "peak": 166313,
          "ym": "2023-04-01T00:00:00"
         },
         {
          "game": "Call of Duty",
          "norm_peak": 0.2516465102292354,
          "peak": 127198,
          "ym": "2023-05-01T00:00:00"
         },
         {
          "game": "Call of Duty",
          "norm_peak": 0.26539232347372604,
          "peak": 134146,
          "ym": "2023-06-01T00:00:00"
         },
         {
          "game": "Call of Duty",
          "norm_peak": 0.21350128496052134,
          "peak": 107917,
          "ym": "2023-07-01T00:00:00"
         },
         {
          "game": "Call of Duty",
          "norm_peak": 0.2636295831742383,
          "peak": 133255,
          "ym": "2023-08-01T00:00:00"
         },
         {
          "game": "Call of Duty",
          "norm_peak": 0.21877961393811218,
          "peak": 110585,
          "ym": "2023-09-01T00:00:00"
         },
         {
          "game": "Call of Duty",
          "norm_peak": 0.40668258606465757,
          "peak": 205563,
          "ym": "2023-10-01T00:00:00"
         },
         {
          "game": "Call of Duty",
          "norm_peak": 0.4167782805071786,
          "peak": 210666,
          "ym": "2023-11-01T00:00:00"
         },
         {
          "game": "Call of Duty",
          "norm_peak": 0.3542890379711275,
          "peak": 179080,
          "ym": "2023-12-01T00:00:00"
         },
         {
          "game": "Call of Duty",
          "norm_peak": 0.31761375214407384,
          "peak": 160542,
          "ym": "2024-01-01T00:00:00"
         },
         {
          "game": "Call of Duty",
          "norm_peak": 0.34186082858685996,
          "peak": 172798,
          "ym": "2024-02-01T00:00:00"
         },
         {
          "game": "Call of Duty",
          "norm_peak": 0.2710465454444737,
          "peak": 137004,
          "ym": "2024-03-01T00:00:00"
         },
         {
          "game": "Call of Duty",
          "norm_peak": 0.3719698573387172,
          "peak": 188017,
          "ym": "2024-04-01T00:00:00"
         },
         {
          "game": "Call of Duty",
          "norm_peak": 0.29538462755928724,
          "peak": 149306,
          "ym": "2024-05-01T00:00:00"
         },
         {
          "game": "Call of Duty",
          "norm_peak": 0.30936982528889356,
          "peak": 156375,
          "ym": "2024-06-01T00:00:00"
         },
         {
          "game": "Call of Duty",
          "norm_peak": 0.248809507322989,
          "peak": 125764,
          "ym": "2024-07-01T00:00:00"
         },
         {
          "game": "Call of Duty",
          "norm_peak": 0.3493885803708679,
          "peak": 176603,
          "ym": "2024-08-01T00:00:00"
         },
         {
          "game": "Call of Duty",
          "norm_peak": 0.3498000842791658,
          "peak": 176811,
          "ym": "2024-09-01T00:00:00"
         },
         {
          "game": "Call of Duty",
          "norm_peak": 0.6336428185643658,
          "peak": 320283,
          "ym": "2024-10-01T00:00:00"
         },
         {
          "game": "Call of Duty",
          "norm_peak": 0.6472461881482917,
          "peak": 327159,
          "ym": "2024-11-01T00:00:00"
         },
         {
          "game": "Call of Duty",
          "norm_peak": 0.36422646167968775,
          "peak": 184103,
          "ym": "2024-12-01T00:00:00"
         },
         {
          "game": "Call of Duty",
          "norm_peak": 0.2495692068460006,
          "peak": 126148,
          "ym": "2025-01-01T00:00:00"
         },
         {
          "game": "Call of Duty",
          "norm_peak": 0.23658111474034696,
          "peak": 119583,
          "ym": "2025-02-01T00:00:00"
         },
         {
          "game": "Call of Duty",
          "norm_peak": 0.18092916791140004,
          "peak": 91453,
          "ym": "2025-03-01T00:00:00"
         },
         {
          "game": "Call of Duty",
          "norm_peak": 0.3020201280805915,
          "peak": 152660,
          "ym": "2025-04-01T00:00:00"
         },
         {
          "game": "Call of Duty",
          "norm_peak": 0.2538860411147799,
          "peak": 128330,
          "ym": "2025-05-01T00:00:00"
         },
         {
          "game": "Call of Duty",
          "norm_peak": 0.21039720019071623,
          "peak": 106348,
          "ym": "2025-06-01T00:00:00"
         },
         {
          "game": "Call of Duty",
          "norm_peak": 0.20813195031090306,
          "peak": 105203,
          "ym": "2025-07-01T00:00:00"
         },
         {
          "game": "Call of Duty",
          "norm_peak": 0.17565875247050725,
          "peak": 88789,
          "ym": "2025-08-01T00:00:00"
         },
         {
          "game": "Battlefield",
          "norm_peak": 0.07535951002206218,
          "peak": 16020,
          "ym": "2020-08-01T00:00:00"
         },
         {
          "game": "Battlefield",
          "norm_peak": 0.034212841222875046,
          "peak": 7273,
          "ym": "2020-09-01T00:00:00"
         },
         {
          "game": "Battlefield",
          "norm_peak": 0.07457863120410572,
          "peak": 15854,
          "ym": "2020-10-01T00:00:00"
         },
         {
          "game": "Battlefield",
          "norm_peak": 0.07880760745315903,
          "peak": 16753,
          "ym": "2020-11-01T00:00:00"
         },
         {
          "game": "Battlefield",
          "norm_peak": 0.0810984989251156,
          "peak": 17240,
          "ym": "2020-12-01T00:00:00"
         },
         {
          "game": "Battlefield",
          "norm_peak": 0.08319181864795067,
          "peak": 17685,
          "ym": "2021-01-01T00:00:00"
         },
         {
          "game": "Battlefield",
          "norm_peak": 0.1778098701200954,
          "peak": 37799,
          "ym": "2021-02-01T00:00:00"
         },
         {
          "game": "Battlefield",
          "norm_peak": 0.11453516541929899,
          "peak": 24348,
          "ym": "2021-03-01T00:00:00"
         },
         {
          "game": "Battlefield",
          "norm_peak": 0.1871380791321896,
          "peak": 39782,
          "ym": "2021-04-01T00:00:00"
         },
         {
          "game": "Battlefield",
          "norm_peak": 0.11468099218650774,
          "peak": 24379,
          "ym": "2021-05-01T00:00:00"
         },
         {
          "game": "Battlefield",
          "norm_peak": 0.2596375028812547,
          "peak": 55194,
          "ym": "2021-06-01T00:00:00"
         },
         {
          "game": "Battlefield",
          "norm_peak": 0.39723681796585775,
          "peak": 84445,
          "ym": "2021-07-01T00:00:00"
         },
         {
          "game": "Battlefield",
          "norm_peak": 0.6098522445561927,
          "peak": 129643,
          "ym": "2021-08-01T00:00:00"
         },
         {
          "game": "Battlefield",
          "norm_peak": 0.5198112719386964,
          "peak": 110502,
          "ym": "2021-09-01T00:00:00"
         },
         {
          "game": "Battlefield",
          "norm_peak": 0.589643477074621,
          "peak": 125347,
          "ym": "2021-10-01T00:00:00"
         },
         {
          "game": "Battlefield",
          "norm_peak": 0.7844257012621072,
          "peak": 166754,
          "ym": "2021-11-01T00:00:00"
         },
         {
          "game": "Battlefield",
          "norm_peak": 0.42150051039368525,
          "peak": 89603,
          "ym": "2021-12-01T00:00:00"
         },
         {
          "game": "Battlefield",
          "norm_peak": 0.27528800786523727,
          "peak": 58521,
          "ym": "2022-01-01T00:00:00"
         },
         {
          "game": "Battlefield",
          "norm_peak": 0.2566927430014912,
          "peak": 54568,
          "ym": "2022-02-01T00:00:00"
         },
         {
          "game": "Battlefield",
          "norm_peak": 0.2346446766173835,
          "peak": 49881,
          "ym": "2022-03-01T00:00:00"
         },
         {
          "game": "Battlefield",
          "norm_peak": 0.2152591247571514,
          "peak": 45760,
          "ym": "2022-04-01T00:00:00"
         },
         {
          "game": "Battlefield",
          "norm_peak": 0.16960123435302307,
          "peak": 36054,
          "ym": "2022-05-01T00:00:00"
         },
         {
          "game": "Battlefield",
          "norm_peak": 0.21600237086098945,
          "peak": 45918,
          "ym": "2022-06-01T00:00:00"
         },
         {
          "game": "Battlefield",
          "norm_peak": 0.20146203094349918,
          "peak": 42827,
          "ym": "2022-07-01T00:00:00"
         },
         {
          "game": "Battlefield",
          "norm_peak": 0.2375612119615582,
          "peak": 50501,
          "ym": "2022-08-01T00:00:00"
         },
         {
          "game": "Battlefield",
          "norm_peak": 0.2644686025562021,
          "peak": 56221,
          "ym": "2022-09-01T00:00:00"
         },
         {
          "game": "Battlefield",
          "norm_peak": 0.226370183600604,
          "peak": 48122,
          "ym": "2022-10-01T00:00:00"
         },
         {
          "game": "Battlefield",
          "norm_peak": 0.6397326195661889,
          "peak": 135995,
          "ym": "2022-11-01T00:00:00"
         },
         {
          "game": "Battlefield",
          "norm_peak": 0.6112963999604857,
          "peak": 129950,
          "ym": "2022-12-01T00:00:00"
         },
         {
          "game": "Battlefield",
          "norm_peak": 0.40162102916064935,
          "peak": 85377,
          "ym": "2023-01-01T00:00:00"
         },
         {
          "game": "Battlefield",
          "norm_peak": 0.36086950385970523,
          "peak": 76714,
          "ym": "2023-02-01T00:00:00"
         },
         {
          "game": "Battlefield",
          "norm_peak": 0.32406941354119134,
          "peak": 68891,
          "ym": "2023-03-01T00:00:00"
         },
         {
          "game": "Battlefield",
          "norm_peak": 0.287932599809014,
          "peak": 61209,
          "ym": "2023-04-01T00:00:00"
         },
         {
          "game": "Battlefield",
          "norm_peak": 0.26998649926381,
          "peak": 57394,
          "ym": "2023-05-01T00:00:00"
         },
         {
          "game": "Battlefield",
          "norm_peak": 0.2667453817603643,
          "peak": 56705,
          "ym": "2023-06-01T00:00:00"
         },
         {
          "game": "Battlefield",
          "norm_peak": 0.23472935022414984,
          "peak": 49899,
          "ym": "2023-07-01T00:00:00"
         },
         {
          "game": "Battlefield",
          "norm_peak": 0.2257163151927971,
          "peak": 47983,
          "ym": "2023-08-01T00:00:00"
         },
         {
          "game": "Battlefield",
          "norm_peak": 0.2103198310291136,
          "peak": 44710,
          "ym": "2023-09-01T00:00:00"
         },
         {
          "game": "Battlefield",
          "norm_peak": 0.7781081093794836,
          "peak": 165411,
          "ym": "2023-10-01T00:00:00"
         },
         {
          "game": "Battlefield",
          "norm_peak": 1,
          "peak": 212581,
          "ym": "2023-11-01T00:00:00"
         },
         {
          "game": "Battlefield",
          "norm_peak": 0.8661545481487056,
          "peak": 184128,
          "ym": "2023-12-01T00:00:00"
         },
         {
          "game": "Battlefield",
          "norm_peak": 0.5664052761065194,
          "peak": 120407,
          "ym": "2024-01-01T00:00:00"
         },
         {
          "game": "Battlefield",
          "norm_peak": 0.5188516377286775,
          "peak": 110298,
          "ym": "2024-02-01T00:00:00"
         },
         {
          "game": "Battlefield",
          "norm_peak": 0.5641614255272108,
          "peak": 119930,
          "ym": "2024-03-01T00:00:00"
         },
         {
          "game": "Battlefield",
          "norm_peak": 0.38601286098004994,
          "peak": 82059,
          "ym": "2024-04-01T00:00:00"
         },
         {
          "game": "Battlefield",
          "norm_peak": 0.3475569312403272,
          "peak": 73884,
          "ym": "2024-05-01T00:00:00"
         },
         {
          "game": "Battlefield",
          "norm_peak": 0.4467426533885907,
          "peak": 94969,
          "ym": "2024-06-01T00:00:00"
         },
         {
          "game": "Battlefield",
          "norm_peak": 0.47366415625102903,
          "peak": 100692,
          "ym": "2024-07-01T00:00:00"
         },
         {
          "game": "Battlefield",
          "norm_peak": 0.39450844619227493,
          "peak": 83865,
          "ym": "2024-08-01T00:00:00"
         },
         {
          "game": "Battlefield",
          "norm_peak": 0.3585268674058359,
          "peak": 76216,
          "ym": "2024-09-01T00:00:00"
         },
         {
          "game": "Battlefield",
          "norm_peak": 0.36068604437837815,
          "peak": 76675,
          "ym": "2024-10-01T00:00:00"
         },
         {
          "game": "Battlefield",
          "norm_peak": 0.44159637973290183,
          "peak": 93875,
          "ym": "2024-11-01T00:00:00"
         },
         {
          "game": "Battlefield",
          "norm_peak": 0.35084038554715613,
          "peak": 74582,
          "ym": "2024-12-01T00:00:00"
         },
         {
          "game": "Battlefield",
          "norm_peak": 0.3583339997459792,
          "peak": 76175,
          "ym": "2025-01-01T00:00:00"
         },
         {
          "game": "Battlefield",
          "norm_peak": 0.42305285985106855,
          "peak": 89933,
          "ym": "2025-02-01T00:00:00"
         },
         {
          "game": "Battlefield",
          "norm_peak": 0.3814451903039312,
          "peak": 81088,
          "ym": "2025-03-01T00:00:00"
         },
         {
          "game": "Battlefield",
          "norm_peak": 0.24812659645029425,
          "peak": 52747,
          "ym": "2025-04-01T00:00:00"
         },
         {
          "game": "Battlefield",
          "norm_peak": 0.27822806365573594,
          "peak": 59146,
          "ym": "2025-05-01T00:00:00"
         },
         {
          "game": "Battlefield",
          "norm_peak": 0.21418659240477747,
          "peak": 45532,
          "ym": "2025-06-01T00:00:00"
         },
         {
          "game": "Battlefield",
          "norm_peak": 0.20996232024498898,
          "peak": 44634,
          "ym": "2025-07-01T00:00:00"
         },
         {
          "game": "Battlefield",
          "norm_peak": 0.5700180166618842,
          "peak": 121175,
          "ym": "2025-08-01T00:00:00"
         }
        ]
       },
       "encoding": {
        "color": {
         "field": "norm_peak",
         "legend": {
          "labelColor": "#3b415c",
          "labelFontSize": 12,
          "titleColor": "#3b415c",
          "titleFontSize": 14
         },
         "scale": {
          "domain": [
           0,
           1
          ],
          "scheme": "oranges"
         },
         "title": "Peak (normalized globally)",
         "type": "quantitative"
        },
        "tooltip": [
         {
          "field": "game",
          "title": "Game",
          "type": "nominal"
         },
         {
          "field": "ym",
          "format": "%Y-%m",
          "timeUnit": "yearmonth",
          "title": "Month",
          "type": "temporal"
         },
         {
          "field": "peak",
          "format": ",",
          "title": "Peak (raw)",
          "type": "quantitative"
         },
         {
          "field": "norm_peak",
          "format": ".0%",
          "title": "% of Global Max",
          "type": "quantitative"
         }
        ],
        "x": {
         "axis": {
          "format": "%Y-%m",
          "labelAngle": -45,
          "labelColor": "#3b415c",
          "labelFontSize": 12,
          "titleColor": "#3b415c",
          "titleFontSize": 14
         },
         "field": "ym",
         "timeUnit": "yearmonth",
         "title": "Month",
         "type": "ordinal"
        },
        "y": {
         "axis": {
          "labelColor": "#3b415c",
          "labelFontSize": 12,
          "titleColor": "#3b415c",
          "titleFontSize": 14
         },
         "field": "game",
         "sort": [
          "Counter-Strike",
          "Valorant",
          "Rainbow Six Siege",
          "Call of Duty",
          "Battlefield"
         ],
         "title": "Game",
         "type": "nominal"
        }
       },
       "height": 220,
       "mark": {
        "type": "rect"
       },
       "width": 732
      },
      "text/plain": [
       "<VegaLite 5 object>\n",
       "\n",
       "If you see this message, it means the renderer has not been properly enabled\n",
       "for the frontend that you are using. For more information, see\n",
       "https://altair-viz.github.io/user_guide/display_frontends.html#troubleshooting\n"
      ]
     },
     "execution_count": 26,
     "metadata": {},
     "output_type": "execute_result"
    }
   ],
   "source": [
    "# Month-by-month heatmap (each cell = one game-month), normalized per game\n",
    "def _prep(df, name):\n",
    "    d = df[['month','peak']].copy()\n",
    "    d['game'] = name\n",
    "    # collapse to one value per year-month in case there are duplicates\n",
    "    d['ym'] = d['month'].dt.to_period('M').dt.to_timestamp()\n",
    "    d = d.groupby(['game','ym'], as_index=False)['peak'].max()\n",
    "    return d\n",
    "\n",
    "frames = [\n",
    "    _prep(cs_merged_data, \"Counter-Strike\"),\n",
    "    _prep(v_data, \"Valorant\"),\n",
    "    _prep(rss_data, \"Rainbow Six Siege\"),\n",
    "    _prep(cod_data, \"Call of Duty\"),\n",
    "    _prep(bf_data, \"Battlefield\"),\n",
    "]\n",
    "df = pd.concat(frames, ignore_index=True)\n",
    "\n",
    "end_ym = df['ym'].max()\n",
    "start_ym = (end_ym - pd.DateOffset(years=5)).to_period('M').to_timestamp()\n",
    "df = df[(df['ym'] >= start_ym) & (df['ym'] <= end_ym)]\n",
    "\n",
    "# normalize per game within the shown window\n",
    "df['norm_peak'] = df.groupby('game')['peak'].transform(lambda x: x / x.max())\n",
    "\n",
    "all_months = pd.date_range(start_ym, end_ym, freq='MS')\n",
    "games = [\"Counter-Strike\",\"Valorant\",\"Rainbow Six Siege\",\"Call of Duty\",\"Battlefield\"]\n",
    "full = (\n",
    "    pd.MultiIndex.from_product([games, all_months], names=['game','ym'])\n",
    "    .to_frame(index=False)\n",
    "    .merge(df, on=['game','ym'], how='left')\n",
    ")\n",
    "\n",
    "n_months = full['ym'].nunique()\n",
    "cell_px = 12\n",
    "chart_width = int(n_months * cell_px)\n",
    "\n",
    "heat_monthly = (\n",
    "    alt.Chart(full)\n",
    "    .mark_rect()\n",
    "    .encode(\n",
    "        x=alt.X(\n",
    "            'yearmonth(ym):O',\n",
    "            title='Month',\n",
    "            axis=alt.Axis(\n",
    "                labelAngle=-45,\n",
    "                format='%Y-%m',\n",
    "                labelFontSize=12,\n",
    "                titleFontSize=14,\n",
    "                labelColor='#3b415c',\n",
    "                titleColor='#3b415c'\n",
    "            )\n",
    "        ),\n",
    "        y=alt.Y(\n",
    "            'game:N',\n",
    "            title='Game',\n",
    "            sort=games,\n",
    "            axis=alt.Axis(\n",
    "                labelFontSize=12,\n",
    "                titleFontSize=14,\n",
    "                labelColor='#3b415c',\n",
    "                titleColor='#3b415c'\n",
    "            )\n",
    "        ),\n",
    "        color=alt.Color(\n",
    "            'norm_peak:Q',\n",
    "            title='Peak (normalized globally)',\n",
    "            scale=alt.Scale(domain=[0, 1], scheme='oranges'),\n",
    "            legend=alt.Legend(titleFontSize=14, labelFontSize=12,\n",
    "                              titleColor='#3b415c', labelColor='#3b415c')\n",
    "        ),\n",
    "        tooltip=[\n",
    "            alt.Tooltip('game:N', title='Game'),\n",
    "            alt.Tooltip('yearmonth(ym):T', title='Month', format='%Y-%m'),\n",
    "            alt.Tooltip('peak:Q', title='Peak (raw)', format=','),\n",
    "            alt.Tooltip('norm_peak:Q', title='% of Global Max', format='.0%')\n",
    "        ]\n",
    "    )\n",
    "    .properties(\n",
    "        width=chart_width,\n",
    "        height=220,\n",
    "        background='white'\n",
    "    )\n",
    ")\n",
    "\n",
    "heat_monthly\n"
   ]
  },
  {
   "cell_type": "markdown",
   "id": "6b0821ba",
   "metadata": {},
   "source": [
    "### Counter-Strike Viewership on Youtube and Twitch"
   ]
  },
  {
   "cell_type": "markdown",
   "id": "b82e081f",
   "metadata": {},
   "source": [
    "#### Lollipop Plots"
   ]
  },
  {
   "cell_type": "code",
   "execution_count": null,
   "id": "518114d6",
   "metadata": {},
   "outputs": [
    {
     "data": {
      "application/vnd.vegalite.v5+json": {
       "$schema": "https://vega.github.io/schema/vega-lite/v5.20.1.json",
       "config": {
        "axis": {
         "domainColor": "#3b415c",
         "grid": false,
         "labelColor": "#3b415c",
         "tickColor": "#3b415c"
        },
        "background": "white",
        "padding": 5,
        "title": {
         "color": "black"
        },
        "view": {
         "continuousHeight": 300,
         "continuousWidth": 300,
         "fill": "white",
         "strokeWidth": 0
        }
       },
       "datasets": {
        "data-01029290768b62e9d0e6779c012df3d7": [
         {
          "avg streams": 803,
          "avg viewers": 41122,
          "gain streams": 0,
          "gain viewers": 0,
          "hours watched": 305032336,
          "month": "2016-11-01T00:00:00",
          "peak streams": 1733,
          "peak viewers": 237149,
          "twitch_viewers": 237149
         },
         {
          "avg streams": 940,
          "avg viewers": 97395,
          "gain streams": 452,
          "gain viewers": 917083,
          "hours watched": 721080946,
          "month": "2016-12-01T00:00:00",
          "peak streams": 2185,
          "peak viewers": 1154232,
          "twitch_viewers": 1154232
         },
         {
          "avg streams": 1014,
          "avg viewers": 60177,
          "gain streams": -88,
          "gain viewers": -692895,
          "hours watched": 404088357,
          "month": "2017-01-01T00:00:00",
          "peak streams": 2097,
          "peak viewers": 461337,
          "twitch_viewers": 461337
         },
         {
          "avg streams": 946,
          "avg viewers": 49606,
          "gain streams": 3,
          "gain viewers": 51119,
          "hours watched": 368160397,
          "month": "2017-02-01T00:00:00",
          "peak streams": 2100,
          "peak viewers": 512456,
          "twitch_viewers": 512456
         },
         {
          "avg streams": 879,
          "avg viewers": 50868,
          "gain streams": -270,
          "gain viewers": -94180,
          "hours watched": 364069433,
          "month": "2017-03-01T00:00:00",
          "peak streams": 1830,
          "peak viewers": 418276,
          "twitch_viewers": 418276
         },
         {
          "avg streams": 837,
          "avg viewers": 31841,
          "gain streams": -130,
          "gain viewers": -223337,
          "hours watched": 231142383,
          "month": "2017-04-01T00:00:00",
          "peak streams": 1700,
          "peak viewers": 194939,
          "twitch_viewers": 194939
         },
         {
          "avg streams": 792,
          "avg viewers": 30421,
          "gain streams": -214,
          "gain viewers": 101836,
          "hours watched": 218526181,
          "month": "2017-05-01T00:00:00",
          "peak streams": 1486,
          "peak viewers": 296775,
          "twitch_viewers": 296775
         },
         {
          "avg streams": 844,
          "avg viewers": 91482,
          "gain streams": 101,
          "gain viewers": 652300,
          "hours watched": 678111000,
          "month": "2017-06-01T00:00:00",
          "peak streams": 1587,
          "peak viewers": 949075,
          "twitch_viewers": 949075
         },
         {
          "avg streams": 868,
          "avg viewers": 27226,
          "gain streams": 3,
          "gain viewers": -738899,
          "hours watched": 202162451,
          "month": "2017-07-01T00:00:00",
          "peak streams": 1590,
          "peak viewers": 210176,
          "twitch_viewers": 210176
         },
         {
          "avg streams": 778,
          "avg viewers": 37946,
          "gain streams": -54,
          "gain viewers": 78397,
          "hours watched": 273133134,
          "month": "2017-08-01T00:00:00",
          "peak streams": 1536,
          "peak viewers": 288573,
          "twitch_viewers": 288573
         },
         {
          "avg streams": 800,
          "avg viewers": 38311,
          "gain streams": 124,
          "gain viewers": 289305,
          "hours watched": 284097958,
          "month": "2017-09-01T00:00:00",
          "peak streams": 1660,
          "peak viewers": 577878,
          "twitch_viewers": 577878
         },
         {
          "avg streams": 802,
          "avg viewers": 35858,
          "gain streams": -93,
          "gain viewers": -296736,
          "hours watched": 258072260,
          "month": "2017-10-01T00:00:00",
          "peak streams": 1567,
          "peak viewers": 281142,
          "twitch_viewers": 281142
         },
         {
          "avg streams": 882,
          "avg viewers": 25279,
          "gain streams": 181,
          "gain viewers": -48504,
          "hours watched": 187102000,
          "month": "2017-11-01T00:00:00",
          "peak streams": 1748,
          "peak viewers": 232638,
          "twitch_viewers": 232638
         },
         {
          "avg streams": 1059,
          "avg viewers": 93523,
          "gain streams": 268,
          "gain viewers": 1088038,
          "hours watched": 695153473,
          "month": "2017-12-01T00:00:00",
          "peak streams": 2016,
          "peak viewers": 1320676,
          "twitch_viewers": 1320676
         },
         {
          "avg streams": 1164,
          "avg viewers": 55574,
          "gain streams": 327,
          "gain viewers": -945955,
          "hours watched": 372149237,
          "month": "2018-01-01T00:00:00",
          "peak streams": 2343,
          "peak viewers": 374721,
          "twitch_viewers": 374721
         },
         {
          "avg streams": 1069,
          "avg viewers": 37831,
          "gain streams": 20,
          "gain viewers": 130270,
          "hours watched": 281139519,
          "month": "2018-02-01T00:00:00",
          "peak streams": 2363,
          "peak viewers": 504991,
          "twitch_viewers": 504991
         },
         {
          "avg streams": 925,
          "avg viewers": 31942,
          "gain streams": -465,
          "gain viewers": -168152,
          "hours watched": 229147224,
          "month": "2018-03-01T00:00:00",
          "peak streams": 1898,
          "peak viewers": 336839,
          "twitch_viewers": 336839
         },
         {
          "avg streams": 828,
          "avg viewers": 35550,
          "gain streams": -303,
          "gain viewers": -110278,
          "hours watched": 264160163,
          "month": "2018-04-01T00:00:00",
          "peak streams": 1595,
          "peak viewers": 226561,
          "twitch_viewers": 226561
         },
         {
          "avg streams": 839,
          "avg viewers": 30620,
          "gain streams": 8,
          "gain viewers": 76827,
          "hours watched": 219463000,
          "month": "2018-05-01T00:00:00",
          "peak streams": 1603,
          "peak viewers": 303388,
          "twitch_viewers": 303388
         },
         {
          "avg streams": 939,
          "avg viewers": 36045,
          "gain streams": 75,
          "gain viewers": -63718,
          "hours watched": 265161443,
          "month": "2018-06-01T00:00:00",
          "peak streams": 1678,
          "peak viewers": 239670,
          "twitch_viewers": 239670
         },
         {
          "avg streams": 1027,
          "avg viewers": 29161,
          "gain streams": 194,
          "gain viewers": -45548,
          "hours watched": 217223155,
          "month": "2018-07-01T00:00:00",
          "peak streams": 1872,
          "peak viewers": 194122,
          "twitch_viewers": 194122
         },
         {
          "avg streams": 983,
          "avg viewers": 98328,
          "gain streams": 90,
          "gain viewers": 676348,
          "hours watched": 707251000,
          "month": "2018-08-01T00:00:00",
          "peak streams": 1962,
          "peak viewers": 870470,
          "twitch_viewers": 870470
         },
         {
          "avg streams": 973,
          "avg viewers": 32506,
          "gain streams": 12,
          "gain viewers": -647302,
          "hours watched": 241232303,
          "month": "2018-09-01T00:00:00",
          "peak streams": 1974,
          "peak viewers": 223168,
          "twitch_viewers": 223168
         },
         {
          "avg streams": 1018,
          "avg viewers": 37720,
          "gain streams": 46,
          "gain viewers": 77405,
          "hours watched": 271247239,
          "month": "2018-10-01T00:00:00",
          "peak streams": 2020,
          "peak viewers": 300573,
          "twitch_viewers": 300573
         },
         {
          "avg streams": 1182,
          "avg viewers": 34386,
          "gain streams": 1176,
          "gain viewers": -25715,
          "hours watched": 255358224,
          "month": "2018-11-01T00:00:00",
          "peak streams": 3196,
          "peak viewers": 274858,
          "twitch_viewers": 274858
         },
         {
          "avg streams": 1423,
          "avg viewers": 41428,
          "gain streams": -246,
          "gain viewers": -73824,
          "hours watched": 307693598,
          "month": "2018-12-01T00:00:00",
          "peak streams": 2950,
          "peak viewers": 201034,
          "twitch_viewers": 201034
         },
         {
          "avg streams": 1119,
          "avg viewers": 70550,
          "gain streams": -345,
          "gain viewers": 315753,
          "hours watched": 474446299,
          "month": "2019-01-01T00:00:00",
          "peak streams": 2605,
          "peak viewers": 516787,
          "twitch_viewers": 516787
         },
         {
          "avg streams": 1238,
          "avg viewers": 47799,
          "gain streams": -75,
          "gain viewers": 319790,
          "hours watched": 355535000,
          "month": "2019-02-01T00:00:00",
          "peak streams": 2530,
          "peak viewers": 836577,
          "twitch_viewers": 836577
         },
         {
          "avg streams": 1182,
          "avg viewers": 42814,
          "gain streams": -203,
          "gain viewers": -520536,
          "hours watched": 308423694,
          "month": "2019-03-01T00:00:00",
          "peak streams": 2327,
          "peak viewers": 316041,
          "twitch_viewers": 316041
         },
         {
          "avg streams": 1163,
          "avg viewers": 40003,
          "gain streams": -18,
          "gain viewers": -79719,
          "hours watched": 297409000,
          "month": "2019-04-01T00:00:00",
          "peak streams": 2309,
          "peak viewers": 236322,
          "twitch_viewers": 236322
         },
         {
          "avg streams": 1177,
          "avg viewers": 42055,
          "gain streams": -202,
          "gain viewers": 118587,
          "hours watched": 302609000,
          "month": "2019-05-01T00:00:00",
          "peak streams": 2107,
          "peak viewers": 354909,
          "twitch_viewers": 354909
         },
         {
          "avg streams": 1237,
          "avg viewers": 54848,
          "gain streams": 147,
          "gain viewers": 84216,
          "hours watched": 407793888,
          "month": "2019-06-01T00:00:00",
          "peak streams": 2254,
          "peak viewers": 439125,
          "twitch_viewers": 439125
         },
         {
          "avg streams": 1321,
          "avg viewers": 62101,
          "gain streams": 39,
          "gain viewers": 84831,
          "hours watched": 461604445,
          "month": "2019-07-01T00:00:00",
          "peak streams": 2293,
          "peak viewers": 523956,
          "twitch_viewers": 523956
         },
         {
          "avg streams": 1279,
          "avg viewers": 63866,
          "gain streams": 164,
          "gain viewers": 137766,
          "hours watched": 459461365,
          "month": "2019-08-01T00:00:00",
          "peak streams": 2457,
          "peak viewers": 661722,
          "twitch_viewers": 661722
         },
         {
          "avg streams": 1265,
          "avg viewers": 60422,
          "gain streams": 136,
          "gain viewers": -278952,
          "hours watched": 432481355,
          "month": "2019-09-01T00:00:00",
          "peak streams": 2593,
          "peak viewers": 382770,
          "twitch_viewers": 382770
         },
         {
          "avg streams": 1249,
          "avg viewers": 49606,
          "gain streams": -62,
          "gain viewers": -80541,
          "hours watched": 345678558,
          "month": "2019-10-01T00:00:00",
          "peak streams": 2531,
          "peak viewers": 302229,
          "twitch_viewers": 302229
         },
         {
          "avg streams": 1326,
          "avg viewers": 54580,
          "gain streams": 186,
          "gain viewers": 52444,
          "hours watched": 404149575,
          "month": "2019-11-01T00:00:00",
          "peak streams": 2717,
          "peak viewers": 354673,
          "twitch_viewers": 354673
         },
         {
          "avg streams": 1650,
          "avg viewers": 45680,
          "gain streams": 706,
          "gain viewers": -93543,
          "hours watched": 339123000,
          "month": "2019-12-01T00:00:00",
          "peak streams": 3423,
          "peak viewers": 261130,
          "twitch_viewers": 261130
         },
         {
          "avg streams": 1645,
          "avg viewers": 71759,
          "gain streams": -165,
          "gain viewers": 356013,
          "hours watched": 498867458,
          "month": "2020-01-01T00:00:00",
          "peak streams": 3258,
          "peak viewers": 617143,
          "twitch_viewers": 617143
         },
         {
          "avg streams": 2046,
          "avg viewers": 90151,
          "gain streams": 1480,
          "gain viewers": 226788,
          "hours watched": 668118474,
          "month": "2020-02-01T00:00:00",
          "peak streams": 4738,
          "peak viewers": 843931,
          "twitch_viewers": 843931
         },
         {
          "avg streams": 2772,
          "avg viewers": 120873,
          "gain streams": 885,
          "gain viewers": -269046,
          "hours watched": 864159510,
          "month": "2020-03-01T00:00:00",
          "peak streams": 5623,
          "peak viewers": 574885,
          "twitch_viewers": 574885
         },
         {
          "avg streams": 2419,
          "avg viewers": 103850,
          "gain streams": -725,
          "gain viewers": -72248,
          "hours watched": 767338000,
          "month": "2020-04-01T00:00:00",
          "peak streams": 4898,
          "peak viewers": 502637,
          "twitch_viewers": 502637
         },
         {
          "avg streams": 1967,
          "avg viewers": 105753,
          "gain streams": -655,
          "gain viewers": 127,
          "hours watched": 758168000,
          "month": "2020-05-01T00:00:00",
          "peak streams": 4243,
          "peak viewers": 502764,
          "twitch_viewers": 502764
         },
         {
          "avg streams": 1616,
          "avg viewers": 56694,
          "gain streams": -1130,
          "gain viewers": -291733,
          "hours watched": 419300000,
          "month": "2020-06-01T00:00:00",
          "peak streams": 3113,
          "peak viewers": 211031,
          "twitch_viewers": 211031
         },
         {
          "avg streams": 1456,
          "avg viewers": 65019,
          "gain streams": -520,
          "gain viewers": 123996,
          "hours watched": 481209000,
          "month": "2020-07-01T00:00:00",
          "peak streams": 2593,
          "peak viewers": 335027,
          "twitch_viewers": 335027
         },
         {
          "avg streams": 1447,
          "avg viewers": 74610,
          "gain streams": 92,
          "gain viewers": -4938,
          "hours watched": 535172570,
          "month": "2020-08-01T00:00:00",
          "peak streams": 2685,
          "peak viewers": 330089,
          "twitch_viewers": 330089
         },
         {
          "avg streams": 1557,
          "avg viewers": 78858,
          "gain streams": 361,
          "gain viewers": 135584,
          "hours watched": 585133314,
          "month": "2020-09-01T00:00:00",
          "peak streams": 3046,
          "peak viewers": 465673,
          "twitch_viewers": 465673
         },
         {
          "avg streams": 1834,
          "avg viewers": 84747,
          "gain streams": 571,
          "gain viewers": 90873,
          "hours watched": 608149698,
          "month": "2020-10-01T00:00:00",
          "peak streams": 3617,
          "peak viewers": 556546,
          "twitch_viewers": 556546
         },
         {
          "avg streams": 1948,
          "avg viewers": 81674,
          "gain streams": 410,
          "gain viewers": -161178,
          "hours watched": 605147522,
          "month": "2020-11-01T00:00:00",
          "peak streams": 4027,
          "peak viewers": 395368,
          "twitch_viewers": 395368
         },
         {
          "avg streams": 2277,
          "avg viewers": 82147,
          "gain streams": 640,
          "gain viewers": 206787,
          "hours watched": 609175754,
          "month": "2020-12-01T00:00:00",
          "peak streams": 4667,
          "peak viewers": 602155,
          "twitch_viewers": 602155
         },
         {
          "avg streams": 2273,
          "avg viewers": 100807,
          "gain streams": -117,
          "gain viewers": 23332,
          "hours watched": 675180765,
          "month": "2021-01-01T00:00:00",
          "peak streams": 4550,
          "peak viewers": 625487,
          "twitch_viewers": 625487
         },
         {
          "avg streams": 2216,
          "avg viewers": 97397,
          "gain streams": -70,
          "gain viewers": -135661,
          "hours watched": 723123602,
          "month": "2021-02-01T00:00:00",
          "peak streams": 4480,
          "peak viewers": 489826,
          "twitch_viewers": 489826
         },
         {
          "avg streams": 2065,
          "avg viewers": 97486,
          "gain streams": -208,
          "gain viewers": -42571,
          "hours watched": 700153623,
          "month": "2021-03-01T00:00:00",
          "peak streams": 4272,
          "peak viewers": 447255,
          "twitch_viewers": 447255
         },
         {
          "avg streams": 1883,
          "avg viewers": 102192,
          "gain streams": -587,
          "gain viewers": 164438,
          "hours watched": 756406604,
          "month": "2021-04-01T00:00:00",
          "peak streams": 3685,
          "peak viewers": 611693,
          "twitch_viewers": 611693
         },
         {
          "avg streams": 1643,
          "avg viewers": 77505,
          "gain streams": -618,
          "gain viewers": -217194,
          "hours watched": 554393000,
          "month": "2021-05-01T00:00:00",
          "peak streams": 3067,
          "peak viewers": 394499,
          "twitch_viewers": 394499
         },
         {
          "avg streams": 1520,
          "avg viewers": 78911,
          "gain streams": -491,
          "gain viewers": 335954,
          "hours watched": 586160000,
          "month": "2021-06-01T00:00:00",
          "peak streams": 2576,
          "peak viewers": 730453,
          "twitch_viewers": 730453
         },
         {
          "avg streams": 1503,
          "avg viewers": 67173,
          "gain streams": 30,
          "gain viewers": -330816,
          "hours watched": 498136452,
          "month": "2021-07-01T00:00:00",
          "peak streams": 2606,
          "peak viewers": 399637,
          "twitch_viewers": 399637
         },
         {
          "avg streams": 1422,
          "avg viewers": 85593,
          "gain streams": 280,
          "gain viewers": 337292,
          "hours watched": 615120000,
          "month": "2021-08-01T00:00:00",
          "peak streams": 2886,
          "peak viewers": 736929,
          "twitch_viewers": 736929
         },
         {
          "avg streams": 1307,
          "avg viewers": 94510,
          "gain streams": -261,
          "gain viewers": -47574,
          "hours watched": 702959449,
          "month": "2021-09-01T00:00:00",
          "peak streams": 2625,
          "peak viewers": 689355,
          "twitch_viewers": 689355
         },
         {
          "avg streams": 1347,
          "avg viewers": 111172,
          "gain streams": 40,
          "gain viewers": 1261087,
          "hours watched": 799103558,
          "month": "2021-10-01T00:00:00",
          "peak streams": 2665,
          "peak viewers": 1950442,
          "twitch_viewers": 1950442
         },
         {
          "avg streams": 1252,
          "avg viewers": 61286,
          "gain streams": -124,
          "gain viewers": -1419673,
          "hours watched": 455102784,
          "month": "2021-11-01T00:00:00",
          "peak streams": 2541,
          "peak viewers": 530769,
          "twitch_viewers": 530769
         },
         {
          "avg streams": 1494,
          "avg viewers": 54040,
          "gain streams": 408,
          "gain viewers": -90280,
          "hours watched": 400132000,
          "month": "2021-12-01T00:00:00",
          "peak streams": 2949,
          "peak viewers": 440489,
          "twitch_viewers": 440489
         },
         {
          "avg streams": 1413,
          "avg viewers": 100599,
          "gain streams": -155,
          "gain viewers": 547960,
          "hours watched": 668105588,
          "month": "2022-01-01T00:00:00",
          "peak streams": 2794,
          "peak viewers": 988449,
          "twitch_viewers": 988449
         },
         {
          "avg streams": 1174,
          "avg viewers": 75433,
          "gain streams": -450,
          "gain viewers": -631992,
          "hours watched": 549780000,
          "month": "2022-02-01T00:00:00",
          "peak streams": 2344,
          "peak viewers": 356457,
          "twitch_viewers": 356457
         },
         {
          "avg streams": 1116,
          "avg viewers": 81941,
          "gain streams": -129,
          "gain viewers": 76738,
          "hours watched": 588685868,
          "month": "2022-03-01T00:00:00",
          "peak streams": 2215,
          "peak viewers": 433195,
          "twitch_viewers": 433195
         },
         {
          "avg streams": 1135,
          "avg viewers": 126020,
          "gain streams": -23,
          "gain viewers": 1201410,
          "hours watched": 932589000,
          "month": "2022-04-01T00:00:00",
          "peak streams": 2192,
          "peak viewers": 1634605,
          "twitch_viewers": 1634605
         },
         {
          "avg streams": 1165,
          "avg viewers": 78428,
          "gain streams": -22,
          "gain viewers": -1113397,
          "hours watched": 563791485,
          "month": "2022-05-01T00:00:00",
          "peak streams": 2170,
          "peak viewers": 521208,
          "twitch_viewers": 521208
         },
         {
          "avg streams": 1148,
          "avg viewers": 68442,
          "gain streams": -110,
          "gain viewers": 636075,
          "hours watched": 500791318,
          "month": "2022-06-01T00:00:00",
          "peak streams": 2060,
          "peak viewers": 1157283,
          "twitch_viewers": 1157283
         },
         {
          "avg streams": 1175,
          "avg viewers": 57186,
          "gain streams": 133,
          "gain viewers": -835196,
          "hours watched": 424127000,
          "month": "2022-07-01T00:00:00",
          "peak streams": 2193,
          "peak viewers": 322087,
          "twitch_viewers": 322087
         },
         {
          "avg streams": 1096,
          "avg viewers": 80861,
          "gain streams": -63,
          "gain viewers": 134390,
          "hours watched": 574179228,
          "month": "2022-08-01T00:00:00",
          "peak streams": 2130,
          "peak viewers": 456477,
          "twitch_viewers": 456477
         },
         {
          "avg streams": 994,
          "avg viewers": 73816,
          "gain streams": -157,
          "gain viewers": 236785,
          "hours watched": 514899411,
          "month": "2022-09-01T00:00:00",
          "peak streams": 1973,
          "peak viewers": 693262,
          "twitch_viewers": 693262
         },
         {
          "avg streams": 924,
          "avg viewers": 121325,
          "gain streams": 11,
          "gain viewers": 579810,
          "hours watched": 872880280,
          "month": "2022-10-01T00:00:00",
          "peak streams": 1984,
          "peak viewers": 1273072,
          "twitch_viewers": 1273072
         },
         {
          "avg streams": 903,
          "avg viewers": 41945,
          "gain streams": -196,
          "gain viewers": -988081,
          "hours watched": 311955329,
          "month": "2022-11-01T00:00:00",
          "peak streams": 1788,
          "peak viewers": 284991,
          "twitch_viewers": 284991
         },
         {
          "avg streams": 1111,
          "avg viewers": 52468,
          "gain streams": 455,
          "gain viewers": 43166,
          "hours watched": 386108253,
          "month": "2022-12-01T00:00:00",
          "peak streams": 2243,
          "peak viewers": 328157,
          "twitch_viewers": 328157
         },
         {
          "avg streams": 1190,
          "avg viewers": 82176,
          "gain streams": 42,
          "gain viewers": 250266,
          "hours watched": 545875319,
          "month": "2023-01-01T00:00:00",
          "peak streams": 2285,
          "peak viewers": 578423,
          "twitch_viewers": 578423
         },
         {
          "avg streams": 1354,
          "avg viewers": 89073,
          "gain streams": 713,
          "gain viewers": 312089,
          "hours watched": 655103412,
          "month": "2023-02-01T00:00:00",
          "peak streams": 2998,
          "peak viewers": 890512,
          "twitch_viewers": 890512
         },
         {
          "avg streams": 1594,
          "avg viewers": 112765,
          "gain streams": 90,
          "gain viewers": -301391,
          "hours watched": 808109536,
          "month": "2023-03-01T00:00:00",
          "peak streams": 3088,
          "peak viewers": 589121,
          "twitch_viewers": 589121
         },
         {
          "avg streams": 1458,
          "avg viewers": 118738,
          "gain streams": -274,
          "gain viewers": 498430,
          "hours watched": 880109530,
          "month": "2023-04-01T00:00:00",
          "peak streams": 2814,
          "peak viewers": 1087551,
          "twitch_viewers": 1087551
         },
         {
          "avg streams": 1346,
          "avg viewers": 62865,
          "gain streams": -324,
          "gain viewers": -597939,
          "hours watched": 446527569,
          "month": "2023-05-01T00:00:00",
          "peak streams": 2490,
          "peak viewers": 489612,
          "twitch_viewers": 489612
         },
         {
          "avg streams": 1350,
          "avg viewers": 81222,
          "gain streams": -111,
          "gain viewers": -67930,
          "hours watched": 599125000,
          "month": "2023-06-01T00:00:00",
          "peak streams": 2379,
          "peak viewers": 421682,
          "twitch_viewers": 421682
         },
         {
          "avg streams": 1303,
          "avg viewers": 85021,
          "gain streams": 17,
          "gain viewers": 164866,
          "hours watched": 628891000,
          "month": "2023-07-01T00:00:00",
          "peak streams": 2396,
          "peak viewers": 586548,
          "twitch_viewers": 586548
         },
         {
          "avg streams": 975,
          "avg viewers": 62757,
          "gain streams": 2160,
          "gain viewers": -80962,
          "hours watched": 449625340,
          "month": "2023-08-01T00:00:00",
          "peak streams": 4556,
          "peak viewers": 505586,
          "twitch_viewers": 505586
         },
         {
          "avg streams": 1773,
          "avg viewers": 86787,
          "gain streams": -727,
          "gain viewers": 40863,
          "hours watched": 641661584,
          "month": "2023-09-01T00:00:00",
          "peak streams": 3829,
          "peak viewers": 546449,
          "twitch_viewers": 546449
         },
         {
          "avg streams": 1267,
          "avg viewers": 61178,
          "gain streams": -1367,
          "gain viewers": -162486,
          "hours watched": 438961481,
          "month": "2023-10-01T00:00:00",
          "peak streams": 2462,
          "peak viewers": 383963,
          "twitch_viewers": 383963
         },
         {
          "avg streams": 1109,
          "avg viewers": 50150,
          "gain streams": -129,
          "gain viewers": -81853,
          "hours watched": 370819000,
          "month": "2023-11-01T00:00:00",
          "peak streams": 2333,
          "peak viewers": 302110,
          "twitch_viewers": 302110
         },
         {
          "avg streams": 1261,
          "avg viewers": 71072,
          "gain streams": 170,
          "gain viewers": 3711,
          "hours watched": 515967301,
          "month": "2023-12-01T00:00:00",
          "peak streams": 2503,
          "peak viewers": 305821,
          "twitch_viewers": 305821
         },
         {
          "avg streams": 1371,
          "avg viewers": 95200,
          "gain streams": 639,
          "gain viewers": 392228,
          "hours watched": 661793416,
          "month": "2024-01-01T00:00:00",
          "peak streams": 3142,
          "peak viewers": 698049,
          "twitch_viewers": 698049
         },
         {
          "avg streams": 1370,
          "avg viewers": 122486,
          "gain streams": -342,
          "gain viewers": 855701,
          "hours watched": 908142000,
          "month": "2024-02-01T00:00:00",
          "peak streams": 2800,
          "peak viewers": 1553750,
          "twitch_viewers": 1553750
         },
         {
          "avg streams": 1291,
          "avg viewers": 76746,
          "gain streams": -158,
          "gain viewers": -1276742,
          "hours watched": 549666687,
          "month": "2024-03-01T00:00:00",
          "peak streams": 2642,
          "peak viewers": 277008,
          "twitch_viewers": 277008
         },
         {
          "avg streams": 1167,
          "avg viewers": 75568,
          "gain streams": -206,
          "gain viewers": 40530,
          "hours watched": 561792000,
          "month": "2024-04-01T00:00:00",
          "peak streams": 2436,
          "peak viewers": 317538,
          "twitch_viewers": 317538
         },
         {
          "avg streams": 1072,
          "avg viewers": 61497,
          "gain streams": -421,
          "gain viewers": 293415,
          "hours watched": 439333734,
          "month": "2024-05-01T00:00:00",
          "peak streams": 2015,
          "peak viewers": 610953,
          "twitch_viewers": 610953
         },
         {
          "avg streams": 1065,
          "avg viewers": 55901,
          "gain streams": 30,
          "gain viewers": 19492,
          "hours watched": 414134000,
          "month": "2024-06-01T00:00:00",
          "peak streams": 2045,
          "peak viewers": 630445,
          "twitch_viewers": 630445
         },
         {
          "avg streams": 1166,
          "avg viewers": 83456,
          "gain streams": 152,
          "gain viewers": 89551,
          "hours watched": 609697000,
          "month": "2024-07-01T00:00:00",
          "peak streams": 2197,
          "peak viewers": 719996,
          "twitch_viewers": 719996
         },
         {
          "avg streams": 1156,
          "avg viewers": 78604,
          "gain streams": 55,
          "gain viewers": -93094,
          "hours watched": 559775177,
          "month": "2024-08-01T00:00:00",
          "peak streams": 2252,
          "peak viewers": 626902,
          "twitch_viewers": 626902
         },
         {
          "avg streams": 1230,
          "avg viewers": 63932,
          "gain streams": 276,
          "gain viewers": -194055,
          "hours watched": 467633319,
          "month": "2024-09-01T00:00:00",
          "peak streams": 2528,
          "peak viewers": 432847,
          "twitch_viewers": 432847
         },
         {
          "avg streams": 1254,
          "avg viewers": 67250,
          "gain streams": -61,
          "gain viewers": 5768,
          "hours watched": 482863640,
          "month": "2024-10-01T00:00:00",
          "peak streams": 2467,
          "peak viewers": 438615,
          "twitch_viewers": 438615
         },
         {
          "avg streams": 1296,
          "avg viewers": 73597,
          "gain streams": 46,
          "gain viewers": 512501,
          "hours watched": 547003000,
          "month": "2024-11-01T00:00:00",
          "peak streams": 2513,
          "peak viewers": 951116,
          "twitch_viewers": 951116
         },
         {
          "avg streams": 1714,
          "avg viewers": 80586,
          "gain streams": 1157,
          "gain viewers": -425178,
          "hours watched": 595945000,
          "month": "2024-12-01T00:00:00",
          "peak streams": 3670,
          "peak viewers": 525938,
          "twitch_viewers": 525938
         },
         {
          "avg streams": 1877,
          "avg viewers": 103137,
          "gain streams": 46,
          "gain viewers": 426992,
          "hours watched": 689849646,
          "month": "2025-01-01T00:00:00",
          "peak streams": 3716,
          "peak viewers": 952930,
          "twitch_viewers": 952930
         },
         {
          "avg streams": 1769,
          "avg viewers": 107709,
          "gain streams": 70,
          "gain viewers": -320940,
          "hours watched": 797808149,
          "month": "2025-02-01T00:00:00",
          "peak streams": 3786,
          "peak viewers": 631990,
          "twitch_viewers": 631990
         },
         {
          "avg streams": 1681,
          "avg viewers": 87188,
          "gain streams": -262,
          "gain viewers": 195736,
          "hours watched": 627951317,
          "month": "2025-03-01T00:00:00",
          "peak streams": 3524,
          "peak viewers": 827726,
          "twitch_viewers": 827726
         },
         {
          "avg streams": 1601,
          "avg viewers": 99822,
          "gain streams": -252,
          "gain viewers": -105695,
          "hours watched": 741902172,
          "month": "2025-04-01T00:00:00",
          "peak streams": 3272,
          "peak viewers": 722031,
          "twitch_viewers": 722031
         },
         {
          "avg streams": 1481,
          "avg viewers": 117782,
          "gain streams": -219,
          "gain viewers": 424796,
          "hours watched": 848466647,
          "month": "2025-05-01T00:00:00",
          "peak streams": 3053,
          "peak viewers": 1146827,
          "twitch_viewers": 1146827
         },
         {
          "avg streams": 1519,
          "avg viewers": 86343,
          "gain streams": -55,
          "gain viewers": -590801,
          "hours watched": 642565317,
          "month": "2025-06-01T00:00:00",
          "peak streams": 2998,
          "peak viewers": 556026,
          "twitch_viewers": 556026
         },
         {
          "avg streams": 1558,
          "avg viewers": 91794,
          "gain streams": 46,
          "gain viewers": 178269,
          "hours watched": 682532909,
          "month": "2025-07-01T00:00:00",
          "peak streams": 3044,
          "peak viewers": 734295,
          "twitch_viewers": 734295
         },
         {
          "avg streams": 1447,
          "avg viewers": 64286,
          "gain streams": -92,
          "gain viewers": -289081,
          "hours watched": 154211193,
          "month": "2025-08-01T00:00:00",
          "peak streams": 2952,
          "peak viewers": 445214,
          "twitch_viewers": 445214
         }
        ],
        "data-a443fdd896fc54816ddc830abb8f5195": [
         {
          "cs_players": 664428,
          "cs_players_s": 683327,
          "month": "2016-11-01T00:00:00"
         },
         {
          "cs_players": 702226,
          "cs_players_s": 741557,
          "month": "2016-12-01T00:00:00"
         },
         {
          "cs_players": 858017,
          "cs_players_s": 781862,
          "month": "2017-01-01T00:00:00"
         },
         {
          "cs_players": 785343,
          "cs_players_s": 808063.6666666666,
          "month": "2017-02-01T00:00:00"
         },
         {
          "cs_players": 780831,
          "cs_players_s": 764903.6666666666,
          "month": "2017-03-01T00:00:00"
         },
         {
          "cs_players": 728537,
          "cs_players_s": 746215.6666666666,
          "month": "2017-04-01T00:00:00"
         },
         {
          "cs_players": 729279,
          "cs_players_s": 700804,
          "month": "2017-05-01T00:00:00"
         },
         {
          "cs_players": 644596,
          "cs_players_s": 681412,
          "month": "2017-06-01T00:00:00"
         },
         {
          "cs_players": 670361,
          "cs_players_s": 647000.3333333334,
          "month": "2017-07-01T00:00:00"
         },
         {
          "cs_players": 626044,
          "cs_players_s": 668624.3333333334,
          "month": "2017-08-01T00:00:00"
         },
         {
          "cs_players": 709468,
          "cs_players_s": 670115.6666666666,
          "month": "2017-09-01T00:00:00"
         },
         {
          "cs_players": 674835,
          "cs_players_s": 674199.3333333334,
          "month": "2017-10-01T00:00:00"
         },
         {
          "cs_players": 638295,
          "cs_players_s": 650552,
          "month": "2017-11-01T00:00:00"
         },
         {
          "cs_players": 638526,
          "cs_players_s": 678532.3333333334,
          "month": "2017-12-01T00:00:00"
         },
         {
          "cs_players": 758776,
          "cs_players_s": 708716.6666666666,
          "month": "2018-01-01T00:00:00"
         },
         {
          "cs_players": 728848,
          "cs_players_s": 732845.3333333334,
          "month": "2018-02-01T00:00:00"
         },
         {
          "cs_players": 710912,
          "cs_players_s": 665259.6666666666,
          "month": "2018-03-01T00:00:00"
         },
         {
          "cs_players": 556019,
          "cs_players_s": 582774.3333333334,
          "month": "2018-04-01T00:00:00"
         },
         {
          "cs_players": 481392,
          "cs_players_s": 495606.6666666667,
          "month": "2018-05-01T00:00:00"
         },
         {
          "cs_players": 449409,
          "cs_players_s": 462159,
          "month": "2018-06-01T00:00:00"
         },
         {
          "cs_players": 455676,
          "cs_players_s": 462277,
          "month": "2018-07-01T00:00:00"
         },
         {
          "cs_players": 481746,
          "cs_players_s": 516767.3333333333,
          "month": "2018-08-01T00:00:00"
         },
         {
          "cs_players": 612880,
          "cs_players_s": 562913,
          "month": "2018-09-01T00:00:00"
         },
         {
          "cs_players": 594113,
          "cs_players_s": 594427,
          "month": "2018-10-01T00:00:00"
         },
         {
          "cs_players": 576288,
          "cs_players_s": 650578.6666666666,
          "month": "2018-11-01T00:00:00"
         },
         {
          "cs_players": 781335,
          "cs_players_s": 692626,
          "month": "2018-12-01T00:00:00"
         },
         {
          "cs_players": 720255,
          "cs_players_s": 729431,
          "month": "2019-01-01T00:00:00"
         },
         {
          "cs_players": 686703,
          "cs_players_s": 706231,
          "month": "2019-02-01T00:00:00"
         },
         {
          "cs_players": 711735,
          "cs_players_s": 682114.6666666666,
          "month": "2019-03-01T00:00:00"
         },
         {
          "cs_players": 647906,
          "cs_players_s": 658860.6666666666,
          "month": "2019-04-01T00:00:00"
         },
         {
          "cs_players": 616941,
          "cs_players_s": 626453.3333333334,
          "month": "2019-05-01T00:00:00"
         },
         {
          "cs_players": 614513,
          "cs_players_s": 611420,
          "month": "2019-06-01T00:00:00"
         },
         {
          "cs_players": 602806,
          "cs_players_s": 632737,
          "month": "2019-07-01T00:00:00"
         },
         {
          "cs_players": 680892,
          "cs_players_s": 676374.3333333334,
          "month": "2019-08-01T00:00:00"
         },
         {
          "cs_players": 745425,
          "cs_players_s": 734356,
          "month": "2019-09-01T00:00:00"
         },
         {
          "cs_players": 776751,
          "cs_players_s": 770546.3333333334,
          "month": "2019-10-01T00:00:00"
         },
         {
          "cs_players": 789463,
          "cs_players_s": 788326,
          "month": "2019-11-01T00:00:00"
         },
         {
          "cs_players": 798764,
          "cs_players_s": 812851.6666666666,
          "month": "2019-12-01T00:00:00"
         },
         {
          "cs_players": 850328,
          "cs_players_s": 869442.3333333334,
          "month": "2020-01-01T00:00:00"
         },
         {
          "cs_players": 959235,
          "cs_players_s": 1026479,
          "month": "2020-02-01T00:00:00"
         },
         {
          "cs_players": 1269874,
          "cs_players_s": 1194389.6666666667,
          "month": "2020-03-01T00:00:00"
         },
         {
          "cs_players": 1354060,
          "cs_players_s": 1281339.6666666667,
          "month": "2020-04-01T00:00:00"
         },
         {
          "cs_players": 1220085,
          "cs_players_s": 1187041.6666666667,
          "month": "2020-05-01T00:00:00"
         },
         {
          "cs_players": 986980,
          "cs_players_s": 1031645.3333333334,
          "month": "2020-06-01T00:00:00"
         },
         {
          "cs_players": 887871,
          "cs_players_s": 943573.3333333334,
          "month": "2020-07-01T00:00:00"
         },
         {
          "cs_players": 955869,
          "cs_players_s": 949165,
          "month": "2020-08-01T00:00:00"
         },
         {
          "cs_players": 1003755,
          "cs_players_s": 978914.6666666666,
          "month": "2020-09-01T00:00:00"
         },
         {
          "cs_players": 977120,
          "cs_players_s": 1016665.3333333334,
          "month": "2020-10-01T00:00:00"
         },
         {
          "cs_players": 1069121,
          "cs_players_s": 1082587.6666666667,
          "month": "2020-11-01T00:00:00"
         },
         {
          "cs_players": 1201522,
          "cs_players_s": 1143065.3333333333,
          "month": "2020-12-01T00:00:00"
         },
         {
          "cs_players": 1158553,
          "cs_players_s": 1172078.3333333333,
          "month": "2021-01-01T00:00:00"
         },
         {
          "cs_players": 1156160,
          "cs_players_s": 1182966.6666666667,
          "month": "2021-02-01T00:00:00"
         },
         {
          "cs_players": 1234187,
          "cs_players_s": 1190846.6666666667,
          "month": "2021-03-01T00:00:00"
         },
         {
          "cs_players": 1182193,
          "cs_players_s": 1176829,
          "month": "2021-04-01T00:00:00"
         },
         {
          "cs_players": 1114107,
          "cs_players_s": 1083128.3333333333,
          "month": "2021-05-01T00:00:00"
         },
         {
          "cs_players": 953085,
          "cs_players_s": 951773.3333333334,
          "month": "2021-06-01T00:00:00"
         },
         {
          "cs_players": 788128,
          "cs_players_s": 855131,
          "month": "2021-07-01T00:00:00"
         },
         {
          "cs_players": 824180,
          "cs_players_s": 861032,
          "month": "2021-08-01T00:00:00"
         },
         {
          "cs_players": 970788,
          "cs_players_s": 894355.6666666666,
          "month": "2021-09-01T00:00:00"
         },
         {
          "cs_players": 888099,
          "cs_players_s": 942145,
          "month": "2021-10-01T00:00:00"
         },
         {
          "cs_players": 967548,
          "cs_players_s": 943423.6666666666,
          "month": "2021-11-01T00:00:00"
         },
         {
          "cs_players": 974624,
          "cs_players_s": 987324,
          "month": "2021-12-01T00:00:00"
         },
         {
          "cs_players": 1019800,
          "cs_players_s": 1006827,
          "month": "2022-01-01T00:00:00"
         },
         {
          "cs_players": 1026057,
          "cs_players_s": 1021868,
          "month": "2022-02-01T00:00:00"
         },
         {
          "cs_players": 1019747,
          "cs_players_s": 1029446.6666666666,
          "month": "2022-03-01T00:00:00"
         },
         {
          "cs_players": 1042536,
          "cs_players_s": 1005730.3333333334,
          "month": "2022-04-01T00:00:00"
         },
         {
          "cs_players": 954908,
          "cs_players_s": 975336.6666666666,
          "month": "2022-05-01T00:00:00"
         },
         {
          "cs_players": 928566,
          "cs_players_s": 944623,
          "month": "2022-06-01T00:00:00"
         },
         {
          "cs_players": 950395,
          "cs_players_s": 979908.6666666666,
          "month": "2022-07-01T00:00:00"
         },
         {
          "cs_players": 1060765,
          "cs_players_s": 1045117,
          "month": "2022-08-01T00:00:00"
         },
         {
          "cs_players": 1124191,
          "cs_players_s": 1098527.6666666667,
          "month": "2022-09-01T00:00:00"
         },
         {
          "cs_players": 1110627,
          "cs_players_s": 1130348,
          "month": "2022-10-01T00:00:00"
         },
         {
          "cs_players": 1156226,
          "cs_players_s": 1119065.3333333333,
          "month": "2022-11-01T00:00:00"
         },
         {
          "cs_players": 1090343,
          "cs_players_s": 1156925.3333333333,
          "month": "2022-12-01T00:00:00"
         },
         {
          "cs_players": 1224207,
          "cs_players_s": 1230959,
          "month": "2023-01-01T00:00:00"
         },
         {
          "cs_players": 1378327,
          "cs_players_s": 1381588.3333333333,
          "month": "2023-02-01T00:00:00"
         },
         {
          "cs_players": 1542231,
          "cs_players_s": 1485553.3333333333,
          "month": "2023-03-01T00:00:00"
         },
         {
          "cs_players": 1536102,
          "cs_players_s": 1638743,
          "month": "2023-04-01T00:00:00"
         },
         {
          "cs_players": 1837896,
          "cs_players_s": 1688826.6666666667,
          "month": "2023-05-01T00:00:00"
         },
         {
          "cs_players": 1692482,
          "cs_players_s": 1592072.6666666667,
          "month": "2023-06-01T00:00:00"
         },
         {
          "cs_players": 1245840,
          "cs_players_s": 1498453.6666666667,
          "month": "2023-07-01T00:00:00"
         },
         {
          "cs_players": 1557039,
          "cs_players_s": 1461012,
          "month": "2023-08-01T00:00:00"
         },
         {
          "cs_players": 1580157,
          "cs_players_s": 1516673.6666666667,
          "month": "2023-09-01T00:00:00"
         },
         {
          "cs_players": 1412825,
          "cs_players_s": 1392502.3333333333,
          "month": "2023-10-01T00:00:00"
         },
         {
          "cs_players": 1184525,
          "cs_players_s": 1291259.6666666667,
          "month": "2023-11-01T00:00:00"
         },
         {
          "cs_players": 1276429,
          "cs_players_s": 1265235.3333333333,
          "month": "2023-12-01T00:00:00"
         },
         {
          "cs_players": 1334752,
          "cs_players_s": 1347706.3333333333,
          "month": "2024-01-01T00:00:00"
         },
         {
          "cs_players": 1431938,
          "cs_players_s": 1440584.6666666667,
          "month": "2024-02-01T00:00:00"
         },
         {
          "cs_players": 1555064,
          "cs_players_s": 1544993,
          "month": "2024-03-01T00:00:00"
         },
         {
          "cs_players": 1647977,
          "cs_players_s": 1621533,
          "month": "2024-04-01T00:00:00"
         },
         {
          "cs_players": 1661558,
          "cs_players_s": 1622577.6666666667,
          "month": "2024-05-01T00:00:00"
         },
         {
          "cs_players": 1558198,
          "cs_players_s": 1535067.3333333333,
          "month": "2024-06-01T00:00:00"
         },
         {
          "cs_players": 1385446,
          "cs_players_s": 1468258.6666666667,
          "month": "2024-07-01T00:00:00"
         },
         {
          "cs_players": 1461132,
          "cs_players_s": 1453870.3333333333,
          "month": "2024-08-01T00:00:00"
         },
         {
          "cs_players": 1515033,
          "cs_players_s": 1501839,
          "month": "2024-09-01T00:00:00"
         },
         {
          "cs_players": 1529352,
          "cs_players_s": 1546037,
          "month": "2024-10-01T00:00:00"
         },
         {
          "cs_players": 1593726,
          "cs_players_s": 1633469,
          "month": "2024-11-01T00:00:00"
         },
         {
          "cs_players": 1777329,
          "cs_players_s": 1671617.3333333333,
          "month": "2024-12-01T00:00:00"
         },
         {
          "cs_players": 1643797,
          "cs_players_s": 1749583.6666666667,
          "month": "2025-01-01T00:00:00"
         },
         {
          "cs_players": 1827625,
          "cs_players_s": 1778616.6666666667,
          "month": "2025-02-01T00:00:00"
         },
         {
          "cs_players": 1864428,
          "cs_players_s": 1863526,
          "month": "2025-03-01T00:00:00"
         },
         {
          "cs_players": 1898525,
          "cs_players_s": 1838433.3333333333,
          "month": "2025-04-01T00:00:00"
         },
         {
          "cs_players": 1752347,
          "cs_players_s": 1805814.6666666667,
          "month": "2025-05-01T00:00:00"
         },
         {
          "cs_players": 1766572,
          "cs_players_s": 1674982,
          "month": "2025-06-01T00:00:00"
         },
         {
          "cs_players": 1506027,
          "cs_players_s": 1618051,
          "month": "2025-07-01T00:00:00"
         },
         {
          "cs_players": 1581554,
          "cs_players_s": 1543790.5,
          "month": "2025-08-01T00:00:00"
         }
        ]
       },
       "height": 300,
       "layer": [
        {
         "data": {
          "name": "data-a443fdd896fc54816ddc830abb8f5195"
         },
         "encoding": {
          "x": {
           "axis": {
            "grid": false,
            "labelFontSize": 12
           },
           "field": "month",
           "type": "temporal"
          },
          "y": {
           "axis": {
            "format": ".2s",
            "grid": false,
            "labelFontSize": 12,
            "orient": "left",
            "tickCount": 6,
            "title": "Peak CCU (millions)",
            "titleColor": "#E58716",
            "titleFontSize": 18
           },
           "field": "cs_players_s",
           "type": "quantitative"
          }
         },
         "mark": {
          "color": "#E58716",
          "strokeWidth": 3,
          "type": "line"
         }
        },
        {
         "data": {
          "name": "data-01029290768b62e9d0e6779c012df3d7"
         },
         "encoding": {
          "x": {
           "axis": {
            "grid": false
           },
           "field": "month",
           "title": null,
           "type": "temporal"
          },
          "y": {
           "axis": {
            "format": ".2s",
            "labelFontSize": 12,
            "orient": "right",
            "tickCount": 7,
            "title": "Twitch Peak Viewers",
            "titleColor": "#9146FF",
            "titleFontSize": 18
           },
           "field": "zero",
           "type": "quantitative"
          },
          "y2": {
           "field": "twitch_viewers"
          }
         },
         "mark": {
          "color": "#888",
          "strokeWidth": 1,
          "type": "rule"
         },
         "transform": [
          {
           "as": "zero",
           "calculate": "0"
          }
         ]
        },
        {
         "data": {
          "name": "data-01029290768b62e9d0e6779c012df3d7"
         },
         "encoding": {
          "tooltip": [
           {
            "field": "month",
            "title": "Date",
            "type": "temporal"
           },
           {
            "field": "twitch_viewers",
            "format": ",",
            "title": "Twitch Peak Concurrent Viewers",
            "type": "quantitative"
           }
          ],
          "x": {
           "axis": {
            "grid": false
           },
           "field": "month",
           "title": null,
           "type": "temporal"
          },
          "y": {
           "axis": null,
           "field": "twitch_viewers",
           "type": "quantitative"
          }
         },
         "mark": {
          "color": "#9146FF",
          "filled": true,
          "size": 60,
          "type": "point"
         }
        }
       ],
       "resolve": {
        "scale": {
         "y": "independent"
        }
       },
       "width": 900
      },
      "text/plain": [
       "<VegaLite 5 object>\n",
       "\n",
       "If you see this message, it means the renderer has not been properly enabled\n",
       "for the frontend that you are using. For more information, see\n",
       "https://altair-viz.github.io/user_guide/display_frontends.html#troubleshooting\n"
      ]
     },
     "execution_count": 8,
     "metadata": {},
     "output_type": "execute_result"
    }
   ],
   "source": [
    "# ----- Twitch -----\n",
    "tw = twitch_cs_data.copy()\n",
    "tw['twitch_viewers'] = pd.to_numeric(tw['peak viewers'], errors='coerce')\n",
    "tw = tw.dropna(subset=['month', 'twitch_viewers'])\n",
    "\n",
    "tw_base = alt.Chart(tw).encode(x=alt.X('month:T', title=None, axis=alt.Axis(grid=False)))\n",
    "\n",
    "# Stems live here (Twitch)\n",
    "tw_sticks = tw_base.mark_rule(strokeWidth=1, color='#888').encode(\n",
    "    y=alt.Y('zero:Q',\n",
    "            axis=alt.Axis(orient='right',\n",
    "                          title='Twitch Peak Viewers',\n",
    "                          titleColor='#9146FF',\n",
    "                          titleFontSize=18,\n",
    "                          format='.2s', tickCount=7, labelFontSize=12),\n",
    "            ),\n",
    "    y2=alt.Y2('twitch_viewers:Q')\n",
    ").transform_calculate(zero='0')\n",
    "\n",
    "# Dots (no axis on points; uses same scale)\n",
    "tw_points = tw_base.mark_point(filled=True, size=60, color='#9146FF').encode(\n",
    "    y=alt.Y('twitch_viewers:Q', axis=None),\n",
    "    tooltip=[\n",
    "        alt.Tooltip('month:T', title='Date'),\n",
    "        alt.Tooltip('twitch_viewers:Q', title='Twitch Peak Concurrent Viewers', format=',')\n",
    "    ]\n",
    ")\n",
    "\n",
    "# ----- Counter-Strike -----\n",
    "START = pd.Timestamp('2016-11-01')\n",
    "cs = cs_merged_data[['month', 'peak']].rename(columns={'peak': 'cs_players'}).copy()\n",
    "cs = cs[cs['month'] >= START]\n",
    "\n",
    "SMOOTH = 3\n",
    "if SMOOTH > 1:\n",
    "    cs['cs_players_s'] = cs['cs_players'].rolling(SMOOTH, min_periods=1, center=True).mean()\n",
    "    y_cs = 'cs_players_s'\n",
    "else:\n",
    "    y_cs = 'cs_players'\n",
    "\n",
    "# CS line (left axis)\n",
    "cs_line = alt.Chart(cs).mark_line(strokeWidth=3, color=\"#E58716\").encode(\n",
    "    x=alt.X('month:T', axis=alt.Axis(grid=False, labelFontSize=12)),\n",
    "    y=alt.Y(f'{y_cs}:Q',\n",
    "            axis=alt.Axis(orient='left',\n",
    "                          title='Peak CCU (millions)',\n",
    "                          titleColor='#E58716',\n",
    "                          format='.2s', tickCount=6, grid=False, titleFontSize=18, labelFontSize=12))\n",
    ")\n",
    "\n",
    "# ----- Layer -----\n",
    "chart_twitch = \\\n",
    "    alt.layer(cs_line, tw_sticks, tw_points) \\\n",
    "        .resolve_scale(y='independent') \\\n",
    "        .properties(width=900, height=300) \\\n",
    "        .configure(\n",
    "            background='white',\n",
    "            padding=5\n",
    "        ) \\\n",
    "        .configure_view(\n",
    "            strokeWidth=0,\n",
    "            fill='white'\n",
    "        ) \\\n",
    "        .configure_axis(\n",
    "            grid=False,\n",
    "            labelColor='#3b415c',\n",
    "            domainColor='#3b415c',\n",
    "            tickColor='#3b415c'\n",
    "        ) \\\n",
    "        .configure_title(color='black')\n",
    "\n",
    "chart_twitch\n"
   ]
  },
  {
   "cell_type": "code",
   "execution_count": null,
   "id": "f06b147f",
   "metadata": {},
   "outputs": [
    {
     "data": {
      "application/vnd.vegalite.v5+json": {
       "$schema": "https://vega.github.io/schema/vega-lite/v5.20.1.json",
       "config": {
        "axis": {
         "domainColor": "#3b415c",
         "grid": false,
         "labelColor": "#3b415c",
         "tickColor": "#3b415c"
        },
        "background": "white",
        "padding": 5,
        "title": {
         "color": "black"
        },
        "view": {
         "continuousHeight": 300,
         "continuousWidth": 300,
         "fill": "white",
         "strokeWidth": 0
        }
       },
       "datasets": {
        "data-80fbc6878557cb1ca4d73ac71f39fd84": [
         {
          "commentCount": 21510,
          "favoriteCount": 0,
          "likeCount": 738624,
          "month": "2016-11-01T00:00:00",
          "viewCount": 44191608
         },
         {
          "commentCount": 21214,
          "favoriteCount": 0,
          "likeCount": 296431,
          "month": "2016-12-01T00:00:00",
          "viewCount": 24417765
         },
         {
          "commentCount": 23410,
          "favoriteCount": 0,
          "likeCount": 544009,
          "month": "2017-01-01T00:00:00",
          "viewCount": 38548418
         },
         {
          "commentCount": 13491,
          "favoriteCount": 0,
          "likeCount": 417451,
          "month": "2017-02-01T00:00:00",
          "viewCount": 33774463
         },
         {
          "commentCount": 10561,
          "favoriteCount": 0,
          "likeCount": 237286,
          "month": "2017-03-01T00:00:00",
          "viewCount": 9465118
         },
         {
          "commentCount": 9268,
          "favoriteCount": 0,
          "likeCount": 171985,
          "month": "2017-04-01T00:00:00",
          "viewCount": 24126412
         },
         {
          "commentCount": 17627,
          "favoriteCount": 0,
          "likeCount": 180121,
          "month": "2017-05-01T00:00:00",
          "viewCount": 14520871
         },
         {
          "commentCount": 8799,
          "favoriteCount": 0,
          "likeCount": 193773,
          "month": "2017-06-01T00:00:00",
          "viewCount": 3797489
         },
         {
          "commentCount": 14822,
          "favoriteCount": 0,
          "likeCount": 189008,
          "month": "2017-07-01T00:00:00",
          "viewCount": 8991317
         },
         {
          "commentCount": 27124,
          "favoriteCount": 0,
          "likeCount": 603429,
          "month": "2017-08-01T00:00:00",
          "viewCount": 34827963
         },
         {
          "commentCount": 9913,
          "favoriteCount": 0,
          "likeCount": 76243,
          "month": "2017-09-01T00:00:00",
          "viewCount": 5023939
         },
         {
          "commentCount": 15779,
          "favoriteCount": 0,
          "likeCount": 192950,
          "month": "2017-10-01T00:00:00",
          "viewCount": 15677146
         },
         {
          "commentCount": 18186,
          "favoriteCount": 0,
          "likeCount": 409901,
          "month": "2017-11-01T00:00:00",
          "viewCount": 16473084
         },
         {
          "commentCount": 11884,
          "favoriteCount": 0,
          "likeCount": 115699,
          "month": "2017-12-01T00:00:00",
          "viewCount": 7403088
         },
         {
          "commentCount": 20164,
          "favoriteCount": 0,
          "likeCount": 422053,
          "month": "2018-01-01T00:00:00",
          "viewCount": 20227943
         },
         {
          "commentCount": 10821,
          "favoriteCount": 0,
          "likeCount": 100671,
          "month": "2018-02-01T00:00:00",
          "viewCount": 4773316
         },
         {
          "commentCount": 9992,
          "favoriteCount": 0,
          "likeCount": 128121,
          "month": "2018-03-01T00:00:00",
          "viewCount": 6681056
         },
         {
          "commentCount": 26416,
          "favoriteCount": 0,
          "likeCount": 757331,
          "month": "2018-04-01T00:00:00",
          "viewCount": 52530015
         },
         {
          "commentCount": 22421,
          "favoriteCount": 0,
          "likeCount": 825840,
          "month": "2018-05-01T00:00:00",
          "viewCount": 48526304
         },
         {
          "commentCount": 11471,
          "favoriteCount": 0,
          "likeCount": 489806,
          "month": "2018-06-01T00:00:00",
          "viewCount": 55513661
         },
         {
          "commentCount": 5815,
          "favoriteCount": 0,
          "likeCount": 67279,
          "month": "2018-07-01T00:00:00",
          "viewCount": 2964785
         },
         {
          "commentCount": 20742,
          "favoriteCount": 0,
          "likeCount": 281104,
          "month": "2018-08-01T00:00:00",
          "viewCount": 17108328
         },
         {
          "commentCount": 2497,
          "favoriteCount": 0,
          "likeCount": 17326,
          "month": "2018-09-01T00:00:00",
          "viewCount": 822816
         },
         {
          "commentCount": 18579,
          "favoriteCount": 0,
          "likeCount": 257666,
          "month": "2018-10-01T00:00:00",
          "viewCount": 19632217
         },
         {
          "commentCount": 77683,
          "favoriteCount": 0,
          "likeCount": 1114273,
          "month": "2018-11-01T00:00:00",
          "viewCount": 43796079
         },
         {
          "commentCount": 9318,
          "favoriteCount": 0,
          "likeCount": 128677,
          "month": "2018-12-01T00:00:00",
          "viewCount": 4192299
         },
         {
          "commentCount": 8340,
          "favoriteCount": 0,
          "likeCount": 103648,
          "month": "2019-01-01T00:00:00",
          "viewCount": 7797941
         },
         {
          "commentCount": 11547,
          "favoriteCount": 0,
          "likeCount": 260974,
          "month": "2019-02-01T00:00:00",
          "viewCount": 8897700
         },
         {
          "commentCount": 8143,
          "favoriteCount": 0,
          "likeCount": 142354,
          "month": "2019-03-01T00:00:00",
          "viewCount": 15821046
         },
         {
          "commentCount": 19887,
          "favoriteCount": 0,
          "likeCount": 314224,
          "month": "2019-04-01T00:00:00",
          "viewCount": 9058245
         },
         {
          "commentCount": 17851,
          "favoriteCount": 0,
          "likeCount": 634672,
          "month": "2019-05-01T00:00:00",
          "viewCount": 39791010
         },
         {
          "commentCount": 23875,
          "favoriteCount": 0,
          "likeCount": 565614,
          "month": "2019-06-01T00:00:00",
          "viewCount": 20781995
         },
         {
          "commentCount": 19957,
          "favoriteCount": 0,
          "likeCount": 528929,
          "month": "2019-07-01T00:00:00",
          "viewCount": 21247781
         },
         {
          "commentCount": 39699,
          "favoriteCount": 0,
          "likeCount": 1398732,
          "month": "2019-08-01T00:00:00",
          "viewCount": 43137256
         },
         {
          "commentCount": 10589,
          "favoriteCount": 0,
          "likeCount": 458690,
          "month": "2019-09-01T00:00:00",
          "viewCount": 52619174
         },
         {
          "commentCount": 11060,
          "favoriteCount": 0,
          "likeCount": 210622,
          "month": "2019-10-01T00:00:00",
          "viewCount": 11704409
         },
         {
          "commentCount": 20989,
          "favoriteCount": 0,
          "likeCount": 480996,
          "month": "2019-11-01T00:00:00",
          "viewCount": 48555412
         },
         {
          "commentCount": 9909,
          "favoriteCount": 0,
          "likeCount": 256999,
          "month": "2019-12-01T00:00:00",
          "viewCount": 15067596
         },
         {
          "commentCount": 25951,
          "favoriteCount": 0,
          "likeCount": 698331,
          "month": "2020-01-01T00:00:00",
          "viewCount": 20546454
         },
         {
          "commentCount": 17505,
          "favoriteCount": 0,
          "likeCount": 382673,
          "month": "2020-02-01T00:00:00",
          "viewCount": 16531507
         },
         {
          "commentCount": 27474,
          "favoriteCount": 0,
          "likeCount": 980708,
          "month": "2020-03-01T00:00:00",
          "viewCount": 52346362
         },
         {
          "commentCount": 22876,
          "favoriteCount": 0,
          "likeCount": 536751,
          "month": "2020-04-01T00:00:00",
          "viewCount": 16302139
         },
         {
          "commentCount": 16341,
          "favoriteCount": 0,
          "likeCount": 367158,
          "month": "2020-05-01T00:00:00",
          "viewCount": 18362604
         },
         {
          "commentCount": 7190,
          "favoriteCount": 0,
          "likeCount": 51109,
          "month": "2020-06-01T00:00:00",
          "viewCount": 2274130
         },
         {
          "commentCount": 14047,
          "favoriteCount": 0,
          "likeCount": 507101,
          "month": "2020-07-01T00:00:00",
          "viewCount": 9422260
         },
         {
          "commentCount": 35148,
          "favoriteCount": 0,
          "likeCount": 578661,
          "month": "2020-08-01T00:00:00",
          "viewCount": 18786311
         },
         {
          "commentCount": 19086,
          "favoriteCount": 0,
          "likeCount": 430653,
          "month": "2020-09-01T00:00:00",
          "viewCount": 21668669
         },
         {
          "commentCount": 9224,
          "favoriteCount": 0,
          "likeCount": 181241,
          "month": "2020-10-01T00:00:00",
          "viewCount": 6752416
         },
         {
          "commentCount": 9102,
          "favoriteCount": 0,
          "likeCount": 139947,
          "month": "2020-11-01T00:00:00",
          "viewCount": 3499404
         },
         {
          "commentCount": 55667,
          "favoriteCount": 0,
          "likeCount": 977054,
          "month": "2020-12-01T00:00:00",
          "viewCount": 23128706
         },
         {
          "commentCount": 15447,
          "favoriteCount": 0,
          "likeCount": 229408,
          "month": "2021-01-01T00:00:00",
          "viewCount": 11562830
         },
         {
          "commentCount": 11361,
          "favoriteCount": 0,
          "likeCount": 179642,
          "month": "2021-02-01T00:00:00",
          "viewCount": 6976256
         },
         {
          "commentCount": 8784,
          "favoriteCount": 0,
          "likeCount": 98824,
          "month": "2021-03-01T00:00:00",
          "viewCount": 3086472
         },
         {
          "commentCount": 30156,
          "favoriteCount": 0,
          "likeCount": 417630,
          "month": "2021-04-01T00:00:00",
          "viewCount": 10430508
         },
         {
          "commentCount": 9436,
          "favoriteCount": 0,
          "likeCount": 207008,
          "month": "2021-05-01T00:00:00",
          "viewCount": 7307255
         },
         {
          "commentCount": 15592,
          "favoriteCount": 0,
          "likeCount": 255961,
          "month": "2021-06-01T00:00:00",
          "viewCount": 7542215
         },
         {
          "commentCount": 6431,
          "favoriteCount": 0,
          "likeCount": 114535,
          "month": "2021-07-01T00:00:00",
          "viewCount": 3258535
         },
         {
          "commentCount": 7016,
          "favoriteCount": 0,
          "likeCount": 172861,
          "month": "2021-08-01T00:00:00",
          "viewCount": 4094505
         },
         {
          "commentCount": 14201,
          "favoriteCount": 0,
          "likeCount": 431622,
          "month": "2021-09-01T00:00:00",
          "viewCount": 8603503
         },
         {
          "commentCount": 18352,
          "favoriteCount": 0,
          "likeCount": 185208,
          "month": "2021-10-01T00:00:00",
          "viewCount": 4760216
         },
         {
          "commentCount": 8690,
          "favoriteCount": 0,
          "likeCount": 134859,
          "month": "2021-11-01T00:00:00",
          "viewCount": 3502377
         },
         {
          "commentCount": 14240,
          "favoriteCount": 0,
          "likeCount": 367830,
          "month": "2021-12-01T00:00:00",
          "viewCount": 10980038
         },
         {
          "commentCount": 4490,
          "favoriteCount": 0,
          "likeCount": 309935,
          "month": "2022-01-01T00:00:00",
          "viewCount": 9150017
         },
         {
          "commentCount": 16946,
          "favoriteCount": 0,
          "likeCount": 399641,
          "month": "2022-02-01T00:00:00",
          "viewCount": 17895956
         },
         {
          "commentCount": 7815,
          "favoriteCount": 0,
          "likeCount": 176522,
          "month": "2022-03-01T00:00:00",
          "viewCount": 8005852
         },
         {
          "commentCount": 9828,
          "favoriteCount": 0,
          "likeCount": 180865,
          "month": "2022-04-01T00:00:00",
          "viewCount": 8500100
         },
         {
          "commentCount": 29716,
          "favoriteCount": 0,
          "likeCount": 729312,
          "month": "2022-05-01T00:00:00",
          "viewCount": 22970472
         },
         {
          "commentCount": 14643,
          "favoriteCount": 0,
          "likeCount": 315494,
          "month": "2022-06-01T00:00:00",
          "viewCount": 11775763
         },
         {
          "commentCount": 10297,
          "favoriteCount": 0,
          "likeCount": 314830,
          "month": "2022-07-01T00:00:00",
          "viewCount": 10032697
         },
         {
          "commentCount": 21070,
          "favoriteCount": 0,
          "likeCount": 759304,
          "month": "2022-08-01T00:00:00",
          "viewCount": 21219787
         },
         {
          "commentCount": 12660,
          "favoriteCount": 0,
          "likeCount": 205204,
          "month": "2022-09-01T00:00:00",
          "viewCount": 10117274
         },
         {
          "commentCount": 10948,
          "favoriteCount": 0,
          "likeCount": 789400,
          "month": "2022-10-01T00:00:00",
          "viewCount": 22318119
         },
         {
          "commentCount": 19116,
          "favoriteCount": 0,
          "likeCount": 1498931,
          "month": "2022-11-01T00:00:00",
          "viewCount": 39049892
         },
         {
          "commentCount": 8966,
          "favoriteCount": 0,
          "likeCount": 200926,
          "month": "2022-12-01T00:00:00",
          "viewCount": 5776688
         },
         {
          "commentCount": 16344,
          "favoriteCount": 0,
          "likeCount": 1844902,
          "month": "2023-01-01T00:00:00",
          "viewCount": 63343813
         },
         {
          "commentCount": 13921,
          "favoriteCount": 0,
          "likeCount": 2420057,
          "month": "2023-02-01T00:00:00",
          "viewCount": 63405916
         },
         {
          "commentCount": 103116,
          "favoriteCount": 0,
          "likeCount": 4481139,
          "month": "2023-03-01T00:00:00",
          "viewCount": 118689665
         },
         {
          "commentCount": 61548,
          "favoriteCount": 0,
          "likeCount": 4546732,
          "month": "2023-04-01T00:00:00",
          "viewCount": 128491828
         },
         {
          "commentCount": 62122,
          "favoriteCount": 0,
          "likeCount": 4465075,
          "month": "2023-05-01T00:00:00",
          "viewCount": 94564627
         },
         {
          "commentCount": 29939,
          "favoriteCount": 0,
          "likeCount": 1708750,
          "month": "2023-06-01T00:00:00",
          "viewCount": 46617534
         },
         {
          "commentCount": 34878,
          "favoriteCount": 0,
          "likeCount": 2779357,
          "month": "2023-07-01T00:00:00",
          "viewCount": 62585348
         },
         {
          "commentCount": 45032,
          "favoriteCount": 0,
          "likeCount": 1806884,
          "month": "2023-08-01T00:00:00",
          "viewCount": 46867957
         },
         {
          "commentCount": 67688,
          "favoriteCount": 0,
          "likeCount": 3307421,
          "month": "2023-09-01T00:00:00",
          "viewCount": 86273428
         },
         {
          "commentCount": 44600,
          "favoriteCount": 0,
          "likeCount": 2768560,
          "month": "2023-10-01T00:00:00",
          "viewCount": 73249793
         },
         {
          "commentCount": 34830,
          "favoriteCount": 0,
          "likeCount": 1759134,
          "month": "2023-11-01T00:00:00",
          "viewCount": 50365113
         },
         {
          "commentCount": 27880,
          "favoriteCount": 0,
          "likeCount": 1335738,
          "month": "2023-12-01T00:00:00",
          "viewCount": 36552514
         },
         {
          "commentCount": 22108,
          "favoriteCount": 0,
          "likeCount": 2461726,
          "month": "2024-01-01T00:00:00",
          "viewCount": 58688688
         },
         {
          "commentCount": 56010,
          "favoriteCount": 0,
          "likeCount": 3722426,
          "month": "2024-02-01T00:00:00",
          "viewCount": 85435032
         },
         {
          "commentCount": 31533,
          "favoriteCount": 0,
          "likeCount": 3031818,
          "month": "2024-03-01T00:00:00",
          "viewCount": 72571954
         },
         {
          "commentCount": 37579,
          "favoriteCount": 0,
          "likeCount": 3022190,
          "month": "2024-04-01T00:00:00",
          "viewCount": 81300471
         },
         {
          "commentCount": 63958,
          "favoriteCount": 0,
          "likeCount": 6973932,
          "month": "2024-05-01T00:00:00",
          "viewCount": 168644932
         },
         {
          "commentCount": 42169,
          "favoriteCount": 0,
          "likeCount": 4113237,
          "month": "2024-06-01T00:00:00",
          "viewCount": 99808834
         },
         {
          "commentCount": 36570,
          "favoriteCount": 0,
          "likeCount": 3032979,
          "month": "2024-07-01T00:00:00",
          "viewCount": 68499861
         },
         {
          "commentCount": 31342,
          "favoriteCount": 0,
          "likeCount": 2757785,
          "month": "2024-08-01T00:00:00",
          "viewCount": 82760390
         },
         {
          "commentCount": 32882,
          "favoriteCount": 0,
          "likeCount": 3963476,
          "month": "2024-09-01T00:00:00",
          "viewCount": 116934221
         },
         {
          "commentCount": 23158,
          "favoriteCount": 0,
          "likeCount": 3488309,
          "month": "2024-10-01T00:00:00",
          "viewCount": 108948505
         },
         {
          "commentCount": 78044,
          "favoriteCount": 0,
          "likeCount": 4772002,
          "month": "2024-11-01T00:00:00",
          "viewCount": 135479873
         },
         {
          "commentCount": 48156,
          "favoriteCount": 0,
          "likeCount": 4936534,
          "month": "2024-12-01T00:00:00",
          "viewCount": 111823144
         },
         {
          "commentCount": 35213,
          "favoriteCount": 0,
          "likeCount": 4309761,
          "month": "2025-01-01T00:00:00",
          "viewCount": 107546194
         },
         {
          "commentCount": 30939,
          "favoriteCount": 0,
          "likeCount": 3172351,
          "month": "2025-02-01T00:00:00",
          "viewCount": 98131565
         },
         {
          "commentCount": 50417,
          "favoriteCount": 0,
          "likeCount": 1699037,
          "month": "2025-03-01T00:00:00",
          "viewCount": 119838350
         },
         {
          "commentCount": 29593,
          "favoriteCount": 0,
          "likeCount": 4107190,
          "month": "2025-04-01T00:00:00",
          "viewCount": 182055498
         },
         {
          "commentCount": 46085,
          "favoriteCount": 0,
          "likeCount": 3927790,
          "month": "2025-05-01T00:00:00",
          "viewCount": 171480378
         },
         {
          "commentCount": 45564,
          "favoriteCount": 0,
          "likeCount": 2346074,
          "month": "2025-06-01T00:00:00",
          "viewCount": 107472429
         },
         {
          "commentCount": 26922,
          "favoriteCount": 0,
          "likeCount": 3285774,
          "month": "2025-07-01T00:00:00",
          "viewCount": 159199830
         },
         {
          "commentCount": 18508,
          "favoriteCount": 0,
          "likeCount": 2352643,
          "month": "2025-08-01T00:00:00",
          "viewCount": 108662434
         },
         {
          "commentCount": 10305,
          "favoriteCount": 0,
          "likeCount": 865947,
          "month": "2025-09-01T00:00:00",
          "viewCount": 32657495
         }
        ],
        "data-a443fdd896fc54816ddc830abb8f5195": [
         {
          "cs_players": 664428,
          "cs_players_s": 683327,
          "month": "2016-11-01T00:00:00"
         },
         {
          "cs_players": 702226,
          "cs_players_s": 741557,
          "month": "2016-12-01T00:00:00"
         },
         {
          "cs_players": 858017,
          "cs_players_s": 781862,
          "month": "2017-01-01T00:00:00"
         },
         {
          "cs_players": 785343,
          "cs_players_s": 808063.6666666666,
          "month": "2017-02-01T00:00:00"
         },
         {
          "cs_players": 780831,
          "cs_players_s": 764903.6666666666,
          "month": "2017-03-01T00:00:00"
         },
         {
          "cs_players": 728537,
          "cs_players_s": 746215.6666666666,
          "month": "2017-04-01T00:00:00"
         },
         {
          "cs_players": 729279,
          "cs_players_s": 700804,
          "month": "2017-05-01T00:00:00"
         },
         {
          "cs_players": 644596,
          "cs_players_s": 681412,
          "month": "2017-06-01T00:00:00"
         },
         {
          "cs_players": 670361,
          "cs_players_s": 647000.3333333334,
          "month": "2017-07-01T00:00:00"
         },
         {
          "cs_players": 626044,
          "cs_players_s": 668624.3333333334,
          "month": "2017-08-01T00:00:00"
         },
         {
          "cs_players": 709468,
          "cs_players_s": 670115.6666666666,
          "month": "2017-09-01T00:00:00"
         },
         {
          "cs_players": 674835,
          "cs_players_s": 674199.3333333334,
          "month": "2017-10-01T00:00:00"
         },
         {
          "cs_players": 638295,
          "cs_players_s": 650552,
          "month": "2017-11-01T00:00:00"
         },
         {
          "cs_players": 638526,
          "cs_players_s": 678532.3333333334,
          "month": "2017-12-01T00:00:00"
         },
         {
          "cs_players": 758776,
          "cs_players_s": 708716.6666666666,
          "month": "2018-01-01T00:00:00"
         },
         {
          "cs_players": 728848,
          "cs_players_s": 732845.3333333334,
          "month": "2018-02-01T00:00:00"
         },
         {
          "cs_players": 710912,
          "cs_players_s": 665259.6666666666,
          "month": "2018-03-01T00:00:00"
         },
         {
          "cs_players": 556019,
          "cs_players_s": 582774.3333333334,
          "month": "2018-04-01T00:00:00"
         },
         {
          "cs_players": 481392,
          "cs_players_s": 495606.6666666667,
          "month": "2018-05-01T00:00:00"
         },
         {
          "cs_players": 449409,
          "cs_players_s": 462159,
          "month": "2018-06-01T00:00:00"
         },
         {
          "cs_players": 455676,
          "cs_players_s": 462277,
          "month": "2018-07-01T00:00:00"
         },
         {
          "cs_players": 481746,
          "cs_players_s": 516767.3333333333,
          "month": "2018-08-01T00:00:00"
         },
         {
          "cs_players": 612880,
          "cs_players_s": 562913,
          "month": "2018-09-01T00:00:00"
         },
         {
          "cs_players": 594113,
          "cs_players_s": 594427,
          "month": "2018-10-01T00:00:00"
         },
         {
          "cs_players": 576288,
          "cs_players_s": 650578.6666666666,
          "month": "2018-11-01T00:00:00"
         },
         {
          "cs_players": 781335,
          "cs_players_s": 692626,
          "month": "2018-12-01T00:00:00"
         },
         {
          "cs_players": 720255,
          "cs_players_s": 729431,
          "month": "2019-01-01T00:00:00"
         },
         {
          "cs_players": 686703,
          "cs_players_s": 706231,
          "month": "2019-02-01T00:00:00"
         },
         {
          "cs_players": 711735,
          "cs_players_s": 682114.6666666666,
          "month": "2019-03-01T00:00:00"
         },
         {
          "cs_players": 647906,
          "cs_players_s": 658860.6666666666,
          "month": "2019-04-01T00:00:00"
         },
         {
          "cs_players": 616941,
          "cs_players_s": 626453.3333333334,
          "month": "2019-05-01T00:00:00"
         },
         {
          "cs_players": 614513,
          "cs_players_s": 611420,
          "month": "2019-06-01T00:00:00"
         },
         {
          "cs_players": 602806,
          "cs_players_s": 632737,
          "month": "2019-07-01T00:00:00"
         },
         {
          "cs_players": 680892,
          "cs_players_s": 676374.3333333334,
          "month": "2019-08-01T00:00:00"
         },
         {
          "cs_players": 745425,
          "cs_players_s": 734356,
          "month": "2019-09-01T00:00:00"
         },
         {
          "cs_players": 776751,
          "cs_players_s": 770546.3333333334,
          "month": "2019-10-01T00:00:00"
         },
         {
          "cs_players": 789463,
          "cs_players_s": 788326,
          "month": "2019-11-01T00:00:00"
         },
         {
          "cs_players": 798764,
          "cs_players_s": 812851.6666666666,
          "month": "2019-12-01T00:00:00"
         },
         {
          "cs_players": 850328,
          "cs_players_s": 869442.3333333334,
          "month": "2020-01-01T00:00:00"
         },
         {
          "cs_players": 959235,
          "cs_players_s": 1026479,
          "month": "2020-02-01T00:00:00"
         },
         {
          "cs_players": 1269874,
          "cs_players_s": 1194389.6666666667,
          "month": "2020-03-01T00:00:00"
         },
         {
          "cs_players": 1354060,
          "cs_players_s": 1281339.6666666667,
          "month": "2020-04-01T00:00:00"
         },
         {
          "cs_players": 1220085,
          "cs_players_s": 1187041.6666666667,
          "month": "2020-05-01T00:00:00"
         },
         {
          "cs_players": 986980,
          "cs_players_s": 1031645.3333333334,
          "month": "2020-06-01T00:00:00"
         },
         {
          "cs_players": 887871,
          "cs_players_s": 943573.3333333334,
          "month": "2020-07-01T00:00:00"
         },
         {
          "cs_players": 955869,
          "cs_players_s": 949165,
          "month": "2020-08-01T00:00:00"
         },
         {
          "cs_players": 1003755,
          "cs_players_s": 978914.6666666666,
          "month": "2020-09-01T00:00:00"
         },
         {
          "cs_players": 977120,
          "cs_players_s": 1016665.3333333334,
          "month": "2020-10-01T00:00:00"
         },
         {
          "cs_players": 1069121,
          "cs_players_s": 1082587.6666666667,
          "month": "2020-11-01T00:00:00"
         },
         {
          "cs_players": 1201522,
          "cs_players_s": 1143065.3333333333,
          "month": "2020-12-01T00:00:00"
         },
         {
          "cs_players": 1158553,
          "cs_players_s": 1172078.3333333333,
          "month": "2021-01-01T00:00:00"
         },
         {
          "cs_players": 1156160,
          "cs_players_s": 1182966.6666666667,
          "month": "2021-02-01T00:00:00"
         },
         {
          "cs_players": 1234187,
          "cs_players_s": 1190846.6666666667,
          "month": "2021-03-01T00:00:00"
         },
         {
          "cs_players": 1182193,
          "cs_players_s": 1176829,
          "month": "2021-04-01T00:00:00"
         },
         {
          "cs_players": 1114107,
          "cs_players_s": 1083128.3333333333,
          "month": "2021-05-01T00:00:00"
         },
         {
          "cs_players": 953085,
          "cs_players_s": 951773.3333333334,
          "month": "2021-06-01T00:00:00"
         },
         {
          "cs_players": 788128,
          "cs_players_s": 855131,
          "month": "2021-07-01T00:00:00"
         },
         {
          "cs_players": 824180,
          "cs_players_s": 861032,
          "month": "2021-08-01T00:00:00"
         },
         {
          "cs_players": 970788,
          "cs_players_s": 894355.6666666666,
          "month": "2021-09-01T00:00:00"
         },
         {
          "cs_players": 888099,
          "cs_players_s": 942145,
          "month": "2021-10-01T00:00:00"
         },
         {
          "cs_players": 967548,
          "cs_players_s": 943423.6666666666,
          "month": "2021-11-01T00:00:00"
         },
         {
          "cs_players": 974624,
          "cs_players_s": 987324,
          "month": "2021-12-01T00:00:00"
         },
         {
          "cs_players": 1019800,
          "cs_players_s": 1006827,
          "month": "2022-01-01T00:00:00"
         },
         {
          "cs_players": 1026057,
          "cs_players_s": 1021868,
          "month": "2022-02-01T00:00:00"
         },
         {
          "cs_players": 1019747,
          "cs_players_s": 1029446.6666666666,
          "month": "2022-03-01T00:00:00"
         },
         {
          "cs_players": 1042536,
          "cs_players_s": 1005730.3333333334,
          "month": "2022-04-01T00:00:00"
         },
         {
          "cs_players": 954908,
          "cs_players_s": 975336.6666666666,
          "month": "2022-05-01T00:00:00"
         },
         {
          "cs_players": 928566,
          "cs_players_s": 944623,
          "month": "2022-06-01T00:00:00"
         },
         {
          "cs_players": 950395,
          "cs_players_s": 979908.6666666666,
          "month": "2022-07-01T00:00:00"
         },
         {
          "cs_players": 1060765,
          "cs_players_s": 1045117,
          "month": "2022-08-01T00:00:00"
         },
         {
          "cs_players": 1124191,
          "cs_players_s": 1098527.6666666667,
          "month": "2022-09-01T00:00:00"
         },
         {
          "cs_players": 1110627,
          "cs_players_s": 1130348,
          "month": "2022-10-01T00:00:00"
         },
         {
          "cs_players": 1156226,
          "cs_players_s": 1119065.3333333333,
          "month": "2022-11-01T00:00:00"
         },
         {
          "cs_players": 1090343,
          "cs_players_s": 1156925.3333333333,
          "month": "2022-12-01T00:00:00"
         },
         {
          "cs_players": 1224207,
          "cs_players_s": 1230959,
          "month": "2023-01-01T00:00:00"
         },
         {
          "cs_players": 1378327,
          "cs_players_s": 1381588.3333333333,
          "month": "2023-02-01T00:00:00"
         },
         {
          "cs_players": 1542231,
          "cs_players_s": 1485553.3333333333,
          "month": "2023-03-01T00:00:00"
         },
         {
          "cs_players": 1536102,
          "cs_players_s": 1638743,
          "month": "2023-04-01T00:00:00"
         },
         {
          "cs_players": 1837896,
          "cs_players_s": 1688826.6666666667,
          "month": "2023-05-01T00:00:00"
         },
         {
          "cs_players": 1692482,
          "cs_players_s": 1592072.6666666667,
          "month": "2023-06-01T00:00:00"
         },
         {
          "cs_players": 1245840,
          "cs_players_s": 1498453.6666666667,
          "month": "2023-07-01T00:00:00"
         },
         {
          "cs_players": 1557039,
          "cs_players_s": 1461012,
          "month": "2023-08-01T00:00:00"
         },
         {
          "cs_players": 1580157,
          "cs_players_s": 1516673.6666666667,
          "month": "2023-09-01T00:00:00"
         },
         {
          "cs_players": 1412825,
          "cs_players_s": 1392502.3333333333,
          "month": "2023-10-01T00:00:00"
         },
         {
          "cs_players": 1184525,
          "cs_players_s": 1291259.6666666667,
          "month": "2023-11-01T00:00:00"
         },
         {
          "cs_players": 1276429,
          "cs_players_s": 1265235.3333333333,
          "month": "2023-12-01T00:00:00"
         },
         {
          "cs_players": 1334752,
          "cs_players_s": 1347706.3333333333,
          "month": "2024-01-01T00:00:00"
         },
         {
          "cs_players": 1431938,
          "cs_players_s": 1440584.6666666667,
          "month": "2024-02-01T00:00:00"
         },
         {
          "cs_players": 1555064,
          "cs_players_s": 1544993,
          "month": "2024-03-01T00:00:00"
         },
         {
          "cs_players": 1647977,
          "cs_players_s": 1621533,
          "month": "2024-04-01T00:00:00"
         },
         {
          "cs_players": 1661558,
          "cs_players_s": 1622577.6666666667,
          "month": "2024-05-01T00:00:00"
         },
         {
          "cs_players": 1558198,
          "cs_players_s": 1535067.3333333333,
          "month": "2024-06-01T00:00:00"
         },
         {
          "cs_players": 1385446,
          "cs_players_s": 1468258.6666666667,
          "month": "2024-07-01T00:00:00"
         },
         {
          "cs_players": 1461132,
          "cs_players_s": 1453870.3333333333,
          "month": "2024-08-01T00:00:00"
         },
         {
          "cs_players": 1515033,
          "cs_players_s": 1501839,
          "month": "2024-09-01T00:00:00"
         },
         {
          "cs_players": 1529352,
          "cs_players_s": 1546037,
          "month": "2024-10-01T00:00:00"
         },
         {
          "cs_players": 1593726,
          "cs_players_s": 1633469,
          "month": "2024-11-01T00:00:00"
         },
         {
          "cs_players": 1777329,
          "cs_players_s": 1671617.3333333333,
          "month": "2024-12-01T00:00:00"
         },
         {
          "cs_players": 1643797,
          "cs_players_s": 1749583.6666666667,
          "month": "2025-01-01T00:00:00"
         },
         {
          "cs_players": 1827625,
          "cs_players_s": 1778616.6666666667,
          "month": "2025-02-01T00:00:00"
         },
         {
          "cs_players": 1864428,
          "cs_players_s": 1863526,
          "month": "2025-03-01T00:00:00"
         },
         {
          "cs_players": 1898525,
          "cs_players_s": 1838433.3333333333,
          "month": "2025-04-01T00:00:00"
         },
         {
          "cs_players": 1752347,
          "cs_players_s": 1805814.6666666667,
          "month": "2025-05-01T00:00:00"
         },
         {
          "cs_players": 1766572,
          "cs_players_s": 1674982,
          "month": "2025-06-01T00:00:00"
         },
         {
          "cs_players": 1506027,
          "cs_players_s": 1618051,
          "month": "2025-07-01T00:00:00"
         },
         {
          "cs_players": 1581554,
          "cs_players_s": 1543790.5,
          "month": "2025-08-01T00:00:00"
         }
        ]
       },
       "height": 300,
       "layer": [
        {
         "data": {
          "name": "data-a443fdd896fc54816ddc830abb8f5195"
         },
         "encoding": {
          "x": {
           "axis": {
            "grid": false,
            "labelFontSize": 12
           },
           "field": "month",
           "type": "temporal"
          },
          "y": {
           "axis": {
            "format": ".2s",
            "grid": false,
            "labelFontSize": 12,
            "orient": "left",
            "tickCount": 6,
            "title": "Peak CCU (millions)",
            "titleColor": "#E58716",
            "titleFontSize": 18
           },
           "field": "cs_players_s",
           "type": "quantitative"
          }
         },
         "mark": {
          "color": "#E58716",
          "strokeWidth": 3,
          "type": "line"
         }
        },
        {
         "data": {
          "name": "data-80fbc6878557cb1ca4d73ac71f39fd84"
         },
         "encoding": {
          "x": {
           "field": "month",
           "title": null,
           "type": "temporal"
          },
          "y": {
           "axis": {
            "format": ".2s",
            "labelFontSize": 12,
            "orient": "right",
            "tickCount": 7,
            "title": "Youtube View Count (millions)",
            "titleColor": "#cc0000",
            "titleFontSize": 18
           },
           "field": "zero",
           "scale": {
            "type": "sqrt"
           },
           "type": "quantitative"
          },
          "y2": {
           "field": "viewCount"
          }
         },
         "mark": {
          "color": "#888",
          "strokeWidth": 1,
          "type": "rule"
         },
         "transform": [
          {
           "as": "zero",
           "calculate": "0"
          }
         ]
        },
        {
         "data": {
          "name": "data-80fbc6878557cb1ca4d73ac71f39fd84"
         },
         "encoding": {
          "tooltip": [
           {
            "field": "month",
            "title": "Date",
            "type": "temporal"
           },
           {
            "field": "viewCount",
            "format": ",",
            "title": "Views",
            "type": "quantitative"
           },
           {
            "field": "likeCount",
            "format": ",",
            "title": "Likes",
            "type": "quantitative"
           },
           {
            "field": "commentCount",
            "format": ",",
            "title": "Comments",
            "type": "quantitative"
           }
          ],
          "x": {
           "field": "month",
           "title": null,
           "type": "temporal"
          },
          "y": {
           "axis": null,
           "field": "viewCount",
           "scale": {
            "type": "sqrt"
           },
           "type": "quantitative"
          }
         },
         "mark": {
          "color": "#cc0000",
          "filled": true,
          "size": 60,
          "type": "point"
         }
        }
       ],
       "resolve": {
        "scale": {
         "y": "independent"
        }
       },
       "width": 900
      },
      "text/plain": [
       "<VegaLite 5 object>\n",
       "\n",
       "If you see this message, it means the renderer has not been properly enabled\n",
       "for the frontend that you are using. For more information, see\n",
       "https://altair-viz.github.io/user_guide/display_frontends.html#troubleshooting\n"
      ]
     },
     "execution_count": 9,
     "metadata": {},
     "output_type": "execute_result"
    }
   ],
   "source": [
    "# ----- YouTube -----\n",
    "yt = youtube_cs_data.copy()\n",
    "START = pd.Timestamp('2016-11-01')\n",
    "yt = yt[yt['month'] >= START]\n",
    "\n",
    "yt_base = alt.Chart(yt).encode(x=alt.X('month:T', title=None))\n",
    "\n",
    "# stems lives here (YouTube)\n",
    "yt_sticks = yt_base.mark_rule(strokeWidth=1, color='#888').encode(\n",
    "    y=alt.Y('zero:Q',\n",
    "            axis=alt.Axis(orient='right', title=\"Youtube View Count (millions)\", titleColor='#cc0000', titleFontSize=18,\n",
    "                          format='.2s', tickCount=7, labelFontSize=12),\n",
    "            scale=alt.Scale(type='sqrt')),\n",
    "    y2=alt.Y2('viewCount:Q')\n",
    ").transform_calculate(zero='0')\n",
    "\n",
    "# No axis on points (uses same scale but doesn’t draw an axis)\n",
    "yt_points = yt_base.mark_point(filled=True, size=60, color='#cc0000').encode(\n",
    "    y=alt.Y('viewCount:Q', axis=None, scale=alt.Scale(type='sqrt')),\n",
    "    tooltip=[\n",
    "        alt.Tooltip('month:T', title='Date'),\n",
    "        alt.Tooltip('viewCount:Q', title='Views', format=','),\n",
    "        alt.Tooltip('likeCount:Q', title='Likes', format=','),\n",
    "        alt.Tooltip('commentCount:Q', title='Comments', format=',')\n",
    "    ]\n",
    ")\n",
    "\n",
    "# ----- Counter-Strike -----\n",
    "cs = cs_merged_data[['month', 'peak']].rename(columns={'peak': 'cs_players'}).copy()\n",
    "cs = cs[cs['month'] >= START]\n",
    "\n",
    "SMOOTH = 3\n",
    "if SMOOTH > 1:\n",
    "    cs['cs_players_s'] = cs['cs_players'].rolling(SMOOTH, min_periods=1, center=True).mean()\n",
    "    y_cs = 'cs_players_s'\n",
    "else:\n",
    "    y_cs = 'cs_players'\n",
    "\n",
    "# RIGHT axis lives here (Players)\n",
    "cs_line = alt.Chart(cs).mark_line(strokeWidth=3, color='#E58716').encode(\n",
    "    x=alt.X('month:T', axis=alt.Axis(grid=False, labelFontSize=12)),\n",
    "    y=alt.Y(f'{y_cs}:Q',\n",
    "            axis=alt.Axis(orient='left', title=\"Peak CCU (millions)\",\n",
    "                          titleColor='#E58716', titleFontSize=18, format='.2s', tickCount=6, labelFontSize=12, grid=False))\n",
    ")\n",
    "\n",
    "chart_youtube = (\n",
    "    alt.layer(cs_line, yt_sticks, yt_points)\n",
    "      .resolve_scale(y='independent')\n",
    "      .properties(width=900, height=300)\n",
    "      .configure(\n",
    "          background='white',\n",
    "          padding=5\n",
    "      )\n",
    "      .configure_view(\n",
    "          strokeWidth=0,\n",
    "          fill='white'\n",
    "      )\n",
    "      .configure_axis(\n",
    "          grid=False,\n",
    "          labelColor='#3b415c',\n",
    "          domainColor='#3b415c',\n",
    "          tickColor='#3b415c'\n",
    "      )\n",
    "      .configure_title(color='black')\n",
    ")\n",
    "\n",
    "chart_youtube\n",
    "\n"
   ]
  },
  {
   "cell_type": "code",
   "execution_count": null,
   "id": "e31086b7",
   "metadata": {},
   "outputs": [],
   "source": [
    "AX_COLOR = '#3b415c'\n",
    "\n",
    "cs_df = (\n",
    "    cs_merged_data[['month','peak']]\n",
    "    .rename(columns={'peak':'cs'})\n",
    "    .assign(month=lambda d: pd.to_datetime(d['month']))\n",
    ")\n",
    "\n",
    "yt = (\n",
    "    youtube_cs_data[['month','viewCount']].copy()\n",
    "    .rename(columns={'viewCount':'youtube'})\n",
    "    .assign(month=lambda d: pd.to_datetime(d['month']))\n",
    "    .merge(cs_df, on='month', how='inner')\n",
    ")\n",
    "\n",
    "tw = (\n",
    "    twitch_cs_data[['month','peak viewers']].copy()\n",
    "    .rename(columns={'peak viewers':'twitch'})\n",
    "    .assign(month=lambda d: pd.to_datetime(d['month']))\n",
    "    .merge(cs_df, on='month', how='inner')\n",
    ")\n",
    "\n",
    "# ---------- 2) Plotter ----------\n",
    "def make_scatter_players_legend(df, xcol, xtitle, labelx_color):\n",
    "    d = df.copy()\n",
    "    d[xcol] = pd.to_numeric(d[xcol], errors='coerce')\n",
    "    d['cs']  = pd.to_numeric(d['cs'],  errors='coerce')\n",
    "    \n",
    "    # OLS fit: y = m*x + b\n",
    "    x = d[xcol].astype(float).to_numpy()\n",
    "    y = d['cs'].astype(float).to_numpy()\n",
    "    m, b = np.polyfit(x, y, 1)\n",
    "\n",
    "    # predictions, residuals, % diff (clipped to ±75%)\n",
    "    d['pred_cs']  = m * d[xcol] + b\n",
    "    eps = 1e-9\n",
    "    d['pct_diff'] = ((d['cs'] - d['pred_cs']) /\n",
    "                     np.maximum(d['pred_cs'].abs(), eps)).clip(-0.75, 0.75)\n",
    "\n",
    "    # stats for title\n",
    "    pear  = float(d[xcol].corr(d['cs'], method='pearson'))\n",
    "    spear = float(d[xcol].corr(d['cs'], method='spearman'))\n",
    "    r2    = pear**2\n",
    "    n     = int(len(d))\n",
    "    panel_title = f'{xtitle} vs CS — r={pear:.2f}, ρ={spear:.2f}, R²={r2:.2f}, n={n}'\n",
    "\n",
    "    axis_x = alt.Axis(\n",
    "        grid=False, ticks=True, domain=True,\n",
    "        labelColor=AX_COLOR, titleColor=labelx_color,\n",
    "        tickColor=AX_COLOR, domainColor=AX_COLOR,\n",
    "        tickCount=7, labelFontSize=18, titleFontSize=20, titlePadding=10\n",
    "    )\n",
    "    axis_y = alt.Axis(\n",
    "        grid=False, ticks=True, domain=True,\n",
    "        labelColor=AX_COLOR, titleColor=\"#E58716\",\n",
    "        tickColor=AX_COLOR, domainColor=AX_COLOR,\n",
    "        tickCount=7, labelFontSize=18, titleFontSize=20, titlePadding=10\n",
    "    )\n",
    "\n",
    "    # diverging color scale for pct_diff\n",
    "    domain_stops = [-0.9, -0.7, -0.35, 0.0, 0.35, 0.7, 0.9]\n",
    "    range_colors = [\"#7f0000\",\"#b30000\",\"#fcae91\",\"#f0f0f0\",\"#9ecae1\",\"#3182bd\",\"#08519c\"]\n",
    "\n",
    "    tooltips = [\n",
    "        alt.Tooltip('month:T', title='Month', format='%Y %b'),\n",
    "        alt.Tooltip(f'{xcol}:Q', title=xtitle, format=',.0f'),\n",
    "        alt.Tooltip('cs:Q',      title='CS players', format=',.0f'),\n",
    "        alt.Tooltip('pred_cs:Q', title='Predicted players', format=',.0f'),\n",
    "        alt.Tooltip('pct_diff:Q',title='% above/below', format='.1%'),\n",
    "    ]\n",
    "\n",
    "    pts = (\n",
    "        alt.Chart(d)\n",
    "        .mark_circle(size=90, opacity=0.95, stroke='white', strokeWidth=0.6)\n",
    "        .encode(\n",
    "            x=alt.X(f'{xcol}:Q', title=xtitle, axis=axis_x),\n",
    "            y=alt.Y('cs:Q', title='CS peak players', axis=axis_y),\n",
    "            color=alt.Color(\n",
    "                'pct_diff:Q',\n",
    "                title='Above/below expected (%)',\n",
    "                scale=alt.Scale(domain=domain_stops, range=range_colors),\n",
    "                legend=alt.Legend(\n",
    "                    orient='right', direction='vertical', gradientLength=220,\n",
    "                    labelColor=AX_COLOR, titleColor=AX_COLOR,\n",
    "                    titleFontSize=14, labelFontSize=12, format='.0%'\n",
    "                )\n",
    "            ),\n",
    "            tooltip=tooltips\n",
    "        )\n",
    "        .properties(width=640, height=460, title=panel_title)\n",
    "    )\n",
    "\n",
    "    # regression line from min/max x\n",
    "    x_min = float(d[xcol].min()); x_max = float(d[xcol].max())\n",
    "    line_df = pd.DataFrame({'x': [x_min, x_max], 'y': [m*x_min + b, m*x_max + b]})\n",
    "    line = alt.Chart(line_df).mark_line(color=\"#000000\", size=2).encode(x='x:Q', y='y:Q')\n",
    "\n",
    "    return (pts + line)\\\n",
    "        .configure_view(stroke=None)\\\n",
    "        .configure_axis(grid=False)\\\n",
    "        .configure_title(color=AX_COLOR, fontSize=18, anchor='start')\\\n",
    "        .configure(background='white')\n",
    "\n",
    "# ---------- 3) Build charts ----------\n",
    "youtube_chart = make_scatter_players_legend(yt, 'youtube', 'YouTube view count', '#cc0000')\n",
    "twitch_chart  = make_scatter_players_legend(tw, 'twitch',  'Twitch peak viewers', '#9146FF')\n"
   ]
  },
  {
   "cell_type": "markdown",
   "id": "c7da5b53",
   "metadata": {},
   "source": [
    "#### Youtube-CS Scatterplot"
   ]
  },
  {
   "cell_type": "code",
   "execution_count": 37,
   "id": "682819c9",
   "metadata": {},
   "outputs": [
    {
     "data": {
      "application/vnd.vegalite.v5+json": {
       "$schema": "https://vega.github.io/schema/vega-lite/v5.20.1.json",
       "config": {
        "background": "white",
        "view": {
         "continuousHeight": 300,
         "continuousWidth": 300
        }
       },
       "datasets": {
        "data-5b1ae2ed325bafb365b1c11c861c7129": [
         {
          "cs": 205663,
          "month": "2005-08-01T00:00:00",
          "pct_diff": -0.5087494930437085,
          "pred_cs": 418651.9852656328,
          "youtube": 89144
         },
         {
          "cs": 185147,
          "month": "2005-09-01T00:00:00",
          "pct_diff": -0.5570971279189733,
          "pred_cs": 418030.70531032444,
          "youtube": 19415
         },
         {
          "cs": 128508,
          "month": "2005-11-01T00:00:00",
          "pct_diff": -0.703889063342218,
          "pred_cs": 433985.99677025044,
          "youtube": 1810148
         },
         {
          "cs": 206618,
          "month": "2005-12-01T00:00:00",
          "pct_diff": -0.5980706865072731,
          "pred_cs": 514065.5161588229,
          "youtube": 10797827
         },
         {
          "cs": 205654,
          "month": "2006-08-01T00:00:00",
          "pct_diff": -0.5555803659257399,
          "pred_cs": 462747.3320983752,
          "youtube": 5038160
         },
         {
          "cs": 137798,
          "month": "2006-11-01T00:00:00",
          "pct_diff": -0.7318370794758879,
          "pred_cs": 513859.2603730604,
          "youtube": 10774678
         },
         {
          "cs": 183932,
          "month": "2006-12-01T00:00:00",
          "pct_diff": -0.6088713991379522,
          "pred_cs": 470259.6526938037,
          "youtube": 5881301
         },
         {
          "cs": 231570,
          "month": "2007-01-01T00:00:00",
          "pct_diff": -0.5966166684674439,
          "pred_cs": 574069.3328110671,
          "youtube": 17532321
         },
         {
          "cs": 283288,
          "month": "2007-02-01T00:00:00",
          "pct_diff": -0.4391035004784908,
          "pred_cs": 505062.8774500606,
          "youtube": 9787421
         },
         {
          "cs": 224528,
          "month": "2007-03-01T00:00:00",
          "pct_diff": -0.5220863791325989,
          "pred_cs": 469808.748268123,
          "youtube": 5830694
         },
         {
          "cs": 131302,
          "month": "2007-04-01T00:00:00",
          "pct_diff": -0.7053614570041568,
          "pred_cs": 445637.55530739366,
          "youtube": 3117854
         },
         {
          "cs": 263139,
          "month": "2007-05-01T00:00:00",
          "pct_diff": -0.45170275848066904,
          "pred_cs": 479920.34260621516,
          "youtube": 6965563
         },
         {
          "cs": 344992,
          "month": "2007-06-01T00:00:00",
          "pct_diff": -0.31320695767804685,
          "pred_cs": 502323.08532659174,
          "youtube": 9479922
         },
         {
          "cs": 343354,
          "month": "2007-07-01T00:00:00",
          "pct_diff": -0.26037115818881157,
          "pred_cs": 464224.7308247222,
          "youtube": 5203975
         },
         {
          "cs": 307410,
          "month": "2007-08-01T00:00:00",
          "pct_diff": -0.33080366924514415,
          "pred_cs": 459371.91504508164,
          "youtube": 4659322
         },
         {
          "cs": 404894,
          "month": "2007-09-01T00:00:00",
          "pct_diff": -0.4592827483382427,
          "pred_cs": 748809.1026422053,
          "youtube": 37144139
         },
         {
          "cs": 335093,
          "month": "2007-10-01T00:00:00",
          "pct_diff": -0.24592870369549685,
          "pred_cs": 444378.4051219016,
          "youtube": 2976534
         },
         {
          "cs": 309902,
          "month": "2007-11-01T00:00:00",
          "pct_diff": -0.30015984427692227,
          "pred_cs": 442818.25994938513,
          "youtube": 2801432
         },
         {
          "cs": 426756,
          "month": "2007-12-01T00:00:00",
          "pct_diff": -0.017511414886186624,
          "pred_cs": 434362.2984185244,
          "youtube": 1852382
         },
         {
          "cs": 350212,
          "month": "2008-01-01T00:00:00",
          "pct_diff": -0.26457250175222446,
          "pred_cs": 476201.93810322933,
          "youtube": 6548230
         },
         {
          "cs": 167567,
          "month": "2008-09-01T00:00:00",
          "pct_diff": -0.6371478686025827,
          "pred_cs": 461805.19693977106,
          "youtube": 4932420
         },
         {
          "cs": 177264,
          "month": "2008-10-01T00:00:00",
          "pct_diff": -0.6066132071600774,
          "pred_cs": 450609.94224107685,
          "youtube": 3675927
         },
         {
          "cs": 113772,
          "month": "2008-11-01T00:00:00",
          "pct_diff": -0.7493119538655112,
          "pred_cs": 453838.95145508356,
          "youtube": 4038333
         },
         {
          "cs": 130243,
          "month": "2008-12-01T00:00:00",
          "pct_diff": -0.7269249925286981,
          "pred_cs": 476949.54293350165,
          "youtube": 6632137
         },
         {
          "cs": 113554,
          "month": "2009-01-01T00:00:00",
          "pct_diff": -0.7396222205429753,
          "pred_cs": 436112.48331865453,
          "youtube": 2048813
         },
         {
          "cs": 184563,
          "month": "2009-02-01T00:00:00",
          "pct_diff": -0.5893895038856932,
          "pred_cs": 449484.36960710544,
          "youtube": 3549599
         },
         {
          "cs": 179726,
          "month": "2009-03-01T00:00:00",
          "pct_diff": -0.5949169888207249,
          "pred_cs": 443676.96259782114,
          "youtube": 2897808
         },
         {
          "cs": 115364,
          "month": "2009-04-01T00:00:00",
          "pct_diff": -0.75,
          "pred_cs": 518567.19191008643,
          "youtube": 11303070
         },
         {
          "cs": 146044,
          "month": "2009-05-01T00:00:00",
          "pct_diff": -0.6826531002241316,
          "pred_cs": 460203.01475497644,
          "youtube": 4752600
         },
         {
          "cs": 158880,
          "month": "2009-06-01T00:00:00",
          "pct_diff": -0.6463134934826453,
          "pred_cs": 449211.3695951929,
          "youtube": 3518959
         },
         {
          "cs": 125173,
          "month": "2009-07-01T00:00:00",
          "pct_diff": -0.75,
          "pred_cs": 546428.4380018073,
          "youtube": 14430061
         },
         {
          "cs": 160808,
          "month": "2009-08-01T00:00:00",
          "pct_diff": -0.75,
          "pred_cs": 675029.049618592,
          "youtube": 28863477
         },
         {
          "cs": 147813,
          "month": "2009-09-01T00:00:00",
          "pct_diff": -0.6673286895439743,
          "pred_cs": 444321.4529000953,
          "youtube": 2970142
         },
         {
          "cs": 158107,
          "month": "2009-10-01T00:00:00",
          "pct_diff": -0.75,
          "pred_cs": 2200575.088053525,
          "youtube": 200082263
         },
         {
          "cs": 92452,
          "month": "2009-11-01T00:00:00",
          "pct_diff": -0.75,
          "pred_cs": 489113.89421495295,
          "youtube": 7997396
         },
         {
          "cs": 160755,
          "month": "2009-12-01T00:00:00",
          "pct_diff": -0.6433070190826461,
          "pred_cs": 450681.70275334653,
          "youtube": 3683981
         },
         {
          "cs": 171430,
          "month": "2010-01-01T00:00:00",
          "pct_diff": -0.6125877400775124,
          "pred_cs": 442500.1935516941,
          "youtube": 2765734
         },
         {
          "cs": 148816,
          "month": "2010-02-01T00:00:00",
          "pct_diff": -0.75,
          "pred_cs": 689192.6270316672,
          "youtube": 30453118
         },
         {
          "cs": 176642,
          "month": "2010-03-01T00:00:00",
          "pct_diff": -0.6496107395673623,
          "pred_cs": 504130.7481339297,
          "youtube": 9682804
         },
         {
          "cs": 167923,
          "month": "2010-04-01T00:00:00",
          "pct_diff": -0.6120364941495606,
          "pred_cs": 432831.9480253759,
          "youtube": 1680624
         },
         {
          "cs": 285535,
          "month": "2010-05-01T00:00:00",
          "pct_diff": -0.3460545843197912,
          "pred_cs": 436634.3018140092,
          "youtube": 2107379
         },
         {
          "cs": 151931,
          "month": "2010-06-01T00:00:00",
          "pct_diff": -0.6724241745240629,
          "pred_cs": 463804.0666745125,
          "youtube": 5156762
         },
         {
          "cs": 134295,
          "month": "2010-07-01T00:00:00",
          "pct_diff": -0.7160191013039628,
          "pred_cs": 472901.52477383526,
          "youtube": 6177810
         },
         {
          "cs": 144459,
          "month": "2010-08-01T00:00:00",
          "pct_diff": -0.6707062066433117,
          "pred_cs": 438693.35807226464,
          "youtube": 2338476
         },
         {
          "cs": 152887,
          "month": "2010-09-01T00:00:00",
          "pct_diff": -0.6499420090917557,
          "pred_cs": 436747.63602261,
          "youtube": 2120099
         },
         {
          "cs": 156446,
          "month": "2010-10-01T00:00:00",
          "pct_diff": -0.7252798778489882,
          "pred_cs": 569474.1206980196,
          "youtube": 17016580
         },
         {
          "cs": 163613,
          "month": "2010-11-01T00:00:00",
          "pct_diff": -0.6370046905040333,
          "pred_cs": 450730.34201787104,
          "youtube": 3689440
         },
         {
          "cs": 165713,
          "month": "2010-12-01T00:00:00",
          "pct_diff": -0.6333841337352242,
          "pred_cs": 452007.16948872973,
          "youtube": 3832744
         },
         {
          "cs": 178599,
          "month": "2011-01-01T00:00:00",
          "pct_diff": -0.5987915129787124,
          "pred_cs": 445152.59715960035,
          "youtube": 3063425
         },
         {
          "cs": 173494,
          "month": "2011-02-01T00:00:00",
          "pct_diff": -0.613863065553829,
          "pred_cs": 449306.92850928433,
          "youtube": 3529684
         },
         {
          "cs": 167261,
          "month": "2011-03-01T00:00:00",
          "pct_diff": -0.75,
          "pred_cs": 775483.6807643906,
          "youtube": 40137945
         },
         {
          "cs": 153999,
          "month": "2011-04-01T00:00:00",
          "pct_diff": -0.657499563458438,
          "pred_cs": 449631.5436996893,
          "youtube": 3566117
         },
         {
          "cs": 141897,
          "month": "2011-05-01T00:00:00",
          "pct_diff": -0.7166464072292009,
          "pred_cs": 500777.1336599165,
          "youtube": 9306413
         },
         {
          "cs": 142446,
          "month": "2011-06-01T00:00:00",
          "pct_diff": -0.7102147083972298,
          "pred_cs": 491557.0393933626,
          "youtube": 8271601
         },
         {
          "cs": 123425,
          "month": "2011-07-01T00:00:00",
          "pct_diff": -0.75,
          "pred_cs": 715563.0204147307,
          "youtube": 33412784
         },
         {
          "cs": 131653,
          "month": "2011-08-01T00:00:00",
          "pct_diff": -0.75,
          "pred_cs": 531999.4874701028,
          "youtube": 12810636
         },
         {
          "cs": 131514,
          "month": "2011-09-01T00:00:00",
          "pct_diff": -0.7257548922079317,
          "pred_cs": 479549.11961351533,
          "youtube": 6923899
         },
         {
          "cs": 135840,
          "month": "2011-10-01T00:00:00",
          "pct_diff": -0.75,
          "pred_cs": 561926.6593699872,
          "youtube": 16169495
         },
         {
          "cs": 133647,
          "month": "2011-11-01T00:00:00",
          "pct_diff": -0.6984880159979483,
          "pred_cs": 443256.0133301055,
          "youtube": 2850563
         },
         {
          "cs": 140514,
          "month": "2011-12-01T00:00:00",
          "pct_diff": -0.7409060057411535,
          "pred_cs": 542328.278978247,
          "youtube": 13969882
         },
         {
          "cs": 152253,
          "month": "2012-01-01T00:00:00",
          "pct_diff": -0.6688729175000396,
          "pred_cs": 459802.31774010276,
          "youtube": 4707628
         },
         {
          "cs": 150030,
          "month": "2012-02-01T00:00:00",
          "pct_diff": -0.7058499326054523,
          "pred_cs": 510045.7780917744,
          "youtube": 10346674
         },
         {
          "cs": 149702,
          "month": "2012-03-01T00:00:00",
          "pct_diff": -0.7383974670691106,
          "pred_cs": 572249.8108974675,
          "youtube": 17328108
         },
         {
          "cs": 139991,
          "month": "2012-04-01T00:00:00",
          "pct_diff": -0.75,
          "pred_cs": 589547.6137736771,
          "youtube": 19269517
         },
         {
          "cs": 126234,
          "month": "2012-05-01T00:00:00",
          "pct_diff": -0.7416135851773568,
          "pred_cs": 488547.3568207801,
          "youtube": 7933811
         },
         {
          "cs": 120396,
          "month": "2012-06-01T00:00:00",
          "pct_diff": -0.75,
          "pred_cs": 527101.3647367882,
          "youtube": 12260898
         },
         {
          "cs": 159255,
          "month": "2012-07-01T00:00:00",
          "pct_diff": -0.6865834953257226,
          "pred_cs": 508125.7611672623,
          "youtube": 10131182
         },
         {
          "cs": 159370,
          "month": "2012-08-01T00:00:00",
          "pct_diff": -0.75,
          "pred_cs": 738321.322484826,
          "youtube": 35967049
         },
         {
          "cs": 140031,
          "month": "2012-09-01T00:00:00",
          "pct_diff": -0.7112566968309753,
          "pred_cs": 484967.0917494095,
          "youtube": 7531982
         },
         {
          "cs": 155818,
          "month": "2012-10-01T00:00:00",
          "pct_diff": -0.7153787675531814,
          "pred_cs": 547457.4003508842,
          "youtube": 14545546
         },
         {
          "cs": 159238,
          "month": "2012-11-01T00:00:00",
          "pct_diff": -0.6836731180806239,
          "pred_cs": 503396.9893225384,
          "youtube": 9600451
         },
         {
          "cs": 148362,
          "month": "2012-12-01T00:00:00",
          "pct_diff": -0.7436612206253205,
          "pred_cs": 578773.1390541794,
          "youtube": 18060250
         },
         {
          "cs": 151841,
          "month": "2013-01-01T00:00:00",
          "pct_diff": -0.665802923056676,
          "pred_cs": 454345.68545239104,
          "youtube": 4095206
         },
         {
          "cs": 144267,
          "month": "2013-02-01T00:00:00",
          "pct_diff": -0.6843705008115356,
          "pred_cs": 457077.04878959135,
          "youtube": 4401759
         },
         {
          "cs": 128818,
          "month": "2013-03-01T00:00:00",
          "pct_diff": -0.75,
          "pred_cs": 559050.6078084577,
          "youtube": 15846703
         },
         {
          "cs": 138531,
          "month": "2013-04-01T00:00:00",
          "pct_diff": -0.7165648996472448,
          "pred_cs": 488757.39041349594,
          "youtube": 7957384
         },
         {
          "cs": 125199,
          "month": "2013-05-01T00:00:00",
          "pct_diff": -0.75,
          "pred_cs": 524669.7222677578,
          "youtube": 11987984
         },
         {
          "cs": 111218,
          "month": "2013-06-01T00:00:00",
          "pct_diff": -0.75,
          "pred_cs": 448949.06148975214,
          "youtube": 3489519
         },
         {
          "cs": 116438,
          "month": "2013-07-01T00:00:00",
          "pct_diff": -0.7431356828036022,
          "pred_cs": 453305.4698717526,
          "youtube": 3978458
         },
         {
          "cs": 122345,
          "month": "2013-08-01T00:00:00",
          "pct_diff": -0.7385827966437335,
          "pred_cs": 468006.68980176066,
          "youtube": 5628441
         },
         {
          "cs": 124472,
          "month": "2013-09-01T00:00:00",
          "pct_diff": -0.721386965854892,
          "pred_cs": 446755.83962512016,
          "youtube": 3243364
         },
         {
          "cs": 166374,
          "month": "2013-10-01T00:00:00",
          "pct_diff": -0.6135716091945508,
          "pred_cs": 430542.8999489907,
          "youtube": 1423714
         },
         {
          "cs": 171672,
          "month": "2013-11-01T00:00:00",
          "pct_diff": -0.6474618495373519,
          "pred_cs": 486960.06311574735,
          "youtube": 7755662
         },
         {
          "cs": 183871,
          "month": "2013-12-01T00:00:00",
          "pct_diff": -0.6306290217472205,
          "pred_cs": 497794.92928696645,
          "youtube": 8971707
         },
         {
          "cs": 202520,
          "month": "2014-01-01T00:00:00",
          "pct_diff": -0.6138864098096559,
          "pred_cs": 524508.86253489,
          "youtube": 11969930
         },
         {
          "cs": 239175,
          "month": "2014-02-01T00:00:00",
          "pct_diff": -0.4812009211827154,
          "pred_cs": 461016.6242878678,
          "youtube": 4843915
         },
         {
          "cs": 233953,
          "month": "2014-03-01T00:00:00",
          "pct_diff": -0.620057533924453,
          "pred_cs": 615759.0185075054,
          "youtube": 22211339
         },
         {
          "cs": 233835,
          "month": "2014-04-01T00:00:00",
          "pct_diff": -0.6660660491012944,
          "pred_cs": 700243.2647854087,
          "youtube": 31693380
         },
         {
          "cs": 233847,
          "month": "2014-05-01T00:00:00",
          "pct_diff": -0.5707129228620639,
          "pred_cs": 544733.3787894612,
          "youtube": 14239817
         },
         {
          "cs": 251282,
          "month": "2014-06-01T00:00:00",
          "pct_diff": -0.5302589221475498,
          "pred_cs": 534937.2491518186,
          "youtube": 13140354
         },
         {
          "cs": 329466,
          "month": "2014-07-01T00:00:00",
          "pct_diff": -0.26509336081231577,
          "pred_cs": 448310.0062399345,
          "youtube": 3417795
         },
         {
          "cs": 328267,
          "month": "2014-08-01T00:00:00",
          "pct_diff": -0.4190708885499914,
          "pred_cs": 565072.387542501,
          "youtube": 16522554
         },
         {
          "cs": 314963,
          "month": "2014-09-01T00:00:00",
          "pct_diff": -0.448414493253931,
          "pred_cs": 571013.9156085516,
          "youtube": 17189398
         },
         {
          "cs": 404729,
          "month": "2014-10-01T00:00:00",
          "pct_diff": -0.2977375726590481,
          "pred_cs": 576321.5918192674,
          "youtube": 17785102
         },
         {
          "cs": 429231,
          "month": "2014-11-01T00:00:00",
          "pct_diff": -0.10234657461820452,
          "pred_cs": 478170.0686068644,
          "youtube": 6769122
         },
         {
          "cs": 506492,
          "month": "2014-12-01T00:00:00",
          "pct_diff": 0.08920587472817823,
          "pred_cs": 465010.34538250166,
          "youtube": 5292148
         },
         {
          "cs": 518870,
          "month": "2015-01-01T00:00:00",
          "pct_diff": 0.05682772050258983,
          "pred_cs": 490969.33202437556,
          "youtube": 8205640
         },
         {
          "cs": 652940,
          "month": "2015-02-01T00:00:00",
          "pct_diff": 0.3587694043094098,
          "pred_cs": 480537.7556553495,
          "youtube": 7034858
         },
         {
          "cs": 618109,
          "month": "2015-03-01T00:00:00",
          "pct_diff": 0.041917773207731435,
          "pred_cs": 593241.6318199853,
          "youtube": 19684113
         },
         {
          "cs": 615659,
          "month": "2015-04-01T00:00:00",
          "pct_diff": -0.3032593527181582,
          "pred_cs": 883627.218250921,
          "youtube": 52275373
         },
         {
          "cs": 725151,
          "month": "2015-05-01T00:00:00",
          "pct_diff": 0.12361392793504695,
          "pred_cs": 645373.808539973,
          "youtube": 25535138
         },
         {
          "cs": 651662,
          "month": "2015-06-01T00:00:00",
          "pct_diff": 0.18730578826119154,
          "pred_cs": 548857.7638911022,
          "youtube": 14702715
         },
         {
          "cs": 584839,
          "month": "2015-07-01T00:00:00",
          "pct_diff": 0.12860033510370106,
          "pred_cs": 518198.49933525163,
          "youtube": 11261690
         },
         {
          "cs": 857320,
          "month": "2015-08-01T00:00:00",
          "pct_diff": 0.19178670330042866,
          "pred_cs": 719356.9097774072,
          "youtube": 33838589
         },
         {
          "cs": 763829,
          "month": "2015-09-01T00:00:00",
          "pct_diff": 0.4600194700378461,
          "pred_cs": 523163.5712229237,
          "youtube": 11818942
         },
         {
          "cs": 826148,
          "month": "2015-10-01T00:00:00",
          "pct_diff": 0.5581940611797251,
          "pred_cs": 530195.8341276918,
          "youtube": 12608204
         },
         {
          "cs": 733679,
          "month": "2015-11-01T00:00:00",
          "pct_diff": 0.0075073179657958455,
          "pred_cs": 728212.0803661576,
          "youtube": 34832444
         },
         {
          "cs": 867769,
          "month": "2015-12-01T00:00:00",
          "pct_diff": 0.75,
          "pred_cs": 490318.58695681544,
          "youtube": 8132604
         },
         {
          "cs": 714744,
          "month": "2016-01-01T00:00:00",
          "pct_diff": 0.2564610084900366,
          "pred_cs": 568854.8989347072,
          "youtube": 16947082
         },
         {
          "cs": 785773,
          "month": "2016-02-01T00:00:00",
          "pct_diff": 0.45479624833257953,
          "pred_cs": 540125.8086145169,
          "youtube": 13722689
         },
         {
          "cs": 845234,
          "month": "2016-03-01T00:00:00",
          "pct_diff": 0.6263746679591935,
          "pred_cs": 519704.35635265766,
          "youtube": 11430699
         },
         {
          "cs": 889459,
          "month": "2016-04-01T00:00:00",
          "pct_diff": 0.75,
          "pred_cs": 465863.5595189489,
          "youtube": 5387908
         },
         {
          "cs": 673484,
          "month": "2016-05-01T00:00:00",
          "pct_diff": 0.18782231965064622,
          "pred_cs": 566990.5244734585,
          "youtube": 16737835
         },
         {
          "cs": 613756,
          "month": "2016-06-01T00:00:00",
          "pct_diff": 0.19852091626364374,
          "pred_cs": 512094.52557020664,
          "youtube": 10576614
         },
         {
          "cs": 668393,
          "month": "2016-07-01T00:00:00",
          "pct_diff": 0.45464976476101543,
          "pred_cs": 459487.23616630177,
          "youtube": 4672265
         },
         {
          "cs": 631402,
          "month": "2016-08-01T00:00:00",
          "pct_diff": -0.3191816975999026,
          "pred_cs": 927416.3132426237,
          "youtube": 57190017
         },
         {
          "cs": 671478,
          "month": "2016-09-01T00:00:00",
          "pct_diff": 0.2825741083971251,
          "pred_cs": 523539.33827587403,
          "youtube": 11861116
         },
         {
          "cs": 697025,
          "month": "2016-10-01T00:00:00",
          "pct_diff": 0.2161669150308268,
          "pred_cs": 573132.6772545298,
          "youtube": 17427196
         },
         {
          "cs": 664428,
          "month": "2016-11-01T00:00:00",
          "pct_diff": -0.18133714854031222,
          "pred_cs": 811601.5021511178,
          "youtube": 44191608
         },
         {
          "cs": 702226,
          "month": "2016-12-01T00:00:00",
          "pct_diff": 0.10514006064768665,
          "pred_cs": 635418.1021982392,
          "youtube": 24417765
         },
         {
          "cs": 858017,
          "month": "2017-01-01T00:00:00",
          "pct_diff": 0.12701063781615682,
          "pred_cs": 761321.1190824303,
          "youtube": 38548418
         },
         {
          "cs": 785343,
          "month": "2017-02-01T00:00:00",
          "pct_diff": 0.09259708641711047,
          "pred_cs": 718785.5521153999,
          "youtube": 33774463
         },
         {
          "cs": 780831,
          "month": "2017-03-01T00:00:00",
          "pct_diff": 0.5548480871041601,
          "pred_cs": 502191.18284041836,
          "youtube": 9465118
         },
         {
          "cs": 728537,
          "month": "2017-04-01T00:00:00",
          "pct_diff": 0.15125075401926047,
          "pred_cs": 632822.169676348,
          "youtube": 24126412
         },
         {
          "cs": 729279,
          "month": "2017-05-01T00:00:00",
          "pct_diff": 0.3326552657675792,
          "pred_cs": 547237.5480240585,
          "youtube": 14520871
         },
         {
          "cs": 644596,
          "month": "2017-06-01T00:00:00",
          "pct_diff": 0.42706645527053416,
          "pred_cs": 451693.0501865112,
          "youtube": 3797489
         },
         {
          "cs": 670361,
          "month": "2017-07-01T00:00:00",
          "pct_diff": 0.34618845978231905,
          "pred_cs": 497969.6528585593,
          "youtube": 8991317
         },
         {
          "cs": 626044,
          "month": "2017-08-01T00:00:00",
          "pct_diff": -0.1402527607014156,
          "pred_cs": 728172.1550054075,
          "youtube": 34827963
         },
         {
          "cs": 709468,
          "month": "2017-09-01T00:00:00",
          "pct_diff": 0.5335848923406543,
          "pred_cs": 462620.6240967626,
          "youtube": 5023939
         },
         {
          "cs": 674835,
          "month": "2017-10-01T00:00:00",
          "pct_diff": 0.2103798105678938,
          "pred_cs": 557539.8681537629,
          "youtube": 15677146
         },
         {
          "cs": 638295,
          "month": "2017-11-01T00:00:00",
          "pct_diff": 0.13046273803076683,
          "pred_cs": 564631.6136982023,
          "youtube": 16473084
         },
         {
          "cs": 638526,
          "month": "2017-12-01T00:00:00",
          "pct_diff": 0.31976308012167565,
          "pred_cs": 483818.65625543264,
          "youtube": 7403088
         },
         {
          "cs": 758776,
          "month": "2018-01-01T00:00:00",
          "pct_diff": 0.26867137128971186,
          "pred_cs": 598087.1147337706,
          "youtube": 20227943
         },
         {
          "cs": 728848,
          "month": "2018-02-01T00:00:00",
          "pct_diff": 0.5831182498316236,
          "pred_cs": 460387.5927003674,
          "youtube": 4773316
         },
         {
          "cs": 710912,
          "month": "2018-03-01T00:00:00",
          "pct_diff": 0.48917832209380224,
          "pred_cs": 477385.4074107454,
          "youtube": 6681056
         },
         {
          "cs": 556019,
          "month": "2018-04-01T00:00:00",
          "pct_diff": -0.3723654207655259,
          "pred_cs": 885896.0586240746,
          "youtube": 52530015
         },
         {
          "cs": 481392,
          "month": "2018-05-01T00:00:00",
          "pct_diff": -0.4338052170611791,
          "pred_cs": 850223.305664079,
          "youtube": 48526304
         },
         {
          "cs": 449409,
          "month": "2018-06-01T00:00:00",
          "pct_diff": -0.5074862518971036,
          "pred_cs": 912480.1119381323,
          "youtube": 55513661
         },
         {
          "cs": 455676,
          "month": "2018-07-01T00:00:00",
          "pct_diff": 0.025664983041447764,
          "pred_cs": 444273.72244762094,
          "youtube": 2964785
         },
         {
          "cs": 481746,
          "month": "2018-08-01T00:00:00",
          "pct_diff": -0.1552637108017325,
          "pred_cs": 570291.588227163,
          "youtube": 17108328
         },
         {
          "cs": 612880,
          "month": "2018-09-01T00:00:00",
          "pct_diff": 0.4414297604343388,
          "pred_cs": 425188.94560309616,
          "youtube": 822816
         },
         {
          "cs": 594113,
          "month": "2018-10-01T00:00:00",
          "pct_diff": 0.002250007084584778,
          "pred_cs": 592779.2425047695,
          "youtube": 19632217
         },
         {
          "cs": 576288,
          "month": "2018-11-01T00:00:00",
          "pct_diff": -0.2868405654110752,
          "pred_cs": 808077.369588724,
          "youtube": 43796079
         },
         {
          "cs": 781335,
          "month": "2018-12-01T00:00:00",
          "pct_diff": 0.7164246549298241,
          "pred_cs": 455210.776514944,
          "youtube": 4192299
         },
         {
          "cs": 720255,
          "month": "2019-01-01T00:00:00",
          "pct_diff": 0.4779410269814187,
          "pred_cs": 487336.7657105139,
          "youtube": 7797941
         },
         {
          "cs": 686703,
          "month": "2019-02-01T00:00:00",
          "pct_diff": 0.3813194890557069,
          "pred_cs": 497135.53268508625,
          "youtube": 8897700
         },
         {
          "cs": 711735,
          "month": "2019-03-01T00:00:00",
          "pct_diff": 0.27363452483428097,
          "pred_cs": 558822.0059381693,
          "youtube": 15821046
         },
         {
          "cs": 647906,
          "month": "2019-04-01T00:00:00",
          "pct_diff": 0.2995391403147509,
          "pred_cs": 498565.97612217814,
          "youtube": 9058245
         },
         {
          "cs": 616941,
          "month": "2019-05-01T00:00:00",
          "pct_diff": -0.20125973975964107,
          "pred_cs": 772392.5169545711,
          "youtube": 39791010
         },
         {
          "cs": 614513,
          "month": "2019-06-01T00:00:00",
          "pct_diff": 0.0190528591296342,
          "pred_cs": 603023.6748708513,
          "youtube": 20781995
         },
         {
          "cs": 602806,
          "month": "2019-07-01T00:00:00",
          "pct_diff": -0.007193643543564946,
          "pred_cs": 607173.791827401,
          "youtube": 21247781
         },
         {
          "cs": 680892,
          "month": "2019-08-01T00:00:00",
          "pct_diff": -0.15122687963144144,
          "pred_cs": 802207.3080075152,
          "youtube": 43137256
         },
         {
          "cs": 745425,
          "month": "2019-09-01T00:00:00",
          "pct_diff": -0.15931767059441304,
          "pred_cs": 886690.458365005,
          "youtube": 52619174
         },
         {
          "cs": 776751,
          "month": "2019-10-01T00:00:00",
          "pct_diff": 0.48762094761110136,
          "pred_cs": 522143.0911196477,
          "youtube": 11704409
         },
         {
          "cs": 789463,
          "month": "2019-11-01T00:00:00",
          "pct_diff": -0.07174709004140499,
          "pred_cs": 850482.6556753959,
          "youtube": 48555412
         },
         {
          "cs": 798764,
          "month": "2019-12-01T00:00:00",
          "pct_diff": 0.446751009215125,
          "pred_cs": 552108.825162207,
          "youtube": 15067596
         },
         {
          "cs": 850328,
          "month": "2020-01-01T00:00:00",
          "pct_diff": 0.4150317719664523,
          "pred_cs": 600925.0229189622,
          "youtube": 20546454
         },
         {
          "cs": 959235,
          "month": "2020-02-01T00:00:00",
          "pct_diff": 0.6973039672498378,
          "pred_cs": 565152.1580747025,
          "youtube": 16531507
         },
         {
          "cs": 1269874,
          "month": "2020-03-01T00:00:00",
          "pct_diff": 0.43608711843039333,
          "pred_cs": 884259.7247080246,
          "youtube": 52346362
         },
         {
          "cs": 1354060,
          "month": "2020-04-01T00:00:00",
          "pct_diff": 0.75,
          "pred_cs": 563108.5070716884,
          "youtube": 16302139
         },
         {
          "cs": 1220085,
          "month": "2020-05-01T00:00:00",
          "pct_diff": 0.75,
          "pred_cs": 581467.0896286506,
          "youtube": 18362604
         },
         {
          "cs": 986980,
          "month": "2020-06-01T00:00:00",
          "pct_diff": 0.75,
          "pred_cs": 438120.0402274043,
          "youtube": 2274130
         },
         {
          "cs": 887871,
          "month": "2020-07-01T00:00:00",
          "pct_diff": 0.75,
          "pred_cs": 501809.3214007791,
          "youtube": 9422260
         },
         {
          "cs": 955869,
          "month": "2020-08-01T00:00:00",
          "pct_diff": 0.6332876535190833,
          "pred_cs": 585242.2859748456,
          "youtube": 18786311
         },
         {
          "cs": 1003755,
          "month": "2020-09-01T00:00:00",
          "pct_diff": 0.6430115886407415,
          "pred_cs": 610923.8711033094,
          "youtube": 21668669
         },
         {
          "cs": 977120,
          "month": "2020-10-01T00:00:00",
          "pct_diff": 0.75,
          "pred_cs": 478021.21944893326,
          "youtube": 6752416
         },
         {
          "cs": 1069121,
          "month": "2020-11-01T00:00:00",
          "pct_diff": 0.75,
          "pred_cs": 449037.1360693134,
          "youtube": 3499404
         },
         {
          "cs": 1201522,
          "month": "2020-12-01T00:00:00",
          "pct_diff": 0.75,
          "pred_cs": 623932.6869777453,
          "youtube": 23128706
         },
         {
          "cs": 1158553,
          "month": "2021-01-01T00:00:00",
          "pct_diff": 0.75,
          "pred_cs": 520881.63326434215,
          "youtube": 11562830
         },
         {
          "cs": 1156160,
          "month": "2021-02-01T00:00:00",
          "pct_diff": 0.75,
          "pred_cs": 480015.61640280066,
          "youtube": 6976256
         },
         {
          "cs": 1234187,
          "month": "2021-03-01T00:00:00",
          "pct_diff": 0.75,
          "pred_cs": 445357.94413331273,
          "youtube": 3086472
         },
         {
          "cs": 1182193,
          "month": "2021-04-01T00:00:00",
          "pct_diff": 0.75,
          "pred_cs": 510792.73249773635,
          "youtube": 10430508
         },
         {
          "cs": 1114107,
          "month": "2021-05-01T00:00:00",
          "pct_diff": 0.75,
          "pred_cs": 482964.79169467505,
          "youtube": 7307255
         },
         {
          "cs": 953085,
          "month": "2021-06-01T00:00:00",
          "pct_diff": 0.75,
          "pred_cs": 485058.2669818475,
          "youtube": 7542215
         },
         {
          "cs": 788128,
          "month": "2021-07-01T00:00:00",
          "pct_diff": 0.75,
          "pred_cs": 446891.0120526895,
          "youtube": 3258535
         },
         {
          "cs": 824180,
          "month": "2021-08-01T00:00:00",
          "pct_diff": 0.75,
          "pred_cs": 454339.43959702714,
          "youtube": 4094505
         },
         {
          "cs": 970788,
          "month": "2021-09-01T00:00:00",
          "pct_diff": 0.75,
          "pred_cs": 494514.26034485694,
          "youtube": 8603503
         },
         {
          "cs": 888099,
          "month": "2021-10-01T00:00:00",
          "pct_diff": 0.75,
          "pred_cs": 460270.87272138393,
          "youtube": 4760216
         },
         {
          "cs": 967548,
          "month": "2021-11-01T00:00:00",
          "pct_diff": 0.75,
          "pred_cs": 449063.62526759715,
          "youtube": 3502377
         },
         {
          "cs": 974624,
          "month": "2021-12-01T00:00:00",
          "pct_diff": 0.75,
          "pred_cs": 515689.0019672626,
          "youtube": 10980038
         },
         {
          "cs": 1019800,
          "month": "2022-01-01T00:00:00",
          "pct_diff": 0.75,
          "pred_cs": 499383.6574894508,
          "youtube": 9150017
         },
         {
          "cs": 1026057,
          "month": "2022-02-01T00:00:00",
          "pct_diff": 0.75,
          "pred_cs": 577309.2923192853,
          "youtube": 17895956
         },
         {
          "cs": 1019747,
          "month": "2022-03-01T00:00:00",
          "pct_diff": 0.75,
          "pred_cs": 489189.2365158907,
          "youtube": 8005852
         },
         {
          "cs": 1042536,
          "month": "2022-04-01T00:00:00",
          "pct_diff": 0.75,
          "pred_cs": 493592.94767410663,
          "youtube": 8500100
         },
         {
          "cs": 954908,
          "month": "2022-05-01T00:00:00",
          "pct_diff": 0.5339324877384762,
          "pred_cs": 622522.8343705336,
          "youtube": 22970472
         },
         {
          "cs": 928566,
          "month": "2022-06-01T00:00:00",
          "pct_diff": 0.75,
          "pred_cs": 522778.84969830327,
          "youtube": 11775763
         },
         {
          "cs": 950395,
          "month": "2022-07-01T00:00:00",
          "pct_diff": 0.75,
          "pred_cs": 507248.2674932021,
          "youtube": 10032697
         },
         {
          "cs": 1060765,
          "month": "2022-08-01T00:00:00",
          "pct_diff": 0.7477713152680902,
          "pred_cs": 606924.3674692587,
          "youtube": 21219787
         },
         {
          "cs": 1124191,
          "month": "2022-09-01T00:00:00",
          "pct_diff": 0.75,
          "pred_cs": 508001.84197125444,
          "youtube": 10117274
         },
         {
          "cs": 1110627,
          "month": "2022-10-01T00:00:00",
          "pct_diff": 0.75,
          "pred_cs": 616710.4199850517,
          "youtube": 22318119
         },
         {
          "cs": 1156226,
          "month": "2022-11-01T00:00:00",
          "pct_diff": 0.5098488981856433,
          "pred_cs": 765789.2133374504,
          "youtube": 39049892
         },
         {
          "cs": 1090343,
          "month": "2022-12-01T00:00:00",
          "pct_diff": 0.75,
          "pred_cs": 469327.559017361,
          "youtube": 5776688
         },
         {
          "cs": 1224207,
          "month": "2023-01-01T00:00:00",
          "pct_diff": 0.24633422340588926,
          "pred_cs": 982246.1559745815,
          "youtube": 63343813
         },
         {
          "cs": 1378327,
          "month": "2023-02-01T00:00:00",
          "pct_diff": 0.40244985433683517,
          "pred_cs": 982799.4888642618,
          "youtube": 63405916
         },
         {
          "cs": 1542231,
          "month": "2023-03-01T00:00:00",
          "pct_diff": 0.04531572625184345,
          "pred_cs": 1475373.3836282464,
          "youtube": 118689665
         },
         {
          "cs": 1536102,
          "month": "2023-04-01T00:00:00",
          "pct_diff": -0.01702676364461862,
          "pred_cs": 1562709.891975779,
          "youtube": 128491828
         },
         {
          "cs": 1837896,
          "month": "2023-05-01T00:00:00",
          "pct_diff": 0.4581602054388531,
          "pred_cs": 1260421.1753583415,
          "youtube": 94564627
         },
         {
          "cs": 1692482,
          "month": "2023-06-01T00:00:00",
          "pct_diff": 0.75,
          "pred_cs": 833216.3137339794,
          "youtube": 46617534
         },
         {
          "cs": 1245840,
          "month": "2023-07-01T00:00:00",
          "pct_diff": 0.2771450055264025,
          "pred_cs": 975488.2919394893,
          "youtube": 62585348
         },
         {
          "cs": 1557039,
          "month": "2023-08-01T00:00:00",
          "pct_diff": 0.75,
          "pred_cs": 835447.5631459627,
          "youtube": 46867957
         },
         {
          "cs": 1580157,
          "month": "2023-09-01T00:00:00",
          "pct_diff": 0.33172700483147693,
          "pred_cs": 1186547.2384859843,
          "youtube": 86273428
         },
         {
          "cs": 1412825,
          "month": "2023-10-01T00:00:00",
          "pct_diff": 0.3197710257173838,
          "pred_cs": 1070507.6657005977,
          "youtube": 73249793
         },
         {
          "cs": 1184525,
          "month": "2023-11-01T00:00:00",
          "pct_diff": 0.36685379602144275,
          "pred_cs": 866606.9505369524,
          "youtube": 50365113
         },
         {
          "cs": 1276429,
          "month": "2023-12-01T00:00:00",
          "pct_diff": 0.7166969204454388,
          "pred_cs": 743537.7700035714,
          "youtube": 36552514
         },
         {
          "cs": 1334752,
          "month": "2024-01-01T00:00:00",
          "pct_diff": 0.41878771118650215,
          "pred_cs": 940769.3550459181,
          "youtube": 58688688
         },
         {
          "cs": 1431938,
          "month": "2024-02-01T00:00:00",
          "pct_diff": 0.21445653049741126,
          "pred_cs": 1179077.1954707294,
          "youtube": 85435032
         },
         {
          "cs": 1555064,
          "month": "2024-03-01T00:00:00",
          "pct_diff": 0.46088350913933257,
          "pred_cs": 1064468.1730414995,
          "youtube": 72571954
         },
         {
          "cs": 1647977,
          "month": "2024-04-01T00:00:00",
          "pct_diff": 0.4427607594386487,
          "pred_cs": 1142238.579209208,
          "youtube": 81300471
         },
         {
          "cs": 1661558,
          "month": "2024-05-01T00:00:00",
          "pct_diff": -0.1348174119709286,
          "pred_cs": 1920470.9190751412,
          "youtube": 168644932
         },
         {
          "cs": 1558198,
          "month": "2024-06-01T00:00:00",
          "pct_diff": 0.1920605838796141,
          "pred_cs": 1307146.6509938408,
          "youtube": 99808834
         },
         {
          "cs": 1385446,
          "month": "2024-07-01T00:00:00",
          "pct_diff": 0.34746612863931925,
          "pred_cs": 1028186.14179121,
          "youtube": 68499861
         },
         {
          "cs": 1461132,
          "month": "2024-08-01T00:00:00",
          "pct_diff": 0.2647795926400207,
          "pred_cs": 1155246.3437128407,
          "youtube": 82760390
         },
         {
          "cs": 1515033,
          "month": "2024-09-01T00:00:00",
          "pct_diff": 0.03788398562495731,
          "pred_cs": 1459732.5144078888,
          "youtube": 116934221
         },
         {
          "cs": 1529352,
          "month": "2024-10-01T00:00:00",
          "pct_diff": 0.10137806353039407,
          "pred_cs": 1388580.4072561278,
          "youtube": 108948505
         },
         {
          "cs": 1593726,
          "month": "2024-11-01T00:00:00",
          "pct_diff": -0.019229138932345714,
          "pred_cs": 1624972.82827621,
          "youtube": 135479873
         },
         {
          "cs": 1777329,
          "month": "2024-12-01T00:00:00",
          "pct_diff": 0.25677946904039967,
          "pred_cs": 1414193.2166962118,
          "youtube": 111823144
         },
         {
          "cs": 1643797,
          "month": "2025-01-01T00:00:00",
          "pct_diff": 0.19454531834699193,
          "pred_cs": 1376085.9255425162,
          "youtube": 107546194
         },
         {
          "cs": 1827625,
          "month": "2025-02-01T00:00:00",
          "pct_diff": 0.4143489598208039,
          "pred_cs": 1292202.3149305088,
          "youtube": 98131565
         },
         {
          "cs": 1864428,
          "month": "2025-03-01T00:00:00",
          "pct_diff": 0.25499317639739744,
          "pred_cs": 1485608.0774495169,
          "youtube": 119838350
         },
         {
          "cs": 1898525,
          "month": "2025-04-01T00:00:00",
          "pct_diff": -0.0693313370865708,
          "pred_cs": 2039958.0169130513,
          "youtube": 182055498
         },
         {
          "cs": 1752347,
          "month": "2025-05-01T00:00:00",
          "pct_diff": -0.09939049739793097,
          "pred_cs": 1945734.5219399356,
          "youtube": 171480378
         },
         {
          "cs": 1766572,
          "month": "2025-06-01T00:00:00",
          "pct_diff": 0.28437920415910745,
          "pred_cs": 1375428.6851417746,
          "youtube": 107472429
         },
         {
          "cs": 1506027,
          "month": "2025-07-01T00:00:00",
          "pct_diff": -0.1798649214117981,
          "pred_cs": 1836315.7964082053,
          "youtube": 159199830
         },
         {
          "cs": 1581554,
          "month": "2025-08-01T00:00:00",
          "pct_diff": 0.14106638835126797,
          "pred_cs": 1386031.5369425565,
          "youtube": 108662434
         }
        ],
        "data-802702348a17f6d10a691f2f6355397b": [
         {
          "x": 19415,
          "y": 418030.70531032444
         },
         {
          "x": 200082263,
          "y": 2200575.088053525
         }
        ]
       },
       "height": 460,
       "layer": [
        {
         "data": {
          "name": "data-5b1ae2ed325bafb365b1c11c861c7129"
         },
         "encoding": {
          "color": {
           "field": "pct_diff",
           "legend": {
            "direction": "vertical",
            "format": ".0%",
            "gradientLength": 220,
            "labelColor": "#3b415c",
            "labelFontSize": 12,
            "orient": "right",
            "titleColor": "#3b415c",
            "titleFontSize": 14
           },
           "scale": {
            "domain": [
             -0.9,
             -0.7,
             -0.35,
             0,
             0.35,
             0.7,
             0.9
            ],
            "range": [
             "#7f0000",
             "#b30000",
             "#fcae91",
             "#f0f0f0",
             "#9ecae1",
             "#3182bd",
             "#08519c"
            ]
           },
           "title": "Above/below expected (%)",
           "type": "quantitative"
          },
          "tooltip": [
           {
            "field": "month",
            "format": "%Y %b",
            "title": "Month",
            "type": "temporal"
           },
           {
            "field": "youtube",
            "format": ",.0f",
            "title": "YouTube view count",
            "type": "quantitative"
           },
           {
            "field": "cs",
            "format": ",.0f",
            "title": "CS players",
            "type": "quantitative"
           },
           {
            "field": "pred_cs",
            "format": ",.0f",
            "title": "Predicted players",
            "type": "quantitative"
           },
           {
            "field": "pct_diff",
            "format": ".1%",
            "title": "% above/below",
            "type": "quantitative"
           }
          ],
          "x": {
           "axis": {
            "domain": true,
            "domainColor": "#3b415c",
            "grid": false,
            "labelColor": "#3b415c",
            "labelFontSize": 18,
            "tickColor": "#3b415c",
            "tickCount": 7,
            "ticks": true,
            "titleColor": "#cc0000",
            "titleFontSize": 20,
            "titlePadding": 10
           },
           "field": "youtube",
           "title": "YouTube view count",
           "type": "quantitative"
          },
          "y": {
           "axis": {
            "domain": true,
            "domainColor": "#3b415c",
            "grid": false,
            "labelColor": "#3b415c",
            "labelFontSize": 18,
            "tickColor": "#3b415c",
            "tickCount": 7,
            "ticks": true,
            "titleColor": "#E58716",
            "titleFontSize": 20,
            "titlePadding": 10
           },
           "field": "cs",
           "title": "CS peak players",
           "type": "quantitative"
          }
         },
         "mark": {
          "opacity": 0.95,
          "size": 90,
          "stroke": "white",
          "strokeWidth": 0.6,
          "type": "circle"
         },
         "title": "YouTube view count vs CS — r=0.66, ρ=0.53, R²=0.43, n=224"
        },
        {
         "data": {
          "name": "data-802702348a17f6d10a691f2f6355397b"
         },
         "encoding": {
          "x": {
           "field": "x",
           "type": "quantitative"
          },
          "y": {
           "field": "y",
           "type": "quantitative"
          }
         },
         "mark": {
          "color": "#000000",
          "size": 2,
          "type": "line"
         }
        }
       ],
       "width": 640
      },
      "text/plain": [
       "<VegaLite 5 object>\n",
       "\n",
       "If you see this message, it means the renderer has not been properly enabled\n",
       "for the frontend that you are using. For more information, see\n",
       "https://altair-viz.github.io/user_guide/display_frontends.html#troubleshooting\n"
      ]
     },
     "execution_count": 37,
     "metadata": {},
     "output_type": "execute_result"
    }
   ],
   "source": [
    "youtube_chart"
   ]
  },
  {
   "cell_type": "markdown",
   "id": "c3fe2e68",
   "metadata": {},
   "source": [
    "#### Twitch-CS Scatterplot"
   ]
  },
  {
   "cell_type": "code",
   "execution_count": 38,
   "id": "05c6b33b",
   "metadata": {},
   "outputs": [
    {
     "data": {
      "application/vnd.vegalite.v5+json": {
       "$schema": "https://vega.github.io/schema/vega-lite/v5.20.1.json",
       "config": {
        "background": "white",
        "view": {
         "continuousHeight": 300,
         "continuousWidth": 300
        }
       },
       "datasets": {
        "data-965136ca9375a74c35d52602a2f69df9": [
         {
          "cs": 664428,
          "month": "2016-11-01T00:00:00",
          "pct_diff": -0.3157226671330011,
          "pred_cs": 970992.2689038467,
          "twitch": 237149
         },
         {
          "cs": 702226,
          "month": "2016-12-01T00:00:00",
          "pct_diff": -0.42971897689581146,
          "pred_cs": 1231368.345693147,
          "twitch": 1154232
         },
         {
          "cs": 858017,
          "month": "2017-01-01T00:00:00",
          "pct_diff": -0.1707121881014648,
          "pred_cs": 1034643.2055183513,
          "twitch": 461337
         },
         {
          "cs": 785343,
          "month": "2017-02-01T00:00:00",
          "pct_diff": -0.251453162217647,
          "pred_cs": 1049156.7933499785,
          "twitch": 512456
         },
         {
          "cs": 780831,
          "month": "2017-03-01T00:00:00",
          "pct_diff": -0.23628942555078877,
          "pred_cs": 1022417.426343921,
          "twitch": 418276
         },
         {
          "cs": 728537,
          "month": "2017-04-01T00:00:00",
          "pct_diff": -0.24032237349322408,
          "pred_cs": 959008.1036742259,
          "twitch": 194939
         },
         {
          "cs": 729279,
          "month": "2017-05-01T00:00:00",
          "pct_diff": -0.2618044424786768,
          "pred_cs": 987921.1444305317,
          "twitch": 296775
         },
         {
          "cs": 644596,
          "month": "2017-06-01T00:00:00",
          "pct_diff": -0.450528807959249,
          "pred_cs": 1173120.6464272547,
          "twitch": 949075
         },
         {
          "cs": 670361,
          "month": "2017-07-01T00:00:00",
          "pct_diff": -0.30412412464963684,
          "pred_cs": 963334.157348799,
          "twitch": 210176
         },
         {
          "cs": 626044,
          "month": "2017-08-01T00:00:00",
          "pct_diff": -0.36480438850137326,
          "pred_cs": 985592.451627562,
          "twitch": 288573
         },
         {
          "cs": 709468,
          "month": "2017-09-01T00:00:00",
          "pct_diff": -0.3355369188798075,
          "pred_cs": 1067731.2557440144,
          "twitch": 577878
         },
         {
          "cs": 674835,
          "month": "2017-10-01T00:00:00",
          "pct_diff": -0.3138313181418761,
          "pred_cs": 983482.6593550836,
          "twitch": 281142
         },
         {
          "cs": 638295,
          "month": "2017-11-01T00:00:00",
          "pct_diff": -0.3417681554760236,
          "pred_cs": 969711.5162539813,
          "twitch": 232638
         },
         {
          "cs": 638526,
          "month": "2017-12-01T00:00:00",
          "pct_diff": -0.5006150122877266,
          "pred_cs": 1278624.7398528014,
          "twitch": 1320676
         },
         {
          "cs": 758776,
          "month": "2018-01-01T00:00:00",
          "pct_diff": -0.24877485825677295,
          "pred_cs": 1010051.391836076,
          "twitch": 374721
         },
         {
          "cs": 728848,
          "month": "2018-02-01T00:00:00",
          "pct_diff": -0.30389493605148055,
          "pred_cs": 1047037.3478764149,
          "twitch": 504991
         },
         {
          "cs": 710912,
          "month": "2018-03-01T00:00:00",
          "pct_diff": -0.2885871812550973,
          "pred_cs": 999296.0223210678,
          "twitch": 336839
         },
         {
          "cs": 556019,
          "month": "2018-04-01T00:00:00",
          "pct_diff": -0.42559198718825525,
          "pred_cs": 967986.1485188378,
          "twitch": 226561
         },
         {
          "cs": 481392,
          "month": "2018-05-01T00:00:00",
          "pct_diff": -0.5136465587693823,
          "pred_cs": 989798.6920416069,
          "twitch": 303388
         },
         {
          "cs": 449409,
          "month": "2018-06-01T00:00:00",
          "pct_diff": -0.537506135314979,
          "pred_cs": 971708.0253725478,
          "twitch": 239670
         },
         {
          "cs": 455676,
          "month": "2018-07-01T00:00:00",
          "pct_diff": -0.5247316035553146,
          "pred_cs": 958776.1429305016,
          "twitch": 194122
         },
         {
          "cs": 481746,
          "month": "2018-08-01T00:00:00",
          "pct_diff": -0.5813828469710719,
          "pred_cs": 1150803.2972712645,
          "twitch": 870470
         },
         {
          "cs": 612880,
          "month": "2018-09-01T00:00:00",
          "pct_diff": -0.3662197106783011,
          "pred_cs": 967022.8158340687,
          "twitch": 223168
         },
         {
          "cs": 594113,
          "month": "2018-10-01T00:00:00",
          "pct_diff": -0.3992787440631108,
          "pred_cs": 988999.4637752865,
          "twitch": 300573
         },
         {
          "cs": 576288,
          "month": "2018-11-01T00:00:00",
          "pct_diff": -0.4129684542945739,
          "pred_cs": 981698.5206603919,
          "twitch": 274858
         },
         {
          "cs": 781335,
          "month": "2018-12-01T00:00:00",
          "pct_diff": -0.18673506539899967,
          "pred_cs": 960738.5819275909,
          "twitch": 201034
         },
         {
          "cs": 720255,
          "month": "2019-01-01T00:00:00",
          "pct_diff": -0.31429522315677594,
          "pred_cs": 1050386.440817628,
          "twitch": 516787
         },
         {
          "cs": 686703,
          "month": "2019-02-01T00:00:00",
          "pct_diff": -0.39825206019869697,
          "pred_cs": 1141180.4753776956,
          "twitch": 836577
         },
         {
          "cs": 711735,
          "month": "2019-03-01T00:00:00",
          "pct_diff": -0.28352992264947374,
          "pred_cs": 993391.1024337034,
          "twitch": 316041
         },
         {
          "cs": 647906,
          "month": "2019-04-01T00:00:00",
          "pct_diff": -0.3325768580708967,
          "pred_cs": 970757.4689833327,
          "twitch": 236322
         },
         {
          "cs": 616941,
          "month": "2019-05-01T00:00:00",
          "pct_diff": -0.38577780221459373,
          "pred_cs": 1004426.4147801829,
          "twitch": 354909
         },
         {
          "cs": 614513,
          "month": "2019-06-01T00:00:00",
          "pct_diff": -0.40242050615784164,
          "pred_cs": 1028336.8260329133,
          "twitch": 439125
         },
         {
          "cs": 602806,
          "month": "2019-07-01T00:00:00",
          "pct_diff": -0.42722017609753415,
          "pred_cs": 1052421.8466582145,
          "twitch": 523956
         },
         {
          "cs": 680892,
          "month": "2019-08-01T00:00:00",
          "pct_diff": -0.376207501129314,
          "pred_cs": 1091536.0496201653,
          "twitch": 661722
         },
         {
          "cs": 745425,
          "month": "2019-09-01T00:00:00",
          "pct_diff": -0.26365897796026466,
          "pred_cs": 1012336.6452341622,
          "twitch": 382770
         },
         {
          "cs": 776751,
          "month": "2019-10-01T00:00:00",
          "pct_diff": -0.21498247615703805,
          "pred_cs": 989469.6314516724,
          "twitch": 302229
         },
         {
          "cs": 789463,
          "month": "2019-11-01T00:00:00",
          "pct_diff": -0.21396365486678898,
          "pred_cs": 1004359.4102079443,
          "twitch": 354673
         },
         {
          "cs": 798764,
          "month": "2019-12-01T00:00:00",
          "pct_diff": -0.18310158948495492,
          "pred_cs": 977800.8987633951,
          "twitch": 261130
         },
         {
          "cs": 850328,
          "month": "2020-01-01T00:00:00",
          "pct_diff": -0.21184138663490734,
          "pred_cs": 1078879.2834090479,
          "twitch": 617143
         },
         {
          "cs": 959235,
          "month": "2020-02-01T00:00:00",
          "pct_diff": -0.16097130387304756,
          "pred_cs": 1143268.4059888928,
          "twitch": 843931
         },
         {
          "cs": 1269874,
          "month": "2020-03-01T00:00:00",
          "pct_diff": 0.1902671587678122,
          "pred_cs": 1066881.4901308361,
          "twitch": 574885
         },
         {
          "cs": 1354060,
          "month": "2020-04-01T00:00:00",
          "pct_diff": 0.29405591399927783,
          "pred_cs": 1046369.0056601029,
          "twitch": 502637
         },
         {
          "cs": 1220085,
          "month": "2020-05-01T00:00:00",
          "pct_diff": 0.1659777297547214,
          "pred_cs": 1046405.0632053331,
          "twitch": 502764
         },
         {
          "cs": 986980,
          "month": "2020-06-01T00:00:00",
          "pct_diff": 0.024287727182467713,
          "pred_cs": 963576.9069643244,
          "twitch": 211031
         },
         {
          "cs": 887871,
          "month": "2020-07-01T00:00:00",
          "pct_diff": -0.11104586582432596,
          "pred_cs": 998781.5634867614,
          "twitch": 335027
         },
         {
          "cs": 955869,
          "month": "2020-08-01T00:00:00",
          "pct_diff": -0.04161963900615712,
          "pred_cs": 997379.5779879728,
          "twitch": 330089
         },
         {
          "cs": 1003755,
          "month": "2020-09-01T00:00:00",
          "pct_diff": -0.031006921809701438,
          "pred_cs": 1035874.2725743956,
          "twitch": 465673
         },
         {
          "cs": 977120,
          "month": "2020-10-01T00:00:00",
          "pct_diff": -0.0796427775092482,
          "pred_cs": 1061674.7238160763,
          "twitch": 556546
         },
         {
          "cs": 1069121,
          "month": "2020-11-01T00:00:00",
          "pct_diff": 0.05237410761887733,
          "pred_cs": 1015913.440153915,
          "twitch": 395368
         },
         {
          "cs": 1201522,
          "month": "2020-12-01T00:00:00",
          "pct_diff": 0.11808603157195484,
          "pred_cs": 1074623.92523654,
          "twitch": 602155
         },
         {
          "cs": 1158553,
          "month": "2021-01-01T00:00:00",
          "pct_diff": 0.0714957961202643,
          "pred_cs": 1081248.2925224323,
          "twitch": 625487
         },
         {
          "cs": 1156160,
          "month": "2021-02-01T00:00:00",
          "pct_diff": 0.10877990932788395,
          "pred_cs": 1042731.7362747281,
          "twitch": 489826
         },
         {
          "cs": 1234187,
          "month": "2021-03-01T00:00:00",
          "pct_diff": 0.19748983217023522,
          "pred_cs": 1030645.0767629966,
          "twitch": 447255
         },
         {
          "cs": 1182193,
          "month": "2021-04-01T00:00:00",
          "pct_diff": 0.0973340386755295,
          "pred_cs": 1077331.932058623,
          "twitch": 611693
         },
         {
          "cs": 1114107,
          "month": "2021-05-01T00:00:00",
          "pct_diff": 0.09692183743774092,
          "pred_cs": 1015666.7156908839,
          "twitch": 394499
         },
         {
          "cs": 953085,
          "month": "2021-06-01T00:00:00",
          "pct_diff": -0.14217631631117475,
          "pred_cs": 1111049.9956139363,
          "twitch": 730453
         },
         {
          "cs": 788128,
          "month": "2021-07-01T00:00:00",
          "pct_diff": -0.2251418218935656,
          "pred_cs": 1017125.4847254679,
          "twitch": 399637
         },
         {
          "cs": 824180,
          "month": "2021-08-01T00:00:00",
          "pct_diff": -0.2594227620258282,
          "pred_cs": 1112888.6465029917,
          "twitch": 736929
         },
         {
          "cs": 970788,
          "month": "2021-09-01T00:00:00",
          "pct_diff": -0.11696898789375663,
          "pred_cs": 1099381.5468433378,
          "twitch": 689355
         },
         {
          "cs": 888099,
          "month": "2021-10-01T00:00:00",
          "pct_diff": -0.3906388857135261,
          "pred_cs": 1457426.4408714557,
          "twitch": 1950442
         },
         {
          "cs": 967548,
          "month": "2021-11-01T00:00:00",
          "pct_diff": -0.08233287728801347,
          "pred_cs": 1054356.177805085,
          "twitch": 530769
         },
         {
          "cs": 974624,
          "month": "2021-12-01T00:00:00",
          "pct_diff": -0.05258950411119576,
          "pred_cs": 1028724.089747038,
          "twitch": 440489
         },
         {
          "cs": 1019800,
          "month": "2022-01-01T00:00:00",
          "pct_diff": -0.13890034091527106,
          "pred_cs": 1184299.6211192966,
          "twitch": 988449
         },
         {
          "cs": 1026057,
          "month": "2022-02-01T00:00:00",
          "pct_diff": 0.02108846587863823,
          "pred_cs": 1004865.9193472393,
          "twitch": 356457
         },
         {
          "cs": 1019747,
          "month": "2022-03-01T00:00:00",
          "pct_diff": -0.006726900803132383,
          "pred_cs": 1026653.1941965794,
          "twitch": 433195
         },
         {
          "cs": 1042536,
          "month": "2022-04-01T00:00:00",
          "pct_diff": -0.23777562239371303,
          "pred_cs": 1367754.7328963846,
          "twitch": 1634605
         },
         {
          "cs": 954908,
          "month": "2022-05-01T00:00:00",
          "pct_diff": -0.09198346386871162,
          "pred_cs": 1051641.6408763856,
          "twitch": 521208
         },
         {
          "cs": 928566,
          "month": "2022-06-01T00:00:00",
          "pct_diff": -0.246437313010278,
          "pred_cs": 1232234.578531706,
          "twitch": 1157283
         },
         {
          "cs": 950395,
          "month": "2022-07-01T00:00:00",
          "pct_diff": -0.04493249336353338,
          "pred_cs": 995107.6687207985,
          "twitch": 322087
         },
         {
          "cs": 1060765,
          "month": "2022-08-01T00:00:00",
          "pct_diff": 0.026616287112382737,
          "pred_cs": 1033263.3655985228,
          "twitch": 456477
         },
         {
          "cs": 1124191,
          "month": "2022-09-01T00:00:00",
          "pct_diff": 0.021536015112800802,
          "pred_cs": 1100490.8132151011,
          "twitch": 693262
         },
         {
          "cs": 1110627,
          "month": "2022-10-01T00:00:00",
          "pct_diff": -0.12210972152159282,
          "pred_cs": 1265109.1226627785,
          "twitch": 1273072
         },
         {
          "cs": 1156226,
          "month": "2022-11-01T00:00:00",
          "pct_diff": 0.1743396506752135,
          "pred_cs": 984575.4585014662,
          "twitch": 284991
         },
         {
          "cs": 1090343,
          "month": "2022-12-01T00:00:00",
          "pct_diff": 0.0938092278110723,
          "pred_cs": 996831.0490321892,
          "twitch": 328157
         },
         {
          "cs": 1224207,
          "month": "2023-01-01T00:00:00",
          "pct_diff": 0.14638361253551374,
          "pred_cs": 1067885.990879057,
          "twitch": 578423
         },
         {
          "cs": 1378327,
          "month": "2023-02-01T00:00:00",
          "pct_diff": 0.19181552697448626,
          "pred_cs": 1156493.5753933222,
          "twitch": 890512
         },
         {
          "cs": 1542231,
          "month": "2023-03-01T00:00:00",
          "pct_diff": 0.4400946727140956,
          "pred_cs": 1070923.3422087533,
          "twitch": 589121
         },
         {
          "cs": 1536102,
          "month": "2023-04-01T00:00:00",
          "pct_diff": 0.26695467143579815,
          "pred_cs": 1212436.430941279,
          "twitch": 1087551
         },
         {
          "cs": 1837896,
          "month": "2023-05-01T00:00:00",
          "pct_diff": 0.75,
          "pred_cs": 1042670.977891427,
          "twitch": 489612
         },
         {
          "cs": 1692482,
          "month": "2023-06-01T00:00:00",
          "pct_diff": 0.653808595653965,
          "pred_cs": 1023384.4499585168,
          "twitch": 421682
         },
         {
          "cs": 1245840,
          "month": "2023-07-01T00:00:00",
          "pct_diff": 0.16412666424691247,
          "pred_cs": 1070192.8220207454,
          "twitch": 586548
         },
         {
          "cs": 1557039,
          "month": "2023-08-01T00:00:00",
          "pct_diff": 0.4868503287073159,
          "pred_cs": 1047206.2788954063,
          "twitch": 505586
         },
         {
          "cs": 1580157,
          "month": "2023-09-01T00:00:00",
          "pct_diff": 0.49239237853904855,
          "pred_cs": 1058808.007011445,
          "twitch": 546449
         },
         {
          "cs": 1412825,
          "month": "2023-10-01T00:00:00",
          "pct_diff": 0.39514108584611857,
          "pred_cs": 1012675.3590251817,
          "twitch": 383963
         },
         {
          "cs": 1184525,
          "month": "2023-11-01T00:00:00",
          "pct_diff": 0.19717211145029012,
          "pred_cs": 989435.8452478742,
          "twitch": 302110
         },
         {
          "cs": 1276429,
          "month": "2023-12-01T00:00:00",
          "pct_diff": 0.2886850862214698,
          "pred_cs": 990489.463754558,
          "twitch": 305821
         },
         {
          "cs": 1334752,
          "month": "2024-01-01T00:00:00",
          "pct_diff": 0.21137367904469714,
          "pred_cs": 1101849.9271443642,
          "twitch": 698049
         },
         {
          "cs": 1431938,
          "month": "2024-02-01T00:00:00",
          "pct_diff": 0.06479738530991937,
          "pred_cs": 1344798.568962696,
          "twitch": 1553750
         },
         {
          "cs": 1555064,
          "month": "2024-03-01T00:00:00",
          "pct_diff": 0.5830701837955661,
          "pred_cs": 982308.9436701925,
          "twitch": 277008
         },
         {
          "cs": 1647977,
          "month": "2024-04-01T00:00:00",
          "pct_diff": 0.658231291380315,
          "pred_cs": 993816.127199132,
          "twitch": 317538
         },
         {
          "cs": 1661558,
          "month": "2024-05-01T00:00:00",
          "pct_diff": 0.5425905864418072,
          "pred_cs": 1077121.8329761801,
          "twitch": 610953
         },
         {
          "cs": 1558198,
          "month": "2024-06-01T00:00:00",
          "pct_diff": 0.4392365283035245,
          "pred_cs": 1082655.9563748005,
          "twitch": 630445
         },
         {
          "cs": 1385446,
          "month": "2024-07-01T00:00:00",
          "pct_diff": 0.2503110462345433,
          "pred_cs": 1108081.0684448732,
          "twitch": 719996
         },
         {
          "cs": 1461132,
          "month": "2024-08-01T00:00:00",
          "pct_diff": 0.35083617743106943,
          "pred_cs": 1081650.0360381848,
          "twitch": 626902
         },
         {
          "cs": 1515033,
          "month": "2024-09-01T00:00:00",
          "pct_diff": 0.4758428910463796,
          "pred_cs": 1026554.3908442954,
          "twitch": 432847
         },
         {
          "cs": 1529352,
          "month": "2024-10-01T00:00:00",
          "pct_diff": 0.48741865169884085,
          "pred_cs": 1028192.028016635,
          "twitch": 438615
         },
         {
          "cs": 1593726,
          "month": "2024-11-01T00:00:00",
          "pct_diff": 0.35786473015567444,
          "pred_cs": 1173700.1224100466,
          "twitch": 951116
         },
         {
          "cs": 1777329,
          "month": "2024-12-01T00:00:00",
          "pct_diff": 0.6878965258452178,
          "pred_cs": 1052984.571497947,
          "twitch": 525938
         },
         {
          "cs": 1643797,
          "month": "2025-01-01T00:00:00",
          "pct_diff": 0.39991125245515924,
          "pred_cs": 1174215.1490797112,
          "twitch": 952930
         },
         {
          "cs": 1827625,
          "month": "2025-02-01T00:00:00",
          "pct_diff": 0.6874103005357893,
          "pred_cs": 1083094.60918882,
          "twitch": 631990
         },
         {
          "cs": 1864428,
          "month": "2025-03-01T00:00:00",
          "pct_diff": 0.6373769930648836,
          "pred_cs": 1138667.5200010699,
          "twitch": 827726
         },
         {
          "cs": 1898525,
          "month": "2025-04-01T00:00:00",
          "pct_diff": 0.7124519553930755,
          "pred_cs": 1108658.8409215915,
          "twitch": 722031
         },
         {
          "cs": 1752347,
          "month": "2025-05-01T00:00:00",
          "pct_diff": 0.4255231107501522,
          "pred_cs": 1229265.935280322,
          "twitch": 1146827
         },
         {
          "cs": 1766572,
          "month": "2025-06-01T00:00:00",
          "pct_diff": 0.664179861504921,
          "pred_cs": 1061527.0866230081,
          "twitch": 556026
         },
         {
          "cs": 1506027,
          "month": "2025-07-01T00:00:00",
          "pct_diff": 0.3541693552336603,
          "pred_cs": 1112140.807336566,
          "twitch": 734295
         },
         {
          "cs": 1581554,
          "month": "2025-08-01T00:00:00",
          "pct_diff": 0.5353915311821701,
          "pred_cs": 1030065.6007802044,
          "twitch": 445214
         }
        ],
        "data-a9769d1f7b47bb95b401174db2baa762": [
         {
          "x": 194122,
          "y": 958776.1429305016
         },
         {
          "x": 1950442,
          "y": 1457426.4408714557
         }
        ]
       },
       "height": 460,
       "layer": [
        {
         "data": {
          "name": "data-965136ca9375a74c35d52602a2f69df9"
         },
         "encoding": {
          "color": {
           "field": "pct_diff",
           "legend": {
            "direction": "vertical",
            "format": ".0%",
            "gradientLength": 220,
            "labelColor": "#3b415c",
            "labelFontSize": 12,
            "orient": "right",
            "titleColor": "#3b415c",
            "titleFontSize": 14
           },
           "scale": {
            "domain": [
             -0.9,
             -0.7,
             -0.35,
             0,
             0.35,
             0.7,
             0.9
            ],
            "range": [
             "#7f0000",
             "#b30000",
             "#fcae91",
             "#f0f0f0",
             "#9ecae1",
             "#3182bd",
             "#08519c"
            ]
           },
           "title": "Above/below expected (%)",
           "type": "quantitative"
          },
          "tooltip": [
           {
            "field": "month",
            "format": "%Y %b",
            "title": "Month",
            "type": "temporal"
           },
           {
            "field": "twitch",
            "format": ",.0f",
            "title": "Twitch peak viewers",
            "type": "quantitative"
           },
           {
            "field": "cs",
            "format": ",.0f",
            "title": "CS players",
            "type": "quantitative"
           },
           {
            "field": "pred_cs",
            "format": ",.0f",
            "title": "Predicted players",
            "type": "quantitative"
           },
           {
            "field": "pct_diff",
            "format": ".1%",
            "title": "% above/below",
            "type": "quantitative"
           }
          ],
          "x": {
           "axis": {
            "domain": true,
            "domainColor": "#3b415c",
            "grid": false,
            "labelColor": "#3b415c",
            "labelFontSize": 18,
            "tickColor": "#3b415c",
            "tickCount": 7,
            "ticks": true,
            "titleColor": "#9146FF",
            "titleFontSize": 20,
            "titlePadding": 10
           },
           "field": "twitch",
           "title": "Twitch peak viewers",
           "type": "quantitative"
          },
          "y": {
           "axis": {
            "domain": true,
            "domainColor": "#3b415c",
            "grid": false,
            "labelColor": "#3b415c",
            "labelFontSize": 18,
            "tickColor": "#3b415c",
            "tickCount": 7,
            "ticks": true,
            "titleColor": "#E58716",
            "titleFontSize": 20,
            "titlePadding": 10
           },
           "field": "cs",
           "title": "CS peak players",
           "type": "quantitative"
          }
         },
         "mark": {
          "opacity": 0.95,
          "size": 90,
          "stroke": "white",
          "strokeWidth": 0.6,
          "type": "circle"
         },
         "title": "Twitch peak viewers vs CS — r=0.24, ρ=0.39, R²=0.06, n=106"
        },
        {
         "data": {
          "name": "data-a9769d1f7b47bb95b401174db2baa762"
         },
         "encoding": {
          "x": {
           "field": "x",
           "type": "quantitative"
          },
          "y": {
           "field": "y",
           "type": "quantitative"
          }
         },
         "mark": {
          "color": "#000000",
          "size": 2,
          "type": "line"
         }
        }
       ],
       "width": 640
      },
      "text/plain": [
       "<VegaLite 5 object>\n",
       "\n",
       "If you see this message, it means the renderer has not been properly enabled\n",
       "for the frontend that you are using. For more information, see\n",
       "https://altair-viz.github.io/user_guide/display_frontends.html#troubleshooting\n"
      ]
     },
     "execution_count": 38,
     "metadata": {},
     "output_type": "execute_result"
    }
   ],
   "source": [
    "twitch_chart"
   ]
  },
  {
   "cell_type": "markdown",
   "id": "8eff298b",
   "metadata": {},
   "source": [
    "#### Statistics Tables"
   ]
  },
  {
   "cell_type": "code",
   "execution_count": null,
   "id": "ba70eabc",
   "metadata": {},
   "outputs": [],
   "source": [
    "# Stats for scatterplots: Pearson r, Spearman ρ, R²\n",
    "AX_COLOR = '#3b415c'\n",
    "\n",
    "def corr_stats(df, xcol):\n",
    "    d = df[[xcol, 'cs']].copy()\n",
    "    d[xcol] = pd.to_numeric(d[xcol], errors='coerce')\n",
    "    d['cs']  = pd.to_numeric(d['cs'],  errors='coerce')\n",
    "    d = d.dropna()\n",
    "    n = len(d)\n",
    "    if n < 2:\n",
    "        raise ValueError(f\"Not enough rows for stats after dropna for '{xcol}' (n={n}).\")\n",
    "\n",
    "    pear = float(d[xcol].corr(d['cs'], method='pearson'))\n",
    "    r2 = pear ** 2\n",
    "\n",
    "    out = pd.DataFrame({\n",
    "        'metric': ['Pearson r', 'R²', 'n'],\n",
    "        'value':  [pear, r2, n]\n",
    "    })\n",
    "    return out\n",
    "\n",
    "def stats_chart(stats_df, title):\n",
    "    # format numbers for display (n stays integer)\n",
    "    df = stats_df.copy()\n",
    "    df['display'] = df.apply(\n",
    "        lambda r: f\"{r['value']:.3f}\" if r['metric'] != 'n' else f\"{int(r['value'])}\",\n",
    "        axis=1\n",
    "    )\n",
    "    # simple “table” with text marks\n",
    "    return (\n",
    "        alt.Chart(df)\n",
    "        .mark_text(align='left', baseline='middle', fontSize=14, color=AX_COLOR)\n",
    "        .encode(\n",
    "            y=alt.Y('metric:N', title=None, sort=['Pearson r','Spearman ρ','R²','n'],\n",
    "                    axis=alt.Axis(labelColor=AX_COLOR)),\n",
    "            text='display:N'\n",
    "        )\n",
    "        .properties(width=180, height=110, title=alt.TitleParams(text=title, color=AX_COLOR, fontSize=14))\n",
    "    )\n",
    "\n",
    "# ---- compute & show ----\n",
    "yt_stats = corr_stats(yt, 'youtube')\n",
    "tw_stats = corr_stats(tw, 'twitch')\n"
   ]
  },
  {
   "cell_type": "markdown",
   "id": "a3a9e0b1",
   "metadata": {},
   "source": [
    "#### Youtube-CS Statistics"
   ]
  },
  {
   "cell_type": "code",
   "execution_count": null,
   "id": "9ebf8dbd",
   "metadata": {},
   "outputs": [
    {
     "name": "stdout",
     "output_type": "stream",
     "text": [
      "YouTube vs CS\n"
     ]
    },
    {
     "data": {
      "text/html": [
       "<div>\n",
       "<style scoped>\n",
       "    .dataframe tbody tr th:only-of-type {\n",
       "        vertical-align: middle;\n",
       "    }\n",
       "\n",
       "    .dataframe tbody tr th {\n",
       "        vertical-align: top;\n",
       "    }\n",
       "\n",
       "    .dataframe thead th {\n",
       "        text-align: right;\n",
       "    }\n",
       "</style>\n",
       "<table border=\"1\" class=\"dataframe\">\n",
       "  <thead>\n",
       "    <tr style=\"text-align: right;\">\n",
       "      <th></th>\n",
       "      <th>metric</th>\n",
       "      <th>value</th>\n",
       "    </tr>\n",
       "  </thead>\n",
       "  <tbody>\n",
       "    <tr>\n",
       "      <th>0</th>\n",
       "      <td>Pearson r</td>\n",
       "      <td>0.655496</td>\n",
       "    </tr>\n",
       "    <tr>\n",
       "      <th>1</th>\n",
       "      <td>Spearman ρ</td>\n",
       "      <td>0.529118</td>\n",
       "    </tr>\n",
       "    <tr>\n",
       "      <th>2</th>\n",
       "      <td>R²</td>\n",
       "      <td>0.429675</td>\n",
       "    </tr>\n",
       "    <tr>\n",
       "      <th>3</th>\n",
       "      <td>n</td>\n",
       "      <td>224.000000</td>\n",
       "    </tr>\n",
       "  </tbody>\n",
       "</table>\n",
       "</div>"
      ],
      "text/plain": [
       "       metric       value\n",
       "0   Pearson r    0.655496\n",
       "1  Spearman ρ    0.529118\n",
       "2          R²    0.429675\n",
       "3           n  224.000000"
      ]
     },
     "metadata": {},
     "output_type": "display_data"
    }
   ],
   "source": [
    "display(yt_stats)"
   ]
  },
  {
   "cell_type": "markdown",
   "id": "e399cbd7",
   "metadata": {},
   "source": [
    "#### Twitch-CS Statistics"
   ]
  },
  {
   "cell_type": "code",
   "execution_count": null,
   "id": "9891f46a",
   "metadata": {},
   "outputs": [
    {
     "name": "stdout",
     "output_type": "stream",
     "text": [
      "\n",
      "Twitch vs CS\n"
     ]
    },
    {
     "data": {
      "text/html": [
       "<div>\n",
       "<style scoped>\n",
       "    .dataframe tbody tr th:only-of-type {\n",
       "        vertical-align: middle;\n",
       "    }\n",
       "\n",
       "    .dataframe tbody tr th {\n",
       "        vertical-align: top;\n",
       "    }\n",
       "\n",
       "    .dataframe thead th {\n",
       "        text-align: right;\n",
       "    }\n",
       "</style>\n",
       "<table border=\"1\" class=\"dataframe\">\n",
       "  <thead>\n",
       "    <tr style=\"text-align: right;\">\n",
       "      <th></th>\n",
       "      <th>metric</th>\n",
       "      <th>value</th>\n",
       "    </tr>\n",
       "  </thead>\n",
       "  <tbody>\n",
       "    <tr>\n",
       "      <th>0</th>\n",
       "      <td>Pearson r</td>\n",
       "      <td>0.235795</td>\n",
       "    </tr>\n",
       "    <tr>\n",
       "      <th>1</th>\n",
       "      <td>Spearman ρ</td>\n",
       "      <td>0.394473</td>\n",
       "    </tr>\n",
       "    <tr>\n",
       "      <th>2</th>\n",
       "      <td>R²</td>\n",
       "      <td>0.055599</td>\n",
       "    </tr>\n",
       "    <tr>\n",
       "      <th>3</th>\n",
       "      <td>n</td>\n",
       "      <td>106.000000</td>\n",
       "    </tr>\n",
       "  </tbody>\n",
       "</table>\n",
       "</div>"
      ],
      "text/plain": [
       "       metric       value\n",
       "0   Pearson r    0.235795\n",
       "1  Spearman ρ    0.394473\n",
       "2          R²    0.055599\n",
       "3           n  106.000000"
      ]
     },
     "metadata": {},
     "output_type": "display_data"
    }
   ],
   "source": [
    "display(tw_stats)"
   ]
  }
 ],
 "metadata": {
  "kernelspec": {
   "display_name": ".venv",
   "language": "python",
   "name": "python3"
  },
  "language_info": {
   "codemirror_mode": {
    "name": "ipython",
    "version": 3
   },
   "file_extension": ".py",
   "mimetype": "text/x-python",
   "name": "python",
   "nbconvert_exporter": "python",
   "pygments_lexer": "ipython3",
   "version": "3.12.3"
  }
 },
 "nbformat": 4,
 "nbformat_minor": 5
}
