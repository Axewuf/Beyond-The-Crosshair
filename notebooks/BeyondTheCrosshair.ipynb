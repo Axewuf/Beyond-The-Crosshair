{
 "cells": [
  {
   "cell_type": "markdown",
   "id": "aa97259c",
   "metadata": {},
   "source": [
    "# Beyond The Crosshair"
   ]
  },
  {
   "cell_type": "code",
   "execution_count": null,
   "id": "4a8c56f6",
   "metadata": {},
   "outputs": [],
   "source": [
    "import pandas as pd\n",
    "import numpy as np\n",
    "import altair as alt"
   ]
  },
  {
   "cell_type": "markdown",
   "id": "f392f6eb",
   "metadata": {},
   "source": [
    "## Datasets"
   ]
  },
  {
   "cell_type": "markdown",
   "id": "180cccb3",
   "metadata": {},
   "source": [
    "### Counter-Strike Playerbase Data from SteamDB"
   ]
  },
  {
   "cell_type": "code",
   "execution_count": null,
   "id": "a3bdbce8",
   "metadata": {},
   "outputs": [],
   "source": [
    "cs_data = pd.read_csv(\"assets/SteamDB Counter-Strike.csv\")\n",
    "cs2_data = pd.read_csv(\"assets/SteamDB Counter-Strike 2.csv\")\n",
    "css_data = pd.read_csv(\"assets/SteamDB Counter-Strike Source.csv\")\n",
    "cscz_data = pd.read_csv(\"assets/SteamDB Counter-Strike Condition Zero.csv\")"
   ]
  },
  {
   "cell_type": "markdown",
   "id": "9119b469",
   "metadata": {},
   "source": [
    "### Rival Game Data from IGDB"
   ]
  },
  {
   "cell_type": "code",
   "execution_count": null,
   "id": "8c8dfea3",
   "metadata": {},
   "outputs": [],
   "source": [
    "game_data = pd.read_csv(\"assets/igdb_shooters.csv\")"
   ]
  },
  {
   "cell_type": "markdown",
   "id": "a5b5d73a",
   "metadata": {},
   "source": [
    "### Twitch Viewership Data from TwitchTracker"
   ]
  },
  {
   "cell_type": "code",
   "execution_count": null,
   "id": "f8f4d4ca",
   "metadata": {},
   "outputs": [],
   "source": [
    "twitch_data = pd.read_csv(\"assets/twitchtracker counterstrike2.csv\")"
   ]
  },
  {
   "cell_type": "markdown",
   "id": "fa48fc74",
   "metadata": {},
   "source": [
    "### Youtube Video Data from Youtube Data API"
   ]
  },
  {
   "cell_type": "code",
   "execution_count": null,
   "id": "92aec4c6",
   "metadata": {},
   "outputs": [],
   "source": [
    "youtube_data = None  # Placeholder for Youtube Data API data loading, wil do soon"
   ]
  }
 ],
 "metadata": {
  "kernelspec": {
   "display_name": "Python 3",
   "language": "python",
   "name": "python3"
  },
  "language_info": {
   "name": "python",
   "version": "3.13.2"
  }
 },
 "nbformat": 4,
 "nbformat_minor": 5
}
