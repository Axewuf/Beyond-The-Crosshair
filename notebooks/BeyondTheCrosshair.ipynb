{
 "cells": [
  {
   "cell_type": "markdown",
   "id": "aa97259c",
   "metadata": {},
   "source": [
    "# Beyond The Crosshair"
   ]
  },
  {
   "cell_type": "code",
   "execution_count": 212,
   "metadata": {},
   "outputs": [],
   "source": [
    "import pandas as pd"
   ]
  },
  {
   "cell_type": "markdown",
   "metadata": {},
   "source": [
    "## Clean Data Loading"
   ]
  },
  {
   "cell_type": "code",
   "execution_count": null,
   "metadata": {},
   "outputs": [],
   "source": [
    "cs16_data = pd.read_csv(\"../assets/clean/SteamDB_Counter-Strike_1.6_Clean.csv\", parse_dates=[\"month\"])\n",
    "css_data = pd.read_csv(\"../assets/clean/SteamDB_Counter-Strike_Source_Clean.csv\", parse_dates=[\"month\"])\n",
    "cscz_data = pd.read_csv(\"../assets/clean/SteamDB_Counter-Strike_Condition_Zero_Clean.csv\", parse_dates=[\"month\"])\n",
    "csgo_data = pd.read_csv(\"../assets/clean/SteamDB_Counter-Strike_Global_Offensive_Clean.csv\", parse_dates=[\"month\"])\n",
    "cs2_data = pd.read_csv(\"../assets/clean/SteamDB_Counter-Strike_2_Clean.csv\", parse_dates=[\"month\"])\n",
    "cs_merged_data = pd.read_csv(\"../assets/clean/SteamDB_Counter-Strike_Clean.csv\", parse_dates=[\"month\"])\n",
    "\n",
    "v_data = pd.read_csv(\"../assets/clean/GG_Valorant_Clean.csv\", parse_dates=[\"month\"])\n",
    "fn_data = pd.read_csv(\"../assets/clean/GG_Fortnite_Clean.csv\", parse_dates=[\"month\"])\n",
    "rss_data = pd.read_csv(\"../assets/clean/GG_Rainbow_Six_Siege_Clean.csv\", parse_dates=[\"month\"])\n",
    "cod_data = pd.read_csv(\"../assets/clean/SteamDB_Call_of_Duty_Clean.csv\", parse_dates=[\"month\"])\n",
    "bf_data = pd.read_csv(\"../assets/clean/SteamDB_Battlefield_Clean.csv\", parse_dates=[\"month\"])\n",
    "\n",
    "igdb_data = pd.read_csv(\"../assets/clean/IGDB_Clean.csv\")\n",
    "twitch_cs_data = pd.read_csv(\"../assets/clean/Twitch_Counter-Strike_Clean.csv\", parse_dates=[\"month\"])\n",
    "youtube_cs_data = pd.read_csv(\"../assets/clean/Youtube_Counter-Strike_Clean.csv\", parse_dates=[\"month\"])"
   ]
  },
  {
   "cell_type": "code",
   "execution_count": null,
   "metadata": {},
   "outputs": [],
   "source": [
    "merged_youtube_twitch = pd.concat([youtube_cs_data.set_index(\"month\"), twitch_cs_data.set_index(\"month\")], axis=1).reset_index()\n",
    "merged_youtube_twitch = merged_youtube_twitch[merged_youtube_twitch['month'] >= pd.to_datetime(\"2016-11-01\")]\n",
    "\n",
    "merged_cs_youtube = pd.merge(cs_merged_data[['month','peak']], youtube_cs_data[['month','viewCount']], on=\"month\", how=\"inner\")\n",
    "merged_cs_youtube = merged_cs_youtube.sort_values(by=\"viewCount\", ascending=False)\n",
    "\n",
    "merged_cs_twitch = pd.merge(cs_merged_data[['month','peak']], twitch_cs_data[['month','peak viewers']], on=\"month\", how=\"inner\")\n",
    "merged_cs_twitch = merged_cs_twitch.sort_values(by=\"peak viewers\", ascending=False)"
   ]
  },
  {
   "cell_type": "markdown",
   "metadata": {},
   "source": [
    "## Visualizations"
   ]
  },
  {
   "cell_type": "code",
   "execution_count": 84,
   "id": "d5159f09",
   "metadata": {},
   "outputs": [
    {
     "data": {
      "application/vnd.vegalite.v5+json": {
       "$schema": "https://vega.github.io/schema/vega-lite/v5.20.1.json",
       "config": {
        "view": {
         "continuousHeight": 300,
         "continuousWidth": 300
        }
       },
       "data": {
        "name": "data-176e636b130d9e8fa30d87ba2880bfbc"
       },
       "datasets": {
        "data-176e636b130d9e8fa30d87ba2880bfbc": [
         {
          "game": "Counter-Strike (1.6)",
          "month": "2004-01-01T00:00:00",
          "peak": 23241
         },
         {
          "game": "Counter-Strike (1.6)",
          "month": "2004-02-01T00:00:00",
          "peak": 39709
         },
         {
          "game": "Counter-Strike (1.6)",
          "month": "2004-04-01T00:00:00",
          "peak": 74926
         },
         {
          "game": "Counter-Strike (1.6)",
          "month": "2004-06-01T00:00:00",
          "peak": 66876
         },
         {
          "game": "Counter-Strike (1.6)",
          "month": "2004-07-01T00:00:00",
          "peak": 69685
         },
         {
          "game": "Counter-Strike (1.6)",
          "month": "2004-08-01T00:00:00",
          "peak": 92049
         },
         {
          "game": "Counter-Strike (1.6)",
          "month": "2004-09-01T00:00:00",
          "peak": 96451
         },
         {
          "game": "Counter-Strike (1.6)",
          "month": "2004-10-01T00:00:00",
          "peak": 79947
         },
         {
          "game": "Counter-Strike (1.6)",
          "month": "2004-11-01T00:00:00",
          "peak": 77819
         },
         {
          "game": "Counter-Strike (1.6)",
          "month": "2004-12-01T00:00:00",
          "peak": 117157
         },
         {
          "game": "Counter-Strike (1.6)",
          "month": "2005-01-01T00:00:00",
          "peak": 79165
         },
         {
          "game": "Counter-Strike (1.6)",
          "month": "2005-02-01T00:00:00",
          "peak": 87036
         },
         {
          "game": "Counter-Strike (1.6)",
          "month": "2005-03-01T00:00:00",
          "peak": 103492
         },
         {
          "game": "Counter-Strike (1.6)",
          "month": "2005-04-01T00:00:00",
          "peak": 87284
         },
         {
          "game": "Counter-Strike (1.6)",
          "month": "2005-05-01T00:00:00",
          "peak": 105295
         },
         {
          "game": "Counter-Strike (1.6)",
          "month": "2005-06-01T00:00:00",
          "peak": 80012
         },
         {
          "game": "Counter-Strike (1.6)",
          "month": "2005-07-01T00:00:00",
          "peak": 110858
         },
         {
          "game": "Counter-Strike (1.6)",
          "month": "2005-08-01T00:00:00",
          "peak": 132066
         },
         {
          "game": "Counter-Strike (1.6)",
          "month": "2005-09-01T00:00:00",
          "peak": 118588
         },
         {
          "game": "Counter-Strike (1.6)",
          "month": "2005-11-01T00:00:00",
          "peak": 95543
         },
         {
          "game": "Counter-Strike (1.6)",
          "month": "2005-12-01T00:00:00",
          "peak": 126053
         },
         {
          "game": "Counter-Strike (1.6)",
          "month": "2006-08-01T00:00:00",
          "peak": 132876
         },
         {
          "game": "Counter-Strike (1.6)",
          "month": "2006-11-01T00:00:00",
          "peak": 107770
         },
         {
          "game": "Counter-Strike (1.6)",
          "month": "2006-12-01T00:00:00",
          "peak": 109100
         },
         {
          "game": "Counter-Strike (1.6)",
          "month": "2007-01-01T00:00:00",
          "peak": 134820
         },
         {
          "game": "Counter-Strike (1.6)",
          "month": "2007-02-01T00:00:00",
          "peak": 188125
         },
         {
          "game": "Counter-Strike (1.6)",
          "month": "2007-03-01T00:00:00",
          "peak": 174450
         },
         {
          "game": "Counter-Strike (1.6)",
          "month": "2007-04-01T00:00:00",
          "peak": 78735
         },
         {
          "game": "Counter-Strike (1.6)",
          "month": "2007-05-01T00:00:00",
          "peak": 184843
         },
         {
          "game": "Counter-Strike (1.6)",
          "month": "2007-06-01T00:00:00",
          "peak": 232534
         },
         {
          "game": "Counter-Strike (1.6)",
          "month": "2007-07-01T00:00:00",
          "peak": 241132
         },
         {
          "game": "Counter-Strike (1.6)",
          "month": "2007-08-01T00:00:00",
          "peak": 202644
         },
         {
          "game": "Counter-Strike (1.6)",
          "month": "2007-09-01T00:00:00",
          "peak": 283680
         },
         {
          "game": "Counter-Strike (1.6)",
          "month": "2007-10-01T00:00:00",
          "peak": 223730
         },
         {
          "game": "Counter-Strike (1.6)",
          "month": "2007-11-01T00:00:00",
          "peak": 259403
         },
         {
          "game": "Counter-Strike (1.6)",
          "month": "2007-12-01T00:00:00",
          "peak": 319586
         },
         {
          "game": "Counter-Strike (1.6)",
          "month": "2008-01-01T00:00:00",
          "peak": 225274
         },
         {
          "game": "Counter-Strike (1.6)",
          "month": "2008-09-01T00:00:00",
          "peak": 73041
         },
         {
          "game": "Counter-Strike (1.6)",
          "month": "2008-10-01T00:00:00",
          "peak": 76504
         },
         {
          "game": "Counter-Strike (1.6)",
          "month": "2008-11-01T00:00:00",
          "peak": 47245
         },
         {
          "game": "Counter-Strike (1.6)",
          "month": "2008-12-01T00:00:00",
          "peak": 54865
         },
         {
          "game": "Counter-Strike (1.6)",
          "month": "2009-01-01T00:00:00",
          "peak": 48405
         },
         {
          "game": "Counter-Strike (1.6)",
          "month": "2009-02-01T00:00:00",
          "peak": 75123
         },
         {
          "game": "Counter-Strike (1.6)",
          "month": "2009-03-01T00:00:00",
          "peak": 75463
         },
         {
          "game": "Counter-Strike (1.6)",
          "month": "2009-04-01T00:00:00",
          "peak": 49447
         },
         {
          "game": "Counter-Strike (1.6)",
          "month": "2009-05-01T00:00:00",
          "peak": 60245
         },
         {
          "game": "Counter-Strike (1.6)",
          "month": "2009-06-01T00:00:00",
          "peak": 64574
         },
         {
          "game": "Counter-Strike (1.6)",
          "month": "2009-07-01T00:00:00",
          "peak": 49131
         },
         {
          "game": "Counter-Strike (1.6)",
          "month": "2009-08-01T00:00:00",
          "peak": 62056
         },
         {
          "game": "Counter-Strike (1.6)",
          "month": "2009-09-01T00:00:00",
          "peak": 58498
         },
         {
          "game": "Counter-Strike (1.6)",
          "month": "2009-10-01T00:00:00",
          "peak": 63832
         },
         {
          "game": "Counter-Strike (1.6)",
          "month": "2009-11-01T00:00:00",
          "peak": 40578
         },
         {
          "game": "Counter-Strike (1.6)",
          "month": "2009-12-01T00:00:00",
          "peak": 69325
         },
         {
          "game": "Counter-Strike (1.6)",
          "month": "2010-01-01T00:00:00",
          "peak": 73033
         },
         {
          "game": "Counter-Strike (1.6)",
          "month": "2010-02-01T00:00:00",
          "peak": 64069
         },
         {
          "game": "Counter-Strike (1.6)",
          "month": "2010-03-01T00:00:00",
          "peak": 75903
         },
         {
          "game": "Counter-Strike (1.6)",
          "month": "2010-04-01T00:00:00",
          "peak": 73232
         },
         {
          "game": "Counter-Strike (1.6)",
          "month": "2010-05-01T00:00:00",
          "peak": 192924
         },
         {
          "game": "Counter-Strike (1.6)",
          "month": "2010-06-01T00:00:00",
          "peak": 63869
         },
         {
          "game": "Counter-Strike (1.6)",
          "month": "2010-07-01T00:00:00",
          "peak": 62730
         },
         {
          "game": "Counter-Strike (1.6)",
          "month": "2010-08-01T00:00:00",
          "peak": 67121
         },
         {
          "game": "Counter-Strike (1.6)",
          "month": "2010-09-01T00:00:00",
          "peak": 70849
         },
         {
          "game": "Counter-Strike (1.6)",
          "month": "2010-10-01T00:00:00",
          "peak": 74285
         },
         {
          "game": "Counter-Strike (1.6)",
          "month": "2010-11-01T00:00:00",
          "peak": 75800
         },
         {
          "game": "Counter-Strike (1.6)",
          "month": "2010-12-01T00:00:00",
          "peak": 76667
         },
         {
          "game": "Counter-Strike (1.6)",
          "month": "2011-01-01T00:00:00",
          "peak": 83905
         },
         {
          "game": "Counter-Strike (1.6)",
          "month": "2011-02-01T00:00:00",
          "peak": 83324
         },
         {
          "game": "Counter-Strike (1.6)",
          "month": "2011-03-01T00:00:00",
          "peak": 81839
         },
         {
          "game": "Counter-Strike (1.6)",
          "month": "2011-04-01T00:00:00",
          "peak": 74934
         },
         {
          "game": "Counter-Strike (1.6)",
          "month": "2011-05-01T00:00:00",
          "peak": 67370
         },
         {
          "game": "Counter-Strike (1.6)",
          "month": "2011-06-01T00:00:00",
          "peak": 69585
         },
         {
          "game": "Counter-Strike (1.6)",
          "month": "2011-07-01T00:00:00",
          "peak": 60630
         },
         {
          "game": "Counter-Strike (1.6)",
          "month": "2011-08-01T00:00:00",
          "peak": 62959
         },
         {
          "game": "Counter-Strike (1.6)",
          "month": "2011-09-01T00:00:00",
          "peak": 63909
         },
         {
          "game": "Counter-Strike (1.6)",
          "month": "2011-10-01T00:00:00",
          "peak": 68660
         },
         {
          "game": "Counter-Strike (1.6)",
          "month": "2011-11-01T00:00:00",
          "peak": 70244
         },
         {
          "game": "Counter-Strike (1.6)",
          "month": "2011-12-01T00:00:00",
          "peak": 72794
         },
         {
          "game": "Counter-Strike (1.6)",
          "month": "2012-01-01T00:00:00",
          "peak": 80089
         },
         {
          "game": "Counter-Strike (1.6)",
          "month": "2012-02-01T00:00:00",
          "peak": 79920
         },
         {
          "game": "Counter-Strike (1.6)",
          "month": "2012-03-01T00:00:00",
          "peak": 79911
         },
         {
          "game": "Counter-Strike (1.6)",
          "month": "2012-04-01T00:00:00",
          "peak": 72325
         },
         {
          "game": "Counter-Strike (1.6)",
          "month": "2012-05-01T00:00:00",
          "peak": 62542
         },
         {
          "game": "Counter-Strike (1.6)",
          "month": "2012-06-01T00:00:00",
          "peak": 60301
         },
         {
          "game": "Counter-Strike (1.6)",
          "month": "2012-07-01T00:00:00",
          "peak": 54614
         },
         {
          "game": "Counter-Strike (1.6)",
          "month": "2012-08-01T00:00:00",
          "peak": 55321
         },
         {
          "game": "Counter-Strike (1.6)",
          "month": "2012-09-01T00:00:00",
          "peak": 56053
         },
         {
          "game": "Counter-Strike (1.6)",
          "month": "2012-10-01T00:00:00",
          "peak": 56957
         },
         {
          "game": "Counter-Strike (1.6)",
          "month": "2012-11-01T00:00:00",
          "peak": 61189
         },
         {
          "game": "Counter-Strike (1.6)",
          "month": "2012-12-01T00:00:00",
          "peak": 65188
         },
         {
          "game": "Counter-Strike (1.6)",
          "month": "2013-01-01T00:00:00",
          "peak": 65100
         },
         {
          "game": "Counter-Strike (1.6)",
          "month": "2013-02-01T00:00:00",
          "peak": 60780
         },
         {
          "game": "Counter-Strike (1.6)",
          "month": "2013-03-01T00:00:00",
          "peak": 49482
         },
         {
          "game": "Counter-Strike (1.6)",
          "month": "2013-04-01T00:00:00",
          "peak": 44392
         },
         {
          "game": "Counter-Strike (1.6)",
          "month": "2013-05-01T00:00:00",
          "peak": 36982
         },
         {
          "game": "Counter-Strike (1.6)",
          "month": "2013-06-01T00:00:00",
          "peak": 35490
         },
         {
          "game": "Counter-Strike (1.6)",
          "month": "2013-07-01T00:00:00",
          "peak": 34230
         },
         {
          "game": "Counter-Strike (1.6)",
          "month": "2013-08-01T00:00:00",
          "peak": 36983
         },
         {
          "game": "Counter-Strike (1.6)",
          "month": "2013-09-01T00:00:00",
          "peak": 37439
         },
         {
          "game": "Counter-Strike (1.6)",
          "month": "2013-10-01T00:00:00",
          "peak": 39826
         },
         {
          "game": "Counter-Strike (1.6)",
          "month": "2013-11-01T00:00:00",
          "peak": 40743
         },
         {
          "game": "Counter-Strike (1.6)",
          "month": "2013-12-01T00:00:00",
          "peak": 44491
         },
         {
          "game": "Counter-Strike (1.6)",
          "month": "2014-01-01T00:00:00",
          "peak": 44712
         },
         {
          "game": "Counter-Strike (1.6)",
          "month": "2014-02-01T00:00:00",
          "peak": 41963
         },
         {
          "game": "Counter-Strike (1.6)",
          "month": "2014-03-01T00:00:00",
          "peak": 39619
         },
         {
          "game": "Counter-Strike (1.6)",
          "month": "2014-04-01T00:00:00",
          "peak": 35926
         },
         {
          "game": "Counter-Strike (1.6)",
          "month": "2014-05-01T00:00:00",
          "peak": 33969
         },
         {
          "game": "Counter-Strike (1.6)",
          "month": "2014-06-01T00:00:00",
          "peak": 31806
         },
         {
          "game": "Counter-Strike (1.6)",
          "month": "2014-07-01T00:00:00",
          "peak": 29564
         },
         {
          "game": "Counter-Strike (1.6)",
          "month": "2014-08-01T00:00:00",
          "peak": 30379
         },
         {
          "game": "Counter-Strike (1.6)",
          "month": "2014-09-01T00:00:00",
          "peak": 31690
         },
         {
          "game": "Counter-Strike (1.6)",
          "month": "2014-10-01T00:00:00",
          "peak": 33495
         },
         {
          "game": "Counter-Strike (1.6)",
          "month": "2014-11-01T00:00:00",
          "peak": 36393
         },
         {
          "game": "Counter-Strike (1.6)",
          "month": "2014-12-01T00:00:00",
          "peak": 37018
         },
         {
          "game": "Counter-Strike (1.6)",
          "month": "2015-01-01T00:00:00",
          "peak": 37107
         },
         {
          "game": "Counter-Strike (1.6)",
          "month": "2015-02-01T00:00:00",
          "peak": 34271
         },
         {
          "game": "Counter-Strike (1.6)",
          "month": "2015-03-01T00:00:00",
          "peak": 30333
         },
         {
          "game": "Counter-Strike (1.6)",
          "month": "2015-04-01T00:00:00",
          "peak": 28286
         },
         {
          "game": "Counter-Strike (1.6)",
          "month": "2015-05-01T00:00:00",
          "peak": 26465
         },
         {
          "game": "Counter-Strike (1.6)",
          "month": "2015-06-01T00:00:00",
          "peak": 24200
         },
         {
          "game": "Counter-Strike (1.6)",
          "month": "2015-07-01T00:00:00",
          "peak": 23623
         },
         {
          "game": "Counter-Strike (1.6)",
          "month": "2015-08-01T00:00:00",
          "peak": 22650
         },
         {
          "game": "Counter-Strike (1.6)",
          "month": "2015-09-01T00:00:00",
          "peak": 23130
         },
         {
          "game": "Counter-Strike (1.6)",
          "month": "2015-10-01T00:00:00",
          "peak": 24278
         },
         {
          "game": "Counter-Strike (1.6)",
          "month": "2015-11-01T00:00:00",
          "peak": 26133
         },
         {
          "game": "Counter-Strike (1.6)",
          "month": "2015-12-01T00:00:00",
          "peak": 27821
         },
         {
          "game": "Counter-Strike (1.6)",
          "month": "2016-01-01T00:00:00",
          "peak": 29670
         },
         {
          "game": "Counter-Strike (1.6)",
          "month": "2016-02-01T00:00:00",
          "peak": 29617
         },
         {
          "game": "Counter-Strike (1.6)",
          "month": "2016-03-01T00:00:00",
          "peak": 28136
         },
         {
          "game": "Counter-Strike (1.6)",
          "month": "2016-04-01T00:00:00",
          "peak": 24994
         },
         {
          "game": "Counter-Strike (1.6)",
          "month": "2016-05-01T00:00:00",
          "peak": 22998
         },
         {
          "game": "Counter-Strike (1.6)",
          "month": "2016-06-01T00:00:00",
          "peak": 22585
         },
         {
          "game": "Counter-Strike (1.6)",
          "month": "2016-07-01T00:00:00",
          "peak": 21136
         },
         {
          "game": "Counter-Strike (1.6)",
          "month": "2016-08-01T00:00:00",
          "peak": 21491
         },
         {
          "game": "Counter-Strike (1.6)",
          "month": "2016-09-01T00:00:00",
          "peak": 21984
         },
         {
          "game": "Counter-Strike (1.6)",
          "month": "2016-10-01T00:00:00",
          "peak": 23413
         },
         {
          "game": "Counter-Strike (1.6)",
          "month": "2016-11-01T00:00:00",
          "peak": 24792
         },
         {
          "game": "Counter-Strike (1.6)",
          "month": "2016-12-01T00:00:00",
          "peak": 26909
         },
         {
          "game": "Counter-Strike (1.6)",
          "month": "2017-01-01T00:00:00",
          "peak": 29543
         },
         {
          "game": "Counter-Strike (1.6)",
          "month": "2017-02-01T00:00:00",
          "peak": 28071
         },
         {
          "game": "Counter-Strike (1.6)",
          "month": "2017-03-01T00:00:00",
          "peak": 26504
         },
         {
          "game": "Counter-Strike (1.6)",
          "month": "2017-04-01T00:00:00",
          "peak": 22731
         },
         {
          "game": "Counter-Strike (1.6)",
          "month": "2017-05-01T00:00:00",
          "peak": 22099
         },
         {
          "game": "Counter-Strike (1.6)",
          "month": "2017-06-01T00:00:00",
          "peak": 20312
         },
         {
          "game": "Counter-Strike (1.6)",
          "month": "2017-07-01T00:00:00",
          "peak": 20372
         },
         {
          "game": "Counter-Strike (1.6)",
          "month": "2017-08-01T00:00:00",
          "peak": 18465
         },
         {
          "game": "Counter-Strike (1.6)",
          "month": "2017-09-01T00:00:00",
          "peak": 18755
         },
         {
          "game": "Counter-Strike (1.6)",
          "month": "2017-10-01T00:00:00",
          "peak": 20891
         },
         {
          "game": "Counter-Strike (1.6)",
          "month": "2017-11-01T00:00:00",
          "peak": 24917
         },
         {
          "game": "Counter-Strike (1.6)",
          "month": "2017-12-01T00:00:00",
          "peak": 25817
         },
         {
          "game": "Counter-Strike (1.6)",
          "month": "2018-01-01T00:00:00",
          "peak": 27622
         },
         {
          "game": "Counter-Strike (1.6)",
          "month": "2018-02-01T00:00:00",
          "peak": 26457
         },
         {
          "game": "Counter-Strike (1.6)",
          "month": "2018-03-01T00:00:00",
          "peak": 25896
         },
         {
          "game": "Counter-Strike (1.6)",
          "month": "2018-04-01T00:00:00",
          "peak": 22707
         },
         {
          "game": "Counter-Strike (1.6)",
          "month": "2018-05-01T00:00:00",
          "peak": 18868
         },
         {
          "game": "Counter-Strike (1.6)",
          "month": "2018-06-01T00:00:00",
          "peak": 18856
         },
         {
          "game": "Counter-Strike (1.6)",
          "month": "2018-07-01T00:00:00",
          "peak": 18327
         },
         {
          "game": "Counter-Strike (1.6)",
          "month": "2018-08-01T00:00:00",
          "peak": 17136
         },
         {
          "game": "Counter-Strike (1.6)",
          "month": "2018-09-01T00:00:00",
          "peak": 17597
         },
         {
          "game": "Counter-Strike (1.6)",
          "month": "2018-10-01T00:00:00",
          "peak": 18183
         },
         {
          "game": "Counter-Strike (1.6)",
          "month": "2018-11-01T00:00:00",
          "peak": 20646
         },
         {
          "game": "Counter-Strike (1.6)",
          "month": "2018-12-01T00:00:00",
          "peak": 21865
         },
         {
          "game": "Counter-Strike (1.6)",
          "month": "2019-01-01T00:00:00",
          "peak": 23144
         },
         {
          "game": "Counter-Strike (1.6)",
          "month": "2019-02-01T00:00:00",
          "peak": 21470
         },
         {
          "game": "Counter-Strike (1.6)",
          "month": "2019-03-01T00:00:00",
          "peak": 19348
         },
         {
          "game": "Counter-Strike (1.6)",
          "month": "2019-04-01T00:00:00",
          "peak": 17386
         },
         {
          "game": "Counter-Strike (1.6)",
          "month": "2019-05-01T00:00:00",
          "peak": 16690
         },
         {
          "game": "Counter-Strike (1.6)",
          "month": "2019-06-01T00:00:00",
          "peak": 15091
         },
         {
          "game": "Counter-Strike (1.6)",
          "month": "2019-07-01T00:00:00",
          "peak": 15371
         },
         {
          "game": "Counter-Strike (1.6)",
          "month": "2019-08-01T00:00:00",
          "peak": 14971
         },
         {
          "game": "Counter-Strike (1.6)",
          "month": "2019-09-01T00:00:00",
          "peak": 14731
         },
         {
          "game": "Counter-Strike (1.6)",
          "month": "2019-10-01T00:00:00",
          "peak": 14937
         },
         {
          "game": "Counter-Strike (1.6)",
          "month": "2019-11-01T00:00:00",
          "peak": 16895
         },
         {
          "game": "Counter-Strike (1.6)",
          "month": "2019-12-01T00:00:00",
          "peak": 18365
         },
         {
          "game": "Counter-Strike (1.6)",
          "month": "2020-01-01T00:00:00",
          "peak": 19141
         },
         {
          "game": "Counter-Strike (1.6)",
          "month": "2020-02-01T00:00:00",
          "peak": 17762
         },
         {
          "game": "Counter-Strike (1.6)",
          "month": "2020-03-01T00:00:00",
          "peak": 30626
         },
         {
          "game": "Counter-Strike (1.6)",
          "month": "2020-04-01T00:00:00",
          "peak": 31930
         },
         {
          "game": "Counter-Strike (1.6)",
          "month": "2020-05-01T00:00:00",
          "peak": 29882
         },
         {
          "game": "Counter-Strike (1.6)",
          "month": "2020-06-01T00:00:00",
          "peak": 21059
         },
         {
          "game": "Counter-Strike (1.6)",
          "month": "2020-07-01T00:00:00",
          "peak": 18212
         },
         {
          "game": "Counter-Strike (1.6)",
          "month": "2020-08-01T00:00:00",
          "peak": 16560
         },
         {
          "game": "Counter-Strike (1.6)",
          "month": "2020-09-01T00:00:00",
          "peak": 16295
         },
         {
          "game": "Counter-Strike (1.6)",
          "month": "2020-10-01T00:00:00",
          "peak": 18030
         },
         {
          "game": "Counter-Strike (1.6)",
          "month": "2020-11-01T00:00:00",
          "peak": 20916
         },
         {
          "game": "Counter-Strike (1.6)",
          "month": "2020-12-01T00:00:00",
          "peak": 22833
         },
         {
          "game": "Counter-Strike (1.6)",
          "month": "2021-01-01T00:00:00",
          "peak": 23903
         },
         {
          "game": "Counter-Strike (1.6)",
          "month": "2021-02-01T00:00:00",
          "peak": 21860
         },
         {
          "game": "Counter-Strike (1.6)",
          "month": "2021-03-01T00:00:00",
          "peak": 22393
         },
         {
          "game": "Counter-Strike (1.6)",
          "month": "2021-04-01T00:00:00",
          "peak": 21698
         },
         {
          "game": "Counter-Strike (1.6)",
          "month": "2021-05-01T00:00:00",
          "peak": 18140
         },
         {
          "game": "Counter-Strike (1.6)",
          "month": "2021-06-01T00:00:00",
          "peak": 16439
         },
         {
          "game": "Counter-Strike (1.6)",
          "month": "2021-07-01T00:00:00",
          "peak": 14998
         },
         {
          "game": "Counter-Strike (1.6)",
          "month": "2021-08-01T00:00:00",
          "peak": 14127
         },
         {
          "game": "Counter-Strike (1.6)",
          "month": "2021-09-01T00:00:00",
          "peak": 14740
         },
         {
          "game": "Counter-Strike (1.6)",
          "month": "2021-10-01T00:00:00",
          "peak": 15759
         },
         {
          "game": "Counter-Strike (1.6)",
          "month": "2021-11-01T00:00:00",
          "peak": 16406
         },
         {
          "game": "Counter-Strike (1.6)",
          "month": "2021-12-01T00:00:00",
          "peak": 16648
         },
         {
          "game": "Counter-Strike (1.6)",
          "month": "2022-01-01T00:00:00",
          "peak": 18530
         },
         {
          "game": "Counter-Strike (1.6)",
          "month": "2022-02-01T00:00:00",
          "peak": 18743
         },
         {
          "game": "Counter-Strike (1.6)",
          "month": "2022-03-01T00:00:00",
          "peak": 16957
         },
         {
          "game": "Counter-Strike (1.6)",
          "month": "2022-04-01T00:00:00",
          "peak": 16696
         },
         {
          "game": "Counter-Strike (1.6)",
          "month": "2022-05-01T00:00:00",
          "peak": 14212
         },
         {
          "game": "Counter-Strike (1.6)",
          "month": "2022-06-01T00:00:00",
          "peak": 13707
         },
         {
          "game": "Counter-Strike (1.6)",
          "month": "2022-07-01T00:00:00",
          "peak": 14028
         },
         {
          "game": "Counter-Strike (1.6)",
          "month": "2022-08-01T00:00:00",
          "peak": 13358
         },
         {
          "game": "Counter-Strike (1.6)",
          "month": "2022-09-01T00:00:00",
          "peak": 13512
         },
         {
          "game": "Counter-Strike (1.6)",
          "month": "2022-10-01T00:00:00",
          "peak": 13846
         },
         {
          "game": "Counter-Strike (1.6)",
          "month": "2022-11-01T00:00:00",
          "peak": 16122
         },
         {
          "game": "Counter-Strike (1.6)",
          "month": "2022-12-01T00:00:00",
          "peak": 16250
         },
         {
          "game": "Counter-Strike (1.6)",
          "month": "2023-01-01T00:00:00",
          "peak": 17171
         },
         {
          "game": "Counter-Strike (1.6)",
          "month": "2023-02-01T00:00:00",
          "peak": 16364
         },
         {
          "game": "Counter-Strike (1.6)",
          "month": "2023-03-01T00:00:00",
          "peak": 15835
         },
         {
          "game": "Counter-Strike (1.6)",
          "month": "2023-04-01T00:00:00",
          "peak": 15526
         },
         {
          "game": "Counter-Strike (1.6)",
          "month": "2023-05-01T00:00:00",
          "peak": 13619
         },
         {
          "game": "Counter-Strike (1.6)",
          "month": "2023-06-01T00:00:00",
          "peak": 13078
         },
         {
          "game": "Counter-Strike (1.6)",
          "month": "2023-07-01T00:00:00",
          "peak": 13367
         },
         {
          "game": "Counter-Strike (1.6)",
          "month": "2023-08-01T00:00:00",
          "peak": 12519
         },
         {
          "game": "Counter-Strike (1.6)",
          "month": "2023-09-01T00:00:00",
          "peak": 13621
         },
         {
          "game": "Counter-Strike (1.6)",
          "month": "2023-10-01T00:00:00",
          "peak": 14241
         },
         {
          "game": "Counter-Strike (1.6)",
          "month": "2023-11-01T00:00:00",
          "peak": 14498
         },
         {
          "game": "Counter-Strike (1.6)",
          "month": "2023-12-01T00:00:00",
          "peak": 14646
         },
         {
          "game": "Counter-Strike (1.6)",
          "month": "2024-01-01T00:00:00",
          "peak": 15678
         },
         {
          "game": "Counter-Strike (1.6)",
          "month": "2024-02-01T00:00:00",
          "peak": 15051
         },
         {
          "game": "Counter-Strike (1.6)",
          "month": "2024-03-01T00:00:00",
          "peak": 16326
         },
         {
          "game": "Counter-Strike (1.6)",
          "month": "2024-04-01T00:00:00",
          "peak": 14510
         },
         {
          "game": "Counter-Strike (1.6)",
          "month": "2024-05-01T00:00:00",
          "peak": 15880
         },
         {
          "game": "Counter-Strike (1.6)",
          "month": "2024-06-01T00:00:00",
          "peak": 16640
         },
         {
          "game": "Counter-Strike (1.6)",
          "month": "2024-07-01T00:00:00",
          "peak": 19364
         },
         {
          "game": "Counter-Strike (1.6)",
          "month": "2024-08-01T00:00:00",
          "peak": 15133
         },
         {
          "game": "Counter-Strike (1.6)",
          "month": "2024-09-01T00:00:00",
          "peak": 16734
         },
         {
          "game": "Counter-Strike (1.6)",
          "month": "2024-10-01T00:00:00",
          "peak": 16985
         },
         {
          "game": "Counter-Strike (1.6)",
          "month": "2024-11-01T00:00:00",
          "peak": 17964
         },
         {
          "game": "Counter-Strike (1.6)",
          "month": "2024-12-01T00:00:00",
          "peak": 19647
         },
         {
          "game": "Counter-Strike (1.6)",
          "month": "2025-01-01T00:00:00",
          "peak": 20746
         },
         {
          "game": "Counter-Strike (1.6)",
          "month": "2025-02-01T00:00:00",
          "peak": 19683
         },
         {
          "game": "Counter-Strike (1.6)",
          "month": "2025-03-01T00:00:00",
          "peak": 18635
         },
         {
          "game": "Counter-Strike (1.6)",
          "month": "2025-04-01T00:00:00",
          "peak": 18205
         },
         {
          "game": "Counter-Strike (1.6)",
          "month": "2025-05-01T00:00:00",
          "peak": 15811
         },
         {
          "game": "Counter-Strike (1.6)",
          "month": "2025-06-01T00:00:00",
          "peak": 15730
         },
         {
          "game": "Counter-Strike (1.6)",
          "month": "2025-07-01T00:00:00",
          "peak": 14626
         },
         {
          "game": "Counter-Strike (1.6)",
          "month": "2025-08-01T00:00:00",
          "peak": 12680
         },
         {
          "game": "Counter-Strike: Source",
          "month": "2004-10-01T00:00:00",
          "peak": 9448
         },
         {
          "game": "Counter-Strike: Source",
          "month": "2004-11-01T00:00:00",
          "peak": 16454
         },
         {
          "game": "Counter-Strike: Source",
          "month": "2004-12-01T00:00:00",
          "peak": 49568
         },
         {
          "game": "Counter-Strike: Source",
          "month": "2005-01-01T00:00:00",
          "peak": 28230
         },
         {
          "game": "Counter-Strike: Source",
          "month": "2005-02-01T00:00:00",
          "peak": 30302
         },
         {
          "game": "Counter-Strike: Source",
          "month": "2005-03-01T00:00:00",
          "peak": 39232
         },
         {
          "game": "Counter-Strike: Source",
          "month": "2005-04-01T00:00:00",
          "peak": 43605
         },
         {
          "game": "Counter-Strike: Source",
          "month": "2005-05-01T00:00:00",
          "peak": 30737
         },
         {
          "game": "Counter-Strike: Source",
          "month": "2005-06-01T00:00:00",
          "peak": 22734
         },
         {
          "game": "Counter-Strike: Source",
          "month": "2005-07-01T00:00:00",
          "peak": 29945
         },
         {
          "game": "Counter-Strike: Source",
          "month": "2005-08-01T00:00:00",
          "peak": 51159
         },
         {
          "game": "Counter-Strike: Source",
          "month": "2005-09-01T00:00:00",
          "peak": 47518
         },
         {
          "game": "Counter-Strike: Source",
          "month": "2005-11-01T00:00:00",
          "peak": 18141
         },
         {
          "game": "Counter-Strike: Source",
          "month": "2005-12-01T00:00:00",
          "peak": 59323
         },
         {
          "game": "Counter-Strike: Source",
          "month": "2006-08-01T00:00:00",
          "peak": 51625
         },
         {
          "game": "Counter-Strike: Source",
          "month": "2006-11-01T00:00:00",
          "peak": 14825
         },
         {
          "game": "Counter-Strike: Source",
          "month": "2006-12-01T00:00:00",
          "peak": 56936
         },
         {
          "game": "Counter-Strike: Source",
          "month": "2007-01-01T00:00:00",
          "peak": 74899
         },
         {
          "game": "Counter-Strike: Source",
          "month": "2007-02-01T00:00:00",
          "peak": 71356
         },
         {
          "game": "Counter-Strike: Source",
          "month": "2007-03-01T00:00:00",
          "peak": 30139
         },
         {
          "game": "Counter-Strike: Source",
          "month": "2007-04-01T00:00:00",
          "peak": 40644
         },
         {
          "game": "Counter-Strike: Source",
          "month": "2007-05-01T00:00:00",
          "peak": 53308
         },
         {
          "game": "Counter-Strike: Source",
          "month": "2007-06-01T00:00:00",
          "peak": 85202
         },
         {
          "game": "Counter-Strike: Source",
          "month": "2007-07-01T00:00:00",
          "peak": 73676
         },
         {
          "game": "Counter-Strike: Source",
          "month": "2007-08-01T00:00:00",
          "peak": 77221
         },
         {
          "game": "Counter-Strike: Source",
          "month": "2007-09-01T00:00:00",
          "peak": 88466
         },
         {
          "game": "Counter-Strike: Source",
          "month": "2007-10-01T00:00:00",
          "peak": 83142
         },
         {
          "game": "Counter-Strike: Source",
          "month": "2007-11-01T00:00:00",
          "peak": 28693
         },
         {
          "game": "Counter-Strike: Source",
          "month": "2007-12-01T00:00:00",
          "peak": 74891
         },
         {
          "game": "Counter-Strike: Source",
          "month": "2008-01-01T00:00:00",
          "peak": 96798
         },
         {
          "game": "Counter-Strike: Source",
          "month": "2008-09-01T00:00:00",
          "peak": 82832
         },
         {
          "game": "Counter-Strike: Source",
          "month": "2008-10-01T00:00:00",
          "peak": 87900
         },
         {
          "game": "Counter-Strike: Source",
          "month": "2008-11-01T00:00:00",
          "peak": 59199
         },
         {
          "game": "Counter-Strike: Source",
          "month": "2008-12-01T00:00:00",
          "peak": 67808
         },
         {
          "game": "Counter-Strike: Source",
          "month": "2009-01-01T00:00:00",
          "peak": 59256
         },
         {
          "game": "Counter-Strike: Source",
          "month": "2009-02-01T00:00:00",
          "peak": 100056
         },
         {
          "game": "Counter-Strike: Source",
          "month": "2009-03-01T00:00:00",
          "peak": 95245
         },
         {
          "game": "Counter-Strike: Source",
          "month": "2009-04-01T00:00:00",
          "peak": 60504
         },
         {
          "game": "Counter-Strike: Source",
          "month": "2009-05-01T00:00:00",
          "peak": 78463
         },
         {
          "game": "Counter-Strike: Source",
          "month": "2009-06-01T00:00:00",
          "peak": 86374
         },
         {
          "game": "Counter-Strike: Source",
          "month": "2009-07-01T00:00:00",
          "peak": 68078
         },
         {
          "game": "Counter-Strike: Source",
          "month": "2009-08-01T00:00:00",
          "peak": 89486
         },
         {
          "game": "Counter-Strike: Source",
          "month": "2009-09-01T00:00:00",
          "peak": 80681
         },
         {
          "game": "Counter-Strike: Source",
          "month": "2009-10-01T00:00:00",
          "peak": 85147
         },
         {
          "game": "Counter-Strike: Source",
          "month": "2009-11-01T00:00:00",
          "peak": 46884
         },
         {
          "game": "Counter-Strike: Source",
          "month": "2009-12-01T00:00:00",
          "peak": 82447
         },
         {
          "game": "Counter-Strike: Source",
          "month": "2010-01-01T00:00:00",
          "peak": 89470
         },
         {
          "game": "Counter-Strike: Source",
          "month": "2010-02-01T00:00:00",
          "peak": 76744
         },
         {
          "game": "Counter-Strike: Source",
          "month": "2010-03-01T00:00:00",
          "peak": 91679
         },
         {
          "game": "Counter-Strike: Source",
          "month": "2010-04-01T00:00:00",
          "peak": 86207
         },
         {
          "game": "Counter-Strike: Source",
          "month": "2010-05-01T00:00:00",
          "peak": 84934
         },
         {
          "game": "Counter-Strike: Source",
          "month": "2010-06-01T00:00:00",
          "peak": 80638
         },
         {
          "game": "Counter-Strike: Source",
          "month": "2010-07-01T00:00:00",
          "peak": 64655
         },
         {
          "game": "Counter-Strike: Source",
          "month": "2010-08-01T00:00:00",
          "peak": 70257
         },
         {
          "game": "Counter-Strike: Source",
          "month": "2010-09-01T00:00:00",
          "peak": 74610
         },
         {
          "game": "Counter-Strike: Source",
          "month": "2010-10-01T00:00:00",
          "peak": 74782
         },
         {
          "game": "Counter-Strike: Source",
          "month": "2010-11-01T00:00:00",
          "peak": 80274
         },
         {
          "game": "Counter-Strike: Source",
          "month": "2010-12-01T00:00:00",
          "peak": 81541
         },
         {
          "game": "Counter-Strike: Source",
          "month": "2011-01-01T00:00:00",
          "peak": 87340
         },
         {
          "game": "Counter-Strike: Source",
          "month": "2011-02-01T00:00:00",
          "peak": 82999
         },
         {
          "game": "Counter-Strike: Source",
          "month": "2011-03-01T00:00:00",
          "peak": 78707
         },
         {
          "game": "Counter-Strike: Source",
          "month": "2011-04-01T00:00:00",
          "peak": 72932
         },
         {
          "game": "Counter-Strike: Source",
          "month": "2011-05-01T00:00:00",
          "peak": 68399
         },
         {
          "game": "Counter-Strike: Source",
          "month": "2011-06-01T00:00:00",
          "peak": 67319
         },
         {
          "game": "Counter-Strike: Source",
          "month": "2011-07-01T00:00:00",
          "peak": 57615
         },
         {
          "game": "Counter-Strike: Source",
          "month": "2011-08-01T00:00:00",
          "peak": 63643
         },
         {
          "game": "Counter-Strike: Source",
          "month": "2011-09-01T00:00:00",
          "peak": 62522
         },
         {
          "game": "Counter-Strike: Source",
          "month": "2011-10-01T00:00:00",
          "peak": 62201
         },
         {
          "game": "Counter-Strike: Source",
          "month": "2011-11-01T00:00:00",
          "peak": 57692
         },
         {
          "game": "Counter-Strike: Source",
          "month": "2011-12-01T00:00:00",
          "peak": 62805
         },
         {
          "game": "Counter-Strike: Source",
          "month": "2012-01-01T00:00:00",
          "peak": 67235
         },
         {
          "game": "Counter-Strike: Source",
          "month": "2012-02-01T00:00:00",
          "peak": 65028
         },
         {
          "game": "Counter-Strike: Source",
          "month": "2012-03-01T00:00:00",
          "peak": 63998
         },
         {
          "game": "Counter-Strike: Source",
          "month": "2012-04-01T00:00:00",
          "peak": 61373
         },
         {
          "game": "Counter-Strike: Source",
          "month": "2012-05-01T00:00:00",
          "peak": 56593
         },
         {
          "game": "Counter-Strike: Source",
          "month": "2012-06-01T00:00:00",
          "peak": 53484
         },
         {
          "game": "Counter-Strike: Source",
          "month": "2012-07-01T00:00:00",
          "peak": 48850
         },
         {
          "game": "Counter-Strike: Source",
          "month": "2012-08-01T00:00:00",
          "peak": 48224
         },
         {
          "game": "Counter-Strike: Source",
          "month": "2012-09-01T00:00:00",
          "peak": 43924
         },
         {
          "game": "Counter-Strike: Source",
          "month": "2012-10-01T00:00:00",
          "peak": 45145
         },
         {
          "game": "Counter-Strike: Source",
          "month": "2012-11-01T00:00:00",
          "peak": 44160
         },
         {
          "game": "Counter-Strike: Source",
          "month": "2012-12-01T00:00:00",
          "peak": 48458
         },
         {
          "game": "Counter-Strike: Source",
          "month": "2013-01-01T00:00:00",
          "peak": 48125
         },
         {
          "game": "Counter-Strike: Source",
          "month": "2013-02-01T00:00:00",
          "peak": 44608
         },
         {
          "game": "Counter-Strike: Source",
          "month": "2013-03-01T00:00:00",
          "peak": 44034
         },
         {
          "game": "Counter-Strike: Source",
          "month": "2013-04-01T00:00:00",
          "peak": 38626
         },
         {
          "game": "Counter-Strike: Source",
          "month": "2013-05-01T00:00:00",
          "peak": 32816
         },
         {
          "game": "Counter-Strike: Source",
          "month": "2013-06-01T00:00:00",
          "peak": 31622
         },
         {
          "game": "Counter-Strike: Source",
          "month": "2013-07-01T00:00:00",
          "peak": 29840
         },
         {
          "game": "Counter-Strike: Source",
          "month": "2013-08-01T00:00:00",
          "peak": 31385
         },
         {
          "game": "Counter-Strike: Source",
          "month": "2013-09-01T00:00:00",
          "peak": 31775
         },
         {
          "game": "Counter-Strike: Source",
          "month": "2013-10-01T00:00:00",
          "peak": 32227
         },
         {
          "game": "Counter-Strike: Source",
          "month": "2013-11-01T00:00:00",
          "peak": 32541
         },
         {
          "game": "Counter-Strike: Source",
          "month": "2013-12-01T00:00:00",
          "peak": 35222
         },
         {
          "game": "Counter-Strike: Source",
          "month": "2014-01-01T00:00:00",
          "peak": 35887
         },
         {
          "game": "Counter-Strike: Source",
          "month": "2014-02-01T00:00:00",
          "peak": 30851
         },
         {
          "game": "Counter-Strike: Source",
          "month": "2014-03-01T00:00:00",
          "peak": 27789
         },
         {
          "game": "Counter-Strike: Source",
          "month": "2014-04-01T00:00:00",
          "peak": 26052
         },
         {
          "game": "Counter-Strike: Source",
          "month": "2014-05-01T00:00:00",
          "peak": 24587
         },
         {
          "game": "Counter-Strike: Source",
          "month": "2014-06-01T00:00:00",
          "peak": 23895
         },
         {
          "game": "Counter-Strike: Source",
          "month": "2014-07-01T00:00:00",
          "peak": 21221
         },
         {
          "game": "Counter-Strike: Source",
          "month": "2014-08-01T00:00:00",
          "peak": 21419
         },
         {
          "game": "Counter-Strike: Source",
          "month": "2014-09-01T00:00:00",
          "peak": 21135
         },
         {
          "game": "Counter-Strike: Source",
          "month": "2014-10-01T00:00:00",
          "peak": 21678
         },
         {
          "game": "Counter-Strike: Source",
          "month": "2014-11-01T00:00:00",
          "peak": 23493
         },
         {
          "game": "Counter-Strike: Source",
          "month": "2014-12-01T00:00:00",
          "peak": 24519
         },
         {
          "game": "Counter-Strike: Source",
          "month": "2015-01-01T00:00:00",
          "peak": 24617
         },
         {
          "game": "Counter-Strike: Source",
          "month": "2015-02-01T00:00:00",
          "peak": 21737
         },
         {
          "game": "Counter-Strike: Source",
          "month": "2015-03-01T00:00:00",
          "peak": 17772
         },
         {
          "game": "Counter-Strike: Source",
          "month": "2015-04-01T00:00:00",
          "peak": 16183
         },
         {
          "game": "Counter-Strike: Source",
          "month": "2015-05-01T00:00:00",
          "peak": 16204
         },
         {
          "game": "Counter-Strike: Source",
          "month": "2015-06-01T00:00:00",
          "peak": 14896
         },
         {
          "game": "Counter-Strike: Source",
          "month": "2015-07-01T00:00:00",
          "peak": 13870
         },
         {
          "game": "Counter-Strike: Source",
          "month": "2015-08-01T00:00:00",
          "peak": 13594
         },
         {
          "game": "Counter-Strike: Source",
          "month": "2015-09-01T00:00:00",
          "peak": 13553
         },
         {
          "game": "Counter-Strike: Source",
          "month": "2015-10-01T00:00:00",
          "peak": 13960
         },
         {
          "game": "Counter-Strike: Source",
          "month": "2015-11-01T00:00:00",
          "peak": 14300
         },
         {
          "game": "Counter-Strike: Source",
          "month": "2015-12-01T00:00:00",
          "peak": 14860
         },
         {
          "game": "Counter-Strike: Source",
          "month": "2016-01-01T00:00:00",
          "peak": 16142
         },
         {
          "game": "Counter-Strike: Source",
          "month": "2016-02-01T00:00:00",
          "peak": 15627
         },
         {
          "game": "Counter-Strike: Source",
          "month": "2016-03-01T00:00:00",
          "peak": 14846
         },
         {
          "game": "Counter-Strike: Source",
          "month": "2016-04-01T00:00:00",
          "peak": 12774
         },
         {
          "game": "Counter-Strike: Source",
          "month": "2016-05-01T00:00:00",
          "peak": 11212
         },
         {
          "game": "Counter-Strike: Source",
          "month": "2016-06-01T00:00:00",
          "peak": 10865
         },
         {
          "game": "Counter-Strike: Source",
          "month": "2016-07-01T00:00:00",
          "peak": 10131
         },
         {
          "game": "Counter-Strike: Source",
          "month": "2016-08-01T00:00:00",
          "peak": 9828
         },
         {
          "game": "Counter-Strike: Source",
          "month": "2016-09-01T00:00:00",
          "peak": 10083
         },
         {
          "game": "Counter-Strike: Source",
          "month": "2016-10-01T00:00:00",
          "peak": 10503
         },
         {
          "game": "Counter-Strike: Source",
          "month": "2016-11-01T00:00:00",
          "peak": 11211
         },
         {
          "game": "Counter-Strike: Source",
          "month": "2016-12-01T00:00:00",
          "peak": 11500
         },
         {
          "game": "Counter-Strike: Source",
          "month": "2017-01-01T00:00:00",
          "peak": 12471
         },
         {
          "game": "Counter-Strike: Source",
          "month": "2017-02-01T00:00:00",
          "peak": 11557
         },
         {
          "game": "Counter-Strike: Source",
          "month": "2017-03-01T00:00:00",
          "peak": 10702
         },
         {
          "game": "Counter-Strike: Source",
          "month": "2017-04-01T00:00:00",
          "peak": 9493
         },
         {
          "game": "Counter-Strike: Source",
          "month": "2017-05-01T00:00:00",
          "peak": 8932
         },
         {
          "game": "Counter-Strike: Source",
          "month": "2017-06-01T00:00:00",
          "peak": 8598
         },
         {
          "game": "Counter-Strike: Source",
          "month": "2017-07-01T00:00:00",
          "peak": 8622
         },
         {
          "game": "Counter-Strike: Source",
          "month": "2017-08-01T00:00:00",
          "peak": 7911
         },
         {
          "game": "Counter-Strike: Source",
          "month": "2017-09-01T00:00:00",
          "peak": 8288
         },
         {
          "game": "Counter-Strike: Source",
          "month": "2017-10-01T00:00:00",
          "peak": 8818
         },
         {
          "game": "Counter-Strike: Source",
          "month": "2017-11-01T00:00:00",
          "peak": 9163
         },
         {
          "game": "Counter-Strike: Source",
          "month": "2017-12-01T00:00:00",
          "peak": 9918
         },
         {
          "game": "Counter-Strike: Source",
          "month": "2018-01-01T00:00:00",
          "peak": 10462
         },
         {
          "game": "Counter-Strike: Source",
          "month": "2018-02-01T00:00:00",
          "peak": 9825
         },
         {
          "game": "Counter-Strike: Source",
          "month": "2018-03-01T00:00:00",
          "peak": 9367
         },
         {
          "game": "Counter-Strike: Source",
          "month": "2018-04-01T00:00:00",
          "peak": 8486
         },
         {
          "game": "Counter-Strike: Source",
          "month": "2018-05-01T00:00:00",
          "peak": 7154
         },
         {
          "game": "Counter-Strike: Source",
          "month": "2018-06-01T00:00:00",
          "peak": 7181
         },
         {
          "game": "Counter-Strike: Source",
          "month": "2018-07-01T00:00:00",
          "peak": 6714
         },
         {
          "game": "Counter-Strike: Source",
          "month": "2018-08-01T00:00:00",
          "peak": 6845
         },
         {
          "game": "Counter-Strike: Source",
          "month": "2018-09-01T00:00:00",
          "peak": 6804
         },
         {
          "game": "Counter-Strike: Source",
          "month": "2018-10-01T00:00:00",
          "peak": 7154
         },
         {
          "game": "Counter-Strike: Source",
          "month": "2018-11-01T00:00:00",
          "peak": 8381
         },
         {
          "game": "Counter-Strike: Source",
          "month": "2018-12-01T00:00:00",
          "peak": 8771
         },
         {
          "game": "Counter-Strike: Source",
          "month": "2019-01-01T00:00:00",
          "peak": 8799
         },
         {
          "game": "Counter-Strike: Source",
          "month": "2019-02-01T00:00:00",
          "peak": 8167
         },
         {
          "game": "Counter-Strike: Source",
          "month": "2019-03-01T00:00:00",
          "peak": 7530
         },
         {
          "game": "Counter-Strike: Source",
          "month": "2019-04-01T00:00:00",
          "peak": 6823
         },
         {
          "game": "Counter-Strike: Source",
          "month": "2019-05-01T00:00:00",
          "peak": 6592
         },
         {
          "game": "Counter-Strike: Source",
          "month": "2019-06-01T00:00:00",
          "peak": 6790
         },
         {
          "game": "Counter-Strike: Source",
          "month": "2019-07-01T00:00:00",
          "peak": 6972
         },
         {
          "game": "Counter-Strike: Source",
          "month": "2019-08-01T00:00:00",
          "peak": 6045
         },
         {
          "game": "Counter-Strike: Source",
          "month": "2019-09-01T00:00:00",
          "peak": 6298
         },
         {
          "game": "Counter-Strike: Source",
          "month": "2019-10-01T00:00:00",
          "peak": 6196
         },
         {
          "game": "Counter-Strike: Source",
          "month": "2019-11-01T00:00:00",
          "peak": 7384
         },
         {
          "game": "Counter-Strike: Source",
          "month": "2019-12-01T00:00:00",
          "peak": 7940
         },
         {
          "game": "Counter-Strike: Source",
          "month": "2020-01-01T00:00:00",
          "peak": 7906
         },
         {
          "game": "Counter-Strike: Source",
          "month": "2020-02-01T00:00:00",
          "peak": 6996
         },
         {
          "game": "Counter-Strike: Source",
          "month": "2020-03-01T00:00:00",
          "peak": 10948
         },
         {
          "game": "Counter-Strike: Source",
          "month": "2020-04-01T00:00:00",
          "peak": 11636
         },
         {
          "game": "Counter-Strike: Source",
          "month": "2020-05-01T00:00:00",
          "peak": 9734
         },
         {
          "game": "Counter-Strike: Source",
          "month": "2020-06-01T00:00:00",
          "peak": 7356
         },
         {
          "game": "Counter-Strike: Source",
          "month": "2020-07-01T00:00:00",
          "peak": 6790
         },
         {
          "game": "Counter-Strike: Source",
          "month": "2020-08-01T00:00:00",
          "peak": 6286
         },
         {
          "game": "Counter-Strike: Source",
          "month": "2020-09-01T00:00:00",
          "peak": 5887
         },
         {
          "game": "Counter-Strike: Source",
          "month": "2020-10-01T00:00:00",
          "peak": 6616
         },
         {
          "game": "Counter-Strike: Source",
          "month": "2020-11-01T00:00:00",
          "peak": 7310
         },
         {
          "game": "Counter-Strike: Source",
          "month": "2020-12-01T00:00:00",
          "peak": 8120
         },
         {
          "game": "Counter-Strike: Source",
          "month": "2021-01-01T00:00:00",
          "peak": 8292
         },
         {
          "game": "Counter-Strike: Source",
          "month": "2021-02-01T00:00:00",
          "peak": 7610
         },
         {
          "game": "Counter-Strike: Source",
          "month": "2021-03-01T00:00:00",
          "peak": 8995
         },
         {
          "game": "Counter-Strike: Source",
          "month": "2021-04-01T00:00:00",
          "peak": 8737
         },
         {
          "game": "Counter-Strike: Source",
          "month": "2021-05-01T00:00:00",
          "peak": 7047
         },
         {
          "game": "Counter-Strike: Source",
          "month": "2021-06-01T00:00:00",
          "peak": 6023
         },
         {
          "game": "Counter-Strike: Source",
          "month": "2021-07-01T00:00:00",
          "peak": 5971
         },
         {
          "game": "Counter-Strike: Source",
          "month": "2021-08-01T00:00:00",
          "peak": 5337
         },
         {
          "game": "Counter-Strike: Source",
          "month": "2021-09-01T00:00:00",
          "peak": 5649
         },
         {
          "game": "Counter-Strike: Source",
          "month": "2021-10-01T00:00:00",
          "peak": 5723
         },
         {
          "game": "Counter-Strike: Source",
          "month": "2021-11-01T00:00:00",
          "peak": 6172
         },
         {
          "game": "Counter-Strike: Source",
          "month": "2021-12-01T00:00:00",
          "peak": 6704
         },
         {
          "game": "Counter-Strike: Source",
          "month": "2022-01-01T00:00:00",
          "peak": 8118
         },
         {
          "game": "Counter-Strike: Source",
          "month": "2022-02-01T00:00:00",
          "peak": 8907
         },
         {
          "game": "Counter-Strike: Source",
          "month": "2022-03-01T00:00:00",
          "peak": 8369
         },
         {
          "game": "Counter-Strike: Source",
          "month": "2022-04-01T00:00:00",
          "peak": 8494
         },
         {
          "game": "Counter-Strike: Source",
          "month": "2022-05-01T00:00:00",
          "peak": 7491
         },
         {
          "game": "Counter-Strike: Source",
          "month": "2022-06-01T00:00:00",
          "peak": 7349
         },
         {
          "game": "Counter-Strike: Source",
          "month": "2022-07-01T00:00:00",
          "peak": 7513
         },
         {
          "game": "Counter-Strike: Source",
          "month": "2022-08-01T00:00:00",
          "peak": 7027
         },
         {
          "game": "Counter-Strike: Source",
          "month": "2022-09-01T00:00:00",
          "peak": 6961
         },
         {
          "game": "Counter-Strike: Source",
          "month": "2022-10-01T00:00:00",
          "peak": 5396
         },
         {
          "game": "Counter-Strike: Source",
          "month": "2022-11-01T00:00:00",
          "peak": 6417
         },
         {
          "game": "Counter-Strike: Source",
          "month": "2022-12-01T00:00:00",
          "peak": 6048
         },
         {
          "game": "Counter-Strike: Source",
          "month": "2023-01-01T00:00:00",
          "peak": 6240
         },
         {
          "game": "Counter-Strike: Source",
          "month": "2023-02-01T00:00:00",
          "peak": 5531
         },
         {
          "game": "Counter-Strike: Source",
          "month": "2023-03-01T00:00:00",
          "peak": 6231
         },
         {
          "game": "Counter-Strike: Source",
          "month": "2023-04-01T00:00:00",
          "peak": 5498
         },
         {
          "game": "Counter-Strike: Source",
          "month": "2023-05-01T00:00:00",
          "peak": 4948
         },
         {
          "game": "Counter-Strike: Source",
          "month": "2023-06-01T00:00:00",
          "peak": 5039
         },
         {
          "game": "Counter-Strike: Source",
          "month": "2023-07-01T00:00:00",
          "peak": 5325
         },
         {
          "game": "Counter-Strike: Source",
          "month": "2023-08-01T00:00:00",
          "peak": 4495
         },
         {
          "game": "Counter-Strike: Source",
          "month": "2023-09-01T00:00:00",
          "peak": 5471
         },
         {
          "game": "Counter-Strike: Source",
          "month": "2023-10-01T00:00:00",
          "peak": 5495
         },
         {
          "game": "Counter-Strike: Source",
          "month": "2023-11-01T00:00:00",
          "peak": 6061
         },
         {
          "game": "Counter-Strike: Source",
          "month": "2023-12-01T00:00:00",
          "peak": 5973
         },
         {
          "game": "Counter-Strike: Source",
          "month": "2024-01-01T00:00:00",
          "peak": 6035
         },
         {
          "game": "Counter-Strike: Source",
          "month": "2024-02-01T00:00:00",
          "peak": 13071
         },
         {
          "game": "Counter-Strike: Source",
          "month": "2024-03-01T00:00:00",
          "peak": 13063
         },
         {
          "game": "Counter-Strike: Source",
          "month": "2024-04-01T00:00:00",
          "peak": 14242
         },
         {
          "game": "Counter-Strike: Source",
          "month": "2024-05-01T00:00:00",
          "peak": 13557
         },
         {
          "game": "Counter-Strike: Source",
          "month": "2024-06-01T00:00:00",
          "peak": 15078
         },
         {
          "game": "Counter-Strike: Source",
          "month": "2024-07-01T00:00:00",
          "peak": 17981
         },
         {
          "game": "Counter-Strike: Source",
          "month": "2024-08-01T00:00:00",
          "peak": 18986
         },
         {
          "game": "Counter-Strike: Source",
          "month": "2024-09-01T00:00:00",
          "peak": 15218
         },
         {
          "game": "Counter-Strike: Source",
          "month": "2024-10-01T00:00:00",
          "peak": 13115
         },
         {
          "game": "Counter-Strike: Source",
          "month": "2024-11-01T00:00:00",
          "peak": 12919
         },
         {
          "game": "Counter-Strike: Source",
          "month": "2024-12-01T00:00:00",
          "peak": 16674
         },
         {
          "game": "Counter-Strike: Source",
          "month": "2025-01-01T00:00:00",
          "peak": 17737
         },
         {
          "game": "Counter-Strike: Source",
          "month": "2025-02-01T00:00:00",
          "peak": 17926
         },
         {
          "game": "Counter-Strike: Source",
          "month": "2025-03-01T00:00:00",
          "peak": 20160
         },
         {
          "game": "Counter-Strike: Source",
          "month": "2025-04-01T00:00:00",
          "peak": 17173
         },
         {
          "game": "Counter-Strike: Source",
          "month": "2025-05-01T00:00:00",
          "peak": 13655
         },
         {
          "game": "Counter-Strike: Source",
          "month": "2025-06-01T00:00:00",
          "peak": 18204
         },
         {
          "game": "Counter-Strike: Source",
          "month": "2025-07-01T00:00:00",
          "peak": 56987
         },
         {
          "game": "Counter-Strike: Source",
          "month": "2025-08-01T00:00:00",
          "peak": 62898
         },
         {
          "game": "Counter-Strike: Condition Zero",
          "month": "2004-04-01T00:00:00",
          "peak": 9256
         },
         {
          "game": "Counter-Strike: Condition Zero",
          "month": "2004-06-01T00:00:00",
          "peak": 14032
         },
         {
          "game": "Counter-Strike: Condition Zero",
          "month": "2004-07-01T00:00:00",
          "peak": 15119
         },
         {
          "game": "Counter-Strike: Condition Zero",
          "month": "2004-08-01T00:00:00",
          "peak": 14280
         },
         {
          "game": "Counter-Strike: Condition Zero",
          "month": "2004-09-01T00:00:00",
          "peak": 15762
         },
         {
          "game": "Counter-Strike: Condition Zero",
          "month": "2004-10-01T00:00:00",
          "peak": 15076
         },
         {
          "game": "Counter-Strike: Condition Zero",
          "month": "2004-11-01T00:00:00",
          "peak": 15216
         },
         {
          "game": "Counter-Strike: Condition Zero",
          "month": "2004-12-01T00:00:00",
          "peak": 18107
         },
         {
          "game": "Counter-Strike: Condition Zero",
          "month": "2005-01-01T00:00:00",
          "peak": 15692
         },
         {
          "game": "Counter-Strike: Condition Zero",
          "month": "2005-02-01T00:00:00",
          "peak": 16502
         },
         {
          "game": "Counter-Strike: Condition Zero",
          "month": "2005-03-01T00:00:00",
          "peak": 17489
         },
         {
          "game": "Counter-Strike: Condition Zero",
          "month": "2005-04-01T00:00:00",
          "peak": 13288
         },
         {
          "game": "Counter-Strike: Condition Zero",
          "month": "2005-05-01T00:00:00",
          "peak": 19239
         },
         {
          "game": "Counter-Strike: Condition Zero",
          "month": "2005-06-01T00:00:00",
          "peak": 12053
         },
         {
          "game": "Counter-Strike: Condition Zero",
          "month": "2005-07-01T00:00:00",
          "peak": 18654
         },
         {
          "game": "Counter-Strike: Condition Zero",
          "month": "2005-08-01T00:00:00",
          "peak": 22438
         },
         {
          "game": "Counter-Strike: Condition Zero",
          "month": "2005-09-01T00:00:00",
          "peak": 19041
         },
         {
          "game": "Counter-Strike: Condition Zero",
          "month": "2005-11-01T00:00:00",
          "peak": 14824
         },
         {
          "game": "Counter-Strike: Condition Zero",
          "month": "2005-12-01T00:00:00",
          "peak": 21242
         },
         {
          "game": "Counter-Strike: Condition Zero",
          "month": "2006-08-01T00:00:00",
          "peak": 21153
         },
         {
          "game": "Counter-Strike: Condition Zero",
          "month": "2006-11-01T00:00:00",
          "peak": 15203
         },
         {
          "game": "Counter-Strike: Condition Zero",
          "month": "2006-12-01T00:00:00",
          "peak": 17896
         },
         {
          "game": "Counter-Strike: Condition Zero",
          "month": "2007-01-01T00:00:00",
          "peak": 21851
         },
         {
          "game": "Counter-Strike: Condition Zero",
          "month": "2007-02-01T00:00:00",
          "peak": 23807
         },
         {
          "game": "Counter-Strike: Condition Zero",
          "month": "2007-03-01T00:00:00",
          "peak": 19939
         },
         {
          "game": "Counter-Strike: Condition Zero",
          "month": "2007-04-01T00:00:00",
          "peak": 11923
         },
         {
          "game": "Counter-Strike: Condition Zero",
          "month": "2007-05-01T00:00:00",
          "peak": 24988
         },
         {
          "game": "Counter-Strike: Condition Zero",
          "month": "2007-06-01T00:00:00",
          "peak": 27256
         },
         {
          "game": "Counter-Strike: Condition Zero",
          "month": "2007-07-01T00:00:00",
          "peak": 28546
         },
         {
          "game": "Counter-Strike: Condition Zero",
          "month": "2007-08-01T00:00:00",
          "peak": 27545
         },
         {
          "game": "Counter-Strike: Condition Zero",
          "month": "2007-09-01T00:00:00",
          "peak": 32748
         },
         {
          "game": "Counter-Strike: Condition Zero",
          "month": "2007-10-01T00:00:00",
          "peak": 28221
         },
         {
          "game": "Counter-Strike: Condition Zero",
          "month": "2007-11-01T00:00:00",
          "peak": 21806
         },
         {
          "game": "Counter-Strike: Condition Zero",
          "month": "2007-12-01T00:00:00",
          "peak": 32279
         },
         {
          "game": "Counter-Strike: Condition Zero",
          "month": "2008-01-01T00:00:00",
          "peak": 28140
         },
         {
          "game": "Counter-Strike: Condition Zero",
          "month": "2008-09-01T00:00:00",
          "peak": 11694
         },
         {
          "game": "Counter-Strike: Condition Zero",
          "month": "2008-10-01T00:00:00",
          "peak": 12860
         },
         {
          "game": "Counter-Strike: Condition Zero",
          "month": "2008-11-01T00:00:00",
          "peak": 7328
         },
         {
          "game": "Counter-Strike: Condition Zero",
          "month": "2008-12-01T00:00:00",
          "peak": 7570
         },
         {
          "game": "Counter-Strike: Condition Zero",
          "month": "2009-01-01T00:00:00",
          "peak": 5893
         },
         {
          "game": "Counter-Strike: Condition Zero",
          "month": "2009-02-01T00:00:00",
          "peak": 9384
         },
         {
          "game": "Counter-Strike: Condition Zero",
          "month": "2009-03-01T00:00:00",
          "peak": 9018
         },
         {
          "game": "Counter-Strike: Condition Zero",
          "month": "2009-04-01T00:00:00",
          "peak": 5413
         },
         {
          "game": "Counter-Strike: Condition Zero",
          "month": "2009-05-01T00:00:00",
          "peak": 7336
         },
         {
          "game": "Counter-Strike: Condition Zero",
          "month": "2009-06-01T00:00:00",
          "peak": 7932
         },
         {
          "game": "Counter-Strike: Condition Zero",
          "month": "2009-07-01T00:00:00",
          "peak": 7964
         },
         {
          "game": "Counter-Strike: Condition Zero",
          "month": "2009-08-01T00:00:00",
          "peak": 9266
         },
         {
          "game": "Counter-Strike: Condition Zero",
          "month": "2009-09-01T00:00:00",
          "peak": 8634
         },
         {
          "game": "Counter-Strike: Condition Zero",
          "month": "2009-10-01T00:00:00",
          "peak": 9128
         },
         {
          "game": "Counter-Strike: Condition Zero",
          "month": "2009-11-01T00:00:00",
          "peak": 4990
         },
         {
          "game": "Counter-Strike: Condition Zero",
          "month": "2009-12-01T00:00:00",
          "peak": 8983
         },
         {
          "game": "Counter-Strike: Condition Zero",
          "month": "2010-01-01T00:00:00",
          "peak": 8927
         },
         {
          "game": "Counter-Strike: Condition Zero",
          "month": "2010-02-01T00:00:00",
          "peak": 8003
         },
         {
          "game": "Counter-Strike: Condition Zero",
          "month": "2010-03-01T00:00:00",
          "peak": 9060
         },
         {
          "game": "Counter-Strike: Condition Zero",
          "month": "2010-04-01T00:00:00",
          "peak": 8484
         },
         {
          "game": "Counter-Strike: Condition Zero",
          "month": "2010-05-01T00:00:00",
          "peak": 7677
         },
         {
          "game": "Counter-Strike: Condition Zero",
          "month": "2010-06-01T00:00:00",
          "peak": 7424
         },
         {
          "game": "Counter-Strike: Condition Zero",
          "month": "2010-07-01T00:00:00",
          "peak": 6910
         },
         {
          "game": "Counter-Strike: Condition Zero",
          "month": "2010-08-01T00:00:00",
          "peak": 7081
         },
         {
          "game": "Counter-Strike: Condition Zero",
          "month": "2010-09-01T00:00:00",
          "peak": 7428
         },
         {
          "game": "Counter-Strike: Condition Zero",
          "month": "2010-10-01T00:00:00",
          "peak": 7379
         },
         {
          "game": "Counter-Strike: Condition Zero",
          "month": "2010-11-01T00:00:00",
          "peak": 7539
         },
         {
          "game": "Counter-Strike: Condition Zero",
          "month": "2010-12-01T00:00:00",
          "peak": 7505
         },
         {
          "game": "Counter-Strike: Condition Zero",
          "month": "2011-01-01T00:00:00",
          "peak": 7354
         },
         {
          "game": "Counter-Strike: Condition Zero",
          "month": "2011-02-01T00:00:00",
          "peak": 7171
         },
         {
          "game": "Counter-Strike: Condition Zero",
          "month": "2011-03-01T00:00:00",
          "peak": 6715
         },
         {
          "game": "Counter-Strike: Condition Zero",
          "month": "2011-04-01T00:00:00",
          "peak": 6133
         },
         {
          "game": "Counter-Strike: Condition Zero",
          "month": "2011-05-01T00:00:00",
          "peak": 6128
         },
         {
          "game": "Counter-Strike: Condition Zero",
          "month": "2011-06-01T00:00:00",
          "peak": 5542
         },
         {
          "game": "Counter-Strike: Condition Zero",
          "month": "2011-07-01T00:00:00",
          "peak": 5180
         },
         {
          "game": "Counter-Strike: Condition Zero",
          "month": "2011-08-01T00:00:00",
          "peak": 5051
         },
         {
          "game": "Counter-Strike: Condition Zero",
          "month": "2011-09-01T00:00:00",
          "peak": 5083
         },
         {
          "game": "Counter-Strike: Condition Zero",
          "month": "2011-10-01T00:00:00",
          "peak": 4979
         },
         {
          "game": "Counter-Strike: Condition Zero",
          "month": "2011-11-01T00:00:00",
          "peak": 5031
         },
         {
          "game": "Counter-Strike: Condition Zero",
          "month": "2011-12-01T00:00:00",
          "peak": 4915
         },
         {
          "game": "Counter-Strike: Condition Zero",
          "month": "2012-01-01T00:00:00",
          "peak": 4929
         },
         {
          "game": "Counter-Strike: Condition Zero",
          "month": "2012-02-01T00:00:00",
          "peak": 4878
         },
         {
          "game": "Counter-Strike: Condition Zero",
          "month": "2012-03-01T00:00:00",
          "peak": 4530
         },
         {
          "game": "Counter-Strike: Condition Zero",
          "month": "2012-04-01T00:00:00",
          "peak": 4394
         },
         {
          "game": "Counter-Strike: Condition Zero",
          "month": "2012-05-01T00:00:00",
          "peak": 4180
         },
         {
          "game": "Counter-Strike: Condition Zero",
          "month": "2012-06-01T00:00:00",
          "peak": 3879
         },
         {
          "game": "Counter-Strike: Condition Zero",
          "month": "2012-07-01T00:00:00",
          "peak": 3530
         },
         {
          "game": "Counter-Strike: Condition Zero",
          "month": "2012-08-01T00:00:00",
          "peak": 3229
         },
         {
          "game": "Counter-Strike: Condition Zero",
          "month": "2012-09-01T00:00:00",
          "peak": 3184
         },
         {
          "game": "Counter-Strike: Condition Zero",
          "month": "2012-10-01T00:00:00",
          "peak": 3183
         },
         {
          "game": "Counter-Strike: Condition Zero",
          "month": "2012-11-01T00:00:00",
          "peak": 3356
         },
         {
          "game": "Counter-Strike: Condition Zero",
          "month": "2012-12-01T00:00:00",
          "peak": 3357
         },
         {
          "game": "Counter-Strike: Condition Zero",
          "month": "2013-01-01T00:00:00",
          "peak": 3378
         },
         {
          "game": "Counter-Strike: Condition Zero",
          "month": "2013-02-01T00:00:00",
          "peak": 3282
         },
         {
          "game": "Counter-Strike: Condition Zero",
          "month": "2013-03-01T00:00:00",
          "peak": 2888
         },
         {
          "game": "Counter-Strike: Condition Zero",
          "month": "2013-04-01T00:00:00",
          "peak": 2134
         },
         {
          "game": "Counter-Strike: Condition Zero",
          "month": "2013-05-01T00:00:00",
          "peak": 2020
         },
         {
          "game": "Counter-Strike: Condition Zero",
          "month": "2013-06-01T00:00:00",
          "peak": 1957
         },
         {
          "game": "Counter-Strike: Condition Zero",
          "month": "2013-07-01T00:00:00",
          "peak": 1857
         },
         {
          "game": "Counter-Strike: Condition Zero",
          "month": "2013-08-01T00:00:00",
          "peak": 1925
         },
         {
          "game": "Counter-Strike: Condition Zero",
          "month": "2013-09-01T00:00:00",
          "peak": 1995
         },
         {
          "game": "Counter-Strike: Condition Zero",
          "month": "2013-10-01T00:00:00",
          "peak": 2042
         },
         {
          "game": "Counter-Strike: Condition Zero",
          "month": "2013-11-01T00:00:00",
          "peak": 2090
         },
         {
          "game": "Counter-Strike: Condition Zero",
          "month": "2013-12-01T00:00:00",
          "peak": 2074
         },
         {
          "game": "Counter-Strike: Condition Zero",
          "month": "2014-01-01T00:00:00",
          "peak": 2157
         },
         {
          "game": "Counter-Strike: Condition Zero",
          "month": "2014-02-01T00:00:00",
          "peak": 1866
         },
         {
          "game": "Counter-Strike: Condition Zero",
          "month": "2014-03-01T00:00:00",
          "peak": 1764
         },
         {
          "game": "Counter-Strike: Condition Zero",
          "month": "2014-04-01T00:00:00",
          "peak": 1720
         },
         {
          "game": "Counter-Strike: Condition Zero",
          "month": "2014-05-01T00:00:00",
          "peak": 1662
         },
         {
          "game": "Counter-Strike: Condition Zero",
          "month": "2014-06-01T00:00:00",
          "peak": 1565
         },
         {
          "game": "Counter-Strike: Condition Zero",
          "month": "2014-07-01T00:00:00",
          "peak": 1489
         },
         {
          "game": "Counter-Strike: Condition Zero",
          "month": "2014-08-01T00:00:00",
          "peak": 1455
         },
         {
          "game": "Counter-Strike: Condition Zero",
          "month": "2014-09-01T00:00:00",
          "peak": 1525
         },
         {
          "game": "Counter-Strike: Condition Zero",
          "month": "2014-10-01T00:00:00",
          "peak": 1538
         },
         {
          "game": "Counter-Strike: Condition Zero",
          "month": "2014-11-01T00:00:00",
          "peak": 1711
         },
         {
          "game": "Counter-Strike: Condition Zero",
          "month": "2014-12-01T00:00:00",
          "peak": 1767
         },
         {
          "game": "Counter-Strike: Condition Zero",
          "month": "2015-01-01T00:00:00",
          "peak": 1638
         },
         {
          "game": "Counter-Strike: Condition Zero",
          "month": "2015-02-01T00:00:00",
          "peak": 1493
         },
         {
          "game": "Counter-Strike: Condition Zero",
          "month": "2015-03-01T00:00:00",
          "peak": 1448
         },
         {
          "game": "Counter-Strike: Condition Zero",
          "month": "2015-04-01T00:00:00",
          "peak": 1342
         },
         {
          "game": "Counter-Strike: Condition Zero",
          "month": "2015-05-01T00:00:00",
          "peak": 1312
         },
         {
          "game": "Counter-Strike: Condition Zero",
          "month": "2015-06-01T00:00:00",
          "peak": 1282
         },
         {
          "game": "Counter-Strike: Condition Zero",
          "month": "2015-07-01T00:00:00",
          "peak": 1204
         },
         {
          "game": "Counter-Strike: Condition Zero",
          "month": "2015-08-01T00:00:00",
          "peak": 1174
         },
         {
          "game": "Counter-Strike: Condition Zero",
          "month": "2015-09-01T00:00:00",
          "peak": 1207
         },
         {
          "game": "Counter-Strike: Condition Zero",
          "month": "2015-10-01T00:00:00",
          "peak": 1203
         },
         {
          "game": "Counter-Strike: Condition Zero",
          "month": "2015-11-01T00:00:00",
          "peak": 1316
         },
         {
          "game": "Counter-Strike: Condition Zero",
          "month": "2015-12-01T00:00:00",
          "peak": 1394
         },
         {
          "game": "Counter-Strike: Condition Zero",
          "month": "2016-01-01T00:00:00",
          "peak": 1500
         },
         {
          "game": "Counter-Strike: Condition Zero",
          "month": "2016-02-01T00:00:00",
          "peak": 1560
         },
         {
          "game": "Counter-Strike: Condition Zero",
          "month": "2016-03-01T00:00:00",
          "peak": 1383
         },
         {
          "game": "Counter-Strike: Condition Zero",
          "month": "2016-04-01T00:00:00",
          "peak": 1206
         },
         {
          "game": "Counter-Strike: Condition Zero",
          "month": "2016-05-01T00:00:00",
          "peak": 1186
         },
         {
          "game": "Counter-Strike: Condition Zero",
          "month": "2016-06-01T00:00:00",
          "peak": 1196
         },
         {
          "game": "Counter-Strike: Condition Zero",
          "month": "2016-07-01T00:00:00",
          "peak": 1070
         },
         {
          "game": "Counter-Strike: Condition Zero",
          "month": "2016-08-01T00:00:00",
          "peak": 988
         },
         {
          "game": "Counter-Strike: Condition Zero",
          "month": "2016-09-01T00:00:00",
          "peak": 1051
         },
         {
          "game": "Counter-Strike: Condition Zero",
          "month": "2016-10-01T00:00:00",
          "peak": 1124
         },
         {
          "game": "Counter-Strike: Condition Zero",
          "month": "2016-11-01T00:00:00",
          "peak": 1301
         },
         {
          "game": "Counter-Strike: Condition Zero",
          "month": "2016-12-01T00:00:00",
          "peak": 1357
         },
         {
          "game": "Counter-Strike: Condition Zero",
          "month": "2017-01-01T00:00:00",
          "peak": 1387
         },
         {
          "game": "Counter-Strike: Condition Zero",
          "month": "2017-02-01T00:00:00",
          "peak": 1247
         },
         {
          "game": "Counter-Strike: Condition Zero",
          "month": "2017-03-01T00:00:00",
          "peak": 1269
         },
         {
          "game": "Counter-Strike: Condition Zero",
          "month": "2017-04-01T00:00:00",
          "peak": 1078
         },
         {
          "game": "Counter-Strike: Condition Zero",
          "month": "2017-05-01T00:00:00",
          "peak": 1059
         },
         {
          "game": "Counter-Strike: Condition Zero",
          "month": "2017-06-01T00:00:00",
          "peak": 1065
         },
         {
          "game": "Counter-Strike: Condition Zero",
          "month": "2017-07-01T00:00:00",
          "peak": 1090
         },
         {
          "game": "Counter-Strike: Condition Zero",
          "month": "2017-08-01T00:00:00",
          "peak": 1012
         },
         {
          "game": "Counter-Strike: Condition Zero",
          "month": "2017-09-01T00:00:00",
          "peak": 1012
         },
         {
          "game": "Counter-Strike: Condition Zero",
          "month": "2017-10-01T00:00:00",
          "peak": 1044
         },
         {
          "game": "Counter-Strike: Condition Zero",
          "month": "2017-11-01T00:00:00",
          "peak": 1418
         },
         {
          "game": "Counter-Strike: Condition Zero",
          "month": "2017-12-01T00:00:00",
          "peak": 1440
         },
         {
          "game": "Counter-Strike: Condition Zero",
          "month": "2018-01-01T00:00:00",
          "peak": 1394
         },
         {
          "game": "Counter-Strike: Condition Zero",
          "month": "2018-02-01T00:00:00",
          "peak": 1370
         },
         {
          "game": "Counter-Strike: Condition Zero",
          "month": "2018-03-01T00:00:00",
          "peak": 1187
         },
         {
          "game": "Counter-Strike: Condition Zero",
          "month": "2018-04-01T00:00:00",
          "peak": 999
         },
         {
          "game": "Counter-Strike: Condition Zero",
          "month": "2018-05-01T00:00:00",
          "peak": 934
         },
         {
          "game": "Counter-Strike: Condition Zero",
          "month": "2018-06-01T00:00:00",
          "peak": 1062
         },
         {
          "game": "Counter-Strike: Condition Zero",
          "month": "2018-07-01T00:00:00",
          "peak": 985
         },
         {
          "game": "Counter-Strike: Condition Zero",
          "month": "2018-08-01T00:00:00",
          "peak": 858
         },
         {
          "game": "Counter-Strike: Condition Zero",
          "month": "2018-09-01T00:00:00",
          "peak": 840
         },
         {
          "game": "Counter-Strike: Condition Zero",
          "month": "2018-10-01T00:00:00",
          "peak": 860
         },
         {
          "game": "Counter-Strike: Condition Zero",
          "month": "2018-11-01T00:00:00",
          "peak": 1069
         },
         {
          "game": "Counter-Strike: Condition Zero",
          "month": "2018-12-01T00:00:00",
          "peak": 1061
         },
         {
          "game": "Counter-Strike: Condition Zero",
          "month": "2019-01-01T00:00:00",
          "peak": 1013
         },
         {
          "game": "Counter-Strike: Condition Zero",
          "month": "2019-02-01T00:00:00",
          "peak": 969
         },
         {
          "game": "Counter-Strike: Condition Zero",
          "month": "2019-03-01T00:00:00",
          "peak": 905
         },
         {
          "game": "Counter-Strike: Condition Zero",
          "month": "2019-04-01T00:00:00",
          "peak": 845
         },
         {
          "game": "Counter-Strike: Condition Zero",
          "month": "2019-05-01T00:00:00",
          "peak": 811
         },
         {
          "game": "Counter-Strike: Condition Zero",
          "month": "2019-06-01T00:00:00",
          "peak": 793
         },
         {
          "game": "Counter-Strike: Condition Zero",
          "month": "2019-07-01T00:00:00",
          "peak": 767
         },
         {
          "game": "Counter-Strike: Condition Zero",
          "month": "2019-08-01T00:00:00",
          "peak": 681
         },
         {
          "game": "Counter-Strike: Condition Zero",
          "month": "2019-09-01T00:00:00",
          "peak": 696
         },
         {
          "game": "Counter-Strike: Condition Zero",
          "month": "2019-10-01T00:00:00",
          "peak": 709
         },
         {
          "game": "Counter-Strike: Condition Zero",
          "month": "2019-11-01T00:00:00",
          "peak": 746
         },
         {
          "game": "Counter-Strike: Condition Zero",
          "month": "2019-12-01T00:00:00",
          "peak": 819
         },
         {
          "game": "Counter-Strike: Condition Zero",
          "month": "2020-01-01T00:00:00",
          "peak": 791
         },
         {
          "game": "Counter-Strike: Condition Zero",
          "month": "2020-02-01T00:00:00",
          "peak": 729
         },
         {
          "game": "Counter-Strike: Condition Zero",
          "month": "2020-03-01T00:00:00",
          "peak": 1576
         },
         {
          "game": "Counter-Strike: Condition Zero",
          "month": "2020-04-01T00:00:00",
          "peak": 1531
         },
         {
          "game": "Counter-Strike: Condition Zero",
          "month": "2020-05-01T00:00:00",
          "peak": 1358
         },
         {
          "game": "Counter-Strike: Condition Zero",
          "month": "2020-06-01T00:00:00",
          "peak": 929
         },
         {
          "game": "Counter-Strike: Condition Zero",
          "month": "2020-07-01T00:00:00",
          "peak": 921
         },
         {
          "game": "Counter-Strike: Condition Zero",
          "month": "2020-08-01T00:00:00",
          "peak": 740
         },
         {
          "game": "Counter-Strike: Condition Zero",
          "month": "2020-09-01T00:00:00",
          "peak": 694
         },
         {
          "game": "Counter-Strike: Condition Zero",
          "month": "2020-10-01T00:00:00",
          "peak": 726
         },
         {
          "game": "Counter-Strike: Condition Zero",
          "month": "2020-11-01T00:00:00",
          "peak": 844
         },
         {
          "game": "Counter-Strike: Condition Zero",
          "month": "2020-12-01T00:00:00",
          "peak": 908
         },
         {
          "game": "Counter-Strike: Condition Zero",
          "month": "2021-01-01T00:00:00",
          "peak": 947
         },
         {
          "game": "Counter-Strike: Condition Zero",
          "month": "2021-02-01T00:00:00",
          "peak": 852
         },
         {
          "game": "Counter-Strike: Condition Zero",
          "month": "2021-03-01T00:00:00",
          "peak": 806
         },
         {
          "game": "Counter-Strike: Condition Zero",
          "month": "2021-04-01T00:00:00",
          "peak": 776
         },
         {
          "game": "Counter-Strike: Condition Zero",
          "month": "2021-05-01T00:00:00",
          "peak": 752
         },
         {
          "game": "Counter-Strike: Condition Zero",
          "month": "2021-06-01T00:00:00",
          "peak": 683
         },
         {
          "game": "Counter-Strike: Condition Zero",
          "month": "2021-07-01T00:00:00",
          "peak": 649
         },
         {
          "game": "Counter-Strike: Condition Zero",
          "month": "2021-08-01T00:00:00",
          "peak": 583
         },
         {
          "game": "Counter-Strike: Condition Zero",
          "month": "2021-09-01T00:00:00",
          "peak": 582
         },
         {
          "game": "Counter-Strike: Condition Zero",
          "month": "2021-10-01T00:00:00",
          "peak": 587
         },
         {
          "game": "Counter-Strike: Condition Zero",
          "month": "2021-11-01T00:00:00",
          "peak": 640
         },
         {
          "game": "Counter-Strike: Condition Zero",
          "month": "2021-12-01T00:00:00",
          "peak": 686
         },
         {
          "game": "Counter-Strike: Condition Zero",
          "month": "2022-01-01T00:00:00",
          "peak": 697
         },
         {
          "game": "Counter-Strike: Condition Zero",
          "month": "2022-02-01T00:00:00",
          "peak": 677
         },
         {
          "game": "Counter-Strike: Condition Zero",
          "month": "2022-03-01T00:00:00",
          "peak": 613
         },
         {
          "game": "Counter-Strike: Condition Zero",
          "month": "2022-04-01T00:00:00",
          "peak": 584
         },
         {
          "game": "Counter-Strike: Condition Zero",
          "month": "2022-05-01T00:00:00",
          "peak": 524
         },
         {
          "game": "Counter-Strike: Condition Zero",
          "month": "2022-06-01T00:00:00",
          "peak": 542
         },
         {
          "game": "Counter-Strike: Condition Zero",
          "month": "2022-07-01T00:00:00",
          "peak": 525
         },
         {
          "game": "Counter-Strike: Condition Zero",
          "month": "2022-08-01T00:00:00",
          "peak": 491
         },
         {
          "game": "Counter-Strike: Condition Zero",
          "month": "2022-09-01T00:00:00",
          "peak": 495
         },
         {
          "game": "Counter-Strike: Condition Zero",
          "month": "2022-10-01T00:00:00",
          "peak": 527
         },
         {
          "game": "Counter-Strike: Condition Zero",
          "month": "2022-11-01T00:00:00",
          "peak": 735
         },
         {
          "game": "Counter-Strike: Condition Zero",
          "month": "2022-12-01T00:00:00",
          "peak": 718
         },
         {
          "game": "Counter-Strike: Condition Zero",
          "month": "2023-01-01T00:00:00",
          "peak": 719
         },
         {
          "game": "Counter-Strike: Condition Zero",
          "month": "2023-02-01T00:00:00",
          "peak": 635
         },
         {
          "game": "Counter-Strike: Condition Zero",
          "month": "2023-03-01T00:00:00",
          "peak": 708
         },
         {
          "game": "Counter-Strike: Condition Zero",
          "month": "2023-04-01T00:00:00",
          "peak": 668
         },
         {
          "game": "Counter-Strike: Condition Zero",
          "month": "2023-05-01T00:00:00",
          "peak": 556
         },
         {
          "game": "Counter-Strike: Condition Zero",
          "month": "2023-06-01T00:00:00",
          "peak": 648
         },
         {
          "game": "Counter-Strike: Condition Zero",
          "month": "2023-07-01T00:00:00",
          "peak": 621
         },
         {
          "game": "Counter-Strike: Condition Zero",
          "month": "2023-08-01T00:00:00",
          "peak": 521
         },
         {
          "game": "Counter-Strike: Condition Zero",
          "month": "2023-09-01T00:00:00",
          "peak": 630
         },
         {
          "game": "Counter-Strike: Condition Zero",
          "month": "2023-10-01T00:00:00",
          "peak": 601
         },
         {
          "game": "Counter-Strike: Condition Zero",
          "month": "2023-11-01T00:00:00",
          "peak": 578
         },
         {
          "game": "Counter-Strike: Condition Zero",
          "month": "2023-12-01T00:00:00",
          "peak": 638
         },
         {
          "game": "Counter-Strike: Condition Zero",
          "month": "2024-01-01T00:00:00",
          "peak": 617
         },
         {
          "game": "Counter-Strike: Condition Zero",
          "month": "2024-02-01T00:00:00",
          "peak": 566
         },
         {
          "game": "Counter-Strike: Condition Zero",
          "month": "2024-03-01T00:00:00",
          "peak": 606
         },
         {
          "game": "Counter-Strike: Condition Zero",
          "month": "2024-04-01T00:00:00",
          "peak": 540
         },
         {
          "game": "Counter-Strike: Condition Zero",
          "month": "2024-05-01T00:00:00",
          "peak": 505
         },
         {
          "game": "Counter-Strike: Condition Zero",
          "month": "2024-06-01T00:00:00",
          "peak": 584
         },
         {
          "game": "Counter-Strike: Condition Zero",
          "month": "2024-07-01T00:00:00",
          "peak": 599
         },
         {
          "game": "Counter-Strike: Condition Zero",
          "month": "2024-08-01T00:00:00",
          "peak": 535
         },
         {
          "game": "Counter-Strike: Condition Zero",
          "month": "2024-09-01T00:00:00",
          "peak": 552
         },
         {
          "game": "Counter-Strike: Condition Zero",
          "month": "2024-10-01T00:00:00",
          "peak": 591
         },
         {
          "game": "Counter-Strike: Condition Zero",
          "month": "2024-11-01T00:00:00",
          "peak": 637
         },
         {
          "game": "Counter-Strike: Condition Zero",
          "month": "2024-12-01T00:00:00",
          "peak": 747
         },
         {
          "game": "Counter-Strike: Condition Zero",
          "month": "2025-01-01T00:00:00",
          "peak": 673
         },
         {
          "game": "Counter-Strike: Condition Zero",
          "month": "2025-02-01T00:00:00",
          "peak": 642
         },
         {
          "game": "Counter-Strike: Condition Zero",
          "month": "2025-03-01T00:00:00",
          "peak": 644
         },
         {
          "game": "Counter-Strike: Condition Zero",
          "month": "2025-04-01T00:00:00",
          "peak": 616
         },
         {
          "game": "Counter-Strike: Condition Zero",
          "month": "2025-05-01T00:00:00",
          "peak": 580
         },
         {
          "game": "Counter-Strike: Condition Zero",
          "month": "2025-06-01T00:00:00",
          "peak": 559
         },
         {
          "game": "Counter-Strike: Condition Zero",
          "month": "2025-07-01T00:00:00",
          "peak": 588
         },
         {
          "game": "Counter-Strike: Condition Zero",
          "month": "2025-08-01T00:00:00",
          "peak": 557
         },
         {
          "game": "Counter-Strike: Global Offensive",
          "month": "2011-11-01T00:00:00",
          "peak": 680
         },
         {
          "game": "Counter-Strike: Global Offensive",
          "month": "2012-02-01T00:00:00",
          "peak": 204
         },
         {
          "game": "Counter-Strike: Global Offensive",
          "month": "2012-03-01T00:00:00",
          "peak": 1263
         },
         {
          "game": "Counter-Strike: Global Offensive",
          "month": "2012-04-01T00:00:00",
          "peak": 1899
         },
         {
          "game": "Counter-Strike: Global Offensive",
          "month": "2012-05-01T00:00:00",
          "peak": 2919
         },
         {
          "game": "Counter-Strike: Global Offensive",
          "month": "2012-06-01T00:00:00",
          "peak": 2732
         },
         {
          "game": "Counter-Strike: Global Offensive",
          "month": "2012-07-01T00:00:00",
          "peak": 52261
         },
         {
          "game": "Counter-Strike: Global Offensive",
          "month": "2012-08-01T00:00:00",
          "peak": 52596
         },
         {
          "game": "Counter-Strike: Global Offensive",
          "month": "2012-09-01T00:00:00",
          "peak": 36870
         },
         {
          "game": "Counter-Strike: Global Offensive",
          "month": "2012-10-01T00:00:00",
          "peak": 50533
         },
         {
          "game": "Counter-Strike: Global Offensive",
          "month": "2012-11-01T00:00:00",
          "peak": 50533
         },
         {
          "game": "Counter-Strike: Global Offensive",
          "month": "2012-12-01T00:00:00",
          "peak": 31359
         },
         {
          "game": "Counter-Strike: Global Offensive",
          "month": "2013-01-01T00:00:00",
          "peak": 35238
         },
         {
          "game": "Counter-Strike: Global Offensive",
          "month": "2013-02-01T00:00:00",
          "peak": 35597
         },
         {
          "game": "Counter-Strike: Global Offensive",
          "month": "2013-03-01T00:00:00",
          "peak": 32414
         },
         {
          "game": "Counter-Strike: Global Offensive",
          "month": "2013-04-01T00:00:00",
          "peak": 53379
         },
         {
          "game": "Counter-Strike: Global Offensive",
          "month": "2013-05-01T00:00:00",
          "peak": 53381
         },
         {
          "game": "Counter-Strike: Global Offensive",
          "month": "2013-06-01T00:00:00",
          "peak": 42149
         },
         {
          "game": "Counter-Strike: Global Offensive",
          "month": "2013-07-01T00:00:00",
          "peak": 50511
         },
         {
          "game": "Counter-Strike: Global Offensive",
          "month": "2013-08-01T00:00:00",
          "peak": 52052
         },
         {
          "game": "Counter-Strike: Global Offensive",
          "month": "2013-09-01T00:00:00",
          "peak": 53263
         },
         {
          "game": "Counter-Strike: Global Offensive",
          "month": "2013-10-01T00:00:00",
          "peak": 92279
         },
         {
          "game": "Counter-Strike: Global Offensive",
          "month": "2013-11-01T00:00:00",
          "peak": 96298
         },
         {
          "game": "Counter-Strike: Global Offensive",
          "month": "2013-12-01T00:00:00",
          "peak": 102084
         },
         {
          "game": "Counter-Strike: Global Offensive",
          "month": "2014-01-01T00:00:00",
          "peak": 119764
         },
         {
          "game": "Counter-Strike: Global Offensive",
          "month": "2014-02-01T00:00:00",
          "peak": 164495
         },
         {
          "game": "Counter-Strike: Global Offensive",
          "month": "2014-03-01T00:00:00",
          "peak": 164781
         },
         {
          "game": "Counter-Strike: Global Offensive",
          "month": "2014-04-01T00:00:00",
          "peak": 170137
         },
         {
          "game": "Counter-Strike: Global Offensive",
          "month": "2014-05-01T00:00:00",
          "peak": 173629
         },
         {
          "game": "Counter-Strike: Global Offensive",
          "month": "2014-06-01T00:00:00",
          "peak": 194016
         },
         {
          "game": "Counter-Strike: Global Offensive",
          "month": "2014-07-01T00:00:00",
          "peak": 277192
         },
         {
          "game": "Counter-Strike: Global Offensive",
          "month": "2014-08-01T00:00:00",
          "peak": 275014
         },
         {
          "game": "Counter-Strike: Global Offensive",
          "month": "2014-09-01T00:00:00",
          "peak": 260613
         },
         {
          "game": "Counter-Strike: Global Offensive",
          "month": "2014-10-01T00:00:00",
          "peak": 348018
         },
         {
          "game": "Counter-Strike: Global Offensive",
          "month": "2014-11-01T00:00:00",
          "peak": 367634
         },
         {
          "game": "Counter-Strike: Global Offensive",
          "month": "2014-12-01T00:00:00",
          "peak": 443188
         },
         {
          "game": "Counter-Strike: Global Offensive",
          "month": "2015-01-01T00:00:00",
          "peak": 455508
         },
         {
          "game": "Counter-Strike: Global Offensive",
          "month": "2015-02-01T00:00:00",
          "peak": 595439
         },
         {
          "game": "Counter-Strike: Global Offensive",
          "month": "2015-03-01T00:00:00",
          "peak": 568556
         },
         {
          "game": "Counter-Strike: Global Offensive",
          "month": "2015-04-01T00:00:00",
          "peak": 569848
         },
         {
          "game": "Counter-Strike: Global Offensive",
          "month": "2015-05-01T00:00:00",
          "peak": 681170
         },
         {
          "game": "Counter-Strike: Global Offensive",
          "month": "2015-06-01T00:00:00",
          "peak": 611284
         },
         {
          "game": "Counter-Strike: Global Offensive",
          "month": "2015-07-01T00:00:00",
          "peak": 546142
         },
         {
          "game": "Counter-Strike: Global Offensive",
          "month": "2015-08-01T00:00:00",
          "peak": 819902
         },
         {
          "game": "Counter-Strike: Global Offensive",
          "month": "2015-09-01T00:00:00",
          "peak": 725939
         },
         {
          "game": "Counter-Strike: Global Offensive",
          "month": "2015-10-01T00:00:00",
          "peak": 786707
         },
         {
          "game": "Counter-Strike: Global Offensive",
          "month": "2015-11-01T00:00:00",
          "peak": 691930
         },
         {
          "game": "Counter-Strike: Global Offensive",
          "month": "2015-12-01T00:00:00",
          "peak": 823694
         },
         {
          "game": "Counter-Strike: Global Offensive",
          "month": "2016-01-01T00:00:00",
          "peak": 667432
         },
         {
          "game": "Counter-Strike: Global Offensive",
          "month": "2016-02-01T00:00:00",
          "peak": 738969
         },
         {
          "game": "Counter-Strike: Global Offensive",
          "month": "2016-03-01T00:00:00",
          "peak": 800869
         },
         {
          "game": "Counter-Strike: Global Offensive",
          "month": "2016-04-01T00:00:00",
          "peak": 850485
         },
         {
          "game": "Counter-Strike: Global Offensive",
          "month": "2016-05-01T00:00:00",
          "peak": 638088
         },
         {
          "game": "Counter-Strike: Global Offensive",
          "month": "2016-06-01T00:00:00",
          "peak": 579110
         },
         {
          "game": "Counter-Strike: Global Offensive",
          "month": "2016-07-01T00:00:00",
          "peak": 636056
         },
         {
          "game": "Counter-Strike: Global Offensive",
          "month": "2016-08-01T00:00:00",
          "peak": 599095
         },
         {
          "game": "Counter-Strike: Global Offensive",
          "month": "2016-09-01T00:00:00",
          "peak": 638360
         },
         {
          "game": "Counter-Strike: Global Offensive",
          "month": "2016-10-01T00:00:00",
          "peak": 661985
         },
         {
          "game": "Counter-Strike: Global Offensive",
          "month": "2016-11-01T00:00:00",
          "peak": 627124
         },
         {
          "game": "Counter-Strike: Global Offensive",
          "month": "2016-12-01T00:00:00",
          "peak": 662460
         },
         {
          "game": "Counter-Strike: Global Offensive",
          "month": "2017-01-01T00:00:00",
          "peak": 814616
         },
         {
          "game": "Counter-Strike: Global Offensive",
          "month": "2017-02-01T00:00:00",
          "peak": 744468
         },
         {
          "game": "Counter-Strike: Global Offensive",
          "month": "2017-03-01T00:00:00",
          "peak": 742356
         },
         {
          "game": "Counter-Strike: Global Offensive",
          "month": "2017-04-01T00:00:00",
          "peak": 695235
         },
         {
          "game": "Counter-Strike: Global Offensive",
          "month": "2017-05-01T00:00:00",
          "peak": 697189
         },
         {
          "game": "Counter-Strike: Global Offensive",
          "month": "2017-06-01T00:00:00",
          "peak": 614621
         },
         {
          "game": "Counter-Strike: Global Offensive",
          "month": "2017-07-01T00:00:00",
          "peak": 640277
         },
         {
          "game": "Counter-Strike: Global Offensive",
          "month": "2017-08-01T00:00:00",
          "peak": 598656
         },
         {
          "game": "Counter-Strike: Global Offensive",
          "month": "2017-09-01T00:00:00",
          "peak": 681413
         },
         {
          "game": "Counter-Strike: Global Offensive",
          "month": "2017-10-01T00:00:00",
          "peak": 644082
         },
         {
          "game": "Counter-Strike: Global Offensive",
          "month": "2017-11-01T00:00:00",
          "peak": 602797
         },
         {
          "game": "Counter-Strike: Global Offensive",
          "month": "2017-12-01T00:00:00",
          "peak": 601351
         },
         {
          "game": "Counter-Strike: Global Offensive",
          "month": "2018-01-01T00:00:00",
          "peak": 719298
         },
         {
          "game": "Counter-Strike: Global Offensive",
          "month": "2018-02-01T00:00:00",
          "peak": 691196
         },
         {
          "game": "Counter-Strike: Global Offensive",
          "month": "2018-03-01T00:00:00",
          "peak": 674462
         },
         {
          "game": "Counter-Strike: Global Offensive",
          "month": "2018-04-01T00:00:00",
          "peak": 523827
         },
         {
          "game": "Counter-Strike: Global Offensive",
          "month": "2018-05-01T00:00:00",
          "peak": 454436
         },
         {
          "game": "Counter-Strike: Global Offensive",
          "month": "2018-06-01T00:00:00",
          "peak": 422310
         },
         {
          "game": "Counter-Strike: Global Offensive",
          "month": "2018-07-01T00:00:00",
          "peak": 429650
         },
         {
          "game": "Counter-Strike: Global Offensive",
          "month": "2018-08-01T00:00:00",
          "peak": 456907
         },
         {
          "game": "Counter-Strike: Global Offensive",
          "month": "2018-09-01T00:00:00",
          "peak": 587639
         },
         {
          "game": "Counter-Strike: Global Offensive",
          "month": "2018-10-01T00:00:00",
          "peak": 567916
         },
         {
          "game": "Counter-Strike: Global Offensive",
          "month": "2018-11-01T00:00:00",
          "peak": 546192
         },
         {
          "game": "Counter-Strike: Global Offensive",
          "month": "2018-12-01T00:00:00",
          "peak": 749638
         },
         {
          "game": "Counter-Strike: Global Offensive",
          "month": "2019-01-01T00:00:00",
          "peak": 687299
         },
         {
          "game": "Counter-Strike: Global Offensive",
          "month": "2019-02-01T00:00:00",
          "peak": 656097
         },
         {
          "game": "Counter-Strike: Global Offensive",
          "month": "2019-03-01T00:00:00",
          "peak": 683952
         },
         {
          "game": "Counter-Strike: Global Offensive",
          "month": "2019-04-01T00:00:00",
          "peak": 622852
         },
         {
          "game": "Counter-Strike: Global Offensive",
          "month": "2019-05-01T00:00:00",
          "peak": 592848
         },
         {
          "game": "Counter-Strike: Global Offensive",
          "month": "2019-06-01T00:00:00",
          "peak": 591839
         },
         {
          "game": "Counter-Strike: Global Offensive",
          "month": "2019-07-01T00:00:00",
          "peak": 579696
         },
         {
          "game": "Counter-Strike: Global Offensive",
          "month": "2019-08-01T00:00:00",
          "peak": 659195
         },
         {
          "game": "Counter-Strike: Global Offensive",
          "month": "2019-09-01T00:00:00",
          "peak": 723700
         },
         {
          "game": "Counter-Strike: Global Offensive",
          "month": "2019-10-01T00:00:00",
          "peak": 754909
         },
         {
          "game": "Counter-Strike: Global Offensive",
          "month": "2019-11-01T00:00:00",
          "peak": 764438
         },
         {
          "game": "Counter-Strike: Global Offensive",
          "month": "2019-12-01T00:00:00",
          "peak": 771640
         },
         {
          "game": "Counter-Strike: Global Offensive",
          "month": "2020-01-01T00:00:00",
          "peak": 822490
         },
         {
          "game": "Counter-Strike: Global Offensive",
          "month": "2020-02-01T00:00:00",
          "peak": 933748
         },
         {
          "game": "Counter-Strike: Global Offensive",
          "month": "2020-03-01T00:00:00",
          "peak": 1226724
         },
         {
          "game": "Counter-Strike: Global Offensive",
          "month": "2020-04-01T00:00:00",
          "peak": 1308963
         },
         {
          "game": "Counter-Strike: Global Offensive",
          "month": "2020-05-01T00:00:00",
          "peak": 1179111
         },
         {
          "game": "Counter-Strike: Global Offensive",
          "month": "2020-06-01T00:00:00",
          "peak": 957636
         },
         {
          "game": "Counter-Strike: Global Offensive",
          "month": "2020-07-01T00:00:00",
          "peak": 861948
         },
         {
          "game": "Counter-Strike: Global Offensive",
          "month": "2020-08-01T00:00:00",
          "peak": 932283
         },
         {
          "game": "Counter-Strike: Global Offensive",
          "month": "2020-09-01T00:00:00",
          "peak": 980879
         },
         {
          "game": "Counter-Strike: Global Offensive",
          "month": "2020-10-01T00:00:00",
          "peak": 951748
         },
         {
          "game": "Counter-Strike: Global Offensive",
          "month": "2020-11-01T00:00:00",
          "peak": 1040051
         },
         {
          "game": "Counter-Strike: Global Offensive",
          "month": "2020-12-01T00:00:00",
          "peak": 1169661
         },
         {
          "game": "Counter-Strike: Global Offensive",
          "month": "2021-01-01T00:00:00",
          "peak": 1125411
         },
         {
          "game": "Counter-Strike: Global Offensive",
          "month": "2021-02-01T00:00:00",
          "peak": 1125838
         },
         {
          "game": "Counter-Strike: Global Offensive",
          "month": "2021-03-01T00:00:00",
          "peak": 1201993
         },
         {
          "game": "Counter-Strike: Global Offensive",
          "month": "2021-04-01T00:00:00",
          "peak": 1150982
         },
         {
          "game": "Counter-Strike: Global Offensive",
          "month": "2021-05-01T00:00:00",
          "peak": 1088168
         },
         {
          "game": "Counter-Strike: Global Offensive",
          "month": "2021-06-01T00:00:00",
          "peak": 929940
         },
         {
          "game": "Counter-Strike: Global Offensive",
          "month": "2021-07-01T00:00:00",
          "peak": 766510
         },
         {
          "game": "Counter-Strike: Global Offensive",
          "month": "2021-08-01T00:00:00",
          "peak": 804133
         },
         {
          "game": "Counter-Strike: Global Offensive",
          "month": "2021-09-01T00:00:00",
          "peak": 949817
         },
         {
          "game": "Counter-Strike: Global Offensive",
          "month": "2021-10-01T00:00:00",
          "peak": 866030
         },
         {
          "game": "Counter-Strike: Global Offensive",
          "month": "2021-11-01T00:00:00",
          "peak": 944330
         },
         {
          "game": "Counter-Strike: Global Offensive",
          "month": "2021-12-01T00:00:00",
          "peak": 950586
         },
         {
          "game": "Counter-Strike: Global Offensive",
          "month": "2022-01-01T00:00:00",
          "peak": 992455
         },
         {
          "game": "Counter-Strike: Global Offensive",
          "month": "2022-02-01T00:00:00",
          "peak": 997730
         },
         {
          "game": "Counter-Strike: Global Offensive",
          "month": "2022-03-01T00:00:00",
          "peak": 993808
         },
         {
          "game": "Counter-Strike: Global Offensive",
          "month": "2022-04-01T00:00:00",
          "peak": 1016762
         },
         {
          "game": "Counter-Strike: Global Offensive",
          "month": "2022-05-01T00:00:00",
          "peak": 932681
         },
         {
          "game": "Counter-Strike: Global Offensive",
          "month": "2022-06-01T00:00:00",
          "peak": 906968
         },
         {
          "game": "Counter-Strike: Global Offensive",
          "month": "2022-07-01T00:00:00",
          "peak": 928329
         },
         {
          "game": "Counter-Strike: Global Offensive",
          "month": "2022-08-01T00:00:00",
          "peak": 1039889
         },
         {
          "game": "Counter-Strike: Global Offensive",
          "month": "2022-09-01T00:00:00",
          "peak": 1103223
         },
         {
          "game": "Counter-Strike: Global Offensive",
          "month": "2022-10-01T00:00:00",
          "peak": 1090858
         },
         {
          "game": "Counter-Strike: Global Offensive",
          "month": "2022-11-01T00:00:00",
          "peak": 1132952
         },
         {
          "game": "Counter-Strike: Global Offensive",
          "month": "2022-12-01T00:00:00",
          "peak": 1067327
         },
         {
          "game": "Counter-Strike: Global Offensive",
          "month": "2023-01-01T00:00:00",
          "peak": 1200077
         },
         {
          "game": "Counter-Strike: Global Offensive",
          "month": "2023-02-01T00:00:00",
          "peak": 1355797
         },
         {
          "game": "Counter-Strike: Global Offensive",
          "month": "2023-03-01T00:00:00",
          "peak": 1519457
         },
         {
          "game": "Counter-Strike: Global Offensive",
          "month": "2023-04-01T00:00:00",
          "peak": 1514410
         },
         {
          "game": "Counter-Strike: Global Offensive",
          "month": "2023-05-01T00:00:00",
          "peak": 1818773
         },
         {
          "game": "Counter-Strike: Global Offensive",
          "month": "2023-06-01T00:00:00",
          "peak": 1673717
         },
         {
          "game": "Counter-Strike: Global Offensive",
          "month": "2023-07-01T00:00:00",
          "peak": 1226527
         },
         {
          "game": "Counter-Strike: Global Offensive",
          "month": "2023-08-01T00:00:00",
          "peak": 1539504
         },
         {
          "game": "Counter-Strike 2",
          "month": "2023-09-01T00:00:00",
          "peak": 1560435
         },
         {
          "game": "Counter-Strike 2",
          "month": "2023-10-01T00:00:00",
          "peak": 1392488
         },
         {
          "game": "Counter-Strike 2",
          "month": "2023-11-01T00:00:00",
          "peak": 1163388
         },
         {
          "game": "Counter-Strike 2",
          "month": "2023-12-01T00:00:00",
          "peak": 1255172
         },
         {
          "game": "Counter-Strike 2",
          "month": "2024-01-01T00:00:00",
          "peak": 1312422
         },
         {
          "game": "Counter-Strike 2",
          "month": "2024-02-01T00:00:00",
          "peak": 1403250
         },
         {
          "game": "Counter-Strike 2",
          "month": "2024-03-01T00:00:00",
          "peak": 1525069
         },
         {
          "game": "Counter-Strike 2",
          "month": "2024-04-01T00:00:00",
          "peak": 1618685
         },
         {
          "game": "Counter-Strike 2",
          "month": "2024-05-01T00:00:00",
          "peak": 1631616
         },
         {
          "game": "Counter-Strike 2",
          "month": "2024-06-01T00:00:00",
          "peak": 1525896
         },
         {
          "game": "Counter-Strike 2",
          "month": "2024-07-01T00:00:00",
          "peak": 1347502
         },
         {
          "game": "Counter-Strike 2",
          "month": "2024-08-01T00:00:00",
          "peak": 1426478
         },
         {
          "game": "Counter-Strike 2",
          "month": "2024-09-01T00:00:00",
          "peak": 1482529
         },
         {
          "game": "Counter-Strike 2",
          "month": "2024-10-01T00:00:00",
          "peak": 1498661
         },
         {
          "game": "Counter-Strike 2",
          "month": "2024-11-01T00:00:00",
          "peak": 1562206
         },
         {
          "game": "Counter-Strike 2",
          "month": "2024-12-01T00:00:00",
          "peak": 1740261
         },
         {
          "game": "Counter-Strike 2",
          "month": "2025-01-01T00:00:00",
          "peak": 1604641
         },
         {
          "game": "Counter-Strike 2",
          "month": "2025-02-01T00:00:00",
          "peak": 1789374
         },
         {
          "game": "Counter-Strike 2",
          "month": "2025-03-01T00:00:00",
          "peak": 1824989
         },
         {
          "game": "Counter-Strike 2",
          "month": "2025-04-01T00:00:00",
          "peak": 1862531
         },
         {
          "game": "Counter-Strike 2",
          "month": "2025-05-01T00:00:00",
          "peak": 1722301
         },
         {
          "game": "Counter-Strike 2",
          "month": "2025-06-01T00:00:00",
          "peak": 1732079
         },
         {
          "game": "Counter-Strike 2",
          "month": "2025-07-01T00:00:00",
          "peak": 1433826
         },
         {
          "game": "Counter-Strike 2",
          "month": "2025-08-01T00:00:00",
          "peak": 1505419
         }
        ]
       },
       "encoding": {
        "color": {
         "field": "game",
         "scale": {
          "domain": [
           "Counter-Strike (1.6)",
           "Counter-Strike: Condition Zero",
           "Counter-Strike: Source",
           "Counter-Strike: Global Offensive",
           "Counter-Strike 2"
          ],
          "range": [
           "#009E73",
           "#7F7F7F",
           "#56B4E9",
           "#D55E00",
           "#CC79A7"
          ]
         },
         "title": "Game/Version",
         "type": "nominal"
        },
        "tooltip": [
         {
          "field": "game",
          "type": "nominal"
         },
         {
          "field": "month",
          "type": "temporal"
         },
         {
          "field": "peak",
          "type": "quantitative"
         }
        ],
        "x": {
         "field": "month",
         "title": "Year",
         "type": "temporal"
        },
        "y": {
         "field": "peak",
         "title": "Peak players",
         "type": "quantitative"
        }
       },
       "height": 450,
       "mark": {
        "type": "line"
       },
       "title": "Counter-Strike Playerbase Over Time",
       "usermeta": {
        "embedOptions": {
         "theme": "fivethirtyeight"
        }
       },
       "width": 950
      },
      "text/plain": [
       "<VegaLite 5 object>\n",
       "\n",
       "If you see this message, it means the renderer has not been properly enabled\n",
       "for the frontend that you are using. For more information, see\n",
       "https://altair-viz.github.io/user_guide/display_frontends.html#troubleshooting\n"
      ]
     },
     "execution_count": 84,
     "metadata": {},
     "output_type": "execute_result"
    }
   ],
   "source": [
    "series = {\n",
    "    # \"All Counter-Strike (aggregate)\": cs_merged_grouped,\n",
    "    \"Counter-Strike (1.6)\": cs_data,\n",
    "    \"Counter-Strike: Source\": css_data,\n",
    "    \"Counter-Strike: Condition Zero\": cscz_data,\n",
    "    \"Counter-Strike: Global Offensive\": csgo_data,\n",
    "    \"Counter-Strike 2\": cs2_data,\n",
    "}\n",
    "\n",
    "colors = {\n",
    "    # \"All Counter-Strike (aggregate)\":  \"#0057B8\",  # deep royal blue (highlighted)\n",
    "    \"Counter-Strike (1.6)\":            \"#009E73\",  # green\n",
    "    \"Counter-Strike: Condition Zero\":  \"#7F7F7F\",  # medium gray (subtle)\n",
    "    \"Counter-Strike: Source\":          \"#56B4E9\",  # sky blue\n",
    "    \"Counter-Strike: Global Offensive\":\"#D55E00\",  # vermillion (strong contrast vs blue)\n",
    "    \"Counter-Strike 2\":                \"#CC79A7\",  # magenta\n",
    "}\n",
    "\n",
    "order = [\n",
    "#     \"All Counter-Strike (aggregate)\",\n",
    "    \"Counter-Strike (1.6)\",\n",
    "    \"Counter-Strike: Condition Zero\",\n",
    "    \"Counter-Strike: Source\",\n",
    "    \"Counter-Strike: Global Offensive\",\n",
    "    \"Counter-Strike 2\",\n",
    "]\n",
    "\n",
    "# Combine all series into one tidy DataFrame\n",
    "frames = []\n",
    "for name, df in series.items():\n",
    "    df[\"game\"] = name\n",
    "    frames.append(df[[\"month\", \"peak\", \"game\"]])\n",
    "\n",
    "combined = pd.concat(frames, ignore_index=True)\n",
    "\n",
    "# Build Altair chart\n",
    "chart = (\n",
    "    alt.Chart(combined)\n",
    "    .mark_line()\n",
    "    .encode(\n",
    "        x=alt.X(\"month:T\", title=\"Year\"),\n",
    "        y=alt.Y(\"peak:Q\", title=\"Peak players\"),\n",
    "        color=alt.Color(\"game:N\", title=\"Game/Version\", scale=alt.Scale(domain=order, range=[colors[k] for k in order])),\n",
    "        tooltip=[\"game\", \"month\", \"peak\"],\n",
    "    )\n",
    "    .properties(width=950, height=450, title=\"Counter-Strike Playerbase Over Time\")\n",
    ")\n",
    "\n",
    "chart"
   ]
  },
  {
   "cell_type": "code",
   "execution_count": 85,
   "id": "70def3de",
   "metadata": {},
   "outputs": [
    {
     "data": {
      "text/html": [
       "<div>\n",
       "<style scoped>\n",
       "    .dataframe tbody tr th:only-of-type {\n",
       "        vertical-align: middle;\n",
       "    }\n",
       "\n",
       "    .dataframe tbody tr th {\n",
       "        vertical-align: top;\n",
       "    }\n",
       "\n",
       "    .dataframe thead th {\n",
       "        text-align: right;\n",
       "    }\n",
       "</style>\n",
       "<table border=\"1\" class=\"dataframe\">\n",
       "  <thead>\n",
       "    <tr style=\"text-align: right;\">\n",
       "      <th></th>\n",
       "      <th>month</th>\n",
       "      <th>Avg Viewers</th>\n",
       "      <th>Gain</th>\n",
       "      <th>Peak Viewers</th>\n",
       "      <th>Avg Streams</th>\n",
       "      <th>Gain.1</th>\n",
       "      <th>Peak Streams</th>\n",
       "      <th>Hours Watched</th>\n",
       "      <th>viewCount</th>\n",
       "    </tr>\n",
       "  </thead>\n",
       "  <tbody>\n",
       "    <tr>\n",
       "      <th>0</th>\n",
       "      <td>2005-08-01</td>\n",
       "      <td>NaN</td>\n",
       "      <td>NaN</td>\n",
       "      <td>NaN</td>\n",
       "      <td>NaN</td>\n",
       "      <td>NaN</td>\n",
       "      <td>NaN</td>\n",
       "      <td>NaN</td>\n",
       "      <td>89144</td>\n",
       "    </tr>\n",
       "    <tr>\n",
       "      <th>1</th>\n",
       "      <td>2005-09-01</td>\n",
       "      <td>NaN</td>\n",
       "      <td>NaN</td>\n",
       "      <td>NaN</td>\n",
       "      <td>NaN</td>\n",
       "      <td>NaN</td>\n",
       "      <td>NaN</td>\n",
       "      <td>NaN</td>\n",
       "      <td>19415</td>\n",
       "    </tr>\n",
       "    <tr>\n",
       "      <th>2</th>\n",
       "      <td>2005-10-01</td>\n",
       "      <td>NaN</td>\n",
       "      <td>NaN</td>\n",
       "      <td>NaN</td>\n",
       "      <td>NaN</td>\n",
       "      <td>NaN</td>\n",
       "      <td>NaN</td>\n",
       "      <td>NaN</td>\n",
       "      <td>263357</td>\n",
       "    </tr>\n",
       "    <tr>\n",
       "      <th>3</th>\n",
       "      <td>2005-11-01</td>\n",
       "      <td>NaN</td>\n",
       "      <td>NaN</td>\n",
       "      <td>NaN</td>\n",
       "      <td>NaN</td>\n",
       "      <td>NaN</td>\n",
       "      <td>NaN</td>\n",
       "      <td>NaN</td>\n",
       "      <td>1810148</td>\n",
       "    </tr>\n",
       "    <tr>\n",
       "      <th>4</th>\n",
       "      <td>2005-12-01</td>\n",
       "      <td>NaN</td>\n",
       "      <td>NaN</td>\n",
       "      <td>NaN</td>\n",
       "      <td>NaN</td>\n",
       "      <td>NaN</td>\n",
       "      <td>NaN</td>\n",
       "      <td>NaN</td>\n",
       "      <td>10797827</td>\n",
       "    </tr>\n",
       "  </tbody>\n",
       "</table>\n",
       "</div>"
      ],
      "text/plain": [
       "       month  Avg Viewers  Gain  Peak Viewers  Avg Streams  Gain.1  \\\n",
       "0 2005-08-01          NaN   NaN           NaN          NaN     NaN   \n",
       "1 2005-09-01          NaN   NaN           NaN          NaN     NaN   \n",
       "2 2005-10-01          NaN   NaN           NaN          NaN     NaN   \n",
       "3 2005-11-01          NaN   NaN           NaN          NaN     NaN   \n",
       "4 2005-12-01          NaN   NaN           NaN          NaN     NaN   \n",
       "\n",
       "   Peak Streams  Hours Watched  viewCount  \n",
       "0           NaN            NaN      89144  \n",
       "1           NaN            NaN      19415  \n",
       "2           NaN            NaN     263357  \n",
       "3           NaN            NaN    1810148  \n",
       "4           NaN            NaN   10797827  "
      ]
     },
     "execution_count": 85,
     "metadata": {},
     "output_type": "execute_result"
    }
   ],
   "source": [
    "merged_yt_twitch = pd.concat([twitch_data_merged_grouped.set_index(\"month\"), youtube_data_views_by_month.set_index(\"month\")], axis=1).reset_index()\n",
    "merged_yt_twitch.head()"
   ]
  },
  {
   "cell_type": "code",
   "execution_count": 86,
   "id": "e2bb7184",
   "metadata": {},
   "outputs": [
    {
     "data": {
      "application/vnd.vegalite.v5+json": {
       "$schema": "https://vega.github.io/schema/vega-lite/v5.20.1.json",
       "config": {
        "view": {
         "continuousHeight": 300,
         "continuousWidth": 300
        }
       },
       "data": {
        "name": "data-a613f2090d5961fc81d6cb993f9866a2"
       },
       "datasets": {
        "data-a613f2090d5961fc81d6cb993f9866a2": [
         {
          "Avg Streams": null,
          "Avg Viewers": null,
          "Gain": null,
          "Gain.1": null,
          "Hours Watched": null,
          "Peak Streams": null,
          "Peak Viewers": null,
          "month": "2005-08-01T00:00:00",
          "viewCount": 89144
         },
         {
          "Avg Streams": null,
          "Avg Viewers": null,
          "Gain": null,
          "Gain.1": null,
          "Hours Watched": null,
          "Peak Streams": null,
          "Peak Viewers": null,
          "month": "2005-09-01T00:00:00",
          "viewCount": 19415
         },
         {
          "Avg Streams": null,
          "Avg Viewers": null,
          "Gain": null,
          "Gain.1": null,
          "Hours Watched": null,
          "Peak Streams": null,
          "Peak Viewers": null,
          "month": "2005-10-01T00:00:00",
          "viewCount": 263357
         },
         {
          "Avg Streams": null,
          "Avg Viewers": null,
          "Gain": null,
          "Gain.1": null,
          "Hours Watched": null,
          "Peak Streams": null,
          "Peak Viewers": null,
          "month": "2005-11-01T00:00:00",
          "viewCount": 1810148
         },
         {
          "Avg Streams": null,
          "Avg Viewers": null,
          "Gain": null,
          "Gain.1": null,
          "Hours Watched": null,
          "Peak Streams": null,
          "Peak Viewers": null,
          "month": "2005-12-01T00:00:00",
          "viewCount": 10797827
         },
         {
          "Avg Streams": null,
          "Avg Viewers": null,
          "Gain": null,
          "Gain.1": null,
          "Hours Watched": null,
          "Peak Streams": null,
          "Peak Viewers": null,
          "month": "2006-01-01T00:00:00",
          "viewCount": 13758267
         },
         {
          "Avg Streams": null,
          "Avg Viewers": null,
          "Gain": null,
          "Gain.1": null,
          "Hours Watched": null,
          "Peak Streams": null,
          "Peak Viewers": null,
          "month": "2006-02-01T00:00:00",
          "viewCount": 2171890
         },
         {
          "Avg Streams": null,
          "Avg Viewers": null,
          "Gain": null,
          "Gain.1": null,
          "Hours Watched": null,
          "Peak Streams": null,
          "Peak Viewers": null,
          "month": "2006-03-01T00:00:00",
          "viewCount": 11941211
         },
         {
          "Avg Streams": null,
          "Avg Viewers": null,
          "Gain": null,
          "Gain.1": null,
          "Hours Watched": null,
          "Peak Streams": null,
          "Peak Viewers": null,
          "month": "2006-04-01T00:00:00",
          "viewCount": 20355572
         },
         {
          "Avg Streams": null,
          "Avg Viewers": null,
          "Gain": null,
          "Gain.1": null,
          "Hours Watched": null,
          "Peak Streams": null,
          "Peak Viewers": null,
          "month": "2006-05-01T00:00:00",
          "viewCount": 10881455
         },
         {
          "Avg Streams": null,
          "Avg Viewers": null,
          "Gain": null,
          "Gain.1": null,
          "Hours Watched": null,
          "Peak Streams": null,
          "Peak Viewers": null,
          "month": "2006-06-01T00:00:00",
          "viewCount": 6914843
         },
         {
          "Avg Streams": null,
          "Avg Viewers": null,
          "Gain": null,
          "Gain.1": null,
          "Hours Watched": null,
          "Peak Streams": null,
          "Peak Viewers": null,
          "month": "2006-07-01T00:00:00",
          "viewCount": 4851261
         },
         {
          "Avg Streams": null,
          "Avg Viewers": null,
          "Gain": null,
          "Gain.1": null,
          "Hours Watched": null,
          "Peak Streams": null,
          "Peak Viewers": null,
          "month": "2006-08-01T00:00:00",
          "viewCount": 5038160
         },
         {
          "Avg Streams": null,
          "Avg Viewers": null,
          "Gain": null,
          "Gain.1": null,
          "Hours Watched": null,
          "Peak Streams": null,
          "Peak Viewers": null,
          "month": "2006-09-01T00:00:00",
          "viewCount": 4314279
         },
         {
          "Avg Streams": null,
          "Avg Viewers": null,
          "Gain": null,
          "Gain.1": null,
          "Hours Watched": null,
          "Peak Streams": null,
          "Peak Viewers": null,
          "month": "2006-10-01T00:00:00",
          "viewCount": 11003199
         },
         {
          "Avg Streams": null,
          "Avg Viewers": null,
          "Gain": null,
          "Gain.1": null,
          "Hours Watched": null,
          "Peak Streams": null,
          "Peak Viewers": null,
          "month": "2006-11-01T00:00:00",
          "viewCount": 10774678
         },
         {
          "Avg Streams": null,
          "Avg Viewers": null,
          "Gain": null,
          "Gain.1": null,
          "Hours Watched": null,
          "Peak Streams": null,
          "Peak Viewers": null,
          "month": "2006-12-01T00:00:00",
          "viewCount": 5881301
         },
         {
          "Avg Streams": null,
          "Avg Viewers": null,
          "Gain": null,
          "Gain.1": null,
          "Hours Watched": null,
          "Peak Streams": null,
          "Peak Viewers": null,
          "month": "2007-01-01T00:00:00",
          "viewCount": 17532321
         },
         {
          "Avg Streams": null,
          "Avg Viewers": null,
          "Gain": null,
          "Gain.1": null,
          "Hours Watched": null,
          "Peak Streams": null,
          "Peak Viewers": null,
          "month": "2007-02-01T00:00:00",
          "viewCount": 9787421
         },
         {
          "Avg Streams": null,
          "Avg Viewers": null,
          "Gain": null,
          "Gain.1": null,
          "Hours Watched": null,
          "Peak Streams": null,
          "Peak Viewers": null,
          "month": "2007-03-01T00:00:00",
          "viewCount": 5830694
         },
         {
          "Avg Streams": null,
          "Avg Viewers": null,
          "Gain": null,
          "Gain.1": null,
          "Hours Watched": null,
          "Peak Streams": null,
          "Peak Viewers": null,
          "month": "2007-04-01T00:00:00",
          "viewCount": 3117854
         },
         {
          "Avg Streams": null,
          "Avg Viewers": null,
          "Gain": null,
          "Gain.1": null,
          "Hours Watched": null,
          "Peak Streams": null,
          "Peak Viewers": null,
          "month": "2007-05-01T00:00:00",
          "viewCount": 6965563
         },
         {
          "Avg Streams": null,
          "Avg Viewers": null,
          "Gain": null,
          "Gain.1": null,
          "Hours Watched": null,
          "Peak Streams": null,
          "Peak Viewers": null,
          "month": "2007-06-01T00:00:00",
          "viewCount": 9479922
         },
         {
          "Avg Streams": null,
          "Avg Viewers": null,
          "Gain": null,
          "Gain.1": null,
          "Hours Watched": null,
          "Peak Streams": null,
          "Peak Viewers": null,
          "month": "2007-07-01T00:00:00",
          "viewCount": 5203975
         },
         {
          "Avg Streams": null,
          "Avg Viewers": null,
          "Gain": null,
          "Gain.1": null,
          "Hours Watched": null,
          "Peak Streams": null,
          "Peak Viewers": null,
          "month": "2007-08-01T00:00:00",
          "viewCount": 4659322
         },
         {
          "Avg Streams": null,
          "Avg Viewers": null,
          "Gain": null,
          "Gain.1": null,
          "Hours Watched": null,
          "Peak Streams": null,
          "Peak Viewers": null,
          "month": "2007-09-01T00:00:00",
          "viewCount": 37144139
         },
         {
          "Avg Streams": null,
          "Avg Viewers": null,
          "Gain": null,
          "Gain.1": null,
          "Hours Watched": null,
          "Peak Streams": null,
          "Peak Viewers": null,
          "month": "2007-10-01T00:00:00",
          "viewCount": 2976534
         },
         {
          "Avg Streams": null,
          "Avg Viewers": null,
          "Gain": null,
          "Gain.1": null,
          "Hours Watched": null,
          "Peak Streams": null,
          "Peak Viewers": null,
          "month": "2007-11-01T00:00:00",
          "viewCount": 2801432
         },
         {
          "Avg Streams": null,
          "Avg Viewers": null,
          "Gain": null,
          "Gain.1": null,
          "Hours Watched": null,
          "Peak Streams": null,
          "Peak Viewers": null,
          "month": "2007-12-01T00:00:00",
          "viewCount": 1852382
         },
         {
          "Avg Streams": null,
          "Avg Viewers": null,
          "Gain": null,
          "Gain.1": null,
          "Hours Watched": null,
          "Peak Streams": null,
          "Peak Viewers": null,
          "month": "2008-01-01T00:00:00",
          "viewCount": 6548230
         },
         {
          "Avg Streams": null,
          "Avg Viewers": null,
          "Gain": null,
          "Gain.1": null,
          "Hours Watched": null,
          "Peak Streams": null,
          "Peak Viewers": null,
          "month": "2008-02-01T00:00:00",
          "viewCount": 9926804
         },
         {
          "Avg Streams": null,
          "Avg Viewers": null,
          "Gain": null,
          "Gain.1": null,
          "Hours Watched": null,
          "Peak Streams": null,
          "Peak Viewers": null,
          "month": "2008-03-01T00:00:00",
          "viewCount": 5445341
         },
         {
          "Avg Streams": null,
          "Avg Viewers": null,
          "Gain": null,
          "Gain.1": null,
          "Hours Watched": null,
          "Peak Streams": null,
          "Peak Viewers": null,
          "month": "2008-04-01T00:00:00",
          "viewCount": 5933911
         },
         {
          "Avg Streams": null,
          "Avg Viewers": null,
          "Gain": null,
          "Gain.1": null,
          "Hours Watched": null,
          "Peak Streams": null,
          "Peak Viewers": null,
          "month": "2008-05-01T00:00:00",
          "viewCount": 4171123
         },
         {
          "Avg Streams": null,
          "Avg Viewers": null,
          "Gain": null,
          "Gain.1": null,
          "Hours Watched": null,
          "Peak Streams": null,
          "Peak Viewers": null,
          "month": "2008-06-01T00:00:00",
          "viewCount": 16177584
         },
         {
          "Avg Streams": null,
          "Avg Viewers": null,
          "Gain": null,
          "Gain.1": null,
          "Hours Watched": null,
          "Peak Streams": null,
          "Peak Viewers": null,
          "month": "2008-07-01T00:00:00",
          "viewCount": 1821860
         },
         {
          "Avg Streams": null,
          "Avg Viewers": null,
          "Gain": null,
          "Gain.1": null,
          "Hours Watched": null,
          "Peak Streams": null,
          "Peak Viewers": null,
          "month": "2008-08-01T00:00:00",
          "viewCount": 6069857
         },
         {
          "Avg Streams": null,
          "Avg Viewers": null,
          "Gain": null,
          "Gain.1": null,
          "Hours Watched": null,
          "Peak Streams": null,
          "Peak Viewers": null,
          "month": "2008-09-01T00:00:00",
          "viewCount": 4932420
         },
         {
          "Avg Streams": null,
          "Avg Viewers": null,
          "Gain": null,
          "Gain.1": null,
          "Hours Watched": null,
          "Peak Streams": null,
          "Peak Viewers": null,
          "month": "2008-10-01T00:00:00",
          "viewCount": 3675927
         },
         {
          "Avg Streams": null,
          "Avg Viewers": null,
          "Gain": null,
          "Gain.1": null,
          "Hours Watched": null,
          "Peak Streams": null,
          "Peak Viewers": null,
          "month": "2008-11-01T00:00:00",
          "viewCount": 4038333
         },
         {
          "Avg Streams": null,
          "Avg Viewers": null,
          "Gain": null,
          "Gain.1": null,
          "Hours Watched": null,
          "Peak Streams": null,
          "Peak Viewers": null,
          "month": "2008-12-01T00:00:00",
          "viewCount": 6632137
         },
         {
          "Avg Streams": null,
          "Avg Viewers": null,
          "Gain": null,
          "Gain.1": null,
          "Hours Watched": null,
          "Peak Streams": null,
          "Peak Viewers": null,
          "month": "2009-01-01T00:00:00",
          "viewCount": 2048813
         },
         {
          "Avg Streams": null,
          "Avg Viewers": null,
          "Gain": null,
          "Gain.1": null,
          "Hours Watched": null,
          "Peak Streams": null,
          "Peak Viewers": null,
          "month": "2009-02-01T00:00:00",
          "viewCount": 3549599
         },
         {
          "Avg Streams": null,
          "Avg Viewers": null,
          "Gain": null,
          "Gain.1": null,
          "Hours Watched": null,
          "Peak Streams": null,
          "Peak Viewers": null,
          "month": "2009-03-01T00:00:00",
          "viewCount": 2897808
         },
         {
          "Avg Streams": null,
          "Avg Viewers": null,
          "Gain": null,
          "Gain.1": null,
          "Hours Watched": null,
          "Peak Streams": null,
          "Peak Viewers": null,
          "month": "2009-04-01T00:00:00",
          "viewCount": 11303070
         },
         {
          "Avg Streams": null,
          "Avg Viewers": null,
          "Gain": null,
          "Gain.1": null,
          "Hours Watched": null,
          "Peak Streams": null,
          "Peak Viewers": null,
          "month": "2009-05-01T00:00:00",
          "viewCount": 4752600
         },
         {
          "Avg Streams": null,
          "Avg Viewers": null,
          "Gain": null,
          "Gain.1": null,
          "Hours Watched": null,
          "Peak Streams": null,
          "Peak Viewers": null,
          "month": "2009-06-01T00:00:00",
          "viewCount": 3518959
         },
         {
          "Avg Streams": null,
          "Avg Viewers": null,
          "Gain": null,
          "Gain.1": null,
          "Hours Watched": null,
          "Peak Streams": null,
          "Peak Viewers": null,
          "month": "2009-07-01T00:00:00",
          "viewCount": 14430061
         },
         {
          "Avg Streams": null,
          "Avg Viewers": null,
          "Gain": null,
          "Gain.1": null,
          "Hours Watched": null,
          "Peak Streams": null,
          "Peak Viewers": null,
          "month": "2009-08-01T00:00:00",
          "viewCount": 28863477
         },
         {
          "Avg Streams": null,
          "Avg Viewers": null,
          "Gain": null,
          "Gain.1": null,
          "Hours Watched": null,
          "Peak Streams": null,
          "Peak Viewers": null,
          "month": "2009-09-01T00:00:00",
          "viewCount": 2970142
         },
         {
          "Avg Streams": null,
          "Avg Viewers": null,
          "Gain": null,
          "Gain.1": null,
          "Hours Watched": null,
          "Peak Streams": null,
          "Peak Viewers": null,
          "month": "2009-10-01T00:00:00",
          "viewCount": 200082263
         },
         {
          "Avg Streams": null,
          "Avg Viewers": null,
          "Gain": null,
          "Gain.1": null,
          "Hours Watched": null,
          "Peak Streams": null,
          "Peak Viewers": null,
          "month": "2009-11-01T00:00:00",
          "viewCount": 7997396
         },
         {
          "Avg Streams": null,
          "Avg Viewers": null,
          "Gain": null,
          "Gain.1": null,
          "Hours Watched": null,
          "Peak Streams": null,
          "Peak Viewers": null,
          "month": "2009-12-01T00:00:00",
          "viewCount": 3683981
         },
         {
          "Avg Streams": null,
          "Avg Viewers": null,
          "Gain": null,
          "Gain.1": null,
          "Hours Watched": null,
          "Peak Streams": null,
          "Peak Viewers": null,
          "month": "2010-01-01T00:00:00",
          "viewCount": 2765734
         },
         {
          "Avg Streams": null,
          "Avg Viewers": null,
          "Gain": null,
          "Gain.1": null,
          "Hours Watched": null,
          "Peak Streams": null,
          "Peak Viewers": null,
          "month": "2010-02-01T00:00:00",
          "viewCount": 30453118
         },
         {
          "Avg Streams": null,
          "Avg Viewers": null,
          "Gain": null,
          "Gain.1": null,
          "Hours Watched": null,
          "Peak Streams": null,
          "Peak Viewers": null,
          "month": "2010-03-01T00:00:00",
          "viewCount": 9682804
         },
         {
          "Avg Streams": null,
          "Avg Viewers": null,
          "Gain": null,
          "Gain.1": null,
          "Hours Watched": null,
          "Peak Streams": null,
          "Peak Viewers": null,
          "month": "2010-04-01T00:00:00",
          "viewCount": 1680624
         },
         {
          "Avg Streams": null,
          "Avg Viewers": null,
          "Gain": null,
          "Gain.1": null,
          "Hours Watched": null,
          "Peak Streams": null,
          "Peak Viewers": null,
          "month": "2010-05-01T00:00:00",
          "viewCount": 2107379
         },
         {
          "Avg Streams": null,
          "Avg Viewers": null,
          "Gain": null,
          "Gain.1": null,
          "Hours Watched": null,
          "Peak Streams": null,
          "Peak Viewers": null,
          "month": "2010-06-01T00:00:00",
          "viewCount": 5156762
         },
         {
          "Avg Streams": null,
          "Avg Viewers": null,
          "Gain": null,
          "Gain.1": null,
          "Hours Watched": null,
          "Peak Streams": null,
          "Peak Viewers": null,
          "month": "2010-07-01T00:00:00",
          "viewCount": 6177810
         },
         {
          "Avg Streams": null,
          "Avg Viewers": null,
          "Gain": null,
          "Gain.1": null,
          "Hours Watched": null,
          "Peak Streams": null,
          "Peak Viewers": null,
          "month": "2010-08-01T00:00:00",
          "viewCount": 2338476
         },
         {
          "Avg Streams": null,
          "Avg Viewers": null,
          "Gain": null,
          "Gain.1": null,
          "Hours Watched": null,
          "Peak Streams": null,
          "Peak Viewers": null,
          "month": "2010-09-01T00:00:00",
          "viewCount": 2120099
         },
         {
          "Avg Streams": null,
          "Avg Viewers": null,
          "Gain": null,
          "Gain.1": null,
          "Hours Watched": null,
          "Peak Streams": null,
          "Peak Viewers": null,
          "month": "2010-10-01T00:00:00",
          "viewCount": 17016580
         },
         {
          "Avg Streams": null,
          "Avg Viewers": null,
          "Gain": null,
          "Gain.1": null,
          "Hours Watched": null,
          "Peak Streams": null,
          "Peak Viewers": null,
          "month": "2010-11-01T00:00:00",
          "viewCount": 3689440
         },
         {
          "Avg Streams": null,
          "Avg Viewers": null,
          "Gain": null,
          "Gain.1": null,
          "Hours Watched": null,
          "Peak Streams": null,
          "Peak Viewers": null,
          "month": "2010-12-01T00:00:00",
          "viewCount": 3832744
         },
         {
          "Avg Streams": null,
          "Avg Viewers": null,
          "Gain": null,
          "Gain.1": null,
          "Hours Watched": null,
          "Peak Streams": null,
          "Peak Viewers": null,
          "month": "2011-01-01T00:00:00",
          "viewCount": 3063425
         },
         {
          "Avg Streams": null,
          "Avg Viewers": null,
          "Gain": null,
          "Gain.1": null,
          "Hours Watched": null,
          "Peak Streams": null,
          "Peak Viewers": null,
          "month": "2011-02-01T00:00:00",
          "viewCount": 3529684
         },
         {
          "Avg Streams": null,
          "Avg Viewers": null,
          "Gain": null,
          "Gain.1": null,
          "Hours Watched": null,
          "Peak Streams": null,
          "Peak Viewers": null,
          "month": "2011-03-01T00:00:00",
          "viewCount": 40137945
         },
         {
          "Avg Streams": null,
          "Avg Viewers": null,
          "Gain": null,
          "Gain.1": null,
          "Hours Watched": null,
          "Peak Streams": null,
          "Peak Viewers": null,
          "month": "2011-04-01T00:00:00",
          "viewCount": 3566117
         },
         {
          "Avg Streams": null,
          "Avg Viewers": null,
          "Gain": null,
          "Gain.1": null,
          "Hours Watched": null,
          "Peak Streams": null,
          "Peak Viewers": null,
          "month": "2011-05-01T00:00:00",
          "viewCount": 9306413
         },
         {
          "Avg Streams": null,
          "Avg Viewers": null,
          "Gain": null,
          "Gain.1": null,
          "Hours Watched": null,
          "Peak Streams": null,
          "Peak Viewers": null,
          "month": "2011-06-01T00:00:00",
          "viewCount": 8271601
         },
         {
          "Avg Streams": null,
          "Avg Viewers": null,
          "Gain": null,
          "Gain.1": null,
          "Hours Watched": null,
          "Peak Streams": null,
          "Peak Viewers": null,
          "month": "2011-07-01T00:00:00",
          "viewCount": 33412784
         },
         {
          "Avg Streams": null,
          "Avg Viewers": null,
          "Gain": null,
          "Gain.1": null,
          "Hours Watched": null,
          "Peak Streams": null,
          "Peak Viewers": null,
          "month": "2011-08-01T00:00:00",
          "viewCount": 12810636
         },
         {
          "Avg Streams": null,
          "Avg Viewers": null,
          "Gain": null,
          "Gain.1": null,
          "Hours Watched": null,
          "Peak Streams": null,
          "Peak Viewers": null,
          "month": "2011-09-01T00:00:00",
          "viewCount": 6923899
         },
         {
          "Avg Streams": null,
          "Avg Viewers": null,
          "Gain": null,
          "Gain.1": null,
          "Hours Watched": null,
          "Peak Streams": null,
          "Peak Viewers": null,
          "month": "2011-10-01T00:00:00",
          "viewCount": 16169495
         },
         {
          "Avg Streams": null,
          "Avg Viewers": null,
          "Gain": null,
          "Gain.1": null,
          "Hours Watched": null,
          "Peak Streams": null,
          "Peak Viewers": null,
          "month": "2011-11-01T00:00:00",
          "viewCount": 2850563
         },
         {
          "Avg Streams": null,
          "Avg Viewers": null,
          "Gain": null,
          "Gain.1": null,
          "Hours Watched": null,
          "Peak Streams": null,
          "Peak Viewers": null,
          "month": "2011-12-01T00:00:00",
          "viewCount": 13969882
         },
         {
          "Avg Streams": null,
          "Avg Viewers": null,
          "Gain": null,
          "Gain.1": null,
          "Hours Watched": null,
          "Peak Streams": null,
          "Peak Viewers": null,
          "month": "2012-01-01T00:00:00",
          "viewCount": 4707628
         },
         {
          "Avg Streams": null,
          "Avg Viewers": null,
          "Gain": null,
          "Gain.1": null,
          "Hours Watched": null,
          "Peak Streams": null,
          "Peak Viewers": null,
          "month": "2012-02-01T00:00:00",
          "viewCount": 10346674
         },
         {
          "Avg Streams": null,
          "Avg Viewers": null,
          "Gain": null,
          "Gain.1": null,
          "Hours Watched": null,
          "Peak Streams": null,
          "Peak Viewers": null,
          "month": "2012-03-01T00:00:00",
          "viewCount": 17328108
         },
         {
          "Avg Streams": null,
          "Avg Viewers": null,
          "Gain": null,
          "Gain.1": null,
          "Hours Watched": null,
          "Peak Streams": null,
          "Peak Viewers": null,
          "month": "2012-04-01T00:00:00",
          "viewCount": 19269517
         },
         {
          "Avg Streams": null,
          "Avg Viewers": null,
          "Gain": null,
          "Gain.1": null,
          "Hours Watched": null,
          "Peak Streams": null,
          "Peak Viewers": null,
          "month": "2012-05-01T00:00:00",
          "viewCount": 7933811
         },
         {
          "Avg Streams": null,
          "Avg Viewers": null,
          "Gain": null,
          "Gain.1": null,
          "Hours Watched": null,
          "Peak Streams": null,
          "Peak Viewers": null,
          "month": "2012-06-01T00:00:00",
          "viewCount": 12260898
         },
         {
          "Avg Streams": null,
          "Avg Viewers": null,
          "Gain": null,
          "Gain.1": null,
          "Hours Watched": null,
          "Peak Streams": null,
          "Peak Viewers": null,
          "month": "2012-07-01T00:00:00",
          "viewCount": 10131182
         },
         {
          "Avg Streams": null,
          "Avg Viewers": null,
          "Gain": null,
          "Gain.1": null,
          "Hours Watched": null,
          "Peak Streams": null,
          "Peak Viewers": null,
          "month": "2012-08-01T00:00:00",
          "viewCount": 35967049
         },
         {
          "Avg Streams": null,
          "Avg Viewers": null,
          "Gain": null,
          "Gain.1": null,
          "Hours Watched": null,
          "Peak Streams": null,
          "Peak Viewers": null,
          "month": "2012-09-01T00:00:00",
          "viewCount": 7531982
         },
         {
          "Avg Streams": null,
          "Avg Viewers": null,
          "Gain": null,
          "Gain.1": null,
          "Hours Watched": null,
          "Peak Streams": null,
          "Peak Viewers": null,
          "month": "2012-10-01T00:00:00",
          "viewCount": 14545546
         },
         {
          "Avg Streams": null,
          "Avg Viewers": null,
          "Gain": null,
          "Gain.1": null,
          "Hours Watched": null,
          "Peak Streams": null,
          "Peak Viewers": null,
          "month": "2012-11-01T00:00:00",
          "viewCount": 9600451
         },
         {
          "Avg Streams": null,
          "Avg Viewers": null,
          "Gain": null,
          "Gain.1": null,
          "Hours Watched": null,
          "Peak Streams": null,
          "Peak Viewers": null,
          "month": "2012-12-01T00:00:00",
          "viewCount": 18060250
         },
         {
          "Avg Streams": null,
          "Avg Viewers": null,
          "Gain": null,
          "Gain.1": null,
          "Hours Watched": null,
          "Peak Streams": null,
          "Peak Viewers": null,
          "month": "2013-01-01T00:00:00",
          "viewCount": 4095206
         },
         {
          "Avg Streams": null,
          "Avg Viewers": null,
          "Gain": null,
          "Gain.1": null,
          "Hours Watched": null,
          "Peak Streams": null,
          "Peak Viewers": null,
          "month": "2013-02-01T00:00:00",
          "viewCount": 4401759
         },
         {
          "Avg Streams": null,
          "Avg Viewers": null,
          "Gain": null,
          "Gain.1": null,
          "Hours Watched": null,
          "Peak Streams": null,
          "Peak Viewers": null,
          "month": "2013-03-01T00:00:00",
          "viewCount": 15846703
         },
         {
          "Avg Streams": null,
          "Avg Viewers": null,
          "Gain": null,
          "Gain.1": null,
          "Hours Watched": null,
          "Peak Streams": null,
          "Peak Viewers": null,
          "month": "2013-04-01T00:00:00",
          "viewCount": 7957384
         },
         {
          "Avg Streams": null,
          "Avg Viewers": null,
          "Gain": null,
          "Gain.1": null,
          "Hours Watched": null,
          "Peak Streams": null,
          "Peak Viewers": null,
          "month": "2013-05-01T00:00:00",
          "viewCount": 11987984
         },
         {
          "Avg Streams": null,
          "Avg Viewers": null,
          "Gain": null,
          "Gain.1": null,
          "Hours Watched": null,
          "Peak Streams": null,
          "Peak Viewers": null,
          "month": "2013-06-01T00:00:00",
          "viewCount": 3489519
         },
         {
          "Avg Streams": null,
          "Avg Viewers": null,
          "Gain": null,
          "Gain.1": null,
          "Hours Watched": null,
          "Peak Streams": null,
          "Peak Viewers": null,
          "month": "2013-07-01T00:00:00",
          "viewCount": 3978458
         },
         {
          "Avg Streams": null,
          "Avg Viewers": null,
          "Gain": null,
          "Gain.1": null,
          "Hours Watched": null,
          "Peak Streams": null,
          "Peak Viewers": null,
          "month": "2013-08-01T00:00:00",
          "viewCount": 5628441
         },
         {
          "Avg Streams": null,
          "Avg Viewers": null,
          "Gain": null,
          "Gain.1": null,
          "Hours Watched": null,
          "Peak Streams": null,
          "Peak Viewers": null,
          "month": "2013-09-01T00:00:00",
          "viewCount": 3243364
         },
         {
          "Avg Streams": null,
          "Avg Viewers": null,
          "Gain": null,
          "Gain.1": null,
          "Hours Watched": null,
          "Peak Streams": null,
          "Peak Viewers": null,
          "month": "2013-10-01T00:00:00",
          "viewCount": 1423714
         },
         {
          "Avg Streams": null,
          "Avg Viewers": null,
          "Gain": null,
          "Gain.1": null,
          "Hours Watched": null,
          "Peak Streams": null,
          "Peak Viewers": null,
          "month": "2013-11-01T00:00:00",
          "viewCount": 7755662
         },
         {
          "Avg Streams": null,
          "Avg Viewers": null,
          "Gain": null,
          "Gain.1": null,
          "Hours Watched": null,
          "Peak Streams": null,
          "Peak Viewers": null,
          "month": "2013-12-01T00:00:00",
          "viewCount": 8971707
         },
         {
          "Avg Streams": null,
          "Avg Viewers": null,
          "Gain": null,
          "Gain.1": null,
          "Hours Watched": null,
          "Peak Streams": null,
          "Peak Viewers": null,
          "month": "2014-01-01T00:00:00",
          "viewCount": 11969930
         },
         {
          "Avg Streams": null,
          "Avg Viewers": null,
          "Gain": null,
          "Gain.1": null,
          "Hours Watched": null,
          "Peak Streams": null,
          "Peak Viewers": null,
          "month": "2014-02-01T00:00:00",
          "viewCount": 4843915
         },
         {
          "Avg Streams": null,
          "Avg Viewers": null,
          "Gain": null,
          "Gain.1": null,
          "Hours Watched": null,
          "Peak Streams": null,
          "Peak Viewers": null,
          "month": "2014-03-01T00:00:00",
          "viewCount": 22211339
         },
         {
          "Avg Streams": null,
          "Avg Viewers": null,
          "Gain": null,
          "Gain.1": null,
          "Hours Watched": null,
          "Peak Streams": null,
          "Peak Viewers": null,
          "month": "2014-04-01T00:00:00",
          "viewCount": 31693380
         },
         {
          "Avg Streams": null,
          "Avg Viewers": null,
          "Gain": null,
          "Gain.1": null,
          "Hours Watched": null,
          "Peak Streams": null,
          "Peak Viewers": null,
          "month": "2014-05-01T00:00:00",
          "viewCount": 14239817
         },
         {
          "Avg Streams": null,
          "Avg Viewers": null,
          "Gain": null,
          "Gain.1": null,
          "Hours Watched": null,
          "Peak Streams": null,
          "Peak Viewers": null,
          "month": "2014-06-01T00:00:00",
          "viewCount": 13140354
         },
         {
          "Avg Streams": null,
          "Avg Viewers": null,
          "Gain": null,
          "Gain.1": null,
          "Hours Watched": null,
          "Peak Streams": null,
          "Peak Viewers": null,
          "month": "2014-07-01T00:00:00",
          "viewCount": 3417795
         },
         {
          "Avg Streams": null,
          "Avg Viewers": null,
          "Gain": null,
          "Gain.1": null,
          "Hours Watched": null,
          "Peak Streams": null,
          "Peak Viewers": null,
          "month": "2014-08-01T00:00:00",
          "viewCount": 16522554
         },
         {
          "Avg Streams": null,
          "Avg Viewers": null,
          "Gain": null,
          "Gain.1": null,
          "Hours Watched": null,
          "Peak Streams": null,
          "Peak Viewers": null,
          "month": "2014-09-01T00:00:00",
          "viewCount": 17189398
         },
         {
          "Avg Streams": null,
          "Avg Viewers": null,
          "Gain": null,
          "Gain.1": null,
          "Hours Watched": null,
          "Peak Streams": null,
          "Peak Viewers": null,
          "month": "2014-10-01T00:00:00",
          "viewCount": 17785102
         },
         {
          "Avg Streams": null,
          "Avg Viewers": null,
          "Gain": null,
          "Gain.1": null,
          "Hours Watched": null,
          "Peak Streams": null,
          "Peak Viewers": null,
          "month": "2014-11-01T00:00:00",
          "viewCount": 6769122
         },
         {
          "Avg Streams": null,
          "Avg Viewers": null,
          "Gain": null,
          "Gain.1": null,
          "Hours Watched": null,
          "Peak Streams": null,
          "Peak Viewers": null,
          "month": "2014-12-01T00:00:00",
          "viewCount": 5292148
         },
         {
          "Avg Streams": null,
          "Avg Viewers": null,
          "Gain": null,
          "Gain.1": null,
          "Hours Watched": null,
          "Peak Streams": null,
          "Peak Viewers": null,
          "month": "2015-01-01T00:00:00",
          "viewCount": 8205640
         },
         {
          "Avg Streams": null,
          "Avg Viewers": null,
          "Gain": null,
          "Gain.1": null,
          "Hours Watched": null,
          "Peak Streams": null,
          "Peak Viewers": null,
          "month": "2015-02-01T00:00:00",
          "viewCount": 7034858
         },
         {
          "Avg Streams": null,
          "Avg Viewers": null,
          "Gain": null,
          "Gain.1": null,
          "Hours Watched": null,
          "Peak Streams": null,
          "Peak Viewers": null,
          "month": "2015-03-01T00:00:00",
          "viewCount": 19684113
         },
         {
          "Avg Streams": null,
          "Avg Viewers": null,
          "Gain": null,
          "Gain.1": null,
          "Hours Watched": null,
          "Peak Streams": null,
          "Peak Viewers": null,
          "month": "2015-04-01T00:00:00",
          "viewCount": 52275373
         },
         {
          "Avg Streams": null,
          "Avg Viewers": null,
          "Gain": null,
          "Gain.1": null,
          "Hours Watched": null,
          "Peak Streams": null,
          "Peak Viewers": null,
          "month": "2015-05-01T00:00:00",
          "viewCount": 25535138
         },
         {
          "Avg Streams": null,
          "Avg Viewers": null,
          "Gain": null,
          "Gain.1": null,
          "Hours Watched": null,
          "Peak Streams": null,
          "Peak Viewers": null,
          "month": "2015-06-01T00:00:00",
          "viewCount": 14702715
         },
         {
          "Avg Streams": null,
          "Avg Viewers": null,
          "Gain": null,
          "Gain.1": null,
          "Hours Watched": null,
          "Peak Streams": null,
          "Peak Viewers": null,
          "month": "2015-07-01T00:00:00",
          "viewCount": 11261690
         },
         {
          "Avg Streams": null,
          "Avg Viewers": null,
          "Gain": null,
          "Gain.1": null,
          "Hours Watched": null,
          "Peak Streams": null,
          "Peak Viewers": null,
          "month": "2015-08-01T00:00:00",
          "viewCount": 33838589
         },
         {
          "Avg Streams": null,
          "Avg Viewers": null,
          "Gain": null,
          "Gain.1": null,
          "Hours Watched": null,
          "Peak Streams": null,
          "Peak Viewers": null,
          "month": "2015-09-01T00:00:00",
          "viewCount": 11818942
         },
         {
          "Avg Streams": null,
          "Avg Viewers": null,
          "Gain": null,
          "Gain.1": null,
          "Hours Watched": null,
          "Peak Streams": null,
          "Peak Viewers": null,
          "month": "2015-10-01T00:00:00",
          "viewCount": 12608204
         },
         {
          "Avg Streams": null,
          "Avg Viewers": null,
          "Gain": null,
          "Gain.1": null,
          "Hours Watched": null,
          "Peak Streams": null,
          "Peak Viewers": null,
          "month": "2015-11-01T00:00:00",
          "viewCount": 34832444
         },
         {
          "Avg Streams": null,
          "Avg Viewers": null,
          "Gain": null,
          "Gain.1": null,
          "Hours Watched": null,
          "Peak Streams": null,
          "Peak Viewers": null,
          "month": "2015-12-01T00:00:00",
          "viewCount": 8132604
         },
         {
          "Avg Streams": null,
          "Avg Viewers": null,
          "Gain": null,
          "Gain.1": null,
          "Hours Watched": null,
          "Peak Streams": null,
          "Peak Viewers": null,
          "month": "2016-01-01T00:00:00",
          "viewCount": 16947082
         },
         {
          "Avg Streams": null,
          "Avg Viewers": null,
          "Gain": null,
          "Gain.1": null,
          "Hours Watched": null,
          "Peak Streams": null,
          "Peak Viewers": null,
          "month": "2016-02-01T00:00:00",
          "viewCount": 13722689
         },
         {
          "Avg Streams": null,
          "Avg Viewers": null,
          "Gain": null,
          "Gain.1": null,
          "Hours Watched": null,
          "Peak Streams": null,
          "Peak Viewers": null,
          "month": "2016-03-01T00:00:00",
          "viewCount": 11430699
         },
         {
          "Avg Streams": null,
          "Avg Viewers": null,
          "Gain": null,
          "Gain.1": null,
          "Hours Watched": null,
          "Peak Streams": null,
          "Peak Viewers": null,
          "month": "2016-04-01T00:00:00",
          "viewCount": 5387908
         },
         {
          "Avg Streams": null,
          "Avg Viewers": null,
          "Gain": null,
          "Gain.1": null,
          "Hours Watched": null,
          "Peak Streams": null,
          "Peak Viewers": null,
          "month": "2016-05-01T00:00:00",
          "viewCount": 16737835
         },
         {
          "Avg Streams": null,
          "Avg Viewers": null,
          "Gain": null,
          "Gain.1": null,
          "Hours Watched": null,
          "Peak Streams": null,
          "Peak Viewers": null,
          "month": "2016-06-01T00:00:00",
          "viewCount": 10576614
         },
         {
          "Avg Streams": null,
          "Avg Viewers": null,
          "Gain": null,
          "Gain.1": null,
          "Hours Watched": null,
          "Peak Streams": null,
          "Peak Viewers": null,
          "month": "2016-07-01T00:00:00",
          "viewCount": 4672265
         },
         {
          "Avg Streams": null,
          "Avg Viewers": null,
          "Gain": null,
          "Gain.1": null,
          "Hours Watched": null,
          "Peak Streams": null,
          "Peak Viewers": null,
          "month": "2016-08-01T00:00:00",
          "viewCount": 57190017
         },
         {
          "Avg Streams": null,
          "Avg Viewers": null,
          "Gain": null,
          "Gain.1": null,
          "Hours Watched": null,
          "Peak Streams": null,
          "Peak Viewers": null,
          "month": "2016-09-01T00:00:00",
          "viewCount": 11861116
         },
         {
          "Avg Streams": null,
          "Avg Viewers": null,
          "Gain": null,
          "Gain.1": null,
          "Hours Watched": null,
          "Peak Streams": null,
          "Peak Viewers": null,
          "month": "2016-10-01T00:00:00",
          "viewCount": 17427196
         },
         {
          "Avg Streams": 803,
          "Avg Viewers": 41122,
          "Gain": 0,
          "Gain.1": 0,
          "Hours Watched": 305032336,
          "Peak Streams": 1733,
          "Peak Viewers": 237149,
          "month": "2016-11-01T00:00:00",
          "viewCount": 44191608
         },
         {
          "Avg Streams": 940,
          "Avg Viewers": 97395,
          "Gain": 56273,
          "Gain.1": 137,
          "Hours Watched": 721080946,
          "Peak Streams": 2185,
          "Peak Viewers": 1154232,
          "month": "2016-12-01T00:00:00",
          "viewCount": 24417765
         },
         {
          "Avg Streams": 1014,
          "Avg Viewers": 60177,
          "Gain": 37218,
          "Gain.1": 74,
          "Hours Watched": 404088357,
          "Peak Streams": 2097,
          "Peak Viewers": 461337,
          "month": "2017-01-01T00:00:00",
          "viewCount": 38548418
         },
         {
          "Avg Streams": 946,
          "Avg Viewers": 49606,
          "Gain": 10593,
          "Gain.1": 68,
          "Hours Watched": 368160397,
          "Peak Streams": 2100,
          "Peak Viewers": 512456,
          "month": "2017-02-01T00:00:00",
          "viewCount": 33774463
         },
         {
          "Avg Streams": 879,
          "Avg Viewers": 50868,
          "Gain": 1286,
          "Gain.1": 69,
          "Hours Watched": 364069433,
          "Peak Streams": 1830,
          "Peak Viewers": 418276,
          "month": "2017-03-01T00:00:00",
          "viewCount": 9465118
         },
         {
          "Avg Streams": 837,
          "Avg Viewers": 31841,
          "Gain": 19065,
          "Gain.1": 44,
          "Hours Watched": 231142383,
          "Peak Streams": 1700,
          "Peak Viewers": 194939,
          "month": "2017-04-01T00:00:00",
          "viewCount": 24126412
         },
         {
          "Avg Streams": 792,
          "Avg Viewers": 30421,
          "Gain": 1558,
          "Gain.1": 45,
          "Hours Watched": 218526181,
          "Peak Streams": 1486,
          "Peak Viewers": 296775,
          "month": "2017-05-01T00:00:00",
          "viewCount": 14520871
         },
         {
          "Avg Streams": 844,
          "Avg Viewers": 91482,
          "Gain": 61215,
          "Gain.1": 52,
          "Hours Watched": 678111000,
          "Peak Streams": 1587,
          "Peak Viewers": 949075,
          "month": "2017-06-01T00:00:00",
          "viewCount": 3797489
         },
         {
          "Avg Streams": 868,
          "Avg Viewers": 27226,
          "Gain": 64308,
          "Gain.1": 24,
          "Hours Watched": 202162451,
          "Peak Streams": 1590,
          "Peak Viewers": 210176,
          "month": "2017-07-01T00:00:00",
          "viewCount": 8991317
         },
         {
          "Avg Streams": 778,
          "Avg Viewers": 37946,
          "Gain": 10780,
          "Gain.1": 90,
          "Hours Watched": 273133134,
          "Peak Streams": 1536,
          "Peak Viewers": 288573,
          "month": "2017-08-01T00:00:00",
          "viewCount": 34827963
         },
         {
          "Avg Streams": 800,
          "Avg Viewers": 38311,
          "Gain": 375,
          "Gain.1": 24,
          "Hours Watched": 284097958,
          "Peak Streams": 1660,
          "Peak Viewers": 577878,
          "month": "2017-09-01T00:00:00",
          "viewCount": 5023939
         },
         {
          "Avg Streams": 802,
          "Avg Viewers": 35858,
          "Gain": 2453,
          "Gain.1": 2,
          "Hours Watched": 258072260,
          "Peak Streams": 1567,
          "Peak Viewers": 281142,
          "month": "2017-10-01T00:00:00",
          "viewCount": 15677146
         },
         {
          "Avg Streams": 882,
          "Avg Viewers": 25279,
          "Gain": 10729,
          "Gain.1": 80,
          "Hours Watched": 187102000,
          "Peak Streams": 1748,
          "Peak Viewers": 232638,
          "month": "2017-11-01T00:00:00",
          "viewCount": 16473084
         },
         {
          "Avg Streams": 1059,
          "Avg Viewers": 93523,
          "Gain": 68382,
          "Gain.1": 177,
          "Hours Watched": 695153473,
          "Peak Streams": 2016,
          "Peak Viewers": 1320676,
          "month": "2017-12-01T00:00:00",
          "viewCount": 7403088
         },
         {
          "Avg Streams": 1164,
          "Avg Viewers": 55574,
          "Gain": 37949,
          "Gain.1": 105,
          "Hours Watched": 372149237,
          "Peak Streams": 2343,
          "Peak Viewers": 374721,
          "month": "2018-01-01T00:00:00",
          "viewCount": 20227943
         },
         {
          "Avg Streams": 1069,
          "Avg Viewers": 37831,
          "Gain": 17787,
          "Gain.1": 97,
          "Hours Watched": 281139519,
          "Peak Streams": 2363,
          "Peak Viewers": 504991,
          "month": "2018-02-01T00:00:00",
          "viewCount": 4773316
         },
         {
          "Avg Streams": 925,
          "Avg Viewers": 31942,
          "Gain": 5889,
          "Gain.1": 144,
          "Hours Watched": 229147224,
          "Peak Streams": 1898,
          "Peak Viewers": 336839,
          "month": "2018-03-01T00:00:00",
          "viewCount": 6681056
         },
         {
          "Avg Streams": 828,
          "Avg Viewers": 35550,
          "Gain": 3608,
          "Gain.1": 97,
          "Hours Watched": 264160163,
          "Peak Streams": 1595,
          "Peak Viewers": 226561,
          "month": "2018-04-01T00:00:00",
          "viewCount": 52530015
         },
         {
          "Avg Streams": 839,
          "Avg Viewers": 30620,
          "Gain": 5226,
          "Gain.1": 11,
          "Hours Watched": 219463000,
          "Peak Streams": 1603,
          "Peak Viewers": 303388,
          "month": "2018-05-01T00:00:00",
          "viewCount": 48526304
         },
         {
          "Avg Streams": 939,
          "Avg Viewers": 36045,
          "Gain": 5725,
          "Gain.1": 102,
          "Hours Watched": 265161443,
          "Peak Streams": 1678,
          "Peak Viewers": 239670,
          "month": "2018-06-01T00:00:00",
          "viewCount": 55513661
         },
         {
          "Avg Streams": 1027,
          "Avg Viewers": 29161,
          "Gain": 6902,
          "Gain.1": 88,
          "Hours Watched": 217223155,
          "Peak Streams": 1872,
          "Peak Viewers": 194122,
          "month": "2018-07-01T00:00:00",
          "viewCount": 2964785
         },
         {
          "Avg Streams": 983,
          "Avg Viewers": 98328,
          "Gain": 69167,
          "Gain.1": 46,
          "Hours Watched": 707251000,
          "Peak Streams": 1962,
          "Peak Viewers": 870470,
          "month": "2018-08-01T00:00:00",
          "viewCount": 17108328
         },
         {
          "Avg Streams": 973,
          "Avg Viewers": 32506,
          "Gain": 65824,
          "Gain.1": 10,
          "Hours Watched": 241232303,
          "Peak Streams": 1974,
          "Peak Viewers": 223168,
          "month": "2018-09-01T00:00:00",
          "viewCount": 822816
         },
         {
          "Avg Streams": 1018,
          "Avg Viewers": 37720,
          "Gain": 5218,
          "Gain.1": 45,
          "Hours Watched": 271247239,
          "Peak Streams": 2020,
          "Peak Viewers": 300573,
          "month": "2018-10-01T00:00:00",
          "viewCount": 19632217
         },
         {
          "Avg Streams": 1182,
          "Avg Viewers": 34386,
          "Gain": 3364,
          "Gain.1": 164,
          "Hours Watched": 255358224,
          "Peak Streams": 3196,
          "Peak Viewers": 274858,
          "month": "2018-11-01T00:00:00",
          "viewCount": 43796079
         },
         {
          "Avg Streams": 1423,
          "Avg Viewers": 41428,
          "Gain": 7042,
          "Gain.1": 241,
          "Hours Watched": 307693598,
          "Peak Streams": 2950,
          "Peak Viewers": 201034,
          "month": "2018-12-01T00:00:00",
          "viewCount": 4192299
         },
         {
          "Avg Streams": 1119,
          "Avg Viewers": 70550,
          "Gain": 29182,
          "Gain.1": 304,
          "Hours Watched": 474446299,
          "Peak Streams": 2605,
          "Peak Viewers": 516787,
          "month": "2019-01-01T00:00:00",
          "viewCount": 7797941
         },
         {
          "Avg Streams": 1238,
          "Avg Viewers": 47799,
          "Gain": 22783,
          "Gain.1": 121,
          "Hours Watched": 355535000,
          "Peak Streams": 2530,
          "Peak Viewers": 836577,
          "month": "2019-02-01T00:00:00",
          "viewCount": 8897700
         },
         {
          "Avg Streams": 1182,
          "Avg Viewers": 42814,
          "Gain": 4985,
          "Gain.1": 56,
          "Hours Watched": 308423694,
          "Peak Streams": 2327,
          "Peak Viewers": 316041,
          "month": "2019-03-01T00:00:00",
          "viewCount": 15821046
         },
         {
          "Avg Streams": 1163,
          "Avg Viewers": 40003,
          "Gain": 2811,
          "Gain.1": 19,
          "Hours Watched": 297409000,
          "Peak Streams": 2309,
          "Peak Viewers": 236322,
          "month": "2019-04-01T00:00:00",
          "viewCount": 9058245
         },
         {
          "Avg Streams": 1177,
          "Avg Viewers": 42055,
          "Gain": 2052,
          "Gain.1": 14,
          "Hours Watched": 302609000,
          "Peak Streams": 2107,
          "Peak Viewers": 354909,
          "month": "2019-05-01T00:00:00",
          "viewCount": 39791010
         },
         {
          "Avg Streams": 1237,
          "Avg Viewers": 54848,
          "Gain": 12847,
          "Gain.1": 60,
          "Hours Watched": 407793888,
          "Peak Streams": 2254,
          "Peak Viewers": 439125,
          "month": "2019-06-01T00:00:00",
          "viewCount": 20781995
         },
         {
          "Avg Streams": 1321,
          "Avg Viewers": 62101,
          "Gain": 7313,
          "Gain.1": 84,
          "Hours Watched": 461604445,
          "Peak Streams": 2293,
          "Peak Viewers": 523956,
          "month": "2019-07-01T00:00:00",
          "viewCount": 21247781
         },
         {
          "Avg Streams": 1279,
          "Avg Viewers": 63866,
          "Gain": 1799,
          "Gain.1": 42,
          "Hours Watched": 459461365,
          "Peak Streams": 2457,
          "Peak Viewers": 661722,
          "month": "2019-08-01T00:00:00",
          "viewCount": 43137256
         },
         {
          "Avg Streams": 1265,
          "Avg Viewers": 60422,
          "Gain": 3452,
          "Gain.1": 14,
          "Hours Watched": 432481355,
          "Peak Streams": 2593,
          "Peak Viewers": 382770,
          "month": "2019-09-01T00:00:00",
          "viewCount": 52619174
         },
         {
          "Avg Streams": 1249,
          "Avg Viewers": 49606,
          "Gain": 10878,
          "Gain.1": 20,
          "Hours Watched": 345678558,
          "Peak Streams": 2531,
          "Peak Viewers": 302229,
          "month": "2019-10-01T00:00:00",
          "viewCount": 11704409
         },
         {
          "Avg Streams": 1326,
          "Avg Viewers": 54580,
          "Gain": 4974,
          "Gain.1": 79,
          "Hours Watched": 404149575,
          "Peak Streams": 2717,
          "Peak Viewers": 354673,
          "month": "2019-11-01T00:00:00",
          "viewCount": 48555412
         },
         {
          "Avg Streams": 1650,
          "Avg Viewers": 45680,
          "Gain": 8904,
          "Gain.1": 324,
          "Hours Watched": 339123000,
          "Peak Streams": 3423,
          "Peak Viewers": 261130,
          "month": "2019-12-01T00:00:00",
          "viewCount": 15067596
         },
         {
          "Avg Streams": 1645,
          "Avg Viewers": 71759,
          "Gain": 26131,
          "Gain.1": 5,
          "Hours Watched": 498867458,
          "Peak Streams": 3258,
          "Peak Viewers": 617143,
          "month": "2020-01-01T00:00:00",
          "viewCount": 20546454
         },
         {
          "Avg Streams": 2046,
          "Avg Viewers": 90151,
          "Gain": 18392,
          "Gain.1": 401,
          "Hours Watched": 668118474,
          "Peak Streams": 4738,
          "Peak Viewers": 843931,
          "month": "2020-02-01T00:00:00",
          "viewCount": 16531507
         },
         {
          "Avg Streams": 2772,
          "Avg Viewers": 120873,
          "Gain": 30722,
          "Gain.1": 726,
          "Hours Watched": 864159510,
          "Peak Streams": 5623,
          "Peak Viewers": 574885,
          "month": "2020-03-01T00:00:00",
          "viewCount": 52346362
         },
         {
          "Avg Streams": 2419,
          "Avg Viewers": 103850,
          "Gain": 17377,
          "Gain.1": 355,
          "Hours Watched": 767338000,
          "Peak Streams": 4898,
          "Peak Viewers": 502637,
          "month": "2020-04-01T00:00:00",
          "viewCount": 16302139
         },
         {
          "Avg Streams": 1967,
          "Avg Viewers": 105753,
          "Gain": 2297,
          "Gain.1": 452,
          "Hours Watched": 758168000,
          "Peak Streams": 4243,
          "Peak Viewers": 502764,
          "month": "2020-05-01T00:00:00",
          "viewCount": 18362604
         },
         {
          "Avg Streams": 1616,
          "Avg Viewers": 56694,
          "Gain": 49187,
          "Gain.1": 351,
          "Hours Watched": 419300000,
          "Peak Streams": 3113,
          "Peak Viewers": 211031,
          "month": "2020-06-01T00:00:00",
          "viewCount": 2274130
         },
         {
          "Avg Streams": 1456,
          "Avg Viewers": 65019,
          "Gain": 8459,
          "Gain.1": 160,
          "Hours Watched": 481209000,
          "Peak Streams": 2593,
          "Peak Viewers": 335027,
          "month": "2020-07-01T00:00:00",
          "viewCount": 9422260
         },
         {
          "Avg Streams": 1447,
          "Avg Viewers": 74610,
          "Gain": 9625,
          "Gain.1": 9,
          "Hours Watched": 535172570,
          "Peak Streams": 2685,
          "Peak Viewers": 330089,
          "month": "2020-08-01T00:00:00",
          "viewCount": 18786311
         },
         {
          "Avg Streams": 1557,
          "Avg Viewers": 78858,
          "Gain": 4374,
          "Gain.1": 110,
          "Hours Watched": 585133314,
          "Peak Streams": 3046,
          "Peak Viewers": 465673,
          "month": "2020-09-01T00:00:00",
          "viewCount": 21668669
         },
         {
          "Avg Streams": 1834,
          "Avg Viewers": 84747,
          "Gain": 5889,
          "Gain.1": 277,
          "Hours Watched": 608149698,
          "Peak Streams": 3617,
          "Peak Viewers": 556546,
          "month": "2020-10-01T00:00:00",
          "viewCount": 6752416
         },
         {
          "Avg Streams": 1948,
          "Avg Viewers": 81674,
          "Gain": 3073,
          "Gain.1": 114,
          "Hours Watched": 605147522,
          "Peak Streams": 4027,
          "Peak Viewers": 395368,
          "month": "2020-11-01T00:00:00",
          "viewCount": 3499404
         },
         {
          "Avg Streams": 2277,
          "Avg Viewers": 82147,
          "Gain": 473,
          "Gain.1": 329,
          "Hours Watched": 609175754,
          "Peak Streams": 4667,
          "Peak Viewers": 602155,
          "month": "2020-12-01T00:00:00",
          "viewCount": 23128706
         },
         {
          "Avg Streams": 2273,
          "Avg Viewers": 100807,
          "Gain": 18660,
          "Gain.1": 4,
          "Hours Watched": 675180765,
          "Peak Streams": 4550,
          "Peak Viewers": 625487,
          "month": "2021-01-01T00:00:00",
          "viewCount": 11562830
         },
         {
          "Avg Streams": 2216,
          "Avg Viewers": 97397,
          "Gain": 3410,
          "Gain.1": 57,
          "Hours Watched": 723123602,
          "Peak Streams": 4480,
          "Peak Viewers": 489826,
          "month": "2021-02-01T00:00:00",
          "viewCount": 6976256
         },
         {
          "Avg Streams": 2065,
          "Avg Viewers": 97486,
          "Gain": 89,
          "Gain.1": 151,
          "Hours Watched": 700153623,
          "Peak Streams": 4272,
          "Peak Viewers": 447255,
          "month": "2021-03-01T00:00:00",
          "viewCount": 3086472
         },
         {
          "Avg Streams": 1883,
          "Avg Viewers": 102192,
          "Gain": 4706,
          "Gain.1": 182,
          "Hours Watched": 756406604,
          "Peak Streams": 3685,
          "Peak Viewers": 611693,
          "month": "2021-04-01T00:00:00",
          "viewCount": 10430508
         },
         {
          "Avg Streams": 1643,
          "Avg Viewers": 77505,
          "Gain": 24689,
          "Gain.1": 242,
          "Hours Watched": 554393000,
          "Peak Streams": 3067,
          "Peak Viewers": 394499,
          "month": "2021-05-01T00:00:00",
          "viewCount": 7307255
         },
         {
          "Avg Streams": 1520,
          "Avg Viewers": 78911,
          "Gain": 2142,
          "Gain.1": 129,
          "Hours Watched": 586160000,
          "Peak Streams": 2576,
          "Peak Viewers": 730453,
          "month": "2021-06-01T00:00:00",
          "viewCount": 7542215
         },
         {
          "Avg Streams": 1503,
          "Avg Viewers": 67173,
          "Gain": 11768,
          "Gain.1": 17,
          "Hours Watched": 498136452,
          "Peak Streams": 2606,
          "Peak Viewers": 399637,
          "month": "2021-07-01T00:00:00",
          "viewCount": 3258535
         },
         {
          "Avg Streams": 1422,
          "Avg Viewers": 85593,
          "Gain": 18482,
          "Gain.1": 81,
          "Hours Watched": 615120000,
          "Peak Streams": 2886,
          "Peak Viewers": 736929,
          "month": "2021-08-01T00:00:00",
          "viewCount": 4094505
         },
         {
          "Avg Streams": 1307,
          "Avg Viewers": 94510,
          "Gain": 8971,
          "Gain.1": 115,
          "Hours Watched": 702959449,
          "Peak Streams": 2625,
          "Peak Viewers": 689355,
          "month": "2021-09-01T00:00:00",
          "viewCount": 8603503
         },
         {
          "Avg Streams": 1347,
          "Avg Viewers": 111172,
          "Gain": 16664,
          "Gain.1": 40,
          "Hours Watched": 799103558,
          "Peak Streams": 2665,
          "Peak Viewers": 1950442,
          "month": "2021-10-01T00:00:00",
          "viewCount": 4760216
         },
         {
          "Avg Streams": 1252,
          "Avg Viewers": 61286,
          "Gain": 49888,
          "Gain.1": 95,
          "Hours Watched": 455102784,
          "Peak Streams": 2541,
          "Peak Viewers": 530769,
          "month": "2021-11-01T00:00:00",
          "viewCount": 3502377
         },
         {
          "Avg Streams": 1494,
          "Avg Viewers": 54040,
          "Gain": 7290,
          "Gain.1": 242,
          "Hours Watched": 400132000,
          "Peak Streams": 2949,
          "Peak Viewers": 440489,
          "month": "2021-12-01T00:00:00",
          "viewCount": 10980038
         },
         {
          "Avg Streams": 1413,
          "Avg Viewers": 100599,
          "Gain": 46563,
          "Gain.1": 81,
          "Hours Watched": 668105588,
          "Peak Streams": 2794,
          "Peak Viewers": 988449,
          "month": "2022-01-01T00:00:00",
          "viewCount": 9150017
         },
         {
          "Avg Streams": 1174,
          "Avg Viewers": 75433,
          "Gain": 25218,
          "Gain.1": 239,
          "Hours Watched": 549780000,
          "Peak Streams": 2344,
          "Peak Viewers": 356457,
          "month": "2022-02-01T00:00:00",
          "viewCount": 17895956
         },
         {
          "Avg Streams": 1116,
          "Avg Viewers": 81941,
          "Gain": 6578,
          "Gain.1": 58,
          "Hours Watched": 588685868,
          "Peak Streams": 2215,
          "Peak Viewers": 433195,
          "month": "2022-03-01T00:00:00",
          "viewCount": 8005852
         },
         {
          "Avg Streams": 1135,
          "Avg Viewers": 126020,
          "Gain": 44115,
          "Gain.1": 23,
          "Hours Watched": 932589000,
          "Peak Streams": 2192,
          "Peak Viewers": 1634605,
          "month": "2022-04-01T00:00:00",
          "viewCount": 8500100
         },
         {
          "Avg Streams": 1165,
          "Avg Viewers": 78428,
          "Gain": 47658,
          "Gain.1": 30,
          "Hours Watched": 563791485,
          "Peak Streams": 2170,
          "Peak Viewers": 521208,
          "month": "2022-05-01T00:00:00",
          "viewCount": 22970472
         },
         {
          "Avg Streams": 1148,
          "Avg Viewers": 68442,
          "Gain": 9986,
          "Gain.1": 17,
          "Hours Watched": 500791318,
          "Peak Streams": 2060,
          "Peak Viewers": 1157283,
          "month": "2022-06-01T00:00:00",
          "viewCount": 11775763
         },
         {
          "Avg Streams": 1175,
          "Avg Viewers": 57186,
          "Gain": 11342,
          "Gain.1": 27,
          "Hours Watched": 424127000,
          "Peak Streams": 2193,
          "Peak Viewers": 322087,
          "month": "2022-07-01T00:00:00",
          "viewCount": 10032697
         },
         {
          "Avg Streams": 1096,
          "Avg Viewers": 80861,
          "Gain": 23695,
          "Gain.1": 79,
          "Hours Watched": 574179228,
          "Peak Streams": 2130,
          "Peak Viewers": 456477,
          "month": "2022-08-01T00:00:00",
          "viewCount": 21219787
         },
         {
          "Avg Streams": 994,
          "Avg Viewers": 73816,
          "Gain": 7049,
          "Gain.1": 102,
          "Hours Watched": 514899411,
          "Peak Streams": 1973,
          "Peak Viewers": 693262,
          "month": "2022-09-01T00:00:00",
          "viewCount": 10117274
         },
         {
          "Avg Streams": 924,
          "Avg Viewers": 121325,
          "Gain": 47535,
          "Gain.1": 70,
          "Hours Watched": 872880280,
          "Peak Streams": 1984,
          "Peak Viewers": 1273072,
          "month": "2022-10-01T00:00:00",
          "viewCount": 22318119
         },
         {
          "Avg Streams": 903,
          "Avg Viewers": 41945,
          "Gain": 79392,
          "Gain.1": 21,
          "Hours Watched": 311955329,
          "Peak Streams": 1788,
          "Peak Viewers": 284991,
          "month": "2022-11-01T00:00:00",
          "viewCount": 39049892
         },
         {
          "Avg Streams": 1111,
          "Avg Viewers": 52468,
          "Gain": 10525,
          "Gain.1": 208,
          "Hours Watched": 386108253,
          "Peak Streams": 2243,
          "Peak Viewers": 328157,
          "month": "2022-12-01T00:00:00",
          "viewCount": 5776688
         },
         {
          "Avg Streams": 1190,
          "Avg Viewers": 82176,
          "Gain": 29738,
          "Gain.1": 81,
          "Hours Watched": 545875319,
          "Peak Streams": 2285,
          "Peak Viewers": 578423,
          "month": "2023-01-01T00:00:00",
          "viewCount": 63343813
         },
         {
          "Avg Streams": 1354,
          "Avg Viewers": 89073,
          "Gain": 6899,
          "Gain.1": 164,
          "Hours Watched": 655103412,
          "Peak Streams": 2998,
          "Peak Viewers": 890512,
          "month": "2023-02-01T00:00:00",
          "viewCount": 63405916
         },
         {
          "Avg Streams": 1594,
          "Avg Viewers": 112765,
          "Gain": 23692,
          "Gain.1": 240,
          "Hours Watched": 808109536,
          "Peak Streams": 3088,
          "Peak Viewers": 589121,
          "month": "2023-03-01T00:00:00",
          "viewCount": 118689665
         },
         {
          "Avg Streams": 1458,
          "Avg Viewers": 118738,
          "Gain": 5985,
          "Gain.1": 136,
          "Hours Watched": 880109530,
          "Peak Streams": 2814,
          "Peak Viewers": 1087551,
          "month": "2023-04-01T00:00:00",
          "viewCount": 128491828
         },
         {
          "Avg Streams": 1346,
          "Avg Viewers": 62865,
          "Gain": 57063,
          "Gain.1": 112,
          "Hours Watched": 446527569,
          "Peak Streams": 2490,
          "Peak Viewers": 489612,
          "month": "2023-05-01T00:00:00",
          "viewCount": 94564627
         },
         {
          "Avg Streams": 1350,
          "Avg Viewers": 81222,
          "Gain": 19543,
          "Gain.1": 4,
          "Hours Watched": 599125000,
          "Peak Streams": 2379,
          "Peak Viewers": 421682,
          "month": "2023-06-01T00:00:00",
          "viewCount": 46617534
         },
         {
          "Avg Streams": 1303,
          "Avg Viewers": 85021,
          "Gain": 3853,
          "Gain.1": 47,
          "Hours Watched": 628891000,
          "Peak Streams": 2396,
          "Peak Viewers": 586548,
          "month": "2023-07-01T00:00:00",
          "viewCount": 62585348
         },
         {
          "Avg Streams": 975,
          "Avg Viewers": 62757,
          "Gain": 22264,
          "Gain.1": 328,
          "Hours Watched": 449625340,
          "Peak Streams": 4556,
          "Peak Viewers": 505586,
          "month": "2023-08-01T00:00:00",
          "viewCount": 46867957
         },
         {
          "Avg Streams": 1773,
          "Avg Viewers": 86787,
          "Gain": 24030,
          "Gain.1": 804,
          "Hours Watched": 641661584,
          "Peak Streams": 3829,
          "Peak Viewers": 546449,
          "month": "2023-09-01T00:00:00",
          "viewCount": 86273428
         },
         {
          "Avg Streams": 1267,
          "Avg Viewers": 61178,
          "Gain": 25697,
          "Gain.1": 508,
          "Hours Watched": 438961481,
          "Peak Streams": 2462,
          "Peak Viewers": 383963,
          "month": "2023-10-01T00:00:00",
          "viewCount": 73249793
         },
         {
          "Avg Streams": 1109,
          "Avg Viewers": 50150,
          "Gain": 11042,
          "Gain.1": 158,
          "Hours Watched": 370819000,
          "Peak Streams": 2333,
          "Peak Viewers": 302110,
          "month": "2023-11-01T00:00:00",
          "viewCount": 50365113
         },
         {
          "Avg Streams": 1261,
          "Avg Viewers": 71072,
          "Gain": 20940,
          "Gain.1": 152,
          "Hours Watched": 515967301,
          "Peak Streams": 2503,
          "Peak Viewers": 305821,
          "month": "2023-12-01T00:00:00",
          "viewCount": 36552514
         },
         {
          "Avg Streams": 1371,
          "Avg Viewers": 95200,
          "Gain": 24164,
          "Gain.1": 112,
          "Hours Watched": 661793416,
          "Peak Streams": 3142,
          "Peak Viewers": 698049,
          "month": "2024-01-01T00:00:00",
          "viewCount": 58688688
         },
         {
          "Avg Streams": 1370,
          "Avg Viewers": 122486,
          "Gain": 27286,
          "Gain.1": 1,
          "Hours Watched": 908142000,
          "Peak Streams": 2800,
          "Peak Viewers": 1553750,
          "month": "2024-02-01T00:00:00",
          "viewCount": 85435032
         },
         {
          "Avg Streams": 1291,
          "Avg Viewers": 76746,
          "Gain": 45744,
          "Gain.1": 79,
          "Hours Watched": 549666687,
          "Peak Streams": 2642,
          "Peak Viewers": 277008,
          "month": "2024-03-01T00:00:00",
          "viewCount": 72571954
         },
         {
          "Avg Streams": 1167,
          "Avg Viewers": 75568,
          "Gain": 1220,
          "Gain.1": 124,
          "Hours Watched": 561792000,
          "Peak Streams": 2436,
          "Peak Viewers": 317538,
          "month": "2024-04-01T00:00:00",
          "viewCount": 81300471
         },
         {
          "Avg Streams": 1072,
          "Avg Viewers": 61497,
          "Gain": 14789,
          "Gain.1": 95,
          "Hours Watched": 439333734,
          "Peak Streams": 2015,
          "Peak Viewers": 610953,
          "month": "2024-05-01T00:00:00",
          "viewCount": 168644932
         },
         {
          "Avg Streams": 1065,
          "Avg Viewers": 55901,
          "Gain": 5638,
          "Gain.1": 7,
          "Hours Watched": 414134000,
          "Peak Streams": 2045,
          "Peak Viewers": 630445,
          "month": "2024-06-01T00:00:00",
          "viewCount": 99808834
         },
         {
          "Avg Streams": 1166,
          "Avg Viewers": 83456,
          "Gain": 27689,
          "Gain.1": 101,
          "Hours Watched": 609697000,
          "Peak Streams": 2197,
          "Peak Viewers": 719996,
          "month": "2024-07-01T00:00:00",
          "viewCount": 68499861
         },
         {
          "Avg Streams": 1156,
          "Avg Viewers": 78604,
          "Gain": 4888,
          "Gain.1": 10,
          "Hours Watched": 559775177,
          "Peak Streams": 2252,
          "Peak Viewers": 626902,
          "month": "2024-08-01T00:00:00",
          "viewCount": 82760390
         },
         {
          "Avg Streams": 1230,
          "Avg Viewers": 63932,
          "Gain": 14672,
          "Gain.1": 76,
          "Hours Watched": 467633319,
          "Peak Streams": 2528,
          "Peak Viewers": 432847,
          "month": "2024-09-01T00:00:00",
          "viewCount": 116934221
         },
         {
          "Avg Streams": 1254,
          "Avg Viewers": 67250,
          "Gain": 3318,
          "Gain.1": 24,
          "Hours Watched": 482863640,
          "Peak Streams": 2467,
          "Peak Viewers": 438615,
          "month": "2024-10-01T00:00:00",
          "viewCount": 108948505
         },
         {
          "Avg Streams": 1296,
          "Avg Viewers": 73597,
          "Gain": 6355,
          "Gain.1": 42,
          "Hours Watched": 547003000,
          "Peak Streams": 2513,
          "Peak Viewers": 951116,
          "month": "2024-11-01T00:00:00",
          "viewCount": 135479873
         },
         {
          "Avg Streams": 1714,
          "Avg Viewers": 80586,
          "Gain": 7009,
          "Gain.1": 418,
          "Hours Watched": 595945000,
          "Peak Streams": 3670,
          "Peak Viewers": 525938,
          "month": "2024-12-01T00:00:00",
          "viewCount": 111823144
         },
         {
          "Avg Streams": 1877,
          "Avg Viewers": 103137,
          "Gain": 22581,
          "Gain.1": 163,
          "Hours Watched": 689849646,
          "Peak Streams": 3716,
          "Peak Viewers": 952930,
          "month": "2025-01-01T00:00:00",
          "viewCount": 107546194
         },
         {
          "Avg Streams": 1769,
          "Avg Viewers": 107709,
          "Gain": 4614,
          "Gain.1": 108,
          "Hours Watched": 797808149,
          "Peak Streams": 3786,
          "Peak Viewers": 631990,
          "month": "2025-02-01T00:00:00",
          "viewCount": 98131565
         },
         {
          "Avg Streams": 1681,
          "Avg Viewers": 87188,
          "Gain": 20569,
          "Gain.1": 88,
          "Hours Watched": 627951317,
          "Peak Streams": 3524,
          "Peak Viewers": 827726,
          "month": "2025-03-01T00:00:00",
          "viewCount": 119838350
         },
         {
          "Avg Streams": 1601,
          "Avg Viewers": 99822,
          "Gain": 12660,
          "Gain.1": 80,
          "Hours Watched": 741902172,
          "Peak Streams": 3272,
          "Peak Viewers": 722031,
          "month": "2025-04-01T00:00:00",
          "viewCount": 182055498
         },
         {
          "Avg Streams": 1481,
          "Avg Viewers": 117782,
          "Gain": 18074,
          "Gain.1": 120,
          "Hours Watched": 848466647,
          "Peak Streams": 3053,
          "Peak Viewers": 1146827,
          "month": "2025-05-01T00:00:00",
          "viewCount": 171480378
         },
         {
          "Avg Streams": 1519,
          "Avg Viewers": 86343,
          "Gain": 31463,
          "Gain.1": 38,
          "Hours Watched": 642565317,
          "Peak Streams": 2998,
          "Peak Viewers": 556026,
          "month": "2025-06-01T00:00:00",
          "viewCount": 107472429
         },
         {
          "Avg Streams": 1558,
          "Avg Viewers": 91794,
          "Gain": 5449,
          "Gain.1": 37,
          "Hours Watched": 682532909,
          "Peak Streams": 3044,
          "Peak Viewers": 734295,
          "month": "2025-07-01T00:00:00",
          "viewCount": 159199830
         },
         {
          "Avg Streams": 1447,
          "Avg Viewers": 64286,
          "Gain": 27510,
          "Gain.1": 111,
          "Hours Watched": 154211193,
          "Peak Streams": 2952,
          "Peak Viewers": 445214,
          "month": "2025-08-01T00:00:00",
          "viewCount": 108662434
         },
         {
          "Avg Streams": null,
          "Avg Viewers": null,
          "Gain": null,
          "Gain.1": null,
          "Hours Watched": null,
          "Peak Streams": null,
          "Peak Viewers": null,
          "month": "2025-09-01T00:00:00",
          "viewCount": 32657495
         }
        ]
       },
       "height": 450,
       "layer": [
        {
         "encoding": {
          "tooltip": [
           {
            "field": "month",
            "type": "temporal"
           },
           {
            "field": "viewCount",
            "type": "quantitative"
           }
          ],
          "x": {
           "field": "month",
           "type": "temporal"
          },
          "y": {
           "axis": {
            "titleColor": "red"
           },
           "field": "viewCount",
           "title": "Youtube",
           "type": "quantitative"
          }
         },
         "mark": {
          "color": "red",
          "type": "line"
         }
        },
        {
         "encoding": {
          "tooltip": [
           {
            "field": "month",
            "type": "temporal"
           },
           {
            "field": "Peak Viewers",
            "type": "quantitative"
           }
          ],
          "x": {
           "field": "month",
           "title": "Month",
           "type": "temporal"
          },
          "y": {
           "axis": {
            "titleColor": "purple"
           },
           "field": "Peak Viewers",
           "title": "Twitch",
           "type": "quantitative"
          }
         },
         "mark": {
          "color": "purple",
          "type": "line"
         }
        }
       ],
       "resolve": {
        "scale": {
         "y": "independent"
        }
       },
       "title": "Counter-Strike Viewership Over Time",
       "usermeta": {
        "embedOptions": {
         "theme": "fivethirtyeight"
        }
       },
       "width": 950
      },
      "text/plain": [
       "<VegaLite 5 object>\n",
       "\n",
       "If you see this message, it means the renderer has not been properly enabled\n",
       "for the frontend that you are using. For more information, see\n",
       "https://altair-viz.github.io/user_guide/display_frontends.html#troubleshooting\n"
      ]
     },
     "execution_count": 86,
     "metadata": {},
     "output_type": "execute_result"
    }
   ],
   "source": [
    "# First line: views (left y-axis)\n",
    "twitch_line = alt.Chart(merged_yt_twitch).mark_line(color=\"purple\").encode(\n",
    "    x=alt.X(\"month:T\", title=\"Month\"),\n",
    "    y=alt.Y(\"Peak Viewers:Q\", title=\"Twitch\", axis=alt.Axis(titleColor=\"purple\")),\n",
    "    tooltip=[\"month\", \"Peak Viewers\"]\n",
    ")\n",
    "\n",
    "# Second line: likes (right y-axis)\n",
    "youtube_line = alt.Chart(merged_yt_twitch).mark_line(color=\"red\").encode(\n",
    "    x=\"month:T\",\n",
    "    y=alt.Y(\"viewCount:Q\", title=\"Youtube\", axis=alt.Axis(titleColor=\"red\")),\n",
    "    tooltip=[\"month\", \"viewCount\"],\n",
    ")\n",
    "\n",
    "# Layer the two charts\n",
    "chart = alt.layer(youtube_line, twitch_line).resolve_scale(\n",
    "    y=\"independent\"  # independent y-axes so they can differ\n",
    ").properties(width=950, height=450, title=\"Counter-Strike Viewership Over Time\")\n",
    "\n",
    "chart"
   ]
  },
  {
   "cell_type": "code",
   "execution_count": 87,
   "id": "9da2212f",
   "metadata": {},
   "outputs": [
    {
     "data": {
      "application/vnd.vegalite.v5+json": {
       "$schema": "https://vega.github.io/schema/vega-lite/v5.20.1.json",
       "config": {
        "view": {
         "continuousHeight": 300,
         "continuousWidth": 300
        }
       },
       "data": {
        "name": "data-2caeedb00587b22d975a8af11eed79be"
       },
       "datasets": {
        "data-2caeedb00587b22d975a8af11eed79be": [
         {
          "month": "2009-10-01T00:00:00",
          "peak": 158107,
          "viewCount": 200082263,
          "year": 2009
         },
         {
          "month": "2025-04-01T00:00:00",
          "peak": 1898525,
          "viewCount": 182055498,
          "year": 2025
         },
         {
          "month": "2025-05-01T00:00:00",
          "peak": 1752347,
          "viewCount": 171480378,
          "year": 2025
         },
         {
          "month": "2024-05-01T00:00:00",
          "peak": 1661558,
          "viewCount": 168644932,
          "year": 2024
         },
         {
          "month": "2025-07-01T00:00:00",
          "peak": 1506027,
          "viewCount": 159199830,
          "year": 2025
         },
         {
          "month": "2024-11-01T00:00:00",
          "peak": 1593726,
          "viewCount": 135479873,
          "year": 2024
         },
         {
          "month": "2023-04-01T00:00:00",
          "peak": 1536102,
          "viewCount": 128491828,
          "year": 2023
         },
         {
          "month": "2025-03-01T00:00:00",
          "peak": 1864428,
          "viewCount": 119838350,
          "year": 2025
         },
         {
          "month": "2023-03-01T00:00:00",
          "peak": 1542231,
          "viewCount": 118689665,
          "year": 2023
         },
         {
          "month": "2024-09-01T00:00:00",
          "peak": 1515033,
          "viewCount": 116934221,
          "year": 2024
         },
         {
          "month": "2024-12-01T00:00:00",
          "peak": 1777329,
          "viewCount": 111823144,
          "year": 2024
         },
         {
          "month": "2024-10-01T00:00:00",
          "peak": 1529352,
          "viewCount": 108948505,
          "year": 2024
         },
         {
          "month": "2025-08-01T00:00:00",
          "peak": 1581554,
          "viewCount": 108662434,
          "year": 2025
         },
         {
          "month": "2025-01-01T00:00:00",
          "peak": 1643797,
          "viewCount": 107546194,
          "year": 2025
         },
         {
          "month": "2025-06-01T00:00:00",
          "peak": 1766572,
          "viewCount": 107472429,
          "year": 2025
         },
         {
          "month": "2024-06-01T00:00:00",
          "peak": 1558198,
          "viewCount": 99808834,
          "year": 2024
         },
         {
          "month": "2025-02-01T00:00:00",
          "peak": 1827625,
          "viewCount": 98131565,
          "year": 2025
         },
         {
          "month": "2023-05-01T00:00:00",
          "peak": 1837896,
          "viewCount": 94564627,
          "year": 2023
         },
         {
          "month": "2023-09-01T00:00:00",
          "peak": 1580157,
          "viewCount": 86273428,
          "year": 2023
         },
         {
          "month": "2024-02-01T00:00:00",
          "peak": 1431938,
          "viewCount": 85435032,
          "year": 2024
         },
         {
          "month": "2024-08-01T00:00:00",
          "peak": 1461132,
          "viewCount": 82760390,
          "year": 2024
         },
         {
          "month": "2024-04-01T00:00:00",
          "peak": 1647977,
          "viewCount": 81300471,
          "year": 2024
         },
         {
          "month": "2023-10-01T00:00:00",
          "peak": 1412825,
          "viewCount": 73249793,
          "year": 2023
         },
         {
          "month": "2024-03-01T00:00:00",
          "peak": 1555064,
          "viewCount": 72571954,
          "year": 2024
         },
         {
          "month": "2024-07-01T00:00:00",
          "peak": 1385446,
          "viewCount": 68499861,
          "year": 2024
         },
         {
          "month": "2023-02-01T00:00:00",
          "peak": 1378327,
          "viewCount": 63405916,
          "year": 2023
         },
         {
          "month": "2023-01-01T00:00:00",
          "peak": 1224207,
          "viewCount": 63343813,
          "year": 2023
         },
         {
          "month": "2023-07-01T00:00:00",
          "peak": 1245840,
          "viewCount": 62585348,
          "year": 2023
         },
         {
          "month": "2024-01-01T00:00:00",
          "peak": 1334752,
          "viewCount": 58688688,
          "year": 2024
         },
         {
          "month": "2016-08-01T00:00:00",
          "peak": 631402,
          "viewCount": 57190017,
          "year": 2016
         },
         {
          "month": "2018-06-01T00:00:00",
          "peak": 449409,
          "viewCount": 55513661,
          "year": 2018
         },
         {
          "month": "2019-09-01T00:00:00",
          "peak": 745425,
          "viewCount": 52619174,
          "year": 2019
         },
         {
          "month": "2018-04-01T00:00:00",
          "peak": 556019,
          "viewCount": 52530015,
          "year": 2018
         },
         {
          "month": "2020-03-01T00:00:00",
          "peak": 1269874,
          "viewCount": 52346362,
          "year": 2020
         },
         {
          "month": "2015-04-01T00:00:00",
          "peak": 615659,
          "viewCount": 52275373,
          "year": 2015
         },
         {
          "month": "2023-11-01T00:00:00",
          "peak": 1184525,
          "viewCount": 50365113,
          "year": 2023
         },
         {
          "month": "2019-11-01T00:00:00",
          "peak": 789463,
          "viewCount": 48555412,
          "year": 2019
         },
         {
          "month": "2018-05-01T00:00:00",
          "peak": 481392,
          "viewCount": 48526304,
          "year": 2018
         },
         {
          "month": "2023-08-01T00:00:00",
          "peak": 1557039,
          "viewCount": 46867957,
          "year": 2023
         },
         {
          "month": "2023-06-01T00:00:00",
          "peak": 1692482,
          "viewCount": 46617534,
          "year": 2023
         },
         {
          "month": "2016-11-01T00:00:00",
          "peak": 664428,
          "viewCount": 44191608,
          "year": 2016
         },
         {
          "month": "2018-11-01T00:00:00",
          "peak": 576288,
          "viewCount": 43796079,
          "year": 2018
         },
         {
          "month": "2019-08-01T00:00:00",
          "peak": 680892,
          "viewCount": 43137256,
          "year": 2019
         },
         {
          "month": "2011-03-01T00:00:00",
          "peak": 167261,
          "viewCount": 40137945,
          "year": 2011
         },
         {
          "month": "2019-05-01T00:00:00",
          "peak": 616941,
          "viewCount": 39791010,
          "year": 2019
         },
         {
          "month": "2022-11-01T00:00:00",
          "peak": 1156226,
          "viewCount": 39049892,
          "year": 2022
         },
         {
          "month": "2017-01-01T00:00:00",
          "peak": 858017,
          "viewCount": 38548418,
          "year": 2017
         },
         {
          "month": "2007-09-01T00:00:00",
          "peak": 404894,
          "viewCount": 37144139,
          "year": 2007
         },
         {
          "month": "2023-12-01T00:00:00",
          "peak": 1276429,
          "viewCount": 36552514,
          "year": 2023
         },
         {
          "month": "2012-08-01T00:00:00",
          "peak": 159370,
          "viewCount": 35967049,
          "year": 2012
         },
         {
          "month": "2015-11-01T00:00:00",
          "peak": 733679,
          "viewCount": 34832444,
          "year": 2015
         },
         {
          "month": "2017-08-01T00:00:00",
          "peak": 626044,
          "viewCount": 34827963,
          "year": 2017
         },
         {
          "month": "2015-08-01T00:00:00",
          "peak": 857320,
          "viewCount": 33838589,
          "year": 2015
         },
         {
          "month": "2017-02-01T00:00:00",
          "peak": 785343,
          "viewCount": 33774463,
          "year": 2017
         },
         {
          "month": "2011-07-01T00:00:00",
          "peak": 123425,
          "viewCount": 33412784,
          "year": 2011
         },
         {
          "month": "2014-04-01T00:00:00",
          "peak": 233835,
          "viewCount": 31693380,
          "year": 2014
         },
         {
          "month": "2010-02-01T00:00:00",
          "peak": 148816,
          "viewCount": 30453118,
          "year": 2010
         },
         {
          "month": "2009-08-01T00:00:00",
          "peak": 160808,
          "viewCount": 28863477,
          "year": 2009
         },
         {
          "month": "2015-05-01T00:00:00",
          "peak": 725151,
          "viewCount": 25535138,
          "year": 2015
         },
         {
          "month": "2016-12-01T00:00:00",
          "peak": 702226,
          "viewCount": 24417765,
          "year": 2016
         },
         {
          "month": "2017-04-01T00:00:00",
          "peak": 728537,
          "viewCount": 24126412,
          "year": 2017
         },
         {
          "month": "2020-12-01T00:00:00",
          "peak": 1201522,
          "viewCount": 23128706,
          "year": 2020
         },
         {
          "month": "2022-05-01T00:00:00",
          "peak": 954908,
          "viewCount": 22970472,
          "year": 2022
         },
         {
          "month": "2022-10-01T00:00:00",
          "peak": 1110627,
          "viewCount": 22318119,
          "year": 2022
         },
         {
          "month": "2014-03-01T00:00:00",
          "peak": 233953,
          "viewCount": 22211339,
          "year": 2014
         },
         {
          "month": "2020-09-01T00:00:00",
          "peak": 1003755,
          "viewCount": 21668669,
          "year": 2020
         },
         {
          "month": "2019-07-01T00:00:00",
          "peak": 602806,
          "viewCount": 21247781,
          "year": 2019
         },
         {
          "month": "2022-08-01T00:00:00",
          "peak": 1060765,
          "viewCount": 21219787,
          "year": 2022
         },
         {
          "month": "2019-06-01T00:00:00",
          "peak": 614513,
          "viewCount": 20781995,
          "year": 2019
         },
         {
          "month": "2020-01-01T00:00:00",
          "peak": 850328,
          "viewCount": 20546454,
          "year": 2020
         },
         {
          "month": "2018-01-01T00:00:00",
          "peak": 758776,
          "viewCount": 20227943,
          "year": 2018
         },
         {
          "month": "2015-03-01T00:00:00",
          "peak": 618109,
          "viewCount": 19684113,
          "year": 2015
         },
         {
          "month": "2018-10-01T00:00:00",
          "peak": 594113,
          "viewCount": 19632217,
          "year": 2018
         },
         {
          "month": "2012-04-01T00:00:00",
          "peak": 139991,
          "viewCount": 19269517,
          "year": 2012
         },
         {
          "month": "2020-08-01T00:00:00",
          "peak": 955869,
          "viewCount": 18786311,
          "year": 2020
         },
         {
          "month": "2020-05-01T00:00:00",
          "peak": 1220085,
          "viewCount": 18362604,
          "year": 2020
         },
         {
          "month": "2012-12-01T00:00:00",
          "peak": 148362,
          "viewCount": 18060250,
          "year": 2012
         },
         {
          "month": "2022-02-01T00:00:00",
          "peak": 1026057,
          "viewCount": 17895956,
          "year": 2022
         },
         {
          "month": "2014-10-01T00:00:00",
          "peak": 404729,
          "viewCount": 17785102,
          "year": 2014
         },
         {
          "month": "2007-01-01T00:00:00",
          "peak": 231570,
          "viewCount": 17532321,
          "year": 2007
         },
         {
          "month": "2016-10-01T00:00:00",
          "peak": 697025,
          "viewCount": 17427196,
          "year": 2016
         },
         {
          "month": "2012-03-01T00:00:00",
          "peak": 149702,
          "viewCount": 17328108,
          "year": 2012
         },
         {
          "month": "2014-09-01T00:00:00",
          "peak": 314963,
          "viewCount": 17189398,
          "year": 2014
         },
         {
          "month": "2018-08-01T00:00:00",
          "peak": 481746,
          "viewCount": 17108328,
          "year": 2018
         },
         {
          "month": "2010-10-01T00:00:00",
          "peak": 156446,
          "viewCount": 17016580,
          "year": 2010
         },
         {
          "month": "2016-01-01T00:00:00",
          "peak": 714744,
          "viewCount": 16947082,
          "year": 2016
         },
         {
          "month": "2016-05-01T00:00:00",
          "peak": 673484,
          "viewCount": 16737835,
          "year": 2016
         },
         {
          "month": "2020-02-01T00:00:00",
          "peak": 959235,
          "viewCount": 16531507,
          "year": 2020
         },
         {
          "month": "2014-08-01T00:00:00",
          "peak": 328267,
          "viewCount": 16522554,
          "year": 2014
         },
         {
          "month": "2017-11-01T00:00:00",
          "peak": 638295,
          "viewCount": 16473084,
          "year": 2017
         },
         {
          "month": "2020-04-01T00:00:00",
          "peak": 1354060,
          "viewCount": 16302139,
          "year": 2020
         },
         {
          "month": "2011-10-01T00:00:00",
          "peak": 135840,
          "viewCount": 16169495,
          "year": 2011
         },
         {
          "month": "2013-03-01T00:00:00",
          "peak": 128818,
          "viewCount": 15846703,
          "year": 2013
         },
         {
          "month": "2019-03-01T00:00:00",
          "peak": 711735,
          "viewCount": 15821046,
          "year": 2019
         },
         {
          "month": "2017-10-01T00:00:00",
          "peak": 674835,
          "viewCount": 15677146,
          "year": 2017
         },
         {
          "month": "2019-12-01T00:00:00",
          "peak": 798764,
          "viewCount": 15067596,
          "year": 2019
         },
         {
          "month": "2015-06-01T00:00:00",
          "peak": 651662,
          "viewCount": 14702715,
          "year": 2015
         },
         {
          "month": "2012-10-01T00:00:00",
          "peak": 155818,
          "viewCount": 14545546,
          "year": 2012
         },
         {
          "month": "2017-05-01T00:00:00",
          "peak": 729279,
          "viewCount": 14520871,
          "year": 2017
         },
         {
          "month": "2009-07-01T00:00:00",
          "peak": 125173,
          "viewCount": 14430061,
          "year": 2009
         },
         {
          "month": "2014-05-01T00:00:00",
          "peak": 233847,
          "viewCount": 14239817,
          "year": 2014
         },
         {
          "month": "2011-12-01T00:00:00",
          "peak": 140514,
          "viewCount": 13969882,
          "year": 2011
         },
         {
          "month": "2016-02-01T00:00:00",
          "peak": 785773,
          "viewCount": 13722689,
          "year": 2016
         },
         {
          "month": "2014-06-01T00:00:00",
          "peak": 251282,
          "viewCount": 13140354,
          "year": 2014
         },
         {
          "month": "2011-08-01T00:00:00",
          "peak": 131653,
          "viewCount": 12810636,
          "year": 2011
         },
         {
          "month": "2015-10-01T00:00:00",
          "peak": 826148,
          "viewCount": 12608204,
          "year": 2015
         },
         {
          "month": "2012-06-01T00:00:00",
          "peak": 120396,
          "viewCount": 12260898,
          "year": 2012
         },
         {
          "month": "2013-05-01T00:00:00",
          "peak": 125199,
          "viewCount": 11987984,
          "year": 2013
         },
         {
          "month": "2014-01-01T00:00:00",
          "peak": 202520,
          "viewCount": 11969930,
          "year": 2014
         },
         {
          "month": "2016-09-01T00:00:00",
          "peak": 671478,
          "viewCount": 11861116,
          "year": 2016
         },
         {
          "month": "2015-09-01T00:00:00",
          "peak": 763829,
          "viewCount": 11818942,
          "year": 2015
         },
         {
          "month": "2022-06-01T00:00:00",
          "peak": 928566,
          "viewCount": 11775763,
          "year": 2022
         },
         {
          "month": "2019-10-01T00:00:00",
          "peak": 776751,
          "viewCount": 11704409,
          "year": 2019
         },
         {
          "month": "2021-01-01T00:00:00",
          "peak": 1158553,
          "viewCount": 11562830,
          "year": 2021
         },
         {
          "month": "2016-03-01T00:00:00",
          "peak": 845234,
          "viewCount": 11430699,
          "year": 2016
         },
         {
          "month": "2009-04-01T00:00:00",
          "peak": 115364,
          "viewCount": 11303070,
          "year": 2009
         },
         {
          "month": "2015-07-01T00:00:00",
          "peak": 584839,
          "viewCount": 11261690,
          "year": 2015
         },
         {
          "month": "2021-12-01T00:00:00",
          "peak": 974624,
          "viewCount": 10980038,
          "year": 2021
         },
         {
          "month": "2005-12-01T00:00:00",
          "peak": 206618,
          "viewCount": 10797827,
          "year": 2005
         },
         {
          "month": "2006-11-01T00:00:00",
          "peak": 137798,
          "viewCount": 10774678,
          "year": 2006
         },
         {
          "month": "2016-06-01T00:00:00",
          "peak": 613756,
          "viewCount": 10576614,
          "year": 2016
         },
         {
          "month": "2021-04-01T00:00:00",
          "peak": 1182193,
          "viewCount": 10430508,
          "year": 2021
         },
         {
          "month": "2012-02-01T00:00:00",
          "peak": 150030,
          "viewCount": 10346674,
          "year": 2012
         },
         {
          "month": "2012-07-01T00:00:00",
          "peak": 159255,
          "viewCount": 10131182,
          "year": 2012
         },
         {
          "month": "2022-09-01T00:00:00",
          "peak": 1124191,
          "viewCount": 10117274,
          "year": 2022
         },
         {
          "month": "2022-07-01T00:00:00",
          "peak": 950395,
          "viewCount": 10032697,
          "year": 2022
         },
         {
          "month": "2007-02-01T00:00:00",
          "peak": 283288,
          "viewCount": 9787421,
          "year": 2007
         },
         {
          "month": "2010-03-01T00:00:00",
          "peak": 176642,
          "viewCount": 9682804,
          "year": 2010
         },
         {
          "month": "2012-11-01T00:00:00",
          "peak": 159238,
          "viewCount": 9600451,
          "year": 2012
         },
         {
          "month": "2007-06-01T00:00:00",
          "peak": 344992,
          "viewCount": 9479922,
          "year": 2007
         },
         {
          "month": "2017-03-01T00:00:00",
          "peak": 780831,
          "viewCount": 9465118,
          "year": 2017
         },
         {
          "month": "2020-07-01T00:00:00",
          "peak": 887871,
          "viewCount": 9422260,
          "year": 2020
         },
         {
          "month": "2011-05-01T00:00:00",
          "peak": 141897,
          "viewCount": 9306413,
          "year": 2011
         },
         {
          "month": "2022-01-01T00:00:00",
          "peak": 1019800,
          "viewCount": 9150017,
          "year": 2022
         },
         {
          "month": "2019-04-01T00:00:00",
          "peak": 647906,
          "viewCount": 9058245,
          "year": 2019
         },
         {
          "month": "2017-07-01T00:00:00",
          "peak": 670361,
          "viewCount": 8991317,
          "year": 2017
         },
         {
          "month": "2013-12-01T00:00:00",
          "peak": 183871,
          "viewCount": 8971707,
          "year": 2013
         },
         {
          "month": "2019-02-01T00:00:00",
          "peak": 686703,
          "viewCount": 8897700,
          "year": 2019
         },
         {
          "month": "2021-09-01T00:00:00",
          "peak": 970788,
          "viewCount": 8603503,
          "year": 2021
         },
         {
          "month": "2022-04-01T00:00:00",
          "peak": 1042536,
          "viewCount": 8500100,
          "year": 2022
         },
         {
          "month": "2011-06-01T00:00:00",
          "peak": 142446,
          "viewCount": 8271601,
          "year": 2011
         },
         {
          "month": "2015-01-01T00:00:00",
          "peak": 518870,
          "viewCount": 8205640,
          "year": 2015
         },
         {
          "month": "2015-12-01T00:00:00",
          "peak": 867769,
          "viewCount": 8132604,
          "year": 2015
         },
         {
          "month": "2022-03-01T00:00:00",
          "peak": 1019747,
          "viewCount": 8005852,
          "year": 2022
         },
         {
          "month": "2009-11-01T00:00:00",
          "peak": 92452,
          "viewCount": 7997396,
          "year": 2009
         },
         {
          "month": "2013-04-01T00:00:00",
          "peak": 138531,
          "viewCount": 7957384,
          "year": 2013
         },
         {
          "month": "2012-05-01T00:00:00",
          "peak": 126234,
          "viewCount": 7933811,
          "year": 2012
         },
         {
          "month": "2019-01-01T00:00:00",
          "peak": 720255,
          "viewCount": 7797941,
          "year": 2019
         },
         {
          "month": "2013-11-01T00:00:00",
          "peak": 171672,
          "viewCount": 7755662,
          "year": 2013
         },
         {
          "month": "2021-06-01T00:00:00",
          "peak": 953085,
          "viewCount": 7542215,
          "year": 2021
         },
         {
          "month": "2012-09-01T00:00:00",
          "peak": 140031,
          "viewCount": 7531982,
          "year": 2012
         },
         {
          "month": "2017-12-01T00:00:00",
          "peak": 638526,
          "viewCount": 7403088,
          "year": 2017
         },
         {
          "month": "2021-05-01T00:00:00",
          "peak": 1114107,
          "viewCount": 7307255,
          "year": 2021
         },
         {
          "month": "2015-02-01T00:00:00",
          "peak": 652940,
          "viewCount": 7034858,
          "year": 2015
         },
         {
          "month": "2021-02-01T00:00:00",
          "peak": 1156160,
          "viewCount": 6976256,
          "year": 2021
         },
         {
          "month": "2007-05-01T00:00:00",
          "peak": 263139,
          "viewCount": 6965563,
          "year": 2007
         },
         {
          "month": "2011-09-01T00:00:00",
          "peak": 131514,
          "viewCount": 6923899,
          "year": 2011
         },
         {
          "month": "2014-11-01T00:00:00",
          "peak": 429231,
          "viewCount": 6769122,
          "year": 2014
         },
         {
          "month": "2020-10-01T00:00:00",
          "peak": 977120,
          "viewCount": 6752416,
          "year": 2020
         },
         {
          "month": "2018-03-01T00:00:00",
          "peak": 710912,
          "viewCount": 6681056,
          "year": 2018
         },
         {
          "month": "2008-12-01T00:00:00",
          "peak": 130243,
          "viewCount": 6632137,
          "year": 2008
         },
         {
          "month": "2008-01-01T00:00:00",
          "peak": 350212,
          "viewCount": 6548230,
          "year": 2008
         },
         {
          "month": "2010-07-01T00:00:00",
          "peak": 134295,
          "viewCount": 6177810,
          "year": 2010
         },
         {
          "month": "2006-12-01T00:00:00",
          "peak": 183932,
          "viewCount": 5881301,
          "year": 2006
         },
         {
          "month": "2007-03-01T00:00:00",
          "peak": 224528,
          "viewCount": 5830694,
          "year": 2007
         },
         {
          "month": "2022-12-01T00:00:00",
          "peak": 1090343,
          "viewCount": 5776688,
          "year": 2022
         },
         {
          "month": "2013-08-01T00:00:00",
          "peak": 122345,
          "viewCount": 5628441,
          "year": 2013
         },
         {
          "month": "2016-04-01T00:00:00",
          "peak": 889459,
          "viewCount": 5387908,
          "year": 2016
         },
         {
          "month": "2014-12-01T00:00:00",
          "peak": 506492,
          "viewCount": 5292148,
          "year": 2014
         },
         {
          "month": "2007-07-01T00:00:00",
          "peak": 343354,
          "viewCount": 5203975,
          "year": 2007
         },
         {
          "month": "2010-06-01T00:00:00",
          "peak": 151931,
          "viewCount": 5156762,
          "year": 2010
         },
         {
          "month": "2006-08-01T00:00:00",
          "peak": 205654,
          "viewCount": 5038160,
          "year": 2006
         },
         {
          "month": "2017-09-01T00:00:00",
          "peak": 709468,
          "viewCount": 5023939,
          "year": 2017
         },
         {
          "month": "2008-09-01T00:00:00",
          "peak": 167567,
          "viewCount": 4932420,
          "year": 2008
         },
         {
          "month": "2014-02-01T00:00:00",
          "peak": 239175,
          "viewCount": 4843915,
          "year": 2014
         },
         {
          "month": "2018-02-01T00:00:00",
          "peak": 728848,
          "viewCount": 4773316,
          "year": 2018
         },
         {
          "month": "2021-10-01T00:00:00",
          "peak": 888099,
          "viewCount": 4760216,
          "year": 2021
         },
         {
          "month": "2009-05-01T00:00:00",
          "peak": 146044,
          "viewCount": 4752600,
          "year": 2009
         },
         {
          "month": "2012-01-01T00:00:00",
          "peak": 152253,
          "viewCount": 4707628,
          "year": 2012
         },
         {
          "month": "2016-07-01T00:00:00",
          "peak": 668393,
          "viewCount": 4672265,
          "year": 2016
         },
         {
          "month": "2007-08-01T00:00:00",
          "peak": 307410,
          "viewCount": 4659322,
          "year": 2007
         },
         {
          "month": "2013-02-01T00:00:00",
          "peak": 144267,
          "viewCount": 4401759,
          "year": 2013
         },
         {
          "month": "2018-12-01T00:00:00",
          "peak": 781335,
          "viewCount": 4192299,
          "year": 2018
         },
         {
          "month": "2013-01-01T00:00:00",
          "peak": 151841,
          "viewCount": 4095206,
          "year": 2013
         },
         {
          "month": "2021-08-01T00:00:00",
          "peak": 824180,
          "viewCount": 4094505,
          "year": 2021
         },
         {
          "month": "2008-11-01T00:00:00",
          "peak": 113772,
          "viewCount": 4038333,
          "year": 2008
         },
         {
          "month": "2013-07-01T00:00:00",
          "peak": 116438,
          "viewCount": 3978458,
          "year": 2013
         },
         {
          "month": "2010-12-01T00:00:00",
          "peak": 165713,
          "viewCount": 3832744,
          "year": 2010
         },
         {
          "month": "2017-06-01T00:00:00",
          "peak": 644596,
          "viewCount": 3797489,
          "year": 2017
         },
         {
          "month": "2010-11-01T00:00:00",
          "peak": 163613,
          "viewCount": 3689440,
          "year": 2010
         },
         {
          "month": "2009-12-01T00:00:00",
          "peak": 160755,
          "viewCount": 3683981,
          "year": 2009
         },
         {
          "month": "2008-10-01T00:00:00",
          "peak": 177264,
          "viewCount": 3675927,
          "year": 2008
         },
         {
          "month": "2011-04-01T00:00:00",
          "peak": 153999,
          "viewCount": 3566117,
          "year": 2011
         },
         {
          "month": "2009-02-01T00:00:00",
          "peak": 184563,
          "viewCount": 3549599,
          "year": 2009
         },
         {
          "month": "2011-02-01T00:00:00",
          "peak": 173494,
          "viewCount": 3529684,
          "year": 2011
         },
         {
          "month": "2009-06-01T00:00:00",
          "peak": 158880,
          "viewCount": 3518959,
          "year": 2009
         },
         {
          "month": "2021-11-01T00:00:00",
          "peak": 967548,
          "viewCount": 3502377,
          "year": 2021
         },
         {
          "month": "2020-11-01T00:00:00",
          "peak": 1069121,
          "viewCount": 3499404,
          "year": 2020
         },
         {
          "month": "2013-06-01T00:00:00",
          "peak": 111218,
          "viewCount": 3489519,
          "year": 2013
         },
         {
          "month": "2014-07-01T00:00:00",
          "peak": 329466,
          "viewCount": 3417795,
          "year": 2014
         },
         {
          "month": "2021-07-01T00:00:00",
          "peak": 788128,
          "viewCount": 3258535,
          "year": 2021
         },
         {
          "month": "2013-09-01T00:00:00",
          "peak": 124472,
          "viewCount": 3243364,
          "year": 2013
         },
         {
          "month": "2007-04-01T00:00:00",
          "peak": 131302,
          "viewCount": 3117854,
          "year": 2007
         },
         {
          "month": "2021-03-01T00:00:00",
          "peak": 1234187,
          "viewCount": 3086472,
          "year": 2021
         },
         {
          "month": "2011-01-01T00:00:00",
          "peak": 178599,
          "viewCount": 3063425,
          "year": 2011
         },
         {
          "month": "2007-10-01T00:00:00",
          "peak": 335093,
          "viewCount": 2976534,
          "year": 2007
         },
         {
          "month": "2009-09-01T00:00:00",
          "peak": 147813,
          "viewCount": 2970142,
          "year": 2009
         },
         {
          "month": "2018-07-01T00:00:00",
          "peak": 455676,
          "viewCount": 2964785,
          "year": 2018
         },
         {
          "month": "2009-03-01T00:00:00",
          "peak": 179726,
          "viewCount": 2897808,
          "year": 2009
         },
         {
          "month": "2011-11-01T00:00:00",
          "peak": 133647,
          "viewCount": 2850563,
          "year": 2011
         },
         {
          "month": "2007-11-01T00:00:00",
          "peak": 309902,
          "viewCount": 2801432,
          "year": 2007
         },
         {
          "month": "2010-01-01T00:00:00",
          "peak": 171430,
          "viewCount": 2765734,
          "year": 2010
         },
         {
          "month": "2010-08-01T00:00:00",
          "peak": 144459,
          "viewCount": 2338476,
          "year": 2010
         },
         {
          "month": "2020-06-01T00:00:00",
          "peak": 986980,
          "viewCount": 2274130,
          "year": 2020
         },
         {
          "month": "2010-09-01T00:00:00",
          "peak": 152887,
          "viewCount": 2120099,
          "year": 2010
         },
         {
          "month": "2010-05-01T00:00:00",
          "peak": 285535,
          "viewCount": 2107379,
          "year": 2010
         },
         {
          "month": "2009-01-01T00:00:00",
          "peak": 113554,
          "viewCount": 2048813,
          "year": 2009
         },
         {
          "month": "2007-12-01T00:00:00",
          "peak": 426756,
          "viewCount": 1852382,
          "year": 2007
         },
         {
          "month": "2005-11-01T00:00:00",
          "peak": 128508,
          "viewCount": 1810148,
          "year": 2005
         },
         {
          "month": "2010-04-01T00:00:00",
          "peak": 167923,
          "viewCount": 1680624,
          "year": 2010
         },
         {
          "month": "2013-10-01T00:00:00",
          "peak": 166374,
          "viewCount": 1423714,
          "year": 2013
         },
         {
          "month": "2018-09-01T00:00:00",
          "peak": 612880,
          "viewCount": 822816,
          "year": 2018
         },
         {
          "month": "2005-08-01T00:00:00",
          "peak": 205663,
          "viewCount": 89144,
          "year": 2005
         },
         {
          "month": "2005-09-01T00:00:00",
          "peak": 185147,
          "viewCount": 19415,
          "year": 2005
         }
        ]
       },
       "layer": [
        {
         "encoding": {
          "color": {
           "field": "year",
           "legend": {
            "columns": 2
           },
           "title": "Year",
           "type": "nominal"
          },
          "tooltip": [
           {
            "field": "month",
            "title": "Month",
            "type": "temporal"
           },
           {
            "field": "peak",
            "format": ",",
            "title": "Peak players",
            "type": "quantitative"
           },
           {
            "field": "viewCount",
            "format": ",",
            "title": "Views",
            "type": "quantitative"
           }
          ],
          "x": {
           "field": "peak",
           "title": "Playerbase (monthly peak, SteamDB)",
           "type": "quantitative"
          },
          "y": {
           "field": "viewCount",
           "title": "YouTube Viewership (monthly total)",
           "type": "quantitative"
          }
         },
         "mark": {
          "opacity": 0.6,
          "size": 60,
          "type": "circle"
         }
        },
        {
         "encoding": {
          "color": {
           "value": "black"
          },
          "tooltip": [
           {
            "field": "month",
            "title": "Month",
            "type": "temporal"
           },
           {
            "field": "peak",
            "format": ",",
            "title": "Peak players",
            "type": "quantitative"
           },
           {
            "field": "viewCount",
            "format": ",",
            "title": "Views",
            "type": "quantitative"
           }
          ],
          "x": {
           "field": "peak",
           "title": "Playerbase (monthly peak, SteamDB)",
           "type": "quantitative"
          },
          "y": {
           "field": "viewCount",
           "title": "YouTube Viewership (monthly total)",
           "type": "quantitative"
          }
         },
         "mark": {
          "size": 3,
          "type": "line"
         },
         "transform": [
          {
           "on": "peak",
           "regression": "viewCount"
          }
         ]
        }
       ],
       "title": "Counter-Strike: Playerbase vs. YouTube Viewership (by month)",
       "usermeta": {
        "embedOptions": {
         "theme": "fivethirtyeight"
        }
       }
      },
      "text/plain": [
       "<VegaLite 5 object>\n",
       "\n",
       "If you see this message, it means the renderer has not been properly enabled\n",
       "for the frontend that you are using. For more information, see\n",
       "https://altair-viz.github.io/user_guide/display_frontends.html#troubleshooting\n"
      ]
     },
     "execution_count": 87,
     "metadata": {},
     "output_type": "execute_result"
    }
   ],
   "source": [
    "# Ensure proper dtypes\n",
    "df1 = merged_yt_and_steamdb.copy()\n",
    "df1[\"month\"] = pd.to_datetime(df1[\"month\"])\n",
    "df1[\"year\"] = df1[\"month\"].dt.year\n",
    "\n",
    "# Base scatter\n",
    "scatter = (\n",
    "    alt.Chart(df1)\n",
    "    .mark_circle(size=60, opacity=0.6)\n",
    "    .encode(\n",
    "        x=alt.X(\"peak:Q\", title=\"Playerbase (monthly peak, SteamDB)\"),\n",
    "        y=alt.Y(\"viewCount:Q\", title=\"YouTube Viewership (monthly total)\"),\n",
    "        color=alt.Color(\"year:N\", title=\"Year\", legend=alt.Legend(columns=2)),\n",
    "        tooltip=[\n",
    "            alt.Tooltip(\"month:T\", title=\"Month\"),\n",
    "            alt.Tooltip(\"peak:Q\", title=\"Peak players\", format=\",\"),\n",
    "            alt.Tooltip(\"viewCount:Q\", title=\"Views\", format=\",\"),\n",
    "        ]\n",
    "    )\n",
    ")\n",
    "\n",
    "# Regression trendline (linear)\n",
    "trend = (\n",
    "    scatter\n",
    "    .transform_regression(\"peak\", \"viewCount\")\n",
    "    .mark_line(size=3)\n",
    "    .encode(color=alt.value(\"black\"))\n",
    ")\n",
    "\n",
    "(scatter + trend).properties(\n",
    "    title=\"Counter-Strike: Playerbase vs. YouTube Viewership (by month)\"\n",
    ")\n"
   ]
  },
  {
   "cell_type": "code",
   "execution_count": 88,
   "id": "de40cf2d",
   "metadata": {},
   "outputs": [
    {
     "data": {
      "text/html": [
       "<div>\n",
       "<style scoped>\n",
       "    .dataframe tbody tr th:only-of-type {\n",
       "        vertical-align: middle;\n",
       "    }\n",
       "\n",
       "    .dataframe tbody tr th {\n",
       "        vertical-align: top;\n",
       "    }\n",
       "\n",
       "    .dataframe thead th {\n",
       "        text-align: right;\n",
       "    }\n",
       "</style>\n",
       "<table border=\"1\" class=\"dataframe\">\n",
       "  <thead>\n",
       "    <tr style=\"text-align: right;\">\n",
       "      <th></th>\n",
       "      <th>month</th>\n",
       "      <th>peak</th>\n",
       "      <th>Peak Viewers</th>\n",
       "    </tr>\n",
       "  </thead>\n",
       "  <tbody>\n",
       "    <tr>\n",
       "      <th>59</th>\n",
       "      <td>2021-10-01</td>\n",
       "      <td>888099.0</td>\n",
       "      <td>1950442.0</td>\n",
       "    </tr>\n",
       "    <tr>\n",
       "      <th>65</th>\n",
       "      <td>2022-04-01</td>\n",
       "      <td>1042536.0</td>\n",
       "      <td>1634605.0</td>\n",
       "    </tr>\n",
       "    <tr>\n",
       "      <th>87</th>\n",
       "      <td>2024-02-01</td>\n",
       "      <td>1431938.0</td>\n",
       "      <td>1553750.0</td>\n",
       "    </tr>\n",
       "    <tr>\n",
       "      <th>13</th>\n",
       "      <td>2017-12-01</td>\n",
       "      <td>638526.0</td>\n",
       "      <td>1320676.0</td>\n",
       "    </tr>\n",
       "    <tr>\n",
       "      <th>71</th>\n",
       "      <td>2022-10-01</td>\n",
       "      <td>1110627.0</td>\n",
       "      <td>1273072.0</td>\n",
       "    </tr>\n",
       "  </tbody>\n",
       "</table>\n",
       "</div>"
      ],
      "text/plain": [
       "        month       peak  Peak Viewers\n",
       "59 2021-10-01   888099.0     1950442.0\n",
       "65 2022-04-01  1042536.0     1634605.0\n",
       "87 2024-02-01  1431938.0     1553750.0\n",
       "13 2017-12-01   638526.0     1320676.0\n",
       "71 2022-10-01  1110627.0     1273072.0"
      ]
     },
     "execution_count": 88,
     "metadata": {},
     "output_type": "execute_result"
    }
   ],
   "source": [
    "merged_twitch_and_steamdb.head()"
   ]
  },
  {
   "cell_type": "code",
   "execution_count": 89,
   "id": "0d2f6622",
   "metadata": {},
   "outputs": [
    {
     "data": {
      "application/vnd.vegalite.v5+json": {
       "$schema": "https://vega.github.io/schema/vega-lite/v5.20.1.json",
       "config": {
        "view": {
         "continuousHeight": 300,
         "continuousWidth": 300
        }
       },
       "data": {
        "name": "data-69978e233de213b8a927b3e9a288d5a4"
       },
       "datasets": {
        "data-69978e233de213b8a927b3e9a288d5a4": [
         {
          "Peak Viewers": 1950442,
          "month": "2021-10-01T00:00:00",
          "peak": 888099,
          "year": 2021
         },
         {
          "Peak Viewers": 1634605,
          "month": "2022-04-01T00:00:00",
          "peak": 1042536,
          "year": 2022
         },
         {
          "Peak Viewers": 1553750,
          "month": "2024-02-01T00:00:00",
          "peak": 1431938,
          "year": 2024
         },
         {
          "Peak Viewers": 1320676,
          "month": "2017-12-01T00:00:00",
          "peak": 638526,
          "year": 2017
         },
         {
          "Peak Viewers": 1273072,
          "month": "2022-10-01T00:00:00",
          "peak": 1110627,
          "year": 2022
         },
         {
          "Peak Viewers": 1157283,
          "month": "2022-06-01T00:00:00",
          "peak": 928566,
          "year": 2022
         },
         {
          "Peak Viewers": 1154232,
          "month": "2016-12-01T00:00:00",
          "peak": 702226,
          "year": 2016
         },
         {
          "Peak Viewers": 1146827,
          "month": "2025-05-01T00:00:00",
          "peak": 1752347,
          "year": 2025
         },
         {
          "Peak Viewers": 1087551,
          "month": "2023-04-01T00:00:00",
          "peak": 1536102,
          "year": 2023
         },
         {
          "Peak Viewers": 988449,
          "month": "2022-01-01T00:00:00",
          "peak": 1019800,
          "year": 2022
         },
         {
          "Peak Viewers": 952930,
          "month": "2025-01-01T00:00:00",
          "peak": 1643797,
          "year": 2025
         },
         {
          "Peak Viewers": 951116,
          "month": "2024-11-01T00:00:00",
          "peak": 1593726,
          "year": 2024
         },
         {
          "Peak Viewers": 949075,
          "month": "2017-06-01T00:00:00",
          "peak": 644596,
          "year": 2017
         },
         {
          "Peak Viewers": 890512,
          "month": "2023-02-01T00:00:00",
          "peak": 1378327,
          "year": 2023
         },
         {
          "Peak Viewers": 870470,
          "month": "2018-08-01T00:00:00",
          "peak": 481746,
          "year": 2018
         },
         {
          "Peak Viewers": 843931,
          "month": "2020-02-01T00:00:00",
          "peak": 959235,
          "year": 2020
         },
         {
          "Peak Viewers": 836577,
          "month": "2019-02-01T00:00:00",
          "peak": 686703,
          "year": 2019
         },
         {
          "Peak Viewers": 827726,
          "month": "2025-03-01T00:00:00",
          "peak": 1864428,
          "year": 2025
         },
         {
          "Peak Viewers": 736929,
          "month": "2021-08-01T00:00:00",
          "peak": 824180,
          "year": 2021
         },
         {
          "Peak Viewers": 734295,
          "month": "2025-07-01T00:00:00",
          "peak": 1506027,
          "year": 2025
         },
         {
          "Peak Viewers": 730453,
          "month": "2021-06-01T00:00:00",
          "peak": 953085,
          "year": 2021
         },
         {
          "Peak Viewers": 722031,
          "month": "2025-04-01T00:00:00",
          "peak": 1898525,
          "year": 2025
         },
         {
          "Peak Viewers": 719996,
          "month": "2024-07-01T00:00:00",
          "peak": 1385446,
          "year": 2024
         },
         {
          "Peak Viewers": 698049,
          "month": "2024-01-01T00:00:00",
          "peak": 1334752,
          "year": 2024
         },
         {
          "Peak Viewers": 693262,
          "month": "2022-09-01T00:00:00",
          "peak": 1124191,
          "year": 2022
         },
         {
          "Peak Viewers": 689355,
          "month": "2021-09-01T00:00:00",
          "peak": 970788,
          "year": 2021
         },
         {
          "Peak Viewers": 661722,
          "month": "2019-08-01T00:00:00",
          "peak": 680892,
          "year": 2019
         },
         {
          "Peak Viewers": 631990,
          "month": "2025-02-01T00:00:00",
          "peak": 1827625,
          "year": 2025
         },
         {
          "Peak Viewers": 630445,
          "month": "2024-06-01T00:00:00",
          "peak": 1558198,
          "year": 2024
         },
         {
          "Peak Viewers": 626902,
          "month": "2024-08-01T00:00:00",
          "peak": 1461132,
          "year": 2024
         },
         {
          "Peak Viewers": 625487,
          "month": "2021-01-01T00:00:00",
          "peak": 1158553,
          "year": 2021
         },
         {
          "Peak Viewers": 617143,
          "month": "2020-01-01T00:00:00",
          "peak": 850328,
          "year": 2020
         },
         {
          "Peak Viewers": 611693,
          "month": "2021-04-01T00:00:00",
          "peak": 1182193,
          "year": 2021
         },
         {
          "Peak Viewers": 610953,
          "month": "2024-05-01T00:00:00",
          "peak": 1661558,
          "year": 2024
         },
         {
          "Peak Viewers": 602155,
          "month": "2020-12-01T00:00:00",
          "peak": 1201522,
          "year": 2020
         },
         {
          "Peak Viewers": 589121,
          "month": "2023-03-01T00:00:00",
          "peak": 1542231,
          "year": 2023
         },
         {
          "Peak Viewers": 586548,
          "month": "2023-07-01T00:00:00",
          "peak": 1245840,
          "year": 2023
         },
         {
          "Peak Viewers": 578423,
          "month": "2023-01-01T00:00:00",
          "peak": 1224207,
          "year": 2023
         },
         {
          "Peak Viewers": 577878,
          "month": "2017-09-01T00:00:00",
          "peak": 709468,
          "year": 2017
         },
         {
          "Peak Viewers": 574885,
          "month": "2020-03-01T00:00:00",
          "peak": 1269874,
          "year": 2020
         },
         {
          "Peak Viewers": 556546,
          "month": "2020-10-01T00:00:00",
          "peak": 977120,
          "year": 2020
         },
         {
          "Peak Viewers": 556026,
          "month": "2025-06-01T00:00:00",
          "peak": 1766572,
          "year": 2025
         },
         {
          "Peak Viewers": 546449,
          "month": "2023-09-01T00:00:00",
          "peak": 1580157,
          "year": 2023
         },
         {
          "Peak Viewers": 530769,
          "month": "2021-11-01T00:00:00",
          "peak": 967548,
          "year": 2021
         },
         {
          "Peak Viewers": 525938,
          "month": "2024-12-01T00:00:00",
          "peak": 1777329,
          "year": 2024
         },
         {
          "Peak Viewers": 523956,
          "month": "2019-07-01T00:00:00",
          "peak": 602806,
          "year": 2019
         },
         {
          "Peak Viewers": 521208,
          "month": "2022-05-01T00:00:00",
          "peak": 954908,
          "year": 2022
         },
         {
          "Peak Viewers": 516787,
          "month": "2019-01-01T00:00:00",
          "peak": 720255,
          "year": 2019
         },
         {
          "Peak Viewers": 512456,
          "month": "2017-02-01T00:00:00",
          "peak": 785343,
          "year": 2017
         },
         {
          "Peak Viewers": 505586,
          "month": "2023-08-01T00:00:00",
          "peak": 1557039,
          "year": 2023
         },
         {
          "Peak Viewers": 504991,
          "month": "2018-02-01T00:00:00",
          "peak": 728848,
          "year": 2018
         },
         {
          "Peak Viewers": 502764,
          "month": "2020-05-01T00:00:00",
          "peak": 1220085,
          "year": 2020
         },
         {
          "Peak Viewers": 502637,
          "month": "2020-04-01T00:00:00",
          "peak": 1354060,
          "year": 2020
         },
         {
          "Peak Viewers": 489826,
          "month": "2021-02-01T00:00:00",
          "peak": 1156160,
          "year": 2021
         },
         {
          "Peak Viewers": 489612,
          "month": "2023-05-01T00:00:00",
          "peak": 1837896,
          "year": 2023
         },
         {
          "Peak Viewers": 465673,
          "month": "2020-09-01T00:00:00",
          "peak": 1003755,
          "year": 2020
         },
         {
          "Peak Viewers": 461337,
          "month": "2017-01-01T00:00:00",
          "peak": 858017,
          "year": 2017
         },
         {
          "Peak Viewers": 456477,
          "month": "2022-08-01T00:00:00",
          "peak": 1060765,
          "year": 2022
         },
         {
          "Peak Viewers": 447255,
          "month": "2021-03-01T00:00:00",
          "peak": 1234187,
          "year": 2021
         },
         {
          "Peak Viewers": 445214,
          "month": "2025-08-01T00:00:00",
          "peak": 1581554,
          "year": 2025
         },
         {
          "Peak Viewers": 440489,
          "month": "2021-12-01T00:00:00",
          "peak": 974624,
          "year": 2021
         },
         {
          "Peak Viewers": 439125,
          "month": "2019-06-01T00:00:00",
          "peak": 614513,
          "year": 2019
         },
         {
          "Peak Viewers": 438615,
          "month": "2024-10-01T00:00:00",
          "peak": 1529352,
          "year": 2024
         },
         {
          "Peak Viewers": 433195,
          "month": "2022-03-01T00:00:00",
          "peak": 1019747,
          "year": 2022
         },
         {
          "Peak Viewers": 432847,
          "month": "2024-09-01T00:00:00",
          "peak": 1515033,
          "year": 2024
         },
         {
          "Peak Viewers": 421682,
          "month": "2023-06-01T00:00:00",
          "peak": 1692482,
          "year": 2023
         },
         {
          "Peak Viewers": 418276,
          "month": "2017-03-01T00:00:00",
          "peak": 780831,
          "year": 2017
         },
         {
          "Peak Viewers": 399637,
          "month": "2021-07-01T00:00:00",
          "peak": 788128,
          "year": 2021
         },
         {
          "Peak Viewers": 395368,
          "month": "2020-11-01T00:00:00",
          "peak": 1069121,
          "year": 2020
         },
         {
          "Peak Viewers": 394499,
          "month": "2021-05-01T00:00:00",
          "peak": 1114107,
          "year": 2021
         },
         {
          "Peak Viewers": 383963,
          "month": "2023-10-01T00:00:00",
          "peak": 1412825,
          "year": 2023
         },
         {
          "Peak Viewers": 382770,
          "month": "2019-09-01T00:00:00",
          "peak": 745425,
          "year": 2019
         },
         {
          "Peak Viewers": 374721,
          "month": "2018-01-01T00:00:00",
          "peak": 758776,
          "year": 2018
         },
         {
          "Peak Viewers": 356457,
          "month": "2022-02-01T00:00:00",
          "peak": 1026057,
          "year": 2022
         },
         {
          "Peak Viewers": 354909,
          "month": "2019-05-01T00:00:00",
          "peak": 616941,
          "year": 2019
         },
         {
          "Peak Viewers": 354673,
          "month": "2019-11-01T00:00:00",
          "peak": 789463,
          "year": 2019
         },
         {
          "Peak Viewers": 336839,
          "month": "2018-03-01T00:00:00",
          "peak": 710912,
          "year": 2018
         },
         {
          "Peak Viewers": 335027,
          "month": "2020-07-01T00:00:00",
          "peak": 887871,
          "year": 2020
         },
         {
          "Peak Viewers": 330089,
          "month": "2020-08-01T00:00:00",
          "peak": 955869,
          "year": 2020
         },
         {
          "Peak Viewers": 328157,
          "month": "2022-12-01T00:00:00",
          "peak": 1090343,
          "year": 2022
         },
         {
          "Peak Viewers": 322087,
          "month": "2022-07-01T00:00:00",
          "peak": 950395,
          "year": 2022
         },
         {
          "Peak Viewers": 317538,
          "month": "2024-04-01T00:00:00",
          "peak": 1647977,
          "year": 2024
         },
         {
          "Peak Viewers": 316041,
          "month": "2019-03-01T00:00:00",
          "peak": 711735,
          "year": 2019
         },
         {
          "Peak Viewers": 305821,
          "month": "2023-12-01T00:00:00",
          "peak": 1276429,
          "year": 2023
         },
         {
          "Peak Viewers": 303388,
          "month": "2018-05-01T00:00:00",
          "peak": 481392,
          "year": 2018
         },
         {
          "Peak Viewers": 302229,
          "month": "2019-10-01T00:00:00",
          "peak": 776751,
          "year": 2019
         },
         {
          "Peak Viewers": 302110,
          "month": "2023-11-01T00:00:00",
          "peak": 1184525,
          "year": 2023
         },
         {
          "Peak Viewers": 300573,
          "month": "2018-10-01T00:00:00",
          "peak": 594113,
          "year": 2018
         },
         {
          "Peak Viewers": 296775,
          "month": "2017-05-01T00:00:00",
          "peak": 729279,
          "year": 2017
         },
         {
          "Peak Viewers": 288573,
          "month": "2017-08-01T00:00:00",
          "peak": 626044,
          "year": 2017
         },
         {
          "Peak Viewers": 284991,
          "month": "2022-11-01T00:00:00",
          "peak": 1156226,
          "year": 2022
         },
         {
          "Peak Viewers": 281142,
          "month": "2017-10-01T00:00:00",
          "peak": 674835,
          "year": 2017
         },
         {
          "Peak Viewers": 277008,
          "month": "2024-03-01T00:00:00",
          "peak": 1555064,
          "year": 2024
         },
         {
          "Peak Viewers": 274858,
          "month": "2018-11-01T00:00:00",
          "peak": 576288,
          "year": 2018
         },
         {
          "Peak Viewers": 261130,
          "month": "2019-12-01T00:00:00",
          "peak": 798764,
          "year": 2019
         },
         {
          "Peak Viewers": 239670,
          "month": "2018-06-01T00:00:00",
          "peak": 449409,
          "year": 2018
         },
         {
          "Peak Viewers": 237149,
          "month": "2016-11-01T00:00:00",
          "peak": 664428,
          "year": 2016
         },
         {
          "Peak Viewers": 236322,
          "month": "2019-04-01T00:00:00",
          "peak": 647906,
          "year": 2019
         },
         {
          "Peak Viewers": 232638,
          "month": "2017-11-01T00:00:00",
          "peak": 638295,
          "year": 2017
         },
         {
          "Peak Viewers": 226561,
          "month": "2018-04-01T00:00:00",
          "peak": 556019,
          "year": 2018
         },
         {
          "Peak Viewers": 223168,
          "month": "2018-09-01T00:00:00",
          "peak": 612880,
          "year": 2018
         },
         {
          "Peak Viewers": 211031,
          "month": "2020-06-01T00:00:00",
          "peak": 986980,
          "year": 2020
         },
         {
          "Peak Viewers": 210176,
          "month": "2017-07-01T00:00:00",
          "peak": 670361,
          "year": 2017
         },
         {
          "Peak Viewers": 201034,
          "month": "2018-12-01T00:00:00",
          "peak": 781335,
          "year": 2018
         },
         {
          "Peak Viewers": 194939,
          "month": "2017-04-01T00:00:00",
          "peak": 728537,
          "year": 2017
         },
         {
          "Peak Viewers": 194122,
          "month": "2018-07-01T00:00:00",
          "peak": 455676,
          "year": 2018
         }
        ]
       },
       "layer": [
        {
         "encoding": {
          "color": {
           "field": "year",
           "legend": {
            "columns": 2
           },
           "title": "Year",
           "type": "nominal"
          },
          "tooltip": [
           {
            "field": "month",
            "title": "Month",
            "type": "temporal"
           },
           {
            "field": "peak",
            "format": ",",
            "title": "Peak players",
            "type": "quantitative"
           },
           {
            "field": "Peak Viewers",
            "format": ",",
            "title": "Peak Viewers",
            "type": "quantitative"
           }
          ],
          "x": {
           "field": "peak",
           "title": "Playerbase (monthly peak, SteamDB)",
           "type": "quantitative"
          },
          "y": {
           "field": "Peak Viewers",
           "title": "Twitch Peak Viewership (monthly total)",
           "type": "quantitative"
          }
         },
         "mark": {
          "opacity": 0.6,
          "size": 60,
          "type": "circle"
         }
        },
        {
         "encoding": {
          "color": {
           "value": "black"
          },
          "tooltip": [
           {
            "field": "month",
            "title": "Month",
            "type": "temporal"
           },
           {
            "field": "peak",
            "format": ",",
            "title": "Peak players",
            "type": "quantitative"
           },
           {
            "field": "Peak Viewers",
            "format": ",",
            "title": "Peak Viewers",
            "type": "quantitative"
           }
          ],
          "x": {
           "field": "peak",
           "title": "Playerbase (monthly peak, SteamDB)",
           "type": "quantitative"
          },
          "y": {
           "field": "Peak Viewers",
           "title": "Twitch Peak Viewership (monthly total)",
           "type": "quantitative"
          }
         },
         "mark": {
          "size": 3,
          "type": "line"
         },
         "transform": [
          {
           "on": "peak",
           "regression": "Peak Viewers"
          }
         ]
        }
       ],
       "title": "Counter-Strike: Playerbase vs. Twitch Peak Viewership (by month)",
       "usermeta": {
        "embedOptions": {
         "theme": "fivethirtyeight"
        }
       }
      },
      "text/plain": [
       "<VegaLite 5 object>\n",
       "\n",
       "If you see this message, it means the renderer has not been properly enabled\n",
       "for the frontend that you are using. For more information, see\n",
       "https://altair-viz.github.io/user_guide/display_frontends.html#troubleshooting\n"
      ]
     },
     "execution_count": 89,
     "metadata": {},
     "output_type": "execute_result"
    }
   ],
   "source": [
    "# Ensure proper dtypes\n",
    "df2 = merged_twitch_and_steamdb.copy()\n",
    "df2[\"month\"] = pd.to_datetime(df2[\"month\"])\n",
    "df2[\"year\"] = df2[\"month\"].dt.year\n",
    "\n",
    "# Base scatter\n",
    "scatter = (\n",
    "    alt.Chart(df2)\n",
    "    .mark_circle(size=60, opacity=0.6)\n",
    "    .encode(\n",
    "        x=alt.X(\"peak:Q\", title=\"Playerbase (monthly peak, SteamDB)\"),\n",
    "        y=alt.Y(\"Peak Viewers:Q\", title=\"Twitch Peak Viewership (monthly total)\"),\n",
    "        color=alt.Color(\"year:N\", title=\"Year\", legend=alt.Legend(columns=2)),\n",
    "        tooltip=[\n",
    "            alt.Tooltip(\"month:T\", title=\"Month\"),\n",
    "            alt.Tooltip(\"peak:Q\", title=\"Peak players\", format=\",\"),\n",
    "            alt.Tooltip(\"Peak Viewers:Q\", title=\"Peak Viewers\", format=\",\"),\n",
    "        ]\n",
    "    )\n",
    ")\n",
    "\n",
    "# Regression trendline (linear)\n",
    "trend = (\n",
    "    scatter\n",
    "    .transform_regression(\"peak\", \"Peak Viewers\")\n",
    "    .mark_line(size=3)\n",
    "    .encode(color=alt.value(\"black\"))\n",
    ")\n",
    "\n",
    "(scatter + trend).properties(\n",
    "    title=\"Counter-Strike: Playerbase vs. Twitch Peak Viewership (by month)\"\n",
    ")"
   ]
  },
  {
   "cell_type": "markdown",
   "id": "91cb4fe3",
   "metadata": {},
   "source": [
    "### FPS Competitors"
   ]
  },
  {
   "cell_type": "code",
   "execution_count": 90,
   "id": "da6cb82f",
   "metadata": {},
   "outputs": [],
   "source": [
    "# load the heatmap matrix from assets\n",
    "pair_heat = pd.read_csv(\"../assets/trends_heatmap_pairwise.csv\", index_col=0)"
   ]
  },
  {
   "cell_type": "code",
   "execution_count": 91,
   "id": "1a43af88",
   "metadata": {},
   "outputs": [],
   "source": [
    "# --- tidy + DATE CLEANING ---\n",
    "long = (\n",
    "    pair_heat.reset_index()\n",
    "             .rename(columns={\"index\": \"peak_row\"})\n",
    "             .melt(id_vars=\"peak_row\", var_name=\"game\", value_name=\"interest\")\n",
    ")\n",
    "\n",
    "# Extract \"peak game\" and \"(YYYY-MM)\" then parse to datetime\n",
    "long[\"peak_game\"] = long[\"peak_row\"].str.extract(r\"peak@(.+?) \\(\")\n",
    "long[\"peak_month_str\"] = long[\"peak_row\"].str.extract(r\"\\((\\d{4}-\\d{2})\\)\")\n",
    "long[\"peak_month\"] = pd.to_datetime(long[\"peak_month_str\"], format=\"%Y-%m\", errors=\"coerce\")\n",
    "\n",
    "# Nicer y labels: \"Game (Mon YYYY)\"\n",
    "long[\"peak_label\"] = np.where(\n",
    "    long[\"peak_month\"].notna(),\n",
    "    long[\"peak_game\"] + \" (\" + long[\"peak_month\"].dt.strftime(\"%b %Y\") + \")\",\n",
    "    long[\"peak_row\"],\n",
    ")\n",
    "\n",
    "# --- ordering ---\n",
    "# Rows: chronological by peak month (change to .sort_values(\"interest\", ascending=False) for strongest-first)\n",
    "row_order = (\n",
    "    long.loc[long[\"game\"] == long[\"peak_game\"], [\"peak_label\", \"peak_month\"]]\n",
    "        .drop_duplicates(subset=[\"peak_label\"])  # guard against dup joins\n",
    "        .sort_values(\"peak_month\")[\"peak_label\"]\n",
    "        .tolist()\n",
    ")\n",
    "\n",
    "# Columns: by max interest across rows (helps readability)\n",
    "col_order = (\n",
    "    long.groupby(\"game\")[\"interest\"]\n",
    "        .max()\n",
    "        .sort_values(ascending=False)\n",
    "        .index\n",
    "        .tolist()\n",
    ")\n"
   ]
  },
  {
   "cell_type": "code",
   "execution_count": 92,
   "id": "29dfecda",
   "metadata": {},
   "outputs": [
    {
     "data": {
      "application/vnd.vegalite.v5+json": {
       "$schema": "https://vega.github.io/schema/vega-lite/v5.20.1.json",
       "config": {
        "axis": {
         "labelLimit": 280
        },
        "view": {
         "continuousHeight": 300,
         "continuousWidth": 300,
         "stroke": null
        }
       },
       "data": {
        "name": "data-0568d492192b38f83a7cc1d2f0742f91"
       },
       "datasets": {
        "data-0568d492192b38f83a7cc1d2f0742f91": [
         {
          "game": "Counter-Strike",
          "interest": 100,
          "peak_game": "Counter-Strike",
          "peak_label": "Counter-Strike (Jan 2004)",
          "peak_month": "2004-01-01T00:00:00",
          "peak_month_str": "2004-01",
          "peak_row": "peak@Counter-Strike (2004-01)"
         },
         {
          "game": "Counter-Strike",
          "interest": 0,
          "peak_game": "Valorant",
          "peak_label": "Valorant (Aug 2022)",
          "peak_month": "2022-08-01T00:00:00",
          "peak_month_str": "2022-08",
          "peak_row": "peak@Valorant (2022-08)"
         },
         {
          "game": "Counter-Strike",
          "interest": 1,
          "peak_game": "Call of Duty",
          "peak_label": "Call of Duty (Nov 2010)",
          "peak_month": "2010-11-01T00:00:00",
          "peak_month_str": "2010-11",
          "peak_row": "peak@Call of Duty (2010-11)"
         },
         {
          "game": "Counter-Strike",
          "interest": 0,
          "peak_game": "Overwatch",
          "peak_label": "Overwatch (May 2016)",
          "peak_month": "2016-05-01T00:00:00",
          "peak_month_str": "2016-05",
          "peak_row": "peak@Overwatch (2016-05)"
         },
         {
          "game": "Counter-Strike",
          "interest": 1,
          "peak_game": "Battlefield",
          "peak_label": "Battlefield (Oct 2011)",
          "peak_month": "2011-10-01T00:00:00",
          "peak_month_str": "2011-10",
          "peak_row": "peak@Battlefield (2011-10)"
         },
         {
          "game": "Counter-Strike",
          "interest": 0,
          "peak_game": "PUBG",
          "peak_label": "PUBG (Sep 2020)",
          "peak_month": "2020-09-01T00:00:00",
          "peak_month_str": "2020-09",
          "peak_row": "peak@PUBG (2020-09)"
         },
         {
          "game": "Counter-Strike",
          "interest": 0,
          "peak_game": "Fortnite",
          "peak_label": "Fortnite (Jul 2018)",
          "peak_month": "2018-07-01T00:00:00",
          "peak_month_str": "2018-07",
          "peak_row": "peak@Fortnite (2018-07)"
         },
         {
          "game": "Counter-Strike",
          "interest": 0,
          "peak_game": "Apex Legends",
          "peak_label": "Apex Legends (Feb 2019)",
          "peak_month": "2019-02-01T00:00:00",
          "peak_month_str": "2019-02",
          "peak_row": "peak@Apex Legends (2019-02)"
         },
         {
          "game": "Counter-Strike",
          "interest": 2.86,
          "peak_game": "Rainbow Six Siege",
          "peak_label": "Rainbow Six Siege (Dec 2015)",
          "peak_month": "2015-12-01T00:00:00",
          "peak_month_str": "2015-12",
          "peak_row": "peak@Rainbow Six Siege (2015-12)"
         },
         {
          "game": "Valorant",
          "interest": 0,
          "peak_game": "Counter-Strike",
          "peak_label": "Counter-Strike (Jan 2004)",
          "peak_month": "2004-01-01T00:00:00",
          "peak_month_str": "2004-01",
          "peak_row": "peak@Counter-Strike (2004-01)"
         },
         {
          "game": "Valorant",
          "interest": 100,
          "peak_game": "Valorant",
          "peak_label": "Valorant (Aug 2022)",
          "peak_month": "2022-08-01T00:00:00",
          "peak_month_str": "2022-08",
          "peak_row": "peak@Valorant (2022-08)"
         },
         {
          "game": "Valorant",
          "interest": 0,
          "peak_game": "Call of Duty",
          "peak_label": "Call of Duty (Nov 2010)",
          "peak_month": "2010-11-01T00:00:00",
          "peak_month_str": "2010-11",
          "peak_row": "peak@Call of Duty (2010-11)"
         },
         {
          "game": "Valorant",
          "interest": 0,
          "peak_game": "Overwatch",
          "peak_label": "Overwatch (May 2016)",
          "peak_month": "2016-05-01T00:00:00",
          "peak_month_str": "2016-05",
          "peak_row": "peak@Overwatch (2016-05)"
         },
         {
          "game": "Valorant",
          "interest": 0,
          "peak_game": "Battlefield",
          "peak_label": "Battlefield (Oct 2011)",
          "peak_month": "2011-10-01T00:00:00",
          "peak_month_str": "2011-10",
          "peak_row": "peak@Battlefield (2011-10)"
         },
         {
          "game": "Valorant",
          "interest": 16,
          "peak_game": "PUBG",
          "peak_label": "PUBG (Sep 2020)",
          "peak_month": "2020-09-01T00:00:00",
          "peak_month_str": "2020-09",
          "peak_row": "peak@PUBG (2020-09)"
         },
         {
          "game": "Valorant",
          "interest": 0,
          "peak_game": "Fortnite",
          "peak_label": "Fortnite (Jul 2018)",
          "peak_month": "2018-07-01T00:00:00",
          "peak_month_str": "2018-07",
          "peak_row": "peak@Fortnite (2018-07)"
         },
         {
          "game": "Valorant",
          "interest": 0,
          "peak_game": "Apex Legends",
          "peak_label": "Apex Legends (Feb 2019)",
          "peak_month": "2019-02-01T00:00:00",
          "peak_month_str": "2019-02",
          "peak_row": "peak@Apex Legends (2019-02)"
         },
         {
          "game": "Valorant",
          "interest": 0,
          "peak_game": "Rainbow Six Siege",
          "peak_label": "Rainbow Six Siege (Dec 2015)",
          "peak_month": "2015-12-01T00:00:00",
          "peak_month_str": "2015-12",
          "peak_row": "peak@Rainbow Six Siege (2015-12)"
         },
         {
          "game": "Call of Duty",
          "interest": 170.83,
          "peak_game": "Counter-Strike",
          "peak_label": "Counter-Strike (Jan 2004)",
          "peak_month": "2004-01-01T00:00:00",
          "peak_month_str": "2004-01",
          "peak_row": "peak@Counter-Strike (2004-01)"
         },
         {
          "game": "Call of Duty",
          "interest": 34.29,
          "peak_game": "Valorant",
          "peak_label": "Valorant (Aug 2022)",
          "peak_month": "2022-08-01T00:00:00",
          "peak_month_str": "2022-08",
          "peak_row": "peak@Valorant (2022-08)"
         },
         {
          "game": "Call of Duty",
          "interest": 100,
          "peak_game": "Call of Duty",
          "peak_label": "Call of Duty (Nov 2010)",
          "peak_month": "2010-11-01T00:00:00",
          "peak_month_str": "2010-11",
          "peak_row": "peak@Call of Duty (2010-11)"
         },
         {
          "game": "Call of Duty",
          "interest": 34.55,
          "peak_game": "Overwatch",
          "peak_label": "Overwatch (May 2016)",
          "peak_month": "2016-05-01T00:00:00",
          "peak_month_str": "2016-05",
          "peak_row": "peak@Overwatch (2016-05)"
         },
         {
          "game": "Call of Duty",
          "interest": 41.25,
          "peak_game": "Battlefield",
          "peak_label": "Battlefield (Oct 2011)",
          "peak_month": "2011-10-01T00:00:00",
          "peak_month_str": "2011-10",
          "peak_row": "peak@Battlefield (2011-10)"
         },
         {
          "game": "Call of Duty",
          "interest": 25.97,
          "peak_game": "PUBG",
          "peak_label": "PUBG (Sep 2020)",
          "peak_month": "2020-09-01T00:00:00",
          "peak_month_str": "2020-09",
          "peak_row": "peak@PUBG (2020-09)"
         },
         {
          "game": "Call of Duty",
          "interest": 4,
          "peak_game": "Fortnite",
          "peak_label": "Fortnite (Jul 2018)",
          "peak_month": "2018-07-01T00:00:00",
          "peak_month_str": "2018-07",
          "peak_row": "peak@Fortnite (2018-07)"
         },
         {
          "game": "Call of Duty",
          "interest": 16,
          "peak_game": "Apex Legends",
          "peak_label": "Apex Legends (Feb 2019)",
          "peak_month": "2019-02-01T00:00:00",
          "peak_month_str": "2019-02",
          "peak_row": "peak@Apex Legends (2019-02)"
         },
         {
          "game": "Call of Duty",
          "interest": 277.78,
          "peak_game": "Rainbow Six Siege",
          "peak_label": "Rainbow Six Siege (Dec 2015)",
          "peak_month": "2015-12-01T00:00:00",
          "peak_month_str": "2015-12",
          "peak_row": "peak@Rainbow Six Siege (2015-12)"
         },
         {
          "game": "Overwatch",
          "interest": 0,
          "peak_game": "Counter-Strike",
          "peak_label": "Counter-Strike (Jan 2004)",
          "peak_month": "2004-01-01T00:00:00",
          "peak_month_str": "2004-01",
          "peak_row": "peak@Counter-Strike (2004-01)"
         },
         {
          "game": "Overwatch",
          "interest": 12.5,
          "peak_game": "Valorant",
          "peak_label": "Valorant (Aug 2022)",
          "peak_month": "2022-08-01T00:00:00",
          "peak_month_str": "2022-08",
          "peak_row": "peak@Valorant (2022-08)"
         },
         {
          "game": "Overwatch",
          "interest": 0,
          "peak_game": "Call of Duty",
          "peak_label": "Call of Duty (Nov 2010)",
          "peak_month": "2010-11-01T00:00:00",
          "peak_month_str": "2010-11",
          "peak_row": "peak@Call of Duty (2010-11)"
         },
         {
          "game": "Overwatch",
          "interest": 100,
          "peak_game": "Overwatch",
          "peak_label": "Overwatch (May 2016)",
          "peak_month": "2016-05-01T00:00:00",
          "peak_month_str": "2016-05",
          "peak_row": "peak@Overwatch (2016-05)"
         },
         {
          "game": "Overwatch",
          "interest": 0,
          "peak_game": "Battlefield",
          "peak_label": "Battlefield (Oct 2011)",
          "peak_month": "2011-10-01T00:00:00",
          "peak_month_str": "2011-10",
          "peak_row": "peak@Battlefield (2011-10)"
         },
         {
          "game": "Overwatch",
          "interest": 8,
          "peak_game": "PUBG",
          "peak_label": "PUBG (Sep 2020)",
          "peak_month": "2020-09-01T00:00:00",
          "peak_month_str": "2020-09",
          "peak_row": "peak@PUBG (2020-09)"
         },
         {
          "game": "Overwatch",
          "interest": 7,
          "peak_game": "Fortnite",
          "peak_label": "Fortnite (Jul 2018)",
          "peak_month": "2018-07-01T00:00:00",
          "peak_month_str": "2018-07",
          "peak_row": "peak@Fortnite (2018-07)"
         },
         {
          "game": "Overwatch",
          "interest": 19.78,
          "peak_game": "Apex Legends",
          "peak_label": "Apex Legends (Feb 2019)",
          "peak_month": "2019-02-01T00:00:00",
          "peak_month_str": "2019-02",
          "peak_row": "peak@Apex Legends (2019-02)"
         },
         {
          "game": "Overwatch",
          "interest": 33.33,
          "peak_game": "Rainbow Six Siege",
          "peak_label": "Rainbow Six Siege (Dec 2015)",
          "peak_month": "2015-12-01T00:00:00",
          "peak_month_str": "2015-12",
          "peak_row": "peak@Rainbow Six Siege (2015-12)"
         },
         {
          "game": "Battlefield",
          "interest": 106.67,
          "peak_game": "Counter-Strike",
          "peak_label": "Counter-Strike (Jan 2004)",
          "peak_month": "2004-01-01T00:00:00",
          "peak_month_str": "2004-01",
          "peak_row": "peak@Counter-Strike (2004-01)"
         },
         {
          "game": "Battlefield",
          "interest": 11.36,
          "peak_game": "Valorant",
          "peak_label": "Valorant (Aug 2022)",
          "peak_month": "2022-08-01T00:00:00",
          "peak_month_str": "2022-08",
          "peak_row": "peak@Valorant (2022-08)"
         },
         {
          "game": "Battlefield",
          "interest": 15,
          "peak_game": "Call of Duty",
          "peak_label": "Call of Duty (Nov 2010)",
          "peak_month": "2010-11-01T00:00:00",
          "peak_month_str": "2010-11",
          "peak_row": "peak@Call of Duty (2010-11)"
         },
         {
          "game": "Battlefield",
          "interest": 37.68,
          "peak_game": "Overwatch",
          "peak_label": "Overwatch (May 2016)",
          "peak_month": "2016-05-01T00:00:00",
          "peak_month_str": "2016-05",
          "peak_row": "peak@Overwatch (2016-05)"
         },
         {
          "game": "Battlefield",
          "interest": 100,
          "peak_game": "Battlefield",
          "peak_label": "Battlefield (Oct 2011)",
          "peak_month": "2011-10-01T00:00:00",
          "peak_month_str": "2011-10",
          "peak_row": "peak@Battlefield (2011-10)"
         },
         {
          "game": "Battlefield",
          "interest": 5.21,
          "peak_game": "PUBG",
          "peak_label": "PUBG (Sep 2020)",
          "peak_month": "2020-09-01T00:00:00",
          "peak_month_str": "2020-09",
          "peak_row": "peak@PUBG (2020-09)"
         },
         {
          "game": "Battlefield",
          "interest": 3,
          "peak_game": "Fortnite",
          "peak_label": "Fortnite (Jul 2018)",
          "peak_month": "2018-07-01T00:00:00",
          "peak_month_str": "2018-07",
          "peak_row": "peak@Fortnite (2018-07)"
         },
         {
          "game": "Battlefield",
          "interest": 12.9,
          "peak_game": "Apex Legends",
          "peak_label": "Apex Legends (Feb 2019)",
          "peak_month": "2019-02-01T00:00:00",
          "peak_month_str": "2019-02",
          "peak_row": "peak@Apex Legends (2019-02)"
         },
         {
          "game": "Battlefield",
          "interest": 118.18,
          "peak_game": "Rainbow Six Siege",
          "peak_label": "Rainbow Six Siege (Dec 2015)",
          "peak_month": "2015-12-01T00:00:00",
          "peak_month_str": "2015-12",
          "peak_row": "peak@Rainbow Six Siege (2015-12)"
         },
         {
          "game": "PUBG",
          "interest": 0,
          "peak_game": "Counter-Strike",
          "peak_label": "Counter-Strike (Jan 2004)",
          "peak_month": "2004-01-01T00:00:00",
          "peak_month_str": "2004-01",
          "peak_row": "peak@Counter-Strike (2004-01)"
         },
         {
          "game": "PUBG",
          "interest": 56.52,
          "peak_game": "Valorant",
          "peak_label": "Valorant (Aug 2022)",
          "peak_month": "2022-08-01T00:00:00",
          "peak_month_str": "2022-08",
          "peak_row": "peak@Valorant (2022-08)"
         },
         {
          "game": "PUBG",
          "interest": 0,
          "peak_game": "Call of Duty",
          "peak_label": "Call of Duty (Nov 2010)",
          "peak_month": "2010-11-01T00:00:00",
          "peak_month_str": "2010-11",
          "peak_row": "peak@Call of Duty (2010-11)"
         },
         {
          "game": "PUBG",
          "interest": 0,
          "peak_game": "Overwatch",
          "peak_label": "Overwatch (May 2016)",
          "peak_month": "2016-05-01T00:00:00",
          "peak_month_str": "2016-05",
          "peak_row": "peak@Overwatch (2016-05)"
         },
         {
          "game": "PUBG",
          "interest": 0,
          "peak_game": "Battlefield",
          "peak_label": "Battlefield (Oct 2011)",
          "peak_month": "2011-10-01T00:00:00",
          "peak_month_str": "2011-10",
          "peak_row": "peak@Battlefield (2011-10)"
         },
         {
          "game": "PUBG",
          "interest": 100,
          "peak_game": "PUBG",
          "peak_label": "PUBG (Sep 2020)",
          "peak_month": "2020-09-01T00:00:00",
          "peak_month_str": "2020-09",
          "peak_row": "peak@PUBG (2020-09)"
         },
         {
          "game": "PUBG",
          "interest": 17,
          "peak_game": "Fortnite",
          "peak_label": "Fortnite (Jul 2018)",
          "peak_month": "2018-07-01T00:00:00",
          "peak_month_str": "2018-07",
          "peak_row": "peak@Fortnite (2018-07)"
         },
         {
          "game": "PUBG",
          "interest": 109.23,
          "peak_game": "Apex Legends",
          "peak_label": "Apex Legends (Feb 2019)",
          "peak_month": "2019-02-01T00:00:00",
          "peak_month_str": "2019-02",
          "peak_row": "peak@Apex Legends (2019-02)"
         },
         {
          "game": "PUBG",
          "interest": 0,
          "peak_game": "Rainbow Six Siege",
          "peak_label": "Rainbow Six Siege (Dec 2015)",
          "peak_month": "2015-12-01T00:00:00",
          "peak_month_str": "2015-12",
          "peak_row": "peak@Rainbow Six Siege (2015-12)"
         },
         {
          "game": "Fortnite",
          "interest": 0,
          "peak_game": "Counter-Strike",
          "peak_label": "Counter-Strike (Jan 2004)",
          "peak_month": "2004-01-01T00:00:00",
          "peak_month_str": "2004-01",
          "peak_row": "peak@Counter-Strike (2004-01)"
         },
         {
          "game": "Fortnite",
          "interest": 133.33,
          "peak_game": "Valorant",
          "peak_label": "Valorant (Aug 2022)",
          "peak_month": "2022-08-01T00:00:00",
          "peak_month_str": "2022-08",
          "peak_row": "peak@Valorant (2022-08)"
         },
         {
          "game": "Fortnite",
          "interest": 0,
          "peak_game": "Call of Duty",
          "peak_label": "Call of Duty (Nov 2010)",
          "peak_month": "2010-11-01T00:00:00",
          "peak_month_str": "2010-11",
          "peak_row": "peak@Call of Duty (2010-11)"
         },
         {
          "game": "Fortnite",
          "interest": 0,
          "peak_game": "Overwatch",
          "peak_label": "Overwatch (May 2016)",
          "peak_month": "2016-05-01T00:00:00",
          "peak_month_str": "2016-05",
          "peak_row": "peak@Overwatch (2016-05)"
         },
         {
          "game": "Fortnite",
          "interest": 0,
          "peak_game": "Battlefield",
          "peak_label": "Battlefield (Oct 2011)",
          "peak_month": "2011-10-01T00:00:00",
          "peak_month_str": "2011-10",
          "peak_row": "peak@Battlefield (2011-10)"
         },
         {
          "game": "Fortnite",
          "interest": 117.5,
          "peak_game": "PUBG",
          "peak_label": "PUBG (Sep 2020)",
          "peak_month": "2020-09-01T00:00:00",
          "peak_month_str": "2020-09",
          "peak_row": "peak@PUBG (2020-09)"
         },
         {
          "game": "Fortnite",
          "interest": 100,
          "peak_game": "Fortnite",
          "peak_label": "Fortnite (Jul 2018)",
          "peak_month": "2018-07-01T00:00:00",
          "peak_month_str": "2018-07",
          "peak_row": "peak@Fortnite (2018-07)"
         },
         {
          "game": "Fortnite",
          "interest": 311.54,
          "peak_game": "Apex Legends",
          "peak_label": "Apex Legends (Feb 2019)",
          "peak_month": "2019-02-01T00:00:00",
          "peak_month_str": "2019-02",
          "peak_row": "peak@Apex Legends (2019-02)"
         },
         {
          "game": "Fortnite",
          "interest": 0,
          "peak_game": "Rainbow Six Siege",
          "peak_label": "Rainbow Six Siege (Dec 2015)",
          "peak_month": "2015-12-01T00:00:00",
          "peak_month_str": "2015-12",
          "peak_row": "peak@Rainbow Six Siege (2015-12)"
         },
         {
          "game": "Apex Legends",
          "interest": 0,
          "peak_game": "Counter-Strike",
          "peak_label": "Counter-Strike (Jan 2004)",
          "peak_month": "2004-01-01T00:00:00",
          "peak_month_str": "2004-01",
          "peak_row": "peak@Counter-Strike (2004-01)"
         },
         {
          "game": "Apex Legends",
          "interest": 14.29,
          "peak_game": "Valorant",
          "peak_label": "Valorant (Aug 2022)",
          "peak_month": "2022-08-01T00:00:00",
          "peak_month_str": "2022-08",
          "peak_row": "peak@Valorant (2022-08)"
         },
         {
          "game": "Apex Legends",
          "interest": 0,
          "peak_game": "Call of Duty",
          "peak_label": "Call of Duty (Nov 2010)",
          "peak_month": "2010-11-01T00:00:00",
          "peak_month_str": "2010-11",
          "peak_row": "peak@Call of Duty (2010-11)"
         },
         {
          "game": "Apex Legends",
          "interest": 0,
          "peak_game": "Overwatch",
          "peak_label": "Overwatch (May 2016)",
          "peak_month": "2016-05-01T00:00:00",
          "peak_month_str": "2016-05",
          "peak_row": "peak@Overwatch (2016-05)"
         },
         {
          "game": "Apex Legends",
          "interest": 0,
          "peak_game": "Battlefield",
          "peak_label": "Battlefield (Oct 2011)",
          "peak_month": "2011-10-01T00:00:00",
          "peak_month_str": "2011-10",
          "peak_row": "peak@Battlefield (2011-10)"
         },
         {
          "game": "Apex Legends",
          "interest": 5,
          "peak_game": "PUBG",
          "peak_label": "PUBG (Sep 2020)",
          "peak_month": "2020-09-01T00:00:00",
          "peak_month_str": "2020-09",
          "peak_row": "peak@PUBG (2020-09)"
         },
         {
          "game": "Apex Legends",
          "interest": 0,
          "peak_game": "Fortnite",
          "peak_label": "Fortnite (Jul 2018)",
          "peak_month": "2018-07-01T00:00:00",
          "peak_month_str": "2018-07",
          "peak_row": "peak@Fortnite (2018-07)"
         },
         {
          "game": "Apex Legends",
          "interest": 100,
          "peak_game": "Apex Legends",
          "peak_label": "Apex Legends (Feb 2019)",
          "peak_month": "2019-02-01T00:00:00",
          "peak_month_str": "2019-02",
          "peak_row": "peak@Apex Legends (2019-02)"
         },
         {
          "game": "Apex Legends",
          "interest": 0,
          "peak_game": "Rainbow Six Siege",
          "peak_label": "Rainbow Six Siege (Dec 2015)",
          "peak_month": "2015-12-01T00:00:00",
          "peak_month_str": "2015-12",
          "peak_row": "peak@Rainbow Six Siege (2015-12)"
         },
         {
          "game": "Rainbow Six Siege",
          "interest": 0,
          "peak_game": "Counter-Strike",
          "peak_label": "Counter-Strike (Jan 2004)",
          "peak_month": "2004-01-01T00:00:00",
          "peak_month_str": "2004-01",
          "peak_row": "peak@Counter-Strike (2004-01)"
         },
         {
          "game": "Rainbow Six Siege",
          "interest": 4,
          "peak_game": "Valorant",
          "peak_label": "Valorant (Aug 2022)",
          "peak_month": "2022-08-01T00:00:00",
          "peak_month_str": "2022-08",
          "peak_row": "peak@Valorant (2022-08)"
         },
         {
          "game": "Rainbow Six Siege",
          "interest": 0,
          "peak_game": "Call of Duty",
          "peak_label": "Call of Duty (Nov 2010)",
          "peak_month": "2010-11-01T00:00:00",
          "peak_month_str": "2010-11",
          "peak_row": "peak@Call of Duty (2010-11)"
         },
         {
          "game": "Rainbow Six Siege",
          "interest": 5,
          "peak_game": "Overwatch",
          "peak_label": "Overwatch (May 2016)",
          "peak_month": "2016-05-01T00:00:00",
          "peak_month_str": "2016-05",
          "peak_row": "peak@Overwatch (2016-05)"
         },
         {
          "game": "Rainbow Six Siege",
          "interest": 0,
          "peak_game": "Battlefield",
          "peak_label": "Battlefield (Oct 2011)",
          "peak_month": "2011-10-01T00:00:00",
          "peak_month_str": "2011-10",
          "peak_row": "peak@Battlefield (2011-10)"
         },
         {
          "game": "Rainbow Six Siege",
          "interest": 4,
          "peak_game": "PUBG",
          "peak_label": "PUBG (Sep 2020)",
          "peak_month": "2020-09-01T00:00:00",
          "peak_month_str": "2020-09",
          "peak_row": "peak@PUBG (2020-09)"
         },
         {
          "game": "Rainbow Six Siege",
          "interest": 2,
          "peak_game": "Fortnite",
          "peak_label": "Fortnite (Jul 2018)",
          "peak_month": "2018-07-01T00:00:00",
          "peak_month_str": "2018-07",
          "peak_row": "peak@Fortnite (2018-07)"
         },
         {
          "game": "Rainbow Six Siege",
          "interest": 7,
          "peak_game": "Apex Legends",
          "peak_label": "Apex Legends (Feb 2019)",
          "peak_month": "2019-02-01T00:00:00",
          "peak_month_str": "2019-02",
          "peak_row": "peak@Apex Legends (2019-02)"
         },
         {
          "game": "Rainbow Six Siege",
          "interest": 100,
          "peak_game": "Rainbow Six Siege",
          "peak_label": "Rainbow Six Siege (Dec 2015)",
          "peak_month": "2015-12-01T00:00:00",
          "peak_month_str": "2015-12",
          "peak_row": "peak@Rainbow Six Siege (2015-12)"
         }
        ]
       },
       "height": {
        "step": 30
       },
       "layer": [
        {
         "encoding": {
          "color": {
           "field": "interest",
           "scale": {
            "domain": [
             0,
             311.54
            ],
            "scheme": "blues"
           },
           "title": "Pairwise-scaled interest",
           "type": "quantitative"
          },
          "tooltip": [
           {
            "field": "peak_game",
            "title": "Row peak of",
            "type": "nominal"
           },
           {
            "field": "peak_month",
            "title": "Peak month",
            "type": "temporal"
           },
           {
            "field": "game",
            "title": "Column game",
            "type": "nominal"
           },
           {
            "field": "interest",
            "format": ".0f",
            "title": "Interest",
            "type": "quantitative"
           }
          ],
          "x": {
           "field": "game",
           "sort": [
            "Fortnite",
            "Call of Duty",
            "Battlefield",
            "PUBG",
            "Apex Legends",
            "Counter-Strike",
            "Overwatch",
            "Rainbow Six Siege",
            "Valorant"
           ],
           "title": "Game",
           "type": "nominal"
          },
          "y": {
           "field": "peak_label",
           "sort": [
            "Counter-Strike (Jan 2004)",
            "Call of Duty (Nov 2010)",
            "Battlefield (Oct 2011)",
            "Rainbow Six Siege (Dec 2015)",
            "Overwatch (May 2016)",
            "Fortnite (Jul 2018)",
            "Apex Legends (Feb 2019)",
            "PUBG (Sep 2020)",
            "Valorant (Aug 2022)"
           ],
           "title": "Peak month per game",
           "type": "nominal"
          }
         },
         "mark": {
          "type": "rect"
         },
         "title": "Google Trends — Pairwise-at-peak Heatmap (2-term requests; row-diagonal = 100)"
        },
        {
         "encoding": {
          "color": {
           "condition": {
            "test": "(datum.interest >= 186.924)",
            "value": "white"
           },
           "value": "black"
          },
          "text": {
           "field": "interest",
           "format": ".0f",
           "type": "quantitative"
          },
          "x": {
           "field": "game",
           "sort": [
            "Fortnite",
            "Call of Duty",
            "Battlefield",
            "PUBG",
            "Apex Legends",
            "Counter-Strike",
            "Overwatch",
            "Rainbow Six Siege",
            "Valorant"
           ],
           "type": "nominal"
          },
          "y": {
           "field": "peak_label",
           "sort": [
            "Counter-Strike (Jan 2004)",
            "Call of Duty (Nov 2010)",
            "Battlefield (Oct 2011)",
            "Rainbow Six Siege (Dec 2015)",
            "Overwatch (May 2016)",
            "Fortnite (Jul 2018)",
            "Apex Legends (Feb 2019)",
            "PUBG (Sep 2020)",
            "Valorant (Aug 2022)"
           ],
           "type": "nominal"
          }
         },
         "mark": {
          "size": 9,
          "type": "text"
         }
        }
       ],
       "usermeta": {
        "embedOptions": {
         "theme": "fivethirtyeight"
        }
       },
       "width": {
        "step": 30
       }
      },
      "text/plain": [
       "<VegaLite 5 object>\n",
       "\n",
       "If you see this message, it means the renderer has not been properly enabled\n",
       "for the frontend that you are using. For more information, see\n",
       "https://altair-viz.github.io/user_guide/display_frontends.html#troubleshooting\n"
      ]
     },
     "execution_count": 92,
     "metadata": {},
     "output_type": "execute_result"
    }
   ],
   "source": [
    "# --- color scaling ---\n",
    "vmin = float(np.nanmin(long[\"interest\"].values)) if not long[\"interest\"].dropna().empty else 0.0\n",
    "vmax = float(np.nanmax(long[\"interest\"].values)) if not long[\"interest\"].dropna().empty else 100.0\n",
    "# In pairwise scaling, diagonal is 100 by construction; off-diagonals can exceed 100 if j > i in i's peak month.\n",
    "# Use a dynamic upper bound so we don't clip >100 values.\n",
    "color_scale = alt.Scale(domain=[max(0, vmin), vmax], scheme=\"blues\")\n",
    "\n",
    "# --- heatmap ---\n",
    "heatmap = (\n",
    "    alt.Chart(long)\n",
    "    .mark_rect()\n",
    "    .encode(\n",
    "        y=alt.Y(\"peak_label:N\", title=\"Peak month per game\", sort=row_order),\n",
    "        x=alt.X(\"game:N\", title=\"Game\", sort=col_order),\n",
    "        color=alt.Color(\"interest:Q\", title=\"Pairwise-scaled interest\", scale=color_scale),\n",
    "        tooltip=[\n",
    "            alt.Tooltip(\"peak_game:N\", title=\"Row peak of\"),\n",
    "            alt.Tooltip(\"peak_month:T\", title=\"Peak month\"),\n",
    "            alt.Tooltip(\"game:N\", title=\"Column game\"),\n",
    "            alt.Tooltip(\"interest:Q\", title=\"Interest\", format=\".0f\"),\n",
    "        ],\n",
    "    )\n",
    "    .properties(\n",
    "        title=\"Google Trends — Pairwise-at-peak Heatmap (2-term requests; row-diagonal = 100)\",\n",
    "        width={\"step\": 30},\n",
    "        height={\"step\": 30},\n",
    "    )\n",
    ")\n",
    "\n",
    "# Optional numeric labels (auto-contrasting color)\n",
    "labels = (\n",
    "    alt.Chart(long)\n",
    "    .mark_text(size=9)\n",
    "    .encode(\n",
    "        y=alt.Y(\"peak_label:N\", sort=row_order),\n",
    "        x=alt.X(\"game:N\", sort=col_order),\n",
    "        text=alt.Text(\"interest:Q\", format=\".0f\"),\n",
    "        color=alt.condition(\n",
    "            alt.datum.interest >= (0.6 * vmax), alt.value(\"white\"), alt.value(\"black\")\n",
    "        ),\n",
    "    )\n",
    ")\n",
    "\n",
    "(heatmap + labels).configure_axis(labelLimit=280).configure_view(stroke=None)"
   ]
  },
  {
   "cell_type": "markdown",
   "id": "49864d51",
   "metadata": {},
   "source": [
    "### Heatmap Visualizations"
   ]
  },
  {
   "cell_type": "code",
   "execution_count": 93,
   "id": "432f8258",
   "metadata": {},
   "outputs": [
    {
     "data": {
      "text/html": [
       "<div>\n",
       "<style scoped>\n",
       "    .dataframe tbody tr th:only-of-type {\n",
       "        vertical-align: middle;\n",
       "    }\n",
       "\n",
       "    .dataframe tbody tr th {\n",
       "        vertical-align: top;\n",
       "    }\n",
       "\n",
       "    .dataframe thead th {\n",
       "        text-align: right;\n",
       "    }\n",
       "</style>\n",
       "<table border=\"1\" class=\"dataframe\">\n",
       "  <thead>\n",
       "    <tr style=\"text-align: right;\">\n",
       "      <th></th>\n",
       "      <th>Unnamed: 0</th>\n",
       "      <th>month</th>\n",
       "      <th>peak</th>\n",
       "      <th>gain</th>\n",
       "      <th>% gain</th>\n",
       "    </tr>\n",
       "  </thead>\n",
       "  <tbody>\n",
       "    <tr>\n",
       "      <th>24</th>\n",
       "      <td>6</td>\n",
       "      <td>2025-04-01</td>\n",
       "      <td>2132493.0</td>\n",
       "      <td>-624636.0</td>\n",
       "      <td>-22.7</td>\n",
       "    </tr>\n",
       "    <tr>\n",
       "      <th>25</th>\n",
       "      <td>5</td>\n",
       "      <td>2025-05-01</td>\n",
       "      <td>2356174.0</td>\n",
       "      <td>223681.0</td>\n",
       "      <td>10.5</td>\n",
       "    </tr>\n",
       "    <tr>\n",
       "      <th>26</th>\n",
       "      <td>4</td>\n",
       "      <td>2025-06-01</td>\n",
       "      <td>5948454.0</td>\n",
       "      <td>3592280.0</td>\n",
       "      <td>152.5</td>\n",
       "    </tr>\n",
       "    <tr>\n",
       "      <th>27</th>\n",
       "      <td>3</td>\n",
       "      <td>2025-07-01</td>\n",
       "      <td>2396423.0</td>\n",
       "      <td>-3552031.0</td>\n",
       "      <td>-59.7</td>\n",
       "    </tr>\n",
       "    <tr>\n",
       "      <th>28</th>\n",
       "      <td>2</td>\n",
       "      <td>2025-08-01</td>\n",
       "      <td>3984350.0</td>\n",
       "      <td>1587927.0</td>\n",
       "      <td>66.3</td>\n",
       "    </tr>\n",
       "  </tbody>\n",
       "</table>\n",
       "</div>"
      ],
      "text/plain": [
       "    Unnamed: 0       month       peak       gain  % gain\n",
       "24           6  2025-04-01  2132493.0  -624636.0   -22.7\n",
       "25           5  2025-05-01  2356174.0   223681.0    10.5\n",
       "26           4  2025-06-01  5948454.0  3592280.0   152.5\n",
       "27           3  2025-07-01  2396423.0 -3552031.0   -59.7\n",
       "28           2  2025-08-01  3984350.0  1587927.0    66.3"
      ]
     },
     "execution_count": 93,
     "metadata": {},
     "output_type": "execute_result"
    }
   ],
   "source": [
    "pb_cs_data = cs_merged_grouped[cs_merged_grouped['month'] >= '2020-04-01']\n",
    "pb_cod_data = pd.read_csv(\"../assets/SteamDB_Call_of_Duty_Clean.csv\")\n",
    "pb_val_data = pd.read_csv(\"../assets/GG_Valorant_Clean.csv\")\n",
    "pb_siege_data = pd.read_csv(\"../assets/GG_Rainbow_Six_Siege_Clean.csv\")\n",
    "pb_fn_data = pd.read_csv(\"../assets/GG_Fortnite_Clean.csv\")\n",
    "# drop the last row\n",
    "pb_fn_data = pb_fn_data.iloc[:-1].copy()\n",
    "\n",
    "pb_bf_data = pd.read_csv(\"../assets/SteamDB_Battlefield_Clean.csv\")\n",
    "\n",
    "# pb_cs_data.head()\n",
    "# cod_data.head()\n",
    "# val_data.head()\n",
    "# siege_data.head()\n",
    "pb_fn_data.tail()\n",
    "# bf_data.head()"
   ]
  },
  {
   "cell_type": "code",
   "execution_count": 94,
   "id": "3680db99",
   "metadata": {},
   "outputs": [],
   "source": [
    "def prep(df, name):\n",
    "    out = df[['month','peak', '% gain']].copy()\n",
    "    out['month'] = pd.to_datetime(out['month']) # Not needed\n",
    "    return out.rename(columns={'peak': name})"
   ]
  },
  {
   "cell_type": "code",
   "execution_count": 95,
   "id": "3b059905",
   "metadata": {},
   "outputs": [],
   "source": [
    "cs   = prep(pb_cs_data, 'cs')\n",
    "cod  = prep(pb_cod_data, 'cod')\n",
    "val  = prep(pb_val_data, 'valorant')\n",
    "sie  = prep(pb_siege_data, 'siege')\n",
    "fn   = prep(pb_fn_data, 'fortnite')\n",
    "bf   = prep(pb_bf_data, 'battlefield')\n",
    "\n",
    "dfs = [cs, cod, val, sie, fn, bf]\n",
    "merged = reduce(lambda l, r: pd.merge(l, r, on='month', how='outer'), dfs).sort_values('month')\n",
    "\n",
    "# (optional) limit to 2020+ across all games to match CS slice\n",
    "merged = merged[merged['month'] >= pd.Timestamp('2020-06-01')]\n"
   ]
  },
  {
   "cell_type": "code",
   "execution_count": 97,
   "id": "d138d088",
   "metadata": {},
   "outputs": [
    {
     "data": {
      "application/vnd.vegalite.v5+json": {
       "$schema": "https://vega.github.io/schema/vega-lite/v5.20.1.json",
       "config": {
        "view": {
         "continuousHeight": 300,
         "continuousWidth": 300
        }
       },
       "data": {
        "name": "data-39ff7418b2f1fa82bd4b2e372d0cf2f1"
       },
       "datasets": {
        "data-39ff7418b2f1fa82bd4b2e372d0cf2f1": [
         {
          "game": "cs",
          "month": "2020-06-01T00:00:00",
          "players": 986980
         },
         {
          "game": "cs",
          "month": "2020-07-01T00:00:00",
          "players": 887871
         },
         {
          "game": "cs",
          "month": "2020-08-01T00:00:00",
          "players": 955869
         },
         {
          "game": "cs",
          "month": "2020-09-01T00:00:00",
          "players": 1003755
         },
         {
          "game": "cs",
          "month": "2020-10-01T00:00:00",
          "players": 977120
         },
         {
          "game": "cs",
          "month": "2020-11-01T00:00:00",
          "players": 1069121
         },
         {
          "game": "cs",
          "month": "2020-12-01T00:00:00",
          "players": 1201522
         },
         {
          "game": "cs",
          "month": "2021-01-01T00:00:00",
          "players": 1158553
         },
         {
          "game": "cs",
          "month": "2021-02-01T00:00:00",
          "players": 1156160
         },
         {
          "game": "cs",
          "month": "2021-03-01T00:00:00",
          "players": 1234187
         },
         {
          "game": "cs",
          "month": "2021-04-01T00:00:00",
          "players": 1182193
         },
         {
          "game": "cs",
          "month": "2021-05-01T00:00:00",
          "players": 1114107
         },
         {
          "game": "cs",
          "month": "2021-06-01T00:00:00",
          "players": 953085
         },
         {
          "game": "cs",
          "month": "2021-07-01T00:00:00",
          "players": 788128
         },
         {
          "game": "cs",
          "month": "2021-08-01T00:00:00",
          "players": 824180
         },
         {
          "game": "cs",
          "month": "2021-09-01T00:00:00",
          "players": 970788
         },
         {
          "game": "cs",
          "month": "2021-10-01T00:00:00",
          "players": 888099
         },
         {
          "game": "cs",
          "month": "2021-11-01T00:00:00",
          "players": 967548
         },
         {
          "game": "cs",
          "month": "2021-12-01T00:00:00",
          "players": 974624
         },
         {
          "game": "cs",
          "month": "2022-01-01T00:00:00",
          "players": 1019800
         },
         {
          "game": "cs",
          "month": "2022-02-01T00:00:00",
          "players": 1026057
         },
         {
          "game": "cs",
          "month": "2022-03-01T00:00:00",
          "players": 1019747
         },
         {
          "game": "cs",
          "month": "2022-04-01T00:00:00",
          "players": 1042536
         },
         {
          "game": "cs",
          "month": "2022-05-01T00:00:00",
          "players": 954908
         },
         {
          "game": "cs",
          "month": "2022-06-01T00:00:00",
          "players": 928566
         },
         {
          "game": "cs",
          "month": "2022-07-01T00:00:00",
          "players": 950395
         },
         {
          "game": "cs",
          "month": "2022-08-01T00:00:00",
          "players": 1060765
         },
         {
          "game": "cs",
          "month": "2022-09-01T00:00:00",
          "players": 1124191
         },
         {
          "game": "cs",
          "month": "2022-10-01T00:00:00",
          "players": 1110627
         },
         {
          "game": "cs",
          "month": "2022-11-01T00:00:00",
          "players": 1156226
         },
         {
          "game": "cs",
          "month": "2022-12-01T00:00:00",
          "players": 1090343
         },
         {
          "game": "cs",
          "month": "2023-01-01T00:00:00",
          "players": 1224207
         },
         {
          "game": "cs",
          "month": "2023-02-01T00:00:00",
          "players": 1378327
         },
         {
          "game": "cs",
          "month": "2023-03-01T00:00:00",
          "players": 1542231
         },
         {
          "game": "cs",
          "month": "2023-04-01T00:00:00",
          "players": 1536102
         },
         {
          "game": "cs",
          "month": "2023-05-01T00:00:00",
          "players": 1837896
         },
         {
          "game": "cs",
          "month": "2023-06-01T00:00:00",
          "players": 1692482
         },
         {
          "game": "cs",
          "month": "2023-07-01T00:00:00",
          "players": 1245840
         },
         {
          "game": "cs",
          "month": "2023-08-01T00:00:00",
          "players": 1557039
         },
         {
          "game": "cs",
          "month": "2023-09-01T00:00:00",
          "players": 1580157
         },
         {
          "game": "cs",
          "month": "2023-10-01T00:00:00",
          "players": 1412825
         },
         {
          "game": "cs",
          "month": "2023-11-01T00:00:00",
          "players": 1184525
         },
         {
          "game": "cs",
          "month": "2023-12-01T00:00:00",
          "players": 1276429
         },
         {
          "game": "cs",
          "month": "2024-01-01T00:00:00",
          "players": 1334752
         },
         {
          "game": "cs",
          "month": "2024-02-01T00:00:00",
          "players": 1431938
         },
         {
          "game": "cs",
          "month": "2024-03-01T00:00:00",
          "players": 1555064
         },
         {
          "game": "cs",
          "month": "2024-04-01T00:00:00",
          "players": 1647977
         },
         {
          "game": "cs",
          "month": "2024-05-01T00:00:00",
          "players": 1661558
         },
         {
          "game": "cs",
          "month": "2024-06-01T00:00:00",
          "players": 1558198
         },
         {
          "game": "cs",
          "month": "2024-07-01T00:00:00",
          "players": 1385446
         },
         {
          "game": "cs",
          "month": "2024-08-01T00:00:00",
          "players": 1461132
         },
         {
          "game": "cs",
          "month": "2024-09-01T00:00:00",
          "players": 1515033
         },
         {
          "game": "cs",
          "month": "2024-10-01T00:00:00",
          "players": 1529352
         },
         {
          "game": "cs",
          "month": "2024-11-01T00:00:00",
          "players": 1593726
         },
         {
          "game": "cs",
          "month": "2024-12-01T00:00:00",
          "players": 1777329
         },
         {
          "game": "cs",
          "month": "2025-01-01T00:00:00",
          "players": 1643797
         },
         {
          "game": "cs",
          "month": "2025-02-01T00:00:00",
          "players": 1827625
         },
         {
          "game": "cs",
          "month": "2025-03-01T00:00:00",
          "players": 1864428
         },
         {
          "game": "cs",
          "month": "2025-04-01T00:00:00",
          "players": 1898525
         },
         {
          "game": "cs",
          "month": "2025-05-01T00:00:00",
          "players": 1752347
         },
         {
          "game": "cs",
          "month": "2025-06-01T00:00:00",
          "players": 1766572
         },
         {
          "game": "cs",
          "month": "2025-07-01T00:00:00",
          "players": 1506027
         },
         {
          "game": "cs",
          "month": "2025-08-01T00:00:00",
          "players": 1581554
         },
         {
          "game": "cod",
          "month": "2020-06-01T00:00:00",
          "players": 8382
         },
         {
          "game": "cod",
          "month": "2020-07-01T00:00:00",
          "players": 7746
         },
         {
          "game": "cod",
          "month": "2020-08-01T00:00:00",
          "players": 8607
         },
         {
          "game": "cod",
          "month": "2020-09-01T00:00:00",
          "players": 8060
         },
         {
          "game": "cod",
          "month": "2020-10-01T00:00:00",
          "players": 13277
         },
         {
          "game": "cod",
          "month": "2020-11-01T00:00:00",
          "players": 9731
         },
         {
          "game": "cod",
          "month": "2020-12-01T00:00:00",
          "players": 7714
         },
         {
          "game": "cod",
          "month": "2021-01-01T00:00:00",
          "players": 7771
         },
         {
          "game": "cod",
          "month": "2021-02-01T00:00:00",
          "players": 10669
         },
         {
          "game": "cod",
          "month": "2021-03-01T00:00:00",
          "players": 6652
         },
         {
          "game": "cod",
          "month": "2021-04-01T00:00:00",
          "players": 9568
         },
         {
          "game": "cod",
          "month": "2021-05-01T00:00:00",
          "players": 10912
         },
         {
          "game": "cod",
          "month": "2021-06-01T00:00:00",
          "players": 15911
         },
         {
          "game": "cod",
          "month": "2021-07-01T00:00:00",
          "players": 14972
         },
         {
          "game": "cod",
          "month": "2021-08-01T00:00:00",
          "players": 20939
         },
         {
          "game": "cod",
          "month": "2021-09-01T00:00:00",
          "players": 12435
         },
         {
          "game": "cod",
          "month": "2021-10-01T00:00:00",
          "players": 18049
         },
         {
          "game": "cod",
          "month": "2021-11-01T00:00:00",
          "players": 11001
         },
         {
          "game": "cod",
          "month": "2021-12-01T00:00:00",
          "players": 16244
         },
         {
          "game": "cod",
          "month": "2022-01-01T00:00:00",
          "players": 16343
         },
         {
          "game": "cod",
          "month": "2022-02-01T00:00:00",
          "players": 12244
         },
         {
          "game": "cod",
          "month": "2022-03-01T00:00:00",
          "players": 9137
         },
         {
          "game": "cod",
          "month": "2022-04-01T00:00:00",
          "players": 20039
         },
         {
          "game": "cod",
          "month": "2022-05-01T00:00:00",
          "players": 12484
         },
         {
          "game": "cod",
          "month": "2022-06-01T00:00:00",
          "players": 15295
         },
         {
          "game": "cod",
          "month": "2022-07-01T00:00:00",
          "players": 17125
         },
         {
          "game": "cod",
          "month": "2022-08-01T00:00:00",
          "players": 15407
         },
         {
          "game": "cod",
          "month": "2022-09-01T00:00:00",
          "players": 16865
         },
         {
          "game": "cod",
          "month": "2022-10-01T00:00:00",
          "players": 272848
         },
         {
          "game": "cod",
          "month": "2022-11-01T00:00:00",
          "players": 505463
         },
         {
          "game": "cod",
          "month": "2022-12-01T00:00:00",
          "players": 325849
         },
         {
          "game": "cod",
          "month": "2023-01-01T00:00:00",
          "players": 183390
         },
         {
          "game": "cod",
          "month": "2023-02-01T00:00:00",
          "players": 186641
         },
         {
          "game": "cod",
          "month": "2023-03-01T00:00:00",
          "players": 182393
         },
         {
          "game": "cod",
          "month": "2023-04-01T00:00:00",
          "players": 166313
         },
         {
          "game": "cod",
          "month": "2023-05-01T00:00:00",
          "players": 127198
         },
         {
          "game": "cod",
          "month": "2023-06-01T00:00:00",
          "players": 134146
         },
         {
          "game": "cod",
          "month": "2023-07-01T00:00:00",
          "players": 107917
         },
         {
          "game": "cod",
          "month": "2023-08-01T00:00:00",
          "players": 133255
         },
         {
          "game": "cod",
          "month": "2023-09-01T00:00:00",
          "players": 110585
         },
         {
          "game": "cod",
          "month": "2023-10-01T00:00:00",
          "players": 205563
         },
         {
          "game": "cod",
          "month": "2023-11-01T00:00:00",
          "players": 210666
         },
         {
          "game": "cod",
          "month": "2023-12-01T00:00:00",
          "players": 179080
         },
         {
          "game": "cod",
          "month": "2024-01-01T00:00:00",
          "players": 160542
         },
         {
          "game": "cod",
          "month": "2024-02-01T00:00:00",
          "players": 172798
         },
         {
          "game": "cod",
          "month": "2024-03-01T00:00:00",
          "players": 137004
         },
         {
          "game": "cod",
          "month": "2024-04-01T00:00:00",
          "players": 188017
         },
         {
          "game": "cod",
          "month": "2024-05-01T00:00:00",
          "players": 149306
         },
         {
          "game": "cod",
          "month": "2024-06-01T00:00:00",
          "players": 156375
         },
         {
          "game": "cod",
          "month": "2024-07-01T00:00:00",
          "players": 125764
         },
         {
          "game": "cod",
          "month": "2024-08-01T00:00:00",
          "players": 176603
         },
         {
          "game": "cod",
          "month": "2024-09-01T00:00:00",
          "players": 176811
         },
         {
          "game": "cod",
          "month": "2024-10-01T00:00:00",
          "players": 320283
         },
         {
          "game": "cod",
          "month": "2024-11-01T00:00:00",
          "players": 327159
         },
         {
          "game": "cod",
          "month": "2024-12-01T00:00:00",
          "players": 184103
         },
         {
          "game": "cod",
          "month": "2025-01-01T00:00:00",
          "players": 126148
         },
         {
          "game": "cod",
          "month": "2025-02-01T00:00:00",
          "players": 119583
         },
         {
          "game": "cod",
          "month": "2025-03-01T00:00:00",
          "players": 91453
         },
         {
          "game": "cod",
          "month": "2025-04-01T00:00:00",
          "players": 152660
         },
         {
          "game": "cod",
          "month": "2025-05-01T00:00:00",
          "players": 128330
         },
         {
          "game": "cod",
          "month": "2025-06-01T00:00:00",
          "players": 106348
         },
         {
          "game": "cod",
          "month": "2025-07-01T00:00:00",
          "players": 105203
         },
         {
          "game": "cod",
          "month": "2025-08-01T00:00:00",
          "players": 88789
         },
         {
          "game": "valorant",
          "month": "2020-06-01T00:00:00",
          "players": 183072
         },
         {
          "game": "valorant",
          "month": "2020-07-01T00:00:00",
          "players": 964278
         },
         {
          "game": "valorant",
          "month": "2020-08-01T00:00:00",
          "players": 2022100
         },
         {
          "game": "valorant",
          "month": "2020-09-01T00:00:00",
          "players": 2076758
         },
         {
          "game": "valorant",
          "month": "2020-10-01T00:00:00",
          "players": 2056779
         },
         {
          "game": "valorant",
          "month": "2020-11-01T00:00:00",
          "players": 2150306
         },
         {
          "game": "valorant",
          "month": "2020-12-01T00:00:00",
          "players": 2229905
         },
         {
          "game": "valorant",
          "month": "2021-01-01T00:00:00",
          "players": 2749127
         },
         {
          "game": "valorant",
          "month": "2021-02-01T00:00:00",
          "players": 3044640
         },
         {
          "game": "valorant",
          "month": "2021-03-01T00:00:00",
          "players": 3305692
         },
         {
          "game": "valorant",
          "month": "2021-04-01T00:00:00",
          "players": 3550749
         },
         {
          "game": "valorant",
          "month": "2021-05-01T00:00:00",
          "players": 3555755
         },
         {
          "game": "valorant",
          "month": "2021-06-01T00:00:00",
          "players": 3972836
         },
         {
          "game": "valorant",
          "month": "2021-07-01T00:00:00",
          "players": 3742866
         },
         {
          "game": "valorant",
          "month": "2021-08-01T00:00:00",
          "players": 3854490
         },
         {
          "game": "valorant",
          "month": "2021-09-01T00:00:00",
          "players": 4152405
         },
         {
          "game": "valorant",
          "month": "2021-10-01T00:00:00",
          "players": 3987776
         },
         {
          "game": "valorant",
          "month": "2021-11-01T00:00:00",
          "players": 3993767
         },
         {
          "game": "valorant",
          "month": "2021-12-01T00:00:00",
          "players": 4139985
         },
         {
          "game": "valorant",
          "month": "2022-01-01T00:00:00",
          "players": 5127895
         },
         {
          "game": "valorant",
          "month": "2022-02-01T00:00:00",
          "players": 5155296
         },
         {
          "game": "valorant",
          "month": "2022-03-01T00:00:00",
          "players": 5392919
         },
         {
          "game": "valorant",
          "month": "2022-04-01T00:00:00",
          "players": 5892279
         },
         {
          "game": "valorant",
          "month": "2022-05-01T00:00:00",
          "players": 5834837
         },
         {
          "game": "valorant",
          "month": "2022-06-01T00:00:00",
          "players": 5507442
         },
         {
          "game": "valorant",
          "month": "2022-07-01T00:00:00",
          "players": 5459822
         },
         {
          "game": "valorant",
          "month": "2022-08-01T00:00:00",
          "players": 5950383
         },
         {
          "game": "valorant",
          "month": "2022-09-01T00:00:00",
          "players": 6027617
         },
         {
          "game": "valorant",
          "month": "2022-10-01T00:00:00",
          "players": 5778574
         },
         {
          "game": "valorant",
          "month": "2022-11-01T00:00:00",
          "players": 5300426
         },
         {
          "game": "valorant",
          "month": "2022-12-01T00:00:00",
          "players": 4970024
         },
         {
          "game": "valorant",
          "month": "2023-01-01T00:00:00",
          "players": 5649117
         },
         {
          "game": "valorant",
          "month": "2023-02-01T00:00:00",
          "players": 5788621
         },
         {
          "game": "valorant",
          "month": "2023-03-01T00:00:00",
          "players": 6627830
         },
         {
          "game": "valorant",
          "month": "2023-04-01T00:00:00",
          "players": 6222487
         },
         {
          "game": "valorant",
          "month": "2023-05-01T00:00:00",
          "players": 6115812
         },
         {
          "game": "valorant",
          "month": "2023-06-01T00:00:00",
          "players": 6001284
         },
         {
          "game": "valorant",
          "month": "2023-07-01T00:00:00",
          "players": 5999688
         },
         {
          "game": "valorant",
          "month": "2023-08-01T00:00:00",
          "players": 5858274
         },
         {
          "game": "valorant",
          "month": "2023-09-01T00:00:00",
          "players": 5890744
         },
         {
          "game": "valorant",
          "month": "2023-10-01T00:00:00",
          "players": 4859996
         },
         {
          "game": "valorant",
          "month": "2023-11-01T00:00:00",
          "players": 4719275
         },
         {
          "game": "valorant",
          "month": "2023-12-01T00:00:00",
          "players": 4535871
         },
         {
          "game": "valorant",
          "month": "2024-01-01T00:00:00",
          "players": 5390459
         },
         {
          "game": "valorant",
          "month": "2024-02-01T00:00:00",
          "players": 5513107
         },
         {
          "game": "valorant",
          "month": "2024-03-01T00:00:00",
          "players": 6140540
         },
         {
          "game": "valorant",
          "month": "2024-04-01T00:00:00",
          "players": 6018194
         },
         {
          "game": "valorant",
          "month": "2024-05-01T00:00:00",
          "players": 5747277
         },
         {
          "game": "valorant",
          "month": "2024-06-01T00:00:00",
          "players": 6032889
         },
         {
          "game": "valorant",
          "month": "2024-07-01T00:00:00",
          "players": 6353450
         },
         {
          "game": "valorant",
          "month": "2024-08-01T00:00:00",
          "players": 6861264
         },
         {
          "game": "valorant",
          "month": "2024-09-01T00:00:00",
          "players": 6825095
         },
         {
          "game": "valorant",
          "month": "2024-10-01T00:00:00",
          "players": 5916528
         },
         {
          "game": "valorant",
          "month": "2024-11-01T00:00:00",
          "players": 5348060
         },
         {
          "game": "valorant",
          "month": "2024-12-01T00:00:00",
          "players": 4976097
         },
         {
          "game": "valorant",
          "month": "2025-01-01T00:00:00",
          "players": 5782056
         },
         {
          "game": "valorant",
          "month": "2025-02-01T00:00:00",
          "players": 5649614
         },
         {
          "game": "valorant",
          "month": "2025-03-01T00:00:00",
          "players": 5964276
         },
         {
          "game": "valorant",
          "month": "2025-04-01T00:00:00",
          "players": 5391338
         },
         {
          "game": "valorant",
          "month": "2025-05-01T00:00:00",
          "players": 5207109
         },
         {
          "game": "valorant",
          "month": "2025-06-01T00:00:00",
          "players": 5290508
         },
         {
          "game": "valorant",
          "month": "2025-07-01T00:00:00",
          "players": 5202237
         },
         {
          "game": "valorant",
          "month": "2025-08-01T00:00:00",
          "players": 5204025
         },
         {
          "game": "siege",
          "month": "2020-06-01T00:00:00",
          "players": 126511
         },
         {
          "game": "siege",
          "month": "2020-07-01T00:00:00",
          "players": 122461
         },
         {
          "game": "siege",
          "month": "2020-08-01T00:00:00",
          "players": 131847
         },
         {
          "game": "siege",
          "month": "2020-09-01T00:00:00",
          "players": 94285
         },
         {
          "game": "siege",
          "month": "2020-10-01T00:00:00",
          "players": 115584
         },
         {
          "game": "siege",
          "month": "2020-11-01T00:00:00",
          "players": 95594
         },
         {
          "game": "siege",
          "month": "2020-12-01T00:00:00",
          "players": 124103
         },
         {
          "game": "siege",
          "month": "2021-01-01T00:00:00",
          "players": 123948
         },
         {
          "game": "siege",
          "month": "2021-02-01T00:00:00",
          "players": 113520
         },
         {
          "game": "siege",
          "month": "2021-03-01T00:00:00",
          "players": 200879
         },
         {
          "game": "siege",
          "month": "2021-04-01T00:00:00",
          "players": 142333
         },
         {
          "game": "siege",
          "month": "2021-05-01T00:00:00",
          "players": 109202
         },
         {
          "game": "siege",
          "month": "2021-06-01T00:00:00",
          "players": 100628
         },
         {
          "game": "siege",
          "month": "2021-07-01T00:00:00",
          "players": 90531
         },
         {
          "game": "siege",
          "month": "2021-08-01T00:00:00",
          "players": 93607
         },
         {
          "game": "siege",
          "month": "2021-09-01T00:00:00",
          "players": 111591
         },
         {
          "game": "siege",
          "month": "2021-10-01T00:00:00",
          "players": 80597
         },
         {
          "game": "siege",
          "month": "2021-11-01T00:00:00",
          "players": 71383
         },
         {
          "game": "siege",
          "month": "2021-12-01T00:00:00",
          "players": 84176
         },
         {
          "game": "siege",
          "month": "2022-01-01T00:00:00",
          "players": 75125
         },
         {
          "game": "siege",
          "month": "2022-02-01T00:00:00",
          "players": 78156
         },
         {
          "game": "siege",
          "month": "2022-03-01T00:00:00",
          "players": 109445
         },
         {
          "game": "siege",
          "month": "2022-04-01T00:00:00",
          "players": 93577
         },
         {
          "game": "siege",
          "month": "2022-05-01T00:00:00",
          "players": 94285
         },
         {
          "game": "siege",
          "month": "2022-06-01T00:00:00",
          "players": 70958
         },
         {
          "game": "siege",
          "month": "2022-07-01T00:00:00",
          "players": 64816
         },
         {
          "game": "siege",
          "month": "2022-08-01T00:00:00",
          "players": 62393
         },
         {
          "game": "siege",
          "month": "2022-09-01T00:00:00",
          "players": 66588
         },
         {
          "game": "siege",
          "month": "2022-10-01T00:00:00",
          "players": 54972
         },
         {
          "game": "siege",
          "month": "2022-11-01T00:00:00",
          "players": 46245
         },
         {
          "game": "siege",
          "month": "2022-12-01T00:00:00",
          "players": 64310
         },
         {
          "game": "siege",
          "month": "2023-01-01T00:00:00",
          "players": 67039
         },
         {
          "game": "siege",
          "month": "2023-02-01T00:00:00",
          "players": 65006
         },
         {
          "game": "siege",
          "month": "2023-03-01T00:00:00",
          "players": 88246
         },
         {
          "game": "siege",
          "month": "2023-04-01T00:00:00",
          "players": 79348
         },
         {
          "game": "siege",
          "month": "2023-05-01T00:00:00",
          "players": 66908
         },
         {
          "game": "siege",
          "month": "2023-06-01T00:00:00",
          "players": 68586
         },
         {
          "game": "siege",
          "month": "2023-07-01T00:00:00",
          "players": 71039
         },
         {
          "game": "siege",
          "month": "2023-08-01T00:00:00",
          "players": 84758
         },
         {
          "game": "siege",
          "month": "2023-09-01T00:00:00",
          "players": 95002
         },
         {
          "game": "siege",
          "month": "2023-10-01T00:00:00",
          "players": 94965
         },
         {
          "game": "siege",
          "month": "2023-11-01T00:00:00",
          "players": 59892
         },
         {
          "game": "siege",
          "month": "2023-12-01T00:00:00",
          "players": 62212
         },
         {
          "game": "siege",
          "month": "2024-01-01T00:00:00",
          "players": 94285
         },
         {
          "game": "siege",
          "month": "2024-02-01T00:00:00",
          "players": 102219
         },
         {
          "game": "siege",
          "month": "2024-03-01T00:00:00",
          "players": 201933
         },
         {
          "game": "siege",
          "month": "2024-04-01T00:00:00",
          "players": 156000
         },
         {
          "game": "siege",
          "month": "2024-05-01T00:00:00",
          "players": 101431
         },
         {
          "game": "siege",
          "month": "2024-06-01T00:00:00",
          "players": 88733
         },
         {
          "game": "siege",
          "month": "2024-07-01T00:00:00",
          "players": 73646
         },
         {
          "game": "siege",
          "month": "2024-08-01T00:00:00",
          "players": 75693
         },
         {
          "game": "siege",
          "month": "2024-09-01T00:00:00",
          "players": 90980
         },
         {
          "game": "siege",
          "month": "2024-10-01T00:00:00",
          "players": 76268
         },
         {
          "game": "siege",
          "month": "2024-11-01T00:00:00",
          "players": 59030
         },
         {
          "game": "siege",
          "month": "2024-12-01T00:00:00",
          "players": 76942
         },
         {
          "game": "siege",
          "month": "2025-01-01T00:00:00",
          "players": 95755
         },
         {
          "game": "siege",
          "month": "2025-02-01T00:00:00",
          "players": 101606
         },
         {
          "game": "siege",
          "month": "2025-03-01T00:00:00",
          "players": 145490
         },
         {
          "game": "siege",
          "month": "2025-04-01T00:00:00",
          "players": 107312
         },
         {
          "game": "siege",
          "month": "2025-05-01T00:00:00",
          "players": 89179
         },
         {
          "game": "siege",
          "month": "2025-06-01T00:00:00",
          "players": 141870
         },
         {
          "game": "siege",
          "month": "2025-07-01T00:00:00",
          "players": 111052
         },
         {
          "game": "siege",
          "month": "2025-08-01T00:00:00",
          "players": 100219
         },
         {
          "game": "fortnite",
          "month": "2020-06-01T00:00:00",
          "players": null
         },
         {
          "game": "fortnite",
          "month": "2020-07-01T00:00:00",
          "players": null
         },
         {
          "game": "fortnite",
          "month": "2020-08-01T00:00:00",
          "players": null
         },
         {
          "game": "fortnite",
          "month": "2020-09-01T00:00:00",
          "players": null
         },
         {
          "game": "fortnite",
          "month": "2020-10-01T00:00:00",
          "players": null
         },
         {
          "game": "fortnite",
          "month": "2020-11-01T00:00:00",
          "players": null
         },
         {
          "game": "fortnite",
          "month": "2020-12-01T00:00:00",
          "players": null
         },
         {
          "game": "fortnite",
          "month": "2021-01-01T00:00:00",
          "players": null
         },
         {
          "game": "fortnite",
          "month": "2021-02-01T00:00:00",
          "players": null
         },
         {
          "game": "fortnite",
          "month": "2021-03-01T00:00:00",
          "players": null
         },
         {
          "game": "fortnite",
          "month": "2021-04-01T00:00:00",
          "players": null
         },
         {
          "game": "fortnite",
          "month": "2021-05-01T00:00:00",
          "players": null
         },
         {
          "game": "fortnite",
          "month": "2021-06-01T00:00:00",
          "players": null
         },
         {
          "game": "fortnite",
          "month": "2021-07-01T00:00:00",
          "players": null
         },
         {
          "game": "fortnite",
          "month": "2021-08-01T00:00:00",
          "players": null
         },
         {
          "game": "fortnite",
          "month": "2021-09-01T00:00:00",
          "players": null
         },
         {
          "game": "fortnite",
          "month": "2021-10-01T00:00:00",
          "players": null
         },
         {
          "game": "fortnite",
          "month": "2021-11-01T00:00:00",
          "players": null
         },
         {
          "game": "fortnite",
          "month": "2021-12-01T00:00:00",
          "players": null
         },
         {
          "game": "fortnite",
          "month": "2022-01-01T00:00:00",
          "players": null
         },
         {
          "game": "fortnite",
          "month": "2022-02-01T00:00:00",
          "players": null
         },
         {
          "game": "fortnite",
          "month": "2022-03-01T00:00:00",
          "players": null
         },
         {
          "game": "fortnite",
          "month": "2022-04-01T00:00:00",
          "players": null
         },
         {
          "game": "fortnite",
          "month": "2022-05-01T00:00:00",
          "players": null
         },
         {
          "game": "fortnite",
          "month": "2022-06-01T00:00:00",
          "players": null
         },
         {
          "game": "fortnite",
          "month": "2022-07-01T00:00:00",
          "players": null
         },
         {
          "game": "fortnite",
          "month": "2022-08-01T00:00:00",
          "players": null
         },
         {
          "game": "fortnite",
          "month": "2022-09-01T00:00:00",
          "players": null
         },
         {
          "game": "fortnite",
          "month": "2022-10-01T00:00:00",
          "players": null
         },
         {
          "game": "fortnite",
          "month": "2022-11-01T00:00:00",
          "players": null
         },
         {
          "game": "fortnite",
          "month": "2022-12-01T00:00:00",
          "players": null
         },
         {
          "game": "fortnite",
          "month": "2023-01-01T00:00:00",
          "players": null
         },
         {
          "game": "fortnite",
          "month": "2023-02-01T00:00:00",
          "players": null
         },
         {
          "game": "fortnite",
          "month": "2023-03-01T00:00:00",
          "players": null
         },
         {
          "game": "fortnite",
          "month": "2023-04-01T00:00:00",
          "players": 1834545
         },
         {
          "game": "fortnite",
          "month": "2023-05-01T00:00:00",
          "players": 1813911
         },
         {
          "game": "fortnite",
          "month": "2023-06-01T00:00:00",
          "players": 2126246
         },
         {
          "game": "fortnite",
          "month": "2023-07-01T00:00:00",
          "players": 1811203
         },
         {
          "game": "fortnite",
          "month": "2023-08-01T00:00:00",
          "players": 2817867
         },
         {
          "game": "fortnite",
          "month": "2023-09-01T00:00:00",
          "players": 2336901
         },
         {
          "game": "fortnite",
          "month": "2023-10-01T00:00:00",
          "players": 2342751
         },
         {
          "game": "fortnite",
          "month": "2023-11-01T00:00:00",
          "players": 6172463
         },
         {
          "game": "fortnite",
          "month": "2023-12-01T00:00:00",
          "players": 11616374
         },
         {
          "game": "fortnite",
          "month": "2024-01-01T00:00:00",
          "players": 4873898
         },
         {
          "game": "fortnite",
          "month": "2024-02-01T00:00:00",
          "players": 4469098
         },
         {
          "game": "fortnite",
          "month": "2024-03-01T00:00:00",
          "players": 5152863
         },
         {
          "game": "fortnite",
          "month": "2024-04-01T00:00:00",
          "players": 2861907
         },
         {
          "game": "fortnite",
          "month": "2024-05-01T00:00:00",
          "players": 2475044
         },
         {
          "game": "fortnite",
          "month": "2024-06-01T00:00:00",
          "players": 2128213
         },
         {
          "game": "fortnite",
          "month": "2024-07-01T00:00:00",
          "players": 2882945
         },
         {
          "game": "fortnite",
          "month": "2024-08-01T00:00:00",
          "players": 3235781
         },
         {
          "game": "fortnite",
          "month": "2024-09-01T00:00:00",
          "players": 2671278
         },
         {
          "game": "fortnite",
          "month": "2024-10-01T00:00:00",
          "players": 9846962
         },
         {
          "game": "fortnite",
          "month": "2024-11-01T00:00:00",
          "players": 14343880
         },
         {
          "game": "fortnite",
          "month": "2024-12-01T00:00:00",
          "players": 4152336
         },
         {
          "game": "fortnite",
          "month": "2025-01-01T00:00:00",
          "players": 3652571
         },
         {
          "game": "fortnite",
          "month": "2025-02-01T00:00:00",
          "players": 4109301
         },
         {
          "game": "fortnite",
          "month": "2025-03-01T00:00:00",
          "players": 2757129
         },
         {
          "game": "fortnite",
          "month": "2025-04-01T00:00:00",
          "players": 2132493
         },
         {
          "game": "fortnite",
          "month": "2025-05-01T00:00:00",
          "players": 2356174
         },
         {
          "game": "fortnite",
          "month": "2025-06-01T00:00:00",
          "players": 5948454
         },
         {
          "game": "fortnite",
          "month": "2025-07-01T00:00:00",
          "players": 2396423
         },
         {
          "game": "fortnite",
          "month": "2025-08-01T00:00:00",
          "players": 3984350
         },
         {
          "game": "battlefield",
          "month": "2020-06-01T00:00:00",
          "players": 5172
         },
         {
          "game": "battlefield",
          "month": "2020-07-01T00:00:00",
          "players": 4696
         },
         {
          "game": "battlefield",
          "month": "2020-08-01T00:00:00",
          "players": 16020
         },
         {
          "game": "battlefield",
          "month": "2020-09-01T00:00:00",
          "players": 7273
         },
         {
          "game": "battlefield",
          "month": "2020-10-01T00:00:00",
          "players": 15854
         },
         {
          "game": "battlefield",
          "month": "2020-11-01T00:00:00",
          "players": 16753
         },
         {
          "game": "battlefield",
          "month": "2020-12-01T00:00:00",
          "players": 17240
         },
         {
          "game": "battlefield",
          "month": "2021-01-01T00:00:00",
          "players": 17685
         },
         {
          "game": "battlefield",
          "month": "2021-02-01T00:00:00",
          "players": 37799
         },
         {
          "game": "battlefield",
          "month": "2021-03-01T00:00:00",
          "players": 24348
         },
         {
          "game": "battlefield",
          "month": "2021-04-01T00:00:00",
          "players": 39782
         },
         {
          "game": "battlefield",
          "month": "2021-05-01T00:00:00",
          "players": 24379
         },
         {
          "game": "battlefield",
          "month": "2021-06-01T00:00:00",
          "players": 55194
         },
         {
          "game": "battlefield",
          "month": "2021-07-01T00:00:00",
          "players": 84445
         },
         {
          "game": "battlefield",
          "month": "2021-08-01T00:00:00",
          "players": 129643
         },
         {
          "game": "battlefield",
          "month": "2021-09-01T00:00:00",
          "players": 110502
         },
         {
          "game": "battlefield",
          "month": "2021-10-01T00:00:00",
          "players": 125347
         },
         {
          "game": "battlefield",
          "month": "2021-11-01T00:00:00",
          "players": 166754
         },
         {
          "game": "battlefield",
          "month": "2021-12-01T00:00:00",
          "players": 89603
         },
         {
          "game": "battlefield",
          "month": "2022-01-01T00:00:00",
          "players": 58521
         },
         {
          "game": "battlefield",
          "month": "2022-02-01T00:00:00",
          "players": 54568
         },
         {
          "game": "battlefield",
          "month": "2022-03-01T00:00:00",
          "players": 49881
         },
         {
          "game": "battlefield",
          "month": "2022-04-01T00:00:00",
          "players": 45760
         },
         {
          "game": "battlefield",
          "month": "2022-05-01T00:00:00",
          "players": 36054
         },
         {
          "game": "battlefield",
          "month": "2022-06-01T00:00:00",
          "players": 45918
         },
         {
          "game": "battlefield",
          "month": "2022-07-01T00:00:00",
          "players": 42827
         },
         {
          "game": "battlefield",
          "month": "2022-08-01T00:00:00",
          "players": 50501
         },
         {
          "game": "battlefield",
          "month": "2022-09-01T00:00:00",
          "players": 56221
         },
         {
          "game": "battlefield",
          "month": "2022-10-01T00:00:00",
          "players": 48122
         },
         {
          "game": "battlefield",
          "month": "2022-11-01T00:00:00",
          "players": 135995
         },
         {
          "game": "battlefield",
          "month": "2022-12-01T00:00:00",
          "players": 129950
         },
         {
          "game": "battlefield",
          "month": "2023-01-01T00:00:00",
          "players": 85377
         },
         {
          "game": "battlefield",
          "month": "2023-02-01T00:00:00",
          "players": 76714
         },
         {
          "game": "battlefield",
          "month": "2023-03-01T00:00:00",
          "players": 68891
         },
         {
          "game": "battlefield",
          "month": "2023-04-01T00:00:00",
          "players": 61209
         },
         {
          "game": "battlefield",
          "month": "2023-05-01T00:00:00",
          "players": 57394
         },
         {
          "game": "battlefield",
          "month": "2023-06-01T00:00:00",
          "players": 56705
         },
         {
          "game": "battlefield",
          "month": "2023-07-01T00:00:00",
          "players": 49899
         },
         {
          "game": "battlefield",
          "month": "2023-08-01T00:00:00",
          "players": 47983
         },
         {
          "game": "battlefield",
          "month": "2023-09-01T00:00:00",
          "players": 44710
         },
         {
          "game": "battlefield",
          "month": "2023-10-01T00:00:00",
          "players": 165411
         },
         {
          "game": "battlefield",
          "month": "2023-11-01T00:00:00",
          "players": 212581
         },
         {
          "game": "battlefield",
          "month": "2023-12-01T00:00:00",
          "players": 184128
         },
         {
          "game": "battlefield",
          "month": "2024-01-01T00:00:00",
          "players": 120407
         },
         {
          "game": "battlefield",
          "month": "2024-02-01T00:00:00",
          "players": 110298
         },
         {
          "game": "battlefield",
          "month": "2024-03-01T00:00:00",
          "players": 119930
         },
         {
          "game": "battlefield",
          "month": "2024-04-01T00:00:00",
          "players": 82059
         },
         {
          "game": "battlefield",
          "month": "2024-05-01T00:00:00",
          "players": 73884
         },
         {
          "game": "battlefield",
          "month": "2024-06-01T00:00:00",
          "players": 94969
         },
         {
          "game": "battlefield",
          "month": "2024-07-01T00:00:00",
          "players": 100692
         },
         {
          "game": "battlefield",
          "month": "2024-08-01T00:00:00",
          "players": 83865
         },
         {
          "game": "battlefield",
          "month": "2024-09-01T00:00:00",
          "players": 76216
         },
         {
          "game": "battlefield",
          "month": "2024-10-01T00:00:00",
          "players": 76675
         },
         {
          "game": "battlefield",
          "month": "2024-11-01T00:00:00",
          "players": 93875
         },
         {
          "game": "battlefield",
          "month": "2024-12-01T00:00:00",
          "players": 74582
         },
         {
          "game": "battlefield",
          "month": "2025-01-01T00:00:00",
          "players": 76175
         },
         {
          "game": "battlefield",
          "month": "2025-02-01T00:00:00",
          "players": 89933
         },
         {
          "game": "battlefield",
          "month": "2025-03-01T00:00:00",
          "players": 81088
         },
         {
          "game": "battlefield",
          "month": "2025-04-01T00:00:00",
          "players": 52747
         },
         {
          "game": "battlefield",
          "month": "2025-05-01T00:00:00",
          "players": 59146
         },
         {
          "game": "battlefield",
          "month": "2025-06-01T00:00:00",
          "players": 45532
         },
         {
          "game": "battlefield",
          "month": "2025-07-01T00:00:00",
          "players": 44634
         },
         {
          "game": "battlefield",
          "month": "2025-08-01T00:00:00",
          "players": 121175
         }
        ]
       },
       "encoding": {
        "color": {
         "field": "game",
         "title": "Game",
         "type": "nominal"
        },
        "tooltip": [
         {
          "field": "month",
          "type": "temporal"
         },
         {
          "field": "game",
          "type": "nominal"
         },
         {
          "field": "players",
          "type": "quantitative"
         }
        ],
        "x": {
         "field": "month",
         "title": "Month",
         "type": "temporal"
        },
        "y": {
         "field": "players",
         "title": "Peak players",
         "type": "quantitative"
        }
       },
       "height": 350,
       "mark": {
        "type": "line"
       },
       "title": "Playerbase trends since 2020",
       "usermeta": {
        "embedOptions": {
         "theme": "fivethirtyeight"
        }
       },
       "width": 900
      },
      "text/plain": [
       "<VegaLite 5 object>\n",
       "\n",
       "If you see this message, it means the renderer has not been properly enabled\n",
       "for the frontend that you are using. For more information, see\n",
       "https://altair-viz.github.io/user_guide/display_frontends.html#troubleshooting\n"
      ]
     },
     "execution_count": 97,
     "metadata": {},
     "output_type": "execute_result"
    }
   ],
   "source": [
    "long = merged.melt(id_vars='month', var_name='game', value_name='players')\n",
    "\n",
    "line = alt.Chart(long).mark_line().encode(\n",
    "    x=alt.X('month:T', title='Month'),\n",
    "    y=alt.Y('players:Q', title='Peak players'),\n",
    "    color=alt.Color('game:N', title='Game'),\n",
    "    tooltip=['month:T','game:N','players:Q']\n",
    ").properties(width=900, height=350, title='Playerbase trends since 2020')\n",
    "\n",
    "line\n"
   ]
  },
  {
   "cell_type": "code",
   "execution_count": 98,
   "id": "75f72760",
   "metadata": {},
   "outputs": [
    {
     "name": "stderr",
     "output_type": "stream",
     "text": [
      "/var/folders/lc/9_dv_jhs555875nqm1qhl9tr0000gn/T/ipykernel_73125/2812539738.py:1: DeprecationWarning: DataFrameGroupBy.apply operated on the grouping columns. This behavior is deprecated, and in a future version of pandas the grouping columns will be excluded from the operation. Either pass `include_groups=False` to exclude the groupings or explicitly select the grouping columns after groupby to silence this warning.\n",
      "  norm = long.groupby('game', group_keys=False).apply(\n"
     ]
    },
    {
     "data": {
      "application/vnd.vegalite.v5+json": {
       "$schema": "https://vega.github.io/schema/vega-lite/v5.20.1.json",
       "config": {
        "view": {
         "continuousHeight": 300,
         "continuousWidth": 300
        }
       },
       "data": {
        "name": "data-476dfa1f592c01a45c68b82fef8120c4"
       },
       "datasets": {
        "data-476dfa1f592c01a45c68b82fef8120c4": [
         {
          "game": "cs",
          "month": "2020-06-01T00:00:00",
          "players": 986980,
          "players_z": -0.9951187366389368
         },
         {
          "game": "cs",
          "month": "2020-07-01T00:00:00",
          "players": 887871,
          "players_z": -1.3160789597846112
         },
         {
          "game": "cs",
          "month": "2020-08-01T00:00:00",
          "players": 955869,
          "players_z": -1.0958703687034828
         },
         {
          "game": "cs",
          "month": "2020-09-01T00:00:00",
          "players": 1003755,
          "players_z": -0.940793622438726
         },
         {
          "game": "cs",
          "month": "2020-10-01T00:00:00",
          "players": 977120,
          "players_z": -1.0270499214981963
         },
         {
          "game": "cs",
          "month": "2020-11-01T00:00:00",
          "players": 1069121,
          "players_z": -0.7291086498717527
         },
         {
          "game": "cs",
          "month": "2020-12-01T00:00:00",
          "players": 1201522,
          "players_z": -0.3003337202012844
         },
         {
          "game": "cs",
          "month": "2021-01-01T00:00:00",
          "players": 1158553,
          "players_z": -0.43948697397588093
         },
         {
          "game": "cs",
          "month": "2021-02-01T00:00:00",
          "players": 1156160,
          "players_z": -0.4472366012951718
         },
         {
          "game": "cs",
          "month": "2021-03-01T00:00:00",
          "players": 1234187,
          "players_z": -0.19454952614167878
         },
         {
          "game": "cs",
          "month": "2021-04-01T00:00:00",
          "players": 1182193,
          "players_z": -0.3629298532788328
         },
         {
          "game": "cs",
          "month": "2021-05-01T00:00:00",
          "players": 1114107,
          "players_z": -0.5834234285656018
         },
         {
          "game": "cs",
          "month": "2021-06-01T00:00:00",
          "players": 953085,
          "players_z": -1.1048862326637443
         },
         {
          "game": "cs",
          "month": "2021-07-01T00:00:00",
          "players": 788128,
          "players_z": -1.63909236459365
         },
         {
          "game": "cs",
          "month": "2021-08-01T00:00:00",
          "players": 824180,
          "players_z": -1.5223395170737692
         },
         {
          "game": "cs",
          "month": "2021-09-01T00:00:00",
          "players": 970788,
          "players_z": -1.0475558304767796
         },
         {
          "game": "cs",
          "month": "2021-10-01T00:00:00",
          "players": 888099,
          "players_z": -1.315340591615452
         },
         {
          "game": "cs",
          "month": "2021-11-01T00:00:00",
          "players": 967548,
          "players_z": -1.0580484307753597
         },
         {
          "game": "cs",
          "month": "2021-12-01T00:00:00",
          "players": 974624,
          "players_z": -1.0351331098763619
         },
         {
          "game": "cs",
          "month": "2022-01-01T00:00:00",
          "players": 1019800,
          "players_z": -0.8888325817625781
         },
         {
          "game": "cs",
          "month": "2022-02-01T00:00:00",
          "players": 1026057,
          "players_z": -0.8685695570501657
         },
         {
          "game": "cs",
          "month": "2022-03-01T00:00:00",
          "players": 1019747,
          "players_z": -0.8890042199773388
         },
         {
          "game": "cs",
          "month": "2022-04-01T00:00:00",
          "players": 1042536,
          "players_z": -0.8152030260871092
         },
         {
          "game": "cs",
          "month": "2022-05-01T00:00:00",
          "players": 954908,
          "players_z": -1.0989825257673518
         },
         {
          "game": "cs",
          "month": "2022-06-01T00:00:00",
          "players": 928566,
          "players_z": -1.1842899569603145
         },
         {
          "game": "cs",
          "month": "2022-07-01T00:00:00",
          "players": 950395,
          "players_z": -1.1135976816770716
         },
         {
          "game": "cs",
          "month": "2022-08-01T00:00:00",
          "players": 1060765,
          "players_z": -0.7561691955800663
         },
         {
          "game": "cs",
          "month": "2022-09-01T00:00:00",
          "players": 1124191,
          "players_z": -0.5507668293647121
         },
         {
          "game": "cs",
          "month": "2022-10-01T00:00:00",
          "players": 1110627,
          "players_z": -0.5946932585159287
         },
         {
          "game": "cs",
          "month": "2022-11-01T00:00:00",
          "players": 1156226,
          "players_z": -0.4470228631409415
         },
         {
          "game": "cs",
          "month": "2022-12-01T00:00:00",
          "players": 1090343,
          "players_z": -0.6603821179160524
         },
         {
          "game": "cs",
          "month": "2023-01-01T00:00:00",
          "players": 1224207,
          "players_z": -0.2268693258268116
         },
         {
          "game": "cs",
          "month": "2023-02-01T00:00:00",
          "players": 1378327,
          "players_z": 0.27224164886984914
         },
         {
          "game": "cs",
          "month": "2023-03-01T00:00:00",
          "players": 1542231,
          "players_z": 0.8030376857027163
         },
         {
          "game": "cs",
          "month": "2023-04-01T00:00:00",
          "players": 1536102,
          "players_z": 0.7831891834712353
         },
         {
          "game": "cs",
          "month": "2023-05-01T00:00:00",
          "players": 1837896,
          "players_z": 1.7605360398013938
         },
         {
          "game": "cs",
          "month": "2023-06-01T00:00:00",
          "players": 1692482,
          "players_z": 1.289619070721844
         },
         {
          "game": "cs",
          "month": "2023-07-01T00:00:00",
          "players": 1245840,
          "players_z": -0.1568117880924951
         },
         {
          "game": "cs",
          "month": "2023-08-01T00:00:00",
          "players": 1557039,
          "players_z": 0.8509927552154865
         },
         {
          "game": "cs",
          "month": "2023-09-01T00:00:00",
          "players": 1580157,
          "players_z": 0.9258594014199856
         },
         {
          "game": "cs",
          "month": "2023-10-01T00:00:00",
          "players": 1412825,
          "players_z": 0.3839619343946701
         },
         {
          "game": "cs",
          "month": "2023-11-01T00:00:00",
          "players": 1184525,
          "players_z": -0.35537777182936087
         },
         {
          "game": "cs",
          "month": "2023-12-01T00:00:00",
          "players": 1276429,
          "players_z": -0.05775063052049824
         },
         {
          "game": "cs",
          "month": "2024-01-01T00:00:00",
          "players": 1334752,
          "players_z": 0.13112589022459223
         },
         {
          "game": "cs",
          "month": "2024-02-01T00:00:00",
          "players": 1431938,
          "players_z": 0.4458585607856464
         },
         {
          "game": "cs",
          "month": "2024-03-01T00:00:00",
          "players": 1555064,
          "players_z": 0.8445968028729878
         },
         {
          "game": "cs",
          "month": "2024-04-01T00:00:00",
          "players": 1647977,
          "players_z": 1.1454915471760687
         },
         {
          "game": "cs",
          "month": "2024-05-01T00:00:00",
          "players": 1661558,
          "players_z": 1.1894730300942842
         },
         {
          "game": "cs",
          "month": "2024-06-01T00:00:00",
          "players": 1558198,
          "players_z": 0.8547461267420465
         },
         {
          "game": "cs",
          "month": "2024-07-01T00:00:00",
          "players": 1385446,
          "players_z": 0.29529622341478506
         },
         {
          "game": "cs",
          "month": "2024-08-01T00:00:00",
          "players": 1461132,
          "players_z": 0.5404020710068657
         },
         {
          "game": "cs",
          "month": "2024-09-01T00:00:00",
          "players": 1515033,
          "players_z": 0.7149581354185236
         },
         {
          "game": "cs",
          "month": "2024-10-01T00:00:00",
          "players": 1529352,
          "players_z": 0.76132959951586
         },
         {
          "game": "cs",
          "month": "2024-11-01T00:00:00",
          "players": 1593726,
          "players_z": 0.9698020228556137
         },
         {
          "game": "cs",
          "month": "2024-12-01T00:00:00",
          "players": 1777329,
          "players_z": 1.5643924218124718
         },
         {
          "game": "cs",
          "month": "2025-01-01T00:00:00",
          "players": 1643797,
          "players_z": 1.1319547974081474
         },
         {
          "game": "cs",
          "month": "2025-02-01T00:00:00",
          "players": 1827625,
          "players_z": 1.7272738491635182
         },
         {
          "game": "cs",
          "month": "2025-03-01T00:00:00",
          "players": 1864428,
          "players_z": 1.8464587778019896
         },
         {
          "game": "cs",
          "month": "2025-04-01T00:00:00",
          "players": 1898525,
          "players_z": 1.956880442117017
         },
         {
          "game": "cs",
          "month": "2025-05-01T00:00:00",
          "players": 1752347,
          "players_z": 1.483489291979407
         },
         {
          "game": "cs",
          "month": "2025-06-01T00:00:00",
          "players": 1766572,
          "players_z": 1.5295563411298092
         },
         {
          "game": "cs",
          "month": "2025-07-01T00:00:00",
          "players": 1506027,
          "players_z": 0.6857925927367293
         },
         {
          "game": "cs",
          "month": "2025-08-01T00:00:00",
          "players": 1581554,
          "players_z": 0.9303835256845278
         },
         {
          "game": "cod",
          "month": "2020-06-01T00:00:00",
          "players": 8382,
          "players_z": -0.9272963094801744
         },
         {
          "game": "cod",
          "month": "2020-07-01T00:00:00",
          "players": 7746,
          "players_z": -0.9334375161824534
         },
         {
          "game": "cod",
          "month": "2020-08-01T00:00:00",
          "players": 8607,
          "players_z": -0.9251237127694625
         },
         {
          "game": "cod",
          "month": "2020-09-01T00:00:00",
          "players": 8060,
          "players_z": -0.9304055367728377
         },
         {
          "game": "cod",
          "month": "2020-10-01T00:00:00",
          "players": 13277,
          "players_z": -0.880030261040464
         },
         {
          "game": "cod",
          "month": "2020-11-01T00:00:00",
          "players": 9731,
          "players_z": -0.9142703852012838
         },
         {
          "game": "cod",
          "month": "2020-12-01T00:00:00",
          "players": 7714,
          "players_z": -0.9337465077146436
         },
         {
          "game": "cod",
          "month": "2021-01-01T00:00:00",
          "players": 7771,
          "players_z": -0.9331961165479299
         },
         {
          "game": "cod",
          "month": "2021-02-01T00:00:00",
          "players": 10669,
          "players_z": -0.9052130709139604
         },
         {
          "game": "cod",
          "month": "2021-03-01T00:00:00",
          "players": 6652,
          "players_z": -0.9440011641892039
         },
         {
          "game": "cod",
          "month": "2021-04-01T00:00:00",
          "players": 9568,
          "players_z": -0.9158443108183774
         },
         {
          "game": "cod",
          "month": "2021-05-01T00:00:00",
          "players": 10912,
          "players_z": -0.9028666664663915
         },
         {
          "game": "cod",
          "month": "2021-06-01T00:00:00",
          "players": 15911,
          "players_z": -0.8545963955470631
         },
         {
          "game": "cod",
          "month": "2021-07-01T00:00:00",
          "players": 14972,
          "players_z": -0.8636633658197675
         },
         {
          "game": "cod",
          "month": "2021-08-01T00:00:00",
          "players": 20939,
          "players_z": -0.8060461010516874
         },
         {
          "game": "cod",
          "month": "2021-09-01T00:00:00",
          "players": 12435,
          "players_z": -0.888160600731217
         },
         {
          "game": "cod",
          "month": "2021-10-01T00:00:00",
          "players": 18049,
          "players_z": -0.8339518988026094
         },
         {
          "game": "cod",
          "month": "2021-11-01T00:00:00",
          "players": 11001,
          "players_z": -0.9020072837674876
         },
         {
          "game": "cod",
          "month": "2021-12-01T00:00:00",
          "players": 16244,
          "players_z": -0.8513809524152095
         },
         {
          "game": "cod",
          "month": "2022-01-01T00:00:00",
          "players": 16343,
          "players_z": -0.8504250098624963
         },
         {
          "game": "cod",
          "month": "2022-02-01T00:00:00",
          "players": 12244,
          "players_z": -0.890004893938977
         },
         {
          "game": "cod",
          "month": "2022-03-01T00:00:00",
          "players": 9137,
          "players_z": -0.9200060405175633
         },
         {
          "game": "cod",
          "month": "2022-04-01T00:00:00",
          "players": 20039,
          "players_z": -0.8147364878945351
         },
         {
          "game": "cod",
          "month": "2022-05-01T00:00:00",
          "players": 12484,
          "players_z": -0.8876874574475508
         },
         {
          "game": "cod",
          "month": "2022-06-01T00:00:00",
          "players": 15295,
          "players_z": -0.8605444825417233
         },
         {
          "game": "cod",
          "month": "2022-07-01T00:00:00",
          "players": 17125,
          "players_z": -0.8428740292945996
         },
         {
          "game": "cod",
          "month": "2022-08-01T00:00:00",
          "players": 15407,
          "players_z": -0.8594630121790579
         },
         {
          "game": "cod",
          "month": "2022-09-01T00:00:00",
          "players": 16865,
          "players_z": -0.8453845854936446
         },
         {
          "game": "cod",
          "month": "2022-10-01T00:00:00",
          "players": 272848,
          "players_z": 1.6263835202759966
         },
         {
          "game": "cod",
          "month": "2022-11-01T00:00:00",
          "players": 505463,
          "players_z": 3.8725105596637883
         },
         {
          "game": "cod",
          "month": "2022-12-01T00:00:00",
          "players": 325849,
          "players_z": 2.1381604014512963
         },
         {
          "game": "cod",
          "month": "2023-01-01T00:00:00",
          "players": 183390,
          "players_z": 0.7625783800676993
         },
         {
          "game": "cod",
          "month": "2023-02-01T00:00:00",
          "players": 186641,
          "players_z": 0.7939699885411413
         },
         {
          "game": "cod",
          "month": "2023-03-01T00:00:00",
          "players": 182393,
          "players_z": 0.7529513626429003
         },
         {
          "game": "cod",
          "month": "2023-04-01T00:00:00",
          "players": 166313,
          "players_z": 0.5976831177173552
         },
         {
          "game": "cod",
          "month": "2023-05-01T00:00:00",
          "players": 127198,
          "players_z": 0.21998924954181412
         },
         {
          "game": "cod",
          "month": "2023-06-01T00:00:00",
          "players": 134146,
          "players_z": 0.2870790359685982
         },
         {
          "game": "cod",
          "month": "2023-07-01T00:00:00",
          "players": 107917,
          "players_z": 0.033812195411874024
         },
         {
          "game": "cod",
          "month": "2023-08-01T00:00:00",
          "players": 133255,
          "players_z": 0.278475552994179
         },
         {
          "game": "cod",
          "month": "2023-09-01T00:00:00",
          "players": 110585,
          "players_z": 0.05957436440822692
         },
         {
          "game": "cod",
          "month": "2023-10-01T00:00:00",
          "players": 205563,
          "players_z": 0.9766805439193232
         },
         {
          "game": "cod",
          "month": "2023-11-01T00:00:00",
          "players": 210666,
          "players_z": 1.0259550373182695
         },
         {
          "game": "cod",
          "month": "2023-12-01T00:00:00",
          "players": 179080,
          "players_z": 0.72096108307584
         },
         {
          "game": "cod",
          "month": "2024-01-01T00:00:00",
          "players": 160542,
          "players_z": 0.5419584260839396
         },
         {
          "game": "cod",
          "month": "2024-02-01T00:00:00",
          "players": 172798,
          "players_z": 0.6603021829127631
         },
         {
          "game": "cod",
          "month": "2024-03-01T00:00:00",
          "players": 137004,
          "players_z": 0.31467584218733
         },
         {
          "game": "cod",
          "month": "2024-04-01T00:00:00",
          "players": 188017,
          "players_z": 0.8072566244253173
         },
         {
          "game": "cod",
          "month": "2024-05-01T00:00:00",
          "players": 149306,
          "players_z": 0.43346377434367683
         },
         {
          "game": "cod",
          "month": "2024-06-01T00:00:00",
          "players": 156375,
          "players_z": 0.5017219350015548
         },
         {
          "game": "cod",
          "month": "2024-07-01T00:00:00",
          "players": 125764,
          "players_z": 0.20614256650554347
         },
         {
          "game": "cod",
          "month": "2024-08-01T00:00:00",
          "players": 176603,
          "players_z": 0.6970432072872469
         },
         {
          "game": "cod",
          "month": "2024-09-01T00:00:00",
          "players": 176811,
          "players_z": 0.6990516522464828
         },
         {
          "game": "cod",
          "month": "2024-10-01T00:00:00",
          "players": 320283,
          "players_z": 2.0844151868209737
         },
         {
          "game": "cod",
          "month": "2024-11-01T00:00:00",
          "players": 327159,
          "players_z": 2.1508097423003303
         },
         {
          "game": "cod",
          "month": "2024-12-01T00:00:00",
          "players": 184103,
          "players_z": 0.7694630976443109
         },
         {
          "game": "cod",
          "month": "2025-01-01T00:00:00",
          "players": 126148,
          "players_z": 0.20985046489182516
         },
         {
          "game": "cod",
          "month": "2025-02-01T00:00:00",
          "players": 119583,
          "players_z": 0.1464589208659418
         },
         {
          "game": "cod",
          "month": "2025-03-01T00:00:00",
          "players": 91453,
          "players_z": -0.12516394789995283
         },
         {
          "game": "cod",
          "month": "2025-04-01T00:00:00",
          "players": 152660,
          "players_z": 0.46584994931135587
         },
         {
          "game": "cod",
          "month": "2025-05-01T00:00:00",
          "players": 128330,
          "players_z": 0.23091982499304028
         },
         {
          "game": "cod",
          "month": "2025-06-01T00:00:00",
          "players": 106348,
          "players_z": 0.01866195434917624
         },
         {
          "game": "cod",
          "month": "2025-07-01T00:00:00",
          "players": 105203,
          "players_z": 0.007605851087997807
         },
         {
          "game": "cod",
          "month": "2025-08-01T00:00:00",
          "players": 88789,
          "players_z": -0.15088749295478196
         },
         {
          "game": "valorant",
          "month": "2020-06-01T00:00:00",
          "players": 183072,
          "players_z": -3.1636150845532303
         },
         {
          "game": "valorant",
          "month": "2020-07-01T00:00:00",
          "players": 964278,
          "players_z": -2.6334454926287636
         },
         {
          "game": "valorant",
          "month": "2020-08-01T00:00:00",
          "players": 2022100,
          "players_z": -1.915548986369565
         },
         {
          "game": "valorant",
          "month": "2020-09-01T00:00:00",
          "players": 2076758,
          "players_z": -1.8784550450078656
         },
         {
          "game": "valorant",
          "month": "2020-10-01T00:00:00",
          "players": 2056779,
          "players_z": -1.8920138992371713
         },
         {
          "game": "valorant",
          "month": "2020-11-01T00:00:00",
          "players": 2150306,
          "players_z": -1.828541305038049
         },
         {
          "game": "valorant",
          "month": "2020-12-01T00:00:00",
          "players": 2229905,
          "players_z": -1.7745210218507774
         },
         {
          "game": "valorant",
          "month": "2021-01-01T00:00:00",
          "players": 2749127,
          "players_z": -1.4221482599183222
         },
         {
          "game": "valorant",
          "month": "2021-02-01T00:00:00",
          "players": 3044640,
          "players_z": -1.2215967963883763
         },
         {
          "game": "valorant",
          "month": "2021-03-01T00:00:00",
          "players": 3305692,
          "players_z": -1.0444324731355261
         },
         {
          "game": "valorant",
          "month": "2021-04-01T00:00:00",
          "players": 3550749,
          "players_z": -0.8781232413986552
         },
         {
          "game": "valorant",
          "month": "2021-05-01T00:00:00",
          "players": 3555755,
          "players_z": -0.874725892969209
         },
         {
          "game": "valorant",
          "month": "2021-06-01T00:00:00",
          "players": 3972836,
          "players_z": -0.5916716619860258
         },
         {
          "game": "valorant",
          "month": "2021-07-01T00:00:00",
          "players": 3742866,
          "players_z": -0.747742021218891
         },
         {
          "game": "valorant",
          "month": "2021-08-01T00:00:00",
          "players": 3854490,
          "players_z": -0.6719878020641781
         },
         {
          "game": "valorant",
          "month": "2021-09-01T00:00:00",
          "players": 4152405,
          "players_z": -0.46980620850476146
         },
         {
          "game": "valorant",
          "month": "2021-10-01T00:00:00",
          "players": 3987776,
          "players_z": -0.5815325518110508
         },
         {
          "game": "valorant",
          "month": "2021-11-01T00:00:00",
          "players": 3993767,
          "players_z": -0.5774667279115678
         },
         {
          "game": "valorant",
          "month": "2021-12-01T00:00:00",
          "players": 4139985,
          "players_z": -0.4782351073249214
         },
         {
          "game": "valorant",
          "month": "2022-01-01T00:00:00",
          "players": 5127895,
          "players_z": 0.1922152496335507
         },
         {
          "game": "valorant",
          "month": "2022-02-01T00:00:00",
          "players": 5155296,
          "players_z": 0.2108110834959664
         },
         {
          "game": "valorant",
          "month": "2022-03-01T00:00:00",
          "players": 5392919,
          "players_z": 0.372075191736133
         },
         {
          "game": "valorant",
          "month": "2022-04-01T00:00:00",
          "players": 5892279,
          "players_z": 0.7109685021093276
         },
         {
          "game": "valorant",
          "month": "2022-05-01T00:00:00",
          "players": 5834837,
          "players_z": 0.6719851843937376
         },
         {
          "game": "valorant",
          "month": "2022-06-01T00:00:00",
          "players": 5507442,
          "players_z": 0.44979683260418285
         },
         {
          "game": "valorant",
          "month": "2022-07-01T00:00:00",
          "players": 5459822,
          "players_z": 0.4174792672405744
         },
         {
          "game": "valorant",
          "month": "2022-08-01T00:00:00",
          "players": 5950383,
          "players_z": 0.7504010896332063
         },
         {
          "game": "valorant",
          "month": "2022-09-01T00:00:00",
          "players": 6027617,
          "players_z": 0.8028163530370899
         },
         {
          "game": "valorant",
          "month": "2022-10-01T00:00:00",
          "players": 5778574,
          "players_z": 0.6338020012762932
         },
         {
          "game": "valorant",
          "month": "2022-11-01T00:00:00",
          "players": 5300426,
          "players_z": 0.3093043271167244
         },
         {
          "game": "valorant",
          "month": "2022-12-01T00:00:00",
          "players": 4970024,
          "players_z": 0.08507525884148365
         },
         {
          "game": "valorant",
          "month": "2023-01-01T00:00:00",
          "players": 5649117,
          "players_z": 0.5459453221650654
         },
         {
          "game": "valorant",
          "month": "2023-02-01T00:00:00",
          "players": 5788621,
          "players_z": 0.6406204510706689
         },
         {
          "game": "valorant",
          "month": "2023-03-01T00:00:00",
          "players": 6627830,
          "players_z": 1.210154086333762
         },
         {
          "game": "valorant",
          "month": "2023-04-01T00:00:00",
          "players": 6222487,
          "players_z": 0.9350659112564595
         },
         {
          "game": "valorant",
          "month": "2023-05-01T00:00:00",
          "players": 6115812,
          "players_z": 0.8626703571791196
         },
         {
          "game": "valorant",
          "month": "2023-06-01T00:00:00",
          "players": 6001284,
          "players_z": 0.784945323034572
         },
         {
          "game": "valorant",
          "month": "2023-07-01T00:00:00",
          "players": 5999688,
          "players_z": 0.7838621891765225
         },
         {
          "game": "valorant",
          "month": "2023-08-01T00:00:00",
          "players": 5858274,
          "players_z": 0.6878908286488171
         },
         {
          "game": "valorant",
          "month": "2023-09-01T00:00:00",
          "players": 5890744,
          "players_z": 0.7099267662245493
         },
         {
          "game": "valorant",
          "month": "2023-10-01T00:00:00",
          "players": 4859996,
          "players_z": 0.010404173544820212
         },
         {
          "game": "valorant",
          "month": "2023-11-01T00:00:00",
          "players": 4719275,
          "players_z": -0.08509687886031098
         },
         {
          "game": "valorant",
          "month": "2023-12-01T00:00:00",
          "players": 4535871,
          "players_z": -0.20956497541527208
         },
         {
          "game": "valorant",
          "month": "2024-01-01T00:00:00",
          "players": 5390459,
          "players_z": 0.3704056996992897
         },
         {
          "game": "valorant",
          "month": "2024-02-01T00:00:00",
          "players": 5513107,
          "players_z": 0.45364141487601906
         },
         {
          "game": "valorant",
          "month": "2024-03-01T00:00:00",
          "players": 6140540,
          "players_z": 0.8794521454258921
         },
         {
          "game": "valorant",
          "month": "2024-04-01T00:00:00",
          "players": 6018194,
          "players_z": 0.7964213841496207
         },
         {
          "game": "valorant",
          "month": "2024-05-01T00:00:00",
          "players": 5747277,
          "players_z": 0.6125621263669093
         },
         {
          "game": "valorant",
          "month": "2024-06-01T00:00:00",
          "players": 6032889,
          "players_z": 0.806394223776211
         },
         {
          "game": "valorant",
          "month": "2024-07-01T00:00:00",
          "players": 6353450,
          "players_z": 1.023944645248779
         },
         {
          "game": "valorant",
          "month": "2024-08-01T00:00:00",
          "players": 6861264,
          "players_z": 1.3685753075241984
         },
         {
          "game": "valorant",
          "month": "2024-09-01T00:00:00",
          "players": 6825095,
          "players_z": 1.3440290239955055
         },
         {
          "game": "valorant",
          "month": "2024-10-01T00:00:00",
          "players": 5916528,
          "players_z": 0.7274252144676254
         },
         {
          "game": "valorant",
          "month": "2024-11-01T00:00:00",
          "players": 5348060,
          "players_z": 0.34163139365452627
         },
         {
          "game": "valorant",
          "month": "2024-12-01T00:00:00",
          "players": 4976097,
          "players_z": 0.08919673247552803
         },
         {
          "game": "valorant",
          "month": "2025-01-01T00:00:00",
          "players": 5782056,
          "players_z": 0.6361650790292558
         },
         {
          "game": "valorant",
          "month": "2025-02-01T00:00:00",
          "players": 5649614,
          "players_z": 0.5462826138489317
         },
         {
          "game": "valorant",
          "month": "2025-03-01T00:00:00",
          "players": 5964276,
          "players_z": 0.7598296477095736
         },
         {
          "game": "valorant",
          "month": "2025-04-01T00:00:00",
          "players": 5391338,
          "players_z": 0.3710022377075764
         },
         {
          "game": "valorant",
          "month": "2025-05-01T00:00:00",
          "players": 5207109,
          "players_z": 0.24597425053050326
         },
         {
          "game": "valorant",
          "month": "2025-06-01T00:00:00",
          "players": 5290508,
          "players_z": 0.30257342385598796
         },
         {
          "game": "valorant",
          "month": "2025-07-01T00:00:00",
          "players": 5202237,
          "players_z": 0.24266784191119412
         },
         {
          "game": "valorant",
          "month": "2025-08-01T00:00:00",
          "players": 5204025,
          "players_z": 0.24388127758675338
         },
         {
          "game": "siege",
          "month": "2020-06-01T00:00:00",
          "players": 126511,
          "players_z": 1.0071601214097767
         },
         {
          "game": "siege",
          "month": "2020-07-01T00:00:00",
          "players": 122461,
          "players_z": 0.8763097543706854
         },
         {
          "game": "siege",
          "month": "2020-08-01T00:00:00",
          "players": 131847,
          "players_z": 1.179559518575355
         },
         {
          "game": "siege",
          "month": "2020-09-01T00:00:00",
          "players": 94285,
          "players_z": -0.03402109543016376
         },
         {
          "game": "siege",
          "month": "2020-10-01T00:00:00",
          "players": 115584,
          "players_z": 0.6541226002650479
         },
         {
          "game": "siege",
          "month": "2020-11-01T00:00:00",
          "players": 95594,
          "players_z": 0.008271035546174666
         },
         {
          "game": "siege",
          "month": "2020-12-01T00:00:00",
          "players": 124103,
          "players_z": 0.9293606933035713
         },
         {
          "game": "siege",
          "month": "2021-01-01T00:00:00",
          "players": 123948,
          "players_z": 0.9243528397502233
         },
         {
          "game": "siege",
          "month": "2021-02-01T00:00:00",
          "players": 113520,
          "players_z": 0.5874373761740147
         },
         {
          "game": "siege",
          "month": "2021-03-01T00:00:00",
          "players": 200879,
          "players_z": 3.409895947573517
         },
         {
          "game": "siege",
          "month": "2021-04-01T00:00:00",
          "players": 142333,
          "players_z": 1.5183488886424936
         },
         {
          "game": "siege",
          "month": "2021-05-01T00:00:00",
          "players": 109202,
          "players_z": 0.4479282687975217
         },
         {
          "game": "siege",
          "month": "2021-06-01T00:00:00",
          "players": 100628,
          "players_z": 0.1709131954658749
         },
         {
          "game": "siege",
          "month": "2021-07-01T00:00:00",
          "players": 90531,
          "players_z": -0.15530807761899068
         },
         {
          "game": "siege",
          "month": "2021-08-01T00:00:00",
          "players": 93607,
          "players_z": -0.05592641613448572
         },
         {
          "game": "siege",
          "month": "2021-09-01T00:00:00",
          "players": 111591,
          "players_z": 0.5251138309842845
         },
         {
          "game": "siege",
          "month": "2021-10-01T00:00:00",
          "players": 80597,
          "players_z": -0.4762630272896904
         },
         {
          "game": "siege",
          "month": "2021-11-01T00:00:00",
          "players": 71383,
          "players_z": -0.7739556894867738
         },
         {
          "game": "siege",
          "month": "2021-12-01T00:00:00",
          "players": 84176,
          "players_z": -0.3606300733062563
         },
         {
          "game": "siege",
          "month": "2022-01-01T00:00:00",
          "players": 75125,
          "players_z": -0.6530564120891739
         },
         {
          "game": "siege",
          "month": "2022-02-01T00:00:00",
          "players": 78156,
          "players_z": -0.5551286435717699
         },
         {
          "game": "siege",
          "month": "2022-03-01T00:00:00",
          "players": 109445,
          "players_z": 0.4557792908198672
         },
         {
          "game": "siege",
          "month": "2022-04-01T00:00:00",
          "players": 93577,
          "players_z": -0.05689567811255307
         },
         {
          "game": "siege",
          "month": "2022-05-01T00:00:00",
          "players": 94285,
          "players_z": -0.03402109543016376
         },
         {
          "game": "siege",
          "month": "2022-06-01T00:00:00",
          "players": 70958,
          "players_z": -0.7876869008427279
         },
         {
          "game": "siege",
          "month": "2022-07-01T00:00:00",
          "players": 64816,
          "players_z": -0.9861271364857154
         },
         {
          "game": "siege",
          "month": "2022-08-01T00:00:00",
          "players": 62393,
          "players_z": -1.0644111955809545
         },
         {
          "game": "siege",
          "month": "2022-09-01T00:00:00",
          "players": 66588,
          "players_z": -0.9288760623145376
         },
         {
          "game": "siege",
          "month": "2022-10-01T00:00:00",
          "players": 54972,
          "players_z": -1.304174300222213
         },
         {
          "game": "siege",
          "month": "2022-11-01T00:00:00",
          "players": 46245,
          "players_z": -1.5861326096420032
         },
         {
          "game": "siege",
          "month": "2022-12-01T00:00:00",
          "players": 64310,
          "players_z": -1.0024753551824512
         },
         {
          "game": "siege",
          "month": "2023-01-01T00:00:00",
          "players": 67039,
          "players_z": -0.9143048239109252
         },
         {
          "game": "siege",
          "month": "2023-02-01T00:00:00",
          "players": 65006,
          "players_z": -0.9799884772912888
         },
         {
          "game": "siege",
          "month": "2023-03-01T00:00:00",
          "players": 88246,
          "players_z": -0.22913353161512
         },
         {
          "game": "siege",
          "month": "2023-04-01T00:00:00",
          "players": 79348,
          "players_z": -0.5166166343098941
         },
         {
          "game": "siege",
          "month": "2023-05-01T00:00:00",
          "players": 66908,
          "players_z": -0.9185372678818192
         },
         {
          "game": "siege",
          "month": "2023-06-01T00:00:00",
          "players": 68586,
          "players_z": -0.8643232145752525
         },
         {
          "game": "siege",
          "month": "2023-07-01T00:00:00",
          "players": 71039,
          "players_z": -0.785069893501946
         },
         {
          "game": "siege",
          "month": "2023-08-01T00:00:00",
          "players": 84758,
          "players_z": -0.3418263909317498
         },
         {
          "game": "siege",
          "month": "2023-09-01T00:00:00",
          "players": 95002,
          "players_z": -0.010855734154354249
         },
         {
          "game": "siege",
          "month": "2023-10-01T00:00:00",
          "players": 94965,
          "players_z": -0.012051157260637305
         },
         {
          "game": "siege",
          "month": "2023-11-01T00:00:00",
          "players": 59892,
          "players_z": -1.1452153358191686
         },
         {
          "game": "siege",
          "month": "2023-12-01T00:00:00",
          "players": 62212,
          "players_z": -1.0702590761819608
         },
         {
          "game": "siege",
          "month": "2024-01-01T00:00:00",
          "players": 94285,
          "players_z": -0.03402109543016376
         },
         {
          "game": "siege",
          "month": "2024-02-01T00:00:00",
          "players": 102219,
          "players_z": 0.22231638903604636
         },
         {
          "game": "siege",
          "month": "2024-03-01T00:00:00",
          "players": 201933,
          "players_z": 3.4439493517362827
         },
         {
          "game": "siege",
          "month": "2024-04-01T00:00:00",
          "players": 156000,
          "players_z": 1.9599123371173732
         },
         {
          "game": "siege",
          "month": "2024-05-01T00:00:00",
          "players": 101431,
          "players_z": 0.1968571077454775
         },
         {
          "game": "siege",
          "month": "2024-06-01T00:00:00",
          "players": 88733,
          "players_z": -0.2133991788378268
         },
         {
          "game": "siege",
          "month": "2024-07-01T00:00:00",
          "players": 73646,
          "players_z": -0.7008410276078939
         },
         {
          "game": "siege",
          "month": "2024-08-01T00:00:00",
          "players": 75693,
          "players_z": -0.6347050519710988
         },
         {
          "game": "siege",
          "month": "2024-09-01T00:00:00",
          "players": 90980,
          "players_z": -0.14080145668058278
         },
         {
          "game": "siege",
          "month": "2024-10-01T00:00:00",
          "players": 76268,
          "players_z": -0.6161275307248081
         },
         {
          "game": "siege",
          "month": "2024-11-01T00:00:00",
          "players": 59030,
          "players_z": -1.1730654633223037
         },
         {
          "game": "siege",
          "month": "2024-12-01T00:00:00",
          "players": 76942,
          "players_z": -0.5943514449508951
         },
         {
          "game": "siege",
          "month": "2025-01-01T00:00:00",
          "players": 95755,
          "players_z": 0.013472741495136076
         },
         {
          "game": "siege",
          "month": "2025-02-01T00:00:00",
          "players": 101606,
          "players_z": 0.2025111359508703
         },
         {
          "game": "siege",
          "month": "2025-03-01T00:00:00",
          "players": 145490,
          "players_z": 1.6203475574677806
         },
         {
          "game": "siege",
          "month": "2025-04-01T00:00:00",
          "players": 107312,
          "players_z": 0.38686476417927906
         },
         {
          "game": "siege",
          "month": "2025-05-01T00:00:00",
          "players": 89179,
          "players_z": -0.19898948409722564
         },
         {
          "game": "siege",
          "month": "2025-06-01T00:00:00",
          "players": 141870,
          "players_z": 1.5033899454476543
         },
         {
          "game": "siege",
          "month": "2025-07-01T00:00:00",
          "players": 111052,
          "players_z": 0.5076994241116746
         },
         {
          "game": "siege",
          "month": "2025-08-01T00:00:00",
          "players": 100219,
          "players_z": 0.1576989238315568
         },
         {
          "game": "fortnite",
          "month": "2020-06-01T00:00:00",
          "players": null,
          "players_z": null
         },
         {
          "game": "fortnite",
          "month": "2020-07-01T00:00:00",
          "players": null,
          "players_z": null
         },
         {
          "game": "fortnite",
          "month": "2020-08-01T00:00:00",
          "players": null,
          "players_z": null
         },
         {
          "game": "fortnite",
          "month": "2020-09-01T00:00:00",
          "players": null,
          "players_z": null
         },
         {
          "game": "fortnite",
          "month": "2020-10-01T00:00:00",
          "players": null,
          "players_z": null
         },
         {
          "game": "fortnite",
          "month": "2020-11-01T00:00:00",
          "players": null,
          "players_z": null
         },
         {
          "game": "fortnite",
          "month": "2020-12-01T00:00:00",
          "players": null,
          "players_z": null
         },
         {
          "game": "fortnite",
          "month": "2021-01-01T00:00:00",
          "players": null,
          "players_z": null
         },
         {
          "game": "fortnite",
          "month": "2021-02-01T00:00:00",
          "players": null,
          "players_z": null
         },
         {
          "game": "fortnite",
          "month": "2021-03-01T00:00:00",
          "players": null,
          "players_z": null
         },
         {
          "game": "fortnite",
          "month": "2021-04-01T00:00:00",
          "players": null,
          "players_z": null
         },
         {
          "game": "fortnite",
          "month": "2021-05-01T00:00:00",
          "players": null,
          "players_z": null
         },
         {
          "game": "fortnite",
          "month": "2021-06-01T00:00:00",
          "players": null,
          "players_z": null
         },
         {
          "game": "fortnite",
          "month": "2021-07-01T00:00:00",
          "players": null,
          "players_z": null
         },
         {
          "game": "fortnite",
          "month": "2021-08-01T00:00:00",
          "players": null,
          "players_z": null
         },
         {
          "game": "fortnite",
          "month": "2021-09-01T00:00:00",
          "players": null,
          "players_z": null
         },
         {
          "game": "fortnite",
          "month": "2021-10-01T00:00:00",
          "players": null,
          "players_z": null
         },
         {
          "game": "fortnite",
          "month": "2021-11-01T00:00:00",
          "players": null,
          "players_z": null
         },
         {
          "game": "fortnite",
          "month": "2021-12-01T00:00:00",
          "players": null,
          "players_z": null
         },
         {
          "game": "fortnite",
          "month": "2022-01-01T00:00:00",
          "players": null,
          "players_z": null
         },
         {
          "game": "fortnite",
          "month": "2022-02-01T00:00:00",
          "players": null,
          "players_z": null
         },
         {
          "game": "fortnite",
          "month": "2022-03-01T00:00:00",
          "players": null,
          "players_z": null
         },
         {
          "game": "fortnite",
          "month": "2022-04-01T00:00:00",
          "players": null,
          "players_z": null
         },
         {
          "game": "fortnite",
          "month": "2022-05-01T00:00:00",
          "players": null,
          "players_z": null
         },
         {
          "game": "fortnite",
          "month": "2022-06-01T00:00:00",
          "players": null,
          "players_z": null
         },
         {
          "game": "fortnite",
          "month": "2022-07-01T00:00:00",
          "players": null,
          "players_z": null
         },
         {
          "game": "fortnite",
          "month": "2022-08-01T00:00:00",
          "players": null,
          "players_z": null
         },
         {
          "game": "fortnite",
          "month": "2022-09-01T00:00:00",
          "players": null,
          "players_z": null
         },
         {
          "game": "fortnite",
          "month": "2022-10-01T00:00:00",
          "players": null,
          "players_z": null
         },
         {
          "game": "fortnite",
          "month": "2022-11-01T00:00:00",
          "players": null,
          "players_z": null
         },
         {
          "game": "fortnite",
          "month": "2022-12-01T00:00:00",
          "players": null,
          "players_z": null
         },
         {
          "game": "fortnite",
          "month": "2023-01-01T00:00:00",
          "players": null,
          "players_z": null
         },
         {
          "game": "fortnite",
          "month": "2023-02-01T00:00:00",
          "players": null,
          "players_z": null
         },
         {
          "game": "fortnite",
          "month": "2023-03-01T00:00:00",
          "players": null,
          "players_z": null
         },
         {
          "game": "fortnite",
          "month": "2023-04-01T00:00:00",
          "players": 1834545,
          "players_z": -0.7545540745303746
         },
         {
          "game": "fortnite",
          "month": "2023-05-01T00:00:00",
          "players": 1813911,
          "players_z": -0.7613846942882806
         },
         {
          "game": "fortnite",
          "month": "2023-06-01T00:00:00",
          "players": 2126246,
          "players_z": -0.65799021807981
         },
         {
          "game": "fortnite",
          "month": "2023-07-01T00:00:00",
          "players": 1811203,
          "players_z": -0.7622811427861196
         },
         {
          "game": "fortnite",
          "month": "2023-08-01T00:00:00",
          "players": 2817867,
          "players_z": -0.42903800001337905
         },
         {
          "game": "fortnite",
          "month": "2023-09-01T00:00:00",
          "players": 2336901,
          "players_z": -0.5882555953647912
         },
         {
          "game": "fortnite",
          "month": "2023-10-01T00:00:00",
          "players": 2342751,
          "players_z": -0.5863190282627387
         },
         {
          "game": "fortnite",
          "month": "2023-11-01T00:00:00",
          "players": 6172463,
          "players_z": 0.6814577699484596
         },
         {
          "game": "fortnite",
          "month": "2023-12-01T00:00:00",
          "players": 11616374,
          "players_z": 2.483594342444439
         },
         {
          "game": "fortnite",
          "month": "2024-01-01T00:00:00",
          "players": 4873898,
          "players_z": 0.25158456330286205
         },
         {
          "game": "fortnite",
          "month": "2024-02-01T00:00:00",
          "players": 4469098,
          "players_z": 0.11758074058306142
         },
         {
          "game": "fortnite",
          "month": "2024-03-01T00:00:00",
          "players": 5152863,
          "players_z": 0.3439323311018472
         },
         {
          "game": "fortnite",
          "month": "2024-04-01T00:00:00",
          "players": 2861907,
          "players_z": -0.4144591256245944
         },
         {
          "game": "fortnite",
          "month": "2024-05-01T00:00:00",
          "players": 2475044,
          "players_z": -0.5425251356761019
         },
         {
          "game": "fortnite",
          "month": "2024-06-01T00:00:00",
          "players": 2128213,
          "players_z": -0.6573390680815643
         },
         {
          "game": "fortnite",
          "month": "2024-07-01T00:00:00",
          "players": 2882945,
          "players_z": -0.40749476687365777
         },
         {
          "game": "fortnite",
          "month": "2024-08-01T00:00:00",
          "players": 3235781,
          "players_z": -0.2906929566138663
         },
         {
          "game": "fortnite",
          "month": "2024-09-01T00:00:00",
          "players": 2671278,
          "players_z": -0.47756439914547605
         },
         {
          "game": "fortnite",
          "month": "2024-10-01T00:00:00",
          "players": 9846962,
          "players_z": 1.897853304978313
         },
         {
          "game": "fortnite",
          "month": "2024-11-01T00:00:00",
          "players": 14343880,
          "players_z": 3.3865000501795985
         },
         {
          "game": "fortnite",
          "month": "2024-12-01T00:00:00",
          "players": 4152336,
          "players_z": 0.012720763082148662
         },
         {
          "game": "fortnite",
          "month": "2025-01-01T00:00:00",
          "players": 3652571,
          "players_z": -0.15271999892763682
         },
         {
          "game": "fortnite",
          "month": "2025-02-01T00:00:00",
          "players": 4109301,
          "players_z": -0.0015254190096167027
         },
         {
          "game": "fortnite",
          "month": "2025-03-01T00:00:00",
          "players": 2757129,
          "players_z": -0.44914453208935545
         },
         {
          "game": "fortnite",
          "month": "2025-04-01T00:00:00",
          "players": 2132493,
          "players_z": -0.6559222292445072
         },
         {
          "game": "fortnite",
          "month": "2025-05-01T00:00:00",
          "players": 2356174,
          "players_z": -0.5818755171155848
         },
         {
          "game": "fortnite",
          "month": "2025-06-01T00:00:00",
          "players": 5948454,
          "players_z": 0.6073024776469779
         },
         {
          "game": "fortnite",
          "month": "2025-07-01T00:00:00",
          "players": 2396423,
          "players_z": -0.5685516044163526
         },
         {
          "game": "fortnite",
          "month": "2025-08-01T00:00:00",
          "players": 3984350,
          "players_z": -0.04288883712389983
         },
         {
          "game": "battlefield",
          "month": "2020-06-01T00:00:00",
          "players": 5172,
          "players_z": -1.5018032902904057
         },
         {
          "game": "battlefield",
          "month": "2020-07-01T00:00:00",
          "players": 4696,
          "players_z": -1.512511238393521
         },
         {
          "game": "battlefield",
          "month": "2020-08-01T00:00:00",
          "players": 16020,
          "players_z": -1.257770052847976
         },
         {
          "game": "battlefield",
          "month": "2020-09-01T00:00:00",
          "players": 7273,
          "players_z": -1.4545398470873687
         },
         {
          "game": "battlefield",
          "month": "2020-10-01T00:00:00",
          "players": 15854,
          "players_z": -1.261504337270491
         },
         {
          "game": "battlefield",
          "month": "2020-11-01T00:00:00",
          "players": 16753,
          "players_z": -1.2412807125967498
         },
         {
          "game": "battlefield",
          "month": "2020-12-01T00:00:00",
          "players": 17240,
          "players_z": -1.2303253119114195
         },
         {
          "game": "battlefield",
          "month": "2021-01-01T00:00:00",
          "players": 17685,
          "players_z": -1.2203147301763642
         },
         {
          "game": "battlefield",
          "month": "2021-02-01T00:00:00",
          "players": 37799,
          "players_z": -0.7678364357518591
         },
         {
          "game": "battlefield",
          "month": "2021-03-01T00:00:00",
          "players": 24348,
          "players_z": -1.0704259524220399
         },
         {
          "game": "battlefield",
          "month": "2021-04-01T00:00:00",
          "players": 39782,
          "players_z": -0.7232274838853088
         },
         {
          "game": "battlefield",
          "month": "2021-05-01T00:00:00",
          "players": 24379,
          "players_z": -1.0697285860539798
         },
         {
          "game": "battlefield",
          "month": "2021-06-01T00:00:00",
          "players": 55194,
          "players_z": -0.37652392051300726
         },
         {
          "game": "battlefield",
          "month": "2021-07-01T00:00:00",
          "players": 84445,
          "players_z": 0.28149748697487165
         },
         {
          "game": "battlefield",
          "month": "2021-08-01T00:00:00",
          "players": 129643,
          "players_z": 1.2982576516064108
         },
         {
          "game": "battlefield",
          "month": "2021-09-01T00:00:00",
          "players": 110502,
          "players_z": 0.8676676628632741
         },
         {
          "game": "battlefield",
          "month": "2021-10-01T00:00:00",
          "players": 125347,
          "players_z": 1.2016161704068646
         },
         {
          "game": "battlefield",
          "month": "2021-11-01T00:00:00",
          "players": 166754,
          "players_z": 2.1330951769314486
         },
         {
          "game": "battlefield",
          "month": "2021-12-01T00:00:00",
          "players": 89603,
          "players_z": 0.3975302523443455
         },
         {
          "game": "battlefield",
          "month": "2022-01-01T00:00:00",
          "players": 58521,
          "players_z": -0.3016807622376603
         },
         {
          "game": "battlefield",
          "month": "2022-02-01T00:00:00",
          "players": 54568,
          "players_z": -0.39060622200996165
         },
         {
          "game": "battlefield",
          "month": "2022-03-01T00:00:00",
          "players": 49881,
          "players_z": -0.4960435177227813
         },
         {
          "game": "battlefield",
          "month": "2022-04-01T00:00:00",
          "players": 45760,
          "players_z": -0.5887482532961822
         },
         {
          "game": "battlefield",
          "month": "2022-05-01T00:00:00",
          "players": 36054,
          "players_z": -0.8070914135668517
         },
         {
          "game": "battlefield",
          "month": "2022-06-01T00:00:00",
          "players": 45918,
          "players_z": -0.5851939343880052
         },
         {
          "game": "battlefield",
          "month": "2022-07-01T00:00:00",
          "players": 42827,
          "players_z": -0.6547281099903789
         },
         {
          "game": "battlefield",
          "month": "2022-08-01T00:00:00",
          "players": 50501,
          "players_z": -0.4820961903615805
         },
         {
          "game": "battlefield",
          "month": "2022-09-01T00:00:00",
          "players": 56221,
          "players_z": -0.35342084760985687
         },
         {
          "game": "battlefield",
          "month": "2022-10-01T00:00:00",
          "players": 48122,
          "players_z": -0.5356134351878655
         },
         {
          "game": "battlefield",
          "month": "2022-11-01T00:00:00",
          "players": 135995,
          "players_z": 1.4411502699908423
         },
         {
          "game": "battlefield",
          "month": "2022-12-01T00:00:00",
          "players": 129950,
          "players_z": 1.3051638282191345
         },
         {
          "game": "battlefield",
          "month": "2023-01-01T00:00:00",
          "players": 85377,
          "players_z": 0.3024634693952574
         },
         {
          "game": "battlefield",
          "month": "2023-02-01T00:00:00",
          "players": 76714,
          "players_z": 0.10758331305641446
         },
         {
          "game": "battlefield",
          "month": "2023-03-01T00:00:00",
          "players": 68891,
          "players_z": -0.06840046427693063
         },
         {
          "game": "battlefield",
          "month": "2023-04-01T00:00:00",
          "players": 61209,
          "players_z": -0.24121234942006714
         },
         {
          "game": "battlefield",
          "month": "2023-05-01T00:00:00",
          "players": 57394,
          "players_z": -0.3270334040700366
         },
         {
          "game": "battlefield",
          "month": "2023-06-01T00:00:00",
          "players": 56705,
          "players_z": -0.34253293399240337
         },
         {
          "game": "battlefield",
          "month": "2023-07-01T00:00:00",
          "players": 49899,
          "players_z": -0.4956385953155206
         },
         {
          "game": "battlefield",
          "month": "2023-08-01T00:00:00",
          "players": 47983,
          "players_z": -0.5387403359994896
         },
         {
          "game": "battlefield",
          "month": "2023-09-01T00:00:00",
          "players": 44710,
          "players_z": -0.6123687270530546
         },
         {
          "game": "battlefield",
          "month": "2023-10-01T00:00:00",
          "players": 165411,
          "players_z": 2.102883466211944
         },
         {
          "game": "battlefield",
          "month": "2023-11-01T00:00:00",
          "players": 212581,
          "players_z": 3.1640051301278183
         },
         {
          "game": "battlefield",
          "month": "2023-12-01T00:00:00",
          "players": 184128,
          "players_z": 2.5239352826951627
         },
         {
          "game": "battlefield",
          "month": "2024-01-01T00:00:00",
          "players": 120407,
          "players_z": 1.0904874653031034
         },
         {
          "game": "battlefield",
          "month": "2024-02-01T00:00:00",
          "players": 110298,
          "players_z": 0.8630785422476532
         },
         {
          "game": "battlefield",
          "month": "2024-03-01T00:00:00",
          "players": 119930,
          "players_z": 1.0797570215106955
         },
         {
          "game": "battlefield",
          "month": "2024-04-01T00:00:00",
          "players": 82059,
          "players_z": 0.2278227723235408
         },
         {
          "game": "battlefield",
          "month": "2024-05-01T00:00:00",
          "players": 73884,
          "players_z": 0.04392051235932043
         },
         {
          "game": "battlefield",
          "month": "2024-06-01T00:00:00",
          "players": 94969,
          "players_z": 0.5182421210866093
         },
         {
          "game": "battlefield",
          "month": "2024-07-01T00:00:00",
          "players": 100692,
          "players_z": 0.6469849509062097
         },
         {
          "game": "battlefield",
          "month": "2024-08-01T00:00:00",
          "players": 83865,
          "players_z": 0.2684499871853612
         },
         {
          "game": "battlefield",
          "month": "2024-09-01T00:00:00",
          "players": 76216,
          "players_z": 0.09638045978886929
         },
         {
          "game": "battlefield",
          "month": "2024-10-01T00:00:00",
          "players": 76675,
          "players_z": 0.10670598117401633
         },
         {
          "game": "battlefield",
          "month": "2024-11-01T00:00:00",
          "players": 93875,
          "players_z": 0.49363183700087754
         },
         {
          "game": "battlefield",
          "month": "2024-12-01T00:00:00",
          "players": 74582,
          "players_z": 0.059622503485317474
         },
         {
          "game": "battlefield",
          "month": "2025-01-01T00:00:00",
          "players": 76175,
          "players_z": 0.09545813652788665
         },
         {
          "game": "battlefield",
          "month": "2025-02-01T00:00:00",
          "players": 89933,
          "players_z": 0.4049538298107911
         },
         {
          "game": "battlefield",
          "month": "2025-03-01T00:00:00",
          "players": 81088,
          "players_z": 0.20597945802075696
         },
         {
          "game": "battlefield",
          "month": "2025-04-01T00:00:00",
          "players": 52747,
          "players_z": -0.43157087221116597
         },
         {
          "game": "battlefield",
          "month": "2025-05-01T00:00:00",
          "players": 59146,
          "players_z": -0.28762095642999824
         },
         {
          "game": "battlefield",
          "month": "2025-06-01T00:00:00",
          "players": 45532,
          "players_z": -0.5938772704548173
         },
         {
          "game": "battlefield",
          "month": "2025-07-01T00:00:00",
          "players": 44634,
          "players_z": -0.6140783994392662
         },
         {
          "game": "battlefield",
          "month": "2025-08-01T00:00:00",
          "players": 121175,
          "players_z": 1.1077641546795585
         }
        ]
       },
       "encoding": {
        "color": {
         "field": "game",
         "type": "nominal"
        },
        "tooltip": [
         {
          "field": "month",
          "type": "temporal"
         },
         {
          "field": "game",
          "type": "nominal"
         },
         {
          "field": "players_z",
          "type": "quantitative"
         }
        ],
        "x": {
         "field": "month",
         "type": "temporal"
        },
        "y": {
         "field": "players_z",
         "title": "Z-score",
         "type": "quantitative"
        }
       },
       "height": 350,
       "mark": {
        "type": "line"
       },
       "title": "Normalized (z-score) playerbase trends",
       "usermeta": {
        "embedOptions": {
         "theme": "fivethirtyeight"
        }
       },
       "width": 900
      },
      "text/plain": [
       "<VegaLite 5 object>\n",
       "\n",
       "If you see this message, it means the renderer has not been properly enabled\n",
       "for the frontend that you are using. For more information, see\n",
       "https://altair-viz.github.io/user_guide/display_frontends.html#troubleshooting\n"
      ]
     },
     "execution_count": 98,
     "metadata": {},
     "output_type": "execute_result"
    }
   ],
   "source": [
    "norm = long.groupby('game', group_keys=False).apply(\n",
    "    lambda d: d.assign(players_z=(d['players']-d['players'].mean())/d['players'].std())\n",
    ")\n",
    "\n",
    "line_norm = alt.Chart(norm).mark_line().encode(\n",
    "    x='month:T', y=alt.Y('players_z:Q', title='Z-score'),\n",
    "    color='game:N', tooltip=['month:T','game:N','players_z:Q']\n",
    ").properties(width=900, height=350, title='Normalized (z-score) playerbase trends')\n",
    "\n",
    "line_norm\n"
   ]
  },
  {
   "cell_type": "code",
   "execution_count": 99,
   "id": "a2cb8188",
   "metadata": {},
   "outputs": [
    {
     "data": {
      "application/vnd.vegalite.v5+json": {
       "$schema": "https://vega.github.io/schema/vega-lite/v5.20.1.json",
       "config": {
        "view": {
         "continuousHeight": 300,
         "continuousWidth": 300
        }
       },
       "data": {
        "name": "data-3477e830da03e03a9015041dc581cad2"
       },
       "datasets": {
        "data-3477e830da03e03a9015041dc581cad2": [
         {
          "corr": 1,
          "game_x": "cs",
          "game_y": "cs"
         },
         {
          "corr": 0.4838498102946849,
          "game_x": "cs",
          "game_y": "cod"
         },
         {
          "corr": 0.5482950267616408,
          "game_x": "cs",
          "game_y": "valorant"
         },
         {
          "corr": 0.1091891738811493,
          "game_x": "cs",
          "game_y": "siege"
         },
         {
          "corr": -0.2365319799620054,
          "game_x": "cs",
          "game_y": "fortnite"
         },
         {
          "corr": 0.11236811006273535,
          "game_x": "cs",
          "game_y": "battlefield"
         },
         {
          "corr": 0.4838498102946849,
          "game_x": "cod",
          "game_y": "cs"
         },
         {
          "corr": 1,
          "game_x": "cod",
          "game_y": "cod"
         },
         {
          "corr": 0.4934784832077945,
          "game_x": "cod",
          "game_y": "valorant"
         },
         {
          "corr": -0.36912378050970807,
          "game_x": "cod",
          "game_y": "siege"
         },
         {
          "corr": 0.6919767505978409,
          "game_x": "cod",
          "game_y": "fortnite"
         },
         {
          "corr": 0.4816372194880806,
          "game_x": "cod",
          "game_y": "battlefield"
         },
         {
          "corr": 0.5482950267616408,
          "game_x": "valorant",
          "game_y": "cs"
         },
         {
          "corr": 0.4934784832077945,
          "game_x": "valorant",
          "game_y": "cod"
         },
         {
          "corr": 1,
          "game_x": "valorant",
          "game_y": "valorant"
         },
         {
          "corr": -0.33776427633547623,
          "game_x": "valorant",
          "game_y": "siege"
         },
         {
          "corr": -0.3909193112372523,
          "game_x": "valorant",
          "game_y": "fortnite"
         },
         {
          "corr": 0.35120601948074726,
          "game_x": "valorant",
          "game_y": "battlefield"
         },
         {
          "corr": 0.1091891738811493,
          "game_x": "siege",
          "game_y": "cs"
         },
         {
          "corr": -0.36912378050970807,
          "game_x": "siege",
          "game_y": "cod"
         },
         {
          "corr": -0.33776427633547623,
          "game_x": "siege",
          "game_y": "valorant"
         },
         {
          "corr": 1,
          "game_x": "siege",
          "game_y": "siege"
         },
         {
          "corr": -0.19066126498676572,
          "game_x": "siege",
          "game_y": "fortnite"
         },
         {
          "corr": -0.30783182762424405,
          "game_x": "siege",
          "game_y": "battlefield"
         },
         {
          "corr": -0.2365319799620054,
          "game_x": "fortnite",
          "game_y": "cs"
         },
         {
          "corr": 0.6919767505978409,
          "game_x": "fortnite",
          "game_y": "cod"
         },
         {
          "corr": -0.3909193112372523,
          "game_x": "fortnite",
          "game_y": "valorant"
         },
         {
          "corr": -0.19066126498676572,
          "game_x": "fortnite",
          "game_y": "siege"
         },
         {
          "corr": 1,
          "game_x": "fortnite",
          "game_y": "fortnite"
         },
         {
          "corr": 0.4133001003810703,
          "game_x": "fortnite",
          "game_y": "battlefield"
         },
         {
          "corr": 0.11236811006273535,
          "game_x": "battlefield",
          "game_y": "cs"
         },
         {
          "corr": 0.4816372194880806,
          "game_x": "battlefield",
          "game_y": "cod"
         },
         {
          "corr": 0.35120601948074726,
          "game_x": "battlefield",
          "game_y": "valorant"
         },
         {
          "corr": -0.30783182762424405,
          "game_x": "battlefield",
          "game_y": "siege"
         },
         {
          "corr": 0.4133001003810703,
          "game_x": "battlefield",
          "game_y": "fortnite"
         },
         {
          "corr": 1,
          "game_x": "battlefield",
          "game_y": "battlefield"
         }
        ]
       },
       "height": 400,
       "layer": [
        {
         "encoding": {
          "color": {
           "field": "corr",
           "scale": {
            "domain": [
             -1,
             1
            ],
            "scheme": "redblue"
           },
           "title": "Pearson r",
           "type": "quantitative"
          },
          "tooltip": [
           {
            "field": "game_x",
            "type": "nominal"
           },
           {
            "field": "game_y",
            "type": "nominal"
           },
           {
            "field": "corr",
            "format": ".2f",
            "type": "quantitative"
           }
          ],
          "x": {
           "field": "game_x",
           "sort": [
            "cs",
            "cod",
            "valorant",
            "siege",
            "fortnite",
            "battlefield"
           ],
           "title": "",
           "type": "nominal"
          },
          "y": {
           "field": "game_y",
           "sort": [
            "cs",
            "cod",
            "valorant",
            "siege",
            "fortnite",
            "battlefield"
           ],
           "title": "",
           "type": "nominal"
          }
         },
         "mark": {
          "type": "rect"
         },
         "title": "Correlation of monthly peak players"
        },
        {
         "encoding": {
          "color": {
           "condition": {
            "test": "datum.corr > 0.5 || datum.corr < -0.5",
            "value": "black"
           },
           "value": "gray"
          },
          "text": {
           "field": "corr",
           "format": ".2f",
           "type": "quantitative"
          },
          "x": {
           "field": "game_x",
           "type": "nominal"
          },
          "y": {
           "field": "game_y",
           "type": "nominal"
          }
         },
         "mark": {
          "baseline": "middle",
          "type": "text"
         }
        }
       ],
       "usermeta": {
        "embedOptions": {
         "theme": "fivethirtyeight"
        }
       },
       "width": 400
      },
      "text/plain": [
       "<VegaLite 5 object>\n",
       "\n",
       "If you see this message, it means the renderer has not been properly enabled\n",
       "for the frontend that you are using. For more information, see\n",
       "https://altair-viz.github.io/user_guide/display_frontends.html#troubleshooting\n"
      ]
     },
     "execution_count": 99,
     "metadata": {},
     "output_type": "execute_result"
    }
   ],
   "source": [
    "# compute Pearson correlations on the wide numeric block\n",
    "corr = merged.drop(columns=['month']).corr()\n",
    "\n",
    "# tidy for Altair\n",
    "corr_tidy = corr.stack().rename('corr').reset_index().rename(\n",
    "    columns={'level_0':'game_x','level_1':'game_y'}\n",
    ")\n",
    "\n",
    "heat = alt.Chart(corr_tidy).mark_rect().encode(\n",
    "    x=alt.X('game_x:N', sort=corr.columns.tolist(), title=''),\n",
    "    y=alt.Y('game_y:N', sort=corr.columns.tolist(), title=''),\n",
    "    color=alt.Color('corr:Q', scale=alt.Scale(scheme='redblue', domain=[-1,1]), title='Pearson r'),\n",
    "    tooltip=['game_x:N','game_y:N', alt.Tooltip('corr:Q', format='.2f')]\n",
    ").properties(width=400, height=400, title='Correlation of monthly peak players')\n",
    "\n",
    "text = alt.Chart(corr_tidy).mark_text(baseline='middle').encode(\n",
    "    x='game_x:N', y='game_y:N',\n",
    "    text=alt.Text('corr:Q', format='.2f'),\n",
    "    color=alt.condition('datum.corr > 0.5 || datum.corr < -0.5',\n",
    "                        alt.value('black'),\n",
    "                        alt.value('gray'))\n",
    ")\n",
    "\n",
    "heat + text\n"
   ]
  },
  {
   "cell_type": "code",
   "execution_count": 100,
   "id": "e937f7d5",
   "metadata": {},
   "outputs": [
    {
     "data": {
      "application/vnd.vegalite.v5+json": {
       "$schema": "https://vega.github.io/schema/vega-lite/v5.20.1.json",
       "config": {
        "view": {
         "continuousHeight": 300,
         "continuousWidth": 300
        }
       },
       "data": {
        "name": "data-e2fff790215c76780a6a698215c4ee8b"
       },
       "datasets": {
        "data-e2fff790215c76780a6a698215c4ee8b": [
         {
          "corr": 0.4838498102946849,
          "game_x": "cs",
          "game_y": "Cod"
         },
         {
          "corr": 0.5482950267616408,
          "game_x": "cs",
          "game_y": "Valorant"
         },
         {
          "corr": 0.1091891738811493,
          "game_x": "cs",
          "game_y": "Siege"
         },
         {
          "corr": -0.2365319799620054,
          "game_x": "cs",
          "game_y": "Fortnite"
         },
         {
          "corr": 0.11236811006273535,
          "game_x": "cs",
          "game_y": "Battlefield"
         }
        ]
       },
       "height": 60,
       "layer": [
        {
         "encoding": {
          "color": {
           "field": "corr",
           "scale": {
            "domain": [
             -1,
             1
            ],
            "scheme": "redblue"
           },
           "type": "quantitative"
          },
          "tooltip": [
           {
            "field": "game_y",
            "type": "nominal"
           },
           {
            "field": "corr",
            "format": ".2f",
            "type": "quantitative"
           }
          ],
          "x": {
           "field": "game_y",
           "title": "Game",
           "type": "nominal"
          },
          "y": {
           "axis": {
            "labels": false,
            "ticks": false
           },
           "field": "game_x",
           "title": "",
           "type": "nominal"
          }
         },
         "mark": {
          "type": "rect"
         },
         "title": "Correlation with CS"
        },
        {
         "encoding": {
          "text": {
           "field": "corr",
           "format": ".2f",
           "type": "quantitative"
          },
          "x": {
           "field": "game_y",
           "type": "nominal"
          },
          "y": {
           "field": "game_x",
           "type": "nominal"
          }
         },
         "mark": {
          "baseline": "middle",
          "type": "text"
         }
        }
       ],
       "usermeta": {
        "embedOptions": {
         "theme": "fivethirtyeight"
        }
       },
       "width": 400
      },
      "text/plain": [
       "<VegaLite 5 object>\n",
       "\n",
       "If you see this message, it means the renderer has not been properly enabled\n",
       "for the frontend that you are using. For more information, see\n",
       "https://altair-viz.github.io/user_guide/display_frontends.html#troubleshooting\n"
      ]
     },
     "execution_count": 100,
     "metadata": {},
     "output_type": "execute_result"
    }
   ],
   "source": [
    "cs_only = corr_tidy.query(\"game_x == 'cs' & game_y != 'cs'\").copy()\n",
    "cs_only['game_y'] = cs_only['game_y'].str.title()  # cosmetic\n",
    "\n",
    "cs_heat = alt.Chart(cs_only).mark_rect().encode(\n",
    "    x=alt.X('game_y:N', title='Game'),\n",
    "    y=alt.Y('game_x:N', title='', axis=alt.Axis(labels=False, ticks=False)),\n",
    "    color=alt.Color('corr:Q', scale=alt.Scale(scheme='redblue', domain=[-1,1])),\n",
    "    tooltip=['game_y:N', alt.Tooltip('corr:Q', format='.2f')]\n",
    ").properties(width=400, height=60, title='Correlation with CS')\n",
    "\n",
    "cs_text = alt.Chart(cs_only).mark_text(baseline='middle').encode(\n",
    "    x='game_y:N', y='game_x:N', text=alt.Text('corr:Q', format='.2f')\n",
    ")\n",
    "\n",
    "cs_heat + cs_text\n"
   ]
  },
  {
   "cell_type": "code",
   "execution_count": 101,
   "id": "716c4e52",
   "metadata": {},
   "outputs": [
    {
     "name": "stdout",
     "output_type": "stream",
     "text": [
      "month    datetime64[ns]\n",
      "cs              float64\n",
      "dtype: object month    datetime64[ns]\n",
      "cod             float64\n",
      "dtype: object month       datetime64[ns]\n",
      "valorant           float64\n",
      "dtype: object month    datetime64[ns]\n",
      "siege           float64\n",
      "dtype: object month       datetime64[ns]\n",
      "fortnite           float64\n",
      "dtype: object month          datetime64[ns]\n",
      "battlefield           float64\n",
      "dtype: object\n"
     ]
    },
    {
     "name": "stderr",
     "output_type": "stream",
     "text": [
      "/var/folders/lc/9_dv_jhs555875nqm1qhl9tr0000gn/T/ipykernel_73125/3455772743.py:5: UserWarning: The argument 'infer_datetime_format' is deprecated and will be removed in a future version. A strict version of it is now the default, see https://pandas.pydata.org/pdeps/0004-consistent-to-datetime-parsing.html. You can safely remove this argument.\n",
      "  out['month'] = pd.to_datetime(out['month'], errors='coerce', infer_datetime_format=True)\n",
      "/var/folders/lc/9_dv_jhs555875nqm1qhl9tr0000gn/T/ipykernel_73125/3455772743.py:5: UserWarning: The argument 'infer_datetime_format' is deprecated and will be removed in a future version. A strict version of it is now the default, see https://pandas.pydata.org/pdeps/0004-consistent-to-datetime-parsing.html. You can safely remove this argument.\n",
      "  out['month'] = pd.to_datetime(out['month'], errors='coerce', infer_datetime_format=True)\n",
      "/var/folders/lc/9_dv_jhs555875nqm1qhl9tr0000gn/T/ipykernel_73125/3455772743.py:5: UserWarning: The argument 'infer_datetime_format' is deprecated and will be removed in a future version. A strict version of it is now the default, see https://pandas.pydata.org/pdeps/0004-consistent-to-datetime-parsing.html. You can safely remove this argument.\n",
      "  out['month'] = pd.to_datetime(out['month'], errors='coerce', infer_datetime_format=True)\n",
      "/var/folders/lc/9_dv_jhs555875nqm1qhl9tr0000gn/T/ipykernel_73125/3455772743.py:5: UserWarning: The argument 'infer_datetime_format' is deprecated and will be removed in a future version. A strict version of it is now the default, see https://pandas.pydata.org/pdeps/0004-consistent-to-datetime-parsing.html. You can safely remove this argument.\n",
      "  out['month'] = pd.to_datetime(out['month'], errors='coerce', infer_datetime_format=True)\n",
      "/var/folders/lc/9_dv_jhs555875nqm1qhl9tr0000gn/T/ipykernel_73125/3455772743.py:5: UserWarning: The argument 'infer_datetime_format' is deprecated and will be removed in a future version. A strict version of it is now the default, see https://pandas.pydata.org/pdeps/0004-consistent-to-datetime-parsing.html. You can safely remove this argument.\n",
      "  out['month'] = pd.to_datetime(out['month'], errors='coerce', infer_datetime_format=True)\n",
      "/var/folders/lc/9_dv_jhs555875nqm1qhl9tr0000gn/T/ipykernel_73125/3455772743.py:5: UserWarning: The argument 'infer_datetime_format' is deprecated and will be removed in a future version. A strict version of it is now the default, see https://pandas.pydata.org/pdeps/0004-consistent-to-datetime-parsing.html. You can safely remove this argument.\n",
      "  out['month'] = pd.to_datetime(out['month'], errors='coerce', infer_datetime_format=True)\n"
     ]
    }
   ],
   "source": [
    "def sel_and_fix(df, name):\n",
    "    out = df[['month', 'peak']].copy()\n",
    "\n",
    "    # robust datetime coercion (handles 'YYYY-MM', 'YYYY/MM/DD', ints, etc.)\n",
    "    out['month'] = pd.to_datetime(out['month'], errors='coerce', infer_datetime_format=True)\n",
    "\n",
    "    # drop any bad rows that couldn't be parsed\n",
    "    out = out.dropna(subset=['month']).sort_values('month')\n",
    "\n",
    "    # remove timezone if present\n",
    "    try:\n",
    "        out['month'] = out['month'].dt.tz_localize(None)\n",
    "    except (TypeError, AttributeError):\n",
    "        pass\n",
    "\n",
    "    return out.rename(columns={'peak': name})\n",
    "\n",
    "# Fix all six\n",
    "cs  = sel_and_fix(pb_cs_data,  'cs')\n",
    "cod = sel_and_fix(pb_cod_data, 'cod')\n",
    "val = sel_and_fix(pb_val_data, 'valorant')\n",
    "sie = sel_and_fix(pb_siege_data,'siege')\n",
    "fn  = sel_and_fix(pb_fn_data,  'fortnite')\n",
    "bf  = sel_and_fix(pb_bf_data,  'battlefield')\n",
    "\n",
    "# quick sanity check (all should show datetime64[ns])\n",
    "print(cs.dtypes, cod.dtypes, val.dtypes, sie.dtypes, fn.dtypes, bf.dtypes)\n",
    "\n",
    "# now this merge will succeed\n",
    "merged = reduce(lambda l, r: pd.merge(l, r, on='month', how='outer'),\n",
    "                [cs, cod, val, sie, fn, bf]).sort_values('month')"
   ]
  },
  {
   "cell_type": "code",
   "execution_count": 102,
   "id": "62837999",
   "metadata": {},
   "outputs": [
    {
     "ename": "NameError",
     "evalue": "name 'long_z' is not defined",
     "output_type": "error",
     "traceback": [
      "\u001b[0;31m---------------------------------------------------------------------------\u001b[0m",
      "\u001b[0;31mNameError\u001b[0m                                 Traceback (most recent call last)",
      "Cell \u001b[0;32mIn[102], line 1\u001b[0m\n\u001b[0;32m----> 1\u001b[0m heat \u001b[38;5;241m=\u001b[39m alt\u001b[38;5;241m.\u001b[39mChart(\u001b[43mlong_z\u001b[49m)\u001b[38;5;241m.\u001b[39mmark_rect()\u001b[38;5;241m.\u001b[39mencode(\n\u001b[1;32m      2\u001b[0m     \u001b[38;5;66;03m# yearmonth() makes x discrete → one tile per month\u001b[39;00m\n\u001b[1;32m      3\u001b[0m     x\u001b[38;5;241m=\u001b[39malt\u001b[38;5;241m.\u001b[39mX(\u001b[38;5;124m'\u001b[39m\u001b[38;5;124myearmonth(month):T\u001b[39m\u001b[38;5;124m'\u001b[39m, title\u001b[38;5;241m=\u001b[39m\u001b[38;5;124m'\u001b[39m\u001b[38;5;124mMonth\u001b[39m\u001b[38;5;124m'\u001b[39m,\n\u001b[1;32m      4\u001b[0m             axis\u001b[38;5;241m=\u001b[39malt\u001b[38;5;241m.\u001b[39mAxis(\u001b[38;5;28mformat\u001b[39m\u001b[38;5;241m=\u001b[39m\u001b[38;5;124m'\u001b[39m\u001b[38;5;124m%\u001b[39m\u001b[38;5;124mY \u001b[39m\u001b[38;5;124m%\u001b[39m\u001b[38;5;124mb\u001b[39m\u001b[38;5;124m'\u001b[39m)),\n\u001b[1;32m      5\u001b[0m     y\u001b[38;5;241m=\u001b[39malt\u001b[38;5;241m.\u001b[39mY(\u001b[38;5;124m'\u001b[39m\u001b[38;5;124mgame:N\u001b[39m\u001b[38;5;124m'\u001b[39m, title\u001b[38;5;241m=\u001b[39m\u001b[38;5;124m'\u001b[39m\u001b[38;5;124mGame\u001b[39m\u001b[38;5;124m'\u001b[39m, sort\u001b[38;5;241m=\u001b[39m[\u001b[38;5;124m'\u001b[39m\u001b[38;5;124mbattlefield\u001b[39m\u001b[38;5;124m'\u001b[39m,\u001b[38;5;124m'\u001b[39m\u001b[38;5;124mcod\u001b[39m\u001b[38;5;124m'\u001b[39m,\u001b[38;5;124m'\u001b[39m\u001b[38;5;124mfortnite\u001b[39m\u001b[38;5;124m'\u001b[39m,\u001b[38;5;124m'\u001b[39m\u001b[38;5;124msiege\u001b[39m\u001b[38;5;124m'\u001b[39m,\u001b[38;5;124m'\u001b[39m\u001b[38;5;124mvalorant\u001b[39m\u001b[38;5;124m'\u001b[39m,\u001b[38;5;124m'\u001b[39m\u001b[38;5;124mcs\u001b[39m\u001b[38;5;124m'\u001b[39m]),\n\u001b[1;32m      6\u001b[0m     color\u001b[38;5;241m=\u001b[39malt\u001b[38;5;241m.\u001b[39mColor(\u001b[38;5;124m'\u001b[39m\u001b[38;5;124mz_score:Q\u001b[39m\u001b[38;5;124m'\u001b[39m,\n\u001b[1;32m      7\u001b[0m                     scale\u001b[38;5;241m=\u001b[39malt\u001b[38;5;241m.\u001b[39mScale(scheme\u001b[38;5;241m=\u001b[39m\u001b[38;5;124m'\u001b[39m\u001b[38;5;124mredblue\u001b[39m\u001b[38;5;124m'\u001b[39m, domain\u001b[38;5;241m=\u001b[39m[\u001b[38;5;241m-\u001b[39m\u001b[38;5;241m2\u001b[39m, \u001b[38;5;241m2\u001b[39m]),\n\u001b[1;32m      8\u001b[0m                     title\u001b[38;5;241m=\u001b[39m\u001b[38;5;124m'\u001b[39m\u001b[38;5;124mZ-score\u001b[39m\u001b[38;5;124m'\u001b[39m),\n\u001b[1;32m      9\u001b[0m     tooltip\u001b[38;5;241m=\u001b[39m[\n\u001b[1;32m     10\u001b[0m         alt\u001b[38;5;241m.\u001b[39mTooltip(\u001b[38;5;124m'\u001b[39m\u001b[38;5;124myearmonth(month):T\u001b[39m\u001b[38;5;124m'\u001b[39m, title\u001b[38;5;241m=\u001b[39m\u001b[38;5;124m'\u001b[39m\u001b[38;5;124mMonth\u001b[39m\u001b[38;5;124m'\u001b[39m, \u001b[38;5;28mformat\u001b[39m\u001b[38;5;241m=\u001b[39m\u001b[38;5;124m'\u001b[39m\u001b[38;5;124m%\u001b[39m\u001b[38;5;124mY \u001b[39m\u001b[38;5;124m%\u001b[39m\u001b[38;5;124mb\u001b[39m\u001b[38;5;124m'\u001b[39m),\n\u001b[1;32m     11\u001b[0m         alt\u001b[38;5;241m.\u001b[39mTooltip(\u001b[38;5;124m'\u001b[39m\u001b[38;5;124mgame:N\u001b[39m\u001b[38;5;124m'\u001b[39m, title\u001b[38;5;241m=\u001b[39m\u001b[38;5;124m'\u001b[39m\u001b[38;5;124mGame\u001b[39m\u001b[38;5;124m'\u001b[39m),\n\u001b[1;32m     12\u001b[0m         alt\u001b[38;5;241m.\u001b[39mTooltip(\u001b[38;5;124m'\u001b[39m\u001b[38;5;124mz_score:Q\u001b[39m\u001b[38;5;124m'\u001b[39m, title\u001b[38;5;241m=\u001b[39m\u001b[38;5;124m'\u001b[39m\u001b[38;5;124mZ\u001b[39m\u001b[38;5;124m'\u001b[39m, \u001b[38;5;28mformat\u001b[39m\u001b[38;5;241m=\u001b[39m\u001b[38;5;124m'\u001b[39m\u001b[38;5;124m.2f\u001b[39m\u001b[38;5;124m'\u001b[39m)\n\u001b[1;32m     13\u001b[0m     ]\n\u001b[1;32m     14\u001b[0m )\u001b[38;5;241m.\u001b[39mproperties(width\u001b[38;5;241m=\u001b[39m\u001b[38;5;241m900\u001b[39m, height\u001b[38;5;241m=\u001b[39m\u001b[38;5;241m240\u001b[39m, title\u001b[38;5;241m=\u001b[39m\u001b[38;5;124m'\u001b[39m\u001b[38;5;124mZ-scored Playerbases Over Time\u001b[39m\u001b[38;5;124m'\u001b[39m)\n",
      "\u001b[0;31mNameError\u001b[0m: name 'long_z' is not defined"
     ]
    }
   ],
   "source": [
    "heat = alt.Chart(long_z).mark_rect().encode(\n",
    "    # yearmonth() makes x discrete → one tile per month\n",
    "    x=alt.X('yearmonth(month):T', title='Month',\n",
    "            axis=alt.Axis(format='%Y %b')),\n",
    "    y=alt.Y('game:N', title='Game', sort=['battlefield','cod','fortnite','siege','valorant','cs']),\n",
    "    color=alt.Color('z_score:Q',\n",
    "                    scale=alt.Scale(scheme='redblue', domain=[-2, 2]),\n",
    "                    title='Z-score'),\n",
    "    tooltip=[\n",
    "        alt.Tooltip('yearmonth(month):T', title='Month', format='%Y %b'),\n",
    "        alt.Tooltip('game:N', title='Game'),\n",
    "        alt.Tooltip('z_score:Q', title='Z', format='.2f')\n",
    "    ]\n",
    ").properties(width=900, height=240, title='Z-scored Playerbases Over Time')\n"
   ]
  },
  {
   "cell_type": "code",
   "execution_count": null,
   "id": "acbe3f82",
   "metadata": {},
   "outputs": [
    {
     "data": {
      "application/vnd.vegalite.v5+json": {
       "$schema": "https://vega.github.io/schema/vega-lite/v5.20.1.json",
       "config": {
        "view": {
         "continuousHeight": 300,
         "continuousWidth": 300
        }
       },
       "data": {
        "name": "data-d31c41af6f3dc75ee26abdb4615cf737"
       },
       "datasets": {
        "data-d31c41af6f3dc75ee26abdb4615cf737": [
         {
          "game": "cs",
          "month": "2020-01-01T00:00:00",
          "z_score": -1.417432446348763
         },
         {
          "game": "cs",
          "month": "2020-02-01T00:00:00",
          "z_score": -1.0600225719453817
         },
         {
          "game": "cs",
          "month": "2020-03-01T00:00:00",
          "z_score": -0.040570691214189256
         },
         {
          "game": "cs",
          "month": "2020-04-01T00:00:00",
          "z_score": 0.2357100592106968
         },
         {
          "game": "cs",
          "month": "2020-05-01T00:00:00",
          "z_score": -0.20396772020837656
         },
         {
          "game": "cs",
          "month": "2020-06-01T00:00:00",
          "z_score": -0.9689693158156397
         },
         {
          "game": "cs",
          "month": "2020-07-01T00:00:00",
          "z_score": -1.294224214419446
         },
         {
          "game": "cs",
          "month": "2020-08-01T00:00:00",
          "z_score": -1.0710690761851624
         },
         {
          "game": "cs",
          "month": "2020-09-01T00:00:00",
          "z_score": -0.9139172930520275
         },
         {
          "game": "cs",
          "month": "2020-10-01T00:00:00",
          "z_score": -1.0013277625786334
         },
         {
          "game": "cs",
          "month": "2020-11-01T00:00:00",
          "z_score": -0.6993998253938289
         },
         {
          "game": "cs",
          "month": "2020-12-01T00:00:00",
          "z_score": -0.2648875830137974
         },
         {
          "game": "cs",
          "month": "2021-01-01T00:00:00",
          "z_score": -0.4059028060319587
         },
         {
          "game": "cs",
          "month": "2021-02-01T00:00:00",
          "z_score": -0.4137561288619631
         },
         {
          "game": "cs",
          "month": "2021-03-01T00:00:00",
          "z_score": -0.15768792139988413
         },
         {
          "game": "cs",
          "month": "2021-04-01T00:00:00",
          "z_score": -0.32832129675435545
         },
         {
          "game": "cs",
          "month": "2021-05-01T00:00:00",
          "z_score": -0.5517652324851039
         },
         {
          "game": "cs",
          "month": "2021-06-01T00:00:00",
          "z_score": -1.0802055788005958
         },
         {
          "game": "cs",
          "month": "2021-07-01T00:00:00",
          "z_score": -1.6215597677136921
         },
         {
          "game": "cs",
          "month": "2021-08-01T00:00:00",
          "z_score": -1.5032446842756146
         },
         {
          "game": "cs",
          "month": "2021-09-01T00:00:00",
          "z_score": -1.0221080551651724
         },
         {
          "game": "cs",
          "month": "2021-10-01T00:00:00",
          "z_score": -1.2934759663604234
         },
         {
          "game": "cs",
          "month": "2021-11-01T00:00:00",
          "z_score": -1.032741053898651
         },
         {
          "game": "cs",
          "month": "2021-12-01T00:00:00",
          "z_score": -1.009519109751091
         },
         {
          "game": "cs",
          "month": "2022-01-01T00:00:00",
          "z_score": -0.8612609767931805
         },
         {
          "game": "cs",
          "month": "2022-02-01T00:00:00",
          "z_score": -0.840726818436583
         },
         {
          "game": "cs",
          "month": "2022-03-01T00:00:00",
          "z_score": -0.8614349116490059
         },
         {
          "game": "cs",
          "month": "2022-04-01T00:00:00",
          "z_score": -0.786646205433807
         },
         {
          "game": "cs",
          "month": "2022-05-01T00:00:00",
          "z_score": -1.0742228761181478
         },
         {
          "game": "cs",
          "month": "2022-06-01T00:00:00",
          "z_score": -1.160671781253115
         },
         {
          "game": "cs",
          "month": "2022-07-01T00:00:00",
          "z_score": -1.0890335931811692
         },
         {
          "game": "cs",
          "month": "2022-08-01T00:00:00",
          "z_score": -0.7268224603990596
         },
         {
          "game": "cs",
          "month": "2022-09-01T00:00:00",
          "z_score": -0.518671664822018
         },
         {
          "game": "cs",
          "month": "2022-10-01T00:00:00",
          "z_score": -0.5631858607543958
         },
         {
          "game": "cs",
          "month": "2022-11-01T00:00:00",
          "z_score": -0.41353953073961447
         },
         {
          "game": "cs",
          "month": "2022-12-01T00:00:00",
          "z_score": -0.629753683689544
         },
         {
          "game": "cs",
          "month": "2023-01-01T00:00:00",
          "z_score": -0.1904401829307843
         },
         {
          "game": "cs",
          "month": "2023-02-01T00:00:00",
          "z_score": 0.3153492506506121
         },
         {
          "game": "cs",
          "month": "2023-03-01T00:00:00",
          "z_score": 0.8532477149753278
         },
         {
          "game": "cs",
          "month": "2023-04-01T00:00:00",
          "z_score": 0.8331336257044974
         },
         {
          "game": "cs",
          "month": "2023-05-01T00:00:00",
          "z_score": 1.8235580762512398
         },
         {
          "game": "cs",
          "month": "2023-06-01T00:00:00",
          "z_score": 1.3463399040814685
         },
         {
          "game": "cs",
          "month": "2023-07-01T00:00:00",
          "z_score": -0.11944522564641921
         },
         {
          "game": "cs",
          "month": "2023-08-01T00:00:00",
          "z_score": 0.9018444573350042
         },
         {
          "game": "cs",
          "month": "2023-09-01T00:00:00",
          "z_score": 0.9777128723722136
         },
         {
          "game": "cs",
          "month": "2023-10-01T00:00:00",
          "z_score": 0.4285644328442989
         },
         {
          "game": "cs",
          "month": "2023-11-01T00:00:00",
          "z_score": -0.3206681630980369
         },
         {
          "game": "cs",
          "month": "2023-12-01T00:00:00",
          "z_score": -0.01905855951729039
         },
         {
          "game": "cs",
          "month": "2024-01-01T00:00:00",
          "z_score": 0.17234526305452236
         },
         {
          "game": "cs",
          "month": "2024-02-01T00:00:00",
          "z_score": 0.49128928000262506
         },
         {
          "game": "cs",
          "month": "2024-03-01T00:00:00",
          "z_score": 0.8953629226132078
         },
         {
          "game": "cs",
          "month": "2024-04-01T00:00:00",
          "z_score": 1.2002838520341024
         },
         {
          "game": "cs",
          "month": "2024-05-01T00:00:00",
          "z_score": 1.2448538383919336
         },
         {
          "game": "cs",
          "month": "2024-06-01T00:00:00",
          "z_score": 0.9056480516350356
         },
         {
          "game": "cs",
          "month": "2024-07-01T00:00:00",
          "z_score": 0.33871231175667205
         },
         {
          "game": "cs",
          "month": "2024-08-01T00:00:00",
          "z_score": 0.5870978494548394
         },
         {
          "game": "cs",
          "month": "2024-09-01T00:00:00",
          "z_score": 0.7639895978292934
         },
         {
          "game": "cs",
          "month": "2024-10-01T00:00:00",
          "z_score": 0.8109815450097504
         },
         {
          "game": "cs",
          "month": "2024-11-01T00:00:00",
          "z_score": 1.0222434772532543
         },
         {
          "game": "cs",
          "month": "2024-12-01T00:00:00",
          "z_score": 1.6247899175195735
         },
         {
          "game": "cs",
          "month": "2025-01-01T00:00:00",
          "z_score": 1.186565970952022
         },
         {
          "game": "cs",
          "month": "2025-02-01T00:00:00",
          "z_score": 1.7898508139081661
         },
         {
          "game": "cs",
          "month": "2025-03-01T00:00:00",
          "z_score": 1.9106305214353925
         },
         {
          "game": "cs",
          "month": "2025-04-01T00:00:00",
          "z_score": 2.022529705946325
         },
         {
          "game": "cs",
          "month": "2025-05-01T00:00:00",
          "z_score": 1.542804246420881
         },
         {
          "game": "cs",
          "month": "2025-06-01T00:00:00",
          "z_score": 1.589487705366478
         },
         {
          "game": "cs",
          "month": "2025-07-01T00:00:00",
          "z_score": 0.734433799497902
         },
         {
          "game": "cs",
          "month": "2025-08-01T00:00:00",
          "z_score": 0.9822975326285932
         },
         {
          "game": "cod",
          "month": "2020-01-01T00:00:00",
          "z_score": null
         },
         {
          "game": "cod",
          "month": "2020-02-01T00:00:00",
          "z_score": null
         },
         {
          "game": "cod",
          "month": "2020-03-01T00:00:00",
          "z_score": null
         },
         {
          "game": "cod",
          "month": "2020-04-01T00:00:00",
          "z_score": null
         },
         {
          "game": "cod",
          "month": "2020-05-01T00:00:00",
          "z_score": null
         },
         {
          "game": "cod",
          "month": "2020-06-01T00:00:00",
          "z_score": -0.9272963094801744
         },
         {
          "game": "cod",
          "month": "2020-07-01T00:00:00",
          "z_score": -0.9334375161824534
         },
         {
          "game": "cod",
          "month": "2020-08-01T00:00:00",
          "z_score": -0.9251237127694625
         },
         {
          "game": "cod",
          "month": "2020-09-01T00:00:00",
          "z_score": -0.9304055367728377
         },
         {
          "game": "cod",
          "month": "2020-10-01T00:00:00",
          "z_score": -0.880030261040464
         },
         {
          "game": "cod",
          "month": "2020-11-01T00:00:00",
          "z_score": -0.9142703852012838
         },
         {
          "game": "cod",
          "month": "2020-12-01T00:00:00",
          "z_score": -0.9337465077146436
         },
         {
          "game": "cod",
          "month": "2021-01-01T00:00:00",
          "z_score": -0.9331961165479299
         },
         {
          "game": "cod",
          "month": "2021-02-01T00:00:00",
          "z_score": -0.9052130709139604
         },
         {
          "game": "cod",
          "month": "2021-03-01T00:00:00",
          "z_score": -0.9440011641892039
         },
         {
          "game": "cod",
          "month": "2021-04-01T00:00:00",
          "z_score": -0.9158443108183774
         },
         {
          "game": "cod",
          "month": "2021-05-01T00:00:00",
          "z_score": -0.9028666664663915
         },
         {
          "game": "cod",
          "month": "2021-06-01T00:00:00",
          "z_score": -0.8545963955470631
         },
         {
          "game": "cod",
          "month": "2021-07-01T00:00:00",
          "z_score": -0.8636633658197675
         },
         {
          "game": "cod",
          "month": "2021-08-01T00:00:00",
          "z_score": -0.8060461010516874
         },
         {
          "game": "cod",
          "month": "2021-09-01T00:00:00",
          "z_score": -0.888160600731217
         },
         {
          "game": "cod",
          "month": "2021-10-01T00:00:00",
          "z_score": -0.8339518988026094
         },
         {
          "game": "cod",
          "month": "2021-11-01T00:00:00",
          "z_score": -0.9020072837674876
         },
         {
          "game": "cod",
          "month": "2021-12-01T00:00:00",
          "z_score": -0.8513809524152095
         },
         {
          "game": "cod",
          "month": "2022-01-01T00:00:00",
          "z_score": -0.8504250098624963
         },
         {
          "game": "cod",
          "month": "2022-02-01T00:00:00",
          "z_score": -0.890004893938977
         },
         {
          "game": "cod",
          "month": "2022-03-01T00:00:00",
          "z_score": -0.9200060405175633
         },
         {
          "game": "cod",
          "month": "2022-04-01T00:00:00",
          "z_score": -0.8147364878945351
         },
         {
          "game": "cod",
          "month": "2022-05-01T00:00:00",
          "z_score": -0.8876874574475508
         },
         {
          "game": "cod",
          "month": "2022-06-01T00:00:00",
          "z_score": -0.8605444825417233
         },
         {
          "game": "cod",
          "month": "2022-07-01T00:00:00",
          "z_score": -0.8428740292945996
         },
         {
          "game": "cod",
          "month": "2022-08-01T00:00:00",
          "z_score": -0.8594630121790579
         },
         {
          "game": "cod",
          "month": "2022-09-01T00:00:00",
          "z_score": -0.8453845854936446
         },
         {
          "game": "cod",
          "month": "2022-10-01T00:00:00",
          "z_score": 1.6263835202759966
         },
         {
          "game": "cod",
          "month": "2022-11-01T00:00:00",
          "z_score": 3.8725105596637883
         },
         {
          "game": "cod",
          "month": "2022-12-01T00:00:00",
          "z_score": 2.1381604014512963
         },
         {
          "game": "cod",
          "month": "2023-01-01T00:00:00",
          "z_score": 0.7625783800676993
         },
         {
          "game": "cod",
          "month": "2023-02-01T00:00:00",
          "z_score": 0.7939699885411413
         },
         {
          "game": "cod",
          "month": "2023-03-01T00:00:00",
          "z_score": 0.7529513626429003
         },
         {
          "game": "cod",
          "month": "2023-04-01T00:00:00",
          "z_score": 0.5976831177173552
         },
         {
          "game": "cod",
          "month": "2023-05-01T00:00:00",
          "z_score": 0.21998924954181412
         },
         {
          "game": "cod",
          "month": "2023-06-01T00:00:00",
          "z_score": 0.2870790359685982
         },
         {
          "game": "cod",
          "month": "2023-07-01T00:00:00",
          "z_score": 0.033812195411874024
         },
         {
          "game": "cod",
          "month": "2023-08-01T00:00:00",
          "z_score": 0.278475552994179
         },
         {
          "game": "cod",
          "month": "2023-09-01T00:00:00",
          "z_score": 0.05957436440822692
         },
         {
          "game": "cod",
          "month": "2023-10-01T00:00:00",
          "z_score": 0.9766805439193232
         },
         {
          "game": "cod",
          "month": "2023-11-01T00:00:00",
          "z_score": 1.0259550373182695
         },
         {
          "game": "cod",
          "month": "2023-12-01T00:00:00",
          "z_score": 0.72096108307584
         },
         {
          "game": "cod",
          "month": "2024-01-01T00:00:00",
          "z_score": 0.5419584260839396
         },
         {
          "game": "cod",
          "month": "2024-02-01T00:00:00",
          "z_score": 0.6603021829127631
         },
         {
          "game": "cod",
          "month": "2024-03-01T00:00:00",
          "z_score": 0.31467584218733
         },
         {
          "game": "cod",
          "month": "2024-04-01T00:00:00",
          "z_score": 0.8072566244253173
         },
         {
          "game": "cod",
          "month": "2024-05-01T00:00:00",
          "z_score": 0.43346377434367683
         },
         {
          "game": "cod",
          "month": "2024-06-01T00:00:00",
          "z_score": 0.5017219350015548
         },
         {
          "game": "cod",
          "month": "2024-07-01T00:00:00",
          "z_score": 0.20614256650554347
         },
         {
          "game": "cod",
          "month": "2024-08-01T00:00:00",
          "z_score": 0.6970432072872469
         },
         {
          "game": "cod",
          "month": "2024-09-01T00:00:00",
          "z_score": 0.6990516522464828
         },
         {
          "game": "cod",
          "month": "2024-10-01T00:00:00",
          "z_score": 2.0844151868209737
         },
         {
          "game": "cod",
          "month": "2024-11-01T00:00:00",
          "z_score": 2.1508097423003303
         },
         {
          "game": "cod",
          "month": "2024-12-01T00:00:00",
          "z_score": 0.7694630976443109
         },
         {
          "game": "cod",
          "month": "2025-01-01T00:00:00",
          "z_score": 0.20985046489182516
         },
         {
          "game": "cod",
          "month": "2025-02-01T00:00:00",
          "z_score": 0.1464589208659418
         },
         {
          "game": "cod",
          "month": "2025-03-01T00:00:00",
          "z_score": -0.12516394789995283
         },
         {
          "game": "cod",
          "month": "2025-04-01T00:00:00",
          "z_score": 0.46584994931135587
         },
         {
          "game": "cod",
          "month": "2025-05-01T00:00:00",
          "z_score": 0.23091982499304028
         },
         {
          "game": "cod",
          "month": "2025-06-01T00:00:00",
          "z_score": 0.01866195434917624
         },
         {
          "game": "cod",
          "month": "2025-07-01T00:00:00",
          "z_score": 0.007605851087997807
         },
         {
          "game": "cod",
          "month": "2025-08-01T00:00:00",
          "z_score": -0.15088749295478196
         },
         {
          "game": "valorant",
          "month": "2020-01-01T00:00:00",
          "z_score": null
         },
         {
          "game": "valorant",
          "month": "2020-02-01T00:00:00",
          "z_score": null
         },
         {
          "game": "valorant",
          "month": "2020-03-01T00:00:00",
          "z_score": null
         },
         {
          "game": "valorant",
          "month": "2020-04-01T00:00:00",
          "z_score": null
         },
         {
          "game": "valorant",
          "month": "2020-05-01T00:00:00",
          "z_score": null
         },
         {
          "game": "valorant",
          "month": "2020-06-01T00:00:00",
          "z_score": -3.1636150845532303
         },
         {
          "game": "valorant",
          "month": "2020-07-01T00:00:00",
          "z_score": -2.6334454926287636
         },
         {
          "game": "valorant",
          "month": "2020-08-01T00:00:00",
          "z_score": -1.915548986369565
         },
         {
          "game": "valorant",
          "month": "2020-09-01T00:00:00",
          "z_score": -1.8784550450078656
         },
         {
          "game": "valorant",
          "month": "2020-10-01T00:00:00",
          "z_score": -1.8920138992371713
         },
         {
          "game": "valorant",
          "month": "2020-11-01T00:00:00",
          "z_score": -1.828541305038049
         },
         {
          "game": "valorant",
          "month": "2020-12-01T00:00:00",
          "z_score": -1.7745210218507774
         },
         {
          "game": "valorant",
          "month": "2021-01-01T00:00:00",
          "z_score": -1.4221482599183222
         },
         {
          "game": "valorant",
          "month": "2021-02-01T00:00:00",
          "z_score": -1.2215967963883763
         },
         {
          "game": "valorant",
          "month": "2021-03-01T00:00:00",
          "z_score": -1.0444324731355261
         },
         {
          "game": "valorant",
          "month": "2021-04-01T00:00:00",
          "z_score": -0.8781232413986552
         },
         {
          "game": "valorant",
          "month": "2021-05-01T00:00:00",
          "z_score": -0.874725892969209
         },
         {
          "game": "valorant",
          "month": "2021-06-01T00:00:00",
          "z_score": -0.5916716619860258
         },
         {
          "game": "valorant",
          "month": "2021-07-01T00:00:00",
          "z_score": -0.747742021218891
         },
         {
          "game": "valorant",
          "month": "2021-08-01T00:00:00",
          "z_score": -0.6719878020641781
         },
         {
          "game": "valorant",
          "month": "2021-09-01T00:00:00",
          "z_score": -0.46980620850476146
         },
         {
          "game": "valorant",
          "month": "2021-10-01T00:00:00",
          "z_score": -0.5815325518110508
         },
         {
          "game": "valorant",
          "month": "2021-11-01T00:00:00",
          "z_score": -0.5774667279115678
         },
         {
          "game": "valorant",
          "month": "2021-12-01T00:00:00",
          "z_score": -0.4782351073249214
         },
         {
          "game": "valorant",
          "month": "2022-01-01T00:00:00",
          "z_score": 0.1922152496335507
         },
         {
          "game": "valorant",
          "month": "2022-02-01T00:00:00",
          "z_score": 0.2108110834959664
         },
         {
          "game": "valorant",
          "month": "2022-03-01T00:00:00",
          "z_score": 0.372075191736133
         },
         {
          "game": "valorant",
          "month": "2022-04-01T00:00:00",
          "z_score": 0.7109685021093276
         },
         {
          "game": "valorant",
          "month": "2022-05-01T00:00:00",
          "z_score": 0.6719851843937376
         },
         {
          "game": "valorant",
          "month": "2022-06-01T00:00:00",
          "z_score": 0.44979683260418285
         },
         {
          "game": "valorant",
          "month": "2022-07-01T00:00:00",
          "z_score": 0.4174792672405744
         },
         {
          "game": "valorant",
          "month": "2022-08-01T00:00:00",
          "z_score": 0.7504010896332063
         },
         {
          "game": "valorant",
          "month": "2022-09-01T00:00:00",
          "z_score": 0.8028163530370899
         },
         {
          "game": "valorant",
          "month": "2022-10-01T00:00:00",
          "z_score": 0.6338020012762932
         },
         {
          "game": "valorant",
          "month": "2022-11-01T00:00:00",
          "z_score": 0.3093043271167244
         },
         {
          "game": "valorant",
          "month": "2022-12-01T00:00:00",
          "z_score": 0.08507525884148365
         },
         {
          "game": "valorant",
          "month": "2023-01-01T00:00:00",
          "z_score": 0.5459453221650654
         },
         {
          "game": "valorant",
          "month": "2023-02-01T00:00:00",
          "z_score": 0.6406204510706689
         },
         {
          "game": "valorant",
          "month": "2023-03-01T00:00:00",
          "z_score": 1.210154086333762
         },
         {
          "game": "valorant",
          "month": "2023-04-01T00:00:00",
          "z_score": 0.9350659112564595
         },
         {
          "game": "valorant",
          "month": "2023-05-01T00:00:00",
          "z_score": 0.8626703571791196
         },
         {
          "game": "valorant",
          "month": "2023-06-01T00:00:00",
          "z_score": 0.784945323034572
         },
         {
          "game": "valorant",
          "month": "2023-07-01T00:00:00",
          "z_score": 0.7838621891765225
         },
         {
          "game": "valorant",
          "month": "2023-08-01T00:00:00",
          "z_score": 0.6878908286488171
         },
         {
          "game": "valorant",
          "month": "2023-09-01T00:00:00",
          "z_score": 0.7099267662245493
         },
         {
          "game": "valorant",
          "month": "2023-10-01T00:00:00",
          "z_score": 0.010404173544820212
         },
         {
          "game": "valorant",
          "month": "2023-11-01T00:00:00",
          "z_score": -0.08509687886031098
         },
         {
          "game": "valorant",
          "month": "2023-12-01T00:00:00",
          "z_score": -0.20956497541527208
         },
         {
          "game": "valorant",
          "month": "2024-01-01T00:00:00",
          "z_score": 0.3704056996992897
         },
         {
          "game": "valorant",
          "month": "2024-02-01T00:00:00",
          "z_score": 0.45364141487601906
         },
         {
          "game": "valorant",
          "month": "2024-03-01T00:00:00",
          "z_score": 0.8794521454258921
         },
         {
          "game": "valorant",
          "month": "2024-04-01T00:00:00",
          "z_score": 0.7964213841496207
         },
         {
          "game": "valorant",
          "month": "2024-05-01T00:00:00",
          "z_score": 0.6125621263669093
         },
         {
          "game": "valorant",
          "month": "2024-06-01T00:00:00",
          "z_score": 0.806394223776211
         },
         {
          "game": "valorant",
          "month": "2024-07-01T00:00:00",
          "z_score": 1.023944645248779
         },
         {
          "game": "valorant",
          "month": "2024-08-01T00:00:00",
          "z_score": 1.3685753075241984
         },
         {
          "game": "valorant",
          "month": "2024-09-01T00:00:00",
          "z_score": 1.3440290239955055
         },
         {
          "game": "valorant",
          "month": "2024-10-01T00:00:00",
          "z_score": 0.7274252144676254
         },
         {
          "game": "valorant",
          "month": "2024-11-01T00:00:00",
          "z_score": 0.34163139365452627
         },
         {
          "game": "valorant",
          "month": "2024-12-01T00:00:00",
          "z_score": 0.08919673247552803
         },
         {
          "game": "valorant",
          "month": "2025-01-01T00:00:00",
          "z_score": 0.6361650790292558
         },
         {
          "game": "valorant",
          "month": "2025-02-01T00:00:00",
          "z_score": 0.5462826138489317
         },
         {
          "game": "valorant",
          "month": "2025-03-01T00:00:00",
          "z_score": 0.7598296477095736
         },
         {
          "game": "valorant",
          "month": "2025-04-01T00:00:00",
          "z_score": 0.3710022377075764
         },
         {
          "game": "valorant",
          "month": "2025-05-01T00:00:00",
          "z_score": 0.24597425053050326
         },
         {
          "game": "valorant",
          "month": "2025-06-01T00:00:00",
          "z_score": 0.30257342385598796
         },
         {
          "game": "valorant",
          "month": "2025-07-01T00:00:00",
          "z_score": 0.24266784191119412
         },
         {
          "game": "valorant",
          "month": "2025-08-01T00:00:00",
          "z_score": 0.24388127758675338
         },
         {
          "game": "siege",
          "month": "2020-01-01T00:00:00",
          "z_score": null
         },
         {
          "game": "siege",
          "month": "2020-02-01T00:00:00",
          "z_score": null
         },
         {
          "game": "siege",
          "month": "2020-03-01T00:00:00",
          "z_score": null
         },
         {
          "game": "siege",
          "month": "2020-04-01T00:00:00",
          "z_score": null
         },
         {
          "game": "siege",
          "month": "2020-05-01T00:00:00",
          "z_score": null
         },
         {
          "game": "siege",
          "month": "2020-06-01T00:00:00",
          "z_score": 1.0071601214097767
         },
         {
          "game": "siege",
          "month": "2020-07-01T00:00:00",
          "z_score": 0.8763097543706854
         },
         {
          "game": "siege",
          "month": "2020-08-01T00:00:00",
          "z_score": 1.179559518575355
         },
         {
          "game": "siege",
          "month": "2020-09-01T00:00:00",
          "z_score": -0.03402109543016376
         },
         {
          "game": "siege",
          "month": "2020-10-01T00:00:00",
          "z_score": 0.6541226002650479
         },
         {
          "game": "siege",
          "month": "2020-11-01T00:00:00",
          "z_score": 0.008271035546174666
         },
         {
          "game": "siege",
          "month": "2020-12-01T00:00:00",
          "z_score": 0.9293606933035713
         },
         {
          "game": "siege",
          "month": "2021-01-01T00:00:00",
          "z_score": 0.9243528397502233
         },
         {
          "game": "siege",
          "month": "2021-02-01T00:00:00",
          "z_score": 0.5874373761740147
         },
         {
          "game": "siege",
          "month": "2021-03-01T00:00:00",
          "z_score": 3.409895947573517
         },
         {
          "game": "siege",
          "month": "2021-04-01T00:00:00",
          "z_score": 1.5183488886424936
         },
         {
          "game": "siege",
          "month": "2021-05-01T00:00:00",
          "z_score": 0.4479282687975217
         },
         {
          "game": "siege",
          "month": "2021-06-01T00:00:00",
          "z_score": 0.1709131954658749
         },
         {
          "game": "siege",
          "month": "2021-07-01T00:00:00",
          "z_score": -0.15530807761899068
         },
         {
          "game": "siege",
          "month": "2021-08-01T00:00:00",
          "z_score": -0.05592641613448572
         },
         {
          "game": "siege",
          "month": "2021-09-01T00:00:00",
          "z_score": 0.5251138309842845
         },
         {
          "game": "siege",
          "month": "2021-10-01T00:00:00",
          "z_score": -0.4762630272896904
         },
         {
          "game": "siege",
          "month": "2021-11-01T00:00:00",
          "z_score": -0.7739556894867738
         },
         {
          "game": "siege",
          "month": "2021-12-01T00:00:00",
          "z_score": -0.3606300733062563
         },
         {
          "game": "siege",
          "month": "2022-01-01T00:00:00",
          "z_score": -0.6530564120891739
         },
         {
          "game": "siege",
          "month": "2022-02-01T00:00:00",
          "z_score": -0.5551286435717699
         },
         {
          "game": "siege",
          "month": "2022-03-01T00:00:00",
          "z_score": 0.4557792908198672
         },
         {
          "game": "siege",
          "month": "2022-04-01T00:00:00",
          "z_score": -0.05689567811255307
         },
         {
          "game": "siege",
          "month": "2022-05-01T00:00:00",
          "z_score": -0.03402109543016376
         },
         {
          "game": "siege",
          "month": "2022-06-01T00:00:00",
          "z_score": -0.7876869008427279
         },
         {
          "game": "siege",
          "month": "2022-07-01T00:00:00",
          "z_score": -0.9861271364857154
         },
         {
          "game": "siege",
          "month": "2022-08-01T00:00:00",
          "z_score": -1.0644111955809545
         },
         {
          "game": "siege",
          "month": "2022-09-01T00:00:00",
          "z_score": -0.9288760623145376
         },
         {
          "game": "siege",
          "month": "2022-10-01T00:00:00",
          "z_score": -1.304174300222213
         },
         {
          "game": "siege",
          "month": "2022-11-01T00:00:00",
          "z_score": -1.5861326096420032
         },
         {
          "game": "siege",
          "month": "2022-12-01T00:00:00",
          "z_score": -1.0024753551824512
         },
         {
          "game": "siege",
          "month": "2023-01-01T00:00:00",
          "z_score": -0.9143048239109252
         },
         {
          "game": "siege",
          "month": "2023-02-01T00:00:00",
          "z_score": -0.9799884772912888
         },
         {
          "game": "siege",
          "month": "2023-03-01T00:00:00",
          "z_score": -0.22913353161512
         },
         {
          "game": "siege",
          "month": "2023-04-01T00:00:00",
          "z_score": -0.5166166343098941
         },
         {
          "game": "siege",
          "month": "2023-05-01T00:00:00",
          "z_score": -0.9185372678818192
         },
         {
          "game": "siege",
          "month": "2023-06-01T00:00:00",
          "z_score": -0.8643232145752525
         },
         {
          "game": "siege",
          "month": "2023-07-01T00:00:00",
          "z_score": -0.785069893501946
         },
         {
          "game": "siege",
          "month": "2023-08-01T00:00:00",
          "z_score": -0.3418263909317498
         },
         {
          "game": "siege",
          "month": "2023-09-01T00:00:00",
          "z_score": -0.010855734154354249
         },
         {
          "game": "siege",
          "month": "2023-10-01T00:00:00",
          "z_score": -0.012051157260637305
         },
         {
          "game": "siege",
          "month": "2023-11-01T00:00:00",
          "z_score": -1.1452153358191686
         },
         {
          "game": "siege",
          "month": "2023-12-01T00:00:00",
          "z_score": -1.0702590761819608
         },
         {
          "game": "siege",
          "month": "2024-01-01T00:00:00",
          "z_score": -0.03402109543016376
         },
         {
          "game": "siege",
          "month": "2024-02-01T00:00:00",
          "z_score": 0.22231638903604636
         },
         {
          "game": "siege",
          "month": "2024-03-01T00:00:00",
          "z_score": 3.4439493517362827
         },
         {
          "game": "siege",
          "month": "2024-04-01T00:00:00",
          "z_score": 1.9599123371173732
         },
         {
          "game": "siege",
          "month": "2024-05-01T00:00:00",
          "z_score": 0.1968571077454775
         },
         {
          "game": "siege",
          "month": "2024-06-01T00:00:00",
          "z_score": -0.2133991788378268
         },
         {
          "game": "siege",
          "month": "2024-07-01T00:00:00",
          "z_score": -0.7008410276078939
         },
         {
          "game": "siege",
          "month": "2024-08-01T00:00:00",
          "z_score": -0.6347050519710988
         },
         {
          "game": "siege",
          "month": "2024-09-01T00:00:00",
          "z_score": -0.14080145668058278
         },
         {
          "game": "siege",
          "month": "2024-10-01T00:00:00",
          "z_score": -0.6161275307248081
         },
         {
          "game": "siege",
          "month": "2024-11-01T00:00:00",
          "z_score": -1.1730654633223037
         },
         {
          "game": "siege",
          "month": "2024-12-01T00:00:00",
          "z_score": -0.5943514449508951
         },
         {
          "game": "siege",
          "month": "2025-01-01T00:00:00",
          "z_score": 0.013472741495136076
         },
         {
          "game": "siege",
          "month": "2025-02-01T00:00:00",
          "z_score": 0.2025111359508703
         },
         {
          "game": "siege",
          "month": "2025-03-01T00:00:00",
          "z_score": 1.6203475574677806
         },
         {
          "game": "siege",
          "month": "2025-04-01T00:00:00",
          "z_score": 0.38686476417927906
         },
         {
          "game": "siege",
          "month": "2025-05-01T00:00:00",
          "z_score": -0.19898948409722564
         },
         {
          "game": "siege",
          "month": "2025-06-01T00:00:00",
          "z_score": 1.5033899454476543
         },
         {
          "game": "siege",
          "month": "2025-07-01T00:00:00",
          "z_score": 0.5076994241116746
         },
         {
          "game": "siege",
          "month": "2025-08-01T00:00:00",
          "z_score": 0.1576989238315568
         },
         {
          "game": "fortnite",
          "month": "2020-01-01T00:00:00",
          "z_score": null
         },
         {
          "game": "fortnite",
          "month": "2020-02-01T00:00:00",
          "z_score": null
         },
         {
          "game": "fortnite",
          "month": "2020-03-01T00:00:00",
          "z_score": null
         },
         {
          "game": "fortnite",
          "month": "2020-04-01T00:00:00",
          "z_score": null
         },
         {
          "game": "fortnite",
          "month": "2020-05-01T00:00:00",
          "z_score": null
         },
         {
          "game": "fortnite",
          "month": "2020-06-01T00:00:00",
          "z_score": null
         },
         {
          "game": "fortnite",
          "month": "2020-07-01T00:00:00",
          "z_score": null
         },
         {
          "game": "fortnite",
          "month": "2020-08-01T00:00:00",
          "z_score": null
         },
         {
          "game": "fortnite",
          "month": "2020-09-01T00:00:00",
          "z_score": null
         },
         {
          "game": "fortnite",
          "month": "2020-10-01T00:00:00",
          "z_score": null
         },
         {
          "game": "fortnite",
          "month": "2020-11-01T00:00:00",
          "z_score": null
         },
         {
          "game": "fortnite",
          "month": "2020-12-01T00:00:00",
          "z_score": null
         },
         {
          "game": "fortnite",
          "month": "2021-01-01T00:00:00",
          "z_score": null
         },
         {
          "game": "fortnite",
          "month": "2021-02-01T00:00:00",
          "z_score": null
         },
         {
          "game": "fortnite",
          "month": "2021-03-01T00:00:00",
          "z_score": null
         },
         {
          "game": "fortnite",
          "month": "2021-04-01T00:00:00",
          "z_score": null
         },
         {
          "game": "fortnite",
          "month": "2021-05-01T00:00:00",
          "z_score": null
         },
         {
          "game": "fortnite",
          "month": "2021-06-01T00:00:00",
          "z_score": null
         },
         {
          "game": "fortnite",
          "month": "2021-07-01T00:00:00",
          "z_score": null
         },
         {
          "game": "fortnite",
          "month": "2021-08-01T00:00:00",
          "z_score": null
         },
         {
          "game": "fortnite",
          "month": "2021-09-01T00:00:00",
          "z_score": null
         },
         {
          "game": "fortnite",
          "month": "2021-10-01T00:00:00",
          "z_score": null
         },
         {
          "game": "fortnite",
          "month": "2021-11-01T00:00:00",
          "z_score": null
         },
         {
          "game": "fortnite",
          "month": "2021-12-01T00:00:00",
          "z_score": null
         },
         {
          "game": "fortnite",
          "month": "2022-01-01T00:00:00",
          "z_score": null
         },
         {
          "game": "fortnite",
          "month": "2022-02-01T00:00:00",
          "z_score": null
         },
         {
          "game": "fortnite",
          "month": "2022-03-01T00:00:00",
          "z_score": null
         },
         {
          "game": "fortnite",
          "month": "2022-04-01T00:00:00",
          "z_score": null
         },
         {
          "game": "fortnite",
          "month": "2022-05-01T00:00:00",
          "z_score": null
         },
         {
          "game": "fortnite",
          "month": "2022-06-01T00:00:00",
          "z_score": null
         },
         {
          "game": "fortnite",
          "month": "2022-07-01T00:00:00",
          "z_score": null
         },
         {
          "game": "fortnite",
          "month": "2022-08-01T00:00:00",
          "z_score": null
         },
         {
          "game": "fortnite",
          "month": "2022-09-01T00:00:00",
          "z_score": null
         },
         {
          "game": "fortnite",
          "month": "2022-10-01T00:00:00",
          "z_score": null
         },
         {
          "game": "fortnite",
          "month": "2022-11-01T00:00:00",
          "z_score": null
         },
         {
          "game": "fortnite",
          "month": "2022-12-01T00:00:00",
          "z_score": null
         },
         {
          "game": "fortnite",
          "month": "2023-01-01T00:00:00",
          "z_score": null
         },
         {
          "game": "fortnite",
          "month": "2023-02-01T00:00:00",
          "z_score": null
         },
         {
          "game": "fortnite",
          "month": "2023-03-01T00:00:00",
          "z_score": null
         },
         {
          "game": "fortnite",
          "month": "2023-04-01T00:00:00",
          "z_score": -0.7545540745303746
         },
         {
          "game": "fortnite",
          "month": "2023-05-01T00:00:00",
          "z_score": -0.7613846942882806
         },
         {
          "game": "fortnite",
          "month": "2023-06-01T00:00:00",
          "z_score": -0.65799021807981
         },
         {
          "game": "fortnite",
          "month": "2023-07-01T00:00:00",
          "z_score": -0.7622811427861196
         },
         {
          "game": "fortnite",
          "month": "2023-08-01T00:00:00",
          "z_score": -0.42903800001337905
         },
         {
          "game": "fortnite",
          "month": "2023-09-01T00:00:00",
          "z_score": -0.5882555953647912
         },
         {
          "game": "fortnite",
          "month": "2023-10-01T00:00:00",
          "z_score": -0.5863190282627387
         },
         {
          "game": "fortnite",
          "month": "2023-11-01T00:00:00",
          "z_score": 0.6814577699484596
         },
         {
          "game": "fortnite",
          "month": "2023-12-01T00:00:00",
          "z_score": 2.483594342444439
         },
         {
          "game": "fortnite",
          "month": "2024-01-01T00:00:00",
          "z_score": 0.25158456330286205
         },
         {
          "game": "fortnite",
          "month": "2024-02-01T00:00:00",
          "z_score": 0.11758074058306142
         },
         {
          "game": "fortnite",
          "month": "2024-03-01T00:00:00",
          "z_score": 0.3439323311018472
         },
         {
          "game": "fortnite",
          "month": "2024-04-01T00:00:00",
          "z_score": -0.4144591256245944
         },
         {
          "game": "fortnite",
          "month": "2024-05-01T00:00:00",
          "z_score": -0.5425251356761019
         },
         {
          "game": "fortnite",
          "month": "2024-06-01T00:00:00",
          "z_score": -0.6573390680815643
         },
         {
          "game": "fortnite",
          "month": "2024-07-01T00:00:00",
          "z_score": -0.40749476687365777
         },
         {
          "game": "fortnite",
          "month": "2024-08-01T00:00:00",
          "z_score": -0.2906929566138663
         },
         {
          "game": "fortnite",
          "month": "2024-09-01T00:00:00",
          "z_score": -0.47756439914547605
         },
         {
          "game": "fortnite",
          "month": "2024-10-01T00:00:00",
          "z_score": 1.897853304978313
         },
         {
          "game": "fortnite",
          "month": "2024-11-01T00:00:00",
          "z_score": 3.3865000501795985
         },
         {
          "game": "fortnite",
          "month": "2024-12-01T00:00:00",
          "z_score": 0.012720763082148662
         },
         {
          "game": "fortnite",
          "month": "2025-01-01T00:00:00",
          "z_score": -0.15271999892763682
         },
         {
          "game": "fortnite",
          "month": "2025-02-01T00:00:00",
          "z_score": -0.0015254190096167027
         },
         {
          "game": "fortnite",
          "month": "2025-03-01T00:00:00",
          "z_score": -0.44914453208935545
         },
         {
          "game": "fortnite",
          "month": "2025-04-01T00:00:00",
          "z_score": -0.6559222292445072
         },
         {
          "game": "fortnite",
          "month": "2025-05-01T00:00:00",
          "z_score": -0.5818755171155848
         },
         {
          "game": "fortnite",
          "month": "2025-06-01T00:00:00",
          "z_score": 0.6073024776469779
         },
         {
          "game": "fortnite",
          "month": "2025-07-01T00:00:00",
          "z_score": -0.5685516044163526
         },
         {
          "game": "fortnite",
          "month": "2025-08-01T00:00:00",
          "z_score": -0.04288883712389983
         },
         {
          "game": "battlefield",
          "month": "2020-01-01T00:00:00",
          "z_score": null
         },
         {
          "game": "battlefield",
          "month": "2020-02-01T00:00:00",
          "z_score": null
         },
         {
          "game": "battlefield",
          "month": "2020-03-01T00:00:00",
          "z_score": null
         },
         {
          "game": "battlefield",
          "month": "2020-04-01T00:00:00",
          "z_score": null
         },
         {
          "game": "battlefield",
          "month": "2020-05-01T00:00:00",
          "z_score": null
         },
         {
          "game": "battlefield",
          "month": "2020-06-01T00:00:00",
          "z_score": -1.5018032902904057
         },
         {
          "game": "battlefield",
          "month": "2020-07-01T00:00:00",
          "z_score": -1.512511238393521
         },
         {
          "game": "battlefield",
          "month": "2020-08-01T00:00:00",
          "z_score": -1.257770052847976
         },
         {
          "game": "battlefield",
          "month": "2020-09-01T00:00:00",
          "z_score": -1.4545398470873687
         },
         {
          "game": "battlefield",
          "month": "2020-10-01T00:00:00",
          "z_score": -1.261504337270491
         },
         {
          "game": "battlefield",
          "month": "2020-11-01T00:00:00",
          "z_score": -1.2412807125967498
         },
         {
          "game": "battlefield",
          "month": "2020-12-01T00:00:00",
          "z_score": -1.2303253119114195
         },
         {
          "game": "battlefield",
          "month": "2021-01-01T00:00:00",
          "z_score": -1.2203147301763642
         },
         {
          "game": "battlefield",
          "month": "2021-02-01T00:00:00",
          "z_score": -0.7678364357518591
         },
         {
          "game": "battlefield",
          "month": "2021-03-01T00:00:00",
          "z_score": -1.0704259524220399
         },
         {
          "game": "battlefield",
          "month": "2021-04-01T00:00:00",
          "z_score": -0.7232274838853088
         },
         {
          "game": "battlefield",
          "month": "2021-05-01T00:00:00",
          "z_score": -1.0697285860539798
         },
         {
          "game": "battlefield",
          "month": "2021-06-01T00:00:00",
          "z_score": -0.37652392051300726
         },
         {
          "game": "battlefield",
          "month": "2021-07-01T00:00:00",
          "z_score": 0.28149748697487165
         },
         {
          "game": "battlefield",
          "month": "2021-08-01T00:00:00",
          "z_score": 1.2982576516064108
         },
         {
          "game": "battlefield",
          "month": "2021-09-01T00:00:00",
          "z_score": 0.8676676628632741
         },
         {
          "game": "battlefield",
          "month": "2021-10-01T00:00:00",
          "z_score": 1.2016161704068646
         },
         {
          "game": "battlefield",
          "month": "2021-11-01T00:00:00",
          "z_score": 2.1330951769314486
         },
         {
          "game": "battlefield",
          "month": "2021-12-01T00:00:00",
          "z_score": 0.3975302523443455
         },
         {
          "game": "battlefield",
          "month": "2022-01-01T00:00:00",
          "z_score": -0.3016807622376603
         },
         {
          "game": "battlefield",
          "month": "2022-02-01T00:00:00",
          "z_score": -0.39060622200996165
         },
         {
          "game": "battlefield",
          "month": "2022-03-01T00:00:00",
          "z_score": -0.4960435177227813
         },
         {
          "game": "battlefield",
          "month": "2022-04-01T00:00:00",
          "z_score": -0.5887482532961822
         },
         {
          "game": "battlefield",
          "month": "2022-05-01T00:00:00",
          "z_score": -0.8070914135668517
         },
         {
          "game": "battlefield",
          "month": "2022-06-01T00:00:00",
          "z_score": -0.5851939343880052
         },
         {
          "game": "battlefield",
          "month": "2022-07-01T00:00:00",
          "z_score": -0.6547281099903789
         },
         {
          "game": "battlefield",
          "month": "2022-08-01T00:00:00",
          "z_score": -0.4820961903615805
         },
         {
          "game": "battlefield",
          "month": "2022-09-01T00:00:00",
          "z_score": -0.35342084760985687
         },
         {
          "game": "battlefield",
          "month": "2022-10-01T00:00:00",
          "z_score": -0.5356134351878655
         },
         {
          "game": "battlefield",
          "month": "2022-11-01T00:00:00",
          "z_score": 1.4411502699908423
         },
         {
          "game": "battlefield",
          "month": "2022-12-01T00:00:00",
          "z_score": 1.3051638282191345
         },
         {
          "game": "battlefield",
          "month": "2023-01-01T00:00:00",
          "z_score": 0.3024634693952574
         },
         {
          "game": "battlefield",
          "month": "2023-02-01T00:00:00",
          "z_score": 0.10758331305641446
         },
         {
          "game": "battlefield",
          "month": "2023-03-01T00:00:00",
          "z_score": -0.06840046427693063
         },
         {
          "game": "battlefield",
          "month": "2023-04-01T00:00:00",
          "z_score": -0.24121234942006714
         },
         {
          "game": "battlefield",
          "month": "2023-05-01T00:00:00",
          "z_score": -0.3270334040700366
         },
         {
          "game": "battlefield",
          "month": "2023-06-01T00:00:00",
          "z_score": -0.34253293399240337
         },
         {
          "game": "battlefield",
          "month": "2023-07-01T00:00:00",
          "z_score": -0.4956385953155206
         },
         {
          "game": "battlefield",
          "month": "2023-08-01T00:00:00",
          "z_score": -0.5387403359994896
         },
         {
          "game": "battlefield",
          "month": "2023-09-01T00:00:00",
          "z_score": -0.6123687270530546
         },
         {
          "game": "battlefield",
          "month": "2023-10-01T00:00:00",
          "z_score": 2.102883466211944
         },
         {
          "game": "battlefield",
          "month": "2023-11-01T00:00:00",
          "z_score": 3.1640051301278183
         },
         {
          "game": "battlefield",
          "month": "2023-12-01T00:00:00",
          "z_score": 2.5239352826951627
         },
         {
          "game": "battlefield",
          "month": "2024-01-01T00:00:00",
          "z_score": 1.0904874653031034
         },
         {
          "game": "battlefield",
          "month": "2024-02-01T00:00:00",
          "z_score": 0.8630785422476532
         },
         {
          "game": "battlefield",
          "month": "2024-03-01T00:00:00",
          "z_score": 1.0797570215106955
         },
         {
          "game": "battlefield",
          "month": "2024-04-01T00:00:00",
          "z_score": 0.2278227723235408
         },
         {
          "game": "battlefield",
          "month": "2024-05-01T00:00:00",
          "z_score": 0.04392051235932043
         },
         {
          "game": "battlefield",
          "month": "2024-06-01T00:00:00",
          "z_score": 0.5182421210866093
         },
         {
          "game": "battlefield",
          "month": "2024-07-01T00:00:00",
          "z_score": 0.6469849509062097
         },
         {
          "game": "battlefield",
          "month": "2024-08-01T00:00:00",
          "z_score": 0.2684499871853612
         },
         {
          "game": "battlefield",
          "month": "2024-09-01T00:00:00",
          "z_score": 0.09638045978886929
         },
         {
          "game": "battlefield",
          "month": "2024-10-01T00:00:00",
          "z_score": 0.10670598117401633
         },
         {
          "game": "battlefield",
          "month": "2024-11-01T00:00:00",
          "z_score": 0.49363183700087754
         },
         {
          "game": "battlefield",
          "month": "2024-12-01T00:00:00",
          "z_score": 0.059622503485317474
         },
         {
          "game": "battlefield",
          "month": "2025-01-01T00:00:00",
          "z_score": 0.09545813652788665
         },
         {
          "game": "battlefield",
          "month": "2025-02-01T00:00:00",
          "z_score": 0.4049538298107911
         },
         {
          "game": "battlefield",
          "month": "2025-03-01T00:00:00",
          "z_score": 0.20597945802075696
         },
         {
          "game": "battlefield",
          "month": "2025-04-01T00:00:00",
          "z_score": -0.43157087221116597
         },
         {
          "game": "battlefield",
          "month": "2025-05-01T00:00:00",
          "z_score": -0.28762095642999824
         },
         {
          "game": "battlefield",
          "month": "2025-06-01T00:00:00",
          "z_score": -0.5938772704548173
         },
         {
          "game": "battlefield",
          "month": "2025-07-01T00:00:00",
          "z_score": -0.6140783994392662
         },
         {
          "game": "battlefield",
          "month": "2025-08-01T00:00:00",
          "z_score": 1.1077641546795585
         }
        ]
       },
       "encoding": {
        "color": {
         "field": "z_score",
         "scale": {
          "domain": [
           -2,
           2
          ],
          "scheme": "redblue"
         },
         "title": "Z-score",
         "type": "quantitative"
        },
        "tooltip": [
         {
          "field": "month",
          "format": "%Y %b",
          "timeUnit": "yearmonth",
          "title": "Month",
          "type": "temporal"
         },
         {
          "field": "game",
          "title": "Game",
          "type": "nominal"
         },
         {
          "field": "z_score",
          "format": ".2f",
          "title": "Z",
          "type": "quantitative"
         }
        ],
        "x": {
         "field": "ym",
         "type": "temporal"
        },
        "y": {
         "field": "game",
         "sort": [
          "battlefield",
          "cod",
          "fortnite",
          "siege",
          "valorant",
          "cs"
         ],
         "title": "Game",
         "type": "nominal"
        }
       },
       "height": 240,
       "mark": {
        "type": "rect"
       },
       "title": "Z-scored Playerbases Over Time",
       "transform": [
        {
         "as": "ym",
         "field": "month",
         "timeUnit": "yearmonth"
        },
        {
         "groupby": [
          "game"
         ],
         "impute": "z_score",
         "key": "ym",
         "value": null
        },
        {
         "as": "ym",
         "field": "month",
         "timeUnit": "yearmonth"
        },
        {
         "groupby": [
          "game"
         ],
         "impute": "z_score",
         "key": "ym",
         "value": null
        }
       ],
       "usermeta": {
        "embedOptions": {
         "theme": "fivethirtyeight"
        }
       },
       "width": 900
      },
      "text/plain": [
       "<VegaLite 5 object>\n",
       "\n",
       "If you see this message, it means the renderer has not been properly enabled\n",
       "for the frontend that you are using. For more information, see\n",
       "https://altair-viz.github.io/user_guide/display_frontends.html#troubleshooting\n"
      ]
     },
     "execution_count": 99,
     "metadata": {},
     "output_type": "execute_result"
    }
   ],
   "source": [
    "heat = heat.transform_timeunit(ym='yearmonth(month)').transform_impute(\n",
    "    impute='z_score', key='ym', groupby=['game'], value=None\n",
    ").encode(x='ym:T')\n",
    "\n",
    "heat"
   ]
  },
  {
   "cell_type": "code",
   "execution_count": null,
   "id": "39c5338f",
   "metadata": {},
   "outputs": [],
   "source": []
  }
 ],
 "metadata": {
  "kernelspec": {
   "display_name": ".venv",
   "language": "python",
   "name": "python3"
  },
  "language_info": {
   "codemirror_mode": {
    "name": "ipython",
    "version": 3
   },
   "file_extension": ".py",
   "mimetype": "text/x-python",
   "name": "python",
   "nbconvert_exporter": "python",
   "pygments_lexer": "ipython3",
   "version": "3.12.3"
  }
 },
 "nbformat": 4,
 "nbformat_minor": 5
}
