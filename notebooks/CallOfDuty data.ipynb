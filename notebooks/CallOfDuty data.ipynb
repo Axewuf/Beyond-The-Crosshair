{
 "cells": [
  {
   "cell_type": "code",
   "execution_count": 1,
   "id": "4a8c56f6",
   "metadata": {},
   "outputs": [
    {
     "data": {
      "text/plain": [
       "ThemeRegistry.enable('fivethirtyeight')"
      ]
     },
     "execution_count": 1,
     "metadata": {},
     "output_type": "execute_result"
    }
   ],
   "source": [
    "import pandas as pd\n",
    "import numpy as np\n",
    "import altair as alt\n",
    "import matplotlib.pyplot as plt\n",
    "import json\n",
    "import ast\n",
    "\n",
    "alt.data_transformers.enable(\"default\", max_rows=None)\n",
    "alt.renderers.enable(\"mimetype\")\n",
    "alt.theme.enable(\"fivethirtyeight\")"
   ]
  },
  {
   "cell_type": "markdown",
   "id": "f392f6eb",
   "metadata": {},
   "source": [
    "## Datasets & Cleaning"
   ]
  },
  {
   "cell_type": "markdown",
   "id": "180cccb3",
   "metadata": {},
   "source": [
    "### Battlefield"
   ]
  },
  {
   "cell_type": "code",
   "execution_count": 11,
   "id": "a3bdbce8",
   "metadata": {},
   "outputs": [],
   "source": [
    "b4_data = pd.read_csv(\"../assets/SteamDB Battlefield 4.csv\")\n",
    "bh_data = pd.read_csv(\"../assets/SteamDB Battlefield Hardline.csv\")\n",
    "b1_data = pd.read_csv(\"../assets/SteamDB Battlefield 1.csv\")\n",
    "bv_data = pd.read_csv(\"../assets/SteamDB Battlefield V.csv\")\n",
    "b2042_data = pd.read_csv(\"../assets/SteamDB Battlefield 2042.csv\")"
   ]
  },
  {
   "cell_type": "code",
   "execution_count": 12,
   "id": "2616daa0",
   "metadata": {},
   "outputs": [],
   "source": [
    "b4_data.columns = b4_data.columns.str.lower()\n",
    "bh_data.columns = bh_data.columns.str.lower()\n",
    "b1_data.columns = b1_data.columns.str.lower()\n",
    "bv_data.columns = bv_data.columns.str.lower()\n",
    "b2042_data.columns = b2042_data.columns.str.lower()"
   ]
  },
  {
   "cell_type": "code",
   "execution_count": 13,
   "id": "bbc1ea2b",
   "metadata": {},
   "outputs": [],
   "source": [
    "b4_data[['peak', 'gain', 'average']] = b4_data[['peak', 'gain', 'average']].replace({\",\": \"\", \"-\": \"0\"}, regex=True).astype(float)\n",
    "bh_data[['peak', 'gain', 'average']] = bh_data[['peak', 'gain', 'average']].replace({\",\": \"\", \"-\": \"0\"}, regex=True).astype(float)\n",
    "b1_data[['peak', 'gain', 'average']] = b1_data[['peak', 'gain', 'average']].replace({\",\": \"\", \"-\": \"0\"}, regex=True).astype(float)\n",
    "bv_data[['peak', 'gain', 'average']] = bv_data[['peak', 'gain', 'average']].replace({\",\": \"\", \"-\": \"0\"}, regex=True).astype(float)\n",
    "b2042_data[['peak', 'gain', 'average']] = b2042_data[['peak', 'gain', 'average']].replace({\",\": \"\", \"-\": \"0\"}, regex=True).astype(float)\n",
    "\n",
    "fields_to_keep = ['month', 'peak', 'gain', 'average']\n",
    "b4_data = b4_data[fields_to_keep][1:]\n",
    "bh_data = bh_data[fields_to_keep][1:]\n",
    "b1_data = b1_data[fields_to_keep][1:]\n",
    "bv_data = bv_data[fields_to_keep][1:]\n",
    "b2042_data = b2042_data[fields_to_keep][1:]\n",
    "\n",
    "b4_data[\"month\"] = pd.to_datetime(b4_data[\"month\"], format=\"%b-%y\")\n",
    "b4_data = b4_data.sort_values(\"month\")\n",
    "bh_data[\"month\"] = pd.to_datetime(bh_data[\"month\"], format=\"%b-%y\")\n",
    "bh_data = bh_data.sort_values(\"month\")\n",
    "b1_data[\"month\"] = pd.to_datetime(b1_data[\"month\"], format=\"%b-%y\")\n",
    "b1_data = b1_data.sort_values(\"month\")\n",
    "bv_data[\"month\"] = pd.to_datetime(bv_data[\"month\"], format=\"%b-%y\")\n",
    "bv_data = bv_data.sort_values(\"month\")\n",
    "b2042_data[\"month\"] = pd.to_datetime(b2042_data[\"month\"], format=\"%b-%y\")\n",
    "b2042_data = b2042_data.sort_values(\"month\")"
   ]
  },
  {
   "cell_type": "code",
   "execution_count": null,
   "id": "44d0720b",
   "metadata": {},
   "outputs": [
    {
     "data": {
      "text/html": [
       "<div>\n",
       "<style scoped>\n",
       "    .dataframe tbody tr th:only-of-type {\n",
       "        vertical-align: middle;\n",
       "    }\n",
       "\n",
       "    .dataframe tbody tr th {\n",
       "        vertical-align: top;\n",
       "    }\n",
       "\n",
       "    .dataframe thead th {\n",
       "        text-align: right;\n",
       "    }\n",
       "</style>\n",
       "<table border=\"1\" class=\"dataframe\">\n",
       "  <thead>\n",
       "    <tr style=\"text-align: right;\">\n",
       "      <th></th>\n",
       "      <th>month</th>\n",
       "      <th>peak</th>\n",
       "      <th>gain</th>\n",
       "      <th>average</th>\n",
       "    </tr>\n",
       "  </thead>\n",
       "  <tbody>\n",
       "    <tr>\n",
       "      <th>0</th>\n",
       "      <td>2020-06-01</td>\n",
       "      <td>1213.0</td>\n",
       "      <td>0.0</td>\n",
       "      <td>0.0</td>\n",
       "    </tr>\n",
       "    <tr>\n",
       "      <th>1</th>\n",
       "      <td>2020-07-01</td>\n",
       "      <td>1112.0</td>\n",
       "      <td>101.0</td>\n",
       "      <td>0.0</td>\n",
       "    </tr>\n",
       "    <tr>\n",
       "      <th>2</th>\n",
       "      <td>2020-08-01</td>\n",
       "      <td>3266.0</td>\n",
       "      <td>2154.0</td>\n",
       "      <td>0.0</td>\n",
       "    </tr>\n",
       "    <tr>\n",
       "      <th>3</th>\n",
       "      <td>2020-09-01</td>\n",
       "      <td>1119.0</td>\n",
       "      <td>2147.0</td>\n",
       "      <td>0.0</td>\n",
       "    </tr>\n",
       "    <tr>\n",
       "      <th>4</th>\n",
       "      <td>2020-10-01</td>\n",
       "      <td>5881.0</td>\n",
       "      <td>4762.0</td>\n",
       "      <td>0.0</td>\n",
       "    </tr>\n",
       "  </tbody>\n",
       "</table>\n",
       "</div>"
      ],
      "text/plain": [
       "       month    peak    gain  average\n",
       "0 2020-06-01  1213.0     0.0      0.0\n",
       "1 2020-07-01  1112.0   101.0      0.0\n",
       "2 2020-08-01  3266.0  2154.0      0.0\n",
       "3 2020-09-01  1119.0  2147.0      0.0\n",
       "4 2020-10-01  5881.0  4762.0      0.0"
      ]
     },
     "execution_count": 14,
     "metadata": {},
     "output_type": "execute_result"
    }
   ],
   "source": [
    "b_merged = pd.concat([b4_data, bh_data, b1_data, bv_data, b2042_data], ignore_index=True)\n",
    "b_merged = b_merged[fields_to_keep]\n",
    "b_merged.head()"
   ]
  },
  {
   "cell_type": "code",
   "execution_count": 15,
   "id": "d6482a53",
   "metadata": {},
   "outputs": [
    {
     "data": {
      "text/html": [
       "<div>\n",
       "<style scoped>\n",
       "    .dataframe tbody tr th:only-of-type {\n",
       "        vertical-align: middle;\n",
       "    }\n",
       "\n",
       "    .dataframe tbody tr th {\n",
       "        vertical-align: top;\n",
       "    }\n",
       "\n",
       "    .dataframe thead th {\n",
       "        text-align: right;\n",
       "    }\n",
       "</style>\n",
       "<table border=\"1\" class=\"dataframe\">\n",
       "  <thead>\n",
       "    <tr style=\"text-align: right;\">\n",
       "      <th></th>\n",
       "      <th>month</th>\n",
       "      <th>peak</th>\n",
       "      <th>gain</th>\n",
       "      <th>average</th>\n",
       "    </tr>\n",
       "  </thead>\n",
       "  <tbody>\n",
       "    <tr>\n",
       "      <th>0</th>\n",
       "      <td>2020-06-01</td>\n",
       "      <td>5172.0</td>\n",
       "      <td>0.0</td>\n",
       "      <td>0.0</td>\n",
       "    </tr>\n",
       "    <tr>\n",
       "      <th>1</th>\n",
       "      <td>2020-07-01</td>\n",
       "      <td>4696.0</td>\n",
       "      <td>876.0</td>\n",
       "      <td>0.0</td>\n",
       "    </tr>\n",
       "    <tr>\n",
       "      <th>2</th>\n",
       "      <td>2020-08-01</td>\n",
       "      <td>16020.0</td>\n",
       "      <td>11324.0</td>\n",
       "      <td>0.0</td>\n",
       "    </tr>\n",
       "    <tr>\n",
       "      <th>3</th>\n",
       "      <td>2020-09-01</td>\n",
       "      <td>7273.0</td>\n",
       "      <td>8747.0</td>\n",
       "      <td>0.0</td>\n",
       "    </tr>\n",
       "    <tr>\n",
       "      <th>4</th>\n",
       "      <td>2020-10-01</td>\n",
       "      <td>15854.0</td>\n",
       "      <td>8581.0</td>\n",
       "      <td>0.0</td>\n",
       "    </tr>\n",
       "    <tr>\n",
       "      <th>...</th>\n",
       "      <td>...</td>\n",
       "      <td>...</td>\n",
       "      <td>...</td>\n",
       "      <td>...</td>\n",
       "    </tr>\n",
       "    <tr>\n",
       "      <th>58</th>\n",
       "      <td>2025-04-01</td>\n",
       "      <td>52747.0</td>\n",
       "      <td>28341.0</td>\n",
       "      <td>0.0</td>\n",
       "    </tr>\n",
       "    <tr>\n",
       "      <th>59</th>\n",
       "      <td>2025-05-01</td>\n",
       "      <td>59146.0</td>\n",
       "      <td>6399.0</td>\n",
       "      <td>0.0</td>\n",
       "    </tr>\n",
       "    <tr>\n",
       "      <th>60</th>\n",
       "      <td>2025-06-01</td>\n",
       "      <td>45532.0</td>\n",
       "      <td>13614.0</td>\n",
       "      <td>0.0</td>\n",
       "    </tr>\n",
       "    <tr>\n",
       "      <th>61</th>\n",
       "      <td>2025-07-01</td>\n",
       "      <td>44634.0</td>\n",
       "      <td>2654.0</td>\n",
       "      <td>0.0</td>\n",
       "    </tr>\n",
       "    <tr>\n",
       "      <th>62</th>\n",
       "      <td>2025-08-01</td>\n",
       "      <td>121175.0</td>\n",
       "      <td>76543.0</td>\n",
       "      <td>0.0</td>\n",
       "    </tr>\n",
       "  </tbody>\n",
       "</table>\n",
       "<p>63 rows × 4 columns</p>\n",
       "</div>"
      ],
      "text/plain": [
       "        month      peak     gain  average\n",
       "0  2020-06-01    5172.0      0.0      0.0\n",
       "1  2020-07-01    4696.0    876.0      0.0\n",
       "2  2020-08-01   16020.0  11324.0      0.0\n",
       "3  2020-09-01    7273.0   8747.0      0.0\n",
       "4  2020-10-01   15854.0   8581.0      0.0\n",
       "..        ...       ...      ...      ...\n",
       "58 2025-04-01   52747.0  28341.0      0.0\n",
       "59 2025-05-01   59146.0   6399.0      0.0\n",
       "60 2025-06-01   45532.0  13614.0      0.0\n",
       "61 2025-07-01   44634.0   2654.0      0.0\n",
       "62 2025-08-01  121175.0  76543.0      0.0\n",
       "\n",
       "[63 rows x 4 columns]"
      ]
     },
     "execution_count": 15,
     "metadata": {},
     "output_type": "execute_result"
    }
   ],
   "source": [
    "SteamDB_b_merged_grouped = b_merged.groupby(b_merged.columns[0]).sum()\n",
    "\n",
    "SteamDB_b_merged_grouped = SteamDB_b_merged_grouped.reset_index()\n",
    "SteamDB_b_merged_grouped = SteamDB_b_merged_grouped.sort_values(\"month\")\n",
    "SteamDB_b_merged_grouped"
   ]
  },
  {
   "cell_type": "code",
   "execution_count": null,
   "id": "39b295f7",
   "metadata": {},
   "outputs": [],
   "source": [
    "# b4_data.to_csv(\"../assets/SteamDB_b4_cleaned.csv\",encoding=\"utf-8\")\n",
    "# bh_data.to_csv(\"../assets/SteamDB_bh_cleaned.csv\",encoding=\"utf-8\")\n",
    "# b1_data.to_csv(\"../assets/SteamDB_b1_cleaned.csv\",encoding=\"utf-8\")\n",
    "# bv_data.to_csv(\"../assets/SteamDB_bv_cleaned.csv\",encoding=\"utf-8\")\n",
    "# b2042_data.to_csv(\"../assets/SteamDB_b2042_cleaned.csv\",encoding=\"utf-8\")\n",
    "# SteamDB_b_merged_grouped.to_csv(\"../assets/SteamDB_b_merged_cleaned.csv\",encoding=\"utf-8\")"
   ]
  },
  {
   "cell_type": "code",
   "execution_count": null,
   "id": "998ae595",
   "metadata": {},
   "outputs": [],
   "source": []
  }
 ],
 "metadata": {
  "kernelspec": {
   "display_name": "py310 (3.10.16)",
   "language": "python",
   "name": "python3"
  },
  "language_info": {
   "codemirror_mode": {
    "name": "ipython",
    "version": 3
   },
   "file_extension": ".py",
   "mimetype": "text/x-python",
   "name": "python",
   "nbconvert_exporter": "python",
   "pygments_lexer": "ipython3",
   "version": "3.10.16"
  }
 },
 "nbformat": 4,
 "nbformat_minor": 5
}
