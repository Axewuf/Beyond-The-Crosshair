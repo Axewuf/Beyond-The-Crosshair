{
 "cells": [
  {
   "cell_type": "code",
   "execution_count": 1,
   "id": "4a8c56f6",
   "metadata": {},
   "outputs": [],
   "source": [
    "import pandas as pd"
   ]
  },
  {
   "cell_type": "markdown",
   "id": "f392f6eb",
   "metadata": {},
   "source": [
    "## Datasets & Cleaning"
   ]
  },
  {
   "cell_type": "markdown",
   "id": "180cccb3",
   "metadata": {},
   "source": [
    "### Call of Duty"
   ]
  },
  {
   "cell_type": "code",
   "execution_count": 2,
   "id": "a3bdbce8",
   "metadata": {},
   "outputs": [],
   "source": [
    "# Loading raw datasets\n",
    "codbo3_data = pd.read_csv(\"../assets/raw/SteamDB Call of Duty Black Ops 3.csv\")\n",
    "codiw_data = pd.read_csv(\"../assets/raw/SteamDB Call of Duty Infinite Warfare.csv\")\n",
    "codwwii_data = pd.read_csv(\"../assets/raw/SteamDB Call of Duty WWII.csv\")\n",
    "codbo4_data = pd.read_csv(\"../assets/raw/SteamDB Call of Duty Black Ops 4.csv\")\n",
    "codmw_data = pd.read_csv(\"../assets/raw/SteamDB Call of Duty Modern Warfare.csv\")\n",
    "codbocw_data = pd.read_csv(\"../assets/raw/SteamDB Call of Duty Black Ops Cold War.csv\")\n",
    "codv_data = pd.read_csv(\"../assets/raw/SteamDB Call of Duty Vanguard.csv\")\n",
    "codlast3games_data = pd.read_csv(\"../assets/raw/SteamDB Call of Duty last3games.csv\")"
   ]
  },
  {
   "cell_type": "code",
   "execution_count": 3,
   "id": "2616daa0",
   "metadata": {},
   "outputs": [],
   "source": [
    "fields_to_keep = ['month', 'peak', 'gain', '% gain'] # Fields we want to keep\n",
    "list_of_cod_data = [codbo3_data, codiw_data, codwwii_data, codbo4_data, codmw_data, codbocw_data, codv_data, codlast3games_data] # Fields of datasets\n",
    "\n",
    "# Cleaning the datasets in list_of_cod_data\n",
    "for i in range(len(list_of_cod_data)):\n",
    "    df = list_of_cod_data[i]\n",
    "    df.columns = df.columns.str.lower()\n",
    "    df = df.replace(\"-\", \"0\")\n",
    "    df[['peak', 'gain', '% gain']] = df[['peak', 'gain', '% gain']].replace({\",\": \"\", \"%\": \"\"}, regex=True).astype(float)\n",
    "    df = df[fields_to_keep][1:] # Getting rid of first row of Last 30 days\n",
    "    df[\"month\"] = pd.to_datetime(df[\"month\"], format=\"%b-%y\")\n",
    "    df = df.sort_values(\"month\")\n",
    "    list_of_cod_data[i] = df\n"
   ]
  },
  {
   "cell_type": "code",
   "execution_count": 4,
   "id": "fea8b053",
   "metadata": {},
   "outputs": [],
   "source": [
    "# Merging the cleaned datasets\n",
    "cod_merged = pd.concat(list_of_cod_data, ignore_index=True)\n",
    "cod_merged = cod_merged[fields_to_keep]"
   ]
  },
  {
   "cell_type": "code",
   "execution_count": 5,
   "id": "0ac55f62",
   "metadata": {},
   "outputs": [],
   "source": [
    "# Grouping by month and summing the peak players\n",
    "SteamDB_cod_merged_grouped = cod_merged.groupby(cod_merged.columns[0]).sum()\n",
    "\n",
    "SteamDB_cod_merged_grouped = SteamDB_cod_merged_grouped.reset_index()\n",
    "SteamDB_cod_merged_grouped = SteamDB_cod_merged_grouped.sort_values(\"month\")\n",
    "\n",
    "# Recalculate % gain\n",
    "SteamDB_cod_merged_grouped['% gain'] = ((SteamDB_cod_merged_grouped['peak']-SteamDB_cod_merged_grouped['peak'].shift(1))*100/SteamDB_cod_merged_grouped['peak'].shift(1)).round(1)\n",
    "SteamDB_cod_merged_grouped.iloc[0,3] = 0 # Setting the first % gain to 0\n",
    "\n",
    "# Filtering rows before June 01 2020\n",
    "SteamDB_cod_merged_grouped = SteamDB_cod_merged_grouped[SteamDB_cod_merged_grouped[\"month\"] >= \"2020-06-01\"] "
   ]
  },
  {
   "cell_type": "code",
   "execution_count": 6,
   "id": "39b295f7",
   "metadata": {},
   "outputs": [],
   "source": [
    "# Exporting cleaned dataset\n",
    "SteamDB_cod_merged_grouped.to_csv(\"../assets/clean/SteamDB_Call_of_Duty_Clean.csv\",encoding=\"utf-8\", index=False, header=True)"
   ]
  }
 ],
 "metadata": {
  "kernelspec": {
   "display_name": "py310 (3.10.16)",
   "language": "python",
   "name": "python3"
  },
  "language_info": {
   "codemirror_mode": {
    "name": "ipython",
    "version": 3
   },
   "file_extension": ".py",
   "mimetype": "text/x-python",
   "name": "python",
   "nbconvert_exporter": "python",
   "pygments_lexer": "ipython3",
   "version": "3.10.16"
  }
 },
 "nbformat": 4,
 "nbformat_minor": 5
}
