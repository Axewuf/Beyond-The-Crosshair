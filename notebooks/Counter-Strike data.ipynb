{
 "cells": [
  {
   "cell_type": "markdown",
   "id": "aa97259c",
   "metadata": {},
   "source": [
    "# Beyond The Crosshair"
   ]
  },
  {
   "cell_type": "code",
   "execution_count": 7,
   "id": "4a8c56f6",
   "metadata": {},
   "outputs": [],
   "source": [
    "import pandas as pd"
   ]
  },
  {
   "cell_type": "markdown",
   "id": "f392f6eb",
   "metadata": {},
   "source": [
    "## Datasets & Cleaning"
   ]
  },
  {
   "cell_type": "markdown",
   "id": "180cccb3",
   "metadata": {},
   "source": [
    "### Counter-Strike"
   ]
  },
  {
   "cell_type": "code",
   "execution_count": 8,
   "id": "a3bdbce8",
   "metadata": {},
   "outputs": [],
   "source": [
    "# Loading raw datasets\n",
    "cs_data = pd.read_csv(\"../assets/raw/SteamDB Counter-Strike.csv\")\n",
    "css_data = pd.read_csv(\"../assets/raw/SteamDB Counter-Strike Source.csv\")\n",
    "cscz_data = pd.read_csv(\"../assets/raw/SteamDB Counter-Strike Condition Zero.csv\")\n",
    "cs2_data = pd.read_csv(\"../assets/raw/SteamDB Counter-Strike 2.csv\")"
   ]
  },
  {
   "cell_type": "code",
   "execution_count": 9,
   "id": "bbc1ea2b",
   "metadata": {},
   "outputs": [],
   "source": [
    "fields_to_keep = ['month', 'peak', 'gain', '% gain'] # Fields we want to keep\n",
    "list_of_cs_data = [cs_data, css_data, cscz_data, cs2_data] # Fields of datasets\n",
    "\n",
    "# Cleaning the datasets in list_of_cs_data\n",
    "for i in range(len(list_of_cs_data)):\n",
    "    df = list_of_cs_data[i]\n",
    "    df = df.rename(columns={\"%gain\": \"% gain\"})\n",
    "    df = df.replace(\"-\", \"0\")\n",
    "    df[['peak', 'gain', '% gain']] = df[['peak', 'gain', '% gain']].replace({\",\": \"\", \"%\": \"\"}, regex=True).astype(float)\n",
    "    df = df[fields_to_keep][1:] # Getting rid of first row of Last 30 days\n",
    "    df[\"month\"] = pd.to_datetime(df[\"month\"], format=\"%b-%y\")\n",
    "    df = df.sort_values(\"month\")\n",
    "    list_of_cs_data[i] = df\n",
    "\n",
    "# Splitting CS2 data into CS:GO and CS2\n",
    "split_date = pd.Timestamp(\"2023-09-01\")\n",
    "csgo_data = list_of_cs_data[-1][list_of_cs_data[-1][\"month\"] < split_date]\n",
    "list_of_cs_data[-1] = list_of_cs_data[-1][list_of_cs_data[-1][\"month\"] >= split_date]\n",
    "list_of_cs_data.insert(-1, csgo_data)\n"
   ]
  },
  {
   "cell_type": "code",
   "execution_count": 10,
   "id": "44d0720b",
   "metadata": {},
   "outputs": [],
   "source": [
    "# Merging the cleaned datasets\n",
    "cs_merged = pd.concat(list_of_cs_data, ignore_index=True)\n",
    "cs_merged = cs_merged[fields_to_keep]"
   ]
  },
  {
   "cell_type": "code",
   "execution_count": 11,
   "id": "d6482a53",
   "metadata": {},
   "outputs": [],
   "source": [
    "# Grouping by month and summing the peak players\n",
    "cs_merged_grouped = cs_merged.groupby(cs_merged.columns[0]).sum()\n",
    "\n",
    "cs_merged_grouped = cs_merged_grouped.reset_index()\n",
    "cs_merged_grouped = cs_merged_grouped.sort_values(\"month\")"
   ]
  },
  {
   "cell_type": "code",
   "execution_count": 12,
   "id": "39b295f7",
   "metadata": {},
   "outputs": [],
   "source": [
    "# Exporting clean datasets\n",
    "list_of_cs_data[0].to_csv(\"../assets/clean/SteamDB_Counter-Strike_1.6_Clean.csv\",encoding=\"utf-8\", index=False, header=True)\n",
    "list_of_cs_data[1].to_csv(\"../assets/clean/SteamDB_Counter-Strike_Source_Clean.csv\",encoding=\"utf-8\", index=False, header=True)\n",
    "list_of_cs_data[2].to_csv(\"../assets/clean/SteamDB_Counter-Strike_Condition_Zero_Clean.csv\",encoding=\"utf-8\", index=False, header=True)\n",
    "list_of_cs_data[3].to_csv(\"../assets/clean/SteamDB_Counter-Strike_Global_Offensive_Clean.csv\",encoding=\"utf-8\", index=False, header=True)\n",
    "list_of_cs_data[4].to_csv(\"../assets/clean/SteamDB_Counter-Strike_2_Clean.csv\",encoding=\"utf-8\", index=False, header=True)\n",
    "cs_merged_grouped.to_csv(\"../assets/clean/SteamDB_Counter-Strike_Clean.csv\",encoding=\"utf-8\", index=False, header=True)"
   ]
  }
 ],
 "metadata": {
  "kernelspec": {
   "display_name": "py310 (3.10.16)",
   "language": "python",
   "name": "python3"
  },
  "language_info": {
   "codemirror_mode": {
    "name": "ipython",
    "version": 3
   },
   "file_extension": ".py",
   "mimetype": "text/x-python",
   "name": "python",
   "nbconvert_exporter": "python",
   "pygments_lexer": "ipython3",
   "version": "3.10.16"
  }
 },
 "nbformat": 4,
 "nbformat_minor": 5
}
