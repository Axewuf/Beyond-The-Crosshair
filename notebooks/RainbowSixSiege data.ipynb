{
 "cells": [
  {
   "cell_type": "code",
   "execution_count": 1,
   "id": "4a8c56f6",
   "metadata": {},
   "outputs": [],
   "source": [
    "import pandas as pd"
   ]
  },
  {
   "cell_type": "markdown",
   "id": "f392f6eb",
   "metadata": {},
   "source": [
    "## Datasets & Cleaning"
   ]
  },
  {
   "cell_type": "markdown",
   "id": "180cccb3",
   "metadata": {},
   "source": [
    "### Rainbow Six Siege"
   ]
  },
  {
   "cell_type": "code",
   "execution_count": 2,
   "id": "a3bdbce8",
   "metadata": {},
   "outputs": [],
   "source": [
    "# Loading raw dataset\n",
    "rss_data = pd.read_csv(\"../assets/raw/GG Rainbow Six Siege.csv\")"
   ]
  },
  {
   "cell_type": "code",
   "execution_count": 3,
   "id": "2616daa0",
   "metadata": {},
   "outputs": [],
   "source": [
    "fields_to_keep = ['month', 'peak', 'gain', '% gain'] # Fields we want to keep\n",
    "\n",
    "# Cleaning the dataset\n",
    "rss_data = rss_data.rename(columns={\"Peak Players\": \"peak\"})\n",
    "rss_data.columns = rss_data.columns.str.lower()\n",
    "rss_data = rss_data.replace(\"-\", \"0\").replace(\"—\", \"0\") # Replacing both the short - and long —\n",
    "rss_data[['peak', 'gain', '% gain']] = rss_data[['peak', 'gain', '% gain']].replace({\",\": \"\", \"%\": \"\"}, regex=True).astype(float)\n",
    "rss_data = rss_data[fields_to_keep][1:] # Getting rid of first row of Last 30 days\n",
    "rss_data[\"month\"] = pd.to_datetime(rss_data[\"month\"], format=\"%B %Y\")\n",
    "rss_data = rss_data.sort_values(\"month\")\n"
   ]
  },
  {
   "cell_type": "code",
   "execution_count": 4,
   "id": "00aab3e2",
   "metadata": {},
   "outputs": [],
   "source": [
    "# Recalculating gain to be based on peak players rather than unique players\n",
    "rss_data['gain'] = rss_data['peak']-rss_data['peak'].shift(1) \n",
    "rss_data['% gain'] = ((rss_data['peak']-rss_data['peak'].shift(1))*100/rss_data['peak'].shift(1)).round(1) # Recalculating gain %\n",
    "\n",
    "# Further cleaning\n",
    "rss_data = rss_data.iloc[1:] # Dropping the first row that has only 1 player\n",
    "rss_data.iloc[0, 2:] = 0 # Setting the first value of gain and % gain to 0\n",
    "rss_data = rss_data[rss_data[\"month\"] >= \"2020-06-01\"] # Filtering rows before June 01 2020"
   ]
  },
  {
   "cell_type": "code",
   "execution_count": 5,
   "id": "331dbced",
   "metadata": {},
   "outputs": [],
   "source": [
    "# Exporting clean dataset\n",
    "rss_data.to_csv(\"../assets/clean/GG_Rainbow_Six_Siege_Clean.csv\", encoding=\"utf-8\", index=False, header=True)"
   ]
  }
 ],
 "metadata": {
  "kernelspec": {
   "display_name": "py310 (3.10.16)",
   "language": "python",
   "name": "python3"
  },
  "language_info": {
   "codemirror_mode": {
    "name": "ipython",
    "version": 3
   },
   "file_extension": ".py",
   "mimetype": "text/x-python",
   "name": "python",
   "nbconvert_exporter": "python",
   "pygments_lexer": "ipython3",
   "version": "3.10.16"
  }
 },
 "nbformat": 4,
 "nbformat_minor": 5
}
