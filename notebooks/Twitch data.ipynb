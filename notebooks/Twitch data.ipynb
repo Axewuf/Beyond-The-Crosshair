{
 "cells": [
  {
   "cell_type": "code",
   "execution_count": 1,
   "id": "4a8c56f6",
   "metadata": {},
   "outputs": [],
   "source": [
    "import pandas as pd"
   ]
  },
  {
   "cell_type": "markdown",
   "id": "f392f6eb",
   "metadata": {},
   "source": [
    "## Datasets & Cleaning"
   ]
  },
  {
   "cell_type": "markdown",
   "id": "77cb3a3c",
   "metadata": {},
   "source": [
    "### Twitch Viewership Data from TwitchTracker"
   ]
  },
  {
   "cell_type": "code",
   "execution_count": 2,
   "id": "673ce8bf",
   "metadata": {},
   "outputs": [],
   "source": [
    "# Loading the datasets\n",
    "cs_twitch_data = pd.read_csv(\"../assets/raw/TwitchTracker Counter-Strike.csv\")\n",
    "cs2_twitch_data = pd.read_csv(\"../assets/raw/TwitchTracker Counter-Strike 2.csv\")\n",
    "cscz_twitch_data = pd.read_csv(\"../assets/raw/TwitchTracker Counter-Strike Condition Zero.csv\")\n",
    "css_twitch_data = pd.read_csv(\"../assets/raw/TwitchTracker Counter-Strike Source.csv\")"
   ]
  },
  {
   "cell_type": "code",
   "execution_count": 3,
   "id": "ff14e4e7",
   "metadata": {},
   "outputs": [],
   "source": [
    "twitch_fields = ['Month', 'Avg Viewers', 'Gain', 'Peak Viewers', 'Avg Streams', 'Gain.1', 'Peak Streams', 'Hours Watched'] # Fields of interest\n",
    "\n",
    "# Merging and cleaning the datasets\n",
    "twitch_data_merged = pd.concat([cs_twitch_data, cs2_twitch_data, cscz_twitch_data, css_twitch_data], ignore_index=True)\n",
    "twitch_data_merged = twitch_data_merged[twitch_fields]"
   ]
  },
  {
   "cell_type": "code",
   "execution_count": 4,
   "id": "e19df252",
   "metadata": {},
   "outputs": [],
   "source": [
    "# Transforming Hours Watched format to float\n",
    "def convert_k(val):\n",
    "    if isinstance(val, str):\n",
    "        if val.endswith(\"K\"):\n",
    "            return float(val[:-1].replace(\".\", \"\"))* 1000\n",
    "        elif val.endswith(\"M\"):\n",
    "            return float(val[:-1].replace(\".\", \"\")) * 1000000\n",
    "    return float(val)\n",
    "\n",
    "twitch_data_merged[\"Hours Watched\"] = twitch_data_merged[\"Hours Watched\"].map(convert_k)"
   ]
  },
  {
   "cell_type": "code",
   "execution_count": 5,
   "id": "29e5be38",
   "metadata": {},
   "outputs": [],
   "source": [
    "# Further cleaning\n",
    "numeric_fields = [x for x in twitch_fields if x != \"Month\"]\n",
    "twitch_data_merged[numeric_fields] = twitch_data_merged[numeric_fields].replace({\",\": \"\", \"-\": \"0\"}, regex=True).astype(float)\n",
    "\n",
    "# Converting Month to datetime and sorting\n",
    "twitch_data_merged[\"Month\"] = pd.to_datetime(twitch_data_merged[\"Month\"], format=\"%b-%y\")\n",
    "twitch_data_merged = twitch_data_merged.sort_values(\"Month\")\n",
    "twitch_data_merged = twitch_data_merged.rename(columns={\"Month\": \"month\"})"
   ]
  },
  {
   "cell_type": "code",
   "execution_count": 6,
   "id": "efd5fe55",
   "metadata": {},
   "outputs": [],
   "source": [
    "# Grouping by month\n",
    "twitch_data_merged_grouped = twitch_data_merged.groupby(twitch_data_merged.columns[0]).sum()\n",
    "twitch_data_merged_grouped = twitch_data_merged_grouped.reset_index()\n",
    "twitch_data_merged_grouped = twitch_data_merged_grouped.rename(columns={\"Gain\": \"gain viewers\", \"Gain.1\": \"gain streams\"})\n",
    "twitch_data_merged_grouped.columns = twitch_data_merged_grouped.columns.str.lower()\n",
    "\n",
    "# Recalculating gains based on peak viewers and peak streams\n",
    "twitch_data_merged_grouped['gain viewers'] = twitch_data_merged_grouped['peak viewers']-twitch_data_merged_grouped['peak viewers'].shift(1) # Recalculating gain to be based on peak views rather than average\n",
    "twitch_data_merged_grouped['gain streams'] = twitch_data_merged_grouped['peak streams']-twitch_data_merged_grouped['peak streams'].shift(1) # Recalculating gain to be based on peak views rather than average\n",
    "twitch_data_merged_grouped.iloc[0, [2, 5]] = 0 # Setting the first value of first row of gains to 0"
   ]
  },
  {
   "cell_type": "code",
   "execution_count": 7,
   "metadata": {},
   "outputs": [],
   "source": [
    "# Saving the cleaned data\n",
    "twitch_data_merged_grouped.to_csv(\"../assets/clean/Twitch_Counter-Strike_Clean.csv\", encoding=\"utf-8\", index=False, header=True)"
   ]
  }
 ],
 "metadata": {
  "kernelspec": {
   "display_name": "py310 (3.10.16)",
   "language": "python",
   "name": "python3"
  },
  "language_info": {
   "codemirror_mode": {
    "name": "ipython",
    "version": 3
   },
   "file_extension": ".py",
   "mimetype": "text/x-python",
   "name": "python",
   "nbconvert_exporter": "python",
   "pygments_lexer": "ipython3",
   "version": "3.10.16"
  }
 },
 "nbformat": 4,
 "nbformat_minor": 5
}
