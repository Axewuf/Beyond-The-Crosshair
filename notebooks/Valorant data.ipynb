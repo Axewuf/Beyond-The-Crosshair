{
 "cells": [
  {
   "cell_type": "code",
   "execution_count": 5,
   "id": "4a8c56f6",
   "metadata": {},
   "outputs": [],
   "source": [
    "import pandas as pd"
   ]
  },
  {
   "cell_type": "markdown",
   "id": "f392f6eb",
   "metadata": {},
   "source": [
    "## Datasets & Cleaning"
   ]
  },
  {
   "cell_type": "markdown",
   "id": "180cccb3",
   "metadata": {},
   "source": [
    "### Valorant"
   ]
  },
  {
   "cell_type": "code",
   "execution_count": 6,
   "id": "a3bdbce8",
   "metadata": {},
   "outputs": [],
   "source": [
    "# Loading raw dataset\n",
    "v_data = pd.read_csv(\"../assets/raw/GG Valorant.csv\")"
   ]
  },
  {
   "cell_type": "code",
   "execution_count": 7,
   "id": "2616daa0",
   "metadata": {},
   "outputs": [],
   "source": [
    "fields_to_keep = ['month', 'peak', 'gain', '% gain'] # Fields we want to keep\n",
    "\n",
    "# Cleaning the dataset\n",
    "v_data = v_data.rename(columns={\"Peak Players\": \"peak\"})\n",
    "v_data.columns = v_data.columns.str.lower()\n",
    "v_data = v_data.replace(\"-\", \"0\").replace(\"—\", \"0\") # Replacing both the short - and long —\n",
    "v_data[['peak', 'gain', '% gain']] = v_data[['peak', 'gain', '% gain']].replace({\",\": \"\", \"%\": \"\"}, regex=True).astype(float)\n",
    "v_data = v_data[fields_to_keep][1:] # Getting rid of first row of Last 30 days\n",
    "v_data[\"month\"] = pd.to_datetime(v_data[\"month\"], format=\"%B %Y\")\n",
    "v_data = v_data.sort_values(\"month\")\n"
   ]
  },
  {
   "cell_type": "code",
   "execution_count": 8,
   "id": "a8256a10",
   "metadata": {},
   "outputs": [],
   "source": [
    "# Recalculating gain and % gain\n",
    "v_data['gain'] = v_data['peak']-v_data['peak'].shift(1) # Recalculating gain to be based on peak players rather than unique players\n",
    "v_data['% gain'] = ((v_data['peak']-v_data['peak'].shift(1))*100/v_data['peak'].shift(1)).round(1) # Recalculating gain %\n",
    "v_data.iloc[0, 2:] = 0 # Setting the first value of gain and % gain to 0"
   ]
  },
  {
   "cell_type": "code",
   "execution_count": 9,
   "id": "331dbced",
   "metadata": {},
   "outputs": [],
   "source": [
    "# Exporting cleaned dataset\n",
    "v_data.to_csv(\"../assets/clean/GG_Valorant_Clean.csv\", encoding=\"utf-8\", index=False, header=True)"
   ]
  }
 ],
 "metadata": {
  "kernelspec": {
   "display_name": "py310 (3.10.16)",
   "language": "python",
   "name": "python3"
  },
  "language_info": {
   "codemirror_mode": {
    "name": "ipython",
    "version": 3
   },
   "file_extension": ".py",
   "mimetype": "text/x-python",
   "name": "python",
   "nbconvert_exporter": "python",
   "pygments_lexer": "ipython3",
   "version": "3.10.16"
  }
 },
 "nbformat": 4,
 "nbformat_minor": 5
}
