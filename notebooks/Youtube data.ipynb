{
 "cells": [
  {
   "cell_type": "code",
   "execution_count": 35,
   "metadata": {},
   "outputs": [],
   "source": [
    "import pandas as pd"
   ]
  },
  {
   "cell_type": "markdown",
   "metadata": {},
   "source": [
    "## Datasets & Cleaning"
   ]
  },
  {
   "cell_type": "markdown",
   "metadata": {},
   "source": [
    "### Youtube Viewership Data"
   ]
  },
  {
   "cell_type": "code",
   "execution_count": 36,
   "metadata": {},
   "outputs": [],
   "source": [
    "# Loading the data\n",
    "youtube_data = pd.read_csv(\"../assets/raw/yt_counter_strike_monthly_top50.csv\")"
   ]
  },
  {
   "cell_type": "code",
   "execution_count": 37,
   "metadata": {},
   "outputs": [],
   "source": [
    "youtube_fields = ['month', 'title', 'description', 'viewCount', 'likeCount', 'commentCount', 'favoriteCount', 'categoryId'] # Fields of interest\n",
    "\n",
    "# Setting the date field column\n",
    "youtube_data = youtube_data.drop(columns=[\"month\"], errors=\"ignore\")\n",
    "youtube_data = youtube_data.rename(columns={\"publishedAt\": \"month\"})\n",
    "\n",
    "youtube_data = youtube_data[youtube_fields]\n",
    "\n",
    "# Converting to datetime and normalizing to month start \n",
    "youtube_data[\"month\"] = pd.to_datetime(youtube_data[\"month\"]).dt.tz_localize(None).dt.to_period(\"M\").dt.to_timestamp()\n",
    "youtube_data = youtube_data.sort_values(by=\"viewCount\", ascending=False)\n",
    "\n",
    "youtube_data['viewCount'] = youtube_data['viewCount'].astype(\"Int64\")\n",
    "youtube_data = youtube_data[1:] # Removing the first row which is an outlier"
   ]
  },
  {
   "cell_type": "code",
   "execution_count": 38,
   "metadata": {},
   "outputs": [],
   "source": [
    "# Sorting dataset\n",
    "youtube_data_sorted_by_viewCount = youtube_data.sort_values(\"viewCount\")"
   ]
  },
  {
   "cell_type": "code",
   "execution_count": 39,
   "metadata": {},
   "outputs": [],
   "source": [
    "# Grouping by month and summing up the views, likes, comments, and favorites\n",
    "youtube_data_views_by_month = youtube_data.groupby(\"month\", as_index=False)[[\"viewCount\", \"likeCount\", \"commentCount\", \"favoriteCount\"]].sum()\n",
    "youtube_data_views_by_month = youtube_data_views_by_month.reset_index(drop=True)"
   ]
  },
  {
   "cell_type": "code",
   "execution_count": 40,
   "metadata": {},
   "outputs": [],
   "source": [
    "# Saving the cleaned data\n",
    "youtube_data_views_by_month.to_csv(\"../assets/clean/Youtube_Counter-Strike_Clean.csv\", encoding=\"utf-8\", index=False, header=True)"
   ]
  }
 ],
 "metadata": {
  "kernelspec": {
   "display_name": "py3",
   "language": "python",
   "name": "python3"
  },
  "language_info": {
   "codemirror_mode": {
    "name": "ipython",
    "version": 3
   },
   "file_extension": ".py",
   "mimetype": "text/x-python",
   "name": "python",
   "nbconvert_exporter": "python",
   "pygments_lexer": "ipython3",
   "version": "3.12.3"
  }
 },
 "nbformat": 4,
 "nbformat_minor": 2
}
