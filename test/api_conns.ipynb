{
 "cells": [
  {
   "cell_type": "code",
   "execution_count": 8,
   "metadata": {},
   "outputs": [],
   "source": [
    "import requests\n",
    "import os\n",
    "import time\n",
    "import pandas as pd\n",
    "from datetime import datetime\n",
    "import json\n",
    "from pathlib import Path\n",
    "import requests\n",
    "\n",
    "CLIENT_ID = \"njp50qwu2nvpsx219fyqo3bzv63oin\"\n",
    "\n",
    "# Optional scopes for app access tokens (most Helix public endpoints don't need scopes).\n",
    "# Example: SCOPES = [\"analytics:read:games\"]\n",
    "SCOPES: list[str] = []\n",
    "\n",
    "# Root-aware output location: <repo>/data/twitch_tokens.json\n",
    "\n",
    "GENRES_PATH  = Path(\"../data/genres.json\")\n",
    "\n",
    "IGDB_BASE_URL = \"https://api.igdb.com/v4/\"\n",
    "ENDPOINT      = \"genres\"\n",
    "\n",
    "access_code = {\n",
    "  \"access_token\": \"8pbtl7podf16emg2gq5ai2zgnfoznr\",\n",
    "  \"expires_in\": 5071436,\n",
    "  \"token_type\": \"bearer\",\n",
    "  \"issued_at\": 1758236057,\n",
    "  \"expires_at\": 1763307493,\n",
    "  \"client_id\": \"njp50qwu2nvpsx219fyqo3bzv63oin\"\n",
    "}\n",
    "token = access_code[\"access_token\"]\n",
    "\n",
    "class APIinfo:\n",
    "    def __init__(self, baseURL = str, token = str):\n",
    "        self.authHeader = {\"Client-ID\": \"njp50qwu2nvpsx219fyqo3bzv63oin\",\"Authorization\": \"Bearer \"+token}\n",
    "        self.baseURL = baseURL\n"
   ]
  },
  {
   "cell_type": "code",
   "execution_count": 12,
   "metadata": {},
   "outputs": [
    {
     "data": {
      "text/plain": [
       "4988"
      ]
     },
     "execution_count": 12,
     "metadata": {},
     "output_type": "execute_result"
    }
   ],
   "source": [
    "IGDB_api = APIinfo(\"https://api.igdb.com/v4/\", token)\n",
    "endpoint = \"genres\"\n",
    "# Shooter genre = 5\n",
    "\n",
    "# params = \"fields age_ratings,aggregated_rating,aggregated_rating_count,alternative_names,artworks,bundles,category,checksum,collection,collections,cover,created_at,dlcs,expanded_games,expansions,external_games,first_release_date,follows,forks,franchise,franchises,game_engines,game_localizations,game_modes,game_status,game_type,genres,hypes,involved_companies,keywords,language_supports,multiplayer_modes,name,parent_game,platforms,player_perspectives,ports,rating,rating_count,release_dates,remakes,remasters,screenshots,similar_games,slug,standalone_expansions,status,storyline,summary,tags,themes,total_rating,total_rating_count,updated_at,url,version_parent,version_title,videos,websites;\"\n",
    "# params = \"fields checksum,created_at,name,slug,updated_at,url;\"\n",
    "params = \"\"\"\n",
    "        fields id,name,slug,created_at,updated_at,url;\n",
    "        sort name asc;\n",
    "        where name != null;\n",
    "        limit 500;\n",
    "    \"\"\"\n",
    "\n",
    "requestURL = IGDB_api.baseURL + endpoint\n",
    "igdb_data = requests.post(requestURL, headers = IGDB_api.authHeader, data=params)\n",
    "igdb_data = igdb_data.json()\n",
    "GENRES_PATH.write_text(json.dumps(igdb_data, indent=4))"
   ]
  },
  {
   "cell_type": "code",
   "execution_count": 66,
   "metadata": {},
   "outputs": [
    {
     "name": "stdout",
     "output_type": "stream",
     "text": [
      "400\n",
      "{\n",
      "  \"error\": \"invalid_grant\",\n",
      "  \"error_description\": \"Bad Request\"\n",
      "}\n"
     ]
    }
   ],
   "source": [
    "# python3 -m http.server 8080\n",
    "\n",
    "client_id = \"823344079673-gnpgl76j79rvbp0h8ne81jrke1ngs4j6.apps.googleusercontent.com\"\n",
    "client_secret = \"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\"\n",
    "\n",
    "url_oauth = \"https://accounts.google.com/o/oauth2/v2/auth\"\n",
    "url = \"https://www.googleapis.com/youtube/v3/search\"\n",
    "\n",
    "full_url = f\"\"\"https://accounts.google.com/o/oauth2/v2/auth?\n",
    "scope=https%3A%2F%2Fwww.googleapis.com%2Fauth%2Fyoutube.readonly&\n",
    " access_type=offline&\n",
    " include_granted_scopes=true&\n",
    " state=state_parameter_passthrough_value&\n",
    " redirect_uri=http%3A%2F%2Flocalhost%3A8080&\n",
    " response_type=code&\n",
    " client_id=823344079673-gnpgl76j79rvbp0h8ne81jrke1ngs4j6.apps.googleusercontent.com\"\"\"\n",
    "\n",
    "# auth_request_response = requests.post(full_url)\n",
    "# print(auth_request_response.status_code)\n",
    "# print(auth_request_response.text)\n",
    "\n",
    "code = \"4/0AVMBsJggiBbX1A0PSWSB4wW59EvmIWLVU3JIS3dA2yt_iYpGdzkj4MiPGRaAe6F1wBtmUw\"\n",
    "\n"
   ]
  },
  {
   "cell_type": "code",
   "execution_count": 99,
   "metadata": {},
   "outputs": [
    {
     "name": "stdout",
     "output_type": "stream",
     "text": [
      "https://www.googleapis.com/youtube/v3/search?part=snippet&q=counterstrike&order=viewCount&type=video&maxResults=50&regionCode=US\n",
      "{\n",
      "  \"error\": {\n",
      "    \"code\": 401,\n",
      "    \"message\": \"Request had invalid authentication credentials. Expected OAuth 2 access token, login cookie or other valid authentication credential. See https://developers.google.com/identity/sign-in/web/devconsole-project.\",\n",
      "    \"errors\": [\n",
      "      {\n",
      "        \"message\": \"Invalid Credentials\",\n",
      "        \"domain\": \"global\",\n",
      "        \"reason\": \"authError\",\n",
      "        \"location\": \"Authorization\",\n",
      "        \"locationType\": \"header\"\n",
      "      }\n",
      "    ],\n",
      "    \"status\": \"UNAUTHENTICATED\"\n",
      "  }\n",
      "}\n",
      "\n"
     ]
    }
   ],
   "source": [
    "access_token_url = \"https://oauth2.googleapis.com/token\"\n",
    "parameters = f\"\"\"?code={code}&client_id={client_id}&client_secret={client_secret}&redirect_uri=http%3A%2F%2Flocalhost%3A8080&grant_type=authorization_code\"\"\"\n",
    "\n",
    "# access_token_response = requests.post(access_token_url+parameters)\n",
    "# print(access_token_response.status_code)\n",
    "# print(access_token_response.text)\n",
    "\n",
    "# access_token = access_token_response.json()\n",
    "# access_token = access_token[\"access_token\"]\n",
    "# print(access_token)\n",
    "{\n",
    "  \"access_token\": \"ya29.a0AS3H6NybADWsvjq4Ou01CK3e23_b3k7_pJEMso7zHMLLqSG4LzpwpRzd1ESDFH7pVYdaOcHj5gRwViMveY_PIxJUbvA5Dnga31smBv6G3S83aVHUQOfc21EgocUEzLxZQZz25kXaEaUWv3y7Yc92G6KEdjGUCUqqX2t_YDI9ZWmRyBTE0a5EePI2mYKS8HhiYvnbAv4aCgYKAYYSARISFQHGX2MiJap4nOqkMSiKZ50ed28XZQ0206\",\n",
    "  \"expires_in\": 3599,\n",
    "  \"refresh_token\": \"1//0hS4oO9uaBcDoCgYIARAAGBESNwF-L9IridyTm15MVxqYUBHJ-HaEmxUiMwjlPdBOpbv-xAw0WR3H8LHMgQGLbOilP9IiGnLQa3k\",\n",
    "  \"scope\": \"https://www.googleapis.com/auth/youtube.readonly\",\n",
    "  \"token_type\": \"Bearer\"\n",
    "}\n",
    "\n",
    "access_token = \"ya29.a0AS3H6NybADWsvjq4Ou01CK3e23_b3k7_pJEMso7zHMLLqSG4LzpwpRzd1ESDFH7pVYdaOcHj5gRwViMveY_PIxJUbvA5Dnga31smBv6G3S83aVHUQOfc21EgocUEzLxZQZz25kXaEaUWv3y7Yc92G6KEdjGUCUqqX2t_YDI9ZWmRyBTE0a5EePI2mYKS8HhiYvnbAv4aCgYKAYYSARISFQHGX2MiJap4nOqkMSiKZ50ed28XZQ0206\"\n",
    "\n",
    "class APIinfo:\n",
    "    def __init__(self, baseURL = str, token = str):\n",
    "        self.authHeader = {\"Authorization\": \"Bearer \"+token}\n",
    "        self.baseURL = baseURL\n",
    "\n",
    "youtube_api = APIinfo(\"https://www.googleapis.com/youtube/v3/search\", access_token)\n",
    "search_url = f\"\"\"?part=snippet&q=counterstrike&order=viewCount&type=video&maxResults=50&regionCode=US\"\"\"\n",
    "\n",
    "full_url = youtube_api.baseURL+search_url\n",
    "print(full_url)\n",
    "search_request = requests.get(full_url, headers = youtube_api.authHeader)\n",
    "print(search_request.text)\n",
    "search_response = search_request.json()\n",
    "# print(search_response)"
   ]
  },
  {
   "cell_type": "code",
   "execution_count": 97,
   "metadata": {},
   "outputs": [
    {
     "data": {
      "text/plain": [
       "{'kind': 'youtube#searchResult',\n",
       " 'etag': 'TUd1h__rEzY7PcjDa2QVzQiMzgs',\n",
       " 'id': {'kind': 'youtube#video', 'videoId': 'b0eUTZv6TT8'},\n",
       " 'snippet': {'publishedAt': '2024-05-23T21:59:09Z',\n",
       "  'channelId': 'UCL4JuhKd5HzF1isFdFUMXbA',\n",
       "  'title': 'CS2 VS CSGO PLAYERS',\n",
       "  'description': \"Don't forget to drop a LIKE & SUBSCRIBE ! Read the pinned comment , NOW! ▻ GamerSupps, the best drink for gamers.\",\n",
       "  'thumbnails': {'default': {'url': 'https://i.ytimg.com/vi/b0eUTZv6TT8/default.jpg',\n",
       "    'width': 120,\n",
       "    'height': 90},\n",
       "   'medium': {'url': 'https://i.ytimg.com/vi/b0eUTZv6TT8/mqdefault.jpg',\n",
       "    'width': 320,\n",
       "    'height': 180},\n",
       "   'high': {'url': 'https://i.ytimg.com/vi/b0eUTZv6TT8/hqdefault.jpg',\n",
       "    'width': 480,\n",
       "    'height': 360}},\n",
       "  'channelTitle': 'Lobanjica LIVE',\n",
       "  'liveBroadcastContent': 'none',\n",
       "  'publishTime': '2024-05-23T21:59:09Z'}}"
      ]
     },
     "execution_count": 97,
     "metadata": {},
     "output_type": "execute_result"
    }
   ],
   "source": [
    "search_response[\"items\"][22]"
   ]
  },
  {
   "cell_type": "code",
   "execution_count": null,
   "metadata": {},
   "outputs": [],
   "source": []
  }
 ],
 "metadata": {
  "kernelspec": {
   "display_name": "Python 3",
   "language": "python",
   "name": "python3"
  },
  "language_info": {
   "codemirror_mode": {
    "name": "ipython",
    "version": 3
   },
   "file_extension": ".py",
   "mimetype": "text/x-python",
   "name": "python",
   "nbconvert_exporter": "python",
   "pygments_lexer": "ipython3",
   "version": "3.12.3"
  }
 },
 "nbformat": 4,
 "nbformat_minor": 2
}
